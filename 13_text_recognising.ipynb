{
 "cells": [
  {
   "cell_type": "markdown",
   "metadata": {},
   "source": [
    "# Проект для «Викишоп»"
   ]
  },
  {
   "cell_type": "markdown",
   "metadata": {},
   "source": [
    "Интернет-магазин «Викишоп» запускает новый сервис. Теперь пользователи могут редактировать и дополнять описания товаров, как в вики-сообществах. То есть клиенты предлагают свои правки и комментируют изменения других. Магазину нужен инструмент, который будет искать токсичные комментарии и отправлять их на модерацию. \n",
    "\n",
    "Обучите модель классифицировать комментарии на позитивные и негативные. В вашем распоряжении набор данных с разметкой о токсичности правок.\n",
    "\n",
    "Постройте модель со значением метрики качества *F1* не меньше 0.75. \n",
    "\n",
    "**Инструкция по выполнению проекта**\n",
    "\n",
    "1. Загрузите и подготовьте данные.\n",
    "2. Обучите разные модели. \n",
    "3. Сделайте выводы.\n",
    "\n",
    "Для выполнения проекта применять *BERT* необязательно, но вы можете попробовать.\n",
    "\n",
    "**Описание данных**\n",
    "\n",
    "Данные находятся в файле `toxic_comments.csv`. Столбец *text* в нём содержит текст комментария, а *toxic* — целевой признак."
   ]
  },
  {
   "cell_type": "markdown",
   "metadata": {},
   "source": [
    "## Подготовка"
   ]
  },
  {
   "cell_type": "code",
   "execution_count": 1,
   "metadata": {
    "pycharm": {
     "name": "#%%\n"
    }
   },
   "outputs": [],
   "source": [
    "# !pip install spacy\n",
    "# !pip install nltk\n",
    "# !pip install mglearn\n",
    "# !python -m spacy download en_core_web_sm"
   ]
  },
  {
   "cell_type": "code",
   "execution_count": 2,
   "metadata": {},
   "outputs": [],
   "source": [
    "import mglearn\n",
    "import pandas as pd\n",
    "import numpy as np\n",
    "import re\n",
    "import warnings\n",
    "import spacy\n",
    "import nltk\n",
    "\n",
    "from sklearn.feature_extraction.text import CountVectorizer, ENGLISH_STOP_WORDS, TfidfVectorizer\n",
    "from sklearn.linear_model import LogisticRegression\n",
    "from catboost import CatBoostClassifier\n",
    "from sklearn.model_selection import cross_val_score, GridSearchCV, train_test_split\n",
    "from sklearn.pipeline import make_pipeline\n",
    "from matplotlib import pyplot as plt\n",
    "from sklearn.metrics import f1_score\n",
    "from pymystem3 import Mystem\n",
    "# загружаем пакеты spacy для английского языка\n",
    "en_nlp = spacy.load('en_core_web_sm')\n",
    "warnings.filterwarnings('ignore')\n",
    "\n",
    "import seaborn as sns\n",
    "%matplotlib inline\n",
    "from matplotlib.pylab import rcParams"
   ]
  },
  {
   "cell_type": "code",
   "execution_count": 3,
   "metadata": {
    "pycharm": {
     "name": "#%%\n"
    }
   },
   "outputs": [],
   "source": [
    "df = pd.read_csv('toxic_comments.csv')"
   ]
  },
  {
   "cell_type": "code",
   "execution_count": 4,
   "metadata": {
    "pycharm": {
     "name": "#%%\n"
    }
   },
   "outputs": [
    {
     "data": {
      "text/html": [
       "<div>\n",
       "<style scoped>\n",
       "    .dataframe tbody tr th:only-of-type {\n",
       "        vertical-align: middle;\n",
       "    }\n",
       "\n",
       "    .dataframe tbody tr th {\n",
       "        vertical-align: top;\n",
       "    }\n",
       "\n",
       "    .dataframe thead th {\n",
       "        text-align: right;\n",
       "    }\n",
       "</style>\n",
       "<table border=\"1\" class=\"dataframe\">\n",
       "  <thead>\n",
       "    <tr style=\"text-align: right;\">\n",
       "      <th></th>\n",
       "      <th>text</th>\n",
       "      <th>toxic</th>\n",
       "    </tr>\n",
       "  </thead>\n",
       "  <tbody>\n",
       "    <tr>\n",
       "      <th>0</th>\n",
       "      <td>Explanation\\nWhy the edits made under my usern...</td>\n",
       "      <td>0</td>\n",
       "    </tr>\n",
       "    <tr>\n",
       "      <th>1</th>\n",
       "      <td>D'aww! He matches this background colour I'm s...</td>\n",
       "      <td>0</td>\n",
       "    </tr>\n",
       "    <tr>\n",
       "      <th>2</th>\n",
       "      <td>Hey man, I'm really not trying to edit war. It...</td>\n",
       "      <td>0</td>\n",
       "    </tr>\n",
       "    <tr>\n",
       "      <th>3</th>\n",
       "      <td>\"\\nMore\\nI can't make any real suggestions on ...</td>\n",
       "      <td>0</td>\n",
       "    </tr>\n",
       "    <tr>\n",
       "      <th>4</th>\n",
       "      <td>You, sir, are my hero. Any chance you remember...</td>\n",
       "      <td>0</td>\n",
       "    </tr>\n",
       "  </tbody>\n",
       "</table>\n",
       "</div>"
      ],
      "text/plain": [
       "                                                text  toxic\n",
       "0  Explanation\\nWhy the edits made under my usern...      0\n",
       "1  D'aww! He matches this background colour I'm s...      0\n",
       "2  Hey man, I'm really not trying to edit war. It...      0\n",
       "3  \"\\nMore\\nI can't make any real suggestions on ...      0\n",
       "4  You, sir, are my hero. Any chance you remember...      0"
      ]
     },
     "execution_count": 4,
     "metadata": {},
     "output_type": "execute_result"
    }
   ],
   "source": [
    "df.head()"
   ]
  },
  {
   "cell_type": "code",
   "execution_count": 5,
   "metadata": {
    "pycharm": {
     "name": "#%%\n"
    }
   },
   "outputs": [
    {
     "name": "stdout",
     "output_type": "stream",
     "text": [
      "Длина датасета: 159571\n"
     ]
    }
   ],
   "source": [
    "print(f\"Длина датасета: {df.shape[0]}\")"
   ]
  },
  {
   "cell_type": "markdown",
   "metadata": {
    "pycharm": {
     "name": "#%% md\n"
    }
   },
   "source": [
    "df['text'] представлет собой набор строк, длиной 159571 текст. Кроме того текст содержит различные символы типа \\n, !, . и т.д. Так как это в дальнейшем может создать шут для модели, удалим такие символы. Используем регулярные выражения, что бы очистить текст"
   ]
  },
  {
   "cell_type": "code",
   "execution_count": 6,
   "metadata": {
    "pycharm": {
     "name": "#%%\n"
    }
   },
   "outputs": [],
   "source": [
    "df['clean_text'] = df['text'].apply(lambda x:re.sub(r'[^a-zA-Z ]', ' ', x))"
   ]
  },
  {
   "cell_type": "code",
   "execution_count": 7,
   "metadata": {
    "pycharm": {
     "name": "#%%\n"
    }
   },
   "outputs": [
    {
     "data": {
      "text/html": [
       "<div>\n",
       "<style scoped>\n",
       "    .dataframe tbody tr th:only-of-type {\n",
       "        vertical-align: middle;\n",
       "    }\n",
       "\n",
       "    .dataframe tbody tr th {\n",
       "        vertical-align: top;\n",
       "    }\n",
       "\n",
       "    .dataframe thead th {\n",
       "        text-align: right;\n",
       "    }\n",
       "</style>\n",
       "<table border=\"1\" class=\"dataframe\">\n",
       "  <thead>\n",
       "    <tr style=\"text-align: right;\">\n",
       "      <th></th>\n",
       "      <th>text</th>\n",
       "      <th>toxic</th>\n",
       "      <th>clean_text</th>\n",
       "    </tr>\n",
       "  </thead>\n",
       "  <tbody>\n",
       "    <tr>\n",
       "      <th>65517</th>\n",
       "      <td>I can't see why the arabesque spelling is even...</td>\n",
       "      <td>0</td>\n",
       "      <td>I can t see why the arabesque spelling is even...</td>\n",
       "    </tr>\n",
       "  </tbody>\n",
       "</table>\n",
       "</div>"
      ],
      "text/plain": [
       "                                                    text  toxic  \\\n",
       "65517  I can't see why the arabesque spelling is even...      0   \n",
       "\n",
       "                                              clean_text  \n",
       "65517  I can t see why the arabesque spelling is even...  "
      ]
     },
     "execution_count": 7,
     "metadata": {},
     "output_type": "execute_result"
    }
   ],
   "source": [
    "df.sample()"
   ]
  },
  {
   "cell_type": "markdown",
   "metadata": {
    "pycharm": {
     "name": "#%% md\n"
    }
   },
   "source": [
    "### train-test-split"
   ]
  },
  {
   "cell_type": "code",
   "execution_count": 8,
   "metadata": {
    "pycharm": {
     "name": "#%%\n"
    }
   },
   "outputs": [],
   "source": [
    "X_tr, X_tt, y_train, y_test = train_test_split(df['clean_text'], df['toxic'], test_size=0.2, random_state=12)"
   ]
  },
  {
   "cell_type": "code",
   "execution_count": 9,
   "metadata": {
    "pycharm": {
     "name": "#%%\n"
    }
   },
   "outputs": [],
   "source": [
    "assert len(X_tr) == len(y_train)"
   ]
  },
  {
   "cell_type": "markdown",
   "metadata": {
    "pycharm": {
     "name": "#%% md\n"
    }
   },
   "source": [
    "### bag-of-words"
   ]
  },
  {
   "cell_type": "code",
   "execution_count": 10,
   "metadata": {
    "pycharm": {
     "name": "#%%\n"
    }
   },
   "outputs": [
    {
     "name": "stdout",
     "output_type": "stream",
     "text": [
      "X_train:\n",
      "<127656x148254 sparse matrix of type '<class 'numpy.int64'>'\n",
      "\twith 5448579 stored elements in Compressed Sparse Row format>\n"
     ]
    }
   ],
   "source": [
    "vect = CountVectorizer().fit(X_tr)\n",
    "X_train = vect.transform(X_tr)\n",
    "X_test = vect.transform(X_tt)\n",
    "print(f\"X_train:\\n{repr(X_train)}\")"
   ]
  },
  {
   "cell_type": "markdown",
   "metadata": {
    "pycharm": {
     "name": "#%% md\n"
    }
   },
   "source": [
    "Матрица X_train соответствует обучающим данным, представленным в виде \"мешка слов\". Она имеет форму 127656x148254, что указывает на то, что она имеет 148254 элементов."
   ]
  },
  {
   "cell_type": "code",
   "execution_count": 11,
   "metadata": {
    "pycharm": {
     "name": "#%%\n"
    }
   },
   "outputs": [
    {
     "name": "stdout",
     "output_type": "stream",
     "text": [
      "Количество признаков: 148254\n",
      "Первые 20 признаков: ['aa', 'aaa', 'aaaa', 'aaaaa', 'aaaaaaaaaaaaaaaaaaaaaaaaaaaaaaaaaaaaaaaaaaaaaaaaaaaaaaaaaaaaaaaaaaaaaany', 'aaaaaaaaaahhhhhhhhhhhhhh', 'aaaaaaaaadm', 'aaaaaaaaaq', 'aaaaaaaaczy', 'aaaaaaaahhhhhhhhhhhhhhhhhhhhhhhhhhhhhhhhh', 'aaaaaaaari', 'aaaaaaaayui', 'aaaaah', 'aaaannnnyyyywwwwhhhheeeerrrreeee', 'aaaawwww', 'aaaboyz', 'aaaghh', 'aaah', 'aaahhh', 'aaahs']\n",
      "Каждый 10000 признак: ['aa', 'averbakh', 'cardigan', 'culcorp', 'eke', 'gabette', 'huffpost', 'ket', 'mattitude', 'nonpharmacological', 'podd', 'retrieve', 'slippages', 'thatcher', 'vietcong']\n"
     ]
    }
   ],
   "source": [
    "feature_names = vect.get_feature_names()\n",
    "print(f\"Количество признаков: {len(feature_names)}\")\n",
    "print(f\"Первые 20 признаков: {feature_names[:20]}\")\n",
    "print(f\"Каждый 10000 признак: {feature_names[::10000]}\")"
   ]
  },
  {
   "cell_type": "markdown",
   "metadata": {
    "pycharm": {
     "name": "#%% md\n"
    }
   },
   "source": [
    "Можно увидеть, что первые 20 признаков не имеют какого-то особого смысла, возможно это были эмоциональные записи."
   ]
  },
  {
   "cell_type": "markdown",
   "metadata": {},
   "source": [
    "## Обучение"
   ]
  },
  {
   "cell_type": "code",
   "execution_count": 20,
   "metadata": {
    "pycharm": {
     "name": "#%%\n"
    }
   },
   "outputs": [],
   "source": [
    "def display_conf_matrix(y_test, y_pred):\n",
    "    rcParams['figure.figsize'] = 3, 3\n",
    "    plt.figure(figsize=(2,2))\n",
    "    sns.set(font_scale=1.5)\n",
    "    ax = sns.heatmap((pd.crosstab(y_test, y_pred).apply(lambda r: r/r.sum()*100, axis=0)), cbar=None, annot=True, cmap=\"Blues\")\n",
    "    ax.set_ylabel(\"\")\n",
    "    ax.set_xlabel(\"\")\n",
    "    plt.yticks(rotation=0, size = 15)\n",
    "    plt.xticks(rotation=0, size = 15)\n",
    "\n",
    "show_me_result = {}\n",
    "def show_f1_score(X_test, y_test, est_name):\n",
    "    y_pred = grid.predict(X_test)\n",
    "    show_me_result[est_name] = f1_score(y_test, y_pred)\n",
    "    print(f\"f1-score: {f1_score(y_test, y_pred)}\")\n",
    "    return y_pred"
   ]
  },
  {
   "cell_type": "markdown",
   "metadata": {
    "pycharm": {
     "name": "#%% md\n"
    }
   },
   "source": [
    "### LogisticRegression + cross_val_score"
   ]
  },
  {
   "cell_type": "code",
   "execution_count": 13,
   "metadata": {
    "pycharm": {
     "name": "#%%\n"
    }
   },
   "outputs": [
    {
     "name": "stdout",
     "output_type": "stream",
     "text": [
      "CPU times: user 1min 33s, sys: 2.74 s, total: 1min 35s\n",
      "Wall time: 25.5 s\n"
     ]
    }
   ],
   "source": [
    "%%time\n",
    "\n",
    "scores = cross_val_score(LogisticRegression(), X_train, y_train, cv=5)"
   ]
  },
  {
   "cell_type": "code",
   "execution_count": 14,
   "metadata": {
    "pycharm": {
     "name": "#%%\n"
    }
   },
   "outputs": [
    {
     "name": "stdout",
     "output_type": "stream",
     "text": [
      "Средний скор перекрестной проверки: 0.96\n"
     ]
    }
   ],
   "source": [
    "print(\"Средний скор перекрестной проверки: {:.2f}\".format(np.mean(scores)))"
   ]
  },
  {
   "cell_type": "markdown",
   "metadata": {
    "pycharm": {
     "name": "#%% md\n"
    }
   },
   "source": [
    "Мы получили 0.96 что в целом говорит о хорошем качестве. Логистическая регрессия имеет параметр регуляризации C, который мы можем настроить с помощью перекрестной проверки:"
   ]
  },
  {
   "cell_type": "markdown",
   "metadata": {},
   "source": [
    "<div class=\"alert alert-block alert-info\">\n",
    "<b>Совет: </b> В параметр scoring желательно было передать нашу целевую функцию.\n",
    "</div>"
   ]
  },
  {
   "cell_type": "markdown",
   "metadata": {
    "pycharm": {
     "name": "#%% md\n"
    }
   },
   "source": [
    "### LogisticRegression + GridSearchCV"
   ]
  },
  {
   "cell_type": "code",
   "execution_count": 15,
   "metadata": {
    "pycharm": {
     "name": "#%%\n"
    }
   },
   "outputs": [
    {
     "data": {
      "text/plain": [
       "GridSearchCV(cv=5, estimator=LogisticRegression(), param_grid={'C': [0.1, 1]})"
      ]
     },
     "execution_count": 15,
     "metadata": {},
     "output_type": "execute_result"
    }
   ],
   "source": [
    "param_grid = {'C': [0.1, 1]}\n",
    "grid = GridSearchCV(LogisticRegression(), param_grid, cv=5)\n",
    "grid.fit(X_train, y_train)"
   ]
  },
  {
   "cell_type": "code",
   "execution_count": 16,
   "metadata": {
    "pycharm": {
     "name": "#%%\n"
    }
   },
   "outputs": [
    {
     "name": "stdout",
     "output_type": "stream",
     "text": [
      "Наилучшее значение перекрестной проверки: 0.96\n",
      "Наилучшие параметры перекрестной проверки:  {'C': 1}\n"
     ]
    }
   ],
   "source": [
    "print(\"Наилучшее значение перекрестной проверки: {:.2f}\".format(grid.best_score_))\n",
    "print(\"Наилучшие параметры перекрестной проверки: \", grid.best_params_)"
   ]
  },
  {
   "cell_type": "markdown",
   "metadata": {
    "pycharm": {
     "name": "#%% md\n"
    }
   },
   "source": [
    "Видим, что метрика осталась прежней."
   ]
  },
  {
   "cell_type": "code",
   "execution_count": 17,
   "metadata": {
    "pycharm": {
     "name": "#%%\n"
    }
   },
   "outputs": [
    {
     "name": "stdout",
     "output_type": "stream",
     "text": [
      "Правильность на тестовом наборе: 0.96\n"
     ]
    }
   ],
   "source": [
    "print(f\"Правильность на тестовом наборе: {grid.score(X_test, y_test):.2f}\")"
   ]
  },
  {
   "cell_type": "markdown",
   "metadata": {
    "pycharm": {
     "name": "#%% md\n"
    }
   },
   "source": [
    "Мы ранее видели, что у нас есть неадекватные слова. Так же из-за ошибок в словах мы можем получить токены, которые буду встречаться 1 раз, хотя это может быть частотное слово. Токен который встретился только в одном документе врядли встретится в тестовом документе и по этому вполне может быть бесполезен. С помощью параметра min_df можно задать минимальное количество документов, в котором должен появиться токен что бы попасть в словать."
   ]
  },
  {
   "cell_type": "code",
   "execution_count": 21,
   "metadata": {
    "pycharm": {
     "name": "#%%\n"
    }
   },
   "outputs": [
    {
     "name": "stdout",
     "output_type": "stream",
     "text": [
      "f1-score: 0.772924308102701\n"
     ]
    }
   ],
   "source": [
    "y_pred = show_f1_score(X_test, y_test, 'LogisticRegression + GridSearchCV')"
   ]
  },
  {
   "cell_type": "code",
   "execution_count": 22,
   "metadata": {
    "pycharm": {
     "name": "#%%\n"
    }
   },
   "outputs": [
    {
     "data": {
      "image/png": "[encoded data removed]",
      "text/plain": [
       "<Figure size 144x144 with 1 Axes>"
      ]
     },
     "metadata": {
      "needs_background": "light"
     },
     "output_type": "display_data"
    }
   ],
   "source": [
    "display_conf_matrix(y_test, y_pred)"
   ]
  },
  {
   "cell_type": "markdown",
   "metadata": {
    "pycharm": {
     "name": "#%% md\n"
    }
   },
   "source": [
    "### LogisticRegression + GridSearchCV + min_df"
   ]
  },
  {
   "cell_type": "code",
   "execution_count": 23,
   "metadata": {
    "pycharm": {
     "name": "#%%\n"
    }
   },
   "outputs": [
    {
     "name": "stdout",
     "output_type": "stream",
     "text": [
      "X_train with min_df:\n",
      "<127656x30832 sparse matrix of type '<class 'numpy.int64'>'\n",
      "\twith 5280578 stored elements in Compressed Sparse Row format>\n"
     ]
    }
   ],
   "source": [
    "vect = CountVectorizer(min_df=5).fit(X_tr)\n",
    "X_train = vect.transform(X_tr)\n",
    "X_test = vect.transform(X_tt)\n",
    "print(f\"X_train with min_df:\\n{repr(X_train)}\")"
   ]
  },
  {
   "cell_type": "markdown",
   "metadata": {
    "pycharm": {
     "name": "#%% md\n"
    }
   },
   "source": [
    "Мы сократили нашу матрицу с 148254 до 30832 - это почти в 5 раз. Посмотрим снова на токены:"
   ]
  },
  {
   "cell_type": "code",
   "execution_count": 24,
   "metadata": {
    "pycharm": {
     "name": "#%%\n"
    }
   },
   "outputs": [
    {
     "name": "stdout",
     "output_type": "stream",
     "text": [
      "Количество признаков: 30832\n",
      "Первые 20 признаков: ['aa', 'aaa', 'aah', 'aaliyah', 'aap', 'aardvark', 'aaron', 'aaryanrajput', 'aas', 'aave', 'ab', 'aba', 'abad', 'abandon', 'abandoned', 'abandoning', 'abandonment', 'abbas', 'abbasid', 'abbey']\n",
      "Каждый 5000 признак: ['aa', 'closet', 'faint', 'katyn', 'peek', 'sinks', 'whereas']\n"
     ]
    }
   ],
   "source": [
    "feature_names = vect.get_feature_names()\n",
    "print(f\"Количество признаков: {len(feature_names)}\")\n",
    "print(f\"Первые 20 признаков: {feature_names[:20]}\")\n",
    "print(f\"Каждый 5000 признак: {feature_names[::5000]}\")"
   ]
  },
  {
   "cell_type": "markdown",
   "metadata": {
    "pycharm": {
     "name": "#%% md\n"
    }
   },
   "source": [
    "Видно, что слова стали более адекватные."
   ]
  },
  {
   "cell_type": "code",
   "execution_count": 25,
   "metadata": {
    "pycharm": {
     "name": "#%%\n"
    }
   },
   "outputs": [
    {
     "data": {
      "text/plain": [
       "GridSearchCV(cv=5, estimator=LogisticRegression(), param_grid={'C': [0.1, 1]})"
      ]
     },
     "execution_count": 25,
     "metadata": {},
     "output_type": "execute_result"
    }
   ],
   "source": [
    "grid = GridSearchCV(LogisticRegression(), param_grid, cv=5)\n",
    "grid.fit(X_train, y_train)"
   ]
  },
  {
   "cell_type": "code",
   "execution_count": 26,
   "metadata": {
    "pycharm": {
     "name": "#%%\n"
    }
   },
   "outputs": [
    {
     "name": "stdout",
     "output_type": "stream",
     "text": [
      "Наилучшее значение перекрестной проверки: 0.96\n",
      "Наилучшие параметры перекрестной проверки:  {'C': 1}\n"
     ]
    }
   ],
   "source": [
    "print(\"Наилучшее значение перекрестной проверки: {:.2f}\".format(grid.best_score_))\n",
    "print(\"Наилучшие параметры перекрестной проверки: \", grid.best_params_)"
   ]
  },
  {
   "cell_type": "markdown",
   "metadata": {
    "pycharm": {
     "name": "#%% md\n"
    }
   },
   "source": [
    "Я также пробовала на min_df=7, общий результат был один"
   ]
  },
  {
   "cell_type": "code",
   "execution_count": 27,
   "metadata": {
    "pycharm": {
     "name": "#%%\n"
    }
   },
   "outputs": [
    {
     "name": "stdout",
     "output_type": "stream",
     "text": [
      "f1-score: 0.7670675927494496\n"
     ]
    }
   ],
   "source": [
    "y_pred = show_f1_score(X_test, y_test, 'LogisticRegression + GridSearchCV + min_df')"
   ]
  },
  {
   "cell_type": "code",
   "execution_count": 28,
   "metadata": {
    "pycharm": {
     "name": "#%%\n"
    }
   },
   "outputs": [
    {
     "data": {
      "image/png": "[encoded data removed]",
      "text/plain": [
       "<Figure size 144x144 with 1 Axes>"
      ]
     },
     "metadata": {},
     "output_type": "display_data"
    }
   ],
   "source": [
    "display_conf_matrix(y_test, y_pred)"
   ]
  },
  {
   "cell_type": "markdown",
   "metadata": {
    "pycharm": {
     "name": "#%% md\n"
    }
   },
   "source": [
    "### LogisticRegression + GridSearchCV + min_df + stop-words"
   ]
  },
  {
   "cell_type": "markdown",
   "metadata": {
    "pycharm": {
     "name": "#%% md\n"
    }
   },
   "source": [
    "Еще один способ улучшить качество модели - это убрать стол-слова. Проверим это предположение."
   ]
  },
  {
   "cell_type": "code",
   "execution_count": 29,
   "metadata": {
    "pycharm": {
     "name": "#%%\n"
    }
   },
   "outputs": [
    {
     "name": "stdout",
     "output_type": "stream",
     "text": [
      "Количество стоп-слов: 318\n",
      "Каждое 10-е стоп слово: ['since', 'amongst', 'even', 'everything', 'off', 'whereafter', 'beyond', 'well', 'hasnt', 'myself', 'go', 'such', 'perhaps', 'hundred', 'bill', 'else', 'around', 'why', 'toward', 'hereafter', 'yourself', 'after', 'her', 'hereupon', 'i', 'more', 'indeed', 'whenever', 'whereby', 'though', 'our', 'in']\n"
     ]
    }
   ],
   "source": [
    "print(f\"Количество стоп-слов: {len(ENGLISH_STOP_WORDS)}\")\n",
    "print(f\"Каждое 10-е стоп слово: {list(ENGLISH_STOP_WORDS)[::10]}\")"
   ]
  },
  {
   "cell_type": "code",
   "execution_count": 30,
   "metadata": {
    "pycharm": {
     "name": "#%%\n"
    }
   },
   "outputs": [
    {
     "name": "stdout",
     "output_type": "stream",
     "text": [
      "X_train with min_df:\n",
      "<127656x30524 sparse matrix of type '<class 'numpy.int64'>'\n",
      "\twith 2976568 stored elements in Compressed Sparse Row format>\n"
     ]
    }
   ],
   "source": [
    "vect = CountVectorizer(min_df=5, stop_words=\"english\").fit(X_tr)\n",
    "X_train = vect.transform(X_tr)\n",
    "X_test = vect.transform(X_tt)\n",
    "print(f\"X_train with min_df:\\n{repr(X_train)}\")"
   ]
  },
  {
   "cell_type": "code",
   "execution_count": 31,
   "metadata": {
    "pycharm": {
     "name": "#%%\n"
    }
   },
   "outputs": [
    {
     "data": {
      "text/plain": [
       "GridSearchCV(cv=5, estimator=LogisticRegression(), param_grid={'C': [0.1, 1]})"
      ]
     },
     "execution_count": 31,
     "metadata": {},
     "output_type": "execute_result"
    }
   ],
   "source": [
    "grid = GridSearchCV(LogisticRegression(), param_grid, cv=5)\n",
    "grid.fit(X_train, y_train)"
   ]
  },
  {
   "cell_type": "code",
   "execution_count": 32,
   "metadata": {
    "pycharm": {
     "name": "#%%\n"
    }
   },
   "outputs": [
    {
     "name": "stdout",
     "output_type": "stream",
     "text": [
      "Наилучшее значение перекрестной проверки: 0.96\n"
     ]
    }
   ],
   "source": [
    "print(\"Наилучшее значение перекрестной проверки: {:.2f}\".format(grid.best_score_))"
   ]
  },
  {
   "cell_type": "markdown",
   "metadata": {
    "pycharm": {
     "name": "#%% md\n"
    }
   },
   "source": [
    "В целом несколько тысяч слов ничего не изменили, а тут всего 318...."
   ]
  },
  {
   "cell_type": "code",
   "execution_count": 33,
   "metadata": {
    "pycharm": {
     "name": "#%%\n"
    }
   },
   "outputs": [
    {
     "name": "stdout",
     "output_type": "stream",
     "text": [
      "f1-score: 0.7730923694779117\n"
     ]
    }
   ],
   "source": [
    "y_pred = show_f1_score(X_test, y_test, 'LogisticRegression + GridSearchCV + min_df + stop-words')"
   ]
  },
  {
   "cell_type": "code",
   "execution_count": 34,
   "metadata": {
    "pycharm": {
     "name": "#%%\n"
    }
   },
   "outputs": [
    {
     "data": {
      "image/png": "[encoded data removed]",
      "text/plain": [
       "<Figure size 144x144 with 1 Axes>"
      ]
     },
     "metadata": {},
     "output_type": "display_data"
    }
   ],
   "source": [
    "display_conf_matrix(y_test, y_pred)"
   ]
  },
  {
   "cell_type": "markdown",
   "metadata": {
    "pycharm": {
     "name": "#%% md\n"
    }
   },
   "source": [
    "### LogisticRegression + GridSearchCV + min_df + tf-idf"
   ]
  },
  {
   "cell_type": "code",
   "execution_count": 35,
   "metadata": {
    "pycharm": {
     "name": "#%%\n"
    }
   },
   "outputs": [
    {
     "name": "stdout",
     "output_type": "stream",
     "text": [
      "CPU times: user 2min 55s, sys: 4.26 s, total: 2min 59s\n",
      "Wall time: 1min 37s\n"
     ]
    },
    {
     "data": {
      "text/plain": [
       "GridSearchCV(cv=5,\n",
       "             estimator=Pipeline(steps=[('tfidfvectorizer',\n",
       "                                        TfidfVectorizer(min_df=5, norm=None)),\n",
       "                                       ('logisticregression',\n",
       "                                        LogisticRegression())]),\n",
       "             param_grid={'logisticregression__C': [0.1, 1]})"
      ]
     },
     "execution_count": 35,
     "metadata": {},
     "output_type": "execute_result"
    }
   ],
   "source": [
    "%%time\n",
    "pipe = make_pipeline(TfidfVectorizer(min_df=5, norm=None), LogisticRegression())\n",
    "param_grid = {'logisticregression__C': [0.1, 1]}\n",
    "grid = GridSearchCV(pipe, param_grid, cv=5)\n",
    "grid.fit(X_tr, y_train)"
   ]
  },
  {
   "cell_type": "code",
   "execution_count": 36,
   "metadata": {
    "pycharm": {
     "name": "#%%\n"
    }
   },
   "outputs": [
    {
     "name": "stdout",
     "output_type": "stream",
     "text": [
      "Наилучшее значение перекрестной проверки: 0.96\n"
     ]
    }
   ],
   "source": [
    "print(\"Наилучшее значение перекрестной проверки: {:.2f}\".format(grid.best_score_))"
   ]
  },
  {
   "cell_type": "markdown",
   "metadata": {
    "pycharm": {
     "name": "#%% md\n"
    }
   },
   "source": [
    "Масштабирование tf-idf призвано найти слова, которые лучше всего дискриминируют документы, но при этом оно является методом неконтролируемоно обучения. Это значит что \"важное\" не обязательно значит что оно относится к метке \"положительный\" или \"отрицательный\"."
   ]
  },
  {
   "cell_type": "code",
   "execution_count": 37,
   "metadata": {
    "pycharm": {
     "name": "#%%\n"
    }
   },
   "outputs": [],
   "source": [
    "vectorizer = grid.best_estimator_.named_steps['tfidfvectorizer']\n",
    "X_train = vectorizer.transform(X_tr)\n",
    "# находим максимальное значение каждого признака по набору данных\n",
    "max_value = X_train.max(axis=0).toarray().ravel()\n",
    "sorted_by_tfidf = max_value.argsort()\n",
    "# получаем имена признаков\n",
    "feature_names = np.array(vectorizer.get_feature_names())"
   ]
  },
  {
   "cell_type": "code",
   "execution_count": 38,
   "metadata": {
    "pycharm": {
     "name": "#%%\n"
    }
   },
   "outputs": [
    {
     "name": "stdout",
     "output_type": "stream",
     "text": [
      "Признаки с наименьшими значениями tfidf: ['experimenting' 'facilitate' 'cheatsheet' 'reaching' 'slight' 'albeit'\n",
      " 'encountered' 'suffice' 'remotely' 'fantastic' 'unjustified' 'wherever'\n",
      " 'considerably' 'unspecified' 'assured' 'glance' 'awhile' 'mentored'\n",
      " 'happily' 'grossly']\n",
      "Признаки с наибольшими значениями tfidf: ['twat' 'ass' 'fat' 'sex' 'jew' 'die' 'noobs' 'fag' 'faggot' 'nigger'\n",
      " 'faggots' 'shit' 'aids' 'wanker' 'balls' 'noes' 'teabag' 'lol' 'bark'\n",
      " 'pig']\n"
     ]
    }
   ],
   "source": [
    "print(f\"Признаки с наименьшими значениями tfidf: {feature_names[sorted_by_tfidf[:20]]}\")\n",
    "print(f\"Признаки с наибольшими значениями tfidf: {feature_names[sorted_by_tfidf[-20:]]}\")"
   ]
  },
  {
   "cell_type": "markdown",
   "metadata": {
    "pycharm": {
     "name": "#%% md\n"
    }
   },
   "source": [
    "Важные слова не такие длинные как неважные.\n"
   ]
  },
  {
   "cell_type": "code",
   "execution_count": 39,
   "metadata": {
    "pycharm": {
     "name": "#%%\n"
    }
   },
   "outputs": [
    {
     "name": "stdout",
     "output_type": "stream",
     "text": [
      "Признаки с наименьшими значениями idf: ['the' 'to' 'and' 'of' 'you' 'is' 'it' 'that' 'in' 'for' 'this' 'not' 'on'\n",
      " 'be' 'have' 'as' 'are' 'if' 'with' 'but' 'your' 'or' 'article' 'was' 'an'\n",
      " 'from' 'my' 'do' 'can' 'page' 'at' 'talk' 'so' 'wikipedia' 'by' 'what'\n",
      " 'about' 'there' 'me' 'please' 'just' 'has' 'all' 'will' 'no' 'would'\n",
      " 'like' 'one' 'been' 'any' 'more' 'don' 'should' 'which' 'they' 'see'\n",
      " 'other' 'some' 'here' 'also' 'we' 'think' 'who' 'know' 'because' 'how'\n",
      " 'out' 'he' 'up' 'only' 'why' 'edit' 'when' 'people' 'time' 'then' 'now'\n",
      " 'am' 'did' 'thanks' 'being' 'articles' 'his' 'may' 'them' 'than' 'get'\n",
      " 'make' 're' 'even' 'were' 'use' 'good' 'well' 'does' 'could' 'very'\n",
      " 'their' 'want' 've']\n"
     ]
    }
   ],
   "source": [
    "sorted_by_idf = np.argsort(vectorizer.idf_)\n",
    "print(f\"Признаки с наименьшими значениями idf: {feature_names[sorted_by_idf[:100]]}\")"
   ]
  },
  {
   "cell_type": "code",
   "execution_count": 40,
   "metadata": {
    "pycharm": {
     "name": "#%%\n"
    }
   },
   "outputs": [
    {
     "name": "stdout",
     "output_type": "stream",
     "text": [
      "f1-score: 0.7861604997597309\n"
     ]
    }
   ],
   "source": [
    "y_pred = show_f1_score(X_tt, y_test, 'LogisticRegression + GridSearchCV + min_df + tf-idf')"
   ]
  },
  {
   "cell_type": "code",
   "execution_count": 41,
   "metadata": {
    "pycharm": {
     "name": "#%%\n"
    }
   },
   "outputs": [
    {
     "data": {
      "image/png": "[encoded data removed]",
      "text/plain": [
       "<Figure size 144x144 with 1 Axes>"
      ]
     },
     "metadata": {},
     "output_type": "display_data"
    }
   ],
   "source": [
    "display_conf_matrix(y_test, y_pred)"
   ]
  },
  {
   "cell_type": "markdown",
   "metadata": {
    "pycharm": {
     "name": "#%% md\n"
    }
   },
   "source": [
    "Слова которые встречаются часто и по этому считаются менее важными. Как и следовало ожидать, словами с низкими значениями метрики tf-idf стали английские стоп слова типа \"is\", \"that\", \"be\"... Интересно что слова \"good\", \"well\" так же отнесены к самым часто встречающимся и потому \"самым нерелевантным\", хотя можно было бы ожидать, что они будут иметь важное значение для анализа тональности."
   ]
  },
  {
   "cell_type": "markdown",
   "metadata": {
    "pycharm": {
     "name": "#%% md\n"
    }
   },
   "source": [
    "Один из недостатков bag-of-words является то, что он не учитывает порядка слов. Например строки \"it's bad, not good at all\" и \"it's good, not bad at all\" будут иметь одинаковое представление. Употребление частицы \"not\" - один из примеров. Но нам повезло и есть способ учитывать пары токенов, а еще тройки токенов и т.д."
   ]
  },
  {
   "cell_type": "markdown",
   "metadata": {
    "pycharm": {
     "name": "#%% md\n"
    }
   },
   "source": [
    "### LogisticRegression + GridSearchCV + min_df + tf-idf + ngram_range"
   ]
  },
  {
   "cell_type": "code",
   "execution_count": 42,
   "metadata": {
    "pycharm": {
     "name": "#%%\n"
    }
   },
   "outputs": [
    {
     "name": "stdout",
     "output_type": "stream",
     "text": [
      "CPU times: user 10min 12s, sys: 17.6 s, total: 10min 30s\n",
      "Wall time: 5min 50s\n"
     ]
    },
    {
     "data": {
      "text/plain": [
       "GridSearchCV(cv=5,\n",
       "             estimator=Pipeline(steps=[('tfidfvectorizer',\n",
       "                                        TfidfVectorizer(min_df=5)),\n",
       "                                       ('logisticregression',\n",
       "                                        LogisticRegression())]),\n",
       "             param_grid={'logisticregression__C': [1, 10],\n",
       "                         'tfidfvectorizer__ngram_range': [(1, 1), (1, 2)]})"
      ]
     },
     "execution_count": 42,
     "metadata": {},
     "output_type": "execute_result"
    }
   ],
   "source": [
    "%%time\n",
    "\n",
    "pipe = make_pipeline(TfidfVectorizer(min_df=5), LogisticRegression())\n",
    "param_grid = {\n",
    "    'logisticregression__C': [10],\n",
    "    'tfidfvectorizer__ngram_range': [(1, 1), (1, 2)]\n",
    "}\n",
    "grid = GridSearchCV(pipe, param_grid, cv=5)\n",
    "grid.fit(X_tr, y_train)"
   ]
  },
  {
   "cell_type": "code",
   "execution_count": 43,
   "metadata": {
    "pycharm": {
     "name": "#%%\n"
    }
   },
   "outputs": [
    {
     "data": {
      "text/plain": [
       "{'logisticregression__C': 10, 'tfidfvectorizer__ngram_range': (1, 1)}"
      ]
     },
     "execution_count": 43,
     "metadata": {},
     "output_type": "execute_result"
    }
   ],
   "source": [
    "grid.best_params_"
   ]
  },
  {
   "cell_type": "code",
   "execution_count": 44,
   "metadata": {
    "pycharm": {
     "name": "#%%\n"
    }
   },
   "outputs": [
    {
     "name": "stdout",
     "output_type": "stream",
     "text": [
      "Наилучшее значение перекрестной проверки: 0.96\n"
     ]
    }
   ],
   "source": [
    "print(\"Наилучшее значение перекрестной проверки: {:.2f}\".format(grid.best_score_))"
   ]
  },
  {
   "cell_type": "markdown",
   "metadata": {
    "pycharm": {
     "name": "#%% md\n"
    }
   },
   "source": [
    "Что неудивительно, если лучшее значение ngram = (1, 1), то качество осталось на прежнем уровне."
   ]
  },
  {
   "cell_type": "code",
   "execution_count": 45,
   "metadata": {
    "pycharm": {
     "name": "#%%\n"
    }
   },
   "outputs": [
    {
     "data": {
      "image/png": "[encoded data removed]",
      "text/plain": [
       "<Figure size 1080x360 with 1 Axes>"
      ]
     },
     "metadata": {},
     "output_type": "display_data"
    }
   ],
   "source": [
    "vect = grid.best_estimator_.named_steps['tfidfvectorizer']\n",
    "feature_names = np.array(vect.get_feature_names())\n",
    "coef = grid.best_estimator_.named_steps['logisticregression'].coef_\n",
    "mglearn.tools.visualize_coefficients(coef, feature_names, n_top_features=25)"
   ]
  },
  {
   "cell_type": "markdown",
   "metadata": {
    "pycharm": {
     "name": "#%% md\n"
    }
   },
   "source": [
    "На графике наглядно видно какие слова наиболее важные или имеют наибольший вес при определении комментария как негативный/позитивный"
   ]
  },
  {
   "cell_type": "code",
   "execution_count": 46,
   "metadata": {
    "pycharm": {
     "name": "#%%\n"
    }
   },
   "outputs": [
    {
     "name": "stdout",
     "output_type": "stream",
     "text": [
      "f1-score: 0.7953255425709516\n"
     ]
    }
   ],
   "source": [
    "y_pred = show_f1_score(X_tt, y_test, 'LogisticRegression + GridSearchCV + min_df + tf-idf + ngram_range')"
   ]
  },
  {
   "cell_type": "markdown",
   "metadata": {
    "pycharm": {
     "name": "#%% md\n"
    }
   },
   "source": [
    "Видим, что f-score улучшился"
   ]
  },
  {
   "cell_type": "code",
   "execution_count": 47,
   "metadata": {
    "pycharm": {
     "name": "#%%\n"
    }
   },
   "outputs": [
    {
     "data": {
      "image/png": "[encoded data removed]",
      "text/plain": [
       "<Figure size 144x144 with 1 Axes>"
      ]
     },
     "metadata": {},
     "output_type": "display_data"
    }
   ],
   "source": [
    "display_conf_matrix(y_test, y_pred)"
   ]
  },
  {
   "cell_type": "markdown",
   "metadata": {
    "pycharm": {
     "name": "#%% md\n"
    }
   },
   "source": [
    "Так как мы улучшали до последнего наш скор и последний был лучший, попробуем таким образом использовать другие классификаторы"
   ]
  },
  {
   "cell_type": "markdown",
   "metadata": {
    "pycharm": {
     "name": "#%% md\n"
    }
   },
   "source": [
    "### LogisticRegression + GridSearchCV + min_df + tf-idf + ngram_range + Lemmatization"
   ]
  },
  {
   "cell_type": "code",
   "execution_count": 48,
   "metadata": {
    "pycharm": {
     "name": "#%%\n"
    }
   },
   "outputs": [],
   "source": [
    "m = Mystem()"
   ]
  },
  {
   "cell_type": "code",
   "execution_count": 49,
   "metadata": {
    "pycharm": {
     "name": "#%%\n"
    }
   },
   "outputs": [],
   "source": [
    "def get_lemma(text):\n",
    "    new_lemma_text = m.lemmatize(text)\n",
    "    return \" \".join(new_lemma_text)"
   ]
  },
  {
   "cell_type": "code",
   "execution_count": 50,
   "metadata": {
    "pycharm": {
     "name": "#%%\n"
    }
   },
   "outputs": [
    {
     "name": "stdout",
     "output_type": "stream",
     "text": [
      "CPU times: user 20.8 s, sys: 1.95 s, total: 22.8 s\n",
      "Wall time: 1min 29s\n"
     ]
    }
   ],
   "source": [
    "%%time\n",
    "\n",
    "df['clean_text_lemma'] = df['clean_text'].apply(get_lemma)"
   ]
  },
  {
   "cell_type": "code",
   "execution_count": 51,
   "metadata": {
    "pycharm": {
     "name": "#%%\n"
    }
   },
   "outputs": [
    {
     "data": {
      "text/html": [
       "<div>\n",
       "<style scoped>\n",
       "    .dataframe tbody tr th:only-of-type {\n",
       "        vertical-align: middle;\n",
       "    }\n",
       "\n",
       "    .dataframe tbody tr th {\n",
       "        vertical-align: top;\n",
       "    }\n",
       "\n",
       "    .dataframe thead th {\n",
       "        text-align: right;\n",
       "    }\n",
       "</style>\n",
       "<table border=\"1\" class=\"dataframe\">\n",
       "  <thead>\n",
       "    <tr style=\"text-align: right;\">\n",
       "      <th></th>\n",
       "      <th>text</th>\n",
       "      <th>toxic</th>\n",
       "      <th>clean_text</th>\n",
       "      <th>clean_text_lemma</th>\n",
       "    </tr>\n",
       "  </thead>\n",
       "  <tbody>\n",
       "    <tr>\n",
       "      <th>86781</th>\n",
       "      <td>Looks like the page has been vandalized. Someo...</td>\n",
       "      <td>0</td>\n",
       "      <td>Looks like the page has been vandalized  Someo...</td>\n",
       "      <td>Looks   like   the   page   has   been   vanda...</td>\n",
       "    </tr>\n",
       "    <tr>\n",
       "      <th>16979</th>\n",
       "      <td>Objetivist theory of value\\nThere has to be so...</td>\n",
       "      <td>0</td>\n",
       "      <td>Objetivist theory of value There has to be som...</td>\n",
       "      <td>Objetivist   theory   of   value   There   has...</td>\n",
       "    </tr>\n",
       "    <tr>\n",
       "      <th>127258</th>\n",
       "      <td>\"\\nPerhaps it was the time frame. I recall the...</td>\n",
       "      <td>0</td>\n",
       "      <td>Perhaps it was the time frame  I recall the ...</td>\n",
       "      <td>Perhaps   it   was   the   time   frame    ...</td>\n",
       "    </tr>\n",
       "  </tbody>\n",
       "</table>\n",
       "</div>"
      ],
      "text/plain": [
       "                                                     text  toxic  \\\n",
       "86781   Looks like the page has been vandalized. Someo...      0   \n",
       "16979   Objetivist theory of value\\nThere has to be so...      0   \n",
       "127258  \"\\nPerhaps it was the time frame. I recall the...      0   \n",
       "\n",
       "                                               clean_text  \\\n",
       "86781   Looks like the page has been vandalized  Someo...   \n",
       "16979   Objetivist theory of value There has to be som...   \n",
       "127258    Perhaps it was the time frame  I recall the ...   \n",
       "\n",
       "                                         clean_text_lemma  \n",
       "86781   Looks   like   the   page   has   been   vanda...  \n",
       "16979   Objetivist   theory   of   value   There   has...  \n",
       "127258     Perhaps   it   was   the   time   frame    ...  "
      ]
     },
     "execution_count": 51,
     "metadata": {},
     "output_type": "execute_result"
    }
   ],
   "source": [
    "df.sample(3)"
   ]
  },
  {
   "cell_type": "code",
   "execution_count": 52,
   "metadata": {
    "pycharm": {
     "name": "#%%\n"
    }
   },
   "outputs": [],
   "source": [
    "X_train_lemma, X_test_lemma, y_train, y_test = train_test_split(df['clean_text_lemma'], df['toxic'], test_size=0.2, random_state=12)"
   ]
  },
  {
   "cell_type": "code",
   "execution_count": 53,
   "metadata": {
    "pycharm": {
     "name": "#%%\n"
    }
   },
   "outputs": [
    {
     "name": "stdout",
     "output_type": "stream",
     "text": [
      "CPU times: user 1min 34s, sys: 2.13 s, total: 1min 36s\n",
      "Wall time: 53.4 s\n"
     ]
    },
    {
     "data": {
      "text/plain": [
       "GridSearchCV(cv=5,\n",
       "             estimator=Pipeline(steps=[('tfidfvectorizer',\n",
       "                                        TfidfVectorizer(min_df=5)),\n",
       "                                       ('logisticregression',\n",
       "                                        LogisticRegression())]),\n",
       "             param_grid={'logisticregression__C': [10],\n",
       "                         'tfidfvectorizer__ngram_range': [(1, 1)]})"
      ]
     },
     "execution_count": 53,
     "metadata": {},
     "output_type": "execute_result"
    }
   ],
   "source": [
    "%%time\n",
    "\n",
    "pipe = make_pipeline(TfidfVectorizer(min_df=5), LogisticRegression())\n",
    "param_grid = {\n",
    "    'logisticregression__C': [10],\n",
    "    'tfidfvectorizer__ngram_range': [(1, 1)]\n",
    "}\n",
    "grid = GridSearchCV(pipe, param_grid, cv=5)\n",
    "grid.fit(X_train_lemma, y_train)"
   ]
  },
  {
   "cell_type": "code",
   "execution_count": 54,
   "metadata": {
    "pycharm": {
     "name": "#%%\n"
    }
   },
   "outputs": [
    {
     "name": "stdout",
     "output_type": "stream",
     "text": [
      "f1-score: 0.7953255425709516\n"
     ]
    }
   ],
   "source": [
    "y_pred = show_f1_score(X_test_lemma, y_test, 'LogisticRegression + GridSearchCV + min_df + tf-idf + ngram_range + Lemmatization')"
   ]
  },
  {
   "cell_type": "code",
   "execution_count": 55,
   "metadata": {
    "pycharm": {
     "name": "#%%\n"
    }
   },
   "outputs": [
    {
     "data": {
      "image/png": "[encoded data removed]",
      "text/plain": [
       "<Figure size 144x144 with 1 Axes>"
      ]
     },
     "metadata": {},
     "output_type": "display_data"
    }
   ],
   "source": [
    "display_conf_matrix(y_test, y_pred)"
   ]
  },
  {
   "cell_type": "markdown",
   "metadata": {
    "pycharm": {
     "name": "#%% md\n"
    }
   },
   "source": [
    "### CatBoostClassifier + GridSearchCV + min_df + tf-idf"
   ]
  },
  {
   "cell_type": "code",
   "execution_count": null,
   "metadata": {
    "pycharm": {
     "name": "#%%\n"
    }
   },
   "outputs": [],
   "source": [
    "# %%time\n",
    "#\n",
    "# pipe = make_pipeline(TfidfVectorizer(min_df=5), CatBoostClassifier())\n",
    "# param_grid = {\n",
    "#     'tfidfvectorizer__ngram_range': [(1, 1)]\n",
    "# }\n",
    "# grid = GridSearchCV(pipe, param_grid, cv=3)\n",
    "# grid.fit(X_tr, y_train)"
   ]
  },
  {
   "cell_type": "code",
   "execution_count": null,
   "metadata": {
    "pycharm": {
     "name": "#%%\n"
    }
   },
   "outputs": [],
   "source": [
    "# grid.best_params_"
   ]
  },
  {
   "cell_type": "code",
   "execution_count": null,
   "metadata": {
    "pycharm": {
     "name": "#%%\n"
    }
   },
   "outputs": [],
   "source": [
    "# show_f1_score(X_tt, y_test, 'CatBoostClassifier + GridSearchCV + min_df + tf-idf')"
   ]
  },
  {
   "cell_type": "code",
   "execution_count": null,
   "metadata": {
    "pycharm": {
     "name": "#%%\n"
    }
   },
   "outputs": [],
   "source": [
    "# display_conf_matrix(y_test, y_pred)"
   ]
  },
  {
   "cell_type": "markdown",
   "metadata": {
    "pycharm": {
     "name": "#%% md\n"
    }
   },
   "source": [
    "CatBoostClassifier учился очень долго(37 минут) и на базовых параметрах показал себя хуже чем лог регрессия"
   ]
  },
  {
   "cell_type": "code",
   "execution_count": 56,
   "metadata": {
    "pycharm": {
     "name": "#%%\n"
    }
   },
   "outputs": [
    {
     "data": {
      "text/plain": [
       "{'LogisticRegression + GridSearchCV': 0.772924308102701,\n",
       " 'LogisticRegression + GridSearchCV + min_df': 0.7670675927494496,\n",
       " 'LogisticRegression + GridSearchCV + min_df + stop-words': 0.7730923694779117,\n",
       " 'LogisticRegression + GridSearchCV + min_df + tf-idf': 0.7861604997597309,\n",
       " 'LogisticRegression + GridSearchCV + min_df + tf-idf + ngram_range': 0.7953255425709516,\n",
       " 'LogisticRegression + GridSearchCV + min_df + tf-idf + ngram_range + Lemmatization': 0.7953255425709516}"
      ]
     },
     "execution_count": 56,
     "metadata": {},
     "output_type": "execute_result"
    }
   ],
   "source": [
    "show_me_result"
   ]
  },
  {
   "cell_type": "markdown",
   "metadata": {},
   "source": [
    "## Выводы"
   ]
  },
  {
   "cell_type": "markdown",
   "metadata": {
    "pycharm": {
     "name": "#%% md\n"
    }
   },
   "source": [
    "Построили несколько моделей с различной предобработкой. Сделали выводы:\n",
    "- Добавление параметра min_df сократило количество признаков, и немного ухудьшило качество. Скорость обучения выросла\n",
    "- Наличие stop-words улучшает качество, т.к. убирает не значимые признаки\n",
    "- Масштабирование с помощью tf-idf дает улучшение качества\n",
    "- Разбиение на n-граммы дает улучшение, но к сожалению не оправдалость предположение что двуграммы лучше себя покажут\n",
    "- Лемматизация не сработала, возможно она не работает с английским языком\n",
    "\n",
    "Можно добавить что все улучшения дали прирост в сотые метрики f-меры. То есть по сути дефолтная модель и так работает не плохо.\n",
    "По итогу я бы взяла модель ngram_range, так как она дает оптимальное соотношение FP и FN, FP меньше чем в остальных моделях - на модерацию комментариев уйдет не много времени, а FN в целом тоже немного - пропущенных токсичных комментариев мало. Если исходить из задачи \"не пропустить токсичные комментарии, при этом не сильно нагружать модераторов\" - эта модель лучше всех подойдет."
   ]
  }
 ],
 "metadata": {
  "kernelspec": {
   "display_name": "Python 3 (ipykernel)",
   "language": "python",
   "name": "python3"
  },
  "language_info": {
   "codemirror_mode": {
    "name": "ipython",
    "version": 3
   },
   "file_extension": ".py",
   "mimetype": "text/x-python",
   "name": "python",
   "nbconvert_exporter": "python",
   "pygments_lexer": "ipython3",
   "version": "3.9.7"
  },
  "toc": {
   "base_numbering": 1,
   "nav_menu": {},
   "number_sections": true,
   "sideBar": true,
   "skip_h1_title": true,
   "title_cell": "Содержание",
   "title_sidebar": "Contents",
   "toc_cell": true,
   "toc_position": {
    "height": "calc(100% - 180px)",
    "left": "10px",
    "top": "150px",
    "width": "302.391px"
   },
   "toc_section_display": true,
   "toc_window_display": false
  }
 },
 "nbformat": 4,
 "nbformat_minor": 2
}