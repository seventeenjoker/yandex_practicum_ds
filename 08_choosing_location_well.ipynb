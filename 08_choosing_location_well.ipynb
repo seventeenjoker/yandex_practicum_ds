{
 "cells": [
  {
   "cell_type": "code",
   "execution_count": 68,
   "metadata": {},
   "outputs": [],
   "source": [
    "import pandas as pd\n",
    "import numpy as np\n",
    "import scipy.stats as st\n",
    "\n",
    "from sklearn.linear_model import LinearRegression\n",
    "from sklearn.metrics import mean_squared_error\n",
    "from sklearn.model_selection import train_test_split\n",
    "from sklearn.preprocessing import MinMaxScaler"
   ]
  },
  {
   "cell_type": "markdown",
   "metadata": {},
   "source": [
    "# Выбор локации для скважины"
   ]
  },
  {
   "cell_type": "markdown",
   "metadata": {},
   "source": [
    "Допустим, вы работаете в добывающей компании «ГлавРосГосНефть». Нужно решить, где бурить новую скважину.\n",
    "\n",
    "Вам предоставлены пробы нефти в трёх регионах: в каждом 10 000 месторождений, где измерили качество нефти и объём её запасов. Постройте модель машинного обучения, которая поможет определить регион, где добыча принесёт наибольшую прибыль. Проанализируйте возможную прибыль и риски техникой *Bootstrap.*\n",
    "\n",
    "Шаги для выбора локации:\n",
    "\n",
    "- В избранном регионе ищут месторождения, для каждого определяют значения признаков;\n",
    "- Строят модель и оценивают объём запасов;\n",
    "- Выбирают месторождения с самым высокими оценками значений. Количество месторождений зависит от бюджета компании и стоимости разработки одной скважины;\n",
    "- Прибыль равна суммарной прибыли отобранных месторождений."
   ]
  },
  {
   "cell_type": "markdown",
   "metadata": {},
   "source": [
    "Описание датасетов:\n",
    "\n",
    "- id — уникальный идентификатор скважины;\n",
    "- f0, f1, f2 — три признака точек (неважно, что они означают, но сами признаки значимы);\n",
    "- product — объём запасов в скважине (тыс. баррелей)."
   ]
  },
  {
   "cell_type": "markdown",
   "metadata": {},
   "source": [
    "## Загрузка и подготовка данных"
   ]
  },
  {
   "cell_type": "code",
   "execution_count": 69,
   "metadata": {},
   "outputs": [],
   "source": [
    "df_0 = pd.read_csv('/datasets/geo_data_0.csv')\n",
    "df_1 = pd.read_csv('/datasets/geo_data_1.csv')\n",
    "df_2 = pd.read_csv('/datasets/geo_data_2.csv')"
   ]
  },
  {
   "cell_type": "code",
   "execution_count": 70,
   "metadata": {},
   "outputs": [
    {
     "data": {
      "text/html": [
       "<div>\n",
       "<style scoped>\n",
       "    .dataframe tbody tr th:only-of-type {\n",
       "        vertical-align: middle;\n",
       "    }\n",
       "\n",
       "    .dataframe tbody tr th {\n",
       "        vertical-align: top;\n",
       "    }\n",
       "\n",
       "    .dataframe thead th {\n",
       "        text-align: right;\n",
       "    }\n",
       "</style>\n",
       "<table border=\"1\" class=\"dataframe\">\n",
       "  <thead>\n",
       "    <tr style=\"text-align: right;\">\n",
       "      <th></th>\n",
       "      <th>id</th>\n",
       "      <th>f0</th>\n",
       "      <th>f1</th>\n",
       "      <th>f2</th>\n",
       "      <th>product</th>\n",
       "    </tr>\n",
       "  </thead>\n",
       "  <tbody>\n",
       "    <tr>\n",
       "      <td>0</td>\n",
       "      <td>txEyH</td>\n",
       "      <td>0.705745</td>\n",
       "      <td>-0.497823</td>\n",
       "      <td>1.221170</td>\n",
       "      <td>105.280062</td>\n",
       "    </tr>\n",
       "    <tr>\n",
       "      <td>1</td>\n",
       "      <td>2acmU</td>\n",
       "      <td>1.334711</td>\n",
       "      <td>-0.340164</td>\n",
       "      <td>4.365080</td>\n",
       "      <td>73.037750</td>\n",
       "    </tr>\n",
       "    <tr>\n",
       "      <td>2</td>\n",
       "      <td>409Wp</td>\n",
       "      <td>1.022732</td>\n",
       "      <td>0.151990</td>\n",
       "      <td>1.419926</td>\n",
       "      <td>85.265647</td>\n",
       "    </tr>\n",
       "    <tr>\n",
       "      <td>3</td>\n",
       "      <td>iJLyR</td>\n",
       "      <td>-0.032172</td>\n",
       "      <td>0.139033</td>\n",
       "      <td>2.978566</td>\n",
       "      <td>168.620776</td>\n",
       "    </tr>\n",
       "    <tr>\n",
       "      <td>4</td>\n",
       "      <td>Xdl7t</td>\n",
       "      <td>1.988431</td>\n",
       "      <td>0.155413</td>\n",
       "      <td>4.751769</td>\n",
       "      <td>154.036647</td>\n",
       "    </tr>\n",
       "    <tr>\n",
       "      <td>...</td>\n",
       "      <td>...</td>\n",
       "      <td>...</td>\n",
       "      <td>...</td>\n",
       "      <td>...</td>\n",
       "      <td>...</td>\n",
       "    </tr>\n",
       "    <tr>\n",
       "      <td>99995</td>\n",
       "      <td>DLsed</td>\n",
       "      <td>0.971957</td>\n",
       "      <td>0.370953</td>\n",
       "      <td>6.075346</td>\n",
       "      <td>110.744026</td>\n",
       "    </tr>\n",
       "    <tr>\n",
       "      <td>99996</td>\n",
       "      <td>QKivN</td>\n",
       "      <td>1.392429</td>\n",
       "      <td>-0.382606</td>\n",
       "      <td>1.273912</td>\n",
       "      <td>122.346843</td>\n",
       "    </tr>\n",
       "    <tr>\n",
       "      <td>99997</td>\n",
       "      <td>3rnvd</td>\n",
       "      <td>1.029585</td>\n",
       "      <td>0.018787</td>\n",
       "      <td>-1.348308</td>\n",
       "      <td>64.375443</td>\n",
       "    </tr>\n",
       "    <tr>\n",
       "      <td>99998</td>\n",
       "      <td>7kl59</td>\n",
       "      <td>0.998163</td>\n",
       "      <td>-0.528582</td>\n",
       "      <td>1.583869</td>\n",
       "      <td>74.040764</td>\n",
       "    </tr>\n",
       "    <tr>\n",
       "      <td>99999</td>\n",
       "      <td>1CWhH</td>\n",
       "      <td>1.764754</td>\n",
       "      <td>-0.266417</td>\n",
       "      <td>5.722849</td>\n",
       "      <td>149.633246</td>\n",
       "    </tr>\n",
       "  </tbody>\n",
       "</table>\n",
       "<p>100000 rows × 5 columns</p>\n",
       "</div>"
      ],
      "text/plain": [
       "          id        f0        f1        f2     product\n",
       "0      txEyH  0.705745 -0.497823  1.221170  105.280062\n",
       "1      2acmU  1.334711 -0.340164  4.365080   73.037750\n",
       "2      409Wp  1.022732  0.151990  1.419926   85.265647\n",
       "3      iJLyR -0.032172  0.139033  2.978566  168.620776\n",
       "4      Xdl7t  1.988431  0.155413  4.751769  154.036647\n",
       "...      ...       ...       ...       ...         ...\n",
       "99995  DLsed  0.971957  0.370953  6.075346  110.744026\n",
       "99996  QKivN  1.392429 -0.382606  1.273912  122.346843\n",
       "99997  3rnvd  1.029585  0.018787 -1.348308   64.375443\n",
       "99998  7kl59  0.998163 -0.528582  1.583869   74.040764\n",
       "99999  1CWhH  1.764754 -0.266417  5.722849  149.633246\n",
       "\n",
       "[100000 rows x 5 columns]"
      ]
     },
     "execution_count": 70,
     "metadata": {},
     "output_type": "execute_result"
    }
   ],
   "source": [
    "df_0"
   ]
  },
  {
   "cell_type": "code",
   "execution_count": 71,
   "metadata": {
    "scrolled": true
   },
   "outputs": [
    {
     "data": {
      "text/html": [
       "<div>\n",
       "<style scoped>\n",
       "    .dataframe tbody tr th:only-of-type {\n",
       "        vertical-align: middle;\n",
       "    }\n",
       "\n",
       "    .dataframe tbody tr th {\n",
       "        vertical-align: top;\n",
       "    }\n",
       "\n",
       "    .dataframe thead th {\n",
       "        text-align: right;\n",
       "    }\n",
       "</style>\n",
       "<table border=\"1\" class=\"dataframe\">\n",
       "  <thead>\n",
       "    <tr style=\"text-align: right;\">\n",
       "      <th></th>\n",
       "      <th>id</th>\n",
       "      <th>f0</th>\n",
       "      <th>f1</th>\n",
       "      <th>f2</th>\n",
       "      <th>product</th>\n",
       "    </tr>\n",
       "  </thead>\n",
       "  <tbody>\n",
       "    <tr>\n",
       "      <td>0</td>\n",
       "      <td>kBEdx</td>\n",
       "      <td>-15.001348</td>\n",
       "      <td>-8.276000</td>\n",
       "      <td>-0.005876</td>\n",
       "      <td>3.179103</td>\n",
       "    </tr>\n",
       "    <tr>\n",
       "      <td>1</td>\n",
       "      <td>62mP7</td>\n",
       "      <td>14.272088</td>\n",
       "      <td>-3.475083</td>\n",
       "      <td>0.999183</td>\n",
       "      <td>26.953261</td>\n",
       "    </tr>\n",
       "    <tr>\n",
       "      <td>2</td>\n",
       "      <td>vyE1P</td>\n",
       "      <td>6.263187</td>\n",
       "      <td>-5.948386</td>\n",
       "      <td>5.001160</td>\n",
       "      <td>134.766305</td>\n",
       "    </tr>\n",
       "    <tr>\n",
       "      <td>3</td>\n",
       "      <td>KcrkZ</td>\n",
       "      <td>-13.081196</td>\n",
       "      <td>-11.506057</td>\n",
       "      <td>4.999415</td>\n",
       "      <td>137.945408</td>\n",
       "    </tr>\n",
       "    <tr>\n",
       "      <td>4</td>\n",
       "      <td>AHL4O</td>\n",
       "      <td>12.702195</td>\n",
       "      <td>-8.147433</td>\n",
       "      <td>5.004363</td>\n",
       "      <td>134.766305</td>\n",
       "    </tr>\n",
       "    <tr>\n",
       "      <td>...</td>\n",
       "      <td>...</td>\n",
       "      <td>...</td>\n",
       "      <td>...</td>\n",
       "      <td>...</td>\n",
       "      <td>...</td>\n",
       "    </tr>\n",
       "    <tr>\n",
       "      <td>99995</td>\n",
       "      <td>QywKC</td>\n",
       "      <td>9.535637</td>\n",
       "      <td>-6.878139</td>\n",
       "      <td>1.998296</td>\n",
       "      <td>53.906522</td>\n",
       "    </tr>\n",
       "    <tr>\n",
       "      <td>99996</td>\n",
       "      <td>ptvty</td>\n",
       "      <td>-10.160631</td>\n",
       "      <td>-12.558096</td>\n",
       "      <td>5.005581</td>\n",
       "      <td>137.945408</td>\n",
       "    </tr>\n",
       "    <tr>\n",
       "      <td>99997</td>\n",
       "      <td>09gWa</td>\n",
       "      <td>-7.378891</td>\n",
       "      <td>-3.084104</td>\n",
       "      <td>4.998651</td>\n",
       "      <td>137.945408</td>\n",
       "    </tr>\n",
       "    <tr>\n",
       "      <td>99998</td>\n",
       "      <td>rqwUm</td>\n",
       "      <td>0.665714</td>\n",
       "      <td>-6.152593</td>\n",
       "      <td>1.000146</td>\n",
       "      <td>30.132364</td>\n",
       "    </tr>\n",
       "    <tr>\n",
       "      <td>99999</td>\n",
       "      <td>relB0</td>\n",
       "      <td>-3.426139</td>\n",
       "      <td>-7.794274</td>\n",
       "      <td>-0.003299</td>\n",
       "      <td>3.179103</td>\n",
       "    </tr>\n",
       "  </tbody>\n",
       "</table>\n",
       "<p>100000 rows × 5 columns</p>\n",
       "</div>"
      ],
      "text/plain": [
       "          id         f0         f1        f2     product\n",
       "0      kBEdx -15.001348  -8.276000 -0.005876    3.179103\n",
       "1      62mP7  14.272088  -3.475083  0.999183   26.953261\n",
       "2      vyE1P   6.263187  -5.948386  5.001160  134.766305\n",
       "3      KcrkZ -13.081196 -11.506057  4.999415  137.945408\n",
       "4      AHL4O  12.702195  -8.147433  5.004363  134.766305\n",
       "...      ...        ...        ...       ...         ...\n",
       "99995  QywKC   9.535637  -6.878139  1.998296   53.906522\n",
       "99996  ptvty -10.160631 -12.558096  5.005581  137.945408\n",
       "99997  09gWa  -7.378891  -3.084104  4.998651  137.945408\n",
       "99998  rqwUm   0.665714  -6.152593  1.000146   30.132364\n",
       "99999  relB0  -3.426139  -7.794274 -0.003299    3.179103\n",
       "\n",
       "[100000 rows x 5 columns]"
      ]
     },
     "execution_count": 71,
     "metadata": {},
     "output_type": "execute_result"
    }
   ],
   "source": [
    "df_1"
   ]
  },
  {
   "cell_type": "code",
   "execution_count": 72,
   "metadata": {
    "scrolled": true
   },
   "outputs": [
    {
     "data": {
      "text/html": [
       "<div>\n",
       "<style scoped>\n",
       "    .dataframe tbody tr th:only-of-type {\n",
       "        vertical-align: middle;\n",
       "    }\n",
       "\n",
       "    .dataframe tbody tr th {\n",
       "        vertical-align: top;\n",
       "    }\n",
       "\n",
       "    .dataframe thead th {\n",
       "        text-align: right;\n",
       "    }\n",
       "</style>\n",
       "<table border=\"1\" class=\"dataframe\">\n",
       "  <thead>\n",
       "    <tr style=\"text-align: right;\">\n",
       "      <th></th>\n",
       "      <th>id</th>\n",
       "      <th>f0</th>\n",
       "      <th>f1</th>\n",
       "      <th>f2</th>\n",
       "      <th>product</th>\n",
       "    </tr>\n",
       "  </thead>\n",
       "  <tbody>\n",
       "    <tr>\n",
       "      <td>0</td>\n",
       "      <td>fwXo0</td>\n",
       "      <td>-1.146987</td>\n",
       "      <td>0.963328</td>\n",
       "      <td>-0.828965</td>\n",
       "      <td>27.758673</td>\n",
       "    </tr>\n",
       "    <tr>\n",
       "      <td>1</td>\n",
       "      <td>WJtFt</td>\n",
       "      <td>0.262778</td>\n",
       "      <td>0.269839</td>\n",
       "      <td>-2.530187</td>\n",
       "      <td>56.069697</td>\n",
       "    </tr>\n",
       "    <tr>\n",
       "      <td>2</td>\n",
       "      <td>ovLUW</td>\n",
       "      <td>0.194587</td>\n",
       "      <td>0.289035</td>\n",
       "      <td>-5.586433</td>\n",
       "      <td>62.871910</td>\n",
       "    </tr>\n",
       "    <tr>\n",
       "      <td>3</td>\n",
       "      <td>q6cA6</td>\n",
       "      <td>2.236060</td>\n",
       "      <td>-0.553760</td>\n",
       "      <td>0.930038</td>\n",
       "      <td>114.572842</td>\n",
       "    </tr>\n",
       "    <tr>\n",
       "      <td>4</td>\n",
       "      <td>WPMUX</td>\n",
       "      <td>-0.515993</td>\n",
       "      <td>1.716266</td>\n",
       "      <td>5.899011</td>\n",
       "      <td>149.600746</td>\n",
       "    </tr>\n",
       "    <tr>\n",
       "      <td>...</td>\n",
       "      <td>...</td>\n",
       "      <td>...</td>\n",
       "      <td>...</td>\n",
       "      <td>...</td>\n",
       "      <td>...</td>\n",
       "    </tr>\n",
       "    <tr>\n",
       "      <td>99995</td>\n",
       "      <td>4GxBu</td>\n",
       "      <td>-1.777037</td>\n",
       "      <td>1.125220</td>\n",
       "      <td>6.263374</td>\n",
       "      <td>172.327046</td>\n",
       "    </tr>\n",
       "    <tr>\n",
       "      <td>99996</td>\n",
       "      <td>YKFjq</td>\n",
       "      <td>-1.261523</td>\n",
       "      <td>-0.894828</td>\n",
       "      <td>2.524545</td>\n",
       "      <td>138.748846</td>\n",
       "    </tr>\n",
       "    <tr>\n",
       "      <td>99997</td>\n",
       "      <td>tKPY3</td>\n",
       "      <td>-1.199934</td>\n",
       "      <td>-2.957637</td>\n",
       "      <td>5.219411</td>\n",
       "      <td>157.080080</td>\n",
       "    </tr>\n",
       "    <tr>\n",
       "      <td>99998</td>\n",
       "      <td>nmxp2</td>\n",
       "      <td>-2.419896</td>\n",
       "      <td>2.417221</td>\n",
       "      <td>-5.548444</td>\n",
       "      <td>51.795253</td>\n",
       "    </tr>\n",
       "    <tr>\n",
       "      <td>99999</td>\n",
       "      <td>V9kWn</td>\n",
       "      <td>-2.551421</td>\n",
       "      <td>-2.025625</td>\n",
       "      <td>6.090891</td>\n",
       "      <td>102.775767</td>\n",
       "    </tr>\n",
       "  </tbody>\n",
       "</table>\n",
       "<p>100000 rows × 5 columns</p>\n",
       "</div>"
      ],
      "text/plain": [
       "          id        f0        f1        f2     product\n",
       "0      fwXo0 -1.146987  0.963328 -0.828965   27.758673\n",
       "1      WJtFt  0.262778  0.269839 -2.530187   56.069697\n",
       "2      ovLUW  0.194587  0.289035 -5.586433   62.871910\n",
       "3      q6cA6  2.236060 -0.553760  0.930038  114.572842\n",
       "4      WPMUX -0.515993  1.716266  5.899011  149.600746\n",
       "...      ...       ...       ...       ...         ...\n",
       "99995  4GxBu -1.777037  1.125220  6.263374  172.327046\n",
       "99996  YKFjq -1.261523 -0.894828  2.524545  138.748846\n",
       "99997  tKPY3 -1.199934 -2.957637  5.219411  157.080080\n",
       "99998  nmxp2 -2.419896  2.417221 -5.548444   51.795253\n",
       "99999  V9kWn -2.551421 -2.025625  6.090891  102.775767\n",
       "\n",
       "[100000 rows x 5 columns]"
      ]
     },
     "execution_count": 72,
     "metadata": {},
     "output_type": "execute_result"
    }
   ],
   "source": [
    "df_2"
   ]
  },
  {
   "cell_type": "markdown",
   "metadata": {},
   "source": [
    "У нас есть датасеты с данными по 3 регионам, в каждом есть фичи: f0, f1, f2. product - наш таргет. id - неважный параметр, он не влияет на данные. Удалим его."
   ]
  },
  {
   "cell_type": "code",
   "execution_count": 73,
   "metadata": {},
   "outputs": [],
   "source": [
    "df_0 = df_0.drop('id', axis=1)\n",
    "df_1 = df_1.drop('id', axis=1)\n",
    "df_2 = df_2.drop('id', axis=1)"
   ]
  },
  {
   "cell_type": "code",
   "execution_count": 74,
   "metadata": {
    "scrolled": true
   },
   "outputs": [
    {
     "data": {
      "text/html": [
       "<div>\n",
       "<style scoped>\n",
       "    .dataframe tbody tr th:only-of-type {\n",
       "        vertical-align: middle;\n",
       "    }\n",
       "\n",
       "    .dataframe tbody tr th {\n",
       "        vertical-align: top;\n",
       "    }\n",
       "\n",
       "    .dataframe thead th {\n",
       "        text-align: right;\n",
       "    }\n",
       "</style>\n",
       "<table border=\"1\" class=\"dataframe\">\n",
       "  <thead>\n",
       "    <tr style=\"text-align: right;\">\n",
       "      <th></th>\n",
       "      <th>f0</th>\n",
       "      <th>f1</th>\n",
       "      <th>f2</th>\n",
       "      <th>product</th>\n",
       "    </tr>\n",
       "  </thead>\n",
       "  <tbody>\n",
       "    <tr>\n",
       "      <td>24232</td>\n",
       "      <td>-1.063985</td>\n",
       "      <td>0.740587</td>\n",
       "      <td>10.281953</td>\n",
       "      <td>138.679522</td>\n",
       "    </tr>\n",
       "  </tbody>\n",
       "</table>\n",
       "</div>"
      ],
      "text/plain": [
       "             f0        f1         f2     product\n",
       "24232 -1.063985  0.740587  10.281953  138.679522"
      ]
     },
     "execution_count": 74,
     "metadata": {},
     "output_type": "execute_result"
    }
   ],
   "source": [
    "df_2.sample(1)"
   ]
  },
  {
   "cell_type": "markdown",
   "metadata": {},
   "source": [
    "Для наглядности, хоть мы и не знаем что у нас значат фичи можно посмотреть их линейную корреляцию, в т.ч. с целевым признаком:"
   ]
  },
  {
   "cell_type": "code",
   "execution_count": 75,
   "metadata": {},
   "outputs": [
    {
     "data": {
      "text/html": [
       "<div>\n",
       "<style scoped>\n",
       "    .dataframe tbody tr th:only-of-type {\n",
       "        vertical-align: middle;\n",
       "    }\n",
       "\n",
       "    .dataframe tbody tr th {\n",
       "        vertical-align: top;\n",
       "    }\n",
       "\n",
       "    .dataframe thead th {\n",
       "        text-align: right;\n",
       "    }\n",
       "</style>\n",
       "<table border=\"1\" class=\"dataframe\">\n",
       "  <thead>\n",
       "    <tr style=\"text-align: right;\">\n",
       "      <th></th>\n",
       "      <th>f0</th>\n",
       "      <th>f1</th>\n",
       "      <th>f2</th>\n",
       "      <th>product</th>\n",
       "    </tr>\n",
       "  </thead>\n",
       "  <tbody>\n",
       "    <tr>\n",
       "      <td>f0</td>\n",
       "      <td>1.000000</td>\n",
       "      <td>-0.440723</td>\n",
       "      <td>-0.003153</td>\n",
       "      <td>0.143536</td>\n",
       "    </tr>\n",
       "    <tr>\n",
       "      <td>f1</td>\n",
       "      <td>-0.440723</td>\n",
       "      <td>1.000000</td>\n",
       "      <td>0.001724</td>\n",
       "      <td>-0.192356</td>\n",
       "    </tr>\n",
       "    <tr>\n",
       "      <td>f2</td>\n",
       "      <td>-0.003153</td>\n",
       "      <td>0.001724</td>\n",
       "      <td>1.000000</td>\n",
       "      <td>0.483663</td>\n",
       "    </tr>\n",
       "    <tr>\n",
       "      <td>product</td>\n",
       "      <td>0.143536</td>\n",
       "      <td>-0.192356</td>\n",
       "      <td>0.483663</td>\n",
       "      <td>1.000000</td>\n",
       "    </tr>\n",
       "  </tbody>\n",
       "</table>\n",
       "</div>"
      ],
      "text/plain": [
       "               f0        f1        f2   product\n",
       "f0       1.000000 -0.440723 -0.003153  0.143536\n",
       "f1      -0.440723  1.000000  0.001724 -0.192356\n",
       "f2      -0.003153  0.001724  1.000000  0.483663\n",
       "product  0.143536 -0.192356  0.483663  1.000000"
      ]
     },
     "execution_count": 75,
     "metadata": {},
     "output_type": "execute_result"
    }
   ],
   "source": [
    "df_0.corr()"
   ]
  },
  {
   "cell_type": "code",
   "execution_count": 76,
   "metadata": {},
   "outputs": [
    {
     "data": {
      "text/html": [
       "<div>\n",
       "<style scoped>\n",
       "    .dataframe tbody tr th:only-of-type {\n",
       "        vertical-align: middle;\n",
       "    }\n",
       "\n",
       "    .dataframe tbody tr th {\n",
       "        vertical-align: top;\n",
       "    }\n",
       "\n",
       "    .dataframe thead th {\n",
       "        text-align: right;\n",
       "    }\n",
       "</style>\n",
       "<table border=\"1\" class=\"dataframe\">\n",
       "  <thead>\n",
       "    <tr style=\"text-align: right;\">\n",
       "      <th></th>\n",
       "      <th>f0</th>\n",
       "      <th>f1</th>\n",
       "      <th>f2</th>\n",
       "      <th>product</th>\n",
       "    </tr>\n",
       "  </thead>\n",
       "  <tbody>\n",
       "    <tr>\n",
       "      <td>f0</td>\n",
       "      <td>1.000000</td>\n",
       "      <td>0.182287</td>\n",
       "      <td>-0.001777</td>\n",
       "      <td>-0.030491</td>\n",
       "    </tr>\n",
       "    <tr>\n",
       "      <td>f1</td>\n",
       "      <td>0.182287</td>\n",
       "      <td>1.000000</td>\n",
       "      <td>-0.002595</td>\n",
       "      <td>-0.010155</td>\n",
       "    </tr>\n",
       "    <tr>\n",
       "      <td>f2</td>\n",
       "      <td>-0.001777</td>\n",
       "      <td>-0.002595</td>\n",
       "      <td>1.000000</td>\n",
       "      <td>0.999397</td>\n",
       "    </tr>\n",
       "    <tr>\n",
       "      <td>product</td>\n",
       "      <td>-0.030491</td>\n",
       "      <td>-0.010155</td>\n",
       "      <td>0.999397</td>\n",
       "      <td>1.000000</td>\n",
       "    </tr>\n",
       "  </tbody>\n",
       "</table>\n",
       "</div>"
      ],
      "text/plain": [
       "               f0        f1        f2   product\n",
       "f0       1.000000  0.182287 -0.001777 -0.030491\n",
       "f1       0.182287  1.000000 -0.002595 -0.010155\n",
       "f2      -0.001777 -0.002595  1.000000  0.999397\n",
       "product -0.030491 -0.010155  0.999397  1.000000"
      ]
     },
     "execution_count": 76,
     "metadata": {},
     "output_type": "execute_result"
    }
   ],
   "source": [
    "df_1.corr()"
   ]
  },
  {
   "cell_type": "code",
   "execution_count": 77,
   "metadata": {
    "scrolled": true
   },
   "outputs": [
    {
     "data": {
      "text/html": [
       "<div>\n",
       "<style scoped>\n",
       "    .dataframe tbody tr th:only-of-type {\n",
       "        vertical-align: middle;\n",
       "    }\n",
       "\n",
       "    .dataframe tbody tr th {\n",
       "        vertical-align: top;\n",
       "    }\n",
       "\n",
       "    .dataframe thead th {\n",
       "        text-align: right;\n",
       "    }\n",
       "</style>\n",
       "<table border=\"1\" class=\"dataframe\">\n",
       "  <thead>\n",
       "    <tr style=\"text-align: right;\">\n",
       "      <th></th>\n",
       "      <th>f0</th>\n",
       "      <th>f1</th>\n",
       "      <th>f2</th>\n",
       "      <th>product</th>\n",
       "    </tr>\n",
       "  </thead>\n",
       "  <tbody>\n",
       "    <tr>\n",
       "      <td>f0</td>\n",
       "      <td>1.000000</td>\n",
       "      <td>0.000528</td>\n",
       "      <td>-0.000448</td>\n",
       "      <td>-0.001987</td>\n",
       "    </tr>\n",
       "    <tr>\n",
       "      <td>f1</td>\n",
       "      <td>0.000528</td>\n",
       "      <td>1.000000</td>\n",
       "      <td>0.000779</td>\n",
       "      <td>-0.001012</td>\n",
       "    </tr>\n",
       "    <tr>\n",
       "      <td>f2</td>\n",
       "      <td>-0.000448</td>\n",
       "      <td>0.000779</td>\n",
       "      <td>1.000000</td>\n",
       "      <td>0.445871</td>\n",
       "    </tr>\n",
       "    <tr>\n",
       "      <td>product</td>\n",
       "      <td>-0.001987</td>\n",
       "      <td>-0.001012</td>\n",
       "      <td>0.445871</td>\n",
       "      <td>1.000000</td>\n",
       "    </tr>\n",
       "  </tbody>\n",
       "</table>\n",
       "</div>"
      ],
      "text/plain": [
       "               f0        f1        f2   product\n",
       "f0       1.000000  0.000528 -0.000448 -0.001987\n",
       "f1       0.000528  1.000000  0.000779 -0.001012\n",
       "f2      -0.000448  0.000779  1.000000  0.445871\n",
       "product -0.001987 -0.001012  0.445871  1.000000"
      ]
     },
     "execution_count": 77,
     "metadata": {},
     "output_type": "execute_result"
    }
   ],
   "source": [
    "df_2.corr()"
   ]
  },
  {
   "cell_type": "markdown",
   "metadata": {},
   "source": [
    "Мы видим, что во всех трех регионах f2 имеет корреляцию, в случае со вторым регионом корреляция достаточно высокая"
   ]
  },
  {
   "cell_type": "markdown",
   "metadata": {},
   "source": [
    "## Обучение и проверка модели"
   ]
  },
  {
   "cell_type": "code",
   "execution_count": 78,
   "metadata": {},
   "outputs": [],
   "source": [
    "def linear_regression(df):\n",
    "    # разбиение на таргет и фичи\n",
    "    features = df.drop([\"product\"], axis=1)\n",
    "    target = df[\"product\"]\n",
    "    \n",
    "    # разделение на тренировочные и валидационные выборки\n",
    "    features_train, features_valid, target_train, target_valid = train_test_split(\n",
    "        features, \n",
    "        target, \n",
    "        test_size=0.25, \n",
    "        random_state=13,\n",
    "    )\n",
    "    \n",
    "    # создаем объект MinMaxScaler для масштабирования признаков, по дефолту диапазон default=(0, 1)\n",
    "    scaler = MinMaxScaler()\n",
    "    features_train = scaler.fit_transform(features_train)\n",
    "    features_valid = scaler.transform(features_valid)\n",
    "    \n",
    "    # создадим модель\n",
    "    model = LinearRegression()\n",
    "    \n",
    "    # обучим на тренировочных данных\n",
    "    model.fit(features_train, target_train)\n",
    "    \n",
    "    # применим обученную модель на валидационных данных\n",
    "    predictions = model.predict(features_valid)\n",
    "    predictions = pd.Series(predictions)\n",
    "    \n",
    "    # посчитаем rmse - корень из среднеквадратичной ошибки\n",
    "    rmse = (mean_squared_error(predictions, target_valid))**0.5\n",
    "    # из доки - https://scikit-learn.org/stable/modules/generated/sklearn.metrics.mean_squared_error.html\n",
    "    # squaredbool, default=True\n",
    "    # If True returns MSE value, if False returns RMSE value.\n",
    "\n",
    "    # average_product = sum(predictions) / len(predictions)\n",
    "    average_product = predictions.mean()\n",
    "    \n",
    "    print(f\"RMSE: {rmse:.2f}\")\n",
    "    print(f\"Среднее для product: {average_product:.2f}\")\n",
    "    \n",
    "    return (predictions, target_valid.reset_index(drop=True), rmse)"
   ]
  },
  {
   "cell_type": "markdown",
   "metadata": {},
   "source": [
    "Для каждого региона посчитаем модель"
   ]
  },
  {
   "cell_type": "code",
   "execution_count": 79,
   "metadata": {},
   "outputs": [
    {
     "name": "stdout",
     "output_type": "stream",
     "text": [
      "RMSE: 37.69\n",
      "Среднее для product: 92.59\n"
     ]
    }
   ],
   "source": [
    "predictions_0, target_valid_0, rmse_0 = linear_regression(df_0)"
   ]
  },
  {
   "cell_type": "code",
   "execution_count": 80,
   "metadata": {},
   "outputs": [
    {
     "name": "stdout",
     "output_type": "stream",
     "text": [
      "RMSE: 0.89\n",
      "Среднее для product: 69.03\n"
     ]
    }
   ],
   "source": [
    "predictions_1, target_valid_1, rmse_1 = linear_regression(df_1)"
   ]
  },
  {
   "cell_type": "code",
   "execution_count": 81,
   "metadata": {
    "scrolled": true
   },
   "outputs": [
    {
     "name": "stdout",
     "output_type": "stream",
     "text": [
      "RMSE: 40.02\n",
      "Среднее для product: 94.96\n"
     ]
    }
   ],
   "source": [
    "predictions_2, target_valid_2, rmse_2 = linear_regression(df_2)"
   ]
  },
  {
   "cell_type": "markdown",
   "metadata": {},
   "source": [
    "- **RMSE** - квадратный корень в среднем квадратном различии между оценкой и фактическим значением переменной/функции. \n",
    "- В нашем случае это число, которое показывает на сколько в среднем отличается наше предсказание от фактического.\n",
    "- Мы видим большую ошибку для 1 и 3 регионов и весьма маленькую для 2."
   ]
  },
  {
   "cell_type": "markdown",
   "metadata": {},
   "source": [
    "## Подготовка к расчёту прибыли"
   ]
  },
  {
   "cell_type": "code",
   "execution_count": 82,
   "metadata": {},
   "outputs": [],
   "source": [
    "# Бюджет на разработку скважин в регионе — 10 млрд рублей\n",
    "budget = 10_000_000_000\n",
    "# Доход с каждой единицы продукта составляет 450 тыс. рублей, поскольку объём указан в тысячах баррелей.\n",
    "one_barr_income = 450000\n",
    "# При разведке региона исследуют 500 точек, из которых с помощью машинного обучения выбирают 200 лучших для разработки.\n",
    "points = 500\n",
    "best_points = 200\n",
    "# После оценки рисков нужно оставить лишь те регионы, в которых вероятность убытков меньше 2.5%. \n",
    "# Среди них выбирают регион с наибольшей средней прибылью.\n",
    "risk = 0.025"
   ]
  },
  {
   "cell_type": "code",
   "execution_count": 83,
   "metadata": {},
   "outputs": [
    {
     "name": "stdout",
     "output_type": "stream",
     "text": [
      "Порог, выше которого наша деятельность по разработке месторождения окупится: 111.11 тыс. баррелей\n"
     ]
    }
   ],
   "source": [
    "payback_threshold = round(budget/(best_points*one_barr_income), 2)\n",
    "print(f\"Порог, выше которого наша деятельность по разработке месторождения окупится: {payback_threshold} тыс. баррелей\")"
   ]
  },
  {
   "cell_type": "markdown",
   "metadata": {},
   "source": [
    "## Расчёт прибыли и рисков "
   ]
  },
  {
   "cell_type": "code",
   "execution_count": 84,
   "metadata": {},
   "outputs": [],
   "source": [
    "state = np.random.RandomState(13)"
   ]
  },
  {
   "cell_type": "markdown",
   "metadata": {},
   "source": [
    "Подготовим функцию подсчета профита"
   ]
  },
  {
   "cell_type": "code",
   "execution_count": 85,
   "metadata": {},
   "outputs": [],
   "source": [
    "def prof(predictions, target):\n",
    "    # считаем профит, сортируем предсказания по убыванию\n",
    "    top_preds = predictions.sort_values(ascending=False)\n",
    "    # берем первые 200(по условию задачи)\n",
    "    top_target = target[top_preds.index][:200]\n",
    "    # вычисляем предполагаемый доход с топ200 месторождений\n",
    "    revenue = top_target.sum() * one_barr_income\n",
    "    # возвращаем разницу как предполагаемый доход за вычетом вложенного бюджета\n",
    "    return revenue - budget"
   ]
  },
  {
   "cell_type": "markdown",
   "metadata": {},
   "source": [
    "Напишем функцию с применением техники бутстрапа, когда мы 1000 раз разделим одну и ту же выборку случайным образом, возьмем таким образом наши предсказания и посчитаем профит по формуле выше. "
   ]
  },
  {
   "cell_type": "code",
   "execution_count": 86,
   "metadata": {},
   "outputs": [],
   "source": [
    "def get_confidence_interval_risks(predictions, target):\n",
    "    revenue = []\n",
    "    for _ in range(1000):\n",
    "        target_sample = target.sample(500, replace=True, random_state=state)\n",
    "        predictions_sample = predictions[target_sample.index]\n",
    "        revenue.append(prof(predictions_sample, target_sample))\n",
    "        \n",
    "    lower = int(np.percentile(revenue, 2.5))\n",
    "    higher = int(np.percentile(revenue, 97.5))\n",
    "    mean_revenue = int(sum(revenue) / len(revenue))\n",
    "    risk = st.percentileofscore(revenue, 0)\n",
    "\n",
    "    print(f\"Средняя выручка {mean_revenue} млн. руб\")\n",
    "    print(f\"Доверительный интервал '{round(lower, 2)}' - '{round(higher, 2)}' млн. руб\")\n",
    "    print(f\"Выборочное стандартное отклонение прибыли {round(pd.Series(revenue).sem(), 1)} млн. руб\")\n",
    "    print(f\"Риск потерь {risk}\")\n",
    "    return ((lower, higher), mean_revenue, risk)"
   ]
  },
  {
   "cell_type": "markdown",
   "metadata": {},
   "source": [
    "Для первого региона:"
   ]
  },
  {
   "cell_type": "code",
   "execution_count": 87,
   "metadata": {
    "scrolled": false
   },
   "outputs": [
    {
     "name": "stdout",
     "output_type": "stream",
     "text": [
      "Средняя выручка 473071601 млн. руб\n",
      "Доверительный интервал '-59395811' - '985562309' млн. руб\n",
      "Выборочное стандартное отклонение прибыли 8822446.5 млн. руб\n",
      "Риск потерь 4.8\n"
     ]
    }
   ],
   "source": [
    "interval, mean_revenue, risk = get_confidence_interval_risks(predictions_0, target_valid_0)"
   ]
  },
  {
   "cell_type": "markdown",
   "metadata": {},
   "source": [
    "Для второго региона:"
   ]
  },
  {
   "cell_type": "code",
   "execution_count": 88,
   "metadata": {},
   "outputs": [
    {
     "name": "stdout",
     "output_type": "stream",
     "text": [
      "Средняя выручка 523433711 млн. руб\n",
      "Доверительный интервал '115994263' - '945261099' млн. руб\n",
      "Выборочное стандартное отклонение прибыли 6787444.3 млн. руб\n",
      "Риск потерь 0.7\n"
     ]
    }
   ],
   "source": [
    "interval, mean_revenue, risk = get_confidence_interval_risks(predictions_1, target_valid_1)"
   ]
  },
  {
   "cell_type": "markdown",
   "metadata": {},
   "source": [
    "Для третьего региона:"
   ]
  },
  {
   "cell_type": "code",
   "execution_count": 89,
   "metadata": {
    "scrolled": true
   },
   "outputs": [
    {
     "name": "stdout",
     "output_type": "stream",
     "text": [
      "Средняя выручка 398861704 млн. руб\n",
      "Доверительный интервал '-143217017' - '936244185' млн. руб\n",
      "Выборочное стандартное отклонение прибыли 8784360.9 млн. руб\n",
      "Риск потерь 8.5\n"
     ]
    }
   ],
   "source": [
    "interval, mean_revenue, risk = get_confidence_interval_risks(predictions_2, target_valid_2)"
   ]
  },
  {
   "cell_type": "markdown",
   "metadata": {
    "pycharm": {
     "name": "#%% md\n"
    }
   },
   "source": [
    "Вывод:\n",
    "- Провели визуальную оценку датасета, обратили внимание на корреляцию фичей.\n",
    "- Построили линейную модель, для предсказания объемов нефти в скважинах для трех регионов.\n",
    "- Провели процедуру bootstrap и нашли 95% доверительный интервал.\n",
    "- По результату видим что во втором регионе доверительный интервал у нас не имеет отрицательных значений.\n",
    "- Потернциально нам интересно будет вести разработку в регионе 2, так как потенциальные риски почти равны нулю."
   ]
  }
 ],
 "metadata": {
  "ExecuteTimeLog": [
   {
    "duration": 892,
    "start_time": "2022-01-17T09:20:03.632Z"
   },
   {
    "duration": 997,
    "start_time": "2022-01-17T09:20:35.117Z"
   },
   {
    "duration": 31,
    "start_time": "2022-01-17T09:20:42.544Z"
   },
   {
    "duration": 17,
    "start_time": "2022-01-17T09:20:56.598Z"
   },
   {
    "duration": 23,
    "start_time": "2022-01-17T09:21:04.179Z"
   },
   {
    "duration": 568,
    "start_time": "2022-01-18T11:55:36.546Z"
   },
   {
    "duration": 422,
    "start_time": "2022-01-18T11:55:41.596Z"
   },
   {
    "duration": 19,
    "start_time": "2022-01-18T11:55:42.161Z"
   },
   {
    "duration": 12,
    "start_time": "2022-01-18T11:55:42.600Z"
   },
   {
    "duration": 13,
    "start_time": "2022-01-18T11:55:43.272Z"
   },
   {
    "duration": 342,
    "start_time": "2022-01-21T09:36:19.900Z"
   },
   {
    "duration": 619,
    "start_time": "2022-01-21T09:36:25.073Z"
   },
   {
    "duration": 900,
    "start_time": "2022-01-21T09:36:25.694Z"
   },
   {
    "duration": 17,
    "start_time": "2022-01-21T09:36:26.596Z"
   },
   {
    "duration": 23,
    "start_time": "2022-01-21T09:36:26.615Z"
   },
   {
    "duration": 40,
    "start_time": "2022-01-21T09:36:26.639Z"
   },
   {
    "duration": 572,
    "start_time": "2022-01-21T09:36:29.893Z"
   },
   {
    "duration": 300,
    "start_time": "2022-01-21T09:39:12.641Z"
   },
   {
    "duration": 2,
    "start_time": "2022-01-21T09:39:24.434Z"
   },
   {
    "duration": 389,
    "start_time": "2022-01-21T09:39:24.438Z"
   },
   {
    "duration": 13,
    "start_time": "2022-01-21T09:39:24.829Z"
   },
   {
    "duration": 27,
    "start_time": "2022-01-21T09:39:24.845Z"
   },
   {
    "duration": 25,
    "start_time": "2022-01-21T09:39:24.873Z"
   },
   {
    "duration": 241,
    "start_time": "2022-01-21T09:39:27.290Z"
   },
   {
    "duration": 3,
    "start_time": "2022-01-21T09:39:40.766Z"
   },
   {
    "duration": 380,
    "start_time": "2022-01-21T09:39:40.770Z"
   },
   {
    "duration": 10,
    "start_time": "2022-01-21T09:39:41.152Z"
   },
   {
    "duration": 14,
    "start_time": "2022-01-21T09:39:41.163Z"
   },
   {
    "duration": 16,
    "start_time": "2022-01-21T09:39:41.179Z"
   },
   {
    "duration": 10,
    "start_time": "2022-01-21T09:39:43.384Z"
   },
   {
    "duration": 10,
    "start_time": "2022-01-21T09:39:48.354Z"
   },
   {
    "duration": 10,
    "start_time": "2022-01-21T09:39:56.050Z"
   },
   {
    "duration": 10,
    "start_time": "2022-01-21T09:40:00.823Z"
   },
   {
    "duration": 10,
    "start_time": "2022-01-21T09:40:05.650Z"
   },
   {
    "duration": 11,
    "start_time": "2022-01-21T11:49:15.928Z"
   },
   {
    "duration": 12,
    "start_time": "2022-01-21T11:49:32.013Z"
   },
   {
    "duration": 12,
    "start_time": "2022-01-21T11:49:37.562Z"
   },
   {
    "duration": 441,
    "start_time": "2022-01-21T12:38:54.124Z"
   },
   {
    "duration": 5,
    "start_time": "2022-01-21T13:08:14.705Z"
   },
   {
    "duration": 517,
    "start_time": "2022-01-21T13:08:55.932Z"
   },
   {
    "duration": 5,
    "start_time": "2022-01-21T13:09:09.037Z"
   },
   {
    "duration": 525,
    "start_time": "2022-01-21T13:09:10.225Z"
   },
   {
    "duration": 4,
    "start_time": "2022-01-21T13:09:23.005Z"
   },
   {
    "duration": 524,
    "start_time": "2022-01-21T13:09:23.424Z"
   },
   {
    "duration": 1970,
    "start_time": "2022-01-21T13:11:30.024Z"
   },
   {
    "duration": 36008,
    "start_time": "2022-01-21T13:12:10.381Z"
   },
   {
    "duration": 1318,
    "start_time": "2022-01-21T13:13:06.501Z"
   },
   {
    "duration": 6,
    "start_time": "2022-01-21T13:18:04.558Z"
   },
   {
    "duration": 594,
    "start_time": "2022-01-21T13:18:05.285Z"
   },
   {
    "duration": 6,
    "start_time": "2022-01-21T13:18:12.363Z"
   },
   {
    "duration": 36,
    "start_time": "2022-01-21T13:18:13.009Z"
   },
   {
    "duration": 6,
    "start_time": "2022-01-21T13:18:44.258Z"
   },
   {
    "duration": 6,
    "start_time": "2022-01-21T13:18:55.498Z"
   },
   {
    "duration": 35,
    "start_time": "2022-01-21T13:18:56.520Z"
   },
   {
    "duration": 5,
    "start_time": "2022-01-21T13:19:18.034Z"
   },
   {
    "duration": 87,
    "start_time": "2022-01-21T13:19:19.156Z"
   },
   {
    "duration": 84,
    "start_time": "2022-01-21T13:20:03.256Z"
   },
   {
    "duration": 31,
    "start_time": "2022-01-21T13:20:50.830Z"
   },
   {
    "duration": 34,
    "start_time": "2022-01-21T13:21:03.318Z"
   },
   {
    "duration": 71,
    "start_time": "2022-01-21T13:21:28.670Z"
   },
   {
    "duration": 35155,
    "start_time": "2022-01-21T13:35:52.051Z"
   },
   {
    "duration": 1044,
    "start_time": "2022-01-21T13:36:27.208Z"
   },
   {
    "duration": 359,
    "start_time": "2022-01-21T13:36:28.255Z"
   },
   {
    "duration": 25,
    "start_time": "2022-01-21T13:36:28.616Z"
   },
   {
    "duration": 38,
    "start_time": "2022-01-21T13:36:28.642Z"
   },
   {
    "duration": 37,
    "start_time": "2022-01-21T13:36:28.682Z"
   },
   {
    "duration": 12,
    "start_time": "2022-01-21T13:36:32.890Z"
   },
   {
    "duration": 10,
    "start_time": "2022-01-21T13:36:33.778Z"
   },
   {
    "duration": 12,
    "start_time": "2022-01-21T13:36:35.313Z"
   },
   {
    "duration": 14,
    "start_time": "2022-01-21T13:36:35.560Z"
   },
   {
    "duration": 12,
    "start_time": "2022-01-21T13:36:35.935Z"
   },
   {
    "duration": 5,
    "start_time": "2022-01-21T13:37:22.561Z"
   },
   {
    "duration": 671,
    "start_time": "2022-01-21T13:37:23.329Z"
   },
   {
    "duration": 5,
    "start_time": "2022-01-21T13:38:32.824Z"
   },
   {
    "duration": 93,
    "start_time": "2022-01-21T13:38:33.848Z"
   },
   {
    "duration": 5,
    "start_time": "2022-01-21T13:38:48.160Z"
   },
   {
    "duration": 108,
    "start_time": "2022-01-21T13:38:48.635Z"
   },
   {
    "duration": 28,
    "start_time": "2022-01-21T13:38:49.158Z"
   },
   {
    "duration": 27,
    "start_time": "2022-01-21T13:38:49.499Z"
   },
   {
    "duration": 5,
    "start_time": "2022-01-21T13:42:05.881Z"
   },
   {
    "duration": 30,
    "start_time": "2022-01-21T13:42:06.900Z"
   },
   {
    "duration": 30,
    "start_time": "2022-01-21T13:42:10.933Z"
   },
   {
    "duration": 35,
    "start_time": "2022-01-21T13:42:12.133Z"
   },
   {
    "duration": 5,
    "start_time": "2022-01-21T13:42:28.839Z"
   },
   {
    "duration": 29,
    "start_time": "2022-01-21T13:42:29.585Z"
   },
   {
    "duration": 27,
    "start_time": "2022-01-21T13:42:29.900Z"
   },
   {
    "duration": 72,
    "start_time": "2022-01-21T13:42:30.269Z"
   },
   {
    "duration": 3,
    "start_time": "2022-01-21T14:35:43.123Z"
   },
   {
    "duration": 3,
    "start_time": "2022-01-21T14:41:29.905Z"
   },
   {
    "duration": 4,
    "start_time": "2022-01-21T14:43:25.749Z"
   },
   {
    "duration": 4,
    "start_time": "2022-01-21T14:43:34.296Z"
   },
   {
    "duration": 3,
    "start_time": "2022-01-21T14:46:17.954Z"
   },
   {
    "duration": 4,
    "start_time": "2022-01-21T14:47:02.513Z"
   },
   {
    "duration": 3,
    "start_time": "2022-01-21T14:47:03.307Z"
   },
   {
    "duration": 3,
    "start_time": "2022-01-21T14:48:28.587Z"
   },
   {
    "duration": 3,
    "start_time": "2022-01-21T14:57:17.654Z"
   },
   {
    "duration": 88,
    "start_time": "2022-01-21T14:57:53.499Z"
   },
   {
    "duration": 3,
    "start_time": "2022-01-21T14:57:57.303Z"
   },
   {
    "duration": 3,
    "start_time": "2022-01-21T15:05:07.357Z"
   },
   {
    "duration": 5,
    "start_time": "2022-01-21T15:09:18.731Z"
   },
   {
    "duration": 5,
    "start_time": "2022-01-21T15:09:57.943Z"
   },
   {
    "duration": 541,
    "start_time": "2022-01-21T15:10:52.355Z"
   },
   {
    "duration": 3,
    "start_time": "2022-01-21T15:11:06.319Z"
   },
   {
    "duration": 3,
    "start_time": "2022-01-21T15:11:08.536Z"
   },
   {
    "duration": 5,
    "start_time": "2022-01-21T15:11:09.254Z"
   },
   {
    "duration": 3389,
    "start_time": "2022-01-21T15:11:10.087Z"
   },
   {
    "duration": 4,
    "start_time": "2022-01-21T15:11:26.150Z"
   },
   {
    "duration": 3493,
    "start_time": "2022-01-21T15:11:27.269Z"
   },
   {
    "duration": 5,
    "start_time": "2022-01-21T15:12:13.677Z"
   },
   {
    "duration": 3655,
    "start_time": "2022-01-21T15:12:14.420Z"
   },
   {
    "duration": 4,
    "start_time": "2022-01-21T15:12:39.065Z"
   },
   {
    "duration": 3373,
    "start_time": "2022-01-21T15:12:39.540Z"
   },
   {
    "duration": 4,
    "start_time": "2022-01-21T15:14:39.541Z"
   },
   {
    "duration": 4,
    "start_time": "2022-01-21T15:15:02.623Z"
   },
   {
    "duration": 3626,
    "start_time": "2022-01-21T15:15:03.009Z"
   },
   {
    "duration": 5,
    "start_time": "2022-01-21T15:15:54.932Z"
   },
   {
    "duration": 3440,
    "start_time": "2022-01-21T15:15:56.087Z"
   },
   {
    "duration": 5,
    "start_time": "2022-01-21T15:16:20.198Z"
   },
   {
    "duration": 3786,
    "start_time": "2022-01-21T15:16:22.086Z"
   },
   {
    "duration": 4,
    "start_time": "2022-01-21T15:16:51.614Z"
   },
   {
    "duration": 2870,
    "start_time": "2022-01-21T15:16:52.085Z"
   },
   {
    "duration": 3041,
    "start_time": "2022-01-21T15:18:30.847Z"
   },
   {
    "duration": 2918,
    "start_time": "2022-01-21T15:18:33.890Z"
   },
   {
    "duration": 5,
    "start_time": "2022-01-21T15:23:10.357Z"
   },
   {
    "duration": 2966,
    "start_time": "2022-01-21T15:23:10.988Z"
   },
   {
    "duration": 3050,
    "start_time": "2022-01-21T15:23:13.956Z"
   },
   {
    "duration": 2955,
    "start_time": "2022-01-21T15:23:17.008Z"
   },
   {
    "duration": 4,
    "start_time": "2022-01-21T15:23:47.022Z"
   },
   {
    "duration": 362,
    "start_time": "2022-01-21T15:23:47.027Z"
   },
   {
    "duration": 10,
    "start_time": "2022-01-21T15:23:47.391Z"
   },
   {
    "duration": 13,
    "start_time": "2022-01-21T15:23:47.403Z"
   },
   {
    "duration": 27,
    "start_time": "2022-01-21T15:23:47.418Z"
   },
   {
    "duration": 12,
    "start_time": "2022-01-21T15:23:47.447Z"
   },
   {
    "duration": 10,
    "start_time": "2022-01-21T15:23:47.461Z"
   },
   {
    "duration": 11,
    "start_time": "2022-01-21T15:23:47.472Z"
   },
   {
    "duration": 10,
    "start_time": "2022-01-21T15:23:47.484Z"
   },
   {
    "duration": 10,
    "start_time": "2022-01-21T15:23:47.496Z"
   },
   {
    "duration": 38,
    "start_time": "2022-01-21T15:23:47.507Z"
   },
   {
    "duration": 101,
    "start_time": "2022-01-21T15:23:47.546Z"
   },
   {
    "duration": 27,
    "start_time": "2022-01-21T15:23:47.741Z"
   },
   {
    "duration": 117,
    "start_time": "2022-01-21T15:23:47.842Z"
   },
   {
    "duration": 3,
    "start_time": "2022-01-21T15:23:47.961Z"
   },
   {
    "duration": 176,
    "start_time": "2022-01-21T15:23:47.965Z"
   },
   {
    "duration": 5,
    "start_time": "2022-01-21T15:23:48.143Z"
   },
   {
    "duration": 6,
    "start_time": "2022-01-21T15:23:48.150Z"
   },
   {
    "duration": 6,
    "start_time": "2022-01-21T15:23:48.158Z"
   },
   {
    "duration": 2855,
    "start_time": "2022-01-21T15:23:48.165Z"
   },
   {
    "duration": 2920,
    "start_time": "2022-01-21T15:23:51.022Z"
   },
   {
    "duration": 2848,
    "start_time": "2022-01-21T15:23:53.943Z"
   },
   {
    "duration": 86,
    "start_time": "2022-01-21T16:58:27.422Z"
   }
  ],
  "kernelspec": {
   "display_name": "Python 3 (ipykernel)",
   "language": "python",
   "name": "python3"
  },
  "language_info": {
   "codemirror_mode": {
    "name": "ipython",
    "version": 3
   },
   "file_extension": ".py",
   "mimetype": "text/x-python",
   "name": "python",
   "nbconvert_exporter": "python",
   "pygments_lexer": "ipython3",
   "version": "3.9.7"
  },
  "toc": {
   "base_numbering": 1,
   "nav_menu": {},
   "number_sections": true,
   "sideBar": true,
   "skip_h1_title": true,
   "title_cell": "Table of Contents",
   "title_sidebar": "Contents",
   "toc_cell": false,
   "toc_position": {},
   "toc_section_display": true,
   "toc_window_display": false
  }
 },
 "nbformat": 4,
 "nbformat_minor": 2
}