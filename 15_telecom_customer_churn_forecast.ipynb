{
 "cells": [
  {
   "cell_type": "markdown",
   "metadata": {
    "pycharm": {
     "name": "#%% md\n"
    }
   },
   "source": [
    "# Телеком — задача проекта\n",
    "\n",
    "Оператор связи «Ниединогоразрыва.ком» хочет научиться прогнозировать **отток клиентов**. Если выяснится, что пользователь планирует уйти, ему будут предложены промокоды и специальные условия. Команда оператора собрала персональные данные о некоторых клиентах, информацию об их тарифах и договорах."
   ]
  },
  {
   "cell_type": "markdown",
   "metadata": {},
   "source": [
    "## Импорт библиотек"
   ]
  },
  {
   "cell_type": "code",
   "execution_count": 210,
   "metadata": {
    "pycharm": {
     "name": "#%%\n"
    }
   },
   "outputs": [],
   "source": [
    "!pip install mglearn"
   ]
  },
  {
   "cell_type": "code",
   "execution_count": 211,
   "metadata": {
    "pycharm": {
     "name": "#%%\n"
    }
   },
   "outputs": [],
   "source": [
    "import mglearn.plots\n",
    "import mglearn\n",
    "import pandas as pd\n",
    "import numpy as np\n",
    "import itertools\n",
    "import matplotlib.pyplot as plt\n",
    "from dateutil import relativedelta\n",
    "\n",
    "from sklearn.model_selection import train_test_split, cross_val_score, LeaveOneOut\n",
    "from catboost import CatBoostClassifier\n",
    "from sklearn.linear_model import LogisticRegression\n",
    "from sklearn.metrics import f1_score, roc_auc_score, precision_score, classification_report, precision_recall_curve, confusion_matrix, auc, roc_curve\n",
    "from sklearn.neural_network import MLPClassifier\n",
    "from sklearn.preprocessing import MinMaxScaler\n",
    "from sklearn.utils import resample\n",
    "from scipy import stats as st\n",
    "\n",
    "plt.style.use('dark_background')"
   ]
  },
  {
   "cell_type": "markdown",
   "metadata": {
    "pycharm": {
     "name": "#%% md\n"
    }
   },
   "source": [
    "## Датасет contract"
   ]
  },
  {
   "cell_type": "code",
   "execution_count": 212,
   "metadata": {},
   "outputs": [],
   "source": [
    "contract = pd.read_csv('datasets/final_provider/contract.csv')\n",
    "internet = pd.read_csv('datasets/final_provider/internet.csv')\n",
    "personal = pd.read_csv('datasets/final_provider/personal.csv')\n",
    "phone = pd.read_csv('datasets/final_provider/phone.csv')"
   ]
  },
  {
   "cell_type": "code",
   "execution_count": 213,
   "metadata": {
    "pycharm": {
     "name": "#%%\n"
    }
   },
   "outputs": [
    {
     "data": {
      "text/html": [
       "<div>\n",
       "<style scoped>\n",
       "    .dataframe tbody tr th:only-of-type {\n",
       "        vertical-align: middle;\n",
       "    }\n",
       "\n",
       "    .dataframe tbody tr th {\n",
       "        vertical-align: top;\n",
       "    }\n",
       "\n",
       "    .dataframe thead th {\n",
       "        text-align: right;\n",
       "    }\n",
       "</style>\n",
       "<table border=\"1\" class=\"dataframe\">\n",
       "  <thead>\n",
       "    <tr style=\"text-align: right;\">\n",
       "      <th></th>\n",
       "      <th>customerID</th>\n",
       "      <th>BeginDate</th>\n",
       "      <th>EndDate</th>\n",
       "      <th>Type</th>\n",
       "      <th>PaperlessBilling</th>\n",
       "      <th>PaymentMethod</th>\n",
       "      <th>MonthlyCharges</th>\n",
       "      <th>TotalCharges</th>\n",
       "    </tr>\n",
       "  </thead>\n",
       "  <tbody>\n",
       "    <tr>\n",
       "      <th>0</th>\n",
       "      <td>7590-VHVEG</td>\n",
       "      <td>2020-01-01</td>\n",
       "      <td>No</td>\n",
       "      <td>Month-to-month</td>\n",
       "      <td>Yes</td>\n",
       "      <td>Electronic check</td>\n",
       "      <td>29.85</td>\n",
       "      <td>29.85</td>\n",
       "    </tr>\n",
       "    <tr>\n",
       "      <th>1</th>\n",
       "      <td>5575-GNVDE</td>\n",
       "      <td>2017-04-01</td>\n",
       "      <td>No</td>\n",
       "      <td>One year</td>\n",
       "      <td>No</td>\n",
       "      <td>Mailed check</td>\n",
       "      <td>56.95</td>\n",
       "      <td>1889.5</td>\n",
       "    </tr>\n",
       "    <tr>\n",
       "      <th>2</th>\n",
       "      <td>3668-QPYBK</td>\n",
       "      <td>2019-10-01</td>\n",
       "      <td>2019-12-01 00:00:00</td>\n",
       "      <td>Month-to-month</td>\n",
       "      <td>Yes</td>\n",
       "      <td>Mailed check</td>\n",
       "      <td>53.85</td>\n",
       "      <td>108.15</td>\n",
       "    </tr>\n",
       "    <tr>\n",
       "      <th>3</th>\n",
       "      <td>7795-CFOCW</td>\n",
       "      <td>2016-05-01</td>\n",
       "      <td>No</td>\n",
       "      <td>One year</td>\n",
       "      <td>No</td>\n",
       "      <td>Bank transfer (automatic)</td>\n",
       "      <td>42.30</td>\n",
       "      <td>1840.75</td>\n",
       "    </tr>\n",
       "    <tr>\n",
       "      <th>4</th>\n",
       "      <td>9237-HQITU</td>\n",
       "      <td>2019-09-01</td>\n",
       "      <td>2019-11-01 00:00:00</td>\n",
       "      <td>Month-to-month</td>\n",
       "      <td>Yes</td>\n",
       "      <td>Electronic check</td>\n",
       "      <td>70.70</td>\n",
       "      <td>151.65</td>\n",
       "    </tr>\n",
       "  </tbody>\n",
       "</table>\n",
       "</div>"
      ],
      "text/plain": [
       "   customerID   BeginDate              EndDate            Type  \\\n",
       "0  7590-VHVEG  2020-01-01                   No  Month-to-month   \n",
       "1  5575-GNVDE  2017-04-01                   No        One year   \n",
       "2  3668-QPYBK  2019-10-01  2019-12-01 00:00:00  Month-to-month   \n",
       "3  7795-CFOCW  2016-05-01                   No        One year   \n",
       "4  9237-HQITU  2019-09-01  2019-11-01 00:00:00  Month-to-month   \n",
       "\n",
       "  PaperlessBilling              PaymentMethod  MonthlyCharges TotalCharges  \n",
       "0              Yes           Electronic check           29.85        29.85  \n",
       "1               No               Mailed check           56.95       1889.5  \n",
       "2              Yes               Mailed check           53.85       108.15  \n",
       "3               No  Bank transfer (automatic)           42.30      1840.75  \n",
       "4              Yes           Electronic check           70.70       151.65  "
      ]
     },
     "execution_count": 213,
     "metadata": {},
     "output_type": "execute_result"
    }
   ],
   "source": [
    "#contract = pd.read_csv('contract.csv')\n",
    "contract.head()"
   ]
  },
  {
   "cell_type": "code",
   "execution_count": 214,
   "metadata": {
    "pycharm": {
     "name": "#%%\n"
    }
   },
   "outputs": [
    {
     "data": {
      "text/plain": [
       "Index(['customer_id', 'begin_date', 'end_date', 'type', 'paperless_billing',\n",
       "       'payment_method', 'monthly_charges', 'total_charges'],\n",
       "      dtype='object')"
      ]
     },
     "execution_count": 214,
     "metadata": {},
     "output_type": "execute_result"
    }
   ],
   "source": [
    "contract.rename(columns={\n",
    "    'customerID':'customer_id',\n",
    "    'BeginDate':'begin_date',\n",
    "    'EndDate':'end_date',\n",
    "    'Type':'type',\n",
    "    'PaperlessBilling':'paperless_billing',\n",
    "    'PaymentMethod':'payment_method',\n",
    "    'MonthlyCharges':'monthly_charges',\n",
    "    'TotalCharges':'total_charges',\n",
    "}, inplace=True)\n",
    "contract.columns"
   ]
  },
  {
   "cell_type": "code",
   "execution_count": 215,
   "metadata": {
    "pycharm": {
     "name": "#%%\n"
    }
   },
   "outputs": [],
   "source": [
    "contract.info()"
   ]
  },
  {
   "cell_type": "code",
   "execution_count": 216,
   "metadata": {
    "pycharm": {
     "name": "#%%\n"
    }
   },
   "outputs": [
    {
     "data": {
      "text/plain": [
       "0"
      ]
     },
     "execution_count": 216,
     "metadata": {},
     "output_type": "execute_result"
    }
   ],
   "source": [
    "contract.duplicated().sum()"
   ]
  },
  {
   "cell_type": "markdown",
   "metadata": {
    "pycharm": {
     "name": "#%% md\n"
    }
   },
   "source": [
    "- Загрузили датасет contract\n",
    "- У нас 7043 записей и нет пропусков"
   ]
  },
  {
   "cell_type": "code",
   "execution_count": 217,
   "metadata": {
    "pycharm": {
     "name": "#%%\n"
    }
   },
   "outputs": [
    {
     "data": {
      "text/plain": [
       "7043"
      ]
     },
     "execution_count": 217,
     "metadata": {},
     "output_type": "execute_result"
    }
   ],
   "source": [
    "contract['customer_id'].nunique()"
   ]
  },
  {
   "cell_type": "code",
   "execution_count": 218,
   "metadata": {
    "pycharm": {
     "name": "#%%\n"
    }
   },
   "outputs": [
    {
     "data": {
      "text/plain": [
       "count                             7043\n",
       "mean     2017-04-30 13:01:50.918642688\n",
       "min                2013-10-01 00:00:00\n",
       "25%                2015-06-01 00:00:00\n",
       "50%                2017-09-01 00:00:00\n",
       "75%                2019-04-01 00:00:00\n",
       "max                2020-02-01 00:00:00\n",
       "Name: begin_date, dtype: object"
      ]
     },
     "execution_count": 218,
     "metadata": {},
     "output_type": "execute_result"
    }
   ],
   "source": [
    "pd.to_datetime(contract['begin_date']).describe(datetime_is_numeric=True)"
   ]
  },
  {
   "cell_type": "code",
   "execution_count": 219,
   "metadata": {
    "pycharm": {
     "name": "#%%\n"
    }
   },
   "outputs": [
    {
     "data": {
      "text/plain": [
       "77"
      ]
     },
     "execution_count": 219,
     "metadata": {},
     "output_type": "execute_result"
    }
   ],
   "source": [
    "contract['begin_date'].nunique()"
   ]
  },
  {
   "cell_type": "code",
   "execution_count": 220,
   "metadata": {
    "pycharm": {
     "name": "#%%\n"
    }
   },
   "outputs": [
    {
     "data": {
      "text/plain": [
       "5"
      ]
     },
     "execution_count": 220,
     "metadata": {},
     "output_type": "execute_result"
    }
   ],
   "source": [
    "contract['end_date'].nunique()"
   ]
  },
  {
   "cell_type": "code",
   "execution_count": 221,
   "metadata": {
    "pycharm": {
     "name": "#%%\n"
    }
   },
   "outputs": [
    {
     "data": {
      "text/plain": [
       "count                             1869\n",
       "mean     2019-11-15 21:31:18.009630464\n",
       "min                2019-10-01 00:00:00\n",
       "25%                2019-11-01 00:00:00\n",
       "50%                2019-11-01 00:00:00\n",
       "75%                2019-12-01 00:00:00\n",
       "max                2020-01-01 00:00:00\n",
       "Name: end_date, dtype: object"
      ]
     },
     "execution_count": 221,
     "metadata": {},
     "output_type": "execute_result"
    }
   ],
   "source": [
    "pd.to_datetime(contract[contract['end_date'] != 'No']['end_date']).describe(datetime_is_numeric=True)"
   ]
  },
  {
   "cell_type": "code",
   "execution_count": 222,
   "metadata": {
    "pycharm": {
     "name": "#%%\n"
    }
   },
   "outputs": [],
   "source": [
    "def show_hist(data, col_name):\n",
    "    data[col_name].hist()\n",
    "    plt.xticks(rotation=45)\n",
    "    plt.ylabel('Количество наблюдений')\n",
    "    plt.title(f'Распределение {col_name}')\n",
    "    plt.show()"
   ]
  },
  {
   "cell_type": "code",
   "execution_count": 223,
   "metadata": {
    "pycharm": {
     "name": "#%%\n"
    }
   },
   "outputs": [
    {
     "data": {
      "image/png": "[encoded data removed]",
      "text/plain": [
       "<Figure size 432x288 with 1 Axes>"
      ]
     },
     "metadata": {},
     "output_type": "display_data"
    }
   ],
   "source": [
    "show_hist(contract, 'type')"
   ]
  },
  {
   "cell_type": "code",
   "execution_count": 224,
   "metadata": {
    "pycharm": {
     "name": "#%%\n"
    }
   },
   "outputs": [
    {
     "data": {
      "text/plain": [
       "Month-to-month    3875\n",
       "Two year          1695\n",
       "One year          1473\n",
       "Name: type, dtype: int64"
      ]
     },
     "execution_count": 224,
     "metadata": {},
     "output_type": "execute_result"
    }
   ],
   "source": [
    "contract['type'].value_counts()"
   ]
  },
  {
   "cell_type": "code",
   "execution_count": 225,
   "metadata": {
    "pycharm": {
     "name": "#%%\n"
    }
   },
   "outputs": [
    {
     "data": {
      "image/png": "[encoded data removed]",
      "text/plain": [
       "<Figure size 432x288 with 1 Axes>"
      ]
     },
     "metadata": {},
     "output_type": "display_data"
    }
   ],
   "source": [
    "show_hist(contract, 'paperless_billing')"
   ]
  },
  {
   "cell_type": "code",
   "execution_count": 226,
   "metadata": {
    "pycharm": {
     "name": "#%%\n"
    }
   },
   "outputs": [
    {
     "data": {
      "image/png": "[encoded data removed]",
      "text/plain": [
       "<Figure size 432x288 with 1 Axes>"
      ]
     },
     "metadata": {},
     "output_type": "display_data"
    }
   ],
   "source": [
    "show_hist(contract, 'payment_method')"
   ]
  },
  {
   "cell_type": "code",
   "execution_count": 227,
   "metadata": {
    "pycharm": {
     "name": "#%%\n"
    }
   },
   "outputs": [
    {
     "data": {
      "text/plain": [
       "count    7043.000000\n",
       "mean       64.761692\n",
       "std        30.090047\n",
       "min        18.250000\n",
       "25%        35.500000\n",
       "50%        70.350000\n",
       "75%        89.850000\n",
       "max       118.750000\n",
       "Name: monthly_charges, dtype: float64"
      ]
     },
     "execution_count": 227,
     "metadata": {},
     "output_type": "execute_result"
    }
   ],
   "source": [
    "contract['monthly_charges'].describe()"
   ]
  },
  {
   "cell_type": "code",
   "execution_count": 228,
   "metadata": {
    "pycharm": {
     "name": "#%%\n"
    }
   },
   "outputs": [],
   "source": [
    "def str_to_numeric(col):\n",
    "    try:\n",
    "        return float(col)\n",
    "    except:\n",
    "        return 0"
   ]
  },
  {
   "cell_type": "code",
   "execution_count": 229,
   "metadata": {
    "pycharm": {
     "name": "#%%\n"
    }
   },
   "outputs": [
    {
     "data": {
      "text/plain": [
       "count    7043.000000\n",
       "mean     2279.734304\n",
       "std      2266.794470\n",
       "min         0.000000\n",
       "25%       398.550000\n",
       "50%      1394.550000\n",
       "75%      3786.600000\n",
       "max      8684.800000\n",
       "Name: total_charges, dtype: float64"
      ]
     },
     "execution_count": 229,
     "metadata": {},
     "output_type": "execute_result"
    }
   ],
   "source": [
    "t = contract['total_charges'].apply(str_to_numeric)\n",
    "t.describe()"
   ]
  },
  {
   "cell_type": "code",
   "execution_count": 230,
   "metadata": {
    "pycharm": {
     "name": "#%%\n"
    }
   },
   "outputs": [
    {
     "data": {
      "image/png": "[encoded data removed]",
      "text/plain": [
       "<Figure size 432x288 with 1 Axes>"
      ]
     },
     "metadata": {},
     "output_type": "display_data"
    }
   ],
   "source": [
    "t.plot(kind='box', grid=True)\n",
    "plt.title(\"Ящик с усами для total_charges\")\n",
    "plt.show()"
   ]
  },
  {
   "cell_type": "markdown",
   "metadata": {
    "pycharm": {
     "name": "#%% md\n"
    }
   },
   "source": [
    "- begin_date - распределена равномерно, даты начиная с 2013-10-01 00:00:00 и заканчивая 2020-02-01 00:00:00\n",
    "- end_date - есть пропуски, это записи, где контракт еще действует, окончание контракта в октябре-декабре 2020 года. Таких наблюдений 1869, то есть у нас добаточно много данных для обучения оттока\n",
    "- type - тип контракта: больше всего наблюдений month-to-month - около 4000 и значения one year и two years примерно по 1500 наблюдений\n",
    "- paperless_billing - фича, показывающая в бумажном ли виде чек: чаще встречается ответ yes - это чуть больше 4000 наблюдений, остальные no\n",
    "- payment_method - способ платежа: привалирует значение Electronic check у практически 2500 наблюдений, остальные 3 значения примерно держатся около 1500 наблюдений\n",
    "- monthly_charges - ежемесячная плата - в целом есть адекватное и минимальное и максимальное значения данной фичи, среднее и медиана 64 и 70 соответственно, что говорит о допустимом смещении распределения\n",
    "- total_charges - итоговая плата - здесь есть и очень маленькое значение и очень большое, очень большой \"хвост\". Так же есть один пропуск который не был виден изначально"
   ]
  },
  {
   "cell_type": "markdown",
   "metadata": {},
   "source": [
    "## Датасет personal"
   ]
  },
  {
   "cell_type": "code",
   "execution_count": 231,
   "metadata": {
    "pycharm": {
     "name": "#%%\n"
    }
   },
   "outputs": [
    {
     "data": {
      "text/html": [
       "<div>\n",
       "<style scoped>\n",
       "    .dataframe tbody tr th:only-of-type {\n",
       "        vertical-align: middle;\n",
       "    }\n",
       "\n",
       "    .dataframe tbody tr th {\n",
       "        vertical-align: top;\n",
       "    }\n",
       "\n",
       "    .dataframe thead th {\n",
       "        text-align: right;\n",
       "    }\n",
       "</style>\n",
       "<table border=\"1\" class=\"dataframe\">\n",
       "  <thead>\n",
       "    <tr style=\"text-align: right;\">\n",
       "      <th></th>\n",
       "      <th>customerID</th>\n",
       "      <th>gender</th>\n",
       "      <th>SeniorCitizen</th>\n",
       "      <th>Partner</th>\n",
       "      <th>Dependents</th>\n",
       "    </tr>\n",
       "  </thead>\n",
       "  <tbody>\n",
       "    <tr>\n",
       "      <th>0</th>\n",
       "      <td>7590-VHVEG</td>\n",
       "      <td>Female</td>\n",
       "      <td>0</td>\n",
       "      <td>Yes</td>\n",
       "      <td>No</td>\n",
       "    </tr>\n",
       "    <tr>\n",
       "      <th>1</th>\n",
       "      <td>5575-GNVDE</td>\n",
       "      <td>Male</td>\n",
       "      <td>0</td>\n",
       "      <td>No</td>\n",
       "      <td>No</td>\n",
       "    </tr>\n",
       "    <tr>\n",
       "      <th>2</th>\n",
       "      <td>3668-QPYBK</td>\n",
       "      <td>Male</td>\n",
       "      <td>0</td>\n",
       "      <td>No</td>\n",
       "      <td>No</td>\n",
       "    </tr>\n",
       "    <tr>\n",
       "      <th>3</th>\n",
       "      <td>7795-CFOCW</td>\n",
       "      <td>Male</td>\n",
       "      <td>0</td>\n",
       "      <td>No</td>\n",
       "      <td>No</td>\n",
       "    </tr>\n",
       "    <tr>\n",
       "      <th>4</th>\n",
       "      <td>9237-HQITU</td>\n",
       "      <td>Female</td>\n",
       "      <td>0</td>\n",
       "      <td>No</td>\n",
       "      <td>No</td>\n",
       "    </tr>\n",
       "  </tbody>\n",
       "</table>\n",
       "</div>"
      ],
      "text/plain": [
       "   customerID  gender  SeniorCitizen Partner Dependents\n",
       "0  7590-VHVEG  Female              0     Yes         No\n",
       "1  5575-GNVDE    Male              0      No         No\n",
       "2  3668-QPYBK    Male              0      No         No\n",
       "3  7795-CFOCW    Male              0      No         No\n",
       "4  9237-HQITU  Female              0      No         No"
      ]
     },
     "execution_count": 231,
     "metadata": {},
     "output_type": "execute_result"
    }
   ],
   "source": [
    "#personal = pd.read_csv('personal.csv')\n",
    "personal.head()"
   ]
  },
  {
   "cell_type": "code",
   "execution_count": 232,
   "metadata": {
    "pycharm": {
     "name": "#%%\n"
    }
   },
   "outputs": [
    {
     "data": {
      "text/plain": [
       "Index(['customer_id', 'gender', 'senior_citizen', 'partner', 'dependents'], dtype='object')"
      ]
     },
     "execution_count": 232,
     "metadata": {},
     "output_type": "execute_result"
    }
   ],
   "source": [
    "personal.rename(columns={\n",
    "    'customerID':'customer_id',\n",
    "    'SeniorCitizen':'senior_citizen',\n",
    "    'Partner':'partner',\n",
    "    'Dependents':'dependents',\n",
    "}, inplace=True)\n",
    "personal.columns"
   ]
  },
  {
   "cell_type": "code",
   "execution_count": 233,
   "metadata": {
    "pycharm": {
     "name": "#%%\n"
    }
   },
   "outputs": [],
   "source": [
    "personal.info()"
   ]
  },
  {
   "cell_type": "code",
   "execution_count": 234,
   "metadata": {
    "pycharm": {
     "name": "#%%\n"
    }
   },
   "outputs": [
    {
     "data": {
      "text/plain": [
       "0"
      ]
     },
     "execution_count": 234,
     "metadata": {},
     "output_type": "execute_result"
    }
   ],
   "source": [
    "personal.duplicated().sum()"
   ]
  },
  {
   "cell_type": "code",
   "execution_count": 235,
   "metadata": {
    "pycharm": {
     "name": "#%%\n"
    }
   },
   "outputs": [
    {
     "data": {
      "text/plain": [
       "7043"
      ]
     },
     "execution_count": 235,
     "metadata": {},
     "output_type": "execute_result"
    }
   ],
   "source": [
    "personal['customer_id'].nunique()"
   ]
  },
  {
   "cell_type": "code",
   "execution_count": 236,
   "metadata": {
    "pycharm": {
     "name": "#%%\n"
    }
   },
   "outputs": [
    {
     "data": {
      "text/plain": [
       "Male      0.504756\n",
       "Female    0.495244\n",
       "Name: gender, dtype: float64"
      ]
     },
     "execution_count": 236,
     "metadata": {},
     "output_type": "execute_result"
    }
   ],
   "source": [
    "personal['gender'].value_counts(normalize=True)"
   ]
  },
  {
   "cell_type": "code",
   "execution_count": 237,
   "metadata": {
    "pycharm": {
     "name": "#%%\n"
    }
   },
   "outputs": [
    {
     "data": {
      "text/plain": [
       "0    0.837853\n",
       "1    0.162147\n",
       "Name: senior_citizen, dtype: float64"
      ]
     },
     "execution_count": 237,
     "metadata": {},
     "output_type": "execute_result"
    }
   ],
   "source": [
    "personal['senior_citizen'].value_counts(normalize=True)"
   ]
  },
  {
   "cell_type": "code",
   "execution_count": 238,
   "metadata": {
    "pycharm": {
     "name": "#%%\n"
    }
   },
   "outputs": [
    {
     "data": {
      "text/plain": [
       "No     0.516967\n",
       "Yes    0.483033\n",
       "Name: partner, dtype: float64"
      ]
     },
     "execution_count": 238,
     "metadata": {},
     "output_type": "execute_result"
    }
   ],
   "source": [
    "personal['partner'].value_counts(normalize=True)"
   ]
  },
  {
   "cell_type": "code",
   "execution_count": 239,
   "metadata": {
    "pycharm": {
     "name": "#%%\n"
    }
   },
   "outputs": [
    {
     "data": {
      "text/plain": [
       "No     0.700412\n",
       "Yes    0.299588\n",
       "Name: dependents, dtype: float64"
      ]
     },
     "execution_count": 239,
     "metadata": {},
     "output_type": "execute_result"
    }
   ],
   "source": [
    "personal['dependents'].value_counts(normalize=True)"
   ]
  },
  {
   "cell_type": "markdown",
   "metadata": {
    "pycharm": {
     "name": "#%% md\n"
    }
   },
   "source": [
    "- customer_id - у нас есть те же id клиентов, что и в датасете contract\n",
    "- gender - распределение по полу примерно одинаково\n",
    "- senior_citizen - около 16% наших пользователей пенсионеры\n",
    "- partner - тут все примерно ровно для yes и no\n",
    "- dependents - около 30% наблюдений - yes, остальные no"
   ]
  },
  {
   "cell_type": "markdown",
   "metadata": {},
   "source": [
    "## Датасет internet"
   ]
  },
  {
   "cell_type": "code",
   "execution_count": 240,
   "metadata": {
    "pycharm": {
     "name": "#%%\n"
    }
   },
   "outputs": [
    {
     "data": {
      "text/html": [
       "<div>\n",
       "<style scoped>\n",
       "    .dataframe tbody tr th:only-of-type {\n",
       "        vertical-align: middle;\n",
       "    }\n",
       "\n",
       "    .dataframe tbody tr th {\n",
       "        vertical-align: top;\n",
       "    }\n",
       "\n",
       "    .dataframe thead th {\n",
       "        text-align: right;\n",
       "    }\n",
       "</style>\n",
       "<table border=\"1\" class=\"dataframe\">\n",
       "  <thead>\n",
       "    <tr style=\"text-align: right;\">\n",
       "      <th></th>\n",
       "      <th>customerID</th>\n",
       "      <th>InternetService</th>\n",
       "      <th>OnlineSecurity</th>\n",
       "      <th>OnlineBackup</th>\n",
       "      <th>DeviceProtection</th>\n",
       "      <th>TechSupport</th>\n",
       "      <th>StreamingTV</th>\n",
       "      <th>StreamingMovies</th>\n",
       "    </tr>\n",
       "  </thead>\n",
       "  <tbody>\n",
       "    <tr>\n",
       "      <th>0</th>\n",
       "      <td>7590-VHVEG</td>\n",
       "      <td>DSL</td>\n",
       "      <td>No</td>\n",
       "      <td>Yes</td>\n",
       "      <td>No</td>\n",
       "      <td>No</td>\n",
       "      <td>No</td>\n",
       "      <td>No</td>\n",
       "    </tr>\n",
       "    <tr>\n",
       "      <th>1</th>\n",
       "      <td>5575-GNVDE</td>\n",
       "      <td>DSL</td>\n",
       "      <td>Yes</td>\n",
       "      <td>No</td>\n",
       "      <td>Yes</td>\n",
       "      <td>No</td>\n",
       "      <td>No</td>\n",
       "      <td>No</td>\n",
       "    </tr>\n",
       "    <tr>\n",
       "      <th>2</th>\n",
       "      <td>3668-QPYBK</td>\n",
       "      <td>DSL</td>\n",
       "      <td>Yes</td>\n",
       "      <td>Yes</td>\n",
       "      <td>No</td>\n",
       "      <td>No</td>\n",
       "      <td>No</td>\n",
       "      <td>No</td>\n",
       "    </tr>\n",
       "    <tr>\n",
       "      <th>3</th>\n",
       "      <td>7795-CFOCW</td>\n",
       "      <td>DSL</td>\n",
       "      <td>Yes</td>\n",
       "      <td>No</td>\n",
       "      <td>Yes</td>\n",
       "      <td>Yes</td>\n",
       "      <td>No</td>\n",
       "      <td>No</td>\n",
       "    </tr>\n",
       "    <tr>\n",
       "      <th>4</th>\n",
       "      <td>9237-HQITU</td>\n",
       "      <td>Fiber optic</td>\n",
       "      <td>No</td>\n",
       "      <td>No</td>\n",
       "      <td>No</td>\n",
       "      <td>No</td>\n",
       "      <td>No</td>\n",
       "      <td>No</td>\n",
       "    </tr>\n",
       "  </tbody>\n",
       "</table>\n",
       "</div>"
      ],
      "text/plain": [
       "   customerID InternetService OnlineSecurity OnlineBackup DeviceProtection  \\\n",
       "0  7590-VHVEG             DSL             No          Yes               No   \n",
       "1  5575-GNVDE             DSL            Yes           No              Yes   \n",
       "2  3668-QPYBK             DSL            Yes          Yes               No   \n",
       "3  7795-CFOCW             DSL            Yes           No              Yes   \n",
       "4  9237-HQITU     Fiber optic             No           No               No   \n",
       "\n",
       "  TechSupport StreamingTV StreamingMovies  \n",
       "0          No          No              No  \n",
       "1          No          No              No  \n",
       "2          No          No              No  \n",
       "3         Yes          No              No  \n",
       "4          No          No              No  "
      ]
     },
     "execution_count": 240,
     "metadata": {},
     "output_type": "execute_result"
    }
   ],
   "source": [
    "#internet = pd.read_csv('internet.csv')\n",
    "internet.head()"
   ]
  },
  {
   "cell_type": "code",
   "execution_count": 241,
   "metadata": {
    "pycharm": {
     "name": "#%%\n"
    }
   },
   "outputs": [
    {
     "data": {
      "text/plain": [
       "Index(['customer_id', 'internet_service', 'online_security', 'online_backup',\n",
       "       'device_protection', 'tech_support', 'streaming_TV',\n",
       "       'streaming_movies'],\n",
       "      dtype='object')"
      ]
     },
     "execution_count": 241,
     "metadata": {},
     "output_type": "execute_result"
    }
   ],
   "source": [
    "internet.rename(columns={\n",
    "    'customerID':'customer_id',\n",
    "    'InternetService':'internet_service',\n",
    "    'OnlineSecurity':'online_security',\n",
    "    'OnlineBackup':'online_backup',\n",
    "    'DeviceProtection':'device_protection',\n",
    "    'TechSupport':'tech_support',\n",
    "    'StreamingTV':'streaming_TV',\n",
    "    'StreamingMovies':'streaming_movies',\n",
    "}, inplace=True)\n",
    "internet.columns"
   ]
  },
  {
   "cell_type": "code",
   "execution_count": 242,
   "metadata": {
    "pycharm": {
     "name": "#%%\n"
    }
   },
   "outputs": [],
   "source": [
    "internet.info()"
   ]
  },
  {
   "cell_type": "code",
   "execution_count": 243,
   "metadata": {
    "pycharm": {
     "name": "#%%\n"
    }
   },
   "outputs": [
    {
     "data": {
      "text/plain": [
       "5517"
      ]
     },
     "execution_count": 243,
     "metadata": {},
     "output_type": "execute_result"
    }
   ],
   "source": [
    "internet['customer_id'].nunique()"
   ]
  },
  {
   "cell_type": "code",
   "execution_count": 244,
   "metadata": {
    "pycharm": {
     "name": "#%%\n"
    }
   },
   "outputs": [
    {
     "data": {
      "text/plain": [
       "Fiber optic    0.561175\n",
       "DSL            0.438825\n",
       "Name: internet_service, dtype: float64"
      ]
     },
     "execution_count": 244,
     "metadata": {},
     "output_type": "execute_result"
    }
   ],
   "source": [
    "internet['internet_service'].value_counts(normalize=True)"
   ]
  },
  {
   "cell_type": "code",
   "execution_count": 245,
   "metadata": {
    "pycharm": {
     "name": "#%%\n"
    }
   },
   "outputs": [
    {
     "data": {
      "text/plain": [
       "No     0.63404\n",
       "Yes    0.36596\n",
       "Name: online_security, dtype: float64"
      ]
     },
     "execution_count": 245,
     "metadata": {},
     "output_type": "execute_result"
    }
   ],
   "source": [
    "internet['online_security'].value_counts(normalize=True)"
   ]
  },
  {
   "cell_type": "code",
   "execution_count": 246,
   "metadata": {
    "pycharm": {
     "name": "#%%\n"
    }
   },
   "outputs": [
    {
     "data": {
      "text/plain": [
       "No     0.559724\n",
       "Yes    0.440276\n",
       "Name: online_backup, dtype: float64"
      ]
     },
     "execution_count": 246,
     "metadata": {},
     "output_type": "execute_result"
    }
   ],
   "source": [
    "internet['online_backup'].value_counts(normalize=True)"
   ]
  },
  {
   "cell_type": "code",
   "execution_count": 247,
   "metadata": {
    "pycharm": {
     "name": "#%%\n"
    }
   },
   "outputs": [
    {
     "data": {
      "text/plain": [
       "No     0.560993\n",
       "Yes    0.439007\n",
       "Name: device_protection, dtype: float64"
      ]
     },
     "execution_count": 247,
     "metadata": {},
     "output_type": "execute_result"
    }
   ],
   "source": [
    "internet['device_protection'].value_counts(normalize=True)"
   ]
  },
  {
   "cell_type": "code",
   "execution_count": 248,
   "metadata": {
    "pycharm": {
     "name": "#%%\n"
    }
   },
   "outputs": [
    {
     "data": {
      "text/plain": [
       "No     0.629509\n",
       "Yes    0.370491\n",
       "Name: tech_support, dtype: float64"
      ]
     },
     "execution_count": 248,
     "metadata": {},
     "output_type": "execute_result"
    }
   ],
   "source": [
    "internet['tech_support'].value_counts(normalize=True)"
   ]
  },
  {
   "cell_type": "code",
   "execution_count": 249,
   "metadata": {
    "pycharm": {
     "name": "#%%\n"
    }
   },
   "outputs": [
    {
     "data": {
      "text/plain": [
       "No     0.509335\n",
       "Yes    0.490665\n",
       "Name: streaming_TV, dtype: float64"
      ]
     },
     "execution_count": 249,
     "metadata": {},
     "output_type": "execute_result"
    }
   ],
   "source": [
    "internet['streaming_TV'].value_counts(normalize=True)"
   ]
  },
  {
   "cell_type": "code",
   "execution_count": 250,
   "metadata": {
    "pycharm": {
     "name": "#%%\n"
    }
   },
   "outputs": [
    {
     "data": {
      "text/plain": [
       "No     0.504803\n",
       "Yes    0.495197\n",
       "Name: streaming_movies, dtype: float64"
      ]
     },
     "execution_count": 250,
     "metadata": {},
     "output_type": "execute_result"
    }
   ],
   "source": [
    "internet['streaming_movies'].value_counts(normalize=True)"
   ]
  },
  {
   "cell_type": "markdown",
   "metadata": {
    "pycharm": {
     "name": "#%% md\n"
    }
   },
   "source": [
    "- customer_id - у нас уже меньше записей по сравнению с personal, не все пользуются интернетом\n",
    "- internet_service - 56% клиентов, пользующихся интернетом подключены по технологии Fiber optic, а 44% по DSL\n",
    "- online_security - блокировку небезопасных сайтов используют 36.5%, остальные нет\n",
    "- online_backup - Облачное хранилище файлов для резервного копирования данных используют 44%\n",
    "- device_protection - антивирус исользуют ~44%\n",
    "- tech_support - Выделенная линия технической поддержки у 37% пользователей интернета\n",
    "- streaming_TV и streaming_movies стриминговое телевидение и каталог фильмов у 49% пользователей"
   ]
  },
  {
   "cell_type": "markdown",
   "metadata": {},
   "source": [
    "## Датасет phone"
   ]
  },
  {
   "cell_type": "code",
   "execution_count": 251,
   "metadata": {
    "pycharm": {
     "name": "#%%\n"
    }
   },
   "outputs": [
    {
     "data": {
      "text/html": [
       "<div>\n",
       "<style scoped>\n",
       "    .dataframe tbody tr th:only-of-type {\n",
       "        vertical-align: middle;\n",
       "    }\n",
       "\n",
       "    .dataframe tbody tr th {\n",
       "        vertical-align: top;\n",
       "    }\n",
       "\n",
       "    .dataframe thead th {\n",
       "        text-align: right;\n",
       "    }\n",
       "</style>\n",
       "<table border=\"1\" class=\"dataframe\">\n",
       "  <thead>\n",
       "    <tr style=\"text-align: right;\">\n",
       "      <th></th>\n",
       "      <th>customerID</th>\n",
       "      <th>MultipleLines</th>\n",
       "    </tr>\n",
       "  </thead>\n",
       "  <tbody>\n",
       "    <tr>\n",
       "      <th>0</th>\n",
       "      <td>5575-GNVDE</td>\n",
       "      <td>No</td>\n",
       "    </tr>\n",
       "    <tr>\n",
       "      <th>1</th>\n",
       "      <td>3668-QPYBK</td>\n",
       "      <td>No</td>\n",
       "    </tr>\n",
       "    <tr>\n",
       "      <th>2</th>\n",
       "      <td>9237-HQITU</td>\n",
       "      <td>No</td>\n",
       "    </tr>\n",
       "    <tr>\n",
       "      <th>3</th>\n",
       "      <td>9305-CDSKC</td>\n",
       "      <td>Yes</td>\n",
       "    </tr>\n",
       "    <tr>\n",
       "      <th>4</th>\n",
       "      <td>1452-KIOVK</td>\n",
       "      <td>Yes</td>\n",
       "    </tr>\n",
       "  </tbody>\n",
       "</table>\n",
       "</div>"
      ],
      "text/plain": [
       "   customerID MultipleLines\n",
       "0  5575-GNVDE            No\n",
       "1  3668-QPYBK            No\n",
       "2  9237-HQITU            No\n",
       "3  9305-CDSKC           Yes\n",
       "4  1452-KIOVK           Yes"
      ]
     },
     "execution_count": 251,
     "metadata": {},
     "output_type": "execute_result"
    }
   ],
   "source": [
    "#phone = pd.read_csv('phone.csv')\n",
    "phone.head()"
   ]
  },
  {
   "cell_type": "code",
   "execution_count": 252,
   "metadata": {
    "pycharm": {
     "name": "#%%\n"
    }
   },
   "outputs": [],
   "source": [
    "phone.info()"
   ]
  },
  {
   "cell_type": "code",
   "execution_count": 253,
   "metadata": {
    "pycharm": {
     "name": "#%%\n"
    }
   },
   "outputs": [
    {
     "data": {
      "text/plain": [
       "Index(['customerID', 'MultipleLines'], dtype='object')"
      ]
     },
     "execution_count": 253,
     "metadata": {},
     "output_type": "execute_result"
    }
   ],
   "source": [
    "phone.columns"
   ]
  },
  {
   "cell_type": "code",
   "execution_count": 254,
   "metadata": {
    "pycharm": {
     "name": "#%%\n"
    }
   },
   "outputs": [
    {
     "data": {
      "text/plain": [
       "Index(['customer_id', 'multiple_lines'], dtype='object')"
      ]
     },
     "execution_count": 254,
     "metadata": {},
     "output_type": "execute_result"
    }
   ],
   "source": [
    "phone.rename(columns={\n",
    "    'customerID':'customer_id',\n",
    "    'MultipleLines':'multiple_lines',\n",
    "}, inplace=True)\n",
    "phone.columns"
   ]
  },
  {
   "cell_type": "code",
   "execution_count": 255,
   "metadata": {
    "pycharm": {
     "name": "#%%\n"
    }
   },
   "outputs": [
    {
     "data": {
      "text/plain": [
       "6361"
      ]
     },
     "execution_count": 255,
     "metadata": {},
     "output_type": "execute_result"
    }
   ],
   "source": [
    "phone['customer_id'].nunique()"
   ]
  },
  {
   "cell_type": "code",
   "execution_count": 256,
   "metadata": {
    "pycharm": {
     "name": "#%%\n"
    }
   },
   "outputs": [
    {
     "data": {
      "text/plain": [
       "No     0.532935\n",
       "Yes    0.467065\n",
       "Name: multiple_lines, dtype: float64"
      ]
     },
     "execution_count": 256,
     "metadata": {},
     "output_type": "execute_result"
    }
   ],
   "source": [
    "phone['multiple_lines'].value_counts(normalize=True)"
   ]
  },
  {
   "cell_type": "markdown",
   "metadata": {
    "pycharm": {
     "name": "#%% md\n"
    }
   },
   "source": [
    "- customer_id - опять наш id клиента, их у нас 6361 из 7043 абонентов\n",
    "- multiple_lines - многоканальный телефон у 46% клиентов"
   ]
  },
  {
   "cell_type": "markdown",
   "metadata": {
    "pycharm": {
     "name": "#%% md\n"
    }
   },
   "source": [
    "# Постановка задачи оттока клиентов"
   ]
  },
  {
   "cell_type": "markdown",
   "metadata": {
    "pycharm": {
     "name": "#%% md\n"
    }
   },
   "source": [
    "0. Анализ аудитории\n",
    "1. определяем что мы считаем оттоком\n",
    "2. выбираем тип задачи (модели - бинарная/многоклассовая классификация, регрессия и т.д)\n",
    "3. определяем горизонт прогнозирования (с учетом времени на удержание)\n",
    "4. решаем, как именно мы будем оценивать качество нашей будущей модели (метрики)\n",
    "5. планируем дизайн эксперимента"
   ]
  },
  {
   "cell_type": "markdown",
   "metadata": {
    "pycharm": {
     "name": "#%% md\n"
    }
   },
   "source": [
    "    Что такое задача оттока?\n",
    "- \"Интуитивно\" понятие оттока понятно - был пользователь, который пользовался нашим сервисом, а потом вдруг перестал это делать. Например перешел в другую телекоммуникационную компанию, стал пользоваться другим сервисом и т.д (в зависимости от того, какая у нас сфера)."
   ]
  },
  {
   "cell_type": "markdown",
   "metadata": {
    "pycharm": {
     "name": "#%% md\n"
    }
   },
   "source": [
    "    Зачем прогнозировать задачу оттока?\n",
    "1. Чем больше у нас пользователей, тем выше прибыль (особенно, если большая доля выручки - это рекламная монетизация)\n",
    "2. Больше пользователей = привлечение новых + удержание существующих (уменьшение оттока уже существующих)\n",
    "3. У привлечения новых и удержания \"старых\" разная экономическая эффективность"
   ]
  },
  {
   "cell_type": "markdown",
   "metadata": {
    "pycharm": {
     "name": "#%% md\n"
    }
   },
   "source": [
    "    Уточнения от бизнеса:\n",
    "- Все зависит от бизнеса и может оказаться так, что удержать старого будет стоить дороже чем привлекать нового\n",
    "- А может оказаться так, что удерживать нет смысла так как клиент не приносил нам много прибыли, или вовсе был \"проблемным\"(не платил во время, или часто заказывал и делал возвраты(недавний кейс озона))"
   ]
  },
  {
   "cell_type": "markdown",
   "metadata": {
    "pycharm": {
     "name": "#%% md\n"
    }
   },
   "source": [
    "    Что у нас есть сейчас?\n",
    "2. Мы первично оценили данные и выявили что у нас 7043 клиентов, 5517 из них пользуются услугой интернет и связанными с ним услугами, 6361 из них пользуются услугой телефона.\n",
    "3. Из 7043 клиентов 1869 нас покинули.\n",
    "4. Данных о клиентах, заключивших контракт с 2013-10-01 по 2020-02-01 при этом покинувшие нас с 2019-10-01 по 2020-01-01, то есть 3 месяца."
   ]
  },
  {
   "cell_type": "markdown",
   "metadata": {
    "pycharm": {
     "name": "#%% md\n"
    }
   },
   "source": [
    "    Возможно стоит добавить новые фичи?\n",
    "- Например сколько в день/месяц/год клиент тратил на услуги компании?\n",
    "- Сколько времени клиент пользуется услугами компании?"
   ]
  },
  {
   "cell_type": "markdown",
   "metadata": {
    "pycharm": {
     "name": "#%% md\n"
    }
   },
   "source": [
    "    Метрики удержания\n",
    "- return rate = (текущее количество активных пользователей из набора данных)/(общее количество пользователей из набора данных)*100\n",
    "- churn rate = (количество пользователей из набора данных, ушедших в отток)/(общее количество пользователей из набора данных)*100"
   ]
  },
  {
   "cell_type": "markdown",
   "metadata": {
    "pycharm": {
     "name": "#%% md\n"
    }
   },
   "source": [
    "    Можно выделить несколько шагов в оценке эффективности удержания клиента:\n",
    "\n",
    "1. провести анализ аудитории: сегментация, ключевые показатели и т.д\n",
    "2. формализовать постановку задачи и построить модель. при построении модели учесть, что ML-модель может ошибаться и в итоге в кампанию по удержанию попадут в том числе и те игроки, которые не собирались от нас уходить. Как следствие, на их удержание будут потрачены деньги (им будет сделано более выгодное предложение, хотя этого можно было и не делать)\n",
    "3. запустить компанию по удержанию (с учетом прогнозов п.2) и оценить результаты"
   ]
  },
  {
   "cell_type": "markdown",
   "metadata": {
    "pycharm": {
     "name": "#%% md\n"
    }
   },
   "source": [
    "# Анализ данных"
   ]
  },
  {
   "cell_type": "code",
   "execution_count": 257,
   "metadata": {
    "pycharm": {
     "name": "#%%\n"
    }
   },
   "outputs": [],
   "source": [
    "df = personal.merge(contract, how='left', on='customer_id').\\\n",
    "    merge(internet, how='left', on='customer_id').\\\n",
    "    merge(phone, how='left', on='customer_id')\n",
    "df.info()"
   ]
  },
  {
   "cell_type": "markdown",
   "metadata": {
    "pycharm": {
     "name": "#%% md\n"
    }
   },
   "source": [
    "## Введем новую фичу, отвечающую за отток клиента"
   ]
  },
  {
   "cell_type": "code",
   "execution_count": 258,
   "metadata": {
    "pycharm": {
     "name": "#%%\n"
    }
   },
   "outputs": [],
   "source": [
    "df['is_exited'] = df['end_date'].apply(lambda x: 0 if x == 'No' else 1)"
   ]
  },
  {
   "cell_type": "code",
   "execution_count": 259,
   "metadata": {
    "pycharm": {
     "name": "#%%\n"
    }
   },
   "outputs": [
    {
     "data": {
      "text/html": [
       "<div>\n",
       "<style scoped>\n",
       "    .dataframe tbody tr th:only-of-type {\n",
       "        vertical-align: middle;\n",
       "    }\n",
       "\n",
       "    .dataframe tbody tr th {\n",
       "        vertical-align: top;\n",
       "    }\n",
       "\n",
       "    .dataframe thead th {\n",
       "        text-align: right;\n",
       "    }\n",
       "</style>\n",
       "<table border=\"1\" class=\"dataframe\">\n",
       "  <thead>\n",
       "    <tr style=\"text-align: right;\">\n",
       "      <th></th>\n",
       "      <th>customer_id</th>\n",
       "      <th>gender</th>\n",
       "      <th>senior_citizen</th>\n",
       "      <th>partner</th>\n",
       "      <th>dependents</th>\n",
       "      <th>begin_date</th>\n",
       "      <th>end_date</th>\n",
       "      <th>type</th>\n",
       "      <th>paperless_billing</th>\n",
       "      <th>payment_method</th>\n",
       "      <th>...</th>\n",
       "      <th>total_charges</th>\n",
       "      <th>internet_service</th>\n",
       "      <th>online_security</th>\n",
       "      <th>online_backup</th>\n",
       "      <th>device_protection</th>\n",
       "      <th>tech_support</th>\n",
       "      <th>streaming_TV</th>\n",
       "      <th>streaming_movies</th>\n",
       "      <th>multiple_lines</th>\n",
       "      <th>is_exited</th>\n",
       "    </tr>\n",
       "  </thead>\n",
       "  <tbody>\n",
       "    <tr>\n",
       "      <th>7040</th>\n",
       "      <td>4801-JZAZL</td>\n",
       "      <td>Female</td>\n",
       "      <td>0</td>\n",
       "      <td>Yes</td>\n",
       "      <td>Yes</td>\n",
       "      <td>2019-03-01</td>\n",
       "      <td>No</td>\n",
       "      <td>Month-to-month</td>\n",
       "      <td>Yes</td>\n",
       "      <td>Electronic check</td>\n",
       "      <td>...</td>\n",
       "      <td>346.45</td>\n",
       "      <td>DSL</td>\n",
       "      <td>Yes</td>\n",
       "      <td>No</td>\n",
       "      <td>No</td>\n",
       "      <td>No</td>\n",
       "      <td>No</td>\n",
       "      <td>No</td>\n",
       "      <td>NaN</td>\n",
       "      <td>0</td>\n",
       "    </tr>\n",
       "    <tr>\n",
       "      <th>7041</th>\n",
       "      <td>8361-LTMKD</td>\n",
       "      <td>Male</td>\n",
       "      <td>1</td>\n",
       "      <td>Yes</td>\n",
       "      <td>No</td>\n",
       "      <td>2019-07-01</td>\n",
       "      <td>2019-11-01 00:00:00</td>\n",
       "      <td>Month-to-month</td>\n",
       "      <td>Yes</td>\n",
       "      <td>Mailed check</td>\n",
       "      <td>...</td>\n",
       "      <td>306.6</td>\n",
       "      <td>Fiber optic</td>\n",
       "      <td>No</td>\n",
       "      <td>No</td>\n",
       "      <td>No</td>\n",
       "      <td>No</td>\n",
       "      <td>No</td>\n",
       "      <td>No</td>\n",
       "      <td>Yes</td>\n",
       "      <td>1</td>\n",
       "    </tr>\n",
       "    <tr>\n",
       "      <th>7042</th>\n",
       "      <td>3186-AJIEK</td>\n",
       "      <td>Male</td>\n",
       "      <td>0</td>\n",
       "      <td>No</td>\n",
       "      <td>No</td>\n",
       "      <td>2014-08-01</td>\n",
       "      <td>No</td>\n",
       "      <td>Two year</td>\n",
       "      <td>Yes</td>\n",
       "      <td>Bank transfer (automatic)</td>\n",
       "      <td>...</td>\n",
       "      <td>6844.5</td>\n",
       "      <td>Fiber optic</td>\n",
       "      <td>Yes</td>\n",
       "      <td>No</td>\n",
       "      <td>Yes</td>\n",
       "      <td>Yes</td>\n",
       "      <td>Yes</td>\n",
       "      <td>Yes</td>\n",
       "      <td>No</td>\n",
       "      <td>0</td>\n",
       "    </tr>\n",
       "  </tbody>\n",
       "</table>\n",
       "<p>3 rows × 21 columns</p>\n",
       "</div>"
      ],
      "text/plain": [
       "     customer_id  gender  senior_citizen partner dependents  begin_date  \\\n",
       "7040  4801-JZAZL  Female               0     Yes        Yes  2019-03-01   \n",
       "7041  8361-LTMKD    Male               1     Yes         No  2019-07-01   \n",
       "7042  3186-AJIEK    Male               0      No         No  2014-08-01   \n",
       "\n",
       "                 end_date            type paperless_billing  \\\n",
       "7040                   No  Month-to-month               Yes   \n",
       "7041  2019-11-01 00:00:00  Month-to-month               Yes   \n",
       "7042                   No        Two year               Yes   \n",
       "\n",
       "                 payment_method  ...  total_charges internet_service  \\\n",
       "7040           Electronic check  ...         346.45              DSL   \n",
       "7041               Mailed check  ...          306.6      Fiber optic   \n",
       "7042  Bank transfer (automatic)  ...         6844.5      Fiber optic   \n",
       "\n",
       "     online_security online_backup device_protection tech_support  \\\n",
       "7040             Yes            No                No           No   \n",
       "7041              No            No                No           No   \n",
       "7042             Yes            No               Yes          Yes   \n",
       "\n",
       "     streaming_TV streaming_movies multiple_lines is_exited  \n",
       "7040           No               No            NaN         0  \n",
       "7041           No               No            Yes         1  \n",
       "7042          Yes              Yes             No         0  \n",
       "\n",
       "[3 rows x 21 columns]"
      ]
     },
     "execution_count": 259,
     "metadata": {},
     "output_type": "execute_result"
    }
   ],
   "source": [
    "df.tail(3)"
   ]
  },
  {
   "cell_type": "code",
   "execution_count": 260,
   "metadata": {
    "pycharm": {
     "name": "#%%\n"
    }
   },
   "outputs": [
    {
     "data": {
      "text/plain": [
       "0    0.73463\n",
       "1    0.26537\n",
       "Name: is_exited, dtype: float64"
      ]
     },
     "execution_count": 260,
     "metadata": {},
     "output_type": "execute_result"
    }
   ],
   "source": [
    "df['is_exited'].value_counts(normalize=True)"
   ]
  },
  {
   "cell_type": "markdown",
   "metadata": {
    "pycharm": {
     "name": "#%% md\n"
    }
   },
   "source": [
    "26.5% клиентов ушли в отток"
   ]
  },
  {
   "cell_type": "markdown",
   "metadata": {
    "pycharm": {
     "name": "#%% md\n"
    }
   },
   "source": [
    "## Pаспределения величин ежемесячных платежей (MonthlyCharges) всех клиентов и тех, кто ушёл"
   ]
  },
  {
   "cell_type": "markdown",
   "metadata": {
    "pycharm": {
     "name": "#%% md\n"
    }
   },
   "source": [
    "Изучим наших клиентов, посмотрим на клиентов которых ушли, на их количественные характеристики и тех кто с нами"
   ]
  },
  {
   "cell_type": "code",
   "execution_count": 261,
   "metadata": {
    "pycharm": {
     "name": "#%%\n"
    }
   },
   "outputs": [
    {
     "data": {
      "image/png": "[encoded data removed]",
      "text/plain": [
       "<Figure size 432x288 with 1 Axes>"
      ]
     },
     "metadata": {},
     "output_type": "display_data"
    }
   ],
   "source": [
    "df[df['is_exited'] == 0]['monthly_charges'].hist()\n",
    "df[df['is_exited'] == 1]['monthly_charges'].hist()\n",
    "plt.title('Распределение ежемесячных платежей')\n",
    "plt.legend(['0', '1'])\n",
    "plt.show()"
   ]
  },
  {
   "cell_type": "code",
   "execution_count": 262,
   "metadata": {
    "pycharm": {
     "name": "#%%\n"
    }
   },
   "outputs": [
    {
     "data": {
      "text/plain": [
       "count    5174.000000\n",
       "mean       61.265124\n",
       "std        31.092648\n",
       "min        18.250000\n",
       "25%        25.100000\n",
       "50%        64.425000\n",
       "75%        88.400000\n",
       "max       118.750000\n",
       "Name: monthly_charges, dtype: float64"
      ]
     },
     "execution_count": 262,
     "metadata": {},
     "output_type": "execute_result"
    }
   ],
   "source": [
    "df[df['is_exited'] == 0]['monthly_charges'].describe()"
   ]
  },
  {
   "cell_type": "code",
   "execution_count": 263,
   "metadata": {
    "pycharm": {
     "name": "#%%\n"
    }
   },
   "outputs": [
    {
     "data": {
      "text/plain": [
       "count    1869.000000\n",
       "mean       74.441332\n",
       "std        24.666053\n",
       "min        18.850000\n",
       "25%        56.150000\n",
       "50%        79.650000\n",
       "75%        94.200000\n",
       "max       118.350000\n",
       "Name: monthly_charges, dtype: float64"
      ]
     },
     "execution_count": 263,
     "metadata": {},
     "output_type": "execute_result"
    }
   ],
   "source": [
    "df[df['is_exited'] == 1]['monthly_charges'].describe()"
   ]
  },
  {
   "cell_type": "markdown",
   "metadata": {
    "pycharm": {
     "name": "#%% md\n"
    }
   },
   "source": [
    "- Можно отметить, что клиенты, которые ушли в среднем платят в месяц больше тех кто не ушел: 74 против 61.\n",
    "- Те, кто не ушли в отток часто платят мало, это около 20 в месяц и таких наблюдений более 1400, в то время как те кто ушли и платили около 20 - их всего менее 200.\n",
    "- Такие же \"провалы\" наблюдаются в платежах около 60 и 110, в остальном графики распределения изменяются примерно одинаково.\n",
    "- Можно сделать вывод что цена ежемесячной платы влияет на отток в той части, если клиент платит минимальную сумму платежа, то он врядли уйдет, а нам соответственно \"выгоднее\" сосредоточиться на тех клиентах, которые платили более 70 в месяц(допустим), так как тренд на гистограмме возрастает резко именно в этом месте для тех кто ушел."
   ]
  },
  {
   "cell_type": "markdown",
   "metadata": {
    "pycharm": {
     "name": "#%% md\n"
    }
   },
   "source": [
    "## Изучим клиентов которые пользуются телефонией"
   ]
  },
  {
   "cell_type": "code",
   "execution_count": 264,
   "metadata": {
    "pycharm": {
     "name": "#%%\n"
    }
   },
   "outputs": [],
   "source": [
    "df['is_phone'] = df['multiple_lines'].apply(lambda x: 1 if (x == 'Yes') or (x == 'No') else 0)"
   ]
  },
  {
   "cell_type": "code",
   "execution_count": 265,
   "metadata": {
    "pycharm": {
     "name": "#%%\n"
    }
   },
   "outputs": [
    {
     "data": {
      "text/html": [
       "<div>\n",
       "<style scoped>\n",
       "    .dataframe tbody tr th:only-of-type {\n",
       "        vertical-align: middle;\n",
       "    }\n",
       "\n",
       "    .dataframe tbody tr th {\n",
       "        vertical-align: top;\n",
       "    }\n",
       "\n",
       "    .dataframe thead th {\n",
       "        text-align: right;\n",
       "    }\n",
       "</style>\n",
       "<table border=\"1\" class=\"dataframe\">\n",
       "  <thead>\n",
       "    <tr style=\"text-align: right;\">\n",
       "      <th></th>\n",
       "      <th>customer_id</th>\n",
       "      <th>gender</th>\n",
       "      <th>senior_citizen</th>\n",
       "      <th>partner</th>\n",
       "      <th>dependents</th>\n",
       "      <th>begin_date</th>\n",
       "      <th>end_date</th>\n",
       "      <th>type</th>\n",
       "      <th>paperless_billing</th>\n",
       "      <th>payment_method</th>\n",
       "      <th>...</th>\n",
       "      <th>internet_service</th>\n",
       "      <th>online_security</th>\n",
       "      <th>online_backup</th>\n",
       "      <th>device_protection</th>\n",
       "      <th>tech_support</th>\n",
       "      <th>streaming_TV</th>\n",
       "      <th>streaming_movies</th>\n",
       "      <th>multiple_lines</th>\n",
       "      <th>is_exited</th>\n",
       "      <th>is_phone</th>\n",
       "    </tr>\n",
       "  </thead>\n",
       "  <tbody>\n",
       "    <tr>\n",
       "      <th>0</th>\n",
       "      <td>7590-VHVEG</td>\n",
       "      <td>Female</td>\n",
       "      <td>0</td>\n",
       "      <td>Yes</td>\n",
       "      <td>No</td>\n",
       "      <td>2020-01-01</td>\n",
       "      <td>No</td>\n",
       "      <td>Month-to-month</td>\n",
       "      <td>Yes</td>\n",
       "      <td>Electronic check</td>\n",
       "      <td>...</td>\n",
       "      <td>DSL</td>\n",
       "      <td>No</td>\n",
       "      <td>Yes</td>\n",
       "      <td>No</td>\n",
       "      <td>No</td>\n",
       "      <td>No</td>\n",
       "      <td>No</td>\n",
       "      <td>NaN</td>\n",
       "      <td>0</td>\n",
       "      <td>0</td>\n",
       "    </tr>\n",
       "    <tr>\n",
       "      <th>1</th>\n",
       "      <td>5575-GNVDE</td>\n",
       "      <td>Male</td>\n",
       "      <td>0</td>\n",
       "      <td>No</td>\n",
       "      <td>No</td>\n",
       "      <td>2017-04-01</td>\n",
       "      <td>No</td>\n",
       "      <td>One year</td>\n",
       "      <td>No</td>\n",
       "      <td>Mailed check</td>\n",
       "      <td>...</td>\n",
       "      <td>DSL</td>\n",
       "      <td>Yes</td>\n",
       "      <td>No</td>\n",
       "      <td>Yes</td>\n",
       "      <td>No</td>\n",
       "      <td>No</td>\n",
       "      <td>No</td>\n",
       "      <td>No</td>\n",
       "      <td>0</td>\n",
       "      <td>1</td>\n",
       "    </tr>\n",
       "    <tr>\n",
       "      <th>2</th>\n",
       "      <td>3668-QPYBK</td>\n",
       "      <td>Male</td>\n",
       "      <td>0</td>\n",
       "      <td>No</td>\n",
       "      <td>No</td>\n",
       "      <td>2019-10-01</td>\n",
       "      <td>2019-12-01 00:00:00</td>\n",
       "      <td>Month-to-month</td>\n",
       "      <td>Yes</td>\n",
       "      <td>Mailed check</td>\n",
       "      <td>...</td>\n",
       "      <td>DSL</td>\n",
       "      <td>Yes</td>\n",
       "      <td>Yes</td>\n",
       "      <td>No</td>\n",
       "      <td>No</td>\n",
       "      <td>No</td>\n",
       "      <td>No</td>\n",
       "      <td>No</td>\n",
       "      <td>1</td>\n",
       "      <td>1</td>\n",
       "    </tr>\n",
       "  </tbody>\n",
       "</table>\n",
       "<p>3 rows × 22 columns</p>\n",
       "</div>"
      ],
      "text/plain": [
       "  customer_id  gender  senior_citizen partner dependents  begin_date  \\\n",
       "0  7590-VHVEG  Female               0     Yes         No  2020-01-01   \n",
       "1  5575-GNVDE    Male               0      No         No  2017-04-01   \n",
       "2  3668-QPYBK    Male               0      No         No  2019-10-01   \n",
       "\n",
       "              end_date            type paperless_billing    payment_method  \\\n",
       "0                   No  Month-to-month               Yes  Electronic check   \n",
       "1                   No        One year                No      Mailed check   \n",
       "2  2019-12-01 00:00:00  Month-to-month               Yes      Mailed check   \n",
       "\n",
       "   ...  internet_service online_security online_backup device_protection  \\\n",
       "0  ...               DSL              No           Yes                No   \n",
       "1  ...               DSL             Yes            No               Yes   \n",
       "2  ...               DSL             Yes           Yes                No   \n",
       "\n",
       "  tech_support streaming_TV streaming_movies multiple_lines is_exited is_phone  \n",
       "0           No           No               No            NaN         0        0  \n",
       "1           No           No               No             No         0        1  \n",
       "2           No           No               No             No         1        1  \n",
       "\n",
       "[3 rows x 22 columns]"
      ]
     },
     "execution_count": 265,
     "metadata": {},
     "output_type": "execute_result"
    }
   ],
   "source": [
    "df.head(3)"
   ]
  },
  {
   "cell_type": "code",
   "execution_count": 266,
   "metadata": {
    "pycharm": {
     "name": "#%%\n"
    }
   },
   "outputs": [
    {
     "data": {
      "image/png": "[encoded data removed]",
      "text/plain": [
       "<Figure size 432x288 with 1 Axes>"
      ]
     },
     "metadata": {},
     "output_type": "display_data"
    }
   ],
   "source": [
    "df[(df['is_exited'] == 1) & (df['is_phone'] == 1)]['is_exited'].hist()\n",
    "df[(df['is_exited'] == 1) & (df['is_phone'] == 0)]['is_exited'].hist()\n",
    "plt.title('Количество ушедших с телефонией и без')\n",
    "plt.legend(['Есть телефония', 'Нет телефонии'])\n",
    "plt.show()"
   ]
  },
  {
   "cell_type": "code",
   "execution_count": 267,
   "metadata": {
    "pycharm": {
     "name": "#%%\n"
    }
   },
   "outputs": [
    {
     "data": {
      "text/plain": [
       "1    0.909042\n",
       "0    0.090958\n",
       "Name: is_phone, dtype: float64"
      ]
     },
     "execution_count": 267,
     "metadata": {},
     "output_type": "execute_result"
    }
   ],
   "source": [
    "df[(df['is_exited'] == 1)]['is_phone'].value_counts(normalize=True, dropna=False)"
   ]
  },
  {
   "cell_type": "code",
   "execution_count": 268,
   "metadata": {
    "pycharm": {
     "name": "#%%\n"
    }
   },
   "outputs": [
    {
     "data": {
      "text/plain": [
       "1    0.901044\n",
       "0    0.098956\n",
       "Name: is_phone, dtype: float64"
      ]
     },
     "execution_count": 268,
     "metadata": {},
     "output_type": "execute_result"
    }
   ],
   "source": [
    "df[(df['is_exited'] == 0)]['is_phone'].value_counts(normalize=True, dropna=False)"
   ]
  },
  {
   "cell_type": "code",
   "execution_count": 269,
   "metadata": {
    "pycharm": {
     "name": "#%%\n"
    }
   },
   "outputs": [
    {
     "data": {
      "image/png": "[encoded data removed]",
      "text/plain": [
       "<Figure size 432x288 with 1 Axes>"
      ]
     },
     "metadata": {},
     "output_type": "display_data"
    }
   ],
   "source": [
    "df[(df['is_exited'] == 0) & (df['is_phone'] == 1)]['is_exited'].hist()\n",
    "df[(df['is_exited'] == 0) & (df['is_phone'] == 0)]['is_exited'].hist()\n",
    "plt.title('Количество оставшихся с телефонией и без')\n",
    "plt.legend(['Есть телефония', 'Нет телефонии'])\n",
    "plt.show()"
   ]
  },
  {
   "cell_type": "code",
   "execution_count": 270,
   "metadata": {
    "pycharm": {
     "name": "#%%\n"
    }
   },
   "outputs": [
    {
     "data": {
      "text/plain": [
       "1    0.901044\n",
       "0    0.098956\n",
       "Name: is_phone, dtype: float64"
      ]
     },
     "execution_count": 270,
     "metadata": {},
     "output_type": "execute_result"
    }
   ],
   "source": [
    "df[(df['is_exited'] == 0)]['is_phone'].value_counts(normalize=True)"
   ]
  },
  {
   "cell_type": "markdown",
   "metadata": {
    "pycharm": {
     "name": "#%% md\n"
    }
   },
   "source": [
    "Видим, что из тех кто ушел 90% имели телефонию, но и из тех кто остался те же 90% имеют телефонию, скорее всего этот признак не имеет значения"
   ]
  },
  {
   "cell_type": "markdown",
   "metadata": {},
   "source": [
    "## Изучим клиентов которые пользуются интернетом"
   ]
  },
  {
   "cell_type": "code",
   "execution_count": 271,
   "metadata": {
    "pycharm": {
     "name": "#%%\n"
    }
   },
   "outputs": [],
   "source": [
    "df['is_internet'] = df['internet_service'].apply(lambda x: 1 if (x == 'DSL') or (x == 'Fiber optic') else 0)"
   ]
  },
  {
   "cell_type": "code",
   "execution_count": 272,
   "metadata": {
    "pycharm": {
     "name": "#%%\n"
    }
   },
   "outputs": [
    {
     "data": {
      "text/html": [
       "<div>\n",
       "<style scoped>\n",
       "    .dataframe tbody tr th:only-of-type {\n",
       "        vertical-align: middle;\n",
       "    }\n",
       "\n",
       "    .dataframe tbody tr th {\n",
       "        vertical-align: top;\n",
       "    }\n",
       "\n",
       "    .dataframe thead th {\n",
       "        text-align: right;\n",
       "    }\n",
       "</style>\n",
       "<table border=\"1\" class=\"dataframe\">\n",
       "  <thead>\n",
       "    <tr style=\"text-align: right;\">\n",
       "      <th></th>\n",
       "      <th>customer_id</th>\n",
       "      <th>gender</th>\n",
       "      <th>senior_citizen</th>\n",
       "      <th>partner</th>\n",
       "      <th>dependents</th>\n",
       "      <th>begin_date</th>\n",
       "      <th>end_date</th>\n",
       "      <th>type</th>\n",
       "      <th>paperless_billing</th>\n",
       "      <th>payment_method</th>\n",
       "      <th>...</th>\n",
       "      <th>online_security</th>\n",
       "      <th>online_backup</th>\n",
       "      <th>device_protection</th>\n",
       "      <th>tech_support</th>\n",
       "      <th>streaming_TV</th>\n",
       "      <th>streaming_movies</th>\n",
       "      <th>multiple_lines</th>\n",
       "      <th>is_exited</th>\n",
       "      <th>is_phone</th>\n",
       "      <th>is_internet</th>\n",
       "    </tr>\n",
       "  </thead>\n",
       "  <tbody>\n",
       "    <tr>\n",
       "      <th>6718</th>\n",
       "      <td>8676-TRMJS</td>\n",
       "      <td>Male</td>\n",
       "      <td>0</td>\n",
       "      <td>No</td>\n",
       "      <td>No</td>\n",
       "      <td>2019-10-01</td>\n",
       "      <td>2020-01-01 00:00:00</td>\n",
       "      <td>Month-to-month</td>\n",
       "      <td>No</td>\n",
       "      <td>Mailed check</td>\n",
       "      <td>...</td>\n",
       "      <td>No</td>\n",
       "      <td>No</td>\n",
       "      <td>No</td>\n",
       "      <td>No</td>\n",
       "      <td>No</td>\n",
       "      <td>No</td>\n",
       "      <td>Yes</td>\n",
       "      <td>1</td>\n",
       "      <td>1</td>\n",
       "      <td>1</td>\n",
       "    </tr>\n",
       "    <tr>\n",
       "      <th>5755</th>\n",
       "      <td>5937-EORGB</td>\n",
       "      <td>Male</td>\n",
       "      <td>1</td>\n",
       "      <td>Yes</td>\n",
       "      <td>No</td>\n",
       "      <td>2018-11-01</td>\n",
       "      <td>No</td>\n",
       "      <td>Month-to-month</td>\n",
       "      <td>Yes</td>\n",
       "      <td>Electronic check</td>\n",
       "      <td>...</td>\n",
       "      <td>Yes</td>\n",
       "      <td>No</td>\n",
       "      <td>Yes</td>\n",
       "      <td>No</td>\n",
       "      <td>Yes</td>\n",
       "      <td>No</td>\n",
       "      <td>Yes</td>\n",
       "      <td>0</td>\n",
       "      <td>1</td>\n",
       "      <td>1</td>\n",
       "    </tr>\n",
       "    <tr>\n",
       "      <th>2473</th>\n",
       "      <td>6164-HXUGH</td>\n",
       "      <td>Female</td>\n",
       "      <td>0</td>\n",
       "      <td>Yes</td>\n",
       "      <td>Yes</td>\n",
       "      <td>2019-08-01</td>\n",
       "      <td>No</td>\n",
       "      <td>Month-to-month</td>\n",
       "      <td>No</td>\n",
       "      <td>Mailed check</td>\n",
       "      <td>...</td>\n",
       "      <td>NaN</td>\n",
       "      <td>NaN</td>\n",
       "      <td>NaN</td>\n",
       "      <td>NaN</td>\n",
       "      <td>NaN</td>\n",
       "      <td>NaN</td>\n",
       "      <td>No</td>\n",
       "      <td>0</td>\n",
       "      <td>1</td>\n",
       "      <td>0</td>\n",
       "    </tr>\n",
       "  </tbody>\n",
       "</table>\n",
       "<p>3 rows × 23 columns</p>\n",
       "</div>"
      ],
      "text/plain": [
       "     customer_id  gender  senior_citizen partner dependents  begin_date  \\\n",
       "6718  8676-TRMJS    Male               0      No         No  2019-10-01   \n",
       "5755  5937-EORGB    Male               1     Yes         No  2018-11-01   \n",
       "2473  6164-HXUGH  Female               0     Yes        Yes  2019-08-01   \n",
       "\n",
       "                 end_date            type paperless_billing    payment_method  \\\n",
       "6718  2020-01-01 00:00:00  Month-to-month                No      Mailed check   \n",
       "5755                   No  Month-to-month               Yes  Electronic check   \n",
       "2473                   No  Month-to-month                No      Mailed check   \n",
       "\n",
       "      ...  online_security online_backup device_protection tech_support  \\\n",
       "6718  ...               No            No                No           No   \n",
       "5755  ...              Yes            No               Yes           No   \n",
       "2473  ...              NaN           NaN               NaN          NaN   \n",
       "\n",
       "     streaming_TV streaming_movies multiple_lines is_exited is_phone  \\\n",
       "6718           No               No            Yes         1        1   \n",
       "5755          Yes               No            Yes         0        1   \n",
       "2473          NaN              NaN             No         0        1   \n",
       "\n",
       "     is_internet  \n",
       "6718           1  \n",
       "5755           1  \n",
       "2473           0  \n",
       "\n",
       "[3 rows x 23 columns]"
      ]
     },
     "execution_count": 272,
     "metadata": {},
     "output_type": "execute_result"
    }
   ],
   "source": [
    "df.sample(3)"
   ]
  },
  {
   "cell_type": "code",
   "execution_count": 273,
   "metadata": {
    "pycharm": {
     "name": "#%%\n"
    }
   },
   "outputs": [
    {
     "data": {
      "image/png": "[encoded data removed]",
      "text/plain": [
       "<Figure size 432x288 with 1 Axes>"
      ]
     },
     "metadata": {},
     "output_type": "display_data"
    }
   ],
   "source": [
    "df[(df['is_exited'] == 1) & (df['is_internet'] == 1)]['is_exited'].hist()\n",
    "df[(df['is_exited'] == 1) & (df['is_internet'] == 0)]['is_exited'].hist()\n",
    "plt.title('Количество ушедших с интернетом и без')\n",
    "plt.legend(['Есть интернет', 'Нет интернета'])\n",
    "plt.show()"
   ]
  },
  {
   "cell_type": "code",
   "execution_count": 274,
   "metadata": {
    "pycharm": {
     "name": "#%%\n"
    }
   },
   "outputs": [
    {
     "data": {
      "text/plain": [
       "1    0.93954\n",
       "0    0.06046\n",
       "Name: is_internet, dtype: float64"
      ]
     },
     "execution_count": 274,
     "metadata": {},
     "output_type": "execute_result"
    }
   ],
   "source": [
    "df[(df['is_exited'] == 1)]['is_internet'].value_counts(normalize=True, dropna=False)"
   ]
  },
  {
   "cell_type": "code",
   "execution_count": 275,
   "metadata": {
    "pycharm": {
     "name": "#%%\n"
    }
   },
   "outputs": [
    {
     "data": {
      "text/plain": [
       "1    0.726904\n",
       "0    0.273096\n",
       "Name: is_internet, dtype: float64"
      ]
     },
     "execution_count": 275,
     "metadata": {},
     "output_type": "execute_result"
    }
   ],
   "source": [
    "df[(df['is_exited'] == 0)]['is_internet'].value_counts(normalize=True, dropna=False)"
   ]
  },
  {
   "cell_type": "code",
   "execution_count": 276,
   "metadata": {
    "pycharm": {
     "name": "#%%\n"
    }
   },
   "outputs": [
    {
     "data": {
      "image/png": "[encoded data removed]",
      "text/plain": [
       "<Figure size 432x288 with 1 Axes>"
      ]
     },
     "metadata": {},
     "output_type": "display_data"
    }
   ],
   "source": [
    "df[(df['is_exited'] == 0) & (df['is_internet'] == 1)]['is_exited'].hist()\n",
    "df[(df['is_exited'] == 0) & (df['is_internet'] == 0)]['is_exited'].hist()\n",
    "plt.title('Количество оставшихся с интернетом и без')\n",
    "plt.legend(['Есть интернет', 'Нет интернета'])\n",
    "plt.show()"
   ]
  },
  {
   "cell_type": "code",
   "execution_count": 277,
   "metadata": {
    "pycharm": {
     "name": "#%%\n"
    }
   },
   "outputs": [
    {
     "data": {
      "text/plain": [
       "1    0.726904\n",
       "0    0.273096\n",
       "Name: is_internet, dtype: float64"
      ]
     },
     "execution_count": 277,
     "metadata": {},
     "output_type": "execute_result"
    }
   ],
   "source": [
    "df[(df['is_exited'] == 0)]['is_internet'].value_counts(normalize=True)"
   ]
  },
  {
   "cell_type": "markdown",
   "metadata": {
    "pycharm": {
     "name": "#%% md\n"
    }
   },
   "source": [
    "Из тех кто ушел 93% пользовались интернетом, а из тех кто остался 72% пользуются интернетом. Доля пользователей интернетом в оттоке гораздо выше."
   ]
  },
  {
   "cell_type": "markdown",
   "metadata": {
    "pycharm": {
     "name": "#%% md\n"
    }
   },
   "source": [
    "## Как долго клиент пользуется услугой"
   ]
  },
  {
   "cell_type": "markdown",
   "metadata": {
    "pycharm": {
     "name": "#%% md\n"
    }
   },
   "source": [
    "Есть предположение, что есть зависимость от того как долго клиент пользуется услугой и фактом его ухода"
   ]
  },
  {
   "cell_type": "code",
   "execution_count": 278,
   "metadata": {
    "pycharm": {
     "name": "#%%\n"
    }
   },
   "outputs": [
    {
     "data": {
      "text/plain": [
       "Timestamp('2020-02-01 00:00:00')"
      ]
     },
     "execution_count": 278,
     "metadata": {},
     "output_type": "execute_result"
    }
   ],
   "source": [
    "end_point = pd.to_datetime('2020-02-01')\n",
    "end_point"
   ]
  },
  {
   "cell_type": "code",
   "execution_count": 279,
   "metadata": {
    "pycharm": {
     "name": "#%%\n"
    }
   },
   "outputs": [],
   "source": [
    "# подсчитываем сколько клиент пользовался услугой\n",
    "def duration_use(df):\n",
    "    if df['end_date'] == 'No':\n",
    "        r = relativedelta.relativedelta(end_point, pd.to_datetime(df['begin_date']))\n",
    "        return (r.years * 12) + r.months\n",
    "    r = relativedelta.relativedelta(pd.to_datetime(df['end_date']), pd.to_datetime(df['begin_date']))\n",
    "    return (r.years * 12) + r.months"
   ]
  },
  {
   "cell_type": "code",
   "execution_count": 280,
   "metadata": {
    "pycharm": {
     "name": "#%%\n"
    }
   },
   "outputs": [],
   "source": [
    "df['duration_use'] = df.apply(duration_use, axis=1)"
   ]
  },
  {
   "cell_type": "code",
   "execution_count": 281,
   "metadata": {
    "pycharm": {
     "name": "#%%\n"
    }
   },
   "outputs": [
    {
     "data": {
      "text/html": [
       "<div>\n",
       "<style scoped>\n",
       "    .dataframe tbody tr th:only-of-type {\n",
       "        vertical-align: middle;\n",
       "    }\n",
       "\n",
       "    .dataframe tbody tr th {\n",
       "        vertical-align: top;\n",
       "    }\n",
       "\n",
       "    .dataframe thead th {\n",
       "        text-align: right;\n",
       "    }\n",
       "</style>\n",
       "<table border=\"1\" class=\"dataframe\">\n",
       "  <thead>\n",
       "    <tr style=\"text-align: right;\">\n",
       "      <th></th>\n",
       "      <th>begin_date</th>\n",
       "      <th>end_date</th>\n",
       "      <th>duration_use</th>\n",
       "    </tr>\n",
       "  </thead>\n",
       "  <tbody>\n",
       "    <tr>\n",
       "      <th>0</th>\n",
       "      <td>2020-01-01</td>\n",
       "      <td>No</td>\n",
       "      <td>1</td>\n",
       "    </tr>\n",
       "    <tr>\n",
       "      <th>1</th>\n",
       "      <td>2017-04-01</td>\n",
       "      <td>No</td>\n",
       "      <td>34</td>\n",
       "    </tr>\n",
       "    <tr>\n",
       "      <th>2</th>\n",
       "      <td>2019-10-01</td>\n",
       "      <td>2019-12-01 00:00:00</td>\n",
       "      <td>2</td>\n",
       "    </tr>\n",
       "    <tr>\n",
       "      <th>3</th>\n",
       "      <td>2016-05-01</td>\n",
       "      <td>No</td>\n",
       "      <td>45</td>\n",
       "    </tr>\n",
       "    <tr>\n",
       "      <th>4</th>\n",
       "      <td>2019-09-01</td>\n",
       "      <td>2019-11-01 00:00:00</td>\n",
       "      <td>2</td>\n",
       "    </tr>\n",
       "  </tbody>\n",
       "</table>\n",
       "</div>"
      ],
      "text/plain": [
       "   begin_date             end_date  duration_use\n",
       "0  2020-01-01                   No             1\n",
       "1  2017-04-01                   No            34\n",
       "2  2019-10-01  2019-12-01 00:00:00             2\n",
       "3  2016-05-01                   No            45\n",
       "4  2019-09-01  2019-11-01 00:00:00             2"
      ]
     },
     "execution_count": 281,
     "metadata": {},
     "output_type": "execute_result"
    }
   ],
   "source": [
    "df[['begin_date', 'end_date', 'duration_use']].head()"
   ]
  },
  {
   "cell_type": "code",
   "execution_count": 282,
   "metadata": {
    "pycharm": {
     "name": "#%%\n"
    }
   },
   "outputs": [
    {
     "data": {
      "image/png": "[encoded data removed]",
      "text/plain": [
       "<Figure size 432x288 with 1 Axes>"
      ]
     },
     "metadata": {},
     "output_type": "display_data"
    }
   ],
   "source": [
    "df[df['is_exited'] == 0]['duration_use'].hist()\n",
    "df[df['is_exited'] == 1]['duration_use'].hist()\n",
    "plt.title('Распределение лояльности клиента')\n",
    "plt.legend(['0', '1'])\n",
    "plt.show()"
   ]
  },
  {
   "cell_type": "code",
   "execution_count": 283,
   "metadata": {
    "pycharm": {
     "name": "#%%\n"
    }
   },
   "outputs": [
    {
     "data": {
      "text/plain": [
       "count    5174.000000\n",
       "mean       37.569965\n",
       "std        24.113777\n",
       "min         0.000000\n",
       "25%        15.000000\n",
       "50%        38.000000\n",
       "75%        61.000000\n",
       "max        72.000000\n",
       "Name: duration_use, dtype: float64"
      ]
     },
     "execution_count": 283,
     "metadata": {},
     "output_type": "execute_result"
    }
   ],
   "source": [
    "df[df['is_exited'] == 0]['duration_use'].describe()"
   ]
  },
  {
   "cell_type": "code",
   "execution_count": 284,
   "metadata": {
    "pycharm": {
     "name": "#%%\n"
    }
   },
   "outputs": [
    {
     "data": {
      "text/plain": [
       "count    1869.000000\n",
       "mean       17.979133\n",
       "std        19.531123\n",
       "min         1.000000\n",
       "25%         2.000000\n",
       "50%        10.000000\n",
       "75%        29.000000\n",
       "max        72.000000\n",
       "Name: duration_use, dtype: float64"
      ]
     },
     "execution_count": 284,
     "metadata": {},
     "output_type": "execute_result"
    }
   ],
   "source": [
    "df[df['is_exited'] == 1]['duration_use'].describe()"
   ]
  },
  {
   "cell_type": "markdown",
   "metadata": {
    "pycharm": {
     "name": "#%% md\n"
    }
   },
   "source": [
    "- На графике виден явный тренд: большинство клиентов уходят в первые 12 месяцев\n",
    "- Клиенты которые не ушли распределены равномерно(здесь надо оговориться что наши данные могут быть неравномеры по причине того, что у нас есть клиенты которые только недавно стали клиентами и у них будет 2 месяца и те кто давно ушел и тоже пропользовался 2 месяца сервисом)"
   ]
  },
  {
   "cell_type": "markdown",
   "metadata": {
    "pycharm": {
     "name": "#%% md\n"
    }
   },
   "source": [
    "## Как тип пакета клиента влияет на отток клиентов"
   ]
  },
  {
   "cell_type": "code",
   "execution_count": 285,
   "metadata": {
    "pycharm": {
     "name": "#%%\n"
    }
   },
   "outputs": [
    {
     "data": {
      "text/html": [
       "<div>\n",
       "<style scoped>\n",
       "    .dataframe tbody tr th:only-of-type {\n",
       "        vertical-align: middle;\n",
       "    }\n",
       "\n",
       "    .dataframe tbody tr th {\n",
       "        vertical-align: top;\n",
       "    }\n",
       "\n",
       "    .dataframe thead th {\n",
       "        text-align: right;\n",
       "    }\n",
       "</style>\n",
       "<table border=\"1\" class=\"dataframe\">\n",
       "  <thead>\n",
       "    <tr style=\"text-align: right;\">\n",
       "      <th></th>\n",
       "      <th>count</th>\n",
       "      <th>sum</th>\n",
       "    </tr>\n",
       "    <tr>\n",
       "      <th>type</th>\n",
       "      <th></th>\n",
       "      <th></th>\n",
       "    </tr>\n",
       "  </thead>\n",
       "  <tbody>\n",
       "    <tr>\n",
       "      <th>Month-to-month</th>\n",
       "      <td>3875</td>\n",
       "      <td>1655</td>\n",
       "    </tr>\n",
       "    <tr>\n",
       "      <th>One year</th>\n",
       "      <td>1473</td>\n",
       "      <td>166</td>\n",
       "    </tr>\n",
       "    <tr>\n",
       "      <th>Two year</th>\n",
       "      <td>1695</td>\n",
       "      <td>48</td>\n",
       "    </tr>\n",
       "  </tbody>\n",
       "</table>\n",
       "</div>"
      ],
      "text/plain": [
       "                count   sum\n",
       "type                       \n",
       "Month-to-month   3875  1655\n",
       "One year         1473   166\n",
       "Two year         1695    48"
      ]
     },
     "execution_count": 285,
     "metadata": {},
     "output_type": "execute_result"
    }
   ],
   "source": [
    "df.groupby(['type'])['is_exited'].agg(['count', 'sum'])"
   ]
  },
  {
   "cell_type": "markdown",
   "metadata": {
    "pycharm": {
     "name": "#%% md\n"
    }
   },
   "source": [
    "Видим, что клиенты которые имеют тип контракта month-to-month более склонны уодить в отток, чем остальные. Даже можно предположить чем длительнее тип контракта у клиента, тем дольше он задерживается. Я бы предложила ввести отделу маркетинга новый тип пакета - например, на 6 месяцев, и выгодные условия перехода для тех, у кого контракт на month-to-month. Т.о. можно было бы перетянуть клиентов из одной группы в другую и косвенным образом снизить отток."
   ]
  },
  {
   "cell_type": "markdown",
   "metadata": {
    "pycharm": {
     "name": "#%% md\n"
    }
   },
   "source": [
    "## Посмотрим на зависимость оттока от месяца подключения"
   ]
  },
  {
   "cell_type": "code",
   "execution_count": 286,
   "metadata": {
    "pycharm": {
     "name": "#%%\n"
    }
   },
   "outputs": [],
   "source": [
    "t = df.copy()\n",
    "t['begin_date_month'] = df['begin_date'].apply(lambda x: pd.to_datetime(x).month)"
   ]
  },
  {
   "cell_type": "code",
   "execution_count": 287,
   "metadata": {
    "pycharm": {
     "name": "#%%\n"
    }
   },
   "outputs": [
    {
     "data": {
      "image/png": "[encoded data removed]",
      "text/plain": [
       "<Figure size 864x504 with 1 Axes>"
      ]
     },
     "metadata": {},
     "output_type": "display_data"
    }
   ],
   "source": [
    "t[t['is_exited'] == 1].groupby('begin_date_month')['customer_id'].agg('count').plot(\n",
    "    title='Количество клиентов покупающих услуги по месяцам', figsize=(12, 7), grid=True,\n",
    ")\n",
    "t[t['is_exited'] == 0].groupby('begin_date_month')['customer_id'].agg('count').plot(\n",
    "    title='Количество клиентов покупающих услуги по месяцам', figsize=(12, 7), grid=True,\n",
    ")\n",
    "plt.legend([\"Ушли\", \"Остались\"])\n",
    "plt.xlabel(\"Месяц начала использования контракта\")\n",
    "plt.ylabel(\"Количество клиентов\")\n",
    "plt.show()"
   ]
  },
  {
   "cell_type": "code",
   "execution_count": 288,
   "metadata": {
    "pycharm": {
     "name": "#%%\n"
    }
   },
   "outputs": [
    {
     "data": {
      "text/plain": [
       "Yes    0.670398\n",
       "No     0.329602\n",
       "Name: partner, dtype: float64"
      ]
     },
     "execution_count": 288,
     "metadata": {},
     "output_type": "execute_result"
    }
   ],
   "source": [
    "t[t['begin_date_month'] == 2]['partner'].value_counts(normalize=True)"
   ]
  },
  {
   "cell_type": "code",
   "execution_count": 289,
   "metadata": {
    "pycharm": {
     "name": "#%%\n"
    }
   },
   "outputs": [
    {
     "data": {
      "text/plain": [
       "Two year          0.554726\n",
       "Month-to-month    0.278607\n",
       "One year          0.166667\n",
       "Name: type, dtype: float64"
      ]
     },
     "execution_count": 289,
     "metadata": {},
     "output_type": "execute_result"
    }
   ],
   "source": [
    "t[t['begin_date_month'] == 2]['type'].value_counts(normalize=True)"
   ]
  },
  {
   "cell_type": "markdown",
   "metadata": {
    "pycharm": {
     "name": "#%% md\n"
    }
   },
   "source": [
    "Как мы помним изначально у нас 0.52(No) и 0.48(Yes) соотношение по признаку partner, но в феврале месяце чаще подключаются к телеком услугам те, у кого признак Yes, это на 19% больше чем в среднем по году, этот инсайт можно передать в отдел маркетинга, возможно необходимо доработать тарифы для клиентов с признаком patner=Yes. Если посмотреть на соотношение в феврале по типу контракта, то мы видим наше подтверждение что у нас 55% берут контракт на 2 года, но затем следуют те, что на ежемесячные платежи, вот их скорее всего можно подтянуть на 1-годовой контракт."
   ]
  },
  {
   "cell_type": "code",
   "execution_count": 290,
   "metadata": {
    "pycharm": {
     "name": "#%%\n"
    }
   },
   "outputs": [
    {
     "data": {
      "text/plain": [
       "Month-to-month    0.670947\n",
       "One year          0.199037\n",
       "Two year          0.130016\n",
       "Name: type, dtype: float64"
      ]
     },
     "execution_count": 290,
     "metadata": {},
     "output_type": "execute_result"
    }
   ],
   "source": [
    "t[t['begin_date_month'] == 9]['type'].value_counts(normalize=True)"
   ]
  },
  {
   "cell_type": "code",
   "execution_count": 291,
   "metadata": {
    "pycharm": {
     "name": "#%%\n"
    }
   },
   "outputs": [
    {
     "data": {
      "text/plain": [
       "No     0.609952\n",
       "Yes    0.390048\n",
       "Name: partner, dtype: float64"
      ]
     },
     "execution_count": 291,
     "metadata": {},
     "output_type": "execute_result"
    }
   ],
   "source": [
    "t[t['begin_date_month'] == 9]['partner'].value_counts(normalize=True)"
   ]
  },
  {
   "cell_type": "markdown",
   "metadata": {
    "pycharm": {
     "name": "#%% md\n"
    }
   },
   "source": [
    "А в сентябре у нас сильный перевес в сторону тех кто берет контракт на помесячную оплату, здесь точно стоит поработать с аудиторией, по нашим признакам(gender, senior_citizen, partner, dependents не нашла отклонений, возможно здесь речь о том, что взрослые подключают услуги телекома подросткам - 1 сентября). Небольшой рост от общего числа наблюдений есть для фичи patner=No - 9%."
   ]
  },
  {
   "cell_type": "code",
   "execution_count": 292,
   "metadata": {
    "pycharm": {
     "name": "#%%\n"
    }
   },
   "outputs": [
    {
     "data": {
      "text/plain": [
       "No     0.637681\n",
       "Yes    0.362319\n",
       "Name: partner, dtype: float64"
      ]
     },
     "execution_count": 292,
     "metadata": {},
     "output_type": "execute_result"
    }
   ],
   "source": [
    "t[t['begin_date_month'] == 11]['partner'].value_counts(normalize=True)"
   ]
  },
  {
   "cell_type": "code",
   "execution_count": 293,
   "metadata": {
    "pycharm": {
     "name": "#%%\n"
    }
   },
   "outputs": [
    {
     "data": {
      "text/plain": [
       "Month-to-month    0.658615\n",
       "One year          0.198068\n",
       "Two year          0.143317\n",
       "Name: type, dtype: float64"
      ]
     },
     "execution_count": 293,
     "metadata": {},
     "output_type": "execute_result"
    }
   ],
   "source": [
    "t[t['begin_date_month'] == 11]['type'].value_counts(normalize=True)"
   ]
  },
  {
   "cell_type": "markdown",
   "metadata": {},
   "source": [
    "Здесь так же отклонение от общих данных в 12% для  тех у кого partner=No. По контрактам ситуация аналогичная как в сентябре."
   ]
  },
  {
   "cell_type": "markdown",
   "metadata": {
    "pycharm": {
     "name": "#%% md\n"
    }
   },
   "source": [
    "## Корреляция фичей"
   ]
  },
  {
   "cell_type": "code",
   "execution_count": 294,
   "metadata": {
    "pycharm": {
     "name": "#%%\n"
    }
   },
   "outputs": [],
   "source": [
    "import seaborn as sns\n",
    "cm = sns.dark_palette(\"green\", as_cmap=True)"
   ]
  },
  {
   "cell_type": "code",
   "execution_count": 295,
   "metadata": {
    "pycharm": {
     "name": "#%%\n"
    }
   },
   "outputs": [
    {
     "data": {
      "text/html": [
       "<style type=\"text/css\">\n",
       "#T_f0dd7_row0_col0, #T_f0dd7_row1_col1, #T_f0dd7_row2_col2, #T_f0dd7_row3_col3, #T_f0dd7_row4_col4, #T_f0dd7_row5_col5 {\n",
       "  background-color: #008000;\n",
       "  color: #f1f1f1;\n",
       "}\n",
       "#T_f0dd7_row0_col1 {\n",
       "  background-color: #212a21;\n",
       "  color: #f1f1f1;\n",
       "}\n",
       "#T_f0dd7_row0_col2 {\n",
       "  background-color: #154815;\n",
       "  color: #f1f1f1;\n",
       "}\n",
       "#T_f0dd7_row0_col3, #T_f0dd7_row5_col3 {\n",
       "  background-color: #1d351d;\n",
       "  color: #f1f1f1;\n",
       "}\n",
       "#T_f0dd7_row0_col4 {\n",
       "  background-color: #184218;\n",
       "  color: #f1f1f1;\n",
       "}\n",
       "#T_f0dd7_row0_col5, #T_f0dd7_row3_col2, #T_f0dd7_row3_col5 {\n",
       "  background-color: #193f19;\n",
       "  color: #f1f1f1;\n",
       "}\n",
       "#T_f0dd7_row1_col0 {\n",
       "  background-color: #1b3a1b;\n",
       "  color: #f1f1f1;\n",
       "}\n",
       "#T_f0dd7_row1_col2 {\n",
       "  background-color: #144b14;\n",
       "  color: #f1f1f1;\n",
       "}\n",
       "#T_f0dd7_row1_col3 {\n",
       "  background-color: #164716;\n",
       "  color: #f1f1f1;\n",
       "}\n",
       "#T_f0dd7_row1_col4 {\n",
       "  background-color: #076e07;\n",
       "  color: #f1f1f1;\n",
       "}\n",
       "#T_f0dd7_row1_col5 {\n",
       "  background-color: #134f13;\n",
       "  color: #f1f1f1;\n",
       "}\n",
       "#T_f0dd7_row2_col0 {\n",
       "  background-color: #1d341d;\n",
       "  color: #f1f1f1;\n",
       "}\n",
       "#T_f0dd7_row2_col1, #T_f0dd7_row2_col5, #T_f0dd7_row3_col0, #T_f0dd7_row3_col4, #T_f0dd7_row4_col3, #T_f0dd7_row5_col2 {\n",
       "  background-color: #222722;\n",
       "  color: #f1f1f1;\n",
       "}\n",
       "#T_f0dd7_row2_col3 {\n",
       "  background-color: #1c351c;\n",
       "  color: #f1f1f1;\n",
       "}\n",
       "#T_f0dd7_row2_col4 {\n",
       "  background-color: #164516;\n",
       "  color: #f1f1f1;\n",
       "}\n",
       "#T_f0dd7_row3_col1, #T_f0dd7_row5_col1 {\n",
       "  background-color: #1f2d1f;\n",
       "  color: #f1f1f1;\n",
       "}\n",
       "#T_f0dd7_row4_col0 {\n",
       "  background-color: #1c361c;\n",
       "  color: #f1f1f1;\n",
       "}\n",
       "#T_f0dd7_row4_col1 {\n",
       "  background-color: #0a660a;\n",
       "  color: #f1f1f1;\n",
       "}\n",
       "#T_f0dd7_row4_col2 {\n",
       "  background-color: #134d13;\n",
       "  color: #f1f1f1;\n",
       "}\n",
       "#T_f0dd7_row4_col5 {\n",
       "  background-color: #184118;\n",
       "  color: #f1f1f1;\n",
       "}\n",
       "#T_f0dd7_row5_col0 {\n",
       "  background-color: #212821;\n",
       "  color: #f1f1f1;\n",
       "}\n",
       "#T_f0dd7_row5_col4 {\n",
       "  background-color: #1c371c;\n",
       "  color: #f1f1f1;\n",
       "}\n",
       "</style>\n",
       "<table id=\"T_f0dd7_\">\n",
       "  <thead>\n",
       "    <tr>\n",
       "      <th class=\"blank level0\" >&nbsp;</th>\n",
       "      <th class=\"col_heading level0 col0\" >senior_citizen</th>\n",
       "      <th class=\"col_heading level0 col1\" >monthly_charges</th>\n",
       "      <th class=\"col_heading level0 col2\" >is_exited</th>\n",
       "      <th class=\"col_heading level0 col3\" >is_phone</th>\n",
       "      <th class=\"col_heading level0 col4\" >is_internet</th>\n",
       "      <th class=\"col_heading level0 col5\" >duration_use</th>\n",
       "    </tr>\n",
       "  </thead>\n",
       "  <tbody>\n",
       "    <tr>\n",
       "      <th id=\"T_f0dd7_level0_row0\" class=\"row_heading level0 row0\" >senior_citizen</th>\n",
       "      <td id=\"T_f0dd7_row0_col0\" class=\"data row0 col0\" >1.000000</td>\n",
       "      <td id=\"T_f0dd7_row0_col1\" class=\"data row0 col1\" >0.220173</td>\n",
       "      <td id=\"T_f0dd7_row0_col2\" class=\"data row0 col2\" >0.150889</td>\n",
       "      <td id=\"T_f0dd7_row0_col3\" class=\"data row0 col3\" >0.008576</td>\n",
       "      <td id=\"T_f0dd7_row0_col4\" class=\"data row0 col4\" >0.182742</td>\n",
       "      <td id=\"T_f0dd7_row0_col5\" class=\"data row0 col5\" >0.016567</td>\n",
       "    </tr>\n",
       "    <tr>\n",
       "      <th id=\"T_f0dd7_level0_row1\" class=\"row_heading level0 row1\" >monthly_charges</th>\n",
       "      <td id=\"T_f0dd7_row1_col0\" class=\"data row1 col0\" >0.220173</td>\n",
       "      <td id=\"T_f0dd7_row1_col1\" class=\"data row1 col1\" >1.000000</td>\n",
       "      <td id=\"T_f0dd7_row1_col2\" class=\"data row1 col2\" >0.193356</td>\n",
       "      <td id=\"T_f0dd7_row1_col3\" class=\"data row1 col3\" >0.247398</td>\n",
       "      <td id=\"T_f0dd7_row1_col4\" class=\"data row1 col4\" >0.763557</td>\n",
       "      <td id=\"T_f0dd7_row1_col5\" class=\"data row1 col5\" >0.247900</td>\n",
       "    </tr>\n",
       "    <tr>\n",
       "      <th id=\"T_f0dd7_level0_row2\" class=\"row_heading level0 row2\" >is_exited</th>\n",
       "      <td id=\"T_f0dd7_row2_col0\" class=\"data row2 col0\" >0.150889</td>\n",
       "      <td id=\"T_f0dd7_row2_col1\" class=\"data row2 col1\" >0.193356</td>\n",
       "      <td id=\"T_f0dd7_row2_col2\" class=\"data row2 col2\" >1.000000</td>\n",
       "      <td id=\"T_f0dd7_row2_col3\" class=\"data row2 col3\" >0.011942</td>\n",
       "      <td id=\"T_f0dd7_row2_col4\" class=\"data row2 col4\" >0.227890</td>\n",
       "      <td id=\"T_f0dd7_row2_col5\" class=\"data row2 col5\" >-0.352229</td>\n",
       "    </tr>\n",
       "    <tr>\n",
       "      <th id=\"T_f0dd7_level0_row3\" class=\"row_heading level0 row3\" >is_phone</th>\n",
       "      <td id=\"T_f0dd7_row3_col0\" class=\"data row3 col0\" >0.008576</td>\n",
       "      <td id=\"T_f0dd7_row3_col1\" class=\"data row3 col1\" >0.247398</td>\n",
       "      <td id=\"T_f0dd7_row3_col2\" class=\"data row3 col2\" >0.011942</td>\n",
       "      <td id=\"T_f0dd7_row3_col3\" class=\"data row3 col3\" >1.000000</td>\n",
       "      <td id=\"T_f0dd7_row3_col4\" class=\"data row3 col4\" >-0.172209</td>\n",
       "      <td id=\"T_f0dd7_row3_col5\" class=\"data row3 col5\" >0.008448</td>\n",
       "    </tr>\n",
       "    <tr>\n",
       "      <th id=\"T_f0dd7_level0_row4\" class=\"row_heading level0 row4\" >is_internet</th>\n",
       "      <td id=\"T_f0dd7_row4_col0\" class=\"data row4 col0\" >0.182742</td>\n",
       "      <td id=\"T_f0dd7_row4_col1\" class=\"data row4 col1\" >0.763557</td>\n",
       "      <td id=\"T_f0dd7_row4_col2\" class=\"data row4 col2\" >0.227890</td>\n",
       "      <td id=\"T_f0dd7_row4_col3\" class=\"data row4 col3\" >-0.172209</td>\n",
       "      <td id=\"T_f0dd7_row4_col4\" class=\"data row4 col4\" >1.000000</td>\n",
       "      <td id=\"T_f0dd7_row4_col5\" class=\"data row4 col5\" >0.039062</td>\n",
       "    </tr>\n",
       "    <tr>\n",
       "      <th id=\"T_f0dd7_level0_row5\" class=\"row_heading level0 row5\" >duration_use</th>\n",
       "      <td id=\"T_f0dd7_row5_col0\" class=\"data row5 col0\" >0.016567</td>\n",
       "      <td id=\"T_f0dd7_row5_col1\" class=\"data row5 col1\" >0.247900</td>\n",
       "      <td id=\"T_f0dd7_row5_col2\" class=\"data row5 col2\" >-0.352229</td>\n",
       "      <td id=\"T_f0dd7_row5_col3\" class=\"data row5 col3\" >0.008448</td>\n",
       "      <td id=\"T_f0dd7_row5_col4\" class=\"data row5 col4\" >0.039062</td>\n",
       "      <td id=\"T_f0dd7_row5_col5\" class=\"data row5 col5\" >1.000000</td>\n",
       "    </tr>\n",
       "  </tbody>\n",
       "</table>\n"
      ],
      "text/plain": [
       "<pandas.io.formats.style.Styler at 0x262beb85988>"
      ]
     },
     "execution_count": 295,
     "metadata": {},
     "output_type": "execute_result"
    }
   ],
   "source": [
    "df.corr().style.background_gradient(cmap=cm)"
   ]
  },
  {
   "cell_type": "markdown",
   "metadata": {
    "pycharm": {
     "name": "#%% md\n"
    }
   },
   "source": [
    "# Feature engineering"
   ]
  },
  {
   "cell_type": "code",
   "execution_count": 296,
   "metadata": {
    "pycharm": {
     "name": "#%%\n"
    }
   },
   "outputs": [
    {
     "data": {
      "text/html": [
       "<div>\n",
       "<style scoped>\n",
       "    .dataframe tbody tr th:only-of-type {\n",
       "        vertical-align: middle;\n",
       "    }\n",
       "\n",
       "    .dataframe tbody tr th {\n",
       "        vertical-align: top;\n",
       "    }\n",
       "\n",
       "    .dataframe thead th {\n",
       "        text-align: right;\n",
       "    }\n",
       "</style>\n",
       "<table border=\"1\" class=\"dataframe\">\n",
       "  <thead>\n",
       "    <tr style=\"text-align: right;\">\n",
       "      <th></th>\n",
       "      <th>customer_id</th>\n",
       "      <th>gender</th>\n",
       "      <th>senior_citizen</th>\n",
       "      <th>partner</th>\n",
       "      <th>dependents</th>\n",
       "      <th>begin_date</th>\n",
       "      <th>end_date</th>\n",
       "      <th>type</th>\n",
       "      <th>paperless_billing</th>\n",
       "      <th>payment_method</th>\n",
       "      <th>...</th>\n",
       "      <th>online_backup</th>\n",
       "      <th>device_protection</th>\n",
       "      <th>tech_support</th>\n",
       "      <th>streaming_TV</th>\n",
       "      <th>streaming_movies</th>\n",
       "      <th>multiple_lines</th>\n",
       "      <th>is_exited</th>\n",
       "      <th>is_phone</th>\n",
       "      <th>is_internet</th>\n",
       "      <th>duration_use</th>\n",
       "    </tr>\n",
       "  </thead>\n",
       "  <tbody>\n",
       "    <tr>\n",
       "      <th>0</th>\n",
       "      <td>7590-VHVEG</td>\n",
       "      <td>Female</td>\n",
       "      <td>0</td>\n",
       "      <td>Yes</td>\n",
       "      <td>No</td>\n",
       "      <td>2020-01-01</td>\n",
       "      <td>No</td>\n",
       "      <td>Month-to-month</td>\n",
       "      <td>Yes</td>\n",
       "      <td>Electronic check</td>\n",
       "      <td>...</td>\n",
       "      <td>Yes</td>\n",
       "      <td>No</td>\n",
       "      <td>No</td>\n",
       "      <td>No</td>\n",
       "      <td>No</td>\n",
       "      <td>NaN</td>\n",
       "      <td>0</td>\n",
       "      <td>0</td>\n",
       "      <td>1</td>\n",
       "      <td>1</td>\n",
       "    </tr>\n",
       "    <tr>\n",
       "      <th>1</th>\n",
       "      <td>5575-GNVDE</td>\n",
       "      <td>Male</td>\n",
       "      <td>0</td>\n",
       "      <td>No</td>\n",
       "      <td>No</td>\n",
       "      <td>2017-04-01</td>\n",
       "      <td>No</td>\n",
       "      <td>One year</td>\n",
       "      <td>No</td>\n",
       "      <td>Mailed check</td>\n",
       "      <td>...</td>\n",
       "      <td>No</td>\n",
       "      <td>Yes</td>\n",
       "      <td>No</td>\n",
       "      <td>No</td>\n",
       "      <td>No</td>\n",
       "      <td>No</td>\n",
       "      <td>0</td>\n",
       "      <td>1</td>\n",
       "      <td>1</td>\n",
       "      <td>34</td>\n",
       "    </tr>\n",
       "    <tr>\n",
       "      <th>2</th>\n",
       "      <td>3668-QPYBK</td>\n",
       "      <td>Male</td>\n",
       "      <td>0</td>\n",
       "      <td>No</td>\n",
       "      <td>No</td>\n",
       "      <td>2019-10-01</td>\n",
       "      <td>2019-12-01 00:00:00</td>\n",
       "      <td>Month-to-month</td>\n",
       "      <td>Yes</td>\n",
       "      <td>Mailed check</td>\n",
       "      <td>...</td>\n",
       "      <td>Yes</td>\n",
       "      <td>No</td>\n",
       "      <td>No</td>\n",
       "      <td>No</td>\n",
       "      <td>No</td>\n",
       "      <td>No</td>\n",
       "      <td>1</td>\n",
       "      <td>1</td>\n",
       "      <td>1</td>\n",
       "      <td>2</td>\n",
       "    </tr>\n",
       "    <tr>\n",
       "      <th>3</th>\n",
       "      <td>7795-CFOCW</td>\n",
       "      <td>Male</td>\n",
       "      <td>0</td>\n",
       "      <td>No</td>\n",
       "      <td>No</td>\n",
       "      <td>2016-05-01</td>\n",
       "      <td>No</td>\n",
       "      <td>One year</td>\n",
       "      <td>No</td>\n",
       "      <td>Bank transfer (automatic)</td>\n",
       "      <td>...</td>\n",
       "      <td>No</td>\n",
       "      <td>Yes</td>\n",
       "      <td>Yes</td>\n",
       "      <td>No</td>\n",
       "      <td>No</td>\n",
       "      <td>NaN</td>\n",
       "      <td>0</td>\n",
       "      <td>0</td>\n",
       "      <td>1</td>\n",
       "      <td>45</td>\n",
       "    </tr>\n",
       "    <tr>\n",
       "      <th>4</th>\n",
       "      <td>9237-HQITU</td>\n",
       "      <td>Female</td>\n",
       "      <td>0</td>\n",
       "      <td>No</td>\n",
       "      <td>No</td>\n",
       "      <td>2019-09-01</td>\n",
       "      <td>2019-11-01 00:00:00</td>\n",
       "      <td>Month-to-month</td>\n",
       "      <td>Yes</td>\n",
       "      <td>Electronic check</td>\n",
       "      <td>...</td>\n",
       "      <td>No</td>\n",
       "      <td>No</td>\n",
       "      <td>No</td>\n",
       "      <td>No</td>\n",
       "      <td>No</td>\n",
       "      <td>No</td>\n",
       "      <td>1</td>\n",
       "      <td>1</td>\n",
       "      <td>1</td>\n",
       "      <td>2</td>\n",
       "    </tr>\n",
       "  </tbody>\n",
       "</table>\n",
       "<p>5 rows × 24 columns</p>\n",
       "</div>"
      ],
      "text/plain": [
       "  customer_id  gender  senior_citizen partner dependents  begin_date  \\\n",
       "0  7590-VHVEG  Female               0     Yes         No  2020-01-01   \n",
       "1  5575-GNVDE    Male               0      No         No  2017-04-01   \n",
       "2  3668-QPYBK    Male               0      No         No  2019-10-01   \n",
       "3  7795-CFOCW    Male               0      No         No  2016-05-01   \n",
       "4  9237-HQITU  Female               0      No         No  2019-09-01   \n",
       "\n",
       "              end_date            type paperless_billing  \\\n",
       "0                   No  Month-to-month               Yes   \n",
       "1                   No        One year                No   \n",
       "2  2019-12-01 00:00:00  Month-to-month               Yes   \n",
       "3                   No        One year                No   \n",
       "4  2019-11-01 00:00:00  Month-to-month               Yes   \n",
       "\n",
       "              payment_method  ...  online_backup device_protection  \\\n",
       "0           Electronic check  ...            Yes                No   \n",
       "1               Mailed check  ...             No               Yes   \n",
       "2               Mailed check  ...            Yes                No   \n",
       "3  Bank transfer (automatic)  ...             No               Yes   \n",
       "4           Electronic check  ...             No                No   \n",
       "\n",
       "  tech_support streaming_TV streaming_movies multiple_lines is_exited  \\\n",
       "0           No           No               No            NaN         0   \n",
       "1           No           No               No             No         0   \n",
       "2           No           No               No             No         1   \n",
       "3          Yes           No               No            NaN         0   \n",
       "4           No           No               No             No         1   \n",
       "\n",
       "  is_phone is_internet duration_use  \n",
       "0        0           1            1  \n",
       "1        1           1           34  \n",
       "2        1           1            2  \n",
       "3        0           1           45  \n",
       "4        1           1            2  \n",
       "\n",
       "[5 rows x 24 columns]"
      ]
     },
     "execution_count": 296,
     "metadata": {},
     "output_type": "execute_result"
    }
   ],
   "source": [
    "df.head()"
   ]
  },
  {
   "cell_type": "markdown",
   "metadata": {
    "pycharm": {
     "name": "#%% md\n"
    }
   },
   "source": [
    "- Есть запись с total_charges пропущенным значением, оно одно, попробуем заполнить его исходя из логики заполнения остальных\n",
    "- Удалим фичи customer_id, begin_date, end_date\n",
    "- Бинарные фичи переформатируем в дамми переменные: gender, partner, dependents, paperless_billing\n",
    "- Выделим категориальные фичи type, payment_method, internet_service, online_security, online_backup, device_protection, tech_support, streaming_TV, streaming_movies, multiple_lines\n",
    "- Преобразуем типы фичей"
   ]
  },
  {
   "cell_type": "markdown",
   "metadata": {
    "pycharm": {
     "name": "#%% md\n"
    }
   },
   "source": [
    "Пропущенные значения в total_charges связаны с тем, что это самые новые клиенты у которых еще не зафиксирована оплата"
   ]
  },
  {
   "cell_type": "code",
   "execution_count": 297,
   "metadata": {
    "pycharm": {
     "name": "#%%\n"
    }
   },
   "outputs": [
    {
     "data": {
      "text/html": [
       "<div>\n",
       "<style scoped>\n",
       "    .dataframe tbody tr th:only-of-type {\n",
       "        vertical-align: middle;\n",
       "    }\n",
       "\n",
       "    .dataframe tbody tr th {\n",
       "        vertical-align: top;\n",
       "    }\n",
       "\n",
       "    .dataframe thead th {\n",
       "        text-align: right;\n",
       "    }\n",
       "</style>\n",
       "<table border=\"1\" class=\"dataframe\">\n",
       "  <thead>\n",
       "    <tr style=\"text-align: right;\">\n",
       "      <th></th>\n",
       "      <th>customer_id</th>\n",
       "      <th>gender</th>\n",
       "      <th>senior_citizen</th>\n",
       "      <th>partner</th>\n",
       "      <th>dependents</th>\n",
       "      <th>begin_date</th>\n",
       "      <th>end_date</th>\n",
       "      <th>type</th>\n",
       "      <th>paperless_billing</th>\n",
       "      <th>payment_method</th>\n",
       "      <th>...</th>\n",
       "      <th>online_backup</th>\n",
       "      <th>device_protection</th>\n",
       "      <th>tech_support</th>\n",
       "      <th>streaming_TV</th>\n",
       "      <th>streaming_movies</th>\n",
       "      <th>multiple_lines</th>\n",
       "      <th>is_exited</th>\n",
       "      <th>is_phone</th>\n",
       "      <th>is_internet</th>\n",
       "      <th>duration_use</th>\n",
       "    </tr>\n",
       "  </thead>\n",
       "  <tbody>\n",
       "    <tr>\n",
       "      <th>488</th>\n",
       "      <td>4472-LVYGI</td>\n",
       "      <td>Female</td>\n",
       "      <td>0</td>\n",
       "      <td>Yes</td>\n",
       "      <td>Yes</td>\n",
       "      <td>2020-02-01</td>\n",
       "      <td>No</td>\n",
       "      <td>Two year</td>\n",
       "      <td>Yes</td>\n",
       "      <td>Bank transfer (automatic)</td>\n",
       "      <td>...</td>\n",
       "      <td>No</td>\n",
       "      <td>Yes</td>\n",
       "      <td>Yes</td>\n",
       "      <td>Yes</td>\n",
       "      <td>No</td>\n",
       "      <td>NaN</td>\n",
       "      <td>0</td>\n",
       "      <td>0</td>\n",
       "      <td>1</td>\n",
       "      <td>0</td>\n",
       "    </tr>\n",
       "    <tr>\n",
       "      <th>753</th>\n",
       "      <td>3115-CZMZD</td>\n",
       "      <td>Male</td>\n",
       "      <td>0</td>\n",
       "      <td>No</td>\n",
       "      <td>Yes</td>\n",
       "      <td>2020-02-01</td>\n",
       "      <td>No</td>\n",
       "      <td>Two year</td>\n",
       "      <td>No</td>\n",
       "      <td>Mailed check</td>\n",
       "      <td>...</td>\n",
       "      <td>NaN</td>\n",
       "      <td>NaN</td>\n",
       "      <td>NaN</td>\n",
       "      <td>NaN</td>\n",
       "      <td>NaN</td>\n",
       "      <td>No</td>\n",
       "      <td>0</td>\n",
       "      <td>1</td>\n",
       "      <td>0</td>\n",
       "      <td>0</td>\n",
       "    </tr>\n",
       "    <tr>\n",
       "      <th>936</th>\n",
       "      <td>5709-LVOEQ</td>\n",
       "      <td>Female</td>\n",
       "      <td>0</td>\n",
       "      <td>Yes</td>\n",
       "      <td>Yes</td>\n",
       "      <td>2020-02-01</td>\n",
       "      <td>No</td>\n",
       "      <td>Two year</td>\n",
       "      <td>No</td>\n",
       "      <td>Mailed check</td>\n",
       "      <td>...</td>\n",
       "      <td>Yes</td>\n",
       "      <td>Yes</td>\n",
       "      <td>No</td>\n",
       "      <td>Yes</td>\n",
       "      <td>Yes</td>\n",
       "      <td>No</td>\n",
       "      <td>0</td>\n",
       "      <td>1</td>\n",
       "      <td>1</td>\n",
       "      <td>0</td>\n",
       "    </tr>\n",
       "    <tr>\n",
       "      <th>1082</th>\n",
       "      <td>4367-NUYAO</td>\n",
       "      <td>Male</td>\n",
       "      <td>0</td>\n",
       "      <td>Yes</td>\n",
       "      <td>Yes</td>\n",
       "      <td>2020-02-01</td>\n",
       "      <td>No</td>\n",
       "      <td>Two year</td>\n",
       "      <td>No</td>\n",
       "      <td>Mailed check</td>\n",
       "      <td>...</td>\n",
       "      <td>NaN</td>\n",
       "      <td>NaN</td>\n",
       "      <td>NaN</td>\n",
       "      <td>NaN</td>\n",
       "      <td>NaN</td>\n",
       "      <td>Yes</td>\n",
       "      <td>0</td>\n",
       "      <td>1</td>\n",
       "      <td>0</td>\n",
       "      <td>0</td>\n",
       "    </tr>\n",
       "    <tr>\n",
       "      <th>1340</th>\n",
       "      <td>1371-DWPAZ</td>\n",
       "      <td>Female</td>\n",
       "      <td>0</td>\n",
       "      <td>Yes</td>\n",
       "      <td>Yes</td>\n",
       "      <td>2020-02-01</td>\n",
       "      <td>No</td>\n",
       "      <td>Two year</td>\n",
       "      <td>No</td>\n",
       "      <td>Credit card (automatic)</td>\n",
       "      <td>...</td>\n",
       "      <td>Yes</td>\n",
       "      <td>Yes</td>\n",
       "      <td>Yes</td>\n",
       "      <td>Yes</td>\n",
       "      <td>No</td>\n",
       "      <td>NaN</td>\n",
       "      <td>0</td>\n",
       "      <td>0</td>\n",
       "      <td>1</td>\n",
       "      <td>0</td>\n",
       "    </tr>\n",
       "    <tr>\n",
       "      <th>3331</th>\n",
       "      <td>7644-OMVMY</td>\n",
       "      <td>Male</td>\n",
       "      <td>0</td>\n",
       "      <td>Yes</td>\n",
       "      <td>Yes</td>\n",
       "      <td>2020-02-01</td>\n",
       "      <td>No</td>\n",
       "      <td>Two year</td>\n",
       "      <td>No</td>\n",
       "      <td>Mailed check</td>\n",
       "      <td>...</td>\n",
       "      <td>NaN</td>\n",
       "      <td>NaN</td>\n",
       "      <td>NaN</td>\n",
       "      <td>NaN</td>\n",
       "      <td>NaN</td>\n",
       "      <td>No</td>\n",
       "      <td>0</td>\n",
       "      <td>1</td>\n",
       "      <td>0</td>\n",
       "      <td>0</td>\n",
       "    </tr>\n",
       "    <tr>\n",
       "      <th>3826</th>\n",
       "      <td>3213-VVOLG</td>\n",
       "      <td>Male</td>\n",
       "      <td>0</td>\n",
       "      <td>Yes</td>\n",
       "      <td>Yes</td>\n",
       "      <td>2020-02-01</td>\n",
       "      <td>No</td>\n",
       "      <td>Two year</td>\n",
       "      <td>No</td>\n",
       "      <td>Mailed check</td>\n",
       "      <td>...</td>\n",
       "      <td>NaN</td>\n",
       "      <td>NaN</td>\n",
       "      <td>NaN</td>\n",
       "      <td>NaN</td>\n",
       "      <td>NaN</td>\n",
       "      <td>Yes</td>\n",
       "      <td>0</td>\n",
       "      <td>1</td>\n",
       "      <td>0</td>\n",
       "      <td>0</td>\n",
       "    </tr>\n",
       "    <tr>\n",
       "      <th>4380</th>\n",
       "      <td>2520-SGTTA</td>\n",
       "      <td>Female</td>\n",
       "      <td>0</td>\n",
       "      <td>Yes</td>\n",
       "      <td>Yes</td>\n",
       "      <td>2020-02-01</td>\n",
       "      <td>No</td>\n",
       "      <td>Two year</td>\n",
       "      <td>No</td>\n",
       "      <td>Mailed check</td>\n",
       "      <td>...</td>\n",
       "      <td>NaN</td>\n",
       "      <td>NaN</td>\n",
       "      <td>NaN</td>\n",
       "      <td>NaN</td>\n",
       "      <td>NaN</td>\n",
       "      <td>No</td>\n",
       "      <td>0</td>\n",
       "      <td>1</td>\n",
       "      <td>0</td>\n",
       "      <td>0</td>\n",
       "    </tr>\n",
       "    <tr>\n",
       "      <th>5218</th>\n",
       "      <td>2923-ARZLG</td>\n",
       "      <td>Male</td>\n",
       "      <td>0</td>\n",
       "      <td>Yes</td>\n",
       "      <td>Yes</td>\n",
       "      <td>2020-02-01</td>\n",
       "      <td>No</td>\n",
       "      <td>One year</td>\n",
       "      <td>Yes</td>\n",
       "      <td>Mailed check</td>\n",
       "      <td>...</td>\n",
       "      <td>NaN</td>\n",
       "      <td>NaN</td>\n",
       "      <td>NaN</td>\n",
       "      <td>NaN</td>\n",
       "      <td>NaN</td>\n",
       "      <td>No</td>\n",
       "      <td>0</td>\n",
       "      <td>1</td>\n",
       "      <td>0</td>\n",
       "      <td>0</td>\n",
       "    </tr>\n",
       "    <tr>\n",
       "      <th>6670</th>\n",
       "      <td>4075-WKNIU</td>\n",
       "      <td>Female</td>\n",
       "      <td>0</td>\n",
       "      <td>Yes</td>\n",
       "      <td>Yes</td>\n",
       "      <td>2020-02-01</td>\n",
       "      <td>No</td>\n",
       "      <td>Two year</td>\n",
       "      <td>No</td>\n",
       "      <td>Mailed check</td>\n",
       "      <td>...</td>\n",
       "      <td>Yes</td>\n",
       "      <td>Yes</td>\n",
       "      <td>Yes</td>\n",
       "      <td>Yes</td>\n",
       "      <td>No</td>\n",
       "      <td>Yes</td>\n",
       "      <td>0</td>\n",
       "      <td>1</td>\n",
       "      <td>1</td>\n",
       "      <td>0</td>\n",
       "    </tr>\n",
       "    <tr>\n",
       "      <th>6754</th>\n",
       "      <td>2775-SEFEE</td>\n",
       "      <td>Male</td>\n",
       "      <td>0</td>\n",
       "      <td>No</td>\n",
       "      <td>Yes</td>\n",
       "      <td>2020-02-01</td>\n",
       "      <td>No</td>\n",
       "      <td>Two year</td>\n",
       "      <td>Yes</td>\n",
       "      <td>Bank transfer (automatic)</td>\n",
       "      <td>...</td>\n",
       "      <td>Yes</td>\n",
       "      <td>No</td>\n",
       "      <td>Yes</td>\n",
       "      <td>No</td>\n",
       "      <td>No</td>\n",
       "      <td>Yes</td>\n",
       "      <td>0</td>\n",
       "      <td>1</td>\n",
       "      <td>1</td>\n",
       "      <td>0</td>\n",
       "    </tr>\n",
       "  </tbody>\n",
       "</table>\n",
       "<p>11 rows × 24 columns</p>\n",
       "</div>"
      ],
      "text/plain": [
       "     customer_id  gender  senior_citizen partner dependents  begin_date  \\\n",
       "488   4472-LVYGI  Female               0     Yes        Yes  2020-02-01   \n",
       "753   3115-CZMZD    Male               0      No        Yes  2020-02-01   \n",
       "936   5709-LVOEQ  Female               0     Yes        Yes  2020-02-01   \n",
       "1082  4367-NUYAO    Male               0     Yes        Yes  2020-02-01   \n",
       "1340  1371-DWPAZ  Female               0     Yes        Yes  2020-02-01   \n",
       "3331  7644-OMVMY    Male               0     Yes        Yes  2020-02-01   \n",
       "3826  3213-VVOLG    Male               0     Yes        Yes  2020-02-01   \n",
       "4380  2520-SGTTA  Female               0     Yes        Yes  2020-02-01   \n",
       "5218  2923-ARZLG    Male               0     Yes        Yes  2020-02-01   \n",
       "6670  4075-WKNIU  Female               0     Yes        Yes  2020-02-01   \n",
       "6754  2775-SEFEE    Male               0      No        Yes  2020-02-01   \n",
       "\n",
       "     end_date      type paperless_billing             payment_method  ...  \\\n",
       "488        No  Two year               Yes  Bank transfer (automatic)  ...   \n",
       "753        No  Two year                No               Mailed check  ...   \n",
       "936        No  Two year                No               Mailed check  ...   \n",
       "1082       No  Two year                No               Mailed check  ...   \n",
       "1340       No  Two year                No    Credit card (automatic)  ...   \n",
       "3331       No  Two year                No               Mailed check  ...   \n",
       "3826       No  Two year                No               Mailed check  ...   \n",
       "4380       No  Two year                No               Mailed check  ...   \n",
       "5218       No  One year               Yes               Mailed check  ...   \n",
       "6670       No  Two year                No               Mailed check  ...   \n",
       "6754       No  Two year               Yes  Bank transfer (automatic)  ...   \n",
       "\n",
       "      online_backup device_protection tech_support streaming_TV  \\\n",
       "488              No               Yes          Yes          Yes   \n",
       "753             NaN               NaN          NaN          NaN   \n",
       "936             Yes               Yes           No          Yes   \n",
       "1082            NaN               NaN          NaN          NaN   \n",
       "1340            Yes               Yes          Yes          Yes   \n",
       "3331            NaN               NaN          NaN          NaN   \n",
       "3826            NaN               NaN          NaN          NaN   \n",
       "4380            NaN               NaN          NaN          NaN   \n",
       "5218            NaN               NaN          NaN          NaN   \n",
       "6670            Yes               Yes          Yes          Yes   \n",
       "6754            Yes                No          Yes           No   \n",
       "\n",
       "     streaming_movies multiple_lines is_exited is_phone is_internet  \\\n",
       "488                No            NaN         0        0           1   \n",
       "753               NaN             No         0        1           0   \n",
       "936               Yes             No         0        1           1   \n",
       "1082              NaN            Yes         0        1           0   \n",
       "1340               No            NaN         0        0           1   \n",
       "3331              NaN             No         0        1           0   \n",
       "3826              NaN            Yes         0        1           0   \n",
       "4380              NaN             No         0        1           0   \n",
       "5218              NaN             No         0        1           0   \n",
       "6670               No            Yes         0        1           1   \n",
       "6754               No            Yes         0        1           1   \n",
       "\n",
       "     duration_use  \n",
       "488             0  \n",
       "753             0  \n",
       "936             0  \n",
       "1082            0  \n",
       "1340            0  \n",
       "3331            0  \n",
       "3826            0  \n",
       "4380            0  \n",
       "5218            0  \n",
       "6670            0  \n",
       "6754            0  \n",
       "\n",
       "[11 rows x 24 columns]"
      ]
     },
     "execution_count": 297,
     "metadata": {},
     "output_type": "execute_result"
    }
   ],
   "source": [
    "df[df['begin_date'] == '2020-02-01']"
   ]
  },
  {
   "cell_type": "code",
   "execution_count": 298,
   "metadata": {
    "pycharm": {
     "name": "#%%\n"
    }
   },
   "outputs": [
    {
     "data": {
      "text/plain": [
       "488      \n",
       "753      \n",
       "936      \n",
       "1082     \n",
       "1340     \n",
       "3331     \n",
       "3826     \n",
       "4380     \n",
       "5218     \n",
       "6670     \n",
       "6754     \n",
       "Name: total_charges, dtype: object"
      ]
     },
     "execution_count": 298,
     "metadata": {},
     "output_type": "execute_result"
    }
   ],
   "source": [
    "df[df['begin_date'] == '2020-02-01']['total_charges']"
   ]
  },
  {
   "cell_type": "code",
   "execution_count": 299,
   "metadata": {
    "pycharm": {
     "name": "#%%\n"
    }
   },
   "outputs": [
    {
     "data": {
      "text/plain": [
       "488     0\n",
       "753     0\n",
       "936     0\n",
       "1082    0\n",
       "1340    0\n",
       "3331    0\n",
       "3826    0\n",
       "4380    0\n",
       "5218    0\n",
       "6670    0\n",
       "6754    0\n",
       "Name: total_charges, dtype: object"
      ]
     },
     "execution_count": 299,
     "metadata": {},
     "output_type": "execute_result"
    }
   ],
   "source": [
    "df.loc[df['begin_date'] == '2020-02-01', 'total_charges'] = 0\n",
    "df[df['begin_date'] == '2020-02-01']['total_charges']"
   ]
  },
  {
   "cell_type": "code",
   "execution_count": 300,
   "metadata": {
    "pycharm": {
     "name": "#%%\n"
    }
   },
   "outputs": [],
   "source": [
    "df['total_charges'] = df['total_charges'].apply(str_to_numeric)"
   ]
  },
  {
   "cell_type": "code",
   "execution_count": 302,
   "metadata": {
    "pycharm": {
     "name": "#%%\n"
    }
   },
   "outputs": [],
   "source": [
    "df = df.drop(['customer_id', 'begin_date', 'end_date'], axis=1)"
   ]
  },
  {
   "cell_type": "code",
   "execution_count": 303,
   "metadata": {
    "pycharm": {
     "name": "#%%\n"
    }
   },
   "outputs": [
    {
     "data": {
      "text/plain": [
       "Index(['gender', 'senior_citizen', 'partner', 'dependents', 'type',\n",
       "       'paperless_billing', 'payment_method', 'monthly_charges',\n",
       "       'total_charges', 'internet_service', 'online_security', 'online_backup',\n",
       "       'device_protection', 'tech_support', 'streaming_TV', 'streaming_movies',\n",
       "       'multiple_lines', 'is_exited', 'is_phone', 'is_internet',\n",
       "       'duration_use'],\n",
       "      dtype='object')"
      ]
     },
     "execution_count": 303,
     "metadata": {},
     "output_type": "execute_result"
    }
   ],
   "source": [
    "df.columns"
   ]
  },
  {
   "cell_type": "code",
   "execution_count": 304,
   "metadata": {
    "pycharm": {
     "name": "#%%\n"
    }
   },
   "outputs": [
    {
     "data": {
      "text/html": [
       "<div>\n",
       "<style scoped>\n",
       "    .dataframe tbody tr th:only-of-type {\n",
       "        vertical-align: middle;\n",
       "    }\n",
       "\n",
       "    .dataframe tbody tr th {\n",
       "        vertical-align: top;\n",
       "    }\n",
       "\n",
       "    .dataframe thead th {\n",
       "        text-align: right;\n",
       "    }\n",
       "</style>\n",
       "<table border=\"1\" class=\"dataframe\">\n",
       "  <thead>\n",
       "    <tr style=\"text-align: right;\">\n",
       "      <th></th>\n",
       "      <th>gender</th>\n",
       "      <th>senior_citizen</th>\n",
       "      <th>partner</th>\n",
       "      <th>dependents</th>\n",
       "      <th>type</th>\n",
       "      <th>paperless_billing</th>\n",
       "      <th>payment_method</th>\n",
       "      <th>monthly_charges</th>\n",
       "      <th>total_charges</th>\n",
       "      <th>internet_service</th>\n",
       "      <th>...</th>\n",
       "      <th>online_backup</th>\n",
       "      <th>device_protection</th>\n",
       "      <th>tech_support</th>\n",
       "      <th>streaming_TV</th>\n",
       "      <th>streaming_movies</th>\n",
       "      <th>multiple_lines</th>\n",
       "      <th>is_exited</th>\n",
       "      <th>is_phone</th>\n",
       "      <th>is_internet</th>\n",
       "      <th>duration_use</th>\n",
       "    </tr>\n",
       "  </thead>\n",
       "  <tbody>\n",
       "    <tr>\n",
       "      <th>865</th>\n",
       "      <td>Male</td>\n",
       "      <td>0</td>\n",
       "      <td>Yes</td>\n",
       "      <td>No</td>\n",
       "      <td>Month-to-month</td>\n",
       "      <td>Yes</td>\n",
       "      <td>Mailed check</td>\n",
       "      <td>80.60</td>\n",
       "      <td>319.15</td>\n",
       "      <td>Fiber optic</td>\n",
       "      <td>...</td>\n",
       "      <td>No</td>\n",
       "      <td>Yes</td>\n",
       "      <td>Yes</td>\n",
       "      <td>No</td>\n",
       "      <td>No</td>\n",
       "      <td>No</td>\n",
       "      <td>1</td>\n",
       "      <td>1</td>\n",
       "      <td>1</td>\n",
       "      <td>4</td>\n",
       "    </tr>\n",
       "    <tr>\n",
       "      <th>5626</th>\n",
       "      <td>Female</td>\n",
       "      <td>0</td>\n",
       "      <td>No</td>\n",
       "      <td>No</td>\n",
       "      <td>Month-to-month</td>\n",
       "      <td>No</td>\n",
       "      <td>Bank transfer (automatic)</td>\n",
       "      <td>64.05</td>\n",
       "      <td>733.95</td>\n",
       "      <td>DSL</td>\n",
       "      <td>...</td>\n",
       "      <td>No</td>\n",
       "      <td>Yes</td>\n",
       "      <td>No</td>\n",
       "      <td>No</td>\n",
       "      <td>Yes</td>\n",
       "      <td>No</td>\n",
       "      <td>0</td>\n",
       "      <td>1</td>\n",
       "      <td>1</td>\n",
       "      <td>11</td>\n",
       "    </tr>\n",
       "    <tr>\n",
       "      <th>5901</th>\n",
       "      <td>Male</td>\n",
       "      <td>0</td>\n",
       "      <td>Yes</td>\n",
       "      <td>Yes</td>\n",
       "      <td>Month-to-month</td>\n",
       "      <td>No</td>\n",
       "      <td>Electronic check</td>\n",
       "      <td>84.50</td>\n",
       "      <td>4254.85</td>\n",
       "      <td>Fiber optic</td>\n",
       "      <td>...</td>\n",
       "      <td>No</td>\n",
       "      <td>No</td>\n",
       "      <td>No</td>\n",
       "      <td>Yes</td>\n",
       "      <td>No</td>\n",
       "      <td>Yes</td>\n",
       "      <td>1</td>\n",
       "      <td>1</td>\n",
       "      <td>1</td>\n",
       "      <td>49</td>\n",
       "    </tr>\n",
       "    <tr>\n",
       "      <th>5965</th>\n",
       "      <td>Male</td>\n",
       "      <td>0</td>\n",
       "      <td>Yes</td>\n",
       "      <td>Yes</td>\n",
       "      <td>One year</td>\n",
       "      <td>Yes</td>\n",
       "      <td>Credit card (automatic)</td>\n",
       "      <td>63.70</td>\n",
       "      <td>2188.50</td>\n",
       "      <td>DSL</td>\n",
       "      <td>...</td>\n",
       "      <td>No</td>\n",
       "      <td>Yes</td>\n",
       "      <td>No</td>\n",
       "      <td>No</td>\n",
       "      <td>Yes</td>\n",
       "      <td>No</td>\n",
       "      <td>0</td>\n",
       "      <td>1</td>\n",
       "      <td>1</td>\n",
       "      <td>36</td>\n",
       "    </tr>\n",
       "  </tbody>\n",
       "</table>\n",
       "<p>4 rows × 21 columns</p>\n",
       "</div>"
      ],
      "text/plain": [
       "      gender  senior_citizen partner dependents            type  \\\n",
       "865     Male               0     Yes         No  Month-to-month   \n",
       "5626  Female               0      No         No  Month-to-month   \n",
       "5901    Male               0     Yes        Yes  Month-to-month   \n",
       "5965    Male               0     Yes        Yes        One year   \n",
       "\n",
       "     paperless_billing             payment_method  monthly_charges  \\\n",
       "865                Yes               Mailed check            80.60   \n",
       "5626                No  Bank transfer (automatic)            64.05   \n",
       "5901                No           Electronic check            84.50   \n",
       "5965               Yes    Credit card (automatic)            63.70   \n",
       "\n",
       "      total_charges internet_service  ... online_backup device_protection  \\\n",
       "865          319.15      Fiber optic  ...            No               Yes   \n",
       "5626         733.95              DSL  ...            No               Yes   \n",
       "5901        4254.85      Fiber optic  ...            No                No   \n",
       "5965        2188.50              DSL  ...            No               Yes   \n",
       "\n",
       "     tech_support streaming_TV streaming_movies multiple_lines is_exited  \\\n",
       "865           Yes           No               No             No         1   \n",
       "5626           No           No              Yes             No         0   \n",
       "5901           No          Yes               No            Yes         1   \n",
       "5965           No           No              Yes             No         0   \n",
       "\n",
       "      is_phone  is_internet  duration_use  \n",
       "865          1            1             4  \n",
       "5626         1            1            11  \n",
       "5901         1            1            49  \n",
       "5965         1            1            36  \n",
       "\n",
       "[4 rows x 21 columns]"
      ]
     },
     "execution_count": 304,
     "metadata": {},
     "output_type": "execute_result"
    }
   ],
   "source": [
    "df.sample(4)"
   ]
  },
  {
   "cell_type": "code",
   "execution_count": 305,
   "metadata": {
    "pycharm": {
     "name": "#%%\n"
    }
   },
   "outputs": [],
   "source": [
    "# df = df.fillna('Unknown')\n",
    "df = df.fillna('No')"
   ]
  },
  {
   "cell_type": "markdown",
   "metadata": {},
   "source": [
    "##  Корреляция duration_use и total_charges"
   ]
  },
  {
   "cell_type": "code",
   "execution_count": 306,
   "metadata": {
    "pycharm": {
     "name": "#%%\n"
    }
   },
   "outputs": [
    {
     "data": {
      "text/html": [
       "<div>\n",
       "<style scoped>\n",
       "    .dataframe tbody tr th:only-of-type {\n",
       "        vertical-align: middle;\n",
       "    }\n",
       "\n",
       "    .dataframe tbody tr th {\n",
       "        vertical-align: top;\n",
       "    }\n",
       "\n",
       "    .dataframe thead th {\n",
       "        text-align: right;\n",
       "    }\n",
       "</style>\n",
       "<table border=\"1\" class=\"dataframe\">\n",
       "  <thead>\n",
       "    <tr style=\"text-align: right;\">\n",
       "      <th></th>\n",
       "      <th>monthly_charges</th>\n",
       "      <th>total_charges</th>\n",
       "      <th>duration_use</th>\n",
       "    </tr>\n",
       "  </thead>\n",
       "  <tbody>\n",
       "    <tr>\n",
       "      <th>monthly_charges</th>\n",
       "      <td>1.000000</td>\n",
       "      <td>0.651174</td>\n",
       "      <td>0.247900</td>\n",
       "    </tr>\n",
       "    <tr>\n",
       "      <th>total_charges</th>\n",
       "      <td>0.651174</td>\n",
       "      <td>1.000000</td>\n",
       "      <td>0.826178</td>\n",
       "    </tr>\n",
       "    <tr>\n",
       "      <th>duration_use</th>\n",
       "      <td>0.247900</td>\n",
       "      <td>0.826178</td>\n",
       "      <td>1.000000</td>\n",
       "    </tr>\n",
       "  </tbody>\n",
       "</table>\n",
       "</div>"
      ],
      "text/plain": [
       "                 monthly_charges  total_charges  duration_use\n",
       "monthly_charges         1.000000       0.651174      0.247900\n",
       "total_charges           0.651174       1.000000      0.826178\n",
       "duration_use            0.247900       0.826178      1.000000"
      ]
     },
     "execution_count": 306,
     "metadata": {},
     "output_type": "execute_result"
    }
   ],
   "source": [
    "df[['monthly_charges', 'total_charges', 'duration_use']].corr()"
   ]
  },
  {
   "cell_type": "code",
   "execution_count": 307,
   "metadata": {
    "pycharm": {
     "name": "#%%\n"
    }
   },
   "outputs": [
    {
     "data": {
      "image/png": "[encoded data removed]",
      "text/plain": [
       "<Figure size 1008x504 with 1 Axes>"
      ]
     },
     "metadata": {},
     "output_type": "display_data"
    }
   ],
   "source": [
    "plt.figure(figsize=(14, 7))\n",
    "plt.scatter(df['total_charges'], df['duration_use'])\n",
    "plt.title(\"Зависимость total_charges и duration_use\")\n",
    "plt.xlabel(\"total_charges\")\n",
    "plt.ylabel(\"duration_use\")\n",
    "plt.show()"
   ]
  },
  {
   "cell_type": "code",
   "execution_count": 308,
   "metadata": {
    "pycharm": {
     "name": "#%%\n"
    }
   },
   "outputs": [
    {
     "data": {
      "image/png": "[encoded data removed]",
      "text/plain": [
       "<Figure size 432x288 with 1 Axes>"
      ]
     },
     "metadata": {},
     "output_type": "display_data"
    }
   ],
   "source": [
    "df[df['is_exited'] == 0]['duration_use'].hist()\n",
    "df[df['is_exited'] == 1]['duration_use'].hist()\n",
    "plt.title('Распределение длительности контракта')\n",
    "plt.legend(['0', '1'])\n",
    "plt.show()"
   ]
  },
  {
   "cell_type": "code",
   "execution_count": 309,
   "metadata": {
    "pycharm": {
     "name": "#%%\n"
    }
   },
   "outputs": [
    {
     "data": {
      "text/plain": [
       "[(-0.001, 4.0], (29.0, 47.0], (4.0, 14.0], (14.0, 29.0], (47.0, 64.0], (64.0, 72.0]]\n",
       "Categories (6, interval[float64, right]): [(-0.001, 4.0] < (4.0, 14.0] < (14.0, 29.0] < (29.0, 47.0] < (47.0, 64.0] < (64.0, 72.0]]"
      ]
     },
     "execution_count": 309,
     "metadata": {},
     "output_type": "execute_result"
    }
   ],
   "source": [
    "pd.qcut(df['duration_use'], 6).unique()"
   ]
  },
  {
   "cell_type": "code",
   "execution_count": 310,
   "metadata": {
    "pycharm": {
     "name": "#%%\n"
    }
   },
   "outputs": [],
   "source": [
    "df['duration_use_cut'] = pd.qcut(df['duration_use'], 6)"
   ]
  },
  {
   "cell_type": "code",
   "execution_count": 311,
   "metadata": {
    "pycharm": {
     "name": "#%%\n"
    }
   },
   "outputs": [
    {
     "data": {
      "text/html": [
       "<div>\n",
       "<style scoped>\n",
       "    .dataframe tbody tr th:only-of-type {\n",
       "        vertical-align: middle;\n",
       "    }\n",
       "\n",
       "    .dataframe tbody tr th {\n",
       "        vertical-align: top;\n",
       "    }\n",
       "\n",
       "    .dataframe thead th {\n",
       "        text-align: right;\n",
       "    }\n",
       "</style>\n",
       "<table border=\"1\" class=\"dataframe\">\n",
       "  <thead>\n",
       "    <tr style=\"text-align: right;\">\n",
       "      <th></th>\n",
       "      <th>count</th>\n",
       "      <th>mean</th>\n",
       "    </tr>\n",
       "    <tr>\n",
       "      <th>duration_use_cut</th>\n",
       "      <th></th>\n",
       "      <th></th>\n",
       "    </tr>\n",
       "  </thead>\n",
       "  <tbody>\n",
       "    <tr>\n",
       "      <th>(-0.001, 4.0]</th>\n",
       "      <td>1238</td>\n",
       "      <td>0.549273</td>\n",
       "    </tr>\n",
       "    <tr>\n",
       "      <th>(4.0, 14.0]</th>\n",
       "      <td>1133</td>\n",
       "      <td>0.369815</td>\n",
       "    </tr>\n",
       "    <tr>\n",
       "      <th>(14.0, 29.0]</th>\n",
       "      <td>1198</td>\n",
       "      <td>0.258765</td>\n",
       "    </tr>\n",
       "    <tr>\n",
       "      <th>(29.0, 47.0]</th>\n",
       "      <td>1171</td>\n",
       "      <td>0.203245</td>\n",
       "    </tr>\n",
       "    <tr>\n",
       "      <th>(47.0, 64.0]</th>\n",
       "      <td>1194</td>\n",
       "      <td>0.125628</td>\n",
       "    </tr>\n",
       "    <tr>\n",
       "      <th>(64.0, 72.0]</th>\n",
       "      <td>1109</td>\n",
       "      <td>0.064923</td>\n",
       "    </tr>\n",
       "  </tbody>\n",
       "</table>\n",
       "</div>"
      ],
      "text/plain": [
       "                  count      mean\n",
       "duration_use_cut                 \n",
       "(-0.001, 4.0]      1238  0.549273\n",
       "(4.0, 14.0]        1133  0.369815\n",
       "(14.0, 29.0]       1198  0.258765\n",
       "(29.0, 47.0]       1171  0.203245\n",
       "(47.0, 64.0]       1194  0.125628\n",
       "(64.0, 72.0]       1109  0.064923"
      ]
     },
     "execution_count": 311,
     "metadata": {},
     "output_type": "execute_result"
    }
   ],
   "source": [
    "df.groupby(['duration_use_cut'])['is_exited'].agg(['count', 'mean'])"
   ]
  },
  {
   "cell_type": "markdown",
   "metadata": {
    "pycharm": {
     "name": "#%% md\n"
    }
   },
   "source": [
    "Уловили зависимоть, чем меньше клиент подключен к услугам, тем вероятнее он от нас уйдет"
   ]
  },
  {
   "cell_type": "code",
   "execution_count": 312,
   "metadata": {
    "pycharm": {
     "name": "#%%\n"
    }
   },
   "outputs": [
    {
     "data": {
      "text/plain": [
       "Index(['gender', 'senior_citizen', 'partner', 'dependents', 'type',\n",
       "       'paperless_billing', 'payment_method', 'monthly_charges',\n",
       "       'total_charges', 'internet_service', 'online_security', 'online_backup',\n",
       "       'device_protection', 'tech_support', 'streaming_TV', 'streaming_movies',\n",
       "       'multiple_lines', 'is_exited', 'is_phone', 'is_internet',\n",
       "       'duration_use_cut'],\n",
       "      dtype='object')"
      ]
     },
     "execution_count": 312,
     "metadata": {},
     "output_type": "execute_result"
    }
   ],
   "source": [
    "df = df.drop(columns=['duration_use'])\n",
    "df.columns"
   ]
  },
  {
   "cell_type": "code",
   "execution_count": 313,
   "metadata": {
    "pycharm": {
     "name": "#%%\n"
    }
   },
   "outputs": [],
   "source": [
    "df.info()"
   ]
  },
  {
   "cell_type": "markdown",
   "metadata": {},
   "source": [
    "## Получение дамми переменных для бинарных и категориальных признаков с удалением 1 столбца"
   ]
  },
  {
   "cell_type": "code",
   "execution_count": 314,
   "metadata": {
    "pycharm": {
     "name": "#%%\n"
    }
   },
   "outputs": [
    {
     "data": {
      "text/html": [
       "<div>\n",
       "<style scoped>\n",
       "    .dataframe tbody tr th:only-of-type {\n",
       "        vertical-align: middle;\n",
       "    }\n",
       "\n",
       "    .dataframe tbody tr th {\n",
       "        vertical-align: top;\n",
       "    }\n",
       "\n",
       "    .dataframe thead th {\n",
       "        text-align: right;\n",
       "    }\n",
       "</style>\n",
       "<table border=\"1\" class=\"dataframe\">\n",
       "  <thead>\n",
       "    <tr style=\"text-align: right;\">\n",
       "      <th></th>\n",
       "      <th>senior_citizen</th>\n",
       "      <th>type</th>\n",
       "      <th>payment_method</th>\n",
       "      <th>monthly_charges</th>\n",
       "      <th>total_charges</th>\n",
       "      <th>internet_service</th>\n",
       "      <th>is_exited</th>\n",
       "      <th>is_phone</th>\n",
       "      <th>is_internet</th>\n",
       "      <th>gender_Male</th>\n",
       "      <th>...</th>\n",
       "      <th>duration_use_cut_(29.0, 47.0]</th>\n",
       "      <th>duration_use_cut_(47.0, 64.0]</th>\n",
       "      <th>duration_use_cut_(64.0, 72.0]</th>\n",
       "      <th>online_security_Yes</th>\n",
       "      <th>online_backup_Yes</th>\n",
       "      <th>device_protection_Yes</th>\n",
       "      <th>tech_support_Yes</th>\n",
       "      <th>streaming_TV_Yes</th>\n",
       "      <th>streaming_movies_Yes</th>\n",
       "      <th>multiple_lines_Yes</th>\n",
       "    </tr>\n",
       "  </thead>\n",
       "  <tbody>\n",
       "    <tr>\n",
       "      <th>0</th>\n",
       "      <td>0</td>\n",
       "      <td>Month-to-month</td>\n",
       "      <td>Electronic check</td>\n",
       "      <td>29.85</td>\n",
       "      <td>29.85</td>\n",
       "      <td>DSL</td>\n",
       "      <td>0</td>\n",
       "      <td>0</td>\n",
       "      <td>1</td>\n",
       "      <td>0</td>\n",
       "      <td>...</td>\n",
       "      <td>0</td>\n",
       "      <td>0</td>\n",
       "      <td>0</td>\n",
       "      <td>0</td>\n",
       "      <td>1</td>\n",
       "      <td>0</td>\n",
       "      <td>0</td>\n",
       "      <td>0</td>\n",
       "      <td>0</td>\n",
       "      <td>0</td>\n",
       "    </tr>\n",
       "    <tr>\n",
       "      <th>1</th>\n",
       "      <td>0</td>\n",
       "      <td>One year</td>\n",
       "      <td>Mailed check</td>\n",
       "      <td>56.95</td>\n",
       "      <td>1889.50</td>\n",
       "      <td>DSL</td>\n",
       "      <td>0</td>\n",
       "      <td>1</td>\n",
       "      <td>1</td>\n",
       "      <td>1</td>\n",
       "      <td>...</td>\n",
       "      <td>1</td>\n",
       "      <td>0</td>\n",
       "      <td>0</td>\n",
       "      <td>1</td>\n",
       "      <td>0</td>\n",
       "      <td>1</td>\n",
       "      <td>0</td>\n",
       "      <td>0</td>\n",
       "      <td>0</td>\n",
       "      <td>0</td>\n",
       "    </tr>\n",
       "    <tr>\n",
       "      <th>2</th>\n",
       "      <td>0</td>\n",
       "      <td>Month-to-month</td>\n",
       "      <td>Mailed check</td>\n",
       "      <td>53.85</td>\n",
       "      <td>108.15</td>\n",
       "      <td>DSL</td>\n",
       "      <td>1</td>\n",
       "      <td>1</td>\n",
       "      <td>1</td>\n",
       "      <td>1</td>\n",
       "      <td>...</td>\n",
       "      <td>0</td>\n",
       "      <td>0</td>\n",
       "      <td>0</td>\n",
       "      <td>1</td>\n",
       "      <td>1</td>\n",
       "      <td>0</td>\n",
       "      <td>0</td>\n",
       "      <td>0</td>\n",
       "      <td>0</td>\n",
       "      <td>0</td>\n",
       "    </tr>\n",
       "    <tr>\n",
       "      <th>3</th>\n",
       "      <td>0</td>\n",
       "      <td>One year</td>\n",
       "      <td>Bank transfer (automatic)</td>\n",
       "      <td>42.30</td>\n",
       "      <td>1840.75</td>\n",
       "      <td>DSL</td>\n",
       "      <td>0</td>\n",
       "      <td>0</td>\n",
       "      <td>1</td>\n",
       "      <td>1</td>\n",
       "      <td>...</td>\n",
       "      <td>1</td>\n",
       "      <td>0</td>\n",
       "      <td>0</td>\n",
       "      <td>1</td>\n",
       "      <td>0</td>\n",
       "      <td>1</td>\n",
       "      <td>1</td>\n",
       "      <td>0</td>\n",
       "      <td>0</td>\n",
       "      <td>0</td>\n",
       "    </tr>\n",
       "    <tr>\n",
       "      <th>4</th>\n",
       "      <td>0</td>\n",
       "      <td>Month-to-month</td>\n",
       "      <td>Electronic check</td>\n",
       "      <td>70.70</td>\n",
       "      <td>151.65</td>\n",
       "      <td>Fiber optic</td>\n",
       "      <td>1</td>\n",
       "      <td>1</td>\n",
       "      <td>1</td>\n",
       "      <td>0</td>\n",
       "      <td>...</td>\n",
       "      <td>0</td>\n",
       "      <td>0</td>\n",
       "      <td>0</td>\n",
       "      <td>0</td>\n",
       "      <td>0</td>\n",
       "      <td>0</td>\n",
       "      <td>0</td>\n",
       "      <td>0</td>\n",
       "      <td>0</td>\n",
       "      <td>0</td>\n",
       "    </tr>\n",
       "  </tbody>\n",
       "</table>\n",
       "<p>5 rows × 25 columns</p>\n",
       "</div>"
      ],
      "text/plain": [
       "   senior_citizen            type             payment_method  monthly_charges  \\\n",
       "0               0  Month-to-month           Electronic check            29.85   \n",
       "1               0        One year               Mailed check            56.95   \n",
       "2               0  Month-to-month               Mailed check            53.85   \n",
       "3               0        One year  Bank transfer (automatic)            42.30   \n",
       "4               0  Month-to-month           Electronic check            70.70   \n",
       "\n",
       "   total_charges internet_service  is_exited  is_phone  is_internet  \\\n",
       "0          29.85              DSL          0         0            1   \n",
       "1        1889.50              DSL          0         1            1   \n",
       "2         108.15              DSL          1         1            1   \n",
       "3        1840.75              DSL          0         0            1   \n",
       "4         151.65      Fiber optic          1         1            1   \n",
       "\n",
       "   gender_Male  ...  duration_use_cut_(29.0, 47.0]  \\\n",
       "0            0  ...                              0   \n",
       "1            1  ...                              1   \n",
       "2            1  ...                              0   \n",
       "3            1  ...                              1   \n",
       "4            0  ...                              0   \n",
       "\n",
       "   duration_use_cut_(47.0, 64.0]  duration_use_cut_(64.0, 72.0]  \\\n",
       "0                              0                              0   \n",
       "1                              0                              0   \n",
       "2                              0                              0   \n",
       "3                              0                              0   \n",
       "4                              0                              0   \n",
       "\n",
       "   online_security_Yes  online_backup_Yes  device_protection_Yes  \\\n",
       "0                    0                  1                      0   \n",
       "1                    1                  0                      1   \n",
       "2                    1                  1                      0   \n",
       "3                    1                  0                      1   \n",
       "4                    0                  0                      0   \n",
       "\n",
       "   tech_support_Yes  streaming_TV_Yes  streaming_movies_Yes  \\\n",
       "0                 0                 0                     0   \n",
       "1                 0                 0                     0   \n",
       "2                 0                 0                     0   \n",
       "3                 1                 0                     0   \n",
       "4                 0                 0                     0   \n",
       "\n",
       "   multiple_lines_Yes  \n",
       "0                   0  \n",
       "1                   0  \n",
       "2                   0  \n",
       "3                   0  \n",
       "4                   0  \n",
       "\n",
       "[5 rows x 25 columns]"
      ]
     },
     "execution_count": 314,
     "metadata": {},
     "output_type": "execute_result"
    }
   ],
   "source": [
    "df = pd.get_dummies(data=df, columns=[\n",
    "    'gender', 'partner', 'dependents', 'paperless_billing', 'duration_use_cut', 'online_security', 'online_backup', 'device_protection', 'tech_support', 'streaming_TV', 'streaming_movies', 'multiple_lines'\n",
    "], drop_first=True)\n",
    "df.head()"
   ]
  },
  {
   "cell_type": "code",
   "execution_count": 315,
   "metadata": {
    "pycharm": {
     "name": "#%%\n"
    }
   },
   "outputs": [],
   "source": [
    "cat_features = ['type', 'payment_method', 'internet_service']"
   ]
  },
  {
   "cell_type": "code",
   "execution_count": 316,
   "metadata": {
    "pycharm": {
     "name": "#%%\n"
    }
   },
   "outputs": [],
   "source": [
    "def reduce_mem_usage(props):\n",
    "    start_mem_usg = props.memory_usage().sum() / 1024**2\n",
    "    print(\"Memory usage of properties dataframe is :\", start_mem_usg,\" MB\")\n",
    "    NAlist = [] # Keeps track of columns that have missing values filled in.\n",
    "    for col in props.columns:\n",
    "        if props[col].dtype != object:  # Exclude strings\n",
    "\n",
    "            # Print current column type\n",
    "            print(\"******************************\")\n",
    "            print(\"Column: \",col)\n",
    "            print(\"dtype before: \",props[col].dtype)\n",
    "\n",
    "            # make variables for Int, max and min\n",
    "            IsInt = False\n",
    "            mx = props[col].max()\n",
    "            mn = props[col].min()\n",
    "\n",
    "            # Integer does not support NA, therefore, NA needs to be filled\n",
    "            if not np.isfinite(props[col]).all():\n",
    "                NAlist.append(col)\n",
    "                props[col].fillna(mn-1,inplace=True)\n",
    "\n",
    "                # test if column can be converted to an integer\n",
    "            asint = props[col].fillna(0).astype(np.int64)\n",
    "            try:\n",
    "                result = (props[col] - asint)\n",
    "                result = result.sum()\n",
    "                if result > -0.01 and result < 0.01:\n",
    "                    IsInt = True\n",
    "\n",
    "                # Make Integer/unsigned Integer datatypes\n",
    "                if IsInt:\n",
    "                    if mn >= 0:\n",
    "                        if mx < 255:\n",
    "                            props[col] = props[col].astype(np.uint8)\n",
    "                        elif mx < 65535:\n",
    "                            props[col] = props[col].astype(np.uint16)\n",
    "                        elif mx < 4294967295:\n",
    "                            props[col] = props[col].astype(np.uint32)\n",
    "                        else:\n",
    "                            props[col] = props[col].astype(np.uint64)\n",
    "                    else:\n",
    "                        if mn > np.iinfo(np.int8).min and mx < np.iinfo(np.int8).max:\n",
    "                            props[col] = props[col].astype(np.int8)\n",
    "                        elif mn > np.iinfo(np.int16).min and mx < np.iinfo(np.int16).max:\n",
    "                            props[col] = props[col].astype(np.int16)\n",
    "                        elif mn > np.iinfo(np.int32).min and mx < np.iinfo(np.int32).max:\n",
    "                            props[col] = props[col].astype(np.int32)\n",
    "                        elif mn > np.iinfo(np.int64).min and mx < np.iinfo(np.int64).max:\n",
    "                            props[col] = props[col].astype(np.int64)\n",
    "\n",
    "                            # Make float datatypes 32 bit\n",
    "                else:\n",
    "                    props[col] = props[col].astype(np.float32)\n",
    "\n",
    "                # Print new column type\n",
    "                print(\"dtype after: \",props[col].dtype)\n",
    "                print(\"******************************\")\n",
    "            except TypeError:\n",
    "                pass\n",
    "\n",
    "    # Print final result\n",
    "    print(\"___MEMORY USAGE AFTER COMPLETION:___\")\n",
    "    mem_usg = props.memory_usage().sum() / 1024**2\n",
    "    print(\"Memory usage is: \",mem_usg,\" MB\")\n",
    "    print(\"This is \",100*mem_usg/start_mem_usg,\"% of the initial size\")\n",
    "    return props, NAlist\n",
    "df, NAlist = reduce_mem_usage(df)"
   ]
  },
  {
   "cell_type": "markdown",
   "metadata": {
    "pycharm": {
     "name": "#%% md\n"
    }
   },
   "source": [
    "# Построение моделей"
   ]
  },
  {
   "cell_type": "markdown",
   "metadata": {
    "pycharm": {
     "name": "#%% md\n"
    }
   },
   "source": [
    "- Разделим датасет на тренировочный и тестовые датасеты\n",
    "- Обучим модель\n",
    "- Получим вероятности отнесения к тому или иному классу\n",
    "- Проанализируем результаты"
   ]
  },
  {
   "cell_type": "code",
   "execution_count": 317,
   "metadata": {
    "pycharm": {
     "name": "#%%\n"
    }
   },
   "outputs": [],
   "source": [
    "X_train, X_test, y_train, y_test = train_test_split(df.drop(['is_exited'], axis=1), df['is_exited'], test_size=0.25, random_state=0, stratify=df['is_exited'])"
   ]
  },
  {
   "cell_type": "code",
   "execution_count": 318,
   "metadata": {
    "pycharm": {
     "name": "#%%\n"
    }
   },
   "outputs": [
    {
     "data": {
      "text/plain": [
       "(0.2654297614539947, 0.26519023282226006)"
      ]
     },
     "execution_count": 318,
     "metadata": {},
     "output_type": "execute_result"
    }
   ],
   "source": [
    "pd.DataFrame(y_train)['is_exited'].mean(), pd.DataFrame(y_test)['is_exited'].mean()"
   ]
  },
  {
   "cell_type": "code",
   "execution_count": 319,
   "metadata": {
    "pycharm": {
     "name": "#%%\n"
    }
   },
   "outputs": [
    {
     "data": {
      "text/plain": [
       "((5282, 24), (1761, 24))"
      ]
     },
     "execution_count": 319,
     "metadata": {},
     "output_type": "execute_result"
    }
   ],
   "source": [
    "X_train.shape, X_test.shape"
   ]
  },
  {
   "cell_type": "markdown",
   "metadata": {
    "pycharm": {
     "name": "#%% md\n"
    }
   },
   "source": [
    "## LogisticRegression"
   ]
  },
  {
   "cell_type": "code",
   "execution_count": 320,
   "metadata": {
    "pycharm": {
     "name": "#%%\n"
    }
   },
   "outputs": [],
   "source": [
    "df_exited = df[df[\"is_exited\"] == 1]\n",
    "df_not_exited = df[df[\"is_exited\"] == 0]\n",
    "print(df_exited.shape, df_not_exited.shape)"
   ]
  },
  {
   "cell_type": "code",
   "execution_count": 321,
   "metadata": {
    "pycharm": {
     "name": "#%%\n"
    }
   },
   "outputs": [],
   "source": [
    "df_exited = resample(\n",
    "    df_exited,\n",
    "    replace=True,\n",
    "    n_samples=len(df_not_exited),\n",
    "    random_state=0,\n",
    ")\n",
    "\n",
    "print(df_exited.shape, df_not_exited.shape)\n",
    "df_union_all = pd.concat([df_exited, df_not_exited])"
   ]
  },
  {
   "cell_type": "code",
   "execution_count": 322,
   "metadata": {
    "pycharm": {
     "name": "#%%\n"
    }
   },
   "outputs": [],
   "source": [
    "X_train_, X_test_, y_train_, y_test_ = train_test_split(\n",
    "    df_union_all.drop(['is_exited'], axis=1),\n",
    "    df_union_all['is_exited'],\n",
    "    test_size=0.25,\n",
    "    random_state=0,\n",
    "    stratify=df_union_all['is_exited'],\n",
    ")"
   ]
  },
  {
   "cell_type": "code",
   "execution_count": 323,
   "metadata": {
    "pycharm": {
     "name": "#%%\n"
    }
   },
   "outputs": [],
   "source": [
    "X_train_cat = pd.get_dummies(data=X_train_, columns=cat_features, drop_first=True)\n",
    "X_test_cat = pd.get_dummies(data=X_test_, columns=cat_features, drop_first=True)"
   ]
  },
  {
   "cell_type": "code",
   "execution_count": 324,
   "metadata": {
    "pycharm": {
     "name": "#%%\n"
    }
   },
   "outputs": [
    {
     "data": {
      "text/plain": [
       "(True, True)"
      ]
     },
     "execution_count": 324,
     "metadata": {},
     "output_type": "execute_result"
    }
   ],
   "source": [
    "X_train_.shape[0] == X_train_cat.shape[0], X_test_.shape[0] == X_test_cat.shape[0]"
   ]
  },
  {
   "cell_type": "code",
   "execution_count": 325,
   "metadata": {
    "pycharm": {
     "name": "#%%\n"
    }
   },
   "outputs": [
    {
     "data": {
      "text/html": [
       "<div>\n",
       "<style scoped>\n",
       "    .dataframe tbody tr th:only-of-type {\n",
       "        vertical-align: middle;\n",
       "    }\n",
       "\n",
       "    .dataframe tbody tr th {\n",
       "        vertical-align: top;\n",
       "    }\n",
       "\n",
       "    .dataframe thead th {\n",
       "        text-align: right;\n",
       "    }\n",
       "</style>\n",
       "<table border=\"1\" class=\"dataframe\">\n",
       "  <thead>\n",
       "    <tr style=\"text-align: right;\">\n",
       "      <th></th>\n",
       "      <th>senior_citizen</th>\n",
       "      <th>monthly_charges</th>\n",
       "      <th>total_charges</th>\n",
       "      <th>is_phone</th>\n",
       "      <th>is_internet</th>\n",
       "      <th>gender_Male</th>\n",
       "      <th>partner_Yes</th>\n",
       "      <th>dependents_Yes</th>\n",
       "      <th>paperless_billing_Yes</th>\n",
       "      <th>duration_use_cut_(4.0, 14.0]</th>\n",
       "      <th>...</th>\n",
       "      <th>streaming_TV_Yes</th>\n",
       "      <th>streaming_movies_Yes</th>\n",
       "      <th>multiple_lines_Yes</th>\n",
       "      <th>type_One year</th>\n",
       "      <th>type_Two year</th>\n",
       "      <th>payment_method_Credit card (automatic)</th>\n",
       "      <th>payment_method_Electronic check</th>\n",
       "      <th>payment_method_Mailed check</th>\n",
       "      <th>internet_service_Fiber optic</th>\n",
       "      <th>internet_service_No</th>\n",
       "    </tr>\n",
       "  </thead>\n",
       "  <tbody>\n",
       "    <tr>\n",
       "      <th>1184</th>\n",
       "      <td>0</td>\n",
       "      <td>87.900002</td>\n",
       "      <td>1500.500000</td>\n",
       "      <td>1</td>\n",
       "      <td>1</td>\n",
       "      <td>1</td>\n",
       "      <td>1</td>\n",
       "      <td>1</td>\n",
       "      <td>1</td>\n",
       "      <td>0</td>\n",
       "      <td>...</td>\n",
       "      <td>1</td>\n",
       "      <td>0</td>\n",
       "      <td>0</td>\n",
       "      <td>0</td>\n",
       "      <td>0</td>\n",
       "      <td>0</td>\n",
       "      <td>0</td>\n",
       "      <td>1</td>\n",
       "      <td>1</td>\n",
       "      <td>0</td>\n",
       "    </tr>\n",
       "    <tr>\n",
       "      <th>853</th>\n",
       "      <td>0</td>\n",
       "      <td>64.349998</td>\n",
       "      <td>352.649994</td>\n",
       "      <td>1</td>\n",
       "      <td>1</td>\n",
       "      <td>0</td>\n",
       "      <td>0</td>\n",
       "      <td>0</td>\n",
       "      <td>1</td>\n",
       "      <td>1</td>\n",
       "      <td>...</td>\n",
       "      <td>1</td>\n",
       "      <td>0</td>\n",
       "      <td>0</td>\n",
       "      <td>0</td>\n",
       "      <td>0</td>\n",
       "      <td>0</td>\n",
       "      <td>1</td>\n",
       "      <td>0</td>\n",
       "      <td>0</td>\n",
       "      <td>0</td>\n",
       "    </tr>\n",
       "    <tr>\n",
       "      <th>3110</th>\n",
       "      <td>0</td>\n",
       "      <td>19.100000</td>\n",
       "      <td>19.100000</td>\n",
       "      <td>1</td>\n",
       "      <td>0</td>\n",
       "      <td>0</td>\n",
       "      <td>0</td>\n",
       "      <td>0</td>\n",
       "      <td>0</td>\n",
       "      <td>0</td>\n",
       "      <td>...</td>\n",
       "      <td>0</td>\n",
       "      <td>0</td>\n",
       "      <td>0</td>\n",
       "      <td>0</td>\n",
       "      <td>0</td>\n",
       "      <td>0</td>\n",
       "      <td>0</td>\n",
       "      <td>1</td>\n",
       "      <td>0</td>\n",
       "      <td>1</td>\n",
       "    </tr>\n",
       "    <tr>\n",
       "      <th>1059</th>\n",
       "      <td>0</td>\n",
       "      <td>90.599998</td>\n",
       "      <td>1943.199951</td>\n",
       "      <td>1</td>\n",
       "      <td>1</td>\n",
       "      <td>1</td>\n",
       "      <td>0</td>\n",
       "      <td>0</td>\n",
       "      <td>1</td>\n",
       "      <td>0</td>\n",
       "      <td>...</td>\n",
       "      <td>1</td>\n",
       "      <td>0</td>\n",
       "      <td>1</td>\n",
       "      <td>0</td>\n",
       "      <td>0</td>\n",
       "      <td>0</td>\n",
       "      <td>1</td>\n",
       "      <td>0</td>\n",
       "      <td>1</td>\n",
       "      <td>0</td>\n",
       "    </tr>\n",
       "    <tr>\n",
       "      <th>3061</th>\n",
       "      <td>1</td>\n",
       "      <td>106.400002</td>\n",
       "      <td>2483.500000</td>\n",
       "      <td>1</td>\n",
       "      <td>1</td>\n",
       "      <td>1</td>\n",
       "      <td>0</td>\n",
       "      <td>0</td>\n",
       "      <td>1</td>\n",
       "      <td>0</td>\n",
       "      <td>...</td>\n",
       "      <td>1</td>\n",
       "      <td>1</td>\n",
       "      <td>1</td>\n",
       "      <td>0</td>\n",
       "      <td>0</td>\n",
       "      <td>0</td>\n",
       "      <td>1</td>\n",
       "      <td>0</td>\n",
       "      <td>1</td>\n",
       "      <td>0</td>\n",
       "    </tr>\n",
       "  </tbody>\n",
       "</table>\n",
       "<p>5 rows × 28 columns</p>\n",
       "</div>"
      ],
      "text/plain": [
       "      senior_citizen  monthly_charges  total_charges  is_phone  is_internet  \\\n",
       "1184               0        87.900002    1500.500000         1            1   \n",
       "853                0        64.349998     352.649994         1            1   \n",
       "3110               0        19.100000      19.100000         1            0   \n",
       "1059               0        90.599998    1943.199951         1            1   \n",
       "3061               1       106.400002    2483.500000         1            1   \n",
       "\n",
       "      gender_Male  partner_Yes  dependents_Yes  paperless_billing_Yes  \\\n",
       "1184            1            1               1                      1   \n",
       "853             0            0               0                      1   \n",
       "3110            0            0               0                      0   \n",
       "1059            1            0               0                      1   \n",
       "3061            1            0               0                      1   \n",
       "\n",
       "      duration_use_cut_(4.0, 14.0]  ...  streaming_TV_Yes  \\\n",
       "1184                             0  ...                 1   \n",
       "853                              1  ...                 1   \n",
       "3110                             0  ...                 0   \n",
       "1059                             0  ...                 1   \n",
       "3061                             0  ...                 1   \n",
       "\n",
       "      streaming_movies_Yes  multiple_lines_Yes  type_One year  type_Two year  \\\n",
       "1184                     0                   0              0              0   \n",
       "853                      0                   0              0              0   \n",
       "3110                     0                   0              0              0   \n",
       "1059                     0                   1              0              0   \n",
       "3061                     1                   1              0              0   \n",
       "\n",
       "      payment_method_Credit card (automatic)  payment_method_Electronic check  \\\n",
       "1184                                       0                                0   \n",
       "853                                        0                                1   \n",
       "3110                                       0                                0   \n",
       "1059                                       0                                1   \n",
       "3061                                       0                                1   \n",
       "\n",
       "      payment_method_Mailed check  internet_service_Fiber optic  \\\n",
       "1184                            1                             1   \n",
       "853                             0                             0   \n",
       "3110                            1                             0   \n",
       "1059                            0                             1   \n",
       "3061                            0                             1   \n",
       "\n",
       "      internet_service_No  \n",
       "1184                    0  \n",
       "853                     0  \n",
       "3110                    1  \n",
       "1059                    0  \n",
       "3061                    0  \n",
       "\n",
       "[5 rows x 28 columns]"
      ]
     },
     "execution_count": 325,
     "metadata": {},
     "output_type": "execute_result"
    }
   ],
   "source": [
    "X_train_cat.head()"
   ]
  },
  {
   "cell_type": "code",
   "execution_count": 326,
   "metadata": {
    "pycharm": {
     "name": "#%%\n"
    }
   },
   "outputs": [],
   "source": [
    "mm = MinMaxScaler()\n",
    "X_train_cat_mm = mm.fit_transform(X_train_cat)\n",
    "X_test_cat_mm = mm.transform(X_test_cat)"
   ]
  },
  {
   "cell_type": "code",
   "execution_count": 327,
   "metadata": {
    "pycharm": {
     "name": "#%%\n"
    }
   },
   "outputs": [
    {
     "data": {
      "text/html": [
       "<div>\n",
       "<style scoped>\n",
       "    .dataframe tbody tr th:only-of-type {\n",
       "        vertical-align: middle;\n",
       "    }\n",
       "\n",
       "    .dataframe tbody tr th {\n",
       "        vertical-align: top;\n",
       "    }\n",
       "\n",
       "    .dataframe thead th {\n",
       "        text-align: right;\n",
       "    }\n",
       "</style>\n",
       "<table border=\"1\" class=\"dataframe\">\n",
       "  <thead>\n",
       "    <tr style=\"text-align: right;\">\n",
       "      <th></th>\n",
       "      <th>0</th>\n",
       "      <th>1</th>\n",
       "      <th>2</th>\n",
       "      <th>3</th>\n",
       "      <th>4</th>\n",
       "      <th>5</th>\n",
       "      <th>6</th>\n",
       "      <th>7</th>\n",
       "      <th>8</th>\n",
       "      <th>9</th>\n",
       "      <th>...</th>\n",
       "      <th>18</th>\n",
       "      <th>19</th>\n",
       "      <th>20</th>\n",
       "      <th>21</th>\n",
       "      <th>22</th>\n",
       "      <th>23</th>\n",
       "      <th>24</th>\n",
       "      <th>25</th>\n",
       "      <th>26</th>\n",
       "      <th>27</th>\n",
       "    </tr>\n",
       "  </thead>\n",
       "  <tbody>\n",
       "    <tr>\n",
       "      <th>0</th>\n",
       "      <td>0.0</td>\n",
       "      <td>0.693035</td>\n",
       "      <td>0.172773</td>\n",
       "      <td>1.0</td>\n",
       "      <td>1.0</td>\n",
       "      <td>1.0</td>\n",
       "      <td>1.0</td>\n",
       "      <td>1.0</td>\n",
       "      <td>1.0</td>\n",
       "      <td>0.0</td>\n",
       "      <td>...</td>\n",
       "      <td>1.0</td>\n",
       "      <td>0.0</td>\n",
       "      <td>0.0</td>\n",
       "      <td>0.0</td>\n",
       "      <td>0.0</td>\n",
       "      <td>0.0</td>\n",
       "      <td>0.0</td>\n",
       "      <td>1.0</td>\n",
       "      <td>1.0</td>\n",
       "      <td>0.0</td>\n",
       "    </tr>\n",
       "    <tr>\n",
       "      <th>1</th>\n",
       "      <td>0.0</td>\n",
       "      <td>0.458706</td>\n",
       "      <td>0.040605</td>\n",
       "      <td>1.0</td>\n",
       "      <td>1.0</td>\n",
       "      <td>0.0</td>\n",
       "      <td>0.0</td>\n",
       "      <td>0.0</td>\n",
       "      <td>1.0</td>\n",
       "      <td>1.0</td>\n",
       "      <td>...</td>\n",
       "      <td>1.0</td>\n",
       "      <td>0.0</td>\n",
       "      <td>0.0</td>\n",
       "      <td>0.0</td>\n",
       "      <td>0.0</td>\n",
       "      <td>0.0</td>\n",
       "      <td>1.0</td>\n",
       "      <td>0.0</td>\n",
       "      <td>0.0</td>\n",
       "      <td>0.0</td>\n",
       "    </tr>\n",
       "    <tr>\n",
       "      <th>2</th>\n",
       "      <td>0.0</td>\n",
       "      <td>0.008458</td>\n",
       "      <td>0.002199</td>\n",
       "      <td>1.0</td>\n",
       "      <td>0.0</td>\n",
       "      <td>0.0</td>\n",
       "      <td>0.0</td>\n",
       "      <td>0.0</td>\n",
       "      <td>0.0</td>\n",
       "      <td>0.0</td>\n",
       "      <td>...</td>\n",
       "      <td>0.0</td>\n",
       "      <td>0.0</td>\n",
       "      <td>0.0</td>\n",
       "      <td>0.0</td>\n",
       "      <td>0.0</td>\n",
       "      <td>0.0</td>\n",
       "      <td>0.0</td>\n",
       "      <td>1.0</td>\n",
       "      <td>0.0</td>\n",
       "      <td>1.0</td>\n",
       "    </tr>\n",
       "  </tbody>\n",
       "</table>\n",
       "<p>3 rows × 28 columns</p>\n",
       "</div>"
      ],
      "text/plain": [
       "    0         1         2    3    4    5    6    7    8    9   ...   18   19  \\\n",
       "0  0.0  0.693035  0.172773  1.0  1.0  1.0  1.0  1.0  1.0  0.0  ...  1.0  0.0   \n",
       "1  0.0  0.458706  0.040605  1.0  1.0  0.0  0.0  0.0  1.0  1.0  ...  1.0  0.0   \n",
       "2  0.0  0.008458  0.002199  1.0  0.0  0.0  0.0  0.0  0.0  0.0  ...  0.0  0.0   \n",
       "\n",
       "    20   21   22   23   24   25   26   27  \n",
       "0  0.0  0.0  0.0  0.0  0.0  1.0  1.0  0.0  \n",
       "1  0.0  0.0  0.0  0.0  1.0  0.0  0.0  0.0  \n",
       "2  0.0  0.0  0.0  0.0  0.0  1.0  0.0  1.0  \n",
       "\n",
       "[3 rows x 28 columns]"
      ]
     },
     "execution_count": 327,
     "metadata": {},
     "output_type": "execute_result"
    }
   ],
   "source": [
    "pd.DataFrame(X_train_cat_mm[:3])"
   ]
  },
  {
   "cell_type": "code",
   "execution_count": 328,
   "metadata": {
    "pycharm": {
     "name": "#%%\n"
    }
   },
   "outputs": [],
   "source": [
    "lr = LogisticRegression(max_iter=1000)"
   ]
  },
  {
   "cell_type": "markdown",
   "metadata": {
    "pycharm": {
     "name": "#%% md\n"
    }
   },
   "source": [
    "Перекрестная проверка на 5 фолдах"
   ]
  },
  {
   "cell_type": "code",
   "execution_count": 329,
   "metadata": {
    "pycharm": {
     "name": "#%%\n"
    }
   },
   "outputs": [],
   "source": [
    "%%time\n",
    "\n",
    "scores = cross_val_score(lr, X_train_cat_mm, y_train_, cv=5)\n",
    "print(f\"Средняя правильность: {scores.mean():.2f}\")"
   ]
  },
  {
   "cell_type": "code",
   "execution_count": 330,
   "metadata": {
    "pycharm": {
     "name": "#%%\n"
    }
   },
   "outputs": [
    {
     "data": {
      "text/plain": [
       "LogisticRegression(max_iter=1000)"
      ]
     },
     "execution_count": 330,
     "metadata": {},
     "output_type": "execute_result"
    }
   ],
   "source": [
    "lr.fit(X_train_cat_mm, y_train_)"
   ]
  },
  {
   "cell_type": "code",
   "execution_count": 331,
   "metadata": {
    "pycharm": {
     "name": "#%%\n"
    }
   },
   "outputs": [
    {
     "data": {
      "text/plain": [
       "array([0.20766081, 0.06125447, 0.93931912, 0.8996249 , 0.28148088])"
      ]
     },
     "execution_count": 331,
     "metadata": {},
     "output_type": "execute_result"
    }
   ],
   "source": [
    "preds = lr.predict_proba(X_test_cat_mm)[:, 1]\n",
    "preds[:5]"
   ]
  },
  {
   "cell_type": "markdown",
   "metadata": {},
   "source": [
    "### Best Threshold"
   ]
  },
  {
   "cell_type": "code",
   "execution_count": 332,
   "metadata": {
    "pycharm": {
     "name": "#%%\n"
    }
   },
   "outputs": [],
   "source": [
    "precision, recall, thresholds = precision_recall_curve(y_test_, preds)\n",
    "\n",
    "fscore = (2 * precision * recall) / (precision + recall)\n",
    "# locate the index of the largest f score\n",
    "ix = np.argmax(fscore)\n",
    "print('Best Threshold=%f, F-Score=%.3f, Precision=%.3f, Recall=%.3f' % (\n",
    "        thresholds[ix],\n",
    "        fscore[ix],\n",
    "        precision[ix],\n",
    "        recall[ix],\n",
    "    )\n",
    ")"
   ]
  },
  {
   "cell_type": "markdown",
   "metadata": {},
   "source": [
    "### Confusion matrix"
   ]
  },
  {
   "cell_type": "code",
   "execution_count": 333,
   "metadata": {
    "pycharm": {
     "name": "#%%\n"
    }
   },
   "outputs": [],
   "source": [
    "def plot_confusion_matrix(cm, classes, normalize=False, title='Confusion matrix', cmap=plt.cm.Blues):\n",
    "    \"\"\"\n",
    "    This function prints and plots the confusion matrix.\n",
    "    Normalization can be applied by setting `normalize=True`.\n",
    "    \"\"\"\n",
    "    plt.imshow(cm, interpolation='nearest', cmap=cmap)\n",
    "    plt.title(title)\n",
    "    plt.colorbar()\n",
    "    tick_marks = np.arange(len(classes))\n",
    "    plt.xticks(tick_marks, classes, rotation=45)\n",
    "    plt.yticks(tick_marks, classes)\n",
    "\n",
    "    if normalize:\n",
    "        cm = cm.astype('float') / cm.sum(axis=1)[:, np.newaxis]\n",
    "        print(\"Normalized confusion matrix\")\n",
    "    else:\n",
    "        print('Confusion matrix, without normalization')\n",
    "\n",
    "    print(cm)\n",
    "\n",
    "    thresh = cm.max() / 2.\n",
    "    for i, j in itertools.product(range(cm.shape[0]), range(cm.shape[1])):\n",
    "        plt.text(j, i, cm[i, j],\n",
    "                 horizontalalignment=\"center\",\n",
    "                 color=\"white\" if cm[i, j] > thresh else \"black\")\n",
    "\n",
    "    plt.tight_layout()\n",
    "    plt.ylabel('True label')\n",
    "    plt.xlabel('Predicted label')"
   ]
  },
  {
   "cell_type": "code",
   "execution_count": 334,
   "metadata": {
    "pycharm": {
     "name": "#%%\n"
    }
   },
   "outputs": [
    {
     "data": {
      "image/png": "[encoded data removed]",
      "text/plain": [
       "<Figure size 720x576 with 2 Axes>"
      ]
     },
     "metadata": {},
     "output_type": "display_data"
    }
   ],
   "source": [
    "#мы уже нашли ранее \"оптимальный\" порог, когда максимизировали f_score\n",
    "font = {'size' : 15}\n",
    "plt.rc('font', **font)\n",
    "\n",
    "cnf_matrix = confusion_matrix(y_test_, preds > thresholds[ix])\n",
    "plt.figure(figsize=(10, 8))\n",
    "plot_confusion_matrix(cnf_matrix, classes=['not_exited', 'exited'], title='Confusion matrix')\n",
    "plt.savefig(\"conf_matrix.png\")\n",
    "plt.show()"
   ]
  },
  {
   "cell_type": "markdown",
   "metadata": {},
   "source": [
    "Матрица ошибок визуально показывает что ошибка при отнесении наблюдения к 0, в то время как он относится к классу 1"
   ]
  },
  {
   "cell_type": "markdown",
   "metadata": {},
   "source": [
    "### ROC curve"
   ]
  },
  {
   "cell_type": "code",
   "execution_count": 335,
   "metadata": {
    "pycharm": {
     "name": "#%%\n"
    }
   },
   "outputs": [],
   "source": [
    "def roc_curve_plot(y_test, preds):\n",
    "    fpr, tpr, _ = roc_curve(y_test,  preds)\n",
    "    auc = roc_auc_score(y_test, preds)\n",
    "    plt.plot(fpr,tpr,label=\"data 1, auc=\"+str(round(auc, 3)))\n",
    "    plt.legend(loc=4)\n",
    "    plt.title('Receiver Operating Characteristic')\n",
    "    plt.ylabel('True Positive Rate')\n",
    "    plt.xlabel('False Positive Rate')\n",
    "    plt.show()"
   ]
  },
  {
   "cell_type": "code",
   "execution_count": 336,
   "metadata": {
    "pycharm": {
     "name": "#%%\n"
    }
   },
   "outputs": [
    {
     "data": {
      "image/png": "[encoded data removed]",
      "text/plain": [
       "<Figure size 432x288 with 1 Axes>"
      ]
     },
     "metadata": {},
     "output_type": "display_data"
    }
   ],
   "source": [
    "roc_curve_plot(y_test_,  preds)"
   ]
  },
  {
   "cell_type": "markdown",
   "metadata": {},
   "source": [
    "### Feature importance"
   ]
  },
  {
   "cell_type": "code",
   "execution_count": 337,
   "metadata": {
    "pycharm": {
     "name": "#%%\n"
    },
    "scrolled": true
   },
   "outputs": [
    {
     "data": {
      "text/html": [
       "<div>\n",
       "<style scoped>\n",
       "    .dataframe tbody tr th:only-of-type {\n",
       "        vertical-align: middle;\n",
       "    }\n",
       "\n",
       "    .dataframe tbody tr th {\n",
       "        vertical-align: top;\n",
       "    }\n",
       "\n",
       "    .dataframe thead th {\n",
       "        text-align: right;\n",
       "    }\n",
       "</style>\n",
       "<table border=\"1\" class=\"dataframe\">\n",
       "  <thead>\n",
       "    <tr style=\"text-align: right;\">\n",
       "      <th></th>\n",
       "      <th>coeff</th>\n",
       "      <th>col_names</th>\n",
       "    </tr>\n",
       "  </thead>\n",
       "  <tbody>\n",
       "    <tr>\n",
       "      <th>22</th>\n",
       "      <td>1.935390</td>\n",
       "      <td>type_Two year</td>\n",
       "    </tr>\n",
       "    <tr>\n",
       "      <th>12</th>\n",
       "      <td>1.412283</td>\n",
       "      <td>duration_use_cut_(47.0, 64.0]</td>\n",
       "    </tr>\n",
       "    <tr>\n",
       "      <th>11</th>\n",
       "      <td>1.264038</td>\n",
       "      <td>duration_use_cut_(29.0, 47.0]</td>\n",
       "    </tr>\n",
       "    <tr>\n",
       "      <th>10</th>\n",
       "      <td>1.226550</td>\n",
       "      <td>duration_use_cut_(14.0, 29.0]</td>\n",
       "    </tr>\n",
       "    <tr>\n",
       "      <th>13</th>\n",
       "      <td>1.223237</td>\n",
       "      <td>duration_use_cut_(64.0, 72.0]</td>\n",
       "    </tr>\n",
       "    <tr>\n",
       "      <th>2</th>\n",
       "      <td>1.215980</td>\n",
       "      <td>total_charges</td>\n",
       "    </tr>\n",
       "    <tr>\n",
       "      <th>26</th>\n",
       "      <td>1.029206</td>\n",
       "      <td>internet_service_Fiber optic</td>\n",
       "    </tr>\n",
       "    <tr>\n",
       "      <th>9</th>\n",
       "      <td>0.794390</td>\n",
       "      <td>duration_use_cut_(4.0, 14.0]</td>\n",
       "    </tr>\n",
       "    <tr>\n",
       "      <th>21</th>\n",
       "      <td>0.788965</td>\n",
       "      <td>type_One year</td>\n",
       "    </tr>\n",
       "    <tr>\n",
       "      <th>4</th>\n",
       "      <td>0.552626</td>\n",
       "      <td>is_internet</td>\n",
       "    </tr>\n",
       "    <tr>\n",
       "      <th>27</th>\n",
       "      <td>0.504341</td>\n",
       "      <td>internet_service_No</td>\n",
       "    </tr>\n",
       "    <tr>\n",
       "      <th>1</th>\n",
       "      <td>0.410537</td>\n",
       "      <td>monthly_charges</td>\n",
       "    </tr>\n",
       "    <tr>\n",
       "      <th>24</th>\n",
       "      <td>0.372396</td>\n",
       "      <td>payment_method_Electronic check</td>\n",
       "    </tr>\n",
       "    <tr>\n",
       "      <th>8</th>\n",
       "      <td>0.368956</td>\n",
       "      <td>paperless_billing_Yes</td>\n",
       "    </tr>\n",
       "    <tr>\n",
       "      <th>19</th>\n",
       "      <td>0.345898</td>\n",
       "      <td>streaming_movies_Yes</td>\n",
       "    </tr>\n",
       "    <tr>\n",
       "      <th>20</th>\n",
       "      <td>0.336834</td>\n",
       "      <td>multiple_lines_Yes</td>\n",
       "    </tr>\n",
       "    <tr>\n",
       "      <th>14</th>\n",
       "      <td>0.319389</td>\n",
       "      <td>online_security_Yes</td>\n",
       "    </tr>\n",
       "    <tr>\n",
       "      <th>18</th>\n",
       "      <td>0.312154</td>\n",
       "      <td>streaming_TV_Yes</td>\n",
       "    </tr>\n",
       "    <tr>\n",
       "      <th>0</th>\n",
       "      <td>0.261350</td>\n",
       "      <td>senior_citizen</td>\n",
       "    </tr>\n",
       "    <tr>\n",
       "      <th>3</th>\n",
       "      <td>0.149712</td>\n",
       "      <td>is_phone</td>\n",
       "    </tr>\n",
       "    <tr>\n",
       "      <th>17</th>\n",
       "      <td>0.146843</td>\n",
       "      <td>tech_support_Yes</td>\n",
       "    </tr>\n",
       "    <tr>\n",
       "      <th>15</th>\n",
       "      <td>0.085690</td>\n",
       "      <td>online_backup_Yes</td>\n",
       "    </tr>\n",
       "    <tr>\n",
       "      <th>7</th>\n",
       "      <td>0.046161</td>\n",
       "      <td>dependents_Yes</td>\n",
       "    </tr>\n",
       "    <tr>\n",
       "      <th>5</th>\n",
       "      <td>0.038200</td>\n",
       "      <td>gender_Male</td>\n",
       "    </tr>\n",
       "    <tr>\n",
       "      <th>23</th>\n",
       "      <td>0.034922</td>\n",
       "      <td>payment_method_Credit card (automatic)</td>\n",
       "    </tr>\n",
       "    <tr>\n",
       "      <th>25</th>\n",
       "      <td>0.017644</td>\n",
       "      <td>payment_method_Mailed check</td>\n",
       "    </tr>\n",
       "    <tr>\n",
       "      <th>16</th>\n",
       "      <td>0.014633</td>\n",
       "      <td>device_protection_Yes</td>\n",
       "    </tr>\n",
       "    <tr>\n",
       "      <th>6</th>\n",
       "      <td>0.013819</td>\n",
       "      <td>partner_Yes</td>\n",
       "    </tr>\n",
       "  </tbody>\n",
       "</table>\n",
       "</div>"
      ],
      "text/plain": [
       "       coeff                               col_names\n",
       "22  1.935390                           type_Two year\n",
       "12  1.412283           duration_use_cut_(47.0, 64.0]\n",
       "11  1.264038           duration_use_cut_(29.0, 47.0]\n",
       "10  1.226550           duration_use_cut_(14.0, 29.0]\n",
       "13  1.223237           duration_use_cut_(64.0, 72.0]\n",
       "2   1.215980                           total_charges\n",
       "26  1.029206            internet_service_Fiber optic\n",
       "9   0.794390            duration_use_cut_(4.0, 14.0]\n",
       "21  0.788965                           type_One year\n",
       "4   0.552626                             is_internet\n",
       "27  0.504341                     internet_service_No\n",
       "1   0.410537                         monthly_charges\n",
       "24  0.372396         payment_method_Electronic check\n",
       "8   0.368956                   paperless_billing_Yes\n",
       "19  0.345898                    streaming_movies_Yes\n",
       "20  0.336834                      multiple_lines_Yes\n",
       "14  0.319389                     online_security_Yes\n",
       "18  0.312154                        streaming_TV_Yes\n",
       "0   0.261350                          senior_citizen\n",
       "3   0.149712                                is_phone\n",
       "17  0.146843                        tech_support_Yes\n",
       "15  0.085690                       online_backup_Yes\n",
       "7   0.046161                          dependents_Yes\n",
       "5   0.038200                             gender_Male\n",
       "23  0.034922  payment_method_Credit card (automatic)\n",
       "25  0.017644             payment_method_Mailed check\n",
       "16  0.014633                   device_protection_Yes\n",
       "6   0.013819                             partner_Yes"
      ]
     },
     "execution_count": 337,
     "metadata": {},
     "output_type": "execute_result"
    }
   ],
   "source": [
    "t = pd.DataFrame(abs(lr.coef_.T), columns=['coeff'])\n",
    "t['col_names'] = list(X_train_cat.columns)\n",
    "t.sort_values('coeff', ascending=False)"
   ]
  },
  {
   "cell_type": "markdown",
   "metadata": {
    "pycharm": {
     "name": "#%% md\n"
    }
   },
   "source": [
    "### Classification Report"
   ]
  },
  {
   "cell_type": "code",
   "execution_count": 338,
   "metadata": {
    "pycharm": {
     "name": "#%%\n"
    }
   },
   "outputs": [],
   "source": [
    "print(classification_report(y_test_, lr.predict(X_test_cat_mm), output_dict=False))"
   ]
  },
  {
   "cell_type": "markdown",
   "metadata": {
    "pycharm": {
     "name": "#%% md\n"
    }
   },
   "source": [
    "- Построили модель лог регрессии, она построилась быстро - около 136ms\n",
    "- На максимизации fscore нашли threshold и построили confusion matrix\n",
    "- У нас получилось что мы больше ошибаемся с FP - если мы будем предлагать купон или скидку то мы можем дать слишком много таких предложений\n",
    "- Ошибки с FN - клиенты которые ушли, но мы никак с ними не проивзаимодействовали\n",
    "- accuracy = 0.77 - доля правильным ответов по отношению ко всем ответам(изначально был выше, пока я не попробовала сделать upsampling, что наглядно показывает, что accuracy не надежная метрика при дисбалансе классов, в часности при использовании в лог регрессии. auc при этом, даже стал выше на 0.02)\n",
    "- AUC ~ 0.85"
   ]
  },
  {
   "cell_type": "markdown",
   "metadata": {
    "pycharm": {
     "name": "#%% md\n"
    }
   },
   "source": [
    "## CatBoostClassifier"
   ]
  },
  {
   "cell_type": "code",
   "execution_count": 339,
   "metadata": {
    "pycharm": {
     "name": "#%%\n"
    }
   },
   "outputs": [],
   "source": [
    "cb = CatBoostClassifier(\n",
    "    cat_features=cat_features,\n",
    "    random_seed=42,\n",
    ")"
   ]
  },
  {
   "cell_type": "code",
   "execution_count": 340,
   "metadata": {
    "pycharm": {
     "name": "#%%\n"
    }
   },
   "outputs": [],
   "source": [
    "# %%time\n",
    "\n",
    "#cb.fit(X_train, y_train)"
   ]
  },
  {
   "cell_type": "code",
   "execution_count": 341,
   "metadata": {
    "pycharm": {
     "name": "#%%\n"
    }
   },
   "outputs": [],
   "source": [
    "# %%time\n",
    "#\n",
    "# grid = {'learning_rate': [0.03, 0.1],\n",
    "#         'depth': [4, 6],\n",
    "#         'l2_leaf_reg': [1, 3]}\n",
    "#\n",
    "# grid_search_result = cb.grid_search(\n",
    "#     grid,\n",
    "#     X=X_train,\n",
    "#     y=y_train,\n",
    "#     verbose=100,\n",
    "#     plot=True,\n",
    "# )\n",
    "# grid_search_result['params']"
   ]
  },
  {
   "cell_type": "code",
   "execution_count": 342,
   "metadata": {
    "pycharm": {
     "name": "#%%\n"
    }
   },
   "outputs": [
    {
     "data": {
      "text/plain": [
       "<catboost.core.CatBoostClassifier at 0x262bb506dc8>"
      ]
     },
     "execution_count": 342,
     "metadata": {},
     "output_type": "execute_result"
    }
   ],
   "source": [
    "%%time\n",
    "\n",
    "cb = CatBoostClassifier(\n",
    "    depth=6,\n",
    "    l2_leaf_reg=1,\n",
    "    learning_rate=0.1,\n",
    "    cat_features=cat_features,\n",
    "    verbose=100,\n",
    "    random_seed=42,\n",
    ")\n",
    "cb.fit(X_train, y_train)"
   ]
  },
  {
   "cell_type": "code",
   "execution_count": 343,
   "metadata": {
    "pycharm": {
     "name": "#%%\n"
    }
   },
   "outputs": [
    {
     "data": {
      "text/plain": [
       "array([2.22025468e-01, 1.32866741e-01, 1.59065199e-04, 1.81430476e-04,\n",
       "       2.49247245e-01])"
      ]
     },
     "execution_count": 343,
     "metadata": {},
     "output_type": "execute_result"
    }
   ],
   "source": [
    "preds = cb.predict_proba(X_test)[:, 1]\n",
    "preds[:5]"
   ]
  },
  {
   "cell_type": "markdown",
   "metadata": {
    "pycharm": {
     "name": "#%% md\n"
    }
   },
   "source": [
    "Модель обучилась за ~30 секунд, получили скоры"
   ]
  },
  {
   "cell_type": "markdown",
   "metadata": {
    "pycharm": {
     "name": "#%% md\n"
    }
   },
   "source": [
    "### Best Threshold"
   ]
  },
  {
   "cell_type": "code",
   "execution_count": 344,
   "metadata": {
    "pycharm": {
     "name": "#%%\n"
    }
   },
   "outputs": [],
   "source": [
    "precision, recall, thresholds = precision_recall_curve(y_test, preds)\n",
    "\n",
    "fscore = (2 * precision * recall) / (precision + recall)\n",
    "# locate the index of the largest f score\n",
    "ix = np.argmax(fscore)\n",
    "print('Best Threshold=%f, F-Score=%.3f, Precision=%.3f, Recall=%.3f' % (\n",
    "        thresholds[ix],\n",
    "        fscore[ix],\n",
    "        precision[ix],\n",
    "        recall[ix],\n",
    "    )\n",
    ")"
   ]
  },
  {
   "cell_type": "markdown",
   "metadata": {
    "pycharm": {
     "name": "#%% md\n"
    }
   },
   "source": [
    "### Confusion matrix"
   ]
  },
  {
   "cell_type": "code",
   "execution_count": 345,
   "metadata": {
    "pycharm": {
     "name": "#%%\n"
    }
   },
   "outputs": [
    {
     "data": {
      "image/png": "[encoded data removed]",
      "text/plain": [
       "<Figure size 720x576 with 2 Axes>"
      ]
     },
     "metadata": {},
     "output_type": "display_data"
    }
   ],
   "source": [
    "#мы уже нашли ранее \"оптимальный\" порог, когда максимизировали f_score\n",
    "font = {'size' : 15}\n",
    "plt.rc('font', **font)\n",
    "\n",
    "cnf_matrix = confusion_matrix(y_test, preds > thresholds[ix])\n",
    "plt.figure(figsize=(10, 8))\n",
    "plot_confusion_matrix(cnf_matrix, classes=['not_exited', 'exited'], title='Confusion matrix')\n",
    "plt.savefig(\"conf_matrix.png\")\n",
    "plt.show()"
   ]
  },
  {
   "cell_type": "markdown",
   "metadata": {
    "pycharm": {
     "name": "#%% md\n"
    }
   },
   "source": [
    "Матрица ошибок визуально показывает что ошибка при отнесении наблюдения к 0, в то время как он относится к классу 1"
   ]
  },
  {
   "cell_type": "markdown",
   "metadata": {
    "pycharm": {
     "name": "#%% md\n"
    }
   },
   "source": [
    "### ROC curve"
   ]
  },
  {
   "cell_type": "code",
   "execution_count": 346,
   "metadata": {
    "pycharm": {
     "name": "#%%\n"
    }
   },
   "outputs": [
    {
     "data": {
      "image/png": "[encoded data removed]",
      "text/plain": [
       "<Figure size 432x288 with 1 Axes>"
      ]
     },
     "metadata": {},
     "output_type": "display_data"
    }
   ],
   "source": [
    "roc_curve_plot(y_test,  preds)"
   ]
  },
  {
   "cell_type": "markdown",
   "metadata": {
    "pycharm": {
     "name": "#%% md\n"
    }
   },
   "source": [
    "ROC кривая стремится к угловому варианту"
   ]
  },
  {
   "cell_type": "markdown",
   "metadata": {
    "pycharm": {
     "name": "#%% md\n"
    }
   },
   "source": [
    "### Feature importance"
   ]
  },
  {
   "cell_type": "code",
   "execution_count": 347,
   "metadata": {
    "pycharm": {
     "name": "#%%\n"
    }
   },
   "outputs": [
    {
     "data": {
      "text/html": [
       "<div>\n",
       "<style scoped>\n",
       "    .dataframe tbody tr th:only-of-type {\n",
       "        vertical-align: middle;\n",
       "    }\n",
       "\n",
       "    .dataframe tbody tr th {\n",
       "        vertical-align: top;\n",
       "    }\n",
       "\n",
       "    .dataframe thead th {\n",
       "        text-align: right;\n",
       "    }\n",
       "</style>\n",
       "<table border=\"1\" class=\"dataframe\">\n",
       "  <thead>\n",
       "    <tr style=\"text-align: right;\">\n",
       "      <th></th>\n",
       "      <th>Feature Id</th>\n",
       "      <th>Importances</th>\n",
       "    </tr>\n",
       "  </thead>\n",
       "  <tbody>\n",
       "    <tr>\n",
       "      <th>0</th>\n",
       "      <td>total_charges</td>\n",
       "      <td>23.156802</td>\n",
       "    </tr>\n",
       "    <tr>\n",
       "      <th>1</th>\n",
       "      <td>monthly_charges</td>\n",
       "      <td>20.687487</td>\n",
       "    </tr>\n",
       "    <tr>\n",
       "      <th>2</th>\n",
       "      <td>type</td>\n",
       "      <td>10.493028</td>\n",
       "    </tr>\n",
       "    <tr>\n",
       "      <th>3</th>\n",
       "      <td>payment_method</td>\n",
       "      <td>7.425796</td>\n",
       "    </tr>\n",
       "    <tr>\n",
       "      <th>4</th>\n",
       "      <td>internet_service</td>\n",
       "      <td>5.381102</td>\n",
       "    </tr>\n",
       "    <tr>\n",
       "      <th>5</th>\n",
       "      <td>gender_Male</td>\n",
       "      <td>3.272818</td>\n",
       "    </tr>\n",
       "    <tr>\n",
       "      <th>6</th>\n",
       "      <td>paperless_billing_Yes</td>\n",
       "      <td>2.926822</td>\n",
       "    </tr>\n",
       "    <tr>\n",
       "      <th>7</th>\n",
       "      <td>dependents_Yes</td>\n",
       "      <td>2.781427</td>\n",
       "    </tr>\n",
       "    <tr>\n",
       "      <th>8</th>\n",
       "      <td>multiple_lines_Yes</td>\n",
       "      <td>2.373432</td>\n",
       "    </tr>\n",
       "    <tr>\n",
       "      <th>9</th>\n",
       "      <td>online_backup_Yes</td>\n",
       "      <td>2.214516</td>\n",
       "    </tr>\n",
       "    <tr>\n",
       "      <th>10</th>\n",
       "      <td>senior_citizen</td>\n",
       "      <td>2.091207</td>\n",
       "    </tr>\n",
       "    <tr>\n",
       "      <th>11</th>\n",
       "      <td>is_phone</td>\n",
       "      <td>2.024660</td>\n",
       "    </tr>\n",
       "    <tr>\n",
       "      <th>12</th>\n",
       "      <td>online_security_Yes</td>\n",
       "      <td>1.967676</td>\n",
       "    </tr>\n",
       "    <tr>\n",
       "      <th>13</th>\n",
       "      <td>partner_Yes</td>\n",
       "      <td>1.950677</td>\n",
       "    </tr>\n",
       "    <tr>\n",
       "      <th>14</th>\n",
       "      <td>tech_support_Yes</td>\n",
       "      <td>1.929684</td>\n",
       "    </tr>\n",
       "    <tr>\n",
       "      <th>15</th>\n",
       "      <td>streaming_TV_Yes</td>\n",
       "      <td>1.575942</td>\n",
       "    </tr>\n",
       "    <tr>\n",
       "      <th>16</th>\n",
       "      <td>device_protection_Yes</td>\n",
       "      <td>1.424148</td>\n",
       "    </tr>\n",
       "    <tr>\n",
       "      <th>17</th>\n",
       "      <td>streaming_movies_Yes</td>\n",
       "      <td>1.355318</td>\n",
       "    </tr>\n",
       "    <tr>\n",
       "      <th>18</th>\n",
       "      <td>duration_use_cut_(14.0, 29.0]</td>\n",
       "      <td>1.141628</td>\n",
       "    </tr>\n",
       "    <tr>\n",
       "      <th>19</th>\n",
       "      <td>duration_use_cut_(29.0, 47.0]</td>\n",
       "      <td>1.064572</td>\n",
       "    </tr>\n",
       "    <tr>\n",
       "      <th>20</th>\n",
       "      <td>duration_use_cut_(4.0, 14.0]</td>\n",
       "      <td>0.935854</td>\n",
       "    </tr>\n",
       "    <tr>\n",
       "      <th>21</th>\n",
       "      <td>duration_use_cut_(47.0, 64.0]</td>\n",
       "      <td>0.856210</td>\n",
       "    </tr>\n",
       "    <tr>\n",
       "      <th>22</th>\n",
       "      <td>duration_use_cut_(64.0, 72.0]</td>\n",
       "      <td>0.578754</td>\n",
       "    </tr>\n",
       "    <tr>\n",
       "      <th>23</th>\n",
       "      <td>is_internet</td>\n",
       "      <td>0.390441</td>\n",
       "    </tr>\n",
       "  </tbody>\n",
       "</table>\n",
       "</div>"
      ],
      "text/plain": [
       "                       Feature Id  Importances\n",
       "0                   total_charges    23.156802\n",
       "1                 monthly_charges    20.687487\n",
       "2                            type    10.493028\n",
       "3                  payment_method     7.425796\n",
       "4                internet_service     5.381102\n",
       "5                     gender_Male     3.272818\n",
       "6           paperless_billing_Yes     2.926822\n",
       "7                  dependents_Yes     2.781427\n",
       "8              multiple_lines_Yes     2.373432\n",
       "9               online_backup_Yes     2.214516\n",
       "10                 senior_citizen     2.091207\n",
       "11                       is_phone     2.024660\n",
       "12            online_security_Yes     1.967676\n",
       "13                    partner_Yes     1.950677\n",
       "14               tech_support_Yes     1.929684\n",
       "15               streaming_TV_Yes     1.575942\n",
       "16          device_protection_Yes     1.424148\n",
       "17           streaming_movies_Yes     1.355318\n",
       "18  duration_use_cut_(14.0, 29.0]     1.141628\n",
       "19  duration_use_cut_(29.0, 47.0]     1.064572\n",
       "20   duration_use_cut_(4.0, 14.0]     0.935854\n",
       "21  duration_use_cut_(47.0, 64.0]     0.856210\n",
       "22  duration_use_cut_(64.0, 72.0]     0.578754\n",
       "23                    is_internet     0.390441"
      ]
     },
     "execution_count": 347,
     "metadata": {},
     "output_type": "execute_result"
    }
   ],
   "source": [
    "cb.get_feature_importance(prettified=True)"
   ]
  },
  {
   "cell_type": "code",
   "execution_count": 348,
   "metadata": {
    "pycharm": {
     "name": "#%%\n"
    }
   },
   "outputs": [
    {
     "data": {
      "text/plain": [
       "(1.9961679484597097, 4.166666666666663)"
      ]
     },
     "execution_count": 348,
     "metadata": {},
     "output_type": "execute_result"
    }
   ],
   "source": [
    "med, mean = cb.get_feature_importance(prettified=True)['Importances'].median(), cb.get_feature_importance(prettified=True)['Importances'].mean()\n",
    "med, mean"
   ]
  },
  {
   "cell_type": "markdown",
   "metadata": {},
   "source": [
    "### Classification Report"
   ]
  },
  {
   "cell_type": "code",
   "execution_count": 349,
   "metadata": {
    "pycharm": {
     "name": "#%%\n"
    }
   },
   "outputs": [],
   "source": [
    "print(classification_report(y_test, cb.predict(X_test), output_dict=False))"
   ]
  },
  {
   "cell_type": "markdown",
   "metadata": {},
   "source": [
    "- Построили модель классификации CatBoost, она строилась дольше - 30 сек\n",
    "- На максимизации fscore нашли threshold и построили confusion matrix\n",
    "- У нас получилось что мы больше ошибаемся с FP - как и с лог регрессией\n",
    "- Ошибки с FN - клиенты которые ушли, но мы никак с ними не проивзаимодействовали\n",
    "- Самые важные фичи по версии CatBoost являются type, duration_use, monthly_charges. duration_use все же пригодился\n",
    "- accuracy = 0.79\n",
    "- AUC ~ 0.81"
   ]
  },
  {
   "cell_type": "markdown",
   "metadata": {
    "pycharm": {
     "name": "#%% md\n"
    }
   },
   "source": [
    "## MLPClassifier"
   ]
  },
  {
   "cell_type": "markdown",
   "metadata": {
    "pycharm": {
     "name": "#%% md\n"
    }
   },
   "source": [
    "MLPClassifier требует что бы мы стандартизовали данные и не работает с категориальными фичами как CatBoost"
   ]
  },
  {
   "cell_type": "code",
   "execution_count": 350,
   "metadata": {
    "pycharm": {
     "name": "#%%\n"
    }
   },
   "outputs": [],
   "source": [
    "%%time\n",
    "\n",
    "mlp = MLPClassifier(\n",
    "    solver='lbfgs',\n",
    "    max_iter=1000,\n",
    "    # hidden_layer_sizes=[10],\n",
    "    alpha=0.1,\n",
    "    random_state=0,\n",
    ").fit(X_train_cat_mm, y_train_)"
   ]
  },
  {
   "cell_type": "code",
   "execution_count": 351,
   "metadata": {
    "pycharm": {
     "name": "#%%\n"
    }
   },
   "outputs": [],
   "source": [
    "print(f\"Скор на обучающем наборе: {mlp.score(X_train_cat_mm, y_train_)}\\nСкор на тестовом наборе: {mlp.score(X_test_cat_mm, y_test_)}\")"
   ]
  },
  {
   "cell_type": "code",
   "execution_count": 352,
   "metadata": {
    "pycharm": {
     "name": "#%%\n"
    }
   },
   "outputs": [
    {
     "data": {
      "text/plain": [
       "array([3.16998265e-08, 4.57737346e-08, 9.99999873e-01, 9.27452800e-01,\n",
       "       8.70678420e-07])"
      ]
     },
     "execution_count": 352,
     "metadata": {},
     "output_type": "execute_result"
    }
   ],
   "source": [
    "preds = mlp.predict_proba(X_test_cat_mm)[:, 1]\n",
    "preds[:5]"
   ]
  },
  {
   "cell_type": "markdown",
   "metadata": {
    "pycharm": {
     "name": "#%% md\n"
    }
   },
   "source": [
    "### Best Threshold"
   ]
  },
  {
   "cell_type": "code",
   "execution_count": 353,
   "metadata": {
    "pycharm": {
     "name": "#%%\n"
    }
   },
   "outputs": [],
   "source": [
    "precision, recall, thresholds = precision_recall_curve(y_test_, preds)\n",
    "\n",
    "fscore = (2 * precision * recall) / (precision + recall)\n",
    "# locate the index of the largest f score\n",
    "ix = np.argmax(fscore)\n",
    "print('Best Threshold=%f, F-Score=%.3f, Precision=%.3f, Recall=%.3f' % (\n",
    "    thresholds[ix],\n",
    "    fscore[ix],\n",
    "    precision[ix],\n",
    "    recall[ix],\n",
    ")\n",
    "      )"
   ]
  },
  {
   "cell_type": "markdown",
   "metadata": {},
   "source": [
    "### Confusion matrix"
   ]
  },
  {
   "cell_type": "code",
   "execution_count": 354,
   "metadata": {
    "pycharm": {
     "name": "#%%\n"
    }
   },
   "outputs": [
    {
     "data": {
      "image/png": "[encoded data removed]",
      "text/plain": [
       "<Figure size 720x576 with 2 Axes>"
      ]
     },
     "metadata": {},
     "output_type": "display_data"
    }
   ],
   "source": [
    "font = {'size' : 15}\n",
    "plt.rc('font', **font)\n",
    "\n",
    "cnf_matrix = confusion_matrix(y_test_, preds > thresholds[ix])\n",
    "plt.figure(figsize=(10, 8))\n",
    "plot_confusion_matrix(cnf_matrix, classes=['not_exited', 'exited'], title='Confusion matrix')\n",
    "plt.savefig(\"conf_matrix.png\")\n",
    "plt.show()"
   ]
  },
  {
   "cell_type": "markdown",
   "metadata": {},
   "source": [
    "### ROC curve"
   ]
  },
  {
   "cell_type": "code",
   "execution_count": 355,
   "metadata": {
    "pycharm": {
     "name": "#%%\n"
    }
   },
   "outputs": [
    {
     "data": {
      "image/png": "[encoded data removed]",
      "text/plain": [
       "<Figure size 432x288 with 1 Axes>"
      ]
     },
     "metadata": {},
     "output_type": "display_data"
    }
   ],
   "source": [
    "roc_curve_plot(y_test_,  preds)"
   ]
  },
  {
   "cell_type": "markdown",
   "metadata": {},
   "source": [
    "### Classification Report"
   ]
  },
  {
   "cell_type": "code",
   "execution_count": 356,
   "metadata": {
    "pycharm": {
     "name": "#%%\n"
    }
   },
   "outputs": [],
   "source": [
    "print(classification_report(y_test_, mlp.predict(X_test_cat_mm), output_dict=False))"
   ]
  },
  {
   "cell_type": "markdown",
   "metadata": {},
   "source": [
    "- Построили модель MLPClissifier, она строилась относительно быстро, но при добавлении гиперпараметров требовала больше итераций и обучалась очень долго, при этом требовала предобработку по аналогии с логрегрессией - обработка кат фичей и стандартизацию признаков\n",
    "- На максимизации fscore нашли threshold и построили confusion matrix\n",
    "- У нас получилось что мы больше ошибаемся с FP - если мы будем предлагать купон или скидку то мы можем дать слишком много таких предложений\n",
    "- Ошибки с FN - клиенты которые ушли, но мы никак с ними не проивзаимодействовали\n",
    "- accuracy = 0.86 - доля правильным ответам по отношению ко всем ответам\n",
    "- AUC ~ 0.89"
   ]
  },
  {
   "cell_type": "markdown",
   "metadata": {
    "pycharm": {
     "name": "#%% md\n"
    }
   },
   "source": [
    "## Общие выводы по моделям"
   ]
  },
  {
   "cell_type": "markdown",
   "metadata": {
    "pycharm": {
     "name": "#%% md\n"
    }
   },
   "source": [
    "- Все модели показали хороший результат, при этом по скорости лог регрессия: ~245ms, CatBoost: ~30 сек, MLP ~18.7сек\n",
    "- По ROC получилось такое разбиение: лог регрессия - 0.85, CatBoost - 0.81, MLP - 0.89, при этом трэшхолд подтягивала до максимлаьного значения f-score как метрики, учитывающей и precision и recall. И здесь получались интересные различия в прогнозировании.\n",
    "    - Лог регрессия имеет precision 0.78, что значит что из 100% маркетинговых предложений потенциально могут оправдать себя только 78% при этом 22% таких предложений уйдет нам в минус, если клиент согласится на дискаунт(хотя он изначально и не собирался уходить) и добавить к этому ошибку второго рода - FN, с которыми надо было взаимодействовать, но мы ничего не сделали и потеряли их.\n",
    "    - CatBoost показал себя в целом неплохо и precision здесь 0.51\n",
    "    - MLP отработал хорошо, хотя для него была необходима предобработка на уровне с лог регрессией. В процентном соотношении она меньше ошибается в предсказании отточных клиентов чем лог регрессия и пропускает тоже меньше."
   ]
  },
  {
   "cell_type": "markdown",
   "metadata": {
    "pycharm": {
     "name": "#%% md\n"
    }
   },
   "source": [
    "## Расчет прибыли"
   ]
  },
  {
   "cell_type": "markdown",
   "metadata": {
    "pycharm": {
     "name": "#%% md\n"
    }
   },
   "source": [
    "Возьмем за стоимость купона - X, а стоимость выручки - Y(хотя мы знаем что у нас nunique() по месячной выручке 185 вариантов, тем не менее мы можем отталкиваться от 25% наших наблюдений и выше так как те кто ниже и так платят мало и не уходят, а это от 35 в месяц). Пусть выручка будет - 70 - это наша медиана\n",
    "\n",
    "Подсчет без работы модели:\n",
    "    - Не ушли 1296 + 2 = 1298. 1298 * 70 = 90860\n",
    "    - Остальные клиенты ушли в отток и мы потеряли 450 + 13 = 463. 463 * (70 - X) - наша потенциальная прибыль, если бы мы взаимодействовали с клиентом\n",
    "\n",
    "Подсчет с применением методов ML:\n",
    "    - Не ушли 1296 * 70 = 90720 и мы заработали не взаимодействуя с клиентом\n",
    "    - Потенциально хотели уйти в отток, но мы их привлекли купоном на скидку - 450. Тогда 450 * (70 - X) - Это наша возможная прибыль\n",
    "    - Не собирались уходить, но мы преложили скидку и заработали 2 * (70 - X)\n",
    "    - Тем не менее все равно ушли 13 клиентов и мы потеряли 13 * (70 - X)"
   ]
  },
  {
   "cell_type": "code",
   "execution_count": 357,
   "metadata": {
    "pycharm": {
     "name": "#%%\n"
    }
   },
   "outputs": [],
   "source": [
    "TP = 450\n",
    "FP = 2\n",
    "FN = 13\n",
    "TN = 1296\n",
    "\n",
    "def count_money(x):\n",
    "    income = 90720 + FP * (70 - x)\n",
    "    may_be_income = TP * (70 - x)\n",
    "    lost_income = FN * (70 - x)\n",
    "    spend_money = (FP + TP)*x\n",
    "    print(f\"Пессимистичный прогноз при котором наша акция не сработала: {income - spend_money}\")\n",
    "    print(f\"Реалистичный прогноз при котором наша акция сработала на 50% клиентов: {income + may_be_income * 0.5 - spend_money}\")\n",
    "    print(f\"Оптимистичный прогноз при котором наша акция сработала на 100% клиентов: {income + may_be_income - spend_money}\")\n",
    "    print(f\"При этом мы потратили: {(FP+TP)*x}\")\n",
    "    print(f\"При этом мы недополучили: {lost_income}\")\n",
    "\n",
    "result = {}"
   ]
  },
  {
   "cell_type": "code",
   "execution_count": 358,
   "metadata": {
    "pycharm": {
     "name": "#%%\n"
    }
   },
   "outputs": [],
   "source": [
    "count_money(5)"
   ]
  },
  {
   "cell_type": "code",
   "execution_count": 359,
   "metadata": {
    "pycharm": {
     "name": "#%%\n"
    }
   },
   "outputs": [],
   "source": [
    "count_money(10)"
   ]
  },
  {
   "cell_type": "code",
   "execution_count": 360,
   "metadata": {
    "pycharm": {
     "name": "#%%\n"
    }
   },
   "outputs": [],
   "source": [
    "count_money(15)"
   ]
  },
  {
   "cell_type": "code",
   "execution_count": 361,
   "metadata": {
    "pycharm": {
     "name": "#%%\n"
    }
   },
   "outputs": [],
   "source": [
    "count_money(23)"
   ]
  },
  {
   "cell_type": "markdown",
   "metadata": {
    "pycharm": {
     "name": "#%% md\n"
    }
   },
   "source": [
    "Т.о. если мы отталкиваемся от стартовой прибыли без маркетинговой акции в 90860, то при использовании модели мы должны быть уверены что акцией воспользуются как минимум 50% клиентов, при этом стоимость траты на одного клиента должна быть не выше чем 23 условные единицы. Тогда за месяц мы окупимся и хотя бы часть клиентов останется с нами. При это расчет ведется исходя из того что мы удерживаем клиента и в течении месяца это нам окупается, а далее он пользуется услугами и приносит прибыль без затрат."
   ]
  },
  {
   "cell_type": "markdown",
   "metadata": {
    "pycharm": {
     "name": "#%% md\n"
    }
   },
   "source": [
    "# Отчет"
   ]
  },
  {
   "cell_type": "markdown",
   "metadata": {
    "pycharm": {
     "name": "#%% md\n"
    }
   },
   "source": [
    "- Необходимо было сравнить распределение величин ежемесячных платежей (MonthlyCharges) всех клиентов и тех, кто ушёл - выполнено с поправкой что я сранивла распределение тех кто ушел и тех кто не ушел, на мой взгляд это было так же информативно.\n",
    "- Для каждой группы посчитайте статистики: средние, минимальные и максимальные значения, медиану и величины 25%- и 75%-квартилей - выполнено с помощью метода describe()\n",
    "- Постройте гистограммы распределения. - гистограммы построены.\n",
    "- Выяснили:\n",
    "    - Можно отметить, что клиенты, которые ушли в среднем платят в месяц больше тех кто не ушел: 74 против 61.\n",
    "    - Те, кто не ушли в отток часто платят мало, это около 20 в месяц и таких наблюдений более 1400, в то время как те кто ушли и платили около 20 - их всего менее 200.\n",
    "    - Такие же \"провалы\" наблюдаются в платежах около 60 и 110, в остальном графики распределения изменяются примерно одинаково.\n",
    "    - Можно сделать вывод что цена ежемесячной платы влияет на отток в той части, если клиент платит минимальную сумму платежа, то он врядли уйдет, а нам соответственно \"выгоднее\" сосредоточиться на тех клиентах, которые платили более 70 в месяц(допустим), так как тренд на гистограмме возрастает резко именно в этом месте для тех кто ушел.\n",
    "    - Для клиентов которые пользуются телефонией нет разницы в оттоке, они уходят одинаково часто\n",
    "    - А вот для отточников среди тех кто пользуется интернетом выше: 93% против 72%\n",
    "    - Так же выяснили, что тип пакета клиента сильно влияет на отточность: среди всех отточников 1665 имеют пакет month-to-month, в то время как пакеты one year и two years в сумме отточников всего 166+48\n",
    "- Далее поработали с фичами:\n",
    "    - 'customer_id', 'begin_date', 'end_date' - удалили, так как они не влияют на таргет или модели их не обрабатывают\n",
    "    - total_charges были с пропущенными значениями - это клиенты которые недавно стали клиентами и у них еще не было оплаты - проставили пропуски 0\n",
    "    - прекодировали кат фичи в дамми переменные\n",
    "    - был введен признак duration_use - длительность пользования контрактом, из-за его сильной линейной корреляцией с total_charges перекодировали его в кат признак с помощью qcut - Уловили зависимоть, чем меньше клиент подключен к услугам, тем вероятнее он от нас уйдет\n",
    "- Построили модели Лог регрессии, CatBoost, MLPClassifier:\n",
    "    - Для лог регрессии обработали дополнительно кат фичи, которые CatBoost обработал сам. Использовали так же шкалирование фичей, что бы модель не завышала важность признаков с помощью MinMaxScaler. Тоже самое для MLPClassifier.\n",
    "    - Лучше всего себя показала модель MLPClassifier - она хорошо находит наблюдения, относящиесся к 1 классу, при этом не сильно ошибается.\n",
    "    - При определении отсечки - Threshold - брала точку при которой максимизируется метрика fscore как метрика, которая усредняет precision и recall, так как нам важно не только не пропустить отточных клиентов, но и не много ошибаться, так как бизнес кейс раздачи купона на скидку подразумевает что мы можем ошибиться и дать скидку тем, кто с отток не уходил.\n",
    "- Трудности при анализе данных и построении моделей:\n",
    "    - Подобрать нужные фичи и корректным образом подать их в модель, например исключить сильную корреляцию непрерывных фичей, каким образом обработать и т.п. В моем случае преобразовать фичу duration_use - изначально я попробовала на 3 интервала,потом сделала 6 и стало лучше, исходила из того что у нас 6 лет наблюдений.\n",
    "    - Подобрать гиперпараметры, улучшить качество модели таким образом.\n",
    "    - В MLPClassifier не так просто сделать feature importance потому что это нейронка, но хотя бы удалось сделать это в других моделях.\n"
   ]
  }
 ],
 "metadata": {
  "ExecuteTimeLog": [
   {
    "duration": 679,
    "start_time": "2022-05-19T10:08:19.354Z"
   },
   {
    "duration": 4197,
    "start_time": "2022-05-19T10:08:31.198Z"
   },
   {
    "duration": 1447,
    "start_time": "2022-05-19T10:08:53.468Z"
   },
   {
    "duration": 359,
    "start_time": "2022-05-19T10:11:32.595Z"
   },
   {
    "duration": 16,
    "start_time": "2022-05-19T10:11:37.488Z"
   },
   {
    "duration": 6,
    "start_time": "2022-05-19T10:11:38.892Z"
   },
   {
    "duration": 13,
    "start_time": "2022-05-19T10:11:40.129Z"
   },
   {
    "duration": 10,
    "start_time": "2022-05-19T10:11:40.885Z"
   },
   {
    "duration": 6,
    "start_time": "2022-05-19T10:11:42.585Z"
   },
   {
    "duration": 11,
    "start_time": "2022-05-19T10:11:43.092Z"
   },
   {
    "duration": 11,
    "start_time": "2022-05-19T10:11:43.884Z"
   },
   {
    "duration": 4,
    "start_time": "2022-05-19T10:11:44.802Z"
   },
   {
    "duration": 773,
    "start_time": "2022-05-19T10:11:45.810Z"
   },
   {
    "duration": 6,
    "start_time": "2022-05-19T10:11:49.486Z"
   },
   {
    "duration": 129,
    "start_time": "2022-05-19T10:11:50.212Z"
   },
   {
    "duration": 122,
    "start_time": "2022-05-19T10:11:50.886Z"
   },
   {
    "duration": 10,
    "start_time": "2022-05-19T10:11:51.402Z"
   },
   {
    "duration": 3,
    "start_time": "2022-05-19T10:11:52.081Z"
   },
   {
    "duration": 11,
    "start_time": "2022-05-19T10:11:52.628Z"
   },
   {
    "duration": 93,
    "start_time": "2022-05-19T10:11:52.895Z"
   },
   {
    "duration": 8,
    "start_time": "2022-05-19T10:23:28.291Z"
   },
   {
    "duration": 6,
    "start_time": "2022-05-19T10:23:28.895Z"
   },
   {
    "duration": 12,
    "start_time": "2022-05-19T10:23:29.570Z"
   },
   {
    "duration": 7,
    "start_time": "2022-05-19T10:23:29.957Z"
   },
   {
    "duration": 5,
    "start_time": "2022-05-19T10:23:30.120Z"
   },
   {
    "duration": 739,
    "start_time": "2022-05-19T10:23:30.588Z"
   },
   {
    "duration": 7,
    "start_time": "2022-05-19T10:23:31.329Z"
   },
   {
    "duration": 7,
    "start_time": "2022-05-19T10:23:32.371Z"
   },
   {
    "duration": 8,
    "start_time": "2022-05-19T10:23:32.953Z"
   },
   {
    "duration": 10,
    "start_time": "2022-05-19T10:23:52.690Z"
   },
   {
    "duration": 7,
    "start_time": "2022-05-19T10:23:53.394Z"
   },
   {
    "duration": 15,
    "start_time": "2022-05-19T10:23:53.999Z"
   },
   {
    "duration": 6,
    "start_time": "2022-05-19T10:23:54.486Z"
   },
   {
    "duration": 8,
    "start_time": "2022-05-19T10:23:54.722Z"
   },
   {
    "duration": 8,
    "start_time": "2022-05-19T10:23:55.198Z"
   },
   {
    "duration": 8,
    "start_time": "2022-05-19T10:23:55.409Z"
   },
   {
    "duration": 8,
    "start_time": "2022-05-19T10:23:55.572Z"
   },
   {
    "duration": 7,
    "start_time": "2022-05-19T10:23:55.809Z"
   },
   {
    "duration": 8,
    "start_time": "2022-05-19T10:23:56.200Z"
   },
   {
    "duration": 8,
    "start_time": "2022-05-19T10:23:56.460Z"
   },
   {
    "duration": 7,
    "start_time": "2022-05-19T10:24:22.259Z"
   },
   {
    "duration": 11,
    "start_time": "2022-05-19T10:24:23.158Z"
   },
   {
    "duration": 4,
    "start_time": "2022-05-19T10:24:24.153Z"
   },
   {
    "duration": 5,
    "start_time": "2022-05-19T10:24:24.688Z"
   },
   {
    "duration": 5,
    "start_time": "2022-05-19T10:24:24.980Z"
   },
   {
    "duration": 8,
    "start_time": "2022-05-19T10:24:25.778Z"
   },
   {
    "duration": 37,
    "start_time": "2022-05-19T10:24:56.982Z"
   },
   {
    "duration": 6,
    "start_time": "2022-05-19T10:25:38.829Z"
   },
   {
    "duration": 19,
    "start_time": "2022-05-19T10:25:39.517Z"
   },
   {
    "duration": 191,
    "start_time": "2022-05-19T10:26:02.595Z"
   },
   {
    "duration": 10,
    "start_time": "2022-05-19T10:26:03.388Z"
   },
   {
    "duration": 9,
    "start_time": "2022-05-19T10:26:04.065Z"
   },
   {
    "duration": 6,
    "start_time": "2022-05-19T10:26:46.981Z"
   },
   {
    "duration": 17,
    "start_time": "2022-05-19T10:26:47.702Z"
   },
   {
    "duration": 169,
    "start_time": "2022-05-19T10:26:48.576Z"
   },
   {
    "duration": 9,
    "start_time": "2022-05-19T10:26:49.254Z"
   },
   {
    "duration": 169,
    "start_time": "2022-05-19T10:26:50.126Z"
   },
   {
    "duration": 9,
    "start_time": "2022-05-19T10:26:50.681Z"
   },
   {
    "duration": 9,
    "start_time": "2022-05-19T10:26:52.502Z"
   },
   {
    "duration": 19,
    "start_time": "2022-05-19T10:26:52.622Z"
   },
   {
    "duration": 174,
    "start_time": "2022-05-19T10:26:53.425Z"
   },
   {
    "duration": 8,
    "start_time": "2022-05-19T10:26:54.144Z"
   },
   {
    "duration": 252,
    "start_time": "2022-05-19T10:26:54.407Z"
   },
   {
    "duration": 7,
    "start_time": "2022-05-19T10:26:54.992Z"
   },
   {
    "duration": 4,
    "start_time": "2022-05-19T10:26:58.030Z"
   },
   {
    "duration": 11,
    "start_time": "2022-05-19T10:26:58.197Z"
   },
   {
    "duration": 1048,
    "start_time": "2022-05-19T10:26:58.409Z"
   },
   {
    "duration": 10,
    "start_time": "2022-05-19T10:26:59.459Z"
   },
   {
    "duration": 186,
    "start_time": "2022-05-19T10:26:59.470Z"
   },
   {
    "duration": 10,
    "start_time": "2022-05-19T10:26:59.658Z"
   },
   {
    "duration": 9,
    "start_time": "2022-05-19T10:26:59.669Z"
   },
   {
    "duration": 10,
    "start_time": "2022-05-19T10:27:01.172Z"
   },
   {
    "duration": 389,
    "start_time": "2022-05-19T10:27:02.254Z"
   },
   {
    "duration": 187,
    "start_time": "2022-05-19T10:27:02.724Z"
   },
   {
    "duration": 8,
    "start_time": "2022-05-19T10:27:03.354Z"
   },
   {
    "duration": 8,
    "start_time": "2022-05-19T10:27:03.929Z"
   },
   {
    "duration": 7,
    "start_time": "2022-05-19T10:27:04.472Z"
   },
   {
    "duration": 7,
    "start_time": "2022-05-19T10:27:04.639Z"
   },
   {
    "duration": 7,
    "start_time": "2022-05-19T10:27:05.266Z"
   },
   {
    "duration": 10,
    "start_time": "2022-05-19T10:27:05.487Z"
   },
   {
    "duration": 25,
    "start_time": "2022-05-19T10:28:57.843Z"
   },
   {
    "duration": 28,
    "start_time": "2022-05-19T10:29:05.498Z"
   },
   {
    "duration": 9,
    "start_time": "2022-05-19T10:29:28.115Z"
   },
   {
    "duration": 13,
    "start_time": "2022-05-19T10:29:28.702Z"
   },
   {
    "duration": 807,
    "start_time": "2022-05-19T10:29:36.665Z"
   },
   {
    "duration": 6,
    "start_time": "2022-05-19T10:29:37.474Z"
   },
   {
    "duration": 5,
    "start_time": "2022-05-19T10:29:38.670Z"
   },
   {
    "duration": 10,
    "start_time": "2022-05-19T10:29:41.778Z"
   },
   {
    "duration": 18,
    "start_time": "2022-05-19T10:29:42.472Z"
   },
   {
    "duration": 29,
    "start_time": "2022-05-19T10:29:44.135Z"
   },
   {
    "duration": 3,
    "start_time": "2022-05-19T10:29:44.871Z"
   },
   {
    "duration": 51,
    "start_time": "2022-05-19T10:29:45.679Z"
   },
   {
    "duration": 9,
    "start_time": "2022-05-19T10:29:48.663Z"
   },
   {
    "duration": 5,
    "start_time": "2022-05-19T10:29:48.857Z"
   },
   {
    "duration": 8,
    "start_time": "2022-05-19T10:37:45.221Z"
   },
   {
    "duration": 12,
    "start_time": "2022-05-19T10:37:51.808Z"
   },
   {
    "duration": 19,
    "start_time": "2022-05-19T10:38:21.710Z"
   },
   {
    "duration": 27,
    "start_time": "2022-05-19T10:38:27.081Z"
   },
   {
    "duration": 4,
    "start_time": "2022-05-19T10:38:28.942Z"
   },
   {
    "duration": 16,
    "start_time": "2022-05-19T10:38:29.660Z"
   },
   {
    "duration": 84,
    "start_time": "2022-05-19T10:41:22.555Z"
   },
   {
    "duration": 5,
    "start_time": "2022-05-19T10:41:23.331Z"
   },
   {
    "duration": 4,
    "start_time": "2022-05-19T10:44:31.630Z"
   },
   {
    "duration": 18834,
    "start_time": "2022-05-19T10:44:32.682Z"
   },
   {
    "duration": 5200,
    "start_time": "2022-05-19T10:44:51.518Z"
   },
   {
    "duration": 97,
    "start_time": "2022-05-19T10:44:56.721Z"
   },
   {
    "duration": 6,
    "start_time": "2022-05-19T10:45:20.901Z"
   },
   {
    "duration": 8,
    "start_time": "2022-05-19T10:45:35.797Z"
   },
   {
    "duration": 441,
    "start_time": "2022-05-19T10:45:38.199Z"
   },
   {
    "duration": 4,
    "start_time": "2022-05-19T10:45:59.807Z"
   },
   {
    "duration": 133,
    "start_time": "2022-05-19T10:46:00.503Z"
   },
   {
    "duration": 13,
    "start_time": "2022-05-19T10:46:02.092Z"
   },
   {
    "duration": 16,
    "start_time": "2022-05-19T10:47:05.518Z"
   },
   {
    "duration": 3,
    "start_time": "2022-05-19T10:47:13.500Z"
   },
   {
    "duration": 17308,
    "start_time": "2022-05-19T10:47:23.005Z"
   },
   {
    "duration": 17,
    "start_time": "2022-05-19T10:47:40.315Z"
   },
   {
    "duration": 5,
    "start_time": "2022-05-19T10:47:55.662Z"
   },
   {
    "duration": 440,
    "start_time": "2022-05-19T10:48:04.302Z"
   },
   {
    "duration": 162,
    "start_time": "2022-05-19T10:48:06.262Z"
   },
   {
    "duration": 15,
    "start_time": "2022-05-19T10:48:08.802Z"
   },
   {
    "duration": 22,
    "start_time": "2022-05-19T10:48:10.928Z"
   },
   {
    "duration": 440198,
    "start_time": "2022-05-19T10:48:16.523Z"
   },
   {
    "duration": 199,
    "start_time": "2022-05-19T10:55:36.723Z"
   },
   {
    "duration": 196,
    "start_time": "2022-05-19T10:55:36.924Z"
   },
   {
    "duration": 190,
    "start_time": "2022-05-19T10:55:37.123Z"
   },
   {
    "duration": 404,
    "start_time": "2022-05-19T10:55:37.315Z"
   },
   {
    "duration": 133,
    "start_time": "2022-05-19T10:55:37.721Z"
   },
   {
    "duration": 66,
    "start_time": "2022-05-19T10:55:37.856Z"
   },
   {
    "duration": 17603,
    "start_time": "2022-05-19T10:55:38.013Z"
   },
   {
    "duration": 12,
    "start_time": "2022-05-19T10:55:55.618Z"
   },
   {
    "duration": 16,
    "start_time": "2022-05-19T10:55:55.633Z"
   },
   {
    "duration": 442,
    "start_time": "2022-05-19T10:55:55.651Z"
   },
   {
    "duration": 6,
    "start_time": "2022-05-19T11:01:34.438Z"
   },
   {
    "duration": 4,
    "start_time": "2022-05-19T11:01:34.610Z"
   },
   {
    "duration": 4,
    "start_time": "2022-05-19T11:01:34.918Z"
   },
   {
    "duration": 4,
    "start_time": "2022-05-19T11:01:35.210Z"
   },
   {
    "duration": 4,
    "start_time": "2022-05-19T11:01:35.386Z"
   },
   {
    "duration": 84,
    "start_time": "2022-05-19T15:52:24.640Z"
   },
   {
    "duration": 0,
    "start_time": "2022-05-19T15:52:24.727Z"
   },
   {
    "duration": 0,
    "start_time": "2022-05-19T15:52:24.728Z"
   },
   {
    "duration": 0,
    "start_time": "2022-05-19T15:52:24.730Z"
   },
   {
    "duration": 0,
    "start_time": "2022-05-19T15:52:24.731Z"
   },
   {
    "duration": 0,
    "start_time": "2022-05-19T15:52:24.733Z"
   },
   {
    "duration": 0,
    "start_time": "2022-05-19T15:52:24.734Z"
   },
   {
    "duration": 0,
    "start_time": "2022-05-19T15:52:24.735Z"
   },
   {
    "duration": 0,
    "start_time": "2022-05-19T15:52:24.737Z"
   },
   {
    "duration": 0,
    "start_time": "2022-05-19T15:52:24.738Z"
   },
   {
    "duration": 0,
    "start_time": "2022-05-19T15:52:24.740Z"
   },
   {
    "duration": 0,
    "start_time": "2022-05-19T15:52:24.741Z"
   },
   {
    "duration": 0,
    "start_time": "2022-05-19T15:52:24.743Z"
   },
   {
    "duration": 0,
    "start_time": "2022-05-19T15:52:24.775Z"
   },
   {
    "duration": 0,
    "start_time": "2022-05-19T15:52:24.776Z"
   },
   {
    "duration": 0,
    "start_time": "2022-05-19T15:52:24.777Z"
   },
   {
    "duration": 0,
    "start_time": "2022-05-19T15:52:24.778Z"
   },
   {
    "duration": 0,
    "start_time": "2022-05-19T15:52:24.779Z"
   },
   {
    "duration": 0,
    "start_time": "2022-05-19T15:52:24.781Z"
   },
   {
    "duration": 0,
    "start_time": "2022-05-19T15:52:24.783Z"
   },
   {
    "duration": 7,
    "start_time": "2022-05-19T15:52:24.785Z"
   },
   {
    "duration": 0,
    "start_time": "2022-05-19T15:52:24.794Z"
   },
   {
    "duration": 0,
    "start_time": "2022-05-19T15:52:24.796Z"
   },
   {
    "duration": 0,
    "start_time": "2022-05-19T15:52:24.797Z"
   },
   {
    "duration": 0,
    "start_time": "2022-05-19T15:52:24.798Z"
   },
   {
    "duration": 0,
    "start_time": "2022-05-19T15:52:24.799Z"
   },
   {
    "duration": 0,
    "start_time": "2022-05-19T15:52:24.800Z"
   },
   {
    "duration": 0,
    "start_time": "2022-05-19T15:52:24.801Z"
   },
   {
    "duration": 0,
    "start_time": "2022-05-19T15:52:24.803Z"
   },
   {
    "duration": 0,
    "start_time": "2022-05-19T15:52:24.804Z"
   },
   {
    "duration": 0,
    "start_time": "2022-05-19T15:52:24.805Z"
   },
   {
    "duration": 0,
    "start_time": "2022-05-19T15:52:24.806Z"
   },
   {
    "duration": 0,
    "start_time": "2022-05-19T15:52:24.807Z"
   },
   {
    "duration": 11,
    "start_time": "2022-05-19T15:52:24.810Z"
   },
   {
    "duration": 0,
    "start_time": "2022-05-19T15:52:24.823Z"
   },
   {
    "duration": 0,
    "start_time": "2022-05-19T15:52:24.824Z"
   },
   {
    "duration": 0,
    "start_time": "2022-05-19T15:52:24.825Z"
   },
   {
    "duration": 0,
    "start_time": "2022-05-19T15:52:24.883Z"
   },
   {
    "duration": 0,
    "start_time": "2022-05-19T15:52:24.884Z"
   },
   {
    "duration": 0,
    "start_time": "2022-05-19T15:52:24.885Z"
   },
   {
    "duration": 0,
    "start_time": "2022-05-19T15:52:24.885Z"
   },
   {
    "duration": 8,
    "start_time": "2022-05-19T15:52:24.888Z"
   },
   {
    "duration": 0,
    "start_time": "2022-05-19T15:52:24.897Z"
   },
   {
    "duration": 0,
    "start_time": "2022-05-19T15:52:24.900Z"
   },
   {
    "duration": 0,
    "start_time": "2022-05-19T15:52:24.901Z"
   },
   {
    "duration": 0,
    "start_time": "2022-05-19T15:52:24.902Z"
   },
   {
    "duration": 0,
    "start_time": "2022-05-19T15:52:24.904Z"
   },
   {
    "duration": 0,
    "start_time": "2022-05-19T15:52:24.905Z"
   },
   {
    "duration": 0,
    "start_time": "2022-05-19T15:52:24.906Z"
   },
   {
    "duration": 0,
    "start_time": "2022-05-19T15:52:24.907Z"
   },
   {
    "duration": 0,
    "start_time": "2022-05-19T15:52:24.908Z"
   },
   {
    "duration": 0,
    "start_time": "2022-05-19T15:52:24.910Z"
   },
   {
    "duration": 0,
    "start_time": "2022-05-19T15:52:24.911Z"
   },
   {
    "duration": 7,
    "start_time": "2022-05-19T15:52:24.913Z"
   },
   {
    "duration": 0,
    "start_time": "2022-05-19T15:52:24.921Z"
   },
   {
    "duration": 0,
    "start_time": "2022-05-19T15:52:24.922Z"
   },
   {
    "duration": 0,
    "start_time": "2022-05-19T15:52:24.975Z"
   },
   {
    "duration": 0,
    "start_time": "2022-05-19T15:52:24.976Z"
   },
   {
    "duration": 0,
    "start_time": "2022-05-19T15:52:24.977Z"
   },
   {
    "duration": 30,
    "start_time": "2022-05-19T15:52:24.979Z"
   },
   {
    "duration": 0,
    "start_time": "2022-05-19T15:52:25.011Z"
   },
   {
    "duration": 0,
    "start_time": "2022-05-19T15:52:25.012Z"
   },
   {
    "duration": 0,
    "start_time": "2022-05-19T15:52:25.014Z"
   },
   {
    "duration": 0,
    "start_time": "2022-05-19T15:52:25.016Z"
   },
   {
    "duration": 0,
    "start_time": "2022-05-19T15:52:25.017Z"
   },
   {
    "duration": 0,
    "start_time": "2022-05-19T15:52:25.018Z"
   },
   {
    "duration": 0,
    "start_time": "2022-05-19T15:52:25.019Z"
   },
   {
    "duration": 0,
    "start_time": "2022-05-19T15:52:25.020Z"
   },
   {
    "duration": 0,
    "start_time": "2022-05-19T15:52:25.021Z"
   },
   {
    "duration": 0,
    "start_time": "2022-05-19T15:52:25.022Z"
   },
   {
    "duration": 0,
    "start_time": "2022-05-19T15:52:25.024Z"
   },
   {
    "duration": 0,
    "start_time": "2022-05-19T15:52:25.025Z"
   },
   {
    "duration": 0,
    "start_time": "2022-05-19T15:52:25.026Z"
   },
   {
    "duration": 0,
    "start_time": "2022-05-19T15:52:25.027Z"
   },
   {
    "duration": 0,
    "start_time": "2022-05-19T15:52:25.028Z"
   },
   {
    "duration": 0,
    "start_time": "2022-05-19T15:52:25.029Z"
   },
   {
    "duration": 0,
    "start_time": "2022-05-19T15:52:25.030Z"
   },
   {
    "duration": 0,
    "start_time": "2022-05-19T15:52:25.031Z"
   },
   {
    "duration": 0,
    "start_time": "2022-05-19T15:52:25.031Z"
   },
   {
    "duration": 59,
    "start_time": "2022-05-19T15:52:25.033Z"
   },
   {
    "duration": 0,
    "start_time": "2022-05-19T15:52:25.093Z"
   },
   {
    "duration": 0,
    "start_time": "2022-05-19T15:52:25.096Z"
   },
   {
    "duration": 0,
    "start_time": "2022-05-19T15:52:25.097Z"
   },
   {
    "duration": 0,
    "start_time": "2022-05-19T15:52:25.098Z"
   },
   {
    "duration": 0,
    "start_time": "2022-05-19T15:52:25.099Z"
   },
   {
    "duration": 0,
    "start_time": "2022-05-19T15:52:25.100Z"
   },
   {
    "duration": 0,
    "start_time": "2022-05-19T15:52:25.101Z"
   },
   {
    "duration": 0,
    "start_time": "2022-05-19T15:52:25.102Z"
   },
   {
    "duration": 0,
    "start_time": "2022-05-19T15:52:25.103Z"
   },
   {
    "duration": 0,
    "start_time": "2022-05-19T15:52:25.104Z"
   },
   {
    "duration": 0,
    "start_time": "2022-05-19T15:52:25.105Z"
   },
   {
    "duration": 0,
    "start_time": "2022-05-19T15:52:25.107Z"
   },
   {
    "duration": 0,
    "start_time": "2022-05-19T15:52:25.108Z"
   },
   {
    "duration": 10,
    "start_time": "2022-05-19T15:52:25.111Z"
   },
   {
    "duration": 0,
    "start_time": "2022-05-19T15:52:25.123Z"
   },
   {
    "duration": 0,
    "start_time": "2022-05-19T15:52:25.174Z"
   },
   {
    "duration": 0,
    "start_time": "2022-05-19T15:52:25.175Z"
   },
   {
    "duration": 0,
    "start_time": "2022-05-19T15:52:25.176Z"
   },
   {
    "duration": 0,
    "start_time": "2022-05-19T15:52:25.178Z"
   },
   {
    "duration": 0,
    "start_time": "2022-05-19T15:52:25.179Z"
   },
   {
    "duration": 0,
    "start_time": "2022-05-19T15:52:25.180Z"
   },
   {
    "duration": 9,
    "start_time": "2022-05-19T15:52:25.182Z"
   },
   {
    "duration": 0,
    "start_time": "2022-05-19T15:52:25.193Z"
   },
   {
    "duration": 0,
    "start_time": "2022-05-19T15:52:25.194Z"
   },
   {
    "duration": 0,
    "start_time": "2022-05-19T15:52:25.195Z"
   },
   {
    "duration": 0,
    "start_time": "2022-05-19T15:52:25.196Z"
   },
   {
    "duration": 0,
    "start_time": "2022-05-19T15:52:25.198Z"
   },
   {
    "duration": 0,
    "start_time": "2022-05-19T15:52:25.199Z"
   },
   {
    "duration": 0,
    "start_time": "2022-05-19T15:52:25.200Z"
   },
   {
    "duration": 0,
    "start_time": "2022-05-19T15:52:25.202Z"
   },
   {
    "duration": 0,
    "start_time": "2022-05-19T15:52:25.203Z"
   },
   {
    "duration": 0,
    "start_time": "2022-05-19T15:52:25.205Z"
   },
   {
    "duration": 0,
    "start_time": "2022-05-19T15:52:25.206Z"
   },
   {
    "duration": 0,
    "start_time": "2022-05-19T15:52:25.208Z"
   },
   {
    "duration": 0,
    "start_time": "2022-05-19T15:52:25.209Z"
   },
   {
    "duration": 7,
    "start_time": "2022-05-19T15:52:25.212Z"
   },
   {
    "duration": 0,
    "start_time": "2022-05-19T15:52:25.276Z"
   },
   {
    "duration": 0,
    "start_time": "2022-05-19T15:52:25.280Z"
   },
   {
    "duration": 0,
    "start_time": "2022-05-19T15:52:25.282Z"
   },
   {
    "duration": 0,
    "start_time": "2022-05-19T15:52:25.287Z"
   },
   {
    "duration": 0,
    "start_time": "2022-05-19T15:52:25.288Z"
   },
   {
    "duration": 0,
    "start_time": "2022-05-19T15:52:25.290Z"
   },
   {
    "duration": 0,
    "start_time": "2022-05-19T15:52:25.291Z"
   },
   {
    "duration": 0,
    "start_time": "2022-05-19T15:52:25.293Z"
   },
   {
    "duration": 0,
    "start_time": "2022-05-19T15:52:25.295Z"
   },
   {
    "duration": 0,
    "start_time": "2022-05-19T15:52:25.296Z"
   },
   {
    "duration": 0,
    "start_time": "2022-05-19T15:52:25.298Z"
   },
   {
    "duration": 0,
    "start_time": "2022-05-19T15:52:25.299Z"
   },
   {
    "duration": 9,
    "start_time": "2022-05-19T15:52:25.302Z"
   },
   {
    "duration": 0,
    "start_time": "2022-05-19T15:52:25.312Z"
   },
   {
    "duration": 0,
    "start_time": "2022-05-19T15:52:25.314Z"
   },
   {
    "duration": 0,
    "start_time": "2022-05-19T15:52:25.315Z"
   },
   {
    "duration": 0,
    "start_time": "2022-05-19T15:52:25.317Z"
   },
   {
    "duration": 0,
    "start_time": "2022-05-19T15:52:25.319Z"
   },
   {
    "duration": 0,
    "start_time": "2022-05-19T15:52:25.374Z"
   },
   {
    "duration": 0,
    "start_time": "2022-05-19T15:52:25.376Z"
   },
   {
    "duration": 0,
    "start_time": "2022-05-19T15:52:25.377Z"
   },
   {
    "duration": 0,
    "start_time": "2022-05-19T15:52:25.378Z"
   },
   {
    "duration": 0,
    "start_time": "2022-05-19T15:52:25.379Z"
   },
   {
    "duration": 0,
    "start_time": "2022-05-19T15:52:25.380Z"
   },
   {
    "duration": 0,
    "start_time": "2022-05-19T15:52:25.382Z"
   },
   {
    "duration": 0,
    "start_time": "2022-05-19T15:52:25.384Z"
   },
   {
    "duration": 0,
    "start_time": "2022-05-19T15:52:25.385Z"
   },
   {
    "duration": 0,
    "start_time": "2022-05-19T15:52:25.386Z"
   },
   {
    "duration": 0,
    "start_time": "2022-05-19T15:52:25.388Z"
   },
   {
    "duration": 0,
    "start_time": "2022-05-19T15:52:25.390Z"
   },
   {
    "duration": 0,
    "start_time": "2022-05-19T15:52:25.391Z"
   },
   {
    "duration": 0,
    "start_time": "2022-05-19T15:52:25.393Z"
   },
   {
    "duration": 10,
    "start_time": "2022-05-19T15:52:25.396Z"
   },
   {
    "duration": 0,
    "start_time": "2022-05-19T15:52:25.407Z"
   },
   {
    "duration": 0,
    "start_time": "2022-05-19T15:52:25.411Z"
   },
   {
    "duration": 17,
    "start_time": "2022-05-19T15:52:40.775Z"
   },
   {
    "duration": 0,
    "start_time": "2022-05-19T15:52:40.793Z"
   },
   {
    "duration": 0,
    "start_time": "2022-05-19T15:52:40.795Z"
   },
   {
    "duration": 0,
    "start_time": "2022-05-19T15:52:40.795Z"
   },
   {
    "duration": 25,
    "start_time": "2022-05-19T15:52:40.808Z"
   },
   {
    "duration": 0,
    "start_time": "2022-05-19T15:52:40.835Z"
   },
   {
    "duration": 1,
    "start_time": "2022-05-19T15:52:40.836Z"
   },
   {
    "duration": 0,
    "start_time": "2022-05-19T15:52:40.838Z"
   },
   {
    "duration": 0,
    "start_time": "2022-05-19T15:52:40.839Z"
   },
   {
    "duration": 0,
    "start_time": "2022-05-19T15:52:40.840Z"
   },
   {
    "duration": 0,
    "start_time": "2022-05-19T15:52:40.841Z"
   },
   {
    "duration": 0,
    "start_time": "2022-05-19T15:52:40.842Z"
   },
   {
    "duration": 0,
    "start_time": "2022-05-19T15:52:40.843Z"
   },
   {
    "duration": 0,
    "start_time": "2022-05-19T15:52:40.845Z"
   },
   {
    "duration": 0,
    "start_time": "2022-05-19T15:52:40.847Z"
   },
   {
    "duration": 0,
    "start_time": "2022-05-19T15:52:40.848Z"
   },
   {
    "duration": 0,
    "start_time": "2022-05-19T15:52:40.850Z"
   },
   {
    "duration": 0,
    "start_time": "2022-05-19T15:52:40.851Z"
   },
   {
    "duration": 0,
    "start_time": "2022-05-19T15:52:40.875Z"
   },
   {
    "duration": 0,
    "start_time": "2022-05-19T15:52:40.876Z"
   },
   {
    "duration": 9,
    "start_time": "2022-05-19T15:52:40.881Z"
   },
   {
    "duration": 0,
    "start_time": "2022-05-19T15:52:40.892Z"
   },
   {
    "duration": 0,
    "start_time": "2022-05-19T15:52:40.894Z"
   },
   {
    "duration": 0,
    "start_time": "2022-05-19T15:52:40.895Z"
   },
   {
    "duration": 0,
    "start_time": "2022-05-19T15:52:40.896Z"
   },
   {
    "duration": 0,
    "start_time": "2022-05-19T15:52:40.897Z"
   },
   {
    "duration": 0,
    "start_time": "2022-05-19T15:52:40.898Z"
   },
   {
    "duration": 0,
    "start_time": "2022-05-19T15:52:40.900Z"
   },
   {
    "duration": 0,
    "start_time": "2022-05-19T15:52:40.901Z"
   },
   {
    "duration": 0,
    "start_time": "2022-05-19T15:52:40.902Z"
   },
   {
    "duration": 0,
    "start_time": "2022-05-19T15:52:40.903Z"
   },
   {
    "duration": 0,
    "start_time": "2022-05-19T15:52:40.904Z"
   },
   {
    "duration": 0,
    "start_time": "2022-05-19T15:52:40.905Z"
   },
   {
    "duration": 0,
    "start_time": "2022-05-19T15:52:40.907Z"
   },
   {
    "duration": 0,
    "start_time": "2022-05-19T15:52:40.908Z"
   },
   {
    "duration": 73,
    "start_time": "2022-05-19T15:52:40.910Z"
   },
   {
    "duration": 0,
    "start_time": "2022-05-19T15:52:40.986Z"
   },
   {
    "duration": 0,
    "start_time": "2022-05-19T15:52:40.987Z"
   },
   {
    "duration": 0,
    "start_time": "2022-05-19T15:52:40.989Z"
   },
   {
    "duration": 0,
    "start_time": "2022-05-19T15:52:40.990Z"
   },
   {
    "duration": 0,
    "start_time": "2022-05-19T15:52:40.991Z"
   },
   {
    "duration": 0,
    "start_time": "2022-05-19T15:52:40.993Z"
   },
   {
    "duration": 0,
    "start_time": "2022-05-19T15:52:40.995Z"
   },
   {
    "duration": 0,
    "start_time": "2022-05-19T15:52:40.996Z"
   },
   {
    "duration": 0,
    "start_time": "2022-05-19T15:52:40.998Z"
   },
   {
    "duration": 0,
    "start_time": "2022-05-19T15:52:40.999Z"
   },
   {
    "duration": 0,
    "start_time": "2022-05-19T15:52:41.000Z"
   },
   {
    "duration": 0,
    "start_time": "2022-05-19T15:52:41.001Z"
   },
   {
    "duration": 0,
    "start_time": "2022-05-19T15:52:41.002Z"
   },
   {
    "duration": 0,
    "start_time": "2022-05-19T15:52:41.003Z"
   },
   {
    "duration": 0,
    "start_time": "2022-05-19T15:52:41.004Z"
   },
   {
    "duration": 0,
    "start_time": "2022-05-19T15:52:41.006Z"
   },
   {
    "duration": 0,
    "start_time": "2022-05-19T15:52:41.007Z"
   },
   {
    "duration": 0,
    "start_time": "2022-05-19T15:52:41.008Z"
   },
   {
    "duration": 0,
    "start_time": "2022-05-19T15:52:41.009Z"
   },
   {
    "duration": 0,
    "start_time": "2022-05-19T15:52:41.011Z"
   },
   {
    "duration": 0,
    "start_time": "2022-05-19T15:52:41.012Z"
   },
   {
    "duration": 0,
    "start_time": "2022-05-19T15:52:41.013Z"
   },
   {
    "duration": 0,
    "start_time": "2022-05-19T15:52:41.014Z"
   },
   {
    "duration": 61,
    "start_time": "2022-05-19T15:52:41.017Z"
   },
   {
    "duration": 0,
    "start_time": "2022-05-19T15:52:41.083Z"
   },
   {
    "duration": 0,
    "start_time": "2022-05-19T15:52:41.084Z"
   },
   {
    "duration": 1,
    "start_time": "2022-05-19T15:52:41.085Z"
   },
   {
    "duration": 0,
    "start_time": "2022-05-19T15:52:41.086Z"
   },
   {
    "duration": 0,
    "start_time": "2022-05-19T15:52:41.087Z"
   },
   {
    "duration": 0,
    "start_time": "2022-05-19T15:52:41.088Z"
   },
   {
    "duration": 0,
    "start_time": "2022-05-19T15:52:41.089Z"
   },
   {
    "duration": 0,
    "start_time": "2022-05-19T15:52:41.091Z"
   },
   {
    "duration": 0,
    "start_time": "2022-05-19T15:52:41.092Z"
   },
   {
    "duration": 0,
    "start_time": "2022-05-19T15:52:41.093Z"
   },
   {
    "duration": 0,
    "start_time": "2022-05-19T15:52:41.095Z"
   },
   {
    "duration": 0,
    "start_time": "2022-05-19T15:52:41.096Z"
   },
   {
    "duration": 0,
    "start_time": "2022-05-19T15:52:41.097Z"
   },
   {
    "duration": 0,
    "start_time": "2022-05-19T15:52:41.098Z"
   },
   {
    "duration": 0,
    "start_time": "2022-05-19T15:52:41.100Z"
   },
   {
    "duration": 22,
    "start_time": "2022-05-19T15:52:41.104Z"
   },
   {
    "duration": 0,
    "start_time": "2022-05-19T15:52:41.128Z"
   },
   {
    "duration": 0,
    "start_time": "2022-05-19T15:52:41.132Z"
   },
   {
    "duration": 0,
    "start_time": "2022-05-19T15:52:41.175Z"
   },
   {
    "duration": 0,
    "start_time": "2022-05-19T15:52:41.177Z"
   },
   {
    "duration": 0,
    "start_time": "2022-05-19T15:52:41.178Z"
   },
   {
    "duration": 0,
    "start_time": "2022-05-19T15:52:41.179Z"
   },
   {
    "duration": 0,
    "start_time": "2022-05-19T15:52:41.180Z"
   },
   {
    "duration": 0,
    "start_time": "2022-05-19T15:52:41.181Z"
   },
   {
    "duration": 0,
    "start_time": "2022-05-19T15:52:41.185Z"
   },
   {
    "duration": 0,
    "start_time": "2022-05-19T15:52:41.186Z"
   },
   {
    "duration": 0,
    "start_time": "2022-05-19T15:52:41.187Z"
   },
   {
    "duration": 0,
    "start_time": "2022-05-19T15:52:41.189Z"
   },
   {
    "duration": 0,
    "start_time": "2022-05-19T15:52:41.190Z"
   },
   {
    "duration": 0,
    "start_time": "2022-05-19T15:52:41.191Z"
   },
   {
    "duration": 0,
    "start_time": "2022-05-19T15:52:41.192Z"
   },
   {
    "duration": 0,
    "start_time": "2022-05-19T15:52:41.193Z"
   },
   {
    "duration": 0,
    "start_time": "2022-05-19T15:52:41.194Z"
   },
   {
    "duration": 0,
    "start_time": "2022-05-19T15:52:41.196Z"
   },
   {
    "duration": 0,
    "start_time": "2022-05-19T15:52:41.197Z"
   },
   {
    "duration": 0,
    "start_time": "2022-05-19T15:52:41.198Z"
   },
   {
    "duration": 0,
    "start_time": "2022-05-19T15:52:41.201Z"
   },
   {
    "duration": 0,
    "start_time": "2022-05-19T15:52:41.202Z"
   },
   {
    "duration": 0,
    "start_time": "2022-05-19T15:52:41.204Z"
   },
   {
    "duration": 7,
    "start_time": "2022-05-19T15:52:41.209Z"
   },
   {
    "duration": 0,
    "start_time": "2022-05-19T15:52:41.217Z"
   },
   {
    "duration": 0,
    "start_time": "2022-05-19T15:52:41.220Z"
   },
   {
    "duration": 0,
    "start_time": "2022-05-19T15:52:41.221Z"
   },
   {
    "duration": 1,
    "start_time": "2022-05-19T15:52:41.222Z"
   },
   {
    "duration": 1,
    "start_time": "2022-05-19T15:52:41.224Z"
   },
   {
    "duration": 0,
    "start_time": "2022-05-19T15:52:41.276Z"
   },
   {
    "duration": 0,
    "start_time": "2022-05-19T15:52:41.281Z"
   },
   {
    "duration": 0,
    "start_time": "2022-05-19T15:52:41.282Z"
   },
   {
    "duration": 0,
    "start_time": "2022-05-19T15:52:41.283Z"
   },
   {
    "duration": 0,
    "start_time": "2022-05-19T15:52:41.285Z"
   },
   {
    "duration": 0,
    "start_time": "2022-05-19T15:52:41.286Z"
   },
   {
    "duration": 0,
    "start_time": "2022-05-19T15:52:41.287Z"
   },
   {
    "duration": 0,
    "start_time": "2022-05-19T15:52:41.288Z"
   },
   {
    "duration": 0,
    "start_time": "2022-05-19T15:52:41.289Z"
   },
   {
    "duration": 0,
    "start_time": "2022-05-19T15:52:41.291Z"
   },
   {
    "duration": 0,
    "start_time": "2022-05-19T15:52:41.292Z"
   },
   {
    "duration": 0,
    "start_time": "2022-05-19T15:52:41.293Z"
   },
   {
    "duration": 0,
    "start_time": "2022-05-19T15:52:41.295Z"
   },
   {
    "duration": 0,
    "start_time": "2022-05-19T15:52:41.296Z"
   },
   {
    "duration": 0,
    "start_time": "2022-05-19T15:52:41.297Z"
   },
   {
    "duration": 0,
    "start_time": "2022-05-19T15:52:41.298Z"
   },
   {
    "duration": 0,
    "start_time": "2022-05-19T15:52:41.300Z"
   },
   {
    "duration": 0,
    "start_time": "2022-05-19T15:52:41.301Z"
   },
   {
    "duration": 0,
    "start_time": "2022-05-19T15:52:41.302Z"
   },
   {
    "duration": 8,
    "start_time": "2022-05-19T15:52:41.305Z"
   },
   {
    "duration": 0,
    "start_time": "2022-05-19T15:52:41.315Z"
   },
   {
    "duration": 0,
    "start_time": "2022-05-19T15:52:41.316Z"
   },
   {
    "duration": 0,
    "start_time": "2022-05-19T15:52:41.317Z"
   },
   {
    "duration": 0,
    "start_time": "2022-05-19T15:52:41.318Z"
   },
   {
    "duration": 0,
    "start_time": "2022-05-19T15:52:41.319Z"
   },
   {
    "duration": 0,
    "start_time": "2022-05-19T15:52:41.320Z"
   },
   {
    "duration": 0,
    "start_time": "2022-05-19T15:52:41.322Z"
   },
   {
    "duration": 0,
    "start_time": "2022-05-19T15:52:41.375Z"
   },
   {
    "duration": 0,
    "start_time": "2022-05-19T15:52:41.376Z"
   },
   {
    "duration": 0,
    "start_time": "2022-05-19T15:52:41.377Z"
   },
   {
    "duration": 0,
    "start_time": "2022-05-19T15:52:41.378Z"
   },
   {
    "duration": 0,
    "start_time": "2022-05-19T15:52:41.379Z"
   },
   {
    "duration": 0,
    "start_time": "2022-05-19T15:52:41.381Z"
   },
   {
    "duration": 0,
    "start_time": "2022-05-19T15:52:41.382Z"
   },
   {
    "duration": 0,
    "start_time": "2022-05-19T15:52:41.383Z"
   },
   {
    "duration": 0,
    "start_time": "2022-05-19T15:52:41.384Z"
   },
   {
    "duration": 0,
    "start_time": "2022-05-19T15:52:41.387Z"
   },
   {
    "duration": 0,
    "start_time": "2022-05-19T15:52:41.388Z"
   },
   {
    "duration": 0,
    "start_time": "2022-05-19T15:52:41.389Z"
   },
   {
    "duration": 0,
    "start_time": "2022-05-19T15:52:41.390Z"
   },
   {
    "duration": 0,
    "start_time": "2022-05-19T15:52:41.390Z"
   },
   {
    "duration": 0,
    "start_time": "2022-05-19T15:52:41.391Z"
   },
   {
    "duration": 0,
    "start_time": "2022-05-19T15:52:41.392Z"
   },
   {
    "duration": 6,
    "start_time": "2022-05-19T15:52:41.395Z"
   },
   {
    "duration": 0,
    "start_time": "2022-05-19T15:52:41.402Z"
   },
   {
    "duration": 0,
    "start_time": "2022-05-19T15:52:41.403Z"
   },
   {
    "duration": 8,
    "start_time": "2022-05-19T15:52:51.257Z"
   },
   {
    "duration": 5160,
    "start_time": "2022-05-19T15:53:00.166Z"
   },
   {
    "duration": 1682,
    "start_time": "2022-05-19T15:53:05.329Z"
   },
   {
    "duration": 130,
    "start_time": "2022-05-19T15:53:07.013Z"
   },
   {
    "duration": 457,
    "start_time": "2022-05-19T15:53:14.308Z"
   },
   {
    "duration": 18,
    "start_time": "2022-05-19T15:53:15.220Z"
   },
   {
    "duration": 7,
    "start_time": "2022-05-19T15:53:15.846Z"
   },
   {
    "duration": 15,
    "start_time": "2022-05-19T15:53:16.129Z"
   },
   {
    "duration": 13,
    "start_time": "2022-05-19T15:53:16.648Z"
   },
   {
    "duration": 8,
    "start_time": "2022-05-19T15:53:16.745Z"
   },
   {
    "duration": 10,
    "start_time": "2022-05-19T15:53:16.800Z"
   },
   {
    "duration": 5,
    "start_time": "2022-05-19T15:53:16.856Z"
   },
   {
    "duration": 5,
    "start_time": "2022-05-19T15:53:16.907Z"
   },
   {
    "duration": 14,
    "start_time": "2022-05-19T15:53:16.960Z"
   },
   {
    "duration": 4,
    "start_time": "2022-05-19T15:53:17.018Z"
   },
   {
    "duration": 152,
    "start_time": "2022-05-19T15:53:17.073Z"
   },
   {
    "duration": 7,
    "start_time": "2022-05-19T15:53:17.227Z"
   },
   {
    "duration": 144,
    "start_time": "2022-05-19T15:53:17.236Z"
   },
   {
    "duration": 174,
    "start_time": "2022-05-19T15:53:17.382Z"
   },
   {
    "duration": 18,
    "start_time": "2022-05-19T15:53:17.559Z"
   },
   {
    "duration": 5,
    "start_time": "2022-05-19T15:53:17.786Z"
   },
   {
    "duration": 11,
    "start_time": "2022-05-19T15:53:18.335Z"
   },
   {
    "duration": 136,
    "start_time": "2022-05-19T15:53:19.036Z"
   },
   {
    "duration": 15,
    "start_time": "2022-05-19T15:53:21.977Z"
   },
   {
    "duration": 7,
    "start_time": "2022-05-19T15:53:22.438Z"
   },
   {
    "duration": 15,
    "start_time": "2022-05-19T15:53:23.135Z"
   },
   {
    "duration": 14,
    "start_time": "2022-05-19T15:53:24.192Z"
   },
   {
    "duration": 6,
    "start_time": "2022-05-19T15:53:24.657Z"
   },
   {
    "duration": 10,
    "start_time": "2022-05-19T15:53:25.001Z"
   },
   {
    "duration": 7,
    "start_time": "2022-05-19T15:53:25.366Z"
   },
   {
    "duration": 9,
    "start_time": "2022-05-19T15:53:25.693Z"
   },
   {
    "duration": 8,
    "start_time": "2022-05-19T15:53:26.151Z"
   },
   {
    "duration": 14,
    "start_time": "2022-05-19T15:53:29.498Z"
   },
   {
    "duration": 15,
    "start_time": "2022-05-19T15:53:30.480Z"
   },
   {
    "duration": 16,
    "start_time": "2022-05-19T15:53:31.398Z"
   },
   {
    "duration": 7,
    "start_time": "2022-05-19T15:53:31.818Z"
   },
   {
    "duration": 9,
    "start_time": "2022-05-19T15:53:32.518Z"
   },
   {
    "duration": 8,
    "start_time": "2022-05-19T15:53:33.039Z"
   },
   {
    "duration": 8,
    "start_time": "2022-05-19T15:53:33.524Z"
   },
   {
    "duration": 9,
    "start_time": "2022-05-19T15:53:33.998Z"
   },
   {
    "duration": 8,
    "start_time": "2022-05-19T15:53:34.528Z"
   },
   {
    "duration": 7,
    "start_time": "2022-05-19T15:53:34.929Z"
   },
   {
    "duration": 9,
    "start_time": "2022-05-19T15:53:35.309Z"
   },
   {
    "duration": 7,
    "start_time": "2022-05-19T15:53:37.342Z"
   },
   {
    "duration": 12,
    "start_time": "2022-05-19T15:53:37.661Z"
   },
   {
    "duration": 5,
    "start_time": "2022-05-19T15:53:38.124Z"
   },
   {
    "duration": 6,
    "start_time": "2022-05-19T15:53:38.730Z"
   },
   {
    "duration": 6,
    "start_time": "2022-05-19T15:53:39.417Z"
   },
   {
    "duration": 8,
    "start_time": "2022-05-19T15:53:40.262Z"
   },
   {
    "duration": 41,
    "start_time": "2022-05-19T15:56:18.597Z"
   },
   {
    "duration": 8,
    "start_time": "2022-05-19T15:56:20.843Z"
   },
   {
    "duration": 27,
    "start_time": "2022-05-19T15:56:21.194Z"
   },
   {
    "duration": 252,
    "start_time": "2022-05-19T15:56:37.276Z"
   },
   {
    "duration": 13,
    "start_time": "2022-05-19T15:56:37.674Z"
   },
   {
    "duration": 14,
    "start_time": "2022-05-19T15:57:15.572Z"
   },
   {
    "duration": 11,
    "start_time": "2022-05-19T15:57:18.420Z"
   },
   {
    "duration": 25,
    "start_time": "2022-05-19T15:57:18.924Z"
   },
   {
    "duration": 268,
    "start_time": "2022-05-19T15:57:20.289Z"
   },
   {
    "duration": 9,
    "start_time": "2022-05-19T15:57:20.598Z"
   },
   {
    "duration": 211,
    "start_time": "2022-05-19T15:57:21.009Z"
   },
   {
    "duration": 8,
    "start_time": "2022-05-19T15:57:21.746Z"
   },
   {
    "duration": 9,
    "start_time": "2022-05-19T15:57:23.543Z"
   },
   {
    "duration": 30,
    "start_time": "2022-05-19T15:57:24.470Z"
   },
   {
    "duration": 362,
    "start_time": "2022-05-19T15:57:24.863Z"
   },
   {
    "duration": 17,
    "start_time": "2022-05-19T15:57:25.465Z"
   },
   {
    "duration": 197,
    "start_time": "2022-05-19T15:57:25.801Z"
   },
   {
    "duration": 9,
    "start_time": "2022-05-19T15:57:26.038Z"
   },
   {
    "duration": 6,
    "start_time": "2022-05-19T15:57:28.904Z"
   },
   {
    "duration": 5,
    "start_time": "2022-05-19T15:57:30.383Z"
   },
   {
    "duration": 1374,
    "start_time": "2022-05-19T15:57:32.348Z"
   },
   {
    "duration": 11,
    "start_time": "2022-05-19T15:57:33.726Z"
   },
   {
    "duration": 215,
    "start_time": "2022-05-19T15:57:34.273Z"
   },
   {
    "duration": 12,
    "start_time": "2022-05-19T15:57:41.349Z"
   },
   {
    "duration": 13,
    "start_time": "2022-05-19T15:57:42.137Z"
   },
   {
    "duration": 13,
    "start_time": "2022-05-19T15:57:54.801Z"
   },
   {
    "duration": 495,
    "start_time": "2022-05-19T15:58:13.858Z"
   },
   {
    "duration": 247,
    "start_time": "2022-05-19T15:58:14.599Z"
   },
   {
    "duration": 9,
    "start_time": "2022-05-19T15:58:15.261Z"
   },
   {
    "duration": 10,
    "start_time": "2022-05-19T15:58:16.605Z"
   },
   {
    "duration": 13,
    "start_time": "2022-05-19T15:58:17.905Z"
   },
   {
    "duration": 9,
    "start_time": "2022-05-19T15:58:18.916Z"
   },
   {
    "duration": 10,
    "start_time": "2022-05-19T15:58:19.363Z"
   },
   {
    "duration": 9,
    "start_time": "2022-05-19T15:58:19.599Z"
   },
   {
    "duration": 310,
    "start_time": "2022-05-19T15:58:20.906Z"
   },
   {
    "duration": 55,
    "start_time": "2022-05-19T15:58:21.217Z"
   },
   {
    "duration": 4,
    "start_time": "2022-05-19T15:58:38.241Z"
   },
   {
    "duration": 20,
    "start_time": "2022-05-19T15:58:38.504Z"
   },
   {
    "duration": 24,
    "start_time": "2022-05-19T15:58:45.516Z"
   },
   {
    "duration": 38,
    "start_time": "2022-05-19T15:58:47.452Z"
   },
   {
    "duration": 10,
    "start_time": "2022-05-19T15:58:55.507Z"
   },
   {
    "duration": 16,
    "start_time": "2022-05-19T15:58:56.097Z"
   },
   {
    "duration": 894,
    "start_time": "2022-05-19T15:58:58.571Z"
   },
   {
    "duration": 25,
    "start_time": "2022-05-19T15:58:59.468Z"
   },
   {
    "duration": 5,
    "start_time": "2022-05-19T15:59:15.408Z"
   },
   {
    "duration": 16,
    "start_time": "2022-05-19T15:59:16.095Z"
   },
   {
    "duration": 26,
    "start_time": "2022-05-19T15:59:16.828Z"
   },
   {
    "duration": 25,
    "start_time": "2022-05-19T15:59:20.303Z"
   },
   {
    "duration": 6,
    "start_time": "2022-05-19T15:59:28.496Z"
   },
   {
    "duration": 34,
    "start_time": "2022-05-19T15:59:33.303Z"
   },
   {
    "duration": 4,
    "start_time": "2022-05-19T15:59:37.002Z"
   },
   {
    "duration": 62,
    "start_time": "2022-05-19T15:59:38.448Z"
   },
   {
    "duration": 17,
    "start_time": "2022-05-19T15:59:45.274Z"
   },
   {
    "duration": 4,
    "start_time": "2022-05-19T15:59:45.602Z"
   },
   {
    "duration": 7,
    "start_time": "2022-05-19T15:59:47.463Z"
   },
   {
    "duration": 12,
    "start_time": "2022-05-19T15:59:49.597Z"
   },
   {
    "duration": 17,
    "start_time": "2022-05-19T15:59:51.766Z"
   },
   {
    "duration": 38,
    "start_time": "2022-05-19T15:59:52.334Z"
   },
   {
    "duration": 8,
    "start_time": "2022-05-19T15:59:52.871Z"
   },
   {
    "duration": 22,
    "start_time": "2022-05-19T15:59:53.429Z"
   },
   {
    "duration": 108,
    "start_time": "2022-05-19T16:01:02.812Z"
   },
   {
    "duration": 31,
    "start_time": "2022-05-19T16:01:03.363Z"
   },
   {
    "duration": 3,
    "start_time": "2022-05-19T16:01:29.896Z"
   },
   {
    "duration": 14051,
    "start_time": "2022-05-19T16:01:30.924Z"
   },
   {
    "duration": 2329,
    "start_time": "2022-05-19T16:01:44.987Z"
   },
   {
    "duration": 94,
    "start_time": "2022-05-19T16:01:47.386Z"
   },
   {
    "duration": 8,
    "start_time": "2022-05-19T16:01:57.694Z"
   },
   {
    "duration": 7,
    "start_time": "2022-05-19T16:02:03.719Z"
   },
   {
    "duration": 514,
    "start_time": "2022-05-19T16:02:04.576Z"
   },
   {
    "duration": 5,
    "start_time": "2022-05-19T16:02:09.626Z"
   },
   {
    "duration": 147,
    "start_time": "2022-05-19T16:02:10.024Z"
   },
   {
    "duration": 16,
    "start_time": "2022-05-19T16:02:13.034Z"
   },
   {
    "duration": 49,
    "start_time": "2022-05-19T16:02:35.235Z"
   },
   {
    "duration": 4,
    "start_time": "2022-05-19T16:02:38.943Z"
   },
   {
    "duration": 3,
    "start_time": "2022-05-19T16:02:39.539Z"
   },
   {
    "duration": 3,
    "start_time": "2022-05-19T16:02:40.207Z"
   },
   {
    "duration": 23980,
    "start_time": "2022-05-19T16:02:40.956Z"
   },
   {
    "duration": 24,
    "start_time": "2022-05-19T16:03:04.938Z"
   },
   {
    "duration": 7,
    "start_time": "2022-05-19T16:03:04.964Z"
   },
   {
    "duration": 546,
    "start_time": "2022-05-19T16:03:04.973Z"
   },
   {
    "duration": 178,
    "start_time": "2022-05-19T16:03:05.521Z"
   },
   {
    "duration": 14,
    "start_time": "2022-05-19T16:03:05.701Z"
   },
   {
    "duration": 21,
    "start_time": "2022-05-19T16:03:05.717Z"
   },
   {
    "duration": 21,
    "start_time": "2022-05-19T16:03:11.097Z"
   },
   {
    "duration": 275187,
    "start_time": "2022-05-19T16:03:21.797Z"
   },
   {
    "duration": 116,
    "start_time": "2022-05-19T16:07:56.986Z"
   },
   {
    "duration": 198,
    "start_time": "2022-05-19T16:07:57.104Z"
   },
   {
    "duration": 81,
    "start_time": "2022-05-19T16:07:57.305Z"
   },
   {
    "duration": 596,
    "start_time": "2022-05-19T16:07:57.391Z"
   },
   {
    "duration": 260,
    "start_time": "2022-05-19T16:07:57.989Z"
   },
   {
    "duration": 48,
    "start_time": "2022-05-19T16:07:58.251Z"
   },
   {
    "duration": 13,
    "start_time": "2022-05-19T16:08:42.852Z"
   },
   {
    "duration": 5,
    "start_time": "2022-05-19T16:08:43.296Z"
   },
   {
    "duration": 6,
    "start_time": "2022-05-19T16:08:44.850Z"
   },
   {
    "duration": 3,
    "start_time": "2022-05-19T16:08:45.370Z"
   },
   {
    "duration": 5,
    "start_time": "2022-05-19T16:08:46.233Z"
   },
   {
    "duration": 15983,
    "start_time": "2022-05-19T16:08:46.854Z"
   },
   {
    "duration": 28,
    "start_time": "2022-05-19T16:09:06.965Z"
   },
   {
    "duration": 6,
    "start_time": "2022-05-19T16:09:09.217Z"
   },
   {
    "duration": 530,
    "start_time": "2022-05-19T16:09:09.541Z"
   },
   {
    "duration": 6,
    "start_time": "2022-05-19T16:10:07.638Z"
   },
   {
    "duration": 8,
    "start_time": "2022-05-19T16:10:07.985Z"
   },
   {
    "duration": 5,
    "start_time": "2022-05-19T16:10:08.352Z"
   },
   {
    "duration": 4,
    "start_time": "2022-05-19T16:10:08.656Z"
   },
   {
    "duration": 6,
    "start_time": "2022-05-19T16:10:09.190Z"
   },
   {
    "duration": 79,
    "start_time": "2022-05-19T16:10:10.438Z"
   },
   {
    "duration": 10,
    "start_time": "2022-05-25T19:59:09.062Z"
   }
  ],
  "kernelspec": {
   "display_name": "Python 3 (ipykernel)",
   "language": "python",
   "name": "python3"
  },
  "language_info": {
   "codemirror_mode": {
    "name": "ipython",
    "version": 3
   },
   "file_extension": ".py",
   "mimetype": "text/x-python",
   "name": "python",
   "nbconvert_exporter": "python",
   "pygments_lexer": "ipython3",
   "version": "3.9.7"
  },
  "toc": {
   "base_numbering": 1,
   "nav_menu": {},
   "number_sections": true,
   "sideBar": true,
   "skip_h1_title": true,
   "title_cell": "Table of Contents",
   "title_sidebar": "Contents",
   "toc_cell": false,
   "toc_position": {},
   "toc_section_display": true,
   "toc_window_display": false
  }
 },
 "nbformat": 4,
 "nbformat_minor": 1
}