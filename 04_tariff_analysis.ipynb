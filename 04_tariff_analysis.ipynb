{
 "cells": [
  {
   "cell_type": "markdown",
   "metadata": {},
   "source": [
    "## Определение перспективного тарифа для телеком-компании"
   ]
  },
  {
   "cell_type": "markdown",
   "metadata": {},
   "source": [
    "### Таблица users (информация о пользователях):\n",
    "- user_id — уникальный идентификатор пользователя\n",
    "- first_name — имя пользователя\n",
    "- last_name — фамилия пользователя\n",
    "- age — возраст пользователя (годы)\n",
    "- reg_date — дата подключения тарифа (день, месяц, год)\n",
    "- churn_date — дата прекращения пользования тарифом (если значение пропущено, то тариф ещё действовал на момент выгрузки данных)\n",
    "- city — город проживания пользователя\n",
    "- tarif — название тарифного плана\n",
    "### Таблица calls (информация о звонках):\n",
    "- id — уникальный номер звонка\n",
    "- call_date — дата звонка\n",
    "- duration — длительность звонка в минутах\n",
    "- user_id — идентификатор пользователя, сделавшего звонок\n",
    "### Таблица messages (информация о сообщениях):\n",
    "- id — уникальный номер сообщения\n",
    "- message_date — дата сообщения\n",
    "- user_id — идентификатор пользователя, отправившего сообщение\n",
    "### Таблица internet (информация об интернет-сессиях):\n",
    "- id — уникальный номер сессии\n",
    "- mb_used — объём потраченного за сессию интернет-трафика (в мегабайтах)\n",
    "- session_date — дата интернет-сессии\n",
    "- user_id — идентификатор пользователя\n",
    "### Таблица tariffs (информация о тарифах):\n",
    "- tariff_name — название тарифа\n",
    "- rub_monthly_fee — ежемесячная абонентская плата в рублях\n",
    "- minutes_included — количество минут разговора в месяц, включённых в абонентскую плату\n",
    "- messages_included — количество сообщений в месяц, включённых в абонентскую плату\n",
    "- mb_per_month_included — объём интернет-трафика, включённого в абонентскую плату (в мегабайтах)\n",
    "- rub_per_minute — стоимость минуты разговора сверх тарифного пакета (например, если в тарифе 100 минут разговора в месяц, то со 101 минуты будет взиматься плата)\n",
    "- rub_per_message — стоимость отправки сообщения сверх тарифного пакета\n",
    "- rub_per_gb — стоимость дополнительного гигабайта интернет-трафика сверх тарифного пакета (1 гигабайт = 1024 мегабайта)"
   ]
  },
  {
   "cell_type": "code",
   "execution_count": 422,
   "metadata": {},
   "outputs": [],
   "source": [
    "import numpy as np\n",
    "import pandas as pd\n",
    "import matplotlib.pyplot as plt\n",
    "import seaborn as sns\n",
    "import time\n",
    "import math\n",
    "\n",
    "from scipy import stats as st\n",
    "\n",
    "%matplotlib inline"
   ]
  },
  {
   "cell_type": "markdown",
   "metadata": {},
   "source": [
    "## Изучение данных из файлов"
   ]
  },
  {
   "cell_type": "markdown",
   "metadata": {},
   "source": [
    "### users"
   ]
  },
  {
   "cell_type": "code",
   "execution_count": 423,
   "metadata": {},
   "outputs": [
    {
     "data": {
      "text/html": [
       "<div>\n",
       "<style scoped>\n",
       "    .dataframe tbody tr th:only-of-type {\n",
       "        vertical-align: middle;\n",
       "    }\n",
       "\n",
       "    .dataframe tbody tr th {\n",
       "        vertical-align: top;\n",
       "    }\n",
       "\n",
       "    .dataframe thead th {\n",
       "        text-align: right;\n",
       "    }\n",
       "</style>\n",
       "<table border=\"1\" class=\"dataframe\">\n",
       "  <thead>\n",
       "    <tr style=\"text-align: right;\">\n",
       "      <th></th>\n",
       "      <th>user_id</th>\n",
       "      <th>age</th>\n",
       "      <th>churn_date</th>\n",
       "      <th>city</th>\n",
       "      <th>first_name</th>\n",
       "      <th>last_name</th>\n",
       "      <th>reg_date</th>\n",
       "      <th>tariff</th>\n",
       "    </tr>\n",
       "  </thead>\n",
       "  <tbody>\n",
       "    <tr>\n",
       "      <td>0</td>\n",
       "      <td>1000</td>\n",
       "      <td>52</td>\n",
       "      <td>NaN</td>\n",
       "      <td>Краснодар</td>\n",
       "      <td>Рафаил</td>\n",
       "      <td>Верещагин</td>\n",
       "      <td>2018-05-25</td>\n",
       "      <td>ultra</td>\n",
       "    </tr>\n",
       "    <tr>\n",
       "      <td>1</td>\n",
       "      <td>1001</td>\n",
       "      <td>41</td>\n",
       "      <td>NaN</td>\n",
       "      <td>Москва</td>\n",
       "      <td>Иван</td>\n",
       "      <td>Ежов</td>\n",
       "      <td>2018-11-01</td>\n",
       "      <td>smart</td>\n",
       "    </tr>\n",
       "    <tr>\n",
       "      <td>2</td>\n",
       "      <td>1002</td>\n",
       "      <td>59</td>\n",
       "      <td>NaN</td>\n",
       "      <td>Стерлитамак</td>\n",
       "      <td>Евгений</td>\n",
       "      <td>Абрамович</td>\n",
       "      <td>2018-06-17</td>\n",
       "      <td>smart</td>\n",
       "    </tr>\n",
       "    <tr>\n",
       "      <td>3</td>\n",
       "      <td>1003</td>\n",
       "      <td>23</td>\n",
       "      <td>NaN</td>\n",
       "      <td>Москва</td>\n",
       "      <td>Белла</td>\n",
       "      <td>Белякова</td>\n",
       "      <td>2018-08-17</td>\n",
       "      <td>ultra</td>\n",
       "    </tr>\n",
       "    <tr>\n",
       "      <td>4</td>\n",
       "      <td>1004</td>\n",
       "      <td>68</td>\n",
       "      <td>NaN</td>\n",
       "      <td>Новокузнецк</td>\n",
       "      <td>Татьяна</td>\n",
       "      <td>Авдеенко</td>\n",
       "      <td>2018-05-14</td>\n",
       "      <td>ultra</td>\n",
       "    </tr>\n",
       "  </tbody>\n",
       "</table>\n",
       "</div>"
      ],
      "text/plain": [
       "   user_id  age churn_date         city first_name  last_name    reg_date  \\\n",
       "0     1000   52        NaN    Краснодар     Рафаил  Верещагин  2018-05-25   \n",
       "1     1001   41        NaN       Москва       Иван       Ежов  2018-11-01   \n",
       "2     1002   59        NaN  Стерлитамак    Евгений  Абрамович  2018-06-17   \n",
       "3     1003   23        NaN       Москва      Белла   Белякова  2018-08-17   \n",
       "4     1004   68        NaN  Новокузнецк    Татьяна   Авдеенко  2018-05-14   \n",
       "\n",
       "  tariff  \n",
       "0  ultra  \n",
       "1  smart  \n",
       "2  smart  \n",
       "3  ultra  \n",
       "4  ultra  "
      ]
     },
     "execution_count": 423,
     "metadata": {},
     "output_type": "execute_result"
    }
   ],
   "source": [
    "df_users = pd.read_csv('/datasets/users.csv')\n",
    "df_users.head()"
   ]
  },
  {
   "cell_type": "code",
   "execution_count": 424,
   "metadata": {
    "scrolled": true
   },
   "outputs": [
    {
     "name": "stdout",
     "output_type": "stream",
     "text": [
      "<class 'pandas.core.frame.DataFrame'>\n",
      "RangeIndex: 500 entries, 0 to 499\n",
      "Data columns (total 8 columns):\n",
      "user_id       500 non-null int64\n",
      "age           500 non-null int64\n",
      "churn_date    38 non-null object\n",
      "city          500 non-null object\n",
      "first_name    500 non-null object\n",
      "last_name     500 non-null object\n",
      "reg_date      500 non-null object\n",
      "tariff        500 non-null object\n",
      "dtypes: int64(2), object(6)\n",
      "memory usage: 31.4+ KB\n"
     ]
    }
   ],
   "source": [
    "df_users.info()"
   ]
  },
  {
   "cell_type": "code",
   "execution_count": 425,
   "metadata": {
    "scrolled": true
   },
   "outputs": [
    {
     "data": {
      "text/html": [
       "<div>\n",
       "<style scoped>\n",
       "    .dataframe tbody tr th:only-of-type {\n",
       "        vertical-align: middle;\n",
       "    }\n",
       "\n",
       "    .dataframe tbody tr th {\n",
       "        vertical-align: top;\n",
       "    }\n",
       "\n",
       "    .dataframe thead th {\n",
       "        text-align: right;\n",
       "    }\n",
       "</style>\n",
       "<table border=\"1\" class=\"dataframe\">\n",
       "  <thead>\n",
       "    <tr style=\"text-align: right;\">\n",
       "      <th></th>\n",
       "      <th>count</th>\n",
       "      <th>mean</th>\n",
       "      <th>std</th>\n",
       "      <th>min</th>\n",
       "      <th>25%</th>\n",
       "      <th>50%</th>\n",
       "      <th>75%</th>\n",
       "      <th>max</th>\n",
       "    </tr>\n",
       "  </thead>\n",
       "  <tbody>\n",
       "    <tr>\n",
       "      <td>user_id</td>\n",
       "      <td>500.0</td>\n",
       "      <td>1249.500</td>\n",
       "      <td>144.481833</td>\n",
       "      <td>1000.0</td>\n",
       "      <td>1124.75</td>\n",
       "      <td>1249.5</td>\n",
       "      <td>1374.25</td>\n",
       "      <td>1499.0</td>\n",
       "    </tr>\n",
       "    <tr>\n",
       "      <td>age</td>\n",
       "      <td>500.0</td>\n",
       "      <td>46.588</td>\n",
       "      <td>16.667630</td>\n",
       "      <td>18.0</td>\n",
       "      <td>32.00</td>\n",
       "      <td>46.0</td>\n",
       "      <td>62.00</td>\n",
       "      <td>75.0</td>\n",
       "    </tr>\n",
       "  </tbody>\n",
       "</table>\n",
       "</div>"
      ],
      "text/plain": [
       "         count      mean         std     min      25%     50%      75%     max\n",
       "user_id  500.0  1249.500  144.481833  1000.0  1124.75  1249.5  1374.25  1499.0\n",
       "age      500.0    46.588   16.667630    18.0    32.00    46.0    62.00    75.0"
      ]
     },
     "execution_count": 425,
     "metadata": {},
     "output_type": "execute_result"
    }
   ],
   "source": [
    "df_users.describe().T"
   ]
  },
  {
   "cell_type": "markdown",
   "metadata": {},
   "source": [
    "df_users - нет пропущенных значений(churn_date - по описанию, если пропущено, то тариф еще действовал). По датасету у нас 500 записей"
   ]
  },
  {
   "cell_type": "markdown",
   "metadata": {},
   "source": [
    "### calls"
   ]
  },
  {
   "cell_type": "code",
   "execution_count": 426,
   "metadata": {
    "scrolled": false
   },
   "outputs": [
    {
     "data": {
      "text/html": [
       "<div>\n",
       "<style scoped>\n",
       "    .dataframe tbody tr th:only-of-type {\n",
       "        vertical-align: middle;\n",
       "    }\n",
       "\n",
       "    .dataframe tbody tr th {\n",
       "        vertical-align: top;\n",
       "    }\n",
       "\n",
       "    .dataframe thead th {\n",
       "        text-align: right;\n",
       "    }\n",
       "</style>\n",
       "<table border=\"1\" class=\"dataframe\">\n",
       "  <thead>\n",
       "    <tr style=\"text-align: right;\">\n",
       "      <th></th>\n",
       "      <th>id</th>\n",
       "      <th>call_date</th>\n",
       "      <th>duration</th>\n",
       "      <th>user_id</th>\n",
       "    </tr>\n",
       "  </thead>\n",
       "  <tbody>\n",
       "    <tr>\n",
       "      <td>0</td>\n",
       "      <td>1000_0</td>\n",
       "      <td>2018-07-25</td>\n",
       "      <td>0.00</td>\n",
       "      <td>1000</td>\n",
       "    </tr>\n",
       "    <tr>\n",
       "      <td>1</td>\n",
       "      <td>1000_1</td>\n",
       "      <td>2018-08-17</td>\n",
       "      <td>0.00</td>\n",
       "      <td>1000</td>\n",
       "    </tr>\n",
       "    <tr>\n",
       "      <td>2</td>\n",
       "      <td>1000_2</td>\n",
       "      <td>2018-06-11</td>\n",
       "      <td>2.85</td>\n",
       "      <td>1000</td>\n",
       "    </tr>\n",
       "    <tr>\n",
       "      <td>3</td>\n",
       "      <td>1000_3</td>\n",
       "      <td>2018-09-21</td>\n",
       "      <td>13.80</td>\n",
       "      <td>1000</td>\n",
       "    </tr>\n",
       "    <tr>\n",
       "      <td>4</td>\n",
       "      <td>1000_4</td>\n",
       "      <td>2018-12-15</td>\n",
       "      <td>5.18</td>\n",
       "      <td>1000</td>\n",
       "    </tr>\n",
       "  </tbody>\n",
       "</table>\n",
       "</div>"
      ],
      "text/plain": [
       "       id   call_date  duration  user_id\n",
       "0  1000_0  2018-07-25      0.00     1000\n",
       "1  1000_1  2018-08-17      0.00     1000\n",
       "2  1000_2  2018-06-11      2.85     1000\n",
       "3  1000_3  2018-09-21     13.80     1000\n",
       "4  1000_4  2018-12-15      5.18     1000"
      ]
     },
     "execution_count": 426,
     "metadata": {},
     "output_type": "execute_result"
    }
   ],
   "source": [
    "df_calls = pd.read_csv('/datasets/calls.csv')\n",
    "df_calls.head()"
   ]
  },
  {
   "cell_type": "code",
   "execution_count": 427,
   "metadata": {
    "scrolled": true
   },
   "outputs": [
    {
     "name": "stdout",
     "output_type": "stream",
     "text": [
      "<class 'pandas.core.frame.DataFrame'>\n",
      "RangeIndex: 202607 entries, 0 to 202606\n",
      "Data columns (total 4 columns):\n",
      "id           202607 non-null object\n",
      "call_date    202607 non-null object\n",
      "duration     202607 non-null float64\n",
      "user_id      202607 non-null int64\n",
      "dtypes: float64(1), int64(1), object(2)\n",
      "memory usage: 6.2+ MB\n"
     ]
    }
   ],
   "source": [
    "df_calls.info()"
   ]
  },
  {
   "cell_type": "code",
   "execution_count": 428,
   "metadata": {
    "scrolled": true
   },
   "outputs": [
    {
     "data": {
      "text/html": [
       "<div>\n",
       "<style scoped>\n",
       "    .dataframe tbody tr th:only-of-type {\n",
       "        vertical-align: middle;\n",
       "    }\n",
       "\n",
       "    .dataframe tbody tr th {\n",
       "        vertical-align: top;\n",
       "    }\n",
       "\n",
       "    .dataframe thead th {\n",
       "        text-align: right;\n",
       "    }\n",
       "</style>\n",
       "<table border=\"1\" class=\"dataframe\">\n",
       "  <thead>\n",
       "    <tr style=\"text-align: right;\">\n",
       "      <th></th>\n",
       "      <th>count</th>\n",
       "      <th>mean</th>\n",
       "      <th>std</th>\n",
       "      <th>min</th>\n",
       "      <th>25%</th>\n",
       "      <th>50%</th>\n",
       "      <th>75%</th>\n",
       "      <th>max</th>\n",
       "    </tr>\n",
       "  </thead>\n",
       "  <tbody>\n",
       "    <tr>\n",
       "      <td>duration</td>\n",
       "      <td>202607.0</td>\n",
       "      <td>6.755887</td>\n",
       "      <td>5.843365</td>\n",
       "      <td>0.0</td>\n",
       "      <td>1.3</td>\n",
       "      <td>6.0</td>\n",
       "      <td>10.7</td>\n",
       "      <td>38.0</td>\n",
       "    </tr>\n",
       "    <tr>\n",
       "      <td>user_id</td>\n",
       "      <td>202607.0</td>\n",
       "      <td>1253.940619</td>\n",
       "      <td>144.722751</td>\n",
       "      <td>1000.0</td>\n",
       "      <td>1126.0</td>\n",
       "      <td>1260.0</td>\n",
       "      <td>1379.0</td>\n",
       "      <td>1499.0</td>\n",
       "    </tr>\n",
       "  </tbody>\n",
       "</table>\n",
       "</div>"
      ],
      "text/plain": [
       "             count         mean         std     min     25%     50%     75%  \\\n",
       "duration  202607.0     6.755887    5.843365     0.0     1.3     6.0    10.7   \n",
       "user_id   202607.0  1253.940619  144.722751  1000.0  1126.0  1260.0  1379.0   \n",
       "\n",
       "             max  \n",
       "duration    38.0  \n",
       "user_id   1499.0  "
      ]
     },
     "execution_count": 428,
     "metadata": {},
     "output_type": "execute_result"
    }
   ],
   "source": [
    "df_calls.describe().T"
   ]
  },
  {
   "cell_type": "markdown",
   "metadata": {},
   "source": [
    "df_calls - 202607 записей, пропусков нет"
   ]
  },
  {
   "cell_type": "markdown",
   "metadata": {},
   "source": [
    "### messages"
   ]
  },
  {
   "cell_type": "code",
   "execution_count": 429,
   "metadata": {
    "scrolled": true
   },
   "outputs": [
    {
     "data": {
      "text/html": [
       "<div>\n",
       "<style scoped>\n",
       "    .dataframe tbody tr th:only-of-type {\n",
       "        vertical-align: middle;\n",
       "    }\n",
       "\n",
       "    .dataframe tbody tr th {\n",
       "        vertical-align: top;\n",
       "    }\n",
       "\n",
       "    .dataframe thead th {\n",
       "        text-align: right;\n",
       "    }\n",
       "</style>\n",
       "<table border=\"1\" class=\"dataframe\">\n",
       "  <thead>\n",
       "    <tr style=\"text-align: right;\">\n",
       "      <th></th>\n",
       "      <th>id</th>\n",
       "      <th>message_date</th>\n",
       "      <th>user_id</th>\n",
       "    </tr>\n",
       "  </thead>\n",
       "  <tbody>\n",
       "    <tr>\n",
       "      <td>0</td>\n",
       "      <td>1000_0</td>\n",
       "      <td>2018-06-27</td>\n",
       "      <td>1000</td>\n",
       "    </tr>\n",
       "    <tr>\n",
       "      <td>1</td>\n",
       "      <td>1000_1</td>\n",
       "      <td>2018-10-08</td>\n",
       "      <td>1000</td>\n",
       "    </tr>\n",
       "    <tr>\n",
       "      <td>2</td>\n",
       "      <td>1000_2</td>\n",
       "      <td>2018-08-04</td>\n",
       "      <td>1000</td>\n",
       "    </tr>\n",
       "    <tr>\n",
       "      <td>3</td>\n",
       "      <td>1000_3</td>\n",
       "      <td>2018-06-16</td>\n",
       "      <td>1000</td>\n",
       "    </tr>\n",
       "    <tr>\n",
       "      <td>4</td>\n",
       "      <td>1000_4</td>\n",
       "      <td>2018-12-05</td>\n",
       "      <td>1000</td>\n",
       "    </tr>\n",
       "  </tbody>\n",
       "</table>\n",
       "</div>"
      ],
      "text/plain": [
       "       id message_date  user_id\n",
       "0  1000_0   2018-06-27     1000\n",
       "1  1000_1   2018-10-08     1000\n",
       "2  1000_2   2018-08-04     1000\n",
       "3  1000_3   2018-06-16     1000\n",
       "4  1000_4   2018-12-05     1000"
      ]
     },
     "execution_count": 429,
     "metadata": {},
     "output_type": "execute_result"
    }
   ],
   "source": [
    "df_messages = pd.read_csv('/datasets/messages.csv')\n",
    "df_messages.head()"
   ]
  },
  {
   "cell_type": "code",
   "execution_count": 430,
   "metadata": {
    "scrolled": true
   },
   "outputs": [
    {
     "name": "stdout",
     "output_type": "stream",
     "text": [
      "<class 'pandas.core.frame.DataFrame'>\n",
      "RangeIndex: 123036 entries, 0 to 123035\n",
      "Data columns (total 3 columns):\n",
      "id              123036 non-null object\n",
      "message_date    123036 non-null object\n",
      "user_id         123036 non-null int64\n",
      "dtypes: int64(1), object(2)\n",
      "memory usage: 2.8+ MB\n"
     ]
    }
   ],
   "source": [
    "df_messages.info()"
   ]
  },
  {
   "cell_type": "markdown",
   "metadata": {},
   "source": [
    "df_messages - 123036 записей, пропусков нет"
   ]
  },
  {
   "cell_type": "markdown",
   "metadata": {},
   "source": [
    "### internet"
   ]
  },
  {
   "cell_type": "code",
   "execution_count": 431,
   "metadata": {
    "scrolled": true
   },
   "outputs": [
    {
     "data": {
      "text/html": [
       "<div>\n",
       "<style scoped>\n",
       "    .dataframe tbody tr th:only-of-type {\n",
       "        vertical-align: middle;\n",
       "    }\n",
       "\n",
       "    .dataframe tbody tr th {\n",
       "        vertical-align: top;\n",
       "    }\n",
       "\n",
       "    .dataframe thead th {\n",
       "        text-align: right;\n",
       "    }\n",
       "</style>\n",
       "<table border=\"1\" class=\"dataframe\">\n",
       "  <thead>\n",
       "    <tr style=\"text-align: right;\">\n",
       "      <th></th>\n",
       "      <th>Unnamed: 0</th>\n",
       "      <th>id</th>\n",
       "      <th>mb_used</th>\n",
       "      <th>session_date</th>\n",
       "      <th>user_id</th>\n",
       "    </tr>\n",
       "  </thead>\n",
       "  <tbody>\n",
       "    <tr>\n",
       "      <td>0</td>\n",
       "      <td>0</td>\n",
       "      <td>1000_0</td>\n",
       "      <td>112.95</td>\n",
       "      <td>2018-11-25</td>\n",
       "      <td>1000</td>\n",
       "    </tr>\n",
       "    <tr>\n",
       "      <td>1</td>\n",
       "      <td>1</td>\n",
       "      <td>1000_1</td>\n",
       "      <td>1052.81</td>\n",
       "      <td>2018-09-07</td>\n",
       "      <td>1000</td>\n",
       "    </tr>\n",
       "    <tr>\n",
       "      <td>2</td>\n",
       "      <td>2</td>\n",
       "      <td>1000_2</td>\n",
       "      <td>1197.26</td>\n",
       "      <td>2018-06-25</td>\n",
       "      <td>1000</td>\n",
       "    </tr>\n",
       "    <tr>\n",
       "      <td>3</td>\n",
       "      <td>3</td>\n",
       "      <td>1000_3</td>\n",
       "      <td>550.27</td>\n",
       "      <td>2018-08-22</td>\n",
       "      <td>1000</td>\n",
       "    </tr>\n",
       "    <tr>\n",
       "      <td>4</td>\n",
       "      <td>4</td>\n",
       "      <td>1000_4</td>\n",
       "      <td>302.56</td>\n",
       "      <td>2018-09-24</td>\n",
       "      <td>1000</td>\n",
       "    </tr>\n",
       "  </tbody>\n",
       "</table>\n",
       "</div>"
      ],
      "text/plain": [
       "   Unnamed: 0      id  mb_used session_date  user_id\n",
       "0           0  1000_0   112.95   2018-11-25     1000\n",
       "1           1  1000_1  1052.81   2018-09-07     1000\n",
       "2           2  1000_2  1197.26   2018-06-25     1000\n",
       "3           3  1000_3   550.27   2018-08-22     1000\n",
       "4           4  1000_4   302.56   2018-09-24     1000"
      ]
     },
     "execution_count": 431,
     "metadata": {},
     "output_type": "execute_result"
    }
   ],
   "source": [
    "df_internet = pd.read_csv('/datasets/internet.csv')\n",
    "df_internet.head()"
   ]
  },
  {
   "cell_type": "code",
   "execution_count": 432,
   "metadata": {
    "scrolled": false
   },
   "outputs": [
    {
     "name": "stdout",
     "output_type": "stream",
     "text": [
      "<class 'pandas.core.frame.DataFrame'>\n",
      "RangeIndex: 149396 entries, 0 to 149395\n",
      "Data columns (total 5 columns):\n",
      "Unnamed: 0      149396 non-null int64\n",
      "id              149396 non-null object\n",
      "mb_used         149396 non-null float64\n",
      "session_date    149396 non-null object\n",
      "user_id         149396 non-null int64\n",
      "dtypes: float64(1), int64(2), object(2)\n",
      "memory usage: 5.7+ MB\n"
     ]
    }
   ],
   "source": [
    "df_internet.info()"
   ]
  },
  {
   "cell_type": "code",
   "execution_count": 433,
   "metadata": {},
   "outputs": [
    {
     "data": {
      "text/html": [
       "<div>\n",
       "<style scoped>\n",
       "    .dataframe tbody tr th:only-of-type {\n",
       "        vertical-align: middle;\n",
       "    }\n",
       "\n",
       "    .dataframe tbody tr th {\n",
       "        vertical-align: top;\n",
       "    }\n",
       "\n",
       "    .dataframe thead th {\n",
       "        text-align: right;\n",
       "    }\n",
       "</style>\n",
       "<table border=\"1\" class=\"dataframe\">\n",
       "  <thead>\n",
       "    <tr style=\"text-align: right;\">\n",
       "      <th></th>\n",
       "      <th>count</th>\n",
       "      <th>mean</th>\n",
       "      <th>std</th>\n",
       "      <th>min</th>\n",
       "      <th>25%</th>\n",
       "      <th>50%</th>\n",
       "      <th>75%</th>\n",
       "      <th>max</th>\n",
       "    </tr>\n",
       "  </thead>\n",
       "  <tbody>\n",
       "    <tr>\n",
       "      <td>Unnamed: 0</td>\n",
       "      <td>149396.0</td>\n",
       "      <td>74697.500000</td>\n",
       "      <td>43127.054745</td>\n",
       "      <td>0.0</td>\n",
       "      <td>37348.7500</td>\n",
       "      <td>74697.500</td>\n",
       "      <td>112046.2500</td>\n",
       "      <td>149395.00</td>\n",
       "    </tr>\n",
       "    <tr>\n",
       "      <td>mb_used</td>\n",
       "      <td>149396.0</td>\n",
       "      <td>370.192426</td>\n",
       "      <td>278.300951</td>\n",
       "      <td>0.0</td>\n",
       "      <td>138.1875</td>\n",
       "      <td>348.015</td>\n",
       "      <td>559.5525</td>\n",
       "      <td>1724.83</td>\n",
       "    </tr>\n",
       "    <tr>\n",
       "      <td>user_id</td>\n",
       "      <td>149396.0</td>\n",
       "      <td>1252.099842</td>\n",
       "      <td>144.050823</td>\n",
       "      <td>1000.0</td>\n",
       "      <td>1130.0000</td>\n",
       "      <td>1251.000</td>\n",
       "      <td>1380.0000</td>\n",
       "      <td>1499.00</td>\n",
       "    </tr>\n",
       "  </tbody>\n",
       "</table>\n",
       "</div>"
      ],
      "text/plain": [
       "               count          mean           std     min         25%  \\\n",
       "Unnamed: 0  149396.0  74697.500000  43127.054745     0.0  37348.7500   \n",
       "mb_used     149396.0    370.192426    278.300951     0.0    138.1875   \n",
       "user_id     149396.0   1252.099842    144.050823  1000.0   1130.0000   \n",
       "\n",
       "                  50%          75%        max  \n",
       "Unnamed: 0  74697.500  112046.2500  149395.00  \n",
       "mb_used       348.015     559.5525    1724.83  \n",
       "user_id      1251.000    1380.0000    1499.00  "
      ]
     },
     "execution_count": 433,
     "metadata": {},
     "output_type": "execute_result"
    }
   ],
   "source": [
    "df_internet.describe().T"
   ]
  },
  {
   "cell_type": "markdown",
   "metadata": {},
   "source": [
    "df_internet - 149396 записей без пропусков, есть столбец на удаление"
   ]
  },
  {
   "cell_type": "markdown",
   "metadata": {},
   "source": [
    "### tariffs"
   ]
  },
  {
   "cell_type": "code",
   "execution_count": 434,
   "metadata": {},
   "outputs": [
    {
     "data": {
      "text/html": [
       "<div>\n",
       "<style scoped>\n",
       "    .dataframe tbody tr th:only-of-type {\n",
       "        vertical-align: middle;\n",
       "    }\n",
       "\n",
       "    .dataframe tbody tr th {\n",
       "        vertical-align: top;\n",
       "    }\n",
       "\n",
       "    .dataframe thead th {\n",
       "        text-align: right;\n",
       "    }\n",
       "</style>\n",
       "<table border=\"1\" class=\"dataframe\">\n",
       "  <thead>\n",
       "    <tr style=\"text-align: right;\">\n",
       "      <th></th>\n",
       "      <th>messages_included</th>\n",
       "      <th>mb_per_month_included</th>\n",
       "      <th>minutes_included</th>\n",
       "      <th>rub_monthly_fee</th>\n",
       "      <th>rub_per_gb</th>\n",
       "      <th>rub_per_message</th>\n",
       "      <th>rub_per_minute</th>\n",
       "      <th>tariff_name</th>\n",
       "    </tr>\n",
       "  </thead>\n",
       "  <tbody>\n",
       "    <tr>\n",
       "      <td>0</td>\n",
       "      <td>50</td>\n",
       "      <td>15360</td>\n",
       "      <td>500</td>\n",
       "      <td>550</td>\n",
       "      <td>200</td>\n",
       "      <td>3</td>\n",
       "      <td>3</td>\n",
       "      <td>smart</td>\n",
       "    </tr>\n",
       "    <tr>\n",
       "      <td>1</td>\n",
       "      <td>1000</td>\n",
       "      <td>30720</td>\n",
       "      <td>3000</td>\n",
       "      <td>1950</td>\n",
       "      <td>150</td>\n",
       "      <td>1</td>\n",
       "      <td>1</td>\n",
       "      <td>ultra</td>\n",
       "    </tr>\n",
       "  </tbody>\n",
       "</table>\n",
       "</div>"
      ],
      "text/plain": [
       "   messages_included  mb_per_month_included  minutes_included  \\\n",
       "0                 50                  15360               500   \n",
       "1               1000                  30720              3000   \n",
       "\n",
       "   rub_monthly_fee  rub_per_gb  rub_per_message  rub_per_minute tariff_name  \n",
       "0              550         200                3               3       smart  \n",
       "1             1950         150                1               1       ultra  "
      ]
     },
     "execution_count": 434,
     "metadata": {},
     "output_type": "execute_result"
    }
   ],
   "source": [
    "df_tariffs = pd.read_csv('/datasets/tariffs.csv')\n",
    "df_tariffs.head()"
   ]
  },
  {
   "cell_type": "code",
   "execution_count": 435,
   "metadata": {
    "scrolled": true
   },
   "outputs": [
    {
     "name": "stdout",
     "output_type": "stream",
     "text": [
      "<class 'pandas.core.frame.DataFrame'>\n",
      "RangeIndex: 2 entries, 0 to 1\n",
      "Data columns (total 8 columns):\n",
      "messages_included        2 non-null int64\n",
      "mb_per_month_included    2 non-null int64\n",
      "minutes_included         2 non-null int64\n",
      "rub_monthly_fee          2 non-null int64\n",
      "rub_per_gb               2 non-null int64\n",
      "rub_per_message          2 non-null int64\n",
      "rub_per_minute           2 non-null int64\n",
      "tariff_name              2 non-null object\n",
      "dtypes: int64(7), object(1)\n",
      "memory usage: 256.0+ bytes\n"
     ]
    }
   ],
   "source": [
    "df_tariffs.info()"
   ]
  },
  {
   "cell_type": "code",
   "execution_count": 436,
   "metadata": {},
   "outputs": [],
   "source": [
    "df_tariffs.columns = ['messages_included', 'mb_per_month_included', 'minutes_included',\n",
    "       'rub_monthly_fee', 'rub_per_gb', 'rub_per_message', 'rub_per_minute',\n",
    "       'tariff']"
   ]
  },
  {
   "cell_type": "markdown",
   "metadata": {},
   "source": [
    "Для будущего удобства переименовали tariff_name в tariff"
   ]
  },
  {
   "cell_type": "markdown",
   "metadata": {},
   "source": [
    "df_tariffs - 2 записи, пропусков нет, содержит описание тарифов"
   ]
  },
  {
   "cell_type": "code",
   "execution_count": 437,
   "metadata": {},
   "outputs": [
    {
     "data": {
      "text/plain": [
       "(0, 0, 0, 0)"
      ]
     },
     "execution_count": 437,
     "metadata": {},
     "output_type": "execute_result"
    }
   ],
   "source": [
    "df_users.duplicated().sum(), \\\n",
    "df_calls.duplicated().sum(), \\\n",
    "df_messages.duplicated().sum(), \\\n",
    "df_internet.duplicated().sum()"
   ]
  },
  {
   "cell_type": "markdown",
   "metadata": {},
   "source": [
    "### Вывод"
   ]
  },
  {
   "cell_type": "markdown",
   "metadata": {},
   "source": [
    "- У нас всего 5 таблиц данных, для всех общая фича user_id\n",
    "- Для users это данные пользователя, таблицы calls, messages, internet содержат данные пользователей об использовании тарифа\n",
    "- tariffs содержит данные по тарифу\n",
    "- Пропущенных значений нет\n",
    "- Дубликатов нет\n",
    "- Аномалий нет"
   ]
  },
  {
   "cell_type": "markdown",
   "metadata": {},
   "source": [
    "## Подготовка данных"
   ]
  },
  {
   "cell_type": "markdown",
   "metadata": {},
   "source": [
    "### Оптимизация памяти"
   ]
  },
  {
   "cell_type": "code",
   "execution_count": 438,
   "metadata": {
    "scrolled": true
   },
   "outputs": [
    {
     "name": "stdout",
     "output_type": "stream",
     "text": [
      "Memory usage of properties dataframe is : 0.0306396484375  MB\n",
      "******************************\n",
      "Column:  user_id\n",
      "dtype before:  int64\n",
      "dtype after:  uint16\n",
      "******************************\n",
      "******************************\n",
      "Column:  age\n",
      "dtype before:  int64\n",
      "dtype after:  uint8\n",
      "******************************\n",
      "___MEMORY USAGE AFTER COMPLETION:___\n",
      "Memory usage is:  0.024440765380859375  MB\n",
      "This is  79.76842629482071 % of the initial size\n",
      "Memory usage of properties dataframe is : 6.183197021484375  MB\n",
      "******************************\n",
      "Column:  duration\n",
      "dtype before:  float64\n",
      "dtype after:  float32\n",
      "******************************\n",
      "******************************\n",
      "Column:  user_id\n",
      "dtype before:  int64\n",
      "dtype after:  uint16\n",
      "******************************\n",
      "___MEMORY USAGE AFTER COMPLETION:___\n",
      "Memory usage is:  4.250986099243164  MB\n",
      "This is  68.75061694577293 % of the initial size\n",
      "Memory usage of properties dataframe is : 2.816192626953125  MB\n",
      "******************************\n",
      "Column:  user_id\n",
      "dtype before:  int64\n",
      "dtype after:  uint16\n",
      "******************************\n",
      "___MEMORY USAGE AFTER COMPLETION:___\n",
      "Memory usage is:  2.1121749877929688  MB\n",
      "This is  75.00108364668783 % of the initial size\n",
      "Memory usage of properties dataframe is : 5.699127197265625  MB\n",
      "******************************\n",
      "Column:  Unnamed: 0\n",
      "dtype before:  int64\n",
      "dtype after:  uint32\n",
      "******************************\n",
      "******************************\n",
      "Column:  mb_used\n",
      "dtype before:  float64\n",
      "dtype after:  float32\n",
      "******************************\n",
      "******************************\n",
      "Column:  user_id\n",
      "dtype before:  int64\n",
      "dtype after:  uint16\n",
      "******************************\n",
      "___MEMORY USAGE AFTER COMPLETION:___\n",
      "Memory usage is:  3.7044754028320312  MB\n",
      "This is  65.00074966934227 % of the initial size\n",
      "Memory usage of properties dataframe is : 0.000244140625  MB\n",
      "******************************\n",
      "Column:  messages_included\n",
      "dtype before:  int64\n",
      "dtype after:  uint16\n",
      "******************************\n",
      "******************************\n",
      "Column:  mb_per_month_included\n",
      "dtype before:  int64\n",
      "dtype after:  uint16\n",
      "******************************\n",
      "******************************\n",
      "Column:  minutes_included\n",
      "dtype before:  int64\n",
      "dtype after:  uint16\n",
      "******************************\n",
      "******************************\n",
      "Column:  rub_monthly_fee\n",
      "dtype before:  int64\n",
      "dtype after:  uint16\n",
      "******************************\n",
      "******************************\n",
      "Column:  rub_per_gb\n",
      "dtype before:  int64\n",
      "dtype after:  uint8\n",
      "******************************\n",
      "******************************\n",
      "Column:  rub_per_message\n",
      "dtype before:  int64\n",
      "dtype after:  uint8\n",
      "******************************\n",
      "******************************\n",
      "Column:  rub_per_minute\n",
      "dtype before:  int64\n",
      "dtype after:  uint8\n",
      "******************************\n",
      "___MEMORY USAGE AFTER COMPLETION:___\n",
      "Memory usage is:  0.0001583099365234375  MB\n",
      "This is  64.84375 % of the initial size\n"
     ]
    }
   ],
   "source": [
    "def reduce_mem_usage(props):\n",
    "    start_mem_usg = props.memory_usage().sum() / 1024**2 \n",
    "    print(\"Memory usage of properties dataframe is :\", start_mem_usg,\" MB\")\n",
    "    NAlist = [] # Keeps track of columns that have missing values filled in. \n",
    "    for col in props.columns:\n",
    "        if props[col].dtype != object:  # Exclude strings\n",
    "            \n",
    "            # Print current column type\n",
    "            print(\"******************************\")\n",
    "            print(\"Column: \",col)\n",
    "            print(\"dtype before: \",props[col].dtype)\n",
    "            \n",
    "            # make variables for Int, max and min\n",
    "            IsInt = False\n",
    "            mx = props[col].max()\n",
    "            mn = props[col].min()\n",
    "            \n",
    "            # Integer does not support NA, therefore, NA needs to be filled\n",
    "            if not np.isfinite(props[col]).all(): \n",
    "                NAlist.append(col)\n",
    "                props[col].fillna(mn-1,inplace=True)  \n",
    "                   \n",
    "            # test if column can be converted to an integer\n",
    "            asint = props[col].fillna(0).astype(np.int64)\n",
    "            try:\n",
    "                result = (props[col] - asint)\n",
    "                result = result.sum()\n",
    "                if result > -0.01 and result < 0.01:\n",
    "                    IsInt = True\n",
    "\n",
    "                # Make Integer/unsigned Integer datatypes\n",
    "                if IsInt:\n",
    "                    if mn >= 0:\n",
    "                        if mx < 255:\n",
    "                            props[col] = props[col].astype(np.uint8)\n",
    "                        elif mx < 65535:\n",
    "                            props[col] = props[col].astype(np.uint16)\n",
    "                        elif mx < 4294967295:\n",
    "                            props[col] = props[col].astype(np.uint32)\n",
    "                        else:\n",
    "                            props[col] = props[col].astype(np.uint64)\n",
    "                    else:\n",
    "                        if mn > np.iinfo(np.int8).min and mx < np.iinfo(np.int8).max:\n",
    "                            props[col] = props[col].astype(np.int8)\n",
    "                        elif mn > np.iinfo(np.int16).min and mx < np.iinfo(np.int16).max:\n",
    "                            props[col] = props[col].astype(np.int16)\n",
    "                        elif mn > np.iinfo(np.int32).min and mx < np.iinfo(np.int32).max:\n",
    "                            props[col] = props[col].astype(np.int32)\n",
    "                        elif mn > np.iinfo(np.int64).min and mx < np.iinfo(np.int64).max:\n",
    "                            props[col] = props[col].astype(np.int64)    \n",
    "\n",
    "                # Make float datatypes 32 bit\n",
    "                else:\n",
    "                    props[col] = props[col].astype(np.float32)\n",
    "\n",
    "                # Print new column type\n",
    "                print(\"dtype after: \",props[col].dtype)\n",
    "                print(\"******************************\")\n",
    "            except TypeError:\n",
    "                pass\n",
    "    \n",
    "    # Print final result\n",
    "    print(\"___MEMORY USAGE AFTER COMPLETION:___\")\n",
    "    mem_usg = props.memory_usage().sum() / 1024**2 \n",
    "    print(\"Memory usage is: \",mem_usg,\" MB\")\n",
    "    print(\"This is \",100*mem_usg/start_mem_usg,\"% of the initial size\")\n",
    "    return props, NAlist\n",
    "df_users, NAlist = reduce_mem_usage(df_users)\n",
    "df_calls, NAlist = reduce_mem_usage(df_calls)\n",
    "df_messages, NAlist = reduce_mem_usage(df_messages)\n",
    "df_internet, NAlist = reduce_mem_usage(df_internet)\n",
    "df_tariffs, NAlist = reduce_mem_usage(df_tariffs)"
   ]
  },
  {
   "cell_type": "markdown",
   "metadata": {},
   "source": [
    "### df_users"
   ]
  },
  {
   "cell_type": "code",
   "execution_count": 439,
   "metadata": {},
   "outputs": [
    {
     "data": {
      "text/html": [
       "<div>\n",
       "<style scoped>\n",
       "    .dataframe tbody tr th:only-of-type {\n",
       "        vertical-align: middle;\n",
       "    }\n",
       "\n",
       "    .dataframe tbody tr th {\n",
       "        vertical-align: top;\n",
       "    }\n",
       "\n",
       "    .dataframe thead th {\n",
       "        text-align: right;\n",
       "    }\n",
       "</style>\n",
       "<table border=\"1\" class=\"dataframe\">\n",
       "  <thead>\n",
       "    <tr style=\"text-align: right;\">\n",
       "      <th></th>\n",
       "      <th>user_id</th>\n",
       "      <th>age</th>\n",
       "      <th>churn_date</th>\n",
       "      <th>city</th>\n",
       "      <th>first_name</th>\n",
       "      <th>last_name</th>\n",
       "      <th>reg_date</th>\n",
       "      <th>tariff</th>\n",
       "    </tr>\n",
       "  </thead>\n",
       "  <tbody>\n",
       "    <tr>\n",
       "      <td>0</td>\n",
       "      <td>1000</td>\n",
       "      <td>52</td>\n",
       "      <td>NaN</td>\n",
       "      <td>Краснодар</td>\n",
       "      <td>Рафаил</td>\n",
       "      <td>Верещагин</td>\n",
       "      <td>2018-05-25</td>\n",
       "      <td>ultra</td>\n",
       "    </tr>\n",
       "    <tr>\n",
       "      <td>1</td>\n",
       "      <td>1001</td>\n",
       "      <td>41</td>\n",
       "      <td>NaN</td>\n",
       "      <td>Москва</td>\n",
       "      <td>Иван</td>\n",
       "      <td>Ежов</td>\n",
       "      <td>2018-11-01</td>\n",
       "      <td>smart</td>\n",
       "    </tr>\n",
       "    <tr>\n",
       "      <td>2</td>\n",
       "      <td>1002</td>\n",
       "      <td>59</td>\n",
       "      <td>NaN</td>\n",
       "      <td>Стерлитамак</td>\n",
       "      <td>Евгений</td>\n",
       "      <td>Абрамович</td>\n",
       "      <td>2018-06-17</td>\n",
       "      <td>smart</td>\n",
       "    </tr>\n",
       "    <tr>\n",
       "      <td>3</td>\n",
       "      <td>1003</td>\n",
       "      <td>23</td>\n",
       "      <td>NaN</td>\n",
       "      <td>Москва</td>\n",
       "      <td>Белла</td>\n",
       "      <td>Белякова</td>\n",
       "      <td>2018-08-17</td>\n",
       "      <td>ultra</td>\n",
       "    </tr>\n",
       "    <tr>\n",
       "      <td>4</td>\n",
       "      <td>1004</td>\n",
       "      <td>68</td>\n",
       "      <td>NaN</td>\n",
       "      <td>Новокузнецк</td>\n",
       "      <td>Татьяна</td>\n",
       "      <td>Авдеенко</td>\n",
       "      <td>2018-05-14</td>\n",
       "      <td>ultra</td>\n",
       "    </tr>\n",
       "  </tbody>\n",
       "</table>\n",
       "</div>"
      ],
      "text/plain": [
       "   user_id  age churn_date         city first_name  last_name    reg_date  \\\n",
       "0     1000   52        NaN    Краснодар     Рафаил  Верещагин  2018-05-25   \n",
       "1     1001   41        NaN       Москва       Иван       Ежов  2018-11-01   \n",
       "2     1002   59        NaN  Стерлитамак    Евгений  Абрамович  2018-06-17   \n",
       "3     1003   23        NaN       Москва      Белла   Белякова  2018-08-17   \n",
       "4     1004   68        NaN  Новокузнецк    Татьяна   Авдеенко  2018-05-14   \n",
       "\n",
       "  tariff  \n",
       "0  ultra  \n",
       "1  smart  \n",
       "2  smart  \n",
       "3  ultra  \n",
       "4  ultra  "
      ]
     },
     "execution_count": 439,
     "metadata": {},
     "output_type": "execute_result"
    }
   ],
   "source": [
    "df_users.head()"
   ]
  },
  {
   "cell_type": "code",
   "execution_count": 440,
   "metadata": {},
   "outputs": [
    {
     "data": {
      "image/png": "[encoded data removed]",
      "text/plain": [
       "<Figure size 720x288 with 1 Axes>"
      ]
     },
     "metadata": {
      "needs_background": "light"
     },
     "output_type": "display_data"
    }
   ],
   "source": [
    "df_users['age'].hist(bins=30, figsize=(10, 4))\n",
    "plt.title('Распределение возраста пользователей')\n",
    "plt.ylabel('Количество')\n",
    "plt.xlabel('Возраст')\n",
    "plt.show()"
   ]
  },
  {
   "cell_type": "code",
   "execution_count": 441,
   "metadata": {
    "scrolled": true
   },
   "outputs": [
    {
     "data": {
      "text/plain": [
       "array(['Краснодар', 'Москва', 'Стерлитамак', 'Новокузнецк',\n",
       "       'Набережные Челны', 'Ульяновск', 'Челябинск', 'Пермь', 'Тюмень',\n",
       "       'Самара', 'Санкт-Петербург', 'Иваново', 'Чебоксары', 'Омск', 'Уфа',\n",
       "       'Томск', 'Чита', 'Мурманск', 'Петрозаводск', 'Тверь',\n",
       "       'Екатеринбург', 'Махачкала', 'Вологда', 'Череповец', 'Ярославль',\n",
       "       'Сочи', 'Хабаровск', 'Ставрополь', 'Рязань', 'Улан-Удэ', 'Тула',\n",
       "       'Саратов', 'Ростов-на-Дону', 'Казань', 'Иркутск', 'Курск',\n",
       "       'Калуга', 'Якутск', 'Астрахань', 'Химки', 'Владикавказ',\n",
       "       'Волгоград', 'Саранск', 'Ижевск', 'Новосибирск', 'Брянск',\n",
       "       'Тольятти', 'Нижний Тагил', 'Орёл', 'Белгород', 'Воронеж',\n",
       "       'Волжский', 'Курган', 'Барнаул', 'Красноярск', 'Архангельск',\n",
       "       'Липецк', 'Кемерово', 'Киров', 'Сургут', 'Пенза', 'Магнитогорск',\n",
       "       'Нижний Новгород', 'Кострома', 'Владивосток', 'Тамбов', 'Балашиха',\n",
       "       'Севастополь', 'Калининград', 'Оренбург', 'Смоленск',\n",
       "       'Нижневартовск', 'Владимир', 'Новороссийск', 'Грозный', 'Подольск'],\n",
       "      dtype=object)"
      ]
     },
     "execution_count": 441,
     "metadata": {},
     "output_type": "execute_result"
    }
   ],
   "source": [
    "df_users['city'].unique()"
   ]
  },
  {
   "cell_type": "markdown",
   "metadata": {},
   "source": [
    "Посмотрели что нет повторов"
   ]
  },
  {
   "cell_type": "code",
   "execution_count": 442,
   "metadata": {},
   "outputs": [
    {
     "data": {
      "text/plain": [
       "array(['ultra', 'smart'], dtype=object)"
      ]
     },
     "execution_count": 442,
     "metadata": {},
     "output_type": "execute_result"
    }
   ],
   "source": [
    "df_users['tariff'].unique()"
   ]
  },
  {
   "cell_type": "code",
   "execution_count": 443,
   "metadata": {
    "scrolled": true
   },
   "outputs": [
    {
     "data": {
      "text/html": [
       "<div>\n",
       "<style scoped>\n",
       "    .dataframe tbody tr th:only-of-type {\n",
       "        vertical-align: middle;\n",
       "    }\n",
       "\n",
       "    .dataframe tbody tr th {\n",
       "        vertical-align: top;\n",
       "    }\n",
       "\n",
       "    .dataframe thead th {\n",
       "        text-align: right;\n",
       "    }\n",
       "</style>\n",
       "<table border=\"1\" class=\"dataframe\">\n",
       "  <thead>\n",
       "    <tr style=\"text-align: right;\">\n",
       "      <th></th>\n",
       "      <th>user_id</th>\n",
       "      <th>age</th>\n",
       "      <th>churn_date</th>\n",
       "      <th>city</th>\n",
       "      <th>first_name</th>\n",
       "      <th>last_name</th>\n",
       "      <th>reg_date</th>\n",
       "      <th>tariff</th>\n",
       "    </tr>\n",
       "  </thead>\n",
       "  <tbody>\n",
       "    <tr>\n",
       "      <td>50</td>\n",
       "      <td>1050</td>\n",
       "      <td>44</td>\n",
       "      <td>2018-10-03</td>\n",
       "      <td>Тюмень</td>\n",
       "      <td>Рузана</td>\n",
       "      <td>Аничкина</td>\n",
       "      <td>2018-06-16</td>\n",
       "      <td>ultra</td>\n",
       "    </tr>\n",
       "  </tbody>\n",
       "</table>\n",
       "</div>"
      ],
      "text/plain": [
       "    user_id  age  churn_date    city first_name last_name    reg_date tariff\n",
       "50     1050   44  2018-10-03  Тюмень     Рузана  Аничкина  2018-06-16  ultra"
      ]
     },
     "execution_count": 443,
     "metadata": {},
     "output_type": "execute_result"
    }
   ],
   "source": [
    "df_users[~df_users['churn_date'].isna()].sample()"
   ]
  },
  {
   "cell_type": "markdown",
   "metadata": {},
   "source": [
    "Посмотрели что есть записи с окончанием даты использования тарифа"
   ]
  },
  {
   "cell_type": "markdown",
   "metadata": {},
   "source": [
    "### df_calls"
   ]
  },
  {
   "cell_type": "code",
   "execution_count": 444,
   "metadata": {},
   "outputs": [
    {
     "data": {
      "text/html": [
       "<div>\n",
       "<style scoped>\n",
       "    .dataframe tbody tr th:only-of-type {\n",
       "        vertical-align: middle;\n",
       "    }\n",
       "\n",
       "    .dataframe tbody tr th {\n",
       "        vertical-align: top;\n",
       "    }\n",
       "\n",
       "    .dataframe thead th {\n",
       "        text-align: right;\n",
       "    }\n",
       "</style>\n",
       "<table border=\"1\" class=\"dataframe\">\n",
       "  <thead>\n",
       "    <tr style=\"text-align: right;\">\n",
       "      <th></th>\n",
       "      <th>id</th>\n",
       "      <th>call_date</th>\n",
       "      <th>duration</th>\n",
       "      <th>user_id</th>\n",
       "    </tr>\n",
       "  </thead>\n",
       "  <tbody>\n",
       "    <tr>\n",
       "      <td>0</td>\n",
       "      <td>1000_0</td>\n",
       "      <td>2018-07-25</td>\n",
       "      <td>0.00</td>\n",
       "      <td>1000</td>\n",
       "    </tr>\n",
       "    <tr>\n",
       "      <td>1</td>\n",
       "      <td>1000_1</td>\n",
       "      <td>2018-08-17</td>\n",
       "      <td>0.00</td>\n",
       "      <td>1000</td>\n",
       "    </tr>\n",
       "    <tr>\n",
       "      <td>2</td>\n",
       "      <td>1000_2</td>\n",
       "      <td>2018-06-11</td>\n",
       "      <td>2.85</td>\n",
       "      <td>1000</td>\n",
       "    </tr>\n",
       "    <tr>\n",
       "      <td>3</td>\n",
       "      <td>1000_3</td>\n",
       "      <td>2018-09-21</td>\n",
       "      <td>13.80</td>\n",
       "      <td>1000</td>\n",
       "    </tr>\n",
       "    <tr>\n",
       "      <td>4</td>\n",
       "      <td>1000_4</td>\n",
       "      <td>2018-12-15</td>\n",
       "      <td>5.18</td>\n",
       "      <td>1000</td>\n",
       "    </tr>\n",
       "  </tbody>\n",
       "</table>\n",
       "</div>"
      ],
      "text/plain": [
       "       id   call_date  duration  user_id\n",
       "0  1000_0  2018-07-25      0.00     1000\n",
       "1  1000_1  2018-08-17      0.00     1000\n",
       "2  1000_2  2018-06-11      2.85     1000\n",
       "3  1000_3  2018-09-21     13.80     1000\n",
       "4  1000_4  2018-12-15      5.18     1000"
      ]
     },
     "execution_count": 444,
     "metadata": {},
     "output_type": "execute_result"
    }
   ],
   "source": [
    "df_calls.head()"
   ]
  },
  {
   "cell_type": "code",
   "execution_count": 445,
   "metadata": {},
   "outputs": [
    {
     "data": {
      "image/png": "[encoded data removed]",
      "text/plain": [
       "<Figure size 720x288 with 1 Axes>"
      ]
     },
     "metadata": {
      "needs_background": "light"
     },
     "output_type": "display_data"
    }
   ],
   "source": [
    "df_calls['duration'].hist(bins=30, figsize=(10, 4))\n",
    "plt.title('Распределение длительности звонков')\n",
    "plt.ylabel('Количество')\n",
    "plt.xlabel('Длительность')\n",
    "plt.show()"
   ]
  },
  {
   "cell_type": "markdown",
   "metadata": {},
   "source": [
    "### df_messages"
   ]
  },
  {
   "cell_type": "code",
   "execution_count": 446,
   "metadata": {},
   "outputs": [
    {
     "data": {
      "text/html": [
       "<div>\n",
       "<style scoped>\n",
       "    .dataframe tbody tr th:only-of-type {\n",
       "        vertical-align: middle;\n",
       "    }\n",
       "\n",
       "    .dataframe tbody tr th {\n",
       "        vertical-align: top;\n",
       "    }\n",
       "\n",
       "    .dataframe thead th {\n",
       "        text-align: right;\n",
       "    }\n",
       "</style>\n",
       "<table border=\"1\" class=\"dataframe\">\n",
       "  <thead>\n",
       "    <tr style=\"text-align: right;\">\n",
       "      <th></th>\n",
       "      <th>id</th>\n",
       "      <th>message_date</th>\n",
       "      <th>user_id</th>\n",
       "    </tr>\n",
       "  </thead>\n",
       "  <tbody>\n",
       "    <tr>\n",
       "      <td>123031</td>\n",
       "      <td>1499_179</td>\n",
       "      <td>2018-12-12</td>\n",
       "      <td>1499</td>\n",
       "    </tr>\n",
       "    <tr>\n",
       "      <td>123032</td>\n",
       "      <td>1499_180</td>\n",
       "      <td>2018-09-28</td>\n",
       "      <td>1499</td>\n",
       "    </tr>\n",
       "    <tr>\n",
       "      <td>123033</td>\n",
       "      <td>1499_181</td>\n",
       "      <td>2018-09-27</td>\n",
       "      <td>1499</td>\n",
       "    </tr>\n",
       "    <tr>\n",
       "      <td>123034</td>\n",
       "      <td>1499_182</td>\n",
       "      <td>2018-11-15</td>\n",
       "      <td>1499</td>\n",
       "    </tr>\n",
       "    <tr>\n",
       "      <td>123035</td>\n",
       "      <td>1499_183</td>\n",
       "      <td>2018-11-16</td>\n",
       "      <td>1499</td>\n",
       "    </tr>\n",
       "  </tbody>\n",
       "</table>\n",
       "</div>"
      ],
      "text/plain": [
       "              id message_date  user_id\n",
       "123031  1499_179   2018-12-12     1499\n",
       "123032  1499_180   2018-09-28     1499\n",
       "123033  1499_181   2018-09-27     1499\n",
       "123034  1499_182   2018-11-15     1499\n",
       "123035  1499_183   2018-11-16     1499"
      ]
     },
     "execution_count": 446,
     "metadata": {},
     "output_type": "execute_result"
    }
   ],
   "source": [
    "df_messages.tail(5)"
   ]
  },
  {
   "cell_type": "markdown",
   "metadata": {},
   "source": [
    "### df_internet"
   ]
  },
  {
   "cell_type": "code",
   "execution_count": 447,
   "metadata": {},
   "outputs": [
    {
     "data": {
      "text/html": [
       "<div>\n",
       "<style scoped>\n",
       "    .dataframe tbody tr th:only-of-type {\n",
       "        vertical-align: middle;\n",
       "    }\n",
       "\n",
       "    .dataframe tbody tr th {\n",
       "        vertical-align: top;\n",
       "    }\n",
       "\n",
       "    .dataframe thead th {\n",
       "        text-align: right;\n",
       "    }\n",
       "</style>\n",
       "<table border=\"1\" class=\"dataframe\">\n",
       "  <thead>\n",
       "    <tr style=\"text-align: right;\">\n",
       "      <th></th>\n",
       "      <th>Unnamed: 0</th>\n",
       "      <th>id</th>\n",
       "      <th>mb_used</th>\n",
       "      <th>session_date</th>\n",
       "      <th>user_id</th>\n",
       "    </tr>\n",
       "  </thead>\n",
       "  <tbody>\n",
       "    <tr>\n",
       "      <td>0</td>\n",
       "      <td>0</td>\n",
       "      <td>1000_0</td>\n",
       "      <td>112.949997</td>\n",
       "      <td>2018-11-25</td>\n",
       "      <td>1000</td>\n",
       "    </tr>\n",
       "    <tr>\n",
       "      <td>1</td>\n",
       "      <td>1</td>\n",
       "      <td>1000_1</td>\n",
       "      <td>1052.810059</td>\n",
       "      <td>2018-09-07</td>\n",
       "      <td>1000</td>\n",
       "    </tr>\n",
       "    <tr>\n",
       "      <td>2</td>\n",
       "      <td>2</td>\n",
       "      <td>1000_2</td>\n",
       "      <td>1197.260010</td>\n",
       "      <td>2018-06-25</td>\n",
       "      <td>1000</td>\n",
       "    </tr>\n",
       "    <tr>\n",
       "      <td>3</td>\n",
       "      <td>3</td>\n",
       "      <td>1000_3</td>\n",
       "      <td>550.270020</td>\n",
       "      <td>2018-08-22</td>\n",
       "      <td>1000</td>\n",
       "    </tr>\n",
       "    <tr>\n",
       "      <td>4</td>\n",
       "      <td>4</td>\n",
       "      <td>1000_4</td>\n",
       "      <td>302.559998</td>\n",
       "      <td>2018-09-24</td>\n",
       "      <td>1000</td>\n",
       "    </tr>\n",
       "  </tbody>\n",
       "</table>\n",
       "</div>"
      ],
      "text/plain": [
       "   Unnamed: 0      id      mb_used session_date  user_id\n",
       "0           0  1000_0   112.949997   2018-11-25     1000\n",
       "1           1  1000_1  1052.810059   2018-09-07     1000\n",
       "2           2  1000_2  1197.260010   2018-06-25     1000\n",
       "3           3  1000_3   550.270020   2018-08-22     1000\n",
       "4           4  1000_4   302.559998   2018-09-24     1000"
      ]
     },
     "execution_count": 447,
     "metadata": {},
     "output_type": "execute_result"
    }
   ],
   "source": [
    "# len 149396, unnamed - 149396\n",
    "df_internet.head()"
   ]
  },
  {
   "cell_type": "code",
   "execution_count": 448,
   "metadata": {
    "scrolled": true
   },
   "outputs": [
    {
     "data": {
      "text/html": [
       "<div>\n",
       "<style scoped>\n",
       "    .dataframe tbody tr th:only-of-type {\n",
       "        vertical-align: middle;\n",
       "    }\n",
       "\n",
       "    .dataframe tbody tr th {\n",
       "        vertical-align: top;\n",
       "    }\n",
       "\n",
       "    .dataframe thead th {\n",
       "        text-align: right;\n",
       "    }\n",
       "</style>\n",
       "<table border=\"1\" class=\"dataframe\">\n",
       "  <thead>\n",
       "    <tr style=\"text-align: right;\">\n",
       "      <th></th>\n",
       "      <th>id</th>\n",
       "      <th>mb_used</th>\n",
       "      <th>session_date</th>\n",
       "      <th>user_id</th>\n",
       "    </tr>\n",
       "  </thead>\n",
       "  <tbody>\n",
       "    <tr>\n",
       "      <td>0</td>\n",
       "      <td>1000_0</td>\n",
       "      <td>112.949997</td>\n",
       "      <td>2018-11-25</td>\n",
       "      <td>1000</td>\n",
       "    </tr>\n",
       "    <tr>\n",
       "      <td>1</td>\n",
       "      <td>1000_1</td>\n",
       "      <td>1052.810059</td>\n",
       "      <td>2018-09-07</td>\n",
       "      <td>1000</td>\n",
       "    </tr>\n",
       "    <tr>\n",
       "      <td>2</td>\n",
       "      <td>1000_2</td>\n",
       "      <td>1197.260010</td>\n",
       "      <td>2018-06-25</td>\n",
       "      <td>1000</td>\n",
       "    </tr>\n",
       "    <tr>\n",
       "      <td>3</td>\n",
       "      <td>1000_3</td>\n",
       "      <td>550.270020</td>\n",
       "      <td>2018-08-22</td>\n",
       "      <td>1000</td>\n",
       "    </tr>\n",
       "    <tr>\n",
       "      <td>4</td>\n",
       "      <td>1000_4</td>\n",
       "      <td>302.559998</td>\n",
       "      <td>2018-09-24</td>\n",
       "      <td>1000</td>\n",
       "    </tr>\n",
       "  </tbody>\n",
       "</table>\n",
       "</div>"
      ],
      "text/plain": [
       "       id      mb_used session_date  user_id\n",
       "0  1000_0   112.949997   2018-11-25     1000\n",
       "1  1000_1  1052.810059   2018-09-07     1000\n",
       "2  1000_2  1197.260010   2018-06-25     1000\n",
       "3  1000_3   550.270020   2018-08-22     1000\n",
       "4  1000_4   302.559998   2018-09-24     1000"
      ]
     },
     "execution_count": 448,
     "metadata": {},
     "output_type": "execute_result"
    }
   ],
   "source": [
    "df_internet = df_internet.drop(['Unnamed: 0'], axis=1)\n",
    "df_internet.head()"
   ]
  },
  {
   "cell_type": "markdown",
   "metadata": {},
   "source": [
    "### df_tariffs"
   ]
  },
  {
   "cell_type": "code",
   "execution_count": 449,
   "metadata": {},
   "outputs": [
    {
     "data": {
      "text/html": [
       "<div>\n",
       "<style scoped>\n",
       "    .dataframe tbody tr th:only-of-type {\n",
       "        vertical-align: middle;\n",
       "    }\n",
       "\n",
       "    .dataframe tbody tr th {\n",
       "        vertical-align: top;\n",
       "    }\n",
       "\n",
       "    .dataframe thead th {\n",
       "        text-align: right;\n",
       "    }\n",
       "</style>\n",
       "<table border=\"1\" class=\"dataframe\">\n",
       "  <thead>\n",
       "    <tr style=\"text-align: right;\">\n",
       "      <th></th>\n",
       "      <th>messages_included</th>\n",
       "      <th>mb_per_month_included</th>\n",
       "      <th>minutes_included</th>\n",
       "      <th>rub_monthly_fee</th>\n",
       "      <th>rub_per_gb</th>\n",
       "      <th>rub_per_message</th>\n",
       "      <th>rub_per_minute</th>\n",
       "      <th>tariff</th>\n",
       "    </tr>\n",
       "  </thead>\n",
       "  <tbody>\n",
       "    <tr>\n",
       "      <td>0</td>\n",
       "      <td>50</td>\n",
       "      <td>15360</td>\n",
       "      <td>500</td>\n",
       "      <td>550</td>\n",
       "      <td>200</td>\n",
       "      <td>3</td>\n",
       "      <td>3</td>\n",
       "      <td>smart</td>\n",
       "    </tr>\n",
       "    <tr>\n",
       "      <td>1</td>\n",
       "      <td>1000</td>\n",
       "      <td>30720</td>\n",
       "      <td>3000</td>\n",
       "      <td>1950</td>\n",
       "      <td>150</td>\n",
       "      <td>1</td>\n",
       "      <td>1</td>\n",
       "      <td>ultra</td>\n",
       "    </tr>\n",
       "  </tbody>\n",
       "</table>\n",
       "</div>"
      ],
      "text/plain": [
       "   messages_included  mb_per_month_included  minutes_included  \\\n",
       "0                 50                  15360               500   \n",
       "1               1000                  30720              3000   \n",
       "\n",
       "   rub_monthly_fee  rub_per_gb  rub_per_message  rub_per_minute tariff  \n",
       "0              550         200                3               3  smart  \n",
       "1             1950         150                1               1  ultra  "
      ]
     },
     "execution_count": 449,
     "metadata": {},
     "output_type": "execute_result"
    }
   ],
   "source": [
    "df_tariffs"
   ]
  },
  {
   "cell_type": "markdown",
   "metadata": {},
   "source": [
    "Переведем mb_per_month_included в гигабайты и переименуем столбец"
   ]
  },
  {
   "cell_type": "code",
   "execution_count": 450,
   "metadata": {},
   "outputs": [],
   "source": [
    "df_tariffs['mb_per_month_included'] = df_tariffs['mb_per_month_included'].apply(lambda x: x / 1024)"
   ]
  },
  {
   "cell_type": "code",
   "execution_count": 451,
   "metadata": {
    "scrolled": true
   },
   "outputs": [],
   "source": [
    "df_tariffs.columns = ['messages_included', 'gb_per_month_included', 'minutes_included',\n",
    "       'rub_monthly_fee', 'rub_per_gb', 'rub_per_message', 'rub_per_minute',\n",
    "       'tariff']"
   ]
  },
  {
   "cell_type": "code",
   "execution_count": 452,
   "metadata": {},
   "outputs": [
    {
     "data": {
      "text/html": [
       "<div>\n",
       "<style scoped>\n",
       "    .dataframe tbody tr th:only-of-type {\n",
       "        vertical-align: middle;\n",
       "    }\n",
       "\n",
       "    .dataframe tbody tr th {\n",
       "        vertical-align: top;\n",
       "    }\n",
       "\n",
       "    .dataframe thead th {\n",
       "        text-align: right;\n",
       "    }\n",
       "</style>\n",
       "<table border=\"1\" class=\"dataframe\">\n",
       "  <thead>\n",
       "    <tr style=\"text-align: right;\">\n",
       "      <th></th>\n",
       "      <th>messages_included</th>\n",
       "      <th>gb_per_month_included</th>\n",
       "      <th>minutes_included</th>\n",
       "      <th>rub_monthly_fee</th>\n",
       "      <th>rub_per_gb</th>\n",
       "      <th>rub_per_message</th>\n",
       "      <th>rub_per_minute</th>\n",
       "      <th>tariff</th>\n",
       "    </tr>\n",
       "  </thead>\n",
       "  <tbody>\n",
       "    <tr>\n",
       "      <td>0</td>\n",
       "      <td>50</td>\n",
       "      <td>15.0</td>\n",
       "      <td>500</td>\n",
       "      <td>550</td>\n",
       "      <td>200</td>\n",
       "      <td>3</td>\n",
       "      <td>3</td>\n",
       "      <td>smart</td>\n",
       "    </tr>\n",
       "    <tr>\n",
       "      <td>1</td>\n",
       "      <td>1000</td>\n",
       "      <td>30.0</td>\n",
       "      <td>3000</td>\n",
       "      <td>1950</td>\n",
       "      <td>150</td>\n",
       "      <td>1</td>\n",
       "      <td>1</td>\n",
       "      <td>ultra</td>\n",
       "    </tr>\n",
       "  </tbody>\n",
       "</table>\n",
       "</div>"
      ],
      "text/plain": [
       "   messages_included  gb_per_month_included  minutes_included  \\\n",
       "0                 50                   15.0               500   \n",
       "1               1000                   30.0              3000   \n",
       "\n",
       "   rub_monthly_fee  rub_per_gb  rub_per_message  rub_per_minute tariff  \n",
       "0              550         200                3               3  smart  \n",
       "1             1950         150                1               1  ultra  "
      ]
     },
     "execution_count": 452,
     "metadata": {},
     "output_type": "execute_result"
    }
   ],
   "source": [
    "df_tariffs"
   ]
  },
  {
   "cell_type": "markdown",
   "metadata": {},
   "source": [
    "### Объединим данные таблиц df_users, df_calls"
   ]
  },
  {
   "cell_type": "markdown",
   "metadata": {},
   "source": [
    "Сделаем правое присоединение, так отсечем пользователей, которые не делали звонков"
   ]
  },
  {
   "cell_type": "code",
   "execution_count": 453,
   "metadata": {
    "scrolled": false
   },
   "outputs": [
    {
     "data": {
      "text/html": [
       "<div>\n",
       "<style scoped>\n",
       "    .dataframe tbody tr th:only-of-type {\n",
       "        vertical-align: middle;\n",
       "    }\n",
       "\n",
       "    .dataframe tbody tr th {\n",
       "        vertical-align: top;\n",
       "    }\n",
       "\n",
       "    .dataframe thead th {\n",
       "        text-align: right;\n",
       "    }\n",
       "</style>\n",
       "<table border=\"1\" class=\"dataframe\">\n",
       "  <thead>\n",
       "    <tr style=\"text-align: right;\">\n",
       "      <th></th>\n",
       "      <th>user_id</th>\n",
       "      <th>age</th>\n",
       "      <th>churn_date</th>\n",
       "      <th>city</th>\n",
       "      <th>first_name</th>\n",
       "      <th>last_name</th>\n",
       "      <th>reg_date</th>\n",
       "      <th>tariff</th>\n",
       "      <th>id</th>\n",
       "      <th>call_date</th>\n",
       "      <th>duration</th>\n",
       "    </tr>\n",
       "  </thead>\n",
       "  <tbody>\n",
       "    <tr>\n",
       "      <td>0</td>\n",
       "      <td>1000</td>\n",
       "      <td>52</td>\n",
       "      <td>NaN</td>\n",
       "      <td>Краснодар</td>\n",
       "      <td>Рафаил</td>\n",
       "      <td>Верещагин</td>\n",
       "      <td>2018-05-25</td>\n",
       "      <td>ultra</td>\n",
       "      <td>1000_0</td>\n",
       "      <td>2018-07-25</td>\n",
       "      <td>0.00</td>\n",
       "    </tr>\n",
       "    <tr>\n",
       "      <td>1</td>\n",
       "      <td>1000</td>\n",
       "      <td>52</td>\n",
       "      <td>NaN</td>\n",
       "      <td>Краснодар</td>\n",
       "      <td>Рафаил</td>\n",
       "      <td>Верещагин</td>\n",
       "      <td>2018-05-25</td>\n",
       "      <td>ultra</td>\n",
       "      <td>1000_1</td>\n",
       "      <td>2018-08-17</td>\n",
       "      <td>0.00</td>\n",
       "    </tr>\n",
       "    <tr>\n",
       "      <td>2</td>\n",
       "      <td>1000</td>\n",
       "      <td>52</td>\n",
       "      <td>NaN</td>\n",
       "      <td>Краснодар</td>\n",
       "      <td>Рафаил</td>\n",
       "      <td>Верещагин</td>\n",
       "      <td>2018-05-25</td>\n",
       "      <td>ultra</td>\n",
       "      <td>1000_2</td>\n",
       "      <td>2018-06-11</td>\n",
       "      <td>2.85</td>\n",
       "    </tr>\n",
       "    <tr>\n",
       "      <td>3</td>\n",
       "      <td>1000</td>\n",
       "      <td>52</td>\n",
       "      <td>NaN</td>\n",
       "      <td>Краснодар</td>\n",
       "      <td>Рафаил</td>\n",
       "      <td>Верещагин</td>\n",
       "      <td>2018-05-25</td>\n",
       "      <td>ultra</td>\n",
       "      <td>1000_3</td>\n",
       "      <td>2018-09-21</td>\n",
       "      <td>13.80</td>\n",
       "    </tr>\n",
       "    <tr>\n",
       "      <td>4</td>\n",
       "      <td>1000</td>\n",
       "      <td>52</td>\n",
       "      <td>NaN</td>\n",
       "      <td>Краснодар</td>\n",
       "      <td>Рафаил</td>\n",
       "      <td>Верещагин</td>\n",
       "      <td>2018-05-25</td>\n",
       "      <td>ultra</td>\n",
       "      <td>1000_4</td>\n",
       "      <td>2018-12-15</td>\n",
       "      <td>5.18</td>\n",
       "    </tr>\n",
       "  </tbody>\n",
       "</table>\n",
       "</div>"
      ],
      "text/plain": [
       "   user_id  age churn_date       city first_name  last_name    reg_date  \\\n",
       "0     1000   52        NaN  Краснодар     Рафаил  Верещагин  2018-05-25   \n",
       "1     1000   52        NaN  Краснодар     Рафаил  Верещагин  2018-05-25   \n",
       "2     1000   52        NaN  Краснодар     Рафаил  Верещагин  2018-05-25   \n",
       "3     1000   52        NaN  Краснодар     Рафаил  Верещагин  2018-05-25   \n",
       "4     1000   52        NaN  Краснодар     Рафаил  Верещагин  2018-05-25   \n",
       "\n",
       "  tariff      id   call_date  duration  \n",
       "0  ultra  1000_0  2018-07-25      0.00  \n",
       "1  ultra  1000_1  2018-08-17      0.00  \n",
       "2  ultra  1000_2  2018-06-11      2.85  \n",
       "3  ultra  1000_3  2018-09-21     13.80  \n",
       "4  ultra  1000_4  2018-12-15      5.18  "
      ]
     },
     "execution_count": 453,
     "metadata": {},
     "output_type": "execute_result"
    }
   ],
   "source": [
    "df_user_calls = df_users.merge(df_calls, how='right')\n",
    "df_user_calls.head()"
   ]
  },
  {
   "cell_type": "code",
   "execution_count": 454,
   "metadata": {},
   "outputs": [],
   "source": [
    "df_user_tariff = df_users[['user_id', 'tariff']].merge(df_tariffs)"
   ]
  },
  {
   "cell_type": "code",
   "execution_count": 455,
   "metadata": {},
   "outputs": [
    {
     "data": {
      "text/html": [
       "<div>\n",
       "<style scoped>\n",
       "    .dataframe tbody tr th:only-of-type {\n",
       "        vertical-align: middle;\n",
       "    }\n",
       "\n",
       "    .dataframe tbody tr th {\n",
       "        vertical-align: top;\n",
       "    }\n",
       "\n",
       "    .dataframe thead th {\n",
       "        text-align: right;\n",
       "    }\n",
       "</style>\n",
       "<table border=\"1\" class=\"dataframe\">\n",
       "  <thead>\n",
       "    <tr style=\"text-align: right;\">\n",
       "      <th></th>\n",
       "      <th>user_id</th>\n",
       "      <th>tariff</th>\n",
       "      <th>messages_included</th>\n",
       "      <th>gb_per_month_included</th>\n",
       "      <th>minutes_included</th>\n",
       "      <th>rub_monthly_fee</th>\n",
       "      <th>rub_per_gb</th>\n",
       "      <th>rub_per_message</th>\n",
       "      <th>rub_per_minute</th>\n",
       "    </tr>\n",
       "  </thead>\n",
       "  <tbody>\n",
       "    <tr>\n",
       "      <td>458</td>\n",
       "      <td>1439</td>\n",
       "      <td>smart</td>\n",
       "      <td>50</td>\n",
       "      <td>15.0</td>\n",
       "      <td>500</td>\n",
       "      <td>550</td>\n",
       "      <td>200</td>\n",
       "      <td>3</td>\n",
       "      <td>3</td>\n",
       "    </tr>\n",
       "  </tbody>\n",
       "</table>\n",
       "</div>"
      ],
      "text/plain": [
       "     user_id tariff  messages_included  gb_per_month_included  \\\n",
       "458     1439  smart                 50                   15.0   \n",
       "\n",
       "     minutes_included  rub_monthly_fee  rub_per_gb  rub_per_message  \\\n",
       "458               500              550         200                3   \n",
       "\n",
       "     rub_per_minute  \n",
       "458               3  "
      ]
     },
     "execution_count": 455,
     "metadata": {},
     "output_type": "execute_result"
    }
   ],
   "source": [
    "df_user_tariff.sample()"
   ]
  },
  {
   "cell_type": "markdown",
   "metadata": {},
   "source": [
    "### Количество сделанных звонков и израсходованных минут разговора по месяцам по пользователям"
   ]
  },
  {
   "cell_type": "code",
   "execution_count": 456,
   "metadata": {
    "scrolled": true
   },
   "outputs": [],
   "source": [
    "df_user_calls['call_date_month'] = df_user_calls['call_date'].apply(lambda x: x[:7])"
   ]
  },
  {
   "cell_type": "code",
   "execution_count": 457,
   "metadata": {
    "scrolled": true
   },
   "outputs": [
    {
     "data": {
      "text/plain": [
       "call_date_month  user_id\n",
       "2018-01          1005        15\n",
       "                 1032        61\n",
       "                 1045         1\n",
       "                 1055        64\n",
       "                 1071        24\n",
       "                           ... \n",
       "2018-12          1494        62\n",
       "                 1495       155\n",
       "                 1496        80\n",
       "                 1497        71\n",
       "                 1499        69\n",
       "Name: duration, Length: 3174, dtype: int64"
      ]
     },
     "execution_count": 457,
     "metadata": {},
     "output_type": "execute_result"
    }
   ],
   "source": [
    "df_user_calls.groupby(['call_date_month', 'user_id']).agg('count')['duration']"
   ]
  },
  {
   "cell_type": "markdown",
   "metadata": {},
   "source": [
    "Получли данные по количеству сделанных звонков по месяцам и пользователю"
   ]
  },
  {
   "cell_type": "code",
   "execution_count": 458,
   "metadata": {
    "scrolled": true
   },
   "outputs": [
    {
     "data": {
      "text/plain": [
       "call_date_month  user_id\n",
       "2018-01          1005        90.930000\n",
       "                 1032       359.160004\n",
       "                 1045         8.330000\n",
       "                 1055       527.950012\n",
       "                 1071       183.960007\n",
       "                               ...    \n",
       "2018-12          1494       388.290009\n",
       "                 1495       970.940002\n",
       "                 1496       483.910004\n",
       "                 1497       515.330017\n",
       "                 1499       465.160004\n",
       "Name: duration, Length: 3174, dtype: float32"
      ]
     },
     "execution_count": 458,
     "metadata": {},
     "output_type": "execute_result"
    }
   ],
   "source": [
    "df_user_calls.groupby(['call_date_month', 'user_id']).agg('sum')['duration']"
   ]
  },
  {
   "cell_type": "markdown",
   "metadata": {},
   "source": [
    "Получли данные по продолжительности звонков по месяцам и пользователю"
   ]
  },
  {
   "cell_type": "markdown",
   "metadata": {},
   "source": [
    "### Объединим данные таблиц df_users, df_messages"
   ]
  },
  {
   "cell_type": "code",
   "execution_count": 459,
   "metadata": {},
   "outputs": [
    {
     "data": {
      "text/html": [
       "<div>\n",
       "<style scoped>\n",
       "    .dataframe tbody tr th:only-of-type {\n",
       "        vertical-align: middle;\n",
       "    }\n",
       "\n",
       "    .dataframe tbody tr th {\n",
       "        vertical-align: top;\n",
       "    }\n",
       "\n",
       "    .dataframe thead th {\n",
       "        text-align: right;\n",
       "    }\n",
       "</style>\n",
       "<table border=\"1\" class=\"dataframe\">\n",
       "  <thead>\n",
       "    <tr style=\"text-align: right;\">\n",
       "      <th></th>\n",
       "      <th>user_id</th>\n",
       "      <th>age</th>\n",
       "      <th>churn_date</th>\n",
       "      <th>city</th>\n",
       "      <th>first_name</th>\n",
       "      <th>last_name</th>\n",
       "      <th>reg_date</th>\n",
       "      <th>tariff</th>\n",
       "      <th>id</th>\n",
       "      <th>message_date</th>\n",
       "    </tr>\n",
       "  </thead>\n",
       "  <tbody>\n",
       "    <tr>\n",
       "      <td>0</td>\n",
       "      <td>1000</td>\n",
       "      <td>52</td>\n",
       "      <td>NaN</td>\n",
       "      <td>Краснодар</td>\n",
       "      <td>Рафаил</td>\n",
       "      <td>Верещагин</td>\n",
       "      <td>2018-05-25</td>\n",
       "      <td>ultra</td>\n",
       "      <td>1000_0</td>\n",
       "      <td>2018-06-27</td>\n",
       "    </tr>\n",
       "    <tr>\n",
       "      <td>1</td>\n",
       "      <td>1000</td>\n",
       "      <td>52</td>\n",
       "      <td>NaN</td>\n",
       "      <td>Краснодар</td>\n",
       "      <td>Рафаил</td>\n",
       "      <td>Верещагин</td>\n",
       "      <td>2018-05-25</td>\n",
       "      <td>ultra</td>\n",
       "      <td>1000_1</td>\n",
       "      <td>2018-10-08</td>\n",
       "    </tr>\n",
       "    <tr>\n",
       "      <td>2</td>\n",
       "      <td>1000</td>\n",
       "      <td>52</td>\n",
       "      <td>NaN</td>\n",
       "      <td>Краснодар</td>\n",
       "      <td>Рафаил</td>\n",
       "      <td>Верещагин</td>\n",
       "      <td>2018-05-25</td>\n",
       "      <td>ultra</td>\n",
       "      <td>1000_2</td>\n",
       "      <td>2018-08-04</td>\n",
       "    </tr>\n",
       "    <tr>\n",
       "      <td>3</td>\n",
       "      <td>1000</td>\n",
       "      <td>52</td>\n",
       "      <td>NaN</td>\n",
       "      <td>Краснодар</td>\n",
       "      <td>Рафаил</td>\n",
       "      <td>Верещагин</td>\n",
       "      <td>2018-05-25</td>\n",
       "      <td>ultra</td>\n",
       "      <td>1000_3</td>\n",
       "      <td>2018-06-16</td>\n",
       "    </tr>\n",
       "    <tr>\n",
       "      <td>4</td>\n",
       "      <td>1000</td>\n",
       "      <td>52</td>\n",
       "      <td>NaN</td>\n",
       "      <td>Краснодар</td>\n",
       "      <td>Рафаил</td>\n",
       "      <td>Верещагин</td>\n",
       "      <td>2018-05-25</td>\n",
       "      <td>ultra</td>\n",
       "      <td>1000_4</td>\n",
       "      <td>2018-12-05</td>\n",
       "    </tr>\n",
       "  </tbody>\n",
       "</table>\n",
       "</div>"
      ],
      "text/plain": [
       "   user_id  age churn_date       city first_name  last_name    reg_date  \\\n",
       "0     1000   52        NaN  Краснодар     Рафаил  Верещагин  2018-05-25   \n",
       "1     1000   52        NaN  Краснодар     Рафаил  Верещагин  2018-05-25   \n",
       "2     1000   52        NaN  Краснодар     Рафаил  Верещагин  2018-05-25   \n",
       "3     1000   52        NaN  Краснодар     Рафаил  Верещагин  2018-05-25   \n",
       "4     1000   52        NaN  Краснодар     Рафаил  Верещагин  2018-05-25   \n",
       "\n",
       "  tariff      id message_date  \n",
       "0  ultra  1000_0   2018-06-27  \n",
       "1  ultra  1000_1   2018-10-08  \n",
       "2  ultra  1000_2   2018-08-04  \n",
       "3  ultra  1000_3   2018-06-16  \n",
       "4  ultra  1000_4   2018-12-05  "
      ]
     },
     "execution_count": 459,
     "metadata": {},
     "output_type": "execute_result"
    }
   ],
   "source": [
    "df_user_messages = df_users.merge(df_messages, how='right') # how='right' - отсекли записи, по которым не было сообщений\n",
    "df_user_messages.head()"
   ]
  },
  {
   "cell_type": "markdown",
   "metadata": {},
   "source": [
    "### Количество отправленных сообщений по месяцам по пользователям"
   ]
  },
  {
   "cell_type": "code",
   "execution_count": 460,
   "metadata": {},
   "outputs": [
    {
     "data": {
      "text/html": [
       "<div>\n",
       "<style scoped>\n",
       "    .dataframe tbody tr th:only-of-type {\n",
       "        vertical-align: middle;\n",
       "    }\n",
       "\n",
       "    .dataframe tbody tr th {\n",
       "        vertical-align: top;\n",
       "    }\n",
       "\n",
       "    .dataframe thead th {\n",
       "        text-align: right;\n",
       "    }\n",
       "</style>\n",
       "<table border=\"1\" class=\"dataframe\">\n",
       "  <thead>\n",
       "    <tr style=\"text-align: right;\">\n",
       "      <th></th>\n",
       "      <th>user_id</th>\n",
       "      <th>age</th>\n",
       "      <th>churn_date</th>\n",
       "      <th>city</th>\n",
       "      <th>first_name</th>\n",
       "      <th>last_name</th>\n",
       "      <th>reg_date</th>\n",
       "      <th>tariff</th>\n",
       "      <th>id</th>\n",
       "      <th>message_date</th>\n",
       "      <th>message_date_month</th>\n",
       "    </tr>\n",
       "  </thead>\n",
       "  <tbody>\n",
       "    <tr>\n",
       "      <td>0</td>\n",
       "      <td>1000</td>\n",
       "      <td>52</td>\n",
       "      <td>NaN</td>\n",
       "      <td>Краснодар</td>\n",
       "      <td>Рафаил</td>\n",
       "      <td>Верещагин</td>\n",
       "      <td>2018-05-25</td>\n",
       "      <td>ultra</td>\n",
       "      <td>1000_0</td>\n",
       "      <td>2018-06-27</td>\n",
       "      <td>2018-06</td>\n",
       "    </tr>\n",
       "    <tr>\n",
       "      <td>1</td>\n",
       "      <td>1000</td>\n",
       "      <td>52</td>\n",
       "      <td>NaN</td>\n",
       "      <td>Краснодар</td>\n",
       "      <td>Рафаил</td>\n",
       "      <td>Верещагин</td>\n",
       "      <td>2018-05-25</td>\n",
       "      <td>ultra</td>\n",
       "      <td>1000_1</td>\n",
       "      <td>2018-10-08</td>\n",
       "      <td>2018-10</td>\n",
       "    </tr>\n",
       "    <tr>\n",
       "      <td>2</td>\n",
       "      <td>1000</td>\n",
       "      <td>52</td>\n",
       "      <td>NaN</td>\n",
       "      <td>Краснодар</td>\n",
       "      <td>Рафаил</td>\n",
       "      <td>Верещагин</td>\n",
       "      <td>2018-05-25</td>\n",
       "      <td>ultra</td>\n",
       "      <td>1000_2</td>\n",
       "      <td>2018-08-04</td>\n",
       "      <td>2018-08</td>\n",
       "    </tr>\n",
       "    <tr>\n",
       "      <td>3</td>\n",
       "      <td>1000</td>\n",
       "      <td>52</td>\n",
       "      <td>NaN</td>\n",
       "      <td>Краснодар</td>\n",
       "      <td>Рафаил</td>\n",
       "      <td>Верещагин</td>\n",
       "      <td>2018-05-25</td>\n",
       "      <td>ultra</td>\n",
       "      <td>1000_3</td>\n",
       "      <td>2018-06-16</td>\n",
       "      <td>2018-06</td>\n",
       "    </tr>\n",
       "    <tr>\n",
       "      <td>4</td>\n",
       "      <td>1000</td>\n",
       "      <td>52</td>\n",
       "      <td>NaN</td>\n",
       "      <td>Краснодар</td>\n",
       "      <td>Рафаил</td>\n",
       "      <td>Верещагин</td>\n",
       "      <td>2018-05-25</td>\n",
       "      <td>ultra</td>\n",
       "      <td>1000_4</td>\n",
       "      <td>2018-12-05</td>\n",
       "      <td>2018-12</td>\n",
       "    </tr>\n",
       "  </tbody>\n",
       "</table>\n",
       "</div>"
      ],
      "text/plain": [
       "   user_id  age churn_date       city first_name  last_name    reg_date  \\\n",
       "0     1000   52        NaN  Краснодар     Рафаил  Верещагин  2018-05-25   \n",
       "1     1000   52        NaN  Краснодар     Рафаил  Верещагин  2018-05-25   \n",
       "2     1000   52        NaN  Краснодар     Рафаил  Верещагин  2018-05-25   \n",
       "3     1000   52        NaN  Краснодар     Рафаил  Верещагин  2018-05-25   \n",
       "4     1000   52        NaN  Краснодар     Рафаил  Верещагин  2018-05-25   \n",
       "\n",
       "  tariff      id message_date message_date_month  \n",
       "0  ultra  1000_0   2018-06-27            2018-06  \n",
       "1  ultra  1000_1   2018-10-08            2018-10  \n",
       "2  ultra  1000_2   2018-08-04            2018-08  \n",
       "3  ultra  1000_3   2018-06-16            2018-06  \n",
       "4  ultra  1000_4   2018-12-05            2018-12  "
      ]
     },
     "execution_count": 460,
     "metadata": {},
     "output_type": "execute_result"
    }
   ],
   "source": [
    "df_user_messages['message_date_month'] = df_user_messages['message_date'].apply(lambda x: x[:7])\n",
    "df_user_messages.head()"
   ]
  },
  {
   "cell_type": "code",
   "execution_count": 461,
   "metadata": {
    "scrolled": true
   },
   "outputs": [
    {
     "data": {
      "text/plain": [
       "message_date_month  user_id\n",
       "2018-01             1005        7\n",
       "                    1032       38\n",
       "                    1045        5\n",
       "                    1055       30\n",
       "                    1071       16\n",
       "                               ..\n",
       "2018-12             1493       78\n",
       "                    1495       84\n",
       "                    1496       51\n",
       "                    1497       17\n",
       "                    1499       66\n",
       "Name: id, Length: 2717, dtype: int64"
      ]
     },
     "execution_count": 461,
     "metadata": {},
     "output_type": "execute_result"
    }
   ],
   "source": [
    "df_user_messages.groupby(['message_date_month', 'user_id']).agg('count')['id']"
   ]
  },
  {
   "cell_type": "markdown",
   "metadata": {},
   "source": [
    "Получли данные по количеству сообщений по месяцам и пользователю"
   ]
  },
  {
   "cell_type": "markdown",
   "metadata": {},
   "source": [
    "### Объединим данные таблиц df_users, df_internet"
   ]
  },
  {
   "cell_type": "code",
   "execution_count": 462,
   "metadata": {},
   "outputs": [
    {
     "data": {
      "text/html": [
       "<div>\n",
       "<style scoped>\n",
       "    .dataframe tbody tr th:only-of-type {\n",
       "        vertical-align: middle;\n",
       "    }\n",
       "\n",
       "    .dataframe tbody tr th {\n",
       "        vertical-align: top;\n",
       "    }\n",
       "\n",
       "    .dataframe thead th {\n",
       "        text-align: right;\n",
       "    }\n",
       "</style>\n",
       "<table border=\"1\" class=\"dataframe\">\n",
       "  <thead>\n",
       "    <tr style=\"text-align: right;\">\n",
       "      <th></th>\n",
       "      <th>user_id</th>\n",
       "      <th>age</th>\n",
       "      <th>churn_date</th>\n",
       "      <th>city</th>\n",
       "      <th>first_name</th>\n",
       "      <th>last_name</th>\n",
       "      <th>reg_date</th>\n",
       "      <th>tariff</th>\n",
       "      <th>id</th>\n",
       "      <th>mb_used</th>\n",
       "      <th>session_date</th>\n",
       "    </tr>\n",
       "  </thead>\n",
       "  <tbody>\n",
       "    <tr>\n",
       "      <td>0</td>\n",
       "      <td>1000</td>\n",
       "      <td>52</td>\n",
       "      <td>NaN</td>\n",
       "      <td>Краснодар</td>\n",
       "      <td>Рафаил</td>\n",
       "      <td>Верещагин</td>\n",
       "      <td>2018-05-25</td>\n",
       "      <td>ultra</td>\n",
       "      <td>1000_0</td>\n",
       "      <td>112.949997</td>\n",
       "      <td>2018-11-25</td>\n",
       "    </tr>\n",
       "    <tr>\n",
       "      <td>1</td>\n",
       "      <td>1000</td>\n",
       "      <td>52</td>\n",
       "      <td>NaN</td>\n",
       "      <td>Краснодар</td>\n",
       "      <td>Рафаил</td>\n",
       "      <td>Верещагин</td>\n",
       "      <td>2018-05-25</td>\n",
       "      <td>ultra</td>\n",
       "      <td>1000_1</td>\n",
       "      <td>1052.810059</td>\n",
       "      <td>2018-09-07</td>\n",
       "    </tr>\n",
       "    <tr>\n",
       "      <td>2</td>\n",
       "      <td>1000</td>\n",
       "      <td>52</td>\n",
       "      <td>NaN</td>\n",
       "      <td>Краснодар</td>\n",
       "      <td>Рафаил</td>\n",
       "      <td>Верещагин</td>\n",
       "      <td>2018-05-25</td>\n",
       "      <td>ultra</td>\n",
       "      <td>1000_2</td>\n",
       "      <td>1197.260010</td>\n",
       "      <td>2018-06-25</td>\n",
       "    </tr>\n",
       "    <tr>\n",
       "      <td>3</td>\n",
       "      <td>1000</td>\n",
       "      <td>52</td>\n",
       "      <td>NaN</td>\n",
       "      <td>Краснодар</td>\n",
       "      <td>Рафаил</td>\n",
       "      <td>Верещагин</td>\n",
       "      <td>2018-05-25</td>\n",
       "      <td>ultra</td>\n",
       "      <td>1000_3</td>\n",
       "      <td>550.270020</td>\n",
       "      <td>2018-08-22</td>\n",
       "    </tr>\n",
       "    <tr>\n",
       "      <td>4</td>\n",
       "      <td>1000</td>\n",
       "      <td>52</td>\n",
       "      <td>NaN</td>\n",
       "      <td>Краснодар</td>\n",
       "      <td>Рафаил</td>\n",
       "      <td>Верещагин</td>\n",
       "      <td>2018-05-25</td>\n",
       "      <td>ultra</td>\n",
       "      <td>1000_4</td>\n",
       "      <td>302.559998</td>\n",
       "      <td>2018-09-24</td>\n",
       "    </tr>\n",
       "  </tbody>\n",
       "</table>\n",
       "</div>"
      ],
      "text/plain": [
       "   user_id  age churn_date       city first_name  last_name    reg_date  \\\n",
       "0     1000   52        NaN  Краснодар     Рафаил  Верещагин  2018-05-25   \n",
       "1     1000   52        NaN  Краснодар     Рафаил  Верещагин  2018-05-25   \n",
       "2     1000   52        NaN  Краснодар     Рафаил  Верещагин  2018-05-25   \n",
       "3     1000   52        NaN  Краснодар     Рафаил  Верещагин  2018-05-25   \n",
       "4     1000   52        NaN  Краснодар     Рафаил  Верещагин  2018-05-25   \n",
       "\n",
       "  tariff      id      mb_used session_date  \n",
       "0  ultra  1000_0   112.949997   2018-11-25  \n",
       "1  ultra  1000_1  1052.810059   2018-09-07  \n",
       "2  ultra  1000_2  1197.260010   2018-06-25  \n",
       "3  ultra  1000_3   550.270020   2018-08-22  \n",
       "4  ultra  1000_4   302.559998   2018-09-24  "
      ]
     },
     "execution_count": 462,
     "metadata": {},
     "output_type": "execute_result"
    }
   ],
   "source": [
    "df_user_internet = df_users.merge(df_internet, how='right') # how='right' - отсекли пользователей, которые не пользовались интернетом\n",
    "df_user_internet.head()"
   ]
  },
  {
   "cell_type": "markdown",
   "metadata": {},
   "source": [
    "### Объем израсходованного интернет-трафика по месяцам по пользователям"
   ]
  },
  {
   "cell_type": "code",
   "execution_count": 463,
   "metadata": {
    "scrolled": true
   },
   "outputs": [
    {
     "data": {
      "text/html": [
       "<div>\n",
       "<style scoped>\n",
       "    .dataframe tbody tr th:only-of-type {\n",
       "        vertical-align: middle;\n",
       "    }\n",
       "\n",
       "    .dataframe tbody tr th {\n",
       "        vertical-align: top;\n",
       "    }\n",
       "\n",
       "    .dataframe thead th {\n",
       "        text-align: right;\n",
       "    }\n",
       "</style>\n",
       "<table border=\"1\" class=\"dataframe\">\n",
       "  <thead>\n",
       "    <tr style=\"text-align: right;\">\n",
       "      <th></th>\n",
       "      <th>user_id</th>\n",
       "      <th>age</th>\n",
       "      <th>churn_date</th>\n",
       "      <th>city</th>\n",
       "      <th>first_name</th>\n",
       "      <th>last_name</th>\n",
       "      <th>reg_date</th>\n",
       "      <th>tariff</th>\n",
       "      <th>id</th>\n",
       "      <th>mb_used</th>\n",
       "      <th>session_date</th>\n",
       "      <th>session_date_month</th>\n",
       "    </tr>\n",
       "  </thead>\n",
       "  <tbody>\n",
       "    <tr>\n",
       "      <td>0</td>\n",
       "      <td>1000</td>\n",
       "      <td>52</td>\n",
       "      <td>NaN</td>\n",
       "      <td>Краснодар</td>\n",
       "      <td>Рафаил</td>\n",
       "      <td>Верещагин</td>\n",
       "      <td>2018-05-25</td>\n",
       "      <td>ultra</td>\n",
       "      <td>1000_0</td>\n",
       "      <td>112.949997</td>\n",
       "      <td>2018-11-25</td>\n",
       "      <td>2018-11</td>\n",
       "    </tr>\n",
       "    <tr>\n",
       "      <td>1</td>\n",
       "      <td>1000</td>\n",
       "      <td>52</td>\n",
       "      <td>NaN</td>\n",
       "      <td>Краснодар</td>\n",
       "      <td>Рафаил</td>\n",
       "      <td>Верещагин</td>\n",
       "      <td>2018-05-25</td>\n",
       "      <td>ultra</td>\n",
       "      <td>1000_1</td>\n",
       "      <td>1052.810059</td>\n",
       "      <td>2018-09-07</td>\n",
       "      <td>2018-09</td>\n",
       "    </tr>\n",
       "    <tr>\n",
       "      <td>2</td>\n",
       "      <td>1000</td>\n",
       "      <td>52</td>\n",
       "      <td>NaN</td>\n",
       "      <td>Краснодар</td>\n",
       "      <td>Рафаил</td>\n",
       "      <td>Верещагин</td>\n",
       "      <td>2018-05-25</td>\n",
       "      <td>ultra</td>\n",
       "      <td>1000_2</td>\n",
       "      <td>1197.260010</td>\n",
       "      <td>2018-06-25</td>\n",
       "      <td>2018-06</td>\n",
       "    </tr>\n",
       "    <tr>\n",
       "      <td>3</td>\n",
       "      <td>1000</td>\n",
       "      <td>52</td>\n",
       "      <td>NaN</td>\n",
       "      <td>Краснодар</td>\n",
       "      <td>Рафаил</td>\n",
       "      <td>Верещагин</td>\n",
       "      <td>2018-05-25</td>\n",
       "      <td>ultra</td>\n",
       "      <td>1000_3</td>\n",
       "      <td>550.270020</td>\n",
       "      <td>2018-08-22</td>\n",
       "      <td>2018-08</td>\n",
       "    </tr>\n",
       "    <tr>\n",
       "      <td>4</td>\n",
       "      <td>1000</td>\n",
       "      <td>52</td>\n",
       "      <td>NaN</td>\n",
       "      <td>Краснодар</td>\n",
       "      <td>Рафаил</td>\n",
       "      <td>Верещагин</td>\n",
       "      <td>2018-05-25</td>\n",
       "      <td>ultra</td>\n",
       "      <td>1000_4</td>\n",
       "      <td>302.559998</td>\n",
       "      <td>2018-09-24</td>\n",
       "      <td>2018-09</td>\n",
       "    </tr>\n",
       "  </tbody>\n",
       "</table>\n",
       "</div>"
      ],
      "text/plain": [
       "   user_id  age churn_date       city first_name  last_name    reg_date  \\\n",
       "0     1000   52        NaN  Краснодар     Рафаил  Верещагин  2018-05-25   \n",
       "1     1000   52        NaN  Краснодар     Рафаил  Верещагин  2018-05-25   \n",
       "2     1000   52        NaN  Краснодар     Рафаил  Верещагин  2018-05-25   \n",
       "3     1000   52        NaN  Краснодар     Рафаил  Верещагин  2018-05-25   \n",
       "4     1000   52        NaN  Краснодар     Рафаил  Верещагин  2018-05-25   \n",
       "\n",
       "  tariff      id      mb_used session_date session_date_month  \n",
       "0  ultra  1000_0   112.949997   2018-11-25            2018-11  \n",
       "1  ultra  1000_1  1052.810059   2018-09-07            2018-09  \n",
       "2  ultra  1000_2  1197.260010   2018-06-25            2018-06  \n",
       "3  ultra  1000_3   550.270020   2018-08-22            2018-08  \n",
       "4  ultra  1000_4   302.559998   2018-09-24            2018-09  "
      ]
     },
     "execution_count": 463,
     "metadata": {},
     "output_type": "execute_result"
    }
   ],
   "source": [
    "df_user_internet['session_date_month'] = df_user_internet['session_date'].apply(lambda x: x[:7])\n",
    "df_user_internet.head()"
   ]
  },
  {
   "cell_type": "code",
   "execution_count": 464,
   "metadata": {
    "scrolled": true
   },
   "outputs": [
    {
     "data": {
      "text/plain": [
       "session_date_month  user_id\n",
       "2018-01             1005        2727.969971\n",
       "                    1032       24127.689453\n",
       "                    1045        2346.709961\n",
       "                    1055       17090.880859\n",
       "                    1071       15604.339844\n",
       "                                   ...     \n",
       "2018-12             1494       17621.210938\n",
       "                    1495       23426.759766\n",
       "                    1496       20736.150391\n",
       "                    1497       19918.599609\n",
       "                    1499       13055.580078\n",
       "Name: mb_used, Length: 3203, dtype: float32"
      ]
     },
     "execution_count": 464,
     "metadata": {},
     "output_type": "execute_result"
    }
   ],
   "source": [
    "df_user_internet.groupby(['session_date_month', 'user_id']).agg('sum')['mb_used']"
   ]
  },
  {
   "cell_type": "markdown",
   "metadata": {},
   "source": [
    "Получли данные по объему траффика(мб) по месяцам и пользователю"
   ]
  },
  {
   "cell_type": "markdown",
   "metadata": {},
   "source": [
    "### Помесячная выручка с каждого пользователя (вычтите бесплатный лимит из суммарного количества звонков, сообщений и интернет-трафика; остаток умножьте на значение из тарифного плана; прибавьте абонентскую плату, соответствующую тарифному плану)"
   ]
  },
  {
   "cell_type": "code",
   "execution_count": 465,
   "metadata": {},
   "outputs": [
    {
     "data": {
      "text/html": [
       "<div>\n",
       "<style scoped>\n",
       "    .dataframe tbody tr th:only-of-type {\n",
       "        vertical-align: middle;\n",
       "    }\n",
       "\n",
       "    .dataframe tbody tr th {\n",
       "        vertical-align: top;\n",
       "    }\n",
       "\n",
       "    .dataframe thead th {\n",
       "        text-align: right;\n",
       "    }\n",
       "</style>\n",
       "<table border=\"1\" class=\"dataframe\">\n",
       "  <thead>\n",
       "    <tr style=\"text-align: right;\">\n",
       "      <th></th>\n",
       "      <th>id</th>\n",
       "      <th>mb_used</th>\n",
       "      <th>session_date</th>\n",
       "      <th>user_id</th>\n",
       "    </tr>\n",
       "  </thead>\n",
       "  <tbody>\n",
       "    <tr>\n",
       "      <td>5844</td>\n",
       "      <td>1017_284</td>\n",
       "      <td>0.0</td>\n",
       "      <td>2018-08-13</td>\n",
       "      <td>1017</td>\n",
       "    </tr>\n",
       "  </tbody>\n",
       "</table>\n",
       "</div>"
      ],
      "text/plain": [
       "            id  mb_used session_date  user_id\n",
       "5844  1017_284      0.0   2018-08-13     1017"
      ]
     },
     "execution_count": 465,
     "metadata": {},
     "output_type": "execute_result"
    }
   ],
   "source": [
    "df_internet.sample()"
   ]
  },
  {
   "cell_type": "code",
   "execution_count": 466,
   "metadata": {},
   "outputs": [],
   "source": [
    "df_internet.columns = ['id', 'gb_used', 'session_date', 'user_id']"
   ]
  },
  {
   "cell_type": "markdown",
   "metadata": {},
   "source": [
    "Приведем к единому типу данные"
   ]
  },
  {
   "cell_type": "code",
   "execution_count": 467,
   "metadata": {},
   "outputs": [],
   "source": [
    "df_internet['gb_used'] = df_internet['gb_used'] / 1024"
   ]
  },
  {
   "cell_type": "code",
   "execution_count": 468,
   "metadata": {},
   "outputs": [],
   "source": [
    "df_calls['call_date_month'] = df_calls['call_date'].apply(lambda x: x[:7])\n",
    "df_messages['message_date_month'] = df_messages['message_date'].apply(lambda x: x[:7])\n",
    "df_internet['session_date_month'] = df_internet['session_date'].apply(lambda x: x[:7])"
   ]
  },
  {
   "cell_type": "code",
   "execution_count": 469,
   "metadata": {
    "scrolled": true
   },
   "outputs": [
    {
     "data": {
      "text/html": [
       "<div>\n",
       "<style scoped>\n",
       "    .dataframe tbody tr th:only-of-type {\n",
       "        vertical-align: middle;\n",
       "    }\n",
       "\n",
       "    .dataframe tbody tr th {\n",
       "        vertical-align: top;\n",
       "    }\n",
       "\n",
       "    .dataframe thead th {\n",
       "        text-align: right;\n",
       "    }\n",
       "</style>\n",
       "<table border=\"1\" class=\"dataframe\">\n",
       "  <thead>\n",
       "    <tr style=\"text-align: right;\">\n",
       "      <th></th>\n",
       "      <th>user_id</th>\n",
       "      <th>age</th>\n",
       "      <th>churn_date</th>\n",
       "      <th>city</th>\n",
       "      <th>first_name</th>\n",
       "      <th>last_name</th>\n",
       "      <th>reg_date</th>\n",
       "      <th>tariff</th>\n",
       "      <th>id</th>\n",
       "      <th>call_date</th>\n",
       "      <th>...</th>\n",
       "      <th>gb_used</th>\n",
       "      <th>session_date</th>\n",
       "      <th>session_date_month</th>\n",
       "      <th>messages_included</th>\n",
       "      <th>gb_per_month_included</th>\n",
       "      <th>minutes_included</th>\n",
       "      <th>rub_monthly_fee</th>\n",
       "      <th>rub_per_gb</th>\n",
       "      <th>rub_per_message</th>\n",
       "      <th>rub_per_minute</th>\n",
       "    </tr>\n",
       "  </thead>\n",
       "  <tbody>\n",
       "    <tr>\n",
       "      <td>0</td>\n",
       "      <td>1000</td>\n",
       "      <td>52.0</td>\n",
       "      <td>NaN</td>\n",
       "      <td>Краснодар</td>\n",
       "      <td>Рафаил</td>\n",
       "      <td>Верещагин</td>\n",
       "      <td>2018-05-25</td>\n",
       "      <td>ultra</td>\n",
       "      <td>1000_0</td>\n",
       "      <td>2018-07-25</td>\n",
       "      <td>...</td>\n",
       "      <td>0.110303</td>\n",
       "      <td>2018-11-25</td>\n",
       "      <td>2018-11</td>\n",
       "      <td>1000</td>\n",
       "      <td>30.0</td>\n",
       "      <td>3000</td>\n",
       "      <td>1950</td>\n",
       "      <td>150</td>\n",
       "      <td>1</td>\n",
       "      <td>1</td>\n",
       "    </tr>\n",
       "    <tr>\n",
       "      <td>1</td>\n",
       "      <td>1000</td>\n",
       "      <td>52.0</td>\n",
       "      <td>NaN</td>\n",
       "      <td>Краснодар</td>\n",
       "      <td>Рафаил</td>\n",
       "      <td>Верещагин</td>\n",
       "      <td>2018-05-25</td>\n",
       "      <td>ultra</td>\n",
       "      <td>1000_1</td>\n",
       "      <td>2018-08-17</td>\n",
       "      <td>...</td>\n",
       "      <td>1.028135</td>\n",
       "      <td>2018-09-07</td>\n",
       "      <td>2018-09</td>\n",
       "      <td>1000</td>\n",
       "      <td>30.0</td>\n",
       "      <td>3000</td>\n",
       "      <td>1950</td>\n",
       "      <td>150</td>\n",
       "      <td>1</td>\n",
       "      <td>1</td>\n",
       "    </tr>\n",
       "    <tr>\n",
       "      <td>2</td>\n",
       "      <td>1000</td>\n",
       "      <td>52.0</td>\n",
       "      <td>NaN</td>\n",
       "      <td>Краснодар</td>\n",
       "      <td>Рафаил</td>\n",
       "      <td>Верещагин</td>\n",
       "      <td>2018-05-25</td>\n",
       "      <td>ultra</td>\n",
       "      <td>1000_2</td>\n",
       "      <td>2018-06-11</td>\n",
       "      <td>...</td>\n",
       "      <td>1.169199</td>\n",
       "      <td>2018-06-25</td>\n",
       "      <td>2018-06</td>\n",
       "      <td>1000</td>\n",
       "      <td>30.0</td>\n",
       "      <td>3000</td>\n",
       "      <td>1950</td>\n",
       "      <td>150</td>\n",
       "      <td>1</td>\n",
       "      <td>1</td>\n",
       "    </tr>\n",
       "    <tr>\n",
       "      <td>3</td>\n",
       "      <td>1000</td>\n",
       "      <td>52.0</td>\n",
       "      <td>NaN</td>\n",
       "      <td>Краснодар</td>\n",
       "      <td>Рафаил</td>\n",
       "      <td>Верещагин</td>\n",
       "      <td>2018-05-25</td>\n",
       "      <td>ultra</td>\n",
       "      <td>1000_3</td>\n",
       "      <td>2018-09-21</td>\n",
       "      <td>...</td>\n",
       "      <td>0.537373</td>\n",
       "      <td>2018-08-22</td>\n",
       "      <td>2018-08</td>\n",
       "      <td>1000</td>\n",
       "      <td>30.0</td>\n",
       "      <td>3000</td>\n",
       "      <td>1950</td>\n",
       "      <td>150</td>\n",
       "      <td>1</td>\n",
       "      <td>1</td>\n",
       "    </tr>\n",
       "    <tr>\n",
       "      <td>4</td>\n",
       "      <td>1000</td>\n",
       "      <td>52.0</td>\n",
       "      <td>NaN</td>\n",
       "      <td>Краснодар</td>\n",
       "      <td>Рафаил</td>\n",
       "      <td>Верещагин</td>\n",
       "      <td>2018-05-25</td>\n",
       "      <td>ultra</td>\n",
       "      <td>1000_4</td>\n",
       "      <td>2018-12-15</td>\n",
       "      <td>...</td>\n",
       "      <td>0.295469</td>\n",
       "      <td>2018-09-24</td>\n",
       "      <td>2018-09</td>\n",
       "      <td>1000</td>\n",
       "      <td>30.0</td>\n",
       "      <td>3000</td>\n",
       "      <td>1950</td>\n",
       "      <td>150</td>\n",
       "      <td>1</td>\n",
       "      <td>1</td>\n",
       "    </tr>\n",
       "  </tbody>\n",
       "</table>\n",
       "<p>5 rows × 24 columns</p>\n",
       "</div>"
      ],
      "text/plain": [
       "   user_id   age churn_date       city first_name  last_name    reg_date  \\\n",
       "0     1000  52.0        NaN  Краснодар     Рафаил  Верещагин  2018-05-25   \n",
       "1     1000  52.0        NaN  Краснодар     Рафаил  Верещагин  2018-05-25   \n",
       "2     1000  52.0        NaN  Краснодар     Рафаил  Верещагин  2018-05-25   \n",
       "3     1000  52.0        NaN  Краснодар     Рафаил  Верещагин  2018-05-25   \n",
       "4     1000  52.0        NaN  Краснодар     Рафаил  Верещагин  2018-05-25   \n",
       "\n",
       "  tariff      id   call_date  ...   gb_used session_date session_date_month  \\\n",
       "0  ultra  1000_0  2018-07-25  ...  0.110303   2018-11-25            2018-11   \n",
       "1  ultra  1000_1  2018-08-17  ...  1.028135   2018-09-07            2018-09   \n",
       "2  ultra  1000_2  2018-06-11  ...  1.169199   2018-06-25            2018-06   \n",
       "3  ultra  1000_3  2018-09-21  ...  0.537373   2018-08-22            2018-08   \n",
       "4  ultra  1000_4  2018-12-15  ...  0.295469   2018-09-24            2018-09   \n",
       "\n",
       "  messages_included  gb_per_month_included minutes_included rub_monthly_fee  \\\n",
       "0              1000                   30.0             3000            1950   \n",
       "1              1000                   30.0             3000            1950   \n",
       "2              1000                   30.0             3000            1950   \n",
       "3              1000                   30.0             3000            1950   \n",
       "4              1000                   30.0             3000            1950   \n",
       "\n",
       "   rub_per_gb  rub_per_message  rub_per_minute  \n",
       "0         150                1               1  \n",
       "1         150                1               1  \n",
       "2         150                1               1  \n",
       "3         150                1               1  \n",
       "4         150                1               1  \n",
       "\n",
       "[5 rows x 24 columns]"
      ]
     },
     "execution_count": 469,
     "metadata": {},
     "output_type": "execute_result"
    }
   ],
   "source": [
    "total = df_users.merge(df_calls, how='outer')\\\n",
    "    .merge(df_messages, how='outer')\\\n",
    "    .merge(df_internet, how='outer')\\\n",
    "    .merge(df_tariffs, on='tariff')\n",
    "total.head()"
   ]
  },
  {
   "cell_type": "markdown",
   "metadata": {},
   "source": [
    "- Исходя из задачи, если время звонка меньше минуты, то запишем 1 минута, если больше минуты, то поделим на 60, если остатка от деления нет, то запишем результат деления, если остаток есть, то результат деления +1\n",
    "- Для сообщений нет отдельного подсчета, сколько в сумме есть за месяц - столько и считаем\n",
    "- Для подсчета потраченного трафика будем суммировать объемы"
   ]
  },
  {
   "cell_type": "code",
   "execution_count": 470,
   "metadata": {},
   "outputs": [],
   "source": [
    "def change_duration_call(duration):\n",
    "    if duration:\n",
    "        if duration == 0:\n",
    "            return 0\n",
    "        elif duration > 0 and duration < 1:\n",
    "            return 1\n",
    "        elif duration >= 1:\n",
    "            if (duration * 60) % 60:\n",
    "                return math.ceil(duration)\n",
    "            return duration\n",
    "    return duration"
   ]
  },
  {
   "cell_type": "code",
   "execution_count": 471,
   "metadata": {},
   "outputs": [],
   "source": [
    "# total['duration_new'] = total['duration'].apply(change_duration_call)"
   ]
  },
  {
   "cell_type": "code",
   "execution_count": 472,
   "metadata": {},
   "outputs": [],
   "source": [
    "total['duration'] = np.ceil(total['duration'])"
   ]
  },
  {
   "cell_type": "code",
   "execution_count": 473,
   "metadata": {},
   "outputs": [
    {
     "data": {
      "text/plain": [
       "0     0.0\n",
       "1     0.0\n",
       "2     3.0\n",
       "3    14.0\n",
       "4     6.0\n",
       "Name: duration, dtype: float32"
      ]
     },
     "execution_count": 473,
     "metadata": {},
     "output_type": "execute_result"
    }
   ],
   "source": [
    "total['duration'][:5]"
   ]
  },
  {
   "cell_type": "code",
   "execution_count": 474,
   "metadata": {},
   "outputs": [],
   "source": [
    "users = list(total['user_id'].unique())"
   ]
  },
  {
   "cell_type": "code",
   "execution_count": 475,
   "metadata": {},
   "outputs": [
    {
     "data": {
      "text/plain": [
       "[1473, 1091, 1128, 1231, 1328, 1489, 1106, 1371]"
      ]
     },
     "execution_count": 475,
     "metadata": {},
     "output_type": "execute_result"
    }
   ],
   "source": [
    "[1473, 1091, 1128, 1231, 1328, 1489, 1106, 1371]"
   ]
  },
  {
   "cell_type": "code",
   "execution_count": 476,
   "metadata": {},
   "outputs": [],
   "source": [
    "dfs_calls = []\n",
    "dfs_msgs = []\n",
    "dfs_intt = []\n",
    "for i in users:\n",
    "#     dfs_calls.append(total[total['user_id'] == i]\\\n",
    "#                 .groupby(['call_date_month', 'user_id'])\\\n",
    "#                 .agg('count')['duration'].reset_index())\n",
    "    dfs_calls.append(total[total['user_id'] == i]\\\n",
    "                .groupby(['call_date_month', 'user_id'])\\\n",
    "                .agg('sum')['duration'].reset_index())\n",
    "    dfs_msgs.append(total[total['user_id'] == i]\\\n",
    "                .groupby(['message_date_month', 'user_id'])\\\n",
    "                .agg('count')['id'].reset_index())\n",
    "    dfs_intt.append(total[total['user_id'] == i]\\\n",
    "                .groupby(['session_date_month', 'user_id'])\\\n",
    "                .agg('sum')['gb_used'].reset_index())\n",
    "    \n",
    "calls = pd.concat(dfs_calls)\n",
    "# calls['user_id'] = calls['user_id'].apply(lambda x: math.ceil(x))\n",
    "calls['user_id'] = np.ceil(calls['user_id'])\n",
    "calls.columns = ['date_month', 'user_id', 'calls_duration']\n",
    "msgs = pd.concat(dfs_msgs)\n",
    "msgs.columns = ['date_month', 'user_id', 'msg_counts']\n",
    "# msgs['user_id'] = msgs['user_id'].apply(lambda x: math.ceil(x))\n",
    "msgs['user_id'] = np.ceil(msgs['user_id'])\n",
    "intt = pd.concat(dfs_intt)\n",
    "intt.columns = ['date_month', 'user_id', 'gb_used']"
   ]
  },
  {
   "cell_type": "code",
   "execution_count": 477,
   "metadata": {},
   "outputs": [],
   "source": [
    "new_df = calls.merge(msgs, how='outer').merge(intt, how='outer')"
   ]
  },
  {
   "cell_type": "code",
   "execution_count": 478,
   "metadata": {
    "scrolled": false
   },
   "outputs": [
    {
     "data": {
      "text/html": [
       "<div>\n",
       "<style scoped>\n",
       "    .dataframe tbody tr th:only-of-type {\n",
       "        vertical-align: middle;\n",
       "    }\n",
       "\n",
       "    .dataframe tbody tr th {\n",
       "        vertical-align: top;\n",
       "    }\n",
       "\n",
       "    .dataframe thead th {\n",
       "        text-align: right;\n",
       "    }\n",
       "</style>\n",
       "<table border=\"1\" class=\"dataframe\">\n",
       "  <thead>\n",
       "    <tr style=\"text-align: right;\">\n",
       "      <th></th>\n",
       "      <th>date_month</th>\n",
       "      <th>user_id</th>\n",
       "      <th>calls_duration</th>\n",
       "      <th>msg_counts</th>\n",
       "      <th>gb_used</th>\n",
       "      <th>tariff</th>\n",
       "      <th>messages_included</th>\n",
       "      <th>gb_per_month_included</th>\n",
       "      <th>minutes_included</th>\n",
       "      <th>rub_monthly_fee</th>\n",
       "      <th>rub_per_gb</th>\n",
       "      <th>rub_per_message</th>\n",
       "      <th>rub_per_minute</th>\n",
       "    </tr>\n",
       "  </thead>\n",
       "  <tbody>\n",
       "    <tr>\n",
       "      <td>552</td>\n",
       "      <td>2018-04</td>\n",
       "      <td>1330.0</td>\n",
       "      <td>485.0</td>\n",
       "      <td>78.0</td>\n",
       "      <td>32.338097</td>\n",
       "      <td>ultra</td>\n",
       "      <td>1000</td>\n",
       "      <td>30.0</td>\n",
       "      <td>3000</td>\n",
       "      <td>1950</td>\n",
       "      <td>150</td>\n",
       "      <td>1</td>\n",
       "      <td>1</td>\n",
       "    </tr>\n",
       "    <tr>\n",
       "      <td>1830</td>\n",
       "      <td>2018-03</td>\n",
       "      <td>1188.0</td>\n",
       "      <td>46.0</td>\n",
       "      <td>3.0</td>\n",
       "      <td>1.727109</td>\n",
       "      <td>smart</td>\n",
       "      <td>50</td>\n",
       "      <td>15.0</td>\n",
       "      <td>500</td>\n",
       "      <td>550</td>\n",
       "      <td>200</td>\n",
       "      <td>3</td>\n",
       "      <td>3</td>\n",
       "    </tr>\n",
       "    <tr>\n",
       "      <td>461</td>\n",
       "      <td>2018-12</td>\n",
       "      <td>1276.0</td>\n",
       "      <td>361.0</td>\n",
       "      <td>29.0</td>\n",
       "      <td>25.047607</td>\n",
       "      <td>ultra</td>\n",
       "      <td>1000</td>\n",
       "      <td>30.0</td>\n",
       "      <td>3000</td>\n",
       "      <td>1950</td>\n",
       "      <td>150</td>\n",
       "      <td>1</td>\n",
       "      <td>1</td>\n",
       "    </tr>\n",
       "    <tr>\n",
       "      <td>2316</td>\n",
       "      <td>2018-03</td>\n",
       "      <td>1299.0</td>\n",
       "      <td>714.0</td>\n",
       "      <td>38.0</td>\n",
       "      <td>21.136797</td>\n",
       "      <td>smart</td>\n",
       "      <td>50</td>\n",
       "      <td>15.0</td>\n",
       "      <td>500</td>\n",
       "      <td>550</td>\n",
       "      <td>200</td>\n",
       "      <td>3</td>\n",
       "      <td>3</td>\n",
       "    </tr>\n",
       "    <tr>\n",
       "      <td>2080</td>\n",
       "      <td>2018-08</td>\n",
       "      <td>1244.0</td>\n",
       "      <td>515.0</td>\n",
       "      <td>72.0</td>\n",
       "      <td>19.398741</td>\n",
       "      <td>smart</td>\n",
       "      <td>50</td>\n",
       "      <td>15.0</td>\n",
       "      <td>500</td>\n",
       "      <td>550</td>\n",
       "      <td>200</td>\n",
       "      <td>3</td>\n",
       "      <td>3</td>\n",
       "    </tr>\n",
       "  </tbody>\n",
       "</table>\n",
       "</div>"
      ],
      "text/plain": [
       "     date_month  user_id  calls_duration  msg_counts    gb_used tariff  \\\n",
       "552     2018-04   1330.0           485.0        78.0  32.338097  ultra   \n",
       "1830    2018-03   1188.0            46.0         3.0   1.727109  smart   \n",
       "461     2018-12   1276.0           361.0        29.0  25.047607  ultra   \n",
       "2316    2018-03   1299.0           714.0        38.0  21.136797  smart   \n",
       "2080    2018-08   1244.0           515.0        72.0  19.398741  smart   \n",
       "\n",
       "      messages_included  gb_per_month_included  minutes_included  \\\n",
       "552                1000                   30.0              3000   \n",
       "1830                 50                   15.0               500   \n",
       "461                1000                   30.0              3000   \n",
       "2316                 50                   15.0               500   \n",
       "2080                 50                   15.0               500   \n",
       "\n",
       "      rub_monthly_fee  rub_per_gb  rub_per_message  rub_per_minute  \n",
       "552              1950         150                1               1  \n",
       "1830              550         200                3               3  \n",
       "461              1950         150                1               1  \n",
       "2316              550         200                3               3  \n",
       "2080              550         200                3               3  "
      ]
     },
     "execution_count": 478,
     "metadata": {},
     "output_type": "execute_result"
    }
   ],
   "source": [
    "df_final = new_df.merge(df_user_tariff, on='user_id').fillna(0)\n",
    "df_final.sample(5)"
   ]
  },
  {
   "cell_type": "code",
   "execution_count": 479,
   "metadata": {
    "scrolled": true
   },
   "outputs": [],
   "source": [
    "lost_users = list(set(list(total['user_id'].unique())) - set(list(df_final.user_id.unique())))"
   ]
  },
  {
   "cell_type": "code",
   "execution_count": 480,
   "metadata": {
    "scrolled": true
   },
   "outputs": [
    {
     "data": {
      "text/plain": [
       "492"
      ]
     },
     "execution_count": 480,
     "metadata": {},
     "output_type": "execute_result"
    }
   ],
   "source": [
    "df_final.user_id.nunique()"
   ]
  },
  {
   "cell_type": "code",
   "execution_count": 481,
   "metadata": {},
   "outputs": [],
   "source": [
    "lost_col = df_users.query(\"user_id in @lost_users\")[['user_id', 'tariff']].merge(df_tariffs, how='outer')\n",
    "lost_col['date_month'] = '2018-13'"
   ]
  },
  {
   "cell_type": "code",
   "execution_count": 482,
   "metadata": {},
   "outputs": [],
   "source": [
    "df_final = df_final.append(lost_col, ignore_index=True)"
   ]
  },
  {
   "cell_type": "code",
   "execution_count": 483,
   "metadata": {},
   "outputs": [
    {
     "data": {
      "text/plain": [
       "500"
      ]
     },
     "execution_count": 483,
     "metadata": {},
     "output_type": "execute_result"
    }
   ],
   "source": [
    "df_final.user_id.nunique()"
   ]
  },
  {
   "cell_type": "code",
   "execution_count": 484,
   "metadata": {},
   "outputs": [],
   "source": [
    "def total_month_fee_count(x):\n",
    "    x['total_fee'] = 0\n",
    "    for index, row in x.iterrows():\n",
    "        total_fee = 0\n",
    "        \n",
    "        # сколько было звонков сделано\n",
    "        calls = row['calls_duration'] - row['minutes_included']\n",
    "        #print(f'calls {calls}')\n",
    "        \n",
    "        # сколько было сообщений отправлено\n",
    "        msgs = row['msg_counts'] - row['messages_included']\n",
    "        #print(f'msgs {msgs}')\n",
    "            \n",
    "        # сколько гигабайт\n",
    "        intt = row['gb_used'] - row['gb_per_month_included']\n",
    "        #print(f'intt {intt}')\n",
    "    \n",
    "        if calls > 0:\n",
    "            total_fee += calls * row['rub_per_minute']\n",
    "            #print(f'total_fee {total_fee}')\n",
    "        if msgs > 0:\n",
    "            total_fee += msgs * row['rub_per_message']\n",
    "            #print(f'total_fee {total_fee}')\n",
    "        if intt > 0:\n",
    "            total_fee += math.ceil(intt) * row['rub_per_gb']\n",
    "            #print(f'total_fee {total_fee}')\n",
    "        \n",
    "        total_fee += row['rub_monthly_fee']\n",
    "        #print(f'total_fee {total_fee}')\n",
    "        x.loc[index, 'total_fee'] = total_fee\n",
    "        #print(index)        \n",
    "        #print('*'*50)"
   ]
  },
  {
   "cell_type": "code",
   "execution_count": 485,
   "metadata": {},
   "outputs": [],
   "source": [
    "total_month_fee_count(df_final)"
   ]
  },
  {
   "cell_type": "code",
   "execution_count": 486,
   "metadata": {
    "scrolled": true
   },
   "outputs": [
    {
     "data": {
      "text/html": [
       "<div>\n",
       "<style scoped>\n",
       "    .dataframe tbody tr th:only-of-type {\n",
       "        vertical-align: middle;\n",
       "    }\n",
       "\n",
       "    .dataframe tbody tr th {\n",
       "        vertical-align: top;\n",
       "    }\n",
       "\n",
       "    .dataframe thead th {\n",
       "        text-align: right;\n",
       "    }\n",
       "</style>\n",
       "<table border=\"1\" class=\"dataframe\">\n",
       "  <thead>\n",
       "    <tr style=\"text-align: right;\">\n",
       "      <th></th>\n",
       "      <th>calls_duration</th>\n",
       "      <th>date_month</th>\n",
       "      <th>gb_per_month_included</th>\n",
       "      <th>gb_used</th>\n",
       "      <th>messages_included</th>\n",
       "      <th>minutes_included</th>\n",
       "      <th>msg_counts</th>\n",
       "      <th>rub_monthly_fee</th>\n",
       "      <th>rub_per_gb</th>\n",
       "      <th>rub_per_message</th>\n",
       "      <th>rub_per_minute</th>\n",
       "      <th>tariff</th>\n",
       "      <th>user_id</th>\n",
       "      <th>total_fee</th>\n",
       "    </tr>\n",
       "  </thead>\n",
       "  <tbody>\n",
       "    <tr>\n",
       "      <td>1424</td>\n",
       "      <td>330.0</td>\n",
       "      <td>2018-12</td>\n",
       "      <td>15.0</td>\n",
       "      <td>10.026953</td>\n",
       "      <td>50</td>\n",
       "      <td>500</td>\n",
       "      <td>0.0</td>\n",
       "      <td>550</td>\n",
       "      <td>200</td>\n",
       "      <td>3</td>\n",
       "      <td>3</td>\n",
       "      <td>smart</td>\n",
       "      <td>1107.0</td>\n",
       "      <td>550.0</td>\n",
       "    </tr>\n",
       "    <tr>\n",
       "      <td>231</td>\n",
       "      <td>633.0</td>\n",
       "      <td>2018-09</td>\n",
       "      <td>30.0</td>\n",
       "      <td>22.147676</td>\n",
       "      <td>1000</td>\n",
       "      <td>3000</td>\n",
       "      <td>0.0</td>\n",
       "      <td>1950</td>\n",
       "      <td>150</td>\n",
       "      <td>1</td>\n",
       "      <td>1</td>\n",
       "      <td>ultra</td>\n",
       "      <td>1143.0</td>\n",
       "      <td>1950.0</td>\n",
       "    </tr>\n",
       "    <tr>\n",
       "      <td>2441</td>\n",
       "      <td>754.0</td>\n",
       "      <td>2018-12</td>\n",
       "      <td>15.0</td>\n",
       "      <td>19.749004</td>\n",
       "      <td>50</td>\n",
       "      <td>500</td>\n",
       "      <td>96.0</td>\n",
       "      <td>550</td>\n",
       "      <td>200</td>\n",
       "      <td>3</td>\n",
       "      <td>3</td>\n",
       "      <td>smart</td>\n",
       "      <td>1324.0</td>\n",
       "      <td>2450.0</td>\n",
       "    </tr>\n",
       "    <tr>\n",
       "      <td>3103</td>\n",
       "      <td>331.0</td>\n",
       "      <td>2018-08</td>\n",
       "      <td>15.0</td>\n",
       "      <td>18.770821</td>\n",
       "      <td>50</td>\n",
       "      <td>500</td>\n",
       "      <td>40.0</td>\n",
       "      <td>550</td>\n",
       "      <td>200</td>\n",
       "      <td>3</td>\n",
       "      <td>3</td>\n",
       "      <td>smart</td>\n",
       "      <td>1482.0</td>\n",
       "      <td>1350.0</td>\n",
       "    </tr>\n",
       "    <tr>\n",
       "      <td>374</td>\n",
       "      <td>175.0</td>\n",
       "      <td>2018-10</td>\n",
       "      <td>30.0</td>\n",
       "      <td>8.596240</td>\n",
       "      <td>1000</td>\n",
       "      <td>3000</td>\n",
       "      <td>21.0</td>\n",
       "      <td>1950</td>\n",
       "      <td>150</td>\n",
       "      <td>1</td>\n",
       "      <td>1</td>\n",
       "      <td>ultra</td>\n",
       "      <td>1226.0</td>\n",
       "      <td>1950.0</td>\n",
       "    </tr>\n",
       "  </tbody>\n",
       "</table>\n",
       "</div>"
      ],
      "text/plain": [
       "      calls_duration date_month  gb_per_month_included    gb_used  \\\n",
       "1424           330.0    2018-12                   15.0  10.026953   \n",
       "231            633.0    2018-09                   30.0  22.147676   \n",
       "2441           754.0    2018-12                   15.0  19.749004   \n",
       "3103           331.0    2018-08                   15.0  18.770821   \n",
       "374            175.0    2018-10                   30.0   8.596240   \n",
       "\n",
       "      messages_included  minutes_included  msg_counts  rub_monthly_fee  \\\n",
       "1424                 50               500         0.0              550   \n",
       "231                1000              3000         0.0             1950   \n",
       "2441                 50               500        96.0              550   \n",
       "3103                 50               500        40.0              550   \n",
       "374                1000              3000        21.0             1950   \n",
       "\n",
       "      rub_per_gb  rub_per_message  rub_per_minute tariff  user_id  total_fee  \n",
       "1424         200                3               3  smart   1107.0      550.0  \n",
       "231          150                1               1  ultra   1143.0     1950.0  \n",
       "2441         200                3               3  smart   1324.0     2450.0  \n",
       "3103         200                3               3  smart   1482.0     1350.0  \n",
       "374          150                1               1  ultra   1226.0     1950.0  "
      ]
     },
     "execution_count": 486,
     "metadata": {},
     "output_type": "execute_result"
    }
   ],
   "source": [
    "df_final.sample(5)"
   ]
  },
  {
   "cell_type": "code",
   "execution_count": 487,
   "metadata": {},
   "outputs": [
    {
     "data": {
      "text/plain": [
       "count    3184.000000\n",
       "mean     1374.613693\n",
       "std       778.829394\n",
       "min       550.000000\n",
       "25%       550.000000\n",
       "50%      1350.000000\n",
       "75%      1950.000000\n",
       "max      6770.000000\n",
       "Name: total_fee, dtype: float64"
      ]
     },
     "execution_count": 487,
     "metadata": {},
     "output_type": "execute_result"
    }
   ],
   "source": [
    "df_final['total_fee'].describe()"
   ]
  },
  {
   "cell_type": "markdown",
   "metadata": {},
   "source": [
    "## Анализ данных"
   ]
  },
  {
   "cell_type": "markdown",
   "metadata": {},
   "source": [
    "### Сколько минут разговора, сколько сообщений и какой объём интернет-трафика требуется пользователям каждого тарифа в месяц. Посчитайте среднее количество, дисперсию и стандартное отклонение"
   ]
  },
  {
   "cell_type": "code",
   "execution_count": 488,
   "metadata": {},
   "outputs": [
    {
     "data": {
      "text/html": [
       "<div>\n",
       "<style scoped>\n",
       "    .dataframe tbody tr th:only-of-type {\n",
       "        vertical-align: middle;\n",
       "    }\n",
       "\n",
       "    .dataframe tbody tr th {\n",
       "        vertical-align: top;\n",
       "    }\n",
       "\n",
       "    .dataframe thead th {\n",
       "        text-align: right;\n",
       "    }\n",
       "</style>\n",
       "<table border=\"1\" class=\"dataframe\">\n",
       "  <thead>\n",
       "    <tr style=\"text-align: right;\">\n",
       "      <th></th>\n",
       "      <th></th>\n",
       "      <th>calls_duration</th>\n",
       "      <th>msg_counts</th>\n",
       "      <th>gb_used</th>\n",
       "    </tr>\n",
       "    <tr>\n",
       "      <th>date_month</th>\n",
       "      <th>tariff</th>\n",
       "      <th></th>\n",
       "      <th></th>\n",
       "      <th></th>\n",
       "    </tr>\n",
       "  </thead>\n",
       "  <tbody>\n",
       "    <tr>\n",
       "      <td rowspan=\"2\" valign=\"top\">2018-01</td>\n",
       "      <td>smart</td>\n",
       "      <td>203.852936</td>\n",
       "      <td>15.852941</td>\n",
       "      <td>7.044701</td>\n",
       "    </tr>\n",
       "    <tr>\n",
       "      <td>ultra</td>\n",
       "      <td>428.111115</td>\n",
       "      <td>29.000000</td>\n",
       "      <td>12.299184</td>\n",
       "    </tr>\n",
       "    <tr>\n",
       "      <td rowspan=\"2\" valign=\"top\">2018-02</td>\n",
       "      <td>smart</td>\n",
       "      <td>298.689667</td>\n",
       "      <td>20.931034</td>\n",
       "      <td>9.623157</td>\n",
       "    </tr>\n",
       "    <tr>\n",
       "      <td>ultra</td>\n",
       "      <td>297.125000</td>\n",
       "      <td>16.916667</td>\n",
       "      <td>9.661793</td>\n",
       "    </tr>\n",
       "    <tr>\n",
       "      <td rowspan=\"2\" valign=\"top\">2018-03</td>\n",
       "      <td>smart</td>\n",
       "      <td>390.051941</td>\n",
       "      <td>27.493506</td>\n",
       "      <td>12.731711</td>\n",
       "    </tr>\n",
       "    <tr>\n",
       "      <td>ultra</td>\n",
       "      <td>489.648651</td>\n",
       "      <td>24.189189</td>\n",
       "      <td>14.919638</td>\n",
       "    </tr>\n",
       "    <tr>\n",
       "      <td rowspan=\"2\" valign=\"top\">2018-04</td>\n",
       "      <td>smart</td>\n",
       "      <td>367.133942</td>\n",
       "      <td>27.303571</td>\n",
       "      <td>11.685924</td>\n",
       "    </tr>\n",
       "    <tr>\n",
       "      <td>ultra</td>\n",
       "      <td>466.500000</td>\n",
       "      <td>25.629630</td>\n",
       "      <td>15.184475</td>\n",
       "    </tr>\n",
       "    <tr>\n",
       "      <td rowspan=\"2\" valign=\"top\">2018-05</td>\n",
       "      <td>smart</td>\n",
       "      <td>387.361694</td>\n",
       "      <td>29.751773</td>\n",
       "      <td>13.715810</td>\n",
       "    </tr>\n",
       "    <tr>\n",
       "      <td>ultra</td>\n",
       "      <td>534.250000</td>\n",
       "      <td>30.484375</td>\n",
       "      <td>17.520979</td>\n",
       "    </tr>\n",
       "    <tr>\n",
       "      <td rowspan=\"2\" valign=\"top\">2018-06</td>\n",
       "      <td>smart</td>\n",
       "      <td>395.640259</td>\n",
       "      <td>28.945122</td>\n",
       "      <td>13.711230</td>\n",
       "    </tr>\n",
       "    <tr>\n",
       "      <td>ultra</td>\n",
       "      <td>497.469147</td>\n",
       "      <td>29.679012</td>\n",
       "      <td>16.612602</td>\n",
       "    </tr>\n",
       "    <tr>\n",
       "      <td rowspan=\"2\" valign=\"top\">2018-07</td>\n",
       "      <td>smart</td>\n",
       "      <td>408.353241</td>\n",
       "      <td>29.741294</td>\n",
       "      <td>13.530246</td>\n",
       "    </tr>\n",
       "    <tr>\n",
       "      <td>ultra</td>\n",
       "      <td>564.397705</td>\n",
       "      <td>34.465909</td>\n",
       "      <td>17.566935</td>\n",
       "    </tr>\n",
       "    <tr>\n",
       "      <td rowspan=\"2\" valign=\"top\">2018-08</td>\n",
       "      <td>smart</td>\n",
       "      <td>423.269226</td>\n",
       "      <td>29.337607</td>\n",
       "      <td>14.511579</td>\n",
       "    </tr>\n",
       "    <tr>\n",
       "      <td>ultra</td>\n",
       "      <td>530.611633</td>\n",
       "      <td>34.572816</td>\n",
       "      <td>16.969887</td>\n",
       "    </tr>\n",
       "    <tr>\n",
       "      <td rowspan=\"2\" valign=\"top\">2018-09</td>\n",
       "      <td>smart</td>\n",
       "      <td>430.266418</td>\n",
       "      <td>29.386100</td>\n",
       "      <td>14.139348</td>\n",
       "    </tr>\n",
       "    <tr>\n",
       "      <td>ultra</td>\n",
       "      <td>558.882874</td>\n",
       "      <td>38.126126</td>\n",
       "      <td>16.987579</td>\n",
       "    </tr>\n",
       "    <tr>\n",
       "      <td rowspan=\"2\" valign=\"top\">2018-10</td>\n",
       "      <td>smart</td>\n",
       "      <td>427.590454</td>\n",
       "      <td>29.883959</td>\n",
       "      <td>14.535438</td>\n",
       "    </tr>\n",
       "    <tr>\n",
       "      <td>ultra</td>\n",
       "      <td>581.728821</td>\n",
       "      <td>43.042373</td>\n",
       "      <td>17.750061</td>\n",
       "    </tr>\n",
       "    <tr>\n",
       "      <td rowspan=\"2\" valign=\"top\">2018-11</td>\n",
       "      <td>smart</td>\n",
       "      <td>436.647614</td>\n",
       "      <td>29.847619</td>\n",
       "      <td>14.834405</td>\n",
       "    </tr>\n",
       "    <tr>\n",
       "      <td>ultra</td>\n",
       "      <td>562.364319</td>\n",
       "      <td>40.682171</td>\n",
       "      <td>17.417973</td>\n",
       "    </tr>\n",
       "    <tr>\n",
       "      <td rowspan=\"2\" valign=\"top\">2018-12</td>\n",
       "      <td>smart</td>\n",
       "      <td>479.985107</td>\n",
       "      <td>31.339286</td>\n",
       "      <td>15.928720</td>\n",
       "    </tr>\n",
       "    <tr>\n",
       "      <td>ultra</td>\n",
       "      <td>614.925354</td>\n",
       "      <td>44.313433</td>\n",
       "      <td>19.101387</td>\n",
       "    </tr>\n",
       "    <tr>\n",
       "      <td rowspan=\"2\" valign=\"top\">2018-13</td>\n",
       "      <td>smart</td>\n",
       "      <td>NaN</td>\n",
       "      <td>NaN</td>\n",
       "      <td>NaN</td>\n",
       "    </tr>\n",
       "    <tr>\n",
       "      <td>ultra</td>\n",
       "      <td>NaN</td>\n",
       "      <td>NaN</td>\n",
       "      <td>NaN</td>\n",
       "    </tr>\n",
       "  </tbody>\n",
       "</table>\n",
       "</div>"
      ],
      "text/plain": [
       "                   calls_duration  msg_counts    gb_used\n",
       "date_month tariff                                       \n",
       "2018-01    smart       203.852936   15.852941   7.044701\n",
       "           ultra       428.111115   29.000000  12.299184\n",
       "2018-02    smart       298.689667   20.931034   9.623157\n",
       "           ultra       297.125000   16.916667   9.661793\n",
       "2018-03    smart       390.051941   27.493506  12.731711\n",
       "           ultra       489.648651   24.189189  14.919638\n",
       "2018-04    smart       367.133942   27.303571  11.685924\n",
       "           ultra       466.500000   25.629630  15.184475\n",
       "2018-05    smart       387.361694   29.751773  13.715810\n",
       "           ultra       534.250000   30.484375  17.520979\n",
       "2018-06    smart       395.640259   28.945122  13.711230\n",
       "           ultra       497.469147   29.679012  16.612602\n",
       "2018-07    smart       408.353241   29.741294  13.530246\n",
       "           ultra       564.397705   34.465909  17.566935\n",
       "2018-08    smart       423.269226   29.337607  14.511579\n",
       "           ultra       530.611633   34.572816  16.969887\n",
       "2018-09    smart       430.266418   29.386100  14.139348\n",
       "           ultra       558.882874   38.126126  16.987579\n",
       "2018-10    smart       427.590454   29.883959  14.535438\n",
       "           ultra       581.728821   43.042373  17.750061\n",
       "2018-11    smart       436.647614   29.847619  14.834405\n",
       "           ultra       562.364319   40.682171  17.417973\n",
       "2018-12    smart       479.985107   31.339286  15.928720\n",
       "           ultra       614.925354   44.313433  19.101387\n",
       "2018-13    smart              NaN         NaN        NaN\n",
       "           ultra              NaN         NaN        NaN"
      ]
     },
     "execution_count": 488,
     "metadata": {},
     "output_type": "execute_result"
    }
   ],
   "source": [
    "df_final\\\n",
    "    .groupby([\n",
    "        'date_month', \n",
    "        'tariff',\n",
    "])\\\n",
    "    .agg('mean')[\n",
    "    ['calls_duration', 'msg_counts', 'gb_used']\n",
    "]"
   ]
  },
  {
   "cell_type": "markdown",
   "metadata": {},
   "source": [
    "Видим что пользователи тарифа ultra вне зависимости от месяца в среднем больше говорят, в среднем отправляют больше сообщений и в среднем используют больше трафика, чем пользователи тарифа smart"
   ]
  },
  {
   "cell_type": "code",
   "execution_count": 489,
   "metadata": {
    "scrolled": true
   },
   "outputs": [
    {
     "data": {
      "text/html": [
       "<div>\n",
       "<style scoped>\n",
       "    .dataframe tbody tr th:only-of-type {\n",
       "        vertical-align: middle;\n",
       "    }\n",
       "\n",
       "    .dataframe tbody tr th {\n",
       "        vertical-align: top;\n",
       "    }\n",
       "\n",
       "    .dataframe thead th {\n",
       "        text-align: right;\n",
       "    }\n",
       "</style>\n",
       "<table border=\"1\" class=\"dataframe\">\n",
       "  <thead>\n",
       "    <tr style=\"text-align: right;\">\n",
       "      <th></th>\n",
       "      <th></th>\n",
       "      <th>calls_duration</th>\n",
       "      <th>msg_counts</th>\n",
       "      <th>gb_used</th>\n",
       "    </tr>\n",
       "    <tr>\n",
       "      <th>date_month</th>\n",
       "      <th>tariff</th>\n",
       "      <th></th>\n",
       "      <th></th>\n",
       "      <th></th>\n",
       "    </tr>\n",
       "  </thead>\n",
       "  <tbody>\n",
       "    <tr>\n",
       "      <td rowspan=\"2\" valign=\"top\">2018-01</td>\n",
       "      <td>smart</td>\n",
       "      <td>23787.341797</td>\n",
       "      <td>209.583779</td>\n",
       "      <td>40.237705</td>\n",
       "    </tr>\n",
       "    <tr>\n",
       "      <td>ultra</td>\n",
       "      <td>72769.359375</td>\n",
       "      <td>695.250000</td>\n",
       "      <td>40.314194</td>\n",
       "    </tr>\n",
       "    <tr>\n",
       "      <td rowspan=\"2\" valign=\"top\">2018-02</td>\n",
       "      <td>smart</td>\n",
       "      <td>36412.289062</td>\n",
       "      <td>378.381125</td>\n",
       "      <td>36.039902</td>\n",
       "    </tr>\n",
       "    <tr>\n",
       "      <td>ultra</td>\n",
       "      <td>87919.679688</td>\n",
       "      <td>459.210145</td>\n",
       "      <td>97.539642</td>\n",
       "    </tr>\n",
       "    <tr>\n",
       "      <td rowspan=\"2\" valign=\"top\">2018-03</td>\n",
       "      <td>smart</td>\n",
       "      <td>36823.156250</td>\n",
       "      <td>516.016405</td>\n",
       "      <td>34.316383</td>\n",
       "    </tr>\n",
       "    <tr>\n",
       "      <td>ultra</td>\n",
       "      <td>111384.898438</td>\n",
       "      <td>664.657658</td>\n",
       "      <td>82.153542</td>\n",
       "    </tr>\n",
       "    <tr>\n",
       "      <td rowspan=\"2\" valign=\"top\">2018-04</td>\n",
       "      <td>smart</td>\n",
       "      <td>34778.207031</td>\n",
       "      <td>467.997104</td>\n",
       "      <td>30.202419</td>\n",
       "    </tr>\n",
       "    <tr>\n",
       "      <td>ultra</td>\n",
       "      <td>68974.406250</td>\n",
       "      <td>760.841370</td>\n",
       "      <td>63.819229</td>\n",
       "    </tr>\n",
       "    <tr>\n",
       "      <td rowspan=\"2\" valign=\"top\">2018-05</td>\n",
       "      <td>smart</td>\n",
       "      <td>34820.062500</td>\n",
       "      <td>543.602229</td>\n",
       "      <td>33.982052</td>\n",
       "    </tr>\n",
       "    <tr>\n",
       "      <td>ultra</td>\n",
       "      <td>74881.015625</td>\n",
       "      <td>991.999752</td>\n",
       "      <td>79.638245</td>\n",
       "    </tr>\n",
       "    <tr>\n",
       "      <td rowspan=\"2\" valign=\"top\">2018-06</td>\n",
       "      <td>smart</td>\n",
       "      <td>30742.917969</td>\n",
       "      <td>513.769976</td>\n",
       "      <td>33.360287</td>\n",
       "    </tr>\n",
       "    <tr>\n",
       "      <td>ultra</td>\n",
       "      <td>86019.648438</td>\n",
       "      <td>1007.695679</td>\n",
       "      <td>84.158340</td>\n",
       "    </tr>\n",
       "    <tr>\n",
       "      <td rowspan=\"2\" valign=\"top\">2018-07</td>\n",
       "      <td>smart</td>\n",
       "      <td>32250.269531</td>\n",
       "      <td>570.232736</td>\n",
       "      <td>29.666920</td>\n",
       "    </tr>\n",
       "    <tr>\n",
       "      <td>ultra</td>\n",
       "      <td>86952.585938</td>\n",
       "      <td>1060.987330</td>\n",
       "      <td>78.090614</td>\n",
       "    </tr>\n",
       "    <tr>\n",
       "      <td rowspan=\"2\" valign=\"top\">2018-08</td>\n",
       "      <td>smart</td>\n",
       "      <td>34177.269531</td>\n",
       "      <td>558.662356</td>\n",
       "      <td>30.555887</td>\n",
       "    </tr>\n",
       "    <tr>\n",
       "      <td>ultra</td>\n",
       "      <td>91169.554688</td>\n",
       "      <td>1135.443175</td>\n",
       "      <td>95.293648</td>\n",
       "    </tr>\n",
       "    <tr>\n",
       "      <td rowspan=\"2\" valign=\"top\">2018-09</td>\n",
       "      <td>smart</td>\n",
       "      <td>32950.531250</td>\n",
       "      <td>528.811589</td>\n",
       "      <td>27.416590</td>\n",
       "    </tr>\n",
       "    <tr>\n",
       "      <td>ultra</td>\n",
       "      <td>98597.906250</td>\n",
       "      <td>1139.438493</td>\n",
       "      <td>84.061607</td>\n",
       "    </tr>\n",
       "    <tr>\n",
       "      <td rowspan=\"2\" valign=\"top\">2018-10</td>\n",
       "      <td>smart</td>\n",
       "      <td>34889.531250</td>\n",
       "      <td>578.746762</td>\n",
       "      <td>31.167349</td>\n",
       "    </tr>\n",
       "    <tr>\n",
       "      <td>ultra</td>\n",
       "      <td>97140.335938</td>\n",
       "      <td>1457.835796</td>\n",
       "      <td>89.443581</td>\n",
       "    </tr>\n",
       "    <tr>\n",
       "      <td rowspan=\"2\" valign=\"top\">2018-11</td>\n",
       "      <td>smart</td>\n",
       "      <td>31100.611328</td>\n",
       "      <td>553.040400</td>\n",
       "      <td>28.005684</td>\n",
       "    </tr>\n",
       "    <tr>\n",
       "      <td>ultra</td>\n",
       "      <td>88449.625000</td>\n",
       "      <td>1302.374758</td>\n",
       "      <td>90.201035</td>\n",
       "    </tr>\n",
       "    <tr>\n",
       "      <td rowspan=\"2\" valign=\"top\">2018-12</td>\n",
       "      <td>smart</td>\n",
       "      <td>39131.449219</td>\n",
       "      <td>597.812900</td>\n",
       "      <td>30.050123</td>\n",
       "    </tr>\n",
       "    <tr>\n",
       "      <td>ultra</td>\n",
       "      <td>107981.031250</td>\n",
       "      <td>1375.073954</td>\n",
       "      <td>98.068825</td>\n",
       "    </tr>\n",
       "    <tr>\n",
       "      <td rowspan=\"2\" valign=\"top\">2018-13</td>\n",
       "      <td>smart</td>\n",
       "      <td>NaN</td>\n",
       "      <td>NaN</td>\n",
       "      <td>NaN</td>\n",
       "    </tr>\n",
       "    <tr>\n",
       "      <td>ultra</td>\n",
       "      <td>NaN</td>\n",
       "      <td>NaN</td>\n",
       "      <td>NaN</td>\n",
       "    </tr>\n",
       "  </tbody>\n",
       "</table>\n",
       "</div>"
      ],
      "text/plain": [
       "                   calls_duration   msg_counts    gb_used\n",
       "date_month tariff                                        \n",
       "2018-01    smart     23787.341797   209.583779  40.237705\n",
       "           ultra     72769.359375   695.250000  40.314194\n",
       "2018-02    smart     36412.289062   378.381125  36.039902\n",
       "           ultra     87919.679688   459.210145  97.539642\n",
       "2018-03    smart     36823.156250   516.016405  34.316383\n",
       "           ultra    111384.898438   664.657658  82.153542\n",
       "2018-04    smart     34778.207031   467.997104  30.202419\n",
       "           ultra     68974.406250   760.841370  63.819229\n",
       "2018-05    smart     34820.062500   543.602229  33.982052\n",
       "           ultra     74881.015625   991.999752  79.638245\n",
       "2018-06    smart     30742.917969   513.769976  33.360287\n",
       "           ultra     86019.648438  1007.695679  84.158340\n",
       "2018-07    smart     32250.269531   570.232736  29.666920\n",
       "           ultra     86952.585938  1060.987330  78.090614\n",
       "2018-08    smart     34177.269531   558.662356  30.555887\n",
       "           ultra     91169.554688  1135.443175  95.293648\n",
       "2018-09    smart     32950.531250   528.811589  27.416590\n",
       "           ultra     98597.906250  1139.438493  84.061607\n",
       "2018-10    smart     34889.531250   578.746762  31.167349\n",
       "           ultra     97140.335938  1457.835796  89.443581\n",
       "2018-11    smart     31100.611328   553.040400  28.005684\n",
       "           ultra     88449.625000  1302.374758  90.201035\n",
       "2018-12    smart     39131.449219   597.812900  30.050123\n",
       "           ultra    107981.031250  1375.073954  98.068825\n",
       "2018-13    smart              NaN          NaN        NaN\n",
       "           ultra              NaN          NaN        NaN"
      ]
     },
     "execution_count": 489,
     "metadata": {},
     "output_type": "execute_result"
    }
   ],
   "source": [
    "df_final\\\n",
    "    .groupby([\n",
    "        'date_month', \n",
    "        'tariff',\n",
    "])\\\n",
    "    .agg('var')[\n",
    "    ['calls_duration', 'msg_counts', 'gb_used']\n",
    "]"
   ]
  },
  {
   "cell_type": "markdown",
   "metadata": {},
   "source": [
    "Дисперсия или мера разброса значений достаточно высока"
   ]
  },
  {
   "cell_type": "code",
   "execution_count": 490,
   "metadata": {},
   "outputs": [
    {
     "data": {
      "text/html": [
       "<div>\n",
       "<style scoped>\n",
       "    .dataframe tbody tr th:only-of-type {\n",
       "        vertical-align: middle;\n",
       "    }\n",
       "\n",
       "    .dataframe tbody tr th {\n",
       "        vertical-align: top;\n",
       "    }\n",
       "\n",
       "    .dataframe thead th {\n",
       "        text-align: right;\n",
       "    }\n",
       "</style>\n",
       "<table border=\"1\" class=\"dataframe\">\n",
       "  <thead>\n",
       "    <tr style=\"text-align: right;\">\n",
       "      <th></th>\n",
       "      <th></th>\n",
       "      <th>calls_duration</th>\n",
       "      <th>msg_counts</th>\n",
       "      <th>gb_used</th>\n",
       "    </tr>\n",
       "    <tr>\n",
       "      <th>date_month</th>\n",
       "      <th>tariff</th>\n",
       "      <th></th>\n",
       "      <th></th>\n",
       "      <th></th>\n",
       "    </tr>\n",
       "  </thead>\n",
       "  <tbody>\n",
       "    <tr>\n",
       "      <td rowspan=\"2\" valign=\"top\">2018-01</td>\n",
       "      <td>smart</td>\n",
       "      <td>154.231455</td>\n",
       "      <td>14.477009</td>\n",
       "      <td>6.343320</td>\n",
       "    </tr>\n",
       "    <tr>\n",
       "      <td>ultra</td>\n",
       "      <td>269.757964</td>\n",
       "      <td>26.367594</td>\n",
       "      <td>6.349346</td>\n",
       "    </tr>\n",
       "    <tr>\n",
       "      <td rowspan=\"2\" valign=\"top\">2018-02</td>\n",
       "      <td>smart</td>\n",
       "      <td>190.820044</td>\n",
       "      <td>19.452021</td>\n",
       "      <td>6.003324</td>\n",
       "    </tr>\n",
       "    <tr>\n",
       "      <td>ultra</td>\n",
       "      <td>296.512529</td>\n",
       "      <td>21.429189</td>\n",
       "      <td>9.876216</td>\n",
       "    </tr>\n",
       "    <tr>\n",
       "      <td rowspan=\"2\" valign=\"top\">2018-03</td>\n",
       "      <td>smart</td>\n",
       "      <td>191.893607</td>\n",
       "      <td>22.715994</td>\n",
       "      <td>5.858019</td>\n",
       "    </tr>\n",
       "    <tr>\n",
       "      <td>ultra</td>\n",
       "      <td>333.743762</td>\n",
       "      <td>25.780955</td>\n",
       "      <td>9.063859</td>\n",
       "    </tr>\n",
       "    <tr>\n",
       "      <td rowspan=\"2\" valign=\"top\">2018-04</td>\n",
       "      <td>smart</td>\n",
       "      <td>186.489161</td>\n",
       "      <td>21.633241</td>\n",
       "      <td>5.495673</td>\n",
       "    </tr>\n",
       "    <tr>\n",
       "      <td>ultra</td>\n",
       "      <td>262.629789</td>\n",
       "      <td>27.583353</td>\n",
       "      <td>7.988694</td>\n",
       "    </tr>\n",
       "    <tr>\n",
       "      <td rowspan=\"2\" valign=\"top\">2018-05</td>\n",
       "      <td>smart</td>\n",
       "      <td>186.601346</td>\n",
       "      <td>23.315279</td>\n",
       "      <td>5.829413</td>\n",
       "    </tr>\n",
       "    <tr>\n",
       "      <td>ultra</td>\n",
       "      <td>273.643958</td>\n",
       "      <td>31.496028</td>\n",
       "      <td>8.924026</td>\n",
       "    </tr>\n",
       "    <tr>\n",
       "      <td rowspan=\"2\" valign=\"top\">2018-06</td>\n",
       "      <td>smart</td>\n",
       "      <td>175.336585</td>\n",
       "      <td>22.666495</td>\n",
       "      <td>5.775836</td>\n",
       "    </tr>\n",
       "    <tr>\n",
       "      <td>ultra</td>\n",
       "      <td>293.291064</td>\n",
       "      <td>31.744223</td>\n",
       "      <td>9.173786</td>\n",
       "    </tr>\n",
       "    <tr>\n",
       "      <td rowspan=\"2\" valign=\"top\">2018-07</td>\n",
       "      <td>smart</td>\n",
       "      <td>179.583600</td>\n",
       "      <td>23.879546</td>\n",
       "      <td>5.446735</td>\n",
       "    </tr>\n",
       "    <tr>\n",
       "      <td>ultra</td>\n",
       "      <td>294.877239</td>\n",
       "      <td>32.572800</td>\n",
       "      <td>8.836889</td>\n",
       "    </tr>\n",
       "    <tr>\n",
       "      <td rowspan=\"2\" valign=\"top\">2018-08</td>\n",
       "      <td>smart</td>\n",
       "      <td>184.870954</td>\n",
       "      <td>23.636039</td>\n",
       "      <td>5.527738</td>\n",
       "    </tr>\n",
       "    <tr>\n",
       "      <td>ultra</td>\n",
       "      <td>301.942966</td>\n",
       "      <td>33.696338</td>\n",
       "      <td>9.761847</td>\n",
       "    </tr>\n",
       "    <tr>\n",
       "      <td rowspan=\"2\" valign=\"top\">2018-09</td>\n",
       "      <td>smart</td>\n",
       "      <td>181.522812</td>\n",
       "      <td>22.995904</td>\n",
       "      <td>5.236085</td>\n",
       "    </tr>\n",
       "    <tr>\n",
       "      <td>ultra</td>\n",
       "      <td>314.003035</td>\n",
       "      <td>33.755570</td>\n",
       "      <td>9.168512</td>\n",
       "    </tr>\n",
       "    <tr>\n",
       "      <td rowspan=\"2\" valign=\"top\">2018-10</td>\n",
       "      <td>smart</td>\n",
       "      <td>186.787396</td>\n",
       "      <td>24.057156</td>\n",
       "      <td>5.582773</td>\n",
       "    </tr>\n",
       "    <tr>\n",
       "      <td>ultra</td>\n",
       "      <td>311.673444</td>\n",
       "      <td>38.181616</td>\n",
       "      <td>9.457462</td>\n",
       "    </tr>\n",
       "    <tr>\n",
       "      <td rowspan=\"2\" valign=\"top\">2018-11</td>\n",
       "      <td>smart</td>\n",
       "      <td>176.353654</td>\n",
       "      <td>23.516811</td>\n",
       "      <td>5.292040</td>\n",
       "    </tr>\n",
       "    <tr>\n",
       "      <td>ultra</td>\n",
       "      <td>297.404817</td>\n",
       "      <td>36.088430</td>\n",
       "      <td>9.497423</td>\n",
       "    </tr>\n",
       "    <tr>\n",
       "      <td rowspan=\"2\" valign=\"top\">2018-12</td>\n",
       "      <td>smart</td>\n",
       "      <td>197.816706</td>\n",
       "      <td>24.450213</td>\n",
       "      <td>5.481799</td>\n",
       "    </tr>\n",
       "    <tr>\n",
       "      <td>ultra</td>\n",
       "      <td>328.604673</td>\n",
       "      <td>37.081990</td>\n",
       "      <td>9.902971</td>\n",
       "    </tr>\n",
       "    <tr>\n",
       "      <td rowspan=\"2\" valign=\"top\">2018-13</td>\n",
       "      <td>smart</td>\n",
       "      <td>NaN</td>\n",
       "      <td>NaN</td>\n",
       "      <td>NaN</td>\n",
       "    </tr>\n",
       "    <tr>\n",
       "      <td>ultra</td>\n",
       "      <td>NaN</td>\n",
       "      <td>NaN</td>\n",
       "      <td>NaN</td>\n",
       "    </tr>\n",
       "  </tbody>\n",
       "</table>\n",
       "</div>"
      ],
      "text/plain": [
       "                   calls_duration  msg_counts   gb_used\n",
       "date_month tariff                                      \n",
       "2018-01    smart       154.231455   14.477009  6.343320\n",
       "           ultra       269.757964   26.367594  6.349346\n",
       "2018-02    smart       190.820044   19.452021  6.003324\n",
       "           ultra       296.512529   21.429189  9.876216\n",
       "2018-03    smart       191.893607   22.715994  5.858019\n",
       "           ultra       333.743762   25.780955  9.063859\n",
       "2018-04    smart       186.489161   21.633241  5.495673\n",
       "           ultra       262.629789   27.583353  7.988694\n",
       "2018-05    smart       186.601346   23.315279  5.829413\n",
       "           ultra       273.643958   31.496028  8.924026\n",
       "2018-06    smart       175.336585   22.666495  5.775836\n",
       "           ultra       293.291064   31.744223  9.173786\n",
       "2018-07    smart       179.583600   23.879546  5.446735\n",
       "           ultra       294.877239   32.572800  8.836889\n",
       "2018-08    smart       184.870954   23.636039  5.527738\n",
       "           ultra       301.942966   33.696338  9.761847\n",
       "2018-09    smart       181.522812   22.995904  5.236085\n",
       "           ultra       314.003035   33.755570  9.168512\n",
       "2018-10    smart       186.787396   24.057156  5.582773\n",
       "           ultra       311.673444   38.181616  9.457462\n",
       "2018-11    smart       176.353654   23.516811  5.292040\n",
       "           ultra       297.404817   36.088430  9.497423\n",
       "2018-12    smart       197.816706   24.450213  5.481799\n",
       "           ultra       328.604673   37.081990  9.902971\n",
       "2018-13    smart              NaN         NaN       NaN\n",
       "           ultra              NaN         NaN       NaN"
      ]
     },
     "execution_count": 490,
     "metadata": {},
     "output_type": "execute_result"
    }
   ],
   "source": [
    "df_final\\\n",
    "    .groupby([\n",
    "        'date_month', \n",
    "        'tariff',\n",
    "])\\\n",
    "    .agg('std')[\n",
    "    ['calls_duration', 'msg_counts', 'gb_used']\n",
    "]"
   ]
  },
  {
   "cell_type": "markdown",
   "metadata": {},
   "source": [
    "Стандартное отклонение также высоко, например для января месяца среденяя продолжительность звонков тарифа smart - 193.04, дисперсия - 433.13, а стандартное отклонение - 20.81."
   ]
  },
  {
   "cell_type": "markdown",
   "metadata": {},
   "source": [
    "### Постройте гистограммы. Опишите распределения."
   ]
  },
  {
   "cell_type": "code",
   "execution_count": 491,
   "metadata": {},
   "outputs": [
    {
     "data": {
      "text/html": [
       "<div>\n",
       "<style scoped>\n",
       "    .dataframe tbody tr th:only-of-type {\n",
       "        vertical-align: middle;\n",
       "    }\n",
       "\n",
       "    .dataframe tbody tr th {\n",
       "        vertical-align: top;\n",
       "    }\n",
       "\n",
       "    .dataframe thead th {\n",
       "        text-align: right;\n",
       "    }\n",
       "</style>\n",
       "<table border=\"1\" class=\"dataframe\">\n",
       "  <thead>\n",
       "    <tr style=\"text-align: right;\">\n",
       "      <th></th>\n",
       "      <th>date_month</th>\n",
       "      <th>calls_duration</th>\n",
       "      <th>msg_counts</th>\n",
       "      <th>gb_used</th>\n",
       "    </tr>\n",
       "  </thead>\n",
       "  <tbody>\n",
       "    <tr>\n",
       "      <td>0</td>\n",
       "      <td>2018-01</td>\n",
       "      <td>203.852936</td>\n",
       "      <td>15.852941</td>\n",
       "      <td>7.044701</td>\n",
       "    </tr>\n",
       "    <tr>\n",
       "      <td>1</td>\n",
       "      <td>2018-02</td>\n",
       "      <td>298.689667</td>\n",
       "      <td>20.931034</td>\n",
       "      <td>9.623157</td>\n",
       "    </tr>\n",
       "    <tr>\n",
       "      <td>2</td>\n",
       "      <td>2018-03</td>\n",
       "      <td>390.051941</td>\n",
       "      <td>27.493506</td>\n",
       "      <td>12.731711</td>\n",
       "    </tr>\n",
       "    <tr>\n",
       "      <td>3</td>\n",
       "      <td>2018-04</td>\n",
       "      <td>367.133942</td>\n",
       "      <td>27.303571</td>\n",
       "      <td>11.685924</td>\n",
       "    </tr>\n",
       "    <tr>\n",
       "      <td>4</td>\n",
       "      <td>2018-05</td>\n",
       "      <td>387.361694</td>\n",
       "      <td>29.751773</td>\n",
       "      <td>13.715810</td>\n",
       "    </tr>\n",
       "    <tr>\n",
       "      <td>5</td>\n",
       "      <td>2018-06</td>\n",
       "      <td>395.640259</td>\n",
       "      <td>28.945122</td>\n",
       "      <td>13.711230</td>\n",
       "    </tr>\n",
       "    <tr>\n",
       "      <td>6</td>\n",
       "      <td>2018-07</td>\n",
       "      <td>408.353241</td>\n",
       "      <td>29.741294</td>\n",
       "      <td>13.530246</td>\n",
       "    </tr>\n",
       "    <tr>\n",
       "      <td>7</td>\n",
       "      <td>2018-08</td>\n",
       "      <td>423.269226</td>\n",
       "      <td>29.337607</td>\n",
       "      <td>14.511579</td>\n",
       "    </tr>\n",
       "    <tr>\n",
       "      <td>8</td>\n",
       "      <td>2018-09</td>\n",
       "      <td>430.266418</td>\n",
       "      <td>29.386100</td>\n",
       "      <td>14.139348</td>\n",
       "    </tr>\n",
       "    <tr>\n",
       "      <td>9</td>\n",
       "      <td>2018-10</td>\n",
       "      <td>427.590454</td>\n",
       "      <td>29.883959</td>\n",
       "      <td>14.535438</td>\n",
       "    </tr>\n",
       "    <tr>\n",
       "      <td>10</td>\n",
       "      <td>2018-11</td>\n",
       "      <td>436.647614</td>\n",
       "      <td>29.847619</td>\n",
       "      <td>14.834405</td>\n",
       "    </tr>\n",
       "    <tr>\n",
       "      <td>11</td>\n",
       "      <td>2018-12</td>\n",
       "      <td>479.985107</td>\n",
       "      <td>31.339286</td>\n",
       "      <td>15.928720</td>\n",
       "    </tr>\n",
       "    <tr>\n",
       "      <td>12</td>\n",
       "      <td>2018-13</td>\n",
       "      <td>NaN</td>\n",
       "      <td>NaN</td>\n",
       "      <td>NaN</td>\n",
       "    </tr>\n",
       "  </tbody>\n",
       "</table>\n",
       "</div>"
      ],
      "text/plain": [
       "   date_month  calls_duration  msg_counts    gb_used\n",
       "0     2018-01      203.852936   15.852941   7.044701\n",
       "1     2018-02      298.689667   20.931034   9.623157\n",
       "2     2018-03      390.051941   27.493506  12.731711\n",
       "3     2018-04      367.133942   27.303571  11.685924\n",
       "4     2018-05      387.361694   29.751773  13.715810\n",
       "5     2018-06      395.640259   28.945122  13.711230\n",
       "6     2018-07      408.353241   29.741294  13.530246\n",
       "7     2018-08      423.269226   29.337607  14.511579\n",
       "8     2018-09      430.266418   29.386100  14.139348\n",
       "9     2018-10      427.590454   29.883959  14.535438\n",
       "10    2018-11      436.647614   29.847619  14.834405\n",
       "11    2018-12      479.985107   31.339286  15.928720\n",
       "12    2018-13             NaN         NaN        NaN"
      ]
     },
     "execution_count": 491,
     "metadata": {},
     "output_type": "execute_result"
    }
   ],
   "source": [
    "df_final[df_final['tariff'] == 'smart']\\\n",
    "    .groupby([\n",
    "        'date_month', \n",
    "])\\\n",
    "    .agg('mean')[\n",
    "    ['calls_duration', 'msg_counts', 'gb_used']\n",
    "].reset_index()"
   ]
  },
  {
   "cell_type": "code",
   "execution_count": 492,
   "metadata": {},
   "outputs": [],
   "source": [
    "smart_hist = df_final[df_final['tariff'] == 'smart']\\\n",
    "    .groupby([\n",
    "        'date_month', \n",
    "])\\\n",
    "    .agg('mean')[\n",
    "    ['calls_duration', 'msg_counts', 'gb_used']\n",
    "].reset_index()\n",
    "\n",
    "ultra_hist = df_final[df_final['tariff'] == 'ultra']\\\n",
    "    .groupby([\n",
    "        'date_month', \n",
    "])\\\n",
    "    .agg('mean')[\n",
    "    ['calls_duration', 'msg_counts', 'gb_used']\n",
    "].reset_index()"
   ]
  },
  {
   "cell_type": "code",
   "execution_count": 493,
   "metadata": {},
   "outputs": [
    {
     "data": {
      "image/png": "[encoded data removed]",
      "text/plain": [
       "<Figure size 432x288 with 1 Axes>"
      ]
     },
     "metadata": {
      "needs_background": "light"
     },
     "output_type": "display_data"
    }
   ],
   "source": [
    "plt.hist(smart_hist['calls_duration'], alpha=0.5, label='calls duration smart')\n",
    "plt.hist(ultra_hist['calls_duration'], alpha=0.5, label='calls duration ultra')\n",
    "plt.legend(loc='upper left')\n",
    "plt.title('Распределение средней длительности звонков по месяцам 2018 года')\n",
    "plt.show()"
   ]
  },
  {
   "cell_type": "markdown",
   "metadata": {},
   "source": [
    "Получается, что пользователи тарифа smart чаще делают звонки средней длительностью 6,5 часов или 7,5 часов, а пользователи тарифа ultra чаще разговаривают по 9,33 часов в месяц."
   ]
  },
  {
   "cell_type": "code",
   "execution_count": 494,
   "metadata": {},
   "outputs": [
    {
     "data": {
      "image/png": "[encoded data removed]",
      "text/plain": [
       "<Figure size 432x288 with 1 Axes>"
      ]
     },
     "metadata": {
      "needs_background": "light"
     },
     "output_type": "display_data"
    }
   ],
   "source": [
    "plt.hist(smart_hist['msg_counts'], alpha=0.5, label='msgs counts smart')\n",
    "plt.hist(ultra_hist['msg_counts'], alpha=0.5, label='msgs counts ultra')\n",
    "plt.legend(loc='upper right')\n",
    "plt.title('Распределение количества сообщений по месяцам 2018 года')\n",
    "plt.show()"
   ]
  },
  {
   "cell_type": "markdown",
   "metadata": {},
   "source": [
    "Пользователи обоих тарифов чаще всего отправляют в среднем около 30 сообщений в месяц, при этом пользователи тарифа smart делают это 5 месяцев в году, а пользователи тарифа ultra всего 3."
   ]
  },
  {
   "cell_type": "code",
   "execution_count": 495,
   "metadata": {},
   "outputs": [
    {
     "data": {
      "image/png": "[encoded data removed]",
      "text/plain": [
       "<Figure size 432x288 with 1 Axes>"
      ]
     },
     "metadata": {
      "needs_background": "light"
     },
     "output_type": "display_data"
    }
   ],
   "source": [
    "plt.hist(smart_hist['gb_used'], alpha=0.5, label='gb used smart')\n",
    "plt.hist(ultra_hist['gb_used'], alpha=0.5, label='gb used ultra')\n",
    "plt.legend(loc='upper left')\n",
    "plt.title('Распределение среднего траффика по месяцам 2018 года')\n",
    "plt.show()"
   ]
  },
  {
   "cell_type": "markdown",
   "metadata": {},
   "source": [
    "Пользователи тарифа smart в среднем чаще используют около 14 Гб траффика, против 18 Гб пользователей тарифа ultra."
   ]
  },
  {
   "cell_type": "markdown",
   "metadata": {},
   "source": [
    "## Анализ данных"
   ]
  },
  {
   "cell_type": "markdown",
   "metadata": {},
   "source": [
    "### Гипотеза 1. Средняя выручка пользователей тарифов «Ультра» и «Смарт» не различаются"
   ]
  },
  {
   "cell_type": "markdown",
   "metadata": {},
   "source": [
    "Когда генеральных совокупностей две, бывает нужно сопоставить их средние.\n",
    "\n",
    "Чтобы понять, различаются ли средние абонентские платы по двум тарифам, недостаточно просто сравнить числа средних. Без проведения корректного теста нельзя считать отличия случайными или разницу достаточной, чтобы полагать суммы разными."
   ]
  },
  {
   "cell_type": "code",
   "execution_count": 496,
   "metadata": {},
   "outputs": [
    {
     "data": {
      "text/plain": [
       "total_fee    2026.096033\n",
       "dtype: float64"
      ]
     },
     "execution_count": 496,
     "metadata": {},
     "output_type": "execute_result"
    }
   ],
   "source": [
    "df_final[df_final['tariff'] == 'ultra'].agg({'total_fee': 'mean'})"
   ]
  },
  {
   "cell_type": "code",
   "execution_count": 497,
   "metadata": {},
   "outputs": [
    {
     "data": {
      "text/plain": [
       "total_fee    1094.236298\n",
       "dtype: float64"
      ]
     },
     "execution_count": 497,
     "metadata": {},
     "output_type": "execute_result"
    }
   ],
   "source": [
    "df_final[df_final['tariff'] == 'smart'].agg({'total_fee': 'mean'})"
   ]
  },
  {
   "cell_type": "markdown",
   "metadata": {},
   "source": [
    "Для примера вывели среднее"
   ]
  },
  {
   "cell_type": "code",
   "execution_count": 499,
   "metadata": {},
   "outputs": [
    {
     "data": {
      "text/html": [
       "<div>\n",
       "<style scoped>\n",
       "    .dataframe tbody tr th:only-of-type {\n",
       "        vertical-align: middle;\n",
       "    }\n",
       "\n",
       "    .dataframe tbody tr th {\n",
       "        vertical-align: top;\n",
       "    }\n",
       "\n",
       "    .dataframe thead th {\n",
       "        text-align: right;\n",
       "    }\n",
       "</style>\n",
       "<table border=\"1\" class=\"dataframe\">\n",
       "  <thead>\n",
       "    <tr style=\"text-align: right;\">\n",
       "      <th></th>\n",
       "      <th>calls_duration</th>\n",
       "      <th>date_month</th>\n",
       "      <th>gb_per_month_included</th>\n",
       "      <th>gb_used</th>\n",
       "      <th>messages_included</th>\n",
       "      <th>minutes_included</th>\n",
       "      <th>msg_counts</th>\n",
       "      <th>rub_monthly_fee</th>\n",
       "      <th>rub_per_gb</th>\n",
       "      <th>rub_per_message</th>\n",
       "      <th>rub_per_minute</th>\n",
       "      <th>tariff</th>\n",
       "      <th>user_id</th>\n",
       "      <th>total_fee</th>\n",
       "    </tr>\n",
       "  </thead>\n",
       "  <tbody>\n",
       "    <tr>\n",
       "      <td>603</td>\n",
       "      <td>982.0</td>\n",
       "      <td>2018-09</td>\n",
       "      <td>30.0</td>\n",
       "      <td>2.853096</td>\n",
       "      <td>1000</td>\n",
       "      <td>3000</td>\n",
       "      <td>56.0</td>\n",
       "      <td>1950</td>\n",
       "      <td>150</td>\n",
       "      <td>1</td>\n",
       "      <td>1</td>\n",
       "      <td>ultra</td>\n",
       "      <td>1346.0</td>\n",
       "      <td>1950.0</td>\n",
       "    </tr>\n",
       "  </tbody>\n",
       "</table>\n",
       "</div>"
      ],
      "text/plain": [
       "     calls_duration date_month  gb_per_month_included   gb_used  \\\n",
       "603           982.0    2018-09                   30.0  2.853096   \n",
       "\n",
       "     messages_included  minutes_included  msg_counts  rub_monthly_fee  \\\n",
       "603               1000              3000        56.0             1950   \n",
       "\n",
       "     rub_per_gb  rub_per_message  rub_per_minute tariff  user_id  total_fee  \n",
       "603         150                1               1  ultra   1346.0     1950.0  "
      ]
     },
     "execution_count": 499,
     "metadata": {},
     "output_type": "execute_result"
    }
   ],
   "source": [
    "df_final[df_final['tariff'] == 'ultra'].sample()"
   ]
  },
  {
   "cell_type": "code",
   "execution_count": 500,
   "metadata": {},
   "outputs": [],
   "source": [
    "def chech_hypothesis(sample_1, sample_2):\n",
    "    alpha = 0.05  # критический уровень статистической значимости\n",
    "    # если p-value окажется меньше него - отвергнем гипотезу\n",
    "    results = st.ttest_ind(sample_1, sample_2, equal_var=False)\n",
    "\n",
    "    print('p-значение:', results.pvalue)\n",
    "\n",
    "    if results.pvalue < alpha:\n",
    "        print('Отвергаем нулевую гипотезу')\n",
    "    else:\n",
    "        print('Не получилось отвергнуть нулевую гипотезу') "
   ]
  },
  {
   "cell_type": "code",
   "execution_count": 501,
   "metadata": {},
   "outputs": [],
   "source": [
    "ul = df_final[df_final['tariff'] == 'ultra']['total_fee']\n",
    "sm = df_final[df_final['tariff'] == 'smart']['total_fee']"
   ]
  },
  {
   "cell_type": "code",
   "execution_count": 502,
   "metadata": {},
   "outputs": [
    {
     "name": "stdout",
     "output_type": "stream",
     "text": [
      "p-значение: 0.0\n",
      "Отвергаем нулевую гипотезу\n"
     ]
    }
   ],
   "source": [
    "chech_hypothesis(ul, sm)"
   ]
  },
  {
   "cell_type": "markdown",
   "metadata": {},
   "source": [
    "### Гипотеза 2. Средняя выручка пользователей из Москвы не отличается от выручки пользователей из других регионов"
   ]
  },
  {
   "cell_type": "code",
   "execution_count": 503,
   "metadata": {
    "scrolled": true
   },
   "outputs": [
    {
     "data": {
      "text/html": [
       "<div>\n",
       "<style scoped>\n",
       "    .dataframe tbody tr th:only-of-type {\n",
       "        vertical-align: middle;\n",
       "    }\n",
       "\n",
       "    .dataframe tbody tr th {\n",
       "        vertical-align: top;\n",
       "    }\n",
       "\n",
       "    .dataframe thead th {\n",
       "        text-align: right;\n",
       "    }\n",
       "</style>\n",
       "<table border=\"1\" class=\"dataframe\">\n",
       "  <thead>\n",
       "    <tr style=\"text-align: right;\">\n",
       "      <th></th>\n",
       "      <th>calls_duration</th>\n",
       "      <th>date_month</th>\n",
       "      <th>gb_per_month_included</th>\n",
       "      <th>gb_used</th>\n",
       "      <th>messages_included</th>\n",
       "      <th>minutes_included</th>\n",
       "      <th>msg_counts</th>\n",
       "      <th>rub_monthly_fee</th>\n",
       "      <th>rub_per_gb</th>\n",
       "      <th>rub_per_message</th>\n",
       "      <th>rub_per_minute</th>\n",
       "      <th>tariff</th>\n",
       "      <th>user_id</th>\n",
       "      <th>total_fee</th>\n",
       "      <th>city</th>\n",
       "    </tr>\n",
       "  </thead>\n",
       "  <tbody>\n",
       "    <tr>\n",
       "      <td>407</td>\n",
       "      <td>504.0</td>\n",
       "      <td>2018-03</td>\n",
       "      <td>30.0</td>\n",
       "      <td>28.005547</td>\n",
       "      <td>1000</td>\n",
       "      <td>3000</td>\n",
       "      <td>0.0</td>\n",
       "      <td>1950</td>\n",
       "      <td>150</td>\n",
       "      <td>1</td>\n",
       "      <td>1</td>\n",
       "      <td>ultra</td>\n",
       "      <td>1254.0</td>\n",
       "      <td>1950.0</td>\n",
       "      <td>Москва</td>\n",
       "    </tr>\n",
       "  </tbody>\n",
       "</table>\n",
       "</div>"
      ],
      "text/plain": [
       "     calls_duration date_month  gb_per_month_included    gb_used  \\\n",
       "407           504.0    2018-03                   30.0  28.005547   \n",
       "\n",
       "     messages_included  minutes_included  msg_counts  rub_monthly_fee  \\\n",
       "407               1000              3000         0.0             1950   \n",
       "\n",
       "     rub_per_gb  rub_per_message  rub_per_minute tariff  user_id  total_fee  \\\n",
       "407         150                1               1  ultra   1254.0     1950.0   \n",
       "\n",
       "       city  \n",
       "407  Москва  "
      ]
     },
     "execution_count": 503,
     "metadata": {},
     "output_type": "execute_result"
    }
   ],
   "source": [
    "moscow_city = df_final.merge(df_users[['user_id', 'city']], how='left')\n",
    "moscow_city = moscow_city[moscow_city['city'] == 'Москва']\n",
    "moscow_city.sample()"
   ]
  },
  {
   "cell_type": "code",
   "execution_count": 504,
   "metadata": {},
   "outputs": [
    {
     "data": {
      "text/html": [
       "<div>\n",
       "<style scoped>\n",
       "    .dataframe tbody tr th:only-of-type {\n",
       "        vertical-align: middle;\n",
       "    }\n",
       "\n",
       "    .dataframe tbody tr th {\n",
       "        vertical-align: top;\n",
       "    }\n",
       "\n",
       "    .dataframe thead th {\n",
       "        text-align: right;\n",
       "    }\n",
       "</style>\n",
       "<table border=\"1\" class=\"dataframe\">\n",
       "  <thead>\n",
       "    <tr style=\"text-align: right;\">\n",
       "      <th></th>\n",
       "      <th>calls_duration</th>\n",
       "      <th>date_month</th>\n",
       "      <th>gb_per_month_included</th>\n",
       "      <th>gb_used</th>\n",
       "      <th>messages_included</th>\n",
       "      <th>minutes_included</th>\n",
       "      <th>msg_counts</th>\n",
       "      <th>rub_monthly_fee</th>\n",
       "      <th>rub_per_gb</th>\n",
       "      <th>rub_per_message</th>\n",
       "      <th>rub_per_minute</th>\n",
       "      <th>tariff</th>\n",
       "      <th>user_id</th>\n",
       "      <th>total_fee</th>\n",
       "      <th>city</th>\n",
       "    </tr>\n",
       "  </thead>\n",
       "  <tbody>\n",
       "    <tr>\n",
       "      <td>1421</td>\n",
       "      <td>352.0</td>\n",
       "      <td>2018-09</td>\n",
       "      <td>15.0</td>\n",
       "      <td>6.424092</td>\n",
       "      <td>50</td>\n",
       "      <td>500</td>\n",
       "      <td>0.0</td>\n",
       "      <td>550</td>\n",
       "      <td>200</td>\n",
       "      <td>3</td>\n",
       "      <td>3</td>\n",
       "      <td>smart</td>\n",
       "      <td>1107.0</td>\n",
       "      <td>550.0</td>\n",
       "      <td>Орёл</td>\n",
       "    </tr>\n",
       "  </tbody>\n",
       "</table>\n",
       "</div>"
      ],
      "text/plain": [
       "      calls_duration date_month  gb_per_month_included   gb_used  \\\n",
       "1421           352.0    2018-09                   15.0  6.424092   \n",
       "\n",
       "      messages_included  minutes_included  msg_counts  rub_monthly_fee  \\\n",
       "1421                 50               500         0.0              550   \n",
       "\n",
       "      rub_per_gb  rub_per_message  rub_per_minute tariff  user_id  total_fee  \\\n",
       "1421         200                3               3  smart   1107.0      550.0   \n",
       "\n",
       "      city  \n",
       "1421  Орёл  "
      ]
     },
     "execution_count": 504,
     "metadata": {},
     "output_type": "execute_result"
    }
   ],
   "source": [
    "others_cities = df_final.merge(df_users[['user_id', 'city']], how='left')\n",
    "others_cities = others_cities[~(others_cities['city'] == 'Москва')]\n",
    "others_cities.sample()"
   ]
  },
  {
   "cell_type": "code",
   "execution_count": 505,
   "metadata": {},
   "outputs": [],
   "source": [
    "sample_moscow = list(pd.pivot_table(moscow_city, \n",
    "               values=['total_fee'], index=['user_id'],\n",
    "               aggfunc={'total_fee': np.mean}).reset_index(drop=True)['total_fee'])\n",
    "sample_ot_cts = list(pd.pivot_table(others_cities, \n",
    "               values=['total_fee'], index=['user_id'],\n",
    "               aggfunc={'total_fee': np.mean}).reset_index(drop=True)['total_fee'])"
   ]
  },
  {
   "cell_type": "code",
   "execution_count": 506,
   "metadata": {},
   "outputs": [
    {
     "name": "stdout",
     "output_type": "stream",
     "text": [
      "p-значение: 0.6449545383104964\n",
      "Не получилось отвергнуть нулевую гипотезу\n"
     ]
    }
   ],
   "source": [
    "alpha = 0.05  # критический уровень статистической значимости\n",
    "# если p-value окажется меньше него - отвергнем гипотезу\n",
    "results = st.ttest_ind(sample_moscow, sample_ot_cts, equal_var=False)\n",
    "\n",
    "print('p-значение:', results.pvalue)\n",
    "\n",
    "if results.pvalue < alpha:\n",
    "    print('Отвергаем нулевую гипотезу')\n",
    "else:\n",
    "    print('Не получилось отвергнуть нулевую гипотезу')"
   ]
  },
  {
   "cell_type": "markdown",
   "metadata": {},
   "source": [
    "## Вывод"
   ]
  },
  {
   "cell_type": "markdown",
   "metadata": {
    "pycharm": {
     "name": "#%% md\n"
    }
   },
   "source": [
    "- Мы получили данные траффика, сделанных звонков и израсходованных минут разговора по месяцам по пользователям\n",
    "- По этим данным мы посчитали сколько тратил каждый пользователь ежемесячно\n",
    "- Проанализировав гистограммы средних по месяцам мы выяснили сколько чаще общаются, сколько смс посылают и какой объем трафика у пользователей каких тарифов:\n",
    "    - Получается, что пользователи тарифа smart чаще делают звонки средней длительностью 6,5 часов или 7,5 часов, а пользователи тарифа ultra чаще разговаривают по 9,33 часов в месяц. При этом длительность звонков абонентов тарифа smart в среднем не превышает 8,3 часа, в то время как средняя продолжительность разговора абонентов ultra не ниже 5 часов.\n",
    "    - Пользователи обоих тарифов чаще всего отправляют в среднем около 30 сообщений в месяц, при этом пользователи тарифа smart делают это 5 месяцев в году, а пользователи тарифа ultra всего 3. Также пользователи тарифа smart в среднем не посылают больше 30 сообщений в месяц, в то время как для тарифа ultra средняя максимальная цифра доходит почти до 45.\n",
    "    - Пользователи тарифа smart в среднем чаще используют около 14 Гб траффика, против 18 Гб пользователей тарифа ultra. Получается пользователи тарифа smart чаще полностью расходуют свой лимит, не превышая его(это 15Гб), а пользователи тарифа ultra совсем не дотягивают до своего максимума в 30 Гб.\n",
    "    - Из данных по графикам в целом видно, что пользователи тарифа ultra в среднем не на много больше общаются, чем пользователи более дешевого тарифа smart\n",
    "- Мы также проверили 2 гипотезы:\n",
    "    - Выяснили, что при критическом уровне статистической значимости равном 0.05 наша гипотеза о том, что средняя выручка двух тарифов не различается, подтверждается.\n",
    "    - Не смогли опровергнуть гипотезу о том, что средняя выручка пользователей из Москвы не отличается от выручки пользователей из других регионов, так как рассчитанное p-значение: 0.80, а значит пользователи из Москвы действительно в среднем платят одинаково."
   ]
  }
 ],
 "metadata": {
  "ExecuteTimeLog": [
   {
    "duration": 1933,
    "start_time": "2021-11-14T14:47:51.313Z"
   },
   {
    "duration": 5,
    "start_time": "2021-11-14T14:48:04.578Z"
   },
   {
    "duration": 221,
    "start_time": "2021-11-14T14:50:46.983Z"
   },
   {
    "duration": 240,
    "start_time": "2021-11-14T14:50:53.567Z"
   },
   {
    "duration": 201,
    "start_time": "2021-11-14T14:50:58.769Z"
   },
   {
    "duration": 631,
    "start_time": "2021-11-14T14:51:18.175Z"
   },
   {
    "duration": 218,
    "start_time": "2021-11-14T14:51:21.805Z"
   },
   {
    "duration": 187,
    "start_time": "2021-11-14T14:51:39.947Z"
   },
   {
    "duration": 191,
    "start_time": "2021-11-14T14:51:54.330Z"
   },
   {
    "duration": 208,
    "start_time": "2021-11-14T14:52:04.348Z"
   },
   {
    "duration": 223,
    "start_time": "2021-11-14T14:52:18.618Z"
   },
   {
    "duration": 196,
    "start_time": "2021-11-14T14:52:29.466Z"
   },
   {
    "duration": 129,
    "start_time": "2021-11-14T14:53:08.393Z"
   },
   {
    "duration": 28,
    "start_time": "2021-11-14T14:53:31.916Z"
   },
   {
    "duration": 308,
    "start_time": "2021-11-14T14:54:26.375Z"
   },
   {
    "duration": 213,
    "start_time": "2021-11-14T14:54:34.759Z"
   },
   {
    "duration": 41,
    "start_time": "2021-11-14T14:55:07.081Z"
   },
   {
    "duration": 40,
    "start_time": "2021-11-14T14:55:27.037Z"
   },
   {
    "duration": 215,
    "start_time": "2021-11-14T14:55:27.416Z"
   },
   {
    "duration": 128,
    "start_time": "2021-11-14T14:55:27.773Z"
   },
   {
    "duration": 183,
    "start_time": "2021-11-14T14:55:28.099Z"
   },
   {
    "duration": 30,
    "start_time": "2021-11-14T14:55:28.552Z"
   },
   {
    "duration": 101,
    "start_time": "2021-11-14T14:58:15.136Z"
   },
   {
    "duration": 9,
    "start_time": "2021-11-14T15:24:57.221Z"
   },
   {
    "duration": 23,
    "start_time": "2021-11-14T15:25:10.109Z"
   },
   {
    "duration": 27,
    "start_time": "2021-11-14T15:25:15.221Z"
   },
   {
    "duration": 299,
    "start_time": "2021-11-14T15:29:43.590Z"
   },
   {
    "duration": 27,
    "start_time": "2021-11-14T15:29:51.226Z"
   },
   {
    "duration": 35,
    "start_time": "2021-11-14T15:30:09.967Z"
   },
   {
    "duration": 40,
    "start_time": "2021-11-14T15:30:17.385Z"
   },
   {
    "duration": 19,
    "start_time": "2021-11-14T15:32:13.990Z"
   },
   {
    "duration": 19,
    "start_time": "2021-11-14T15:32:30.600Z"
   },
   {
    "duration": 24,
    "start_time": "2021-11-14T15:39:04.895Z"
   },
   {
    "duration": 37,
    "start_time": "2021-11-14T15:39:20.426Z"
   },
   {
    "duration": 42,
    "start_time": "2021-11-14T15:40:18.507Z"
   },
   {
    "duration": 45,
    "start_time": "2021-11-14T15:40:41.755Z"
   },
   {
    "duration": 9,
    "start_time": "2021-11-14T15:42:24.371Z"
   },
   {
    "duration": 27,
    "start_time": "2021-11-14T15:42:39.676Z"
   },
   {
    "duration": 356,
    "start_time": "2021-11-14T15:42:53.671Z"
   },
   {
    "duration": 47,
    "start_time": "2021-11-14T15:43:00.615Z"
   },
   {
    "duration": 54,
    "start_time": "2021-11-14T15:43:09.942Z"
   },
   {
    "duration": 102,
    "start_time": "2021-11-14T15:44:09.118Z"
   },
   {
    "duration": 125,
    "start_time": "2021-11-14T15:45:26.799Z"
   },
   {
    "duration": 43,
    "start_time": "2021-11-14T15:45:48.008Z"
   },
   {
    "duration": 211,
    "start_time": "2021-11-14T15:46:04.426Z"
   },
   {
    "duration": 199,
    "start_time": "2021-11-14T15:46:34.841Z"
   },
   {
    "duration": 10,
    "start_time": "2021-11-14T15:47:51.259Z"
   },
   {
    "duration": 116,
    "start_time": "2021-11-14T15:48:08.652Z"
   },
   {
    "duration": 257,
    "start_time": "2021-11-14T15:48:39.089Z"
   },
   {
    "duration": 263,
    "start_time": "2021-11-14T15:48:47.360Z"
   },
   {
    "duration": 232,
    "start_time": "2021-11-14T15:48:59.729Z"
   },
   {
    "duration": 241,
    "start_time": "2021-11-14T15:49:07.749Z"
   },
   {
    "duration": 260,
    "start_time": "2021-11-14T15:49:13.266Z"
   },
   {
    "duration": 251,
    "start_time": "2021-11-14T15:49:17.083Z"
   },
   {
    "duration": 248,
    "start_time": "2021-11-14T15:50:04.009Z"
   },
   {
    "duration": 9,
    "start_time": "2021-11-14T15:55:58.865Z"
   },
   {
    "duration": 6,
    "start_time": "2021-11-14T15:56:13.358Z"
   },
   {
    "duration": 123,
    "start_time": "2021-11-14T15:58:30.204Z"
   },
   {
    "duration": 10,
    "start_time": "2021-11-14T15:59:23.223Z"
   },
   {
    "duration": 15,
    "start_time": "2021-11-14T16:02:18.588Z"
   },
   {
    "duration": 314,
    "start_time": "2021-11-14T16:03:23.465Z"
   },
   {
    "duration": 310,
    "start_time": "2021-11-14T16:03:40.304Z"
   },
   {
    "duration": 826,
    "start_time": "2021-11-14T16:04:08.574Z"
   },
   {
    "duration": 386,
    "start_time": "2021-11-14T16:04:13.963Z"
   },
   {
    "duration": 7,
    "start_time": "2021-11-14T16:04:39.833Z"
   },
   {
    "duration": 7,
    "start_time": "2021-11-14T16:04:46.215Z"
   },
   {
    "duration": 315,
    "start_time": "2021-11-14T16:05:00.330Z"
   },
   {
    "duration": 8,
    "start_time": "2021-11-14T16:05:09.013Z"
   },
   {
    "duration": 6,
    "start_time": "2021-11-14T16:05:36.783Z"
   },
   {
    "duration": 6,
    "start_time": "2021-11-14T16:05:52.811Z"
   },
   {
    "duration": 395,
    "start_time": "2021-11-14T16:07:29.881Z"
   },
   {
    "duration": 11,
    "start_time": "2021-11-14T16:07:33.924Z"
   },
   {
    "duration": 363,
    "start_time": "2021-11-14T16:09:38.262Z"
   },
   {
    "duration": 402,
    "start_time": "2021-11-14T16:33:26.086Z"
   },
   {
    "duration": 399,
    "start_time": "2021-11-14T16:33:51.852Z"
   },
   {
    "duration": 299,
    "start_time": "2021-11-14T16:36:00.595Z"
   },
   {
    "duration": 39,
    "start_time": "2021-11-14T16:36:17.034Z"
   },
   {
    "duration": 33,
    "start_time": "2021-11-14T16:36:31.339Z"
   },
   {
    "duration": 33,
    "start_time": "2021-11-14T16:36:52.168Z"
   },
   {
    "duration": 11,
    "start_time": "2021-11-14T16:40:19.670Z"
   },
   {
    "duration": 13,
    "start_time": "2021-11-14T16:40:36.236Z"
   },
   {
    "duration": 12,
    "start_time": "2021-11-14T16:40:53.549Z"
   },
   {
    "duration": 11,
    "start_time": "2021-11-14T16:41:20.425Z"
   },
   {
    "duration": 12,
    "start_time": "2021-11-14T16:41:46.841Z"
   },
   {
    "duration": 6,
    "start_time": "2021-11-14T16:41:57.181Z"
   },
   {
    "duration": 5,
    "start_time": "2021-11-14T16:42:01.825Z"
   },
   {
    "duration": 13,
    "start_time": "2021-11-14T16:42:20.486Z"
   },
   {
    "duration": 327,
    "start_time": "2021-11-14T16:42:30.103Z"
   },
   {
    "duration": 7,
    "start_time": "2021-11-14T16:42:40.782Z"
   },
   {
    "duration": 5,
    "start_time": "2021-11-14T16:42:46.533Z"
   },
   {
    "duration": 12,
    "start_time": "2021-11-14T16:43:02.646Z"
   },
   {
    "duration": 1507,
    "start_time": "2021-11-15T15:01:21.622Z"
   },
   {
    "duration": 53,
    "start_time": "2021-11-15T15:01:23.131Z"
   },
   {
    "duration": 10,
    "start_time": "2021-11-15T15:01:23.187Z"
   },
   {
    "duration": 29,
    "start_time": "2021-11-15T15:01:23.200Z"
   },
   {
    "duration": 219,
    "start_time": "2021-11-15T15:01:23.231Z"
   },
   {
    "duration": 27,
    "start_time": "2021-11-15T15:01:23.452Z"
   },
   {
    "duration": 58,
    "start_time": "2021-11-15T15:01:23.482Z"
   },
   {
    "duration": 133,
    "start_time": "2021-11-15T15:01:23.544Z"
   },
   {
    "duration": 28,
    "start_time": "2021-11-15T15:01:23.680Z"
   },
   {
    "duration": 194,
    "start_time": "2021-11-15T15:01:23.711Z"
   },
   {
    "duration": 24,
    "start_time": "2021-11-15T15:01:23.907Z"
   },
   {
    "duration": 68,
    "start_time": "2021-11-15T15:01:23.934Z"
   },
   {
    "duration": 26,
    "start_time": "2021-11-15T15:01:24.004Z"
   },
   {
    "duration": 10,
    "start_time": "2021-11-15T15:01:24.032Z"
   },
   {
    "duration": 300,
    "start_time": "2021-11-15T15:01:24.044Z"
   },
   {
    "duration": 136,
    "start_time": "2021-11-15T15:01:24.346Z"
   },
   {
    "duration": 15,
    "start_time": "2021-11-15T15:01:24.500Z"
   },
   {
    "duration": 412,
    "start_time": "2021-11-15T15:01:24.518Z"
   },
   {
    "duration": 6,
    "start_time": "2021-11-15T15:01:24.933Z"
   },
   {
    "duration": 10,
    "start_time": "2021-11-15T15:01:24.941Z"
   },
   {
    "duration": 13,
    "start_time": "2021-11-15T15:01:24.953Z"
   },
   {
    "duration": 439,
    "start_time": "2021-11-15T15:01:24.968Z"
   },
   {
    "duration": 10,
    "start_time": "2021-11-15T15:01:25.411Z"
   },
   {
    "duration": 25,
    "start_time": "2021-11-15T15:02:41.692Z"
   },
   {
    "duration": 580,
    "start_time": "2021-11-15T15:02:45.900Z"
   },
   {
    "duration": 12,
    "start_time": "2021-11-15T15:03:05.044Z"
   },
   {
    "duration": 405,
    "start_time": "2021-11-15T15:29:13.716Z"
   },
   {
    "duration": 480,
    "start_time": "2021-11-15T15:29:38.355Z"
   },
   {
    "duration": 461,
    "start_time": "2021-11-15T15:30:01.409Z"
   },
   {
    "duration": 92,
    "start_time": "2021-11-15T15:31:46.746Z"
   },
   {
    "duration": 86,
    "start_time": "2021-11-15T15:33:41.667Z"
   },
   {
    "duration": 84,
    "start_time": "2021-11-15T15:34:15.071Z"
   },
   {
    "duration": 21,
    "start_time": "2021-11-15T15:34:19.015Z"
   },
   {
    "duration": 15,
    "start_time": "2021-11-15T15:34:22.757Z"
   },
   {
    "duration": 25,
    "start_time": "2021-11-15T15:34:27.642Z"
   },
   {
    "duration": 8,
    "start_time": "2021-11-15T15:40:55.714Z"
   },
   {
    "duration": 31,
    "start_time": "2021-11-15T15:40:59.709Z"
   },
   {
    "duration": 1794,
    "start_time": "2021-11-15T15:43:40.364Z"
   },
   {
    "duration": -58,
    "start_time": "2021-11-15T15:43:42.218Z"
   },
   {
    "duration": 8,
    "start_time": "2021-11-15T15:44:52.469Z"
   },
   {
    "duration": 17,
    "start_time": "2021-11-15T15:45:10.762Z"
   },
   {
    "duration": 15,
    "start_time": "2021-11-15T15:45:15.560Z"
   },
   {
    "duration": 15,
    "start_time": "2021-11-15T15:45:32.015Z"
   },
   {
    "duration": 19,
    "start_time": "2021-11-15T15:46:38.109Z"
   },
   {
    "duration": 27,
    "start_time": "2021-11-15T15:46:44.300Z"
   },
   {
    "duration": 18,
    "start_time": "2021-11-15T15:47:42.212Z"
   },
   {
    "duration": 27,
    "start_time": "2021-11-15T15:47:44.395Z"
   },
   {
    "duration": 21,
    "start_time": "2021-11-15T15:47:52.440Z"
   },
   {
    "duration": 8,
    "start_time": "2021-11-15T15:48:03.826Z"
   },
   {
    "duration": 15,
    "start_time": "2021-11-15T15:48:16.961Z"
   },
   {
    "duration": 15,
    "start_time": "2021-11-15T15:48:21.327Z"
   },
   {
    "duration": 16,
    "start_time": "2021-11-15T15:48:24.614Z"
   },
   {
    "duration": 8,
    "start_time": "2021-11-15T15:48:31.095Z"
   },
   {
    "duration": 82,
    "start_time": "2021-11-15T15:49:25.305Z"
   },
   {
    "duration": 10129,
    "start_time": "2021-11-15T15:49:33.151Z"
   },
   {
    "duration": 75,
    "start_time": "2021-11-15T15:49:46.936Z"
   },
   {
    "duration": 17,
    "start_time": "2021-11-15T15:49:50.344Z"
   },
   {
    "duration": 8,
    "start_time": "2021-11-15T15:50:23.430Z"
   },
   {
    "duration": 88,
    "start_time": "2021-11-15T15:50:27.026Z"
   },
   {
    "duration": 10,
    "start_time": "2021-11-15T15:50:28.146Z"
   },
   {
    "duration": 29,
    "start_time": "2021-11-15T15:50:31.964Z"
   },
   {
    "duration": 397,
    "start_time": "2021-11-15T15:51:22.305Z"
   },
   {
    "duration": 382,
    "start_time": "2021-11-15T15:52:02.327Z"
   },
   {
    "duration": 32,
    "start_time": "2021-11-15T15:52:07.841Z"
   },
   {
    "duration": 370,
    "start_time": "2021-11-15T15:52:41.539Z"
   },
   {
    "duration": 86,
    "start_time": "2021-11-15T15:52:52.830Z"
   },
   {
    "duration": 495,
    "start_time": "2021-11-15T15:54:33.486Z"
   },
   {
    "duration": 369,
    "start_time": "2021-11-15T15:54:47.270Z"
   },
   {
    "duration": 48,
    "start_time": "2021-11-15T15:55:42.005Z"
   },
   {
    "duration": 6,
    "start_time": "2021-11-15T15:55:57.660Z"
   },
   {
    "duration": 29,
    "start_time": "2021-11-15T15:56:01.914Z"
   },
   {
    "duration": 28,
    "start_time": "2021-11-15T15:56:29.544Z"
   },
   {
    "duration": 6,
    "start_time": "2021-11-15T15:56:39.862Z"
   },
   {
    "duration": 6,
    "start_time": "2021-11-15T15:59:08.323Z"
   },
   {
    "duration": 7,
    "start_time": "2021-11-15T15:59:36.886Z"
   },
   {
    "duration": 162,
    "start_time": "2021-11-15T16:00:38.352Z"
   },
   {
    "duration": 148,
    "start_time": "2021-11-15T16:01:21.277Z"
   },
   {
    "duration": 28,
    "start_time": "2021-11-15T16:01:44.352Z"
   },
   {
    "duration": 126,
    "start_time": "2021-11-15T16:01:58.651Z"
   },
   {
    "duration": 16,
    "start_time": "2021-11-15T16:02:02.348Z"
   },
   {
    "duration": 31,
    "start_time": "2021-11-15T16:02:11.317Z"
   },
   {
    "duration": 40,
    "start_time": "2021-11-15T16:02:41.837Z"
   },
   {
    "duration": 503,
    "start_time": "2021-11-15T16:04:15.825Z"
   },
   {
    "duration": 554,
    "start_time": "2021-11-15T16:04:22.986Z"
   },
   {
    "duration": 137,
    "start_time": "2021-11-15T16:04:38.210Z"
   },
   {
    "duration": -51,
    "start_time": "2021-11-15T16:06:31.773Z"
   },
   {
    "duration": 152,
    "start_time": "2021-11-15T16:06:33.147Z"
   },
   {
    "duration": 67,
    "start_time": "2021-11-15T16:07:07.676Z"
   },
   {
    "duration": 10440,
    "start_time": "2021-11-15T16:11:56.913Z"
   },
   {
    "duration": 471,
    "start_time": "2021-11-15T16:12:13.009Z"
   },
   {
    "duration": 801,
    "start_time": "2021-11-15T16:13:00.165Z"
   },
   {
    "duration": 790,
    "start_time": "2021-11-15T16:13:10.683Z"
   },
   {
    "duration": 635,
    "start_time": "2021-11-15T16:13:21.453Z"
   },
   {
    "duration": 742,
    "start_time": "2021-11-15T16:13:36.574Z"
   },
   {
    "duration": 717,
    "start_time": "2021-11-15T16:13:40.997Z"
   },
   {
    "duration": 726,
    "start_time": "2021-11-15T16:15:21.340Z"
   },
   {
    "duration": 521,
    "start_time": "2021-11-15T16:15:29.610Z"
   },
   {
    "duration": 705,
    "start_time": "2021-11-15T16:15:51.015Z"
   },
   {
    "duration": 590,
    "start_time": "2021-11-15T16:16:11.115Z"
   },
   {
    "duration": 692,
    "start_time": "2021-11-15T16:16:18.398Z"
   },
   {
    "duration": 139,
    "start_time": "2021-11-15T16:16:26.938Z"
   },
   {
    "duration": 544,
    "start_time": "2021-11-15T16:18:14.670Z"
   },
   {
    "duration": 135,
    "start_time": "2021-11-15T16:18:22.808Z"
   },
   {
    "duration": 50,
    "start_time": "2021-11-15T16:19:58.029Z"
   },
   {
    "duration": 108,
    "start_time": "2021-11-15T16:21:15.438Z"
   },
   {
    "duration": 60,
    "start_time": "2021-11-15T16:21:40.655Z"
   },
   {
    "duration": 85,
    "start_time": "2021-11-15T16:22:00.280Z"
   },
   {
    "duration": 9879,
    "start_time": "2021-11-15T16:22:12.848Z"
   },
   {
    "duration": 10052,
    "start_time": "2021-11-15T16:22:55.507Z"
   },
   {
    "duration": 50,
    "start_time": "2021-11-15T16:23:11.876Z"
   },
   {
    "duration": 10825,
    "start_time": "2021-11-15T16:23:29.465Z"
   },
   {
    "duration": 9766,
    "start_time": "2021-11-15T16:23:50.923Z"
   },
   {
    "duration": -40,
    "start_time": "2021-11-15T16:24:24.292Z"
   },
   {
    "duration": 100,
    "start_time": "2021-11-15T16:24:26.445Z"
   },
   {
    "duration": 89,
    "start_time": "2021-11-15T16:24:37.884Z"
   },
   {
    "duration": 47,
    "start_time": "2021-11-15T16:25:49.943Z"
   },
   {
    "duration": 71,
    "start_time": "2021-11-15T16:27:23.793Z"
   },
   {
    "duration": 1207,
    "start_time": "2021-11-15T19:58:17.586Z"
   },
   {
    "duration": 36,
    "start_time": "2021-11-15T19:58:18.795Z"
   },
   {
    "duration": 7,
    "start_time": "2021-11-15T19:58:18.832Z"
   },
   {
    "duration": 18,
    "start_time": "2021-11-15T19:58:18.840Z"
   },
   {
    "duration": 137,
    "start_time": "2021-11-15T19:58:18.860Z"
   },
   {
    "duration": 18,
    "start_time": "2021-11-15T19:58:18.999Z"
   },
   {
    "duration": 26,
    "start_time": "2021-11-15T19:58:19.019Z"
   },
   {
    "duration": 92,
    "start_time": "2021-11-15T19:58:19.047Z"
   },
   {
    "duration": 13,
    "start_time": "2021-11-15T19:58:19.141Z"
   },
   {
    "duration": 124,
    "start_time": "2021-11-15T19:58:19.155Z"
   },
   {
    "duration": 19,
    "start_time": "2021-11-15T19:58:19.281Z"
   },
   {
    "duration": 26,
    "start_time": "2021-11-15T19:58:19.302Z"
   },
   {
    "duration": 20,
    "start_time": "2021-11-15T19:58:19.330Z"
   },
   {
    "duration": 7,
    "start_time": "2021-11-15T19:58:19.352Z"
   },
   {
    "duration": 178,
    "start_time": "2021-11-15T19:58:19.360Z"
   },
   {
    "duration": 81,
    "start_time": "2021-11-15T19:58:19.540Z"
   },
   {
    "duration": 13,
    "start_time": "2021-11-15T19:58:19.623Z"
   },
   {
    "duration": 233,
    "start_time": "2021-11-15T19:58:19.637Z"
   },
   {
    "duration": 5,
    "start_time": "2021-11-15T19:58:19.872Z"
   },
   {
    "duration": 11,
    "start_time": "2021-11-15T19:58:19.879Z"
   },
   {
    "duration": 9,
    "start_time": "2021-11-15T19:58:19.892Z"
   },
   {
    "duration": 219,
    "start_time": "2021-11-15T19:58:19.902Z"
   },
   {
    "duration": 7,
    "start_time": "2021-11-15T19:58:20.124Z"
   },
   {
    "duration": 10,
    "start_time": "2021-11-15T19:58:20.132Z"
   },
   {
    "duration": 13,
    "start_time": "2021-11-15T19:58:20.143Z"
   },
   {
    "duration": 68,
    "start_time": "2021-11-15T19:58:20.158Z"
   },
   {
    "duration": 43,
    "start_time": "2021-11-15T19:58:20.227Z"
   },
   {
    "duration": 157,
    "start_time": "2021-11-15T19:58:20.271Z"
   },
   {
    "duration": 37,
    "start_time": "2021-11-15T19:58:20.430Z"
   },
   {
    "duration": 40,
    "start_time": "2021-11-15T19:58:20.469Z"
   },
   {
    "duration": 34,
    "start_time": "2021-11-15T19:58:20.511Z"
   },
   {
    "duration": 96,
    "start_time": "2021-11-15T19:58:20.546Z"
   },
   {
    "duration": 47,
    "start_time": "2021-11-15T19:58:20.643Z"
   },
   {
    "duration": 43,
    "start_time": "2021-11-15T19:58:26.347Z"
   },
   {
    "duration": 41,
    "start_time": "2021-11-15T20:00:21.081Z"
   },
   {
    "duration": 6547,
    "start_time": "2021-11-15T20:01:10.427Z"
   },
   {
    "duration": 64,
    "start_time": "2021-11-15T20:01:22.245Z"
   },
   {
    "duration": 32,
    "start_time": "2021-11-15T20:01:49.594Z"
   },
   {
    "duration": 15,
    "start_time": "2021-11-15T20:08:11.555Z"
   },
   {
    "duration": 359,
    "start_time": "2021-11-15T20:09:52.094Z"
   },
   {
    "duration": 256,
    "start_time": "2021-11-15T20:13:34.641Z"
   },
   {
    "duration": 249,
    "start_time": "2021-11-15T20:14:23.096Z"
   },
   {
    "duration": 9,
    "start_time": "2021-11-15T20:14:32.342Z"
   },
   {
    "duration": 264,
    "start_time": "2021-11-15T20:14:40.194Z"
   },
   {
    "duration": 4,
    "start_time": "2021-11-15T20:15:01.698Z"
   },
   {
    "duration": 15,
    "start_time": "2021-11-15T20:15:35.330Z"
   },
   {
    "duration": 3,
    "start_time": "2021-11-15T20:15:39.793Z"
   },
   {
    "duration": 495,
    "start_time": "2021-11-15T20:15:51.408Z"
   },
   {
    "duration": 8,
    "start_time": "2021-11-15T20:16:03.755Z"
   },
   {
    "duration": 93,
    "start_time": "2021-11-15T20:16:22.466Z"
   },
   {
    "duration": 3,
    "start_time": "2021-11-15T20:17:45.766Z"
   },
   {
    "duration": 6516,
    "start_time": "2021-11-15T20:19:56.641Z"
   },
   {
    "duration": 90,
    "start_time": "2021-11-15T20:20:16.068Z"
   },
   {
    "duration": 254,
    "start_time": "2021-11-15T20:20:20.221Z"
   },
   {
    "duration": 3,
    "start_time": "2021-11-15T20:20:33.661Z"
   },
   {
    "duration": 296,
    "start_time": "2021-11-15T20:20:34.405Z"
   },
   {
    "duration": 7,
    "start_time": "2021-11-15T20:20:48.231Z"
   },
   {
    "duration": 16,
    "start_time": "2021-11-15T20:20:54.182Z"
   },
   {
    "duration": 91,
    "start_time": "2021-11-15T20:21:21.457Z"
   },
   {
    "duration": 91,
    "start_time": "2021-11-15T20:22:53.696Z"
   },
   {
    "duration": 92,
    "start_time": "2021-11-15T20:24:29.886Z"
   },
   {
    "duration": 68,
    "start_time": "2021-11-15T20:25:11.755Z"
   },
   {
    "duration": 6221,
    "start_time": "2021-11-15T20:25:37.668Z"
   },
   {
    "duration": 32,
    "start_time": "2021-11-15T20:25:56.358Z"
   },
   {
    "duration": 63,
    "start_time": "2021-11-15T20:26:17.321Z"
   },
   {
    "duration": 33,
    "start_time": "2021-11-15T20:26:25.485Z"
   },
   {
    "duration": 30,
    "start_time": "2021-11-15T20:26:32.875Z"
   },
   {
    "duration": 32,
    "start_time": "2021-11-15T20:26:37.552Z"
   },
   {
    "duration": 41,
    "start_time": "2021-11-15T20:28:13.782Z"
   },
   {
    "duration": 37,
    "start_time": "2021-11-15T20:28:29.267Z"
   },
   {
    "duration": 33,
    "start_time": "2021-11-15T20:28:40.830Z"
   },
   {
    "duration": 37,
    "start_time": "2021-11-15T20:28:45.550Z"
   },
   {
    "duration": 35,
    "start_time": "2021-11-15T20:29:58.636Z"
   },
   {
    "duration": 37,
    "start_time": "2021-11-15T20:30:03.901Z"
   },
   {
    "duration": 35,
    "start_time": "2021-11-15T20:30:08.676Z"
   },
   {
    "duration": 37,
    "start_time": "2021-11-15T20:30:11.292Z"
   },
   {
    "duration": 249,
    "start_time": "2021-11-15T20:31:35.557Z"
   },
   {
    "duration": 38,
    "start_time": "2021-11-15T20:31:43.862Z"
   },
   {
    "duration": 39,
    "start_time": "2021-11-15T20:31:54.215Z"
   },
   {
    "duration": 6417,
    "start_time": "2021-11-15T20:33:49.386Z"
   },
   {
    "duration": 143,
    "start_time": "2021-11-15T20:35:29.266Z"
   },
   {
    "duration": 33,
    "start_time": "2021-11-15T20:35:36.830Z"
   },
   {
    "duration": 19,
    "start_time": "2021-11-15T20:35:44.278Z"
   },
   {
    "duration": 27,
    "start_time": "2021-11-15T20:36:12.463Z"
   },
   {
    "duration": 24,
    "start_time": "2021-11-15T20:36:19.491Z"
   },
   {
    "duration": 20,
    "start_time": "2021-11-15T20:36:21.888Z"
   },
   {
    "duration": 20,
    "start_time": "2021-11-15T20:36:29.099Z"
   },
   {
    "duration": 20,
    "start_time": "2021-11-15T20:36:34.017Z"
   },
   {
    "duration": 6,
    "start_time": "2021-11-15T20:36:48.863Z"
   },
   {
    "duration": 39,
    "start_time": "2021-11-15T20:36:48.871Z"
   },
   {
    "duration": 6,
    "start_time": "2021-11-15T20:36:48.912Z"
   },
   {
    "duration": 17,
    "start_time": "2021-11-15T20:36:48.921Z"
   },
   {
    "duration": 130,
    "start_time": "2021-11-15T20:36:48.940Z"
   },
   {
    "duration": 27,
    "start_time": "2021-11-15T20:36:49.072Z"
   },
   {
    "duration": 27,
    "start_time": "2021-11-15T20:36:49.101Z"
   },
   {
    "duration": 82,
    "start_time": "2021-11-15T20:36:49.130Z"
   },
   {
    "duration": 13,
    "start_time": "2021-11-15T20:36:49.214Z"
   },
   {
    "duration": 123,
    "start_time": "2021-11-15T20:36:49.229Z"
   },
   {
    "duration": 15,
    "start_time": "2021-11-15T20:36:49.354Z"
   },
   {
    "duration": 41,
    "start_time": "2021-11-15T20:36:49.370Z"
   },
   {
    "duration": 25,
    "start_time": "2021-11-15T20:36:49.412Z"
   },
   {
    "duration": 7,
    "start_time": "2021-11-15T20:36:49.439Z"
   },
   {
    "duration": 156,
    "start_time": "2021-11-15T20:36:49.448Z"
   },
   {
    "duration": 103,
    "start_time": "2021-11-15T20:36:49.606Z"
   },
   {
    "duration": 10,
    "start_time": "2021-11-15T20:36:49.710Z"
   },
   {
    "duration": 224,
    "start_time": "2021-11-15T20:36:49.722Z"
   },
   {
    "duration": 4,
    "start_time": "2021-11-15T20:36:49.948Z"
   },
   {
    "duration": 6,
    "start_time": "2021-11-15T20:36:49.953Z"
   },
   {
    "duration": 9,
    "start_time": "2021-11-15T20:36:49.961Z"
   },
   {
    "duration": 223,
    "start_time": "2021-11-15T20:36:49.987Z"
   },
   {
    "duration": 7,
    "start_time": "2021-11-15T20:36:50.212Z"
   },
   {
    "duration": 10,
    "start_time": "2021-11-15T20:36:50.221Z"
   },
   {
    "duration": 13,
    "start_time": "2021-11-15T20:36:50.233Z"
   },
   {
    "duration": 68,
    "start_time": "2021-11-15T20:36:50.248Z"
   },
   {
    "duration": 42,
    "start_time": "2021-11-15T20:36:50.320Z"
   },
   {
    "duration": 158,
    "start_time": "2021-11-15T20:36:50.363Z"
   },
   {
    "duration": 39,
    "start_time": "2021-11-15T20:36:50.522Z"
   },
   {
    "duration": 47,
    "start_time": "2021-11-15T20:36:50.562Z"
   },
   {
    "duration": 34,
    "start_time": "2021-11-15T20:36:50.611Z"
   },
   {
    "duration": 80,
    "start_time": "2021-11-15T20:36:50.646Z"
   },
   {
    "duration": 43,
    "start_time": "2021-11-15T20:36:50.728Z"
   },
   {
    "duration": 53,
    "start_time": "2021-11-15T20:36:50.773Z"
   },
   {
    "duration": 61,
    "start_time": "2021-11-15T20:36:50.828Z"
   },
   {
    "duration": 3,
    "start_time": "2021-11-15T20:36:50.890Z"
   },
   {
    "duration": 94,
    "start_time": "2021-11-15T20:36:50.895Z"
   },
   {
    "duration": 88,
    "start_time": "2021-11-15T20:36:52.356Z"
   },
   {
    "duration": 81,
    "start_time": "2021-11-15T20:36:52.618Z"
   },
   {
    "duration": 55,
    "start_time": "2021-11-15T20:37:09.630Z"
   },
   {
    "duration": 10,
    "start_time": "2021-11-15T20:37:13.004Z"
   },
   {
    "duration": 4,
    "start_time": "2021-11-15T20:37:20.019Z"
   },
   {
    "duration": 8,
    "start_time": "2021-11-15T20:37:27.377Z"
   },
   {
    "duration": 248,
    "start_time": "2021-11-15T20:37:50.119Z"
   },
   {
    "duration": 11,
    "start_time": "2021-11-15T20:37:54.222Z"
   },
   {
    "duration": 6,
    "start_time": "2021-11-15T20:39:25.106Z"
   },
   {
    "duration": 7,
    "start_time": "2021-11-15T20:39:42.078Z"
   },
   {
    "duration": 3183,
    "start_time": "2021-11-15T20:40:12.645Z"
   },
   {
    "duration": 6792,
    "start_time": "2021-11-15T20:40:38.926Z"
   },
   {
    "duration": 7,
    "start_time": "2021-11-15T20:40:52.089Z"
   },
   {
    "duration": 4,
    "start_time": "2021-11-15T20:41:08.052Z"
   },
   {
    "duration": 37,
    "start_time": "2021-11-15T20:41:08.057Z"
   },
   {
    "duration": 5,
    "start_time": "2021-11-15T20:41:08.096Z"
   },
   {
    "duration": 17,
    "start_time": "2021-11-15T20:41:08.103Z"
   },
   {
    "duration": 143,
    "start_time": "2021-11-15T20:41:08.121Z"
   },
   {
    "duration": 37,
    "start_time": "2021-11-15T20:41:08.266Z"
   },
   {
    "duration": 38,
    "start_time": "2021-11-15T20:41:08.305Z"
   },
   {
    "duration": 122,
    "start_time": "2021-11-15T20:41:08.346Z"
   },
   {
    "duration": 26,
    "start_time": "2021-11-15T20:41:08.471Z"
   },
   {
    "duration": 259,
    "start_time": "2021-11-15T20:41:08.500Z"
   },
   {
    "duration": 15,
    "start_time": "2021-11-15T20:41:08.760Z"
   },
   {
    "duration": 32,
    "start_time": "2021-11-15T20:41:08.777Z"
   },
   {
    "duration": 20,
    "start_time": "2021-11-15T20:41:08.810Z"
   },
   {
    "duration": 7,
    "start_time": "2021-11-15T20:41:08.832Z"
   },
   {
    "duration": 154,
    "start_time": "2021-11-15T20:41:08.841Z"
   },
   {
    "duration": 61,
    "start_time": "2021-11-15T20:41:08.997Z"
   },
   {
    "duration": 34,
    "start_time": "2021-11-15T20:41:09.059Z"
   },
   {
    "duration": 222,
    "start_time": "2021-11-15T20:41:09.095Z"
   },
   {
    "duration": 4,
    "start_time": "2021-11-15T20:41:09.318Z"
   },
   {
    "duration": 8,
    "start_time": "2021-11-15T20:41:09.324Z"
   },
   {
    "duration": 11,
    "start_time": "2021-11-15T20:41:09.333Z"
   },
   {
    "duration": 232,
    "start_time": "2021-11-15T20:41:09.345Z"
   },
   {
    "duration": 13,
    "start_time": "2021-11-15T20:41:09.579Z"
   },
   {
    "duration": 14,
    "start_time": "2021-11-15T20:41:09.594Z"
   },
   {
    "duration": 15,
    "start_time": "2021-11-15T20:41:09.609Z"
   },
   {
    "duration": 65,
    "start_time": "2021-11-15T20:41:09.625Z"
   },
   {
    "duration": 39,
    "start_time": "2021-11-15T20:41:09.693Z"
   },
   {
    "duration": 132,
    "start_time": "2021-11-15T20:41:09.734Z"
   },
   {
    "duration": 47,
    "start_time": "2021-11-15T20:41:09.867Z"
   },
   {
    "duration": 30,
    "start_time": "2021-11-15T20:41:09.915Z"
   },
   {
    "duration": 45,
    "start_time": "2021-11-15T20:41:09.946Z"
   },
   {
    "duration": 79,
    "start_time": "2021-11-15T20:41:09.993Z"
   },
   {
    "duration": 51,
    "start_time": "2021-11-15T20:41:10.073Z"
   },
   {
    "duration": 40,
    "start_time": "2021-11-15T20:41:10.125Z"
   },
   {
    "duration": 64,
    "start_time": "2021-11-15T20:41:10.166Z"
   },
   {
    "duration": 2,
    "start_time": "2021-11-15T20:41:10.232Z"
   },
   {
    "duration": 92,
    "start_time": "2021-11-15T20:41:10.236Z"
   },
   {
    "duration": 82,
    "start_time": "2021-11-15T20:41:10.329Z"
   },
   {
    "duration": 39,
    "start_time": "2021-11-15T20:41:12.883Z"
   },
   {
    "duration": 19,
    "start_time": "2021-11-15T20:41:13.057Z"
   },
   {
    "duration": 6172,
    "start_time": "2021-11-15T20:41:26.930Z"
   },
   {
    "duration": 5,
    "start_time": "2021-11-15T20:41:43.484Z"
   },
   {
    "duration": 88,
    "start_time": "2021-11-15T20:41:55.111Z"
   },
   {
    "duration": 6765,
    "start_time": "2021-11-15T20:42:07.084Z"
   },
   {
    "duration": 27,
    "start_time": "2021-11-15T20:43:07.793Z"
   },
   {
    "duration": 139,
    "start_time": "2021-11-15T20:43:30.108Z"
   },
   {
    "duration": 98,
    "start_time": "2021-11-15T20:43:44.532Z"
   },
   {
    "duration": 138,
    "start_time": "2021-11-15T20:43:48.876Z"
   },
   {
    "duration": 32,
    "start_time": "2021-11-15T20:44:21.781Z"
   },
   {
    "duration": 10,
    "start_time": "2021-11-15T20:44:43.534Z"
   },
   {
    "duration": 1203,
    "start_time": "2021-11-15T20:46:31.178Z"
   },
   {
    "duration": 43,
    "start_time": "2021-11-15T20:46:32.383Z"
   },
   {
    "duration": 7,
    "start_time": "2021-11-15T20:46:32.428Z"
   },
   {
    "duration": 18,
    "start_time": "2021-11-15T20:46:32.436Z"
   },
   {
    "duration": 137,
    "start_time": "2021-11-15T20:46:32.455Z"
   },
   {
    "duration": 17,
    "start_time": "2021-11-15T20:46:32.594Z"
   },
   {
    "duration": 28,
    "start_time": "2021-11-15T20:46:32.613Z"
   },
   {
    "duration": 93,
    "start_time": "2021-11-15T20:46:32.644Z"
   },
   {
    "duration": 13,
    "start_time": "2021-11-15T20:46:32.740Z"
   },
   {
    "duration": 127,
    "start_time": "2021-11-15T20:46:32.755Z"
   },
   {
    "duration": 17,
    "start_time": "2021-11-15T20:46:32.883Z"
   },
   {
    "duration": 25,
    "start_time": "2021-11-15T20:46:32.901Z"
   },
   {
    "duration": 20,
    "start_time": "2021-11-15T20:46:32.928Z"
   },
   {
    "duration": 6,
    "start_time": "2021-11-15T20:46:32.950Z"
   },
   {
    "duration": 179,
    "start_time": "2021-11-15T20:46:32.958Z"
   },
   {
    "duration": 80,
    "start_time": "2021-11-15T20:46:33.138Z"
   },
   {
    "duration": 9,
    "start_time": "2021-11-15T20:46:33.219Z"
   },
   {
    "duration": 220,
    "start_time": "2021-11-15T20:46:33.230Z"
   },
   {
    "duration": 4,
    "start_time": "2021-11-15T20:46:33.452Z"
   },
   {
    "duration": 6,
    "start_time": "2021-11-15T20:46:33.457Z"
   },
   {
    "duration": 24,
    "start_time": "2021-11-15T20:46:33.464Z"
   },
   {
    "duration": 230,
    "start_time": "2021-11-15T20:46:33.490Z"
   },
   {
    "duration": 6,
    "start_time": "2021-11-15T20:46:33.723Z"
   },
   {
    "duration": 10,
    "start_time": "2021-11-15T20:46:33.731Z"
   },
   {
    "duration": 12,
    "start_time": "2021-11-15T20:46:33.742Z"
   },
   {
    "duration": 71,
    "start_time": "2021-11-15T20:46:33.756Z"
   },
   {
    "duration": 41,
    "start_time": "2021-11-15T20:46:33.829Z"
   },
   {
    "duration": 157,
    "start_time": "2021-11-15T20:46:33.872Z"
   },
   {
    "duration": 40,
    "start_time": "2021-11-15T20:46:34.030Z"
   },
   {
    "duration": 40,
    "start_time": "2021-11-15T20:46:34.072Z"
   },
   {
    "duration": 35,
    "start_time": "2021-11-15T20:46:34.113Z"
   },
   {
    "duration": 92,
    "start_time": "2021-11-15T20:46:34.150Z"
   },
   {
    "duration": 46,
    "start_time": "2021-11-15T20:46:34.244Z"
   },
   {
    "duration": 40,
    "start_time": "2021-11-15T20:46:34.292Z"
   },
   {
    "duration": 81,
    "start_time": "2021-11-15T20:46:34.334Z"
   },
   {
    "duration": 3,
    "start_time": "2021-11-15T20:46:34.417Z"
   },
   {
    "duration": 94,
    "start_time": "2021-11-15T20:46:34.421Z"
   },
   {
    "duration": 83,
    "start_time": "2021-11-15T20:46:34.517Z"
   },
   {
    "duration": 137513,
    "start_time": "2021-11-15T20:46:34.602Z"
   },
   {
    "duration": -210,
    "start_time": "2021-11-15T20:48:52.330Z"
   },
   {
    "duration": 6,
    "start_time": "2021-11-15T20:48:57.819Z"
   },
   {
    "duration": 270,
    "start_time": "2021-11-15T20:49:13.696Z"
   },
   {
    "duration": 22,
    "start_time": "2021-11-15T20:49:19.557Z"
   },
   {
    "duration": 37,
    "start_time": "2021-11-15T20:50:02.290Z"
   },
   {
    "duration": 37,
    "start_time": "2021-11-15T20:50:11.804Z"
   },
   {
    "duration": 253,
    "start_time": "2021-11-15T20:51:10.816Z"
   },
   {
    "duration": 39,
    "start_time": "2021-11-15T20:51:16.799Z"
   },
   {
    "duration": 282,
    "start_time": "2021-11-15T20:54:29.488Z"
   },
   {
    "duration": 18,
    "start_time": "2021-11-15T20:54:45.094Z"
   },
   {
    "duration": 371,
    "start_time": "2021-11-15T20:54:52.143Z"
   },
   {
    "duration": 266,
    "start_time": "2021-11-15T20:55:17.044Z"
   },
   {
    "duration": 18,
    "start_time": "2021-11-15T20:55:25.828Z"
   },
   {
    "duration": 13,
    "start_time": "2021-11-15T20:55:37.386Z"
   },
   {
    "duration": 16,
    "start_time": "2021-11-15T20:56:25.795Z"
   },
   {
    "duration": 13,
    "start_time": "2021-11-15T20:57:23.426Z"
   },
   {
    "duration": 8,
    "start_time": "2021-11-15T20:58:27.914Z"
   },
   {
    "duration": 14,
    "start_time": "2021-11-15T20:59:31.819Z"
   },
   {
    "duration": 7,
    "start_time": "2021-11-15T21:00:20.378Z"
   },
   {
    "duration": 38,
    "start_time": "2021-11-15T21:00:56.846Z"
   },
   {
    "duration": 39,
    "start_time": "2021-11-15T21:01:04.773Z"
   },
   {
    "duration": 92,
    "start_time": "2021-11-15T21:02:09.922Z"
   },
   {
    "duration": 24,
    "start_time": "2021-11-15T21:02:18.834Z"
   },
   {
    "duration": 605,
    "start_time": "2021-11-15T21:02:44.318Z"
   },
   {
    "duration": 22,
    "start_time": "2021-11-15T21:02:53.174Z"
   },
   {
    "duration": 21,
    "start_time": "2021-11-15T21:03:12.079Z"
   },
   {
    "duration": 8,
    "start_time": "2021-11-15T21:04:19.957Z"
   },
   {
    "duration": 315,
    "start_time": "2021-11-15T21:04:28.619Z"
   },
   {
    "duration": 336,
    "start_time": "2021-11-15T21:04:41.751Z"
   },
   {
    "duration": 252,
    "start_time": "2021-11-15T21:04:47.317Z"
   },
   {
    "duration": 4,
    "start_time": "2021-11-15T21:06:16.092Z"
   },
   {
    "duration": 11,
    "start_time": "2021-11-15T21:06:20.704Z"
   },
   {
    "duration": 10,
    "start_time": "2021-11-15T21:06:33.038Z"
   },
   {
    "duration": 14,
    "start_time": "2021-11-15T21:06:50.439Z"
   },
   {
    "duration": 33,
    "start_time": "2021-11-15T21:06:53.065Z"
   },
   {
    "duration": 26,
    "start_time": "2021-11-15T21:07:02.834Z"
   },
   {
    "duration": 272,
    "start_time": "2021-11-15T21:07:29.510Z"
   },
   {
    "duration": 3,
    "start_time": "2021-11-15T21:07:40.946Z"
   },
   {
    "duration": 83,
    "start_time": "2021-11-15T21:07:41.540Z"
   },
   {
    "duration": 51,
    "start_time": "2021-11-15T21:07:42.251Z"
   },
   {
    "duration": 31,
    "start_time": "2021-11-15T21:07:44.323Z"
   },
   {
    "duration": 27,
    "start_time": "2021-11-15T21:07:44.992Z"
   },
   {
    "duration": 19,
    "start_time": "2021-11-15T21:08:26.094Z"
   },
   {
    "duration": 17,
    "start_time": "2021-11-15T21:08:40.677Z"
   },
   {
    "duration": 26,
    "start_time": "2021-11-15T21:09:13.798Z"
   },
   {
    "duration": 3,
    "start_time": "2021-11-15T21:09:24.353Z"
   },
   {
    "duration": 2,
    "start_time": "2021-11-15T21:09:35.948Z"
   },
   {
    "duration": 12,
    "start_time": "2021-11-15T21:09:42.764Z"
   },
   {
    "duration": 32,
    "start_time": "2021-11-15T21:09:44.150Z"
   },
   {
    "duration": 24,
    "start_time": "2021-11-15T21:09:52.513Z"
   },
   {
    "duration": 7,
    "start_time": "2021-11-15T21:09:54.548Z"
   },
   {
    "duration": 3,
    "start_time": "2021-11-15T21:10:14.461Z"
   },
   {
    "duration": 8,
    "start_time": "2021-11-15T21:10:16.845Z"
   },
   {
    "duration": 17,
    "start_time": "2021-11-15T21:10:30.940Z"
   },
   {
    "duration": 6,
    "start_time": "2021-11-15T21:10:48.554Z"
   },
   {
    "duration": 15,
    "start_time": "2021-11-15T21:12:37.164Z"
   },
   {
    "duration": 6,
    "start_time": "2021-11-15T21:13:08.874Z"
   },
   {
    "duration": 66,
    "start_time": "2021-11-15T21:13:27.226Z"
   },
   {
    "duration": 17,
    "start_time": "2021-11-15T21:13:45.834Z"
   },
   {
    "duration": 44,
    "start_time": "2021-11-15T21:14:31.673Z"
   },
   {
    "duration": 13,
    "start_time": "2021-11-15T21:14:44.924Z"
   },
   {
    "duration": 8,
    "start_time": "2021-11-15T21:14:48.956Z"
   },
   {
    "duration": 249,
    "start_time": "2021-11-15T21:16:03.467Z"
   },
   {
    "duration": 92,
    "start_time": "2021-11-15T21:16:35.597Z"
   },
   {
    "duration": 5,
    "start_time": "2021-11-15T21:16:39.120Z"
   },
   {
    "duration": 35,
    "start_time": "2021-11-15T21:16:39.126Z"
   },
   {
    "duration": 6,
    "start_time": "2021-11-15T21:16:39.163Z"
   },
   {
    "duration": 17,
    "start_time": "2021-11-15T21:16:39.170Z"
   },
   {
    "duration": 128,
    "start_time": "2021-11-15T21:16:39.189Z"
   },
   {
    "duration": 18,
    "start_time": "2021-11-15T21:16:39.319Z"
   },
   {
    "duration": 26,
    "start_time": "2021-11-15T21:16:39.338Z"
   },
   {
    "duration": 79,
    "start_time": "2021-11-15T21:16:39.365Z"
   },
   {
    "duration": 13,
    "start_time": "2021-11-15T21:16:39.446Z"
   },
   {
    "duration": 128,
    "start_time": "2021-11-15T21:16:39.461Z"
   },
   {
    "duration": 16,
    "start_time": "2021-11-15T21:16:39.590Z"
   },
   {
    "duration": 29,
    "start_time": "2021-11-15T21:16:39.608Z"
   },
   {
    "duration": 20,
    "start_time": "2021-11-15T21:16:39.638Z"
   },
   {
    "duration": 6,
    "start_time": "2021-11-15T21:16:39.660Z"
   },
   {
    "duration": 153,
    "start_time": "2021-11-15T21:16:39.668Z"
   },
   {
    "duration": 78,
    "start_time": "2021-11-15T21:16:39.823Z"
   },
   {
    "duration": 8,
    "start_time": "2021-11-15T21:16:39.902Z"
   },
   {
    "duration": 220,
    "start_time": "2021-11-15T21:16:39.912Z"
   },
   {
    "duration": 4,
    "start_time": "2021-11-15T21:16:40.133Z"
   },
   {
    "duration": 6,
    "start_time": "2021-11-15T21:16:40.138Z"
   },
   {
    "duration": 10,
    "start_time": "2021-11-15T21:16:40.146Z"
   },
   {
    "duration": 223,
    "start_time": "2021-11-15T21:16:40.157Z"
   },
   {
    "duration": 11,
    "start_time": "2021-11-15T21:16:40.381Z"
   },
   {
    "duration": 11,
    "start_time": "2021-11-15T21:16:40.393Z"
   },
   {
    "duration": 14,
    "start_time": "2021-11-15T21:16:40.405Z"
   },
   {
    "duration": 70,
    "start_time": "2021-11-15T21:16:40.420Z"
   },
   {
    "duration": 42,
    "start_time": "2021-11-15T21:16:40.493Z"
   },
   {
    "duration": 127,
    "start_time": "2021-11-15T21:16:40.537Z"
   },
   {
    "duration": 48,
    "start_time": "2021-11-15T21:16:40.665Z"
   },
   {
    "duration": 27,
    "start_time": "2021-11-15T21:16:40.714Z"
   },
   {
    "duration": 47,
    "start_time": "2021-11-15T21:16:40.742Z"
   },
   {
    "duration": 66,
    "start_time": "2021-11-15T21:16:40.790Z"
   },
   {
    "duration": 52,
    "start_time": "2021-11-15T21:16:40.858Z"
   },
   {
    "duration": 42,
    "start_time": "2021-11-15T21:16:40.911Z"
   },
   {
    "duration": 83,
    "start_time": "2021-11-15T21:16:40.954Z"
   },
   {
    "duration": 3,
    "start_time": "2021-11-15T21:16:41.038Z"
   },
   {
    "duration": 98,
    "start_time": "2021-11-15T21:16:41.043Z"
   },
   {
    "duration": 45,
    "start_time": "2021-11-15T21:16:41.143Z"
   },
   {
    "duration": 33,
    "start_time": "2021-11-15T21:16:41.190Z"
   },
   {
    "duration": 18,
    "start_time": "2021-11-15T21:16:41.225Z"
   },
   {
    "duration": 93,
    "start_time": "2021-11-15T21:16:41.244Z"
   },
   {
    "duration": 31,
    "start_time": "2021-11-15T21:16:41.338Z"
   },
   {
    "duration": 11,
    "start_time": "2021-11-15T21:16:42.727Z"
   },
   {
    "duration": 86,
    "start_time": "2021-11-15T21:16:43.103Z"
   },
   {
    "duration": 4,
    "start_time": "2021-11-15T21:16:48.861Z"
   },
   {
    "duration": 2,
    "start_time": "2021-11-15T21:16:51.973Z"
   },
   {
    "duration": 2,
    "start_time": "2021-11-15T21:17:34.719Z"
   },
   {
    "duration": 8,
    "start_time": "2021-11-15T21:17:36.707Z"
   },
   {
    "duration": 2,
    "start_time": "2021-11-15T21:17:49.671Z"
   },
   {
    "duration": 7,
    "start_time": "2021-11-15T21:17:54.029Z"
   },
   {
    "duration": 8,
    "start_time": "2021-11-15T21:17:57.576Z"
   },
   {
    "duration": 388,
    "start_time": "2021-11-15T21:18:36.272Z"
   },
   {
    "duration": 374,
    "start_time": "2021-11-15T21:18:45.513Z"
   },
   {
    "duration": 8,
    "start_time": "2021-11-15T21:18:48.834Z"
   },
   {
    "duration": 3,
    "start_time": "2021-11-15T21:18:54.044Z"
   },
   {
    "duration": 4,
    "start_time": "2021-11-15T21:19:00.281Z"
   },
   {
    "duration": 17,
    "start_time": "2021-11-15T21:19:08.543Z"
   },
   {
    "duration": 7,
    "start_time": "2021-11-15T21:19:12.254Z"
   },
   {
    "duration": 3,
    "start_time": "2021-11-15T21:19:20.654Z"
   },
   {
    "duration": 7,
    "start_time": "2021-11-15T21:19:20.939Z"
   },
   {
    "duration": 16,
    "start_time": "2021-11-15T21:19:30.082Z"
   },
   {
    "duration": 7,
    "start_time": "2021-11-15T21:19:32.566Z"
   },
   {
    "duration": 8,
    "start_time": "2021-11-15T21:19:39.836Z"
   },
   {
    "duration": 3,
    "start_time": "2021-11-15T21:19:43.089Z"
   },
   {
    "duration": 7,
    "start_time": "2021-11-15T21:19:44.665Z"
   },
   {
    "duration": 13,
    "start_time": "2021-11-15T21:20:36.432Z"
   },
   {
    "duration": 37,
    "start_time": "2021-11-15T21:20:38.409Z"
   },
   {
    "duration": 18,
    "start_time": "2021-11-15T21:20:38.618Z"
   },
   {
    "duration": 91,
    "start_time": "2021-11-15T21:20:39.067Z"
   },
   {
    "duration": 41,
    "start_time": "2021-11-15T21:20:39.509Z"
   },
   {
    "duration": 11,
    "start_time": "2021-11-15T21:20:45.247Z"
   },
   {
    "duration": 259,
    "start_time": "2021-11-15T21:20:49.159Z"
   },
   {
    "duration": 4,
    "start_time": "2021-11-15T21:20:50.947Z"
   },
   {
    "duration": 8,
    "start_time": "2021-11-15T21:20:54.345Z"
   },
   {
    "duration": 260,
    "start_time": "2021-11-15T21:22:56.294Z"
   },
   {
    "duration": 80,
    "start_time": "2021-11-15T21:23:06.113Z"
   },
   {
    "duration": 262,
    "start_time": "2021-11-15T21:23:06.837Z"
   },
   {
    "duration": 3236,
    "start_time": "2021-11-15T21:23:57.343Z"
   },
   {
    "duration": 9,
    "start_time": "2021-11-15T21:24:11.179Z"
   },
   {
    "duration": 11,
    "start_time": "2021-11-15T21:24:16.695Z"
   },
   {
    "duration": 12,
    "start_time": "2021-11-15T21:26:20.848Z"
   },
   {
    "duration": 16,
    "start_time": "2021-11-15T21:26:40.300Z"
   },
   {
    "duration": 12,
    "start_time": "2021-11-15T21:27:38.699Z"
   },
   {
    "duration": 14,
    "start_time": "2021-11-15T21:27:41.327Z"
   },
   {
    "duration": 4,
    "start_time": "2021-11-15T21:27:58.295Z"
   },
   {
    "duration": 3,
    "start_time": "2021-11-15T21:28:15.826Z"
   },
   {
    "duration": 64,
    "start_time": "2021-11-15T21:28:20.398Z"
   },
   {
    "duration": 258,
    "start_time": "2021-11-15T21:29:04.146Z"
   },
   {
    "duration": 10,
    "start_time": "2021-11-15T21:29:14.528Z"
   },
   {
    "duration": 11,
    "start_time": "2021-11-15T21:29:38.415Z"
   },
   {
    "duration": 16,
    "start_time": "2021-11-15T21:29:48.123Z"
   },
   {
    "duration": 265,
    "start_time": "2021-11-15T21:31:42.040Z"
   },
   {
    "duration": 16,
    "start_time": "2021-11-15T21:32:06.490Z"
   },
   {
    "duration": 267,
    "start_time": "2021-11-15T21:32:26.241Z"
   },
   {
    "duration": 23,
    "start_time": "2021-11-15T21:32:49.954Z"
   },
   {
    "duration": 20,
    "start_time": "2021-11-15T21:33:21.450Z"
   },
   {
    "duration": 25,
    "start_time": "2021-11-15T21:33:58.894Z"
   },
   {
    "duration": 82,
    "start_time": "2021-11-15T21:38:52.181Z"
   },
   {
    "duration": 36,
    "start_time": "2021-11-15T21:38:57.823Z"
   },
   {
    "duration": 273,
    "start_time": "2021-11-15T21:39:06.037Z"
   },
   {
    "duration": 30,
    "start_time": "2021-11-15T21:39:09.850Z"
   },
   {
    "duration": 299,
    "start_time": "2021-11-15T21:39:19.869Z"
   },
   {
    "duration": 33,
    "start_time": "2021-11-15T21:39:26.568Z"
   },
   {
    "duration": 20,
    "start_time": "2021-11-15T21:42:00.634Z"
   },
   {
    "duration": 20,
    "start_time": "2021-11-15T21:42:32.323Z"
   },
   {
    "duration": 6,
    "start_time": "2021-11-15T21:42:57.679Z"
   },
   {
    "duration": 8,
    "start_time": "2021-11-15T21:46:16.925Z"
   },
   {
    "duration": 8,
    "start_time": "2021-11-15T21:46:28.057Z"
   },
   {
    "duration": 270,
    "start_time": "2021-11-15T21:46:39.050Z"
   },
   {
    "duration": 8,
    "start_time": "2021-11-15T21:46:42.865Z"
   },
   {
    "duration": 310,
    "start_time": "2021-11-16T15:44:53.880Z"
   },
   {
    "duration": 1195,
    "start_time": "2021-11-16T15:44:59.142Z"
   },
   {
    "duration": 39,
    "start_time": "2021-11-16T15:45:00.339Z"
   },
   {
    "duration": 6,
    "start_time": "2021-11-16T15:45:00.380Z"
   },
   {
    "duration": 35,
    "start_time": "2021-11-16T15:45:00.388Z"
   },
   {
    "duration": 163,
    "start_time": "2021-11-16T15:45:00.425Z"
   },
   {
    "duration": 20,
    "start_time": "2021-11-16T15:45:00.590Z"
   },
   {
    "duration": 35,
    "start_time": "2021-11-16T15:45:00.612Z"
   },
   {
    "duration": 110,
    "start_time": "2021-11-16T15:45:00.649Z"
   },
   {
    "duration": 16,
    "start_time": "2021-11-16T15:45:00.761Z"
   },
   {
    "duration": 155,
    "start_time": "2021-11-16T15:45:00.779Z"
   },
   {
    "duration": 17,
    "start_time": "2021-11-16T15:45:00.936Z"
   },
   {
    "duration": 37,
    "start_time": "2021-11-16T15:45:00.955Z"
   },
   {
    "duration": 23,
    "start_time": "2021-11-16T15:45:00.994Z"
   },
   {
    "duration": 15,
    "start_time": "2021-11-16T15:45:01.019Z"
   },
   {
    "duration": 229,
    "start_time": "2021-11-16T15:45:01.035Z"
   },
   {
    "duration": 98,
    "start_time": "2021-11-16T15:45:01.266Z"
   },
   {
    "duration": 10,
    "start_time": "2021-11-16T15:45:01.366Z"
   },
   {
    "duration": 250,
    "start_time": "2021-11-16T15:45:01.378Z"
   },
   {
    "duration": 4,
    "start_time": "2021-11-16T15:45:01.630Z"
   },
   {
    "duration": 31,
    "start_time": "2021-11-16T15:45:01.636Z"
   },
   {
    "duration": 20,
    "start_time": "2021-11-16T15:45:01.668Z"
   },
   {
    "duration": 239,
    "start_time": "2021-11-16T15:45:01.689Z"
   },
   {
    "duration": 7,
    "start_time": "2021-11-16T15:45:01.930Z"
   },
   {
    "duration": 15,
    "start_time": "2021-11-16T15:45:01.939Z"
   },
   {
    "duration": 14,
    "start_time": "2021-11-16T15:45:01.964Z"
   },
   {
    "duration": 61,
    "start_time": "2021-11-16T15:45:01.980Z"
   },
   {
    "duration": 64,
    "start_time": "2021-11-16T15:45:02.043Z"
   },
   {
    "duration": 168,
    "start_time": "2021-11-16T15:45:02.109Z"
   },
   {
    "duration": 91,
    "start_time": "2021-11-16T15:45:05.638Z"
   },
   {
    "duration": 346,
    "start_time": "2021-11-16T15:45:06.417Z"
   },
   {
    "duration": 48,
    "start_time": "2021-11-16T15:45:15.155Z"
   },
   {
    "duration": 294,
    "start_time": "2021-11-16T15:45:45.427Z"
   },
   {
    "duration": 49,
    "start_time": "2021-11-16T15:46:28.889Z"
   },
   {
    "duration": 5,
    "start_time": "2021-11-16T19:16:11.628Z"
   },
   {
    "duration": 55,
    "start_time": "2021-11-16T19:16:16.351Z"
   },
   {
    "duration": 48,
    "start_time": "2021-11-16T19:16:28.602Z"
   },
   {
    "duration": 95,
    "start_time": "2021-11-16T19:17:56.480Z"
   },
   {
    "duration": 102,
    "start_time": "2021-11-16T19:18:14.544Z"
   },
   {
    "duration": 65,
    "start_time": "2021-11-16T19:18:16.583Z"
   },
   {
    "duration": 104,
    "start_time": "2021-11-16T19:18:30.876Z"
   },
   {
    "duration": 48,
    "start_time": "2021-11-16T19:18:31.520Z"
   },
   {
    "duration": 14,
    "start_time": "2021-11-16T19:44:02.329Z"
   },
   {
    "duration": 49,
    "start_time": "2021-11-16T19:44:29.463Z"
   },
   {
    "duration": 1210,
    "start_time": "2021-11-16T19:45:47.025Z"
   },
   {
    "duration": 37,
    "start_time": "2021-11-16T19:45:48.237Z"
   },
   {
    "duration": 6,
    "start_time": "2021-11-16T19:45:48.276Z"
   },
   {
    "duration": 25,
    "start_time": "2021-11-16T19:45:48.284Z"
   },
   {
    "duration": 161,
    "start_time": "2021-11-16T19:45:48.310Z"
   },
   {
    "duration": 20,
    "start_time": "2021-11-16T19:45:48.473Z"
   },
   {
    "duration": 29,
    "start_time": "2021-11-16T19:45:48.496Z"
   },
   {
    "duration": 112,
    "start_time": "2021-11-16T19:45:48.527Z"
   },
   {
    "duration": 25,
    "start_time": "2021-11-16T19:45:48.642Z"
   },
   {
    "duration": 142,
    "start_time": "2021-11-16T19:45:48.669Z"
   },
   {
    "duration": 17,
    "start_time": "2021-11-16T19:45:48.812Z"
   },
   {
    "duration": 45,
    "start_time": "2021-11-16T19:45:48.831Z"
   },
   {
    "duration": 21,
    "start_time": "2021-11-16T19:45:48.878Z"
   },
   {
    "duration": 9,
    "start_time": "2021-11-16T19:45:48.901Z"
   },
   {
    "duration": 204,
    "start_time": "2021-11-16T19:45:48.911Z"
   },
   {
    "duration": 86,
    "start_time": "2021-11-16T19:45:49.117Z"
   },
   {
    "duration": 10,
    "start_time": "2021-11-16T19:45:49.204Z"
   },
   {
    "duration": 251,
    "start_time": "2021-11-16T19:45:49.217Z"
   },
   {
    "duration": 5,
    "start_time": "2021-11-16T19:45:49.469Z"
   },
   {
    "duration": 6,
    "start_time": "2021-11-16T19:45:49.475Z"
   },
   {
    "duration": 9,
    "start_time": "2021-11-16T19:45:49.482Z"
   },
   {
    "duration": 244,
    "start_time": "2021-11-16T19:45:49.492Z"
   },
   {
    "duration": 8,
    "start_time": "2021-11-16T19:45:49.737Z"
   },
   {
    "duration": 23,
    "start_time": "2021-11-16T19:45:49.746Z"
   },
   {
    "duration": 16,
    "start_time": "2021-11-16T19:45:49.772Z"
   },
   {
    "duration": 78,
    "start_time": "2021-11-16T19:45:49.789Z"
   },
   {
    "duration": 47,
    "start_time": "2021-11-16T19:45:49.870Z"
   },
   {
    "duration": 180,
    "start_time": "2021-11-16T19:45:49.919Z"
   },
   {
    "duration": 63,
    "start_time": "2021-11-16T19:45:50.100Z"
   },
   {
    "duration": 39,
    "start_time": "2021-11-16T19:45:50.165Z"
   },
   {
    "duration": 38,
    "start_time": "2021-11-16T19:45:50.206Z"
   },
   {
    "duration": 96,
    "start_time": "2021-11-16T19:45:50.246Z"
   },
   {
    "duration": 55,
    "start_time": "2021-11-16T19:45:50.343Z"
   },
   {
    "duration": 45,
    "start_time": "2021-11-16T19:45:50.399Z"
   },
   {
    "duration": 92,
    "start_time": "2021-11-16T19:45:50.446Z"
   },
   {
    "duration": 11,
    "start_time": "2021-11-16T19:46:16.624Z"
   },
   {
    "duration": 13,
    "start_time": "2021-11-16T19:46:28.153Z"
   },
   {
    "duration": 42,
    "start_time": "2021-11-16T19:48:26.614Z"
   },
   {
    "duration": 381,
    "start_time": "2021-11-16T19:50:10.706Z"
   },
   {
    "duration": 4,
    "start_time": "2021-11-16T19:50:17.395Z"
   },
   {
    "duration": 3,
    "start_time": "2021-11-16T19:50:29.086Z"
   },
   {
    "duration": 1164,
    "start_time": "2021-11-16T19:51:34.964Z"
   },
   {
    "duration": 39,
    "start_time": "2021-11-16T19:51:36.130Z"
   },
   {
    "duration": 7,
    "start_time": "2021-11-16T19:51:36.172Z"
   },
   {
    "duration": 22,
    "start_time": "2021-11-16T19:51:36.181Z"
   },
   {
    "duration": 164,
    "start_time": "2021-11-16T19:51:36.205Z"
   },
   {
    "duration": 20,
    "start_time": "2021-11-16T19:51:36.370Z"
   },
   {
    "duration": 31,
    "start_time": "2021-11-16T19:51:36.392Z"
   },
   {
    "duration": 103,
    "start_time": "2021-11-16T19:51:36.427Z"
   },
   {
    "duration": 15,
    "start_time": "2021-11-16T19:51:36.532Z"
   },
   {
    "duration": 149,
    "start_time": "2021-11-16T19:51:36.549Z"
   },
   {
    "duration": 19,
    "start_time": "2021-11-16T19:51:36.700Z"
   },
   {
    "duration": 50,
    "start_time": "2021-11-16T19:51:36.721Z"
   },
   {
    "duration": 23,
    "start_time": "2021-11-16T19:51:36.773Z"
   },
   {
    "duration": 5,
    "start_time": "2021-11-16T19:51:36.798Z"
   },
   {
    "duration": 209,
    "start_time": "2021-11-16T19:51:36.805Z"
   },
   {
    "duration": 80,
    "start_time": "2021-11-16T19:51:37.016Z"
   },
   {
    "duration": 8,
    "start_time": "2021-11-16T19:51:37.098Z"
   },
   {
    "duration": 247,
    "start_time": "2021-11-16T19:51:37.108Z"
   },
   {
    "duration": 8,
    "start_time": "2021-11-16T19:51:37.357Z"
   },
   {
    "duration": 4,
    "start_time": "2021-11-16T19:51:37.367Z"
   },
   {
    "duration": 10,
    "start_time": "2021-11-16T19:51:37.373Z"
   },
   {
    "duration": 253,
    "start_time": "2021-11-16T19:51:37.385Z"
   },
   {
    "duration": 7,
    "start_time": "2021-11-16T19:51:37.641Z"
   },
   {
    "duration": 14,
    "start_time": "2021-11-16T19:51:37.650Z"
   },
   {
    "duration": 18,
    "start_time": "2021-11-16T19:51:37.665Z"
   },
   {
    "duration": 59,
    "start_time": "2021-11-16T19:51:37.685Z"
   },
   {
    "duration": 65,
    "start_time": "2021-11-16T19:51:37.745Z"
   },
   {
    "duration": 181,
    "start_time": "2021-11-16T19:51:37.812Z"
   },
   {
    "duration": 50,
    "start_time": "2021-11-16T19:51:37.995Z"
   },
   {
    "duration": 45,
    "start_time": "2021-11-16T19:51:38.047Z"
   },
   {
    "duration": 39,
    "start_time": "2021-11-16T19:51:38.094Z"
   },
   {
    "duration": 98,
    "start_time": "2021-11-16T19:51:38.135Z"
   },
   {
    "duration": 57,
    "start_time": "2021-11-16T19:51:38.235Z"
   },
   {
    "duration": 43,
    "start_time": "2021-11-16T19:51:38.294Z"
   },
   {
    "duration": 97,
    "start_time": "2021-11-16T19:51:38.339Z"
   },
   {
    "duration": 13,
    "start_time": "2021-11-16T19:51:38.437Z"
   },
   {
    "duration": 45,
    "start_time": "2021-11-16T19:51:38.463Z"
   },
   {
    "duration": 3,
    "start_time": "2021-11-16T19:51:38.509Z"
   },
   {
    "duration": 332,
    "start_time": "2021-11-16T19:52:02.988Z"
   },
   {
    "duration": 1194,
    "start_time": "2021-11-16T19:52:07.147Z"
   },
   {
    "duration": 39,
    "start_time": "2021-11-16T19:52:08.343Z"
   },
   {
    "duration": 7,
    "start_time": "2021-11-16T19:52:08.384Z"
   },
   {
    "duration": 21,
    "start_time": "2021-11-16T19:52:08.394Z"
   },
   {
    "duration": 166,
    "start_time": "2021-11-16T19:52:08.417Z"
   },
   {
    "duration": 21,
    "start_time": "2021-11-16T19:52:08.585Z"
   },
   {
    "duration": 30,
    "start_time": "2021-11-16T19:52:08.607Z"
   },
   {
    "duration": 105,
    "start_time": "2021-11-16T19:52:08.639Z"
   },
   {
    "duration": 26,
    "start_time": "2021-11-16T19:52:08.746Z"
   },
   {
    "duration": 146,
    "start_time": "2021-11-16T19:52:08.774Z"
   },
   {
    "duration": 18,
    "start_time": "2021-11-16T19:52:08.921Z"
   },
   {
    "duration": 41,
    "start_time": "2021-11-16T19:52:08.940Z"
   },
   {
    "duration": 22,
    "start_time": "2021-11-16T19:52:08.983Z"
   },
   {
    "duration": 9,
    "start_time": "2021-11-16T19:52:09.007Z"
   },
   {
    "duration": 225,
    "start_time": "2021-11-16T19:52:09.018Z"
   },
   {
    "duration": 82,
    "start_time": "2021-11-16T19:52:09.244Z"
   },
   {
    "duration": 10,
    "start_time": "2021-11-16T19:52:09.328Z"
   },
   {
    "duration": 264,
    "start_time": "2021-11-16T19:52:09.339Z"
   },
   {
    "duration": 4,
    "start_time": "2021-11-16T19:52:09.605Z"
   },
   {
    "duration": 7,
    "start_time": "2021-11-16T19:52:09.611Z"
   },
   {
    "duration": 14,
    "start_time": "2021-11-16T19:52:09.619Z"
   },
   {
    "duration": 274,
    "start_time": "2021-11-16T19:52:09.634Z"
   },
   {
    "duration": 8,
    "start_time": "2021-11-16T19:52:09.911Z"
   },
   {
    "duration": 12,
    "start_time": "2021-11-16T19:52:09.921Z"
   },
   {
    "duration": 16,
    "start_time": "2021-11-16T19:52:09.935Z"
   },
   {
    "duration": 66,
    "start_time": "2021-11-16T19:52:09.953Z"
   },
   {
    "duration": 69,
    "start_time": "2021-11-16T19:52:10.022Z"
   },
   {
    "duration": 172,
    "start_time": "2021-11-16T19:52:10.093Z"
   },
   {
    "duration": 48,
    "start_time": "2021-11-16T19:52:10.267Z"
   },
   {
    "duration": 51,
    "start_time": "2021-11-16T19:52:10.316Z"
   },
   {
    "duration": 39,
    "start_time": "2021-11-16T19:52:10.369Z"
   },
   {
    "duration": 100,
    "start_time": "2021-11-16T19:52:10.410Z"
   },
   {
    "duration": 55,
    "start_time": "2021-11-16T19:52:10.512Z"
   },
   {
    "duration": 46,
    "start_time": "2021-11-16T19:52:10.569Z"
   },
   {
    "duration": 98,
    "start_time": "2021-11-16T19:52:10.616Z"
   },
   {
    "duration": 10,
    "start_time": "2021-11-16T19:52:10.716Z"
   },
   {
    "duration": 56,
    "start_time": "2021-11-16T19:52:10.728Z"
   },
   {
    "duration": 2,
    "start_time": "2021-11-16T19:52:10.786Z"
   },
   {
    "duration": 5,
    "start_time": "2021-11-16T19:52:52.038Z"
   },
   {
    "duration": 45,
    "start_time": "2021-11-16T19:52:52.045Z"
   },
   {
    "duration": 6,
    "start_time": "2021-11-16T19:52:52.092Z"
   },
   {
    "duration": 19,
    "start_time": "2021-11-16T19:52:52.099Z"
   },
   {
    "duration": 158,
    "start_time": "2021-11-16T19:52:52.119Z"
   },
   {
    "duration": 21,
    "start_time": "2021-11-16T19:52:52.279Z"
   },
   {
    "duration": 29,
    "start_time": "2021-11-16T19:52:52.302Z"
   },
   {
    "duration": 103,
    "start_time": "2021-11-16T19:52:52.333Z"
   },
   {
    "duration": 26,
    "start_time": "2021-11-16T19:52:52.438Z"
   },
   {
    "duration": 150,
    "start_time": "2021-11-16T19:52:52.466Z"
   },
   {
    "duration": 18,
    "start_time": "2021-11-16T19:52:52.617Z"
   },
   {
    "duration": 51,
    "start_time": "2021-11-16T19:52:52.637Z"
   },
   {
    "duration": 23,
    "start_time": "2021-11-16T19:52:52.689Z"
   },
   {
    "duration": 10,
    "start_time": "2021-11-16T19:52:52.715Z"
   },
   {
    "duration": 210,
    "start_time": "2021-11-16T19:52:52.727Z"
   },
   {
    "duration": 83,
    "start_time": "2021-11-16T19:52:52.939Z"
   },
   {
    "duration": 10,
    "start_time": "2021-11-16T19:52:53.024Z"
   },
   {
    "duration": 339,
    "start_time": "2021-11-16T19:52:53.036Z"
   },
   {
    "duration": 4,
    "start_time": "2021-11-16T19:52:53.377Z"
   },
   {
    "duration": 8,
    "start_time": "2021-11-16T19:52:53.383Z"
   },
   {
    "duration": 12,
    "start_time": "2021-11-16T19:52:53.394Z"
   },
   {
    "duration": 533,
    "start_time": "2021-11-16T19:52:53.463Z"
   },
   {
    "duration": 9,
    "start_time": "2021-11-16T19:52:53.998Z"
   },
   {
    "duration": 10,
    "start_time": "2021-11-16T19:52:54.009Z"
   },
   {
    "duration": 14,
    "start_time": "2021-11-16T19:52:54.021Z"
   },
   {
    "duration": 85,
    "start_time": "2021-11-16T19:52:54.036Z"
   },
   {
    "duration": 58,
    "start_time": "2021-11-16T19:52:54.124Z"
   },
   {
    "duration": 167,
    "start_time": "2021-11-16T19:52:54.184Z"
   },
   {
    "duration": 52,
    "start_time": "2021-11-16T19:52:54.353Z"
   },
   {
    "duration": 38,
    "start_time": "2021-11-16T19:52:54.407Z"
   },
   {
    "duration": 53,
    "start_time": "2021-11-16T19:52:54.447Z"
   },
   {
    "duration": 99,
    "start_time": "2021-11-16T19:52:54.502Z"
   },
   {
    "duration": 61,
    "start_time": "2021-11-16T19:52:54.603Z"
   },
   {
    "duration": 136,
    "start_time": "2021-11-16T19:52:54.666Z"
   },
   {
    "duration": 71,
    "start_time": "2021-11-16T19:52:54.804Z"
   },
   {
    "duration": 12,
    "start_time": "2021-11-16T19:52:54.877Z"
   },
   {
    "duration": 47,
    "start_time": "2021-11-16T19:52:54.890Z"
   },
   {
    "duration": 2,
    "start_time": "2021-11-16T19:52:54.939Z"
   },
   {
    "duration": 1172,
    "start_time": "2021-11-16T19:53:32.074Z"
   },
   {
    "duration": 38,
    "start_time": "2021-11-16T19:53:33.248Z"
   },
   {
    "duration": 7,
    "start_time": "2021-11-16T19:53:33.288Z"
   },
   {
    "duration": 19,
    "start_time": "2021-11-16T19:53:33.297Z"
   },
   {
    "duration": 165,
    "start_time": "2021-11-16T19:53:33.318Z"
   },
   {
    "duration": 21,
    "start_time": "2021-11-16T19:53:33.484Z"
   },
   {
    "duration": 30,
    "start_time": "2021-11-16T19:53:33.507Z"
   },
   {
    "duration": 107,
    "start_time": "2021-11-16T19:53:33.539Z"
   },
   {
    "duration": 23,
    "start_time": "2021-11-16T19:53:33.648Z"
   },
   {
    "duration": 149,
    "start_time": "2021-11-16T19:53:33.673Z"
   },
   {
    "duration": 18,
    "start_time": "2021-11-16T19:53:33.823Z"
   },
   {
    "duration": 41,
    "start_time": "2021-11-16T19:53:33.843Z"
   },
   {
    "duration": 21,
    "start_time": "2021-11-16T19:53:33.886Z"
   },
   {
    "duration": 5,
    "start_time": "2021-11-16T19:53:33.909Z"
   },
   {
    "duration": 224,
    "start_time": "2021-11-16T19:53:33.916Z"
   },
   {
    "duration": 93,
    "start_time": "2021-11-16T19:53:34.141Z"
   },
   {
    "duration": 9,
    "start_time": "2021-11-16T19:53:34.236Z"
   },
   {
    "duration": 240,
    "start_time": "2021-11-16T19:53:34.264Z"
   },
   {
    "duration": 5,
    "start_time": "2021-11-16T19:53:34.505Z"
   },
   {
    "duration": 5,
    "start_time": "2021-11-16T19:53:34.512Z"
   },
   {
    "duration": 8,
    "start_time": "2021-11-16T19:53:34.519Z"
   },
   {
    "duration": 256,
    "start_time": "2021-11-16T19:53:34.529Z"
   },
   {
    "duration": 8,
    "start_time": "2021-11-16T19:53:34.788Z"
   },
   {
    "duration": 11,
    "start_time": "2021-11-16T19:53:34.798Z"
   },
   {
    "duration": 14,
    "start_time": "2021-11-16T19:53:34.811Z"
   },
   {
    "duration": 85,
    "start_time": "2021-11-16T19:53:34.827Z"
   },
   {
    "duration": 59,
    "start_time": "2021-11-16T19:53:34.914Z"
   },
   {
    "duration": 170,
    "start_time": "2021-11-16T19:53:34.975Z"
   },
   {
    "duration": 60,
    "start_time": "2021-11-16T19:53:35.146Z"
   },
   {
    "duration": 33,
    "start_time": "2021-11-16T19:53:35.208Z"
   },
   {
    "duration": 52,
    "start_time": "2021-11-16T19:53:35.243Z"
   },
   {
    "duration": 107,
    "start_time": "2021-11-16T19:53:35.297Z"
   },
   {
    "duration": 46,
    "start_time": "2021-11-16T19:53:35.405Z"
   },
   {
    "duration": 53,
    "start_time": "2021-11-16T19:53:35.453Z"
   },
   {
    "duration": 96,
    "start_time": "2021-11-16T19:53:35.508Z"
   },
   {
    "duration": 11,
    "start_time": "2021-11-16T19:53:35.606Z"
   },
   {
    "duration": 56,
    "start_time": "2021-11-16T19:53:35.619Z"
   },
   {
    "duration": 3,
    "start_time": "2021-11-16T19:53:35.677Z"
   },
   {
    "duration": 58,
    "start_time": "2021-11-16T19:53:35.681Z"
   },
   {
    "duration": 53,
    "start_time": "2021-11-16T19:54:49.186Z"
   },
   {
    "duration": 55,
    "start_time": "2021-11-16T19:54:55.359Z"
   },
   {
    "duration": 59,
    "start_time": "2021-11-16T19:55:00.071Z"
   },
   {
    "duration": 303,
    "start_time": "2021-11-16T19:55:12.203Z"
   },
   {
    "duration": 600,
    "start_time": "2021-11-16T19:55:31.314Z"
   },
   {
    "duration": 276,
    "start_time": "2021-11-16T19:56:15.672Z"
   },
   {
    "duration": 565,
    "start_time": "2021-11-16T19:56:23.156Z"
   },
   {
    "duration": 909,
    "start_time": "2021-11-16T19:57:19.197Z"
   },
   {
    "duration": 561,
    "start_time": "2021-11-16T19:57:40.536Z"
   },
   {
    "duration": 762,
    "start_time": "2021-11-16T19:57:53.781Z"
   },
   {
    "duration": 52,
    "start_time": "2021-11-16T19:58:45.576Z"
   },
   {
    "duration": 4,
    "start_time": "2021-11-16T20:00:33.897Z"
   },
   {
    "duration": 3,
    "start_time": "2021-11-16T20:00:45.492Z"
   },
   {
    "duration": 793,
    "start_time": "2021-11-16T20:01:51.880Z"
   },
   {
    "duration": 596,
    "start_time": "2021-11-16T20:02:04.690Z"
   },
   {
    "duration": 562,
    "start_time": "2021-11-16T20:05:11.495Z"
   },
   {
    "duration": 4,
    "start_time": "2021-11-16T20:05:17.213Z"
   },
   {
    "duration": 122,
    "start_time": "2021-11-16T20:05:22.972Z"
   },
   {
    "duration": 7,
    "start_time": "2021-11-16T20:14:57.866Z"
   },
   {
    "duration": 4,
    "start_time": "2021-11-16T20:16:11.224Z"
   },
   {
    "duration": 9,
    "start_time": "2021-11-16T20:16:16.260Z"
   },
   {
    "duration": 4,
    "start_time": "2021-11-16T20:16:41.946Z"
   },
   {
    "duration": 3,
    "start_time": "2021-11-16T20:16:52.475Z"
   },
   {
    "duration": 8,
    "start_time": "2021-11-16T20:16:56.519Z"
   },
   {
    "duration": 576,
    "start_time": "2021-11-16T20:17:07.392Z"
   },
   {
    "duration": 122,
    "start_time": "2021-11-16T20:17:08.085Z"
   },
   {
    "duration": 1186,
    "start_time": "2021-11-16T20:23:16.339Z"
   },
   {
    "duration": 125,
    "start_time": "2021-11-16T20:24:07.885Z"
   },
   {
    "duration": 1239,
    "start_time": "2021-11-16T20:25:53.268Z"
   },
   {
    "duration": 12,
    "start_time": "2021-11-16T20:26:45.937Z"
   },
   {
    "duration": 128,
    "start_time": "2021-11-16T20:26:50.595Z"
   },
   {
    "duration": 12,
    "start_time": "2021-11-16T20:28:17.894Z"
   },
   {
    "duration": 117,
    "start_time": "2021-11-16T20:28:19.860Z"
   },
   {
    "duration": 7151,
    "start_time": "2021-11-16T20:28:33.821Z"
   },
   {
    "duration": 1324,
    "start_time": "2021-11-16T20:29:14.384Z"
   },
   {
    "duration": 29,
    "start_time": "2021-11-16T20:31:23.134Z"
   },
   {
    "duration": 116,
    "start_time": "2021-11-16T20:31:26.424Z"
   },
   {
    "duration": 71,
    "start_time": "2021-11-16T20:31:31.248Z"
   },
   {
    "duration": 126,
    "start_time": "2021-11-16T20:32:38.077Z"
   },
   {
    "duration": 24,
    "start_time": "2021-11-16T20:32:40.243Z"
   },
   {
    "duration": 52,
    "start_time": "2021-11-16T20:32:42.190Z"
   },
   {
    "duration": 102,
    "start_time": "2021-11-16T20:32:51.910Z"
   },
   {
    "duration": 273,
    "start_time": "2021-11-16T20:34:01.456Z"
   },
   {
    "duration": 6,
    "start_time": "2021-11-16T20:34:04.973Z"
   },
   {
    "duration": 6,
    "start_time": "2021-11-16T20:41:06.416Z"
   },
   {
    "duration": 247,
    "start_time": "2021-11-16T20:43:28.431Z"
   },
   {
    "duration": 90,
    "start_time": "2021-11-16T20:43:37.292Z"
   },
   {
    "duration": 283,
    "start_time": "2021-11-16T20:43:37.661Z"
   },
   {
    "duration": 3,
    "start_time": "2021-11-16T20:43:48.300Z"
   },
   {
    "duration": 93,
    "start_time": "2021-11-16T20:43:49.075Z"
   },
   {
    "duration": 5,
    "start_time": "2021-11-16T20:43:55.819Z"
   },
   {
    "duration": 582,
    "start_time": "2021-11-16T20:44:35.684Z"
   },
   {
    "duration": 100,
    "start_time": "2021-11-16T20:44:36.587Z"
   },
   {
    "duration": 152,
    "start_time": "2021-11-16T20:44:41.143Z"
   },
   {
    "duration": 3,
    "start_time": "2021-11-16T20:44:43.922Z"
   },
   {
    "duration": 117,
    "start_time": "2021-11-16T20:44:51.135Z"
   },
   {
    "duration": 6,
    "start_time": "2021-11-16T20:44:59.408Z"
   },
   {
    "duration": 4,
    "start_time": "2021-11-16T20:45:23.420Z"
   },
   {
    "duration": 5,
    "start_time": "2021-11-16T20:45:24.787Z"
   },
   {
    "duration": 111,
    "start_time": "2021-11-16T20:45:26.249Z"
   },
   {
    "duration": 6,
    "start_time": "2021-11-16T20:45:26.548Z"
   },
   {
    "duration": 6,
    "start_time": "2021-11-16T20:45:41.196Z"
   },
   {
    "duration": 112,
    "start_time": "2021-11-16T20:46:18.935Z"
   },
   {
    "duration": 12,
    "start_time": "2021-11-16T20:47:19.797Z"
   },
   {
    "duration": 6302,
    "start_time": "2021-11-16T20:47:20.347Z"
   },
   {
    "duration": -72,
    "start_time": "2021-11-16T20:47:26.723Z"
   },
   {
    "duration": -74,
    "start_time": "2021-11-16T20:47:26.726Z"
   },
   {
    "duration": -76,
    "start_time": "2021-11-16T20:47:26.729Z"
   },
   {
    "duration": -77,
    "start_time": "2021-11-16T20:47:26.731Z"
   },
   {
    "duration": -78,
    "start_time": "2021-11-16T20:47:26.733Z"
   },
   {
    "duration": -79,
    "start_time": "2021-11-16T20:47:26.735Z"
   },
   {
    "duration": -80,
    "start_time": "2021-11-16T20:47:26.737Z"
   },
   {
    "duration": -82,
    "start_time": "2021-11-16T20:47:26.740Z"
   },
   {
    "duration": 4,
    "start_time": "2021-11-16T20:47:45.807Z"
   },
   {
    "duration": 554,
    "start_time": "2021-11-16T20:47:46.220Z"
   },
   {
    "duration": 118,
    "start_time": "2021-11-16T20:47:48.814Z"
   },
   {
    "duration": 2,
    "start_time": "2021-11-16T20:47:50.616Z"
   },
   {
    "duration": 3,
    "start_time": "2021-11-16T20:47:51.065Z"
   },
   {
    "duration": 107,
    "start_time": "2021-11-16T20:47:51.978Z"
   },
   {
    "duration": 5,
    "start_time": "2021-11-16T20:47:52.571Z"
   },
   {
    "duration": 250,
    "start_time": "2021-11-16T20:47:53.722Z"
   },
   {
    "duration": 1708,
    "start_time": "2021-11-16T20:49:14.619Z"
   },
   {
    "duration": 771,
    "start_time": "2021-11-16T20:49:51.607Z"
   },
   {
    "duration": 707,
    "start_time": "2021-11-16T20:50:40.399Z"
   },
   {
    "duration": 625,
    "start_time": "2021-11-16T20:51:14.309Z"
   },
   {
    "duration": 6824,
    "start_time": "2021-11-16T20:51:56.657Z"
   },
   {
    "duration": 109,
    "start_time": "2021-11-16T20:52:26.115Z"
   },
   {
    "duration": 738,
    "start_time": "2021-11-16T20:52:27.303Z"
   },
   {
    "duration": 167,
    "start_time": "2021-11-16T20:52:34.285Z"
   },
   {
    "duration": 2,
    "start_time": "2021-11-16T20:52:43.484Z"
   },
   {
    "duration": 3,
    "start_time": "2021-11-16T20:52:43.908Z"
   },
   {
    "duration": 4,
    "start_time": "2021-11-16T20:52:47.828Z"
   },
   {
    "duration": 136,
    "start_time": "2021-11-16T20:52:48.371Z"
   },
   {
    "duration": 8,
    "start_time": "2021-11-16T20:52:49.131Z"
   },
   {
    "duration": 6,
    "start_time": "2021-11-16T20:54:11.623Z"
   },
   {
    "duration": 11,
    "start_time": "2021-11-16T20:54:20.637Z"
   },
   {
    "duration": 5,
    "start_time": "2021-11-16T20:54:43.432Z"
   },
   {
    "duration": 31,
    "start_time": "2021-11-16T20:55:25.416Z"
   },
   {
    "duration": 8,
    "start_time": "2021-11-16T20:56:06.475Z"
   },
   {
    "duration": 7,
    "start_time": "2021-11-16T20:56:10.823Z"
   },
   {
    "duration": 7,
    "start_time": "2021-11-16T20:56:17.279Z"
   },
   {
    "duration": 7,
    "start_time": "2021-11-16T20:57:19.685Z"
   },
   {
    "duration": 82,
    "start_time": "2021-11-16T20:57:25.744Z"
   },
   {
    "duration": 84,
    "start_time": "2021-11-16T20:57:29.037Z"
   },
   {
    "duration": 28,
    "start_time": "2021-11-16T20:57:34.840Z"
   },
   {
    "duration": 2,
    "start_time": "2021-11-16T20:58:40.548Z"
   },
   {
    "duration": 7,
    "start_time": "2021-11-16T20:58:48.433Z"
   },
   {
    "duration": 24,
    "start_time": "2021-11-16T20:58:57.163Z"
   },
   {
    "duration": 9,
    "start_time": "2021-11-16T20:59:43.120Z"
   },
   {
    "duration": 28,
    "start_time": "2021-11-16T21:00:13.627Z"
   },
   {
    "duration": 11,
    "start_time": "2021-11-16T21:00:40.130Z"
   },
   {
    "duration": 13,
    "start_time": "2021-11-16T21:00:51.999Z"
   },
   {
    "duration": 12,
    "start_time": "2021-11-16T21:02:55.315Z"
   },
   {
    "duration": 19,
    "start_time": "2021-11-16T21:03:00.354Z"
   },
   {
    "duration": 17,
    "start_time": "2021-11-16T21:07:25.077Z"
   },
   {
    "duration": 271,
    "start_time": "2021-11-16T21:09:25.442Z"
   },
   {
    "duration": 13,
    "start_time": "2021-11-16T21:09:34.538Z"
   },
   {
    "duration": 283,
    "start_time": "2021-11-16T21:10:24.485Z"
   },
   {
    "duration": 268,
    "start_time": "2021-11-16T21:10:33.727Z"
   },
   {
    "duration": 16,
    "start_time": "2021-11-16T21:10:39.243Z"
   },
   {
    "duration": 3119,
    "start_time": "2021-11-16T21:14:53.370Z"
   },
   {
    "duration": 9,
    "start_time": "2021-11-16T21:15:01.996Z"
   },
   {
    "duration": 3062,
    "start_time": "2021-11-16T21:15:52.792Z"
   },
   {
    "duration": 5807,
    "start_time": "2021-11-16T21:17:13.770Z"
   },
   {
    "duration": 3468,
    "start_time": "2021-11-16T21:18:00.645Z"
   },
   {
    "duration": 10,
    "start_time": "2021-11-16T21:18:04.115Z"
   },
   {
    "duration": 250,
    "start_time": "2021-11-16T21:18:37.625Z"
   },
   {
    "duration": 11,
    "start_time": "2021-11-16T21:19:05.997Z"
   },
   {
    "duration": 10,
    "start_time": "2021-11-16T21:19:45.125Z"
   },
   {
    "duration": 14,
    "start_time": "2021-11-16T21:21:07.858Z"
   },
   {
    "duration": 15,
    "start_time": "2021-11-16T21:21:11.614Z"
   },
   {
    "duration": 11712,
    "start_time": "2021-11-16T21:22:52.344Z"
   },
   {
    "duration": 17,
    "start_time": "2021-11-16T21:23:12.055Z"
   },
   {
    "duration": 9304,
    "start_time": "2021-11-16T21:24:02.274Z"
   },
   {
    "duration": 10,
    "start_time": "2021-11-16T21:24:18.272Z"
   },
   {
    "duration": 10,
    "start_time": "2021-11-16T21:24:23.762Z"
   },
   {
    "duration": 10,
    "start_time": "2021-11-16T21:24:38.106Z"
   },
   {
    "duration": 4,
    "start_time": "2021-11-16T21:24:48.485Z"
   },
   {
    "duration": 8319,
    "start_time": "2021-11-16T21:25:08.149Z"
   },
   {
    "duration": 10,
    "start_time": "2021-11-16T21:25:16.469Z"
   },
   {
    "duration": 11,
    "start_time": "2021-11-16T21:25:51.138Z"
   },
   {
    "duration": 9036,
    "start_time": "2021-11-16T21:26:32.988Z"
   },
   {
    "duration": 12,
    "start_time": "2021-11-16T21:26:42.870Z"
   },
   {
    "duration": 8258,
    "start_time": "2021-11-16T21:27:04.489Z"
   },
   {
    "duration": 10,
    "start_time": "2021-11-16T21:27:13.566Z"
   },
   {
    "duration": 12,
    "start_time": "2021-11-16T21:27:20.405Z"
   },
   {
    "duration": 12,
    "start_time": "2021-11-16T21:27:24.419Z"
   },
   {
    "duration": 38,
    "start_time": "2021-11-16T21:28:18.357Z"
   },
   {
    "duration": 12,
    "start_time": "2021-11-16T21:28:33.125Z"
   },
   {
    "duration": 41,
    "start_time": "2021-11-16T21:29:17.751Z"
   },
   {
    "duration": 39,
    "start_time": "2021-11-16T21:30:09.741Z"
   },
   {
    "duration": 37,
    "start_time": "2021-11-16T21:30:23.175Z"
   },
   {
    "duration": 37,
    "start_time": "2021-11-16T21:30:32.942Z"
   },
   {
    "duration": 41,
    "start_time": "2021-11-16T21:30:37.921Z"
   },
   {
    "duration": 11,
    "start_time": "2021-11-16T21:31:07.376Z"
   },
   {
    "duration": 10,
    "start_time": "2021-11-16T21:31:14.700Z"
   },
   {
    "duration": 12,
    "start_time": "2021-11-16T21:32:24.089Z"
   },
   {
    "duration": 10,
    "start_time": "2021-11-16T21:32:57.266Z"
   },
   {
    "duration": 11,
    "start_time": "2021-11-16T21:33:05.815Z"
   },
   {
    "duration": 21,
    "start_time": "2021-11-16T21:33:13.181Z"
   },
   {
    "duration": 10,
    "start_time": "2021-11-16T21:34:22.367Z"
   },
   {
    "duration": 15,
    "start_time": "2021-11-16T21:34:27.253Z"
   },
   {
    "duration": 17,
    "start_time": "2021-11-16T21:34:32.978Z"
   },
   {
    "duration": 19,
    "start_time": "2021-11-16T21:35:30.412Z"
   },
   {
    "duration": 18,
    "start_time": "2021-11-16T21:35:53.258Z"
   },
   {
    "duration": 10,
    "start_time": "2021-11-16T21:36:37.479Z"
   },
   {
    "duration": 259,
    "start_time": "2021-11-16T21:37:41.608Z"
   },
   {
    "duration": 11,
    "start_time": "2021-11-16T21:38:13.008Z"
   },
   {
    "duration": 264,
    "start_time": "2021-11-16T21:39:09.510Z"
   },
   {
    "duration": 255,
    "start_time": "2021-11-16T21:39:26.337Z"
   },
   {
    "duration": 10,
    "start_time": "2021-11-16T21:42:27.058Z"
   },
   {
    "duration": 10,
    "start_time": "2021-11-16T21:42:56.307Z"
   },
   {
    "duration": 273,
    "start_time": "2021-11-16T21:43:02.530Z"
   },
   {
    "duration": 4,
    "start_time": "2021-11-16T21:43:05.369Z"
   },
   {
    "duration": 4,
    "start_time": "2021-11-16T21:43:34.401Z"
   },
   {
    "duration": 9111,
    "start_time": "2021-11-16T21:43:55.654Z"
   },
   {
    "duration": 256,
    "start_time": "2021-11-16T21:44:21.043Z"
   },
   {
    "duration": 251,
    "start_time": "2021-11-16T21:47:03.097Z"
   },
   {
    "duration": 265,
    "start_time": "2021-11-16T21:47:10.382Z"
   },
   {
    "duration": 268,
    "start_time": "2021-11-16T21:49:20.988Z"
   },
   {
    "duration": 276,
    "start_time": "2021-11-16T21:50:14.979Z"
   },
   {
    "duration": 72,
    "start_time": "2021-11-16T21:50:54.853Z"
   },
   {
    "duration": 84,
    "start_time": "2021-11-16T21:51:10.522Z"
   },
   {
    "duration": 1203,
    "start_time": "2021-11-16T21:51:29.441Z"
   },
   {
    "duration": 39,
    "start_time": "2021-11-16T21:51:30.647Z"
   },
   {
    "duration": 7,
    "start_time": "2021-11-16T21:51:30.688Z"
   },
   {
    "duration": 32,
    "start_time": "2021-11-16T21:51:30.696Z"
   },
   {
    "duration": 168,
    "start_time": "2021-11-16T21:51:30.730Z"
   },
   {
    "duration": 20,
    "start_time": "2021-11-16T21:51:30.899Z"
   },
   {
    "duration": 48,
    "start_time": "2021-11-16T21:51:30.921Z"
   },
   {
    "duration": 97,
    "start_time": "2021-11-16T21:51:30.971Z"
   },
   {
    "duration": 14,
    "start_time": "2021-11-16T21:51:31.070Z"
   },
   {
    "duration": 139,
    "start_time": "2021-11-16T21:51:31.087Z"
   },
   {
    "duration": 17,
    "start_time": "2021-11-16T21:51:31.227Z"
   },
   {
    "duration": 40,
    "start_time": "2021-11-16T21:51:31.245Z"
   },
   {
    "duration": 22,
    "start_time": "2021-11-16T21:51:31.287Z"
   },
   {
    "duration": 25,
    "start_time": "2021-11-16T21:51:31.311Z"
   },
   {
    "duration": 17,
    "start_time": "2021-11-16T21:51:31.338Z"
   },
   {
    "duration": 212,
    "start_time": "2021-11-16T21:51:31.357Z"
   },
   {
    "duration": 73,
    "start_time": "2021-11-16T21:51:31.571Z"
   },
   {
    "duration": 23,
    "start_time": "2021-11-16T21:51:31.646Z"
   },
   {
    "duration": 233,
    "start_time": "2021-11-16T21:51:31.670Z"
   },
   {
    "duration": 4,
    "start_time": "2021-11-16T21:51:31.905Z"
   },
   {
    "duration": 9,
    "start_time": "2021-11-16T21:51:31.910Z"
   },
   {
    "duration": 11,
    "start_time": "2021-11-16T21:51:31.920Z"
   },
   {
    "duration": 240,
    "start_time": "2021-11-16T21:51:31.933Z"
   },
   {
    "duration": 7,
    "start_time": "2021-11-16T21:51:32.176Z"
   },
   {
    "duration": 13,
    "start_time": "2021-11-16T21:51:32.185Z"
   },
   {
    "duration": 19,
    "start_time": "2021-11-16T21:51:32.199Z"
   },
   {
    "duration": 6,
    "start_time": "2021-11-16T21:51:32.222Z"
   },
   {
    "duration": 10,
    "start_time": "2021-11-16T21:51:32.230Z"
   },
   {
    "duration": 26,
    "start_time": "2021-11-16T21:51:32.242Z"
   },
   {
    "duration": 19,
    "start_time": "2021-11-16T21:51:32.270Z"
   },
   {
    "duration": 67,
    "start_time": "2021-11-16T21:51:32.291Z"
   },
   {
    "duration": 47,
    "start_time": "2021-11-16T21:51:32.359Z"
   },
   {
    "duration": 178,
    "start_time": "2021-11-16T21:51:32.408Z"
   },
   {
    "duration": 47,
    "start_time": "2021-11-16T21:51:32.587Z"
   },
   {
    "duration": 45,
    "start_time": "2021-11-16T21:51:32.635Z"
   },
   {
    "duration": 39,
    "start_time": "2021-11-16T21:51:32.682Z"
   },
   {
    "duration": 104,
    "start_time": "2021-11-16T21:51:32.722Z"
   },
   {
    "duration": 55,
    "start_time": "2021-11-16T21:51:32.828Z"
   },
   {
    "duration": 44,
    "start_time": "2021-11-16T21:51:32.884Z"
   },
   {
    "duration": 97,
    "start_time": "2021-11-16T21:51:32.930Z"
   },
   {
    "duration": 10,
    "start_time": "2021-11-16T21:51:33.029Z"
   },
   {
    "duration": 7,
    "start_time": "2021-11-16T21:51:33.040Z"
   },
   {
    "duration": 123,
    "start_time": "2021-11-16T21:51:33.048Z"
   },
   {
    "duration": 768,
    "start_time": "2021-11-16T21:51:33.172Z"
   },
   {
    "duration": 175,
    "start_time": "2021-11-16T21:51:33.942Z"
   },
   {
    "duration": 3,
    "start_time": "2021-11-16T21:51:34.119Z"
   },
   {
    "duration": 126,
    "start_time": "2021-11-16T21:51:34.124Z"
   },
   {
    "duration": 5,
    "start_time": "2021-11-16T21:51:34.251Z"
   },
   {
    "duration": 7,
    "start_time": "2021-11-16T21:51:34.258Z"
   },
   {
    "duration": 8599,
    "start_time": "2021-11-16T21:51:34.267Z"
   },
   {
    "duration": 343,
    "start_time": "2021-11-16T21:51:51.920Z"
   },
   {
    "duration": 294,
    "start_time": "2021-11-16T21:52:19.328Z"
   },
   {
    "duration": 1147,
    "start_time": "2021-11-16T21:52:25.894Z"
   },
   {
    "duration": 38,
    "start_time": "2021-11-16T21:52:27.043Z"
   },
   {
    "duration": 7,
    "start_time": "2021-11-16T21:52:27.083Z"
   },
   {
    "duration": 24,
    "start_time": "2021-11-16T21:52:27.092Z"
   },
   {
    "duration": 185,
    "start_time": "2021-11-16T21:52:27.117Z"
   },
   {
    "duration": 20,
    "start_time": "2021-11-16T21:52:27.303Z"
   },
   {
    "duration": 41,
    "start_time": "2021-11-16T21:52:27.325Z"
   },
   {
    "duration": 97,
    "start_time": "2021-11-16T21:52:27.368Z"
   },
   {
    "duration": 21,
    "start_time": "2021-11-16T21:52:27.467Z"
   },
   {
    "duration": 139,
    "start_time": "2021-11-16T21:52:27.490Z"
   },
   {
    "duration": 15,
    "start_time": "2021-11-16T21:52:27.630Z"
   },
   {
    "duration": 40,
    "start_time": "2021-11-16T21:52:27.647Z"
   },
   {
    "duration": 20,
    "start_time": "2021-11-16T21:52:27.689Z"
   },
   {
    "duration": 7,
    "start_time": "2021-11-16T21:52:27.711Z"
   },
   {
    "duration": 4,
    "start_time": "2021-11-16T21:52:27.720Z"
   },
   {
    "duration": 211,
    "start_time": "2021-11-16T21:52:27.726Z"
   },
   {
    "duration": 80,
    "start_time": "2021-11-16T21:52:27.939Z"
   },
   {
    "duration": 9,
    "start_time": "2021-11-16T21:52:28.021Z"
   },
   {
    "duration": 248,
    "start_time": "2021-11-16T21:52:28.031Z"
   },
   {
    "duration": 4,
    "start_time": "2021-11-16T21:52:28.281Z"
   },
   {
    "duration": 8,
    "start_time": "2021-11-16T21:52:28.287Z"
   },
   {
    "duration": 15,
    "start_time": "2021-11-16T21:52:28.296Z"
   },
   {
    "duration": 244,
    "start_time": "2021-11-16T21:52:28.314Z"
   },
   {
    "duration": 7,
    "start_time": "2021-11-16T21:52:28.560Z"
   },
   {
    "duration": 11,
    "start_time": "2021-11-16T21:52:28.569Z"
   },
   {
    "duration": 16,
    "start_time": "2021-11-16T21:52:28.582Z"
   },
   {
    "duration": 7,
    "start_time": "2021-11-16T21:52:28.599Z"
   },
   {
    "duration": 6,
    "start_time": "2021-11-16T21:52:28.607Z"
   },
   {
    "duration": 13,
    "start_time": "2021-11-16T21:52:28.614Z"
   },
   {
    "duration": 14,
    "start_time": "2021-11-16T21:52:28.629Z"
   },
   {
    "duration": 80,
    "start_time": "2021-11-16T21:52:28.645Z"
   },
   {
    "duration": 60,
    "start_time": "2021-11-16T21:52:28.727Z"
   },
   {
    "duration": 175,
    "start_time": "2021-11-16T21:52:28.789Z"
   },
   {
    "duration": 48,
    "start_time": "2021-11-16T21:52:28.966Z"
   },
   {
    "duration": 32,
    "start_time": "2021-11-16T21:52:29.016Z"
   },
   {
    "duration": 38,
    "start_time": "2021-11-16T21:52:29.064Z"
   },
   {
    "duration": 100,
    "start_time": "2021-11-16T21:52:29.104Z"
   },
   {
    "duration": 46,
    "start_time": "2021-11-16T21:52:29.205Z"
   },
   {
    "duration": 51,
    "start_time": "2021-11-16T21:52:29.253Z"
   },
   {
    "duration": 101,
    "start_time": "2021-11-16T21:52:29.306Z"
   },
   {
    "duration": 11,
    "start_time": "2021-11-16T21:52:29.408Z"
   },
   {
    "duration": 4,
    "start_time": "2021-11-16T21:52:29.420Z"
   },
   {
    "duration": 114,
    "start_time": "2021-11-16T21:52:29.426Z"
   },
   {
    "duration": 774,
    "start_time": "2021-11-16T21:52:29.542Z"
   },
   {
    "duration": 178,
    "start_time": "2021-11-16T21:52:30.317Z"
   },
   {
    "duration": 3,
    "start_time": "2021-11-16T21:52:30.497Z"
   },
   {
    "duration": 123,
    "start_time": "2021-11-16T21:52:30.502Z"
   },
   {
    "duration": 5,
    "start_time": "2021-11-16T21:52:30.627Z"
   },
   {
    "duration": 20,
    "start_time": "2021-11-16T21:52:30.634Z"
   },
   {
    "duration": 8722,
    "start_time": "2021-11-16T21:52:30.656Z"
   },
   {
    "duration": 16,
    "start_time": "2021-11-16T21:53:11.961Z"
   },
   {
    "duration": 13,
    "start_time": "2021-11-16T21:53:18.255Z"
   },
   {
    "duration": 7528,
    "start_time": "2021-11-16T21:54:53.656Z"
   },
   {
    "duration": 14,
    "start_time": "2021-11-16T21:55:10.725Z"
   },
   {
    "duration": 6353,
    "start_time": "2021-11-16T21:55:18.534Z"
   },
   {
    "duration": 9,
    "start_time": "2021-11-16T21:55:28.574Z"
   },
   {
    "duration": 6673,
    "start_time": "2021-11-16T21:56:27.672Z"
   },
   {
    "duration": 6180,
    "start_time": "2021-11-16T21:56:39.764Z"
   },
   {
    "duration": 17,
    "start_time": "2021-11-16T21:57:04.257Z"
   },
   {
    "duration": 12,
    "start_time": "2021-11-16T21:57:12.087Z"
   },
   {
    "duration": 6359,
    "start_time": "2021-11-16T21:57:42.023Z"
   },
   {
    "duration": 6623,
    "start_time": "2021-11-16T21:58:30.401Z"
   },
   {
    "duration": 16,
    "start_time": "2021-11-16T21:58:44.131Z"
   },
   {
    "duration": 16,
    "start_time": "2021-11-16T21:58:48.326Z"
   },
   {
    "duration": 15,
    "start_time": "2021-11-16T21:59:51.809Z"
   },
   {
    "duration": 14,
    "start_time": "2021-11-16T22:00:09.156Z"
   },
   {
    "duration": 9,
    "start_time": "2021-11-16T22:00:19.423Z"
   },
   {
    "duration": 6299,
    "start_time": "2021-11-16T22:01:16.246Z"
   },
   {
    "duration": 6280,
    "start_time": "2021-11-16T22:01:30.648Z"
   },
   {
    "duration": 24,
    "start_time": "2021-11-16T22:01:45.806Z"
   },
   {
    "duration": 9,
    "start_time": "2021-11-16T22:02:16.792Z"
   },
   {
    "duration": 14,
    "start_time": "2021-11-16T22:02:33.205Z"
   },
   {
    "duration": 17,
    "start_time": "2021-11-16T22:02:40.966Z"
   },
   {
    "duration": 1177,
    "start_time": "2021-11-16T22:03:13.349Z"
   },
   {
    "duration": 39,
    "start_time": "2021-11-16T22:03:14.528Z"
   },
   {
    "duration": 7,
    "start_time": "2021-11-16T22:03:14.569Z"
   },
   {
    "duration": 20,
    "start_time": "2021-11-16T22:03:14.578Z"
   },
   {
    "duration": 169,
    "start_time": "2021-11-16T22:03:14.600Z"
   },
   {
    "duration": 21,
    "start_time": "2021-11-16T22:03:14.771Z"
   },
   {
    "duration": 30,
    "start_time": "2021-11-16T22:03:14.794Z"
   },
   {
    "duration": 109,
    "start_time": "2021-11-16T22:03:14.826Z"
   },
   {
    "duration": 13,
    "start_time": "2021-11-16T22:03:14.938Z"
   },
   {
    "duration": 146,
    "start_time": "2021-11-16T22:03:14.963Z"
   },
   {
    "duration": 16,
    "start_time": "2021-11-16T22:03:15.111Z"
   },
   {
    "duration": 44,
    "start_time": "2021-11-16T22:03:15.129Z"
   },
   {
    "duration": 22,
    "start_time": "2021-11-16T22:03:15.175Z"
   },
   {
    "duration": 7,
    "start_time": "2021-11-16T22:03:15.198Z"
   },
   {
    "duration": 6,
    "start_time": "2021-11-16T22:03:15.207Z"
   },
   {
    "duration": 244,
    "start_time": "2021-11-16T22:03:15.214Z"
   },
   {
    "duration": 80,
    "start_time": "2021-11-16T22:03:15.460Z"
   },
   {
    "duration": 27,
    "start_time": "2021-11-16T22:03:15.542Z"
   },
   {
    "duration": 232,
    "start_time": "2021-11-16T22:03:15.570Z"
   },
   {
    "duration": 4,
    "start_time": "2021-11-16T22:03:15.804Z"
   },
   {
    "duration": 7,
    "start_time": "2021-11-16T22:03:15.810Z"
   },
   {
    "duration": 11,
    "start_time": "2021-11-16T22:03:15.819Z"
   },
   {
    "duration": 252,
    "start_time": "2021-11-16T22:03:15.835Z"
   },
   {
    "duration": 7,
    "start_time": "2021-11-16T22:03:16.090Z"
   },
   {
    "duration": 11,
    "start_time": "2021-11-16T22:03:16.099Z"
   },
   {
    "duration": 13,
    "start_time": "2021-11-16T22:03:16.111Z"
   },
   {
    "duration": 6,
    "start_time": "2021-11-16T22:03:16.126Z"
   },
   {
    "duration": 32,
    "start_time": "2021-11-16T22:03:16.133Z"
   },
   {
    "duration": 6,
    "start_time": "2021-11-16T22:03:16.167Z"
   },
   {
    "duration": 11,
    "start_time": "2021-11-16T22:03:16.175Z"
   },
   {
    "duration": 78,
    "start_time": "2021-11-16T22:03:16.187Z"
   },
   {
    "duration": 10,
    "start_time": "2021-11-16T22:03:16.266Z"
   },
   {
    "duration": 51,
    "start_time": "2021-11-16T22:03:16.277Z"
   },
   {
    "duration": 189,
    "start_time": "2021-11-16T22:03:16.330Z"
   },
   {
    "duration": 60,
    "start_time": "2021-11-16T22:03:16.521Z"
   },
   {
    "duration": 33,
    "start_time": "2021-11-16T22:03:16.583Z"
   },
   {
    "duration": 54,
    "start_time": "2021-11-16T22:03:16.618Z"
   },
   {
    "duration": 102,
    "start_time": "2021-11-16T22:03:16.674Z"
   },
   {
    "duration": 49,
    "start_time": "2021-11-16T22:03:16.778Z"
   },
   {
    "duration": 60,
    "start_time": "2021-11-16T22:03:16.829Z"
   },
   {
    "duration": 99,
    "start_time": "2021-11-16T22:03:16.892Z"
   },
   {
    "duration": 13,
    "start_time": "2021-11-16T22:03:16.993Z"
   },
   {
    "duration": 4,
    "start_time": "2021-11-16T22:03:17.008Z"
   },
   {
    "duration": 128,
    "start_time": "2021-11-16T22:03:17.014Z"
   },
   {
    "duration": 781,
    "start_time": "2021-11-16T22:03:17.143Z"
   },
   {
    "duration": 193,
    "start_time": "2021-11-16T22:03:17.926Z"
   },
   {
    "duration": 3,
    "start_time": "2021-11-16T22:03:18.121Z"
   },
   {
    "duration": 119,
    "start_time": "2021-11-16T22:03:18.125Z"
   },
   {
    "duration": 5,
    "start_time": "2021-11-16T22:03:18.246Z"
   },
   {
    "duration": 14,
    "start_time": "2021-11-16T22:03:18.253Z"
   },
   {
    "duration": 8715,
    "start_time": "2021-11-16T22:03:18.269Z"
   },
   {
    "duration": 17,
    "start_time": "2021-11-16T22:03:26.986Z"
   },
   {
    "duration": 25,
    "start_time": "2021-11-16T22:03:27.005Z"
   },
   {
    "duration": 26,
    "start_time": "2021-11-16T22:04:38.667Z"
   },
   {
    "duration": 12,
    "start_time": "2021-11-16T22:05:05.507Z"
   },
   {
    "duration": 26,
    "start_time": "2021-11-16T22:05:09.024Z"
   },
   {
    "duration": 28,
    "start_time": "2021-11-16T22:05:13.150Z"
   },
   {
    "duration": 26,
    "start_time": "2021-11-16T22:05:16.318Z"
   },
   {
    "duration": 21,
    "start_time": "2021-11-16T22:05:20.443Z"
   },
   {
    "duration": 333,
    "start_time": "2021-11-16T22:15:19.165Z"
   },
   {
    "duration": 3,
    "start_time": "2021-11-16T22:15:25.434Z"
   },
   {
    "duration": 480,
    "start_time": "2021-11-16T22:15:25.969Z"
   },
   {
    "duration": 1261,
    "start_time": "2021-11-18T20:01:45.101Z"
   },
   {
    "duration": 41,
    "start_time": "2021-11-18T20:01:46.364Z"
   },
   {
    "duration": 9,
    "start_time": "2021-11-18T20:01:46.411Z"
   },
   {
    "duration": 17,
    "start_time": "2021-11-18T20:01:46.422Z"
   },
   {
    "duration": 155,
    "start_time": "2021-11-18T20:01:46.441Z"
   },
   {
    "duration": 35,
    "start_time": "2021-11-18T20:01:46.598Z"
   },
   {
    "duration": 28,
    "start_time": "2021-11-18T20:01:46.635Z"
   },
   {
    "duration": 101,
    "start_time": "2021-11-18T20:01:46.666Z"
   },
   {
    "duration": 15,
    "start_time": "2021-11-18T20:01:46.769Z"
   },
   {
    "duration": 150,
    "start_time": "2021-11-18T20:01:46.786Z"
   },
   {
    "duration": 18,
    "start_time": "2021-11-18T20:01:46.937Z"
   },
   {
    "duration": 54,
    "start_time": "2021-11-18T20:01:46.957Z"
   },
   {
    "duration": 30,
    "start_time": "2021-11-18T20:01:47.014Z"
   },
   {
    "duration": 9,
    "start_time": "2021-11-18T20:01:47.046Z"
   },
   {
    "duration": 4,
    "start_time": "2021-11-18T20:01:47.058Z"
   },
   {
    "duration": 314,
    "start_time": "2021-11-18T20:01:47.064Z"
   },
   {
    "duration": 96,
    "start_time": "2021-11-18T20:01:47.380Z"
   },
   {
    "duration": 9,
    "start_time": "2021-11-18T20:01:47.478Z"
   },
   {
    "duration": 263,
    "start_time": "2021-11-18T20:01:47.488Z"
   },
   {
    "duration": 4,
    "start_time": "2021-11-18T20:01:47.753Z"
   },
   {
    "duration": 7,
    "start_time": "2021-11-18T20:01:47.759Z"
   },
   {
    "duration": 16,
    "start_time": "2021-11-18T20:01:47.767Z"
   },
   {
    "duration": 20,
    "start_time": "2021-11-18T20:01:47.787Z"
   },
   {
    "duration": 287,
    "start_time": "2021-11-18T20:01:47.810Z"
   },
   {
    "duration": 8,
    "start_time": "2021-11-18T20:01:48.099Z"
   },
   {
    "duration": 15,
    "start_time": "2021-11-18T20:01:48.109Z"
   },
   {
    "duration": 16,
    "start_time": "2021-11-18T20:01:48.126Z"
   },
   {
    "duration": 8,
    "start_time": "2021-11-18T20:01:48.144Z"
   },
   {
    "duration": 7,
    "start_time": "2021-11-18T20:01:48.153Z"
   },
   {
    "duration": 53,
    "start_time": "2021-11-18T20:01:48.162Z"
   },
   {
    "duration": 11,
    "start_time": "2021-11-18T20:01:48.217Z"
   },
   {
    "duration": 93,
    "start_time": "2021-11-18T20:01:48.230Z"
   },
   {
    "duration": 10,
    "start_time": "2021-11-18T20:01:48.326Z"
   },
   {
    "duration": 13,
    "start_time": "2021-11-18T20:01:48.338Z"
   },
   {
    "duration": 87,
    "start_time": "2021-11-18T20:01:48.352Z"
   },
   {
    "duration": 186,
    "start_time": "2021-11-18T20:01:48.441Z"
   },
   {
    "duration": 40,
    "start_time": "2021-11-18T20:01:48.628Z"
   },
   {
    "duration": 60,
    "start_time": "2021-11-18T20:01:48.669Z"
   },
   {
    "duration": 39,
    "start_time": "2021-11-18T20:01:48.730Z"
   },
   {
    "duration": 100,
    "start_time": "2021-11-18T20:01:48.772Z"
   },
   {
    "duration": 54,
    "start_time": "2021-11-18T20:01:48.874Z"
   },
   {
    "duration": 46,
    "start_time": "2021-11-18T20:01:48.930Z"
   },
   {
    "duration": 89,
    "start_time": "2021-11-18T20:01:48.978Z"
   },
   {
    "duration": 15,
    "start_time": "2021-11-18T20:01:49.069Z"
   },
   {
    "duration": 5,
    "start_time": "2021-11-18T20:01:49.086Z"
   },
   {
    "duration": 121,
    "start_time": "2021-11-18T20:01:49.092Z"
   },
   {
    "duration": 611,
    "start_time": "2021-11-18T20:01:49.215Z"
   },
   {
    "duration": 308,
    "start_time": "2021-11-18T20:01:49.830Z"
   },
   {
    "duration": 6,
    "start_time": "2021-11-18T20:01:50.142Z"
   },
   {
    "duration": 191,
    "start_time": "2021-11-18T20:01:50.150Z"
   },
   {
    "duration": 5,
    "start_time": "2021-11-18T20:01:50.343Z"
   },
   {
    "duration": 8,
    "start_time": "2021-11-18T20:01:50.350Z"
   },
   {
    "duration": 9201,
    "start_time": "2021-11-18T20:01:50.359Z"
   },
   {
    "duration": 15,
    "start_time": "2021-11-18T20:01:59.562Z"
   },
   {
    "duration": 15,
    "start_time": "2021-11-18T20:02:02.970Z"
   },
   {
    "duration": 22,
    "start_time": "2021-11-18T20:02:04.320Z"
   },
   {
    "duration": 36,
    "start_time": "2021-11-18T20:07:11.416Z"
   },
   {
    "duration": 34,
    "start_time": "2021-11-18T20:13:30.101Z"
   },
   {
    "duration": 22,
    "start_time": "2021-11-18T20:14:05.145Z"
   },
   {
    "duration": 9,
    "start_time": "2021-11-18T20:47:30.005Z"
   },
   {
    "duration": 23,
    "start_time": "2021-11-18T20:47:31.608Z"
   },
   {
    "duration": 11473,
    "start_time": "2021-11-18T20:47:54.429Z"
   },
   {
    "duration": 7,
    "start_time": "2021-11-18T20:49:02.440Z"
   },
   {
    "duration": 8804,
    "start_time": "2021-11-18T20:49:04.819Z"
   },
   {
    "duration": 16,
    "start_time": "2021-11-18T20:52:47.652Z"
   },
   {
    "duration": 12,
    "start_time": "2021-11-18T20:52:52.738Z"
   },
   {
    "duration": 13,
    "start_time": "2021-11-18T20:53:19.770Z"
   },
   {
    "duration": 4,
    "start_time": "2021-11-18T20:54:06.485Z"
   },
   {
    "duration": 5,
    "start_time": "2021-11-18T20:54:21.831Z"
   },
   {
    "duration": 49,
    "start_time": "2021-11-18T20:54:21.837Z"
   },
   {
    "duration": 5,
    "start_time": "2021-11-18T20:54:21.889Z"
   },
   {
    "duration": 28,
    "start_time": "2021-11-18T20:54:21.896Z"
   },
   {
    "duration": 159,
    "start_time": "2021-11-18T20:54:21.931Z"
   },
   {
    "duration": 33,
    "start_time": "2021-11-18T20:54:22.092Z"
   },
   {
    "duration": 32,
    "start_time": "2021-11-18T20:54:22.128Z"
   },
   {
    "duration": 100,
    "start_time": "2021-11-18T20:54:22.162Z"
   },
   {
    "duration": 13,
    "start_time": "2021-11-18T20:54:22.264Z"
   },
   {
    "duration": 169,
    "start_time": "2021-11-18T20:54:22.279Z"
   },
   {
    "duration": 18,
    "start_time": "2021-11-18T20:54:22.450Z"
   },
   {
    "duration": 50,
    "start_time": "2021-11-18T20:54:22.469Z"
   },
   {
    "duration": 23,
    "start_time": "2021-11-18T20:54:22.526Z"
   },
   {
    "duration": 8,
    "start_time": "2021-11-18T20:54:22.550Z"
   },
   {
    "duration": 5,
    "start_time": "2021-11-18T20:54:22.559Z"
   },
   {
    "duration": 188,
    "start_time": "2021-11-18T20:54:22.566Z"
   },
   {
    "duration": 93,
    "start_time": "2021-11-18T20:54:22.755Z"
   },
   {
    "duration": 10,
    "start_time": "2021-11-18T20:54:22.850Z"
   },
   {
    "duration": 303,
    "start_time": "2021-11-18T20:54:22.862Z"
   },
   {
    "duration": 5,
    "start_time": "2021-11-18T20:54:23.166Z"
   },
   {
    "duration": 25,
    "start_time": "2021-11-18T20:54:23.172Z"
   },
   {
    "duration": 41,
    "start_time": "2021-11-18T20:54:23.199Z"
   },
   {
    "duration": 28,
    "start_time": "2021-11-18T20:54:23.244Z"
   },
   {
    "duration": 279,
    "start_time": "2021-11-18T20:54:23.274Z"
   },
   {
    "duration": 8,
    "start_time": "2021-11-18T20:54:23.554Z"
   },
   {
    "duration": 19,
    "start_time": "2021-11-18T20:54:23.564Z"
   },
   {
    "duration": 31,
    "start_time": "2021-11-18T20:54:23.585Z"
   },
   {
    "duration": 13,
    "start_time": "2021-11-18T20:54:23.629Z"
   },
   {
    "duration": 8,
    "start_time": "2021-11-18T20:54:23.644Z"
   },
   {
    "duration": 11,
    "start_time": "2021-11-18T20:54:23.654Z"
   },
   {
    "duration": 15,
    "start_time": "2021-11-18T20:54:23.666Z"
   },
   {
    "duration": 69,
    "start_time": "2021-11-18T20:54:23.683Z"
   },
   {
    "duration": 9,
    "start_time": "2021-11-18T20:54:23.754Z"
   },
   {
    "duration": 11,
    "start_time": "2021-11-18T20:54:23.764Z"
   },
   {
    "duration": 75,
    "start_time": "2021-11-18T20:54:23.777Z"
   },
   {
    "duration": 169,
    "start_time": "2021-11-18T20:54:23.854Z"
   },
   {
    "duration": 44,
    "start_time": "2021-11-18T20:54:24.030Z"
   },
   {
    "duration": 45,
    "start_time": "2021-11-18T20:54:24.075Z"
   },
   {
    "duration": 47,
    "start_time": "2021-11-18T20:54:24.122Z"
   },
   {
    "duration": 93,
    "start_time": "2021-11-18T20:54:24.171Z"
   },
   {
    "duration": 58,
    "start_time": "2021-11-18T20:54:24.266Z"
   },
   {
    "duration": 45,
    "start_time": "2021-11-18T20:54:24.331Z"
   },
   {
    "duration": 79,
    "start_time": "2021-11-18T20:54:24.378Z"
   },
   {
    "duration": 10,
    "start_time": "2021-11-18T20:54:24.459Z"
   },
   {
    "duration": 6,
    "start_time": "2021-11-18T20:54:24.471Z"
   },
   {
    "duration": 9,
    "start_time": "2021-11-18T20:54:24.478Z"
   },
   {
    "duration": 129,
    "start_time": "2021-11-18T20:54:24.489Z"
   },
   {
    "duration": 732,
    "start_time": "2021-11-18T20:54:24.620Z"
   },
   {
    "duration": 200,
    "start_time": "2021-11-18T20:54:25.354Z"
   },
   {
    "duration": 3,
    "start_time": "2021-11-18T20:54:25.555Z"
   },
   {
    "duration": 128,
    "start_time": "2021-11-18T20:54:25.560Z"
   },
   {
    "duration": 5,
    "start_time": "2021-11-18T20:54:25.690Z"
   },
   {
    "duration": 21,
    "start_time": "2021-11-18T20:54:25.696Z"
   },
   {
    "duration": 9865,
    "start_time": "2021-11-18T20:54:25.719Z"
   },
   {
    "duration": 25,
    "start_time": "2021-11-18T20:54:35.586Z"
   },
   {
    "duration": 20,
    "start_time": "2021-11-18T20:54:35.645Z"
   },
   {
    "duration": 4,
    "start_time": "2021-11-18T20:54:35.667Z"
   },
   {
    "duration": 49,
    "start_time": "2021-11-18T20:54:35.673Z"
   },
   {
    "duration": 6699,
    "start_time": "2021-11-18T20:54:41.932Z"
   },
   {
    "duration": 24,
    "start_time": "2021-11-18T20:55:17.820Z"
   },
   {
    "duration": 5,
    "start_time": "2021-11-18T20:57:05.461Z"
   },
   {
    "duration": 17,
    "start_time": "2021-11-18T20:57:07.127Z"
   },
   {
    "duration": 7097,
    "start_time": "2021-11-18T20:57:07.438Z"
   },
   {
    "duration": 36,
    "start_time": "2021-11-18T20:58:57.804Z"
   },
   {
    "duration": 7,
    "start_time": "2021-11-18T21:00:26.906Z"
   },
   {
    "duration": 8835,
    "start_time": "2021-11-18T21:00:26.916Z"
   },
   {
    "duration": 5,
    "start_time": "2021-11-18T21:01:20.577Z"
   },
   {
    "duration": 6413,
    "start_time": "2021-11-18T21:01:20.831Z"
   },
   {
    "duration": 21,
    "start_time": "2021-11-18T21:01:29.824Z"
   },
   {
    "duration": 6,
    "start_time": "2021-11-18T21:02:20.905Z"
   },
   {
    "duration": 13333,
    "start_time": "2021-11-18T21:02:23.819Z"
   },
   {
    "duration": 5,
    "start_time": "2021-11-18T21:04:17.525Z"
   },
   {
    "duration": 12993,
    "start_time": "2021-11-18T21:04:18.268Z"
   },
   {
    "duration": 13658,
    "start_time": "2021-11-18T21:05:11.300Z"
   },
   {
    "duration": 46,
    "start_time": "2021-11-18T21:05:24.960Z"
   },
   {
    "duration": 16,
    "start_time": "2021-11-18T21:07:21.539Z"
   },
   {
    "duration": 15,
    "start_time": "2021-11-18T21:08:48.414Z"
   },
   {
    "duration": 6,
    "start_time": "2021-11-18T21:09:36.196Z"
   },
   {
    "duration": 4034,
    "start_time": "2021-11-18T21:09:36.803Z"
   },
   {
    "duration": 13,
    "start_time": "2021-11-18T21:09:40.839Z"
   },
   {
    "duration": 23,
    "start_time": "2021-11-18T21:17:40.448Z"
   },
   {
    "duration": 8989,
    "start_time": "2021-11-18T21:19:16.311Z"
   },
   {
    "duration": 18,
    "start_time": "2021-11-18T21:20:00.856Z"
   },
   {
    "duration": 17,
    "start_time": "2021-11-18T21:21:23.972Z"
   },
   {
    "duration": 13,
    "start_time": "2021-11-18T21:21:54.824Z"
   },
   {
    "duration": 12,
    "start_time": "2021-11-18T21:22:20.320Z"
   },
   {
    "duration": 18,
    "start_time": "2021-11-18T21:22:33.597Z"
   },
   {
    "duration": 8,
    "start_time": "2021-11-18T21:22:37.088Z"
   },
   {
    "duration": 198,
    "start_time": "2021-11-18T21:24:29.378Z"
   },
   {
    "duration": 213,
    "start_time": "2021-11-18T21:25:07.549Z"
   },
   {
    "duration": 271,
    "start_time": "2021-11-18T21:26:04.005Z"
   },
   {
    "duration": 239,
    "start_time": "2021-11-18T21:26:13.667Z"
   },
   {
    "duration": 260,
    "start_time": "2021-11-18T21:26:35.786Z"
   },
   {
    "duration": 545,
    "start_time": "2021-11-18T21:27:38.544Z"
   },
   {
    "duration": 255,
    "start_time": "2021-11-18T21:27:52.807Z"
   },
   {
    "duration": 215,
    "start_time": "2021-11-18T21:29:11.236Z"
   },
   {
    "duration": 215,
    "start_time": "2021-11-18T21:29:34.090Z"
   },
   {
    "duration": 8,
    "start_time": "2021-11-18T21:30:06.545Z"
   },
   {
    "duration": 575,
    "start_time": "2021-11-18T21:30:49.293Z"
   },
   {
    "duration": 220,
    "start_time": "2021-11-18T21:30:55.693Z"
   },
   {
    "duration": 204,
    "start_time": "2021-11-18T21:32:30.860Z"
   },
   {
    "duration": 200,
    "start_time": "2021-11-18T21:32:35.628Z"
   },
   {
    "duration": 635,
    "start_time": "2021-11-18T21:35:37.155Z"
   },
   {
    "duration": 611,
    "start_time": "2021-11-18T21:35:57.082Z"
   },
   {
    "duration": 201,
    "start_time": "2021-11-18T21:36:53.473Z"
   },
   {
    "duration": 208,
    "start_time": "2021-11-18T21:37:02.981Z"
   },
   {
    "duration": 208,
    "start_time": "2021-11-18T21:37:16.682Z"
   },
   {
    "duration": 418,
    "start_time": "2021-11-18T21:37:47.093Z"
   },
   {
    "duration": 125,
    "start_time": "2021-11-18T21:39:20.928Z"
   },
   {
    "duration": 4,
    "start_time": "2021-11-18T21:39:23.629Z"
   },
   {
    "duration": 9,
    "start_time": "2021-11-18T21:42:13.843Z"
   },
   {
    "duration": 10,
    "start_time": "2021-11-18T21:42:29.435Z"
   },
   {
    "duration": 43,
    "start_time": "2021-11-18T21:43:05.610Z"
   },
   {
    "duration": 367,
    "start_time": "2021-11-18T21:44:12.085Z"
   },
   {
    "duration": 17,
    "start_time": "2021-11-18T21:44:30.698Z"
   },
   {
    "duration": 17,
    "start_time": "2021-11-18T21:44:35.650Z"
   },
   {
    "duration": 22,
    "start_time": "2021-11-18T21:47:05.348Z"
   },
   {
    "duration": 18,
    "start_time": "2021-11-18T21:47:17.936Z"
   },
   {
    "duration": 431,
    "start_time": "2021-11-18T21:47:50.496Z"
   },
   {
    "duration": 356,
    "start_time": "2021-11-18T21:48:19.128Z"
   },
   {
    "duration": 369,
    "start_time": "2021-11-18T21:49:49.522Z"
   },
   {
    "duration": 380,
    "start_time": "2021-11-18T21:49:53.503Z"
   },
   {
    "duration": 368,
    "start_time": "2021-11-18T21:49:57.791Z"
   },
   {
    "duration": 380,
    "start_time": "2021-11-18T21:50:23.195Z"
   },
   {
    "duration": 406,
    "start_time": "2021-11-18T21:51:00.642Z"
   },
   {
    "duration": 437,
    "start_time": "2021-11-18T21:51:06.419Z"
   },
   {
    "duration": 425,
    "start_time": "2021-11-18T21:51:12.501Z"
   },
   {
    "duration": 662,
    "start_time": "2021-11-18T21:51:19.003Z"
   },
   {
    "duration": 414,
    "start_time": "2021-11-18T21:51:25.898Z"
   },
   {
    "duration": 404,
    "start_time": "2021-11-18T21:51:31.731Z"
   },
   {
    "duration": 433,
    "start_time": "2021-11-18T21:51:39.225Z"
   },
   {
    "duration": 447,
    "start_time": "2021-11-18T21:52:04.217Z"
   },
   {
    "duration": 427,
    "start_time": "2021-11-18T21:52:30.120Z"
   },
   {
    "duration": 466,
    "start_time": "2021-11-18T21:52:36.552Z"
   },
   {
    "duration": 478,
    "start_time": "2021-11-18T21:52:48.505Z"
   },
   {
    "duration": 716,
    "start_time": "2021-11-18T21:52:54.074Z"
   },
   {
    "duration": 469,
    "start_time": "2021-11-18T21:53:03.554Z"
   },
   {
    "duration": 793,
    "start_time": "2021-11-18T21:53:26.397Z"
   },
   {
    "duration": 452,
    "start_time": "2021-11-18T21:53:36.985Z"
   },
   {
    "duration": 1339,
    "start_time": "2021-11-19T17:20:20.836Z"
   },
   {
    "duration": 38,
    "start_time": "2021-11-19T17:20:22.176Z"
   },
   {
    "duration": 31,
    "start_time": "2021-11-19T17:20:22.216Z"
   },
   {
    "duration": 35,
    "start_time": "2021-11-19T17:20:22.249Z"
   },
   {
    "duration": 187,
    "start_time": "2021-11-19T17:20:22.285Z"
   },
   {
    "duration": 21,
    "start_time": "2021-11-19T17:20:22.474Z"
   },
   {
    "duration": 60,
    "start_time": "2021-11-19T17:20:22.497Z"
   },
   {
    "duration": 100,
    "start_time": "2021-11-19T17:20:22.559Z"
   },
   {
    "duration": 15,
    "start_time": "2021-11-19T17:20:22.661Z"
   },
   {
    "duration": 162,
    "start_time": "2021-11-19T17:20:22.678Z"
   },
   {
    "duration": 20,
    "start_time": "2021-11-19T17:20:22.842Z"
   },
   {
    "duration": 31,
    "start_time": "2021-11-19T17:20:22.864Z"
   },
   {
    "duration": 22,
    "start_time": "2021-11-19T17:20:22.896Z"
   },
   {
    "duration": 8,
    "start_time": "2021-11-19T17:20:22.920Z"
   },
   {
    "duration": 6,
    "start_time": "2021-11-19T17:20:22.930Z"
   },
   {
    "duration": 229,
    "start_time": "2021-11-19T17:20:22.938Z"
   },
   {
    "duration": 111,
    "start_time": "2021-11-19T17:20:23.170Z"
   },
   {
    "duration": 10,
    "start_time": "2021-11-19T17:20:23.283Z"
   },
   {
    "duration": 270,
    "start_time": "2021-11-19T17:20:23.294Z"
   },
   {
    "duration": 7,
    "start_time": "2021-11-19T17:20:23.566Z"
   },
   {
    "duration": 6,
    "start_time": "2021-11-19T17:20:23.576Z"
   },
   {
    "duration": 22,
    "start_time": "2021-11-19T17:20:23.585Z"
   },
   {
    "duration": 12,
    "start_time": "2021-11-19T17:20:23.613Z"
   },
   {
    "duration": 272,
    "start_time": "2021-11-19T17:20:23.627Z"
   },
   {
    "duration": 8,
    "start_time": "2021-11-19T17:20:23.901Z"
   },
   {
    "duration": 17,
    "start_time": "2021-11-19T17:20:23.911Z"
   },
   {
    "duration": 20,
    "start_time": "2021-11-19T17:20:23.930Z"
   },
   {
    "duration": 16,
    "start_time": "2021-11-19T17:20:23.952Z"
   },
   {
    "duration": 10,
    "start_time": "2021-11-19T17:20:23.970Z"
   },
   {
    "duration": 30,
    "start_time": "2021-11-19T17:20:23.982Z"
   },
   {
    "duration": 14,
    "start_time": "2021-11-19T17:20:24.014Z"
   },
   {
    "duration": 12,
    "start_time": "2021-11-19T17:20:27.541Z"
   },
   {
    "duration": 20,
    "start_time": "2021-11-19T17:20:42.488Z"
   },
   {
    "duration": 15,
    "start_time": "2021-11-19T17:21:00.421Z"
   },
   {
    "duration": 21,
    "start_time": "2021-11-19T17:21:23.579Z"
   },
   {
    "duration": 64,
    "start_time": "2021-11-19T17:21:47.391Z"
   },
   {
    "duration": 4,
    "start_time": "2021-11-19T17:21:53.731Z"
   },
   {
    "duration": 113,
    "start_time": "2021-11-19T17:22:01.738Z"
   },
   {
    "duration": 64,
    "start_time": "2021-11-19T17:22:13.611Z"
   },
   {
    "duration": 113,
    "start_time": "2021-11-19T17:22:19.156Z"
   },
   {
    "duration": 57,
    "start_time": "2021-11-19T17:22:49.977Z"
   },
   {
    "duration": 83,
    "start_time": "2021-11-19T17:22:55.909Z"
   },
   {
    "duration": 57,
    "start_time": "2021-11-19T17:23:04.522Z"
   },
   {
    "duration": 9,
    "start_time": "2021-11-19T17:23:07.027Z"
   },
   {
    "duration": 88,
    "start_time": "2021-11-19T17:23:18.843Z"
   },
   {
    "duration": 20,
    "start_time": "2021-11-19T17:23:46.398Z"
   },
   {
    "duration": 56,
    "start_time": "2021-11-19T17:25:09.252Z"
   },
   {
    "duration": 8,
    "start_time": "2021-11-19T17:25:10.997Z"
   },
   {
    "duration": 9,
    "start_time": "2021-11-19T17:25:11.703Z"
   },
   {
    "duration": 1267,
    "start_time": "2021-11-19T17:25:15.982Z"
   },
   {
    "duration": -93,
    "start_time": "2021-11-19T17:25:17.345Z"
   },
   {
    "duration": 86,
    "start_time": "2021-11-19T17:25:40.233Z"
   },
   {
    "duration": 26,
    "start_time": "2021-11-19T17:26:14.657Z"
   },
   {
    "duration": 15,
    "start_time": "2021-11-19T17:26:25.184Z"
   },
   {
    "duration": 57,
    "start_time": "2021-11-19T17:26:41.429Z"
   },
   {
    "duration": 289,
    "start_time": "2021-11-19T17:27:24.475Z"
   },
   {
    "duration": 40,
    "start_time": "2021-11-19T17:27:29.859Z"
   },
   {
    "duration": 15,
    "start_time": "2021-11-19T17:27:37.285Z"
   },
   {
    "duration": 58,
    "start_time": "2021-11-19T17:27:43.442Z"
   },
   {
    "duration": 49,
    "start_time": "2021-11-19T17:27:59.247Z"
   },
   {
    "duration": 9,
    "start_time": "2021-11-19T17:28:01.830Z"
   },
   {
    "duration": 8,
    "start_time": "2021-11-19T17:28:02.264Z"
   },
   {
    "duration": 48,
    "start_time": "2021-11-19T17:28:03.138Z"
   },
   {
    "duration": 163,
    "start_time": "2021-11-19T17:28:03.804Z"
   },
   {
    "duration": 50,
    "start_time": "2021-11-19T17:28:06.798Z"
   },
   {
    "duration": 35,
    "start_time": "2021-11-19T17:28:14.893Z"
   },
   {
    "duration": 39,
    "start_time": "2021-11-19T17:28:36.939Z"
   },
   {
    "duration": 41,
    "start_time": "2021-11-19T17:28:39.284Z"
   },
   {
    "duration": 90,
    "start_time": "2021-11-19T17:28:40.202Z"
   },
   {
    "duration": 49,
    "start_time": "2021-11-19T17:28:43.614Z"
   },
   {
    "duration": 44,
    "start_time": "2021-11-19T17:28:47.444Z"
   },
   {
    "duration": 83,
    "start_time": "2021-11-19T17:28:48.221Z"
   },
   {
    "duration": 12,
    "start_time": "2021-11-19T17:28:54.129Z"
   },
   {
    "duration": 3,
    "start_time": "2021-11-19T17:28:54.382Z"
   },
   {
    "duration": 4,
    "start_time": "2021-11-19T17:28:54.627Z"
   },
   {
    "duration": 115,
    "start_time": "2021-11-19T17:28:54.872Z"
   },
   {
    "duration": 792,
    "start_time": "2021-11-19T17:28:55.182Z"
   },
   {
    "duration": 185,
    "start_time": "2021-11-19T17:28:56.052Z"
   },
   {
    "duration": 4,
    "start_time": "2021-11-19T17:29:00.079Z"
   },
   {
    "duration": 186,
    "start_time": "2021-11-19T17:29:00.776Z"
   },
   {
    "duration": 8,
    "start_time": "2021-11-19T17:29:01.584Z"
   },
   {
    "duration": 7,
    "start_time": "2021-11-19T17:29:02.253Z"
   },
   {
    "duration": 15080,
    "start_time": "2021-11-19T17:29:02.983Z"
   },
   {
    "duration": 24,
    "start_time": "2021-11-19T17:29:20.769Z"
   },
   {
    "duration": 38,
    "start_time": "2021-11-19T17:29:21.756Z"
   },
   {
    "duration": 8,
    "start_time": "2021-11-19T17:29:37.537Z"
   },
   {
    "duration": 5616,
    "start_time": "2021-11-19T17:29:37.953Z"
   },
   {
    "duration": 15,
    "start_time": "2021-11-19T17:29:43.572Z"
   },
   {
    "duration": 17,
    "start_time": "2021-11-19T17:30:27.532Z"
   },
   {
    "duration": 15,
    "start_time": "2021-11-19T17:30:32.895Z"
   },
   {
    "duration": 19,
    "start_time": "2021-11-19T17:32:41.951Z"
   },
   {
    "duration": 11,
    "start_time": "2021-11-19T17:33:08.714Z"
   },
   {
    "duration": 21,
    "start_time": "2021-11-19T17:35:03.443Z"
   },
   {
    "duration": 270,
    "start_time": "2021-11-19T17:35:07.382Z"
   },
   {
    "duration": 9,
    "start_time": "2021-11-19T17:35:12.874Z"
   },
   {
    "duration": 52,
    "start_time": "2021-11-19T17:35:24.449Z"
   },
   {
    "duration": 5,
    "start_time": "2021-11-19T17:35:27.377Z"
   },
   {
    "duration": 43,
    "start_time": "2021-11-19T17:35:27.384Z"
   },
   {
    "duration": 6,
    "start_time": "2021-11-19T17:35:27.430Z"
   },
   {
    "duration": 20,
    "start_time": "2021-11-19T17:35:27.438Z"
   },
   {
    "duration": 158,
    "start_time": "2021-11-19T17:35:27.459Z"
   },
   {
    "duration": 22,
    "start_time": "2021-11-19T17:35:27.620Z"
   },
   {
    "duration": 46,
    "start_time": "2021-11-19T17:35:27.643Z"
   },
   {
    "duration": 94,
    "start_time": "2021-11-19T17:35:27.691Z"
   },
   {
    "duration": 16,
    "start_time": "2021-11-19T17:35:27.787Z"
   },
   {
    "duration": 147,
    "start_time": "2021-11-19T17:35:27.805Z"
   },
   {
    "duration": 30,
    "start_time": "2021-11-19T17:35:27.953Z"
   },
   {
    "duration": 48,
    "start_time": "2021-11-19T17:35:27.984Z"
   },
   {
    "duration": 22,
    "start_time": "2021-11-19T17:35:28.033Z"
   },
   {
    "duration": 40,
    "start_time": "2021-11-19T17:35:28.057Z"
   },
   {
    "duration": 24,
    "start_time": "2021-11-19T17:35:28.100Z"
   },
   {
    "duration": 210,
    "start_time": "2021-11-19T17:35:28.126Z"
   },
   {
    "duration": 82,
    "start_time": "2021-11-19T17:35:28.337Z"
   },
   {
    "duration": 10,
    "start_time": "2021-11-19T17:35:28.422Z"
   },
   {
    "duration": 268,
    "start_time": "2021-11-19T17:35:28.434Z"
   },
   {
    "duration": 4,
    "start_time": "2021-11-19T17:35:28.704Z"
   },
   {
    "duration": 15,
    "start_time": "2021-11-19T17:35:28.710Z"
   },
   {
    "duration": 23,
    "start_time": "2021-11-19T17:35:28.727Z"
   },
   {
    "duration": 24,
    "start_time": "2021-11-19T17:35:28.752Z"
   },
   {
    "duration": 245,
    "start_time": "2021-11-19T17:35:28.778Z"
   },
   {
    "duration": 7,
    "start_time": "2021-11-19T17:35:29.025Z"
   },
   {
    "duration": 18,
    "start_time": "2021-11-19T17:35:29.033Z"
   },
   {
    "duration": 30,
    "start_time": "2021-11-19T17:35:29.054Z"
   },
   {
    "duration": 16,
    "start_time": "2021-11-19T17:35:29.086Z"
   },
   {
    "duration": 12,
    "start_time": "2021-11-19T17:35:29.104Z"
   },
   {
    "duration": 22,
    "start_time": "2021-11-19T17:35:29.118Z"
   },
   {
    "duration": 48,
    "start_time": "2021-11-19T17:35:29.142Z"
   },
   {
    "duration": 98,
    "start_time": "2021-11-19T17:35:29.192Z"
   },
   {
    "duration": 8,
    "start_time": "2021-11-19T17:35:29.291Z"
   },
   {
    "duration": 11,
    "start_time": "2021-11-19T17:35:29.301Z"
   },
   {
    "duration": 66,
    "start_time": "2021-11-19T17:35:29.313Z"
   },
   {
    "duration": 60,
    "start_time": "2021-11-19T17:35:31.247Z"
   },
   {
    "duration": 150,
    "start_time": "2021-11-19T17:35:36.358Z"
   },
   {
    "duration": 87,
    "start_time": "2021-11-19T17:36:31.569Z"
   },
   {
    "duration": 61,
    "start_time": "2021-11-19T17:36:39.827Z"
   },
   {
    "duration": 92,
    "start_time": "2021-11-19T17:37:26.923Z"
   },
   {
    "duration": 41,
    "start_time": "2021-11-19T17:37:39.915Z"
   },
   {
    "duration": 48,
    "start_time": "2021-11-19T17:37:46.152Z"
   },
   {
    "duration": 80,
    "start_time": "2021-11-19T17:37:49.699Z"
   },
   {
    "duration": 89,
    "start_time": "2021-11-19T17:38:15.720Z"
   },
   {
    "duration": 55,
    "start_time": "2021-11-19T17:38:27.505Z"
   },
   {
    "duration": 52,
    "start_time": "2021-11-19T17:38:48.679Z"
   },
   {
    "duration": 52,
    "start_time": "2021-11-19T17:38:55.333Z"
   },
   {
    "duration": 64,
    "start_time": "2021-11-19T17:38:55.927Z"
   },
   {
    "duration": 12,
    "start_time": "2021-11-19T17:39:34.510Z"
   },
   {
    "duration": 3,
    "start_time": "2021-11-19T17:39:35.621Z"
   },
   {
    "duration": 4,
    "start_time": "2021-11-19T17:40:03.557Z"
   },
   {
    "duration": 108,
    "start_time": "2021-11-19T17:40:04.432Z"
   },
   {
    "duration": 788,
    "start_time": "2021-11-19T17:40:05.893Z"
   },
   {
    "duration": 5,
    "start_time": "2021-11-19T17:41:49.417Z"
   },
   {
    "duration": 6,
    "start_time": "2021-11-19T17:41:54.171Z"
   },
   {
    "duration": 113,
    "start_time": "2021-11-19T17:41:59.553Z"
   },
   {
    "duration": 5,
    "start_time": "2021-11-19T17:42:01.063Z"
   },
   {
    "duration": 4,
    "start_time": "2021-11-19T17:42:07.157Z"
   },
   {
    "duration": 9373,
    "start_time": "2021-11-19T17:42:10.644Z"
   },
   {
    "duration": 17,
    "start_time": "2021-11-19T17:42:20.019Z"
   },
   {
    "duration": 15,
    "start_time": "2021-11-19T17:42:44.361Z"
   },
   {
    "duration": 8,
    "start_time": "2021-11-19T17:42:52.489Z"
   },
   {
    "duration": 14,
    "start_time": "2021-11-19T17:43:18.526Z"
   },
   {
    "duration": 19,
    "start_time": "2021-11-19T17:43:59.493Z"
   },
   {
    "duration": 14,
    "start_time": "2021-11-19T17:45:04.236Z"
   },
   {
    "duration": 7,
    "start_time": "2021-11-19T17:45:12.207Z"
   },
   {
    "duration": 14,
    "start_time": "2021-11-19T17:45:38.354Z"
   },
   {
    "duration": 5,
    "start_time": "2021-11-19T17:45:58.523Z"
   },
   {
    "duration": 6832,
    "start_time": "2021-11-19T17:46:17.968Z"
   },
   {
    "duration": 7,
    "start_time": "2021-11-19T17:46:34.004Z"
   },
   {
    "duration": 14,
    "start_time": "2021-11-19T17:46:59.376Z"
   },
   {
    "duration": 12,
    "start_time": "2021-11-19T17:47:09.159Z"
   },
   {
    "duration": 22,
    "start_time": "2021-11-19T17:48:45.436Z"
   },
   {
    "duration": 6,
    "start_time": "2021-11-19T17:48:54.673Z"
   },
   {
    "duration": 4178,
    "start_time": "2021-11-19T17:48:56.637Z"
   },
   {
    "duration": 21,
    "start_time": "2021-11-19T17:49:03.393Z"
   },
   {
    "duration": 51,
    "start_time": "2021-11-19T17:55:01.416Z"
   },
   {
    "duration": 264,
    "start_time": "2021-11-19T17:55:25.579Z"
   },
   {
    "duration": 63,
    "start_time": "2021-11-19T17:55:28.071Z"
   },
   {
    "duration": 67,
    "start_time": "2021-11-19T17:56:14.124Z"
   },
   {
    "duration": 92,
    "start_time": "2021-11-19T17:57:04.027Z"
   },
   {
    "duration": 112,
    "start_time": "2021-11-19T17:57:35.824Z"
   },
   {
    "duration": 20,
    "start_time": "2021-11-19T17:58:35.866Z"
   },
   {
    "duration": 263,
    "start_time": "2021-11-19T17:59:32.418Z"
   },
   {
    "duration": 268,
    "start_time": "2021-11-19T17:59:46.389Z"
   },
   {
    "duration": 22,
    "start_time": "2021-11-19T17:59:53.543Z"
   },
   {
    "duration": 22,
    "start_time": "2021-11-19T18:00:00.832Z"
   },
   {
    "duration": 26,
    "start_time": "2021-11-19T18:00:40.102Z"
   },
   {
    "duration": 26,
    "start_time": "2021-11-19T18:01:05.294Z"
   },
   {
    "duration": 18,
    "start_time": "2021-11-19T18:01:45.716Z"
   },
   {
    "duration": 257,
    "start_time": "2021-11-19T18:02:30.459Z"
   },
   {
    "duration": 18,
    "start_time": "2021-11-19T18:02:37.729Z"
   },
   {
    "duration": 89,
    "start_time": "2021-11-19T18:04:58.075Z"
   },
   {
    "duration": 62,
    "start_time": "2021-11-19T18:05:12.731Z"
   },
   {
    "duration": 33,
    "start_time": "2021-11-19T18:05:22.782Z"
   },
   {
    "duration": 31,
    "start_time": "2021-11-19T18:05:40.216Z"
   },
   {
    "duration": 283,
    "start_time": "2021-11-19T18:05:52.144Z"
   },
   {
    "duration": 284,
    "start_time": "2021-11-19T18:05:58.037Z"
   },
   {
    "duration": 34,
    "start_time": "2021-11-19T18:06:04.210Z"
   },
   {
    "duration": 34,
    "start_time": "2021-11-19T18:06:11.622Z"
   },
   {
    "duration": 8052,
    "start_time": "2021-11-19T18:06:35.218Z"
   },
   {
    "duration": 14,
    "start_time": "2021-11-19T18:06:49.052Z"
   },
   {
    "duration": 22,
    "start_time": "2021-11-19T18:07:05.306Z"
   },
   {
    "duration": 6,
    "start_time": "2021-11-19T18:07:18.992Z"
   },
   {
    "duration": 10,
    "start_time": "2021-11-19T18:07:33.953Z"
   },
   {
    "duration": 8,
    "start_time": "2021-11-19T18:07:48.177Z"
   },
   {
    "duration": 10,
    "start_time": "2021-11-19T18:07:52.927Z"
   },
   {
    "duration": 12,
    "start_time": "2021-11-19T18:09:04.367Z"
   },
   {
    "duration": 12,
    "start_time": "2021-11-19T18:09:37.096Z"
   },
   {
    "duration": 10,
    "start_time": "2021-11-19T18:09:51.923Z"
   },
   {
    "duration": 10,
    "start_time": "2021-11-19T18:09:58.884Z"
   },
   {
    "duration": 10,
    "start_time": "2021-11-19T18:10:02.856Z"
   },
   {
    "duration": 10,
    "start_time": "2021-11-19T18:10:45.782Z"
   },
   {
    "duration": 11,
    "start_time": "2021-11-19T18:10:58.104Z"
   },
   {
    "duration": 11,
    "start_time": "2021-11-19T18:11:07.551Z"
   },
   {
    "duration": 254,
    "start_time": "2021-11-19T18:11:56.088Z"
   },
   {
    "duration": 7,
    "start_time": "2021-11-19T18:11:59.783Z"
   },
   {
    "duration": 10,
    "start_time": "2021-11-19T18:12:04.050Z"
   },
   {
    "duration": 18,
    "start_time": "2021-11-19T18:12:32.855Z"
   },
   {
    "duration": 13,
    "start_time": "2021-11-19T18:12:36.789Z"
   },
   {
    "duration": 302,
    "start_time": "2021-11-19T18:13:16.383Z"
   },
   {
    "duration": 11,
    "start_time": "2021-11-19T18:13:30.528Z"
   },
   {
    "duration": 26,
    "start_time": "2021-11-19T18:13:38.456Z"
   },
   {
    "duration": 9,
    "start_time": "2021-11-19T18:14:12.534Z"
   },
   {
    "duration": 7,
    "start_time": "2021-11-19T18:14:53.328Z"
   },
   {
    "duration": 7518,
    "start_time": "2021-11-19T18:15:13.975Z"
   },
   {
    "duration": 16,
    "start_time": "2021-11-19T18:15:31.495Z"
   },
   {
    "duration": 17,
    "start_time": "2021-11-19T18:15:42.747Z"
   },
   {
    "duration": 8,
    "start_time": "2021-11-19T18:16:19.487Z"
   },
   {
    "duration": 8,
    "start_time": "2021-11-19T18:16:26.788Z"
   },
   {
    "duration": 8762,
    "start_time": "2021-11-19T18:16:56.837Z"
   },
   {
    "duration": 17,
    "start_time": "2021-11-19T18:17:05.601Z"
   },
   {
    "duration": 18,
    "start_time": "2021-11-19T18:17:05.620Z"
   },
   {
    "duration": 5,
    "start_time": "2021-11-19T18:17:09.971Z"
   },
   {
    "duration": 553,
    "start_time": "2021-11-19T18:17:10.412Z"
   },
   {
    "duration": 13,
    "start_time": "2021-11-19T18:17:11.048Z"
   },
   {
    "duration": 5,
    "start_time": "2021-11-19T18:17:35.522Z"
   },
   {
    "duration": 65,
    "start_time": "2021-11-19T18:17:35.529Z"
   },
   {
    "duration": 8,
    "start_time": "2021-11-19T18:17:35.596Z"
   },
   {
    "duration": 29,
    "start_time": "2021-11-19T18:17:35.606Z"
   },
   {
    "duration": 159,
    "start_time": "2021-11-19T18:17:35.637Z"
   },
   {
    "duration": 21,
    "start_time": "2021-11-19T18:17:35.797Z"
   },
   {
    "duration": 38,
    "start_time": "2021-11-19T18:17:35.820Z"
   },
   {
    "duration": 94,
    "start_time": "2021-11-19T18:17:35.863Z"
   },
   {
    "duration": 16,
    "start_time": "2021-11-19T18:17:35.959Z"
   },
   {
    "duration": 145,
    "start_time": "2021-11-19T18:17:35.977Z"
   },
   {
    "duration": 18,
    "start_time": "2021-11-19T18:17:36.123Z"
   },
   {
    "duration": 42,
    "start_time": "2021-11-19T18:17:36.143Z"
   },
   {
    "duration": 23,
    "start_time": "2021-11-19T18:17:36.186Z"
   },
   {
    "duration": 10,
    "start_time": "2021-11-19T18:17:36.211Z"
   },
   {
    "duration": 16,
    "start_time": "2021-11-19T18:17:36.223Z"
   },
   {
    "duration": 230,
    "start_time": "2021-11-19T18:17:36.241Z"
   },
   {
    "duration": 90,
    "start_time": "2021-11-19T18:17:36.473Z"
   },
   {
    "duration": 10,
    "start_time": "2021-11-19T18:17:36.565Z"
   },
   {
    "duration": 234,
    "start_time": "2021-11-19T18:17:36.577Z"
   },
   {
    "duration": 5,
    "start_time": "2021-11-19T18:17:36.813Z"
   },
   {
    "duration": 8,
    "start_time": "2021-11-19T18:17:36.820Z"
   },
   {
    "duration": 17,
    "start_time": "2021-11-19T18:17:36.830Z"
   },
   {
    "duration": 19,
    "start_time": "2021-11-19T18:17:36.850Z"
   },
   {
    "duration": 252,
    "start_time": "2021-11-19T18:17:36.871Z"
   },
   {
    "duration": 7,
    "start_time": "2021-11-19T18:17:37.125Z"
   },
   {
    "duration": 13,
    "start_time": "2021-11-19T18:17:37.133Z"
   },
   {
    "duration": 22,
    "start_time": "2021-11-19T18:17:37.148Z"
   },
   {
    "duration": 6,
    "start_time": "2021-11-19T18:17:37.172Z"
   },
   {
    "duration": 8,
    "start_time": "2021-11-19T18:17:37.180Z"
   },
   {
    "duration": 7,
    "start_time": "2021-11-19T18:17:37.189Z"
   },
   {
    "duration": 11,
    "start_time": "2021-11-19T18:17:37.197Z"
   },
   {
    "duration": 77,
    "start_time": "2021-11-19T18:17:37.210Z"
   },
   {
    "duration": 8,
    "start_time": "2021-11-19T18:17:37.289Z"
   },
   {
    "duration": 10,
    "start_time": "2021-11-19T18:17:37.298Z"
   },
   {
    "duration": 65,
    "start_time": "2021-11-19T18:17:37.309Z"
   },
   {
    "duration": 131,
    "start_time": "2021-11-19T18:17:37.376Z"
   },
   {
    "duration": 55,
    "start_time": "2021-11-19T18:17:37.509Z"
   },
   {
    "duration": 37,
    "start_time": "2021-11-19T18:17:37.566Z"
   },
   {
    "duration": 37,
    "start_time": "2021-11-19T18:17:37.605Z"
   },
   {
    "duration": 78,
    "start_time": "2021-11-19T18:17:37.663Z"
   },
   {
    "duration": 56,
    "start_time": "2021-11-19T18:17:37.743Z"
   },
   {
    "duration": 43,
    "start_time": "2021-11-19T18:17:37.801Z"
   },
   {
    "duration": 73,
    "start_time": "2021-11-19T18:17:37.845Z"
   },
   {
    "duration": 11,
    "start_time": "2021-11-19T18:17:37.920Z"
   },
   {
    "duration": 18,
    "start_time": "2021-11-19T18:17:37.932Z"
   },
   {
    "duration": 36,
    "start_time": "2021-11-19T18:17:37.951Z"
   },
   {
    "duration": 102,
    "start_time": "2021-11-19T18:17:37.989Z"
   },
   {
    "duration": 736,
    "start_time": "2021-11-19T18:17:38.092Z"
   },
   {
    "duration": 3,
    "start_time": "2021-11-19T18:17:38.830Z"
   },
   {
    "duration": 117,
    "start_time": "2021-11-19T18:17:38.835Z"
   },
   {
    "duration": 5,
    "start_time": "2021-11-19T18:17:38.954Z"
   },
   {
    "duration": 6,
    "start_time": "2021-11-19T18:17:38.963Z"
   },
   {
    "duration": 8447,
    "start_time": "2021-11-19T18:17:38.971Z"
   },
   {
    "duration": 18,
    "start_time": "2021-11-19T18:17:47.420Z"
   },
   {
    "duration": 27,
    "start_time": "2021-11-19T18:17:47.440Z"
   },
   {
    "duration": 21,
    "start_time": "2021-11-19T18:17:52.916Z"
   },
   {
    "duration": 5,
    "start_time": "2021-11-19T18:17:53.474Z"
   },
   {
    "duration": 510,
    "start_time": "2021-11-19T18:17:55.763Z"
   },
   {
    "duration": 5,
    "start_time": "2021-11-19T18:18:57.116Z"
   },
   {
    "duration": 1582,
    "start_time": "2021-11-19T18:18:58.395Z"
   },
   {
    "duration": 14,
    "start_time": "2021-11-19T18:19:01.714Z"
   },
   {
    "duration": 14,
    "start_time": "2021-11-19T18:20:10.035Z"
   },
   {
    "duration": 17,
    "start_time": "2021-11-19T18:20:12.850Z"
   },
   {
    "duration": 612,
    "start_time": "2021-11-19T18:20:51.546Z"
   },
   {
    "duration": 21,
    "start_time": "2021-11-19T18:20:57.990Z"
   },
   {
    "duration": 17,
    "start_time": "2021-11-19T18:28:51.494Z"
   },
   {
    "duration": 23,
    "start_time": "2021-11-19T18:29:19.150Z"
   },
   {
    "duration": 258,
    "start_time": "2021-11-19T18:30:33.444Z"
   },
   {
    "duration": 13,
    "start_time": "2021-11-19T18:30:40.507Z"
   },
   {
    "duration": 22,
    "start_time": "2021-11-19T18:31:22.801Z"
   },
   {
    "duration": 17,
    "start_time": "2021-11-19T18:32:15.172Z"
   },
   {
    "duration": 19,
    "start_time": "2021-11-19T18:36:46.963Z"
   },
   {
    "duration": 16,
    "start_time": "2021-11-19T18:39:40.463Z"
   },
   {
    "duration": 16,
    "start_time": "2021-11-19T18:39:46.490Z"
   },
   {
    "duration": 17,
    "start_time": "2021-11-19T18:40:00.603Z"
   },
   {
    "duration": 17,
    "start_time": "2021-11-19T18:46:21.913Z"
   },
   {
    "duration": 19,
    "start_time": "2021-11-19T18:46:31.861Z"
   },
   {
    "duration": 416,
    "start_time": "2021-11-19T18:47:10.019Z"
   },
   {
    "duration": 17,
    "start_time": "2021-11-19T18:47:18.835Z"
   },
   {
    "duration": 414,
    "start_time": "2021-11-19T18:47:33.849Z"
   },
   {
    "duration": 367,
    "start_time": "2021-11-19T18:47:47.611Z"
   },
   {
    "duration": 19,
    "start_time": "2021-11-19T18:49:38.131Z"
   },
   {
    "duration": 17,
    "start_time": "2021-11-19T18:50:27.308Z"
   },
   {
    "duration": 15,
    "start_time": "2021-11-19T18:50:44.500Z"
   },
   {
    "duration": 422,
    "start_time": "2021-11-19T18:50:53.657Z"
   },
   {
    "duration": 15,
    "start_time": "2021-11-19T18:50:56.863Z"
   },
   {
    "duration": 16,
    "start_time": "2021-11-19T18:52:41.428Z"
   },
   {
    "duration": 11,
    "start_time": "2021-11-19T18:53:23.143Z"
   },
   {
    "duration": 254,
    "start_time": "2021-11-19T18:54:09.881Z"
   },
   {
    "duration": 216,
    "start_time": "2021-11-19T18:54:36.300Z"
   },
   {
    "duration": 19,
    "start_time": "2021-11-19T18:55:02.705Z"
   },
   {
    "duration": 189,
    "start_time": "2021-11-19T18:55:39.161Z"
   },
   {
    "duration": 193,
    "start_time": "2021-11-19T18:56:10.852Z"
   },
   {
    "duration": 198,
    "start_time": "2021-11-19T18:59:36.282Z"
   },
   {
    "duration": 179,
    "start_time": "2021-11-19T18:59:59.815Z"
   },
   {
    "duration": 214,
    "start_time": "2021-11-19T19:07:34.237Z"
   },
   {
    "duration": 209,
    "start_time": "2021-11-19T19:07:53.428Z"
   },
   {
    "duration": 198,
    "start_time": "2021-11-19T19:08:14.139Z"
   },
   {
    "duration": 204,
    "start_time": "2021-11-19T19:09:00.405Z"
   },
   {
    "duration": 444,
    "start_time": "2021-11-19T19:09:03.898Z"
   },
   {
    "duration": 15,
    "start_time": "2021-11-19T19:13:39.923Z"
   },
   {
    "duration": 10,
    "start_time": "2021-11-19T19:13:48.460Z"
   },
   {
    "duration": 20,
    "start_time": "2021-11-19T19:19:55.367Z"
   },
   {
    "duration": 21,
    "start_time": "2021-11-19T19:24:49.776Z"
   },
   {
    "duration": 9,
    "start_time": "2021-11-19T19:26:07.951Z"
   },
   {
    "duration": 246,
    "start_time": "2021-11-19T19:26:19.256Z"
   },
   {
    "duration": 9,
    "start_time": "2021-11-19T19:26:30.295Z"
   },
   {
    "duration": 4,
    "start_time": "2021-11-19T19:34:59.851Z"
   },
   {
    "duration": 9,
    "start_time": "2021-11-19T19:35:52.614Z"
   },
   {
    "duration": 11,
    "start_time": "2021-11-19T19:37:16.414Z"
   },
   {
    "duration": 10,
    "start_time": "2021-11-19T19:37:23.694Z"
   },
   {
    "duration": 11,
    "start_time": "2021-11-19T19:37:51.913Z"
   },
   {
    "duration": 4,
    "start_time": "2021-11-19T19:38:36.985Z"
   },
   {
    "duration": 4,
    "start_time": "2021-11-19T19:38:44.521Z"
   },
   {
    "duration": 4,
    "start_time": "2021-11-19T19:38:48.262Z"
   },
   {
    "duration": 22,
    "start_time": "2021-11-19T19:38:54.225Z"
   },
   {
    "duration": 4,
    "start_time": "2021-11-19T19:40:06.398Z"
   },
   {
    "duration": 7,
    "start_time": "2021-11-19T19:40:21.745Z"
   },
   {
    "duration": 21,
    "start_time": "2021-11-19T19:40:31.369Z"
   },
   {
    "duration": 23,
    "start_time": "2021-11-19T19:41:07.914Z"
   },
   {
    "duration": 16,
    "start_time": "2021-11-19T19:42:20.449Z"
   },
   {
    "duration": 17,
    "start_time": "2021-11-19T19:42:39.740Z"
   },
   {
    "duration": 18,
    "start_time": "2021-11-19T19:42:57.116Z"
   },
   {
    "duration": 13,
    "start_time": "2021-11-19T19:43:34.390Z"
   },
   {
    "duration": 5503,
    "start_time": "2021-11-19T19:43:39.296Z"
   },
   {
    "duration": 4146,
    "start_time": "2021-11-19T19:43:47.587Z"
   },
   {
    "duration": 263,
    "start_time": "2021-11-19T19:43:56.570Z"
   },
   {
    "duration": 14,
    "start_time": "2021-11-19T19:43:59.454Z"
   },
   {
    "duration": 16,
    "start_time": "2021-11-19T19:44:05.461Z"
   },
   {
    "duration": 12,
    "start_time": "2021-11-19T19:45:12.170Z"
   },
   {
    "duration": 15,
    "start_time": "2021-11-19T19:45:16.865Z"
   },
   {
    "duration": 263,
    "start_time": "2021-11-19T19:45:45.950Z"
   },
   {
    "duration": 17,
    "start_time": "2021-11-19T19:45:52.992Z"
   },
   {
    "duration": 16,
    "start_time": "2021-11-19T19:46:08.550Z"
   },
   {
    "duration": 14,
    "start_time": "2021-11-19T19:46:15.365Z"
   },
   {
    "duration": 14,
    "start_time": "2021-11-19T19:46:31.963Z"
   },
   {
    "duration": 18,
    "start_time": "2021-11-19T19:46:54.282Z"
   },
   {
    "duration": 5,
    "start_time": "2021-11-19T19:47:24.624Z"
   },
   {
    "duration": 5,
    "start_time": "2021-11-19T19:49:31.596Z"
   },
   {
    "duration": 18,
    "start_time": "2021-11-19T19:50:22.372Z"
   },
   {
    "duration": 5,
    "start_time": "2021-11-19T19:50:22.754Z"
   },
   {
    "duration": 21,
    "start_time": "2021-11-19T19:52:33.199Z"
   },
   {
    "duration": 6354,
    "start_time": "2021-11-19T19:53:36.072Z"
   },
   {
    "duration": 6425,
    "start_time": "2021-11-19T19:53:50.945Z"
   },
   {
    "duration": 6511,
    "start_time": "2021-11-19T19:54:24.180Z"
   },
   {
    "duration": 14,
    "start_time": "2021-11-19T19:54:35.056Z"
   },
   {
    "duration": 29,
    "start_time": "2021-11-19T19:54:48.340Z"
   },
   {
    "duration": 34,
    "start_time": "2021-11-19T19:55:07.844Z"
   },
   {
    "duration": 287,
    "start_time": "2021-11-19T19:56:55.023Z"
   },
   {
    "duration": 358,
    "start_time": "2021-11-19T19:56:59.215Z"
   },
   {
    "duration": 271,
    "start_time": "2021-11-19T19:58:09.886Z"
   },
   {
    "duration": 297,
    "start_time": "2021-11-19T20:00:43.961Z"
   },
   {
    "duration": 6332,
    "start_time": "2021-11-19T20:00:51.714Z"
   },
   {
    "duration": 269,
    "start_time": "2021-11-19T20:01:11.961Z"
   },
   {
    "duration": 14,
    "start_time": "2021-11-19T20:01:58.668Z"
   },
   {
    "duration": 45,
    "start_time": "2021-11-19T20:02:51.341Z"
   },
   {
    "duration": 32,
    "start_time": "2021-11-19T20:03:41.455Z"
   },
   {
    "duration": 30,
    "start_time": "2021-11-19T20:03:59.483Z"
   },
   {
    "duration": 21,
    "start_time": "2021-11-19T20:04:21.002Z"
   },
   {
    "duration": 24,
    "start_time": "2021-11-19T20:04:47.108Z"
   },
   {
    "duration": 21,
    "start_time": "2021-11-19T20:04:59.066Z"
   },
   {
    "duration": 20,
    "start_time": "2021-11-19T20:04:59.302Z"
   },
   {
    "duration": 10,
    "start_time": "2021-11-19T20:05:54.638Z"
   },
   {
    "duration": 15,
    "start_time": "2021-11-19T20:05:57.469Z"
   },
   {
    "duration": 16,
    "start_time": "2021-11-19T20:06:47.518Z"
   },
   {
    "duration": 5,
    "start_time": "2021-11-19T20:07:55.035Z"
   },
   {
    "duration": 5,
    "start_time": "2021-11-19T21:26:15.556Z"
   },
   {
    "duration": 39,
    "start_time": "2021-11-19T21:26:15.563Z"
   },
   {
    "duration": 6,
    "start_time": "2021-11-19T21:26:15.604Z"
   },
   {
    "duration": 22,
    "start_time": "2021-11-19T21:26:15.612Z"
   },
   {
    "duration": 156,
    "start_time": "2021-11-19T21:26:15.636Z"
   },
   {
    "duration": 21,
    "start_time": "2021-11-19T21:26:15.794Z"
   },
   {
    "duration": 49,
    "start_time": "2021-11-19T21:26:15.817Z"
   },
   {
    "duration": 91,
    "start_time": "2021-11-19T21:26:15.868Z"
   },
   {
    "duration": 15,
    "start_time": "2021-11-19T21:26:15.962Z"
   },
   {
    "duration": 133,
    "start_time": "2021-11-19T21:26:15.980Z"
   },
   {
    "duration": 17,
    "start_time": "2021-11-19T21:26:16.115Z"
   },
   {
    "duration": 43,
    "start_time": "2021-11-19T21:26:16.133Z"
   },
   {
    "duration": 22,
    "start_time": "2021-11-19T21:26:16.178Z"
   },
   {
    "duration": 6,
    "start_time": "2021-11-19T21:26:16.202Z"
   },
   {
    "duration": 5,
    "start_time": "2021-11-19T21:26:16.209Z"
   },
   {
    "duration": 195,
    "start_time": "2021-11-19T21:26:16.216Z"
   },
   {
    "duration": 84,
    "start_time": "2021-11-19T21:26:16.413Z"
   },
   {
    "duration": 9,
    "start_time": "2021-11-19T21:26:16.498Z"
   },
   {
    "duration": 250,
    "start_time": "2021-11-19T21:26:16.509Z"
   },
   {
    "duration": 5,
    "start_time": "2021-11-19T21:26:16.763Z"
   },
   {
    "duration": 7,
    "start_time": "2021-11-19T21:26:16.770Z"
   },
   {
    "duration": 13,
    "start_time": "2021-11-19T21:26:16.779Z"
   },
   {
    "duration": 12,
    "start_time": "2021-11-19T21:26:16.794Z"
   },
   {
    "duration": 255,
    "start_time": "2021-11-19T21:26:16.808Z"
   },
   {
    "duration": 7,
    "start_time": "2021-11-19T21:26:17.065Z"
   },
   {
    "duration": 17,
    "start_time": "2021-11-19T21:26:17.074Z"
   },
   {
    "duration": 18,
    "start_time": "2021-11-19T21:26:17.095Z"
   },
   {
    "duration": 8,
    "start_time": "2021-11-19T21:26:17.116Z"
   },
   {
    "duration": 8,
    "start_time": "2021-11-19T21:26:17.125Z"
   },
   {
    "duration": 9,
    "start_time": "2021-11-19T21:26:17.134Z"
   },
   {
    "duration": 14,
    "start_time": "2021-11-19T21:26:17.164Z"
   },
   {
    "duration": 61,
    "start_time": "2021-11-19T21:26:17.180Z"
   },
   {
    "duration": 21,
    "start_time": "2021-11-19T21:26:17.242Z"
   },
   {
    "duration": 9,
    "start_time": "2021-11-19T21:26:17.265Z"
   },
   {
    "duration": 44,
    "start_time": "2021-11-19T21:26:17.276Z"
   },
   {
    "duration": 145,
    "start_time": "2021-11-19T21:26:17.322Z"
   },
   {
    "duration": 48,
    "start_time": "2021-11-19T21:26:17.468Z"
   },
   {
    "duration": 59,
    "start_time": "2021-11-19T21:26:17.518Z"
   },
   {
    "duration": 37,
    "start_time": "2021-11-19T21:26:17.579Z"
   },
   {
    "duration": 97,
    "start_time": "2021-11-19T21:26:17.618Z"
   },
   {
    "duration": 62,
    "start_time": "2021-11-19T21:26:17.717Z"
   },
   {
    "duration": 45,
    "start_time": "2021-11-19T21:26:17.781Z"
   },
   {
    "duration": 78,
    "start_time": "2021-11-19T21:26:17.827Z"
   },
   {
    "duration": 10,
    "start_time": "2021-11-19T21:26:17.907Z"
   },
   {
    "duration": 37,
    "start_time": "2021-11-19T21:26:17.918Z"
   },
   {
    "duration": 13,
    "start_time": "2021-11-19T21:26:17.956Z"
   },
   {
    "duration": 112,
    "start_time": "2021-11-19T21:26:17.971Z"
   },
   {
    "duration": 790,
    "start_time": "2021-11-19T21:26:18.084Z"
   },
   {
    "duration": 3,
    "start_time": "2021-11-19T21:26:18.876Z"
   },
   {
    "duration": 114,
    "start_time": "2021-11-19T21:26:18.881Z"
   },
   {
    "duration": 5,
    "start_time": "2021-11-19T21:26:18.997Z"
   },
   {
    "duration": 9,
    "start_time": "2021-11-19T21:26:19.004Z"
   },
   {
    "duration": 9328,
    "start_time": "2021-11-19T21:26:19.015Z"
   },
   {
    "duration": 25,
    "start_time": "2021-11-19T21:26:28.345Z"
   },
   {
    "duration": 19,
    "start_time": "2021-11-19T21:26:28.372Z"
   },
   {
    "duration": 4,
    "start_time": "2021-11-19T21:26:28.393Z"
   },
   {
    "duration": 1549,
    "start_time": "2021-11-19T21:26:28.399Z"
   },
   {
    "duration": 23,
    "start_time": "2021-11-19T21:26:29.949Z"
   },
   {
    "duration": 19,
    "start_time": "2021-11-19T21:26:29.974Z"
   },
   {
    "duration": 17,
    "start_time": "2021-11-19T21:26:29.995Z"
   },
   {
    "duration": 17,
    "start_time": "2021-11-19T21:26:30.014Z"
   },
   {
    "duration": 44,
    "start_time": "2021-11-19T21:26:30.033Z"
   },
   {
    "duration": 19,
    "start_time": "2021-11-19T21:26:30.079Z"
   },
   {
    "duration": 247,
    "start_time": "2021-11-19T21:26:30.100Z"
   },
   {
    "duration": 222,
    "start_time": "2021-11-19T21:26:30.349Z"
   },
   {
    "duration": 220,
    "start_time": "2021-11-19T21:26:30.573Z"
   },
   {
    "duration": 9,
    "start_time": "2021-11-19T21:26:30.795Z"
   },
   {
    "duration": 24,
    "start_time": "2021-11-19T21:26:30.805Z"
   },
   {
    "duration": 18,
    "start_time": "2021-11-19T21:26:34.813Z"
   },
   {
    "duration": 5,
    "start_time": "2021-11-19T21:26:39.534Z"
   },
   {
    "duration": 7,
    "start_time": "2021-11-19T21:26:48.933Z"
   },
   {
    "duration": 5,
    "start_time": "2021-11-19T21:26:58.491Z"
   },
   {
    "duration": 5,
    "start_time": "2021-11-19T21:27:09.004Z"
   },
   {
    "duration": 5,
    "start_time": "2021-11-19T21:27:12.905Z"
   },
   {
    "duration": 20,
    "start_time": "2021-11-19T21:27:25.165Z"
   },
   {
    "duration": 8,
    "start_time": "2021-11-19T21:27:26.841Z"
   },
   {
    "duration": 5,
    "start_time": "2021-11-19T21:27:29.327Z"
   },
   {
    "duration": 5,
    "start_time": "2021-11-19T21:27:32.772Z"
   },
   {
    "duration": 31,
    "start_time": "2021-11-19T21:29:37.144Z"
   },
   {
    "duration": 32,
    "start_time": "2021-11-19T21:29:37.864Z"
   },
   {
    "duration": 18,
    "start_time": "2021-11-19T21:29:52.504Z"
   },
   {
    "duration": 8,
    "start_time": "2021-11-19T21:30:00.379Z"
   },
   {
    "duration": 7,
    "start_time": "2021-11-19T21:30:04.610Z"
   },
   {
    "duration": 6,
    "start_time": "2021-11-19T21:30:11.542Z"
   },
   {
    "duration": 7,
    "start_time": "2021-11-19T21:30:15.030Z"
   },
   {
    "duration": 7,
    "start_time": "2021-11-19T21:30:19.361Z"
   },
   {
    "duration": 22,
    "start_time": "2021-11-19T21:30:56.378Z"
   },
   {
    "duration": 24,
    "start_time": "2021-11-19T21:31:04.268Z"
   },
   {
    "duration": 21,
    "start_time": "2021-11-19T21:31:51.135Z"
   },
   {
    "duration": 22,
    "start_time": "2021-11-19T21:31:56.691Z"
   },
   {
    "duration": 22,
    "start_time": "2021-11-19T21:32:20.344Z"
   },
   {
    "duration": 22,
    "start_time": "2021-11-19T21:32:21.369Z"
   },
   {
    "duration": 16,
    "start_time": "2021-11-19T21:32:29.080Z"
   },
   {
    "duration": 6,
    "start_time": "2021-11-19T21:32:29.841Z"
   },
   {
    "duration": 7,
    "start_time": "2021-11-19T21:32:33.284Z"
   },
   {
    "duration": 4,
    "start_time": "2021-11-19T21:32:37.074Z"
   },
   {
    "duration": 104,
    "start_time": "2021-11-19T21:35:01.644Z"
   },
   {
    "duration": 95,
    "start_time": "2021-11-19T21:35:04.893Z"
   },
   {
    "duration": 101,
    "start_time": "2021-11-19T21:35:15.302Z"
   },
   {
    "duration": 94,
    "start_time": "2021-11-19T21:35:25.611Z"
   },
   {
    "duration": 6,
    "start_time": "2021-11-19T21:56:53.498Z"
   },
   {
    "duration": 38,
    "start_time": "2021-11-19T21:56:53.506Z"
   },
   {
    "duration": 6,
    "start_time": "2021-11-19T21:56:53.546Z"
   },
   {
    "duration": 18,
    "start_time": "2021-11-19T21:56:53.554Z"
   },
   {
    "duration": 140,
    "start_time": "2021-11-19T21:56:53.574Z"
   },
   {
    "duration": 22,
    "start_time": "2021-11-19T21:56:53.716Z"
   },
   {
    "duration": 49,
    "start_time": "2021-11-19T21:56:53.740Z"
   },
   {
    "duration": 82,
    "start_time": "2021-11-19T21:56:53.791Z"
   },
   {
    "duration": 14,
    "start_time": "2021-11-19T21:56:53.876Z"
   },
   {
    "duration": 134,
    "start_time": "2021-11-19T21:56:53.893Z"
   },
   {
    "duration": 18,
    "start_time": "2021-11-19T21:56:54.029Z"
   },
   {
    "duration": 42,
    "start_time": "2021-11-19T21:56:54.049Z"
   },
   {
    "duration": 23,
    "start_time": "2021-11-19T21:56:54.092Z"
   },
   {
    "duration": 9,
    "start_time": "2021-11-19T21:56:54.116Z"
   },
   {
    "duration": 7,
    "start_time": "2021-11-19T21:56:54.127Z"
   },
   {
    "duration": 193,
    "start_time": "2021-11-19T21:56:54.135Z"
   },
   {
    "duration": 78,
    "start_time": "2021-11-19T21:56:54.329Z"
   },
   {
    "duration": 9,
    "start_time": "2021-11-19T21:56:54.409Z"
   },
   {
    "duration": 244,
    "start_time": "2021-11-19T21:56:54.419Z"
   },
   {
    "duration": 5,
    "start_time": "2021-11-19T21:56:54.666Z"
   },
   {
    "duration": 5,
    "start_time": "2021-11-19T21:56:54.673Z"
   },
   {
    "duration": 11,
    "start_time": "2021-11-19T21:56:54.680Z"
   },
   {
    "duration": 8,
    "start_time": "2021-11-19T21:56:54.693Z"
   },
   {
    "duration": 339,
    "start_time": "2021-11-19T21:56:54.703Z"
   },
   {
    "duration": 8,
    "start_time": "2021-11-19T21:56:55.043Z"
   },
   {
    "duration": 18,
    "start_time": "2021-11-19T21:56:55.053Z"
   },
   {
    "duration": 21,
    "start_time": "2021-11-19T21:56:55.075Z"
   },
   {
    "duration": 13,
    "start_time": "2021-11-19T21:56:55.099Z"
   },
   {
    "duration": 11,
    "start_time": "2021-11-19T21:56:55.113Z"
   },
   {
    "duration": 8,
    "start_time": "2021-11-19T21:56:55.125Z"
   },
   {
    "duration": 17,
    "start_time": "2021-11-19T21:56:55.135Z"
   },
   {
    "duration": 64,
    "start_time": "2021-11-19T21:56:55.153Z"
   },
   {
    "duration": 8,
    "start_time": "2021-11-19T21:56:55.218Z"
   },
   {
    "duration": 11,
    "start_time": "2021-11-19T21:56:55.228Z"
   },
   {
    "duration": 58,
    "start_time": "2021-11-19T21:56:55.240Z"
   },
   {
    "duration": 142,
    "start_time": "2021-11-19T21:56:55.300Z"
   },
   {
    "duration": 57,
    "start_time": "2021-11-19T21:56:55.443Z"
   },
   {
    "duration": 38,
    "start_time": "2021-11-19T21:56:55.502Z"
   },
   {
    "duration": 49,
    "start_time": "2021-11-19T21:56:55.542Z"
   },
   {
    "duration": 84,
    "start_time": "2021-11-19T21:56:55.593Z"
   },
   {
    "duration": 50,
    "start_time": "2021-11-19T21:56:55.679Z"
   },
   {
    "duration": 60,
    "start_time": "2021-11-19T21:56:55.731Z"
   },
   {
    "duration": 73,
    "start_time": "2021-11-19T21:56:55.793Z"
   },
   {
    "duration": 11,
    "start_time": "2021-11-19T21:56:55.869Z"
   },
   {
    "duration": 5,
    "start_time": "2021-11-19T21:56:55.882Z"
   },
   {
    "duration": 5,
    "start_time": "2021-11-19T21:56:55.889Z"
   },
   {
    "duration": 124,
    "start_time": "2021-11-19T21:56:55.896Z"
   },
   {
    "duration": 726,
    "start_time": "2021-11-19T21:56:56.022Z"
   },
   {
    "duration": 4,
    "start_time": "2021-11-19T21:56:56.751Z"
   },
   {
    "duration": 107,
    "start_time": "2021-11-19T21:56:56.764Z"
   },
   {
    "duration": 5,
    "start_time": "2021-11-19T21:56:56.873Z"
   },
   {
    "duration": 10,
    "start_time": "2021-11-19T21:56:56.880Z"
   },
   {
    "duration": 9210,
    "start_time": "2021-11-19T21:56:56.892Z"
   },
   {
    "duration": 21,
    "start_time": "2021-11-19T21:57:06.104Z"
   },
   {
    "duration": 38,
    "start_time": "2021-11-19T21:57:06.127Z"
   },
   {
    "duration": 4,
    "start_time": "2021-11-19T21:57:06.167Z"
   },
   {
    "duration": 1543,
    "start_time": "2021-11-19T21:57:06.173Z"
   },
   {
    "duration": 12,
    "start_time": "2021-11-19T21:57:07.718Z"
   },
   {
    "duration": 19,
    "start_time": "2021-11-19T21:57:07.732Z"
   },
   {
    "duration": 18,
    "start_time": "2021-11-19T21:57:07.764Z"
   },
   {
    "duration": 18,
    "start_time": "2021-11-19T21:57:07.784Z"
   },
   {
    "duration": 16,
    "start_time": "2021-11-19T21:57:07.803Z"
   },
   {
    "duration": 49,
    "start_time": "2021-11-19T21:57:07.821Z"
   },
   {
    "duration": 213,
    "start_time": "2021-11-19T21:57:07.872Z"
   },
   {
    "duration": 217,
    "start_time": "2021-11-19T21:57:08.087Z"
   },
   {
    "duration": 224,
    "start_time": "2021-11-19T21:57:08.306Z"
   },
   {
    "duration": 8,
    "start_time": "2021-11-19T21:57:08.532Z"
   },
   {
    "duration": 22,
    "start_time": "2021-11-19T21:57:08.542Z"
   },
   {
    "duration": 25,
    "start_time": "2021-11-19T21:57:08.566Z"
   },
   {
    "duration": 5,
    "start_time": "2021-11-19T21:57:08.592Z"
   },
   {
    "duration": 31,
    "start_time": "2021-11-19T21:57:08.598Z"
   },
   {
    "duration": 40,
    "start_time": "2021-11-19T21:57:08.630Z"
   },
   {
    "duration": 15,
    "start_time": "2021-11-19T21:57:08.672Z"
   },
   {
    "duration": 9,
    "start_time": "2021-11-19T21:57:08.689Z"
   },
   {
    "duration": 1145,
    "start_time": "2021-11-20T09:09:56.878Z"
   },
   {
    "duration": 36,
    "start_time": "2021-11-20T09:09:58.025Z"
   },
   {
    "duration": 8,
    "start_time": "2021-11-20T09:09:58.063Z"
   },
   {
    "duration": 20,
    "start_time": "2021-11-20T09:09:58.073Z"
   },
   {
    "duration": 152,
    "start_time": "2021-11-20T09:09:58.095Z"
   },
   {
    "duration": 24,
    "start_time": "2021-11-20T09:09:58.248Z"
   },
   {
    "duration": 28,
    "start_time": "2021-11-20T09:09:58.274Z"
   },
   {
    "duration": 95,
    "start_time": "2021-11-20T09:09:58.305Z"
   },
   {
    "duration": 15,
    "start_time": "2021-11-20T09:09:58.402Z"
   },
   {
    "duration": 148,
    "start_time": "2021-11-20T09:09:58.418Z"
   },
   {
    "duration": 16,
    "start_time": "2021-11-20T09:09:58.568Z"
   },
   {
    "duration": 32,
    "start_time": "2021-11-20T09:09:58.586Z"
   },
   {
    "duration": 22,
    "start_time": "2021-11-20T09:09:58.619Z"
   },
   {
    "duration": 19,
    "start_time": "2021-11-20T09:09:58.643Z"
   },
   {
    "duration": 25,
    "start_time": "2021-11-20T09:09:58.663Z"
   },
   {
    "duration": 217,
    "start_time": "2021-11-20T09:09:58.690Z"
   },
   {
    "duration": 83,
    "start_time": "2021-11-20T09:09:58.909Z"
   },
   {
    "duration": 8,
    "start_time": "2021-11-20T09:09:58.994Z"
   },
   {
    "duration": 246,
    "start_time": "2021-11-20T09:09:59.004Z"
   },
   {
    "duration": 12,
    "start_time": "2021-11-20T09:09:59.251Z"
   },
   {
    "duration": 30,
    "start_time": "2021-11-20T09:09:59.265Z"
   },
   {
    "duration": 19,
    "start_time": "2021-11-20T09:09:59.296Z"
   },
   {
    "duration": 26,
    "start_time": "2021-11-20T09:09:59.318Z"
   },
   {
    "duration": 240,
    "start_time": "2021-11-20T09:09:59.346Z"
   },
   {
    "duration": 7,
    "start_time": "2021-11-20T09:09:59.587Z"
   },
   {
    "duration": 31,
    "start_time": "2021-11-20T09:09:59.595Z"
   },
   {
    "duration": 30,
    "start_time": "2021-11-20T09:09:59.628Z"
   },
   {
    "duration": 11,
    "start_time": "2021-11-20T09:09:59.659Z"
   },
   {
    "duration": 27,
    "start_time": "2021-11-20T09:09:59.672Z"
   },
   {
    "duration": 6,
    "start_time": "2021-11-20T09:09:59.701Z"
   },
   {
    "duration": 36,
    "start_time": "2021-11-20T09:09:59.708Z"
   },
   {
    "duration": 69,
    "start_time": "2021-11-20T09:09:59.746Z"
   },
   {
    "duration": 9,
    "start_time": "2021-11-20T09:09:59.817Z"
   },
   {
    "duration": 27,
    "start_time": "2021-11-20T09:09:59.827Z"
   },
   {
    "duration": 48,
    "start_time": "2021-11-20T09:09:59.855Z"
   },
   {
    "duration": 160,
    "start_time": "2021-11-20T09:09:59.905Z"
   },
   {
    "duration": 47,
    "start_time": "2021-11-20T09:10:00.067Z"
   },
   {
    "duration": 50,
    "start_time": "2021-11-20T09:10:00.116Z"
   },
   {
    "duration": 38,
    "start_time": "2021-11-20T09:10:00.167Z"
   },
   {
    "duration": 103,
    "start_time": "2021-11-20T09:10:00.207Z"
   },
   {
    "duration": 52,
    "start_time": "2021-11-20T09:10:00.312Z"
   },
   {
    "duration": 45,
    "start_time": "2021-11-20T09:10:00.366Z"
   },
   {
    "duration": 93,
    "start_time": "2021-11-20T09:10:00.412Z"
   },
   {
    "duration": 11,
    "start_time": "2021-11-20T09:10:00.507Z"
   },
   {
    "duration": 28,
    "start_time": "2021-11-20T09:10:00.520Z"
   },
   {
    "duration": 21,
    "start_time": "2021-11-20T09:10:00.549Z"
   },
   {
    "duration": 119,
    "start_time": "2021-11-20T09:10:00.572Z"
   },
   {
    "duration": 858,
    "start_time": "2021-11-20T09:10:00.692Z"
   },
   {
    "duration": 4,
    "start_time": "2021-11-20T09:10:01.552Z"
   },
   {
    "duration": 145,
    "start_time": "2021-11-20T09:10:01.563Z"
   },
   {
    "duration": 6,
    "start_time": "2021-11-20T09:10:01.709Z"
   },
   {
    "duration": 66,
    "start_time": "2021-11-20T09:10:01.717Z"
   },
   {
    "duration": 9607,
    "start_time": "2021-11-20T09:10:01.785Z"
   },
   {
    "duration": 17,
    "start_time": "2021-11-20T09:10:11.394Z"
   },
   {
    "duration": 31,
    "start_time": "2021-11-20T09:10:11.413Z"
   },
   {
    "duration": 16,
    "start_time": "2021-11-20T09:10:11.446Z"
   },
   {
    "duration": 1468,
    "start_time": "2021-11-20T09:10:11.464Z"
   },
   {
    "duration": 13,
    "start_time": "2021-11-20T09:10:12.934Z"
   },
   {
    "duration": 56,
    "start_time": "2021-11-20T09:10:12.949Z"
   },
   {
    "duration": 32,
    "start_time": "2021-11-20T09:10:13.008Z"
   },
   {
    "duration": 42,
    "start_time": "2021-11-20T09:10:13.042Z"
   },
   {
    "duration": 36,
    "start_time": "2021-11-20T09:10:13.085Z"
   },
   {
    "duration": 41,
    "start_time": "2021-11-20T09:10:13.123Z"
   },
   {
    "duration": 262,
    "start_time": "2021-11-20T09:10:13.166Z"
   },
   {
    "duration": 206,
    "start_time": "2021-11-20T09:10:13.430Z"
   },
   {
    "duration": 226,
    "start_time": "2021-11-20T09:10:13.639Z"
   },
   {
    "duration": 9,
    "start_time": "2021-11-20T09:10:13.867Z"
   },
   {
    "duration": 35,
    "start_time": "2021-11-20T09:10:13.882Z"
   },
   {
    "duration": 63,
    "start_time": "2021-11-20T09:10:13.919Z"
   },
   {
    "duration": 12,
    "start_time": "2021-11-20T09:10:13.984Z"
   },
   {
    "duration": 78,
    "start_time": "2021-11-20T09:10:13.997Z"
   },
   {
    "duration": 39,
    "start_time": "2021-11-20T09:10:14.077Z"
   },
   {
    "duration": 41,
    "start_time": "2021-11-20T09:10:14.118Z"
   },
   {
    "duration": 20,
    "start_time": "2021-11-20T09:10:14.161Z"
   },
   {
    "duration": 4,
    "start_time": "2021-11-20T09:15:44.172Z"
   },
   {
    "duration": 20,
    "start_time": "2021-11-20T09:17:03.077Z"
   },
   {
    "duration": 4,
    "start_time": "2021-11-20T09:17:08.427Z"
   },
   {
    "duration": 6,
    "start_time": "2021-11-20T09:17:17.585Z"
   },
   {
    "duration": 11,
    "start_time": "2021-11-20T09:18:11.136Z"
   },
   {
    "duration": 6,
    "start_time": "2021-11-20T09:20:13.538Z"
   },
   {
    "duration": 4,
    "start_time": "2021-11-20T09:20:25.246Z"
   },
   {
    "duration": 194,
    "start_time": "2021-11-20T16:05:47.510Z"
   },
   {
    "duration": 974,
    "start_time": "2021-11-20T16:05:50.652Z"
   },
   {
    "duration": 34,
    "start_time": "2021-11-20T16:05:51.628Z"
   },
   {
    "duration": 17,
    "start_time": "2021-11-20T16:05:51.664Z"
   },
   {
    "duration": 41,
    "start_time": "2021-11-20T16:05:51.683Z"
   },
   {
    "duration": 157,
    "start_time": "2021-11-20T16:05:51.726Z"
   },
   {
    "duration": 24,
    "start_time": "2021-11-20T16:05:51.885Z"
   },
   {
    "duration": 40,
    "start_time": "2021-11-20T16:05:51.911Z"
   },
   {
    "duration": 82,
    "start_time": "2021-11-20T16:05:51.953Z"
   },
   {
    "duration": 13,
    "start_time": "2021-11-20T16:05:52.037Z"
   },
   {
    "duration": 143,
    "start_time": "2021-11-20T16:05:52.051Z"
   },
   {
    "duration": 16,
    "start_time": "2021-11-20T16:05:52.195Z"
   },
   {
    "duration": 29,
    "start_time": "2021-11-20T16:05:52.212Z"
   },
   {
    "duration": 27,
    "start_time": "2021-11-20T16:05:52.242Z"
   },
   {
    "duration": 18,
    "start_time": "2021-11-20T16:05:52.270Z"
   },
   {
    "duration": 23,
    "start_time": "2021-11-20T16:05:52.289Z"
   },
   {
    "duration": 2,
    "start_time": "2021-11-20T16:05:55.224Z"
   },
   {
    "duration": 4,
    "start_time": "2021-11-20T16:05:55.596Z"
   },
   {
    "duration": 217,
    "start_time": "2021-11-20T16:10:43.113Z"
   },
   {
    "duration": 5,
    "start_time": "2021-11-20T16:10:47.243Z"
   },
   {
    "duration": 54,
    "start_time": "2021-11-20T16:10:47.250Z"
   },
   {
    "duration": 25,
    "start_time": "2021-11-20T16:10:47.306Z"
   },
   {
    "duration": 38,
    "start_time": "2021-11-20T16:10:47.333Z"
   },
   {
    "duration": 170,
    "start_time": "2021-11-20T16:10:47.372Z"
   },
   {
    "duration": 18,
    "start_time": "2021-11-20T16:10:47.543Z"
   },
   {
    "duration": 42,
    "start_time": "2021-11-20T16:10:47.563Z"
   },
   {
    "duration": 88,
    "start_time": "2021-11-20T16:10:47.607Z"
   },
   {
    "duration": 12,
    "start_time": "2021-11-20T16:10:47.698Z"
   },
   {
    "duration": 157,
    "start_time": "2021-11-20T16:10:47.712Z"
   },
   {
    "duration": 24,
    "start_time": "2021-11-20T16:10:47.871Z"
   },
   {
    "duration": 38,
    "start_time": "2021-11-20T16:10:47.896Z"
   },
   {
    "duration": 21,
    "start_time": "2021-11-20T16:10:47.935Z"
   },
   {
    "duration": 25,
    "start_time": "2021-11-20T16:10:47.958Z"
   },
   {
    "duration": 25,
    "start_time": "2021-11-20T16:10:47.985Z"
   },
   {
    "duration": 231,
    "start_time": "2021-11-20T16:10:48.012Z"
   },
   {
    "duration": 71,
    "start_time": "2021-11-20T16:10:48.245Z"
   },
   {
    "duration": 9,
    "start_time": "2021-11-20T16:10:48.317Z"
   },
   {
    "duration": 248,
    "start_time": "2021-11-20T16:10:48.328Z"
   },
   {
    "duration": 6,
    "start_time": "2021-11-20T16:10:48.577Z"
   },
   {
    "duration": 16,
    "start_time": "2021-11-20T16:10:48.592Z"
   },
   {
    "duration": 13,
    "start_time": "2021-11-20T16:10:48.609Z"
   },
   {
    "duration": 7,
    "start_time": "2021-11-20T16:10:48.626Z"
   },
   {
    "duration": 235,
    "start_time": "2021-11-20T16:10:48.635Z"
   },
   {
    "duration": 7,
    "start_time": "2021-11-20T16:10:48.871Z"
   },
   {
    "duration": 18,
    "start_time": "2021-11-20T16:10:48.879Z"
   },
   {
    "duration": 15,
    "start_time": "2021-11-20T16:10:48.898Z"
   },
   {
    "duration": 6,
    "start_time": "2021-11-20T16:10:48.914Z"
   },
   {
    "duration": 6,
    "start_time": "2021-11-20T16:10:48.921Z"
   },
   {
    "duration": 5,
    "start_time": "2021-11-20T16:10:48.928Z"
   },
   {
    "duration": 11,
    "start_time": "2021-11-20T16:10:48.934Z"
   },
   {
    "duration": 81,
    "start_time": "2021-11-20T16:10:48.946Z"
   },
   {
    "duration": 9,
    "start_time": "2021-11-20T16:10:49.028Z"
   },
   {
    "duration": 10,
    "start_time": "2021-11-20T16:10:49.038Z"
   },
   {
    "duration": 61,
    "start_time": "2021-11-20T16:10:49.049Z"
   },
   {
    "duration": 164,
    "start_time": "2021-11-20T16:10:50.283Z"
   },
   {
    "duration": 176,
    "start_time": "2021-11-20T16:11:00.338Z"
   },
   {
    "duration": 3,
    "start_time": "2021-11-20T16:13:03.329Z"
   },
   {
    "duration": 173,
    "start_time": "2021-11-20T16:13:03.539Z"
   },
   {
    "duration": 4,
    "start_time": "2021-11-20T16:13:07.498Z"
   },
   {
    "duration": 42,
    "start_time": "2021-11-20T16:13:07.503Z"
   },
   {
    "duration": 7,
    "start_time": "2021-11-20T16:13:07.547Z"
   },
   {
    "duration": 20,
    "start_time": "2021-11-20T16:13:07.556Z"
   },
   {
    "duration": 158,
    "start_time": "2021-11-20T16:13:07.578Z"
   },
   {
    "duration": 19,
    "start_time": "2021-11-20T16:13:07.738Z"
   },
   {
    "duration": 44,
    "start_time": "2021-11-20T16:13:07.758Z"
   },
   {
    "duration": 88,
    "start_time": "2021-11-20T16:13:07.804Z"
   },
   {
    "duration": 14,
    "start_time": "2021-11-20T16:13:07.893Z"
   },
   {
    "duration": 128,
    "start_time": "2021-11-20T16:13:07.909Z"
   },
   {
    "duration": 16,
    "start_time": "2021-11-20T16:13:08.038Z"
   },
   {
    "duration": 40,
    "start_time": "2021-11-20T16:13:08.055Z"
   },
   {
    "duration": 19,
    "start_time": "2021-11-20T16:13:08.096Z"
   },
   {
    "duration": 13,
    "start_time": "2021-11-20T16:13:08.117Z"
   },
   {
    "duration": 28,
    "start_time": "2021-11-20T16:13:08.132Z"
   },
   {
    "duration": 194,
    "start_time": "2021-11-20T16:13:08.161Z"
   },
   {
    "duration": 71,
    "start_time": "2021-11-20T16:13:08.356Z"
   },
   {
    "duration": 9,
    "start_time": "2021-11-20T16:13:08.428Z"
   },
   {
    "duration": 242,
    "start_time": "2021-11-20T16:13:08.438Z"
   },
   {
    "duration": 4,
    "start_time": "2021-11-20T16:13:08.681Z"
   },
   {
    "duration": 7,
    "start_time": "2021-11-20T16:13:08.686Z"
   },
   {
    "duration": 11,
    "start_time": "2021-11-20T16:13:08.695Z"
   },
   {
    "duration": 7,
    "start_time": "2021-11-20T16:13:08.709Z"
   },
   {
    "duration": 300,
    "start_time": "2021-11-20T16:13:08.718Z"
   },
   {
    "duration": 6,
    "start_time": "2021-11-20T16:13:09.020Z"
   },
   {
    "duration": 9,
    "start_time": "2021-11-20T16:13:09.028Z"
   },
   {
    "duration": 13,
    "start_time": "2021-11-20T16:13:09.038Z"
   },
   {
    "duration": 6,
    "start_time": "2021-11-20T16:13:09.052Z"
   },
   {
    "duration": 7,
    "start_time": "2021-11-20T16:13:09.059Z"
   },
   {
    "duration": 5,
    "start_time": "2021-11-20T16:13:09.068Z"
   },
   {
    "duration": 8,
    "start_time": "2021-11-20T16:13:09.091Z"
   },
   {
    "duration": 65,
    "start_time": "2021-11-20T16:13:09.100Z"
   },
   {
    "duration": 26,
    "start_time": "2021-11-20T16:13:09.166Z"
   },
   {
    "duration": 9,
    "start_time": "2021-11-20T16:13:09.193Z"
   },
   {
    "duration": 44,
    "start_time": "2021-11-20T16:13:09.203Z"
   },
   {
    "duration": 176,
    "start_time": "2021-11-20T16:13:09.248Z"
   },
   {
    "duration": 44,
    "start_time": "2021-11-20T16:13:09.425Z"
   },
   {
    "duration": 41,
    "start_time": "2021-11-20T16:13:09.470Z"
   },
   {
    "duration": 36,
    "start_time": "2021-11-20T16:13:09.512Z"
   },
   {
    "duration": 96,
    "start_time": "2021-11-20T16:13:09.550Z"
   },
   {
    "duration": 48,
    "start_time": "2021-11-20T16:13:09.647Z"
   },
   {
    "duration": 41,
    "start_time": "2021-11-20T16:13:09.697Z"
   },
   {
    "duration": 94,
    "start_time": "2021-11-20T16:13:09.739Z"
   },
   {
    "duration": 9,
    "start_time": "2021-11-20T16:13:09.834Z"
   },
   {
    "duration": 5,
    "start_time": "2021-11-20T16:13:09.845Z"
   },
   {
    "duration": 9,
    "start_time": "2021-11-20T16:13:09.851Z"
   },
   {
    "duration": 113,
    "start_time": "2021-11-20T16:13:09.862Z"
   },
   {
    "duration": 654,
    "start_time": "2021-11-20T16:13:09.977Z"
   },
   {
    "duration": 3,
    "start_time": "2021-11-20T16:13:10.632Z"
   },
   {
    "duration": 6,
    "start_time": "2021-11-20T16:13:10.636Z"
   },
   {
    "duration": 2,
    "start_time": "2021-11-20T16:13:11.931Z"
   },
   {
    "duration": 4,
    "start_time": "2021-11-20T16:13:12.169Z"
   },
   {
    "duration": 54,
    "start_time": "2021-11-20T17:10:00.494Z"
   },
   {
    "duration": 1072,
    "start_time": "2021-11-20T17:11:52.252Z"
   },
   {
    "duration": 35,
    "start_time": "2021-11-20T17:11:53.326Z"
   },
   {
    "duration": 6,
    "start_time": "2021-11-20T17:11:53.363Z"
   },
   {
    "duration": 20,
    "start_time": "2021-11-20T17:11:53.371Z"
   },
   {
    "duration": 157,
    "start_time": "2021-11-20T17:11:53.392Z"
   },
   {
    "duration": 20,
    "start_time": "2021-11-20T17:11:53.550Z"
   },
   {
    "duration": 37,
    "start_time": "2021-11-20T17:11:53.571Z"
   },
   {
    "duration": 92,
    "start_time": "2021-11-20T17:11:53.610Z"
   },
   {
    "duration": 13,
    "start_time": "2021-11-20T17:11:53.705Z"
   },
   {
    "duration": 137,
    "start_time": "2021-11-20T17:11:53.720Z"
   },
   {
    "duration": 16,
    "start_time": "2021-11-20T17:11:53.859Z"
   },
   {
    "duration": 37,
    "start_time": "2021-11-20T17:11:53.876Z"
   },
   {
    "duration": 29,
    "start_time": "2021-11-20T17:11:53.915Z"
   },
   {
    "duration": 7,
    "start_time": "2021-11-20T17:11:53.945Z"
   },
   {
    "duration": 5,
    "start_time": "2021-11-20T17:11:53.954Z"
   },
   {
    "duration": 192,
    "start_time": "2021-11-20T17:11:53.960Z"
   },
   {
    "duration": 89,
    "start_time": "2021-11-20T17:11:54.153Z"
   },
   {
    "duration": 9,
    "start_time": "2021-11-20T17:11:54.244Z"
   },
   {
    "duration": 271,
    "start_time": "2021-11-20T17:11:54.255Z"
   },
   {
    "duration": 5,
    "start_time": "2021-11-20T17:11:54.528Z"
   },
   {
    "duration": 5,
    "start_time": "2021-11-20T17:11:54.535Z"
   },
   {
    "duration": 12,
    "start_time": "2021-11-20T17:11:54.542Z"
   },
   {
    "duration": 34,
    "start_time": "2021-11-20T17:11:54.558Z"
   },
   {
    "duration": 250,
    "start_time": "2021-11-20T17:11:54.595Z"
   },
   {
    "duration": 6,
    "start_time": "2021-11-20T17:11:54.847Z"
   },
   {
    "duration": 10,
    "start_time": "2021-11-20T17:11:54.855Z"
   },
   {
    "duration": 27,
    "start_time": "2021-11-20T17:11:54.866Z"
   },
   {
    "duration": 7,
    "start_time": "2021-11-20T17:11:54.894Z"
   },
   {
    "duration": 5,
    "start_time": "2021-11-20T17:11:54.902Z"
   },
   {
    "duration": 5,
    "start_time": "2021-11-20T17:11:54.909Z"
   },
   {
    "duration": 9,
    "start_time": "2021-11-20T17:11:54.916Z"
   },
   {
    "duration": 79,
    "start_time": "2021-11-20T17:11:54.927Z"
   },
   {
    "duration": 8,
    "start_time": "2021-11-20T17:11:55.008Z"
   },
   {
    "duration": 11,
    "start_time": "2021-11-20T17:11:55.018Z"
   },
   {
    "duration": 46,
    "start_time": "2021-11-20T17:11:55.030Z"
   },
   {
    "duration": 171,
    "start_time": "2021-11-20T17:11:55.092Z"
   },
   {
    "duration": 53,
    "start_time": "2021-11-20T17:11:55.264Z"
   },
   {
    "duration": 30,
    "start_time": "2021-11-20T17:11:55.319Z"
   },
   {
    "duration": 53,
    "start_time": "2021-11-20T17:11:55.351Z"
   },
   {
    "duration": 90,
    "start_time": "2021-11-20T17:11:55.405Z"
   },
   {
    "duration": 42,
    "start_time": "2021-11-20T17:11:55.497Z"
   },
   {
    "duration": 59,
    "start_time": "2021-11-20T17:11:55.541Z"
   },
   {
    "duration": 79,
    "start_time": "2021-11-20T17:11:55.602Z"
   },
   {
    "duration": 11,
    "start_time": "2021-11-20T17:11:55.690Z"
   },
   {
    "duration": 3,
    "start_time": "2021-11-20T17:11:55.702Z"
   },
   {
    "duration": 8,
    "start_time": "2021-11-20T17:11:55.706Z"
   },
   {
    "duration": 114,
    "start_time": "2021-11-20T17:11:55.716Z"
   },
   {
    "duration": 654,
    "start_time": "2021-11-20T17:11:55.832Z"
   },
   {
    "duration": 3,
    "start_time": "2021-11-20T17:11:56.488Z"
   },
   {
    "duration": 5,
    "start_time": "2021-11-20T17:11:56.493Z"
   },
   {
    "duration": 6,
    "start_time": "2021-11-20T17:11:56.500Z"
   },
   {
    "duration": 6,
    "start_time": "2021-11-20T17:11:56.507Z"
   },
   {
    "duration": 5,
    "start_time": "2021-11-20T17:11:56.514Z"
   },
   {
    "duration": 8387,
    "start_time": "2021-11-20T17:11:56.520Z"
   },
   {
    "duration": 17,
    "start_time": "2021-11-20T17:12:04.908Z"
   },
   {
    "duration": 22,
    "start_time": "2021-11-20T17:12:04.927Z"
   },
   {
    "duration": 4,
    "start_time": "2021-11-20T17:12:04.951Z"
   },
   {
    "duration": 5,
    "start_time": "2021-11-20T17:12:04.956Z"
   },
   {
    "duration": 1539,
    "start_time": "2021-11-20T17:12:04.962Z"
   },
   {
    "duration": 12,
    "start_time": "2021-11-20T17:12:06.503Z"
   },
   {
    "duration": 9,
    "start_time": "2021-11-20T17:12:06.517Z"
   },
   {
    "duration": 17,
    "start_time": "2021-11-20T17:12:06.528Z"
   },
   {
    "duration": 17,
    "start_time": "2021-11-20T17:12:06.547Z"
   },
   {
    "duration": 16,
    "start_time": "2021-11-20T17:12:06.592Z"
   },
   {
    "duration": 15,
    "start_time": "2021-11-20T17:12:06.610Z"
   },
   {
    "duration": 16,
    "start_time": "2021-11-20T17:12:06.626Z"
   },
   {
    "duration": 240,
    "start_time": "2021-11-20T17:12:06.643Z"
   },
   {
    "duration": 206,
    "start_time": "2021-11-20T17:12:06.891Z"
   },
   {
    "duration": 216,
    "start_time": "2021-11-20T17:12:07.099Z"
   },
   {
    "duration": 9,
    "start_time": "2021-11-20T17:12:07.316Z"
   },
   {
    "duration": 7,
    "start_time": "2021-11-20T17:12:07.327Z"
   },
   {
    "duration": 17,
    "start_time": "2021-11-20T17:12:07.336Z"
   },
   {
    "duration": 5,
    "start_time": "2021-11-20T17:12:07.354Z"
   },
   {
    "duration": 21,
    "start_time": "2021-11-20T17:12:07.392Z"
   },
   {
    "duration": 20,
    "start_time": "2021-11-20T17:12:07.414Z"
   },
   {
    "duration": 13,
    "start_time": "2021-11-20T17:12:07.436Z"
   },
   {
    "duration": 4,
    "start_time": "2021-11-20T17:12:07.451Z"
   },
   {
    "duration": 5,
    "start_time": "2021-11-20T17:15:51.158Z"
   },
   {
    "duration": 8404,
    "start_time": "2021-11-20T17:17:20.009Z"
   },
   {
    "duration": 16,
    "start_time": "2021-11-20T17:17:28.414Z"
   },
   {
    "duration": 20,
    "start_time": "2021-11-20T17:17:29.586Z"
   },
   {
    "duration": 4,
    "start_time": "2021-11-20T17:17:32.557Z"
   },
   {
    "duration": 3,
    "start_time": "2021-11-20T17:18:15.576Z"
   },
   {
    "duration": 8262,
    "start_time": "2021-11-20T17:20:21.191Z"
   },
   {
    "duration": 19,
    "start_time": "2021-11-20T17:20:29.454Z"
   },
   {
    "duration": 31,
    "start_time": "2021-11-20T17:20:29.475Z"
   },
   {
    "duration": 5,
    "start_time": "2021-11-20T17:20:29.508Z"
   },
   {
    "duration": 4,
    "start_time": "2021-11-20T17:21:35.985Z"
   },
   {
    "duration": 10,
    "start_time": "2021-11-20T17:21:51.036Z"
   },
   {
    "duration": 5,
    "start_time": "2021-11-20T17:21:59.469Z"
   },
   {
    "duration": 5,
    "start_time": "2021-11-20T17:22:03.952Z"
   },
   {
    "duration": 5,
    "start_time": "2021-11-20T17:22:07.574Z"
   },
   {
    "duration": 5,
    "start_time": "2021-11-20T17:22:16.442Z"
   },
   {
    "duration": 12,
    "start_time": "2021-11-20T17:24:25.016Z"
   },
   {
    "duration": 10,
    "start_time": "2021-11-20T17:24:33.600Z"
   },
   {
    "duration": 242,
    "start_time": "2021-11-20T17:24:44.565Z"
   },
   {
    "duration": 4,
    "start_time": "2021-11-20T17:24:55.370Z"
   },
   {
    "duration": 9,
    "start_time": "2021-11-20T17:25:01.790Z"
   },
   {
    "duration": 11,
    "start_time": "2021-11-20T17:26:06.418Z"
   },
   {
    "duration": 12,
    "start_time": "2021-11-20T17:26:26.086Z"
   },
   {
    "duration": 7,
    "start_time": "2021-11-20T17:26:37.491Z"
   },
   {
    "duration": 6,
    "start_time": "2021-11-20T17:27:22.410Z"
   },
   {
    "duration": 6,
    "start_time": "2021-11-20T17:27:45.676Z"
   },
   {
    "duration": 5,
    "start_time": "2021-11-20T17:28:40.638Z"
   },
   {
    "duration": 164,
    "start_time": "2021-11-20T17:29:12.242Z"
   },
   {
    "duration": 170,
    "start_time": "2021-11-20T17:29:15.741Z"
   },
   {
    "duration": 17,
    "start_time": "2021-11-20T17:29:24.776Z"
   },
   {
    "duration": 18,
    "start_time": "2021-11-20T17:30:05.550Z"
   },
   {
    "duration": 18,
    "start_time": "2021-11-20T17:30:27.653Z"
   },
   {
    "duration": 127,
    "start_time": "2021-11-20T17:30:59.569Z"
   },
   {
    "duration": 15,
    "start_time": "2021-11-20T17:31:41.383Z"
   },
   {
    "duration": 8343,
    "start_time": "2021-11-20T17:31:43.671Z"
   },
   {
    "duration": 17,
    "start_time": "2021-11-20T17:31:52.016Z"
   },
   {
    "duration": 20,
    "start_time": "2021-11-20T17:31:52.035Z"
   },
   {
    "duration": 5,
    "start_time": "2021-11-20T17:31:52.057Z"
   },
   {
    "duration": 17,
    "start_time": "2021-11-20T17:31:56.227Z"
   },
   {
    "duration": 17,
    "start_time": "2021-11-20T17:32:18.145Z"
   },
   {
    "duration": 8365,
    "start_time": "2021-11-20T17:32:19.032Z"
   },
   {
    "duration": 18,
    "start_time": "2021-11-20T17:32:27.399Z"
   },
   {
    "duration": 20,
    "start_time": "2021-11-20T17:32:27.419Z"
   },
   {
    "duration": 5,
    "start_time": "2021-11-20T17:32:27.440Z"
   },
   {
    "duration": 47,
    "start_time": "2021-11-20T17:32:27.447Z"
   },
   {
    "duration": 104,
    "start_time": "2021-11-20T17:33:34.887Z"
   },
   {
    "duration": 574,
    "start_time": "2021-11-20T17:33:35.180Z"
   },
   {
    "duration": 4,
    "start_time": "2021-11-20T17:33:36.005Z"
   },
   {
    "duration": 3,
    "start_time": "2021-11-20T17:33:36.465Z"
   },
   {
    "duration": 4,
    "start_time": "2021-11-20T17:33:36.865Z"
   },
   {
    "duration": 6,
    "start_time": "2021-11-20T17:33:38.404Z"
   },
   {
    "duration": 5,
    "start_time": "2021-11-20T17:33:38.955Z"
   },
   {
    "duration": 8390,
    "start_time": "2021-11-20T17:33:39.588Z"
   },
   {
    "duration": 21,
    "start_time": "2021-11-20T17:33:47.980Z"
   },
   {
    "duration": 4,
    "start_time": "2021-11-20T17:33:55.297Z"
   },
   {
    "duration": 6,
    "start_time": "2021-11-20T17:34:27.568Z"
   },
   {
    "duration": 18,
    "start_time": "2021-11-20T17:34:28.430Z"
   },
   {
    "duration": 4,
    "start_time": "2021-11-20T17:38:41.301Z"
   },
   {
    "duration": 4,
    "start_time": "2021-11-20T17:39:04.631Z"
   },
   {
    "duration": 8,
    "start_time": "2021-11-20T17:39:09.703Z"
   },
   {
    "duration": 10,
    "start_time": "2021-11-20T17:39:16.397Z"
   },
   {
    "duration": 11,
    "start_time": "2021-11-20T17:39:25.511Z"
   },
   {
    "duration": 193,
    "start_time": "2021-11-20T17:39:51.336Z"
   },
   {
    "duration": 10,
    "start_time": "2021-11-20T17:40:02.449Z"
   },
   {
    "duration": 5,
    "start_time": "2021-11-20T17:40:09.775Z"
   },
   {
    "duration": 52,
    "start_time": "2021-11-20T17:40:33.532Z"
   },
   {
    "duration": 5,
    "start_time": "2021-11-20T17:40:41.665Z"
   },
   {
    "duration": 12,
    "start_time": "2021-11-20T17:41:24.288Z"
   },
   {
    "duration": 15,
    "start_time": "2021-11-20T17:41:36.545Z"
   },
   {
    "duration": 12,
    "start_time": "2021-11-20T17:41:57.605Z"
   },
   {
    "duration": 13,
    "start_time": "2021-11-20T17:42:10.688Z"
   },
   {
    "duration": 18,
    "start_time": "2021-11-20T17:42:19.827Z"
   },
   {
    "duration": 7,
    "start_time": "2021-11-20T17:43:07.851Z"
   },
   {
    "duration": 15,
    "start_time": "2021-11-20T17:43:34.060Z"
   },
   {
    "duration": 6,
    "start_time": "2021-11-20T17:44:02.912Z"
   },
   {
    "duration": 13,
    "start_time": "2021-11-20T17:44:59.483Z"
   },
   {
    "duration": 26,
    "start_time": "2021-11-20T17:45:12.443Z"
   },
   {
    "duration": 14,
    "start_time": "2021-11-20T17:45:50.293Z"
   },
   {
    "duration": 57,
    "start_time": "2021-11-20T17:46:03.435Z"
   },
   {
    "duration": 20,
    "start_time": "2021-11-20T17:46:14.369Z"
   },
   {
    "duration": 167,
    "start_time": "2021-11-20T17:49:49.605Z"
   },
   {
    "duration": 26,
    "start_time": "2021-11-20T17:50:15.417Z"
   },
   {
    "duration": 4102,
    "start_time": "2021-11-20T17:50:46.152Z"
   },
   {
    "duration": 68,
    "start_time": "2021-11-20T17:51:04.000Z"
   },
   {
    "duration": 8294,
    "start_time": "2021-11-20T17:51:06.261Z"
   },
   {
    "duration": 16,
    "start_time": "2021-11-20T17:51:14.556Z"
   },
   {
    "duration": 32,
    "start_time": "2021-11-20T17:51:14.574Z"
   },
   {
    "duration": 6,
    "start_time": "2021-11-20T17:51:15.523Z"
   },
   {
    "duration": 4,
    "start_time": "2021-11-20T17:51:30.126Z"
   },
   {
    "duration": 5,
    "start_time": "2021-11-20T17:52:19.507Z"
   },
   {
    "duration": 1609,
    "start_time": "2021-11-20T17:52:20.197Z"
   },
   {
    "duration": 15,
    "start_time": "2021-11-20T17:52:22.282Z"
   },
   {
    "duration": 9,
    "start_time": "2021-11-20T17:52:29.974Z"
   },
   {
    "duration": 18,
    "start_time": "2021-11-20T17:52:34.664Z"
   },
   {
    "duration": 17,
    "start_time": "2021-11-20T17:52:39.732Z"
   },
   {
    "duration": 18,
    "start_time": "2021-11-20T17:52:47.024Z"
   },
   {
    "duration": 17,
    "start_time": "2021-11-20T17:53:24.869Z"
   },
   {
    "duration": 17,
    "start_time": "2021-11-20T17:53:27.047Z"
   },
   {
    "duration": 222,
    "start_time": "2021-11-20T17:53:27.853Z"
   },
   {
    "duration": 210,
    "start_time": "2021-11-20T17:56:24.030Z"
   },
   {
    "duration": 220,
    "start_time": "2021-11-20T17:56:26.516Z"
   },
   {
    "duration": 209,
    "start_time": "2021-11-20T17:57:23.193Z"
   },
   {
    "duration": 23,
    "start_time": "2021-11-20T17:59:19.621Z"
   },
   {
    "duration": 106,
    "start_time": "2021-11-20T17:59:48.646Z"
   },
   {
    "duration": 14,
    "start_time": "2021-11-20T18:00:21.672Z"
   },
   {
    "duration": 16,
    "start_time": "2021-11-20T18:00:30.292Z"
   },
   {
    "duration": 5,
    "start_time": "2021-11-20T18:00:53.582Z"
   },
   {
    "duration": 45,
    "start_time": "2021-11-20T18:00:53.589Z"
   },
   {
    "duration": 6,
    "start_time": "2021-11-20T18:00:53.636Z"
   },
   {
    "duration": 19,
    "start_time": "2021-11-20T18:00:53.644Z"
   },
   {
    "duration": 144,
    "start_time": "2021-11-20T18:00:53.665Z"
   },
   {
    "duration": 19,
    "start_time": "2021-11-20T18:00:53.810Z"
   },
   {
    "duration": 27,
    "start_time": "2021-11-20T18:00:53.831Z"
   },
   {
    "duration": 89,
    "start_time": "2021-11-20T18:00:53.860Z"
   },
   {
    "duration": 13,
    "start_time": "2021-11-20T18:00:53.951Z"
   },
   {
    "duration": 122,
    "start_time": "2021-11-20T18:00:53.965Z"
   },
   {
    "duration": 15,
    "start_time": "2021-11-20T18:00:54.091Z"
   },
   {
    "duration": 28,
    "start_time": "2021-11-20T18:00:54.108Z"
   },
   {
    "duration": 20,
    "start_time": "2021-11-20T18:00:54.138Z"
   },
   {
    "duration": 8,
    "start_time": "2021-11-20T18:00:54.159Z"
   },
   {
    "duration": 5,
    "start_time": "2021-11-20T18:00:54.168Z"
   },
   {
    "duration": 166,
    "start_time": "2021-11-20T18:00:54.191Z"
   },
   {
    "duration": 79,
    "start_time": "2021-11-20T18:00:54.359Z"
   },
   {
    "duration": 9,
    "start_time": "2021-11-20T18:00:54.440Z"
   },
   {
    "duration": 273,
    "start_time": "2021-11-20T18:00:54.451Z"
   },
   {
    "duration": 4,
    "start_time": "2021-11-20T18:00:54.726Z"
   },
   {
    "duration": 27,
    "start_time": "2021-11-20T18:00:54.731Z"
   },
   {
    "duration": 16,
    "start_time": "2021-11-20T18:00:54.759Z"
   },
   {
    "duration": 8,
    "start_time": "2021-11-20T18:00:54.778Z"
   },
   {
    "duration": 251,
    "start_time": "2021-11-20T18:00:54.788Z"
   },
   {
    "duration": 6,
    "start_time": "2021-11-20T18:00:55.041Z"
   },
   {
    "duration": 12,
    "start_time": "2021-11-20T18:00:55.048Z"
   },
   {
    "duration": 31,
    "start_time": "2021-11-20T18:00:55.061Z"
   },
   {
    "duration": 6,
    "start_time": "2021-11-20T18:00:55.094Z"
   },
   {
    "duration": 8,
    "start_time": "2021-11-20T18:00:55.102Z"
   },
   {
    "duration": 9,
    "start_time": "2021-11-20T18:00:55.111Z"
   },
   {
    "duration": 12,
    "start_time": "2021-11-20T18:00:55.121Z"
   },
   {
    "duration": 46,
    "start_time": "2021-11-20T18:00:55.135Z"
   },
   {
    "duration": 17,
    "start_time": "2021-11-20T18:00:55.182Z"
   },
   {
    "duration": 11,
    "start_time": "2021-11-20T18:00:55.200Z"
   },
   {
    "duration": 42,
    "start_time": "2021-11-20T18:00:55.213Z"
   },
   {
    "duration": 149,
    "start_time": "2021-11-20T18:00:55.256Z"
   },
   {
    "duration": 43,
    "start_time": "2021-11-20T18:00:55.406Z"
   },
   {
    "duration": 45,
    "start_time": "2021-11-20T18:00:55.450Z"
   },
   {
    "duration": 36,
    "start_time": "2021-11-20T18:00:55.497Z"
   },
   {
    "duration": 94,
    "start_time": "2021-11-20T18:00:55.535Z"
   },
   {
    "duration": 42,
    "start_time": "2021-11-20T18:00:55.631Z"
   },
   {
    "duration": 56,
    "start_time": "2021-11-20T18:00:55.675Z"
   },
   {
    "duration": 79,
    "start_time": "2021-11-20T18:00:55.733Z"
   },
   {
    "duration": 11,
    "start_time": "2021-11-20T18:00:55.814Z"
   },
   {
    "duration": 5,
    "start_time": "2021-11-20T18:00:55.827Z"
   },
   {
    "duration": 6,
    "start_time": "2021-11-20T18:00:55.833Z"
   },
   {
    "duration": 118,
    "start_time": "2021-11-20T18:00:55.840Z"
   },
   {
    "duration": 627,
    "start_time": "2021-11-20T18:00:55.959Z"
   },
   {
    "duration": 4,
    "start_time": "2021-11-20T18:00:56.587Z"
   },
   {
    "duration": 4,
    "start_time": "2021-11-20T18:00:56.593Z"
   },
   {
    "duration": 6,
    "start_time": "2021-11-20T18:00:56.599Z"
   },
   {
    "duration": 6,
    "start_time": "2021-11-20T18:00:56.606Z"
   },
   {
    "duration": 6,
    "start_time": "2021-11-20T18:00:56.613Z"
   },
   {
    "duration": 4,
    "start_time": "2021-11-20T18:00:56.923Z"
   },
   {
    "duration": 2,
    "start_time": "2021-11-20T18:00:57.464Z"
   },
   {
    "duration": 8271,
    "start_time": "2021-11-20T18:00:57.908Z"
   },
   {
    "duration": 23,
    "start_time": "2021-11-20T18:01:06.180Z"
   },
   {
    "duration": 19,
    "start_time": "2021-11-20T18:01:06.205Z"
   },
   {
    "duration": 6,
    "start_time": "2021-11-20T18:01:06.226Z"
   },
   {
    "duration": 6,
    "start_time": "2021-11-20T18:01:06.233Z"
   },
   {
    "duration": 18,
    "start_time": "2021-11-20T18:01:37.480Z"
   },
   {
    "duration": 4,
    "start_time": "2021-11-20T18:02:44.480Z"
   },
   {
    "duration": 2,
    "start_time": "2021-11-20T18:02:44.736Z"
   },
   {
    "duration": 4,
    "start_time": "2021-11-20T18:02:45.137Z"
   },
   {
    "duration": 5,
    "start_time": "2021-11-20T18:02:47.623Z"
   },
   {
    "duration": 4,
    "start_time": "2021-11-20T18:02:50.741Z"
   },
   {
    "duration": 2,
    "start_time": "2021-11-20T18:02:51.307Z"
   },
   {
    "duration": 4,
    "start_time": "2021-11-20T18:02:51.764Z"
   },
   {
    "duration": 19,
    "start_time": "2021-11-20T18:02:53.030Z"
   },
   {
    "duration": 5,
    "start_time": "2021-11-20T18:02:58.210Z"
   },
   {
    "duration": 34,
    "start_time": "2021-11-20T18:02:58.217Z"
   },
   {
    "duration": 6,
    "start_time": "2021-11-20T18:02:58.254Z"
   },
   {
    "duration": 19,
    "start_time": "2021-11-20T18:02:58.262Z"
   },
   {
    "duration": 164,
    "start_time": "2021-11-20T18:02:58.282Z"
   },
   {
    "duration": 19,
    "start_time": "2021-11-20T18:02:58.448Z"
   },
   {
    "duration": 40,
    "start_time": "2021-11-20T18:02:58.469Z"
   },
   {
    "duration": 84,
    "start_time": "2021-11-20T18:02:58.511Z"
   },
   {
    "duration": 14,
    "start_time": "2021-11-20T18:02:58.597Z"
   },
   {
    "duration": 128,
    "start_time": "2021-11-20T18:02:58.613Z"
   },
   {
    "duration": 18,
    "start_time": "2021-11-20T18:02:58.743Z"
   },
   {
    "duration": 48,
    "start_time": "2021-11-20T18:02:58.763Z"
   },
   {
    "duration": 20,
    "start_time": "2021-11-20T18:02:58.813Z"
   },
   {
    "duration": 7,
    "start_time": "2021-11-20T18:02:58.834Z"
   },
   {
    "duration": 4,
    "start_time": "2021-11-20T18:02:58.843Z"
   },
   {
    "duration": 170,
    "start_time": "2021-11-20T18:02:58.848Z"
   },
   {
    "duration": 87,
    "start_time": "2021-11-20T18:02:59.020Z"
   },
   {
    "duration": 8,
    "start_time": "2021-11-20T18:02:59.108Z"
   },
   {
    "duration": 241,
    "start_time": "2021-11-20T18:02:59.118Z"
   },
   {
    "duration": 5,
    "start_time": "2021-11-20T18:02:59.360Z"
   },
   {
    "duration": 5,
    "start_time": "2021-11-20T18:02:59.366Z"
   },
   {
    "duration": 22,
    "start_time": "2021-11-20T18:02:59.373Z"
   },
   {
    "duration": 8,
    "start_time": "2021-11-20T18:02:59.398Z"
   },
   {
    "duration": 512,
    "start_time": "2021-11-20T18:02:59.408Z"
   },
   {
    "duration": 7,
    "start_time": "2021-11-20T18:02:59.922Z"
   },
   {
    "duration": 9,
    "start_time": "2021-11-20T18:02:59.931Z"
   },
   {
    "duration": 18,
    "start_time": "2021-11-20T18:02:59.942Z"
   },
   {
    "duration": 30,
    "start_time": "2021-11-20T18:02:59.962Z"
   },
   {
    "duration": 4,
    "start_time": "2021-11-20T18:02:59.994Z"
   },
   {
    "duration": 8,
    "start_time": "2021-11-20T18:03:00.000Z"
   },
   {
    "duration": 11,
    "start_time": "2021-11-20T18:03:00.010Z"
   },
   {
    "duration": 74,
    "start_time": "2021-11-20T18:03:00.023Z"
   },
   {
    "duration": 10,
    "start_time": "2021-11-20T18:03:00.098Z"
   },
   {
    "duration": 13,
    "start_time": "2021-11-20T18:03:00.110Z"
   },
   {
    "duration": 47,
    "start_time": "2021-11-20T18:03:00.125Z"
   },
   {
    "duration": 146,
    "start_time": "2021-11-20T18:03:00.174Z"
   },
   {
    "duration": 46,
    "start_time": "2021-11-20T18:03:00.322Z"
   },
   {
    "duration": 52,
    "start_time": "2021-11-20T18:03:00.370Z"
   },
   {
    "duration": 40,
    "start_time": "2021-11-20T18:03:00.423Z"
   },
   {
    "duration": 96,
    "start_time": "2021-11-20T18:03:00.465Z"
   },
   {
    "duration": 59,
    "start_time": "2021-11-20T18:03:00.563Z"
   },
   {
    "duration": 44,
    "start_time": "2021-11-20T18:03:00.624Z"
   },
   {
    "duration": 73,
    "start_time": "2021-11-20T18:03:00.670Z"
   },
   {
    "duration": 11,
    "start_time": "2021-11-20T18:03:00.745Z"
   },
   {
    "duration": 9,
    "start_time": "2021-11-20T18:03:00.758Z"
   },
   {
    "duration": 12,
    "start_time": "2021-11-20T18:03:00.769Z"
   },
   {
    "duration": 101,
    "start_time": "2021-11-20T18:03:00.783Z"
   },
   {
    "duration": 648,
    "start_time": "2021-11-20T18:03:00.886Z"
   },
   {
    "duration": 3,
    "start_time": "2021-11-20T18:03:01.536Z"
   },
   {
    "duration": 22,
    "start_time": "2021-11-20T18:03:01.540Z"
   },
   {
    "duration": 23,
    "start_time": "2021-11-20T18:03:01.564Z"
   },
   {
    "duration": 24,
    "start_time": "2021-11-20T18:03:01.589Z"
   },
   {
    "duration": 17,
    "start_time": "2021-11-20T18:03:01.616Z"
   },
   {
    "duration": 15,
    "start_time": "2021-11-20T18:03:01.634Z"
   },
   {
    "duration": 23,
    "start_time": "2021-11-20T18:03:01.651Z"
   },
   {
    "duration": 4,
    "start_time": "2021-11-20T18:03:02.388Z"
   },
   {
    "duration": 62,
    "start_time": "2021-11-20T18:03:02.922Z"
   },
   {
    "duration": 14,
    "start_time": "2021-11-20T18:03:57.083Z"
   },
   {
    "duration": 13,
    "start_time": "2021-11-20T18:04:21.871Z"
   },
   {
    "duration": 14,
    "start_time": "2021-11-20T18:04:56.972Z"
   },
   {
    "duration": 13,
    "start_time": "2021-11-20T18:05:19.949Z"
   },
   {
    "duration": 15,
    "start_time": "2021-11-20T18:05:25.833Z"
   },
   {
    "duration": 14,
    "start_time": "2021-11-20T18:05:38.315Z"
   },
   {
    "duration": 5,
    "start_time": "2021-11-20T18:10:46.568Z"
   },
   {
    "duration": 39,
    "start_time": "2021-11-20T18:10:46.575Z"
   },
   {
    "duration": 6,
    "start_time": "2021-11-20T18:10:46.616Z"
   },
   {
    "duration": 18,
    "start_time": "2021-11-20T18:10:46.624Z"
   },
   {
    "duration": 142,
    "start_time": "2021-11-20T18:10:46.643Z"
   },
   {
    "duration": 19,
    "start_time": "2021-11-20T18:10:46.792Z"
   },
   {
    "duration": 27,
    "start_time": "2021-11-20T18:10:46.814Z"
   },
   {
    "duration": 90,
    "start_time": "2021-11-20T18:10:46.843Z"
   },
   {
    "duration": 13,
    "start_time": "2021-11-20T18:10:46.935Z"
   },
   {
    "duration": 118,
    "start_time": "2021-11-20T18:10:46.950Z"
   },
   {
    "duration": 24,
    "start_time": "2021-11-20T18:10:47.069Z"
   },
   {
    "duration": 30,
    "start_time": "2021-11-20T18:10:47.094Z"
   },
   {
    "duration": 20,
    "start_time": "2021-11-20T18:10:47.127Z"
   },
   {
    "duration": 5,
    "start_time": "2021-11-20T18:10:47.149Z"
   },
   {
    "duration": 5,
    "start_time": "2021-11-20T18:10:47.156Z"
   },
   {
    "duration": 173,
    "start_time": "2021-11-20T18:10:47.163Z"
   },
   {
    "duration": 84,
    "start_time": "2021-11-20T18:10:47.337Z"
   },
   {
    "duration": 9,
    "start_time": "2021-11-20T18:10:47.423Z"
   },
   {
    "duration": 251,
    "start_time": "2021-11-20T18:10:47.436Z"
   },
   {
    "duration": 4,
    "start_time": "2021-11-20T18:10:47.692Z"
   },
   {
    "duration": 10,
    "start_time": "2021-11-20T18:10:47.698Z"
   },
   {
    "duration": 12,
    "start_time": "2021-11-20T18:10:47.710Z"
   },
   {
    "duration": 7,
    "start_time": "2021-11-20T18:10:47.723Z"
   },
   {
    "duration": 263,
    "start_time": "2021-11-20T18:10:47.731Z"
   },
   {
    "duration": 6,
    "start_time": "2021-11-20T18:10:47.996Z"
   },
   {
    "duration": 9,
    "start_time": "2021-11-20T18:10:48.004Z"
   },
   {
    "duration": 14,
    "start_time": "2021-11-20T18:10:48.015Z"
   },
   {
    "duration": 7,
    "start_time": "2021-11-20T18:10:48.030Z"
   },
   {
    "duration": 4,
    "start_time": "2021-11-20T18:10:48.039Z"
   },
   {
    "duration": 8,
    "start_time": "2021-11-20T18:10:48.044Z"
   },
   {
    "duration": 38,
    "start_time": "2021-11-20T18:10:48.054Z"
   },
   {
    "duration": 52,
    "start_time": "2021-11-20T18:10:48.094Z"
   },
   {
    "duration": 8,
    "start_time": "2021-11-20T18:10:48.148Z"
   },
   {
    "duration": 10,
    "start_time": "2021-11-20T18:10:48.158Z"
   },
   {
    "duration": 62,
    "start_time": "2021-11-20T18:10:48.169Z"
   },
   {
    "duration": 132,
    "start_time": "2021-11-20T18:10:48.233Z"
   },
   {
    "duration": 53,
    "start_time": "2021-11-20T18:10:48.367Z"
   },
   {
    "duration": 35,
    "start_time": "2021-11-20T18:10:48.422Z"
   },
   {
    "duration": 48,
    "start_time": "2021-11-20T18:10:48.458Z"
   },
   {
    "duration": 85,
    "start_time": "2021-11-20T18:10:48.507Z"
   },
   {
    "duration": 46,
    "start_time": "2021-11-20T18:10:48.594Z"
   },
   {
    "duration": 54,
    "start_time": "2021-11-20T18:10:48.642Z"
   },
   {
    "duration": 54,
    "start_time": "2021-11-20T18:10:48.698Z"
   },
   {
    "duration": 10,
    "start_time": "2021-11-20T18:10:48.754Z"
   },
   {
    "duration": 2,
    "start_time": "2021-11-20T18:10:48.766Z"
   },
   {
    "duration": 23,
    "start_time": "2021-11-20T18:10:48.770Z"
   },
   {
    "duration": 105,
    "start_time": "2021-11-20T18:10:48.794Z"
   },
   {
    "duration": 636,
    "start_time": "2021-11-20T18:10:48.900Z"
   },
   {
    "duration": 3,
    "start_time": "2021-11-20T18:10:49.538Z"
   },
   {
    "duration": 5,
    "start_time": "2021-11-20T18:10:49.543Z"
   },
   {
    "duration": 5,
    "start_time": "2021-11-20T18:10:49.550Z"
   },
   {
    "duration": 6,
    "start_time": "2021-11-20T18:10:49.557Z"
   },
   {
    "duration": 6,
    "start_time": "2021-11-20T18:10:49.565Z"
   },
   {
    "duration": 22,
    "start_time": "2021-11-20T18:10:49.572Z"
   },
   {
    "duration": 8748,
    "start_time": "2021-11-20T18:10:49.598Z"
   },
   {
    "duration": 17,
    "start_time": "2021-11-20T18:10:58.348Z"
   },
   {
    "duration": 18,
    "start_time": "2021-11-20T18:10:58.405Z"
   },
   {
    "duration": 5,
    "start_time": "2021-11-20T18:10:58.425Z"
   },
   {
    "duration": 3,
    "start_time": "2021-11-20T18:10:58.432Z"
   },
   {
    "duration": 21,
    "start_time": "2021-11-20T18:11:10.891Z"
   },
   {
    "duration": 12,
    "start_time": "2021-11-20T18:12:41.440Z"
   },
   {
    "duration": 172,
    "start_time": "2021-11-20T18:13:04.739Z"
   },
   {
    "duration": 53,
    "start_time": "2021-11-20T18:13:55.300Z"
   },
   {
    "duration": 13,
    "start_time": "2021-11-20T18:13:58.752Z"
   },
   {
    "duration": 10,
    "start_time": "2021-11-20T18:14:33.371Z"
   },
   {
    "duration": 164,
    "start_time": "2021-11-20T18:15:05.966Z"
   },
   {
    "duration": 16,
    "start_time": "2021-11-20T18:15:16.312Z"
   },
   {
    "duration": 14,
    "start_time": "2021-11-20T18:15:54.290Z"
   },
   {
    "duration": 17,
    "start_time": "2021-11-20T18:16:02.912Z"
   },
   {
    "duration": 12,
    "start_time": "2021-11-20T18:17:35.456Z"
   },
   {
    "duration": 11,
    "start_time": "2021-11-20T18:17:38.560Z"
   },
   {
    "duration": 26,
    "start_time": "2021-11-20T18:18:34.048Z"
   },
   {
    "duration": 9,
    "start_time": "2021-11-20T18:19:13.415Z"
   },
   {
    "duration": 4,
    "start_time": "2021-11-20T18:19:19.181Z"
   },
   {
    "duration": 5,
    "start_time": "2021-11-20T18:19:43.141Z"
   },
   {
    "duration": 1520,
    "start_time": "2021-11-20T18:19:43.411Z"
   },
   {
    "duration": 14,
    "start_time": "2021-11-20T18:19:44.933Z"
   },
   {
    "duration": 7,
    "start_time": "2021-11-20T18:19:49.204Z"
   },
   {
    "duration": 17,
    "start_time": "2021-11-20T18:19:51.860Z"
   },
   {
    "duration": 18,
    "start_time": "2021-11-20T18:20:00.651Z"
   },
   {
    "duration": 17,
    "start_time": "2021-11-20T18:20:02.938Z"
   },
   {
    "duration": 16,
    "start_time": "2021-11-20T18:20:18.275Z"
   },
   {
    "duration": 17,
    "start_time": "2021-11-20T18:20:21.128Z"
   },
   {
    "duration": 220,
    "start_time": "2021-11-20T18:20:21.586Z"
   },
   {
    "duration": 218,
    "start_time": "2021-11-20T18:21:23.187Z"
   },
   {
    "duration": 220,
    "start_time": "2021-11-20T18:21:59.671Z"
   },
   {
    "duration": 8,
    "start_time": "2021-11-20T18:22:29.018Z"
   },
   {
    "duration": 8,
    "start_time": "2021-11-20T18:22:29.371Z"
   },
   {
    "duration": 13,
    "start_time": "2021-11-20T18:23:03.395Z"
   },
   {
    "duration": 23,
    "start_time": "2021-11-20T18:23:56.787Z"
   },
   {
    "duration": 7,
    "start_time": "2021-11-20T18:24:09.122Z"
   },
   {
    "duration": 8,
    "start_time": "2021-11-20T18:24:09.651Z"
   },
   {
    "duration": 8,
    "start_time": "2021-11-20T18:25:08.719Z"
   },
   {
    "duration": 6,
    "start_time": "2021-11-20T18:25:35.216Z"
   },
   {
    "duration": 5,
    "start_time": "2021-11-20T18:25:35.815Z"
   },
   {
    "duration": 6,
    "start_time": "2021-11-20T18:25:46.313Z"
   },
   {
    "duration": 5,
    "start_time": "2021-11-20T18:25:46.595Z"
   },
   {
    "duration": 4,
    "start_time": "2021-11-20T18:29:56.183Z"
   },
   {
    "duration": 4,
    "start_time": "2021-11-20T18:30:09.223Z"
   },
   {
    "duration": 3,
    "start_time": "2021-11-20T18:31:41.306Z"
   },
   {
    "duration": 53,
    "start_time": "2021-11-20T18:32:06.641Z"
   },
   {
    "duration": 16,
    "start_time": "2021-11-20T18:32:13.573Z"
   },
   {
    "duration": 24,
    "start_time": "2021-11-20T18:33:08.337Z"
   },
   {
    "duration": 15,
    "start_time": "2021-11-20T18:33:13.195Z"
   },
   {
    "duration": 5,
    "start_time": "2021-11-20T18:33:27.765Z"
   },
   {
    "duration": 5,
    "start_time": "2021-11-20T18:36:58.214Z"
   },
   {
    "duration": 52,
    "start_time": "2021-11-20T18:36:58.221Z"
   },
   {
    "duration": 31,
    "start_time": "2021-11-20T18:36:58.275Z"
   },
   {
    "duration": 47,
    "start_time": "2021-11-20T18:36:58.308Z"
   },
   {
    "duration": 147,
    "start_time": "2021-11-20T18:36:58.357Z"
   },
   {
    "duration": 19,
    "start_time": "2021-11-20T18:36:58.506Z"
   },
   {
    "duration": 59,
    "start_time": "2021-11-20T18:36:58.527Z"
   },
   {
    "duration": 87,
    "start_time": "2021-11-20T18:36:58.587Z"
   },
   {
    "duration": 26,
    "start_time": "2021-11-20T18:36:58.677Z"
   },
   {
    "duration": 144,
    "start_time": "2021-11-20T18:36:58.705Z"
   },
   {
    "duration": 15,
    "start_time": "2021-11-20T18:36:58.851Z"
   },
   {
    "duration": 48,
    "start_time": "2021-11-20T18:36:58.868Z"
   },
   {
    "duration": 34,
    "start_time": "2021-11-20T18:36:58.918Z"
   },
   {
    "duration": 22,
    "start_time": "2021-11-20T18:36:58.953Z"
   },
   {
    "duration": 56,
    "start_time": "2021-11-20T18:36:58.976Z"
   },
   {
    "duration": 162,
    "start_time": "2021-11-20T18:36:59.033Z"
   },
   {
    "duration": 65,
    "start_time": "2021-11-20T18:36:59.197Z"
   },
   {
    "duration": 10,
    "start_time": "2021-11-20T18:36:59.292Z"
   },
   {
    "duration": 250,
    "start_time": "2021-11-20T18:36:59.303Z"
   },
   {
    "duration": 4,
    "start_time": "2021-11-20T18:36:59.554Z"
   },
   {
    "duration": 12,
    "start_time": "2021-11-20T18:36:59.560Z"
   },
   {
    "duration": 30,
    "start_time": "2021-11-20T18:36:59.574Z"
   },
   {
    "duration": 13,
    "start_time": "2021-11-20T18:36:59.606Z"
   },
   {
    "duration": 438,
    "start_time": "2021-11-20T18:36:59.621Z"
   },
   {
    "duration": 7,
    "start_time": "2021-11-20T18:37:00.061Z"
   },
   {
    "duration": 24,
    "start_time": "2021-11-20T18:37:00.070Z"
   },
   {
    "duration": 14,
    "start_time": "2021-11-20T18:37:00.098Z"
   },
   {
    "duration": 7,
    "start_time": "2021-11-20T18:37:00.115Z"
   },
   {
    "duration": 10,
    "start_time": "2021-11-20T18:37:00.124Z"
   },
   {
    "duration": 12,
    "start_time": "2021-11-20T18:37:00.136Z"
   },
   {
    "duration": 15,
    "start_time": "2021-11-20T18:37:00.149Z"
   },
   {
    "duration": 66,
    "start_time": "2021-11-20T18:37:00.166Z"
   },
   {
    "duration": 10,
    "start_time": "2021-11-20T18:37:00.234Z"
   },
   {
    "duration": 13,
    "start_time": "2021-11-20T18:37:00.245Z"
   },
   {
    "duration": 62,
    "start_time": "2021-11-20T18:37:00.260Z"
   },
   {
    "duration": 137,
    "start_time": "2021-11-20T18:37:00.325Z"
   },
   {
    "duration": 61,
    "start_time": "2021-11-20T18:37:00.464Z"
   },
   {
    "duration": 37,
    "start_time": "2021-11-20T18:37:00.527Z"
   },
   {
    "duration": 55,
    "start_time": "2021-11-20T18:37:00.566Z"
   },
   {
    "duration": 83,
    "start_time": "2021-11-20T18:37:00.623Z"
   },
   {
    "duration": 52,
    "start_time": "2021-11-20T18:37:00.708Z"
   },
   {
    "duration": 63,
    "start_time": "2021-11-20T18:37:00.762Z"
   },
   {
    "duration": 70,
    "start_time": "2021-11-20T18:37:00.826Z"
   },
   {
    "duration": 10,
    "start_time": "2021-11-20T18:37:00.897Z"
   },
   {
    "duration": 11,
    "start_time": "2021-11-20T18:37:00.909Z"
   },
   {
    "duration": 40,
    "start_time": "2021-11-20T18:37:00.921Z"
   },
   {
    "duration": 156,
    "start_time": "2021-11-20T18:37:00.963Z"
   },
   {
    "duration": 673,
    "start_time": "2021-11-20T18:37:01.121Z"
   },
   {
    "duration": 3,
    "start_time": "2021-11-20T18:37:01.796Z"
   },
   {
    "duration": 60,
    "start_time": "2021-11-20T18:37:01.800Z"
   },
   {
    "duration": 47,
    "start_time": "2021-11-20T18:37:01.862Z"
   },
   {
    "duration": 40,
    "start_time": "2021-11-20T18:37:01.911Z"
   },
   {
    "duration": 48,
    "start_time": "2021-11-20T18:37:01.952Z"
   },
   {
    "duration": 21,
    "start_time": "2021-11-20T18:37:02.002Z"
   },
   {
    "duration": 8266,
    "start_time": "2021-11-20T18:37:02.025Z"
   },
   {
    "duration": 18,
    "start_time": "2021-11-20T18:37:10.293Z"
   },
   {
    "duration": 20,
    "start_time": "2021-11-20T18:37:10.313Z"
   },
   {
    "duration": 4,
    "start_time": "2021-11-20T18:37:10.334Z"
   },
   {
    "duration": 4,
    "start_time": "2021-11-20T18:37:10.340Z"
   },
   {
    "duration": 10,
    "start_time": "2021-11-20T18:37:10.346Z"
   },
   {
    "duration": 38,
    "start_time": "2021-11-20T18:37:10.358Z"
   },
   {
    "duration": 4,
    "start_time": "2021-11-20T18:37:10.398Z"
   },
   {
    "duration": 5,
    "start_time": "2021-11-20T18:37:10.403Z"
   },
   {
    "duration": 1672,
    "start_time": "2021-11-20T18:37:10.410Z"
   },
   {
    "duration": 17,
    "start_time": "2021-11-20T18:37:12.084Z"
   },
   {
    "duration": 18,
    "start_time": "2021-11-20T18:37:12.103Z"
   },
   {
    "duration": 33,
    "start_time": "2021-11-20T18:37:12.123Z"
   },
   {
    "duration": 24,
    "start_time": "2021-11-20T18:37:12.158Z"
   },
   {
    "duration": 32,
    "start_time": "2021-11-20T18:37:12.184Z"
   },
   {
    "duration": 27,
    "start_time": "2021-11-20T18:37:12.218Z"
   },
   {
    "duration": 20,
    "start_time": "2021-11-20T18:37:12.247Z"
   },
   {
    "duration": 233,
    "start_time": "2021-11-20T18:37:12.269Z"
   },
   {
    "duration": 211,
    "start_time": "2021-11-20T18:37:12.503Z"
   },
   {
    "duration": 217,
    "start_time": "2021-11-20T18:37:12.715Z"
   },
   {
    "duration": 7,
    "start_time": "2021-11-20T18:37:12.934Z"
   },
   {
    "duration": 7,
    "start_time": "2021-11-20T18:37:12.943Z"
   },
   {
    "duration": 2,
    "start_time": "2021-11-20T18:37:12.952Z"
   },
   {
    "duration": 15,
    "start_time": "2021-11-20T18:37:12.956Z"
   },
   {
    "duration": 19,
    "start_time": "2021-11-20T18:37:12.972Z"
   },
   {
    "duration": 9,
    "start_time": "2021-11-20T18:37:12.993Z"
   },
   {
    "duration": 4,
    "start_time": "2021-11-20T18:37:13.006Z"
   },
   {
    "duration": 23,
    "start_time": "2021-11-20T18:37:13.011Z"
   },
   {
    "duration": 21,
    "start_time": "2021-11-20T18:37:13.036Z"
   },
   {
    "duration": 40,
    "start_time": "2021-11-20T18:37:13.058Z"
   },
   {
    "duration": 5,
    "start_time": "2021-11-20T18:37:13.099Z"
   }
  ],
  "kernelspec": {
   "display_name": "Python 3 (ipykernel)",
   "language": "python",
   "name": "python3"
  },
  "language_info": {
   "codemirror_mode": {
    "name": "ipython",
    "version": 3
   },
   "file_extension": ".py",
   "mimetype": "text/x-python",
   "name": "python",
   "nbconvert_exporter": "python",
   "pygments_lexer": "ipython3",
   "version": "3.9.7"
  },
  "toc": {
   "base_numbering": 1,
   "nav_menu": {},
   "number_sections": true,
   "sideBar": true,
   "skip_h1_title": false,
   "title_cell": "Table of Contents",
   "title_sidebar": "Contents",
   "toc_cell": false,
   "toc_position": {
    "height": "calc(100% - 180px)",
    "left": "10px",
    "top": "150px",
    "width": "289.6px"
   },
   "toc_section_display": true,
   "toc_window_display": true
  }
 },
 "nbformat": 4,
 "nbformat_minor": 2
}