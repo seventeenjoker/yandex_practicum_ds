{
 "cells": [
  {
   "cell_type": "markdown",
   "metadata": {
    "toc": true
   },
   "source": [
    "<h1>Содержание<span class=\"tocSkip\"></span></h1>\n",
    "<div class=\"toc\"><ul class=\"toc-item\"><li><span><a href=\"#Загрузка-данных\" data-toc-modified-id=\"Загрузка-данных-1\"><span class=\"toc-item-num\">1&nbsp;&nbsp;</span>Загрузка данных</a></span></li><li><span><a href=\"#Умножение-матриц\" data-toc-modified-id=\"Умножение-матриц-2\"><span class=\"toc-item-num\">2&nbsp;&nbsp;</span>Умножение матриц</a></span><ul class=\"toc-item\"><li><span><a href=\"#Признаки-умножают-на-обратимую-матрицу.-Изменится-ли-качество-линейной-регрессии?-(Её-можно-обучить-заново.)\" data-toc-modified-id=\"Признаки-умножают-на-обратимую-матрицу.-Изменится-ли-качество-линейной-регрессии?-(Её-можно-обучить-заново.)-2.1\"><span class=\"toc-item-num\">2.1&nbsp;&nbsp;</span>Признаки умножают на обратимую матрицу. Изменится ли качество линейной регрессии? (Её можно обучить заново.)</a></span></li></ul></li><li><span><a href=\"#Алгоритм-преобразования\" data-toc-modified-id=\"Алгоритм-преобразования-3\"><span class=\"toc-item-num\">3&nbsp;&nbsp;</span>Алгоритм преобразования</a></span><ul class=\"toc-item\"><li><span><a href=\"#Предложите-алгоритм-преобразования-данных-для-решения-задачи.-Обоснуйте,-почему-качество-линейной-регрессии-не-поменяется.\" data-toc-modified-id=\"Предложите-алгоритм-преобразования-данных-для-решения-задачи.-Обоснуйте,-почему-качество-линейной-регрессии-не-поменяется.-3.1\"><span class=\"toc-item-num\">3.1&nbsp;&nbsp;</span>Предложите алгоритм преобразования данных для решения задачи. Обоснуйте, почему качество линейной регрессии не поменяется.</a></span></li></ul></li><li><span><a href=\"#Проверка-алгоритма\" data-toc-modified-id=\"Проверка-алгоритма-4\"><span class=\"toc-item-num\">4&nbsp;&nbsp;</span>Проверка алгоритма</a></span><ul class=\"toc-item\"><li><span><a href=\"#Запрограммируйте-этот-алгоритм,-применив-матричные-операции.-Проверьте,-что-качество-линейной-регрессии-из-sklearn-не-отличается-до-и-после-преобразования.-Примените-метрику-R2.\" data-toc-modified-id=\"Запрограммируйте-этот-алгоритм,-применив-матричные-операции.-Проверьте,-что-качество-линейной-регрессии-из-sklearn-не-отличается-до-и-после-преобразования.-Примените-метрику-R2.-4.1\"><span class=\"toc-item-num\">4.1&nbsp;&nbsp;</span>Запрограммируйте этот алгоритм, применив матричные операции. Проверьте, что качество линейной регрессии из sklearn не отличается до и после преобразования. Примените метрику R2.</a></span></li></ul></li><li><span><a href=\"#Чек-лист-проверки\" data-toc-modified-id=\"Чек-лист-проверки-5\"><span class=\"toc-item-num\">5&nbsp;&nbsp;</span>Чек-лист проверки</a></span></li></ul></div>"
   ]
  },
  {
   "cell_type": "code",
   "execution_count": 1,
   "metadata": {},
   "outputs": [],
   "source": [
    "import pandas as pd\n",
    "import numpy as np\n",
    "\n",
    "import matplotlib.pyplot as plt\n",
    "from sklearn.linear_model import LinearRegression\n",
    "from sklearn.preprocessing import StandardScaler\n",
    "from sklearn.metrics import r2_score\n",
    "from sklearn.model_selection import train_test_split\n",
    "\n",
    "RANDOM_STATE = 13"
   ]
  },
  {
   "cell_type": "markdown",
   "metadata": {},
   "source": [
    "# Защита персональных данных клиентов"
   ]
  },
  {
   "cell_type": "markdown",
   "metadata": {},
   "source": [
    "Вам нужно защитить данные клиентов страховой компании «Хоть потоп». Разработайте такой метод преобразования данных, чтобы по ним было сложно восстановить персональную информацию. Обоснуйте корректность его работы.\n",
    "\n",
    "Нужно защитить данные, чтобы при преобразовании качество моделей машинного обучения не ухудшилось. Подбирать наилучшую модель не требуется."
   ]
  },
  {
   "cell_type": "markdown",
   "metadata": {},
   "source": [
    "## Загрузка данных"
   ]
  },
  {
   "cell_type": "code",
   "execution_count": 2,
   "metadata": {
    "scrolled": false
   },
   "outputs": [
    {
     "data": {
      "text/html": [
       "<div>\n",
       "<style scoped>\n",
       "    .dataframe tbody tr th:only-of-type {\n",
       "        vertical-align: middle;\n",
       "    }\n",
       "\n",
       "    .dataframe tbody tr th {\n",
       "        vertical-align: top;\n",
       "    }\n",
       "\n",
       "    .dataframe thead th {\n",
       "        text-align: right;\n",
       "    }\n",
       "</style>\n",
       "<table border=\"1\" class=\"dataframe\">\n",
       "  <thead>\n",
       "    <tr style=\"text-align: right;\">\n",
       "      <th></th>\n",
       "      <th>Пол</th>\n",
       "      <th>Возраст</th>\n",
       "      <th>Зарплата</th>\n",
       "      <th>Члены семьи</th>\n",
       "      <th>Страховые выплаты</th>\n",
       "    </tr>\n",
       "  </thead>\n",
       "  <tbody>\n",
       "    <tr>\n",
       "      <td>0</td>\n",
       "      <td>1</td>\n",
       "      <td>41.0</td>\n",
       "      <td>49600.0</td>\n",
       "      <td>1</td>\n",
       "      <td>0</td>\n",
       "    </tr>\n",
       "    <tr>\n",
       "      <td>1</td>\n",
       "      <td>0</td>\n",
       "      <td>46.0</td>\n",
       "      <td>38000.0</td>\n",
       "      <td>1</td>\n",
       "      <td>1</td>\n",
       "    </tr>\n",
       "    <tr>\n",
       "      <td>2</td>\n",
       "      <td>0</td>\n",
       "      <td>29.0</td>\n",
       "      <td>21000.0</td>\n",
       "      <td>0</td>\n",
       "      <td>0</td>\n",
       "    </tr>\n",
       "    <tr>\n",
       "      <td>3</td>\n",
       "      <td>0</td>\n",
       "      <td>21.0</td>\n",
       "      <td>41700.0</td>\n",
       "      <td>2</td>\n",
       "      <td>0</td>\n",
       "    </tr>\n",
       "    <tr>\n",
       "      <td>4</td>\n",
       "      <td>1</td>\n",
       "      <td>28.0</td>\n",
       "      <td>26100.0</td>\n",
       "      <td>0</td>\n",
       "      <td>0</td>\n",
       "    </tr>\n",
       "  </tbody>\n",
       "</table>\n",
       "</div>"
      ],
      "text/plain": [
       "   Пол  Возраст  Зарплата  Члены семьи  Страховые выплаты\n",
       "0    1     41.0   49600.0            1                  0\n",
       "1    0     46.0   38000.0            1                  1\n",
       "2    0     29.0   21000.0            0                  0\n",
       "3    0     21.0   41700.0            2                  0\n",
       "4    1     28.0   26100.0            0                  0"
      ]
     },
     "execution_count": 2,
     "metadata": {},
     "output_type": "execute_result"
    }
   ],
   "source": [
    "df = pd.read_csv('/datasets/insurance.csv')\n",
    "df.head()"
   ]
  },
  {
   "cell_type": "code",
   "execution_count": 3,
   "metadata": {},
   "outputs": [
    {
     "data": {
      "text/plain": [
       "(5000, 5)"
      ]
     },
     "execution_count": 3,
     "metadata": {},
     "output_type": "execute_result"
    }
   ],
   "source": [
    "df.shape"
   ]
  },
  {
   "cell_type": "code",
   "execution_count": 4,
   "metadata": {
    "scrolled": true
   },
   "outputs": [
    {
     "name": "stdout",
     "output_type": "stream",
     "text": [
      "<class 'pandas.core.frame.DataFrame'>\n",
      "RangeIndex: 5000 entries, 0 to 4999\n",
      "Data columns (total 5 columns):\n",
      "Пол                  5000 non-null int64\n",
      "Возраст              5000 non-null float64\n",
      "Зарплата             5000 non-null float64\n",
      "Члены семьи          5000 non-null int64\n",
      "Страховые выплаты    5000 non-null int64\n",
      "dtypes: float64(2), int64(3)\n",
      "memory usage: 195.4 KB\n"
     ]
    }
   ],
   "source": [
    "df.info()"
   ]
  },
  {
   "cell_type": "code",
   "execution_count": 5,
   "metadata": {},
   "outputs": [
    {
     "data": {
      "text/plain": [
       "153"
      ]
     },
     "execution_count": 5,
     "metadata": {},
     "output_type": "execute_result"
    }
   ],
   "source": [
    "df.duplicated().sum()"
   ]
  },
  {
   "cell_type": "code",
   "execution_count": 6,
   "metadata": {},
   "outputs": [
    {
     "data": {
      "text/plain": [
       "0"
      ]
     },
     "execution_count": 6,
     "metadata": {},
     "output_type": "execute_result"
    }
   ],
   "source": [
    "df.drop_duplicates(inplace=True)\n",
    "df.duplicated().sum()"
   ]
  },
  {
   "cell_type": "code",
   "execution_count": 7,
   "metadata": {},
   "outputs": [
    {
     "data": {
      "text/html": [
       "<div>\n",
       "<style scoped>\n",
       "    .dataframe tbody tr th:only-of-type {\n",
       "        vertical-align: middle;\n",
       "    }\n",
       "\n",
       "    .dataframe tbody tr th {\n",
       "        vertical-align: top;\n",
       "    }\n",
       "\n",
       "    .dataframe thead th {\n",
       "        text-align: right;\n",
       "    }\n",
       "</style>\n",
       "<table border=\"1\" class=\"dataframe\">\n",
       "  <thead>\n",
       "    <tr style=\"text-align: right;\">\n",
       "      <th></th>\n",
       "      <th>sex</th>\n",
       "      <th>age</th>\n",
       "      <th>salary</th>\n",
       "      <th>family_members</th>\n",
       "      <th>insurance_payments</th>\n",
       "    </tr>\n",
       "  </thead>\n",
       "  <tbody>\n",
       "    <tr>\n",
       "      <td>4995</td>\n",
       "      <td>0</td>\n",
       "      <td>28.0</td>\n",
       "      <td>35700.0</td>\n",
       "      <td>2</td>\n",
       "      <td>0</td>\n",
       "    </tr>\n",
       "    <tr>\n",
       "      <td>4996</td>\n",
       "      <td>0</td>\n",
       "      <td>34.0</td>\n",
       "      <td>52400.0</td>\n",
       "      <td>1</td>\n",
       "      <td>0</td>\n",
       "    </tr>\n",
       "    <tr>\n",
       "      <td>4997</td>\n",
       "      <td>0</td>\n",
       "      <td>20.0</td>\n",
       "      <td>33900.0</td>\n",
       "      <td>2</td>\n",
       "      <td>0</td>\n",
       "    </tr>\n",
       "    <tr>\n",
       "      <td>4998</td>\n",
       "      <td>1</td>\n",
       "      <td>22.0</td>\n",
       "      <td>32700.0</td>\n",
       "      <td>3</td>\n",
       "      <td>0</td>\n",
       "    </tr>\n",
       "    <tr>\n",
       "      <td>4999</td>\n",
       "      <td>1</td>\n",
       "      <td>28.0</td>\n",
       "      <td>40600.0</td>\n",
       "      <td>1</td>\n",
       "      <td>0</td>\n",
       "    </tr>\n",
       "  </tbody>\n",
       "</table>\n",
       "</div>"
      ],
      "text/plain": [
       "      sex   age   salary  family_members  insurance_payments\n",
       "4995    0  28.0  35700.0               2                   0\n",
       "4996    0  34.0  52400.0               1                   0\n",
       "4997    0  20.0  33900.0               2                   0\n",
       "4998    1  22.0  32700.0               3                   0\n",
       "4999    1  28.0  40600.0               1                   0"
      ]
     },
     "execution_count": 7,
     "metadata": {},
     "output_type": "execute_result"
    }
   ],
   "source": [
    "df.rename(columns={\n",
    "    'Пол': 'sex',\n",
    "    'Возраст': 'age',\n",
    "    'Зарплата': 'salary',\n",
    "    'Члены семьи': 'family_members',\n",
    "    'Страховые выплаты': 'insurance_payments',\n",
    "}, inplace=True)\n",
    "df.tail()"
   ]
  },
  {
   "cell_type": "code",
   "execution_count": 8,
   "metadata": {},
   "outputs": [
    {
     "data": {
      "text/plain": [
       "array([1, 0])"
      ]
     },
     "execution_count": 8,
     "metadata": {},
     "output_type": "execute_result"
    }
   ],
   "source": [
    "df.sex.unique()"
   ]
  },
  {
   "cell_type": "code",
   "execution_count": 9,
   "metadata": {},
   "outputs": [
    {
     "data": {
      "image/png": "[encoded data removed]",
      "text/plain": [
       "<Figure size 720x360 with 1 Axes>"
      ]
     },
     "metadata": {
      "needs_background": "light"
     },
     "output_type": "display_data"
    }
   ],
   "source": [
    "df.age.hist(figsize=(10, 5), bins=50)\n",
    "plt.title('Гистограмма распределения возраста')\n",
    "plt.show()"
   ]
  },
  {
   "cell_type": "code",
   "execution_count": 10,
   "metadata": {},
   "outputs": [
    {
     "data": {
      "image/png": "[encoded data removed]",
      "text/plain": [
       "<Figure size 720x360 with 1 Axes>"
      ]
     },
     "metadata": {
      "needs_background": "light"
     },
     "output_type": "display_data"
    }
   ],
   "source": [
    "df.salary.hist(figsize=(10, 5), bins=50)\n",
    "plt.title('Гистограмма распределения зарплаты')\n",
    "plt.show()"
   ]
  },
  {
   "cell_type": "code",
   "execution_count": 11,
   "metadata": {},
   "outputs": [
    {
     "data": {
      "text/plain": [
       "1    1748\n",
       "0    1461\n",
       "2    1038\n",
       "3     437\n",
       "4     124\n",
       "5      32\n",
       "6       7\n",
       "Name: family_members, dtype: int64"
      ]
     },
     "execution_count": 11,
     "metadata": {},
     "output_type": "execute_result"
    }
   ],
   "source": [
    "df.family_members.value_counts()"
   ]
  },
  {
   "cell_type": "code",
   "execution_count": 12,
   "metadata": {
    "scrolled": true
   },
   "outputs": [
    {
     "data": {
      "text/plain": [
       "0    4284\n",
       "1     423\n",
       "2     114\n",
       "3      18\n",
       "4       7\n",
       "5       1\n",
       "Name: insurance_payments, dtype: int64"
      ]
     },
     "execution_count": 12,
     "metadata": {},
     "output_type": "execute_result"
    }
   ],
   "source": [
    "df.insurance_payments.value_counts()"
   ]
  },
  {
   "cell_type": "markdown",
   "metadata": {},
   "source": [
    "Преобразуем тип данных:"
   ]
  },
  {
   "cell_type": "code",
   "execution_count": 13,
   "metadata": {
    "scrolled": true
   },
   "outputs": [
    {
     "name": "stdout",
     "output_type": "stream",
     "text": [
      "Memory usage of properties dataframe is : 0.2218780517578125  MB\n",
      "******************************\n",
      "Column:  sex\n",
      "dtype before:  int64\n",
      "dtype after:  uint8\n",
      "******************************\n",
      "******************************\n",
      "Column:  age\n",
      "dtype before:  float64\n",
      "dtype after:  uint8\n",
      "******************************\n",
      "******************************\n",
      "Column:  salary\n",
      "dtype before:  float64\n",
      "dtype after:  float32\n",
      "******************************\n",
      "******************************\n",
      "Column:  family_members\n",
      "dtype before:  int64\n",
      "dtype after:  uint8\n",
      "******************************\n",
      "******************************\n",
      "Column:  insurance_payments\n",
      "dtype before:  int64\n",
      "dtype after:  uint8\n",
      "******************************\n",
      "___MEMORY USAGE AFTER COMPLETION:___\n",
      "Memory usage is:  0.0739593505859375  MB\n",
      "This is  33.333333333333336 % of the initial size\n"
     ]
    }
   ],
   "source": [
    "def reduce_mem_usage(props):\n",
    "    start_mem_usg = props.memory_usage().sum() / 1024**2 \n",
    "    print(\"Memory usage of properties dataframe is :\", start_mem_usg,\" MB\")\n",
    "    NAlist = [] # Keeps track of columns that have missing values filled in. \n",
    "    for col in props.columns:\n",
    "        if props[col].dtype != object:  # Exclude strings\n",
    "            \n",
    "            # Print current column type\n",
    "            print(\"******************************\")\n",
    "            print(\"Column: \",col)\n",
    "            print(\"dtype before: \",props[col].dtype)\n",
    "            \n",
    "            # make variables for Int, max and min\n",
    "            IsInt = False\n",
    "            mx = props[col].max()\n",
    "            mn = props[col].min()\n",
    "            \n",
    "            # Integer does not support NA, therefore, NA needs to be filled\n",
    "            if not np.isfinite(props[col]).all(): \n",
    "                NAlist.append(col)\n",
    "                props[col].fillna(mn-1,inplace=True)  \n",
    "                   \n",
    "            # test if column can be converted to an integer\n",
    "            asint = props[col].fillna(0).astype(np.int64)\n",
    "            try:\n",
    "                result = (props[col] - asint)\n",
    "                result = result.sum()\n",
    "                if result > -0.01 and result < 0.01:\n",
    "                    IsInt = True\n",
    "\n",
    "                # Make Integer/unsigned Integer datatypes\n",
    "                if IsInt:\n",
    "                    if mn >= 0:\n",
    "                        if mx < 255:\n",
    "                            props[col] = props[col].astype(np.uint8)\n",
    "                        elif mx < 65535:\n",
    "                            props[col] = props[col].astype(np.uint16)\n",
    "                        elif mx < 4294967295:\n",
    "                            props[col] = props[col].astype(np.uint32)\n",
    "                        else:\n",
    "                            props[col] = props[col].astype(np.uint64)\n",
    "                    else:\n",
    "                        if mn > np.iinfo(np.int8).min and mx < np.iinfo(np.int8).max:\n",
    "                            props[col] = props[col].astype(np.int8)\n",
    "                        elif mn > np.iinfo(np.int16).min and mx < np.iinfo(np.int16).max:\n",
    "                            props[col] = props[col].astype(np.int16)\n",
    "                        elif mn > np.iinfo(np.int32).min and mx < np.iinfo(np.int32).max:\n",
    "                            props[col] = props[col].astype(np.int32)\n",
    "                        elif mn > np.iinfo(np.int64).min and mx < np.iinfo(np.int64).max:\n",
    "                            props[col] = props[col].astype(np.int64)    \n",
    "\n",
    "                # Make float datatypes 32 bit\n",
    "                else:\n",
    "                    props[col] = props[col].astype(np.float32)\n",
    "\n",
    "                # Print new column type\n",
    "                print(\"dtype after: \",props[col].dtype)\n",
    "                print(\"******************************\")\n",
    "            except TypeError:\n",
    "                pass\n",
    "    \n",
    "    # Print final result\n",
    "    print(\"___MEMORY USAGE AFTER COMPLETION:___\")\n",
    "    mem_usg = props.memory_usage().sum() / 1024**2 \n",
    "    print(\"Memory usage is: \",mem_usg,\" MB\")\n",
    "    print(\"This is \",100*mem_usg/start_mem_usg,\"% of the initial size\")\n",
    "    return props, NAlist\n",
    "df, NAlist = reduce_mem_usage(df)"
   ]
  },
  {
   "cell_type": "code",
   "execution_count": 14,
   "metadata": {},
   "outputs": [
    {
     "name": "stdout",
     "output_type": "stream",
     "text": [
      "<class 'pandas.core.frame.DataFrame'>\n",
      "Int64Index: 4847 entries, 0 to 4999\n",
      "Data columns (total 5 columns):\n",
      "sex                   4847 non-null uint8\n",
      "age                   4847 non-null uint8\n",
      "salary                4847 non-null float32\n",
      "family_members        4847 non-null uint8\n",
      "insurance_payments    4847 non-null uint8\n",
      "dtypes: float32(1), uint8(4)\n",
      "memory usage: 75.7 KB\n"
     ]
    }
   ],
   "source": [
    "df.info()"
   ]
  },
  {
   "cell_type": "markdown",
   "metadata": {},
   "source": [
    "Для начала познакомились с данными:\n",
    "- У нас 5000 записей и 5 фичей\n",
    "- Нет пропущенных значений\n",
    "- Есть дубликаты - 153 строки - удалили\n",
    "- Переименовали столбцы в привычные нам\n",
    "- Посмотрели на распределение возраста и зарплаты\n",
    "- Оценили значения family_members и insurance_payments: все в пределах нормы\n",
    "- Преобразовали тип данных и сократили объем df в 3 раза"
   ]
  },
  {
   "cell_type": "markdown",
   "metadata": {},
   "source": [
    "## Умножение матриц"
   ]
  },
  {
   "cell_type": "markdown",
   "metadata": {},
   "source": [
    "Ответьте на вопрос и обоснуйте решение.\n",
    "### Признаки умножают на обратимую матрицу. Изменится ли качество линейной регрессии? (Её можно обучить заново.)"
   ]
  },
  {
   "cell_type": "markdown",
   "metadata": {},
   "source": [
    "Для начала как пример необходимо построить модель линейной регрессии, затем матрицу признаков обратить и построить вторую модель линейной регрессии с обратимыми признаками. Сделаем это"
   ]
  },
  {
   "cell_type": "code",
   "execution_count": 15,
   "metadata": {},
   "outputs": [],
   "source": [
    "features = df.drop('insurance_payments', axis=1)\n",
    "target = df['insurance_payments']"
   ]
  },
  {
   "cell_type": "code",
   "execution_count": 16,
   "metadata": {},
   "outputs": [
    {
     "name": "stdout",
     "output_type": "stream",
     "text": [
      "Оценочные коэффициенты для задачи линейной регрессии:\n",
      "[ 9.4588054e-03  3.6164001e-02 -1.3411045e-07 -1.4251745e-02]\n"
     ]
    }
   ],
   "source": [
    "lr_simple = LinearRegression()\n",
    "lr_simple.fit(features, target)\n",
    "print(f\"Оценочные коэффициенты для задачи линейной регрессии:\\n{lr_simple.coef_}\")"
   ]
  },
  {
   "cell_type": "markdown",
   "metadata": {},
   "source": [
    "Теперь обучим линейную регрессию без применения библиотеки sklearn"
   ]
  },
  {
   "cell_type": "markdown",
   "metadata": {},
   "source": [
    "Задачу обучения запишем в векторном виде. Обучающую выборку представим как матрицу X, в которой строки соответствуют объектам, а столбцы — признакам. В матрицу X добавим столбец, состоящий только из единиц (он идёт нулевым);"
   ]
  },
  {
   "cell_type": "code",
   "execution_count": 17,
   "metadata": {},
   "outputs": [],
   "source": [
    "X = np.concatenate((np.ones((features.shape[0], 1)), features), axis=1)\n",
    "y = target"
   ]
  },
  {
   "cell_type": "markdown",
   "metadata": {},
   "source": [
    "Параметры линейной регрессии обозначим w и w0. Чтобы получить вектор предсказаний a, умножим матрицу X на вектор w и прибавим величину сдвига w0. Добавим параметр w0 — к вектору w:"
   ]
  },
  {
   "cell_type": "markdown",
   "metadata": {},
   "source": [
    "Можно прочитать эту формулу так: обратная матрица произведения X транспонированного на Х, умноженное на Х транспонированное и умноженное на y. Выполним это:"
   ]
  },
  {
   "cell_type": "code",
   "execution_count": 18,
   "metadata": {},
   "outputs": [],
   "source": [
    "w = np.linalg.inv(X.T @ X) @ X.T @ y"
   ]
  },
  {
   "cell_type": "code",
   "execution_count": 19,
   "metadata": {},
   "outputs": [
    {
     "data": {
      "text/plain": [
       "array([ 9.46018141e-03,  3.61640081e-02, -1.38991363e-07, -1.42517371e-02])"
      ]
     },
     "execution_count": 19,
     "metadata": {},
     "output_type": "execute_result"
    }
   ],
   "source": [
    "w[1:]"
   ]
  },
  {
   "cell_type": "markdown",
   "metadata": {},
   "source": [
    "Коэффициенты получились аналогичные"
   ]
  },
  {
   "cell_type": "markdown",
   "metadata": {},
   "source": [
    "## Алгоритм преобразования"
   ]
  },
  {
   "cell_type": "markdown",
   "metadata": {},
   "source": [
    "###  Предложите алгоритм преобразования данных для решения задачи. Обоснуйте, почему качество линейной регрессии не поменяется."
   ]
  },
  {
   "cell_type": "markdown",
   "metadata": {},
   "source": [
    "В предыдущем пункте мы использовали подстановочную матрицу Z = XP, где X - матрица признаков, а P - обратимая матрица. Доказали что, наши предсказания a1, которые мы получали от матрицы Z равны предсказаниям a от матрицы X, из чего следует, что мы можем использовать произвольную обратимую матрицу для преобразования данных, при этом результат предсказания будет идентичен, а данные будут хаотичные."
   ]
  },
  {
   "cell_type": "markdown",
   "metadata": {},
   "source": [
    "Алгоритм действий:\n",
    "<ol>\n",
    "<li>Составляем матрицу Y</li>\n",
    "<li>Проверяем матрицу Y на обратимость с помощью <b>numpy.linalg.inv()</b>, если матрица необратима, то будет обнаружена ошибка</li>\n",
    "<li>Получаем матрицу преобразованных признаков Z</li>\n",
    "<li>Тренируем алгоритм линейной регрессии на новых данных, результат для данных Z и X будет совпадать</li>\n",
    "</ol>"
   ]
  },
  {
   "cell_type": "markdown",
   "metadata": {},
   "source": [
    "## Проверка алгоритма"
   ]
  },
  {
   "cell_type": "markdown",
   "metadata": {},
   "source": [
    "### Запрограммируйте этот алгоритм, применив матричные операции. Проверьте, что качество линейной регрессии из sklearn не отличается до и после преобразования. Примените метрику R2."
   ]
  },
  {
   "cell_type": "code",
   "execution_count": 20,
   "metadata": {},
   "outputs": [],
   "source": [
    "X_train, X_test, y_train, y_test = train_test_split(features, target, test_size=0.3, random_state=RANDOM_STATE)"
   ]
  },
  {
   "cell_type": "code",
   "execution_count": 21,
   "metadata": {},
   "outputs": [
    {
     "name": "stdout",
     "output_type": "stream",
     "text": [
      "coef: [ 1.8237164e-02  3.7026826e-02 -4.2468309e-07 -1.0950450e-02]\n",
      "R2 = 0.40873828978154736\n"
     ]
    }
   ],
   "source": [
    "lr = LinearRegression()\n",
    "lr.fit(X_train, y_train)\n",
    "y_pred = lr.predict(X_test)\n",
    "r2_lr = r2_score(y_test, y_pred)\n",
    "print(f\"coef: {lr.coef_}\")\n",
    "print(f\"R2 = {r2_lr}\")"
   ]
  },
  {
   "cell_type": "markdown",
   "metadata": {},
   "source": [
    "Отмасштабируем признаки с помощью StandardScaler:"
   ]
  },
  {
   "cell_type": "code",
   "execution_count": 22,
   "metadata": {},
   "outputs": [
    {
     "name": "stdout",
     "output_type": "stream",
     "text": [
      "coef: [ 0.00911554  0.31786273 -0.00418023 -0.01195525]\n",
      "R2 = 0.4087414031998282\n"
     ]
    }
   ],
   "source": [
    "scaller = StandardScaler()\n",
    "X_train_sс = scaller.fit_transform(X_train)\n",
    "X_test_sс = scaller.transform(X_test)\n",
    "lr_sk = LinearRegression()\n",
    "lr_sk.fit(X_train_sс, y_train)\n",
    "y_pred = lr_sk.predict(X_test_sс)\n",
    "r2_lr_sk = r2_score(y_test, y_pred)\n",
    "print(f\"coef: {lr_sk.coef_}\")\n",
    "print(f\"R2 = {r2_lr_sk}\")"
   ]
  },
  {
   "cell_type": "markdown",
   "metadata": {},
   "source": [
    "Видно что качество модели по метрике R2 не изменилось, а веса немного занулились.\n"
   ]
  },
  {
   "cell_type": "markdown",
   "metadata": {},
   "source": [
    "Теперь реализуем и применим алгоритм, описанный в п.3:"
   ]
  },
  {
   "cell_type": "code",
   "execution_count": 23,
   "metadata": {},
   "outputs": [],
   "source": [
    "def generate_new_features(old_features):\n",
    "    # получаем количество фичей\n",
    "    n = old_features.shape[1]\n",
    "    # для воспроизводимости случайных величин\n",
    "    np.random.seed(RANDOM_STATE)\n",
    "    # здесь можно было бы сделать проверку, но честно говоря у меня не было пока ошибки необратимости матрицы, \n",
    "    # и согласно лекциям урока эта вероятность стремится к нулю\n",
    "    Y = np.random.rand(n, n)\n",
    "    np.linalg.inv(Y)\n",
    "    Z = old_features @ Y\n",
    "    return Z, Y"
   ]
  },
  {
   "cell_type": "markdown",
   "metadata": {},
   "source": [
    "Посмотрим что у нас получилось. Преобразуем нашу изначальную матрицу фичей:"
   ]
  },
  {
   "cell_type": "code",
   "execution_count": 28,
   "metadata": {},
   "outputs": [
    {
     "name": "stdout",
     "output_type": "stream",
     "text": [
      "Изначальная матрица:\n",
      "                 0             1             2             3\n",
      "0     61631.235558  37806.527084  53682.164458  69174.892718\n",
      "1     47240.492492  28986.139349  41147.014840  53024.965187\n",
      "2     26111.794409  16023.478109  22743.646228  29309.712517\n",
      "3     51793.114143  31764.177346  45113.262576  58130.134228\n",
      "4     32441.512877  19904.214977  28257.111460  36413.538025\n",
      "...            ...           ...           ...           ...\n",
      "4995  44357.571696  27209.596981  38636.300029  49786.501456\n",
      "4996  65093.635485  39924.529322  56698.389087  73059.283644\n",
      "4997  42110.409933  25827.658143  36679.188819  47263.212036\n",
      "4998  40626.860906  24920.636418  35386.640770  45598.817964\n",
      "4999  50439.533059  30938.441573  43934.094154  56612.444519\n",
      "\n",
      "[4847 rows x 4 columns]\n",
      "Матрица для шифрования:\n",
      "[[0.77770241 0.23754122 0.82427853 0.9657492 ]\n",
      " [0.97260111 0.45344925 0.60904246 0.77552651]\n",
      " [0.64161334 0.72201823 0.03503652 0.29844947]\n",
      " [0.05851249 0.85706094 0.37285403 0.67984795]]\n"
     ]
    }
   ],
   "source": [
    "features, y = generate_new_features(features)\n",
    "print(f\"Изначальная матрица:\\n{features}\")\n",
    "print(f\"Матрица для шифрования:\\n{y}\")\n",
    "print(f\"Финальная матрица:\\n{z}\")"
   ]
  },
  {
   "cell_type": "markdown",
   "metadata": {},
   "source": [
    "Как мы видим матрица изменилась до неузнаваемости"
   ]
  },
  {
   "cell_type": "markdown",
   "metadata": {},
   "source": [
    "Снова разделим матрицу и построим модели:"
   ]
  },
  {
   "cell_type": "code",
   "execution_count": 25,
   "metadata": {},
   "outputs": [],
   "source": [
    "X_train, X_test, y_train, y_test = train_test_split(features, target, test_size=0.3, random_state=RANDOM_STATE)"
   ]
  },
  {
   "cell_type": "code",
   "execution_count": 26,
   "metadata": {},
   "outputs": [
    {
     "name": "stdout",
     "output_type": "stream",
     "text": [
      "coef: [ 0.03400849  0.14250156  0.50848102 -0.47755103]\n",
      "R2 = 0.40874140320197605\n"
     ]
    }
   ],
   "source": [
    "lr = LinearRegression()\n",
    "lr.fit(X_train, y_train)\n",
    "y_pred = lr.predict(X_test)\n",
    "r2_lr = r2_score(y_test, y_pred)\n",
    "print(f\"coef: {lr.coef_}\")\n",
    "print(f\"R2 = {r2_lr}\")"
   ]
  },
  {
   "cell_type": "code",
   "execution_count": 27,
   "metadata": {
    "scrolled": true
   },
   "outputs": [
    {
     "name": "stdout",
     "output_type": "stream",
     "text": [
      "coef: [  216.30257188  1019.94097336   176.55902239 -1412.79754142]\n",
      "R2 = 0.4087414031998453\n"
     ]
    }
   ],
   "source": [
    "scaller = StandardScaler()\n",
    "X_train_sс = scaller.fit_transform(X_train)\n",
    "X_test_sс = scaller.transform(X_test)\n",
    "lr_sk = LinearRegression()\n",
    "lr_sk.fit(X_train_sс, y_train)\n",
    "y_pred = lr_sk.predict(X_test_sс)\n",
    "r2_lr_sk = r2_score(y_test, y_pred)\n",
    "print(f\"coef: {lr_sk.coef_}\")\n",
    "print(f\"R2 = {r2_lr_sk}\")"
   ]
  },
  {
   "cell_type": "markdown",
   "metadata": {},
   "source": [
    "Видим, что R2 не меняется(во всех случаях 0.4), а значит качество предсказаний остается неизменным. Меняются только веса в зависимости от значений фичей матрицы."
   ]
  },
  {
   "cell_type": "markdown",
   "metadata": {
    "pycharm": {
     "name": "#%% md\n"
    }
   },
   "source": [
    "По итогу теоретически и практически доказали, что если матрицу изменить путем умножения на обратимую матрицу, то  качество предсказаний лин регрессии не меняется, меняются только веса."
   ]
  }
 ],
 "metadata": {
  "ExecuteTimeLog": [
   {
    "duration": 685,
    "start_time": "2022-02-12T19:53:40.275Z"
   },
   {
    "duration": 33,
    "start_time": "2022-02-12T19:54:09.439Z"
   },
   {
    "duration": 7,
    "start_time": "2022-02-12T19:54:34.751Z"
   },
   {
    "duration": 326,
    "start_time": "2022-02-12T19:54:52.580Z"
   },
   {
    "duration": 438,
    "start_time": "2022-02-12T19:54:56.782Z"
   },
   {
    "duration": 90,
    "start_time": "2022-02-12T19:55:26.091Z"
   },
   {
    "duration": 78,
    "start_time": "2022-02-12T19:55:31.132Z"
   },
   {
    "duration": 78,
    "start_time": "2022-02-12T19:55:36.524Z"
   },
   {
    "duration": 84,
    "start_time": "2022-02-12T19:55:43.784Z"
   },
   {
    "duration": 3,
    "start_time": "2022-02-12T19:56:07.177Z"
   },
   {
    "duration": 269,
    "start_time": "2022-02-12T19:56:13.777Z"
   },
   {
    "duration": 297,
    "start_time": "2022-02-12T19:56:36.321Z"
   },
   {
    "duration": 572,
    "start_time": "2022-02-12T19:57:15.761Z"
   },
   {
    "duration": 345,
    "start_time": "2022-02-12T19:57:20.734Z"
   },
   {
    "duration": 459,
    "start_time": "2022-02-12T19:57:29.197Z"
   },
   {
    "duration": 601,
    "start_time": "2022-02-12T19:57:36.966Z"
   },
   {
    "duration": 502,
    "start_time": "2022-02-12T19:57:45.562Z"
   },
   {
    "duration": 544,
    "start_time": "2022-02-12T19:57:48.972Z"
   },
   {
    "duration": 451,
    "start_time": "2022-02-12T19:57:51.671Z"
   },
   {
    "duration": 251,
    "start_time": "2022-02-12T20:00:42.499Z"
   },
   {
    "duration": 5,
    "start_time": "2022-02-12T20:01:22.086Z"
   },
   {
    "duration": 16,
    "start_time": "2022-02-12T20:01:31.376Z"
   },
   {
    "duration": 6,
    "start_time": "2022-02-12T20:01:40.268Z"
   },
   {
    "duration": 572,
    "start_time": "2022-02-12T20:01:44.111Z"
   },
   {
    "duration": 492,
    "start_time": "2022-02-12T20:02:05.020Z"
   },
   {
    "duration": 6,
    "start_time": "2022-02-12T20:02:37.323Z"
   },
   {
    "duration": 9,
    "start_time": "2022-02-12T20:02:48.906Z"
   },
   {
    "duration": 6,
    "start_time": "2022-02-12T20:03:12.207Z"
   },
   {
    "duration": 11,
    "start_time": "2022-02-12T20:03:19.853Z"
   },
   {
    "duration": 250,
    "start_time": "2022-02-12T20:03:37.757Z"
   },
   {
    "duration": 5,
    "start_time": "2022-02-12T20:03:40.373Z"
   },
   {
    "duration": 9,
    "start_time": "2022-02-12T20:04:48.977Z"
   },
   {
    "duration": 255,
    "start_time": "2022-02-12T20:05:24.744Z"
   },
   {
    "duration": 8,
    "start_time": "2022-02-12T20:05:27.395Z"
   },
   {
    "duration": 10,
    "start_time": "2022-02-12T20:05:34.341Z"
   },
   {
    "duration": 8,
    "start_time": "2022-02-12T20:05:40.333Z"
   },
   {
    "duration": 520,
    "start_time": "2022-02-12T20:19:57.231Z"
   },
   {
    "duration": 592,
    "start_time": "2022-02-12T20:20:42.225Z"
   },
   {
    "duration": 110,
    "start_time": "2022-02-12T20:22:32.875Z"
   },
   {
    "duration": 2122,
    "start_time": "2022-02-12T20:22:36.758Z"
   },
   {
    "duration": 1439,
    "start_time": "2022-02-12T20:22:50.017Z"
   },
   {
    "duration": 1559,
    "start_time": "2022-02-12T20:23:28.429Z"
   },
   {
    "duration": 1476,
    "start_time": "2022-02-12T20:23:35.611Z"
   },
   {
    "duration": 1650,
    "start_time": "2022-02-12T20:23:53.127Z"
   },
   {
    "duration": 1397,
    "start_time": "2022-02-12T20:24:12.101Z"
   },
   {
    "duration": 403,
    "start_time": "2022-02-12T20:25:20.271Z"
   },
   {
    "duration": 427,
    "start_time": "2022-02-12T20:25:27.550Z"
   },
   {
    "duration": 487,
    "start_time": "2022-02-12T20:25:33.558Z"
   },
   {
    "duration": 498,
    "start_time": "2022-02-12T20:25:36.183Z"
   },
   {
    "duration": 12,
    "start_time": "2022-02-12T20:26:10.000Z"
   },
   {
    "duration": 14,
    "start_time": "2022-02-12T20:26:11.862Z"
   },
   {
    "duration": 7,
    "start_time": "2022-02-12T20:26:14.710Z"
   },
   {
    "duration": 476,
    "start_time": "2022-02-12T20:26:15.549Z"
   },
   {
    "duration": 493,
    "start_time": "2022-02-12T20:26:19.172Z"
   },
   {
    "duration": 8,
    "start_time": "2022-02-12T20:26:25.768Z"
   },
   {
    "duration": 8,
    "start_time": "2022-02-12T20:26:27.524Z"
   },
   {
    "duration": 50,
    "start_time": "2022-02-12T21:00:44.122Z"
   },
   {
    "duration": 10,
    "start_time": "2022-02-12T21:01:01.830Z"
   },
   {
    "duration": 6,
    "start_time": "2022-02-13T16:30:08.220Z"
   },
   {
    "duration": 441,
    "start_time": "2022-02-13T16:31:40.555Z"
   },
   {
    "duration": 764,
    "start_time": "2022-02-13T16:31:44.823Z"
   },
   {
    "duration": 162,
    "start_time": "2022-02-13T16:31:45.590Z"
   },
   {
    "duration": 634,
    "start_time": "2022-02-13T16:31:45.755Z"
   },
   {
    "duration": 840,
    "start_time": "2022-02-13T16:31:46.392Z"
   },
   {
    "duration": 990,
    "start_time": "2022-02-13T16:31:47.235Z"
   },
   {
    "duration": 1009,
    "start_time": "2022-02-13T16:31:48.227Z"
   },
   {
    "duration": 536,
    "start_time": "2022-02-13T16:31:49.238Z"
   },
   {
    "duration": 348,
    "start_time": "2022-02-13T16:31:49.779Z"
   },
   {
    "duration": 1182,
    "start_time": "2022-02-13T16:31:50.130Z"
   },
   {
    "duration": 767,
    "start_time": "2022-02-13T16:31:51.315Z"
   },
   {
    "duration": 349,
    "start_time": "2022-02-13T16:31:52.085Z"
   },
   {
    "duration": 969,
    "start_time": "2022-02-13T16:31:52.436Z"
   },
   {
    "duration": 890,
    "start_time": "2022-02-13T16:31:53.408Z"
   },
   {
    "duration": 1072,
    "start_time": "2022-02-13T16:31:54.301Z"
   },
   {
    "duration": 834,
    "start_time": "2022-02-13T16:31:55.375Z"
   },
   {
    "duration": 4,
    "start_time": "2022-02-13T16:32:03.452Z"
   },
   {
    "duration": 503,
    "start_time": "2022-02-13T16:32:03.744Z"
   },
   {
    "duration": 654,
    "start_time": "2022-02-13T16:33:24.906Z"
   },
   {
    "duration": 10,
    "start_time": "2022-02-13T16:33:29.702Z"
   },
   {
    "duration": 9,
    "start_time": "2022-02-13T16:35:25.621Z"
   },
   {
    "duration": 8,
    "start_time": "2022-02-13T16:35:31.254Z"
   },
   {
    "duration": 299,
    "start_time": "2022-02-13T16:37:16.954Z"
   },
   {
    "duration": 297,
    "start_time": "2022-02-13T16:37:22.975Z"
   },
   {
    "duration": 9,
    "start_time": "2022-02-13T16:37:30.857Z"
   },
   {
    "duration": 6,
    "start_time": "2022-02-13T16:37:39.939Z"
   },
   {
    "duration": 37,
    "start_time": "2022-02-13T16:37:40.265Z"
   },
   {
    "duration": 12,
    "start_time": "2022-02-13T16:37:41.260Z"
   },
   {
    "duration": 6,
    "start_time": "2022-02-13T16:37:54.571Z"
   },
   {
    "duration": 80,
    "start_time": "2022-02-13T16:38:04.356Z"
   },
   {
    "duration": 7,
    "start_time": "2022-02-13T16:38:07.694Z"
   },
   {
    "duration": 79,
    "start_time": "2022-02-13T16:38:16.228Z"
   },
   {
    "duration": 13,
    "start_time": "2022-02-13T16:38:19.635Z"
   },
   {
    "duration": 7,
    "start_time": "2022-02-13T16:38:31.684Z"
   },
   {
    "duration": 5,
    "start_time": "2022-02-13T16:40:10.985Z"
   },
   {
    "duration": 3,
    "start_time": "2022-02-13T16:40:20.497Z"
   },
   {
    "duration": 5,
    "start_time": "2022-02-13T16:42:05.144Z"
   },
   {
    "duration": 5,
    "start_time": "2022-02-13T16:42:20.861Z"
   },
   {
    "duration": 5,
    "start_time": "2022-02-13T16:42:49.476Z"
   },
   {
    "duration": 5,
    "start_time": "2022-02-13T16:42:49.945Z"
   },
   {
    "duration": 6,
    "start_time": "2022-02-13T16:42:50.823Z"
   },
   {
    "duration": 77,
    "start_time": "2022-02-13T16:45:44.285Z"
   },
   {
    "duration": 5,
    "start_time": "2022-02-13T16:45:57.531Z"
   },
   {
    "duration": 479,
    "start_time": "2022-02-13T16:45:57.746Z"
   },
   {
    "duration": 8,
    "start_time": "2022-02-13T18:35:16.667Z"
   },
   {
    "duration": 229,
    "start_time": "2022-02-13T18:38:52.633Z"
   },
   {
    "duration": 267,
    "start_time": "2022-02-13T18:39:03.988Z"
   },
   {
    "duration": 259,
    "start_time": "2022-02-13T18:39:21.780Z"
   },
   {
    "duration": 12,
    "start_time": "2022-02-13T18:39:30.316Z"
   },
   {
    "duration": 15,
    "start_time": "2022-02-13T18:43:01.553Z"
   },
   {
    "duration": 17,
    "start_time": "2022-02-13T18:43:53.871Z"
   },
   {
    "duration": 13,
    "start_time": "2022-02-13T18:44:32.873Z"
   },
   {
    "duration": 15,
    "start_time": "2022-02-13T18:47:39.265Z"
   },
   {
    "duration": 265,
    "start_time": "2022-02-13T18:50:47.776Z"
   },
   {
    "duration": 4,
    "start_time": "2022-02-13T18:51:14.230Z"
   },
   {
    "duration": 13,
    "start_time": "2022-02-13T18:51:32.050Z"
   },
   {
    "duration": 5,
    "start_time": "2022-02-13T18:56:53.820Z"
   },
   {
    "duration": 546,
    "start_time": "2022-02-13T19:02:54.387Z"
   },
   {
    "duration": 5,
    "start_time": "2022-02-13T19:03:17.967Z"
   },
   {
    "duration": 33,
    "start_time": "2022-02-13T19:03:19.699Z"
   },
   {
    "duration": 5,
    "start_time": "2022-02-13T19:06:22.777Z"
   },
   {
    "duration": 18,
    "start_time": "2022-02-13T19:11:50.877Z"
   },
   {
    "duration": 303,
    "start_time": "2022-02-13T19:18:33.320Z"
   },
   {
    "duration": 23,
    "start_time": "2022-02-13T19:18:39.945Z"
   },
   {
    "duration": 73,
    "start_time": "2022-02-13T19:19:21.712Z"
   },
   {
    "duration": 7,
    "start_time": "2022-02-13T19:19:40.335Z"
   },
   {
    "duration": 17,
    "start_time": "2022-02-13T19:20:28.545Z"
   },
   {
    "duration": 8,
    "start_time": "2022-02-13T19:20:31.308Z"
   },
   {
    "duration": 11,
    "start_time": "2022-02-13T19:20:44.171Z"
   },
   {
    "duration": 13,
    "start_time": "2022-02-13T19:21:03.320Z"
   },
   {
    "duration": 4,
    "start_time": "2022-02-13T19:24:17.948Z"
   },
   {
    "duration": 32,
    "start_time": "2022-02-13T19:24:17.954Z"
   },
   {
    "duration": 6,
    "start_time": "2022-02-13T19:24:17.988Z"
   },
   {
    "duration": 14,
    "start_time": "2022-02-13T19:24:17.997Z"
   },
   {
    "duration": 8,
    "start_time": "2022-02-13T19:24:18.031Z"
   },
   {
    "duration": 13,
    "start_time": "2022-02-13T19:24:18.041Z"
   },
   {
    "duration": 14,
    "start_time": "2022-02-13T19:24:18.056Z"
   },
   {
    "duration": 7,
    "start_time": "2022-02-13T19:24:18.075Z"
   },
   {
    "duration": 498,
    "start_time": "2022-02-13T19:24:18.086Z"
   },
   {
    "duration": 473,
    "start_time": "2022-02-13T19:24:18.587Z"
   },
   {
    "duration": 9,
    "start_time": "2022-02-13T19:24:19.062Z"
   },
   {
    "duration": 16,
    "start_time": "2022-02-13T19:24:19.074Z"
   },
   {
    "duration": 175,
    "start_time": "2022-02-13T19:24:19.092Z"
   },
   {
    "duration": 9,
    "start_time": "2022-02-13T19:24:19.269Z"
   },
   {
    "duration": 8,
    "start_time": "2022-02-13T19:24:19.280Z"
   },
   {
    "duration": 7,
    "start_time": "2022-02-13T19:24:19.290Z"
   },
   {
    "duration": 36,
    "start_time": "2022-02-13T19:24:19.299Z"
   },
   {
    "duration": 4,
    "start_time": "2022-02-13T19:24:19.338Z"
   },
   {
    "duration": 9,
    "start_time": "2022-02-13T19:24:19.344Z"
   },
   {
    "duration": 85,
    "start_time": "2022-02-13T19:24:19.359Z"
   },
   {
    "duration": 97,
    "start_time": "2022-02-13T19:24:19.448Z"
   },
   {
    "duration": 13,
    "start_time": "2022-02-13T19:24:19.547Z"
   },
   {
    "duration": 13,
    "start_time": "2022-02-13T19:24:19.565Z"
   },
   {
    "duration": 8,
    "start_time": "2022-02-13T19:24:19.581Z"
   },
   {
    "duration": 53,
    "start_time": "2022-02-13T19:24:19.591Z"
   },
   {
    "duration": 88,
    "start_time": "2022-02-13T19:24:19.649Z"
   },
   {
    "duration": 13,
    "start_time": "2022-02-13T19:24:19.740Z"
   },
   {
    "duration": 13,
    "start_time": "2022-02-13T19:24:19.755Z"
   },
   {
    "duration": 5,
    "start_time": "2022-02-13T19:25:28.607Z"
   },
   {
    "duration": 5,
    "start_time": "2022-02-13T19:25:31.268Z"
   },
   {
    "duration": 28,
    "start_time": "2022-02-13T19:25:31.276Z"
   },
   {
    "duration": 5,
    "start_time": "2022-02-13T19:25:31.307Z"
   },
   {
    "duration": 13,
    "start_time": "2022-02-13T19:25:31.315Z"
   },
   {
    "duration": 7,
    "start_time": "2022-02-13T19:25:31.332Z"
   },
   {
    "duration": 11,
    "start_time": "2022-02-13T19:25:31.342Z"
   },
   {
    "duration": 15,
    "start_time": "2022-02-13T19:25:31.355Z"
   },
   {
    "duration": 10,
    "start_time": "2022-02-13T19:25:31.374Z"
   },
   {
    "duration": 499,
    "start_time": "2022-02-13T19:25:31.387Z"
   },
   {
    "duration": 489,
    "start_time": "2022-02-13T19:25:31.888Z"
   },
   {
    "duration": 8,
    "start_time": "2022-02-13T19:25:32.379Z"
   },
   {
    "duration": 10,
    "start_time": "2022-02-13T19:25:32.389Z"
   },
   {
    "duration": 64,
    "start_time": "2022-02-13T19:25:32.402Z"
   },
   {
    "duration": 8,
    "start_time": "2022-02-13T19:25:32.468Z"
   },
   {
    "duration": 21,
    "start_time": "2022-02-13T19:25:32.478Z"
   },
   {
    "duration": 32,
    "start_time": "2022-02-13T19:25:32.502Z"
   },
   {
    "duration": 8,
    "start_time": "2022-02-13T19:25:32.537Z"
   },
   {
    "duration": 7,
    "start_time": "2022-02-13T19:25:32.548Z"
   },
   {
    "duration": 77,
    "start_time": "2022-02-13T19:25:32.557Z"
   },
   {
    "duration": 8,
    "start_time": "2022-02-13T19:25:32.636Z"
   },
   {
    "duration": 91,
    "start_time": "2022-02-13T19:25:32.647Z"
   },
   {
    "duration": 13,
    "start_time": "2022-02-13T19:25:32.741Z"
   },
   {
    "duration": 5,
    "start_time": "2022-02-13T19:25:32.758Z"
   },
   {
    "duration": 79,
    "start_time": "2022-02-13T19:25:32.766Z"
   },
   {
    "duration": 88,
    "start_time": "2022-02-13T19:25:32.848Z"
   },
   {
    "duration": 18,
    "start_time": "2022-02-13T19:25:32.939Z"
   },
   {
    "duration": 13,
    "start_time": "2022-02-13T19:25:32.960Z"
   },
   {
    "duration": 1093,
    "start_time": "2022-02-13T20:02:34.979Z"
   },
   {
    "duration": 51,
    "start_time": "2022-02-13T20:02:38.649Z"
   },
   {
    "duration": 4,
    "start_time": "2022-02-13T20:02:39.286Z"
   },
   {
    "duration": 7,
    "start_time": "2022-02-13T20:02:40.601Z"
   },
   {
    "duration": 7,
    "start_time": "2022-02-13T20:02:40.929Z"
   },
   {
    "duration": 9,
    "start_time": "2022-02-13T20:02:41.120Z"
   },
   {
    "duration": 10,
    "start_time": "2022-02-13T20:02:41.484Z"
   },
   {
    "duration": 5,
    "start_time": "2022-02-13T20:02:43.035Z"
   },
   {
    "duration": 268,
    "start_time": "2022-02-13T20:02:43.735Z"
   },
   {
    "duration": 267,
    "start_time": "2022-02-13T20:02:44.643Z"
   },
   {
    "duration": 6,
    "start_time": "2022-02-13T20:02:45.160Z"
   },
   {
    "duration": 6,
    "start_time": "2022-02-13T20:02:45.358Z"
   },
   {
    "duration": 28,
    "start_time": "2022-02-13T20:02:46.389Z"
   },
   {
    "duration": 6,
    "start_time": "2022-02-13T20:02:47.265Z"
   },
   {
    "duration": 4,
    "start_time": "2022-02-13T20:09:34.311Z"
   },
   {
    "duration": 28,
    "start_time": "2022-02-13T20:09:35.007Z"
   },
   {
    "duration": 4,
    "start_time": "2022-02-13T20:09:36.733Z"
   },
   {
    "duration": 4,
    "start_time": "2022-02-13T20:09:39.513Z"
   },
   {
    "duration": 5,
    "start_time": "2022-02-13T20:09:39.687Z"
   },
   {
    "duration": 5,
    "start_time": "2022-02-13T20:09:54.591Z"
   },
   {
    "duration": 8,
    "start_time": "2022-02-13T20:09:55.184Z"
   },
   {
    "duration": 9,
    "start_time": "2022-02-13T20:09:55.715Z"
   },
   {
    "duration": 3,
    "start_time": "2022-02-13T20:09:56.546Z"
   },
   {
    "duration": 359,
    "start_time": "2022-02-13T20:09:57.076Z"
   },
   {
    "duration": 6,
    "start_time": "2022-02-13T20:09:57.581Z"
   },
   {
    "duration": 7,
    "start_time": "2022-02-13T20:09:57.717Z"
   },
   {
    "duration": 9,
    "start_time": "2022-02-13T20:09:57.892Z"
   },
   {
    "duration": 9,
    "start_time": "2022-02-13T20:17:00.060Z"
   },
   {
    "duration": 86,
    "start_time": "2022-02-14T08:22:59.145Z"
   }
  ],
  "kernelspec": {
   "display_name": "Python 3 (ipykernel)",
   "language": "python",
   "name": "python3"
  },
  "language_info": {
   "codemirror_mode": {
    "name": "ipython",
    "version": 3
   },
   "file_extension": ".py",
   "mimetype": "text/x-python",
   "name": "python",
   "nbconvert_exporter": "python",
   "pygments_lexer": "ipython3",
   "version": "3.9.7"
  },
  "toc": {
   "base_numbering": 1,
   "nav_menu": {},
   "number_sections": true,
   "sideBar": true,
   "skip_h1_title": true,
   "title_cell": "Содержание",
   "title_sidebar": "Contents",
   "toc_cell": true,
   "toc_position": {
    "height": "calc(100% - 180px)",
    "left": "10px",
    "top": "150px",
    "width": "165px"
   },
   "toc_section_display": true,
   "toc_window_display": true
  }
 },
 "nbformat": 4,
 "nbformat_minor": 2
}