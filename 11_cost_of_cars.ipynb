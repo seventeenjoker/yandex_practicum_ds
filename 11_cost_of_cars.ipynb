{
 "cells": [
  {
   "cell_type": "markdown",
   "metadata": {},
   "source": [
    "# Определение стоимости автомобилей"
   ]
  },
  {
   "cell_type": "markdown",
   "metadata": {},
   "source": [
    "Сервис по продаже автомобилей с пробегом «Не бит, не крашен» разрабатывает приложение для привлечения новых клиентов. В нём можно быстро узнать рыночную стоимость своего автомобиля. В вашем распоряжении исторические данные: технические характеристики, комплектации и цены автомобилей. Вам нужно построить модель для определения стоимости. \n",
    "\n",
    "Заказчику важны:\n",
    "\n",
    "- качество предсказания;\n",
    "- скорость предсказания;\n",
    "- время обучения."
   ]
  },
  {
   "cell_type": "code",
   "execution_count": 170,
   "metadata": {},
   "outputs": [],
   "source": [
    "import pandas as pd\n",
    "import numpy as np\n",
    "import matplotlib.pyplot as plt\n",
    "import warnings\n",
    "\n",
    "from catboost import CatBoostRegressor\n",
    "from lightgbm import LGBMRegressor\n",
    "\n",
    "from pandas.core.common import SettingWithCopyWarning\n",
    "from sklearn.metrics import mean_squared_error\n",
    "from sklearn.ensemble import RandomForestRegressor\n",
    "from sklearn.model_selection import train_test_split\n",
    "warnings.simplefilter(action=\"ignore\", category=SettingWithCopyWarning)\n",
    "import missingno as msno\n",
    "%matplotlib inline"
   ]
  },
  {
   "cell_type": "markdown",
   "metadata": {},
   "source": [
    "## Подготовка данных"
   ]
  },
  {
   "cell_type": "code",
   "execution_count": 171,
   "metadata": {},
   "outputs": [],
   "source": [
    "df = pd.read_csv('autos.csv')"
   ]
  },
  {
   "cell_type": "code",
   "execution_count": 172,
   "metadata": {},
   "outputs": [
    {
     "data": {
      "text/html": [
       "<div>\n",
       "<style scoped>\n",
       "    .dataframe tbody tr th:only-of-type {\n",
       "        vertical-align: middle;\n",
       "    }\n",
       "\n",
       "    .dataframe tbody tr th {\n",
       "        vertical-align: top;\n",
       "    }\n",
       "\n",
       "    .dataframe thead th {\n",
       "        text-align: right;\n",
       "    }\n",
       "</style>\n",
       "<table border=\"1\" class=\"dataframe\">\n",
       "  <thead>\n",
       "    <tr style=\"text-align: right;\">\n",
       "      <th></th>\n",
       "      <th>DateCrawled</th>\n",
       "      <th>Price</th>\n",
       "      <th>VehicleType</th>\n",
       "      <th>RegistrationYear</th>\n",
       "      <th>Gearbox</th>\n",
       "      <th>Power</th>\n",
       "      <th>Model</th>\n",
       "      <th>Kilometer</th>\n",
       "      <th>RegistrationMonth</th>\n",
       "      <th>FuelType</th>\n",
       "      <th>Brand</th>\n",
       "      <th>NotRepaired</th>\n",
       "      <th>DateCreated</th>\n",
       "      <th>NumberOfPictures</th>\n",
       "      <th>PostalCode</th>\n",
       "      <th>LastSeen</th>\n",
       "    </tr>\n",
       "  </thead>\n",
       "  <tbody>\n",
       "    <tr>\n",
       "      <th>0</th>\n",
       "      <td>2016-03-24 11:52:17</td>\n",
       "      <td>480</td>\n",
       "      <td>NaN</td>\n",
       "      <td>1993</td>\n",
       "      <td>manual</td>\n",
       "      <td>0</td>\n",
       "      <td>golf</td>\n",
       "      <td>150000</td>\n",
       "      <td>0</td>\n",
       "      <td>petrol</td>\n",
       "      <td>volkswagen</td>\n",
       "      <td>NaN</td>\n",
       "      <td>2016-03-24 00:00:00</td>\n",
       "      <td>0</td>\n",
       "      <td>70435</td>\n",
       "      <td>2016-04-07 03:16:57</td>\n",
       "    </tr>\n",
       "    <tr>\n",
       "      <th>1</th>\n",
       "      <td>2016-03-24 10:58:45</td>\n",
       "      <td>18300</td>\n",
       "      <td>coupe</td>\n",
       "      <td>2011</td>\n",
       "      <td>manual</td>\n",
       "      <td>190</td>\n",
       "      <td>NaN</td>\n",
       "      <td>125000</td>\n",
       "      <td>5</td>\n",
       "      <td>gasoline</td>\n",
       "      <td>audi</td>\n",
       "      <td>yes</td>\n",
       "      <td>2016-03-24 00:00:00</td>\n",
       "      <td>0</td>\n",
       "      <td>66954</td>\n",
       "      <td>2016-04-07 01:46:50</td>\n",
       "    </tr>\n",
       "    <tr>\n",
       "      <th>2</th>\n",
       "      <td>2016-03-14 12:52:21</td>\n",
       "      <td>9800</td>\n",
       "      <td>suv</td>\n",
       "      <td>2004</td>\n",
       "      <td>auto</td>\n",
       "      <td>163</td>\n",
       "      <td>grand</td>\n",
       "      <td>125000</td>\n",
       "      <td>8</td>\n",
       "      <td>gasoline</td>\n",
       "      <td>jeep</td>\n",
       "      <td>NaN</td>\n",
       "      <td>2016-03-14 00:00:00</td>\n",
       "      <td>0</td>\n",
       "      <td>90480</td>\n",
       "      <td>2016-04-05 12:47:46</td>\n",
       "    </tr>\n",
       "    <tr>\n",
       "      <th>3</th>\n",
       "      <td>2016-03-17 16:54:04</td>\n",
       "      <td>1500</td>\n",
       "      <td>small</td>\n",
       "      <td>2001</td>\n",
       "      <td>manual</td>\n",
       "      <td>75</td>\n",
       "      <td>golf</td>\n",
       "      <td>150000</td>\n",
       "      <td>6</td>\n",
       "      <td>petrol</td>\n",
       "      <td>volkswagen</td>\n",
       "      <td>no</td>\n",
       "      <td>2016-03-17 00:00:00</td>\n",
       "      <td>0</td>\n",
       "      <td>91074</td>\n",
       "      <td>2016-03-17 17:40:17</td>\n",
       "    </tr>\n",
       "    <tr>\n",
       "      <th>4</th>\n",
       "      <td>2016-03-31 17:25:20</td>\n",
       "      <td>3600</td>\n",
       "      <td>small</td>\n",
       "      <td>2008</td>\n",
       "      <td>manual</td>\n",
       "      <td>69</td>\n",
       "      <td>fabia</td>\n",
       "      <td>90000</td>\n",
       "      <td>7</td>\n",
       "      <td>gasoline</td>\n",
       "      <td>skoda</td>\n",
       "      <td>no</td>\n",
       "      <td>2016-03-31 00:00:00</td>\n",
       "      <td>0</td>\n",
       "      <td>60437</td>\n",
       "      <td>2016-04-06 10:17:21</td>\n",
       "    </tr>\n",
       "  </tbody>\n",
       "</table>\n",
       "</div>"
      ],
      "text/plain": [
       "           DateCrawled  Price VehicleType  RegistrationYear Gearbox  Power  \\\n",
       "0  2016-03-24 11:52:17    480         NaN              1993  manual      0   \n",
       "1  2016-03-24 10:58:45  18300       coupe              2011  manual    190   \n",
       "2  2016-03-14 12:52:21   9800         suv              2004    auto    163   \n",
       "3  2016-03-17 16:54:04   1500       small              2001  manual     75   \n",
       "4  2016-03-31 17:25:20   3600       small              2008  manual     69   \n",
       "\n",
       "   Model  Kilometer  RegistrationMonth  FuelType       Brand NotRepaired  \\\n",
       "0   golf     150000                  0    petrol  volkswagen         NaN   \n",
       "1    NaN     125000                  5  gasoline        audi         yes   \n",
       "2  grand     125000                  8  gasoline        jeep         NaN   \n",
       "3   golf     150000                  6    petrol  volkswagen          no   \n",
       "4  fabia      90000                  7  gasoline       skoda          no   \n",
       "\n",
       "           DateCreated  NumberOfPictures  PostalCode             LastSeen  \n",
       "0  2016-03-24 00:00:00                 0       70435  2016-04-07 03:16:57  \n",
       "1  2016-03-24 00:00:00                 0       66954  2016-04-07 01:46:50  \n",
       "2  2016-03-14 00:00:00                 0       90480  2016-04-05 12:47:46  \n",
       "3  2016-03-17 00:00:00                 0       91074  2016-03-17 17:40:17  \n",
       "4  2016-03-31 00:00:00                 0       60437  2016-04-06 10:17:21  "
      ]
     },
     "execution_count": 172,
     "metadata": {},
     "output_type": "execute_result"
    }
   ],
   "source": [
    "df.head()"
   ]
  },
  {
   "cell_type": "code",
   "execution_count": 173,
   "metadata": {},
   "outputs": [
    {
     "data": {
      "text/plain": [
       "(354369, 16)"
      ]
     },
     "execution_count": 173,
     "metadata": {},
     "output_type": "execute_result"
    }
   ],
   "source": [
    "df.shape"
   ]
  },
  {
   "cell_type": "code",
   "execution_count": 174,
   "metadata": {},
   "outputs": [
    {
     "data": {
      "text/html": [
       "<div>\n",
       "<style scoped>\n",
       "    .dataframe tbody tr th:only-of-type {\n",
       "        vertical-align: middle;\n",
       "    }\n",
       "\n",
       "    .dataframe tbody tr th {\n",
       "        vertical-align: top;\n",
       "    }\n",
       "\n",
       "    .dataframe thead th {\n",
       "        text-align: right;\n",
       "    }\n",
       "</style>\n",
       "<table border=\"1\" class=\"dataframe\">\n",
       "  <thead>\n",
       "    <tr style=\"text-align: right;\">\n",
       "      <th></th>\n",
       "      <th>date_crawled</th>\n",
       "      <th>price</th>\n",
       "      <th>vehicle_type</th>\n",
       "      <th>registration_year</th>\n",
       "      <th>gear_box</th>\n",
       "      <th>power</th>\n",
       "      <th>model</th>\n",
       "      <th>kilometer</th>\n",
       "      <th>registration_month</th>\n",
       "      <th>fuel_type</th>\n",
       "      <th>brand</th>\n",
       "      <th>not_repaired</th>\n",
       "      <th>date_created</th>\n",
       "      <th>number_of_pictures</th>\n",
       "      <th>postal_code</th>\n",
       "      <th>last_seen</th>\n",
       "    </tr>\n",
       "  </thead>\n",
       "  <tbody>\n",
       "    <tr>\n",
       "      <th>263278</th>\n",
       "      <td>2016-03-19 03:48:08</td>\n",
       "      <td>18900</td>\n",
       "      <td>suv</td>\n",
       "      <td>2011</td>\n",
       "      <td>auto</td>\n",
       "      <td>140</td>\n",
       "      <td>tiguan</td>\n",
       "      <td>80000</td>\n",
       "      <td>9</td>\n",
       "      <td>gasoline</td>\n",
       "      <td>volkswagen</td>\n",
       "      <td>no</td>\n",
       "      <td>2016-03-18 00:00:00</td>\n",
       "      <td>0</td>\n",
       "      <td>71522</td>\n",
       "      <td>2016-03-31 11:46:23</td>\n",
       "    </tr>\n",
       "  </tbody>\n",
       "</table>\n",
       "</div>"
      ],
      "text/plain": [
       "               date_crawled  price vehicle_type  registration_year gear_box  \\\n",
       "263278  2016-03-19 03:48:08  18900          suv               2011     auto   \n",
       "\n",
       "        power   model  kilometer  registration_month fuel_type       brand  \\\n",
       "263278    140  tiguan      80000                   9  gasoline  volkswagen   \n",
       "\n",
       "       not_repaired         date_created  number_of_pictures  postal_code  \\\n",
       "263278           no  2016-03-18 00:00:00                   0        71522   \n",
       "\n",
       "                  last_seen  \n",
       "263278  2016-03-31 11:46:23  "
      ]
     },
     "execution_count": 174,
     "metadata": {},
     "output_type": "execute_result"
    }
   ],
   "source": [
    "df = df.rename(columns={\n",
    "    'DateCrawled': 'date_crawled',\n",
    "    'Price': 'price',\n",
    "    'VehicleType': 'vehicle_type',\n",
    "    'RegistrationYear': 'registration_year',\n",
    "    'Gearbox': 'gear_box',\n",
    "    'Power': 'power',\n",
    "    'Model': 'model',\n",
    "    'Kilometer': 'kilometer',\n",
    "    'RegistrationMonth': 'registration_month',\n",
    "    'FuelType': 'fuel_type',\n",
    "    'Brand': 'brand',\n",
    "    'NotRepaired': 'not_repaired',\n",
    "    'DateCreated': 'date_created', \n",
    "    'NumberOfPictures': 'number_of_pictures',\n",
    "    'PostalCode': 'postal_code',\n",
    "    'LastSeen': 'last_seen',\n",
    "})\n",
    "df.sample()"
   ]
  },
  {
   "cell_type": "code",
   "execution_count": 175,
   "metadata": {},
   "outputs": [
    {
     "data": {
      "text/plain": [
       "not_repaired          71154\n",
       "vehicle_type          37490\n",
       "fuel_type             32895\n",
       "gear_box              19833\n",
       "model                 19705\n",
       "date_crawled              0\n",
       "price                     0\n",
       "registration_year         0\n",
       "power                     0\n",
       "kilometer                 0\n",
       "registration_month        0\n",
       "brand                     0\n",
       "date_created              0\n",
       "number_of_pictures        0\n",
       "postal_code               0\n",
       "last_seen                 0\n",
       "dtype: int64"
      ]
     },
     "execution_count": 175,
     "metadata": {},
     "output_type": "execute_result"
    }
   ],
   "source": [
    "df.isna().sum().sort_values(ascending=False)"
   ]
  },
  {
   "cell_type": "markdown",
   "metadata": {},
   "source": [
    "### Проверка на дубликаты"
   ]
  },
  {
   "cell_type": "code",
   "execution_count": 176,
   "metadata": {
    "pycharm": {
     "name": "#%%\n"
    }
   },
   "outputs": [
    {
     "data": {
      "text/plain": [
       "4"
      ]
     },
     "execution_count": 176,
     "metadata": {},
     "output_type": "execute_result"
    }
   ],
   "source": [
    "df.duplicated().sum()"
   ]
  },
  {
   "cell_type": "code",
   "execution_count": 177,
   "metadata": {
    "pycharm": {
     "name": "#%%\n"
    }
   },
   "outputs": [],
   "source": [
    "df.drop_duplicates(inplace=True)"
   ]
  },
  {
   "cell_type": "code",
   "execution_count": 178,
   "metadata": {
    "pycharm": {
     "name": "#%%\n"
    }
   },
   "outputs": [
    {
     "data": {
      "text/plain": [
       "True"
      ]
     },
     "execution_count": 178,
     "metadata": {},
     "output_type": "execute_result"
    }
   ],
   "source": [
    "df.duplicated().sum() == 0"
   ]
  },
  {
   "cell_type": "markdown",
   "metadata": {},
   "source": [
    "Удалили 4 дубликата"
   ]
  },
  {
   "cell_type": "markdown",
   "metadata": {},
   "source": [
    "### date_crawled - дата скачивания анкеты из базы"
   ]
  },
  {
   "cell_type": "code",
   "execution_count": 179,
   "metadata": {},
   "outputs": [
    {
     "data": {
      "text/plain": [
       "0         2016-03-24 11:52:17\n",
       "1         2016-03-24 10:58:45\n",
       "2         2016-03-14 12:52:21\n",
       "3         2016-03-17 16:54:04\n",
       "4         2016-03-31 17:25:20\n",
       "                 ...         \n",
       "354364    2016-03-21 09:50:58\n",
       "354365    2016-03-14 17:48:27\n",
       "354366    2016-03-05 19:56:21\n",
       "354367    2016-03-19 18:57:12\n",
       "354368    2016-03-20 19:41:08\n",
       "Name: date_crawled, Length: 354365, dtype: object"
      ]
     },
     "execution_count": 179,
     "metadata": {},
     "output_type": "execute_result"
    }
   ],
   "source": [
    "df['date_crawled']"
   ]
  },
  {
   "cell_type": "code",
   "execution_count": 180,
   "metadata": {},
   "outputs": [
    {
     "data": {
      "text/plain": [
       "array([2016], dtype=int64)"
      ]
     },
     "execution_count": 180,
     "metadata": {},
     "output_type": "execute_result"
    }
   ],
   "source": [
    "pd.to_datetime(df['date_crawled']).dt.year.unique()"
   ]
  },
  {
   "cell_type": "code",
   "execution_count": 181,
   "metadata": {},
   "outputs": [
    {
     "data": {
      "text/plain": [
       "array([3, 4], dtype=int64)"
      ]
     },
     "execution_count": 181,
     "metadata": {},
     "output_type": "execute_result"
    }
   ],
   "source": [
    "pd.to_datetime(df['date_crawled']).dt.month.unique()"
   ]
  },
  {
   "cell_type": "code",
   "execution_count": 182,
   "metadata": {},
   "outputs": [
    {
     "data": {
      "text/plain": [
       "array([3, 0, 4, 5, 1, 6, 2], dtype=int64)"
      ]
     },
     "execution_count": 182,
     "metadata": {},
     "output_type": "execute_result"
    }
   ],
   "source": [
    "pd.to_datetime(df['date_crawled']).dt.dayofweek.unique()"
   ]
  },
  {
   "cell_type": "markdown",
   "metadata": {},
   "source": [
    "Видим, что у нас представлены даты скачивания анкет из базы за 2016 год, за 2 месяца и у нас представлены все дни недели."
   ]
  },
  {
   "cell_type": "code",
   "execution_count": 183,
   "metadata": {},
   "outputs": [],
   "source": [
    "df['date_crawled_month'] = df['date_crawled'].apply(lambda x: x[:7])"
   ]
  },
  {
   "cell_type": "code",
   "execution_count": 184,
   "metadata": {},
   "outputs": [
    {
     "data": {
      "text/html": [
       "<div>\n",
       "<style scoped>\n",
       "    .dataframe tbody tr th:only-of-type {\n",
       "        vertical-align: middle;\n",
       "    }\n",
       "\n",
       "    .dataframe tbody tr th {\n",
       "        vertical-align: top;\n",
       "    }\n",
       "\n",
       "    .dataframe thead th {\n",
       "        text-align: right;\n",
       "    }\n",
       "</style>\n",
       "<table border=\"1\" class=\"dataframe\">\n",
       "  <thead>\n",
       "    <tr style=\"text-align: right;\">\n",
       "      <th></th>\n",
       "      <th>mean</th>\n",
       "      <th>sum</th>\n",
       "    </tr>\n",
       "    <tr>\n",
       "      <th>date_crawled_month</th>\n",
       "      <th></th>\n",
       "      <th></th>\n",
       "    </tr>\n",
       "  </thead>\n",
       "  <tbody>\n",
       "    <tr>\n",
       "      <th>2016-03</th>\n",
       "      <td>4383.829183</td>\n",
       "      <td>1301212562</td>\n",
       "    </tr>\n",
       "    <tr>\n",
       "      <th>2016-04</th>\n",
       "      <td>4586.128632</td>\n",
       "      <td>263904186</td>\n",
       "    </tr>\n",
       "  </tbody>\n",
       "</table>\n",
       "</div>"
      ],
      "text/plain": [
       "                           mean         sum\n",
       "date_crawled_month                         \n",
       "2016-03             4383.829183  1301212562\n",
       "2016-04             4586.128632   263904186"
      ]
     },
     "execution_count": 184,
     "metadata": {},
     "output_type": "execute_result"
    }
   ],
   "source": [
    "df.groupby('date_crawled_month')['price'].agg({'sum', 'mean'})"
   ]
  },
  {
   "cell_type": "code",
   "execution_count": 185,
   "metadata": {
    "scrolled": true
   },
   "outputs": [
    {
     "data": {
      "text/plain": [
       "count    354365.000000\n",
       "mean       4416.679830\n",
       "std        4514.176349\n",
       "min           0.000000\n",
       "25%        1050.000000\n",
       "50%        2700.000000\n",
       "75%        6400.000000\n",
       "max       20000.000000\n",
       "Name: price, dtype: float64"
      ]
     },
     "execution_count": 185,
     "metadata": {},
     "output_type": "execute_result"
    }
   ],
   "source": [
    "df['price'].describe()"
   ]
  },
  {
   "cell_type": "markdown",
   "metadata": {},
   "source": [
    "Видим, что средняя цена за оба месяца практически равна средней по датасету"
   ]
  },
  {
   "cell_type": "markdown",
   "metadata": {},
   "source": [
    "### vehicle_type - тип автомобильного кузова"
   ]
  },
  {
   "cell_type": "code",
   "execution_count": 186,
   "metadata": {},
   "outputs": [
    {
     "data": {
      "text/plain": [
       "array([nan, 'coupe', 'suv', 'small', 'sedan', 'convertible', 'bus',\n",
       "       'wagon', 'other'], dtype=object)"
      ]
     },
     "execution_count": 186,
     "metadata": {},
     "output_type": "execute_result"
    }
   ],
   "source": [
    "df['vehicle_type'].unique()"
   ]
  },
  {
   "cell_type": "code",
   "execution_count": 187,
   "metadata": {},
   "outputs": [
    {
     "data": {
      "text/plain": [
       "sedan          91457\n",
       "small          79830\n",
       "wagon          65165\n",
       "bus            28775\n",
       "convertible    20203\n",
       "coupe          16161\n",
       "suv            11996\n",
       "other           3288\n",
       "Name: vehicle_type, dtype: int64"
      ]
     },
     "execution_count": 187,
     "metadata": {},
     "output_type": "execute_result"
    }
   ],
   "source": [
    "df['vehicle_type'].value_counts()"
   ]
  },
  {
   "cell_type": "code",
   "execution_count": 188,
   "metadata": {},
   "outputs": [
    {
     "data": {
      "text/html": [
       "<div>\n",
       "<style scoped>\n",
       "    .dataframe tbody tr th:only-of-type {\n",
       "        vertical-align: middle;\n",
       "    }\n",
       "\n",
       "    .dataframe tbody tr th {\n",
       "        vertical-align: top;\n",
       "    }\n",
       "\n",
       "    .dataframe thead th {\n",
       "        text-align: right;\n",
       "    }\n",
       "</style>\n",
       "<table border=\"1\" class=\"dataframe\">\n",
       "  <thead>\n",
       "    <tr style=\"text-align: right;\">\n",
       "      <th></th>\n",
       "      <th>date_crawled</th>\n",
       "      <th>price</th>\n",
       "      <th>vehicle_type</th>\n",
       "      <th>registration_year</th>\n",
       "      <th>gear_box</th>\n",
       "      <th>power</th>\n",
       "      <th>model</th>\n",
       "      <th>kilometer</th>\n",
       "      <th>registration_month</th>\n",
       "      <th>fuel_type</th>\n",
       "      <th>brand</th>\n",
       "      <th>not_repaired</th>\n",
       "      <th>date_created</th>\n",
       "      <th>number_of_pictures</th>\n",
       "      <th>postal_code</th>\n",
       "      <th>last_seen</th>\n",
       "      <th>date_crawled_month</th>\n",
       "    </tr>\n",
       "  </thead>\n",
       "  <tbody>\n",
       "    <tr>\n",
       "      <th>0</th>\n",
       "      <td>2016-03-24 11:52:17</td>\n",
       "      <td>480</td>\n",
       "      <td>NaN</td>\n",
       "      <td>1993</td>\n",
       "      <td>manual</td>\n",
       "      <td>0</td>\n",
       "      <td>golf</td>\n",
       "      <td>150000</td>\n",
       "      <td>0</td>\n",
       "      <td>petrol</td>\n",
       "      <td>volkswagen</td>\n",
       "      <td>NaN</td>\n",
       "      <td>2016-03-24 00:00:00</td>\n",
       "      <td>0</td>\n",
       "      <td>70435</td>\n",
       "      <td>2016-04-07 03:16:57</td>\n",
       "      <td>2016-03</td>\n",
       "    </tr>\n",
       "    <tr>\n",
       "      <th>16</th>\n",
       "      <td>2016-04-01 12:46:46</td>\n",
       "      <td>300</td>\n",
       "      <td>NaN</td>\n",
       "      <td>2016</td>\n",
       "      <td>NaN</td>\n",
       "      <td>60</td>\n",
       "      <td>polo</td>\n",
       "      <td>150000</td>\n",
       "      <td>0</td>\n",
       "      <td>petrol</td>\n",
       "      <td>volkswagen</td>\n",
       "      <td>NaN</td>\n",
       "      <td>2016-04-01 00:00:00</td>\n",
       "      <td>0</td>\n",
       "      <td>38871</td>\n",
       "      <td>2016-04-01 12:46:46</td>\n",
       "      <td>2016-04</td>\n",
       "    </tr>\n",
       "    <tr>\n",
       "      <th>22</th>\n",
       "      <td>2016-03-23 14:52:51</td>\n",
       "      <td>2900</td>\n",
       "      <td>NaN</td>\n",
       "      <td>2018</td>\n",
       "      <td>manual</td>\n",
       "      <td>90</td>\n",
       "      <td>meriva</td>\n",
       "      <td>150000</td>\n",
       "      <td>5</td>\n",
       "      <td>petrol</td>\n",
       "      <td>opel</td>\n",
       "      <td>no</td>\n",
       "      <td>2016-03-23 00:00:00</td>\n",
       "      <td>0</td>\n",
       "      <td>49716</td>\n",
       "      <td>2016-03-31 01:16:33</td>\n",
       "      <td>2016-03</td>\n",
       "    </tr>\n",
       "    <tr>\n",
       "      <th>26</th>\n",
       "      <td>2016-03-10 19:38:18</td>\n",
       "      <td>5555</td>\n",
       "      <td>NaN</td>\n",
       "      <td>2017</td>\n",
       "      <td>manual</td>\n",
       "      <td>125</td>\n",
       "      <td>c4</td>\n",
       "      <td>125000</td>\n",
       "      <td>4</td>\n",
       "      <td>NaN</td>\n",
       "      <td>citroen</td>\n",
       "      <td>no</td>\n",
       "      <td>2016-03-10 00:00:00</td>\n",
       "      <td>0</td>\n",
       "      <td>31139</td>\n",
       "      <td>2016-03-16 09:16:46</td>\n",
       "      <td>2016-03</td>\n",
       "    </tr>\n",
       "    <tr>\n",
       "      <th>31</th>\n",
       "      <td>2016-03-29 16:57:02</td>\n",
       "      <td>899</td>\n",
       "      <td>NaN</td>\n",
       "      <td>2016</td>\n",
       "      <td>manual</td>\n",
       "      <td>60</td>\n",
       "      <td>clio</td>\n",
       "      <td>150000</td>\n",
       "      <td>6</td>\n",
       "      <td>petrol</td>\n",
       "      <td>renault</td>\n",
       "      <td>NaN</td>\n",
       "      <td>2016-03-29 00:00:00</td>\n",
       "      <td>0</td>\n",
       "      <td>37075</td>\n",
       "      <td>2016-03-29 17:43:07</td>\n",
       "      <td>2016-03</td>\n",
       "    </tr>\n",
       "  </tbody>\n",
       "</table>\n",
       "</div>"
      ],
      "text/plain": [
       "           date_crawled  price vehicle_type  registration_year gear_box  \\\n",
       "0   2016-03-24 11:52:17    480          NaN               1993   manual   \n",
       "16  2016-04-01 12:46:46    300          NaN               2016      NaN   \n",
       "22  2016-03-23 14:52:51   2900          NaN               2018   manual   \n",
       "26  2016-03-10 19:38:18   5555          NaN               2017   manual   \n",
       "31  2016-03-29 16:57:02    899          NaN               2016   manual   \n",
       "\n",
       "    power   model  kilometer  registration_month fuel_type       brand  \\\n",
       "0       0    golf     150000                   0    petrol  volkswagen   \n",
       "16     60    polo     150000                   0    petrol  volkswagen   \n",
       "22     90  meriva     150000                   5    petrol        opel   \n",
       "26    125      c4     125000                   4       NaN     citroen   \n",
       "31     60    clio     150000                   6    petrol     renault   \n",
       "\n",
       "   not_repaired         date_created  number_of_pictures  postal_code  \\\n",
       "0           NaN  2016-03-24 00:00:00                   0        70435   \n",
       "16          NaN  2016-04-01 00:00:00                   0        38871   \n",
       "22           no  2016-03-23 00:00:00                   0        49716   \n",
       "26           no  2016-03-10 00:00:00                   0        31139   \n",
       "31          NaN  2016-03-29 00:00:00                   0        37075   \n",
       "\n",
       "              last_seen date_crawled_month  \n",
       "0   2016-04-07 03:16:57            2016-03  \n",
       "16  2016-04-01 12:46:46            2016-04  \n",
       "22  2016-03-31 01:16:33            2016-03  \n",
       "26  2016-03-16 09:16:46            2016-03  \n",
       "31  2016-03-29 17:43:07            2016-03  "
      ]
     },
     "execution_count": 188,
     "metadata": {},
     "output_type": "execute_result"
    }
   ],
   "source": [
    "df[df['vehicle_type'].isna()].head()"
   ]
  },
  {
   "cell_type": "markdown",
   "metadata": {},
   "source": [
    "В целом данные есть чем заполнить, например восстановить по модели"
   ]
  },
  {
   "cell_type": "markdown",
   "metadata": {},
   "source": [
    "### registration_year - год регистрации автомобиля"
   ]
  },
  {
   "cell_type": "code",
   "execution_count": 189,
   "metadata": {},
   "outputs": [
    {
     "data": {
      "image/png": "[encoded data removed]",
      "text/plain": [
       "<Figure size 432x288 with 1 Axes>"
      ]
     },
     "metadata": {
      "needs_background": "light"
     },
     "output_type": "display_data"
    }
   ],
   "source": [
    "df['registration_year'].plot.box()\n",
    "plt.title('Распределение Год регистрации автомобиля')\n",
    "plt.show()"
   ]
  },
  {
   "cell_type": "code",
   "execution_count": 190,
   "metadata": {},
   "outputs": [
    {
     "data": {
      "text/plain": [
       "622       1111\n",
       "12946     5000\n",
       "15147     9999\n",
       "15870     3200\n",
       "16062     1000\n",
       "          ... \n",
       "340548    3500\n",
       "340759    1600\n",
       "341791    3000\n",
       "348830    1000\n",
       "351682    1800\n",
       "Name: registration_year, Length: 171, dtype: int64"
      ]
     },
     "execution_count": 190,
     "metadata": {},
     "output_type": "execute_result"
    }
   ],
   "source": [
    "df[(df['registration_year'] > 2023) | (df['registration_year'] < 1900)]['registration_year']"
   ]
  },
  {
   "cell_type": "markdown",
   "metadata": {},
   "source": [
    "Есть некоторое количество неадекватных данных, их количество не критичное, возможно их можно будет обработать адекватным образом"
   ]
  },
  {
   "cell_type": "code",
   "execution_count": 191,
   "metadata": {},
   "outputs": [
    {
     "data": {
      "text/html": [
       "<div>\n",
       "<style scoped>\n",
       "    .dataframe tbody tr th:only-of-type {\n",
       "        vertical-align: middle;\n",
       "    }\n",
       "\n",
       "    .dataframe tbody tr th {\n",
       "        vertical-align: top;\n",
       "    }\n",
       "\n",
       "    .dataframe thead th {\n",
       "        text-align: right;\n",
       "    }\n",
       "</style>\n",
       "<table border=\"1\" class=\"dataframe\">\n",
       "  <thead>\n",
       "    <tr style=\"text-align: right;\">\n",
       "      <th></th>\n",
       "      <th>mean</th>\n",
       "      <th>sum</th>\n",
       "    </tr>\n",
       "    <tr>\n",
       "      <th>registration_year</th>\n",
       "      <th></th>\n",
       "      <th></th>\n",
       "    </tr>\n",
       "  </thead>\n",
       "  <tbody>\n",
       "    <tr>\n",
       "      <th>1950</th>\n",
       "      <td>7411.888889</td>\n",
       "      <td>133414</td>\n",
       "    </tr>\n",
       "    <tr>\n",
       "      <th>1951</th>\n",
       "      <td>10588.833333</td>\n",
       "      <td>127066</td>\n",
       "    </tr>\n",
       "    <tr>\n",
       "      <th>1952</th>\n",
       "      <td>9176.666667</td>\n",
       "      <td>82590</td>\n",
       "    </tr>\n",
       "    <tr>\n",
       "      <th>1953</th>\n",
       "      <td>7643.214286</td>\n",
       "      <td>107005</td>\n",
       "    </tr>\n",
       "    <tr>\n",
       "      <th>1954</th>\n",
       "      <td>8144.454545</td>\n",
       "      <td>89589</td>\n",
       "    </tr>\n",
       "    <tr>\n",
       "      <th>...</th>\n",
       "      <td>...</td>\n",
       "      <td>...</td>\n",
       "    </tr>\n",
       "    <tr>\n",
       "      <th>2015</th>\n",
       "      <td>10986.650538</td>\n",
       "      <td>14304619</td>\n",
       "    </tr>\n",
       "    <tr>\n",
       "      <th>2016</th>\n",
       "      <td>2104.498073</td>\n",
       "      <td>20201077</td>\n",
       "    </tr>\n",
       "    <tr>\n",
       "      <th>2017</th>\n",
       "      <td>3031.650608</td>\n",
       "      <td>31653464</td>\n",
       "    </tr>\n",
       "    <tr>\n",
       "      <th>2018</th>\n",
       "      <td>3475.912604</td>\n",
       "      <td>13761138</td>\n",
       "    </tr>\n",
       "    <tr>\n",
       "      <th>2019</th>\n",
       "      <td>3165.520000</td>\n",
       "      <td>79138</td>\n",
       "    </tr>\n",
       "  </tbody>\n",
       "</table>\n",
       "<p>70 rows × 2 columns</p>\n",
       "</div>"
      ],
      "text/plain": [
       "                           mean       sum\n",
       "registration_year                        \n",
       "1950                7411.888889    133414\n",
       "1951               10588.833333    127066\n",
       "1952                9176.666667     82590\n",
       "1953                7643.214286    107005\n",
       "1954                8144.454545     89589\n",
       "...                         ...       ...\n",
       "2015               10986.650538  14304619\n",
       "2016                2104.498073  20201077\n",
       "2017                3031.650608  31653464\n",
       "2018                3475.912604  13761138\n",
       "2019                3165.520000     79138\n",
       "\n",
       "[70 rows x 2 columns]"
      ]
     },
     "execution_count": 191,
     "metadata": {},
     "output_type": "execute_result"
    }
   ],
   "source": [
    "df[~((df['registration_year'] > 2023) | (df['registration_year'] < 1950))].groupby('registration_year')['price'].agg({'sum', 'mean'})"
   ]
  },
  {
   "cell_type": "markdown",
   "metadata": {},
   "source": [
    "Можно сказать, что год регистрации имеет значение, но корреляция не линейная"
   ]
  },
  {
   "cell_type": "code",
   "execution_count": 192,
   "metadata": {
    "pycharm": {
     "name": "#%%\n"
    }
   },
   "outputs": [],
   "source": [
    "year_labels = ['Долгожительная', 'Старая', 'Пожилая', 'Зрелая', 'Молодая', 'Юная']\n",
    "\n",
    "df['registration_year_cut'] = pd.qcut(\n",
    "    df['registration_year'],\n",
    "    q=6,\n",
    "    labels=year_labels,\n",
    ")"
   ]
  },
  {
   "cell_type": "code",
   "execution_count": 193,
   "metadata": {
    "pycharm": {
     "name": "#%%\n"
    }
   },
   "outputs": [
    {
     "data": {
      "text/html": [
       "<div>\n",
       "<style scoped>\n",
       "    .dataframe tbody tr th:only-of-type {\n",
       "        vertical-align: middle;\n",
       "    }\n",
       "\n",
       "    .dataframe tbody tr th {\n",
       "        vertical-align: top;\n",
       "    }\n",
       "\n",
       "    .dataframe thead th {\n",
       "        text-align: right;\n",
       "    }\n",
       "</style>\n",
       "<table border=\"1\" class=\"dataframe\">\n",
       "  <thead>\n",
       "    <tr style=\"text-align: right;\">\n",
       "      <th></th>\n",
       "      <th>date_crawled</th>\n",
       "      <th>price</th>\n",
       "      <th>vehicle_type</th>\n",
       "      <th>registration_year</th>\n",
       "      <th>gear_box</th>\n",
       "      <th>power</th>\n",
       "      <th>model</th>\n",
       "      <th>kilometer</th>\n",
       "      <th>registration_month</th>\n",
       "      <th>fuel_type</th>\n",
       "      <th>brand</th>\n",
       "      <th>not_repaired</th>\n",
       "      <th>date_created</th>\n",
       "      <th>number_of_pictures</th>\n",
       "      <th>postal_code</th>\n",
       "      <th>last_seen</th>\n",
       "      <th>date_crawled_month</th>\n",
       "      <th>registration_year_cut</th>\n",
       "    </tr>\n",
       "  </thead>\n",
       "  <tbody>\n",
       "    <tr>\n",
       "      <th>204081</th>\n",
       "      <td>2016-03-23 22:57:07</td>\n",
       "      <td>500</td>\n",
       "      <td>wagon</td>\n",
       "      <td>1993</td>\n",
       "      <td>manual</td>\n",
       "      <td>116</td>\n",
       "      <td>passat</td>\n",
       "      <td>5000</td>\n",
       "      <td>4</td>\n",
       "      <td>NaN</td>\n",
       "      <td>volkswagen</td>\n",
       "      <td>NaN</td>\n",
       "      <td>2016-03-23 00:00:00</td>\n",
       "      <td>0</td>\n",
       "      <td>74842</td>\n",
       "      <td>2016-03-25 14:18:51</td>\n",
       "      <td>2016-03</td>\n",
       "      <td>Долгожительная</td>\n",
       "    </tr>\n",
       "    <tr>\n",
       "      <th>321844</th>\n",
       "      <td>2016-04-03 19:41:52</td>\n",
       "      <td>1850</td>\n",
       "      <td>wagon</td>\n",
       "      <td>2001</td>\n",
       "      <td>manual</td>\n",
       "      <td>110</td>\n",
       "      <td>octavia</td>\n",
       "      <td>150000</td>\n",
       "      <td>5</td>\n",
       "      <td>gasoline</td>\n",
       "      <td>skoda</td>\n",
       "      <td>no</td>\n",
       "      <td>2016-04-03 00:00:00</td>\n",
       "      <td>0</td>\n",
       "      <td>42489</td>\n",
       "      <td>2016-04-03 19:41:52</td>\n",
       "      <td>2016-04</td>\n",
       "      <td>Пожилая</td>\n",
       "    </tr>\n",
       "    <tr>\n",
       "      <th>287788</th>\n",
       "      <td>2016-03-11 18:45:34</td>\n",
       "      <td>15000</td>\n",
       "      <td>wagon</td>\n",
       "      <td>2012</td>\n",
       "      <td>manual</td>\n",
       "      <td>105</td>\n",
       "      <td>a3</td>\n",
       "      <td>80000</td>\n",
       "      <td>5</td>\n",
       "      <td>gasoline</td>\n",
       "      <td>audi</td>\n",
       "      <td>no</td>\n",
       "      <td>2016-03-11 00:00:00</td>\n",
       "      <td>0</td>\n",
       "      <td>85435</td>\n",
       "      <td>2016-04-05 20:17:46</td>\n",
       "      <td>2016-03</td>\n",
       "      <td>Юная</td>\n",
       "    </tr>\n",
       "  </tbody>\n",
       "</table>\n",
       "</div>"
      ],
      "text/plain": [
       "               date_crawled  price vehicle_type  registration_year gear_box  \\\n",
       "204081  2016-03-23 22:57:07    500        wagon               1993   manual   \n",
       "321844  2016-04-03 19:41:52   1850        wagon               2001   manual   \n",
       "287788  2016-03-11 18:45:34  15000        wagon               2012   manual   \n",
       "\n",
       "        power    model  kilometer  registration_month fuel_type       brand  \\\n",
       "204081    116   passat       5000                   4       NaN  volkswagen   \n",
       "321844    110  octavia     150000                   5  gasoline       skoda   \n",
       "287788    105       a3      80000                   5  gasoline        audi   \n",
       "\n",
       "       not_repaired         date_created  number_of_pictures  postal_code  \\\n",
       "204081          NaN  2016-03-23 00:00:00                   0        74842   \n",
       "321844           no  2016-04-03 00:00:00                   0        42489   \n",
       "287788           no  2016-03-11 00:00:00                   0        85435   \n",
       "\n",
       "                  last_seen date_crawled_month registration_year_cut  \n",
       "204081  2016-03-25 14:18:51            2016-03        Долгожительная  \n",
       "321844  2016-04-03 19:41:52            2016-04               Пожилая  \n",
       "287788  2016-04-05 20:17:46            2016-03                  Юная  "
      ]
     },
     "execution_count": 193,
     "metadata": {},
     "output_type": "execute_result"
    }
   ],
   "source": [
    "df.sample(3)"
   ]
  },
  {
   "cell_type": "code",
   "execution_count": 194,
   "metadata": {
    "pycharm": {
     "name": "#%%\n"
    }
   },
   "outputs": [
    {
     "data": {
      "text/plain": [
       "registration_year_cut\n",
       "Долгожительная    1984.482378\n",
       "Старая            1634.138814\n",
       "Пожилая           2863.592495\n",
       "Зрелая            5110.326988\n",
       "Молодая           8461.610225\n",
       "Юная              7384.273513\n",
       "Name: price, dtype: float64"
      ]
     },
     "execution_count": 194,
     "metadata": {},
     "output_type": "execute_result"
    }
   ],
   "source": [
    "df.groupby('registration_year_cut')['price'].mean()"
   ]
  },
  {
   "cell_type": "code",
   "execution_count": 195,
   "metadata": {
    "pycharm": {
     "name": "#%%\n"
    }
   },
   "outputs": [],
   "source": [
    "df['registration_year_cut'] = df['registration_year_cut'].astype(object)"
   ]
  },
  {
   "cell_type": "markdown",
   "metadata": {},
   "source": [
    "### gear_box - тип коробки передач"
   ]
  },
  {
   "cell_type": "code",
   "execution_count": 196,
   "metadata": {},
   "outputs": [
    {
     "data": {
      "text/plain": [
       "manual    268249\n",
       "auto       66283\n",
       "Name: gear_box, dtype: int64"
      ]
     },
     "execution_count": 196,
     "metadata": {},
     "output_type": "execute_result"
    }
   ],
   "source": [
    "df['gear_box'].value_counts()"
   ]
  },
  {
   "cell_type": "markdown",
   "metadata": {},
   "source": [
    "Тут все достаточно просто, 2 значения и есть пропуски, так же попробуем понять как их заполнить"
   ]
  },
  {
   "cell_type": "code",
   "execution_count": 197,
   "metadata": {},
   "outputs": [
    {
     "data": {
      "text/html": [
       "<div>\n",
       "<style scoped>\n",
       "    .dataframe tbody tr th:only-of-type {\n",
       "        vertical-align: middle;\n",
       "    }\n",
       "\n",
       "    .dataframe tbody tr th {\n",
       "        vertical-align: top;\n",
       "    }\n",
       "\n",
       "    .dataframe thead th {\n",
       "        text-align: right;\n",
       "    }\n",
       "</style>\n",
       "<table border=\"1\" class=\"dataframe\">\n",
       "  <thead>\n",
       "    <tr style=\"text-align: right;\">\n",
       "      <th></th>\n",
       "      <th></th>\n",
       "      <th></th>\n",
       "      <th>count</th>\n",
       "    </tr>\n",
       "    <tr>\n",
       "      <th>gear_box</th>\n",
       "      <th>brand</th>\n",
       "      <th>model</th>\n",
       "      <th></th>\n",
       "    </tr>\n",
       "  </thead>\n",
       "  <tbody>\n",
       "    <tr>\n",
       "      <th rowspan=\"5\" valign=\"top\">auto</th>\n",
       "      <th rowspan=\"5\" valign=\"top\">alfa_romeo</th>\n",
       "      <th>147</th>\n",
       "      <td>29</td>\n",
       "    </tr>\n",
       "    <tr>\n",
       "      <th>156</th>\n",
       "      <td>45</td>\n",
       "    </tr>\n",
       "    <tr>\n",
       "      <th>159</th>\n",
       "      <td>26</td>\n",
       "    </tr>\n",
       "    <tr>\n",
       "      <th>other</th>\n",
       "      <td>32</td>\n",
       "    </tr>\n",
       "    <tr>\n",
       "      <th>spider</th>\n",
       "      <td>3</td>\n",
       "    </tr>\n",
       "    <tr>\n",
       "      <th>...</th>\n",
       "      <th>...</th>\n",
       "      <th>...</th>\n",
       "      <td>...</td>\n",
       "    </tr>\n",
       "    <tr>\n",
       "      <th rowspan=\"5\" valign=\"top\">manual</th>\n",
       "      <th rowspan=\"5\" valign=\"top\">volvo</th>\n",
       "      <th>v40</th>\n",
       "      <td>674</td>\n",
       "    </tr>\n",
       "    <tr>\n",
       "      <th>v50</th>\n",
       "      <td>210</td>\n",
       "    </tr>\n",
       "    <tr>\n",
       "      <th>v60</th>\n",
       "      <td>26</td>\n",
       "    </tr>\n",
       "    <tr>\n",
       "      <th>v70</th>\n",
       "      <td>385</td>\n",
       "    </tr>\n",
       "    <tr>\n",
       "      <th>xc_reihe</th>\n",
       "      <td>68</td>\n",
       "    </tr>\n",
       "  </tbody>\n",
       "</table>\n",
       "<p>572 rows × 1 columns</p>\n",
       "</div>"
      ],
      "text/plain": [
       "                              count\n",
       "gear_box brand      model          \n",
       "auto     alfa_romeo 147          29\n",
       "                    156          45\n",
       "                    159          26\n",
       "                    other        32\n",
       "                    spider        3\n",
       "...                             ...\n",
       "manual   volvo      v40         674\n",
       "                    v50         210\n",
       "                    v60          26\n",
       "                    v70         385\n",
       "                    xc_reihe     68\n",
       "\n",
       "[572 rows x 1 columns]"
      ]
     },
     "execution_count": 197,
     "metadata": {},
     "output_type": "execute_result"
    }
   ],
   "source": [
    "df[~df['gear_box'].isna()].groupby(['gear_box', 'brand', 'model'])['gear_box'].agg({'count'})"
   ]
  },
  {
   "cell_type": "markdown",
   "metadata": {
    "pycharm": {
     "name": "#%% md\n"
    }
   },
   "source": [
    "Например по медиане представленной модели"
   ]
  },
  {
   "cell_type": "markdown",
   "metadata": {
    "pycharm": {
     "name": "#%% md\n"
    }
   },
   "source": [
    "### power - мощность (л. с.)"
   ]
  },
  {
   "cell_type": "code",
   "execution_count": 198,
   "metadata": {
    "pycharm": {
     "name": "#%%\n"
    }
   },
   "outputs": [
    {
     "data": {
      "text/plain": [
       "count    354365.000000\n",
       "mean        110.093816\n",
       "std         189.851330\n",
       "min           0.000000\n",
       "25%          69.000000\n",
       "50%         105.000000\n",
       "75%         143.000000\n",
       "max       20000.000000\n",
       "Name: power, dtype: float64"
      ]
     },
     "execution_count": 198,
     "metadata": {},
     "output_type": "execute_result"
    }
   ],
   "source": [
    "df['power'].describe()"
   ]
  },
  {
   "cell_type": "code",
   "execution_count": 199,
   "metadata": {
    "pycharm": {
     "name": "#%%\n"
    }
   },
   "outputs": [
    {
     "data": {
      "text/html": [
       "<div>\n",
       "<style scoped>\n",
       "    .dataframe tbody tr th:only-of-type {\n",
       "        vertical-align: middle;\n",
       "    }\n",
       "\n",
       "    .dataframe tbody tr th {\n",
       "        vertical-align: top;\n",
       "    }\n",
       "\n",
       "    .dataframe thead th {\n",
       "        text-align: right;\n",
       "    }\n",
       "</style>\n",
       "<table border=\"1\" class=\"dataframe\">\n",
       "  <thead>\n",
       "    <tr style=\"text-align: right;\">\n",
       "      <th></th>\n",
       "      <th>date_crawled</th>\n",
       "      <th>price</th>\n",
       "      <th>vehicle_type</th>\n",
       "      <th>registration_year</th>\n",
       "      <th>gear_box</th>\n",
       "      <th>power</th>\n",
       "      <th>model</th>\n",
       "      <th>kilometer</th>\n",
       "      <th>registration_month</th>\n",
       "      <th>fuel_type</th>\n",
       "      <th>brand</th>\n",
       "      <th>not_repaired</th>\n",
       "      <th>date_created</th>\n",
       "      <th>number_of_pictures</th>\n",
       "      <th>postal_code</th>\n",
       "      <th>last_seen</th>\n",
       "      <th>date_crawled_month</th>\n",
       "      <th>registration_year_cut</th>\n",
       "    </tr>\n",
       "  </thead>\n",
       "  <tbody>\n",
       "    <tr>\n",
       "      <th>0</th>\n",
       "      <td>2016-03-24 11:52:17</td>\n",
       "      <td>480</td>\n",
       "      <td>NaN</td>\n",
       "      <td>1993</td>\n",
       "      <td>manual</td>\n",
       "      <td>0</td>\n",
       "      <td>golf</td>\n",
       "      <td>150000</td>\n",
       "      <td>0</td>\n",
       "      <td>petrol</td>\n",
       "      <td>volkswagen</td>\n",
       "      <td>NaN</td>\n",
       "      <td>2016-03-24 00:00:00</td>\n",
       "      <td>0</td>\n",
       "      <td>70435</td>\n",
       "      <td>2016-04-07 03:16:57</td>\n",
       "      <td>2016-03</td>\n",
       "      <td>Долгожительная</td>\n",
       "    </tr>\n",
       "    <tr>\n",
       "      <th>7</th>\n",
       "      <td>2016-03-21 18:54:38</td>\n",
       "      <td>0</td>\n",
       "      <td>sedan</td>\n",
       "      <td>1980</td>\n",
       "      <td>manual</td>\n",
       "      <td>50</td>\n",
       "      <td>other</td>\n",
       "      <td>40000</td>\n",
       "      <td>7</td>\n",
       "      <td>petrol</td>\n",
       "      <td>volkswagen</td>\n",
       "      <td>no</td>\n",
       "      <td>2016-03-21 00:00:00</td>\n",
       "      <td>0</td>\n",
       "      <td>19348</td>\n",
       "      <td>2016-03-25 16:47:58</td>\n",
       "      <td>2016-03</td>\n",
       "      <td>Долгожительная</td>\n",
       "    </tr>\n",
       "    <tr>\n",
       "      <th>15</th>\n",
       "      <td>2016-03-11 21:39:15</td>\n",
       "      <td>450</td>\n",
       "      <td>small</td>\n",
       "      <td>1910</td>\n",
       "      <td>NaN</td>\n",
       "      <td>0</td>\n",
       "      <td>ka</td>\n",
       "      <td>5000</td>\n",
       "      <td>0</td>\n",
       "      <td>petrol</td>\n",
       "      <td>ford</td>\n",
       "      <td>NaN</td>\n",
       "      <td>2016-03-11 00:00:00</td>\n",
       "      <td>0</td>\n",
       "      <td>24148</td>\n",
       "      <td>2016-03-19 08:46:47</td>\n",
       "      <td>2016-03</td>\n",
       "      <td>Долгожительная</td>\n",
       "    </tr>\n",
       "    <tr>\n",
       "      <th>16</th>\n",
       "      <td>2016-04-01 12:46:46</td>\n",
       "      <td>300</td>\n",
       "      <td>NaN</td>\n",
       "      <td>2016</td>\n",
       "      <td>NaN</td>\n",
       "      <td>60</td>\n",
       "      <td>polo</td>\n",
       "      <td>150000</td>\n",
       "      <td>0</td>\n",
       "      <td>petrol</td>\n",
       "      <td>volkswagen</td>\n",
       "      <td>NaN</td>\n",
       "      <td>2016-04-01 00:00:00</td>\n",
       "      <td>0</td>\n",
       "      <td>38871</td>\n",
       "      <td>2016-04-01 12:46:46</td>\n",
       "      <td>2016-04</td>\n",
       "      <td>Юная</td>\n",
       "    </tr>\n",
       "    <tr>\n",
       "      <th>23</th>\n",
       "      <td>2016-03-12 19:43:07</td>\n",
       "      <td>450</td>\n",
       "      <td>small</td>\n",
       "      <td>1997</td>\n",
       "      <td>manual</td>\n",
       "      <td>50</td>\n",
       "      <td>arosa</td>\n",
       "      <td>150000</td>\n",
       "      <td>5</td>\n",
       "      <td>petrol</td>\n",
       "      <td>seat</td>\n",
       "      <td>no</td>\n",
       "      <td>2016-03-12 00:00:00</td>\n",
       "      <td>0</td>\n",
       "      <td>9526</td>\n",
       "      <td>2016-03-21 01:46:11</td>\n",
       "      <td>2016-03</td>\n",
       "      <td>Долгожительная</td>\n",
       "    </tr>\n",
       "  </tbody>\n",
       "</table>\n",
       "</div>"
      ],
      "text/plain": [
       "           date_crawled  price vehicle_type  registration_year gear_box  \\\n",
       "0   2016-03-24 11:52:17    480          NaN               1993   manual   \n",
       "7   2016-03-21 18:54:38      0        sedan               1980   manual   \n",
       "15  2016-03-11 21:39:15    450        small               1910      NaN   \n",
       "16  2016-04-01 12:46:46    300          NaN               2016      NaN   \n",
       "23  2016-03-12 19:43:07    450        small               1997   manual   \n",
       "\n",
       "    power  model  kilometer  registration_month fuel_type       brand  \\\n",
       "0       0   golf     150000                   0    petrol  volkswagen   \n",
       "7      50  other      40000                   7    petrol  volkswagen   \n",
       "15      0     ka       5000                   0    petrol        ford   \n",
       "16     60   polo     150000                   0    petrol  volkswagen   \n",
       "23     50  arosa     150000                   5    petrol        seat   \n",
       "\n",
       "   not_repaired         date_created  number_of_pictures  postal_code  \\\n",
       "0           NaN  2016-03-24 00:00:00                   0        70435   \n",
       "7            no  2016-03-21 00:00:00                   0        19348   \n",
       "15          NaN  2016-03-11 00:00:00                   0        24148   \n",
       "16          NaN  2016-04-01 00:00:00                   0        38871   \n",
       "23           no  2016-03-12 00:00:00                   0         9526   \n",
       "\n",
       "              last_seen date_crawled_month registration_year_cut  \n",
       "0   2016-04-07 03:16:57            2016-03        Долгожительная  \n",
       "7   2016-03-25 16:47:58            2016-03        Долгожительная  \n",
       "15  2016-03-19 08:46:47            2016-03        Долгожительная  \n",
       "16  2016-04-01 12:46:46            2016-04                  Юная  \n",
       "23  2016-03-21 01:46:11            2016-03        Долгожительная  "
      ]
     },
     "execution_count": 199,
     "metadata": {},
     "output_type": "execute_result"
    }
   ],
   "source": [
    "df[~((df['power'] > 60) & (df['power'] < 350))].head()"
   ]
  },
  {
   "cell_type": "code",
   "execution_count": 200,
   "metadata": {
    "pycharm": {
     "name": "#%%\n"
    }
   },
   "outputs": [],
   "source": [
    "pow_labels = ['Лиса', 'Косуля', 'Зайка', 'Антилопа', 'Пантера', 'Ракета']\n",
    "\n",
    "df['power_cut'] = pd.qcut(\n",
    "    df['power'],\n",
    "    q=6,\n",
    "    labels=pow_labels,\n",
    ")"
   ]
  },
  {
   "cell_type": "code",
   "execution_count": 201,
   "metadata": {
    "pycharm": {
     "name": "#%%\n"
    }
   },
   "outputs": [
    {
     "data": {
      "text/html": [
       "<div>\n",
       "<style scoped>\n",
       "    .dataframe tbody tr th:only-of-type {\n",
       "        vertical-align: middle;\n",
       "    }\n",
       "\n",
       "    .dataframe tbody tr th {\n",
       "        vertical-align: top;\n",
       "    }\n",
       "\n",
       "    .dataframe thead th {\n",
       "        text-align: right;\n",
       "    }\n",
       "</style>\n",
       "<table border=\"1\" class=\"dataframe\">\n",
       "  <thead>\n",
       "    <tr style=\"text-align: right;\">\n",
       "      <th></th>\n",
       "      <th>date_crawled</th>\n",
       "      <th>price</th>\n",
       "      <th>vehicle_type</th>\n",
       "      <th>registration_year</th>\n",
       "      <th>gear_box</th>\n",
       "      <th>power</th>\n",
       "      <th>model</th>\n",
       "      <th>kilometer</th>\n",
       "      <th>registration_month</th>\n",
       "      <th>fuel_type</th>\n",
       "      <th>brand</th>\n",
       "      <th>not_repaired</th>\n",
       "      <th>date_created</th>\n",
       "      <th>number_of_pictures</th>\n",
       "      <th>postal_code</th>\n",
       "      <th>last_seen</th>\n",
       "      <th>date_crawled_month</th>\n",
       "      <th>registration_year_cut</th>\n",
       "      <th>power_cut</th>\n",
       "    </tr>\n",
       "  </thead>\n",
       "  <tbody>\n",
       "    <tr>\n",
       "      <th>206446</th>\n",
       "      <td>2016-03-17 15:25:23</td>\n",
       "      <td>900</td>\n",
       "      <td>small</td>\n",
       "      <td>1998</td>\n",
       "      <td>auto</td>\n",
       "      <td>54</td>\n",
       "      <td>corsa</td>\n",
       "      <td>70000</td>\n",
       "      <td>3</td>\n",
       "      <td>petrol</td>\n",
       "      <td>opel</td>\n",
       "      <td>no</td>\n",
       "      <td>2016-03-17 00:00:00</td>\n",
       "      <td>0</td>\n",
       "      <td>56288</td>\n",
       "      <td>2016-03-20 11:48:40</td>\n",
       "      <td>2016-03</td>\n",
       "      <td>Старая</td>\n",
       "      <td>Лиса</td>\n",
       "    </tr>\n",
       "  </tbody>\n",
       "</table>\n",
       "</div>"
      ],
      "text/plain": [
       "               date_crawled  price vehicle_type  registration_year gear_box  \\\n",
       "206446  2016-03-17 15:25:23    900        small               1998     auto   \n",
       "\n",
       "        power  model  kilometer  registration_month fuel_type brand  \\\n",
       "206446     54  corsa      70000                   3    petrol  opel   \n",
       "\n",
       "       not_repaired         date_created  number_of_pictures  postal_code  \\\n",
       "206446           no  2016-03-17 00:00:00                   0        56288   \n",
       "\n",
       "                  last_seen date_crawled_month registration_year_cut power_cut  \n",
       "206446  2016-03-20 11:48:40            2016-03                Старая      Лиса  "
      ]
     },
     "execution_count": 201,
     "metadata": {},
     "output_type": "execute_result"
    }
   ],
   "source": [
    "df.sample(1)"
   ]
  },
  {
   "cell_type": "code",
   "execution_count": 202,
   "metadata": {
    "pycharm": {
     "name": "#%%\n"
    }
   },
   "outputs": [
    {
     "data": {
      "text/plain": [
       "power_cut\n",
       "Лиса        1964.341173\n",
       "Косуля      2163.703420\n",
       "Зайка       3854.918804\n",
       "Антилопа    4254.008747\n",
       "Пантера     6055.078314\n",
       "Ракета      8542.878638\n",
       "Name: price, dtype: float64"
      ]
     },
     "execution_count": 202,
     "metadata": {},
     "output_type": "execute_result"
    }
   ],
   "source": [
    "df.groupby('power_cut')['price'].mean()"
   ]
  },
  {
   "cell_type": "code",
   "execution_count": 203,
   "metadata": {
    "pycharm": {
     "name": "#%%\n"
    }
   },
   "outputs": [
    {
     "data": {
      "text/plain": [
       "Зайка       66789\n",
       "Пантера     62952\n",
       "Косуля      60938\n",
       "Лиса        59275\n",
       "Ракета      54564\n",
       "Антилопа    49847\n",
       "Name: power_cut, dtype: int64"
      ]
     },
     "execution_count": 203,
     "metadata": {},
     "output_type": "execute_result"
    }
   ],
   "source": [
    "df['power_cut'].value_counts()"
   ]
  },
  {
   "cell_type": "code",
   "execution_count": 204,
   "metadata": {
    "pycharm": {
     "name": "#%%\n"
    }
   },
   "outputs": [],
   "source": [
    "df['power_cut'] = df['power_cut'].astype(str)"
   ]
  },
  {
   "cell_type": "markdown",
   "metadata": {
    "pycharm": {
     "name": "#%% md\n"
    }
   },
   "source": [
    "### model - модель автомобиля"
   ]
  },
  {
   "cell_type": "code",
   "execution_count": 205,
   "metadata": {
    "pycharm": {
     "name": "#%%\n"
    }
   },
   "outputs": [
    {
     "data": {
      "text/html": [
       "<div>\n",
       "<style scoped>\n",
       "    .dataframe tbody tr th:only-of-type {\n",
       "        vertical-align: middle;\n",
       "    }\n",
       "\n",
       "    .dataframe tbody tr th {\n",
       "        vertical-align: top;\n",
       "    }\n",
       "\n",
       "    .dataframe thead th {\n",
       "        text-align: right;\n",
       "    }\n",
       "</style>\n",
       "<table border=\"1\" class=\"dataframe\">\n",
       "  <thead>\n",
       "    <tr style=\"text-align: right;\">\n",
       "      <th></th>\n",
       "      <th>model</th>\n",
       "      <th>mean</th>\n",
       "    </tr>\n",
       "  </thead>\n",
       "  <tbody>\n",
       "    <tr>\n",
       "      <th>96</th>\n",
       "      <td>elefantino</td>\n",
       "      <td>522.636364</td>\n",
       "    </tr>\n",
       "    <tr>\n",
       "      <th>138</th>\n",
       "      <td>lanos</td>\n",
       "      <td>602.191011</td>\n",
       "    </tr>\n",
       "    <tr>\n",
       "      <th>155</th>\n",
       "      <td>move</td>\n",
       "      <td>606.366667</td>\n",
       "    </tr>\n",
       "    <tr>\n",
       "      <th>195</th>\n",
       "      <td>samara</td>\n",
       "      <td>680.307692</td>\n",
       "    </tr>\n",
       "    <tr>\n",
       "      <th>144</th>\n",
       "      <td>lybra</td>\n",
       "      <td>768.203704</td>\n",
       "    </tr>\n",
       "    <tr>\n",
       "      <th>...</th>\n",
       "      <td>...</td>\n",
       "      <td>...</td>\n",
       "    </tr>\n",
       "    <tr>\n",
       "      <th>184</th>\n",
       "      <td>range_rover_sport</td>\n",
       "      <td>15332.796296</td>\n",
       "    </tr>\n",
       "    <tr>\n",
       "      <th>30</th>\n",
       "      <td>a5</td>\n",
       "      <td>15531.853211</td>\n",
       "    </tr>\n",
       "    <tr>\n",
       "      <th>178</th>\n",
       "      <td>q5</td>\n",
       "      <td>15843.989691</td>\n",
       "    </tr>\n",
       "    <tr>\n",
       "      <th>115</th>\n",
       "      <td>glk</td>\n",
       "      <td>16057.515625</td>\n",
       "    </tr>\n",
       "    <tr>\n",
       "      <th>114</th>\n",
       "      <td>gl</td>\n",
       "      <td>16965.076923</td>\n",
       "    </tr>\n",
       "  </tbody>\n",
       "</table>\n",
       "<p>250 rows × 2 columns</p>\n",
       "</div>"
      ],
      "text/plain": [
       "                 model          mean\n",
       "96          elefantino    522.636364\n",
       "138              lanos    602.191011\n",
       "155               move    606.366667\n",
       "195             samara    680.307692\n",
       "144              lybra    768.203704\n",
       "..                 ...           ...\n",
       "184  range_rover_sport  15332.796296\n",
       "30                  a5  15531.853211\n",
       "178                 q5  15843.989691\n",
       "115                glk  16057.515625\n",
       "114                 gl  16965.076923\n",
       "\n",
       "[250 rows x 2 columns]"
      ]
     },
     "execution_count": 205,
     "metadata": {},
     "output_type": "execute_result"
    }
   ],
   "source": [
    "df.groupby('model')['price'].agg({'mean'}).reset_index().sort_values('mean')"
   ]
  },
  {
   "cell_type": "code",
   "execution_count": 206,
   "metadata": {
    "pycharm": {
     "name": "#%%\n"
    }
   },
   "outputs": [
    {
     "data": {
      "text/plain": [
       "golf                  29232\n",
       "other                 24420\n",
       "3er                   19761\n",
       "polo                  13066\n",
       "corsa                 12570\n",
       "                      ...  \n",
       "i3                        8\n",
       "serie_3                   4\n",
       "rangerover                4\n",
       "range_rover_evoque        2\n",
       "serie_1                   2\n",
       "Name: model, Length: 250, dtype: int64"
      ]
     },
     "execution_count": 206,
     "metadata": {},
     "output_type": "execute_result"
    }
   ],
   "source": [
    "df['model'].value_counts()"
   ]
  },
  {
   "cell_type": "markdown",
   "metadata": {
    "pycharm": {
     "name": "#%% md\n"
    }
   },
   "source": [
    "Средняя стоимость автомобиля зависит от модели. Так же надо заполнить пропуски"
   ]
  },
  {
   "cell_type": "markdown",
   "metadata": {
    "pycharm": {
     "name": "#%% md\n"
    }
   },
   "source": [
    "### kilometer - пробег (км)"
   ]
  },
  {
   "cell_type": "code",
   "execution_count": 207,
   "metadata": {},
   "outputs": [
    {
     "data": {
      "text/plain": [
       "count    354365.000000\n",
       "mean     128211.363989\n",
       "std       37905.083858\n",
       "min        5000.000000\n",
       "25%      125000.000000\n",
       "50%      150000.000000\n",
       "75%      150000.000000\n",
       "max      150000.000000\n",
       "Name: kilometer, dtype: float64"
      ]
     },
     "execution_count": 207,
     "metadata": {},
     "output_type": "execute_result"
    }
   ],
   "source": [
    "df['kilometer'].describe()"
   ]
  },
  {
   "cell_type": "markdown",
   "metadata": {
    "pycharm": {
     "name": "#%% md\n"
    }
   },
   "source": [
    "Здесь не вижу критичных значений, пропусков нет."
   ]
  },
  {
   "cell_type": "markdown",
   "metadata": {
    "pycharm": {
     "name": "#%% md\n"
    }
   },
   "source": [
    "### registration_month - месяц регистрации автомобиля"
   ]
  },
  {
   "cell_type": "code",
   "execution_count": 208,
   "metadata": {
    "pycharm": {
     "name": "#%%\n"
    }
   },
   "outputs": [
    {
     "data": {
      "image/png": "[encoded data removed]",
      "text/plain": [
       "<Figure size 720x360 with 1 Axes>"
      ]
     },
     "metadata": {
      "needs_background": "light"
     },
     "output_type": "display_data"
    }
   ],
   "source": [
    "plt.figure(figsize=(10, 5))\n",
    "plt.title(\"Распределение Месяц регистрации автомобиля\")\n",
    "df['registration_month'].hist(bins=13)\n",
    "plt.show()"
   ]
  },
  {
   "cell_type": "markdown",
   "metadata": {
    "pycharm": {
     "name": "#%% md\n"
    }
   },
   "source": [
    "Без аномалий"
   ]
  },
  {
   "cell_type": "markdown",
   "metadata": {
    "pycharm": {
     "name": "#%% md\n"
    }
   },
   "source": [
    "### fuel_type - тип топлива"
   ]
  },
  {
   "cell_type": "code",
   "execution_count": 209,
   "metadata": {
    "pycharm": {
     "name": "#%%\n"
    }
   },
   "outputs": [
    {
     "data": {
      "text/html": [
       "<div>\n",
       "<style scoped>\n",
       "    .dataframe tbody tr th:only-of-type {\n",
       "        vertical-align: middle;\n",
       "    }\n",
       "\n",
       "    .dataframe tbody tr th {\n",
       "        vertical-align: top;\n",
       "    }\n",
       "\n",
       "    .dataframe thead th {\n",
       "        text-align: right;\n",
       "    }\n",
       "</style>\n",
       "<table border=\"1\" class=\"dataframe\">\n",
       "  <thead>\n",
       "    <tr style=\"text-align: right;\">\n",
       "      <th></th>\n",
       "      <th>count</th>\n",
       "      <th>median</th>\n",
       "      <th>mean</th>\n",
       "    </tr>\n",
       "    <tr>\n",
       "      <th>fuel_type</th>\n",
       "      <th></th>\n",
       "      <th></th>\n",
       "      <th></th>\n",
       "    </tr>\n",
       "  </thead>\n",
       "  <tbody>\n",
       "    <tr>\n",
       "      <th>cng</th>\n",
       "      <td>565</td>\n",
       "      <td>3650.0</td>\n",
       "      <td>4464.661947</td>\n",
       "    </tr>\n",
       "    <tr>\n",
       "      <th>electric</th>\n",
       "      <td>90</td>\n",
       "      <td>5799.5</td>\n",
       "      <td>6657.711111</td>\n",
       "    </tr>\n",
       "    <tr>\n",
       "      <th>gasoline</th>\n",
       "      <td>98719</td>\n",
       "      <td>5200.0</td>\n",
       "      <td>6579.806542</td>\n",
       "    </tr>\n",
       "    <tr>\n",
       "      <th>hybrid</th>\n",
       "      <td>233</td>\n",
       "      <td>9990.0</td>\n",
       "      <td>9465.356223</td>\n",
       "    </tr>\n",
       "    <tr>\n",
       "      <th>lpg</th>\n",
       "      <td>5310</td>\n",
       "      <td>2983.5</td>\n",
       "      <td>4040.089831</td>\n",
       "    </tr>\n",
       "    <tr>\n",
       "      <th>other</th>\n",
       "      <td>204</td>\n",
       "      <td>974.5</td>\n",
       "      <td>2312.029412</td>\n",
       "    </tr>\n",
       "    <tr>\n",
       "      <th>petrol</th>\n",
       "      <td>216349</td>\n",
       "      <td>2000.0</td>\n",
       "      <td>3750.041775</td>\n",
       "    </tr>\n",
       "  </tbody>\n",
       "</table>\n",
       "</div>"
      ],
      "text/plain": [
       "            count  median         mean\n",
       "fuel_type                             \n",
       "cng           565  3650.0  4464.661947\n",
       "electric       90  5799.5  6657.711111\n",
       "gasoline    98719  5200.0  6579.806542\n",
       "hybrid        233  9990.0  9465.356223\n",
       "lpg          5310  2983.5  4040.089831\n",
       "other         204   974.5  2312.029412\n",
       "petrol     216349  2000.0  3750.041775"
      ]
     },
     "execution_count": 209,
     "metadata": {},
     "output_type": "execute_result"
    }
   ],
   "source": [
    "df.groupby('fuel_type')['price'].agg({'mean', 'count', 'median'})"
   ]
  },
  {
   "cell_type": "markdown",
   "metadata": {
    "pycharm": {
     "name": "#%% md\n"
    }
   },
   "source": [
    "Чаще всего встречаются типы petrol и gasolin, при этом средняя и медиана самые высокие в hybrid. Еще есть тип electric - их мало, но они дорогие, это будет особый сегмент"
   ]
  },
  {
   "cell_type": "markdown",
   "metadata": {
    "pycharm": {
     "name": "#%% md\n"
    }
   },
   "source": [
    "### brand - марка автомобиля"
   ]
  },
  {
   "cell_type": "code",
   "execution_count": 210,
   "metadata": {
    "pycharm": {
     "name": "#%%\n"
    }
   },
   "outputs": [
    {
     "data": {
      "text/html": [
       "<div>\n",
       "<style scoped>\n",
       "    .dataframe tbody tr th:only-of-type {\n",
       "        vertical-align: middle;\n",
       "    }\n",
       "\n",
       "    .dataframe tbody tr th {\n",
       "        vertical-align: top;\n",
       "    }\n",
       "\n",
       "    .dataframe thead th {\n",
       "        text-align: right;\n",
       "    }\n",
       "</style>\n",
       "<table border=\"1\" class=\"dataframe\">\n",
       "  <thead>\n",
       "    <tr style=\"text-align: right;\">\n",
       "      <th></th>\n",
       "      <th>count</th>\n",
       "      <th>median</th>\n",
       "      <th>mean</th>\n",
       "    </tr>\n",
       "    <tr>\n",
       "      <th>brand</th>\n",
       "      <th></th>\n",
       "      <th></th>\n",
       "      <th></th>\n",
       "    </tr>\n",
       "  </thead>\n",
       "  <tbody>\n",
       "    <tr>\n",
       "      <th>alfa_romeo</th>\n",
       "      <td>2314</td>\n",
       "      <td>2200.0</td>\n",
       "      <td>3697.622731</td>\n",
       "    </tr>\n",
       "    <tr>\n",
       "      <th>audi</th>\n",
       "      <td>29456</td>\n",
       "      <td>4600.0</td>\n",
       "      <td>6239.976507</td>\n",
       "    </tr>\n",
       "    <tr>\n",
       "      <th>bmw</th>\n",
       "      <td>36914</td>\n",
       "      <td>4799.0</td>\n",
       "      <td>6162.214661</td>\n",
       "    </tr>\n",
       "    <tr>\n",
       "      <th>chevrolet</th>\n",
       "      <td>1754</td>\n",
       "      <td>4000.0</td>\n",
       "      <td>5639.312429</td>\n",
       "    </tr>\n",
       "    <tr>\n",
       "      <th>chrysler</th>\n",
       "      <td>1439</td>\n",
       "      <td>2200.0</td>\n",
       "      <td>3710.838777</td>\n",
       "    </tr>\n",
       "    <tr>\n",
       "      <th>citroen</th>\n",
       "      <td>5148</td>\n",
       "      <td>2497.0</td>\n",
       "      <td>3467.194639</td>\n",
       "    </tr>\n",
       "    <tr>\n",
       "      <th>dacia</th>\n",
       "      <td>900</td>\n",
       "      <td>4800.0</td>\n",
       "      <td>5839.654444</td>\n",
       "    </tr>\n",
       "    <tr>\n",
       "      <th>daewoo</th>\n",
       "      <td>542</td>\n",
       "      <td>999.0</td>\n",
       "      <td>1017.811808</td>\n",
       "    </tr>\n",
       "    <tr>\n",
       "      <th>daihatsu</th>\n",
       "      <td>806</td>\n",
       "      <td>999.0</td>\n",
       "      <td>1693.656328</td>\n",
       "    </tr>\n",
       "    <tr>\n",
       "      <th>fiat</th>\n",
       "      <td>9643</td>\n",
       "      <td>1500.0</td>\n",
       "      <td>2694.944830</td>\n",
       "    </tr>\n",
       "    <tr>\n",
       "      <th>ford</th>\n",
       "      <td>25179</td>\n",
       "      <td>1650.0</td>\n",
       "      <td>3175.719846</td>\n",
       "    </tr>\n",
       "    <tr>\n",
       "      <th>honda</th>\n",
       "      <td>2817</td>\n",
       "      <td>2200.0</td>\n",
       "      <td>3649.479233</td>\n",
       "    </tr>\n",
       "    <tr>\n",
       "      <th>hyundai</th>\n",
       "      <td>3587</td>\n",
       "      <td>3850.0</td>\n",
       "      <td>5108.007248</td>\n",
       "    </tr>\n",
       "    <tr>\n",
       "      <th>jaguar</th>\n",
       "      <td>505</td>\n",
       "      <td>4990.0</td>\n",
       "      <td>6685.538614</td>\n",
       "    </tr>\n",
       "    <tr>\n",
       "      <th>jeep</th>\n",
       "      <td>677</td>\n",
       "      <td>5900.0</td>\n",
       "      <td>7065.096012</td>\n",
       "    </tr>\n",
       "    <tr>\n",
       "      <th>kia</th>\n",
       "      <td>2465</td>\n",
       "      <td>3400.0</td>\n",
       "      <td>4981.772414</td>\n",
       "    </tr>\n",
       "    <tr>\n",
       "      <th>lada</th>\n",
       "      <td>225</td>\n",
       "      <td>2500.0</td>\n",
       "      <td>3037.444444</td>\n",
       "    </tr>\n",
       "    <tr>\n",
       "      <th>lancia</th>\n",
       "      <td>471</td>\n",
       "      <td>1111.0</td>\n",
       "      <td>2351.031847</td>\n",
       "    </tr>\n",
       "    <tr>\n",
       "      <th>land_rover</th>\n",
       "      <td>545</td>\n",
       "      <td>7000.0</td>\n",
       "      <td>8429.365138</td>\n",
       "    </tr>\n",
       "    <tr>\n",
       "      <th>mazda</th>\n",
       "      <td>5615</td>\n",
       "      <td>2249.0</td>\n",
       "      <td>3620.883526</td>\n",
       "    </tr>\n",
       "    <tr>\n",
       "      <th>mercedes_benz</th>\n",
       "      <td>32044</td>\n",
       "      <td>4250.0</td>\n",
       "      <td>5910.673730</td>\n",
       "    </tr>\n",
       "    <tr>\n",
       "      <th>mini</th>\n",
       "      <td>3202</td>\n",
       "      <td>8200.0</td>\n",
       "      <td>8992.646159</td>\n",
       "    </tr>\n",
       "    <tr>\n",
       "      <th>mitsubishi</th>\n",
       "      <td>3022</td>\n",
       "      <td>1500.0</td>\n",
       "      <td>2932.187624</td>\n",
       "    </tr>\n",
       "    <tr>\n",
       "      <th>nissan</th>\n",
       "      <td>4941</td>\n",
       "      <td>1950.0</td>\n",
       "      <td>4084.704311</td>\n",
       "    </tr>\n",
       "    <tr>\n",
       "      <th>opel</th>\n",
       "      <td>39931</td>\n",
       "      <td>1500.0</td>\n",
       "      <td>2730.767549</td>\n",
       "    </tr>\n",
       "    <tr>\n",
       "      <th>peugeot</th>\n",
       "      <td>10998</td>\n",
       "      <td>2200.0</td>\n",
       "      <td>3111.897709</td>\n",
       "    </tr>\n",
       "    <tr>\n",
       "      <th>porsche</th>\n",
       "      <td>758</td>\n",
       "      <td>11900.0</td>\n",
       "      <td>10994.670185</td>\n",
       "    </tr>\n",
       "    <tr>\n",
       "      <th>renault</th>\n",
       "      <td>17927</td>\n",
       "      <td>1300.0</td>\n",
       "      <td>2269.627210</td>\n",
       "    </tr>\n",
       "    <tr>\n",
       "      <th>rover</th>\n",
       "      <td>486</td>\n",
       "      <td>949.0</td>\n",
       "      <td>1316.524691</td>\n",
       "    </tr>\n",
       "    <tr>\n",
       "      <th>saab</th>\n",
       "      <td>526</td>\n",
       "      <td>2394.5</td>\n",
       "      <td>3668.102662</td>\n",
       "    </tr>\n",
       "    <tr>\n",
       "      <th>seat</th>\n",
       "      <td>6907</td>\n",
       "      <td>2500.0</td>\n",
       "      <td>3997.564355</td>\n",
       "    </tr>\n",
       "    <tr>\n",
       "      <th>skoda</th>\n",
       "      <td>5500</td>\n",
       "      <td>4800.0</td>\n",
       "      <td>5909.606727</td>\n",
       "    </tr>\n",
       "    <tr>\n",
       "      <th>smart</th>\n",
       "      <td>5246</td>\n",
       "      <td>2800.0</td>\n",
       "      <td>3487.832634</td>\n",
       "    </tr>\n",
       "    <tr>\n",
       "      <th>sonstige_autos</th>\n",
       "      <td>3374</td>\n",
       "      <td>2999.0</td>\n",
       "      <td>5026.058684</td>\n",
       "    </tr>\n",
       "    <tr>\n",
       "      <th>subaru</th>\n",
       "      <td>762</td>\n",
       "      <td>1670.0</td>\n",
       "      <td>3698.850394</td>\n",
       "    </tr>\n",
       "    <tr>\n",
       "      <th>suzuki</th>\n",
       "      <td>2322</td>\n",
       "      <td>2990.0</td>\n",
       "      <td>3876.385874</td>\n",
       "    </tr>\n",
       "    <tr>\n",
       "      <th>toyota</th>\n",
       "      <td>4606</td>\n",
       "      <td>3999.0</td>\n",
       "      <td>4771.252063</td>\n",
       "    </tr>\n",
       "    <tr>\n",
       "      <th>trabant</th>\n",
       "      <td>589</td>\n",
       "      <td>900.0</td>\n",
       "      <td>1617.499151</td>\n",
       "    </tr>\n",
       "    <tr>\n",
       "      <th>volkswagen</th>\n",
       "      <td>77012</td>\n",
       "      <td>2699.0</td>\n",
       "      <td>4381.308004</td>\n",
       "    </tr>\n",
       "    <tr>\n",
       "      <th>volvo</th>\n",
       "      <td>3210</td>\n",
       "      <td>2374.5</td>\n",
       "      <td>4266.457632</td>\n",
       "    </tr>\n",
       "  </tbody>\n",
       "</table>\n",
       "</div>"
      ],
      "text/plain": [
       "                count   median          mean\n",
       "brand                                       \n",
       "alfa_romeo       2314   2200.0   3697.622731\n",
       "audi            29456   4600.0   6239.976507\n",
       "bmw             36914   4799.0   6162.214661\n",
       "chevrolet        1754   4000.0   5639.312429\n",
       "chrysler         1439   2200.0   3710.838777\n",
       "citroen          5148   2497.0   3467.194639\n",
       "dacia             900   4800.0   5839.654444\n",
       "daewoo            542    999.0   1017.811808\n",
       "daihatsu          806    999.0   1693.656328\n",
       "fiat             9643   1500.0   2694.944830\n",
       "ford            25179   1650.0   3175.719846\n",
       "honda            2817   2200.0   3649.479233\n",
       "hyundai          3587   3850.0   5108.007248\n",
       "jaguar            505   4990.0   6685.538614\n",
       "jeep              677   5900.0   7065.096012\n",
       "kia              2465   3400.0   4981.772414\n",
       "lada              225   2500.0   3037.444444\n",
       "lancia            471   1111.0   2351.031847\n",
       "land_rover        545   7000.0   8429.365138\n",
       "mazda            5615   2249.0   3620.883526\n",
       "mercedes_benz   32044   4250.0   5910.673730\n",
       "mini             3202   8200.0   8992.646159\n",
       "mitsubishi       3022   1500.0   2932.187624\n",
       "nissan           4941   1950.0   4084.704311\n",
       "opel            39931   1500.0   2730.767549\n",
       "peugeot         10998   2200.0   3111.897709\n",
       "porsche           758  11900.0  10994.670185\n",
       "renault         17927   1300.0   2269.627210\n",
       "rover             486    949.0   1316.524691\n",
       "saab              526   2394.5   3668.102662\n",
       "seat             6907   2500.0   3997.564355\n",
       "skoda            5500   4800.0   5909.606727\n",
       "smart            5246   2800.0   3487.832634\n",
       "sonstige_autos   3374   2999.0   5026.058684\n",
       "subaru            762   1670.0   3698.850394\n",
       "suzuki           2322   2990.0   3876.385874\n",
       "toyota           4606   3999.0   4771.252063\n",
       "trabant           589    900.0   1617.499151\n",
       "volkswagen      77012   2699.0   4381.308004\n",
       "volvo            3210   2374.5   4266.457632"
      ]
     },
     "execution_count": 210,
     "metadata": {},
     "output_type": "execute_result"
    }
   ],
   "source": [
    "df.groupby('brand')['price'].agg({'mean', 'count', 'median'})"
   ]
  },
  {
   "cell_type": "markdown",
   "metadata": {
    "pycharm": {
     "name": "#%% md\n"
    }
   },
   "source": [
    "У нас чаще всего встречаются volkswagen, они в среднем ценовом сегменте; среди дорогих выделяются porsche, mini и land rover - они самые дорогие и их не так много"
   ]
  },
  {
   "cell_type": "markdown",
   "metadata": {
    "pycharm": {
     "name": "#%% md\n"
    }
   },
   "source": [
    "### not_repaired - была машина в ремонте или нет"
   ]
  },
  {
   "cell_type": "code",
   "execution_count": 211,
   "metadata": {
    "pycharm": {
     "name": "#%%\n"
    }
   },
   "outputs": [
    {
     "data": {
      "text/plain": [
       "no     247158\n",
       "yes     36053\n",
       "Name: not_repaired, dtype: int64"
      ]
     },
     "execution_count": 211,
     "metadata": {},
     "output_type": "execute_result"
    }
   ],
   "source": [
    "df['not_repaired'].value_counts()"
   ]
  },
  {
   "cell_type": "markdown",
   "metadata": {
    "pycharm": {
     "name": "#%% md\n"
    }
   },
   "source": [
    "Здесь всего 2 значения и есть пропуски, в этом случае можно предположить что отсутствие данных о ремонте является его отсутствием"
   ]
  },
  {
   "cell_type": "markdown",
   "metadata": {
    "pycharm": {
     "name": "#%% md\n"
    }
   },
   "source": [
    "### date_created - дата создания анкеты"
   ]
  },
  {
   "cell_type": "code",
   "execution_count": 212,
   "metadata": {
    "pycharm": {
     "name": "#%%\n"
    }
   },
   "outputs": [
    {
     "data": {
      "text/plain": [
       "array([2016, 2015, 2014], dtype=int64)"
      ]
     },
     "execution_count": 212,
     "metadata": {},
     "output_type": "execute_result"
    }
   ],
   "source": [
    "pd.to_datetime(df['date_created']).dt.year.unique()"
   ]
  },
  {
   "cell_type": "code",
   "execution_count": 213,
   "metadata": {
    "pycharm": {
     "name": "#%%\n"
    }
   },
   "outputs": [
    {
     "data": {
      "text/plain": [
       "array([ 3,  4,  2,  1, 11, 12,  9,  8,  6], dtype=int64)"
      ]
     },
     "execution_count": 213,
     "metadata": {},
     "output_type": "execute_result"
    }
   ],
   "source": [
    "pd.to_datetime(df['date_created']).dt.month.unique()"
   ]
  },
  {
   "cell_type": "code",
   "execution_count": 214,
   "metadata": {
    "pycharm": {
     "name": "#%%\n"
    }
   },
   "outputs": [
    {
     "data": {
      "text/plain": [
       "('2014-03-10 00:00:00', '2016-04-07 00:00:00')"
      ]
     },
     "execution_count": 214,
     "metadata": {},
     "output_type": "execute_result"
    }
   ],
   "source": [
    "df['date_created'].min(), df['date_created'].max()"
   ]
  },
  {
   "cell_type": "markdown",
   "metadata": {
    "pycharm": {
     "name": "#%% md\n"
    }
   },
   "source": [
    "Даты создания анкеты у нас за 2 года с 2014. У нас нет наблюдений за май, июль, октябрь."
   ]
  },
  {
   "cell_type": "markdown",
   "metadata": {
    "pycharm": {
     "name": "#%% md\n"
    }
   },
   "source": [
    "### number_of_pictures - количество фотографий автомобиля"
   ]
  },
  {
   "cell_type": "code",
   "execution_count": 215,
   "metadata": {
    "pycharm": {
     "name": "#%%\n"
    }
   },
   "outputs": [
    {
     "data": {
      "text/plain": [
       "array([0], dtype=int64)"
      ]
     },
     "execution_count": 215,
     "metadata": {},
     "output_type": "execute_result"
    }
   ],
   "source": [
    "df['number_of_pictures'].unique()"
   ]
  },
  {
   "cell_type": "markdown",
   "metadata": {
    "pycharm": {
     "name": "#%% md\n"
    }
   },
   "source": [
    "Здесь только одно значение, значит фичу можно смело удалять"
   ]
  },
  {
   "cell_type": "markdown",
   "metadata": {
    "pycharm": {
     "name": "#%% md\n"
    }
   },
   "source": [
    "### postal_code - почтовый индекс владельца анкеты (пользователя)"
   ]
  },
  {
   "cell_type": "code",
   "execution_count": 216,
   "metadata": {
    "pycharm": {
     "name": "#%%\n"
    }
   },
   "outputs": [
    {
     "data": {
      "text/plain": [
       "array([70435, 66954, 90480, ..., 38528, 38325, 31096], dtype=int64)"
      ]
     },
     "execution_count": 216,
     "metadata": {},
     "output_type": "execute_result"
    }
   ],
   "source": [
    "df['postal_code'].unique()"
   ]
  },
  {
   "cell_type": "code",
   "execution_count": 217,
   "metadata": {
    "pycharm": {
     "name": "#%%\n"
    }
   },
   "outputs": [
    {
     "data": {
      "text/html": [
       "<div>\n",
       "<style scoped>\n",
       "    .dataframe tbody tr th:only-of-type {\n",
       "        vertical-align: middle;\n",
       "    }\n",
       "\n",
       "    .dataframe tbody tr th {\n",
       "        vertical-align: top;\n",
       "    }\n",
       "\n",
       "    .dataframe thead th {\n",
       "        text-align: right;\n",
       "    }\n",
       "</style>\n",
       "<table border=\"1\" class=\"dataframe\">\n",
       "  <thead>\n",
       "    <tr style=\"text-align: right;\">\n",
       "      <th></th>\n",
       "      <th>postal_code</th>\n",
       "      <th>price</th>\n",
       "    </tr>\n",
       "  </thead>\n",
       "  <tbody>\n",
       "    <tr>\n",
       "      <th>postal_code</th>\n",
       "      <td>1.000000</td>\n",
       "      <td>0.076058</td>\n",
       "    </tr>\n",
       "    <tr>\n",
       "      <th>price</th>\n",
       "      <td>0.076058</td>\n",
       "      <td>1.000000</td>\n",
       "    </tr>\n",
       "  </tbody>\n",
       "</table>\n",
       "</div>"
      ],
      "text/plain": [
       "             postal_code     price\n",
       "postal_code     1.000000  0.076058\n",
       "price           0.076058  1.000000"
      ]
     },
     "execution_count": 217,
     "metadata": {},
     "output_type": "execute_result"
    }
   ],
   "source": [
    "df[['postal_code', 'price']].corr()"
   ]
  },
  {
   "cell_type": "markdown",
   "metadata": {
    "pycharm": {
     "name": "#%% md\n"
    }
   },
   "source": [
    "Как и предполагалось, линейной зависимости между почтовым индексом и ценой нет, мы еще позже проверим насколько эта фича важна нам"
   ]
  },
  {
   "cell_type": "markdown",
   "metadata": {
    "pycharm": {
     "name": "#%% md\n"
    }
   },
   "source": [
    "### last_seen - дата последней активности пользователя"
   ]
  },
  {
   "cell_type": "code",
   "execution_count": 218,
   "metadata": {
    "pycharm": {
     "name": "#%%\n"
    }
   },
   "outputs": [
    {
     "data": {
      "text/plain": [
       "array([2016], dtype=int64)"
      ]
     },
     "execution_count": 218,
     "metadata": {},
     "output_type": "execute_result"
    }
   ],
   "source": [
    "pd.to_datetime(df['last_seen']).dt.year.unique()"
   ]
  },
  {
   "cell_type": "code",
   "execution_count": 219,
   "metadata": {
    "pycharm": {
     "name": "#%%\n"
    }
   },
   "outputs": [
    {
     "data": {
      "text/plain": [
       "array([4, 3], dtype=int64)"
      ]
     },
     "execution_count": 219,
     "metadata": {},
     "output_type": "execute_result"
    }
   ],
   "source": [
    "pd.to_datetime(df['last_seen']).dt.month.unique()"
   ]
  },
  {
   "cell_type": "markdown",
   "metadata": {},
   "source": [
    "Здесь уникальность значений похожа на date_crawled"
   ]
  },
  {
   "cell_type": "markdown",
   "metadata": {
    "pycharm": {
     "name": "#%% md\n"
    }
   },
   "source": [
    "### price - цена"
   ]
  },
  {
   "cell_type": "code",
   "execution_count": 220,
   "metadata": {
    "pycharm": {
     "name": "#%%\n"
    }
   },
   "outputs": [
    {
     "data": {
      "image/png": "[encoded data removed]",
      "text/plain": [
       "<Figure size 432x288 with 1 Axes>"
      ]
     },
     "metadata": {
      "needs_background": "light"
     },
     "output_type": "display_data"
    }
   ],
   "source": [
    "df['price'].hist()\n",
    "plt.title(\"График распределения цены\")\n",
    "plt.show()"
   ]
  },
  {
   "cell_type": "code",
   "execution_count": 221,
   "metadata": {
    "pycharm": {
     "name": "#%%\n"
    }
   },
   "outputs": [
    {
     "data": {
      "text/plain": [
       "count    354365.000000\n",
       "mean       4416.679830\n",
       "std        4514.176349\n",
       "min           0.000000\n",
       "25%        1050.000000\n",
       "50%        2700.000000\n",
       "75%        6400.000000\n",
       "max       20000.000000\n",
       "Name: price, dtype: float64"
      ]
     },
     "execution_count": 221,
     "metadata": {},
     "output_type": "execute_result"
    }
   ],
   "source": [
    "df['price'].describe()"
   ]
  },
  {
   "cell_type": "code",
   "execution_count": 222,
   "metadata": {
    "pycharm": {
     "name": "#%%\n"
    }
   },
   "outputs": [
    {
     "data": {
      "text/html": [
       "<div>\n",
       "<style scoped>\n",
       "    .dataframe tbody tr th:only-of-type {\n",
       "        vertical-align: middle;\n",
       "    }\n",
       "\n",
       "    .dataframe tbody tr th {\n",
       "        vertical-align: top;\n",
       "    }\n",
       "\n",
       "    .dataframe thead th {\n",
       "        text-align: right;\n",
       "    }\n",
       "</style>\n",
       "<table border=\"1\" class=\"dataframe\">\n",
       "  <thead>\n",
       "    <tr style=\"text-align: right;\">\n",
       "      <th></th>\n",
       "      <th>date_crawled</th>\n",
       "      <th>price</th>\n",
       "      <th>vehicle_type</th>\n",
       "      <th>registration_year</th>\n",
       "      <th>gear_box</th>\n",
       "      <th>power</th>\n",
       "      <th>model</th>\n",
       "      <th>kilometer</th>\n",
       "      <th>registration_month</th>\n",
       "      <th>fuel_type</th>\n",
       "      <th>brand</th>\n",
       "      <th>not_repaired</th>\n",
       "      <th>date_created</th>\n",
       "      <th>number_of_pictures</th>\n",
       "      <th>postal_code</th>\n",
       "      <th>last_seen</th>\n",
       "      <th>date_crawled_month</th>\n",
       "      <th>registration_year_cut</th>\n",
       "      <th>power_cut</th>\n",
       "    </tr>\n",
       "  </thead>\n",
       "  <tbody>\n",
       "    <tr>\n",
       "      <th>7</th>\n",
       "      <td>2016-03-21 18:54:38</td>\n",
       "      <td>0</td>\n",
       "      <td>sedan</td>\n",
       "      <td>1980</td>\n",
       "      <td>manual</td>\n",
       "      <td>50</td>\n",
       "      <td>other</td>\n",
       "      <td>40000</td>\n",
       "      <td>7</td>\n",
       "      <td>petrol</td>\n",
       "      <td>volkswagen</td>\n",
       "      <td>no</td>\n",
       "      <td>2016-03-21 00:00:00</td>\n",
       "      <td>0</td>\n",
       "      <td>19348</td>\n",
       "      <td>2016-03-25 16:47:58</td>\n",
       "      <td>2016-03</td>\n",
       "      <td>Долгожительная</td>\n",
       "      <td>Лиса</td>\n",
       "    </tr>\n",
       "    <tr>\n",
       "      <th>40</th>\n",
       "      <td>2016-03-26 22:06:17</td>\n",
       "      <td>0</td>\n",
       "      <td>NaN</td>\n",
       "      <td>1990</td>\n",
       "      <td>NaN</td>\n",
       "      <td>0</td>\n",
       "      <td>corsa</td>\n",
       "      <td>150000</td>\n",
       "      <td>1</td>\n",
       "      <td>petrol</td>\n",
       "      <td>opel</td>\n",
       "      <td>NaN</td>\n",
       "      <td>2016-03-26 00:00:00</td>\n",
       "      <td>0</td>\n",
       "      <td>56412</td>\n",
       "      <td>2016-03-27 17:43:34</td>\n",
       "      <td>2016-03</td>\n",
       "      <td>Долгожительная</td>\n",
       "      <td>Лиса</td>\n",
       "    </tr>\n",
       "    <tr>\n",
       "      <th>111</th>\n",
       "      <td>2016-03-19 18:40:12</td>\n",
       "      <td>0</td>\n",
       "      <td>NaN</td>\n",
       "      <td>2017</td>\n",
       "      <td>manual</td>\n",
       "      <td>0</td>\n",
       "      <td>golf</td>\n",
       "      <td>5000</td>\n",
       "      <td>12</td>\n",
       "      <td>petrol</td>\n",
       "      <td>volkswagen</td>\n",
       "      <td>NaN</td>\n",
       "      <td>2016-03-19 00:00:00</td>\n",
       "      <td>0</td>\n",
       "      <td>21698</td>\n",
       "      <td>2016-04-01 08:47:05</td>\n",
       "      <td>2016-03</td>\n",
       "      <td>Юная</td>\n",
       "      <td>Лиса</td>\n",
       "    </tr>\n",
       "    <tr>\n",
       "      <th>115</th>\n",
       "      <td>2016-03-20 18:53:27</td>\n",
       "      <td>0</td>\n",
       "      <td>small</td>\n",
       "      <td>1999</td>\n",
       "      <td>NaN</td>\n",
       "      <td>0</td>\n",
       "      <td>NaN</td>\n",
       "      <td>5000</td>\n",
       "      <td>0</td>\n",
       "      <td>petrol</td>\n",
       "      <td>volkswagen</td>\n",
       "      <td>NaN</td>\n",
       "      <td>2016-03-20 00:00:00</td>\n",
       "      <td>0</td>\n",
       "      <td>37520</td>\n",
       "      <td>2016-04-07 02:45:22</td>\n",
       "      <td>2016-03</td>\n",
       "      <td>Старая</td>\n",
       "      <td>Лиса</td>\n",
       "    </tr>\n",
       "    <tr>\n",
       "      <th>152</th>\n",
       "      <td>2016-03-11 18:55:53</td>\n",
       "      <td>0</td>\n",
       "      <td>bus</td>\n",
       "      <td>2004</td>\n",
       "      <td>manual</td>\n",
       "      <td>101</td>\n",
       "      <td>meriva</td>\n",
       "      <td>150000</td>\n",
       "      <td>10</td>\n",
       "      <td>lpg</td>\n",
       "      <td>opel</td>\n",
       "      <td>yes</td>\n",
       "      <td>2016-03-11 00:00:00</td>\n",
       "      <td>0</td>\n",
       "      <td>27432</td>\n",
       "      <td>2016-03-12 23:47:10</td>\n",
       "      <td>2016-03</td>\n",
       "      <td>Зрелая</td>\n",
       "      <td>Зайка</td>\n",
       "    </tr>\n",
       "    <tr>\n",
       "      <th>...</th>\n",
       "      <td>...</td>\n",
       "      <td>...</td>\n",
       "      <td>...</td>\n",
       "      <td>...</td>\n",
       "      <td>...</td>\n",
       "      <td>...</td>\n",
       "      <td>...</td>\n",
       "      <td>...</td>\n",
       "      <td>...</td>\n",
       "      <td>...</td>\n",
       "      <td>...</td>\n",
       "      <td>...</td>\n",
       "      <td>...</td>\n",
       "      <td>...</td>\n",
       "      <td>...</td>\n",
       "      <td>...</td>\n",
       "      <td>...</td>\n",
       "      <td>...</td>\n",
       "      <td>...</td>\n",
       "    </tr>\n",
       "    <tr>\n",
       "      <th>354205</th>\n",
       "      <td>2016-03-09 15:56:30</td>\n",
       "      <td>0</td>\n",
       "      <td>NaN</td>\n",
       "      <td>2000</td>\n",
       "      <td>manual</td>\n",
       "      <td>65</td>\n",
       "      <td>corsa</td>\n",
       "      <td>150000</td>\n",
       "      <td>0</td>\n",
       "      <td>NaN</td>\n",
       "      <td>opel</td>\n",
       "      <td>yes</td>\n",
       "      <td>2016-03-09 00:00:00</td>\n",
       "      <td>0</td>\n",
       "      <td>23758</td>\n",
       "      <td>2016-03-30 11:16:08</td>\n",
       "      <td>2016-03</td>\n",
       "      <td>Старая</td>\n",
       "      <td>Косуля</td>\n",
       "    </tr>\n",
       "    <tr>\n",
       "      <th>354238</th>\n",
       "      <td>2016-03-20 14:55:07</td>\n",
       "      <td>0</td>\n",
       "      <td>small</td>\n",
       "      <td>2002</td>\n",
       "      <td>manual</td>\n",
       "      <td>60</td>\n",
       "      <td>fiesta</td>\n",
       "      <td>150000</td>\n",
       "      <td>3</td>\n",
       "      <td>petrol</td>\n",
       "      <td>ford</td>\n",
       "      <td>NaN</td>\n",
       "      <td>2016-03-20 00:00:00</td>\n",
       "      <td>0</td>\n",
       "      <td>33659</td>\n",
       "      <td>2016-04-06 18:45:23</td>\n",
       "      <td>2016-03</td>\n",
       "      <td>Пожилая</td>\n",
       "      <td>Косуля</td>\n",
       "    </tr>\n",
       "    <tr>\n",
       "      <th>354248</th>\n",
       "      <td>2016-03-24 13:48:05</td>\n",
       "      <td>0</td>\n",
       "      <td>small</td>\n",
       "      <td>1999</td>\n",
       "      <td>manual</td>\n",
       "      <td>53</td>\n",
       "      <td>swift</td>\n",
       "      <td>150000</td>\n",
       "      <td>3</td>\n",
       "      <td>petrol</td>\n",
       "      <td>suzuki</td>\n",
       "      <td>NaN</td>\n",
       "      <td>2016-03-24 00:00:00</td>\n",
       "      <td>0</td>\n",
       "      <td>42329</td>\n",
       "      <td>2016-04-07 05:17:24</td>\n",
       "      <td>2016-03</td>\n",
       "      <td>Старая</td>\n",
       "      <td>Лиса</td>\n",
       "    </tr>\n",
       "    <tr>\n",
       "      <th>354277</th>\n",
       "      <td>2016-03-10 22:55:50</td>\n",
       "      <td>0</td>\n",
       "      <td>small</td>\n",
       "      <td>1999</td>\n",
       "      <td>manual</td>\n",
       "      <td>37</td>\n",
       "      <td>arosa</td>\n",
       "      <td>150000</td>\n",
       "      <td>7</td>\n",
       "      <td>petrol</td>\n",
       "      <td>seat</td>\n",
       "      <td>yes</td>\n",
       "      <td>2016-03-10 00:00:00</td>\n",
       "      <td>0</td>\n",
       "      <td>22559</td>\n",
       "      <td>2016-03-12 23:46:32</td>\n",
       "      <td>2016-03</td>\n",
       "      <td>Старая</td>\n",
       "      <td>Лиса</td>\n",
       "    </tr>\n",
       "    <tr>\n",
       "      <th>354364</th>\n",
       "      <td>2016-03-21 09:50:58</td>\n",
       "      <td>0</td>\n",
       "      <td>NaN</td>\n",
       "      <td>2005</td>\n",
       "      <td>manual</td>\n",
       "      <td>0</td>\n",
       "      <td>colt</td>\n",
       "      <td>150000</td>\n",
       "      <td>7</td>\n",
       "      <td>petrol</td>\n",
       "      <td>mitsubishi</td>\n",
       "      <td>yes</td>\n",
       "      <td>2016-03-21 00:00:00</td>\n",
       "      <td>0</td>\n",
       "      <td>2694</td>\n",
       "      <td>2016-03-21 10:42:49</td>\n",
       "      <td>2016-03</td>\n",
       "      <td>Зрелая</td>\n",
       "      <td>Лиса</td>\n",
       "    </tr>\n",
       "  </tbody>\n",
       "</table>\n",
       "<p>10772 rows × 19 columns</p>\n",
       "</div>"
      ],
      "text/plain": [
       "               date_crawled  price vehicle_type  registration_year gear_box  \\\n",
       "7       2016-03-21 18:54:38      0        sedan               1980   manual   \n",
       "40      2016-03-26 22:06:17      0          NaN               1990      NaN   \n",
       "111     2016-03-19 18:40:12      0          NaN               2017   manual   \n",
       "115     2016-03-20 18:53:27      0        small               1999      NaN   \n",
       "152     2016-03-11 18:55:53      0          bus               2004   manual   \n",
       "...                     ...    ...          ...                ...      ...   \n",
       "354205  2016-03-09 15:56:30      0          NaN               2000   manual   \n",
       "354238  2016-03-20 14:55:07      0        small               2002   manual   \n",
       "354248  2016-03-24 13:48:05      0        small               1999   manual   \n",
       "354277  2016-03-10 22:55:50      0        small               1999   manual   \n",
       "354364  2016-03-21 09:50:58      0          NaN               2005   manual   \n",
       "\n",
       "        power   model  kilometer  registration_month fuel_type       brand  \\\n",
       "7          50   other      40000                   7    petrol  volkswagen   \n",
       "40          0   corsa     150000                   1    petrol        opel   \n",
       "111         0    golf       5000                  12    petrol  volkswagen   \n",
       "115         0     NaN       5000                   0    petrol  volkswagen   \n",
       "152       101  meriva     150000                  10       lpg        opel   \n",
       "...       ...     ...        ...                 ...       ...         ...   \n",
       "354205     65   corsa     150000                   0       NaN        opel   \n",
       "354238     60  fiesta     150000                   3    petrol        ford   \n",
       "354248     53   swift     150000                   3    petrol      suzuki   \n",
       "354277     37   arosa     150000                   7    petrol        seat   \n",
       "354364      0    colt     150000                   7    petrol  mitsubishi   \n",
       "\n",
       "       not_repaired         date_created  number_of_pictures  postal_code  \\\n",
       "7                no  2016-03-21 00:00:00                   0        19348   \n",
       "40              NaN  2016-03-26 00:00:00                   0        56412   \n",
       "111             NaN  2016-03-19 00:00:00                   0        21698   \n",
       "115             NaN  2016-03-20 00:00:00                   0        37520   \n",
       "152             yes  2016-03-11 00:00:00                   0        27432   \n",
       "...             ...                  ...                 ...          ...   \n",
       "354205          yes  2016-03-09 00:00:00                   0        23758   \n",
       "354238          NaN  2016-03-20 00:00:00                   0        33659   \n",
       "354248          NaN  2016-03-24 00:00:00                   0        42329   \n",
       "354277          yes  2016-03-10 00:00:00                   0        22559   \n",
       "354364          yes  2016-03-21 00:00:00                   0         2694   \n",
       "\n",
       "                  last_seen date_crawled_month registration_year_cut power_cut  \n",
       "7       2016-03-25 16:47:58            2016-03        Долгожительная      Лиса  \n",
       "40      2016-03-27 17:43:34            2016-03        Долгожительная      Лиса  \n",
       "111     2016-04-01 08:47:05            2016-03                  Юная      Лиса  \n",
       "115     2016-04-07 02:45:22            2016-03                Старая      Лиса  \n",
       "152     2016-03-12 23:47:10            2016-03                Зрелая     Зайка  \n",
       "...                     ...                ...                   ...       ...  \n",
       "354205  2016-03-30 11:16:08            2016-03                Старая    Косуля  \n",
       "354238  2016-04-06 18:45:23            2016-03               Пожилая    Косуля  \n",
       "354248  2016-04-07 05:17:24            2016-03                Старая      Лиса  \n",
       "354277  2016-03-12 23:46:32            2016-03                Старая      Лиса  \n",
       "354364  2016-03-21 10:42:49            2016-03                Зрелая      Лиса  \n",
       "\n",
       "[10772 rows x 19 columns]"
      ]
     },
     "execution_count": 222,
     "metadata": {},
     "output_type": "execute_result"
    }
   ],
   "source": [
    "zero_price = df[df['price'] == 0].shape[0]\n",
    "df[df['price'] == 0]"
   ]
  },
  {
   "cell_type": "code",
   "execution_count": 223,
   "metadata": {
    "pycharm": {
     "name": "#%%\n"
    }
   },
   "outputs": [],
   "source": [
    "print(f\"Процент наблюдений с нулевой ценой: {zero_price/df.shape[0] * 100.:.2f}%\")"
   ]
  },
  {
   "cell_type": "code",
   "execution_count": 224,
   "metadata": {
    "pycharm": {
     "name": "#%%\n"
    }
   },
   "outputs": [],
   "source": [
    "df.loc[df['price'] == 0] = np.nan"
   ]
  },
  {
   "cell_type": "markdown",
   "metadata": {
    "pycharm": {
     "name": "#%% md\n"
    }
   },
   "source": [
    "Сбросили цену до нуля что бы заполнить ее модой"
   ]
  },
  {
   "cell_type": "markdown",
   "metadata": {
    "pycharm": {
     "name": "#%% md\n"
    }
   },
   "source": [
    "### Обработка неадекватных значений"
   ]
  },
  {
   "cell_type": "code",
   "execution_count": 225,
   "metadata": {
    "pycharm": {
     "name": "#%%\n"
    },
    "scrolled": true
   },
   "outputs": [
    {
     "data": {
      "text/plain": [
       "12946    5000.0\n",
       "15870    3200.0\n",
       "16062    1000.0\n",
       "17271    9999.0\n",
       "17346    8888.0\n",
       "Name: registration_year, dtype: float64"
      ]
     },
     "execution_count": 225,
     "metadata": {},
     "output_type": "execute_result"
    }
   ],
   "source": [
    "df[(df['registration_year'] > 2023) | (df['registration_year'] < 1900)]['registration_year'].head()"
   ]
  },
  {
   "cell_type": "code",
   "execution_count": 226,
   "metadata": {
    "pycharm": {
     "name": "#%%\n"
    }
   },
   "outputs": [],
   "source": [
    "miss_len = df[(df['registration_year'] > 2023) | (df['registration_year'] < 1900)].shape[0]\n",
    "print(f\"Процент наблюдений с максимальным пропуском: {miss_len/df.shape[0] * 100.:.2f}%\")"
   ]
  },
  {
   "cell_type": "code",
   "execution_count": 227,
   "metadata": {
    "pycharm": {
     "name": "#%%\n"
    }
   },
   "outputs": [],
   "source": [
    "df = df[~((df['registration_year'] > 2023) | (df['registration_year'] < 1900))]"
   ]
  },
  {
   "cell_type": "markdown",
   "metadata": {},
   "source": [
    "### Визуализация и работа с пропусками"
   ]
  },
  {
   "cell_type": "code",
   "execution_count": 228,
   "metadata": {
    "pycharm": {
     "name": "#%%\n"
    }
   },
   "outputs": [
    {
     "data": {
      "text/plain": [
       "Text(0.5, 1.0, 'Визуализация пропусков')"
      ]
     },
     "execution_count": 228,
     "metadata": {},
     "output_type": "execute_result"
    },
    {
     "data": {
      "image/png": "[encoded data removed]",
      "text/plain": [
       "<Figure size 864x504 with 2 Axes>"
      ]
     },
     "metadata": {
      "needs_background": "light"
     },
     "output_type": "display_data"
    }
   ],
   "source": [
    "msno.matrix(\n",
    "    df[['not_repaired',\n",
    "        'vehicle_type',\n",
    "        'fuel_type',\n",
    "        'gear_box',\n",
    "        'model']],\n",
    "    figsize=(12, 7),\n",
    "    sort='ascending',\n",
    ")\n",
    "plt.title(\"Визуализация пропусков\")"
   ]
  },
  {
   "cell_type": "code",
   "execution_count": 229,
   "metadata": {
    "pycharm": {
     "name": "#%%\n"
    }
   },
   "outputs": [
    {
     "data": {
      "text/plain": [
       "Text(0.5, 1.0, 'Матрица корреляций пропусков')"
      ]
     },
     "execution_count": 229,
     "metadata": {},
     "output_type": "execute_result"
    },
    {
     "data": {
      "image/png": "[encoded data removed]",
      "text/plain": [
       "<Figure size 504x504 with 2 Axes>"
      ]
     },
     "metadata": {
      "needs_background": "light"
     },
     "output_type": "display_data"
    }
   ],
   "source": [
    "msno.heatmap(\n",
    "    df[['not_repaired',\n",
    "        'vehicle_type',\n",
    "        'fuel_type',\n",
    "        'gear_box',\n",
    "        'model']],\n",
    "    figsize=(7, 7),\n",
    ")\n",
    "plt.title(\"Матрица корреляций пропусков\")"
   ]
  },
  {
   "cell_type": "markdown",
   "metadata": {
    "pycharm": {
     "name": "#%% md\n"
    }
   },
   "source": [
    "Видим, что у нас есть взаимосвязь пропусков, например 40% наблюдений, имеющих пропуски в fuel_type имеют пропуск в vehicle_type"
   ]
  },
  {
   "cell_type": "code",
   "execution_count": 230,
   "metadata": {
    "pycharm": {
     "name": "#%%\n"
    },
    "scrolled": true
   },
   "outputs": [
    {
     "data": {
      "text/plain": [
       "<AxesSubplot:>"
      ]
     },
     "execution_count": 230,
     "metadata": {},
     "output_type": "execute_result"
    },
    {
     "data": {
      "image/png": "[encoded data removed]",
      "text/plain": [
       "<Figure size 504x288 with 1 Axes>"
      ]
     },
     "metadata": {
      "needs_background": "light"
     },
     "output_type": "display_data"
    }
   ],
   "source": [
    "msno.dendrogram(\n",
    "    df[['not_repaired',\n",
    "        'vehicle_type',\n",
    "        'fuel_type',\n",
    "        'gear_box',\n",
    "        'model']],\n",
    "    figsize=(7, 4),\n",
    ")"
   ]
  },
  {
   "cell_type": "markdown",
   "metadata": {
    "pycharm": {
     "name": "#%% md\n"
    }
   },
   "source": [
    "Еще лучше видны взаимосвязи пропусков.\n",
    "Здесь можно сделать вывод, что наблюдения с взаимосвязанными пропусками будет сложнее восстановить. Посмотрим их количество"
   ]
  },
  {
   "cell_type": "code",
   "execution_count": 231,
   "metadata": {
    "pycharm": {
     "name": "#%%\n"
    }
   },
   "outputs": [
    {
     "data": {
      "text/html": [
       "<div>\n",
       "<style scoped>\n",
       "    .dataframe tbody tr th:only-of-type {\n",
       "        vertical-align: middle;\n",
       "    }\n",
       "\n",
       "    .dataframe tbody tr th {\n",
       "        vertical-align: top;\n",
       "    }\n",
       "\n",
       "    .dataframe thead th {\n",
       "        text-align: right;\n",
       "    }\n",
       "</style>\n",
       "<table border=\"1\" class=\"dataframe\">\n",
       "  <thead>\n",
       "    <tr style=\"text-align: right;\">\n",
       "      <th></th>\n",
       "      <th>date_crawled</th>\n",
       "      <th>price</th>\n",
       "      <th>vehicle_type</th>\n",
       "      <th>registration_year</th>\n",
       "      <th>gear_box</th>\n",
       "      <th>power</th>\n",
       "      <th>model</th>\n",
       "      <th>kilometer</th>\n",
       "      <th>registration_month</th>\n",
       "      <th>fuel_type</th>\n",
       "      <th>brand</th>\n",
       "      <th>not_repaired</th>\n",
       "      <th>date_created</th>\n",
       "      <th>number_of_pictures</th>\n",
       "      <th>postal_code</th>\n",
       "      <th>last_seen</th>\n",
       "      <th>date_crawled_month</th>\n",
       "      <th>registration_year_cut</th>\n",
       "      <th>power_cut</th>\n",
       "    </tr>\n",
       "  </thead>\n",
       "  <tbody>\n",
       "    <tr>\n",
       "      <th>7</th>\n",
       "      <td>NaN</td>\n",
       "      <td>NaN</td>\n",
       "      <td>NaN</td>\n",
       "      <td>NaN</td>\n",
       "      <td>NaN</td>\n",
       "      <td>NaN</td>\n",
       "      <td>NaN</td>\n",
       "      <td>NaN</td>\n",
       "      <td>NaN</td>\n",
       "      <td>NaN</td>\n",
       "      <td>NaN</td>\n",
       "      <td>NaN</td>\n",
       "      <td>NaN</td>\n",
       "      <td>NaN</td>\n",
       "      <td>NaN</td>\n",
       "      <td>NaN</td>\n",
       "      <td>NaN</td>\n",
       "      <td>NaN</td>\n",
       "      <td>NaN</td>\n",
       "    </tr>\n",
       "    <tr>\n",
       "      <th>40</th>\n",
       "      <td>NaN</td>\n",
       "      <td>NaN</td>\n",
       "      <td>NaN</td>\n",
       "      <td>NaN</td>\n",
       "      <td>NaN</td>\n",
       "      <td>NaN</td>\n",
       "      <td>NaN</td>\n",
       "      <td>NaN</td>\n",
       "      <td>NaN</td>\n",
       "      <td>NaN</td>\n",
       "      <td>NaN</td>\n",
       "      <td>NaN</td>\n",
       "      <td>NaN</td>\n",
       "      <td>NaN</td>\n",
       "      <td>NaN</td>\n",
       "      <td>NaN</td>\n",
       "      <td>NaN</td>\n",
       "      <td>NaN</td>\n",
       "      <td>NaN</td>\n",
       "    </tr>\n",
       "    <tr>\n",
       "      <th>111</th>\n",
       "      <td>NaN</td>\n",
       "      <td>NaN</td>\n",
       "      <td>NaN</td>\n",
       "      <td>NaN</td>\n",
       "      <td>NaN</td>\n",
       "      <td>NaN</td>\n",
       "      <td>NaN</td>\n",
       "      <td>NaN</td>\n",
       "      <td>NaN</td>\n",
       "      <td>NaN</td>\n",
       "      <td>NaN</td>\n",
       "      <td>NaN</td>\n",
       "      <td>NaN</td>\n",
       "      <td>NaN</td>\n",
       "      <td>NaN</td>\n",
       "      <td>NaN</td>\n",
       "      <td>NaN</td>\n",
       "      <td>NaN</td>\n",
       "      <td>NaN</td>\n",
       "    </tr>\n",
       "    <tr>\n",
       "      <th>115</th>\n",
       "      <td>NaN</td>\n",
       "      <td>NaN</td>\n",
       "      <td>NaN</td>\n",
       "      <td>NaN</td>\n",
       "      <td>NaN</td>\n",
       "      <td>NaN</td>\n",
       "      <td>NaN</td>\n",
       "      <td>NaN</td>\n",
       "      <td>NaN</td>\n",
       "      <td>NaN</td>\n",
       "      <td>NaN</td>\n",
       "      <td>NaN</td>\n",
       "      <td>NaN</td>\n",
       "      <td>NaN</td>\n",
       "      <td>NaN</td>\n",
       "      <td>NaN</td>\n",
       "      <td>NaN</td>\n",
       "      <td>NaN</td>\n",
       "      <td>NaN</td>\n",
       "    </tr>\n",
       "    <tr>\n",
       "      <th>152</th>\n",
       "      <td>NaN</td>\n",
       "      <td>NaN</td>\n",
       "      <td>NaN</td>\n",
       "      <td>NaN</td>\n",
       "      <td>NaN</td>\n",
       "      <td>NaN</td>\n",
       "      <td>NaN</td>\n",
       "      <td>NaN</td>\n",
       "      <td>NaN</td>\n",
       "      <td>NaN</td>\n",
       "      <td>NaN</td>\n",
       "      <td>NaN</td>\n",
       "      <td>NaN</td>\n",
       "      <td>NaN</td>\n",
       "      <td>NaN</td>\n",
       "      <td>NaN</td>\n",
       "      <td>NaN</td>\n",
       "      <td>NaN</td>\n",
       "      <td>NaN</td>\n",
       "    </tr>\n",
       "    <tr>\n",
       "      <th>...</th>\n",
       "      <td>...</td>\n",
       "      <td>...</td>\n",
       "      <td>...</td>\n",
       "      <td>...</td>\n",
       "      <td>...</td>\n",
       "      <td>...</td>\n",
       "      <td>...</td>\n",
       "      <td>...</td>\n",
       "      <td>...</td>\n",
       "      <td>...</td>\n",
       "      <td>...</td>\n",
       "      <td>...</td>\n",
       "      <td>...</td>\n",
       "      <td>...</td>\n",
       "      <td>...</td>\n",
       "      <td>...</td>\n",
       "      <td>...</td>\n",
       "      <td>...</td>\n",
       "      <td>...</td>\n",
       "    </tr>\n",
       "    <tr>\n",
       "      <th>354238</th>\n",
       "      <td>NaN</td>\n",
       "      <td>NaN</td>\n",
       "      <td>NaN</td>\n",
       "      <td>NaN</td>\n",
       "      <td>NaN</td>\n",
       "      <td>NaN</td>\n",
       "      <td>NaN</td>\n",
       "      <td>NaN</td>\n",
       "      <td>NaN</td>\n",
       "      <td>NaN</td>\n",
       "      <td>NaN</td>\n",
       "      <td>NaN</td>\n",
       "      <td>NaN</td>\n",
       "      <td>NaN</td>\n",
       "      <td>NaN</td>\n",
       "      <td>NaN</td>\n",
       "      <td>NaN</td>\n",
       "      <td>NaN</td>\n",
       "      <td>NaN</td>\n",
       "    </tr>\n",
       "    <tr>\n",
       "      <th>354248</th>\n",
       "      <td>NaN</td>\n",
       "      <td>NaN</td>\n",
       "      <td>NaN</td>\n",
       "      <td>NaN</td>\n",
       "      <td>NaN</td>\n",
       "      <td>NaN</td>\n",
       "      <td>NaN</td>\n",
       "      <td>NaN</td>\n",
       "      <td>NaN</td>\n",
       "      <td>NaN</td>\n",
       "      <td>NaN</td>\n",
       "      <td>NaN</td>\n",
       "      <td>NaN</td>\n",
       "      <td>NaN</td>\n",
       "      <td>NaN</td>\n",
       "      <td>NaN</td>\n",
       "      <td>NaN</td>\n",
       "      <td>NaN</td>\n",
       "      <td>NaN</td>\n",
       "    </tr>\n",
       "    <tr>\n",
       "      <th>354277</th>\n",
       "      <td>NaN</td>\n",
       "      <td>NaN</td>\n",
       "      <td>NaN</td>\n",
       "      <td>NaN</td>\n",
       "      <td>NaN</td>\n",
       "      <td>NaN</td>\n",
       "      <td>NaN</td>\n",
       "      <td>NaN</td>\n",
       "      <td>NaN</td>\n",
       "      <td>NaN</td>\n",
       "      <td>NaN</td>\n",
       "      <td>NaN</td>\n",
       "      <td>NaN</td>\n",
       "      <td>NaN</td>\n",
       "      <td>NaN</td>\n",
       "      <td>NaN</td>\n",
       "      <td>NaN</td>\n",
       "      <td>NaN</td>\n",
       "      <td>NaN</td>\n",
       "    </tr>\n",
       "    <tr>\n",
       "      <th>354364</th>\n",
       "      <td>NaN</td>\n",
       "      <td>NaN</td>\n",
       "      <td>NaN</td>\n",
       "      <td>NaN</td>\n",
       "      <td>NaN</td>\n",
       "      <td>NaN</td>\n",
       "      <td>NaN</td>\n",
       "      <td>NaN</td>\n",
       "      <td>NaN</td>\n",
       "      <td>NaN</td>\n",
       "      <td>NaN</td>\n",
       "      <td>NaN</td>\n",
       "      <td>NaN</td>\n",
       "      <td>NaN</td>\n",
       "      <td>NaN</td>\n",
       "      <td>NaN</td>\n",
       "      <td>NaN</td>\n",
       "      <td>NaN</td>\n",
       "      <td>NaN</td>\n",
       "    </tr>\n",
       "    <tr>\n",
       "      <th>354365</th>\n",
       "      <td>2016-03-14 17:48:27</td>\n",
       "      <td>2200.0</td>\n",
       "      <td>NaN</td>\n",
       "      <td>2005.0</td>\n",
       "      <td>NaN</td>\n",
       "      <td>0.0</td>\n",
       "      <td>NaN</td>\n",
       "      <td>20000.0</td>\n",
       "      <td>1.0</td>\n",
       "      <td>NaN</td>\n",
       "      <td>sonstige_autos</td>\n",
       "      <td>NaN</td>\n",
       "      <td>2016-03-14 00:00:00</td>\n",
       "      <td>0.0</td>\n",
       "      <td>39576.0</td>\n",
       "      <td>2016-04-06 00:46:52</td>\n",
       "      <td>2016-03</td>\n",
       "      <td>Зрелая</td>\n",
       "      <td>Лиса</td>\n",
       "    </tr>\n",
       "  </tbody>\n",
       "</table>\n",
       "<p>12348 rows × 19 columns</p>\n",
       "</div>"
      ],
      "text/plain": [
       "               date_crawled   price vehicle_type  registration_year gear_box  \\\n",
       "7                       NaN     NaN          NaN                NaN      NaN   \n",
       "40                      NaN     NaN          NaN                NaN      NaN   \n",
       "111                     NaN     NaN          NaN                NaN      NaN   \n",
       "115                     NaN     NaN          NaN                NaN      NaN   \n",
       "152                     NaN     NaN          NaN                NaN      NaN   \n",
       "...                     ...     ...          ...                ...      ...   \n",
       "354238                  NaN     NaN          NaN                NaN      NaN   \n",
       "354248                  NaN     NaN          NaN                NaN      NaN   \n",
       "354277                  NaN     NaN          NaN                NaN      NaN   \n",
       "354364                  NaN     NaN          NaN                NaN      NaN   \n",
       "354365  2016-03-14 17:48:27  2200.0          NaN             2005.0      NaN   \n",
       "\n",
       "        power model  kilometer  registration_month fuel_type           brand  \\\n",
       "7         NaN   NaN        NaN                 NaN       NaN             NaN   \n",
       "40        NaN   NaN        NaN                 NaN       NaN             NaN   \n",
       "111       NaN   NaN        NaN                 NaN       NaN             NaN   \n",
       "115       NaN   NaN        NaN                 NaN       NaN             NaN   \n",
       "152       NaN   NaN        NaN                 NaN       NaN             NaN   \n",
       "...       ...   ...        ...                 ...       ...             ...   \n",
       "354238    NaN   NaN        NaN                 NaN       NaN             NaN   \n",
       "354248    NaN   NaN        NaN                 NaN       NaN             NaN   \n",
       "354277    NaN   NaN        NaN                 NaN       NaN             NaN   \n",
       "354364    NaN   NaN        NaN                 NaN       NaN             NaN   \n",
       "354365    0.0   NaN    20000.0                 1.0       NaN  sonstige_autos   \n",
       "\n",
       "       not_repaired         date_created  number_of_pictures  postal_code  \\\n",
       "7               NaN                  NaN                 NaN          NaN   \n",
       "40              NaN                  NaN                 NaN          NaN   \n",
       "111             NaN                  NaN                 NaN          NaN   \n",
       "115             NaN                  NaN                 NaN          NaN   \n",
       "152             NaN                  NaN                 NaN          NaN   \n",
       "...             ...                  ...                 ...          ...   \n",
       "354238          NaN                  NaN                 NaN          NaN   \n",
       "354248          NaN                  NaN                 NaN          NaN   \n",
       "354277          NaN                  NaN                 NaN          NaN   \n",
       "354364          NaN                  NaN                 NaN          NaN   \n",
       "354365          NaN  2016-03-14 00:00:00                 0.0      39576.0   \n",
       "\n",
       "                  last_seen date_crawled_month registration_year_cut power_cut  \n",
       "7                       NaN                NaN                   NaN       NaN  \n",
       "40                      NaN                NaN                   NaN       NaN  \n",
       "111                     NaN                NaN                   NaN       NaN  \n",
       "115                     NaN                NaN                   NaN       NaN  \n",
       "152                     NaN                NaN                   NaN       NaN  \n",
       "...                     ...                ...                   ...       ...  \n",
       "354238                  NaN                NaN                   NaN       NaN  \n",
       "354248                  NaN                NaN                   NaN       NaN  \n",
       "354277                  NaN                NaN                   NaN       NaN  \n",
       "354364                  NaN                NaN                   NaN       NaN  \n",
       "354365  2016-04-06 00:46:52            2016-03                Зрелая      Лиса  \n",
       "\n",
       "[12348 rows x 19 columns]"
      ]
     },
     "execution_count": 231,
     "metadata": {},
     "output_type": "execute_result"
    }
   ],
   "source": [
    "miss_len = df[df['fuel_type'].isna() & df['vehicle_type'].isna() & df['model'].isna() & df['gear_box'].isna()].shape[0]\n",
    "df[df['fuel_type'].isna() & df['vehicle_type'].isna() & df['model'].isna() & df['gear_box'].isna()]"
   ]
  },
  {
   "cell_type": "code",
   "execution_count": 232,
   "metadata": {
    "pycharm": {
     "name": "#%%\n"
    }
   },
   "outputs": [],
   "source": [
    "print(f\"Процент наблюдений с максимальным пропуском: {miss_len/df.shape[0] * 100.:.2f}\")"
   ]
  },
  {
   "cell_type": "markdown",
   "metadata": {
    "pycharm": {
     "name": "#%% md\n"
    }
   },
   "source": [
    "Процент наблюдений с максимальным количеством пропусков меньше 1, что в целом дает нам право пожертвовать этими наблюдениями, так как мы можем иначе создать больше шума в данных."
   ]
  },
  {
   "cell_type": "code",
   "execution_count": 233,
   "metadata": {
    "pycharm": {
     "name": "#%%\n"
    }
   },
   "outputs": [],
   "source": [
    "df_fisrt_clen = df[~(df['fuel_type'].isna() & df['vehicle_type'].isna() & df['model'].isna() & df['gear_box'].isna())]"
   ]
  },
  {
   "cell_type": "code",
   "execution_count": 234,
   "metadata": {
    "pycharm": {
     "name": "#%%\n"
    }
   },
   "outputs": [
    {
     "data": {
      "text/html": [
       "<div>\n",
       "<style scoped>\n",
       "    .dataframe tbody tr th:only-of-type {\n",
       "        vertical-align: middle;\n",
       "    }\n",
       "\n",
       "    .dataframe tbody tr th {\n",
       "        vertical-align: top;\n",
       "    }\n",
       "\n",
       "    .dataframe thead th {\n",
       "        text-align: right;\n",
       "    }\n",
       "</style>\n",
       "<table border=\"1\" class=\"dataframe\">\n",
       "  <thead>\n",
       "    <tr style=\"text-align: right;\">\n",
       "      <th></th>\n",
       "      <th>date_crawled</th>\n",
       "      <th>price</th>\n",
       "      <th>vehicle_type</th>\n",
       "      <th>registration_year</th>\n",
       "      <th>gear_box</th>\n",
       "      <th>power</th>\n",
       "      <th>model</th>\n",
       "      <th>kilometer</th>\n",
       "      <th>registration_month</th>\n",
       "      <th>fuel_type</th>\n",
       "      <th>brand</th>\n",
       "      <th>not_repaired</th>\n",
       "      <th>date_created</th>\n",
       "      <th>number_of_pictures</th>\n",
       "      <th>postal_code</th>\n",
       "      <th>last_seen</th>\n",
       "      <th>date_crawled_month</th>\n",
       "      <th>registration_year_cut</th>\n",
       "      <th>power_cut</th>\n",
       "    </tr>\n",
       "  </thead>\n",
       "  <tbody>\n",
       "    <tr>\n",
       "      <th>0</th>\n",
       "      <td>2016-03-24 11:52:17</td>\n",
       "      <td>480.0</td>\n",
       "      <td>NaN</td>\n",
       "      <td>1993.0</td>\n",
       "      <td>manual</td>\n",
       "      <td>0.0</td>\n",
       "      <td>golf</td>\n",
       "      <td>150000.0</td>\n",
       "      <td>0.0</td>\n",
       "      <td>petrol</td>\n",
       "      <td>volkswagen</td>\n",
       "      <td>NaN</td>\n",
       "      <td>2016-03-24 00:00:00</td>\n",
       "      <td>0.0</td>\n",
       "      <td>70435.0</td>\n",
       "      <td>2016-04-07 03:16:57</td>\n",
       "      <td>2016-03</td>\n",
       "      <td>Долгожительная</td>\n",
       "      <td>Лиса</td>\n",
       "    </tr>\n",
       "    <tr>\n",
       "      <th>1</th>\n",
       "      <td>2016-03-24 10:58:45</td>\n",
       "      <td>18300.0</td>\n",
       "      <td>coupe</td>\n",
       "      <td>2011.0</td>\n",
       "      <td>manual</td>\n",
       "      <td>190.0</td>\n",
       "      <td>NaN</td>\n",
       "      <td>125000.0</td>\n",
       "      <td>5.0</td>\n",
       "      <td>gasoline</td>\n",
       "      <td>audi</td>\n",
       "      <td>yes</td>\n",
       "      <td>2016-03-24 00:00:00</td>\n",
       "      <td>0.0</td>\n",
       "      <td>66954.0</td>\n",
       "      <td>2016-04-07 01:46:50</td>\n",
       "      <td>2016-03</td>\n",
       "      <td>Юная</td>\n",
       "      <td>Ракета</td>\n",
       "    </tr>\n",
       "    <tr>\n",
       "      <th>2</th>\n",
       "      <td>2016-03-14 12:52:21</td>\n",
       "      <td>9800.0</td>\n",
       "      <td>suv</td>\n",
       "      <td>2004.0</td>\n",
       "      <td>auto</td>\n",
       "      <td>163.0</td>\n",
       "      <td>grand</td>\n",
       "      <td>125000.0</td>\n",
       "      <td>8.0</td>\n",
       "      <td>gasoline</td>\n",
       "      <td>jeep</td>\n",
       "      <td>NaN</td>\n",
       "      <td>2016-03-14 00:00:00</td>\n",
       "      <td>0.0</td>\n",
       "      <td>90480.0</td>\n",
       "      <td>2016-04-05 12:47:46</td>\n",
       "      <td>2016-03</td>\n",
       "      <td>Зрелая</td>\n",
       "      <td>Пантера</td>\n",
       "    </tr>\n",
       "    <tr>\n",
       "      <th>3</th>\n",
       "      <td>2016-03-17 16:54:04</td>\n",
       "      <td>1500.0</td>\n",
       "      <td>small</td>\n",
       "      <td>2001.0</td>\n",
       "      <td>manual</td>\n",
       "      <td>75.0</td>\n",
       "      <td>golf</td>\n",
       "      <td>150000.0</td>\n",
       "      <td>6.0</td>\n",
       "      <td>petrol</td>\n",
       "      <td>volkswagen</td>\n",
       "      <td>no</td>\n",
       "      <td>2016-03-17 00:00:00</td>\n",
       "      <td>0.0</td>\n",
       "      <td>91074.0</td>\n",
       "      <td>2016-03-17 17:40:17</td>\n",
       "      <td>2016-03</td>\n",
       "      <td>Пожилая</td>\n",
       "      <td>Косуля</td>\n",
       "    </tr>\n",
       "    <tr>\n",
       "      <th>4</th>\n",
       "      <td>2016-03-31 17:25:20</td>\n",
       "      <td>3600.0</td>\n",
       "      <td>small</td>\n",
       "      <td>2008.0</td>\n",
       "      <td>manual</td>\n",
       "      <td>69.0</td>\n",
       "      <td>fabia</td>\n",
       "      <td>90000.0</td>\n",
       "      <td>7.0</td>\n",
       "      <td>gasoline</td>\n",
       "      <td>skoda</td>\n",
       "      <td>no</td>\n",
       "      <td>2016-03-31 00:00:00</td>\n",
       "      <td>0.0</td>\n",
       "      <td>60437.0</td>\n",
       "      <td>2016-04-06 10:17:21</td>\n",
       "      <td>2016-03</td>\n",
       "      <td>Молодая</td>\n",
       "      <td>Косуля</td>\n",
       "    </tr>\n",
       "    <tr>\n",
       "      <th>...</th>\n",
       "      <td>...</td>\n",
       "      <td>...</td>\n",
       "      <td>...</td>\n",
       "      <td>...</td>\n",
       "      <td>...</td>\n",
       "      <td>...</td>\n",
       "      <td>...</td>\n",
       "      <td>...</td>\n",
       "      <td>...</td>\n",
       "      <td>...</td>\n",
       "      <td>...</td>\n",
       "      <td>...</td>\n",
       "      <td>...</td>\n",
       "      <td>...</td>\n",
       "      <td>...</td>\n",
       "      <td>...</td>\n",
       "      <td>...</td>\n",
       "      <td>...</td>\n",
       "      <td>...</td>\n",
       "    </tr>\n",
       "    <tr>\n",
       "      <th>354362</th>\n",
       "      <td>2016-03-19 19:53:49</td>\n",
       "      <td>3200.0</td>\n",
       "      <td>sedan</td>\n",
       "      <td>2004.0</td>\n",
       "      <td>manual</td>\n",
       "      <td>225.0</td>\n",
       "      <td>leon</td>\n",
       "      <td>150000.0</td>\n",
       "      <td>5.0</td>\n",
       "      <td>petrol</td>\n",
       "      <td>seat</td>\n",
       "      <td>yes</td>\n",
       "      <td>2016-03-19 00:00:00</td>\n",
       "      <td>0.0</td>\n",
       "      <td>96465.0</td>\n",
       "      <td>2016-03-19 20:44:43</td>\n",
       "      <td>2016-03</td>\n",
       "      <td>Зрелая</td>\n",
       "      <td>Ракета</td>\n",
       "    </tr>\n",
       "    <tr>\n",
       "      <th>354363</th>\n",
       "      <td>2016-03-27 20:36:20</td>\n",
       "      <td>1150.0</td>\n",
       "      <td>bus</td>\n",
       "      <td>2000.0</td>\n",
       "      <td>manual</td>\n",
       "      <td>0.0</td>\n",
       "      <td>zafira</td>\n",
       "      <td>150000.0</td>\n",
       "      <td>3.0</td>\n",
       "      <td>petrol</td>\n",
       "      <td>opel</td>\n",
       "      <td>no</td>\n",
       "      <td>2016-03-27 00:00:00</td>\n",
       "      <td>0.0</td>\n",
       "      <td>26624.0</td>\n",
       "      <td>2016-03-29 10:17:23</td>\n",
       "      <td>2016-03</td>\n",
       "      <td>Старая</td>\n",
       "      <td>Лиса</td>\n",
       "    </tr>\n",
       "    <tr>\n",
       "      <th>354366</th>\n",
       "      <td>2016-03-05 19:56:21</td>\n",
       "      <td>1199.0</td>\n",
       "      <td>convertible</td>\n",
       "      <td>2000.0</td>\n",
       "      <td>auto</td>\n",
       "      <td>101.0</td>\n",
       "      <td>fortwo</td>\n",
       "      <td>125000.0</td>\n",
       "      <td>3.0</td>\n",
       "      <td>petrol</td>\n",
       "      <td>smart</td>\n",
       "      <td>no</td>\n",
       "      <td>2016-03-05 00:00:00</td>\n",
       "      <td>0.0</td>\n",
       "      <td>26135.0</td>\n",
       "      <td>2016-03-11 18:17:12</td>\n",
       "      <td>2016-03</td>\n",
       "      <td>Старая</td>\n",
       "      <td>Зайка</td>\n",
       "    </tr>\n",
       "    <tr>\n",
       "      <th>354367</th>\n",
       "      <td>2016-03-19 18:57:12</td>\n",
       "      <td>9200.0</td>\n",
       "      <td>bus</td>\n",
       "      <td>1996.0</td>\n",
       "      <td>manual</td>\n",
       "      <td>102.0</td>\n",
       "      <td>transporter</td>\n",
       "      <td>150000.0</td>\n",
       "      <td>3.0</td>\n",
       "      <td>gasoline</td>\n",
       "      <td>volkswagen</td>\n",
       "      <td>no</td>\n",
       "      <td>2016-03-19 00:00:00</td>\n",
       "      <td>0.0</td>\n",
       "      <td>87439.0</td>\n",
       "      <td>2016-04-07 07:15:26</td>\n",
       "      <td>2016-03</td>\n",
       "      <td>Долгожительная</td>\n",
       "      <td>Зайка</td>\n",
       "    </tr>\n",
       "    <tr>\n",
       "      <th>354368</th>\n",
       "      <td>2016-03-20 19:41:08</td>\n",
       "      <td>3400.0</td>\n",
       "      <td>wagon</td>\n",
       "      <td>2002.0</td>\n",
       "      <td>manual</td>\n",
       "      <td>100.0</td>\n",
       "      <td>golf</td>\n",
       "      <td>150000.0</td>\n",
       "      <td>6.0</td>\n",
       "      <td>gasoline</td>\n",
       "      <td>volkswagen</td>\n",
       "      <td>NaN</td>\n",
       "      <td>2016-03-20 00:00:00</td>\n",
       "      <td>0.0</td>\n",
       "      <td>40764.0</td>\n",
       "      <td>2016-03-24 12:45:21</td>\n",
       "      <td>2016-03</td>\n",
       "      <td>Пожилая</td>\n",
       "      <td>Зайка</td>\n",
       "    </tr>\n",
       "  </tbody>\n",
       "</table>\n",
       "<p>341878 rows × 19 columns</p>\n",
       "</div>"
      ],
      "text/plain": [
       "               date_crawled    price vehicle_type  registration_year gear_box  \\\n",
       "0       2016-03-24 11:52:17    480.0          NaN             1993.0   manual   \n",
       "1       2016-03-24 10:58:45  18300.0        coupe             2011.0   manual   \n",
       "2       2016-03-14 12:52:21   9800.0          suv             2004.0     auto   \n",
       "3       2016-03-17 16:54:04   1500.0        small             2001.0   manual   \n",
       "4       2016-03-31 17:25:20   3600.0        small             2008.0   manual   \n",
       "...                     ...      ...          ...                ...      ...   \n",
       "354362  2016-03-19 19:53:49   3200.0        sedan             2004.0   manual   \n",
       "354363  2016-03-27 20:36:20   1150.0          bus             2000.0   manual   \n",
       "354366  2016-03-05 19:56:21   1199.0  convertible             2000.0     auto   \n",
       "354367  2016-03-19 18:57:12   9200.0          bus             1996.0   manual   \n",
       "354368  2016-03-20 19:41:08   3400.0        wagon             2002.0   manual   \n",
       "\n",
       "        power        model  kilometer  registration_month fuel_type  \\\n",
       "0         0.0         golf   150000.0                 0.0    petrol   \n",
       "1       190.0          NaN   125000.0                 5.0  gasoline   \n",
       "2       163.0        grand   125000.0                 8.0  gasoline   \n",
       "3        75.0         golf   150000.0                 6.0    petrol   \n",
       "4        69.0        fabia    90000.0                 7.0  gasoline   \n",
       "...       ...          ...        ...                 ...       ...   \n",
       "354362  225.0         leon   150000.0                 5.0    petrol   \n",
       "354363    0.0       zafira   150000.0                 3.0    petrol   \n",
       "354366  101.0       fortwo   125000.0                 3.0    petrol   \n",
       "354367  102.0  transporter   150000.0                 3.0  gasoline   \n",
       "354368  100.0         golf   150000.0                 6.0  gasoline   \n",
       "\n",
       "             brand not_repaired         date_created  number_of_pictures  \\\n",
       "0       volkswagen          NaN  2016-03-24 00:00:00                 0.0   \n",
       "1             audi          yes  2016-03-24 00:00:00                 0.0   \n",
       "2             jeep          NaN  2016-03-14 00:00:00                 0.0   \n",
       "3       volkswagen           no  2016-03-17 00:00:00                 0.0   \n",
       "4            skoda           no  2016-03-31 00:00:00                 0.0   \n",
       "...            ...          ...                  ...                 ...   \n",
       "354362        seat          yes  2016-03-19 00:00:00                 0.0   \n",
       "354363        opel           no  2016-03-27 00:00:00                 0.0   \n",
       "354366       smart           no  2016-03-05 00:00:00                 0.0   \n",
       "354367  volkswagen           no  2016-03-19 00:00:00                 0.0   \n",
       "354368  volkswagen          NaN  2016-03-20 00:00:00                 0.0   \n",
       "\n",
       "        postal_code            last_seen date_crawled_month  \\\n",
       "0           70435.0  2016-04-07 03:16:57            2016-03   \n",
       "1           66954.0  2016-04-07 01:46:50            2016-03   \n",
       "2           90480.0  2016-04-05 12:47:46            2016-03   \n",
       "3           91074.0  2016-03-17 17:40:17            2016-03   \n",
       "4           60437.0  2016-04-06 10:17:21            2016-03   \n",
       "...             ...                  ...                ...   \n",
       "354362      96465.0  2016-03-19 20:44:43            2016-03   \n",
       "354363      26624.0  2016-03-29 10:17:23            2016-03   \n",
       "354366      26135.0  2016-03-11 18:17:12            2016-03   \n",
       "354367      87439.0  2016-04-07 07:15:26            2016-03   \n",
       "354368      40764.0  2016-03-24 12:45:21            2016-03   \n",
       "\n",
       "       registration_year_cut power_cut  \n",
       "0             Долгожительная      Лиса  \n",
       "1                       Юная    Ракета  \n",
       "2                     Зрелая   Пантера  \n",
       "3                    Пожилая    Косуля  \n",
       "4                    Молодая    Косуля  \n",
       "...                      ...       ...  \n",
       "354362                Зрелая    Ракета  \n",
       "354363                Старая      Лиса  \n",
       "354366                Старая     Зайка  \n",
       "354367        Долгожительная     Зайка  \n",
       "354368               Пожилая     Зайка  \n",
       "\n",
       "[341878 rows x 19 columns]"
      ]
     },
     "execution_count": 234,
     "metadata": {},
     "output_type": "execute_result"
    }
   ],
   "source": [
    "df_fisrt_clen"
   ]
  },
  {
   "cell_type": "code",
   "execution_count": 235,
   "metadata": {
    "pycharm": {
     "name": "#%%\n"
    }
   },
   "outputs": [
    {
     "data": {
      "text/html": [
       "<div>\n",
       "<style scoped>\n",
       "    .dataframe tbody tr th:only-of-type {\n",
       "        vertical-align: middle;\n",
       "    }\n",
       "\n",
       "    .dataframe tbody tr th {\n",
       "        vertical-align: top;\n",
       "    }\n",
       "\n",
       "    .dataframe thead th {\n",
       "        text-align: right;\n",
       "    }\n",
       "</style>\n",
       "<table border=\"1\" class=\"dataframe\">\n",
       "  <thead>\n",
       "    <tr style=\"text-align: right;\">\n",
       "      <th></th>\n",
       "      <th>date_crawled</th>\n",
       "      <th>price</th>\n",
       "      <th>vehicle_type</th>\n",
       "      <th>registration_year</th>\n",
       "      <th>gear_box</th>\n",
       "      <th>power</th>\n",
       "      <th>model</th>\n",
       "      <th>kilometer</th>\n",
       "      <th>registration_month</th>\n",
       "      <th>fuel_type</th>\n",
       "      <th>brand</th>\n",
       "      <th>not_repaired</th>\n",
       "      <th>date_created</th>\n",
       "      <th>number_of_pictures</th>\n",
       "      <th>postal_code</th>\n",
       "      <th>last_seen</th>\n",
       "      <th>date_crawled_month</th>\n",
       "      <th>registration_year_cut</th>\n",
       "      <th>power_cut</th>\n",
       "    </tr>\n",
       "  </thead>\n",
       "  <tbody>\n",
       "    <tr>\n",
       "      <th>7</th>\n",
       "      <td>NaN</td>\n",
       "      <td>NaN</td>\n",
       "      <td>NaN</td>\n",
       "      <td>NaN</td>\n",
       "      <td>NaN</td>\n",
       "      <td>NaN</td>\n",
       "      <td>NaN</td>\n",
       "      <td>NaN</td>\n",
       "      <td>NaN</td>\n",
       "      <td>NaN</td>\n",
       "      <td>NaN</td>\n",
       "      <td>NaN</td>\n",
       "      <td>NaN</td>\n",
       "      <td>NaN</td>\n",
       "      <td>NaN</td>\n",
       "      <td>NaN</td>\n",
       "      <td>NaN</td>\n",
       "      <td>NaN</td>\n",
       "      <td>NaN</td>\n",
       "    </tr>\n",
       "    <tr>\n",
       "      <th>26</th>\n",
       "      <td>2016-03-10 19:38:18</td>\n",
       "      <td>5555.0</td>\n",
       "      <td>NaN</td>\n",
       "      <td>2017.0</td>\n",
       "      <td>manual</td>\n",
       "      <td>125.0</td>\n",
       "      <td>c4</td>\n",
       "      <td>125000.0</td>\n",
       "      <td>4.0</td>\n",
       "      <td>NaN</td>\n",
       "      <td>citroen</td>\n",
       "      <td>no</td>\n",
       "      <td>2016-03-10 00:00:00</td>\n",
       "      <td>0.0</td>\n",
       "      <td>31139.0</td>\n",
       "      <td>2016-03-16 09:16:46</td>\n",
       "      <td>2016-03</td>\n",
       "      <td>Юная</td>\n",
       "      <td>Антилопа</td>\n",
       "    </tr>\n",
       "    <tr>\n",
       "      <th>40</th>\n",
       "      <td>NaN</td>\n",
       "      <td>NaN</td>\n",
       "      <td>NaN</td>\n",
       "      <td>NaN</td>\n",
       "      <td>NaN</td>\n",
       "      <td>NaN</td>\n",
       "      <td>NaN</td>\n",
       "      <td>NaN</td>\n",
       "      <td>NaN</td>\n",
       "      <td>NaN</td>\n",
       "      <td>NaN</td>\n",
       "      <td>NaN</td>\n",
       "      <td>NaN</td>\n",
       "      <td>NaN</td>\n",
       "      <td>NaN</td>\n",
       "      <td>NaN</td>\n",
       "      <td>NaN</td>\n",
       "      <td>NaN</td>\n",
       "      <td>NaN</td>\n",
       "    </tr>\n",
       "    <tr>\n",
       "      <th>52</th>\n",
       "      <td>2016-04-04 10:57:36</td>\n",
       "      <td>1400.0</td>\n",
       "      <td>NaN</td>\n",
       "      <td>2016.0</td>\n",
       "      <td>manual</td>\n",
       "      <td>55.0</td>\n",
       "      <td>other</td>\n",
       "      <td>5000.0</td>\n",
       "      <td>1.0</td>\n",
       "      <td>NaN</td>\n",
       "      <td>hyundai</td>\n",
       "      <td>NaN</td>\n",
       "      <td>2016-04-04 00:00:00</td>\n",
       "      <td>0.0</td>\n",
       "      <td>34454.0</td>\n",
       "      <td>2016-04-06 12:45:43</td>\n",
       "      <td>2016-04</td>\n",
       "      <td>Юная</td>\n",
       "      <td>Лиса</td>\n",
       "    </tr>\n",
       "    <tr>\n",
       "      <th>57</th>\n",
       "      <td>2016-03-10 20:53:19</td>\n",
       "      <td>2399.0</td>\n",
       "      <td>NaN</td>\n",
       "      <td>2018.0</td>\n",
       "      <td>manual</td>\n",
       "      <td>64.0</td>\n",
       "      <td>other</td>\n",
       "      <td>125000.0</td>\n",
       "      <td>3.0</td>\n",
       "      <td>NaN</td>\n",
       "      <td>seat</td>\n",
       "      <td>no</td>\n",
       "      <td>2016-03-10 00:00:00</td>\n",
       "      <td>0.0</td>\n",
       "      <td>33397.0</td>\n",
       "      <td>2016-03-25 10:17:37</td>\n",
       "      <td>2016-03</td>\n",
       "      <td>Юная</td>\n",
       "      <td>Косуля</td>\n",
       "    </tr>\n",
       "    <tr>\n",
       "      <th>...</th>\n",
       "      <td>...</td>\n",
       "      <td>...</td>\n",
       "      <td>...</td>\n",
       "      <td>...</td>\n",
       "      <td>...</td>\n",
       "      <td>...</td>\n",
       "      <td>...</td>\n",
       "      <td>...</td>\n",
       "      <td>...</td>\n",
       "      <td>...</td>\n",
       "      <td>...</td>\n",
       "      <td>...</td>\n",
       "      <td>...</td>\n",
       "      <td>...</td>\n",
       "      <td>...</td>\n",
       "      <td>...</td>\n",
       "      <td>...</td>\n",
       "      <td>...</td>\n",
       "      <td>...</td>\n",
       "    </tr>\n",
       "    <tr>\n",
       "      <th>354346</th>\n",
       "      <td>2016-03-07 17:06:35</td>\n",
       "      <td>2600.0</td>\n",
       "      <td>NaN</td>\n",
       "      <td>2005.0</td>\n",
       "      <td>auto</td>\n",
       "      <td>0.0</td>\n",
       "      <td>c_klasse</td>\n",
       "      <td>150000.0</td>\n",
       "      <td>9.0</td>\n",
       "      <td>NaN</td>\n",
       "      <td>mercedes_benz</td>\n",
       "      <td>NaN</td>\n",
       "      <td>2016-03-07 00:00:00</td>\n",
       "      <td>0.0</td>\n",
       "      <td>61169.0</td>\n",
       "      <td>2016-03-08 21:28:38</td>\n",
       "      <td>2016-03</td>\n",
       "      <td>Зрелая</td>\n",
       "      <td>Лиса</td>\n",
       "    </tr>\n",
       "    <tr>\n",
       "      <th>354351</th>\n",
       "      <td>2016-03-11 23:40:32</td>\n",
       "      <td>1900.0</td>\n",
       "      <td>NaN</td>\n",
       "      <td>2000.0</td>\n",
       "      <td>manual</td>\n",
       "      <td>110.0</td>\n",
       "      <td>NaN</td>\n",
       "      <td>150000.0</td>\n",
       "      <td>7.0</td>\n",
       "      <td>NaN</td>\n",
       "      <td>volkswagen</td>\n",
       "      <td>no</td>\n",
       "      <td>2016-03-11 00:00:00</td>\n",
       "      <td>0.0</td>\n",
       "      <td>87700.0</td>\n",
       "      <td>2016-03-12 14:16:51</td>\n",
       "      <td>2016-03</td>\n",
       "      <td>Старая</td>\n",
       "      <td>Антилопа</td>\n",
       "    </tr>\n",
       "    <tr>\n",
       "      <th>354361</th>\n",
       "      <td>2016-03-09 13:37:43</td>\n",
       "      <td>5250.0</td>\n",
       "      <td>NaN</td>\n",
       "      <td>2016.0</td>\n",
       "      <td>auto</td>\n",
       "      <td>150.0</td>\n",
       "      <td>159</td>\n",
       "      <td>150000.0</td>\n",
       "      <td>12.0</td>\n",
       "      <td>NaN</td>\n",
       "      <td>alfa_romeo</td>\n",
       "      <td>no</td>\n",
       "      <td>2016-03-09 00:00:00</td>\n",
       "      <td>0.0</td>\n",
       "      <td>51371.0</td>\n",
       "      <td>2016-03-13 01:44:13</td>\n",
       "      <td>2016-03</td>\n",
       "      <td>Юная</td>\n",
       "      <td>Пантера</td>\n",
       "    </tr>\n",
       "    <tr>\n",
       "      <th>354364</th>\n",
       "      <td>NaN</td>\n",
       "      <td>NaN</td>\n",
       "      <td>NaN</td>\n",
       "      <td>NaN</td>\n",
       "      <td>NaN</td>\n",
       "      <td>NaN</td>\n",
       "      <td>NaN</td>\n",
       "      <td>NaN</td>\n",
       "      <td>NaN</td>\n",
       "      <td>NaN</td>\n",
       "      <td>NaN</td>\n",
       "      <td>NaN</td>\n",
       "      <td>NaN</td>\n",
       "      <td>NaN</td>\n",
       "      <td>NaN</td>\n",
       "      <td>NaN</td>\n",
       "      <td>NaN</td>\n",
       "      <td>NaN</td>\n",
       "      <td>NaN</td>\n",
       "    </tr>\n",
       "    <tr>\n",
       "      <th>354365</th>\n",
       "      <td>2016-03-14 17:48:27</td>\n",
       "      <td>2200.0</td>\n",
       "      <td>NaN</td>\n",
       "      <td>2005.0</td>\n",
       "      <td>NaN</td>\n",
       "      <td>0.0</td>\n",
       "      <td>NaN</td>\n",
       "      <td>20000.0</td>\n",
       "      <td>1.0</td>\n",
       "      <td>NaN</td>\n",
       "      <td>sonstige_autos</td>\n",
       "      <td>NaN</td>\n",
       "      <td>2016-03-14 00:00:00</td>\n",
       "      <td>0.0</td>\n",
       "      <td>39576.0</td>\n",
       "      <td>2016-04-06 00:46:52</td>\n",
       "      <td>2016-03</td>\n",
       "      <td>Зрелая</td>\n",
       "      <td>Лиса</td>\n",
       "    </tr>\n",
       "  </tbody>\n",
       "</table>\n",
       "<p>25621 rows × 19 columns</p>\n",
       "</div>"
      ],
      "text/plain": [
       "               date_crawled   price vehicle_type  registration_year gear_box  \\\n",
       "7                       NaN     NaN          NaN                NaN      NaN   \n",
       "26      2016-03-10 19:38:18  5555.0          NaN             2017.0   manual   \n",
       "40                      NaN     NaN          NaN                NaN      NaN   \n",
       "52      2016-04-04 10:57:36  1400.0          NaN             2016.0   manual   \n",
       "57      2016-03-10 20:53:19  2399.0          NaN             2018.0   manual   \n",
       "...                     ...     ...          ...                ...      ...   \n",
       "354346  2016-03-07 17:06:35  2600.0          NaN             2005.0     auto   \n",
       "354351  2016-03-11 23:40:32  1900.0          NaN             2000.0   manual   \n",
       "354361  2016-03-09 13:37:43  5250.0          NaN             2016.0     auto   \n",
       "354364                  NaN     NaN          NaN                NaN      NaN   \n",
       "354365  2016-03-14 17:48:27  2200.0          NaN             2005.0      NaN   \n",
       "\n",
       "        power     model  kilometer  registration_month fuel_type  \\\n",
       "7         NaN       NaN        NaN                 NaN       NaN   \n",
       "26      125.0        c4   125000.0                 4.0       NaN   \n",
       "40        NaN       NaN        NaN                 NaN       NaN   \n",
       "52       55.0     other     5000.0                 1.0       NaN   \n",
       "57       64.0     other   125000.0                 3.0       NaN   \n",
       "...       ...       ...        ...                 ...       ...   \n",
       "354346    0.0  c_klasse   150000.0                 9.0       NaN   \n",
       "354351  110.0       NaN   150000.0                 7.0       NaN   \n",
       "354361  150.0       159   150000.0                12.0       NaN   \n",
       "354364    NaN       NaN        NaN                 NaN       NaN   \n",
       "354365    0.0       NaN    20000.0                 1.0       NaN   \n",
       "\n",
       "                 brand not_repaired         date_created  number_of_pictures  \\\n",
       "7                  NaN          NaN                  NaN                 NaN   \n",
       "26             citroen           no  2016-03-10 00:00:00                 0.0   \n",
       "40                 NaN          NaN                  NaN                 NaN   \n",
       "52             hyundai          NaN  2016-04-04 00:00:00                 0.0   \n",
       "57                seat           no  2016-03-10 00:00:00                 0.0   \n",
       "...                ...          ...                  ...                 ...   \n",
       "354346   mercedes_benz          NaN  2016-03-07 00:00:00                 0.0   \n",
       "354351      volkswagen           no  2016-03-11 00:00:00                 0.0   \n",
       "354361      alfa_romeo           no  2016-03-09 00:00:00                 0.0   \n",
       "354364             NaN          NaN                  NaN                 NaN   \n",
       "354365  sonstige_autos          NaN  2016-03-14 00:00:00                 0.0   \n",
       "\n",
       "        postal_code            last_seen date_crawled_month  \\\n",
       "7               NaN                  NaN                NaN   \n",
       "26          31139.0  2016-03-16 09:16:46            2016-03   \n",
       "40              NaN                  NaN                NaN   \n",
       "52          34454.0  2016-04-06 12:45:43            2016-04   \n",
       "57          33397.0  2016-03-25 10:17:37            2016-03   \n",
       "...             ...                  ...                ...   \n",
       "354346      61169.0  2016-03-08 21:28:38            2016-03   \n",
       "354351      87700.0  2016-03-12 14:16:51            2016-03   \n",
       "354361      51371.0  2016-03-13 01:44:13            2016-03   \n",
       "354364          NaN                  NaN                NaN   \n",
       "354365      39576.0  2016-04-06 00:46:52            2016-03   \n",
       "\n",
       "       registration_year_cut power_cut  \n",
       "7                        NaN       NaN  \n",
       "26                      Юная  Антилопа  \n",
       "40                       NaN       NaN  \n",
       "52                      Юная      Лиса  \n",
       "57                      Юная    Косуля  \n",
       "...                      ...       ...  \n",
       "354346                Зрелая      Лиса  \n",
       "354351                Старая  Антилопа  \n",
       "354361                  Юная   Пантера  \n",
       "354364                   NaN       NaN  \n",
       "354365                Зрелая      Лиса  \n",
       "\n",
       "[25621 rows x 19 columns]"
      ]
     },
     "execution_count": 235,
     "metadata": {},
     "output_type": "execute_result"
    }
   ],
   "source": [
    "miss_len = df[df['fuel_type'].isna() & df['vehicle_type'].isna()].shape[0]\n",
    "df[df['fuel_type'].isna() & df['vehicle_type'].isna()]"
   ]
  },
  {
   "cell_type": "code",
   "execution_count": 236,
   "metadata": {
    "pycharm": {
     "name": "#%%\n"
    }
   },
   "outputs": [],
   "source": [
    "print(f\"Процент наблюдений с пропусками в fuel_type и vehicle_type: {miss_len/df.shape[0] * 100.:.2f}\")"
   ]
  },
  {
   "cell_type": "code",
   "execution_count": 237,
   "metadata": {
    "pycharm": {
     "name": "#%%\n"
    }
   },
   "outputs": [
    {
     "data": {
      "text/html": [
       "<div>\n",
       "<style scoped>\n",
       "    .dataframe tbody tr th:only-of-type {\n",
       "        vertical-align: middle;\n",
       "    }\n",
       "\n",
       "    .dataframe tbody tr th {\n",
       "        vertical-align: top;\n",
       "    }\n",
       "\n",
       "    .dataframe thead th {\n",
       "        text-align: right;\n",
       "    }\n",
       "</style>\n",
       "<table border=\"1\" class=\"dataframe\">\n",
       "  <thead>\n",
       "    <tr style=\"text-align: right;\">\n",
       "      <th></th>\n",
       "      <th>date_crawled</th>\n",
       "      <th>price</th>\n",
       "      <th>vehicle_type</th>\n",
       "      <th>registration_year</th>\n",
       "      <th>gear_box</th>\n",
       "      <th>power</th>\n",
       "      <th>model</th>\n",
       "      <th>kilometer</th>\n",
       "      <th>registration_month</th>\n",
       "      <th>fuel_type</th>\n",
       "      <th>brand</th>\n",
       "      <th>not_repaired</th>\n",
       "      <th>date_created</th>\n",
       "      <th>number_of_pictures</th>\n",
       "      <th>postal_code</th>\n",
       "      <th>last_seen</th>\n",
       "      <th>date_crawled_month</th>\n",
       "      <th>registration_year_cut</th>\n",
       "      <th>power_cut</th>\n",
       "    </tr>\n",
       "  </thead>\n",
       "  <tbody>\n",
       "    <tr>\n",
       "      <th>7</th>\n",
       "      <td>NaN</td>\n",
       "      <td>NaN</td>\n",
       "      <td>NaN</td>\n",
       "      <td>NaN</td>\n",
       "      <td>NaN</td>\n",
       "      <td>NaN</td>\n",
       "      <td>NaN</td>\n",
       "      <td>NaN</td>\n",
       "      <td>NaN</td>\n",
       "      <td>NaN</td>\n",
       "      <td>NaN</td>\n",
       "      <td>NaN</td>\n",
       "      <td>NaN</td>\n",
       "      <td>NaN</td>\n",
       "      <td>NaN</td>\n",
       "      <td>NaN</td>\n",
       "      <td>NaN</td>\n",
       "      <td>NaN</td>\n",
       "      <td>NaN</td>\n",
       "    </tr>\n",
       "    <tr>\n",
       "      <th>40</th>\n",
       "      <td>NaN</td>\n",
       "      <td>NaN</td>\n",
       "      <td>NaN</td>\n",
       "      <td>NaN</td>\n",
       "      <td>NaN</td>\n",
       "      <td>NaN</td>\n",
       "      <td>NaN</td>\n",
       "      <td>NaN</td>\n",
       "      <td>NaN</td>\n",
       "      <td>NaN</td>\n",
       "      <td>NaN</td>\n",
       "      <td>NaN</td>\n",
       "      <td>NaN</td>\n",
       "      <td>NaN</td>\n",
       "      <td>NaN</td>\n",
       "      <td>NaN</td>\n",
       "      <td>NaN</td>\n",
       "      <td>NaN</td>\n",
       "      <td>NaN</td>\n",
       "    </tr>\n",
       "    <tr>\n",
       "      <th>111</th>\n",
       "      <td>NaN</td>\n",
       "      <td>NaN</td>\n",
       "      <td>NaN</td>\n",
       "      <td>NaN</td>\n",
       "      <td>NaN</td>\n",
       "      <td>NaN</td>\n",
       "      <td>NaN</td>\n",
       "      <td>NaN</td>\n",
       "      <td>NaN</td>\n",
       "      <td>NaN</td>\n",
       "      <td>NaN</td>\n",
       "      <td>NaN</td>\n",
       "      <td>NaN</td>\n",
       "      <td>NaN</td>\n",
       "      <td>NaN</td>\n",
       "      <td>NaN</td>\n",
       "      <td>NaN</td>\n",
       "      <td>NaN</td>\n",
       "      <td>NaN</td>\n",
       "    </tr>\n",
       "    <tr>\n",
       "      <th>115</th>\n",
       "      <td>NaN</td>\n",
       "      <td>NaN</td>\n",
       "      <td>NaN</td>\n",
       "      <td>NaN</td>\n",
       "      <td>NaN</td>\n",
       "      <td>NaN</td>\n",
       "      <td>NaN</td>\n",
       "      <td>NaN</td>\n",
       "      <td>NaN</td>\n",
       "      <td>NaN</td>\n",
       "      <td>NaN</td>\n",
       "      <td>NaN</td>\n",
       "      <td>NaN</td>\n",
       "      <td>NaN</td>\n",
       "      <td>NaN</td>\n",
       "      <td>NaN</td>\n",
       "      <td>NaN</td>\n",
       "      <td>NaN</td>\n",
       "      <td>NaN</td>\n",
       "    </tr>\n",
       "    <tr>\n",
       "      <th>151</th>\n",
       "      <td>2016-03-27 20:47:22</td>\n",
       "      <td>6799.0</td>\n",
       "      <td>small</td>\n",
       "      <td>2009.0</td>\n",
       "      <td>NaN</td>\n",
       "      <td>60.0</td>\n",
       "      <td>NaN</td>\n",
       "      <td>20000.0</td>\n",
       "      <td>5.0</td>\n",
       "      <td>petrol</td>\n",
       "      <td>volkswagen</td>\n",
       "      <td>no</td>\n",
       "      <td>2016-03-27 00:00:00</td>\n",
       "      <td>0.0</td>\n",
       "      <td>89077.0</td>\n",
       "      <td>2016-03-27 20:47:22</td>\n",
       "      <td>2016-03</td>\n",
       "      <td>Молодая</td>\n",
       "      <td>Косуля</td>\n",
       "    </tr>\n",
       "    <tr>\n",
       "      <th>...</th>\n",
       "      <td>...</td>\n",
       "      <td>...</td>\n",
       "      <td>...</td>\n",
       "      <td>...</td>\n",
       "      <td>...</td>\n",
       "      <td>...</td>\n",
       "      <td>...</td>\n",
       "      <td>...</td>\n",
       "      <td>...</td>\n",
       "      <td>...</td>\n",
       "      <td>...</td>\n",
       "      <td>...</td>\n",
       "      <td>...</td>\n",
       "      <td>...</td>\n",
       "      <td>...</td>\n",
       "      <td>...</td>\n",
       "      <td>...</td>\n",
       "      <td>...</td>\n",
       "      <td>...</td>\n",
       "    </tr>\n",
       "    <tr>\n",
       "      <th>354248</th>\n",
       "      <td>NaN</td>\n",
       "      <td>NaN</td>\n",
       "      <td>NaN</td>\n",
       "      <td>NaN</td>\n",
       "      <td>NaN</td>\n",
       "      <td>NaN</td>\n",
       "      <td>NaN</td>\n",
       "      <td>NaN</td>\n",
       "      <td>NaN</td>\n",
       "      <td>NaN</td>\n",
       "      <td>NaN</td>\n",
       "      <td>NaN</td>\n",
       "      <td>NaN</td>\n",
       "      <td>NaN</td>\n",
       "      <td>NaN</td>\n",
       "      <td>NaN</td>\n",
       "      <td>NaN</td>\n",
       "      <td>NaN</td>\n",
       "      <td>NaN</td>\n",
       "    </tr>\n",
       "    <tr>\n",
       "      <th>354277</th>\n",
       "      <td>NaN</td>\n",
       "      <td>NaN</td>\n",
       "      <td>NaN</td>\n",
       "      <td>NaN</td>\n",
       "      <td>NaN</td>\n",
       "      <td>NaN</td>\n",
       "      <td>NaN</td>\n",
       "      <td>NaN</td>\n",
       "      <td>NaN</td>\n",
       "      <td>NaN</td>\n",
       "      <td>NaN</td>\n",
       "      <td>NaN</td>\n",
       "      <td>NaN</td>\n",
       "      <td>NaN</td>\n",
       "      <td>NaN</td>\n",
       "      <td>NaN</td>\n",
       "      <td>NaN</td>\n",
       "      <td>NaN</td>\n",
       "      <td>NaN</td>\n",
       "    </tr>\n",
       "    <tr>\n",
       "      <th>354338</th>\n",
       "      <td>2016-03-31 19:52:33</td>\n",
       "      <td>180.0</td>\n",
       "      <td>NaN</td>\n",
       "      <td>1995.0</td>\n",
       "      <td>NaN</td>\n",
       "      <td>0.0</td>\n",
       "      <td>NaN</td>\n",
       "      <td>125000.0</td>\n",
       "      <td>3.0</td>\n",
       "      <td>petrol</td>\n",
       "      <td>opel</td>\n",
       "      <td>NaN</td>\n",
       "      <td>2016-03-31 00:00:00</td>\n",
       "      <td>0.0</td>\n",
       "      <td>41470.0</td>\n",
       "      <td>2016-04-06 14:18:04</td>\n",
       "      <td>2016-03</td>\n",
       "      <td>Долгожительная</td>\n",
       "      <td>Лиса</td>\n",
       "    </tr>\n",
       "    <tr>\n",
       "      <th>354364</th>\n",
       "      <td>NaN</td>\n",
       "      <td>NaN</td>\n",
       "      <td>NaN</td>\n",
       "      <td>NaN</td>\n",
       "      <td>NaN</td>\n",
       "      <td>NaN</td>\n",
       "      <td>NaN</td>\n",
       "      <td>NaN</td>\n",
       "      <td>NaN</td>\n",
       "      <td>NaN</td>\n",
       "      <td>NaN</td>\n",
       "      <td>NaN</td>\n",
       "      <td>NaN</td>\n",
       "      <td>NaN</td>\n",
       "      <td>NaN</td>\n",
       "      <td>NaN</td>\n",
       "      <td>NaN</td>\n",
       "      <td>NaN</td>\n",
       "      <td>NaN</td>\n",
       "    </tr>\n",
       "    <tr>\n",
       "      <th>354365</th>\n",
       "      <td>2016-03-14 17:48:27</td>\n",
       "      <td>2200.0</td>\n",
       "      <td>NaN</td>\n",
       "      <td>2005.0</td>\n",
       "      <td>NaN</td>\n",
       "      <td>0.0</td>\n",
       "      <td>NaN</td>\n",
       "      <td>20000.0</td>\n",
       "      <td>1.0</td>\n",
       "      <td>NaN</td>\n",
       "      <td>sonstige_autos</td>\n",
       "      <td>NaN</td>\n",
       "      <td>2016-03-14 00:00:00</td>\n",
       "      <td>0.0</td>\n",
       "      <td>39576.0</td>\n",
       "      <td>2016-04-06 00:46:52</td>\n",
       "      <td>2016-03</td>\n",
       "      <td>Зрелая</td>\n",
       "      <td>Лиса</td>\n",
       "    </tr>\n",
       "  </tbody>\n",
       "</table>\n",
       "<p>13810 rows × 19 columns</p>\n",
       "</div>"
      ],
      "text/plain": [
       "               date_crawled   price vehicle_type  registration_year gear_box  \\\n",
       "7                       NaN     NaN          NaN                NaN      NaN   \n",
       "40                      NaN     NaN          NaN                NaN      NaN   \n",
       "111                     NaN     NaN          NaN                NaN      NaN   \n",
       "115                     NaN     NaN          NaN                NaN      NaN   \n",
       "151     2016-03-27 20:47:22  6799.0        small             2009.0      NaN   \n",
       "...                     ...     ...          ...                ...      ...   \n",
       "354248                  NaN     NaN          NaN                NaN      NaN   \n",
       "354277                  NaN     NaN          NaN                NaN      NaN   \n",
       "354338  2016-03-31 19:52:33   180.0          NaN             1995.0      NaN   \n",
       "354364                  NaN     NaN          NaN                NaN      NaN   \n",
       "354365  2016-03-14 17:48:27  2200.0          NaN             2005.0      NaN   \n",
       "\n",
       "        power model  kilometer  registration_month fuel_type           brand  \\\n",
       "7         NaN   NaN        NaN                 NaN       NaN             NaN   \n",
       "40        NaN   NaN        NaN                 NaN       NaN             NaN   \n",
       "111       NaN   NaN        NaN                 NaN       NaN             NaN   \n",
       "115       NaN   NaN        NaN                 NaN       NaN             NaN   \n",
       "151      60.0   NaN    20000.0                 5.0    petrol      volkswagen   \n",
       "...       ...   ...        ...                 ...       ...             ...   \n",
       "354248    NaN   NaN        NaN                 NaN       NaN             NaN   \n",
       "354277    NaN   NaN        NaN                 NaN       NaN             NaN   \n",
       "354338    0.0   NaN   125000.0                 3.0    petrol            opel   \n",
       "354364    NaN   NaN        NaN                 NaN       NaN             NaN   \n",
       "354365    0.0   NaN    20000.0                 1.0       NaN  sonstige_autos   \n",
       "\n",
       "       not_repaired         date_created  number_of_pictures  postal_code  \\\n",
       "7               NaN                  NaN                 NaN          NaN   \n",
       "40              NaN                  NaN                 NaN          NaN   \n",
       "111             NaN                  NaN                 NaN          NaN   \n",
       "115             NaN                  NaN                 NaN          NaN   \n",
       "151              no  2016-03-27 00:00:00                 0.0      89077.0   \n",
       "...             ...                  ...                 ...          ...   \n",
       "354248          NaN                  NaN                 NaN          NaN   \n",
       "354277          NaN                  NaN                 NaN          NaN   \n",
       "354338          NaN  2016-03-31 00:00:00                 0.0      41470.0   \n",
       "354364          NaN                  NaN                 NaN          NaN   \n",
       "354365          NaN  2016-03-14 00:00:00                 0.0      39576.0   \n",
       "\n",
       "                  last_seen date_crawled_month registration_year_cut power_cut  \n",
       "7                       NaN                NaN                   NaN       NaN  \n",
       "40                      NaN                NaN                   NaN       NaN  \n",
       "111                     NaN                NaN                   NaN       NaN  \n",
       "115                     NaN                NaN                   NaN       NaN  \n",
       "151     2016-03-27 20:47:22            2016-03               Молодая    Косуля  \n",
       "...                     ...                ...                   ...       ...  \n",
       "354248                  NaN                NaN                   NaN       NaN  \n",
       "354277                  NaN                NaN                   NaN       NaN  \n",
       "354338  2016-04-06 14:18:04            2016-03        Долгожительная      Лиса  \n",
       "354364                  NaN                NaN                   NaN       NaN  \n",
       "354365  2016-04-06 00:46:52            2016-03                Зрелая      Лиса  \n",
       "\n",
       "[13810 rows x 19 columns]"
      ]
     },
     "execution_count": 237,
     "metadata": {},
     "output_type": "execute_result"
    }
   ],
   "source": [
    "miss_len = df[df['model'].isna() & df['gear_box'].isna()].shape[0]\n",
    "df[df['model'].isna() & df['gear_box'].isna()]"
   ]
  },
  {
   "cell_type": "code",
   "execution_count": 238,
   "metadata": {
    "pycharm": {
     "name": "#%%\n"
    }
   },
   "outputs": [],
   "source": [
    "print(f\"Процент наблюдений с пропусками в model и gear_box: {miss_len/df.shape[0] * 100.:.2f}\")"
   ]
  },
  {
   "cell_type": "code",
   "execution_count": 239,
   "metadata": {
    "pycharm": {
     "name": "#%%\n"
    }
   },
   "outputs": [],
   "source": [
    "df_second_clean = df_fisrt_clen[~(df_fisrt_clen['model'].isna() & df_fisrt_clen['gear_box'].isna())]"
   ]
  },
  {
   "cell_type": "markdown",
   "metadata": {
    "pycharm": {
     "name": "#%% md\n"
    }
   },
   "source": [
    "Удалили пропуски которые составляли около 1%, остальные оставили, их больше - около 5%"
   ]
  },
  {
   "cell_type": "code",
   "execution_count": 240,
   "metadata": {
    "pycharm": {
     "name": "#%%\n"
    }
   },
   "outputs": [
    {
     "data": {
      "text/plain": [
       "(340416, 19)"
      ]
     },
     "execution_count": 240,
     "metadata": {},
     "output_type": "execute_result"
    }
   ],
   "source": [
    "df_second_clean.shape"
   ]
  },
  {
   "cell_type": "markdown",
   "metadata": {
    "pycharm": {
     "name": "#%% md\n"
    }
   },
   "source": [
    "### Обработка пропусков"
   ]
  },
  {
   "cell_type": "code",
   "execution_count": 241,
   "metadata": {
    "pycharm": {
     "name": "#%%\n"
    }
   },
   "outputs": [],
   "source": [
    "def fill_miss_values(df):\n",
    "    # фичу была ли машина в ремонте заполним 'no' - как предположительно самое очевидное\n",
    "    df.fillna(value={'not_repaired': 'no'}, inplace=True)\n",
    "\n",
    "    # v2. заполнение пропусков средним значением цены машины в группе бренд-модель-год\n",
    "    df[\"price\"] = df.groupby(['brand', 'model', 'registration_year'])[\"price\"].transform(lambda x: x.fillna(x.mean()))\n",
    "\n",
    "    # заполнение пропусков в группе бренд-модель-тип кузова-тип топлива\n",
    "    df = df.groupby(['brand', 'model', 'vehicle_type', 'fuel_type']).\\\n",
    "        apply(lambda x: x.fillna(x.mode().iloc[0])).reset_index(drop=True)\n",
    "    # еще один прогон, в рамках того, что не все группы показывают пример заполнения, уберем fuel_type\n",
    "    df = df.groupby(['brand', 'model', 'vehicle_type']).\\\n",
    "        apply(lambda x: x.fillna(x.mode().iloc[0])).reset_index(drop=True)\n",
    "\n",
    "    # еще один прогон, в рамках того, что не все группы показывают пример заполнения, уберем vehicle_type\n",
    "    df = df.groupby(['brand', 'model']).\\\n",
    "        apply(lambda x: x.fillna(x.mode().iloc[0])).reset_index(drop=True)\n",
    "\n",
    "    return df"
   ]
  },
  {
   "cell_type": "code",
   "execution_count": 242,
   "metadata": {
    "pycharm": {
     "name": "#%%\n"
    }
   },
   "outputs": [],
   "source": [
    "%%time\n",
    "\n",
    "df_third_fillna = fill_miss_values(df_second_clean)"
   ]
  },
  {
   "cell_type": "code",
   "execution_count": 243,
   "metadata": {
    "pycharm": {
     "name": "#%%\n"
    },
    "scrolled": true
   },
   "outputs": [
    {
     "data": {
      "text/plain": [
       "0"
      ]
     },
     "execution_count": 243,
     "metadata": {},
     "output_type": "execute_result"
    }
   ],
   "source": [
    "df_third_fillna.isna().sum().sum()"
   ]
  },
  {
   "cell_type": "markdown",
   "metadata": {
    "pycharm": {
     "name": "#%% md\n"
    }
   },
   "source": [
    "### Преобразование типов и создание новых фичей"
   ]
  },
  {
   "cell_type": "code",
   "execution_count": 244,
   "metadata": {
    "pycharm": {
     "name": "#%%\n"
    }
   },
   "outputs": [],
   "source": [
    "def feature_engineering(df):\n",
    "    # Переведем булевы переменные\n",
    "    df['not_repaired'] = df['not_repaired'].apply(lambda x: 1 if x == \"yes\" else 0)\n",
    "    df['gear_box'] = df['gear_box'].apply(lambda x: 1 if x == \"auto\" else 0)\n",
    "\n",
    "    # Преобразование даты\n",
    "    df['date_created'] = pd.to_datetime(df['date_created'], format='%Y-%m-%d %H:%M:%S')\n",
    "    df['date_crawled'] = pd.to_datetime(df['date_crawled'], format='%Y-%m-%d %H:%M:%S')\n",
    "    df['last_seen'] = pd.to_datetime(df['last_seen'], format='%Y-%m-%d %H:%M:%S')\n",
    "\n",
    "    # Добавление дополнительных фичей\n",
    "    df['date_created_month'] = pd.DatetimeIndex(df['date_created']).month\n",
    "    df['date_created_year'] = pd.DatetimeIndex(df['date_created']).year\n",
    "\n",
    "    df['date_crawled_month'] = pd.DatetimeIndex(df['date_crawled']).month\n",
    "    df['date_crawled_dayofweek'] = pd.DatetimeIndex(df['date_crawled']).dayofweek\n",
    "\n",
    "    df['last_seen_month'] = pd.DatetimeIndex(df['last_seen']).month\n",
    "    df['last_seen_dayofweek'] = pd.DatetimeIndex(df['last_seen']).dayofweek\n",
    "\n",
    "    # Модели машин, которые совсем редко встречаются\n",
    "    model_less_20 = df['model'].value_counts().reset_index().query(\"model < 20\")['index'].to_list()\n",
    "    df['model'] = df['model'].apply(lambda x: 'other_2' if x in model_less_20 else x)\n",
    "\n",
    "    # Удаление ненужных/переработанных фичей\n",
    "    df.drop(columns=['date_created', 'date_crawled', 'last_seen', 'number_of_pictures', 'date_crawled_month'], inplace=True)\n",
    "\n",
    "    return df"
   ]
  },
  {
   "cell_type": "code",
   "execution_count": 245,
   "metadata": {
    "pycharm": {
     "name": "#%%\n"
    }
   },
   "outputs": [],
   "source": [
    "df_fourth_engineering = feature_engineering(df_third_fillna)"
   ]
  },
  {
   "cell_type": "code",
   "execution_count": 246,
   "metadata": {
    "pycharm": {
     "name": "#%%\n"
    },
    "scrolled": true
   },
   "outputs": [],
   "source": [
    "%%time\n",
    "\n",
    "def reduce_mem_usage(props):\n",
    "    start_mem_usg = props.memory_usage().sum() / 1024**2\n",
    "    print(\"Memory usage of properties dataframe is :\", start_mem_usg,\" MB\")\n",
    "    NAlist = [] # Keeps track of columns that have missing values filled in.\n",
    "    for col in props.columns:\n",
    "        if props[col].dtype != object:  # Exclude strings\n",
    "\n",
    "            # Print current column type\n",
    "            print(\"******************************\")\n",
    "            print(\"Column: \",col)\n",
    "            print(\"dtype before: \",props[col].dtype)\n",
    "\n",
    "            # make variables for Int, max and min\n",
    "            IsInt = False\n",
    "            mx = props[col].max()\n",
    "            mn = props[col].min()\n",
    "\n",
    "            # Integer does not support NA, therefore, NA needs to be filled\n",
    "            if not np.isfinite(props[col]).all():\n",
    "                NAlist.append(col)\n",
    "                props[col].fillna(mn-1,inplace=True)\n",
    "\n",
    "                # test if column can be converted to an integer\n",
    "            asint = props[col].fillna(0).astype(np.int64)\n",
    "            try:\n",
    "                result = (props[col] - asint)\n",
    "                result = result.sum()\n",
    "                if result > -0.01 and result < 0.01:\n",
    "                    IsInt = True\n",
    "\n",
    "                # Make Integer/unsigned Integer datatypes\n",
    "                if IsInt:\n",
    "                    if mn >= 0:\n",
    "                        if mx < 255:\n",
    "                            props[col] = props[col].astype(np.uint8)\n",
    "                        elif mx < 65535:\n",
    "                            props[col] = props[col].astype(np.uint16)\n",
    "                        elif mx < 4294967295:\n",
    "                            props[col] = props[col].astype(np.uint32)\n",
    "                        else:\n",
    "                            props[col] = props[col].astype(np.uint64)\n",
    "                    else:\n",
    "                        if mn > np.iinfo(np.int8).min and mx < np.iinfo(np.int8).max:\n",
    "                            props[col] = props[col].astype(np.int8)\n",
    "                        elif mn > np.iinfo(np.int16).min and mx < np.iinfo(np.int16).max:\n",
    "                            props[col] = props[col].astype(np.int16)\n",
    "                        elif mn > np.iinfo(np.int32).min and mx < np.iinfo(np.int32).max:\n",
    "                            props[col] = props[col].astype(np.int32)\n",
    "                        elif mn > np.iinfo(np.int64).min and mx < np.iinfo(np.int64).max:\n",
    "                            props[col] = props[col].astype(np.int64)\n",
    "\n",
    "                            # Make float datatypes 32 bit\n",
    "                else:\n",
    "                    props[col] = props[col].astype(np.float32)\n",
    "\n",
    "                # Print new column type\n",
    "                print(\"dtype after: \",props[col].dtype)\n",
    "                print(\"******************************\")\n",
    "            except TypeError:\n",
    "                pass\n",
    "\n",
    "    # Print final result\n",
    "    print(\"___MEMORY USAGE AFTER COMPLETION:___\")\n",
    "    mem_usg = props.memory_usage().sum() / 1024**2\n",
    "    print(\"Memory usage is: \",mem_usg,\" MB\")\n",
    "    print(\"This is \",100*mem_usg/start_mem_usg,\"% of the initial size\")\n",
    "    return props, NAlist\n",
    "df_fourth_engineering, NAlist = reduce_mem_usage(df_fourth_engineering)"
   ]
  },
  {
   "cell_type": "markdown",
   "metadata": {
    "pycharm": {
     "name": "#%% md\n"
    }
   },
   "source": [
    "Преобразовали типы данных даты\n",
    "Создали новые фичи из них\n",
    "Один столбец перевели из категориальных фичей в булевы\n",
    "Удалили все ненужные столбцы\n",
    "Сократили объем памяти датасета"
   ]
  },
  {
   "cell_type": "markdown",
   "metadata": {},
   "source": [
    "## Обучение моделей"
   ]
  },
  {
   "cell_type": "markdown",
   "metadata": {
    "pycharm": {
     "name": "#%% md\n"
    }
   },
   "source": [
    "### Разбиение на test и train"
   ]
  },
  {
   "cell_type": "code",
   "execution_count": 247,
   "metadata": {},
   "outputs": [],
   "source": [
    "RANDOM_STATE = 13\n",
    "X = df_fourth_engineering.drop(columns='price')\n",
    "y = df_fourth_engineering['price']\n",
    "\n",
    "X_train, X_test, y_train, y_test = train_test_split(X, y, test_size=0.2, random_state=RANDOM_STATE)"
   ]
  },
  {
   "cell_type": "code",
   "execution_count": 248,
   "metadata": {
    "pycharm": {
     "name": "#%%\n"
    }
   },
   "outputs": [
    {
     "data": {
      "text/plain": [
       "((228760, 18), (57190, 18))"
      ]
     },
     "execution_count": 248,
     "metadata": {},
     "output_type": "execute_result"
    }
   ],
   "source": [
    "X_train.shape, X_test.shape"
   ]
  },
  {
   "cell_type": "markdown",
   "metadata": {
    "pycharm": {
     "name": "#%% md\n"
    }
   },
   "source": [
    "### Подготовим функцию для вывода отчета"
   ]
  },
  {
   "cell_type": "code",
   "execution_count": 249,
   "metadata": {
    "pycharm": {
     "name": "#%%\n"
    }
   },
   "outputs": [],
   "source": [
    "import time\n",
    "\n",
    "final_report = {}\n",
    "\n",
    "def rmse_score(y_true, y_pred):\n",
    "    return mean_squared_error(y_true, y_pred, squared=False)\n",
    "\n",
    "def timing(f):\n",
    "    def wrap(*args, **kwargs):\n",
    "        time1 = time.time()\n",
    "        ret = f(*args, **kwargs)\n",
    "        time2 = time.time()\n",
    "        print('{:s} function took {:.3f} s'.format(f.__name__, (time2-time1)))\n",
    "        return ret\n",
    "    return wrap\n",
    "\n",
    "@timing\n",
    "def fit_model(estimator, X_train, y_train):\n",
    "    estimator.fit(X_train, y_train)\n",
    "    return estimator\n",
    "\n",
    "@timing\n",
    "def predict_model(model, X_test, y_test):\n",
    "    y_pred = model.predict(X_test)\n",
    "    rmse = rmse_score(y_test, y_pred)\n",
    "    print(f\"RMSE: {rmse}\")\n",
    "    return model, rmse"
   ]
  },
  {
   "cell_type": "code",
   "execution_count": null,
   "outputs": [],
   "source": [
    "cat_features = ['vehicle_type', 'model', 'fuel_type', 'brand', 'power_cut', 'registration_year_cut']"
   ],
   "metadata": {
    "collapsed": false,
    "pycharm": {
     "name": "#%%\n"
    }
   }
  },
  {
   "cell_type": "markdown",
   "metadata": {
    "pycharm": {
     "name": "#%% md\n"
    }
   },
   "source": [
    "### CatBoostRegressor"
   ]
  },
  {
   "cell_type": "code",
   "execution_count": 253,
   "metadata": {
    "pycharm": {
     "name": "#%%\n"
    }
   },
   "outputs": [],
   "source": [
    "model = fit_model(\n",
    "    CatBoostRegressor(cat_features=cat_features, verbose=200, random_state=RANDOM_STATE),\n",
    "    X_train,\n",
    "    y_train,\n",
    ")\n",
    "catboost_model, final_report['CatBoostRegressor_rmse'] = predict_model(\n",
    "    model,\n",
    "    X_test,\n",
    "    y_test,\n",
    ")"
   ]
  },
  {
   "cell_type": "markdown",
   "metadata": {
    "pycharm": {
     "name": "#%% md\n"
    }
   },
   "source": [
    "### LGBMRegressor"
   ]
  },
  {
   "cell_type": "code",
   "execution_count": 254,
   "metadata": {
    "pycharm": {
     "name": "#%%\n"
    }
   },
   "outputs": [],
   "source": [
    "X_train = pd.get_dummies(X_train, columns=cat_features)\n",
    "X_test = pd.get_dummies(X_test, columns=cat_features)\n",
    "# проверка что у нас равное количество колонок\n",
    "assert X_train.shape[1] == X_test.shape[1], f\"Не равное количество колонок на тесте и трейне: \" \\\n",
    "                                            f\"{list(set(X_train.columns) - set(X_test.columns))}\""
   ]
  },
  {
   "cell_type": "code",
   "execution_count": 255,
   "metadata": {
    "pycharm": {
     "name": "#%%\n"
    }
   },
   "outputs": [],
   "source": [
    "model = fit_model(\n",
    "    LGBMRegressor(random_state=RANDOM_STATE),\n",
    "    X_train,\n",
    "    y_train,\n",
    ")\n",
    "lgbm_model, final_report['LGBMRegressor_rmse'] = predict_model(\n",
    "    model,\n",
    "    X_test,\n",
    "    y_test,\n",
    ")"
   ]
  },
  {
   "cell_type": "markdown",
   "metadata": {
    "pycharm": {
     "name": "#%% md\n"
    }
   },
   "source": [
    "### RandomForestRegressor"
   ]
  },
  {
   "cell_type": "code",
   "execution_count": 256,
   "metadata": {
    "pycharm": {
     "name": "#%%\n"
    }
   },
   "outputs": [],
   "source": [
    "model = fit_model(\n",
    "    RandomForestRegressor(random_state=RANDOM_STATE, n_jobs=-1),\n",
    "    X_train,\n",
    "    y_train,\n",
    ")\n",
    "rfr_model, final_report['RandomForestRegressor_rmse'] = predict_model(\n",
    "    model,\n",
    "    X_test,\n",
    "    y_test,\n",
    ")"
   ]
  },
  {
   "cell_type": "code",
   "execution_count": 257,
   "metadata": {
    "pycharm": {
     "name": "#%%\n"
    }
   },
   "outputs": [
    {
     "data": {
      "text/plain": [
       "{'CatBoostRegressor_rmse': 1520.04103449754,\n",
       " 'LGBMRegressor_rmse': 1632.723642417455,\n",
       " 'RandomForestRegressor_rmse': 1510.214058308401}"
      ]
     },
     "execution_count": 257,
     "metadata": {},
     "output_type": "execute_result"
    }
   ],
   "source": [
    "final_report"
   ]
  },
  {
   "cell_type": "markdown",
   "metadata": {
    "pycharm": {
     "name": "#%% md\n"
    }
   },
   "source": [
    "v2. После преобразования power, а также таргета мы значительно улучшили метрики + было немного изменено заполнение карт фичей(добавлен год при группировке)."
   ]
  },
  {
   "cell_type": "markdown",
   "metadata": {
    "pycharm": {
     "name": "#%% md\n"
    }
   },
   "source": [
    "### Feature importances"
   ]
  },
  {
   "cell_type": "code",
   "execution_count": 258,
   "metadata": {
    "pycharm": {
     "name": "#%%\n"
    }
   },
   "outputs": [
    {
     "data": {
      "text/html": [
       "<div>\n",
       "<style scoped>\n",
       "    .dataframe tbody tr th:only-of-type {\n",
       "        vertical-align: middle;\n",
       "    }\n",
       "\n",
       "    .dataframe tbody tr th {\n",
       "        vertical-align: top;\n",
       "    }\n",
       "\n",
       "    .dataframe thead th {\n",
       "        text-align: right;\n",
       "    }\n",
       "</style>\n",
       "<table border=\"1\" class=\"dataframe\">\n",
       "  <thead>\n",
       "    <tr style=\"text-align: right;\">\n",
       "      <th></th>\n",
       "      <th>importance</th>\n",
       "    </tr>\n",
       "  </thead>\n",
       "  <tbody>\n",
       "    <tr>\n",
       "      <th>registration_year</th>\n",
       "      <td>510</td>\n",
       "    </tr>\n",
       "    <tr>\n",
       "      <th>power</th>\n",
       "      <td>482</td>\n",
       "    </tr>\n",
       "    <tr>\n",
       "      <th>kilometer</th>\n",
       "      <td>194</td>\n",
       "    </tr>\n",
       "    <tr>\n",
       "      <th>brand_audi</th>\n",
       "      <td>78</td>\n",
       "    </tr>\n",
       "    <tr>\n",
       "      <th>vehicle_type_convertible</th>\n",
       "      <td>74</td>\n",
       "    </tr>\n",
       "    <tr>\n",
       "      <th>...</th>\n",
       "      <td>...</td>\n",
       "    </tr>\n",
       "    <tr>\n",
       "      <th>model_jetta</th>\n",
       "      <td>0</td>\n",
       "    </tr>\n",
       "    <tr>\n",
       "      <th>model_jimny</th>\n",
       "      <td>0</td>\n",
       "    </tr>\n",
       "    <tr>\n",
       "      <th>model_juke</th>\n",
       "      <td>0</td>\n",
       "    </tr>\n",
       "    <tr>\n",
       "      <th>model_justy</th>\n",
       "      <td>0</td>\n",
       "    </tr>\n",
       "    <tr>\n",
       "      <th>registration_year_cut_Юная</th>\n",
       "      <td>0</td>\n",
       "    </tr>\n",
       "  </tbody>\n",
       "</table>\n",
       "<p>313 rows × 1 columns</p>\n",
       "</div>"
      ],
      "text/plain": [
       "                            importance\n",
       "registration_year                  510\n",
       "power                              482\n",
       "kilometer                          194\n",
       "brand_audi                          78\n",
       "vehicle_type_convertible            74\n",
       "...                                ...\n",
       "model_jetta                          0\n",
       "model_jimny                          0\n",
       "model_juke                           0\n",
       "model_justy                          0\n",
       "registration_year_cut_Юная           0\n",
       "\n",
       "[313 rows x 1 columns]"
      ]
     },
     "execution_count": 258,
     "metadata": {},
     "output_type": "execute_result"
    }
   ],
   "source": [
    "fi = pd.DataFrame(lgbm_model.feature_importances_, index=X_train.columns, columns=['importance'])\n",
    "fi.sort_values(by='importance', ascending=False)"
   ]
  },
  {
   "cell_type": "markdown",
   "metadata": {
    "pycharm": {
     "name": "#%% md\n"
    }
   },
   "source": [
    "Так как опираемся на модель lightGBM, то оценим важные признаки, есть признаки, которые не имеют влияния и создают шум, уберем их:"
   ]
  },
  {
   "cell_type": "code",
   "execution_count": 259,
   "metadata": {
    "pycharm": {
     "name": "#%%\n"
    }
   },
   "outputs": [],
   "source": [
    "del_features = fi[fi['importance'] == 0]['importance'].index.tolist()"
   ]
  },
  {
   "cell_type": "code",
   "execution_count": 260,
   "metadata": {
    "pycharm": {
     "name": "#%%\n"
    }
   },
   "outputs": [],
   "source": [
    "X_train_short = X_train.drop(columns=del_features)\n",
    "X_test_short = X_test.drop(columns=del_features)"
   ]
  },
  {
   "cell_type": "code",
   "execution_count": 261,
   "metadata": {
    "pycharm": {
     "name": "#%%\n"
    }
   },
   "outputs": [
    {
     "data": {
      "text/plain": [
       "(313, 142)"
      ]
     },
     "execution_count": 261,
     "metadata": {},
     "output_type": "execute_result"
    }
   ],
   "source": [
    "len(X_train.columns), len(X_train_short.columns)"
   ]
  },
  {
   "cell_type": "markdown",
   "metadata": {
    "pycharm": {
     "name": "#%% md\n"
    }
   },
   "source": [
    "Отлично, сократили датасет почти в 2 раза, проверим как изменится качество"
   ]
  },
  {
   "cell_type": "code",
   "execution_count": 262,
   "metadata": {
    "pycharm": {
     "name": "#%%\n"
    }
   },
   "outputs": [],
   "source": [
    "model = fit_model(\n",
    "    LGBMRegressor(random_state=RANDOM_STATE),\n",
    "    X_train_short,\n",
    "    y_train,\n",
    ")\n",
    "lgbm_model, final_report['LGBMRegressor_rmse'] = predict_model(\n",
    "    model,\n",
    "    X_test_short,\n",
    "    y_test,\n",
    ")"
   ]
  },
  {
   "cell_type": "markdown",
   "metadata": {
    "pycharm": {
     "name": "#%% md\n"
    }
   },
   "source": [
    "Отлично, это никак не сказалось на качестве модели и немного сократили время, если бы данных было очень много, это бы могло сэкономить еще больше"
   ]
  },
  {
   "cell_type": "markdown",
   "metadata": {
    "pycharm": {
     "name": "#%% md\n"
    }
   },
   "source": [
    "### GridSearchCV CatBoost"
   ]
  },
  {
   "cell_type": "code",
   "execution_count": 272,
   "metadata": {
    "pycharm": {
     "name": "#%%\n"
    },
    "scrolled": true
   },
   "outputs": [],
   "source": [
    "%%time\n",
    "\n",
    "cbr_grid = CatBoostRegressor(verbose=200, random_state=RANDOM_STATE)\n",
    "grid = {\n",
    "    'learning_rate': [0.1],\n",
    "    'depth': [8],\n",
    "    'l2_leaf_reg': [1],\n",
    "}\n",
    "\n",
    "grid_search_result = cbr_grid.grid_search(\n",
    "    grid,\n",
    "    X=X_train,\n",
    "    y=y_train,\n",
    ")"
   ]
  },
  {
   "cell_type": "code",
   "execution_count": null,
   "metadata": {
    "pycharm": {
     "name": "#%%\n"
    }
   },
   "outputs": [],
   "source": [
    "grid_search_result"
   ]
  },
  {
   "cell_type": "code",
   "execution_count": 264,
   "metadata": {
    "pycharm": {
     "name": "#%%\n"
    }
   },
   "outputs": [],
   "source": [
    "%%time\n",
    "y_pred = cbr_grid.predict(X_test)\n",
    "final_report['CatBoostRegressor_gscv_rmse'] = rmse_score(y_test, y_pred)"
   ]
  },
  {
   "cell_type": "markdown",
   "metadata": {
    "pycharm": {
     "name": "#%% md\n"
    }
   },
   "source": [
    "### GridSearchCV LGBMRegressor"
   ]
  },
  {
   "cell_type": "code",
   "execution_count": null,
   "metadata": {
    "pycharm": {
     "is_executing": true,
     "name": "#%%\n"
    }
   },
   "outputs": [],
   "source": [
    "# params = {\n",
    "#     'num_leaves': [7, 14, 21, 28, 31, 50],\n",
    "#     'learning_rate': [0.1, 0.03, 0.003],\n",
    "#     'max_depth': [-1, 3, 5],\n",
    "#     'n_estimators': [50, 100, 200, 500],\n",
    "# }\n",
    "#\n",
    "# grid = GridSearchCV(LGBMRegressor(random_state=RANDOM_STATE), params, scoring='neg_mean_squared_error', cv=5)\n",
    "# grid.fit(X_train_short, y_train)"
   ]
  },
  {
   "cell_type": "code",
   "execution_count": 265,
   "metadata": {
    "pycharm": {
     "name": "#%%\n"
    }
   },
   "outputs": [
    {
     "data": {
      "text/plain": [
       "LGBMRegressor(n_estimators=500, num_leaves=50, random_state=13)"
      ]
     },
     "execution_count": 265,
     "metadata": {},
     "output_type": "execute_result"
    }
   ],
   "source": [
    "%%time\n",
    "# grid.best_params_ {'learning_rate': 0.1, 'max_depth': -1, 'n_estimators': 500, 'num_leaves': 50}\n",
    "\n",
    "lgbm = LGBMRegressor(random_state=RANDOM_STATE, learning_rate=0.1, max_depth=-1, n_estimators=500, num_leaves=50, n_jobs=-1)\n",
    "lgbm.fit(X_train_short, y_train)"
   ]
  },
  {
   "cell_type": "code",
   "execution_count": 267,
   "metadata": {
    "pycharm": {
     "name": "#%%\n"
    }
   },
   "outputs": [],
   "source": [
    "%%time\n",
    "y_pred = lgbm.predict(X_test_short)\n",
    "final_report['LGBMRegressor_rmse_short_grid'] = rmse_score(y_test, y_pred)"
   ]
  },
  {
   "cell_type": "markdown",
   "metadata": {
    "pycharm": {
     "name": "#%% md\n"
    }
   },
   "source": [
    "### GridSearchCV RandomForestRegressor"
   ]
  },
  {
   "cell_type": "code",
   "execution_count": 189,
   "metadata": {
    "pycharm": {
     "name": "#%%\n"
    }
   },
   "outputs": [
    {
     "data": {
      "text/plain": [
       "{'max_depth': 30, 'n_estimators': 400}"
      ]
     },
     "execution_count": 189,
     "metadata": {},
     "output_type": "execute_result"
    }
   ],
   "source": [
    "# params = {\n",
    "#     'max_depth': [15, 30],\n",
    "#     'n_estimators': [120, 400],\n",
    "# }\n",
    "#\n",
    "# grid = GridSearchCV(RandomForestRegressor(random_state=RANDOM_STATE, n_jobs=-1), params, scoring='neg_mean_squared_error', cv=3)\n",
    "# grid.fit(X_train_short, y_train)\n",
    "# grid.best_params_\n",
    "# {'max_depth': 30, 'n_estimators': 400}"
   ]
  },
  {
   "cell_type": "code",
   "execution_count": 268,
   "metadata": {
    "pycharm": {
     "name": "#%%\n"
    }
   },
   "outputs": [
    {
     "data": {
      "text/plain": [
       "RandomForestRegressor(max_depth=30, n_estimators=400, n_jobs=-1,\n",
       "                      random_state=13)"
      ]
     },
     "execution_count": 268,
     "metadata": {},
     "output_type": "execute_result"
    }
   ],
   "source": [
    "%%time\n",
    "\n",
    "rfr = RandomForestRegressor(random_state=RANDOM_STATE, max_depth=30, n_estimators=400, n_jobs=-1)\n",
    "rfr.fit(X_train_short, y_train)"
   ]
  },
  {
   "cell_type": "code",
   "execution_count": 271,
   "metadata": {
    "pycharm": {
     "name": "#%%\n"
    }
   },
   "outputs": [],
   "source": [
    "%%time\n",
    "\n",
    "y_pred = rfr.predict(X_test_short)\n",
    "final_report['RandomForestRegressor_rmse_short_grid'] = rmse_score(y_test, y_pred)"
   ]
  },
  {
   "cell_type": "code",
   "execution_count": 270,
   "metadata": {
    "pycharm": {
     "name": "#%%\n"
    }
   },
   "outputs": [
    {
     "data": {
      "text/plain": [
       "{'CatBoostRegressor_rmse': 1520.04103449754,\n",
       " 'LGBMRegressor_rmse': 1632.723642417455,\n",
       " 'RandomForestRegressor_rmse': 1510.214058308401,\n",
       " 'CatBoostRegressor_gscv_rmse': 1480.509739037389,\n",
       " 'LGBMRegressor_rmse_short_grid': 1485.788099714344,\n",
       " 'RandomForestRegressor_rmse_short_grid': 1509.4286304114084}"
      ]
     },
     "execution_count": 270,
     "metadata": {},
     "output_type": "execute_result"
    }
   ],
   "source": [
    "final_report"
   ]
  },
  {
   "cell_type": "markdown",
   "metadata": {},
   "source": [
    "## Анализ моделей"
   ]
  },
  {
   "cell_type": "markdown",
   "metadata": {
    "pycharm": {
     "name": "#%% md\n"
    }
   },
   "source": [
    "- Обучили 3 модели без дополнительных гиперпараметров: CatBoostRegressor, LGBMRegressor, RandomForestRegressor\n",
    "- По времени лучше всего себя показала LGBMRegressor, хуже всего - RandomForestRegressor, при чем отрыв значительный\n",
    "- После проведения анализа важности фичей оставили только фичи, влияющие на качество модели, построили модель еще раз, качество не изменилось(изменение в тысячных долях). Количество фичей убавилось больше чем в 2 раза\n",
    "- С помощью GridSearchCV подобрали оптимальные параметры, построили модели снова. Они показал улучшенный результат. Если добавить  n_jobs=-1 время улучшается"
   ]
  },
  {
   "cell_type": "markdown",
   "metadata": {
    "pycharm": {
     "name": "#%% md\n"
    }
   },
   "source": [
    "- По итогу добавлены категории для power и registration_year - это сразу улучшило метрики\n",
    "- Обработали price - нули заменили на среднее в группе бренд-модель-год\n",
    "По времени работы:\n",
    "- CatBoostRegressor - ~2 мин на обучение, ~0.06 сек на предсказание\n",
    "- LGBMRegressor - ~4 сек на обучение, ~1 сек на предсказание\n",
    "- RandomForestRegressor - ~7 минут, ~3 секунды\n",
    "По времени лидирует LGBMRegressor со значительным превосходством\n",
    "По качеству модели(RMSE):\n",
    "- Лучший результат показала модель CatBoostRegressor, а LGBMRegressor так же рядом: 1480 и 1485 соотв-но, RandomForestRegressor показал худший результат по метрике как и время\n"
   ]
  }
 ],
 "metadata": {
  "ExecuteTimeLog": [
   {
    "duration": 569,
    "start_time": "2022-02-27T19:27:04.859Z"
   },
   {
    "duration": 842,
    "start_time": "2022-02-27T19:27:40.519Z"
   },
   {
    "duration": 23,
    "start_time": "2022-02-27T19:27:46.840Z"
   },
   {
    "duration": 5,
    "start_time": "2022-02-27T19:28:38.286Z"
   },
   {
    "duration": 67,
    "start_time": "2022-02-27T19:33:21.208Z"
   },
   {
    "duration": 136,
    "start_time": "2022-02-27T19:33:40.871Z"
   },
   {
    "duration": 122,
    "start_time": "2022-02-27T19:33:51.154Z"
   },
   {
    "duration": 126,
    "start_time": "2022-02-27T19:34:45.023Z"
   },
   {
    "duration": 118,
    "start_time": "2022-02-27T19:34:56.864Z"
   },
   {
    "duration": 124,
    "start_time": "2022-02-27T19:35:10.670Z"
   },
   {
    "duration": 6,
    "start_time": "2022-02-27T19:46:13.597Z"
   },
   {
    "duration": 6,
    "start_time": "2022-02-27T19:46:33.274Z"
   },
   {
    "duration": 6,
    "start_time": "2022-02-27T19:46:41.996Z"
   },
   {
    "duration": 74,
    "start_time": "2022-02-27T19:47:23.212Z"
   },
   {
    "duration": 178,
    "start_time": "2022-02-27T19:48:00.946Z"
   },
   {
    "duration": 90,
    "start_time": "2022-02-27T19:48:08.968Z"
   },
   {
    "duration": 88,
    "start_time": "2022-02-27T19:48:14.040Z"
   },
   {
    "duration": 86,
    "start_time": "2022-02-27T19:48:19.380Z"
   },
   {
    "duration": 88,
    "start_time": "2022-02-27T19:48:35.930Z"
   },
   {
    "duration": 311,
    "start_time": "2022-02-27T19:48:51.415Z"
   },
   {
    "duration": 92,
    "start_time": "2022-02-27T19:49:17.421Z"
   },
   {
    "duration": 7,
    "start_time": "2022-02-27T19:54:36.395Z"
   },
   {
    "duration": 92,
    "start_time": "2022-02-27T19:54:44.789Z"
   },
   {
    "duration": 92,
    "start_time": "2022-02-27T19:57:16.731Z"
   },
   {
    "duration": 6,
    "start_time": "2022-02-27T19:57:23.537Z"
   },
   {
    "duration": 19,
    "start_time": "2022-02-27T19:57:28.148Z"
   },
   {
    "duration": 113,
    "start_time": "2022-02-27T19:57:50.597Z"
   },
   {
    "duration": 223,
    "start_time": "2022-02-27T19:58:06.221Z"
   },
   {
    "duration": 198,
    "start_time": "2022-02-27T19:58:18.043Z"
   },
   {
    "duration": 32,
    "start_time": "2022-02-27T19:58:27.080Z"
   },
   {
    "duration": 197,
    "start_time": "2022-02-27T19:58:48.339Z"
   },
   {
    "duration": 32,
    "start_time": "2022-02-27T19:58:50.625Z"
   },
   {
    "duration": 19,
    "start_time": "2022-02-27T19:59:13.524Z"
   },
   {
    "duration": 21,
    "start_time": "2022-02-27T20:01:04.546Z"
   },
   {
    "duration": 582,
    "start_time": "2022-02-27T20:02:44.535Z"
   },
   {
    "duration": 881,
    "start_time": "2022-02-27T20:02:45.121Z"
   },
   {
    "duration": 21,
    "start_time": "2022-02-27T20:02:46.004Z"
   },
   {
    "duration": 4,
    "start_time": "2022-02-27T20:02:46.176Z"
   },
   {
    "duration": 133,
    "start_time": "2022-02-27T20:02:52.295Z"
   },
   {
    "duration": 129,
    "start_time": "2022-02-27T20:02:53.834Z"
   },
   {
    "duration": 6,
    "start_time": "2022-02-27T20:02:55.252Z"
   },
   {
    "duration": 101,
    "start_time": "2022-02-27T20:02:55.663Z"
   },
   {
    "duration": 88,
    "start_time": "2022-02-27T20:02:56.706Z"
   },
   {
    "duration": 96,
    "start_time": "2022-02-27T20:02:58.487Z"
   },
   {
    "duration": 90,
    "start_time": "2022-02-27T20:03:00.050Z"
   },
   {
    "duration": 142,
    "start_time": "2022-02-27T20:03:00.903Z"
   },
   {
    "duration": 19,
    "start_time": "2022-02-27T20:03:01.328Z"
   },
   {
    "duration": 21,
    "start_time": "2022-02-27T20:03:03.753Z"
   },
   {
    "duration": 67,
    "start_time": "2022-02-27T20:07:19.420Z"
   },
   {
    "duration": 3298,
    "start_time": "2022-02-27T20:07:16.191Z"
   },
   {
    "duration": 3297,
    "start_time": "2022-02-27T20:07:16.193Z"
   },
   {
    "duration": 3296,
    "start_time": "2022-02-27T20:07:16.195Z"
   },
   {
    "duration": 3295,
    "start_time": "2022-02-27T20:07:16.197Z"
   },
   {
    "duration": 3292,
    "start_time": "2022-02-27T20:07:16.201Z"
   },
   {
    "duration": 3291,
    "start_time": "2022-02-27T20:07:16.203Z"
   },
   {
    "duration": 3289,
    "start_time": "2022-02-27T20:07:16.205Z"
   },
   {
    "duration": 3288,
    "start_time": "2022-02-27T20:07:16.207Z"
   },
   {
    "duration": 3288,
    "start_time": "2022-02-27T20:07:16.208Z"
   },
   {
    "duration": 3287,
    "start_time": "2022-02-27T20:07:16.210Z"
   },
   {
    "duration": 3287,
    "start_time": "2022-02-27T20:07:16.211Z"
   },
   {
    "duration": 3287,
    "start_time": "2022-02-27T20:07:16.212Z"
   },
   {
    "duration": 3287,
    "start_time": "2022-02-27T20:07:16.213Z"
   },
   {
    "duration": 66,
    "start_time": "2022-02-27T20:09:15.307Z"
   },
   {
    "duration": 91,
    "start_time": "2022-02-27T20:09:25.827Z"
   },
   {
    "duration": 721,
    "start_time": "2022-02-27T20:09:31.108Z"
   },
   {
    "duration": 3,
    "start_time": "2022-02-27T20:09:33.876Z"
   },
   {
    "duration": 3,
    "start_time": "2022-02-27T20:09:39.843Z"
   },
   {
    "duration": 878,
    "start_time": "2022-02-27T20:09:39.849Z"
   },
   {
    "duration": 19,
    "start_time": "2022-02-27T20:09:40.729Z"
   },
   {
    "duration": 20,
    "start_time": "2022-02-27T20:09:40.750Z"
   },
   {
    "duration": 136,
    "start_time": "2022-02-27T20:09:40.772Z"
   },
   {
    "duration": 133,
    "start_time": "2022-02-27T20:09:40.910Z"
   },
   {
    "duration": 6,
    "start_time": "2022-02-27T20:09:41.045Z"
   },
   {
    "duration": 117,
    "start_time": "2022-02-27T20:09:41.052Z"
   },
   {
    "duration": 88,
    "start_time": "2022-02-27T20:09:41.172Z"
   },
   {
    "duration": 94,
    "start_time": "2022-02-27T20:09:41.262Z"
   },
   {
    "duration": 98,
    "start_time": "2022-02-27T20:09:41.358Z"
   },
   {
    "duration": 133,
    "start_time": "2022-02-27T20:09:41.459Z"
   },
   {
    "duration": 24,
    "start_time": "2022-02-27T20:09:41.593Z"
   },
   {
    "duration": 22,
    "start_time": "2022-02-27T20:09:41.619Z"
   },
   {
    "duration": 21,
    "start_time": "2022-02-27T20:09:43.731Z"
   },
   {
    "duration": 727,
    "start_time": "2022-02-27T20:09:44.321Z"
   },
   {
    "duration": 35,
    "start_time": "2022-02-27T20:10:15.563Z"
   },
   {
    "duration": 248,
    "start_time": "2022-02-27T20:12:16.327Z"
   },
   {
    "duration": 695,
    "start_time": "2022-02-27T20:12:19.764Z"
   },
   {
    "duration": 828,
    "start_time": "2022-02-27T20:12:20.462Z"
   },
   {
    "duration": 22,
    "start_time": "2022-02-27T20:12:21.292Z"
   },
   {
    "duration": 3,
    "start_time": "2022-02-27T20:12:21.317Z"
   },
   {
    "duration": 143,
    "start_time": "2022-02-27T20:12:21.322Z"
   },
   {
    "duration": 127,
    "start_time": "2022-02-27T20:12:21.466Z"
   },
   {
    "duration": 6,
    "start_time": "2022-02-27T20:12:21.602Z"
   },
   {
    "duration": 118,
    "start_time": "2022-02-27T20:12:21.610Z"
   },
   {
    "duration": 97,
    "start_time": "2022-02-27T20:12:21.731Z"
   },
   {
    "duration": 100,
    "start_time": "2022-02-27T20:12:21.830Z"
   },
   {
    "duration": 100,
    "start_time": "2022-02-27T20:12:21.932Z"
   },
   {
    "duration": 142,
    "start_time": "2022-02-27T20:12:22.034Z"
   },
   {
    "duration": 27,
    "start_time": "2022-02-27T20:12:22.178Z"
   },
   {
    "duration": 23,
    "start_time": "2022-02-27T20:12:22.208Z"
   },
   {
    "duration": 983,
    "start_time": "2022-02-27T20:12:23.697Z"
   },
   {
    "duration": 250,
    "start_time": "2022-02-27T20:12:59.493Z"
   },
   {
    "duration": 674,
    "start_time": "2022-02-27T20:13:02.801Z"
   },
   {
    "duration": 881,
    "start_time": "2022-02-27T20:13:03.478Z"
   },
   {
    "duration": 19,
    "start_time": "2022-02-27T20:13:04.362Z"
   },
   {
    "duration": 19,
    "start_time": "2022-02-27T20:13:04.383Z"
   },
   {
    "duration": 145,
    "start_time": "2022-02-27T20:13:04.404Z"
   },
   {
    "duration": 132,
    "start_time": "2022-02-27T20:13:04.552Z"
   },
   {
    "duration": 38,
    "start_time": "2022-02-27T20:13:04.687Z"
   },
   {
    "duration": 115,
    "start_time": "2022-02-27T20:13:04.727Z"
   },
   {
    "duration": 99,
    "start_time": "2022-02-27T20:13:04.845Z"
   },
   {
    "duration": 102,
    "start_time": "2022-02-27T20:13:04.946Z"
   },
   {
    "duration": 103,
    "start_time": "2022-02-27T20:13:05.050Z"
   },
   {
    "duration": 148,
    "start_time": "2022-02-27T20:13:05.155Z"
   },
   {
    "duration": 21,
    "start_time": "2022-02-27T20:13:05.305Z"
   },
   {
    "duration": 22,
    "start_time": "2022-02-27T20:13:05.328Z"
   },
   {
    "duration": 60,
    "start_time": "2022-02-27T20:13:05.352Z"
   },
   {
    "duration": 46,
    "start_time": "2022-02-27T20:15:59.888Z"
   },
   {
    "duration": 38,
    "start_time": "2022-02-27T20:16:08.593Z"
   },
   {
    "duration": 349,
    "start_time": "2022-02-27T20:18:36.837Z"
   },
   {
    "duration": 7,
    "start_time": "2022-02-27T20:18:47.883Z"
   },
   {
    "duration": 19,
    "start_time": "2022-02-27T20:18:57.373Z"
   },
   {
    "duration": 5,
    "start_time": "2022-02-27T20:20:12.057Z"
   },
   {
    "duration": 172,
    "start_time": "2022-02-27T20:20:15.939Z"
   },
   {
    "duration": 221,
    "start_time": "2022-02-27T20:20:46.442Z"
   },
   {
    "duration": 266,
    "start_time": "2022-02-27T20:20:54.503Z"
   },
   {
    "duration": 172,
    "start_time": "2022-02-27T20:21:15.041Z"
   },
   {
    "duration": 181,
    "start_time": "2022-02-27T20:21:45.799Z"
   },
   {
    "duration": 26,
    "start_time": "2022-02-27T20:22:29.746Z"
   },
   {
    "duration": 14,
    "start_time": "2022-02-27T20:23:16.909Z"
   },
   {
    "duration": 249,
    "start_time": "2022-02-27T20:23:26.797Z"
   },
   {
    "duration": 203,
    "start_time": "2022-02-27T20:23:37.278Z"
   },
   {
    "duration": 8,
    "start_time": "2022-02-27T20:23:50.303Z"
   },
   {
    "duration": 8,
    "start_time": "2022-02-27T20:24:12.579Z"
   },
   {
    "duration": 8,
    "start_time": "2022-02-27T20:24:29.699Z"
   },
   {
    "duration": 204,
    "start_time": "2022-02-27T20:25:06.453Z"
   },
   {
    "duration": 73,
    "start_time": "2022-02-27T20:25:13.622Z"
   },
   {
    "duration": 310,
    "start_time": "2022-02-27T20:25:31.407Z"
   },
   {
    "duration": 10,
    "start_time": "2022-02-27T20:25:48.672Z"
   },
   {
    "duration": 10,
    "start_time": "2022-02-27T20:26:02.744Z"
   },
   {
    "duration": 71,
    "start_time": "2022-02-27T20:27:14.925Z"
   },
   {
    "duration": 67,
    "start_time": "2022-02-27T20:28:08.671Z"
   },
   {
    "duration": 102,
    "start_time": "2022-02-27T20:29:12.908Z"
   },
   {
    "duration": 104,
    "start_time": "2022-02-27T20:30:14.311Z"
   },
   {
    "duration": 21,
    "start_time": "2022-02-27T20:32:49.265Z"
   },
   {
    "duration": 38,
    "start_time": "2022-02-27T20:33:04.020Z"
   },
   {
    "duration": 46,
    "start_time": "2022-02-27T20:34:20.755Z"
   },
   {
    "duration": 87,
    "start_time": "2022-02-27T20:34:25.217Z"
   },
   {
    "duration": 89,
    "start_time": "2022-02-27T20:35:40.352Z"
   },
   {
    "duration": 62,
    "start_time": "2022-02-27T20:35:45.912Z"
   },
   {
    "duration": 260,
    "start_time": "2022-02-27T20:35:52.462Z"
   },
   {
    "duration": 72,
    "start_time": "2022-02-27T20:36:07.506Z"
   },
   {
    "duration": 79,
    "start_time": "2022-02-27T20:36:12.632Z"
   },
   {
    "duration": 271,
    "start_time": "2022-02-27T20:36:26.384Z"
   },
   {
    "duration": 66,
    "start_time": "2022-02-27T20:36:39.536Z"
   },
   {
    "duration": 80,
    "start_time": "2022-02-27T20:36:50.052Z"
   },
   {
    "duration": 182,
    "start_time": "2022-02-27T20:37:56.775Z"
   }
  ],
  "kernelspec": {
   "display_name": "Python 3 (ipykernel)",
   "language": "python",
   "name": "python3"
  },
  "language_info": {
   "codemirror_mode": {
    "name": "ipython",
    "version": 3
   },
   "file_extension": ".py",
   "mimetype": "text/x-python",
   "name": "python",
   "nbconvert_exporter": "python",
   "pygments_lexer": "ipython3",
   "version": "3.9.7"
  },
  "toc": {
   "base_numbering": 1,
   "nav_menu": {
    "height": "104px",
    "width": "215px"
   },
   "number_sections": true,
   "sideBar": true,
   "skip_h1_title": true,
   "title_cell": "Table of Contents",
   "title_sidebar": "Contents",
   "toc_cell": false,
   "toc_position": {},
   "toc_section_display": true,
   "toc_window_display": true
  }
 },
 "nbformat": 4,
 "nbformat_minor": 2
}