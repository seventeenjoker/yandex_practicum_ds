{
 "cells": [
  {
   "cell_type": "code",
   "execution_count": 1027,
   "metadata": {
    "scrolled": true
   },
   "outputs": [],
   "source": [
    "# !pip install missingno"
   ]
  },
  {
   "cell_type": "code",
   "execution_count": 1028,
   "metadata": {
    "scrolled": true
   },
   "outputs": [],
   "source": [
    "# !pip install -U scikit-learn"
   ]
  },
  {
   "cell_type": "code",
   "execution_count": 1029,
   "metadata": {},
   "outputs": [],
   "source": [
    "import pandas as pd\n",
    "import numpy as np\n",
    "import missingno as msno\n",
    "import seaborn as sns\n",
    "\n",
    "from sklearn.metrics import mean_absolute_error, make_scorer\n",
    "from sklearn.linear_model import LinearRegression\n",
    "from sklearn.ensemble import RandomForestRegressor\n",
    "from sklearn.model_selection import cross_val_score, KFold\n",
    "from sklearn.preprocessing import MinMaxScaler\n",
    "from sklearn.dummy import DummyRegressor"
   ]
  },
  {
   "cell_type": "markdown",
   "metadata": {
    "toc": true
   },
   "source": [
    "<h1>Содержание<span class=\"tocSkip\"></span></h1>\n",
    "<div class=\"toc\"><ul class=\"toc-item\"><li><span><a href=\"#Подготовка-данных\" data-toc-modified-id=\"Подготовка-данных-1\"><span class=\"toc-item-num\">1&nbsp;&nbsp;</span>Подготовка данных</a></span><ul class=\"toc-item\"><li><span><a href=\"#Проверьте,-что-эффективность-обогащения-рассчитана-правильно.-Вычислите-её-на-обучающей-выборке-для-признака-rougher.output.recovery.-Найдите-MAE-между-вашими-расчётами-и-значением-признака.-Опишите-выводы.\" data-toc-modified-id=\"Проверьте,-что-эффективность-обогащения-рассчитана-правильно.-Вычислите-её-на-обучающей-выборке-для-признака-rougher.output.recovery.-Найдите-MAE-между-вашими-расчётами-и-значением-признака.-Опишите-выводы.-1.1\"><span class=\"toc-item-num\">1.1&nbsp;&nbsp;</span>Проверьте, что эффективность обогащения рассчитана правильно. Вычислите её на обучающей выборке для признака rougher.output.recovery. Найдите MAE между вашими расчётами и значением признака. Опишите выводы.</a></span></li><li><span><a href=\"#Проанализируйте-признаки,-недоступные-в-тестовой-выборке.-Что-это-за-параметры?-К-какому-типу-относятся?\" data-toc-modified-id=\"Проанализируйте-признаки,-недоступные-в-тестовой-выборке.-Что-это-за-параметры?-К-какому-типу-относятся?-1.2\"><span class=\"toc-item-num\">1.2&nbsp;&nbsp;</span>Проанализируйте признаки, недоступные в тестовой выборке. Что это за параметры? К какому типу относятся?</a></span></li><li><span><a href=\"#Проведите-предобработку-данных\" data-toc-modified-id=\"Проведите-предобработку-данных-1.3\"><span class=\"toc-item-num\">1.3&nbsp;&nbsp;</span>Проведите предобработку данных</a></span></li></ul></li><li><span><a href=\"#Анализ-данных\" data-toc-modified-id=\"Анализ-данных-2\"><span class=\"toc-item-num\">2&nbsp;&nbsp;</span>Анализ данных</a></span><ul class=\"toc-item\"><li><span><a href=\"#Посмотрите,-как-меняется-концентрация-металлов-(Au,-Ag,-Pb)-на-различных-этапах-очистки.-Опишите-выводы\" data-toc-modified-id=\"Посмотрите,-как-меняется-концентрация-металлов-(Au,-Ag,-Pb)-на-различных-этапах-очистки.-Опишите-выводы-2.1\"><span class=\"toc-item-num\">2.1&nbsp;&nbsp;</span>Посмотрите, как меняется концентрация металлов (Au, Ag, Pb) на различных этапах очистки. Опишите выводы</a></span></li><li><span><a href=\"#Сравните-распределения-размеров-гранул-сырья-на-обучающей-и-тестовой-выборках.-Если-распределения-сильно-отличаются-друг-от-друга,-оценка-модели-будет-неправильной.\" data-toc-modified-id=\"Сравните-распределения-размеров-гранул-сырья-на-обучающей-и-тестовой-выборках.-Если-распределения-сильно-отличаются-друг-от-друга,-оценка-модели-будет-неправильной.-2.2\"><span class=\"toc-item-num\">2.2&nbsp;&nbsp;</span>Сравните распределения размеров гранул сырья на обучающей и тестовой выборках. Если распределения сильно отличаются друг от друга, оценка модели будет неправильной.</a></span></li><li><span><a href=\"#Исследуйте-суммарную-концентрацию-всех-веществ-на-разных-стадиях:-в-сырье,-в-черновом-и-финальном-концентратах\" data-toc-modified-id=\"Исследуйте-суммарную-концентрацию-всех-веществ-на-разных-стадиях:-в-сырье,-в-черновом-и-финальном-концентратах-2.3\"><span class=\"toc-item-num\">2.3&nbsp;&nbsp;</span>Исследуйте суммарную концентрацию всех веществ на разных стадиях: в сырье, в черновом и финальном концентратах</a></span></li><li><span><a href=\"#Посмотрим-на-наши-целевые-признаки---['final.output.recovery',-'rougher.output.recovery']\" data-toc-modified-id=\"Посмотрим-на-наши-целевые-признаки---['final.output.recovery',-'rougher.output.recovery']-2.4\"><span class=\"toc-item-num\">2.4&nbsp;&nbsp;</span>Посмотрим на наши целевые признаки - ['final.output.recovery', 'rougher.output.recovery']</a></span></li></ul></li><li><span><a href=\"#Модель\" data-toc-modified-id=\"Модель-3\"><span class=\"toc-item-num\">3&nbsp;&nbsp;</span>Модель</a></span><ul class=\"toc-item\"><li><span><a href=\"#Напишите-функцию-для-вычисления-итоговой-sMAPE\" data-toc-modified-id=\"Напишите-функцию-для-вычисления-итоговой-sMAPE-3.1\"><span class=\"toc-item-num\">3.1&nbsp;&nbsp;</span>Напишите функцию для вычисления итоговой sMAPE</a></span></li><li><span><a href=\"#Обучите-разные-модели-и-оцените-их-качество-кросс-валидацией.-Выберите-лучшую-модель-и-проверьте-её-на-тестовой-выборке.-Опишите-выводы\" data-toc-modified-id=\"Обучите-разные-модели-и-оцените-их-качество-кросс-валидацией.-Выберите-лучшую-модель-и-проверьте-её-на-тестовой-выборке.-Опишите-выводы-3.2\"><span class=\"toc-item-num\">3.2&nbsp;&nbsp;</span>Обучите разные модели и оцените их качество кросс-валидацией. Выберите лучшую модель и проверьте её на тестовой выборке. Опишите выводы</a></span><ul class=\"toc-item\"><li><span><a href=\"#Модель-1.-Поиск-наилучшей-модели-для-целевого-признака-'rougher.output.recovery'\" data-toc-modified-id=\"Модель-1.-Поиск-наилучшей-модели-для-целевого-признака-'rougher.output.recovery'-3.2.1\"><span class=\"toc-item-num\">3.2.1&nbsp;&nbsp;</span>Модель 1. Поиск наилучшей модели для целевого признака 'rougher.output.recovery'</a></span></li><li><span><a href=\"#Модель-2.-Поиск-наилучшей-модели-для-целевого-признака-'final.output.recovery'\" data-toc-modified-id=\"Модель-2.-Поиск-наилучшей-модели-для-целевого-признака-'final.output.recovery'-3.2.2\"><span class=\"toc-item-num\">3.2.2&nbsp;&nbsp;</span>Модель 2. Поиск наилучшей модели для целевого признака 'final.output.recovery'</a></span></li><li><span><a href=\"#Проверка-моделей-на-тестовой-выборке\" data-toc-modified-id=\"Проверка-моделей-на-тестовой-выборке-3.2.3\"><span class=\"toc-item-num\">3.2.3&nbsp;&nbsp;</span>Проверка моделей на тестовой выборке</a></span></li></ul></li></ul></li><li><span><a href=\"#Чек-лист-готовности-проекта\" data-toc-modified-id=\"Чек-лист-готовности-проекта-4\"><span class=\"toc-item-num\">4&nbsp;&nbsp;</span>Чек-лист готовности проекта</a></span></li></ul></div>"
   ]
  },
  {
   "cell_type": "markdown",
   "metadata": {},
   "source": [
    "# Восстановление золота из руды"
   ]
  },
  {
   "cell_type": "markdown",
   "metadata": {},
   "source": [
    "Подготовьте прототип модели машинного обучения для «Цифры». Компания разрабатывает решения для эффективной работы промышленных предприятий.\n",
    "\n",
    "Модель должна предсказать коэффициент восстановления золота из золотосодержащей руды. Используйте данные с параметрами добычи и очистки. \n",
    "\n",
    "Модель поможет оптимизировать производство, чтобы не запускать предприятие с убыточными характеристиками.\n",
    "\n",
    "Вам нужно:\n",
    "\n",
    "1. Подготовить данные;\n",
    "2. Провести исследовательский анализ данных;\n",
    "3. Построить и обучить модель.\n",
    "\n",
    "Чтобы выполнить проект, обращайтесь к библиотекам *pandas*, *matplotlib* и *sklearn.* Вам поможет их документация."
   ]
  },
  {
   "cell_type": "markdown",
   "metadata": {},
   "source": [
    "## Подготовка данных"
   ]
  },
  {
   "cell_type": "code",
   "execution_count": 1030,
   "metadata": {},
   "outputs": [],
   "source": [
    "TRAIN = pd.read_csv('/datasets/gold_recovery_train_new.csv')\n",
    "TEST = pd.read_csv('/datasets/gold_recovery_test_new.csv')\n",
    "FULL = pd.read_csv('/datasets/gold_recovery_full_new.csv')"
   ]
  },
  {
   "cell_type": "code",
   "execution_count": 1031,
   "metadata": {
    "scrolled": true
   },
   "outputs": [
    {
     "data": {
      "text/html": [
       "<div>\n",
       "<style scoped>\n",
       "    .dataframe tbody tr th:only-of-type {\n",
       "        vertical-align: middle;\n",
       "    }\n",
       "\n",
       "    .dataframe tbody tr th {\n",
       "        vertical-align: top;\n",
       "    }\n",
       "\n",
       "    .dataframe thead th {\n",
       "        text-align: right;\n",
       "    }\n",
       "</style>\n",
       "<table border=\"1\" class=\"dataframe\">\n",
       "  <thead>\n",
       "    <tr style=\"text-align: right;\">\n",
       "      <th></th>\n",
       "      <th>date</th>\n",
       "      <th>final.output.concentrate_ag</th>\n",
       "      <th>final.output.concentrate_pb</th>\n",
       "      <th>final.output.concentrate_sol</th>\n",
       "      <th>final.output.concentrate_au</th>\n",
       "      <th>final.output.recovery</th>\n",
       "      <th>final.output.tail_ag</th>\n",
       "      <th>final.output.tail_pb</th>\n",
       "      <th>final.output.tail_sol</th>\n",
       "      <th>final.output.tail_au</th>\n",
       "      <th>...</th>\n",
       "      <th>secondary_cleaner.state.floatbank4_a_air</th>\n",
       "      <th>secondary_cleaner.state.floatbank4_a_level</th>\n",
       "      <th>secondary_cleaner.state.floatbank4_b_air</th>\n",
       "      <th>secondary_cleaner.state.floatbank4_b_level</th>\n",
       "      <th>secondary_cleaner.state.floatbank5_a_air</th>\n",
       "      <th>secondary_cleaner.state.floatbank5_a_level</th>\n",
       "      <th>secondary_cleaner.state.floatbank5_b_air</th>\n",
       "      <th>secondary_cleaner.state.floatbank5_b_level</th>\n",
       "      <th>secondary_cleaner.state.floatbank6_a_air</th>\n",
       "      <th>secondary_cleaner.state.floatbank6_a_level</th>\n",
       "    </tr>\n",
       "  </thead>\n",
       "  <tbody>\n",
       "    <tr>\n",
       "      <td>0</td>\n",
       "      <td>2016-01-15 00:00:00</td>\n",
       "      <td>6.055403</td>\n",
       "      <td>9.889648</td>\n",
       "      <td>5.507324</td>\n",
       "      <td>42.192020</td>\n",
       "      <td>70.541216</td>\n",
       "      <td>10.411962</td>\n",
       "      <td>0.895447</td>\n",
       "      <td>16.904297</td>\n",
       "      <td>2.143149</td>\n",
       "      <td>...</td>\n",
       "      <td>14.016835</td>\n",
       "      <td>-502.488007</td>\n",
       "      <td>12.099931</td>\n",
       "      <td>-504.715942</td>\n",
       "      <td>9.925633</td>\n",
       "      <td>-498.310211</td>\n",
       "      <td>8.079666</td>\n",
       "      <td>-500.470978</td>\n",
       "      <td>14.151341</td>\n",
       "      <td>-605.841980</td>\n",
       "    </tr>\n",
       "    <tr>\n",
       "      <td>1</td>\n",
       "      <td>2016-01-15 01:00:00</td>\n",
       "      <td>6.029369</td>\n",
       "      <td>9.968944</td>\n",
       "      <td>5.257781</td>\n",
       "      <td>42.701629</td>\n",
       "      <td>69.266198</td>\n",
       "      <td>10.462676</td>\n",
       "      <td>0.927452</td>\n",
       "      <td>16.634514</td>\n",
       "      <td>2.224930</td>\n",
       "      <td>...</td>\n",
       "      <td>13.992281</td>\n",
       "      <td>-505.503262</td>\n",
       "      <td>11.950531</td>\n",
       "      <td>-501.331529</td>\n",
       "      <td>10.039245</td>\n",
       "      <td>-500.169983</td>\n",
       "      <td>7.984757</td>\n",
       "      <td>-500.582168</td>\n",
       "      <td>13.998353</td>\n",
       "      <td>-599.787184</td>\n",
       "    </tr>\n",
       "    <tr>\n",
       "      <td>2</td>\n",
       "      <td>2016-01-15 02:00:00</td>\n",
       "      <td>6.055926</td>\n",
       "      <td>10.213995</td>\n",
       "      <td>5.383759</td>\n",
       "      <td>42.657501</td>\n",
       "      <td>68.116445</td>\n",
       "      <td>10.507046</td>\n",
       "      <td>0.953716</td>\n",
       "      <td>16.208849</td>\n",
       "      <td>2.257889</td>\n",
       "      <td>...</td>\n",
       "      <td>14.015015</td>\n",
       "      <td>-502.520901</td>\n",
       "      <td>11.912783</td>\n",
       "      <td>-501.133383</td>\n",
       "      <td>10.070913</td>\n",
       "      <td>-500.129135</td>\n",
       "      <td>8.013877</td>\n",
       "      <td>-500.517572</td>\n",
       "      <td>14.028663</td>\n",
       "      <td>-601.427363</td>\n",
       "    </tr>\n",
       "    <tr>\n",
       "      <td>3</td>\n",
       "      <td>2016-01-15 03:00:00</td>\n",
       "      <td>6.047977</td>\n",
       "      <td>9.977019</td>\n",
       "      <td>4.858634</td>\n",
       "      <td>42.689819</td>\n",
       "      <td>68.347543</td>\n",
       "      <td>10.422762</td>\n",
       "      <td>0.883763</td>\n",
       "      <td>16.532835</td>\n",
       "      <td>2.146849</td>\n",
       "      <td>...</td>\n",
       "      <td>14.036510</td>\n",
       "      <td>-500.857308</td>\n",
       "      <td>11.999550</td>\n",
       "      <td>-501.193686</td>\n",
       "      <td>9.970366</td>\n",
       "      <td>-499.201640</td>\n",
       "      <td>7.977324</td>\n",
       "      <td>-500.255908</td>\n",
       "      <td>14.005551</td>\n",
       "      <td>-599.996129</td>\n",
       "    </tr>\n",
       "    <tr>\n",
       "      <td>4</td>\n",
       "      <td>2016-01-15 04:00:00</td>\n",
       "      <td>6.148599</td>\n",
       "      <td>10.142511</td>\n",
       "      <td>4.939416</td>\n",
       "      <td>42.774141</td>\n",
       "      <td>66.927016</td>\n",
       "      <td>10.360302</td>\n",
       "      <td>0.792826</td>\n",
       "      <td>16.525686</td>\n",
       "      <td>2.055292</td>\n",
       "      <td>...</td>\n",
       "      <td>14.027298</td>\n",
       "      <td>-499.838632</td>\n",
       "      <td>11.953070</td>\n",
       "      <td>-501.053894</td>\n",
       "      <td>9.925709</td>\n",
       "      <td>-501.686727</td>\n",
       "      <td>7.894242</td>\n",
       "      <td>-500.356035</td>\n",
       "      <td>13.996647</td>\n",
       "      <td>-601.496691</td>\n",
       "    </tr>\n",
       "  </tbody>\n",
       "</table>\n",
       "<p>5 rows × 87 columns</p>\n",
       "</div>"
      ],
      "text/plain": [
       "                  date  final.output.concentrate_ag  \\\n",
       "0  2016-01-15 00:00:00                     6.055403   \n",
       "1  2016-01-15 01:00:00                     6.029369   \n",
       "2  2016-01-15 02:00:00                     6.055926   \n",
       "3  2016-01-15 03:00:00                     6.047977   \n",
       "4  2016-01-15 04:00:00                     6.148599   \n",
       "\n",
       "   final.output.concentrate_pb  final.output.concentrate_sol  \\\n",
       "0                     9.889648                      5.507324   \n",
       "1                     9.968944                      5.257781   \n",
       "2                    10.213995                      5.383759   \n",
       "3                     9.977019                      4.858634   \n",
       "4                    10.142511                      4.939416   \n",
       "\n",
       "   final.output.concentrate_au  final.output.recovery  final.output.tail_ag  \\\n",
       "0                    42.192020              70.541216             10.411962   \n",
       "1                    42.701629              69.266198             10.462676   \n",
       "2                    42.657501              68.116445             10.507046   \n",
       "3                    42.689819              68.347543             10.422762   \n",
       "4                    42.774141              66.927016             10.360302   \n",
       "\n",
       "   final.output.tail_pb  final.output.tail_sol  final.output.tail_au  ...  \\\n",
       "0              0.895447              16.904297              2.143149  ...   \n",
       "1              0.927452              16.634514              2.224930  ...   \n",
       "2              0.953716              16.208849              2.257889  ...   \n",
       "3              0.883763              16.532835              2.146849  ...   \n",
       "4              0.792826              16.525686              2.055292  ...   \n",
       "\n",
       "   secondary_cleaner.state.floatbank4_a_air  \\\n",
       "0                                 14.016835   \n",
       "1                                 13.992281   \n",
       "2                                 14.015015   \n",
       "3                                 14.036510   \n",
       "4                                 14.027298   \n",
       "\n",
       "   secondary_cleaner.state.floatbank4_a_level  \\\n",
       "0                                 -502.488007   \n",
       "1                                 -505.503262   \n",
       "2                                 -502.520901   \n",
       "3                                 -500.857308   \n",
       "4                                 -499.838632   \n",
       "\n",
       "   secondary_cleaner.state.floatbank4_b_air  \\\n",
       "0                                 12.099931   \n",
       "1                                 11.950531   \n",
       "2                                 11.912783   \n",
       "3                                 11.999550   \n",
       "4                                 11.953070   \n",
       "\n",
       "   secondary_cleaner.state.floatbank4_b_level  \\\n",
       "0                                 -504.715942   \n",
       "1                                 -501.331529   \n",
       "2                                 -501.133383   \n",
       "3                                 -501.193686   \n",
       "4                                 -501.053894   \n",
       "\n",
       "   secondary_cleaner.state.floatbank5_a_air  \\\n",
       "0                                  9.925633   \n",
       "1                                 10.039245   \n",
       "2                                 10.070913   \n",
       "3                                  9.970366   \n",
       "4                                  9.925709   \n",
       "\n",
       "   secondary_cleaner.state.floatbank5_a_level  \\\n",
       "0                                 -498.310211   \n",
       "1                                 -500.169983   \n",
       "2                                 -500.129135   \n",
       "3                                 -499.201640   \n",
       "4                                 -501.686727   \n",
       "\n",
       "   secondary_cleaner.state.floatbank5_b_air  \\\n",
       "0                                  8.079666   \n",
       "1                                  7.984757   \n",
       "2                                  8.013877   \n",
       "3                                  7.977324   \n",
       "4                                  7.894242   \n",
       "\n",
       "   secondary_cleaner.state.floatbank5_b_level  \\\n",
       "0                                 -500.470978   \n",
       "1                                 -500.582168   \n",
       "2                                 -500.517572   \n",
       "3                                 -500.255908   \n",
       "4                                 -500.356035   \n",
       "\n",
       "   secondary_cleaner.state.floatbank6_a_air  \\\n",
       "0                                 14.151341   \n",
       "1                                 13.998353   \n",
       "2                                 14.028663   \n",
       "3                                 14.005551   \n",
       "4                                 13.996647   \n",
       "\n",
       "   secondary_cleaner.state.floatbank6_a_level  \n",
       "0                                 -605.841980  \n",
       "1                                 -599.787184  \n",
       "2                                 -601.427363  \n",
       "3                                 -599.996129  \n",
       "4                                 -601.496691  \n",
       "\n",
       "[5 rows x 87 columns]"
      ]
     },
     "execution_count": 1031,
     "metadata": {},
     "output_type": "execute_result"
    }
   ],
   "source": [
    "FULL.head()"
   ]
  },
  {
   "cell_type": "code",
   "execution_count": 1032,
   "metadata": {},
   "outputs": [
    {
     "data": {
      "text/plain": [
       "((14149, 87), (5290, 53), (19439, 87))"
      ]
     },
     "execution_count": 1032,
     "metadata": {},
     "output_type": "execute_result"
    }
   ],
   "source": [
    "TRAIN.shape, TEST.shape, FULL.shape"
   ]
  },
  {
   "cell_type": "code",
   "execution_count": 1033,
   "metadata": {
    "scrolled": true
   },
   "outputs": [
    {
     "data": {
      "text/plain": [
       "Index(['date', 'final.output.concentrate_ag', 'final.output.concentrate_pb',\n",
       "       'final.output.concentrate_sol', 'final.output.concentrate_au',\n",
       "       'final.output.recovery', 'final.output.tail_ag', 'final.output.tail_pb',\n",
       "       'final.output.tail_sol', 'final.output.tail_au',\n",
       "       'primary_cleaner.input.sulfate', 'primary_cleaner.input.depressant',\n",
       "       'primary_cleaner.input.feed_size', 'primary_cleaner.input.xanthate',\n",
       "       'primary_cleaner.output.concentrate_ag',\n",
       "       'primary_cleaner.output.concentrate_pb',\n",
       "       'primary_cleaner.output.concentrate_sol',\n",
       "       'primary_cleaner.output.concentrate_au',\n",
       "       'primary_cleaner.output.tail_ag', 'primary_cleaner.output.tail_pb',\n",
       "       'primary_cleaner.output.tail_sol', 'primary_cleaner.output.tail_au',\n",
       "       'primary_cleaner.state.floatbank8_a_air',\n",
       "       'primary_cleaner.state.floatbank8_a_level',\n",
       "       'primary_cleaner.state.floatbank8_b_air',\n",
       "       'primary_cleaner.state.floatbank8_b_level',\n",
       "       'primary_cleaner.state.floatbank8_c_air',\n",
       "       'primary_cleaner.state.floatbank8_c_level',\n",
       "       'primary_cleaner.state.floatbank8_d_air',\n",
       "       'primary_cleaner.state.floatbank8_d_level',\n",
       "       'rougher.calculation.sulfate_to_au_concentrate',\n",
       "       'rougher.calculation.floatbank10_sulfate_to_au_feed',\n",
       "       'rougher.calculation.floatbank11_sulfate_to_au_feed',\n",
       "       'rougher.calculation.au_pb_ratio', 'rougher.input.feed_ag',\n",
       "       'rougher.input.feed_pb', 'rougher.input.feed_rate',\n",
       "       'rougher.input.feed_size', 'rougher.input.feed_sol',\n",
       "       'rougher.input.feed_au', 'rougher.input.floatbank10_sulfate',\n",
       "       'rougher.input.floatbank10_xanthate',\n",
       "       'rougher.input.floatbank11_sulfate',\n",
       "       'rougher.input.floatbank11_xanthate', 'rougher.output.concentrate_ag',\n",
       "       'rougher.output.concentrate_pb', 'rougher.output.concentrate_sol',\n",
       "       'rougher.output.concentrate_au', 'rougher.output.recovery',\n",
       "       'rougher.output.tail_ag', 'rougher.output.tail_pb',\n",
       "       'rougher.output.tail_sol', 'rougher.output.tail_au',\n",
       "       'rougher.state.floatbank10_a_air', 'rougher.state.floatbank10_a_level',\n",
       "       'rougher.state.floatbank10_b_air', 'rougher.state.floatbank10_b_level',\n",
       "       'rougher.state.floatbank10_c_air', 'rougher.state.floatbank10_c_level',\n",
       "       'rougher.state.floatbank10_d_air', 'rougher.state.floatbank10_d_level',\n",
       "       'rougher.state.floatbank10_e_air', 'rougher.state.floatbank10_e_level',\n",
       "       'rougher.state.floatbank10_f_air', 'rougher.state.floatbank10_f_level',\n",
       "       'secondary_cleaner.output.tail_ag', 'secondary_cleaner.output.tail_pb',\n",
       "       'secondary_cleaner.output.tail_sol', 'secondary_cleaner.output.tail_au',\n",
       "       'secondary_cleaner.state.floatbank2_a_air',\n",
       "       'secondary_cleaner.state.floatbank2_a_level',\n",
       "       'secondary_cleaner.state.floatbank2_b_air',\n",
       "       'secondary_cleaner.state.floatbank2_b_level',\n",
       "       'secondary_cleaner.state.floatbank3_a_air',\n",
       "       'secondary_cleaner.state.floatbank3_a_level',\n",
       "       'secondary_cleaner.state.floatbank3_b_air',\n",
       "       'secondary_cleaner.state.floatbank3_b_level',\n",
       "       'secondary_cleaner.state.floatbank4_a_air',\n",
       "       'secondary_cleaner.state.floatbank4_a_level',\n",
       "       'secondary_cleaner.state.floatbank4_b_air',\n",
       "       'secondary_cleaner.state.floatbank4_b_level',\n",
       "       'secondary_cleaner.state.floatbank5_a_air',\n",
       "       'secondary_cleaner.state.floatbank5_a_level',\n",
       "       'secondary_cleaner.state.floatbank5_b_air',\n",
       "       'secondary_cleaner.state.floatbank5_b_level',\n",
       "       'secondary_cleaner.state.floatbank6_a_air',\n",
       "       'secondary_cleaner.state.floatbank6_a_level'],\n",
       "      dtype='object')"
      ]
     },
     "execution_count": 1033,
     "metadata": {},
     "output_type": "execute_result"
    }
   ],
   "source": [
    "TRAIN.columns"
   ]
  },
  {
   "cell_type": "markdown",
   "metadata": {},
   "source": [
    "Видим, что у нас есть колонки:\n",
    "- date - дата\n",
    "- final.output - финальные параметры продукта\n",
    "- primary_cleaner.input - первичная очистка параметры сырья\n",
    "- primary_cleaner.output - первичная очистка параметры продукта\n",
    "- primary_cleaner.state - первичная очистка и параметры, характеризующие текущее состояние этапа\n",
    "- rougher.calculation - флотация, расчетные характеристики\n",
    "- rougher.input - флотация параметры сырья\n",
    "- rougher.output - флотация параметры продукта\n",
    "- rougher.state - флотация и параметры, характеризующие текущее состояние этапа\n",
    "- secondary_cleaner.output - вторичная очистка продукта\n",
    "- secondary_cleaner.state - вторичная очистка и параметры, характеризующие текущее состояние этапа"
   ]
  },
  {
   "cell_type": "markdown",
   "metadata": {},
   "source": [
    "### Проверьте, что эффективность обогащения рассчитана правильно. Вычислите её на обучающей выборке для признака rougher.output.recovery. Найдите MAE между вашими расчётами и значением признака. Опишите выводы."
   ]
  },
  {
   "cell_type": "code",
   "execution_count": 1034,
   "metadata": {},
   "outputs": [
    {
     "data": {
      "text/plain": [
       "0        87.107763\n",
       "1        86.843261\n",
       "2        86.842308\n",
       "3        87.226430\n",
       "4        86.688794\n",
       "           ...    \n",
       "14144    89.574376\n",
       "14145    87.724007\n",
       "14146    88.890579\n",
       "14147    89.858126\n",
       "14148    89.514960\n",
       "Length: 14149, dtype: float64"
      ]
     },
     "execution_count": 1034,
     "metadata": {},
     "output_type": "execute_result"
    }
   ],
   "source": [
    "true_recovery = TRAIN['rougher.output.recovery']\n",
    "\n",
    "f = TRAIN['rougher.input.feed_au']\n",
    "c = TRAIN['rougher.output.concentrate_au']\n",
    "t = TRAIN['rougher.output.tail_au']\n",
    "\n",
    "pred_recovery = (c * (f - t))/(f * (c - t)) * 100\n",
    "pred_recovery"
   ]
  },
  {
   "cell_type": "code",
   "execution_count": 1035,
   "metadata": {},
   "outputs": [
    {
     "data": {
      "text/plain": [
       "9.682896147825551e-15"
      ]
     },
     "execution_count": 1035,
     "metadata": {},
     "output_type": "execute_result"
    }
   ],
   "source": [
    "# вычислим mae\n",
    "mae = mean_absolute_error(true_recovery, pred_recovery)\n",
    "mae"
   ]
  },
  {
   "cell_type": "markdown",
   "metadata": {},
   "source": [
    "9.682896147825551e-15 - очень хороший показатель, фактически стремится к нулю, значит посчитано изначально верно."
   ]
  },
  {
   "cell_type": "markdown",
   "metadata": {},
   "source": [
    "### Проанализируйте признаки, недоступные в тестовой выборке. Что это за параметры? К какому типу относятся?"
   ]
  },
  {
   "cell_type": "code",
   "execution_count": 1036,
   "metadata": {
    "scrolled": true
   },
   "outputs": [
    {
     "data": {
      "text/plain": [
       "date                                           0\n",
       "primary_cleaner.input.sulfate                  4\n",
       "primary_cleaner.input.depressant               5\n",
       "primary_cleaner.input.feed_size                0\n",
       "primary_cleaner.input.xanthate                 4\n",
       "primary_cleaner.state.floatbank8_a_air         0\n",
       "primary_cleaner.state.floatbank8_a_level       0\n",
       "primary_cleaner.state.floatbank8_b_air         0\n",
       "primary_cleaner.state.floatbank8_b_level       0\n",
       "primary_cleaner.state.floatbank8_c_air         0\n",
       "primary_cleaner.state.floatbank8_c_level       0\n",
       "primary_cleaner.state.floatbank8_d_air         0\n",
       "primary_cleaner.state.floatbank8_d_level       0\n",
       "rougher.input.feed_ag                          0\n",
       "rougher.input.feed_pb                          0\n",
       "rougher.input.feed_rate                        3\n",
       "rougher.input.feed_size                        1\n",
       "rougher.input.feed_sol                        21\n",
       "rougher.input.feed_au                          0\n",
       "rougher.input.floatbank10_sulfate              5\n",
       "rougher.input.floatbank10_xanthate             0\n",
       "rougher.input.floatbank11_sulfate              8\n",
       "rougher.input.floatbank11_xanthate            25\n",
       "rougher.state.floatbank10_a_air                0\n",
       "rougher.state.floatbank10_a_level              0\n",
       "rougher.state.floatbank10_b_air                0\n",
       "rougher.state.floatbank10_b_level              0\n",
       "rougher.state.floatbank10_c_air                0\n",
       "rougher.state.floatbank10_c_level              0\n",
       "rougher.state.floatbank10_d_air                0\n",
       "rougher.state.floatbank10_d_level              0\n",
       "rougher.state.floatbank10_e_air                0\n",
       "rougher.state.floatbank10_e_level              0\n",
       "rougher.state.floatbank10_f_air                0\n",
       "rougher.state.floatbank10_f_level              0\n",
       "secondary_cleaner.state.floatbank2_a_air       3\n",
       "secondary_cleaner.state.floatbank2_a_level     0\n",
       "secondary_cleaner.state.floatbank2_b_air       2\n",
       "secondary_cleaner.state.floatbank2_b_level     0\n",
       "secondary_cleaner.state.floatbank3_a_air       9\n",
       "secondary_cleaner.state.floatbank3_a_level     0\n",
       "secondary_cleaner.state.floatbank3_b_air       0\n",
       "secondary_cleaner.state.floatbank3_b_level     0\n",
       "secondary_cleaner.state.floatbank4_a_air       0\n",
       "secondary_cleaner.state.floatbank4_a_level     0\n",
       "secondary_cleaner.state.floatbank4_b_air       0\n",
       "secondary_cleaner.state.floatbank4_b_level     0\n",
       "secondary_cleaner.state.floatbank5_a_air       0\n",
       "secondary_cleaner.state.floatbank5_a_level     0\n",
       "secondary_cleaner.state.floatbank5_b_air       0\n",
       "secondary_cleaner.state.floatbank5_b_level     0\n",
       "secondary_cleaner.state.floatbank6_a_air       0\n",
       "secondary_cleaner.state.floatbank6_a_level     0\n",
       "dtype: int64"
      ]
     },
     "execution_count": 1036,
     "metadata": {},
     "output_type": "execute_result"
    }
   ],
   "source": [
    "TEST.isna().sum()"
   ]
  },
  {
   "cell_type": "markdown",
   "metadata": {},
   "source": [
    "Пропуски есть в колонках:\n",
    "- primary_cleaner.input.sulfate                  4\n",
    "- primary_cleaner.input.depressant               5\n",
    "- primary_cleaner.input.xanthate                 4\n",
    "- rougher.input.feed_rate                        3\n",
    "- rougher.input.feed_size                        1\n",
    "- rougher.input.feed_sol                        21\n",
    "- rougher.input.floatbank10_sulfate              5\n",
    "- rougher.input.floatbank11_sulfate              8\n",
    "- rougher.input.floatbank11_xanthate            25\n",
    "- secondary_cleaner.state.floatbank2_a_air       3\n",
    "- secondary_cleaner.state.floatbank2_b_air       2\n",
    "- secondary_cleaner.state.floatbank3_a_air       9\n",
    "\n",
    "Параметры не относятся к золоту, это данные сульфата, депрессанта и т.д."
   ]
  },
  {
   "cell_type": "code",
   "execution_count": 1037,
   "metadata": {
    "scrolled": true
   },
   "outputs": [
    {
     "data": {
      "text/plain": [
       "<matplotlib.axes._subplots.AxesSubplot at 0x7fe31aa148d0>"
      ]
     },
     "execution_count": 1037,
     "metadata": {},
     "output_type": "execute_result"
    },
    {
     "data": {
      "image/png": "[encoded data removed]",
      "text/plain": [
       "<Figure size 1800x720 with 2 Axes>"
      ]
     },
     "metadata": {},
     "output_type": "display_data"
    }
   ],
   "source": [
    "msno.matrix(TEST.sort_values('secondary_cleaner.state.floatbank3_a_air'))"
   ]
  },
  {
   "cell_type": "code",
   "execution_count": 1038,
   "metadata": {
    "scrolled": true
   },
   "outputs": [
    {
     "data": {
      "text/plain": [
       "<matplotlib.axes._subplots.AxesSubplot at 0x7fe31a8f8690>"
      ]
     },
     "execution_count": 1038,
     "metadata": {},
     "output_type": "execute_result"
    },
    {
     "data": {
      "image/png": "[encoded data removed]",
      "text/plain": [
       "<Figure size 1800x720 with 2 Axes>"
      ]
     },
     "metadata": {},
     "output_type": "display_data"
    }
   ],
   "source": [
    "msno.matrix(TRAIN.sort_values('secondary_cleaner.state.floatbank3_a_air'))"
   ]
  },
  {
   "cell_type": "markdown",
   "metadata": {},
   "source": [
    "Из визуализации видно, что пропуски есть во многом у одних и тех же наблюдений"
   ]
  },
  {
   "cell_type": "code",
   "execution_count": 1039,
   "metadata": {},
   "outputs": [
    {
     "data": {
      "text/plain": [
       "date                                           0\n",
       "rougher.output.concentrate_pb                  0\n",
       "rougher.state.floatbank10_f_level              0\n",
       "rougher.state.floatbank10_f_air                0\n",
       "rougher.state.floatbank10_e_level              0\n",
       "                                            ... \n",
       "secondary_cleaner.state.floatbank2_a_air     217\n",
       "primary_cleaner.output.concentrate_sol       286\n",
       "rougher.input.floatbank11_xanthate           428\n",
       "rougher.state.floatbank10_e_air              436\n",
       "secondary_cleaner.output.tail_sol           1605\n",
       "Length: 87, dtype: int64"
      ]
     },
     "execution_count": 1039,
     "metadata": {},
     "output_type": "execute_result"
    }
   ],
   "source": [
    "TRAIN.isna().sum().sort_values().tail(100)"
   ]
  },
  {
   "cell_type": "code",
   "execution_count": 1040,
   "metadata": {
    "scrolled": true
   },
   "outputs": [
    {
     "data": {
      "text/plain": [
       "date                                           0\n",
       "rougher.state.floatbank10_c_air                0\n",
       "rougher.state.floatbank10_c_level              0\n",
       "rougher.state.floatbank10_d_air                0\n",
       "rougher.state.floatbank10_d_level              0\n",
       "rougher.state.floatbank10_e_air                0\n",
       "rougher.state.floatbank10_e_level              0\n",
       "rougher.state.floatbank10_f_air                0\n",
       "rougher.state.floatbank10_f_level              0\n",
       "secondary_cleaner.state.floatbank2_a_level     0\n",
       "secondary_cleaner.state.floatbank2_b_level     0\n",
       "secondary_cleaner.state.floatbank3_a_level     0\n",
       "secondary_cleaner.state.floatbank3_b_air       0\n",
       "secondary_cleaner.state.floatbank3_b_level     0\n",
       "secondary_cleaner.state.floatbank4_a_air       0\n",
       "secondary_cleaner.state.floatbank4_a_level     0\n",
       "secondary_cleaner.state.floatbank4_b_air       0\n",
       "secondary_cleaner.state.floatbank4_b_level     0\n",
       "secondary_cleaner.state.floatbank5_a_air       0\n",
       "secondary_cleaner.state.floatbank5_a_level     0\n",
       "secondary_cleaner.state.floatbank5_b_air       0\n",
       "secondary_cleaner.state.floatbank5_b_level     0\n",
       "secondary_cleaner.state.floatbank6_a_air       0\n",
       "rougher.state.floatbank10_b_air                0\n",
       "rougher.state.floatbank10_b_level              0\n",
       "rougher.state.floatbank10_a_air                0\n",
       "primary_cleaner.input.feed_size                0\n",
       "primary_cleaner.state.floatbank8_a_air         0\n",
       "primary_cleaner.state.floatbank8_a_level       0\n",
       "primary_cleaner.state.floatbank8_b_air         0\n",
       "primary_cleaner.state.floatbank8_b_level       0\n",
       "primary_cleaner.state.floatbank8_c_air         0\n",
       "primary_cleaner.state.floatbank8_c_level       0\n",
       "primary_cleaner.state.floatbank8_d_air         0\n",
       "rougher.state.floatbank10_a_level              0\n",
       "rougher.input.feed_ag                          0\n",
       "primary_cleaner.state.floatbank8_d_level       0\n",
       "rougher.input.feed_pb                          0\n",
       "rougher.input.feed_au                          0\n",
       "rougher.input.floatbank10_xanthate             0\n",
       "secondary_cleaner.state.floatbank6_a_level     0\n",
       "rougher.input.feed_size                        1\n",
       "secondary_cleaner.state.floatbank2_b_air       2\n",
       "rougher.input.feed_rate                        3\n",
       "secondary_cleaner.state.floatbank2_a_air       3\n",
       "primary_cleaner.input.xanthate                 4\n",
       "primary_cleaner.input.sulfate                  4\n",
       "rougher.input.floatbank10_sulfate              5\n",
       "primary_cleaner.input.depressant               5\n",
       "rougher.input.floatbank11_sulfate              8\n",
       "secondary_cleaner.state.floatbank3_a_air       9\n",
       "rougher.input.feed_sol                        21\n",
       "rougher.input.floatbank11_xanthate            25\n",
       "dtype: int64"
      ]
     },
     "execution_count": 1040,
     "metadata": {},
     "output_type": "execute_result"
    }
   ],
   "source": [
    "TEST.isna().sum().sort_values().tail(100)"
   ]
  },
  {
   "cell_type": "code",
   "execution_count": 1041,
   "metadata": {},
   "outputs": [],
   "source": [
    "cols = list(TRAIN.columns)"
   ]
  },
  {
   "cell_type": "markdown",
   "metadata": {},
   "source": [
    "Сами пропуски - это вторичные для нас данные о хвостах, но пропусков много"
   ]
  },
  {
   "cell_type": "markdown",
   "metadata": {},
   "source": [
    "### Проведите предобработку данных"
   ]
  },
  {
   "cell_type": "markdown",
   "metadata": {},
   "source": [
    "Так как нам данные изначально дали в разделенном на трейн и тест виде, и при этом у нас есть FULL со всеми данными, то заполним недостающие фрагменты из данных датасетов"
   ]
  },
  {
   "cell_type": "code",
   "execution_count": 1042,
   "metadata": {},
   "outputs": [],
   "source": [
    "# TRAIN = TRAIN.fillna(FULL)\n",
    "# TRAIN = TRAIN.fillna(TEST)\n",
    "# TEST = TEST.fillna(FULL)\n",
    "# TEST = TEST.fillna(TRAIN)\n",
    "# FULL = FULL.fillna(TEST)\n",
    "# FULL = FULL.fillna(TRAIN)"
   ]
  },
  {
   "cell_type": "code",
   "execution_count": 1043,
   "metadata": {
    "scrolled": true
   },
   "outputs": [
    {
     "data": {
      "text/html": [
       "<div>\n",
       "<style scoped>\n",
       "    .dataframe tbody tr th:only-of-type {\n",
       "        vertical-align: middle;\n",
       "    }\n",
       "\n",
       "    .dataframe tbody tr th {\n",
       "        vertical-align: top;\n",
       "    }\n",
       "\n",
       "    .dataframe thead th {\n",
       "        text-align: right;\n",
       "    }\n",
       "</style>\n",
       "<table border=\"1\" class=\"dataframe\">\n",
       "  <thead>\n",
       "    <tr style=\"text-align: right;\">\n",
       "      <th></th>\n",
       "      <th>date</th>\n",
       "      <th>final.output.concentrate_ag</th>\n",
       "      <th>final.output.concentrate_pb</th>\n",
       "      <th>final.output.concentrate_sol</th>\n",
       "      <th>final.output.concentrate_au</th>\n",
       "      <th>final.output.recovery</th>\n",
       "      <th>final.output.tail_ag</th>\n",
       "      <th>final.output.tail_pb</th>\n",
       "      <th>final.output.tail_sol</th>\n",
       "      <th>final.output.tail_au</th>\n",
       "      <th>...</th>\n",
       "      <th>secondary_cleaner.state.floatbank4_a_air</th>\n",
       "      <th>secondary_cleaner.state.floatbank4_a_level</th>\n",
       "      <th>secondary_cleaner.state.floatbank4_b_air</th>\n",
       "      <th>secondary_cleaner.state.floatbank4_b_level</th>\n",
       "      <th>secondary_cleaner.state.floatbank5_a_air</th>\n",
       "      <th>secondary_cleaner.state.floatbank5_a_level</th>\n",
       "      <th>secondary_cleaner.state.floatbank5_b_air</th>\n",
       "      <th>secondary_cleaner.state.floatbank5_b_level</th>\n",
       "      <th>secondary_cleaner.state.floatbank6_a_air</th>\n",
       "      <th>secondary_cleaner.state.floatbank6_a_level</th>\n",
       "    </tr>\n",
       "  </thead>\n",
       "  <tbody>\n",
       "    <tr>\n",
       "      <td>0</td>\n",
       "      <td>2016-01-15 00:00:00</td>\n",
       "      <td>6.055403</td>\n",
       "      <td>9.889648</td>\n",
       "      <td>5.507324</td>\n",
       "      <td>42.192020</td>\n",
       "      <td>70.541216</td>\n",
       "      <td>10.411962</td>\n",
       "      <td>0.895447</td>\n",
       "      <td>16.904297</td>\n",
       "      <td>2.143149</td>\n",
       "      <td>...</td>\n",
       "      <td>14.016835</td>\n",
       "      <td>-502.488007</td>\n",
       "      <td>12.099931</td>\n",
       "      <td>-504.715942</td>\n",
       "      <td>9.925633</td>\n",
       "      <td>-498.310211</td>\n",
       "      <td>8.079666</td>\n",
       "      <td>-500.470978</td>\n",
       "      <td>14.151341</td>\n",
       "      <td>-605.841980</td>\n",
       "    </tr>\n",
       "    <tr>\n",
       "      <td>1</td>\n",
       "      <td>2016-01-15 01:00:00</td>\n",
       "      <td>6.029369</td>\n",
       "      <td>9.968944</td>\n",
       "      <td>5.257781</td>\n",
       "      <td>42.701629</td>\n",
       "      <td>69.266198</td>\n",
       "      <td>10.462676</td>\n",
       "      <td>0.927452</td>\n",
       "      <td>16.634514</td>\n",
       "      <td>2.224930</td>\n",
       "      <td>...</td>\n",
       "      <td>13.992281</td>\n",
       "      <td>-505.503262</td>\n",
       "      <td>11.950531</td>\n",
       "      <td>-501.331529</td>\n",
       "      <td>10.039245</td>\n",
       "      <td>-500.169983</td>\n",
       "      <td>7.984757</td>\n",
       "      <td>-500.582168</td>\n",
       "      <td>13.998353</td>\n",
       "      <td>-599.787184</td>\n",
       "    </tr>\n",
       "    <tr>\n",
       "      <td>2</td>\n",
       "      <td>2016-01-15 02:00:00</td>\n",
       "      <td>6.055926</td>\n",
       "      <td>10.213995</td>\n",
       "      <td>5.383759</td>\n",
       "      <td>42.657501</td>\n",
       "      <td>68.116445</td>\n",
       "      <td>10.507046</td>\n",
       "      <td>0.953716</td>\n",
       "      <td>16.208849</td>\n",
       "      <td>2.257889</td>\n",
       "      <td>...</td>\n",
       "      <td>14.015015</td>\n",
       "      <td>-502.520901</td>\n",
       "      <td>11.912783</td>\n",
       "      <td>-501.133383</td>\n",
       "      <td>10.070913</td>\n",
       "      <td>-500.129135</td>\n",
       "      <td>8.013877</td>\n",
       "      <td>-500.517572</td>\n",
       "      <td>14.028663</td>\n",
       "      <td>-601.427363</td>\n",
       "    </tr>\n",
       "  </tbody>\n",
       "</table>\n",
       "<p>3 rows × 87 columns</p>\n",
       "</div>"
      ],
      "text/plain": [
       "                  date  final.output.concentrate_ag  \\\n",
       "0  2016-01-15 00:00:00                     6.055403   \n",
       "1  2016-01-15 01:00:00                     6.029369   \n",
       "2  2016-01-15 02:00:00                     6.055926   \n",
       "\n",
       "   final.output.concentrate_pb  final.output.concentrate_sol  \\\n",
       "0                     9.889648                      5.507324   \n",
       "1                     9.968944                      5.257781   \n",
       "2                    10.213995                      5.383759   \n",
       "\n",
       "   final.output.concentrate_au  final.output.recovery  final.output.tail_ag  \\\n",
       "0                    42.192020              70.541216             10.411962   \n",
       "1                    42.701629              69.266198             10.462676   \n",
       "2                    42.657501              68.116445             10.507046   \n",
       "\n",
       "   final.output.tail_pb  final.output.tail_sol  final.output.tail_au  ...  \\\n",
       "0              0.895447              16.904297              2.143149  ...   \n",
       "1              0.927452              16.634514              2.224930  ...   \n",
       "2              0.953716              16.208849              2.257889  ...   \n",
       "\n",
       "   secondary_cleaner.state.floatbank4_a_air  \\\n",
       "0                                 14.016835   \n",
       "1                                 13.992281   \n",
       "2                                 14.015015   \n",
       "\n",
       "   secondary_cleaner.state.floatbank4_a_level  \\\n",
       "0                                 -502.488007   \n",
       "1                                 -505.503262   \n",
       "2                                 -502.520901   \n",
       "\n",
       "   secondary_cleaner.state.floatbank4_b_air  \\\n",
       "0                                 12.099931   \n",
       "1                                 11.950531   \n",
       "2                                 11.912783   \n",
       "\n",
       "   secondary_cleaner.state.floatbank4_b_level  \\\n",
       "0                                 -504.715942   \n",
       "1                                 -501.331529   \n",
       "2                                 -501.133383   \n",
       "\n",
       "   secondary_cleaner.state.floatbank5_a_air  \\\n",
       "0                                  9.925633   \n",
       "1                                 10.039245   \n",
       "2                                 10.070913   \n",
       "\n",
       "   secondary_cleaner.state.floatbank5_a_level  \\\n",
       "0                                 -498.310211   \n",
       "1                                 -500.169983   \n",
       "2                                 -500.129135   \n",
       "\n",
       "   secondary_cleaner.state.floatbank5_b_air  \\\n",
       "0                                  8.079666   \n",
       "1                                  7.984757   \n",
       "2                                  8.013877   \n",
       "\n",
       "   secondary_cleaner.state.floatbank5_b_level  \\\n",
       "0                                 -500.470978   \n",
       "1                                 -500.582168   \n",
       "2                                 -500.517572   \n",
       "\n",
       "   secondary_cleaner.state.floatbank6_a_air  \\\n",
       "0                                 14.151341   \n",
       "1                                 13.998353   \n",
       "2                                 14.028663   \n",
       "\n",
       "   secondary_cleaner.state.floatbank6_a_level  \n",
       "0                                 -605.841980  \n",
       "1                                 -599.787184  \n",
       "2                                 -601.427363  \n",
       "\n",
       "[3 rows x 87 columns]"
      ]
     },
     "execution_count": 1043,
     "metadata": {},
     "output_type": "execute_result"
    }
   ],
   "source": [
    "TRAIN.head(3)"
   ]
  },
  {
   "cell_type": "code",
   "execution_count": 1044,
   "metadata": {},
   "outputs": [],
   "source": [
    "cols = [\n",
    "    'final.output.tail_ag',\n",
    "    'rougher.calculation.floatbank11_sulfate_to_au_feed',\n",
    "    'rougher.calculation.floatbank10_sulfate_to_au_feed',\n",
    "    'primary_cleaner.input.xanthate',\n",
    "    'rougher.calculation.sulfate_to_au_concentrate',\n",
    "    'rougher.input.feed_sol',\n",
    "    'primary_cleaner.output.tail_ag',\n",
    "    'secondary_cleaner.output.tail_pb',\n",
    "    'rougher.output.concentrate_sol',\n",
    "    'primary_cleaner.output.tail_sol',\n",
    "    'primary_cleaner.output.tail_pb',\n",
    "    'rougher.input.floatbank11_xanthate',\n",
    "    'primary_cleaner.output.concentrate_pb',\n",
    "    'primary_cleaner.output.concentrate_sol',\n",
    "    'secondary_cleaner.output.tail_sol',\n",
    "    'final.output.tail_sol',\n",
    "    'final.output.concentrate_pb',\n",
    "    'final.output.concentrate_ag',\n",
    "    'final.output.tail_pb',\n",
    "    'final.output.concentrate_sol',\n",
    "]"
   ]
  },
  {
   "cell_type": "code",
   "execution_count": 1046,
   "metadata": {},
   "outputs": [
    {
     "data": {
      "text/plain": [
       "rougher.calculation.sulfate_to_au_concentrate         0\n",
       "primary_cleaner.state.floatbank8_d_level              0\n",
       "primary_cleaner.state.floatbank8_d_air                0\n",
       "primary_cleaner.state.floatbank8_c_level              0\n",
       "primary_cleaner.state.floatbank8_c_air                0\n",
       "primary_cleaner.state.floatbank8_b_level              0\n",
       "primary_cleaner.state.floatbank8_b_air                0\n",
       "primary_cleaner.state.floatbank8_a_level              0\n",
       "rougher.calculation.floatbank10_sulfate_to_au_feed    0\n",
       "secondary_cleaner.state.floatbank6_a_level            0\n",
       "dtype: int64"
      ]
     },
     "execution_count": 1046,
     "metadata": {},
     "output_type": "execute_result"
    }
   ],
   "source": [
    "TRAIN.dropna(inplace=True)\n",
    "TRAIN.isna().sum().sort_values().tail(10)"
   ]
  },
  {
   "cell_type": "markdown",
   "metadata": {},
   "source": [
    "Пропусков на трейне нет"
   ]
  },
  {
   "cell_type": "code",
   "execution_count": 1047,
   "metadata": {
    "scrolled": true
   },
   "outputs": [
    {
     "data": {
      "text/plain": [
       "rougher.input.feed_size                       0\n",
       "rougher.input.feed_sol                        0\n",
       "rougher.input.feed_au                         0\n",
       "rougher.input.floatbank10_sulfate             0\n",
       "rougher.input.floatbank10_xanthate            0\n",
       "rougher.input.floatbank11_sulfate             0\n",
       "rougher.input.floatbank11_xanthate            0\n",
       "rougher.state.floatbank10_a_air               0\n",
       "rougher.state.floatbank10_b_air               0\n",
       "secondary_cleaner.state.floatbank6_a_level    0\n",
       "dtype: int64"
      ]
     },
     "execution_count": 1047,
     "metadata": {},
     "output_type": "execute_result"
    }
   ],
   "source": [
    "TEST.dropna(inplace=True)\n",
    "TEST.isna().sum().sort_values().tail(10)"
   ]
  },
  {
   "cell_type": "markdown",
   "metadata": {},
   "source": [
    "На тесте пропусков нет"
   ]
  },
  {
   "cell_type": "code",
   "execution_count": 1048,
   "metadata": {},
   "outputs": [
    {
     "data": {
      "text/plain": [
       "rougher.calculation.sulfate_to_au_concentrate         0\n",
       "primary_cleaner.state.floatbank8_d_level              0\n",
       "primary_cleaner.state.floatbank8_d_air                0\n",
       "primary_cleaner.state.floatbank8_c_level              0\n",
       "primary_cleaner.state.floatbank8_c_air                0\n",
       "primary_cleaner.state.floatbank8_b_level              0\n",
       "primary_cleaner.state.floatbank8_b_air                0\n",
       "primary_cleaner.state.floatbank8_a_level              0\n",
       "rougher.calculation.floatbank10_sulfate_to_au_feed    0\n",
       "secondary_cleaner.state.floatbank6_a_level            0\n",
       "dtype: int64"
      ]
     },
     "execution_count": 1048,
     "metadata": {},
     "output_type": "execute_result"
    }
   ],
   "source": [
    "FULL = FULL.sort_values('date').fillna(method='ffill')\n",
    "FULL.isna().sum().sort_values().tail(10)"
   ]
  },
  {
   "cell_type": "code",
   "execution_count": 1049,
   "metadata": {
    "scrolled": true
   },
   "outputs": [
    {
     "data": {
      "text/plain": [
       "(11017, 5229, 19439)"
      ]
     },
     "execution_count": 1049,
     "metadata": {},
     "output_type": "execute_result"
    }
   ],
   "source": [
    "TRAIN['date'].nunique(), TEST['date'].nunique(), FULL['date'].nunique()"
   ]
  },
  {
   "cell_type": "code",
   "execution_count": 1050,
   "metadata": {},
   "outputs": [],
   "source": [
    "def reduce_mem_usage(props):\n",
    "    start_mem_usg = props.memory_usage().sum() / 1024**2 \n",
    "    print(\"Memory usage of properties dataframe is :\", start_mem_usg,\" MB\")\n",
    "    NAlist = [] # Keeps track of columns that have missing values filled in. \n",
    "    for col in props.columns:\n",
    "        if props[col].dtype != object:  # Exclude strings\n",
    "            \n",
    "            # Print current column type\n",
    "            print(\"******************************\")\n",
    "            print(\"Column: \",col)\n",
    "            print(\"dtype before: \",props[col].dtype)\n",
    "            \n",
    "            # make variables for Int, max and min\n",
    "            IsInt = False\n",
    "            mx = props[col].max()\n",
    "            mn = props[col].min()\n",
    "            \n",
    "            # Integer does not support NA, therefore, NA needs to be filled\n",
    "            if not np.isfinite(props[col]).all(): \n",
    "                NAlist.append(col)\n",
    "                props[col].fillna(mn-1,inplace=True)  \n",
    "                   \n",
    "            # test if column can be converted to an integer\n",
    "            asint = props[col].fillna(0).astype(np.int64)\n",
    "            try:\n",
    "                result = (props[col] - asint)\n",
    "                result = result.sum()\n",
    "                if result > -0.01 and result < 0.01:\n",
    "                    IsInt = True\n",
    "\n",
    "                # Make Integer/unsigned Integer datatypes\n",
    "                if IsInt:\n",
    "                    if mn >= 0:\n",
    "                        if mx < 255:\n",
    "                            props[col] = props[col].astype(np.uint8)\n",
    "                        elif mx < 65535:\n",
    "                            props[col] = props[col].astype(np.uint16)\n",
    "                        elif mx < 4294967295:\n",
    "                            props[col] = props[col].astype(np.uint32)\n",
    "                        else:\n",
    "                            props[col] = props[col].astype(np.uint64)\n",
    "                    else:\n",
    "                        if mn > np.iinfo(np.int8).min and mx < np.iinfo(np.int8).max:\n",
    "                            props[col] = props[col].astype(np.int8)\n",
    "                        elif mn > np.iinfo(np.int16).min and mx < np.iinfo(np.int16).max:\n",
    "                            props[col] = props[col].astype(np.int16)\n",
    "                        elif mn > np.iinfo(np.int32).min and mx < np.iinfo(np.int32).max:\n",
    "                            props[col] = props[col].astype(np.int32)\n",
    "                        elif mn > np.iinfo(np.int64).min and mx < np.iinfo(np.int64).max:\n",
    "                            props[col] = props[col].astype(np.int64)    \n",
    "\n",
    "                # Make float datatypes 32 bit\n",
    "                else:\n",
    "                    props[col] = props[col].astype(np.float32)\n",
    "\n",
    "                # Print new column type\n",
    "                print(\"dtype after: \",props[col].dtype)\n",
    "                print(\"******************************\")\n",
    "            except TypeError:\n",
    "                pass\n",
    "    \n",
    "    # Print final result\n",
    "    print(\"___MEMORY USAGE AFTER COMPLETION:___\")\n",
    "    mem_usg = props.memory_usage().sum() / 1024**2 \n",
    "    print(\"Memory usage is: \",mem_usg,\" MB\")\n",
    "    print(\"This is \",100*mem_usg/start_mem_usg,\"% of the initial size\")\n",
    "    return props, NAlist"
   ]
  },
  {
   "cell_type": "code",
   "execution_count": 1051,
   "metadata": {},
   "outputs": [
    {
     "name": "stdout",
     "output_type": "stream",
     "text": [
      "Memory usage of properties dataframe is : 2.1542816162109375  MB\n",
      "******************************\n",
      "Column:  primary_cleaner.input.sulfate\n",
      "dtype before:  float64\n",
      "dtype after:  float32\n",
      "******************************\n",
      "******************************\n",
      "Column:  primary_cleaner.input.depressant\n",
      "dtype before:  float64\n",
      "dtype after:  float32\n",
      "******************************\n",
      "******************************\n",
      "Column:  primary_cleaner.input.feed_size\n",
      "dtype before:  float64\n",
      "dtype after:  float32\n",
      "******************************\n",
      "******************************\n",
      "Column:  primary_cleaner.input.xanthate\n",
      "dtype before:  float64\n",
      "dtype after:  float32\n",
      "******************************\n",
      "******************************\n",
      "Column:  primary_cleaner.state.floatbank8_a_air\n",
      "dtype before:  float64\n",
      "dtype after:  float32\n",
      "******************************\n",
      "******************************\n",
      "Column:  primary_cleaner.state.floatbank8_a_level\n",
      "dtype before:  float64\n",
      "dtype after:  float32\n",
      "******************************\n",
      "******************************\n",
      "Column:  primary_cleaner.state.floatbank8_b_air\n",
      "dtype before:  float64\n",
      "dtype after:  float32\n",
      "******************************\n",
      "******************************\n",
      "Column:  primary_cleaner.state.floatbank8_b_level\n",
      "dtype before:  float64\n",
      "dtype after:  float32\n",
      "******************************\n",
      "******************************\n",
      "Column:  primary_cleaner.state.floatbank8_c_air\n",
      "dtype before:  float64\n",
      "dtype after:  float32\n",
      "******************************\n",
      "******************************\n",
      "Column:  primary_cleaner.state.floatbank8_c_level\n",
      "dtype before:  float64\n",
      "dtype after:  float32\n",
      "******************************\n",
      "******************************\n",
      "Column:  primary_cleaner.state.floatbank8_d_air\n",
      "dtype before:  float64\n",
      "dtype after:  float32\n",
      "******************************\n",
      "******************************\n",
      "Column:  primary_cleaner.state.floatbank8_d_level\n",
      "dtype before:  float64\n",
      "dtype after:  float32\n",
      "******************************\n",
      "******************************\n",
      "Column:  rougher.input.feed_ag\n",
      "dtype before:  float64\n",
      "dtype after:  float32\n",
      "******************************\n",
      "******************************\n",
      "Column:  rougher.input.feed_pb\n",
      "dtype before:  float64\n",
      "dtype after:  float32\n",
      "******************************\n",
      "******************************\n",
      "Column:  rougher.input.feed_rate\n",
      "dtype before:  float64\n",
      "dtype after:  float32\n",
      "******************************\n",
      "******************************\n",
      "Column:  rougher.input.feed_size\n",
      "dtype before:  float64\n",
      "dtype after:  float32\n",
      "******************************\n",
      "******************************\n",
      "Column:  rougher.input.feed_sol\n",
      "dtype before:  float64\n",
      "dtype after:  float32\n",
      "******************************\n",
      "******************************\n",
      "Column:  rougher.input.feed_au\n",
      "dtype before:  float64\n",
      "dtype after:  float32\n",
      "******************************\n",
      "******************************\n",
      "Column:  rougher.input.floatbank10_sulfate\n",
      "dtype before:  float64\n",
      "dtype after:  float32\n",
      "******************************\n",
      "******************************\n",
      "Column:  rougher.input.floatbank10_xanthate\n",
      "dtype before:  float64\n",
      "dtype after:  float32\n",
      "******************************\n",
      "******************************\n",
      "Column:  rougher.input.floatbank11_sulfate\n",
      "dtype before:  float64\n",
      "dtype after:  float32\n",
      "******************************\n",
      "******************************\n",
      "Column:  rougher.input.floatbank11_xanthate\n",
      "dtype before:  float64\n",
      "dtype after:  float32\n",
      "******************************\n",
      "******************************\n",
      "Column:  rougher.state.floatbank10_a_air\n",
      "dtype before:  float64\n",
      "dtype after:  float32\n",
      "******************************\n",
      "******************************\n",
      "Column:  rougher.state.floatbank10_a_level\n",
      "dtype before:  float64\n",
      "dtype after:  float32\n",
      "******************************\n",
      "******************************\n",
      "Column:  rougher.state.floatbank10_b_air\n",
      "dtype before:  float64\n",
      "dtype after:  float32\n",
      "******************************\n",
      "******************************\n",
      "Column:  rougher.state.floatbank10_b_level\n",
      "dtype before:  float64\n",
      "dtype after:  float32\n",
      "******************************\n",
      "******************************\n",
      "Column:  rougher.state.floatbank10_c_air\n",
      "dtype before:  float64\n",
      "dtype after:  float32\n",
      "******************************\n",
      "******************************\n",
      "Column:  rougher.state.floatbank10_c_level\n",
      "dtype before:  float64\n",
      "dtype after:  float32\n",
      "******************************\n",
      "******************************\n",
      "Column:  rougher.state.floatbank10_d_air\n",
      "dtype before:  float64\n",
      "dtype after:  float32\n",
      "******************************\n",
      "******************************\n",
      "Column:  rougher.state.floatbank10_d_level\n",
      "dtype before:  float64\n",
      "dtype after:  float32\n",
      "******************************\n",
      "******************************\n",
      "Column:  rougher.state.floatbank10_e_air\n",
      "dtype before:  float64\n",
      "dtype after:  float32\n",
      "******************************\n",
      "******************************\n",
      "Column:  rougher.state.floatbank10_e_level\n",
      "dtype before:  float64\n",
      "dtype after:  float32\n",
      "******************************\n",
      "******************************\n",
      "Column:  rougher.state.floatbank10_f_air\n",
      "dtype before:  float64\n",
      "dtype after:  float32\n",
      "******************************\n",
      "******************************\n",
      "Column:  rougher.state.floatbank10_f_level\n",
      "dtype before:  float64\n",
      "dtype after:  float32\n",
      "******************************\n",
      "******************************\n",
      "Column:  secondary_cleaner.state.floatbank2_a_air\n",
      "dtype before:  float64\n",
      "dtype after:  float32\n",
      "******************************\n",
      "******************************\n",
      "Column:  secondary_cleaner.state.floatbank2_a_level\n",
      "dtype before:  float64\n",
      "dtype after:  float32\n",
      "******************************\n",
      "******************************\n",
      "Column:  secondary_cleaner.state.floatbank2_b_air\n",
      "dtype before:  float64\n",
      "dtype after:  float32\n",
      "******************************\n",
      "******************************\n",
      "Column:  secondary_cleaner.state.floatbank2_b_level\n",
      "dtype before:  float64\n",
      "dtype after:  float32\n",
      "******************************\n",
      "******************************\n",
      "Column:  secondary_cleaner.state.floatbank3_a_air\n",
      "dtype before:  float64\n",
      "dtype after:  float32\n",
      "******************************\n",
      "******************************\n",
      "Column:  secondary_cleaner.state.floatbank3_a_level\n",
      "dtype before:  float64\n",
      "dtype after:  float32\n",
      "******************************\n",
      "******************************\n",
      "Column:  secondary_cleaner.state.floatbank3_b_air\n",
      "dtype before:  float64\n",
      "dtype after:  float32\n",
      "******************************\n",
      "******************************\n",
      "Column:  secondary_cleaner.state.floatbank3_b_level\n",
      "dtype before:  float64\n",
      "dtype after:  float32\n",
      "******************************\n",
      "******************************\n",
      "Column:  secondary_cleaner.state.floatbank4_a_air\n",
      "dtype before:  float64\n",
      "dtype after:  float32\n",
      "******************************\n",
      "******************************\n",
      "Column:  secondary_cleaner.state.floatbank4_a_level\n",
      "dtype before:  float64\n",
      "dtype after:  float32\n",
      "******************************\n",
      "******************************\n",
      "Column:  secondary_cleaner.state.floatbank4_b_air\n",
      "dtype before:  float64\n",
      "dtype after:  float32\n",
      "******************************\n",
      "******************************\n",
      "Column:  secondary_cleaner.state.floatbank4_b_level\n",
      "dtype before:  float64\n",
      "dtype after:  float32\n",
      "******************************\n",
      "******************************\n",
      "Column:  secondary_cleaner.state.floatbank5_a_air\n",
      "dtype before:  float64\n",
      "dtype after:  float32\n",
      "******************************\n",
      "******************************\n",
      "Column:  secondary_cleaner.state.floatbank5_a_level\n",
      "dtype before:  float64\n",
      "dtype after:  float32\n",
      "******************************\n",
      "******************************\n",
      "Column:  secondary_cleaner.state.floatbank5_b_air\n",
      "dtype before:  float64\n",
      "dtype after:  float32\n",
      "******************************\n",
      "******************************\n",
      "Column:  secondary_cleaner.state.floatbank5_b_level\n",
      "dtype before:  float64\n",
      "dtype after:  float32\n",
      "******************************\n",
      "******************************\n",
      "Column:  secondary_cleaner.state.floatbank6_a_air\n",
      "dtype before:  float64\n",
      "dtype after:  float32\n",
      "******************************\n",
      "******************************\n",
      "Column:  secondary_cleaner.state.floatbank6_a_level\n",
      "dtype before:  float64\n",
      "dtype after:  float32\n",
      "******************************\n",
      "___MEMORY USAGE AFTER COMPLETION:___\n",
      "Memory usage is:  1.117034912109375  MB\n",
      "This is  51.851851851851855 % of the initial size\n"
     ]
    }
   ],
   "source": [
    "TEST, NAlist = reduce_mem_usage(TEST)"
   ]
  },
  {
   "cell_type": "code",
   "execution_count": 1052,
   "metadata": {
    "scrolled": true
   },
   "outputs": [
    {
     "name": "stdout",
     "output_type": "stream",
     "text": [
      "Memory usage of properties dataframe is : 7.39666748046875  MB\n",
      "******************************\n",
      "Column:  final.output.concentrate_ag\n",
      "dtype before:  float64\n",
      "dtype after:  float32\n",
      "******************************\n",
      "******************************\n",
      "Column:  final.output.concentrate_pb\n",
      "dtype before:  float64\n",
      "dtype after:  float32\n",
      "******************************\n",
      "******************************\n",
      "Column:  final.output.concentrate_sol\n",
      "dtype before:  float64\n",
      "dtype after:  float32\n",
      "******************************\n",
      "******************************\n",
      "Column:  final.output.concentrate_au\n",
      "dtype before:  float64\n",
      "dtype after:  float32\n",
      "******************************\n",
      "******************************\n",
      "Column:  final.output.recovery\n",
      "dtype before:  float64\n",
      "dtype after:  float32\n",
      "******************************\n",
      "******************************\n",
      "Column:  final.output.tail_ag\n",
      "dtype before:  float64\n",
      "dtype after:  float32\n",
      "******************************\n",
      "******************************\n",
      "Column:  final.output.tail_pb\n",
      "dtype before:  float64\n",
      "dtype after:  float32\n",
      "******************************\n",
      "******************************\n",
      "Column:  final.output.tail_sol\n",
      "dtype before:  float64\n",
      "dtype after:  float32\n",
      "******************************\n",
      "******************************\n",
      "Column:  final.output.tail_au\n",
      "dtype before:  float64\n",
      "dtype after:  float32\n",
      "******************************\n",
      "******************************\n",
      "Column:  primary_cleaner.input.sulfate\n",
      "dtype before:  float64\n",
      "dtype after:  float32\n",
      "******************************\n",
      "******************************\n",
      "Column:  primary_cleaner.input.depressant\n",
      "dtype before:  float64\n",
      "dtype after:  float32\n",
      "******************************\n",
      "******************************\n",
      "Column:  primary_cleaner.input.feed_size\n",
      "dtype before:  float64\n",
      "dtype after:  float32\n",
      "******************************\n",
      "******************************\n",
      "Column:  primary_cleaner.input.xanthate\n",
      "dtype before:  float64\n",
      "dtype after:  float32\n",
      "******************************\n",
      "******************************\n",
      "Column:  primary_cleaner.output.concentrate_ag\n",
      "dtype before:  float64\n",
      "dtype after:  float32\n",
      "******************************\n",
      "******************************\n",
      "Column:  primary_cleaner.output.concentrate_pb\n",
      "dtype before:  float64\n",
      "dtype after:  float32\n",
      "******************************\n",
      "******************************\n",
      "Column:  primary_cleaner.output.concentrate_sol\n",
      "dtype before:  float64\n",
      "dtype after:  float32\n",
      "******************************\n",
      "******************************\n",
      "Column:  primary_cleaner.output.concentrate_au\n",
      "dtype before:  float64\n",
      "dtype after:  float32\n",
      "******************************\n",
      "******************************\n",
      "Column:  primary_cleaner.output.tail_ag\n",
      "dtype before:  float64\n",
      "dtype after:  float32\n",
      "******************************\n",
      "******************************\n",
      "Column:  primary_cleaner.output.tail_pb\n",
      "dtype before:  float64\n",
      "dtype after:  float32\n",
      "******************************\n",
      "******************************\n",
      "Column:  primary_cleaner.output.tail_sol\n",
      "dtype before:  float64\n",
      "dtype after:  float32\n",
      "******************************\n",
      "******************************\n",
      "Column:  primary_cleaner.output.tail_au\n",
      "dtype before:  float64\n",
      "dtype after:  float32\n",
      "******************************\n",
      "******************************\n",
      "Column:  primary_cleaner.state.floatbank8_a_air\n",
      "dtype before:  float64\n",
      "dtype after:  float32\n",
      "******************************\n",
      "******************************\n",
      "Column:  primary_cleaner.state.floatbank8_a_level\n",
      "dtype before:  float64\n",
      "dtype after:  float32\n",
      "******************************\n",
      "******************************\n",
      "Column:  primary_cleaner.state.floatbank8_b_air\n",
      "dtype before:  float64\n",
      "dtype after:  float32\n",
      "******************************\n",
      "******************************\n",
      "Column:  primary_cleaner.state.floatbank8_b_level\n",
      "dtype before:  float64\n",
      "dtype after:  float32\n",
      "******************************\n",
      "******************************\n",
      "Column:  primary_cleaner.state.floatbank8_c_air\n",
      "dtype before:  float64\n",
      "dtype after:  float32\n",
      "******************************\n",
      "******************************\n",
      "Column:  primary_cleaner.state.floatbank8_c_level\n",
      "dtype before:  float64\n",
      "dtype after:  float32\n",
      "******************************\n",
      "******************************\n",
      "Column:  primary_cleaner.state.floatbank8_d_air\n",
      "dtype before:  float64\n",
      "dtype after:  float32\n",
      "******************************\n",
      "******************************\n",
      "Column:  primary_cleaner.state.floatbank8_d_level\n",
      "dtype before:  float64\n",
      "dtype after:  float32\n",
      "******************************\n",
      "******************************\n",
      "Column:  rougher.calculation.sulfate_to_au_concentrate\n",
      "dtype before:  float64\n",
      "dtype after:  float32\n",
      "******************************\n",
      "******************************\n",
      "Column:  rougher.calculation.floatbank10_sulfate_to_au_feed\n",
      "dtype before:  float64\n",
      "dtype after:  float32\n",
      "******************************\n",
      "******************************\n",
      "Column:  rougher.calculation.floatbank11_sulfate_to_au_feed\n",
      "dtype before:  float64\n",
      "dtype after:  float32\n",
      "******************************\n",
      "******************************\n",
      "Column:  rougher.calculation.au_pb_ratio\n",
      "dtype before:  float64\n",
      "dtype after:  float32\n",
      "******************************\n",
      "******************************\n",
      "Column:  rougher.input.feed_ag\n",
      "dtype before:  float64\n",
      "dtype after:  float32\n",
      "******************************\n",
      "******************************\n",
      "Column:  rougher.input.feed_pb\n",
      "dtype before:  float64\n",
      "dtype after:  float32\n",
      "******************************\n",
      "******************************\n",
      "Column:  rougher.input.feed_rate\n",
      "dtype before:  float64\n",
      "dtype after:  float32\n",
      "******************************\n",
      "******************************\n",
      "Column:  rougher.input.feed_size\n",
      "dtype before:  float64\n",
      "dtype after:  float32\n",
      "******************************\n",
      "******************************\n",
      "Column:  rougher.input.feed_sol\n",
      "dtype before:  float64\n",
      "dtype after:  float32\n",
      "******************************\n",
      "******************************\n",
      "Column:  rougher.input.feed_au\n",
      "dtype before:  float64\n",
      "dtype after:  float32\n",
      "******************************\n",
      "******************************\n",
      "Column:  rougher.input.floatbank10_sulfate\n",
      "dtype before:  float64\n",
      "dtype after:  float32\n",
      "******************************\n",
      "******************************\n",
      "Column:  rougher.input.floatbank10_xanthate\n",
      "dtype before:  float64\n",
      "dtype after:  float32\n",
      "******************************\n",
      "******************************\n",
      "Column:  rougher.input.floatbank11_sulfate\n",
      "dtype before:  float64\n",
      "dtype after:  float32\n",
      "******************************\n",
      "******************************\n",
      "Column:  rougher.input.floatbank11_xanthate\n",
      "dtype before:  float64\n",
      "dtype after:  float32\n",
      "******************************\n",
      "******************************\n",
      "Column:  rougher.output.concentrate_ag\n",
      "dtype before:  float64\n",
      "dtype after:  float32\n",
      "******************************\n",
      "******************************\n",
      "Column:  rougher.output.concentrate_pb\n",
      "dtype before:  float64\n",
      "dtype after:  float32\n",
      "******************************\n",
      "******************************\n",
      "Column:  rougher.output.concentrate_sol\n",
      "dtype before:  float64\n",
      "dtype after:  float32\n",
      "******************************\n",
      "******************************\n",
      "Column:  rougher.output.concentrate_au\n",
      "dtype before:  float64\n",
      "dtype after:  float32\n",
      "******************************\n",
      "******************************\n",
      "Column:  rougher.output.recovery\n",
      "dtype before:  float64\n",
      "dtype after:  float32\n",
      "******************************\n",
      "******************************\n",
      "Column:  rougher.output.tail_ag\n",
      "dtype before:  float64\n",
      "dtype after:  float32\n",
      "******************************\n",
      "******************************\n",
      "Column:  rougher.output.tail_pb\n",
      "dtype before:  float64\n",
      "dtype after:  float32\n",
      "******************************\n",
      "******************************\n",
      "Column:  rougher.output.tail_sol\n",
      "dtype before:  float64\n",
      "dtype after:  float32\n",
      "******************************\n",
      "******************************\n",
      "Column:  rougher.output.tail_au\n",
      "dtype before:  float64\n",
      "dtype after:  float32\n",
      "******************************\n",
      "******************************\n",
      "Column:  rougher.state.floatbank10_a_air\n",
      "dtype before:  float64\n",
      "dtype after:  float32\n",
      "******************************\n",
      "******************************\n",
      "Column:  rougher.state.floatbank10_a_level\n",
      "dtype before:  float64\n",
      "dtype after:  float32\n",
      "******************************\n",
      "******************************\n",
      "Column:  rougher.state.floatbank10_b_air\n",
      "dtype before:  float64\n",
      "dtype after:  float32\n",
      "******************************\n",
      "******************************\n",
      "Column:  rougher.state.floatbank10_b_level\n",
      "dtype before:  float64\n",
      "dtype after:  float32\n",
      "******************************\n",
      "******************************\n",
      "Column:  rougher.state.floatbank10_c_air\n",
      "dtype before:  float64\n",
      "dtype after:  float32\n",
      "******************************\n",
      "******************************\n",
      "Column:  rougher.state.floatbank10_c_level\n",
      "dtype before:  float64\n",
      "dtype after:  float32\n",
      "******************************\n",
      "******************************\n",
      "Column:  rougher.state.floatbank10_d_air\n",
      "dtype before:  float64\n",
      "dtype after:  float32\n",
      "******************************\n",
      "******************************\n",
      "Column:  rougher.state.floatbank10_d_level\n",
      "dtype before:  float64\n",
      "dtype after:  float32\n",
      "******************************\n",
      "******************************\n",
      "Column:  rougher.state.floatbank10_e_air\n",
      "dtype before:  float64\n",
      "dtype after:  float32\n",
      "******************************\n",
      "******************************\n",
      "Column:  rougher.state.floatbank10_e_level\n",
      "dtype before:  float64\n",
      "dtype after:  float32\n",
      "******************************\n",
      "******************************\n",
      "Column:  rougher.state.floatbank10_f_air\n",
      "dtype before:  float64\n",
      "dtype after:  float32\n",
      "******************************\n",
      "******************************\n",
      "Column:  rougher.state.floatbank10_f_level\n",
      "dtype before:  float64\n",
      "dtype after:  float32\n",
      "******************************\n",
      "******************************\n",
      "Column:  secondary_cleaner.output.tail_ag\n",
      "dtype before:  float64\n",
      "dtype after:  float32\n",
      "******************************\n",
      "******************************\n",
      "Column:  secondary_cleaner.output.tail_pb\n",
      "dtype before:  float64\n",
      "dtype after:  float32\n",
      "******************************\n",
      "******************************\n",
      "Column:  secondary_cleaner.output.tail_sol\n",
      "dtype before:  float64\n",
      "dtype after:  float32\n",
      "******************************\n",
      "******************************\n",
      "Column:  secondary_cleaner.output.tail_au\n",
      "dtype before:  float64\n",
      "dtype after:  float32\n",
      "******************************\n",
      "******************************\n",
      "Column:  secondary_cleaner.state.floatbank2_a_air\n",
      "dtype before:  float64\n",
      "dtype after:  float32\n",
      "******************************\n",
      "******************************\n",
      "Column:  secondary_cleaner.state.floatbank2_a_level\n",
      "dtype before:  float64\n",
      "dtype after:  float32\n",
      "******************************\n",
      "******************************\n",
      "Column:  secondary_cleaner.state.floatbank2_b_air\n",
      "dtype before:  float64\n",
      "dtype after:  float32\n",
      "******************************\n",
      "******************************\n",
      "Column:  secondary_cleaner.state.floatbank2_b_level\n",
      "dtype before:  float64\n",
      "dtype after:  float32\n",
      "******************************\n",
      "******************************\n",
      "Column:  secondary_cleaner.state.floatbank3_a_air\n",
      "dtype before:  float64\n",
      "dtype after:  float32\n",
      "******************************\n",
      "******************************\n",
      "Column:  secondary_cleaner.state.floatbank3_a_level\n",
      "dtype before:  float64\n",
      "dtype after:  float32\n",
      "******************************\n",
      "******************************\n",
      "Column:  secondary_cleaner.state.floatbank3_b_air\n",
      "dtype before:  float64\n",
      "dtype after:  float32\n",
      "******************************\n",
      "******************************\n",
      "Column:  secondary_cleaner.state.floatbank3_b_level\n",
      "dtype before:  float64\n",
      "dtype after:  float32\n",
      "******************************\n",
      "******************************\n",
      "Column:  secondary_cleaner.state.floatbank4_a_air\n",
      "dtype before:  float64\n",
      "dtype after:  float32\n",
      "******************************\n",
      "******************************\n",
      "Column:  secondary_cleaner.state.floatbank4_a_level\n",
      "dtype before:  float64\n",
      "dtype after:  float32\n",
      "******************************\n",
      "******************************\n",
      "Column:  secondary_cleaner.state.floatbank4_b_air\n",
      "dtype before:  float64\n",
      "dtype after:  float32\n",
      "******************************\n",
      "******************************\n",
      "Column:  secondary_cleaner.state.floatbank4_b_level\n",
      "dtype before:  float64\n",
      "dtype after:  float32\n",
      "******************************\n",
      "******************************\n",
      "Column:  secondary_cleaner.state.floatbank5_a_air\n",
      "dtype before:  float64\n",
      "dtype after:  float32\n",
      "******************************\n",
      "******************************\n",
      "Column:  secondary_cleaner.state.floatbank5_a_level\n",
      "dtype before:  float64\n",
      "dtype after:  float32\n",
      "******************************\n",
      "******************************\n",
      "Column:  secondary_cleaner.state.floatbank5_b_air\n",
      "dtype before:  float64\n",
      "dtype after:  float32\n",
      "******************************\n",
      "******************************\n",
      "Column:  secondary_cleaner.state.floatbank5_b_level\n",
      "dtype before:  float64\n",
      "dtype after:  float32\n",
      "******************************\n",
      "******************************\n",
      "Column:  secondary_cleaner.state.floatbank6_a_air\n",
      "dtype before:  float64\n",
      "dtype after:  float32\n",
      "******************************\n",
      "******************************\n",
      "Column:  secondary_cleaner.state.floatbank6_a_level\n",
      "dtype before:  float64\n",
      "dtype after:  float32\n",
      "******************************\n",
      "___MEMORY USAGE AFTER COMPLETION:___\n",
      "Memory usage is:  3.7823867797851562  MB\n",
      "This is  51.13636363636363 % of the initial size\n"
     ]
    }
   ],
   "source": [
    "TRAIN, NAlist = reduce_mem_usage(TRAIN)"
   ]
  },
  {
   "cell_type": "code",
   "execution_count": 1053,
   "metadata": {},
   "outputs": [
    {
     "data": {
      "text/plain": [
       "((5229, 53), (11017, 87))"
      ]
     },
     "execution_count": 1053,
     "metadata": {},
     "output_type": "execute_result"
    }
   ],
   "source": [
    "TEST.shape, TRAIN.shape"
   ]
  },
  {
   "cell_type": "markdown",
   "metadata": {},
   "source": [
    "## Анализ данных"
   ]
  },
  {
   "cell_type": "markdown",
   "metadata": {},
   "source": [
    "### Посмотрите, как меняется концентрация металлов (Au, Ag, Pb) на различных этапах очистки. Опишите выводы"
   ]
  },
  {
   "cell_type": "code",
   "execution_count": 1054,
   "metadata": {},
   "outputs": [
    {
     "data": {
      "text/html": [
       "<div>\n",
       "<style scoped>\n",
       "    .dataframe tbody tr th:only-of-type {\n",
       "        vertical-align: middle;\n",
       "    }\n",
       "\n",
       "    .dataframe tbody tr th {\n",
       "        vertical-align: top;\n",
       "    }\n",
       "\n",
       "    .dataframe thead th {\n",
       "        text-align: right;\n",
       "    }\n",
       "</style>\n",
       "<table border=\"1\" class=\"dataframe\">\n",
       "  <thead>\n",
       "    <tr style=\"text-align: right;\">\n",
       "      <th></th>\n",
       "      <th>rougher.output.concentrate_au</th>\n",
       "      <th>primary_cleaner.output.concentrate_au</th>\n",
       "      <th>final.output.concentrate_au</th>\n",
       "    </tr>\n",
       "  </thead>\n",
       "  <tbody>\n",
       "    <tr>\n",
       "      <td>count</td>\n",
       "      <td>11017.000000</td>\n",
       "      <td>11017.000000</td>\n",
       "      <td>11017.000000</td>\n",
       "    </tr>\n",
       "    <tr>\n",
       "      <td>mean</td>\n",
       "      <td>19.776789</td>\n",
       "      <td>32.380989</td>\n",
       "      <td>44.131634</td>\n",
       "    </tr>\n",
       "    <tr>\n",
       "      <td>std</td>\n",
       "      <td>3.600455</td>\n",
       "      <td>5.328369</td>\n",
       "      <td>4.171270</td>\n",
       "    </tr>\n",
       "    <tr>\n",
       "      <td>min</td>\n",
       "      <td>0.000000</td>\n",
       "      <td>0.000000</td>\n",
       "      <td>0.000000</td>\n",
       "    </tr>\n",
       "    <tr>\n",
       "      <td>25%</td>\n",
       "      <td>18.835323</td>\n",
       "      <td>30.705889</td>\n",
       "      <td>43.243793</td>\n",
       "    </tr>\n",
       "    <tr>\n",
       "      <td>50%</td>\n",
       "      <td>20.262238</td>\n",
       "      <td>33.017231</td>\n",
       "      <td>44.802197</td>\n",
       "    </tr>\n",
       "    <tr>\n",
       "      <td>75%</td>\n",
       "      <td>21.662943</td>\n",
       "      <td>35.154232</td>\n",
       "      <td>46.092316</td>\n",
       "    </tr>\n",
       "    <tr>\n",
       "      <td>max</td>\n",
       "      <td>28.146837</td>\n",
       "      <td>45.933933</td>\n",
       "      <td>51.571884</td>\n",
       "    </tr>\n",
       "  </tbody>\n",
       "</table>\n",
       "</div>"
      ],
      "text/plain": [
       "       rougher.output.concentrate_au  primary_cleaner.output.concentrate_au  \\\n",
       "count                   11017.000000                           11017.000000   \n",
       "mean                       19.776789                              32.380989   \n",
       "std                         3.600455                               5.328369   \n",
       "min                         0.000000                               0.000000   \n",
       "25%                        18.835323                              30.705889   \n",
       "50%                        20.262238                              33.017231   \n",
       "75%                        21.662943                              35.154232   \n",
       "max                        28.146837                              45.933933   \n",
       "\n",
       "       final.output.concentrate_au  \n",
       "count                 11017.000000  \n",
       "mean                     44.131634  \n",
       "std                       4.171270  \n",
       "min                       0.000000  \n",
       "25%                      43.243793  \n",
       "50%                      44.802197  \n",
       "75%                      46.092316  \n",
       "max                      51.571884  "
      ]
     },
     "execution_count": 1054,
     "metadata": {},
     "output_type": "execute_result"
    }
   ],
   "source": [
    "TRAIN[[\n",
    "    'rougher.output.concentrate_au',\n",
    "    'primary_cleaner.output.concentrate_au',\n",
    "    'final.output.concentrate_au',\n",
    "]].describe()"
   ]
  },
  {
   "cell_type": "markdown",
   "metadata": {},
   "source": [
    "По среднему(или медиане, так ка кони примерно равны, что кстати говорит об отсутствии выбросов) можно сказать что после шага Флотация у нас 19.44 единиц сырья золота, после первого этапа очистки - 32.39, и далее на финале у нас 44.00 единиц сырья. Т.о. после 2 этапов очистки у нас почти в 2 раза больше единиц сырья, чем изначально."
   ]
  },
  {
   "cell_type": "code",
   "execution_count": 1055,
   "metadata": {},
   "outputs": [
    {
     "data": {
      "text/html": [
       "<div>\n",
       "<style scoped>\n",
       "    .dataframe tbody tr th:only-of-type {\n",
       "        vertical-align: middle;\n",
       "    }\n",
       "\n",
       "    .dataframe tbody tr th {\n",
       "        vertical-align: top;\n",
       "    }\n",
       "\n",
       "    .dataframe thead th {\n",
       "        text-align: right;\n",
       "    }\n",
       "</style>\n",
       "<table border=\"1\" class=\"dataframe\">\n",
       "  <thead>\n",
       "    <tr style=\"text-align: right;\">\n",
       "      <th></th>\n",
       "      <th>rougher.output.concentrate_ag</th>\n",
       "      <th>primary_cleaner.output.concentrate_ag</th>\n",
       "      <th>final.output.concentrate_ag</th>\n",
       "    </tr>\n",
       "  </thead>\n",
       "  <tbody>\n",
       "    <tr>\n",
       "      <td>count</td>\n",
       "      <td>11017.000000</td>\n",
       "      <td>11017.000000</td>\n",
       "      <td>11017.000000</td>\n",
       "    </tr>\n",
       "    <tr>\n",
       "      <td>mean</td>\n",
       "      <td>11.841982</td>\n",
       "      <td>8.437251</td>\n",
       "      <td>5.156333</td>\n",
       "    </tr>\n",
       "    <tr>\n",
       "      <td>std</td>\n",
       "      <td>2.686593</td>\n",
       "      <td>1.888579</td>\n",
       "      <td>1.340491</td>\n",
       "    </tr>\n",
       "    <tr>\n",
       "      <td>min</td>\n",
       "      <td>0.000000</td>\n",
       "      <td>0.000000</td>\n",
       "      <td>0.000000</td>\n",
       "    </tr>\n",
       "    <tr>\n",
       "      <td>25%</td>\n",
       "      <td>10.460493</td>\n",
       "      <td>7.383838</td>\n",
       "      <td>4.231103</td>\n",
       "    </tr>\n",
       "    <tr>\n",
       "      <td>50%</td>\n",
       "      <td>11.797794</td>\n",
       "      <td>8.436412</td>\n",
       "      <td>4.999314</td>\n",
       "    </tr>\n",
       "    <tr>\n",
       "      <td>75%</td>\n",
       "      <td>13.494582</td>\n",
       "      <td>9.683331</td>\n",
       "      <td>5.852710</td>\n",
       "    </tr>\n",
       "    <tr>\n",
       "      <td>max</td>\n",
       "      <td>21.725695</td>\n",
       "      <td>15.005790</td>\n",
       "      <td>16.001945</td>\n",
       "    </tr>\n",
       "  </tbody>\n",
       "</table>\n",
       "</div>"
      ],
      "text/plain": [
       "       rougher.output.concentrate_ag  primary_cleaner.output.concentrate_ag  \\\n",
       "count                   11017.000000                           11017.000000   \n",
       "mean                       11.841982                               8.437251   \n",
       "std                         2.686593                               1.888579   \n",
       "min                         0.000000                               0.000000   \n",
       "25%                        10.460493                               7.383838   \n",
       "50%                        11.797794                               8.436412   \n",
       "75%                        13.494582                               9.683331   \n",
       "max                        21.725695                              15.005790   \n",
       "\n",
       "       final.output.concentrate_ag  \n",
       "count                 11017.000000  \n",
       "mean                      5.156333  \n",
       "std                       1.340491  \n",
       "min                       0.000000  \n",
       "25%                       4.231103  \n",
       "50%                       4.999314  \n",
       "75%                       5.852710  \n",
       "max                      16.001945  "
      ]
     },
     "execution_count": 1055,
     "metadata": {},
     "output_type": "execute_result"
    }
   ],
   "source": [
    "TRAIN[[\n",
    "    'rougher.output.concentrate_ag',\n",
    "    'primary_cleaner.output.concentrate_ag',\n",
    "    'final.output.concentrate_ag',\n",
    "]].describe()"
   ]
  },
  {
   "cell_type": "markdown",
   "metadata": {},
   "source": [
    "Что касается серебра, то после каждого следующего этапа очистки его становится меньше по средним показателям: 11.77 перед первым этапом очистки, 8.2 после первого и 5.14 после второго. Предположу, что серебро гораздо чаще золота вступает в реакцию с другими металлами, в частности с медью, от которой также очищают, по этому возможно это происходит по этой причине."
   ]
  },
  {
   "cell_type": "code",
   "execution_count": 1056,
   "metadata": {},
   "outputs": [
    {
     "data": {
      "text/html": [
       "<div>\n",
       "<style scoped>\n",
       "    .dataframe tbody tr th:only-of-type {\n",
       "        vertical-align: middle;\n",
       "    }\n",
       "\n",
       "    .dataframe tbody tr th {\n",
       "        vertical-align: top;\n",
       "    }\n",
       "\n",
       "    .dataframe thead th {\n",
       "        text-align: right;\n",
       "    }\n",
       "</style>\n",
       "<table border=\"1\" class=\"dataframe\">\n",
       "  <thead>\n",
       "    <tr style=\"text-align: right;\">\n",
       "      <th></th>\n",
       "      <th>rougher.output.concentrate_pb</th>\n",
       "      <th>primary_cleaner.output.concentrate_pb</th>\n",
       "      <th>final.output.concentrate_pb</th>\n",
       "    </tr>\n",
       "  </thead>\n",
       "  <tbody>\n",
       "    <tr>\n",
       "      <td>count</td>\n",
       "      <td>11017.000000</td>\n",
       "      <td>11017.000000</td>\n",
       "      <td>11017.000000</td>\n",
       "    </tr>\n",
       "    <tr>\n",
       "      <td>mean</td>\n",
       "      <td>7.612322</td>\n",
       "      <td>9.574924</td>\n",
       "      <td>10.172687</td>\n",
       "    </tr>\n",
       "    <tr>\n",
       "      <td>std</td>\n",
       "      <td>1.718284</td>\n",
       "      <td>2.538085</td>\n",
       "      <td>1.589666</td>\n",
       "    </tr>\n",
       "    <tr>\n",
       "      <td>min</td>\n",
       "      <td>0.000000</td>\n",
       "      <td>0.000000</td>\n",
       "      <td>0.000000</td>\n",
       "    </tr>\n",
       "    <tr>\n",
       "      <td>25%</td>\n",
       "      <td>6.819439</td>\n",
       "      <td>8.351604</td>\n",
       "      <td>9.279625</td>\n",
       "    </tr>\n",
       "    <tr>\n",
       "      <td>50%</td>\n",
       "      <td>7.708693</td>\n",
       "      <td>9.919856</td>\n",
       "      <td>10.347530</td>\n",
       "    </tr>\n",
       "    <tr>\n",
       "      <td>75%</td>\n",
       "      <td>8.547193</td>\n",
       "      <td>11.226036</td>\n",
       "      <td>11.187017</td>\n",
       "    </tr>\n",
       "    <tr>\n",
       "      <td>max</td>\n",
       "      <td>12.702148</td>\n",
       "      <td>17.081278</td>\n",
       "      <td>17.031900</td>\n",
       "    </tr>\n",
       "  </tbody>\n",
       "</table>\n",
       "</div>"
      ],
      "text/plain": [
       "       rougher.output.concentrate_pb  primary_cleaner.output.concentrate_pb  \\\n",
       "count                   11017.000000                           11017.000000   \n",
       "mean                        7.612322                               9.574924   \n",
       "std                         1.718284                               2.538085   \n",
       "min                         0.000000                               0.000000   \n",
       "25%                         6.819439                               8.351604   \n",
       "50%                         7.708693                               9.919856   \n",
       "75%                         8.547193                              11.226036   \n",
       "max                        12.702148                              17.081278   \n",
       "\n",
       "       final.output.concentrate_pb  \n",
       "count                 11017.000000  \n",
       "mean                     10.172687  \n",
       "std                       1.589666  \n",
       "min                       0.000000  \n",
       "25%                       9.279625  \n",
       "50%                      10.347530  \n",
       "75%                      11.187017  \n",
       "max                      17.031900  "
      ]
     },
     "execution_count": 1056,
     "metadata": {},
     "output_type": "execute_result"
    }
   ],
   "source": [
    "TRAIN[[\n",
    "    'rougher.output.concentrate_pb',\n",
    "    'primary_cleaner.output.concentrate_pb',\n",
    "    'final.output.concentrate_pb',\n",
    "]].describe()"
   ]
  },
  {
   "cell_type": "markdown",
   "metadata": {},
   "source": [
    "Меди становится стабильно болше после каждого этапа очистки: 7.66, 9.59, 10.13"
   ]
  },
  {
   "cell_type": "markdown",
   "metadata": {},
   "source": [
    "### Сравните распределения размеров гранул сырья на обучающей и тестовой выборках. Если распределения сильно отличаются друг от друга, оценка модели будет неправильной."
   ]
  },
  {
   "cell_type": "code",
   "execution_count": 1057,
   "metadata": {
    "scrolled": true
   },
   "outputs": [
    {
     "data": {
      "text/plain": [
       "<matplotlib.axes._subplots.AxesSubplot at 0x7fe31a724150>"
      ]
     },
     "execution_count": 1057,
     "metadata": {},
     "output_type": "execute_result"
    },
    {
     "data": {
      "image/png": "[encoded data removed]",
      "text/plain": [
       "<Figure size 720x360 with 1 Axes>"
      ]
     },
     "metadata": {},
     "output_type": "display_data"
    }
   ],
   "source": [
    "TRAIN['rougher.input.feed_size'].hist(figsize=(10, 5), bins=100, log=True)"
   ]
  },
  {
   "cell_type": "code",
   "execution_count": 1058,
   "metadata": {
    "scrolled": true
   },
   "outputs": [
    {
     "data": {
      "text/plain": [
       "<matplotlib.axes._subplots.AxesSubplot at 0x7fe31a682190>"
      ]
     },
     "execution_count": 1058,
     "metadata": {},
     "output_type": "execute_result"
    },
    {
     "data": {
      "image/png": "[encoded data removed]",
      "text/plain": [
       "<Figure size 432x288 with 1 Axes>"
      ]
     },
     "metadata": {},
     "output_type": "display_data"
    }
   ],
   "source": [
    "sns.boxplot(TRAIN['rougher.input.feed_size'])"
   ]
  },
  {
   "cell_type": "markdown",
   "metadata": {},
   "source": [
    "Видим, что у нас есть небольшое количество наблюдений, сильно оторванных от основной массы, возможно  такие действительно есть, попробуем взять наблюдения без них"
   ]
  },
  {
   "cell_type": "code",
   "execution_count": 1059,
   "metadata": {},
   "outputs": [],
   "source": [
    "TRAIN = TRAIN[TRAIN['rougher.input.feed_size'] < 200]"
   ]
  },
  {
   "cell_type": "code",
   "execution_count": 1061,
   "metadata": {},
   "outputs": [
    {
     "data": {
      "text/plain": [
       "<matplotlib.axes._subplots.AxesSubplot at 0x7fe31a4932d0>"
      ]
     },
     "execution_count": 1061,
     "metadata": {},
     "output_type": "execute_result"
    },
    {
     "data": {
      "image/png": "[encoded data removed]",
      "text/plain": [
       "<Figure size 720x360 with 1 Axes>"
      ]
     },
     "metadata": {},
     "output_type": "display_data"
    }
   ],
   "source": [
    "TRAIN['rougher.input.feed_size'].hist(figsize=(10, 5), bins=100, log=True)"
   ]
  },
  {
   "cell_type": "code",
   "execution_count": 1062,
   "metadata": {
    "scrolled": true
   },
   "outputs": [
    {
     "data": {
      "text/plain": [
       "<matplotlib.axes._subplots.AxesSubplot at 0x7fe31a1c88d0>"
      ]
     },
     "execution_count": 1062,
     "metadata": {},
     "output_type": "execute_result"
    },
    {
     "data": {
      "image/png": "[encoded data removed]",
      "text/plain": [
       "<Figure size 864x360 with 1 Axes>"
      ]
     },
     "metadata": {},
     "output_type": "display_data"
    }
   ],
   "source": [
    "ax = TRAIN['rougher.input.feed_size'].hist(figsize=(12, 5), bins=50, log=True)\n",
    "TEST['rougher.input.feed_size'].hist(figsize=(12, 5), bins=50, ax=ax)"
   ]
  },
  {
   "cell_type": "code",
   "execution_count": 1063,
   "metadata": {},
   "outputs": [
    {
     "data": {
      "text/plain": [
       "(55.86398, 50.772728)"
      ]
     },
     "execution_count": 1063,
     "metadata": {},
     "output_type": "execute_result"
    }
   ],
   "source": [
    "TEST['rougher.input.feed_size'].mean(), TEST['rougher.input.feed_size'].median()"
   ]
  },
  {
   "cell_type": "markdown",
   "metadata": {},
   "source": [
    "Параметр feed_size после Флотации распределен примерно одинаково на трейне и тесте со смещением на 5, если бы мы говорили только о среднем с таким смещением, то можно было бы говорить о выбросах, но и медиана аналогично \"отстает\""
   ]
  },
  {
   "cell_type": "code",
   "execution_count": 1064,
   "metadata": {
    "scrolled": true
   },
   "outputs": [
    {
     "data": {
      "text/plain": [
       "<matplotlib.axes._subplots.AxesSubplot at 0x7fe319ff4450>"
      ]
     },
     "execution_count": 1064,
     "metadata": {},
     "output_type": "execute_result"
    },
    {
     "data": {
      "image/png": "[encoded data removed]",
      "text/plain": [
       "<Figure size 720x360 with 1 Axes>"
      ]
     },
     "metadata": {},
     "output_type": "display_data"
    }
   ],
   "source": [
    "TRAIN['primary_cleaner.input.feed_size'].hist(figsize=(10, 5), bins=50, log=True)"
   ]
  },
  {
   "cell_type": "code",
   "execution_count": 1065,
   "metadata": {
    "scrolled": false
   },
   "outputs": [
    {
     "data": {
      "text/plain": [
       "<matplotlib.axes._subplots.AxesSubplot at 0x7fe319e4ca10>"
      ]
     },
     "execution_count": 1065,
     "metadata": {},
     "output_type": "execute_result"
    },
    {
     "data": {
      "image/png": "[encoded data removed]",
      "text/plain": [
       "<Figure size 432x288 with 1 Axes>"
      ]
     },
     "metadata": {},
     "output_type": "display_data"
    }
   ],
   "source": [
    "sns.boxplot(TRAIN['primary_cleaner.input.feed_size'])"
   ]
  },
  {
   "cell_type": "markdown",
   "metadata": {},
   "source": [
    "Аналогично тут явно возможные, но сильно отличные наблюдения, которые будут вносить шум"
   ]
  },
  {
   "cell_type": "code",
   "execution_count": 1066,
   "metadata": {},
   "outputs": [],
   "source": [
    "TRAIN = TRAIN[TRAIN['primary_cleaner.input.feed_size'] > 2]"
   ]
  },
  {
   "cell_type": "code",
   "execution_count": 1067,
   "metadata": {},
   "outputs": [
    {
     "data": {
      "text/plain": [
       "(7.39991, 7.33)"
      ]
     },
     "execution_count": 1067,
     "metadata": {},
     "output_type": "execute_result"
    }
   ],
   "source": [
    "TRAIN['primary_cleaner.input.feed_size'].mean(), TRAIN['primary_cleaner.input.feed_size'].median()"
   ]
  },
  {
   "cell_type": "code",
   "execution_count": 1068,
   "metadata": {
    "scrolled": false
   },
   "outputs": [
    {
     "data": {
      "text/plain": [
       "<matplotlib.axes._subplots.AxesSubplot at 0x7fe319e17310>"
      ]
     },
     "execution_count": 1068,
     "metadata": {},
     "output_type": "execute_result"
    },
    {
     "data": {
      "image/png": "[encoded data removed]",
      "text/plain": [
       "<Figure size 720x360 with 1 Axes>"
      ]
     },
     "metadata": {},
     "output_type": "display_data"
    }
   ],
   "source": [
    "TEST['primary_cleaner.input.feed_size'].hist(figsize=(10, 5), bins=50)"
   ]
  },
  {
   "cell_type": "code",
   "execution_count": 1069,
   "metadata": {},
   "outputs": [
    {
     "data": {
      "text/plain": [
       "(7.271546, 7.25)"
      ]
     },
     "execution_count": 1069,
     "metadata": {},
     "output_type": "execute_result"
    }
   ],
   "source": [
    "TEST['primary_cleaner.input.feed_size'].mean(), TEST['primary_cleaner.input.feed_size'].median()"
   ]
  },
  {
   "cell_type": "markdown",
   "metadata": {},
   "source": [
    "Параметр feed_size после Первой очистки распределен примерно одинаково на трейне и тесте"
   ]
  },
  {
   "cell_type": "markdown",
   "metadata": {},
   "source": [
    "### Исследуйте суммарную концентрацию всех веществ на разных стадиях: в сырье, в черновом и финальном концентратах"
   ]
  },
  {
   "cell_type": "markdown",
   "metadata": {},
   "source": [
    "Стадия **Флотация**"
   ]
  },
  {
   "cell_type": "code",
   "execution_count": 1070,
   "metadata": {
    "scrolled": false
   },
   "outputs": [
    {
     "data": {
      "text/plain": [
       "<matplotlib.axes._subplots.AxesSubplot at 0x7fe319cff9d0>"
      ]
     },
     "execution_count": 1070,
     "metadata": {},
     "output_type": "execute_result"
    },
    {
     "data": {
      "image/png": "[encoded data removed]",
      "text/plain": [
       "<Figure size 1008x504 with 1 Axes>"
      ]
     },
     "metadata": {},
     "output_type": "display_data"
    }
   ],
   "source": [
    "first_stage = pd.DataFrame(TRAIN['rougher.output.concentrate_ag'] + TRAIN['rougher.output.concentrate_pb'] + \\\n",
    "TRAIN['rougher.output.concentrate_sol'] + TRAIN['rougher.output.concentrate_au'], columns=['rougher.output.sum']).sum(axis=1)\n",
    "first_stage.hist(bins=100, figsize=(14,7))"
   ]
  },
  {
   "cell_type": "code",
   "execution_count": 1071,
   "metadata": {},
   "outputs": [
    {
     "data": {
      "text/plain": [
       "count    10972.000000\n",
       "mean        67.890793\n",
       "std         12.267904\n",
       "min          0.000000\n",
       "25%         65.455933\n",
       "50%         69.698956\n",
       "75%         73.939993\n",
       "max         87.273438\n",
       "dtype: float64"
      ]
     },
     "execution_count": 1071,
     "metadata": {},
     "output_type": "execute_result"
    }
   ],
   "source": [
    "first_stage.describe()"
   ]
  },
  {
   "cell_type": "markdown",
   "metadata": {},
   "source": [
    "Есть наблюдения где у нас есть нули, что не очень хорошо."
   ]
  },
  {
   "cell_type": "markdown",
   "metadata": {},
   "source": [
    "Стадия **Первичная очистка**"
   ]
  },
  {
   "cell_type": "code",
   "execution_count": 1072,
   "metadata": {},
   "outputs": [
    {
     "data": {
      "text/plain": [
       "<matplotlib.axes._subplots.AxesSubplot at 0x7fe319cc0ed0>"
      ]
     },
     "execution_count": 1072,
     "metadata": {},
     "output_type": "execute_result"
    },
    {
     "data": {
      "image/png": "[encoded data removed]",
      "text/plain": [
       "<Figure size 1008x504 with 1 Axes>"
      ]
     },
     "metadata": {},
     "output_type": "display_data"
    }
   ],
   "source": [
    "second_stage = pd.DataFrame(TRAIN['primary_cleaner.output.concentrate_ag'] + TRAIN['primary_cleaner.output.concentrate_pb'] + \\\n",
    "TRAIN['primary_cleaner.output.concentrate_sol'] + TRAIN['primary_cleaner.output.concentrate_au'], columns=['primary_cleaner.output.sum']).sum(axis=1)\n",
    "second_stage.hist(bins=100, figsize=(14,7), log=True)"
   ]
  },
  {
   "cell_type": "code",
   "execution_count": 1073,
   "metadata": {},
   "outputs": [
    {
     "data": {
      "text/plain": [
       "count    10972.000000\n",
       "mean        60.744007\n",
       "std          9.495549\n",
       "min          0.000000\n",
       "25%         58.562236\n",
       "50%         61.976963\n",
       "75%         65.491632\n",
       "max         76.918076\n",
       "dtype: float64"
      ]
     },
     "execution_count": 1073,
     "metadata": {},
     "output_type": "execute_result"
    }
   ],
   "source": [
    "second_stage.describe()"
   ]
  },
  {
   "cell_type": "markdown",
   "metadata": {},
   "source": [
    "Аналогично и тут с нулями"
   ]
  },
  {
   "cell_type": "markdown",
   "metadata": {},
   "source": [
    "Стадия **Финальная**"
   ]
  },
  {
   "cell_type": "code",
   "execution_count": 1074,
   "metadata": {},
   "outputs": [
    {
     "data": {
      "text/plain": [
       "<matplotlib.axes._subplots.AxesSubplot at 0x7fe31992ef50>"
      ]
     },
     "execution_count": 1074,
     "metadata": {},
     "output_type": "execute_result"
    },
    {
     "data": {
      "image/png": "[encoded data removed]",
      "text/plain": [
       "<Figure size 1008x504 with 1 Axes>"
      ]
     },
     "metadata": {},
     "output_type": "display_data"
    }
   ],
   "source": [
    "final_stage = pd.DataFrame(TRAIN['final.output.concentrate_ag'] + TRAIN['final.output.concentrate_pb'] + \\\n",
    "TRAIN['final.output.concentrate_sol'] + TRAIN['final.output.concentrate_au'], columns=['final.output.sum']).sum(axis=1)\n",
    "final_stage.hist(bins=100, figsize=(14,7), log=True)"
   ]
  },
  {
   "cell_type": "code",
   "execution_count": 1075,
   "metadata": {},
   "outputs": [
    {
     "data": {
      "text/plain": [
       "count    10972.000000\n",
       "mean        69.058128\n",
       "std          6.002674\n",
       "min          0.000000\n",
       "25%         67.905945\n",
       "50%         69.462940\n",
       "75%         71.310246\n",
       "max         80.210648\n",
       "dtype: float64"
      ]
     },
     "execution_count": 1075,
     "metadata": {},
     "output_type": "execute_result"
    }
   ],
   "source": [
    "final_stage.describe()"
   ]
  },
  {
   "cell_type": "markdown",
   "metadata": {},
   "source": [
    "Напишем функцию которая уберет нам выбросные нули"
   ]
  },
  {
   "cell_type": "code",
   "execution_count": 1076,
   "metadata": {},
   "outputs": [],
   "source": [
    "limit = 0.01\n",
    "def del_zeroes(df):\n",
    "    for col in list(df.columns):\n",
    "        if 'concentrate' in col:\n",
    "            df = df[df[col] > limit]\n",
    "    return df"
   ]
  },
  {
   "cell_type": "code",
   "execution_count": 1077,
   "metadata": {},
   "outputs": [],
   "source": [
    "TRAIN = del_zeroes(TRAIN)\n",
    "TEST = del_zeroes(TEST)"
   ]
  },
  {
   "cell_type": "code",
   "execution_count": 1078,
   "metadata": {},
   "outputs": [
    {
     "data": {
      "text/plain": [
       "<matplotlib.axes._subplots.AxesSubplot at 0x7fe3199206d0>"
      ]
     },
     "execution_count": 1078,
     "metadata": {},
     "output_type": "execute_result"
    },
    {
     "data": {
      "image/png": "[encoded data removed]",
      "text/plain": [
       "<Figure size 1008x504 with 1 Axes>"
      ]
     },
     "metadata": {},
     "output_type": "display_data"
    }
   ],
   "source": [
    "first_stage = pd.DataFrame(TRAIN['rougher.output.concentrate_ag'] + TRAIN['rougher.output.concentrate_pb'] + \\\n",
    "TRAIN['rougher.output.concentrate_sol'] + TRAIN['rougher.output.concentrate_au'], columns=['rougher.output.sum']).sum(axis=1)\n",
    "first_stage.hist(bins=100, figsize=(14,7), log=True)"
   ]
  },
  {
   "cell_type": "code",
   "execution_count": 1079,
   "metadata": {},
   "outputs": [
    {
     "data": {
      "text/plain": [
       "<matplotlib.axes._subplots.AxesSubplot at 0x7fe319524750>"
      ]
     },
     "execution_count": 1079,
     "metadata": {},
     "output_type": "execute_result"
    },
    {
     "data": {
      "image/png": "[encoded data removed]",
      "text/plain": [
       "<Figure size 1008x504 with 1 Axes>"
      ]
     },
     "metadata": {},
     "output_type": "display_data"
    }
   ],
   "source": [
    "second_stage = pd.DataFrame(TRAIN['primary_cleaner.output.concentrate_ag'] + TRAIN['primary_cleaner.output.concentrate_pb'] + \\\n",
    "TRAIN['primary_cleaner.output.concentrate_sol'] + TRAIN['primary_cleaner.output.concentrate_au'], columns=['primary_cleaner.output.sum']).sum(axis=1)\n",
    "second_stage.hist(bins=100, figsize=(14,7), log=True)"
   ]
  },
  {
   "cell_type": "code",
   "execution_count": 1080,
   "metadata": {},
   "outputs": [
    {
     "data": {
      "text/plain": [
       "<matplotlib.axes._subplots.AxesSubplot at 0x7fe3192014d0>"
      ]
     },
     "execution_count": 1080,
     "metadata": {},
     "output_type": "execute_result"
    },
    {
     "data": {
      "image/png": "[encoded data removed]",
      "text/plain": [
       "<Figure size 1008x504 with 1 Axes>"
      ]
     },
     "metadata": {},
     "output_type": "display_data"
    }
   ],
   "source": [
    "final_stage = pd.DataFrame(TRAIN['final.output.concentrate_ag'] + TRAIN['final.output.concentrate_pb'] + \\\n",
    "TRAIN['final.output.concentrate_sol'] + TRAIN['final.output.concentrate_au'], columns=['final.output.sum']).sum(axis=1)\n",
    "final_stage.hist(bins=100, figsize=(14,7), log=True)"
   ]
  },
  {
   "cell_type": "markdown",
   "metadata": {},
   "source": [
    "Хвосты убрали"
   ]
  },
  {
   "cell_type": "markdown",
   "metadata": {},
   "source": [
    "### Посмотрим на наши целевые признаки - ['final.output.recovery', 'rougher.output.recovery']"
   ]
  },
  {
   "cell_type": "markdown",
   "metadata": {},
   "source": [
    "Выдели месяц для удобства группировки по дате"
   ]
  },
  {
   "cell_type": "code",
   "execution_count": 1081,
   "metadata": {},
   "outputs": [
    {
     "data": {
      "text/plain": [
       "0    2016-01\n",
       "1    2016-01\n",
       "2    2016-01\n",
       "3    2016-01\n",
       "4    2016-01\n",
       "Name: month, dtype: object"
      ]
     },
     "execution_count": 1081,
     "metadata": {},
     "output_type": "execute_result"
    }
   ],
   "source": [
    "TRAIN['month'] = TRAIN['date'].apply(lambda x: x[:7])\n",
    "TRAIN['month'].head()"
   ]
  },
  {
   "cell_type": "code",
   "execution_count": 1082,
   "metadata": {},
   "outputs": [
    {
     "data": {
      "text/plain": [
       "<matplotlib.axes._subplots.AxesSubplot at 0x7fe318f0d390>"
      ]
     },
     "execution_count": 1082,
     "metadata": {},
     "output_type": "execute_result"
    },
    {
     "data": {
      "image/png": "[encoded data removed]",
      "text/plain": [
       "<Figure size 1152x504 with 1 Axes>"
      ]
     },
     "metadata": {},
     "output_type": "display_data"
    }
   ],
   "source": [
    "ax = TRAIN.groupby('month')['rougher.output.recovery']\\\n",
    "    .agg('sum')\\\n",
    "    .plot(\n",
    "        x='date', \n",
    "        y='rougher.output.recovery', \n",
    "        legend=True, \n",
    "        figsize=(16, 7),\n",
    ")\n",
    "TRAIN.groupby('month')['final.output.recovery']\\\n",
    "    .agg('sum')\\\n",
    "    .plot(\n",
    "        ax=ax,\n",
    "        x='date', \n",
    "        y='rougher.output.recovery', \n",
    "        title='Суммарное значение rougher.output.recovery и final.output.recovery по месяцам', \n",
    "        legend=True, \n",
    "        figsize=(16, 7),\n",
    ")"
   ]
  },
  {
   "cell_type": "markdown",
   "metadata": {},
   "source": [
    "Хорошо прослеживается суммарные значения целевых признаков по месяцам, чем больше у нас эффективность обогащения чернового концентрата, тем больше эффективность обогащения финального концентрата. Так же есть закономерность, чем больше значение на черновом этапе, тем больше разница по сравнению с финальным результатом. Например разница буквально за месяц до 2017-08 такая разница была 10000, после падения 2017-09 уже меньше 5000. То есть повышение эффективности обогащения чернового концентрата не дает нам гарантии повышения эффективности обогащения финального концентрата на такую же величину."
   ]
  },
  {
   "cell_type": "markdown",
   "metadata": {},
   "source": [
    "## Модель"
   ]
  },
  {
   "cell_type": "markdown",
   "metadata": {},
   "source": [
    "### Напишите функцию для вычисления итоговой sMAPE"
   ]
  },
  {
   "cell_type": "code",
   "execution_count": 1083,
   "metadata": {},
   "outputs": [],
   "source": [
    "def smape(y, y_pred):\n",
    "    return 100 / len(y) * np.sum(2 * np.abs(y - y_pred) / (np.abs(y) + np.abs(y_pred)))"
   ]
  },
  {
   "cell_type": "code",
   "execution_count": 1084,
   "metadata": {},
   "outputs": [],
   "source": [
    "def final_smape(smape_rougher, smape_final):\n",
    "    return (0.25 * smape_rougher) + (0.75 * smape_final)"
   ]
  },
  {
   "cell_type": "markdown",
   "metadata": {},
   "source": [
    "### Обучите разные модели и оцените их качество кросс-валидацией. Выберите лучшую модель и проверьте её на тестовой выборке. Опишите выводы"
   ]
  },
  {
   "cell_type": "markdown",
   "metadata": {},
   "source": [
    "#### Модель 1. Поиск наилучшей модели для целевого признака 'rougher.output.recovery'"
   ]
  },
  {
   "cell_type": "code",
   "execution_count": 1085,
   "metadata": {
    "scrolled": true
   },
   "outputs": [
    {
     "name": "stdout",
     "output_type": "stream",
     "text": [
      "'rougher.input.feed_ag',\n",
      "'rougher.input.feed_pb',\n",
      "'rougher.input.feed_rate',\n",
      "'rougher.input.feed_size',\n",
      "'rougher.input.feed_sol',\n",
      "'rougher.input.feed_au',\n",
      "'rougher.input.floatbank10_sulfate',\n",
      "'rougher.input.floatbank10_xanthate',\n",
      "'rougher.input.floatbank11_sulfate',\n",
      "'rougher.input.floatbank11_xanthate',\n",
      "'rougher.state.floatbank10_a_air',\n",
      "'rougher.state.floatbank10_a_level',\n",
      "'rougher.state.floatbank10_b_air',\n",
      "'rougher.state.floatbank10_b_level',\n",
      "'rougher.state.floatbank10_c_air',\n",
      "'rougher.state.floatbank10_c_level',\n",
      "'rougher.state.floatbank10_d_air',\n",
      "'rougher.state.floatbank10_d_level',\n",
      "'rougher.state.floatbank10_e_air',\n",
      "'rougher.state.floatbank10_e_level',\n",
      "'rougher.state.floatbank10_f_air',\n",
      "'rougher.state.floatbank10_f_level',\n"
     ]
    }
   ],
   "source": [
    "# Так как нас интересует стадия rougher, отберем колонки этой стадии в TEST\n",
    "cols = []\n",
    "for col in TEST.columns:\n",
    "    if 'rougher' in col and 'recovery' not in col:\n",
    "        cols.append(col)\n",
    "        print(f\"'{col}',\")"
   ]
  },
  {
   "cell_type": "code",
   "execution_count": 1089,
   "metadata": {},
   "outputs": [],
   "source": [
    "first_model_cols = [\n",
    "    'rougher.input.feed_ag',\n",
    "    'rougher.input.feed_pb',\n",
    "    'rougher.input.feed_rate',\n",
    "    'rougher.input.feed_size',\n",
    "    'rougher.input.feed_sol',\n",
    "    'rougher.input.feed_au',\n",
    "    'rougher.input.floatbank10_sulfate',\n",
    "    'rougher.input.floatbank10_xanthate',\n",
    "    'rougher.input.floatbank11_sulfate',\n",
    "    'rougher.input.floatbank11_xanthate',\n",
    "    'rougher.state.floatbank10_a_air',\n",
    "    'rougher.state.floatbank10_a_level',\n",
    "    'rougher.state.floatbank10_b_air',\n",
    "    'rougher.state.floatbank10_b_level',\n",
    "    'rougher.state.floatbank10_c_air',\n",
    "    'rougher.state.floatbank10_c_level',\n",
    "    'rougher.state.floatbank10_d_air',\n",
    "    'rougher.state.floatbank10_d_level',\n",
    "    'rougher.state.floatbank10_e_air',\n",
    "    'rougher.state.floatbank10_e_level',\n",
    "    'rougher.state.floatbank10_f_air',\n",
    "    'rougher.state.floatbank10_f_level',\n",
    "]\n",
    "first_model_target = [\n",
    "    'rougher.output.recovery',\n",
    "]"
   ]
  },
  {
   "cell_type": "code",
   "execution_count": 1090,
   "metadata": {},
   "outputs": [],
   "source": [
    "def linear_regression(df, target):\n",
    "    # разбиение на таргет и фичи\n",
    "    features = df.drop([target], axis=1)\n",
    "    target = df[target]\n",
    "    \n",
    "    # создаем объект MinMaxScaler для масштабирования признаков, по дефолту диапазон default=(0, 1)\n",
    "    scaler = MinMaxScaler()\n",
    "    features = scaler.fit_transform(features)\n",
    "    # features_valid = scaler.transform(features_valid)\n",
    "    \n",
    "    # создадим модель\n",
    "    model = LinearRegression()\n",
    "    \n",
    "    scorer = make_scorer(smape, greater_is_better=False)\n",
    "    kf = KFold(shuffle=True, n_splits=5)\n",
    "    score = cross_val_score(model, features, target, scoring=scorer, cv=kf)\n",
    "    # обучим на тренировочных данных\n",
    "    model.fit(features, target)\n",
    "\n",
    "    count_smape = sum(score)/len(score)\n",
    "    print(score)\n",
    "    print(f\"Симметричный средний процент отклонения (MAPE – Mean Absolute Percent Error): {count_smape:.2f}\")\n",
    "    \n",
    "    return model"
   ]
  },
  {
   "cell_type": "code",
   "execution_count": 1091,
   "metadata": {
    "scrolled": true
   },
   "outputs": [
    {
     "name": "stdout",
     "output_type": "stream",
     "text": [
      "[-4.53054594 -4.83161801 -4.48575368 -4.56428366 -4.74620433]\n",
      "Симметричный средний процент отклонения (MAPE – Mean Absolute Percent Error): -4.63\n"
     ]
    }
   ],
   "source": [
    "model = linear_regression(TRAIN[first_model_cols + first_model_target], 'rougher.output.recovery')"
   ]
  },
  {
   "cell_type": "markdown",
   "metadata": {},
   "source": [
    "SMAPE отвечает на вопрос \"какой процент составляет ошибка от этой самой величины y(среднее)?\". Получаем 4.63%"
   ]
  },
  {
   "cell_type": "code",
   "execution_count": 1092,
   "metadata": {},
   "outputs": [],
   "source": [
    "def random_forest_regression(df, target):\n",
    "    # разбиение на таргет и фичи\n",
    "    features = df.drop([target], axis=1)\n",
    "    target = df[target]\n",
    "\n",
    "    kf = KFold(shuffle=True, n_splits=5)\n",
    "    best_score = np.inf\n",
    "    best_est = 0\n",
    "    best_depth = 0\n",
    "    for n_estimators in range(20, 33, 3):\n",
    "        for max_depth in range(20, 37, 4):\n",
    "            # создадим модель\n",
    "            model = RandomForestRegressor(n_estimators=n_estimators, max_depth=max_depth, random_state=13)\n",
    "            \n",
    "            # Перекрестная проверка лучше, чем разделение набора данных. \n",
    "            # Это связано с тем, что если вы попробуете свою модель более чем на одном тестовом наборе \n",
    "            # (что делает cross_val_score), то можно избежать переобучения. \n",
    "            # Кроме того, у cross_val_score есть много полезных параметров, \n",
    "            # которые в противном случае можно было бы реализовать, написав больше строк кода. \n",
    "            # Например, вы можете выбирать из различных или использовать собственные методы оценки, \n",
    "            # а также стратегии разделения перекрестной проверки.\n",
    "            \n",
    "            # Train and score model on dataset with additional ratio features\n",
    "            scorer = make_scorer(smape, greater_is_better=False)\n",
    "            score = cross_val_score(model, features, target, scoring=scorer, cv=kf)\n",
    "            score = [abs(i) for i in score]\n",
    "            # print(sum(score)/len(score))\n",
    "            \n",
    "\n",
    "            if sum(score)/len(score) < best_score:\n",
    "                best_score = sum(score)/len(score)\n",
    "                best_est = n_estimators\n",
    "                best_depth = max_depth\n",
    "                print(f'best_score: {best_score}, n_estimators: {n_estimators}, max_depth: {max_depth}')\n",
    "    # создадим лучшую модель\n",
    "    print(f\"best n_estimators: {best_est}, best max_depth: {best_depth}\")\n",
    "    model = RandomForestRegressor(n_estimators=best_est, max_depth=best_depth)\n",
    "\n",
    "    # обучим на тренировочных данных\n",
    "    model.fit(features, target)\n",
    "    print(f\"Симметричный средний процент отклонения (MAPE – Mean Absolute Percent Error): {best_score:.2f}\")\n",
    "    \n",
    "    return model"
   ]
  },
  {
   "cell_type": "code",
   "execution_count": 1093,
   "metadata": {
    "scrolled": true
   },
   "outputs": [
    {
     "name": "stdout",
     "output_type": "stream",
     "text": [
      "best_score: 2.630037331153759, n_estimators: 20, max_depth: 20\n",
      "best_score: 2.618352961195625, n_estimators: 20, max_depth: 36\n",
      "best_score: 2.6115574833565445, n_estimators: 23, max_depth: 32\n",
      "best_score: 2.6064019354268573, n_estimators: 26, max_depth: 28\n",
      "best_score: 2.6016866319741574, n_estimators: 26, max_depth: 32\n",
      "best_score: 2.595922706125301, n_estimators: 29, max_depth: 28\n",
      "best_score: 2.5928574671449898, n_estimators: 32, max_depth: 36\n",
      "best n_estimators: 32, best max_depth: 36\n",
      "Симметричный средний процент отклонения (MAPE – Mean Absolute Percent Error): 2.59\n",
      "CPU times: user 6min 24s, sys: 79.7 ms, total: 6min 24s\n",
      "Wall time: 6min 28s\n"
     ]
    }
   ],
   "source": [
    "%%time\n",
    "\n",
    "first_model = random_forest_regression(TRAIN[first_model_cols + first_model_target], 'rougher.output.recovery')"
   ]
  },
  {
   "cell_type": "markdown",
   "metadata": {},
   "source": [
    "- best n_estimators: 32, best max_depth: 28\n",
    "- Симметричный средний процент отклонения (MAPE – Mean Absolute Percent Error): 2.57\n",
    "- CPU times: user 6min 26s, sys: 216 ms, total: 6min 26s\n",
    "- Wall time: 6min 32s"
   ]
  },
  {
   "cell_type": "code",
   "execution_count": 1094,
   "metadata": {},
   "outputs": [
    {
     "data": {
      "text/plain": [
       "RandomForestRegressor(max_depth=36, n_estimators=32)"
      ]
     },
     "execution_count": 1094,
     "metadata": {},
     "output_type": "execute_result"
    }
   ],
   "source": [
    "first_model"
   ]
  },
  {
   "cell_type": "markdown",
   "metadata": {},
   "source": [
    "#### Модель 2. Поиск наилучшей модели для целевого признака 'final.output.recovery'"
   ]
  },
  {
   "cell_type": "code",
   "execution_count": 1095,
   "metadata": {},
   "outputs": [
    {
     "name": "stdout",
     "output_type": "stream",
     "text": [
      "'primary_cleaner.input.sulfate',\n",
      "'primary_cleaner.input.depressant',\n",
      "'primary_cleaner.input.feed_size',\n",
      "'primary_cleaner.input.xanthate',\n",
      "'primary_cleaner.state.floatbank8_a_air',\n",
      "'primary_cleaner.state.floatbank8_a_level',\n",
      "'primary_cleaner.state.floatbank8_b_air',\n",
      "'primary_cleaner.state.floatbank8_b_level',\n",
      "'primary_cleaner.state.floatbank8_c_air',\n",
      "'primary_cleaner.state.floatbank8_c_level',\n",
      "'primary_cleaner.state.floatbank8_d_air',\n",
      "'primary_cleaner.state.floatbank8_d_level',\n",
      "'secondary_cleaner.state.floatbank2_a_air',\n",
      "'secondary_cleaner.state.floatbank2_a_level',\n",
      "'secondary_cleaner.state.floatbank2_b_air',\n",
      "'secondary_cleaner.state.floatbank2_b_level',\n",
      "'secondary_cleaner.state.floatbank3_a_air',\n",
      "'secondary_cleaner.state.floatbank3_a_level',\n",
      "'secondary_cleaner.state.floatbank3_b_air',\n",
      "'secondary_cleaner.state.floatbank3_b_level',\n",
      "'secondary_cleaner.state.floatbank4_a_air',\n",
      "'secondary_cleaner.state.floatbank4_a_level',\n",
      "'secondary_cleaner.state.floatbank4_b_air',\n",
      "'secondary_cleaner.state.floatbank4_b_level',\n",
      "'secondary_cleaner.state.floatbank5_a_air',\n",
      "'secondary_cleaner.state.floatbank5_a_level',\n",
      "'secondary_cleaner.state.floatbank5_b_air',\n",
      "'secondary_cleaner.state.floatbank5_b_level',\n",
      "'secondary_cleaner.state.floatbank6_a_air',\n",
      "'secondary_cleaner.state.floatbank6_a_level',\n"
     ]
    }
   ],
   "source": [
    "# Так как нас интересует стадии отличные от rougher, посмотрим какие колонки этой стадии есть в FULL, которых нет в TEST\n",
    "cols = []\n",
    "for col in TEST.columns:\n",
    "    if ('primary' in col or 'secondary' in col or 'final' in col) and 'recovery' not in col:\n",
    "        cols.append(col)\n",
    "        print(f\"'{col}',\")"
   ]
  },
  {
   "cell_type": "code",
   "execution_count": 1098,
   "metadata": {},
   "outputs": [],
   "source": [
    "second_model_cols = [\n",
    "    'primary_cleaner.input.sulfate',\n",
    "    'primary_cleaner.input.depressant',\n",
    "    'primary_cleaner.input.feed_size',\n",
    "    'primary_cleaner.input.xanthate',\n",
    "    'primary_cleaner.state.floatbank8_a_air',\n",
    "    'primary_cleaner.state.floatbank8_a_level',\n",
    "    'primary_cleaner.state.floatbank8_b_air',\n",
    "    'primary_cleaner.state.floatbank8_b_level',\n",
    "    'primary_cleaner.state.floatbank8_c_air',\n",
    "    'primary_cleaner.state.floatbank8_c_level',\n",
    "    'primary_cleaner.state.floatbank8_d_air',\n",
    "    'primary_cleaner.state.floatbank8_d_level',\n",
    "    'secondary_cleaner.state.floatbank2_a_air',\n",
    "    'secondary_cleaner.state.floatbank2_a_level',\n",
    "    'secondary_cleaner.state.floatbank2_b_air',\n",
    "    'secondary_cleaner.state.floatbank2_b_level',\n",
    "    'secondary_cleaner.state.floatbank3_a_air',\n",
    "    'secondary_cleaner.state.floatbank3_a_level',\n",
    "    'secondary_cleaner.state.floatbank3_b_air',\n",
    "    'secondary_cleaner.state.floatbank3_b_level',\n",
    "    'secondary_cleaner.state.floatbank4_a_air',\n",
    "    'secondary_cleaner.state.floatbank4_a_level',\n",
    "    'secondary_cleaner.state.floatbank4_b_air',\n",
    "    'secondary_cleaner.state.floatbank4_b_level',\n",
    "    'secondary_cleaner.state.floatbank5_a_air',\n",
    "    'secondary_cleaner.state.floatbank5_a_level',\n",
    "    'secondary_cleaner.state.floatbank5_b_air',\n",
    "    'secondary_cleaner.state.floatbank5_b_level',\n",
    "    'secondary_cleaner.state.floatbank6_a_air',\n",
    "    'secondary_cleaner.state.floatbank6_a_level',\n",
    "]\n",
    "second_model_target = ['final.output.recovery']"
   ]
  },
  {
   "cell_type": "raw",
   "metadata": {},
   "source": [
    "data_train_fin.columns.str.contains(pat='rougher.input|rougher.state')\n",
    "\n",
    "df.columns[df.columns.str.contains(pat='ДО|ПОСЛЕ 3 мес')]\n",
    "df.filter(like='ДО', axis=1)\n",
    "df.filter(regex='ДО|ПОСЛЕ 3 мес', axis=1)"
   ]
  },
  {
   "cell_type": "code",
   "execution_count": 1099,
   "metadata": {
    "scrolled": true
   },
   "outputs": [
    {
     "name": "stdout",
     "output_type": "stream",
     "text": [
      "[-7.25803366 -7.1507791  -7.44272461 -7.38081629 -7.5377901 ]\n",
      "Симметричный средний процент отклонения (MAPE – Mean Absolute Percent Error): -7.35\n"
     ]
    }
   ],
   "source": [
    "model = linear_regression(TRAIN[second_model_cols + second_model_target], 'final.output.recovery')"
   ]
  },
  {
   "cell_type": "markdown",
   "metadata": {},
   "source": [
    "Симметричный средний процент отклонения (MAPE – Mean Absolute Percent Error): 7.35"
   ]
  },
  {
   "cell_type": "markdown",
   "metadata": {},
   "source": [
    "Посмотрим что с деревьями решений"
   ]
  },
  {
   "cell_type": "code",
   "execution_count": 1100,
   "metadata": {
    "scrolled": false
   },
   "outputs": [
    {
     "name": "stdout",
     "output_type": "stream",
     "text": [
      "best_score: 5.502804349100944, n_estimators: 20, max_depth: 20\n",
      "best_score: 5.498478765519477, n_estimators: 20, max_depth: 24\n",
      "best_score: 5.4778865767881895, n_estimators: 20, max_depth: 28\n",
      "best_score: 5.471120346015299, n_estimators: 20, max_depth: 32\n",
      "best_score: 5.455745363109522, n_estimators: 23, max_depth: 24\n",
      "best_score: 5.400701309167819, n_estimators: 23, max_depth: 32\n",
      "best_score: 5.395971311902455, n_estimators: 26, max_depth: 32\n",
      "best_score: 5.379581128879087, n_estimators: 29, max_depth: 24\n",
      "best_score: 5.373939499660403, n_estimators: 32, max_depth: 36\n",
      "best n_estimators: 32, best max_depth: 36\n",
      "Симметричный средний процент отклонения (MAPE – Mean Absolute Percent Error): 5.37\n",
      "CPU times: user 9min 44s, sys: 268 ms, total: 9min 44s\n",
      "Wall time: 9min 48s\n"
     ]
    }
   ],
   "source": [
    "%%time\n",
    "\n",
    "second_model = random_forest_regression(TRAIN[second_model_cols + second_model_target], 'final.output.recovery')"
   ]
  },
  {
   "cell_type": "markdown",
   "metadata": {},
   "source": [
    "- best n_estimators: 32, best max_depth: 36\n",
    "- Симметричный средний процент отклонения (MAPE – Mean Absolute Percent Error): 5.37\n",
    "- CPU times: user 9min 44s, sys: 268 ms, total: 9min 44s\n",
    "- Wall time: 9min 48s"
   ]
  },
  {
   "cell_type": "markdown",
   "metadata": {},
   "source": [
    "#### Проверка моделей на тестовой выборке"
   ]
  },
  {
   "cell_type": "markdown",
   "metadata": {},
   "source": [
    "Добавим таргет для проверки"
   ]
  },
  {
   "cell_type": "code",
   "execution_count": 1101,
   "metadata": {},
   "outputs": [],
   "source": [
    "TEST = pd.merge(TEST, FULL[first_model_target + ['date']], how='inner', on='date')\n",
    "TEST = pd.merge(TEST, FULL[second_model_target + ['date']], how='inner', on='date')"
   ]
  },
  {
   "cell_type": "code",
   "execution_count": 1102,
   "metadata": {},
   "outputs": [
    {
     "data": {
      "text/plain": [
       "(5229, 55)"
      ]
     },
     "execution_count": 1102,
     "metadata": {},
     "output_type": "execute_result"
    }
   ],
   "source": [
    "TEST.shape"
   ]
  },
  {
   "cell_type": "raw",
   "metadata": {},
   "source": [
    "df_train_1 = pd.read_csv('/datasets/gold_recovery_train.csv', index_col='date', parse_dates=True)\n",
    "df_test_1 = pd.read_csv('/datasets/gold_recovery_test.csv', index_col='date', parse_dates=True)\n",
    "df_full_1 = pd.read_csv('/datasets/gold_recovery_full.csv', index_col='date', parse_dates=True)\n",
    "\n",
    "df_train_1 = df_train_1.fillna(method='ffill') # ИЛИ лучше как у тебя - удалить пропуски\n",
    "df_test_1 = df_test_1.fillna(method='ffill')\n",
    "\n",
    "features_1 = df_test_1.columns\n",
    "targets_1 = ['rougher.output.recovery', 'final.output.recovery']\n",
    "\n",
    "# ВОТ ТУТ ОТБОР ВЫБОРОК\n",
    "\n",
    "features_train_1 = df_train_1[features_1].reset_index(drop=True)\n",
    "target_train_1 = df_train_1[targets_1].reset_index(drop=True)\n",
    "features_test_1 = df_test_1[features_1].reset_index(drop=True)\n",
    "target_test_1 = df_full_1[targets_1].loc[df_test_1.index].reset_index(drop=True)"
   ]
  },
  {
   "cell_type": "code",
   "execution_count": 1103,
   "metadata": {
    "scrolled": true
   },
   "outputs": [],
   "source": [
    "# применим обученную первую модель на тестовых данных\n",
    "predictions = first_model.predict(TEST[first_model_cols])\n",
    "predictions = pd.Series(predictions)\n",
    "\n",
    "count_smape_1 = smape(predictions, TEST[first_model_target].squeeze())"
   ]
  },
  {
   "cell_type": "code",
   "execution_count": 1104,
   "metadata": {
    "scrolled": true
   },
   "outputs": [
    {
     "data": {
      "text/plain": [
       "8.060744070097288"
      ]
     },
     "execution_count": 1104,
     "metadata": {},
     "output_type": "execute_result"
    }
   ],
   "source": [
    "count_smape_1"
   ]
  },
  {
   "cell_type": "code",
   "execution_count": 1105,
   "metadata": {},
   "outputs": [],
   "source": [
    "# применим обученную вторую модель на тестовых данных\n",
    "predictions = second_model.predict(TEST[second_model_cols])\n",
    "predictions = pd.Series(predictions)\n",
    "\n",
    "count_smape_2 = smape(predictions, TEST[second_model_target].squeeze())"
   ]
  },
  {
   "cell_type": "code",
   "execution_count": 1106,
   "metadata": {},
   "outputs": [
    {
     "data": {
      "text/plain": [
       "12.91826298777175"
      ]
     },
     "execution_count": 1106,
     "metadata": {},
     "output_type": "execute_result"
    }
   ],
   "source": [
    "count_smape_2"
   ]
  },
  {
   "cell_type": "code",
   "execution_count": 1107,
   "metadata": {
    "scrolled": true
   },
   "outputs": [
    {
     "data": {
      "text/plain": [
       "11.7"
      ]
     },
     "execution_count": 1107,
     "metadata": {},
     "output_type": "execute_result"
    }
   ],
   "source": [
    "round(final_smape(count_smape_1, count_smape_2), 2)"
   ]
  },
  {
   "cell_type": "markdown",
   "metadata": {},
   "source": [
    "Вывод:\n",
    "- Загружены датасеты, у нас на входе 3 датасета, для обучения, для теста и общий, везде есть пропуски\n",
    "- Заполнили пропуски с помощью KNN, дозаполнили пропуски в дальнейшем из общего датасета\n",
    "- Там, где были аномалии, убрали их\n",
    "- Исследовали изменение таргета на тесте и трейне, посмотрели график\n",
    "- Обучили по 2 модели для 2-х таргетов, линейную регрессию и случайный лес, вторая модель показала себя лучше\n",
    "- Выполнили подсчет итоговой метрики smape которая включается себя 1/4 от smape первой модели и 3/4 от smape второй модели - итог 10.93, то есть в среднем отклонение показателя регрессии наших таргетов на 10.93%"
   ]
  },
  {
   "cell_type": "markdown",
   "metadata": {},
   "source": [
    "dummy_regressor_rougher = DummyRegressor(strategy=\"median\")\n",
    "dummy_regressor_rougher.fit(X_train, y_train_rougher)\n",
    "dummy_rougher_pred = dummy_regressor_rougher.predict(X_test)\n",
    "smape_dummy_rougher = smape(y_test_rougher, dummy_rougher_pred)\n",
    "print(smape_dummy_rougher) \n",
    "\n",
    "И ДАЛЕЕ: ДЛЯ FINAL И ИТОГОВЫЙ"
   ]
  },
  {
   "cell_type": "markdown",
   "metadata": {},
   "source": [
    "Что бы понять как обстоят наши дела по качеству модели для примера можно построить наивную модель и сравнить ее показатели с нашими:"
   ]
  },
  {
   "cell_type": "code",
   "execution_count": 1108,
   "metadata": {
    "scrolled": true
   },
   "outputs": [
    {
     "name": "stdout",
     "output_type": "stream",
     "text": [
      "8.630353266610106\n"
     ]
    }
   ],
   "source": [
    "# первая модель\n",
    "dummy_regressor_rougher = DummyRegressor(strategy=\"median\")\n",
    "dummy_regressor_rougher.fit(TRAIN[first_model_cols], TRAIN['rougher.output.recovery'])\n",
    "dummy_rougher_pred = dummy_regressor_rougher.predict(TEST[first_model_cols])\n",
    "smape_dummy_rougher = smape(dummy_rougher_pred, TEST[first_model_target].squeeze())\n",
    "print(smape_dummy_rougher)"
   ]
  },
  {
   "cell_type": "code",
   "execution_count": 1109,
   "metadata": {},
   "outputs": [
    {
     "name": "stdout",
     "output_type": "stream",
     "text": [
      "9.277942843454495\n"
     ]
    }
   ],
   "source": [
    "# вторая модель\n",
    "dummy_regressor_final = DummyRegressor(strategy=\"median\")\n",
    "dummy_regressor_final.fit(TRAIN[second_model_cols + second_model_target], TRAIN['final.output.recovery'])\n",
    "dummy_final_pred = dummy_regressor_final.predict(TEST[second_model_cols])\n",
    "smape_dummy_final = smape(dummy_final_pred, TEST[second_model_target].squeeze())\n",
    "print(smape_dummy_final)"
   ]
  },
  {
   "cell_type": "code",
   "execution_count": 1110,
   "metadata": {
    "pycharm": {
     "name": "#%%\n"
    }
   },
   "outputs": [
    {
     "data": {
      "text/plain": [
       "9.12"
      ]
     },
     "execution_count": 1110,
     "metadata": {},
     "output_type": "execute_result"
    }
   ],
   "source": [
    "round(final_smape(smape_dummy_rougher, smape_dummy_final), 2)"
   ]
  }
 ],
 "metadata": {
  "ExecuteTimeLog": [
   {
    "duration": 1208,
    "start_time": "2022-01-26T08:07:29.258Z"
   },
   {
    "duration": 926,
    "start_time": "2022-01-26T08:08:40.990Z"
   },
   {
    "duration": 41,
    "start_time": "2022-01-26T08:09:26.062Z"
   },
   {
    "duration": 441,
    "start_time": "2022-01-26T08:09:57.200Z"
   },
   {
    "duration": 6,
    "start_time": "2022-01-26T08:10:05.233Z"
   },
   {
    "duration": 30,
    "start_time": "2022-01-26T08:12:32.882Z"
   },
   {
    "duration": 5,
    "start_time": "2022-01-26T08:12:44.217Z"
   },
   {
    "duration": 5,
    "start_time": "2022-01-26T08:12:52.186Z"
   },
   {
    "duration": 374,
    "start_time": "2022-01-26T08:13:21.007Z"
   },
   {
    "duration": 334,
    "start_time": "2022-01-26T08:13:36.835Z"
   },
   {
    "duration": 26,
    "start_time": "2022-01-26T08:18:42.341Z"
   },
   {
    "duration": 46,
    "start_time": "2022-01-26T08:19:51.948Z"
   },
   {
    "duration": 9,
    "start_time": "2022-01-26T08:24:10.038Z"
   },
   {
    "duration": 8,
    "start_time": "2022-01-26T08:34:13.507Z"
   },
   {
    "duration": 16,
    "start_time": "2022-01-26T08:48:34.412Z"
   },
   {
    "duration": 7,
    "start_time": "2022-01-26T08:48:42.179Z"
   },
   {
    "duration": 601,
    "start_time": "2022-01-26T08:50:26.168Z"
   },
   {
    "duration": 7,
    "start_time": "2022-01-26T08:51:06.472Z"
   },
   {
    "duration": 40,
    "start_time": "2022-01-26T08:57:38.525Z"
   },
   {
    "duration": 17,
    "start_time": "2022-01-26T08:57:42.781Z"
   },
   {
    "duration": 11,
    "start_time": "2022-01-26T08:57:56.403Z"
   },
   {
    "duration": 13,
    "start_time": "2022-01-26T08:58:18.188Z"
   },
   {
    "duration": 3,
    "start_time": "2022-01-26T10:01:57.881Z"
   },
   {
    "duration": 5112,
    "start_time": "2022-01-26T10:05:28.509Z"
   },
   {
    "duration": 203,
    "start_time": "2022-01-26T10:06:13.794Z"
   },
   {
    "duration": 1411,
    "start_time": "2022-01-26T10:07:58.309Z"
   },
   {
    "duration": 43,
    "start_time": "2022-01-26T10:09:06.704Z"
   },
   {
    "duration": 962,
    "start_time": "2022-01-26T10:10:29.673Z"
   },
   {
    "duration": 11774,
    "start_time": "2022-01-26T10:10:50.830Z"
   },
   {
    "duration": 936,
    "start_time": "2022-01-26T10:11:02.607Z"
   },
   {
    "duration": 444,
    "start_time": "2022-01-26T10:11:23.785Z"
   },
   {
    "duration": 4,
    "start_time": "2022-01-26T10:11:27.472Z"
   },
   {
    "duration": 1324,
    "start_time": "2022-01-26T10:12:44.373Z"
   },
   {
    "duration": 361,
    "start_time": "2022-01-26T10:13:13.774Z"
   },
   {
    "duration": 3581,
    "start_time": "2022-01-26T10:14:57.509Z"
   },
   {
    "duration": 4123,
    "start_time": "2022-01-26T10:15:01.093Z"
   },
   {
    "duration": 1597,
    "start_time": "2022-01-26T10:15:05.219Z"
   },
   {
    "duration": 887,
    "start_time": "2022-01-26T10:15:06.818Z"
   },
   {
    "duration": 34,
    "start_time": "2022-01-26T10:15:07.707Z"
   },
   {
    "duration": 30,
    "start_time": "2022-01-26T10:15:07.743Z"
   },
   {
    "duration": 6,
    "start_time": "2022-01-26T10:15:07.776Z"
   },
   {
    "duration": 25,
    "start_time": "2022-01-26T10:15:07.786Z"
   },
   {
    "duration": 12,
    "start_time": "2022-01-26T10:15:07.813Z"
   },
   {
    "duration": 38,
    "start_time": "2022-01-26T10:15:07.827Z"
   },
   {
    "duration": 1308,
    "start_time": "2022-01-26T10:15:07.868Z"
   },
   {
    "duration": 572,
    "start_time": "2022-01-26T10:15:09.178Z"
   },
   {
    "duration": 78,
    "start_time": "2022-01-26T10:15:09.675Z"
   },
   {
    "duration": 2018,
    "start_time": "2022-01-26T11:24:53.751Z"
   },
   {
    "duration": 13,
    "start_time": "2022-01-26T11:25:19.419Z"
   },
   {
    "duration": 14,
    "start_time": "2022-01-26T11:25:27.242Z"
   },
   {
    "duration": 13,
    "start_time": "2022-01-26T11:25:48.586Z"
   },
   {
    "duration": 10,
    "start_time": "2022-01-26T11:26:22.846Z"
   },
   {
    "duration": 1383,
    "start_time": "2022-01-26T11:27:15.707Z"
   },
   {
    "duration": 233,
    "start_time": "2022-01-26T11:28:11.081Z"
   },
   {
    "duration": 1271,
    "start_time": "2022-01-26T11:28:21.080Z"
   },
   {
    "duration": 114,
    "start_time": "2022-01-26T11:28:35.964Z"
   },
   {
    "duration": 4,
    "start_time": "2022-01-26T11:29:36.756Z"
   },
   {
    "duration": 46,
    "start_time": "2022-01-26T13:41:07.452Z"
   },
   {
    "duration": 7,
    "start_time": "2022-01-26T13:41:21.154Z"
   },
   {
    "duration": 354,
    "start_time": "2022-01-26T13:44:44.430Z"
   },
   {
    "duration": 6,
    "start_time": "2022-01-26T13:44:47.380Z"
   },
   {
    "duration": 6,
    "start_time": "2022-01-26T13:44:52.146Z"
   },
   {
    "duration": 7,
    "start_time": "2022-01-26T13:45:03.497Z"
   },
   {
    "duration": 6,
    "start_time": "2022-01-26T13:45:11.261Z"
   },
   {
    "duration": 7,
    "start_time": "2022-01-26T13:45:41.619Z"
   },
   {
    "duration": 13,
    "start_time": "2022-01-26T13:49:09.713Z"
   },
   {
    "duration": 18,
    "start_time": "2022-01-26T13:50:20.720Z"
   },
   {
    "duration": 19,
    "start_time": "2022-01-26T13:51:00.507Z"
   },
   {
    "duration": 28,
    "start_time": "2022-01-26T13:54:26.545Z"
   },
   {
    "duration": 7,
    "start_time": "2022-01-26T13:59:00.359Z"
   },
   {
    "duration": 27,
    "start_time": "2022-01-26T13:59:34.331Z"
   },
   {
    "duration": 29,
    "start_time": "2022-01-26T14:10:27.633Z"
   },
   {
    "duration": 28,
    "start_time": "2022-01-26T14:10:44.958Z"
   },
   {
    "duration": 4,
    "start_time": "2022-01-26T14:25:09.028Z"
   },
   {
    "duration": 355,
    "start_time": "2022-01-26T14:25:57.772Z"
   },
   {
    "duration": 287,
    "start_time": "2022-01-26T14:26:11.777Z"
   },
   {
    "duration": 305,
    "start_time": "2022-01-26T14:26:33.219Z"
   },
   {
    "duration": 4,
    "start_time": "2022-01-26T14:27:42.369Z"
   },
   {
    "duration": 4,
    "start_time": "2022-01-26T14:27:47.448Z"
   },
   {
    "duration": 906,
    "start_time": "2022-01-26T14:27:59.225Z"
   },
   {
    "duration": 324,
    "start_time": "2022-01-26T14:29:44.251Z"
   },
   {
    "duration": 315,
    "start_time": "2022-01-26T14:30:06.846Z"
   },
   {
    "duration": 336,
    "start_time": "2022-01-26T14:30:10.679Z"
   },
   {
    "duration": 581,
    "start_time": "2022-01-26T14:30:37.658Z"
   },
   {
    "duration": 564,
    "start_time": "2022-01-26T14:30:57.205Z"
   },
   {
    "duration": 601,
    "start_time": "2022-01-26T14:31:15.174Z"
   },
   {
    "duration": 680,
    "start_time": "2022-01-26T14:31:43.883Z"
   },
   {
    "duration": 486,
    "start_time": "2022-01-26T14:33:05.610Z"
   },
   {
    "duration": 454,
    "start_time": "2022-01-26T14:33:09.569Z"
   },
   {
    "duration": 115,
    "start_time": "2022-01-26T14:34:06.383Z"
   },
   {
    "duration": 449,
    "start_time": "2022-01-26T14:34:14.396Z"
   },
   {
    "duration": 453,
    "start_time": "2022-01-26T14:34:14.847Z"
   },
   {
    "duration": 124,
    "start_time": "2022-01-26T14:34:36.633Z"
   },
   {
    "duration": 9,
    "start_time": "2022-01-26T18:43:26.422Z"
   },
   {
    "duration": 5,
    "start_time": "2022-01-26T18:43:47.579Z"
   },
   {
    "duration": 39,
    "start_time": "2022-01-26T18:44:55.389Z"
   },
   {
    "duration": 41,
    "start_time": "2022-01-26T18:48:39.957Z"
   },
   {
    "duration": 7,
    "start_time": "2022-01-26T18:48:46.033Z"
   },
   {
    "duration": 10,
    "start_time": "2022-01-26T18:52:24.507Z"
   },
   {
    "duration": 14,
    "start_time": "2022-01-26T18:54:29.430Z"
   },
   {
    "duration": 383,
    "start_time": "2022-01-26T18:54:53.286Z"
   },
   {
    "duration": 15,
    "start_time": "2022-01-26T18:55:01.191Z"
   },
   {
    "duration": 17,
    "start_time": "2022-01-26T18:55:12.937Z"
   },
   {
    "duration": 21,
    "start_time": "2022-01-26T18:55:27.713Z"
   },
   {
    "duration": 138,
    "start_time": "2022-01-26T18:56:44.234Z"
   },
   {
    "duration": 6,
    "start_time": "2022-01-26T18:57:14.742Z"
   },
   {
    "duration": 20,
    "start_time": "2022-01-26T18:57:36.622Z"
   },
   {
    "duration": 4,
    "start_time": "2022-01-26T18:59:45.070Z"
   },
   {
    "duration": 5,
    "start_time": "2022-01-26T18:59:59.896Z"
   },
   {
    "duration": 115,
    "start_time": "2022-01-26T19:00:18.293Z"
   },
   {
    "duration": 21,
    "start_time": "2022-01-26T19:05:23.100Z"
   },
   {
    "duration": 21,
    "start_time": "2022-01-26T19:05:24.295Z"
   },
   {
    "duration": 19,
    "start_time": "2022-01-26T19:05:50.952Z"
   },
   {
    "duration": 11,
    "start_time": "2022-01-26T19:06:25.284Z"
   },
   {
    "duration": 11,
    "start_time": "2022-01-26T19:06:31.816Z"
   },
   {
    "duration": 11,
    "start_time": "2022-01-26T19:06:39.544Z"
   },
   {
    "duration": 4539,
    "start_time": "2022-01-28T16:13:19.713Z"
   },
   {
    "duration": 3299,
    "start_time": "2022-01-28T16:13:54.947Z"
   },
   {
    "duration": 3803,
    "start_time": "2022-01-28T16:13:58.249Z"
   },
   {
    "duration": 4,
    "start_time": "2022-01-28T16:14:02.055Z"
   },
   {
    "duration": 978,
    "start_time": "2022-01-28T16:14:02.062Z"
   },
   {
    "duration": 45,
    "start_time": "2022-01-28T16:14:03.043Z"
   },
   {
    "duration": 5,
    "start_time": "2022-01-28T16:14:03.090Z"
   },
   {
    "duration": 13,
    "start_time": "2022-01-28T16:14:03.097Z"
   },
   {
    "duration": 16,
    "start_time": "2022-01-28T16:14:03.113Z"
   },
   {
    "duration": 37,
    "start_time": "2022-01-28T16:14:03.132Z"
   },
   {
    "duration": 9,
    "start_time": "2022-01-28T16:14:03.171Z"
   },
   {
    "duration": 1406,
    "start_time": "2022-01-28T16:14:03.182Z"
   },
   {
    "duration": 2032,
    "start_time": "2022-01-28T16:14:04.590Z"
   },
   {
    "duration": 1329,
    "start_time": "2022-01-28T16:14:06.625Z"
   },
   {
    "duration": 255,
    "start_time": "2022-01-28T16:14:07.956Z"
   },
   {
    "duration": 1375,
    "start_time": "2022-01-28T16:14:08.214Z"
   },
   {
    "duration": 28,
    "start_time": "2022-01-28T16:14:09.592Z"
   },
   {
    "duration": 1217,
    "start_time": "2022-01-28T16:14:09.623Z"
   },
   {
    "duration": 835,
    "start_time": "2022-01-28T16:14:10.843Z"
   },
   {
    "duration": 668,
    "start_time": "2022-01-28T16:14:11.680Z"
   },
   {
    "duration": 702,
    "start_time": "2022-01-28T16:14:12.351Z"
   },
   {
    "duration": 475,
    "start_time": "2022-01-28T16:14:13.055Z"
   },
   {
    "duration": 473,
    "start_time": "2022-01-28T16:14:13.532Z"
   },
   {
    "duration": 5,
    "start_time": "2022-01-28T16:14:14.009Z"
   },
   {
    "duration": 11,
    "start_time": "2022-01-28T16:14:14.016Z"
   },
   {
    "duration": 40,
    "start_time": "2022-01-28T16:14:14.030Z"
   },
   {
    "duration": 9,
    "start_time": "2022-01-28T16:14:14.073Z"
   },
   {
    "duration": 4,
    "start_time": "2022-01-28T16:21:30.321Z"
   },
   {
    "duration": 4,
    "start_time": "2022-01-28T16:26:09.573Z"
   },
   {
    "duration": 4,
    "start_time": "2022-01-28T16:27:15.085Z"
   },
   {
    "duration": 40,
    "start_time": "2022-01-28T16:28:26.430Z"
   },
   {
    "duration": 365,
    "start_time": "2022-01-28T16:28:36.669Z"
   },
   {
    "duration": 23,
    "start_time": "2022-01-28T16:28:42.021Z"
   },
   {
    "duration": 15,
    "start_time": "2022-01-28T16:28:56.412Z"
   },
   {
    "duration": 26,
    "start_time": "2022-01-28T16:29:01.722Z"
   },
   {
    "duration": 13,
    "start_time": "2022-01-28T16:30:22.338Z"
   },
   {
    "duration": 18,
    "start_time": "2022-01-28T16:30:26.753Z"
   },
   {
    "duration": 1276,
    "start_time": "2022-01-28T16:31:39.550Z"
   },
   {
    "duration": 13,
    "start_time": "2022-01-28T16:32:53.106Z"
   },
   {
    "duration": 20,
    "start_time": "2022-01-28T16:33:04.425Z"
   },
   {
    "duration": 849,
    "start_time": "2022-01-28T16:35:40.788Z"
   },
   {
    "duration": 506,
    "start_time": "2022-01-28T16:36:11.802Z"
   },
   {
    "duration": 40,
    "start_time": "2022-01-28T16:36:34.953Z"
   },
   {
    "duration": 2758,
    "start_time": "2022-01-28T16:43:03.567Z"
   },
   {
    "duration": 2844,
    "start_time": "2022-01-28T16:43:16.329Z"
   },
   {
    "duration": 2476,
    "start_time": "2022-01-28T16:43:24.502Z"
   },
   {
    "duration": 2958,
    "start_time": "2022-01-28T16:43:58.030Z"
   },
   {
    "duration": 14,
    "start_time": "2022-01-28T16:44:01.878Z"
   },
   {
    "duration": 8,
    "start_time": "2022-01-28T16:44:16.411Z"
   },
   {
    "duration": 356,
    "start_time": "2022-01-28T16:44:30.222Z"
   },
   {
    "duration": 19,
    "start_time": "2022-01-28T16:44:35.333Z"
   },
   {
    "duration": 11,
    "start_time": "2022-01-28T16:44:50.368Z"
   },
   {
    "duration": 23,
    "start_time": "2022-01-28T16:44:50.966Z"
   },
   {
    "duration": 10,
    "start_time": "2022-01-28T16:45:13.456Z"
   },
   {
    "duration": 20,
    "start_time": "2022-01-28T16:45:17.736Z"
   },
   {
    "duration": 15,
    "start_time": "2022-01-28T16:45:39.464Z"
   },
   {
    "duration": 435,
    "start_time": "2022-01-28T16:45:45.157Z"
   },
   {
    "duration": 6,
    "start_time": "2022-01-28T16:46:33.545Z"
   },
   {
    "duration": 7,
    "start_time": "2022-01-28T16:46:39.424Z"
   },
   {
    "duration": 11,
    "start_time": "2022-01-28T16:47:27.415Z"
   },
   {
    "duration": 8,
    "start_time": "2022-01-28T16:47:41.341Z"
   },
   {
    "duration": 892,
    "start_time": "2022-01-28T16:47:43.016Z"
   },
   {
    "duration": 247,
    "start_time": "2022-01-28T16:48:02.393Z"
   },
   {
    "duration": 3,
    "start_time": "2022-01-28T16:49:17.211Z"
   },
   {
    "duration": 1300,
    "start_time": "2022-01-28T16:49:18.077Z"
   },
   {
    "duration": 3180,
    "start_time": "2022-01-28T16:49:22.811Z"
   },
   {
    "duration": 3682,
    "start_time": "2022-01-28T16:49:25.995Z"
   },
   {
    "duration": 6,
    "start_time": "2022-01-28T16:49:29.682Z"
   },
   {
    "duration": 863,
    "start_time": "2022-01-28T16:49:29.691Z"
   },
   {
    "duration": 35,
    "start_time": "2022-01-28T16:49:30.557Z"
   },
   {
    "duration": 6,
    "start_time": "2022-01-28T16:49:30.594Z"
   },
   {
    "duration": 12,
    "start_time": "2022-01-28T16:49:30.602Z"
   },
   {
    "duration": 30,
    "start_time": "2022-01-28T16:49:30.616Z"
   },
   {
    "duration": 25,
    "start_time": "2022-01-28T16:49:30.649Z"
   },
   {
    "duration": 18,
    "start_time": "2022-01-28T16:49:30.677Z"
   },
   {
    "duration": 4,
    "start_time": "2022-01-28T16:49:37.157Z"
   },
   {
    "duration": 1392,
    "start_time": "2022-01-28T16:49:37.549Z"
   },
   {
    "duration": 862,
    "start_time": "2022-01-28T16:50:01.177Z"
   },
   {
    "duration": 1312,
    "start_time": "2022-01-28T16:50:27.314Z"
   },
   {
    "duration": 13,
    "start_time": "2022-01-28T16:53:03.698Z"
   },
   {
    "duration": 1039,
    "start_time": "2022-01-28T16:53:20.225Z"
   },
   {
    "duration": 3,
    "start_time": "2022-01-28T16:54:09.160Z"
   },
   {
    "duration": 250,
    "start_time": "2022-01-28T16:54:42.850Z"
   },
   {
    "duration": 14,
    "start_time": "2022-01-28T16:54:46.640Z"
   },
   {
    "duration": 3346,
    "start_time": "2022-01-28T16:54:54.155Z"
   },
   {
    "duration": 3834,
    "start_time": "2022-01-28T16:54:57.504Z"
   },
   {
    "duration": 5,
    "start_time": "2022-01-28T16:55:01.342Z"
   },
   {
    "duration": 823,
    "start_time": "2022-01-28T16:55:01.350Z"
   },
   {
    "duration": 35,
    "start_time": "2022-01-28T16:55:02.175Z"
   },
   {
    "duration": 8,
    "start_time": "2022-01-28T16:55:02.212Z"
   },
   {
    "duration": 16,
    "start_time": "2022-01-28T16:55:02.222Z"
   },
   {
    "duration": 35,
    "start_time": "2022-01-28T16:55:02.240Z"
   },
   {
    "duration": 7,
    "start_time": "2022-01-28T16:55:02.278Z"
   },
   {
    "duration": 11,
    "start_time": "2022-01-28T16:55:02.288Z"
   },
   {
    "duration": 3,
    "start_time": "2022-01-28T16:55:02.301Z"
   },
   {
    "duration": 949,
    "start_time": "2022-01-28T16:55:02.306Z"
   },
   {
    "duration": 1149,
    "start_time": "2022-01-28T16:55:03.258Z"
   },
   {
    "duration": 15,
    "start_time": "2022-01-28T16:55:08.499Z"
   },
   {
    "duration": 15,
    "start_time": "2022-01-28T16:55:31.340Z"
   },
   {
    "duration": 15,
    "start_time": "2022-01-28T16:55:53.136Z"
   },
   {
    "duration": 11,
    "start_time": "2022-01-28T16:55:55.728Z"
   },
   {
    "duration": 77,
    "start_time": "2022-01-28T16:56:26.372Z"
   },
   {
    "duration": 364,
    "start_time": "2022-01-28T17:01:14.004Z"
   },
   {
    "duration": 20,
    "start_time": "2022-01-28T17:01:21.837Z"
   },
   {
    "duration": 495,
    "start_time": "2022-01-28T17:01:22.482Z"
   },
   {
    "duration": 272,
    "start_time": "2022-01-28T17:02:09.458Z"
   },
   {
    "duration": 23044,
    "start_time": "2022-01-29T12:19:10.844Z"
   },
   {
    "duration": 1672,
    "start_time": "2022-01-29T12:20:14.492Z"
   },
   {
    "duration": -84,
    "start_time": "2022-01-29T12:20:16.250Z"
   },
   {
    "duration": -85,
    "start_time": "2022-01-29T12:20:16.252Z"
   },
   {
    "duration": -86,
    "start_time": "2022-01-29T12:20:16.254Z"
   },
   {
    "duration": -87,
    "start_time": "2022-01-29T12:20:16.256Z"
   },
   {
    "duration": -87,
    "start_time": "2022-01-29T12:20:16.257Z"
   },
   {
    "duration": 458,
    "start_time": "2022-01-29T12:20:17.106Z"
   },
   {
    "duration": 279,
    "start_time": "2022-01-29T12:20:22.456Z"
   },
   {
    "duration": 3,
    "start_time": "2022-01-29T12:20:36.213Z"
   },
   {
    "duration": 2,
    "start_time": "2022-01-29T12:20:36.501Z"
   },
   {
    "duration": 299,
    "start_time": "2022-01-29T12:20:37.086Z"
   },
   {
    "duration": 3,
    "start_time": "2022-01-29T13:13:54.913Z"
   },
   {
    "duration": 2,
    "start_time": "2022-01-29T13:13:55.165Z"
   },
   {
    "duration": 1313,
    "start_time": "2022-01-29T13:13:55.388Z"
   },
   {
    "duration": 2,
    "start_time": "2022-01-29T13:26:14.866Z"
   },
   {
    "duration": 6,
    "start_time": "2022-01-29T13:26:14.870Z"
   },
   {
    "duration": 6,
    "start_time": "2022-01-29T13:26:14.878Z"
   },
   {
    "duration": 773,
    "start_time": "2022-01-29T13:26:14.886Z"
   },
   {
    "duration": 24,
    "start_time": "2022-01-29T13:26:15.661Z"
   },
   {
    "duration": 13,
    "start_time": "2022-01-29T13:26:15.687Z"
   },
   {
    "duration": 6,
    "start_time": "2022-01-29T13:26:15.703Z"
   },
   {
    "duration": 11,
    "start_time": "2022-01-29T13:26:15.711Z"
   },
   {
    "duration": 4,
    "start_time": "2022-01-29T13:26:15.724Z"
   },
   {
    "duration": 7,
    "start_time": "2022-01-29T13:26:15.730Z"
   },
   {
    "duration": 2,
    "start_time": "2022-01-29T13:26:15.738Z"
   },
   {
    "duration": 706,
    "start_time": "2022-01-29T13:26:15.742Z"
   },
   {
    "duration": 853,
    "start_time": "2022-01-29T13:26:16.450Z"
   },
   {
    "duration": 10,
    "start_time": "2022-01-29T13:26:17.305Z"
   },
   {
    "duration": 9,
    "start_time": "2022-01-29T13:26:17.316Z"
   },
   {
    "duration": 20,
    "start_time": "2022-01-29T13:26:17.327Z"
   },
   {
    "duration": 552,
    "start_time": "2022-01-29T13:26:17.348Z"
   },
   {
    "duration": -21,
    "start_time": "2022-01-29T13:26:17.923Z"
   },
   {
    "duration": -22,
    "start_time": "2022-01-29T13:26:17.925Z"
   },
   {
    "duration": -23,
    "start_time": "2022-01-29T13:26:17.927Z"
   },
   {
    "duration": -27,
    "start_time": "2022-01-29T13:26:17.932Z"
   },
   {
    "duration": -29,
    "start_time": "2022-01-29T13:26:17.934Z"
   },
   {
    "duration": 12,
    "start_time": "2022-01-29T13:26:40.739Z"
   },
   {
    "duration": 463,
    "start_time": "2022-01-29T13:26:41.785Z"
   },
   {
    "duration": 24,
    "start_time": "2022-01-29T13:27:02.058Z"
   },
   {
    "duration": 21,
    "start_time": "2022-01-29T13:27:07.729Z"
   },
   {
    "duration": 21,
    "start_time": "2022-01-29T13:27:14.945Z"
   },
   {
    "duration": 411,
    "start_time": "2022-01-29T13:27:18.127Z"
   },
   {
    "duration": 520,
    "start_time": "2022-01-29T13:27:18.750Z"
   },
   {
    "duration": 6,
    "start_time": "2022-01-29T13:27:34.728Z"
   },
   {
    "duration": 6,
    "start_time": "2022-01-29T13:27:42.640Z"
   },
   {
    "duration": 6,
    "start_time": "2022-01-29T13:28:16.278Z"
   },
   {
    "duration": 6,
    "start_time": "2022-01-29T13:28:20.330Z"
   },
   {
    "duration": 5,
    "start_time": "2022-01-29T13:28:28.046Z"
   },
   {
    "duration": 7,
    "start_time": "2022-01-29T13:34:58.588Z"
   },
   {
    "duration": 9,
    "start_time": "2022-01-29T13:35:09.911Z"
   },
   {
    "duration": 11,
    "start_time": "2022-01-29T13:35:17.679Z"
   },
   {
    "duration": 216,
    "start_time": "2022-01-29T16:51:37.959Z"
   },
   {
    "duration": 2,
    "start_time": "2022-01-29T16:51:40.983Z"
   },
   {
    "duration": 6,
    "start_time": "2022-01-29T16:51:40.987Z"
   },
   {
    "duration": 794,
    "start_time": "2022-01-29T16:51:40.995Z"
   },
   {
    "duration": -4,
    "start_time": "2022-01-29T16:51:41.795Z"
   },
   {
    "duration": -5,
    "start_time": "2022-01-29T16:51:41.797Z"
   },
   {
    "duration": -8,
    "start_time": "2022-01-29T16:51:41.801Z"
   },
   {
    "duration": -9,
    "start_time": "2022-01-29T16:51:41.803Z"
   },
   {
    "duration": -9,
    "start_time": "2022-01-29T16:51:41.804Z"
   },
   {
    "duration": -17,
    "start_time": "2022-01-29T16:51:41.813Z"
   },
   {
    "duration": 173,
    "start_time": "2022-01-29T16:51:43.821Z"
   },
   {
    "duration": 8057,
    "start_time": "2022-01-29T16:53:56.437Z"
   },
   {
    "duration": 105845,
    "start_time": "2022-01-29T16:54:04.497Z"
   },
   {
    "duration": 1173,
    "start_time": "2022-01-29T16:55:50.344Z"
   },
   {
    "duration": 707,
    "start_time": "2022-01-29T16:55:51.519Z"
   },
   {
    "duration": 22,
    "start_time": "2022-01-29T16:55:52.228Z"
   },
   {
    "duration": 4,
    "start_time": "2022-01-29T16:55:52.252Z"
   },
   {
    "duration": 5,
    "start_time": "2022-01-29T16:55:52.258Z"
   },
   {
    "duration": 9,
    "start_time": "2022-01-29T16:55:52.265Z"
   },
   {
    "duration": 5,
    "start_time": "2022-01-29T16:55:52.276Z"
   },
   {
    "duration": 1968,
    "start_time": "2022-01-29T16:56:14.137Z"
   },
   {
    "duration": 2036,
    "start_time": "2022-01-29T16:56:16.108Z"
   },
   {
    "duration": 3,
    "start_time": "2022-01-29T16:56:18.146Z"
   },
   {
    "duration": 2854,
    "start_time": "2022-01-29T16:56:18.151Z"
   },
   {
    "duration": 24,
    "start_time": "2022-01-29T16:56:21.007Z"
   },
   {
    "duration": 4,
    "start_time": "2022-01-29T16:56:21.034Z"
   },
   {
    "duration": 5,
    "start_time": "2022-01-29T16:56:21.040Z"
   },
   {
    "duration": 10,
    "start_time": "2022-01-29T16:56:21.046Z"
   },
   {
    "duration": 7,
    "start_time": "2022-01-29T16:56:21.059Z"
   },
   {
    "duration": 12,
    "start_time": "2022-01-29T16:56:58.117Z"
   },
   {
    "duration": 286,
    "start_time": "2022-01-29T16:57:28.241Z"
   },
   {
    "duration": 4,
    "start_time": "2022-01-29T16:57:30.990Z"
   },
   {
    "duration": 4,
    "start_time": "2022-01-29T16:57:42.530Z"
   },
   {
    "duration": 8,
    "start_time": "2022-01-29T16:58:23.786Z"
   },
   {
    "duration": 7,
    "start_time": "2022-01-29T16:58:27.768Z"
   },
   {
    "duration": 11,
    "start_time": "2022-01-29T16:58:56.668Z"
   },
   {
    "duration": 3,
    "start_time": "2022-01-29T16:59:22.258Z"
   },
   {
    "duration": 671,
    "start_time": "2022-01-29T16:59:23.612Z"
   },
   {
    "duration": 763,
    "start_time": "2022-01-29T16:59:26.645Z"
   },
   {
    "duration": 9,
    "start_time": "2022-01-29T16:59:35.242Z"
   },
   {
    "duration": 8,
    "start_time": "2022-01-29T16:59:37.737Z"
   },
   {
    "duration": 12,
    "start_time": "2022-01-29T17:02:41.530Z"
   },
   {
    "duration": 820,
    "start_time": "2022-01-29T17:03:21.269Z"
   },
   {
    "duration": 194,
    "start_time": "2022-01-29T17:05:53.758Z"
   },
   {
    "duration": 193,
    "start_time": "2022-01-29T17:05:57.896Z"
   },
   {
    "duration": 227,
    "start_time": "2022-01-29T17:06:01.560Z"
   },
   {
    "duration": 679,
    "start_time": "2022-01-29T17:06:10.945Z"
   },
   {
    "duration": 15,
    "start_time": "2022-01-29T17:06:19.433Z"
   },
   {
    "duration": 17,
    "start_time": "2022-01-29T17:06:41.002Z"
   },
   {
    "duration": 229,
    "start_time": "2022-01-29T17:06:43.637Z"
   },
   {
    "duration": 646,
    "start_time": "2022-01-29T17:07:11.868Z"
   },
   {
    "duration": 16,
    "start_time": "2022-01-29T17:07:14.335Z"
   },
   {
    "duration": 186,
    "start_time": "2022-01-29T17:07:16.734Z"
   },
   {
    "duration": 3,
    "start_time": "2022-01-29T17:07:30.100Z"
   },
   {
    "duration": 3,
    "start_time": "2022-01-29T17:07:32.934Z"
   },
   {
    "duration": 656,
    "start_time": "2022-01-29T17:07:56.426Z"
   },
   {
    "duration": 16,
    "start_time": "2022-01-29T17:07:58.248Z"
   },
   {
    "duration": 23,
    "start_time": "2022-01-29T17:07:58.577Z"
   },
   {
    "duration": 14,
    "start_time": "2022-01-29T17:08:05.769Z"
   },
   {
    "duration": 11882,
    "start_time": "2022-01-29T17:08:12.588Z"
   },
   {
    "duration": 607,
    "start_time": "2022-01-29T17:08:45.691Z"
   },
   {
    "duration": 17,
    "start_time": "2022-01-29T17:08:47.042Z"
   },
   {
    "duration": 11038,
    "start_time": "2022-01-29T17:08:47.414Z"
   },
   {
    "duration": 871,
    "start_time": "2022-01-29T17:09:03.198Z"
   },
   {
    "duration": 8,
    "start_time": "2022-01-29T17:10:27.632Z"
   },
   {
    "duration": 5,
    "start_time": "2022-01-29T17:10:27.817Z"
   },
   {
    "duration": 7,
    "start_time": "2022-01-29T17:10:45.902Z"
   },
   {
    "duration": 6,
    "start_time": "2022-01-29T17:10:46.175Z"
   },
   {
    "duration": 8,
    "start_time": "2022-01-29T17:10:49.190Z"
   },
   {
    "duration": 8,
    "start_time": "2022-01-29T17:10:51.820Z"
   },
   {
    "duration": 8,
    "start_time": "2022-01-29T17:10:56.481Z"
   },
   {
    "duration": 7,
    "start_time": "2022-01-29T17:11:01.635Z"
   },
   {
    "duration": 8,
    "start_time": "2022-01-29T17:11:07.372Z"
   },
   {
    "duration": 8,
    "start_time": "2022-01-29T17:11:10.412Z"
   },
   {
    "duration": 9,
    "start_time": "2022-01-29T17:11:23.136Z"
   },
   {
    "duration": 8,
    "start_time": "2022-01-29T17:11:31.153Z"
   },
   {
    "duration": 9,
    "start_time": "2022-01-29T17:11:36.011Z"
   },
   {
    "duration": 9,
    "start_time": "2022-01-29T17:11:39.024Z"
   },
   {
    "duration": 7,
    "start_time": "2022-01-29T17:11:46.290Z"
   },
   {
    "duration": 7,
    "start_time": "2022-01-29T17:11:48.924Z"
   },
   {
    "duration": 9,
    "start_time": "2022-01-29T17:14:26.944Z"
   },
   {
    "duration": 7,
    "start_time": "2022-01-29T17:14:29.664Z"
   },
   {
    "duration": 3,
    "start_time": "2022-01-29T17:17:02.941Z"
   },
   {
    "duration": 195,
    "start_time": "2022-01-29T17:18:49.659Z"
   },
   {
    "duration": 42,
    "start_time": "2022-01-29T17:18:55.104Z"
   },
   {
    "duration": 8,
    "start_time": "2022-01-29T17:19:05.106Z"
   },
   {
    "duration": 24,
    "start_time": "2022-01-29T17:19:17.521Z"
   },
   {
    "duration": 8,
    "start_time": "2022-01-29T17:19:19.081Z"
   },
   {
    "duration": 1964,
    "start_time": "2022-01-29T17:19:32.720Z"
   },
   {
    "duration": 1903,
    "start_time": "2022-01-29T17:19:34.686Z"
   },
   {
    "duration": 3,
    "start_time": "2022-01-29T17:19:36.591Z"
   },
   {
    "duration": 602,
    "start_time": "2022-01-29T17:19:36.596Z"
   },
   {
    "duration": 23,
    "start_time": "2022-01-29T17:19:37.200Z"
   },
   {
    "duration": 8,
    "start_time": "2022-01-29T17:19:37.225Z"
   },
   {
    "duration": 8,
    "start_time": "2022-01-29T17:19:37.234Z"
   },
   {
    "duration": 8,
    "start_time": "2022-01-29T17:19:37.244Z"
   },
   {
    "duration": 4,
    "start_time": "2022-01-29T17:19:37.255Z"
   },
   {
    "duration": 8,
    "start_time": "2022-01-29T17:19:37.261Z"
   },
   {
    "duration": 1,
    "start_time": "2022-01-29T17:19:37.271Z"
   },
   {
    "duration": 814,
    "start_time": "2022-01-29T17:19:37.274Z"
   },
   {
    "duration": 686,
    "start_time": "2022-01-29T17:19:38.089Z"
   },
   {
    "duration": 9,
    "start_time": "2022-01-29T17:19:38.777Z"
   },
   {
    "duration": 7,
    "start_time": "2022-01-29T17:19:38.787Z"
   },
   {
    "duration": 17,
    "start_time": "2022-01-29T17:19:38.795Z"
   },
   {
    "duration": 2,
    "start_time": "2022-01-29T17:19:38.814Z"
   },
   {
    "duration": 4,
    "start_time": "2022-01-29T17:19:38.817Z"
   },
   {
    "duration": 98,
    "start_time": "2022-01-29T17:19:38.823Z"
   },
   {
    "duration": 73,
    "start_time": "2022-01-29T17:20:02.126Z"
   },
   {
    "duration": 10,
    "start_time": "2022-01-29T17:20:02.545Z"
   },
   {
    "duration": 12,
    "start_time": "2022-01-29T17:21:28.288Z"
   },
   {
    "duration": 161,
    "start_time": "2022-01-29T17:21:43.003Z"
   },
   {
    "duration": 8,
    "start_time": "2022-01-29T17:21:43.434Z"
   },
   {
    "duration": 10,
    "start_time": "2022-01-29T17:21:52.015Z"
   },
   {
    "duration": 179,
    "start_time": "2022-01-29T17:22:10.949Z"
   },
   {
    "duration": 9,
    "start_time": "2022-01-29T17:22:11.364Z"
   },
   {
    "duration": 186,
    "start_time": "2022-01-29T17:23:57.452Z"
   },
   {
    "duration": 16,
    "start_time": "2022-01-29T17:24:00.716Z"
   },
   {
    "duration": 307,
    "start_time": "2022-01-29T17:24:40.346Z"
   },
   {
    "duration": 13,
    "start_time": "2022-01-29T17:24:42.413Z"
   },
   {
    "duration": 430,
    "start_time": "2022-01-29T17:24:52.518Z"
   },
   {
    "duration": 9,
    "start_time": "2022-01-29T17:24:52.950Z"
   },
   {
    "duration": 14,
    "start_time": "2022-01-29T17:25:04.912Z"
   },
   {
    "duration": 8,
    "start_time": "2022-01-29T17:25:11.622Z"
   },
   {
    "duration": 10,
    "start_time": "2022-01-29T17:25:36.548Z"
   },
   {
    "duration": 439,
    "start_time": "2022-01-29T17:27:46.360Z"
   },
   {
    "duration": 9,
    "start_time": "2022-01-29T17:27:47.282Z"
   },
   {
    "duration": 900,
    "start_time": "2022-01-29T17:27:55.937Z"
   },
   {
    "duration": 18,
    "start_time": "2022-01-29T17:28:52.783Z"
   },
   {
    "duration": 209,
    "start_time": "2022-01-29T17:29:10.068Z"
   },
   {
    "duration": 208,
    "start_time": "2022-01-29T17:29:26.817Z"
   },
   {
    "duration": 890,
    "start_time": "2022-01-29T17:29:34.989Z"
   },
   {
    "duration": 3,
    "start_time": "2022-01-29T17:30:51.798Z"
   },
   {
    "duration": 190,
    "start_time": "2022-01-29T17:31:17.803Z"
   },
   {
    "duration": 3,
    "start_time": "2022-01-29T17:31:29.471Z"
   },
   {
    "duration": 1021,
    "start_time": "2022-01-29T17:31:29.777Z"
   },
   {
    "duration": 1037,
    "start_time": "2022-01-29T17:31:47.092Z"
   },
   {
    "duration": 896,
    "start_time": "2022-01-29T17:31:57.695Z"
   },
   {
    "duration": 488,
    "start_time": "2022-01-29T17:32:21.885Z"
   },
   {
    "duration": 2,
    "start_time": "2022-01-29T17:33:07.384Z"
   },
   {
    "duration": 5,
    "start_time": "2022-01-29T17:33:07.388Z"
   },
   {
    "duration": 5,
    "start_time": "2022-01-29T17:33:07.395Z"
   },
   {
    "duration": 639,
    "start_time": "2022-01-29T17:33:07.402Z"
   },
   {
    "duration": 20,
    "start_time": "2022-01-29T17:33:08.042Z"
   },
   {
    "duration": 3,
    "start_time": "2022-01-29T17:33:08.064Z"
   },
   {
    "duration": 5,
    "start_time": "2022-01-29T17:33:08.069Z"
   },
   {
    "duration": 39,
    "start_time": "2022-01-29T17:33:08.077Z"
   },
   {
    "duration": 6,
    "start_time": "2022-01-29T17:33:08.118Z"
   },
   {
    "duration": 9,
    "start_time": "2022-01-29T17:33:08.126Z"
   },
   {
    "duration": 3,
    "start_time": "2022-01-29T17:33:08.137Z"
   },
   {
    "duration": 591,
    "start_time": "2022-01-29T17:33:08.142Z"
   },
   {
    "duration": 805,
    "start_time": "2022-01-29T17:33:08.735Z"
   },
   {
    "duration": 11,
    "start_time": "2022-01-29T17:33:09.541Z"
   },
   {
    "duration": 6,
    "start_time": "2022-01-29T17:33:09.553Z"
   },
   {
    "duration": 2,
    "start_time": "2022-01-29T17:33:09.561Z"
   },
   {
    "duration": 8,
    "start_time": "2022-01-29T17:33:09.564Z"
   },
   {
    "duration": 493,
    "start_time": "2022-01-29T17:33:09.573Z"
   },
   {
    "duration": 67,
    "start_time": "2022-01-29T17:33:10.069Z"
   },
   {
    "duration": 18,
    "start_time": "2022-01-29T17:33:12.860Z"
   },
   {
    "duration": 3,
    "start_time": "2022-01-29T17:33:13.385Z"
   },
   {
    "duration": 741,
    "start_time": "2022-01-29T17:33:14.197Z"
   },
   {
    "duration": 3,
    "start_time": "2022-01-29T17:33:23.660Z"
   },
   {
    "duration": 180,
    "start_time": "2022-01-29T17:33:26.447Z"
   },
   {
    "duration": 7,
    "start_time": "2022-01-29T17:34:11.146Z"
   },
   {
    "duration": 3,
    "start_time": "2022-01-29T17:34:26.797Z"
   },
   {
    "duration": 4,
    "start_time": "2022-01-29T17:34:26.802Z"
   },
   {
    "duration": 4,
    "start_time": "2022-01-29T17:34:26.808Z"
   },
   {
    "duration": 638,
    "start_time": "2022-01-29T17:34:26.814Z"
   },
   {
    "duration": 22,
    "start_time": "2022-01-29T17:34:27.454Z"
   },
   {
    "duration": 6,
    "start_time": "2022-01-29T17:34:27.478Z"
   },
   {
    "duration": 9,
    "start_time": "2022-01-29T17:34:27.485Z"
   },
   {
    "duration": 13,
    "start_time": "2022-01-29T17:34:27.513Z"
   },
   {
    "duration": 5,
    "start_time": "2022-01-29T17:34:27.529Z"
   },
   {
    "duration": 7,
    "start_time": "2022-01-29T17:34:27.536Z"
   },
   {
    "duration": 2,
    "start_time": "2022-01-29T17:34:27.545Z"
   },
   {
    "duration": 631,
    "start_time": "2022-01-29T17:34:27.549Z"
   },
   {
    "duration": 776,
    "start_time": "2022-01-29T17:34:28.182Z"
   },
   {
    "duration": 11,
    "start_time": "2022-01-29T17:34:28.960Z"
   },
   {
    "duration": 8,
    "start_time": "2022-01-29T17:34:28.972Z"
   },
   {
    "duration": 32,
    "start_time": "2022-01-29T17:34:28.982Z"
   },
   {
    "duration": 3,
    "start_time": "2022-01-29T17:34:29.016Z"
   },
   {
    "duration": 458,
    "start_time": "2022-01-29T17:34:29.021Z"
   },
   {
    "duration": 17,
    "start_time": "2022-01-29T17:34:29.480Z"
   },
   {
    "duration": 20,
    "start_time": "2022-01-29T17:34:29.498Z"
   },
   {
    "duration": 723,
    "start_time": "2022-01-29T17:34:29.520Z"
   },
   {
    "duration": 2,
    "start_time": "2022-01-29T17:34:30.245Z"
   },
   {
    "duration": 8,
    "start_time": "2022-01-29T17:34:33.106Z"
   },
   {
    "duration": 924,
    "start_time": "2022-01-29T17:35:54.079Z"
   },
   {
    "duration": 206,
    "start_time": "2022-01-29T17:36:01.160Z"
   },
   {
    "duration": 203,
    "start_time": "2022-01-29T17:36:03.840Z"
   },
   {
    "duration": 257,
    "start_time": "2022-01-29T17:37:04.040Z"
   },
   {
    "duration": 219,
    "start_time": "2022-01-29T17:37:18.853Z"
   },
   {
    "duration": 997,
    "start_time": "2022-01-29T17:37:24.410Z"
   },
   {
    "duration": 9,
    "start_time": "2022-01-29T17:37:53.239Z"
   },
   {
    "duration": 10,
    "start_time": "2022-01-29T17:38:01.387Z"
   },
   {
    "duration": 10,
    "start_time": "2022-01-29T17:38:04.167Z"
   },
   {
    "duration": 9,
    "start_time": "2022-01-29T17:38:06.737Z"
   },
   {
    "duration": 19,
    "start_time": "2022-01-29T17:38:59.546Z"
   },
   {
    "duration": 10,
    "start_time": "2022-01-29T17:40:05.256Z"
   },
   {
    "duration": 211,
    "start_time": "2022-01-29T17:40:09.723Z"
   },
   {
    "duration": 7,
    "start_time": "2022-01-29T17:40:13.122Z"
   },
   {
    "duration": 7,
    "start_time": "2022-01-29T17:40:20.644Z"
   },
   {
    "duration": 15,
    "start_time": "2022-01-29T17:40:27.408Z"
   },
   {
    "duration": 15,
    "start_time": "2022-01-29T17:41:56.362Z"
   },
   {
    "duration": 144,
    "start_time": "2022-01-29T17:42:04.294Z"
   },
   {
    "duration": 20,
    "start_time": "2022-01-29T17:42:16.872Z"
   },
   {
    "duration": 18,
    "start_time": "2022-01-29T17:42:30.947Z"
   },
   {
    "duration": 19,
    "start_time": "2022-01-29T17:42:41.810Z"
   },
   {
    "duration": 348,
    "start_time": "2022-01-29T17:42:49.682Z"
   },
   {
    "duration": 5,
    "start_time": "2022-01-29T17:42:51.262Z"
   },
   {
    "duration": 565,
    "start_time": "2022-01-29T17:42:58.304Z"
   },
   {
    "duration": 4,
    "start_time": "2022-01-29T17:42:58.871Z"
   },
   {
    "duration": 5,
    "start_time": "2022-01-29T17:43:27.466Z"
   },
   {
    "duration": 5,
    "start_time": "2022-01-29T17:43:42.559Z"
   },
   {
    "duration": 282,
    "start_time": "2022-01-29T17:44:36.907Z"
   },
   {
    "duration": 6,
    "start_time": "2022-01-29T17:44:50.289Z"
   },
   {
    "duration": 274,
    "start_time": "2022-01-29T17:44:52.899Z"
   },
   {
    "duration": 5,
    "start_time": "2022-01-29T17:45:06.471Z"
   },
   {
    "duration": 4,
    "start_time": "2022-01-29T17:45:17.617Z"
   },
   {
    "duration": 6,
    "start_time": "2022-01-29T17:45:18.936Z"
   },
   {
    "duration": 8,
    "start_time": "2022-01-29T17:45:28.026Z"
   },
   {
    "duration": 7,
    "start_time": "2022-01-29T17:45:28.915Z"
   },
   {
    "duration": 63,
    "start_time": "2022-01-29T17:47:10.748Z"
   },
   {
    "duration": 4,
    "start_time": "2022-01-29T17:47:25.346Z"
   },
   {
    "duration": 3,
    "start_time": "2022-01-29T17:47:25.882Z"
   },
   {
    "duration": 16,
    "start_time": "2022-01-29T17:47:28.962Z"
   },
   {
    "duration": 28,
    "start_time": "2022-01-29T17:49:37.582Z"
   },
   {
    "duration": 22,
    "start_time": "2022-01-29T17:49:43.090Z"
   },
   {
    "duration": 8,
    "start_time": "2022-01-29T17:52:13.823Z"
   },
   {
    "duration": 6,
    "start_time": "2022-01-29T17:52:31.942Z"
   },
   {
    "duration": 6,
    "start_time": "2022-01-29T17:52:48.406Z"
   },
   {
    "duration": 24,
    "start_time": "2022-01-29T17:52:52.144Z"
   },
   {
    "duration": 22,
    "start_time": "2022-01-29T17:53:10.206Z"
   },
   {
    "duration": 14,
    "start_time": "2022-01-29T17:53:55.257Z"
   },
   {
    "duration": 9,
    "start_time": "2022-01-29T17:57:14.918Z"
   },
   {
    "duration": 5,
    "start_time": "2022-01-29T17:57:35.698Z"
   },
   {
    "duration": 3,
    "start_time": "2022-01-29T19:57:30.423Z"
   },
   {
    "duration": 12,
    "start_time": "2022-01-29T19:58:46.307Z"
   },
   {
    "duration": 11,
    "start_time": "2022-01-29T19:59:24.780Z"
   },
   {
    "duration": 309,
    "start_time": "2022-01-30T10:34:53.036Z"
   },
   {
    "duration": 4,
    "start_time": "2022-01-30T10:34:57.032Z"
   },
   {
    "duration": 9,
    "start_time": "2022-01-30T10:34:57.040Z"
   },
   {
    "duration": 1033,
    "start_time": "2022-01-30T10:34:57.053Z"
   },
   {
    "duration": 347,
    "start_time": "2022-01-30T10:34:57.743Z"
   },
   {
    "duration": 344,
    "start_time": "2022-01-30T10:34:57.747Z"
   },
   {
    "duration": 343,
    "start_time": "2022-01-30T10:34:57.750Z"
   },
   {
    "duration": 342,
    "start_time": "2022-01-30T10:34:57.752Z"
   },
   {
    "duration": 341,
    "start_time": "2022-01-30T10:34:57.754Z"
   },
   {
    "duration": 340,
    "start_time": "2022-01-30T10:34:57.756Z"
   },
   {
    "duration": 340,
    "start_time": "2022-01-30T10:34:57.758Z"
   },
   {
    "duration": 335,
    "start_time": "2022-01-30T10:34:57.764Z"
   },
   {
    "duration": 333,
    "start_time": "2022-01-30T10:34:57.767Z"
   },
   {
    "duration": 332,
    "start_time": "2022-01-30T10:34:57.769Z"
   },
   {
    "duration": 332,
    "start_time": "2022-01-30T10:34:57.771Z"
   },
   {
    "duration": 331,
    "start_time": "2022-01-30T10:34:57.773Z"
   },
   {
    "duration": 331,
    "start_time": "2022-01-30T10:34:57.774Z"
   },
   {
    "duration": 328,
    "start_time": "2022-01-30T10:34:57.779Z"
   },
   {
    "duration": 324,
    "start_time": "2022-01-30T10:34:57.784Z"
   },
   {
    "duration": 323,
    "start_time": "2022-01-30T10:34:57.786Z"
   },
   {
    "duration": 323,
    "start_time": "2022-01-30T10:34:57.787Z"
   },
   {
    "duration": 323,
    "start_time": "2022-01-30T10:34:57.789Z"
   },
   {
    "duration": 296,
    "start_time": "2022-01-30T10:34:57.817Z"
   },
   {
    "duration": 294,
    "start_time": "2022-01-30T10:34:57.820Z"
   },
   {
    "duration": 293,
    "start_time": "2022-01-30T10:34:57.822Z"
   },
   {
    "duration": 293,
    "start_time": "2022-01-30T10:34:57.824Z"
   },
   {
    "duration": 292,
    "start_time": "2022-01-30T10:34:57.826Z"
   },
   {
    "duration": 291,
    "start_time": "2022-01-30T10:34:57.828Z"
   },
   {
    "duration": 290,
    "start_time": "2022-01-30T10:34:57.830Z"
   },
   {
    "duration": 290,
    "start_time": "2022-01-30T10:34:57.832Z"
   },
   {
    "duration": 289,
    "start_time": "2022-01-30T10:34:57.834Z"
   },
   {
    "duration": 288,
    "start_time": "2022-01-30T10:34:57.836Z"
   },
   {
    "duration": 285,
    "start_time": "2022-01-30T10:34:57.841Z"
   },
   {
    "duration": 326,
    "start_time": "2022-01-30T10:34:57.843Z"
   },
   {
    "duration": 323,
    "start_time": "2022-01-30T10:34:57.848Z"
   },
   {
    "duration": 322,
    "start_time": "2022-01-30T10:34:57.850Z"
   },
   {
    "duration": 322,
    "start_time": "2022-01-30T10:34:57.852Z"
   },
   {
    "duration": 322,
    "start_time": "2022-01-30T10:34:57.853Z"
   },
   {
    "duration": 320,
    "start_time": "2022-01-30T10:34:57.856Z"
   },
   {
    "duration": 317,
    "start_time": "2022-01-30T10:34:57.860Z"
   },
   {
    "duration": 314,
    "start_time": "2022-01-30T10:34:57.865Z"
   },
   {
    "duration": 311,
    "start_time": "2022-01-30T10:34:57.869Z"
   },
   {
    "duration": 308,
    "start_time": "2022-01-30T10:34:57.873Z"
   },
   {
    "duration": 307,
    "start_time": "2022-01-30T10:34:57.875Z"
   },
   {
    "duration": 307,
    "start_time": "2022-01-30T10:34:57.877Z"
   },
   {
    "duration": 4424,
    "start_time": "2022-01-30T10:35:09.494Z"
   },
   {
    "duration": 3507,
    "start_time": "2022-01-30T10:35:13.922Z"
   },
   {
    "duration": 767,
    "start_time": "2022-01-30T10:35:17.432Z"
   },
   {
    "duration": 8671,
    "start_time": "2022-01-30T10:35:18.202Z"
   },
   {
    "duration": 36,
    "start_time": "2022-01-30T10:35:26.875Z"
   },
   {
    "duration": 7,
    "start_time": "2022-01-30T10:35:26.914Z"
   },
   {
    "duration": 45,
    "start_time": "2022-01-30T10:35:26.924Z"
   },
   {
    "duration": 15,
    "start_time": "2022-01-30T10:35:26.974Z"
   },
   {
    "duration": 8,
    "start_time": "2022-01-30T10:35:26.992Z"
   },
   {
    "duration": 11,
    "start_time": "2022-01-30T10:35:27.002Z"
   },
   {
    "duration": 4,
    "start_time": "2022-01-30T10:35:27.016Z"
   },
   {
    "duration": 949,
    "start_time": "2022-01-30T10:35:27.070Z"
   },
   {
    "duration": 1162,
    "start_time": "2022-01-30T10:35:28.022Z"
   },
   {
    "duration": 15,
    "start_time": "2022-01-30T10:35:29.187Z"
   },
   {
    "duration": 13,
    "start_time": "2022-01-30T10:35:29.205Z"
   },
   {
    "duration": 4,
    "start_time": "2022-01-30T10:35:29.220Z"
   },
   {
    "duration": 6,
    "start_time": "2022-01-30T10:35:29.227Z"
   },
   {
    "duration": 676,
    "start_time": "2022-01-30T10:35:29.271Z"
   },
   {
    "duration": 40,
    "start_time": "2022-01-30T10:35:29.950Z"
   },
   {
    "duration": 5,
    "start_time": "2022-01-30T10:35:29.994Z"
   },
   {
    "duration": 329,
    "start_time": "2022-01-30T10:35:30.002Z"
   },
   {
    "duration": 348,
    "start_time": "2022-01-30T10:35:29.988Z"
   },
   {
    "duration": 348,
    "start_time": "2022-01-30T10:35:29.990Z"
   },
   {
    "duration": 347,
    "start_time": "2022-01-30T10:35:29.993Z"
   },
   {
    "duration": 348,
    "start_time": "2022-01-30T10:35:29.995Z"
   },
   {
    "duration": 345,
    "start_time": "2022-01-30T10:35:30.000Z"
   },
   {
    "duration": 345,
    "start_time": "2022-01-30T10:35:30.002Z"
   },
   {
    "duration": 343,
    "start_time": "2022-01-30T10:35:30.006Z"
   },
   {
    "duration": 334,
    "start_time": "2022-01-30T10:35:30.017Z"
   },
   {
    "duration": 336,
    "start_time": "2022-01-30T10:35:30.018Z"
   },
   {
    "duration": 336,
    "start_time": "2022-01-30T10:35:30.020Z"
   },
   {
    "duration": 337,
    "start_time": "2022-01-30T10:35:30.021Z"
   },
   {
    "duration": 337,
    "start_time": "2022-01-30T10:35:30.023Z"
   },
   {
    "duration": 338,
    "start_time": "2022-01-30T10:35:30.024Z"
   },
   {
    "duration": 336,
    "start_time": "2022-01-30T10:35:30.028Z"
   },
   {
    "duration": 334,
    "start_time": "2022-01-30T10:35:30.033Z"
   },
   {
    "duration": 335,
    "start_time": "2022-01-30T10:35:30.034Z"
   },
   {
    "duration": 335,
    "start_time": "2022-01-30T10:35:30.036Z"
   },
   {
    "duration": 336,
    "start_time": "2022-01-30T10:35:30.037Z"
   },
   {
    "duration": 334,
    "start_time": "2022-01-30T10:35:30.041Z"
   },
   {
    "duration": 335,
    "start_time": "2022-01-30T10:35:30.042Z"
   },
   {
    "duration": 332,
    "start_time": "2022-01-30T10:35:30.048Z"
   },
   {
    "duration": 332,
    "start_time": "2022-01-30T10:35:30.050Z"
   },
   {
    "duration": 333,
    "start_time": "2022-01-30T10:35:30.051Z"
   },
   {
    "duration": 334,
    "start_time": "2022-01-30T10:35:30.052Z"
   },
   {
    "duration": 335,
    "start_time": "2022-01-30T10:35:30.053Z"
   },
   {
    "duration": 268,
    "start_time": "2022-01-30T10:36:29.553Z"
   },
   {
    "duration": 5,
    "start_time": "2022-01-30T10:37:15.041Z"
   },
   {
    "duration": 96,
    "start_time": "2022-01-30T10:37:15.049Z"
   },
   {
    "duration": 1629,
    "start_time": "2022-01-30T10:37:15.148Z"
   },
   {
    "duration": 892,
    "start_time": "2022-01-30T10:37:16.780Z"
   },
   {
    "duration": 36,
    "start_time": "2022-01-30T10:37:17.675Z"
   },
   {
    "duration": 7,
    "start_time": "2022-01-30T10:37:17.713Z"
   },
   {
    "duration": 7,
    "start_time": "2022-01-30T10:37:17.722Z"
   },
   {
    "duration": 48,
    "start_time": "2022-01-30T10:37:17.733Z"
   },
   {
    "duration": 6,
    "start_time": "2022-01-30T10:37:17.784Z"
   },
   {
    "duration": 9,
    "start_time": "2022-01-30T10:37:17.792Z"
   },
   {
    "duration": 2,
    "start_time": "2022-01-30T10:37:17.804Z"
   },
   {
    "duration": 930,
    "start_time": "2022-01-30T10:37:17.809Z"
   },
   {
    "duration": 1559,
    "start_time": "2022-01-30T10:37:18.742Z"
   },
   {
    "duration": 15,
    "start_time": "2022-01-30T10:37:20.304Z"
   },
   {
    "duration": 25,
    "start_time": "2022-01-30T10:37:20.321Z"
   },
   {
    "duration": 20,
    "start_time": "2022-01-30T10:37:20.349Z"
   },
   {
    "duration": 4,
    "start_time": "2022-01-30T10:37:20.372Z"
   },
   {
    "duration": 714,
    "start_time": "2022-01-30T10:37:20.378Z"
   },
   {
    "duration": 30,
    "start_time": "2022-01-30T10:37:21.095Z"
   },
   {
    "duration": 4,
    "start_time": "2022-01-30T10:37:21.128Z"
   },
   {
    "duration": 423,
    "start_time": "2022-01-30T10:37:21.135Z"
   },
   {
    "duration": 356,
    "start_time": "2022-01-30T10:37:21.206Z"
   },
   {
    "duration": 355,
    "start_time": "2022-01-30T10:37:21.208Z"
   },
   {
    "duration": 355,
    "start_time": "2022-01-30T10:37:21.210Z"
   },
   {
    "duration": 354,
    "start_time": "2022-01-30T10:37:21.212Z"
   },
   {
    "duration": 354,
    "start_time": "2022-01-30T10:37:21.214Z"
   },
   {
    "duration": 350,
    "start_time": "2022-01-30T10:37:21.219Z"
   },
   {
    "duration": 350,
    "start_time": "2022-01-30T10:37:21.221Z"
   },
   {
    "duration": 349,
    "start_time": "2022-01-30T10:37:21.223Z"
   },
   {
    "duration": 350,
    "start_time": "2022-01-30T10:37:21.224Z"
   },
   {
    "duration": 349,
    "start_time": "2022-01-30T10:37:21.226Z"
   },
   {
    "duration": 348,
    "start_time": "2022-01-30T10:37:21.228Z"
   },
   {
    "duration": 349,
    "start_time": "2022-01-30T10:37:21.229Z"
   },
   {
    "duration": 344,
    "start_time": "2022-01-30T10:37:21.235Z"
   },
   {
    "duration": 344,
    "start_time": "2022-01-30T10:37:21.237Z"
   },
   {
    "duration": 344,
    "start_time": "2022-01-30T10:37:21.239Z"
   },
   {
    "duration": 344,
    "start_time": "2022-01-30T10:37:21.241Z"
   },
   {
    "duration": 343,
    "start_time": "2022-01-30T10:37:21.243Z"
   },
   {
    "duration": 342,
    "start_time": "2022-01-30T10:37:21.246Z"
   },
   {
    "duration": 340,
    "start_time": "2022-01-30T10:37:21.250Z"
   },
   {
    "duration": 340,
    "start_time": "2022-01-30T10:37:21.252Z"
   },
   {
    "duration": 341,
    "start_time": "2022-01-30T10:37:21.253Z"
   },
   {
    "duration": 340,
    "start_time": "2022-01-30T10:37:21.255Z"
   },
   {
    "duration": 341,
    "start_time": "2022-01-30T10:37:21.256Z"
   },
   {
    "duration": 341,
    "start_time": "2022-01-30T10:37:21.258Z"
   },
   {
    "duration": 341,
    "start_time": "2022-01-30T10:37:21.259Z"
   },
   {
    "duration": 3266,
    "start_time": "2022-01-30T10:37:33.874Z"
   },
   {
    "duration": 5494,
    "start_time": "2022-01-30T10:37:37.144Z"
   },
   {
    "duration": 5,
    "start_time": "2022-01-30T10:37:42.642Z"
   },
   {
    "duration": 2944,
    "start_time": "2022-01-30T10:37:42.649Z"
   },
   {
    "duration": 32,
    "start_time": "2022-01-30T10:37:45.596Z"
   },
   {
    "duration": 6,
    "start_time": "2022-01-30T10:37:45.630Z"
   },
   {
    "duration": 33,
    "start_time": "2022-01-30T10:37:45.638Z"
   },
   {
    "duration": 12,
    "start_time": "2022-01-30T10:37:45.673Z"
   },
   {
    "duration": 6,
    "start_time": "2022-01-30T10:37:45.689Z"
   },
   {
    "duration": 9,
    "start_time": "2022-01-30T10:37:45.698Z"
   },
   {
    "duration": 2,
    "start_time": "2022-01-30T10:37:45.710Z"
   },
   {
    "duration": 1040,
    "start_time": "2022-01-30T10:37:45.714Z"
   },
   {
    "duration": 1277,
    "start_time": "2022-01-30T10:37:46.756Z"
   },
   {
    "duration": 14,
    "start_time": "2022-01-30T10:37:48.036Z"
   },
   {
    "duration": 10,
    "start_time": "2022-01-30T10:37:48.069Z"
   },
   {
    "duration": 3,
    "start_time": "2022-01-30T10:37:48.082Z"
   },
   {
    "duration": 5,
    "start_time": "2022-01-30T10:37:48.087Z"
   },
   {
    "duration": 636,
    "start_time": "2022-01-30T10:37:48.094Z"
   },
   {
    "duration": 39,
    "start_time": "2022-01-30T10:37:48.732Z"
   },
   {
    "duration": 6,
    "start_time": "2022-01-30T10:37:48.774Z"
   },
   {
    "duration": 288,
    "start_time": "2022-01-30T10:37:48.783Z"
   },
   {
    "duration": 363,
    "start_time": "2022-01-30T10:37:48.712Z"
   },
   {
    "duration": 363,
    "start_time": "2022-01-30T10:37:48.714Z"
   },
   {
    "duration": 363,
    "start_time": "2022-01-30T10:37:48.715Z"
   },
   {
    "duration": 363,
    "start_time": "2022-01-30T10:37:48.716Z"
   },
   {
    "duration": 362,
    "start_time": "2022-01-30T10:37:48.719Z"
   },
   {
    "duration": 361,
    "start_time": "2022-01-30T10:37:48.721Z"
   },
   {
    "duration": 359,
    "start_time": "2022-01-30T10:37:48.725Z"
   },
   {
    "duration": 357,
    "start_time": "2022-01-30T10:37:48.728Z"
   },
   {
    "duration": 357,
    "start_time": "2022-01-30T10:37:48.729Z"
   },
   {
    "duration": 358,
    "start_time": "2022-01-30T10:37:48.730Z"
   },
   {
    "duration": 357,
    "start_time": "2022-01-30T10:37:48.732Z"
   },
   {
    "duration": 358,
    "start_time": "2022-01-30T10:37:48.733Z"
   },
   {
    "duration": 356,
    "start_time": "2022-01-30T10:37:48.736Z"
   },
   {
    "duration": 356,
    "start_time": "2022-01-30T10:37:48.737Z"
   },
   {
    "duration": 353,
    "start_time": "2022-01-30T10:37:48.742Z"
   },
   {
    "duration": 353,
    "start_time": "2022-01-30T10:37:48.743Z"
   },
   {
    "duration": 296,
    "start_time": "2022-01-30T10:37:48.801Z"
   },
   {
    "duration": 293,
    "start_time": "2022-01-30T10:37:48.806Z"
   },
   {
    "duration": 293,
    "start_time": "2022-01-30T10:37:48.808Z"
   },
   {
    "duration": 293,
    "start_time": "2022-01-30T10:37:48.809Z"
   },
   {
    "duration": 292,
    "start_time": "2022-01-30T10:37:48.811Z"
   },
   {
    "duration": 292,
    "start_time": "2022-01-30T10:37:48.813Z"
   },
   {
    "duration": 291,
    "start_time": "2022-01-30T10:37:48.815Z"
   },
   {
    "duration": 290,
    "start_time": "2022-01-30T10:37:48.817Z"
   },
   {
    "duration": 289,
    "start_time": "2022-01-30T10:37:48.820Z"
   },
   {
    "duration": 3167,
    "start_time": "2022-01-30T10:38:39.306Z"
   },
   {
    "duration": 3047,
    "start_time": "2022-01-30T10:38:42.476Z"
   },
   {
    "duration": 1456,
    "start_time": "2022-01-30T10:38:45.527Z"
   },
   {
    "duration": 878,
    "start_time": "2022-01-30T10:38:46.987Z"
   },
   {
    "duration": 35,
    "start_time": "2022-01-30T10:38:47.870Z"
   },
   {
    "duration": 6,
    "start_time": "2022-01-30T10:38:47.908Z"
   },
   {
    "duration": 6,
    "start_time": "2022-01-30T10:38:47.916Z"
   },
   {
    "duration": 48,
    "start_time": "2022-01-30T10:38:47.925Z"
   },
   {
    "duration": 8,
    "start_time": "2022-01-30T10:38:47.977Z"
   },
   {
    "duration": 11,
    "start_time": "2022-01-30T10:38:47.988Z"
   },
   {
    "duration": 3,
    "start_time": "2022-01-30T10:38:48.001Z"
   },
   {
    "duration": 949,
    "start_time": "2022-01-30T10:38:48.007Z"
   },
   {
    "duration": 1145,
    "start_time": "2022-01-30T10:38:48.958Z"
   },
   {
    "duration": 13,
    "start_time": "2022-01-30T10:38:50.105Z"
   },
   {
    "duration": 10,
    "start_time": "2022-01-30T10:38:50.121Z"
   },
   {
    "duration": 36,
    "start_time": "2022-01-30T10:38:50.133Z"
   },
   {
    "duration": 4,
    "start_time": "2022-01-30T10:38:50.171Z"
   },
   {
    "duration": 646,
    "start_time": "2022-01-30T10:38:50.177Z"
   },
   {
    "duration": 44,
    "start_time": "2022-01-30T10:38:50.825Z"
   },
   {
    "duration": 5,
    "start_time": "2022-01-30T10:38:50.872Z"
   },
   {
    "duration": 411,
    "start_time": "2022-01-30T10:38:50.881Z"
   },
   {
    "duration": 11194,
    "start_time": "2022-01-30T10:39:06.773Z"
   },
   {
    "duration": 3910,
    "start_time": "2022-01-30T10:39:18.275Z"
   },
   {
    "duration": 3716,
    "start_time": "2022-01-30T10:39:22.188Z"
   },
   {
    "duration": 5,
    "start_time": "2022-01-30T10:39:25.907Z"
   },
   {
    "duration": 826,
    "start_time": "2022-01-30T10:39:25.914Z"
   },
   {
    "duration": 43,
    "start_time": "2022-01-30T10:39:26.743Z"
   },
   {
    "duration": 6,
    "start_time": "2022-01-30T10:39:26.788Z"
   },
   {
    "duration": 9,
    "start_time": "2022-01-30T10:39:26.796Z"
   },
   {
    "duration": 12,
    "start_time": "2022-01-30T10:39:26.807Z"
   },
   {
    "duration": 7,
    "start_time": "2022-01-30T10:39:26.822Z"
   },
   {
    "duration": 46,
    "start_time": "2022-01-30T10:39:26.831Z"
   },
   {
    "duration": 3,
    "start_time": "2022-01-30T10:39:26.880Z"
   },
   {
    "duration": 975,
    "start_time": "2022-01-30T10:39:26.885Z"
   },
   {
    "duration": 1208,
    "start_time": "2022-01-30T10:39:27.869Z"
   },
   {
    "duration": 13,
    "start_time": "2022-01-30T10:39:29.080Z"
   },
   {
    "duration": 9,
    "start_time": "2022-01-30T10:39:29.096Z"
   },
   {
    "duration": 3,
    "start_time": "2022-01-30T10:39:29.108Z"
   },
   {
    "duration": 3,
    "start_time": "2022-01-30T10:39:29.114Z"
   },
   {
    "duration": 734,
    "start_time": "2022-01-30T10:39:29.119Z"
   },
   {
    "duration": 35,
    "start_time": "2022-01-30T10:39:29.855Z"
   },
   {
    "duration": 16,
    "start_time": "2022-01-30T10:39:29.892Z"
   },
   {
    "duration": 4,
    "start_time": "2022-01-30T10:39:31.511Z"
   },
   {
    "duration": 258,
    "start_time": "2022-01-30T10:39:31.951Z"
   },
   {
    "duration": 3189,
    "start_time": "2022-01-30T10:39:53.384Z"
   },
   {
    "duration": 3693,
    "start_time": "2022-01-30T10:39:56.577Z"
   },
   {
    "duration": 1664,
    "start_time": "2022-01-30T10:40:00.273Z"
   },
   {
    "duration": 895,
    "start_time": "2022-01-30T10:40:01.940Z"
   },
   {
    "duration": 44,
    "start_time": "2022-01-30T10:40:02.838Z"
   },
   {
    "duration": 6,
    "start_time": "2022-01-30T10:40:02.884Z"
   },
   {
    "duration": 12,
    "start_time": "2022-01-30T10:40:02.892Z"
   },
   {
    "duration": 25,
    "start_time": "2022-01-30T10:40:02.906Z"
   },
   {
    "duration": 34,
    "start_time": "2022-01-30T10:40:02.935Z"
   },
   {
    "duration": 10,
    "start_time": "2022-01-30T10:40:02.972Z"
   },
   {
    "duration": 8,
    "start_time": "2022-01-30T10:40:02.985Z"
   },
   {
    "duration": 942,
    "start_time": "2022-01-30T10:40:02.995Z"
   },
   {
    "duration": 1214,
    "start_time": "2022-01-30T10:40:03.940Z"
   },
   {
    "duration": 22,
    "start_time": "2022-01-30T10:40:05.158Z"
   },
   {
    "duration": 36,
    "start_time": "2022-01-30T10:40:05.182Z"
   },
   {
    "duration": 3,
    "start_time": "2022-01-30T10:40:05.220Z"
   },
   {
    "duration": 8,
    "start_time": "2022-01-30T10:40:05.225Z"
   },
   {
    "duration": 587,
    "start_time": "2022-01-30T10:40:05.235Z"
   },
   {
    "duration": 29,
    "start_time": "2022-01-30T10:40:05.824Z"
   },
   {
    "duration": 15,
    "start_time": "2022-01-30T10:40:05.855Z"
   },
   {
    "duration": 4,
    "start_time": "2022-01-30T10:40:08.345Z"
   },
   {
    "duration": 881,
    "start_time": "2022-01-30T10:40:08.906Z"
   },
   {
    "duration": 11,
    "start_time": "2022-01-30T10:40:15.925Z"
   },
   {
    "duration": 13,
    "start_time": "2022-01-30T10:40:20.122Z"
   },
   {
    "duration": 398,
    "start_time": "2022-01-30T10:41:08.054Z"
   },
   {
    "duration": 1135,
    "start_time": "2022-01-30T10:41:41.389Z"
   },
   {
    "duration": 12,
    "start_time": "2022-01-30T10:41:53.950Z"
   },
   {
    "duration": 60,
    "start_time": "2022-01-30T10:42:14.189Z"
   },
   {
    "duration": 58,
    "start_time": "2022-01-30T10:42:53.084Z"
   },
   {
    "duration": 58,
    "start_time": "2022-01-30T10:42:56.272Z"
   },
   {
    "duration": 63,
    "start_time": "2022-01-30T10:42:58.951Z"
   },
   {
    "duration": 7,
    "start_time": "2022-01-30T10:43:53.070Z"
   },
   {
    "duration": 762,
    "start_time": "2022-01-30T10:43:53.478Z"
   },
   {
    "duration": 11,
    "start_time": "2022-01-30T10:44:00.386Z"
   },
   {
    "duration": 14,
    "start_time": "2022-01-30T10:44:06.595Z"
   },
   {
    "duration": 14,
    "start_time": "2022-01-30T10:44:19.522Z"
   },
   {
    "duration": 3207,
    "start_time": "2022-01-30T10:44:32.617Z"
   },
   {
    "duration": 3639,
    "start_time": "2022-01-30T10:44:35.827Z"
   },
   {
    "duration": 5,
    "start_time": "2022-01-30T10:44:39.470Z"
   },
   {
    "duration": 800,
    "start_time": "2022-01-30T10:44:39.477Z"
   },
   {
    "duration": 31,
    "start_time": "2022-01-30T10:44:40.280Z"
   },
   {
    "duration": 13,
    "start_time": "2022-01-30T10:44:40.314Z"
   },
   {
    "duration": 16,
    "start_time": "2022-01-30T10:44:40.329Z"
   },
   {
    "duration": 26,
    "start_time": "2022-01-30T10:44:40.348Z"
   },
   {
    "duration": 7,
    "start_time": "2022-01-30T10:44:40.378Z"
   },
   {
    "duration": 9,
    "start_time": "2022-01-30T10:44:40.387Z"
   },
   {
    "duration": 3,
    "start_time": "2022-01-30T10:44:40.398Z"
   },
   {
    "duration": 951,
    "start_time": "2022-01-30T10:44:40.403Z"
   },
   {
    "duration": 1203,
    "start_time": "2022-01-30T10:44:41.357Z"
   },
   {
    "duration": 17,
    "start_time": "2022-01-30T10:44:42.562Z"
   },
   {
    "duration": 9,
    "start_time": "2022-01-30T10:44:42.581Z"
   },
   {
    "duration": 4,
    "start_time": "2022-01-30T10:44:42.593Z"
   },
   {
    "duration": 12,
    "start_time": "2022-01-30T10:44:42.599Z"
   },
   {
    "duration": 619,
    "start_time": "2022-01-30T10:44:42.613Z"
   },
   {
    "duration": 37,
    "start_time": "2022-01-30T10:44:43.235Z"
   },
   {
    "duration": 4,
    "start_time": "2022-01-30T10:44:43.275Z"
   },
   {
    "duration": 4,
    "start_time": "2022-01-30T10:44:45.096Z"
   },
   {
    "duration": 1412,
    "start_time": "2022-01-30T10:44:45.757Z"
   },
   {
    "duration": 10,
    "start_time": "2022-01-30T10:44:49.490Z"
   },
   {
    "duration": 5461,
    "start_time": "2022-01-30T10:45:08.200Z"
   },
   {
    "duration": 3093,
    "start_time": "2022-01-30T10:47:04.713Z"
   },
   {
    "duration": 3988,
    "start_time": "2022-01-30T10:47:07.810Z"
   },
   {
    "duration": 4,
    "start_time": "2022-01-30T10:47:11.802Z"
   },
   {
    "duration": 842,
    "start_time": "2022-01-30T10:47:11.809Z"
   },
   {
    "duration": 36,
    "start_time": "2022-01-30T10:47:12.653Z"
   },
   {
    "duration": 5,
    "start_time": "2022-01-30T10:47:12.692Z"
   },
   {
    "duration": 7,
    "start_time": "2022-01-30T10:47:12.699Z"
   },
   {
    "duration": 11,
    "start_time": "2022-01-30T10:47:12.708Z"
   },
   {
    "duration": 49,
    "start_time": "2022-01-30T10:47:12.723Z"
   },
   {
    "duration": 9,
    "start_time": "2022-01-30T10:47:12.775Z"
   },
   {
    "duration": 3,
    "start_time": "2022-01-30T10:47:12.787Z"
   },
   {
    "duration": 1032,
    "start_time": "2022-01-30T10:47:12.793Z"
   },
   {
    "duration": 1249,
    "start_time": "2022-01-30T10:47:13.827Z"
   },
   {
    "duration": 14,
    "start_time": "2022-01-30T10:47:15.079Z"
   },
   {
    "duration": 10,
    "start_time": "2022-01-30T10:47:15.096Z"
   },
   {
    "duration": 4,
    "start_time": "2022-01-30T10:47:15.109Z"
   },
   {
    "duration": 7,
    "start_time": "2022-01-30T10:47:15.115Z"
   },
   {
    "duration": 620,
    "start_time": "2022-01-30T10:47:15.125Z"
   },
   {
    "duration": 36,
    "start_time": "2022-01-30T10:47:15.748Z"
   },
   {
    "duration": 4,
    "start_time": "2022-01-30T10:47:15.787Z"
   },
   {
    "duration": 1428,
    "start_time": "2022-01-30T10:47:15.794Z"
   },
   {
    "duration": 10,
    "start_time": "2022-01-30T10:47:17.224Z"
   },
   {
    "duration": 6059,
    "start_time": "2022-01-30T10:47:18.944Z"
   },
   {
    "duration": 252,
    "start_time": "2022-01-30T10:47:42.078Z"
   },
   {
    "duration": 356,
    "start_time": "2022-01-30T10:47:41.977Z"
   },
   {
    "duration": 18,
    "start_time": "2022-01-30T10:47:44.838Z"
   },
   {
    "duration": 220,
    "start_time": "2022-01-30T10:47:45.126Z"
   },
   {
    "duration": 575,
    "start_time": "2022-01-30T10:47:46.245Z"
   },
   {
    "duration": 34,
    "start_time": "2022-01-30T10:48:03.246Z"
   },
   {
    "duration": 28,
    "start_time": "2022-01-30T10:48:04.869Z"
   },
   {
    "duration": 34,
    "start_time": "2022-01-30T10:48:21.644Z"
   },
   {
    "duration": 652,
    "start_time": "2022-01-30T10:48:26.266Z"
   },
   {
    "duration": 9,
    "start_time": "2022-01-30T10:48:26.922Z"
   },
   {
    "duration": 842,
    "start_time": "2022-01-30T10:48:26.935Z"
   },
   {
    "duration": 20,
    "start_time": "2022-01-30T10:48:27.779Z"
   },
   {
    "duration": 439,
    "start_time": "2022-01-30T10:48:28.037Z"
   },
   {
    "duration": 9,
    "start_time": "2022-01-30T10:48:29.005Z"
   },
   {
    "duration": 574,
    "start_time": "2022-01-30T10:48:29.437Z"
   },
   {
    "duration": 7,
    "start_time": "2022-01-30T10:48:30.980Z"
   },
   {
    "duration": 10,
    "start_time": "2022-01-30T10:48:43.847Z"
   },
   {
    "duration": 10,
    "start_time": "2022-01-30T10:48:43.860Z"
   },
   {
    "duration": 9,
    "start_time": "2022-01-30T10:48:43.873Z"
   },
   {
    "duration": 6,
    "start_time": "2022-01-30T10:48:51.386Z"
   },
   {
    "duration": 5,
    "start_time": "2022-01-30T10:48:51.394Z"
   },
   {
    "duration": 48,
    "start_time": "2022-01-30T10:48:57.360Z"
   },
   {
    "duration": 18,
    "start_time": "2022-01-30T10:49:04.892Z"
   },
   {
    "duration": 34,
    "start_time": "2022-01-30T10:58:58.377Z"
   },
   {
    "duration": 15,
    "start_time": "2022-01-30T10:59:42.702Z"
   },
   {
    "duration": 8,
    "start_time": "2022-01-30T11:00:38.841Z"
   },
   {
    "duration": 318,
    "start_time": "2022-01-30T11:00:55.351Z"
   },
   {
    "duration": 665,
    "start_time": "2022-01-30T11:03:30.531Z"
   },
   {
    "duration": 372,
    "start_time": "2022-01-30T11:03:35.840Z"
   },
   {
    "duration": 764,
    "start_time": "2022-01-30T11:04:03.396Z"
   },
   {
    "duration": 765,
    "start_time": "2022-01-30T11:04:10.539Z"
   },
   {
    "duration": 63,
    "start_time": "2022-01-30T11:04:39.122Z"
   },
   {
    "duration": 9,
    "start_time": "2022-01-30T11:04:48.871Z"
   },
   {
    "duration": 16,
    "start_time": "2022-01-30T11:06:34.054Z"
   },
   {
    "duration": 16,
    "start_time": "2022-01-30T11:06:40.275Z"
   },
   {
    "duration": 9,
    "start_time": "2022-01-30T11:07:12.647Z"
   },
   {
    "duration": 11,
    "start_time": "2022-01-30T11:07:18.365Z"
   },
   {
    "duration": 410,
    "start_time": "2022-01-30T11:07:31.512Z"
   },
   {
    "duration": 621,
    "start_time": "2022-01-30T11:07:55.201Z"
   },
   {
    "duration": 442,
    "start_time": "2022-01-30T11:08:45.298Z"
   },
   {
    "duration": 470,
    "start_time": "2022-01-30T11:09:27.171Z"
   },
   {
    "duration": 237,
    "start_time": "2022-01-30T11:09:38.296Z"
   },
   {
    "duration": 429,
    "start_time": "2022-01-30T11:09:41.456Z"
   },
   {
    "duration": 22,
    "start_time": "2022-01-30T11:10:29.582Z"
   },
   {
    "duration": 453,
    "start_time": "2022-01-30T11:10:45.080Z"
   },
   {
    "duration": 499,
    "start_time": "2022-01-30T11:14:53.312Z"
   },
   {
    "duration": 498,
    "start_time": "2022-01-30T11:15:47.818Z"
   },
   {
    "duration": 39,
    "start_time": "2022-01-30T11:22:39.271Z"
   },
   {
    "duration": 6,
    "start_time": "2022-01-30T11:23:16.497Z"
   },
   {
    "duration": 5,
    "start_time": "2022-01-30T11:24:00.843Z"
   },
   {
    "duration": 41,
    "start_time": "2022-01-30T11:25:44.306Z"
   },
   {
    "duration": 8,
    "start_time": "2022-01-30T11:32:09.898Z"
   },
   {
    "duration": 8,
    "start_time": "2022-01-30T11:32:20.014Z"
   },
   {
    "duration": 7479,
    "start_time": "2022-01-30T11:32:24.348Z"
   },
   {
    "duration": 6820,
    "start_time": "2022-01-30T11:32:36.606Z"
   },
   {
    "duration": 11,
    "start_time": "2022-01-30T11:32:47.369Z"
   },
   {
    "duration": 8,
    "start_time": "2022-01-30T11:34:34.667Z"
   },
   {
    "duration": 4,
    "start_time": "2022-01-30T11:35:23.260Z"
   },
   {
    "duration": 269,
    "start_time": "2022-01-30T11:37:49.643Z"
   },
   {
    "duration": 8,
    "start_time": "2022-01-30T11:37:52.885Z"
   },
   {
    "duration": 528,
    "start_time": "2022-01-30T11:37:53.084Z"
   },
   {
    "duration": 4,
    "start_time": "2022-01-30T11:38:19.236Z"
   },
   {
    "duration": 8,
    "start_time": "2022-01-30T11:38:23.220Z"
   },
   {
    "duration": 182,
    "start_time": "2022-01-30T11:38:23.594Z"
   },
   {
    "duration": 7,
    "start_time": "2022-01-30T11:39:41.642Z"
   },
   {
    "duration": 178,
    "start_time": "2022-01-30T11:39:41.903Z"
   },
   {
    "duration": 7,
    "start_time": "2022-01-30T11:44:15.384Z"
   },
   {
    "duration": 6,
    "start_time": "2022-01-30T11:44:22.068Z"
   },
   {
    "duration": 6,
    "start_time": "2022-01-30T11:44:48.993Z"
   },
   {
    "duration": 6,
    "start_time": "2022-01-30T11:57:06.558Z"
   },
   {
    "duration": 8,
    "start_time": "2022-01-30T11:57:19.359Z"
   },
   {
    "duration": 6,
    "start_time": "2022-01-30T11:57:31.597Z"
   },
   {
    "duration": 7,
    "start_time": "2022-01-30T11:57:41.602Z"
   },
   {
    "duration": 8,
    "start_time": "2022-01-30T12:00:17.193Z"
   },
   {
    "duration": 308,
    "start_time": "2022-01-30T12:00:17.564Z"
   },
   {
    "duration": 8,
    "start_time": "2022-01-30T12:00:19.139Z"
   },
   {
    "duration": 7,
    "start_time": "2022-01-30T12:06:45.083Z"
   },
   {
    "duration": 234,
    "start_time": "2022-01-30T12:06:45.339Z"
   },
   {
    "duration": 7,
    "start_time": "2022-01-30T12:06:46.687Z"
   },
   {
    "duration": 6,
    "start_time": "2022-01-30T12:06:55.047Z"
   },
   {
    "duration": 9,
    "start_time": "2022-01-30T12:07:02.647Z"
   },
   {
    "duration": 1044,
    "start_time": "2022-01-30T12:08:13.469Z"
   },
   {
    "duration": 807,
    "start_time": "2022-01-30T12:08:46.408Z"
   },
   {
    "duration": 279,
    "start_time": "2022-01-30T12:09:22.070Z"
   },
   {
    "duration": 12,
    "start_time": "2022-01-30T12:09:35.983Z"
   },
   {
    "duration": 25,
    "start_time": "2022-01-30T12:11:54.478Z"
   },
   {
    "duration": 10,
    "start_time": "2022-01-30T12:11:57.068Z"
   },
   {
    "duration": 64,
    "start_time": "2022-01-30T12:12:12.275Z"
   },
   {
    "duration": 14,
    "start_time": "2022-01-30T12:12:19.385Z"
   },
   {
    "duration": 24,
    "start_time": "2022-01-30T12:12:49.575Z"
   },
   {
    "duration": 5,
    "start_time": "2022-01-30T12:13:20.738Z"
   },
   {
    "duration": 7,
    "start_time": "2022-01-30T12:13:32.080Z"
   },
   {
    "duration": 6,
    "start_time": "2022-01-30T12:14:43.716Z"
   },
   {
    "duration": 5,
    "start_time": "2022-01-30T12:15:29.206Z"
   },
   {
    "duration": 7,
    "start_time": "2022-01-30T12:16:05.157Z"
   },
   {
    "duration": 5,
    "start_time": "2022-01-30T12:16:35.802Z"
   },
   {
    "duration": 6,
    "start_time": "2022-01-30T12:16:58.128Z"
   },
   {
    "duration": 5,
    "start_time": "2022-01-30T12:17:10.894Z"
   },
   {
    "duration": 5,
    "start_time": "2022-01-30T13:17:57.736Z"
   },
   {
    "duration": 7,
    "start_time": "2022-01-30T13:21:49.268Z"
   },
   {
    "duration": 5,
    "start_time": "2022-01-30T13:21:52.813Z"
   },
   {
    "duration": 9,
    "start_time": "2022-01-30T13:22:55.791Z"
   },
   {
    "duration": 253,
    "start_time": "2022-01-30T13:23:02.621Z"
   },
   {
    "duration": 152314,
    "start_time": "2022-01-30T13:23:13.573Z"
   },
   {
    "duration": 10,
    "start_time": "2022-01-30T13:25:52.067Z"
   },
   {
    "duration": 14636,
    "start_time": "2022-01-30T13:25:52.936Z"
   },
   {
    "duration": 6,
    "start_time": "2022-01-30T13:26:36.009Z"
   },
   {
    "duration": 193823,
    "start_time": "2022-01-30T13:26:39.232Z"
   },
   {
    "duration": 11,
    "start_time": "2022-01-30T13:29:56.328Z"
   },
   {
    "duration": 628471,
    "start_time": "2022-01-30T13:29:56.645Z"
   },
   {
    "duration": 14,
    "start_time": "2022-01-30T13:40:27.071Z"
   },
   {
    "duration": 152585,
    "start_time": "2022-01-30T13:40:27.257Z"
   },
   {
    "duration": 14,
    "start_time": "2022-01-30T13:43:02.168Z"
   },
   {
    "duration": 133141,
    "start_time": "2022-01-30T13:43:02.339Z"
   },
   {
    "duration": 10,
    "start_time": "2022-01-30T13:45:17.910Z"
   },
   {
    "duration": 165331,
    "start_time": "2022-01-30T13:45:18.114Z"
   },
   {
    "duration": 10,
    "start_time": "2022-01-30T13:48:42.525Z"
   },
   {
    "duration": 12,
    "start_time": "2022-01-30T13:49:14.386Z"
   },
   {
    "duration": 39912,
    "start_time": "2022-01-30T13:49:14.401Z"
   },
   {
    "duration": 10,
    "start_time": "2022-01-30T13:49:56.536Z"
   },
   {
    "duration": 5007,
    "start_time": "2022-01-30T13:49:56.754Z"
   },
   {
    "duration": 11,
    "start_time": "2022-01-30T13:50:06.397Z"
   },
   {
    "duration": 198997,
    "start_time": "2022-01-30T13:50:06.553Z"
   },
   {
    "duration": 43873,
    "start_time": "2022-01-30T13:57:50.067Z"
   },
   {
    "duration": 31,
    "start_time": "2022-01-30T13:58:33.943Z"
   },
   {
    "duration": 187,
    "start_time": "2022-01-30T14:01:05.657Z"
   },
   {
    "duration": 6,
    "start_time": "2022-01-30T14:01:42.671Z"
   },
   {
    "duration": 11,
    "start_time": "2022-01-30T14:01:55.506Z"
   },
   {
    "duration": 4235,
    "start_time": "2022-01-30T14:04:23.960Z"
   },
   {
    "duration": 4293,
    "start_time": "2022-01-30T14:04:28.198Z"
   },
   {
    "duration": 3743,
    "start_time": "2022-01-30T14:04:32.497Z"
   },
   {
    "duration": 2213,
    "start_time": "2022-01-30T14:04:36.243Z"
   },
   {
    "duration": 343,
    "start_time": "2022-01-30T14:04:38.118Z"
   },
   {
    "duration": 342,
    "start_time": "2022-01-30T14:04:38.121Z"
   },
   {
    "duration": 340,
    "start_time": "2022-01-30T14:04:38.124Z"
   },
   {
    "duration": 339,
    "start_time": "2022-01-30T14:04:38.127Z"
   },
   {
    "duration": 337,
    "start_time": "2022-01-30T14:04:38.130Z"
   },
   {
    "duration": 338,
    "start_time": "2022-01-30T14:04:38.132Z"
   },
   {
    "duration": 338,
    "start_time": "2022-01-30T14:04:38.134Z"
   },
   {
    "duration": 341,
    "start_time": "2022-01-30T14:04:38.135Z"
   },
   {
    "duration": 341,
    "start_time": "2022-01-30T14:04:38.137Z"
   },
   {
    "duration": 341,
    "start_time": "2022-01-30T14:04:38.139Z"
   },
   {
    "duration": 348,
    "start_time": "2022-01-30T14:04:38.141Z"
   },
   {
    "duration": 347,
    "start_time": "2022-01-30T14:04:38.144Z"
   },
   {
    "duration": 347,
    "start_time": "2022-01-30T14:04:38.146Z"
   },
   {
    "duration": 347,
    "start_time": "2022-01-30T14:04:38.148Z"
   },
   {
    "duration": 347,
    "start_time": "2022-01-30T14:04:38.150Z"
   },
   {
    "duration": 347,
    "start_time": "2022-01-30T14:04:38.152Z"
   },
   {
    "duration": 348,
    "start_time": "2022-01-30T14:04:38.154Z"
   },
   {
    "duration": 333,
    "start_time": "2022-01-30T14:04:38.170Z"
   },
   {
    "duration": 325,
    "start_time": "2022-01-30T14:04:38.180Z"
   },
   {
    "duration": 325,
    "start_time": "2022-01-30T14:04:38.182Z"
   },
   {
    "duration": 325,
    "start_time": "2022-01-30T14:04:38.184Z"
   },
   {
    "duration": 325,
    "start_time": "2022-01-30T14:04:38.186Z"
   },
   {
    "duration": 325,
    "start_time": "2022-01-30T14:04:38.188Z"
   },
   {
    "duration": 324,
    "start_time": "2022-01-30T14:04:38.191Z"
   },
   {
    "duration": 321,
    "start_time": "2022-01-30T14:04:38.196Z"
   },
   {
    "duration": 320,
    "start_time": "2022-01-30T14:04:38.199Z"
   },
   {
    "duration": 321,
    "start_time": "2022-01-30T14:04:38.200Z"
   },
   {
    "duration": 245,
    "start_time": "2022-01-30T14:04:38.277Z"
   },
   {
    "duration": 204,
    "start_time": "2022-01-30T14:04:38.320Z"
   },
   {
    "duration": 256,
    "start_time": "2022-01-30T14:04:38.322Z"
   },
   {
    "duration": 259,
    "start_time": "2022-01-30T14:04:38.325Z"
   },
   {
    "duration": 260,
    "start_time": "2022-01-30T14:04:38.326Z"
   },
   {
    "duration": 260,
    "start_time": "2022-01-30T14:04:38.328Z"
   },
   {
    "duration": 262,
    "start_time": "2022-01-30T14:04:38.330Z"
   },
   {
    "duration": 263,
    "start_time": "2022-01-30T14:04:38.331Z"
   },
   {
    "duration": 262,
    "start_time": "2022-01-30T14:04:38.334Z"
   },
   {
    "duration": 262,
    "start_time": "2022-01-30T14:04:38.337Z"
   },
   {
    "duration": 236,
    "start_time": "2022-01-30T14:04:38.365Z"
   },
   {
    "duration": 237,
    "start_time": "2022-01-30T14:04:38.367Z"
   },
   {
    "duration": 238,
    "start_time": "2022-01-30T14:04:38.368Z"
   },
   {
    "duration": 238,
    "start_time": "2022-01-30T14:04:38.370Z"
   },
   {
    "duration": 238,
    "start_time": "2022-01-30T14:04:38.372Z"
   },
   {
    "duration": 238,
    "start_time": "2022-01-30T14:04:38.374Z"
   },
   {
    "duration": 238,
    "start_time": "2022-01-30T14:04:38.376Z"
   },
   {
    "duration": 239,
    "start_time": "2022-01-30T14:04:38.377Z"
   },
   {
    "duration": 239,
    "start_time": "2022-01-30T14:04:38.379Z"
   },
   {
    "duration": 3803,
    "start_time": "2022-01-30T14:05:26.596Z"
   },
   {
    "duration": 4375,
    "start_time": "2022-01-30T14:05:30.403Z"
   },
   {
    "duration": 3525,
    "start_time": "2022-01-30T14:05:34.784Z"
   },
   {
    "duration": 37,
    "start_time": "2022-01-30T14:05:38.313Z"
   },
   {
    "duration": 1791,
    "start_time": "2022-01-30T14:05:38.353Z"
   },
   {
    "duration": 69,
    "start_time": "2022-01-30T14:05:40.147Z"
   },
   {
    "duration": 11,
    "start_time": "2022-01-30T14:05:40.220Z"
   },
   {
    "duration": 34,
    "start_time": "2022-01-30T14:05:40.239Z"
   },
   {
    "duration": 21,
    "start_time": "2022-01-30T14:05:40.278Z"
   },
   {
    "duration": 10,
    "start_time": "2022-01-30T14:05:40.302Z"
   },
   {
    "duration": 54,
    "start_time": "2022-01-30T14:05:40.315Z"
   },
   {
    "duration": 3,
    "start_time": "2022-01-30T14:05:40.372Z"
   },
   {
    "duration": 1066,
    "start_time": "2022-01-30T14:05:40.378Z"
   },
   {
    "duration": 1216,
    "start_time": "2022-01-30T14:05:41.446Z"
   },
   {
    "duration": 20,
    "start_time": "2022-01-30T14:05:42.670Z"
   },
   {
    "duration": 11,
    "start_time": "2022-01-30T14:05:42.694Z"
   },
   {
    "duration": 5,
    "start_time": "2022-01-30T14:05:42.709Z"
   },
   {
    "duration": 56,
    "start_time": "2022-01-30T14:05:42.717Z"
   },
   {
    "duration": 664,
    "start_time": "2022-01-30T14:05:42.779Z"
   },
   {
    "duration": 56,
    "start_time": "2022-01-30T14:05:43.447Z"
   },
   {
    "duration": 6,
    "start_time": "2022-01-30T14:05:43.507Z"
   },
   {
    "duration": 1855,
    "start_time": "2022-01-30T14:05:43.517Z"
   },
   {
    "duration": 13,
    "start_time": "2022-01-30T14:05:45.381Z"
   },
   {
    "duration": 7980,
    "start_time": "2022-01-30T14:05:45.399Z"
   },
   {
    "duration": 25,
    "start_time": "2022-01-30T14:05:53.382Z"
   },
   {
    "duration": 376,
    "start_time": "2022-01-30T14:05:53.410Z"
   },
   {
    "duration": 705,
    "start_time": "2022-01-30T14:05:53.790Z"
   },
   {
    "duration": 70,
    "start_time": "2022-01-30T14:05:54.499Z"
   },
   {
    "duration": 33,
    "start_time": "2022-01-30T14:05:54.572Z"
   },
   {
    "duration": 68,
    "start_time": "2022-01-30T14:05:54.608Z"
   },
   {
    "duration": 1501,
    "start_time": "2022-01-30T14:05:54.680Z"
   },
   {
    "duration": 9,
    "start_time": "2022-01-30T14:05:56.186Z"
   },
   {
    "duration": 1050,
    "start_time": "2022-01-30T14:05:56.199Z"
   },
   {
    "duration": 21,
    "start_time": "2022-01-30T14:05:57.252Z"
   },
   {
    "duration": 493,
    "start_time": "2022-01-30T14:05:57.277Z"
   },
   {
    "duration": 9,
    "start_time": "2022-01-30T14:05:57.773Z"
   },
   {
    "duration": 490,
    "start_time": "2022-01-30T14:05:57.785Z"
   },
   {
    "duration": 8,
    "start_time": "2022-01-30T14:05:58.278Z"
   },
   {
    "duration": 11,
    "start_time": "2022-01-30T14:05:58.289Z"
   },
   {
    "duration": 11,
    "start_time": "2022-01-30T14:05:58.303Z"
   },
   {
    "duration": 59,
    "start_time": "2022-01-30T14:05:58.318Z"
   },
   {
    "duration": 19,
    "start_time": "2022-01-30T14:05:58.381Z"
   },
   {
    "duration": 552,
    "start_time": "2022-01-30T14:05:58.403Z"
   },
   {
    "duration": 28,
    "start_time": "2022-01-30T14:05:58.958Z"
   },
   {
    "duration": 9,
    "start_time": "2022-01-30T14:05:58.989Z"
   },
   {
    "duration": 6,
    "start_time": "2022-01-30T14:06:34.096Z"
   },
   {
    "duration": 11,
    "start_time": "2022-01-30T14:06:34.864Z"
   },
   {
    "duration": 187,
    "start_time": "2022-01-30T14:06:35.720Z"
   },
   {
    "duration": 9,
    "start_time": "2022-01-30T14:06:37.645Z"
   },
   {
    "duration": 16,
    "start_time": "2022-01-30T14:06:39.742Z"
   },
   {
    "duration": 187867,
    "start_time": "2022-01-30T14:06:41.284Z"
   },
   {
    "duration": 17,
    "start_time": "2022-01-30T14:10:24.276Z"
   },
   {
    "duration": 3756,
    "start_time": "2022-01-30T14:12:15.192Z"
   },
   {
    "duration": 4064,
    "start_time": "2022-01-30T14:12:18.951Z"
   },
   {
    "duration": 3985,
    "start_time": "2022-01-30T14:12:23.021Z"
   },
   {
    "duration": 1970,
    "start_time": "2022-01-30T14:12:27.011Z"
   },
   {
    "duration": 960,
    "start_time": "2022-01-30T14:12:28.984Z"
   },
   {
    "duration": 45,
    "start_time": "2022-01-30T14:12:29.947Z"
   },
   {
    "duration": 5,
    "start_time": "2022-01-30T14:12:29.995Z"
   },
   {
    "duration": 26,
    "start_time": "2022-01-30T14:12:30.003Z"
   },
   {
    "duration": 38,
    "start_time": "2022-01-30T14:12:30.033Z"
   },
   {
    "duration": 19,
    "start_time": "2022-01-30T14:12:30.075Z"
   },
   {
    "duration": 17,
    "start_time": "2022-01-30T14:12:30.097Z"
   },
   {
    "duration": 15,
    "start_time": "2022-01-30T14:12:30.116Z"
   },
   {
    "duration": 1036,
    "start_time": "2022-01-30T14:12:30.133Z"
   },
   {
    "duration": 1184,
    "start_time": "2022-01-30T14:12:31.173Z"
   },
   {
    "duration": 23,
    "start_time": "2022-01-30T14:12:32.360Z"
   },
   {
    "duration": 15,
    "start_time": "2022-01-30T14:12:32.387Z"
   },
   {
    "duration": 5,
    "start_time": "2022-01-30T14:12:32.405Z"
   },
   {
    "duration": 9,
    "start_time": "2022-01-30T14:12:32.414Z"
   },
   {
    "duration": 887,
    "start_time": "2022-01-30T14:12:32.427Z"
   },
   {
    "duration": 57,
    "start_time": "2022-01-30T14:12:33.317Z"
   },
   {
    "duration": 6,
    "start_time": "2022-01-30T14:12:33.377Z"
   },
   {
    "duration": 1363,
    "start_time": "2022-01-30T14:12:33.386Z"
   },
   {
    "duration": 21,
    "start_time": "2022-01-30T14:12:34.753Z"
   },
   {
    "duration": 6184,
    "start_time": "2022-01-30T14:12:34.777Z"
   },
   {
    "duration": 24,
    "start_time": "2022-01-30T14:12:40.975Z"
   },
   {
    "duration": 304,
    "start_time": "2022-01-30T14:12:41.001Z"
   },
   {
    "duration": 603,
    "start_time": "2022-01-30T14:12:41.310Z"
   },
   {
    "duration": 57,
    "start_time": "2022-01-30T14:12:41.916Z"
   },
   {
    "duration": 36,
    "start_time": "2022-01-30T14:12:41.992Z"
   },
   {
    "duration": 52,
    "start_time": "2022-01-30T14:12:42.031Z"
   },
   {
    "duration": 1125,
    "start_time": "2022-01-30T14:12:42.086Z"
   },
   {
    "duration": 10,
    "start_time": "2022-01-30T14:12:43.215Z"
   },
   {
    "duration": 1021,
    "start_time": "2022-01-30T14:12:43.228Z"
   },
   {
    "duration": 18,
    "start_time": "2022-01-30T14:12:44.253Z"
   },
   {
    "duration": 727,
    "start_time": "2022-01-30T14:12:44.275Z"
   },
   {
    "duration": 9,
    "start_time": "2022-01-30T14:12:45.005Z"
   },
   {
    "duration": 539,
    "start_time": "2022-01-30T14:12:45.016Z"
   },
   {
    "duration": 19,
    "start_time": "2022-01-30T14:12:45.558Z"
   },
   {
    "duration": 13,
    "start_time": "2022-01-30T14:12:45.594Z"
   },
   {
    "duration": 32,
    "start_time": "2022-01-30T14:12:45.609Z"
   },
   {
    "duration": 15,
    "start_time": "2022-01-30T14:12:45.644Z"
   },
   {
    "duration": 50,
    "start_time": "2022-01-30T14:12:45.661Z"
   },
   {
    "duration": 503,
    "start_time": "2022-01-30T14:12:45.713Z"
   },
   {
    "duration": 5,
    "start_time": "2022-01-30T14:12:46.218Z"
   },
   {
    "duration": 25,
    "start_time": "2022-01-30T14:12:46.225Z"
   },
   {
    "duration": 32,
    "start_time": "2022-01-30T14:12:46.253Z"
   },
   {
    "duration": 28,
    "start_time": "2022-01-30T14:12:46.288Z"
   },
   {
    "duration": 275,
    "start_time": "2022-01-30T14:12:46.319Z"
   },
   {
    "duration": 90,
    "start_time": "2022-01-30T14:12:46.597Z"
   },
   {
    "duration": 23,
    "start_time": "2022-01-30T14:12:46.689Z"
   },
   {
    "duration": 205109,
    "start_time": "2022-01-30T14:12:46.714Z"
   },
   {
    "duration": 9,
    "start_time": "2022-01-30T14:17:05.596Z"
   },
   {
    "duration": 633,
    "start_time": "2022-01-30T14:17:09.252Z"
   },
   {
    "duration": 8,
    "start_time": "2022-01-30T14:17:25.261Z"
   },
   {
    "duration": 783611,
    "start_time": "2022-01-30T14:17:25.306Z"
   },
   {
    "duration": 5,
    "start_time": "2022-01-30T14:30:41.380Z"
   },
   {
    "duration": 5,
    "start_time": "2022-01-30T14:30:59.027Z"
   },
   {
    "duration": 8,
    "start_time": "2022-01-30T14:31:04.750Z"
   },
   {
    "duration": 220,
    "start_time": "2022-01-30T14:31:05.067Z"
   },
   {
    "duration": 6,
    "start_time": "2022-01-30T14:31:05.916Z"
   },
   {
    "duration": 11,
    "start_time": "2022-01-30T14:31:06.706Z"
   },
   {
    "duration": 196871,
    "start_time": "2022-01-30T14:31:07.583Z"
   },
   {
    "duration": 13,
    "start_time": "2022-01-30T14:34:24.457Z"
   },
   {
    "duration": 5,
    "start_time": "2022-01-30T14:34:24.474Z"
   },
   {
    "duration": 20,
    "start_time": "2022-01-30T14:35:44.092Z"
   },
   {
    "duration": 186043,
    "start_time": "2022-01-30T14:35:44.242Z"
   },
   {
    "duration": 5,
    "start_time": "2022-01-30T14:39:57.082Z"
   },
   {
    "duration": 6,
    "start_time": "2022-01-30T14:42:54.286Z"
   },
   {
    "duration": 7,
    "start_time": "2022-01-30T14:43:36.924Z"
   },
   {
    "duration": 16,
    "start_time": "2022-01-30T14:43:45.343Z"
   },
   {
    "duration": 277,
    "start_time": "2022-01-30T14:46:25.020Z"
   },
   {
    "duration": 8,
    "start_time": "2022-01-30T14:48:55.949Z"
   },
   {
    "duration": 14,
    "start_time": "2022-01-30T14:49:11.848Z"
   },
   {
    "duration": 88,
    "start_time": "2022-01-30T14:49:28.992Z"
   },
   {
    "duration": 13,
    "start_time": "2022-01-30T14:49:34.235Z"
   },
   {
    "duration": 12,
    "start_time": "2022-01-30T14:49:43.507Z"
   },
   {
    "duration": 6,
    "start_time": "2022-01-30T14:52:29.582Z"
   },
   {
    "duration": 45,
    "start_time": "2022-01-30T14:53:00.242Z"
   },
   {
    "duration": 260196,
    "start_time": "2022-01-30T14:54:07.700Z"
   },
   {
    "duration": 199277,
    "start_time": "2022-01-30T15:11:42.636Z"
   },
   {
    "duration": 23589,
    "start_time": "2022-01-30T15:15:01.916Z"
   },
   {
    "duration": 16,
    "start_time": "2022-01-30T15:15:25.509Z"
   },
   {
    "duration": 187149,
    "start_time": "2022-01-30T15:15:25.527Z"
   },
   {
    "duration": 239235,
    "start_time": "2022-01-30T15:18:32.681Z"
   },
   {
    "duration": 272,
    "start_time": "2022-01-30T15:35:07.691Z"
   },
   {
    "duration": 261,
    "start_time": "2022-01-30T15:35:52.201Z"
   },
   {
    "duration": 5,
    "start_time": "2022-01-30T15:37:10.595Z"
   },
   {
    "duration": 7,
    "start_time": "2022-01-30T15:37:20.538Z"
   },
   {
    "duration": 264,
    "start_time": "2022-01-30T15:39:07.259Z"
   },
   {
    "duration": 19,
    "start_time": "2022-01-30T15:39:41.317Z"
   },
   {
    "duration": 7,
    "start_time": "2022-01-30T15:39:46.601Z"
   },
   {
    "duration": 256,
    "start_time": "2022-01-30T15:40:05.256Z"
   },
   {
    "duration": 26,
    "start_time": "2022-01-30T15:40:19.442Z"
   },
   {
    "duration": 7,
    "start_time": "2022-01-30T15:40:19.925Z"
   },
   {
    "duration": 230,
    "start_time": "2022-01-30T15:40:20.543Z"
   },
   {
    "duration": 9,
    "start_time": "2022-01-30T15:40:23.854Z"
   },
   {
    "duration": 14,
    "start_time": "2022-01-30T15:40:27.545Z"
   },
   {
    "duration": 186848,
    "start_time": "2022-01-30T15:40:30.531Z"
   },
   {
    "duration": 4,
    "start_time": "2022-01-30T15:43:37.382Z"
   },
   {
    "duration": 10,
    "start_time": "2022-01-30T15:43:37.390Z"
   },
   {
    "duration": 270,
    "start_time": "2022-01-30T15:43:37.402Z"
   },
   {
    "duration": 259037,
    "start_time": "2022-01-30T15:43:37.675Z"
   },
   {
    "duration": 39,
    "start_time": "2022-01-30T15:47:56.715Z"
   },
   {
    "duration": 11,
    "start_time": "2022-01-30T15:49:06.304Z"
   },
   {
    "duration": 8,
    "start_time": "2022-01-30T15:49:11.219Z"
   },
   {
    "duration": 6,
    "start_time": "2022-01-30T15:49:27.649Z"
   },
   {
    "duration": 8,
    "start_time": "2022-01-30T15:50:05.588Z"
   },
   {
    "duration": 373,
    "start_time": "2022-01-30T15:50:32.350Z"
   },
   {
    "duration": 7,
    "start_time": "2022-01-30T15:50:43.208Z"
   },
   {
    "duration": 15,
    "start_time": "2022-01-30T15:51:02.633Z"
   },
   {
    "duration": 7,
    "start_time": "2022-01-30T15:51:02.992Z"
   },
   {
    "duration": 270,
    "start_time": "2022-01-30T15:51:47.210Z"
   },
   {
    "duration": 315,
    "start_time": "2022-01-30T15:51:49.885Z"
   },
   {
    "duration": 13,
    "start_time": "2022-01-30T15:52:14.492Z"
   },
   {
    "duration": 10,
    "start_time": "2022-01-30T15:54:02.671Z"
   },
   {
    "duration": 6,
    "start_time": "2022-01-30T15:54:04.683Z"
   },
   {
    "duration": 10,
    "start_time": "2022-01-30T15:56:16.581Z"
   },
   {
    "duration": 8,
    "start_time": "2022-01-30T15:56:18.674Z"
   },
   {
    "duration": 6,
    "start_time": "2022-01-30T15:58:57.689Z"
   },
   {
    "duration": 1076,
    "start_time": "2022-01-31T11:19:46.138Z"
   },
   {
    "duration": 4070,
    "start_time": "2022-01-31T11:23:03.552Z"
   },
   {
    "duration": 12433,
    "start_time": "2022-01-31T11:23:07.625Z"
   },
   {
    "duration": 851,
    "start_time": "2022-01-31T11:23:20.062Z"
   },
   {
    "duration": 839,
    "start_time": "2022-01-31T11:23:20.915Z"
   },
   {
    "duration": 34,
    "start_time": "2022-01-31T11:23:21.757Z"
   },
   {
    "duration": 7,
    "start_time": "2022-01-31T11:23:21.794Z"
   },
   {
    "duration": 6,
    "start_time": "2022-01-31T11:23:21.824Z"
   },
   {
    "duration": 17,
    "start_time": "2022-01-31T11:23:21.834Z"
   },
   {
    "duration": 6,
    "start_time": "2022-01-31T11:23:21.854Z"
   },
   {
    "duration": 9,
    "start_time": "2022-01-31T11:23:21.862Z"
   },
   {
    "duration": 3,
    "start_time": "2022-01-31T11:23:21.874Z"
   },
   {
    "duration": 938,
    "start_time": "2022-01-31T11:23:21.879Z"
   },
   {
    "duration": 1127,
    "start_time": "2022-01-31T11:23:22.824Z"
   },
   {
    "duration": 14,
    "start_time": "2022-01-31T11:23:23.953Z"
   },
   {
    "duration": 10,
    "start_time": "2022-01-31T11:23:23.969Z"
   },
   {
    "duration": 41,
    "start_time": "2022-01-31T11:23:23.982Z"
   },
   {
    "duration": 4,
    "start_time": "2022-01-31T11:23:24.026Z"
   },
   {
    "duration": 597,
    "start_time": "2022-01-31T11:23:24.033Z"
   },
   {
    "duration": 31,
    "start_time": "2022-01-31T11:23:24.633Z"
   },
   {
    "duration": 4,
    "start_time": "2022-01-31T11:23:24.667Z"
   },
   {
    "duration": 1186,
    "start_time": "2022-01-31T11:23:24.673Z"
   },
   {
    "duration": 10,
    "start_time": "2022-01-31T11:23:25.861Z"
   },
   {
    "duration": 5760,
    "start_time": "2022-01-31T11:23:25.876Z"
   },
   {
    "duration": 17,
    "start_time": "2022-01-31T11:23:31.640Z"
   },
   {
    "duration": 299,
    "start_time": "2022-01-31T11:23:31.659Z"
   },
   {
    "duration": 486,
    "start_time": "2022-01-31T11:23:31.961Z"
   },
   {
    "duration": 33,
    "start_time": "2022-01-31T11:23:32.449Z"
   },
   {
    "duration": 47,
    "start_time": "2022-01-31T11:23:32.485Z"
   },
   {
    "duration": 28,
    "start_time": "2022-01-31T11:23:32.534Z"
   },
   {
    "duration": 638,
    "start_time": "2022-01-31T11:23:32.564Z"
   },
   {
    "duration": 21,
    "start_time": "2022-01-31T11:23:33.205Z"
   },
   {
    "duration": 636,
    "start_time": "2022-01-31T11:23:33.229Z"
   },
   {
    "duration": 7,
    "start_time": "2022-01-31T11:23:33.868Z"
   },
   {
    "duration": 459,
    "start_time": "2022-01-31T11:23:33.877Z"
   },
   {
    "duration": 7,
    "start_time": "2022-01-31T11:23:34.338Z"
   },
   {
    "duration": 440,
    "start_time": "2022-01-31T11:23:34.348Z"
   },
   {
    "duration": 7,
    "start_time": "2022-01-31T11:23:34.791Z"
   },
   {
    "duration": 30,
    "start_time": "2022-01-31T11:23:34.800Z"
   },
   {
    "duration": 11,
    "start_time": "2022-01-31T11:23:34.833Z"
   },
   {
    "duration": 11,
    "start_time": "2022-01-31T11:23:34.847Z"
   },
   {
    "duration": 17,
    "start_time": "2022-01-31T11:23:34.861Z"
   },
   {
    "duration": 502,
    "start_time": "2022-01-31T11:23:34.881Z"
   },
   {
    "duration": 5,
    "start_time": "2022-01-31T11:23:35.385Z"
   },
   {
    "duration": 12,
    "start_time": "2022-01-31T11:23:35.392Z"
   },
   {
    "duration": 6,
    "start_time": "2022-01-31T11:23:35.406Z"
   },
   {
    "duration": 10,
    "start_time": "2022-01-31T11:25:33.300Z"
   },
   {
    "duration": 809,
    "start_time": "2022-01-31T11:25:33.721Z"
   },
   {
    "duration": 8,
    "start_time": "2022-01-31T11:29:36.663Z"
   },
   {
    "duration": 7,
    "start_time": "2022-01-31T11:29:40.784Z"
   },
   {
    "duration": 239,
    "start_time": "2022-01-31T11:29:42.884Z"
   },
   {
    "duration": 8,
    "start_time": "2022-01-31T11:29:45.741Z"
   },
   {
    "duration": 1219,
    "start_time": "2022-01-31T11:29:46.113Z"
   },
   {
    "duration": 8,
    "start_time": "2022-01-31T11:30:01.660Z"
   },
   {
    "duration": 9,
    "start_time": "2022-01-31T11:30:05.307Z"
   },
   {
    "duration": 1177,
    "start_time": "2022-01-31T11:30:06.847Z"
   },
   {
    "duration": 8,
    "start_time": "2022-01-31T11:30:14.117Z"
   },
   {
    "duration": 636,
    "start_time": "2022-01-31T11:30:14.889Z"
   },
   {
    "duration": 11,
    "start_time": "2022-01-31T11:31:15.257Z"
   },
   {
    "duration": 848206,
    "start_time": "2022-01-31T11:31:15.663Z"
   },
   {
    "duration": 10,
    "start_time": "2022-01-31T11:46:00.243Z"
   },
   {
    "duration": 771170,
    "start_time": "2022-01-31T11:46:00.438Z"
   },
   {
    "duration": 10,
    "start_time": "2022-01-31T12:00:30.801Z"
   },
   {
    "duration": 588249,
    "start_time": "2022-01-31T12:00:30.814Z"
   },
   {
    "duration": 5,
    "start_time": "2022-01-31T12:10:19.066Z"
   },
   {
    "duration": 309617,
    "start_time": "2022-01-31T12:10:54.350Z"
   },
   {
    "duration": 9,
    "start_time": "2022-01-31T12:16:05.172Z"
   },
   {
    "duration": 104481,
    "start_time": "2022-01-31T12:16:06.941Z"
   },
   {
    "duration": 8,
    "start_time": "2022-01-31T12:18:37.187Z"
   },
   {
    "duration": 490548,
    "start_time": "2022-01-31T12:18:37.616Z"
   },
   {
    "duration": 7,
    "start_time": "2022-01-31T12:29:22.788Z"
   },
   {
    "duration": 141881,
    "start_time": "2022-01-31T12:29:23.058Z"
   },
   {
    "duration": 5,
    "start_time": "2022-01-31T12:33:12.595Z"
   },
   {
    "duration": 4750,
    "start_time": "2022-01-31T12:37:26.473Z"
   },
   {
    "duration": 4027,
    "start_time": "2022-01-31T12:37:31.226Z"
   },
   {
    "duration": 6,
    "start_time": "2022-01-31T12:37:35.257Z"
   },
   {
    "duration": 1216,
    "start_time": "2022-01-31T12:37:35.267Z"
   },
   {
    "duration": 57,
    "start_time": "2022-01-31T12:37:36.486Z"
   },
   {
    "duration": 6,
    "start_time": "2022-01-31T12:37:36.547Z"
   },
   {
    "duration": 9,
    "start_time": "2022-01-31T12:37:36.555Z"
   },
   {
    "duration": 12,
    "start_time": "2022-01-31T12:37:36.567Z"
   },
   {
    "duration": 42,
    "start_time": "2022-01-31T12:37:36.581Z"
   },
   {
    "duration": 9,
    "start_time": "2022-01-31T12:37:36.626Z"
   },
   {
    "duration": 3,
    "start_time": "2022-01-31T12:37:36.638Z"
   },
   {
    "duration": 974,
    "start_time": "2022-01-31T12:37:36.643Z"
   },
   {
    "duration": 1085,
    "start_time": "2022-01-31T12:37:37.619Z"
   },
   {
    "duration": 25,
    "start_time": "2022-01-31T12:37:38.707Z"
   },
   {
    "duration": 11,
    "start_time": "2022-01-31T12:37:38.735Z"
   },
   {
    "duration": 4,
    "start_time": "2022-01-31T12:37:38.749Z"
   },
   {
    "duration": 4,
    "start_time": "2022-01-31T12:37:38.756Z"
   },
   {
    "duration": 798,
    "start_time": "2022-01-31T12:37:38.763Z"
   },
   {
    "duration": 44,
    "start_time": "2022-01-31T12:37:39.565Z"
   },
   {
    "duration": 5,
    "start_time": "2022-01-31T12:37:39.625Z"
   },
   {
    "duration": 1657,
    "start_time": "2022-01-31T12:37:39.634Z"
   },
   {
    "duration": 10,
    "start_time": "2022-01-31T12:37:41.293Z"
   },
   {
    "duration": 5665,
    "start_time": "2022-01-31T12:37:41.325Z"
   },
   {
    "duration": 15,
    "start_time": "2022-01-31T12:37:46.993Z"
   },
   {
    "duration": 278,
    "start_time": "2022-01-31T12:37:47.023Z"
   },
   {
    "duration": 649,
    "start_time": "2022-01-31T12:37:47.304Z"
   },
   {
    "duration": 69,
    "start_time": "2022-01-31T12:37:47.956Z"
   },
   {
    "duration": 39,
    "start_time": "2022-01-31T12:37:48.028Z"
   },
   {
    "duration": 60,
    "start_time": "2022-01-31T12:37:48.070Z"
   },
   {
    "duration": 633,
    "start_time": "2022-01-31T12:37:48.132Z"
   },
   {
    "duration": 7,
    "start_time": "2022-01-31T12:37:48.767Z"
   },
   {
    "duration": 623,
    "start_time": "2022-01-31T12:37:48.777Z"
   },
   {
    "duration": 7,
    "start_time": "2022-01-31T12:37:49.402Z"
   },
   {
    "duration": 455,
    "start_time": "2022-01-31T12:37:49.411Z"
   },
   {
    "duration": 7,
    "start_time": "2022-01-31T12:37:49.869Z"
   },
   {
    "duration": 564,
    "start_time": "2022-01-31T12:37:49.878Z"
   },
   {
    "duration": 7,
    "start_time": "2022-01-31T12:37:50.444Z"
   },
   {
    "duration": 11,
    "start_time": "2022-01-31T12:37:50.453Z"
   },
   {
    "duration": 9,
    "start_time": "2022-01-31T12:37:50.467Z"
   },
   {
    "duration": 49,
    "start_time": "2022-01-31T12:37:50.479Z"
   },
   {
    "duration": 14,
    "start_time": "2022-01-31T12:37:50.530Z"
   },
   {
    "duration": 498,
    "start_time": "2022-01-31T12:37:50.547Z"
   },
   {
    "duration": 6,
    "start_time": "2022-01-31T12:37:51.048Z"
   },
   {
    "duration": 11,
    "start_time": "2022-01-31T12:37:51.056Z"
   },
   {
    "duration": 4,
    "start_time": "2022-01-31T12:37:51.070Z"
   },
   {
    "duration": 11,
    "start_time": "2022-01-31T12:37:51.078Z"
   },
   {
    "duration": 1099,
    "start_time": "2022-01-31T12:37:51.124Z"
   },
   {
    "duration": 7,
    "start_time": "2022-01-31T12:37:52.226Z"
   },
   {
    "duration": 10,
    "start_time": "2022-01-31T12:37:52.235Z"
   },
   {
    "duration": 149411,
    "start_time": "2022-01-31T12:37:52.248Z"
   },
   {
    "duration": 307,
    "start_time": "2022-01-31T12:41:36.173Z"
   },
   {
    "duration": 321,
    "start_time": "2022-01-31T12:42:06.833Z"
   },
   {
    "duration": 7,
    "start_time": "2022-01-31T12:42:47.864Z"
   },
   {
    "duration": 185529,
    "start_time": "2022-01-31T12:42:48.174Z"
   },
   {
    "duration": 10,
    "start_time": "2022-01-31T12:51:13.028Z"
   },
   {
    "duration": 541,
    "start_time": "2022-01-31T12:51:13.493Z"
   },
   {
    "duration": 5,
    "start_time": "2022-01-31T12:51:19.309Z"
   },
   {
    "duration": 11,
    "start_time": "2022-01-31T12:51:25.394Z"
   },
   {
    "duration": 9,
    "start_time": "2022-01-31T13:42:15.060Z"
   },
   {
    "duration": 117,
    "start_time": "2022-01-31T13:47:40.516Z"
   },
   {
    "duration": -11,
    "start_time": "2022-01-31T13:47:40.647Z"
   },
   {
    "duration": 3845,
    "start_time": "2022-01-31T13:47:58.965Z"
   },
   {
    "duration": 4096,
    "start_time": "2022-01-31T13:48:02.813Z"
   },
   {
    "duration": 5,
    "start_time": "2022-01-31T13:48:06.913Z"
   },
   {
    "duration": 883,
    "start_time": "2022-01-31T13:48:06.922Z"
   },
   {
    "duration": 48,
    "start_time": "2022-01-31T13:48:07.808Z"
   },
   {
    "duration": 5,
    "start_time": "2022-01-31T13:48:07.858Z"
   },
   {
    "duration": 9,
    "start_time": "2022-01-31T13:48:07.865Z"
   },
   {
    "duration": 13,
    "start_time": "2022-01-31T13:48:07.877Z"
   },
   {
    "duration": 13,
    "start_time": "2022-01-31T13:48:07.922Z"
   },
   {
    "duration": 12,
    "start_time": "2022-01-31T13:48:07.939Z"
   },
   {
    "duration": 4,
    "start_time": "2022-01-31T13:48:07.954Z"
   },
   {
    "duration": 976,
    "start_time": "2022-01-31T13:48:07.961Z"
   },
   {
    "duration": 1348,
    "start_time": "2022-01-31T13:48:08.940Z"
   },
   {
    "duration": 32,
    "start_time": "2022-01-31T13:48:10.291Z"
   },
   {
    "duration": 12,
    "start_time": "2022-01-31T13:48:10.331Z"
   },
   {
    "duration": 11,
    "start_time": "2022-01-31T13:48:10.345Z"
   },
   {
    "duration": 13,
    "start_time": "2022-01-31T13:48:10.358Z"
   },
   {
    "duration": 599,
    "start_time": "2022-01-31T13:48:10.374Z"
   },
   {
    "duration": 29,
    "start_time": "2022-01-31T13:48:10.976Z"
   },
   {
    "duration": 7,
    "start_time": "2022-01-31T13:48:11.023Z"
   },
   {
    "duration": 1652,
    "start_time": "2022-01-31T13:48:11.032Z"
   },
   {
    "duration": 11,
    "start_time": "2022-01-31T13:48:12.687Z"
   },
   {
    "duration": 5684,
    "start_time": "2022-01-31T13:48:12.725Z"
   },
   {
    "duration": 36,
    "start_time": "2022-01-31T13:48:18.412Z"
   },
   {
    "duration": 319,
    "start_time": "2022-01-31T13:48:18.450Z"
   },
   {
    "duration": 517,
    "start_time": "2022-01-31T13:48:18.772Z"
   },
   {
    "duration": 53,
    "start_time": "2022-01-31T13:48:19.291Z"
   },
   {
    "duration": 26,
    "start_time": "2022-01-31T13:48:19.347Z"
   },
   {
    "duration": 50,
    "start_time": "2022-01-31T13:48:19.375Z"
   },
   {
    "duration": 594,
    "start_time": "2022-01-31T13:48:19.429Z"
   },
   {
    "duration": 7,
    "start_time": "2022-01-31T13:48:20.026Z"
   },
   {
    "duration": 648,
    "start_time": "2022-01-31T13:48:20.036Z"
   },
   {
    "duration": 8,
    "start_time": "2022-01-31T13:48:20.687Z"
   },
   {
    "duration": 481,
    "start_time": "2022-01-31T13:48:20.698Z"
   },
   {
    "duration": 9,
    "start_time": "2022-01-31T13:48:21.182Z"
   },
   {
    "duration": 492,
    "start_time": "2022-01-31T13:48:21.194Z"
   },
   {
    "duration": 9,
    "start_time": "2022-01-31T13:48:21.689Z"
   },
   {
    "duration": 41,
    "start_time": "2022-01-31T13:48:21.700Z"
   },
   {
    "duration": 11,
    "start_time": "2022-01-31T13:48:21.744Z"
   },
   {
    "duration": 11,
    "start_time": "2022-01-31T13:48:21.757Z"
   },
   {
    "duration": 13,
    "start_time": "2022-01-31T13:48:21.771Z"
   },
   {
    "duration": 540,
    "start_time": "2022-01-31T13:48:21.787Z"
   },
   {
    "duration": 5,
    "start_time": "2022-01-31T13:48:22.330Z"
   },
   {
    "duration": 9,
    "start_time": "2022-01-31T13:48:22.338Z"
   },
   {
    "duration": 8,
    "start_time": "2022-01-31T13:48:22.349Z"
   },
   {
    "duration": 9,
    "start_time": "2022-01-31T13:48:22.359Z"
   },
   {
    "duration": 1268,
    "start_time": "2022-01-31T13:48:22.371Z"
   },
   {
    "duration": 6,
    "start_time": "2022-01-31T13:48:23.642Z"
   },
   {
    "duration": 9,
    "start_time": "2022-01-31T13:49:29.956Z"
   },
   {
    "duration": 20749,
    "start_time": "2022-01-31T13:49:34.086Z"
   },
   {
    "duration": 10,
    "start_time": "2022-01-31T13:50:16.659Z"
   },
   {
    "duration": 49663,
    "start_time": "2022-01-31T13:50:17.707Z"
   },
   {
    "duration": 11,
    "start_time": "2022-01-31T13:51:37.723Z"
   },
   {
    "duration": 9228,
    "start_time": "2022-01-31T13:51:38.291Z"
   },
   {
    "duration": 10,
    "start_time": "2022-01-31T13:52:19.101Z"
   },
   {
    "duration": 34900,
    "start_time": "2022-01-31T13:52:19.285Z"
   },
   {
    "duration": 13,
    "start_time": "2022-01-31T13:53:02.644Z"
   },
   {
    "duration": 165681,
    "start_time": "2022-01-31T13:53:03.070Z"
   },
   {
    "duration": 17,
    "start_time": "2022-01-31T13:56:04.123Z"
   },
   {
    "duration": 433784,
    "start_time": "2022-01-31T13:56:05.212Z"
   },
   {
    "duration": 8,
    "start_time": "2022-01-31T14:03:20.100Z"
   },
   {
    "duration": 8850,
    "start_time": "2022-01-31T14:03:20.289Z"
   },
   {
    "duration": 9,
    "start_time": "2022-01-31T14:04:16.037Z"
   },
   {
    "duration": 9007,
    "start_time": "2022-01-31T14:04:16.262Z"
   },
   {
    "duration": 9,
    "start_time": "2022-01-31T14:04:50.691Z"
   },
   {
    "duration": 8922,
    "start_time": "2022-01-31T14:04:50.920Z"
   },
   {
    "duration": 11,
    "start_time": "2022-01-31T14:05:09.833Z"
   },
   {
    "duration": 1194963,
    "start_time": "2022-01-31T14:05:10.123Z"
   },
   {
    "duration": 6,
    "start_time": "2022-01-31T14:25:22.889Z"
   },
   {
    "duration": 40,
    "start_time": "2022-01-31T14:25:42.170Z"
   },
   {
    "duration": 11,
    "start_time": "2022-01-31T14:25:47.719Z"
   },
   {
    "duration": 5,
    "start_time": "2022-01-31T14:25:47.957Z"
   },
   {
    "duration": 11,
    "start_time": "2022-01-31T14:27:47.061Z"
   },
   {
    "duration": 1255,
    "start_time": "2022-01-31T14:27:47.075Z"
   },
   {
    "duration": 6,
    "start_time": "2022-01-31T14:29:59.113Z"
   },
   {
    "duration": 1518,
    "start_time": "2022-01-31T14:29:59.512Z"
   },
   {
    "duration": 6,
    "start_time": "2022-01-31T14:30:30.515Z"
   },
   {
    "duration": 47,
    "start_time": "2022-01-31T14:30:30.678Z"
   },
   {
    "duration": 7,
    "start_time": "2022-01-31T14:30:37.553Z"
   },
   {
    "duration": 13,
    "start_time": "2022-01-31T14:30:51.615Z"
   },
   {
    "duration": 13,
    "start_time": "2022-01-31T14:31:05.620Z"
   },
   {
    "duration": 12,
    "start_time": "2022-01-31T14:32:21.446Z"
   },
   {
    "duration": 6,
    "start_time": "2022-01-31T14:33:40.985Z"
   },
   {
    "duration": 9,
    "start_time": "2022-01-31T14:33:48.382Z"
   },
   {
    "duration": 10,
    "start_time": "2022-01-31T14:34:18.398Z"
   },
   {
    "duration": 5,
    "start_time": "2022-01-31T14:35:01.362Z"
   },
   {
    "duration": 8,
    "start_time": "2022-01-31T14:35:01.673Z"
   },
   {
    "duration": 100,
    "start_time": "2022-01-31T14:35:02.134Z"
   },
   {
    "duration": 12,
    "start_time": "2022-01-31T14:35:04.227Z"
   },
   {
    "duration": 13,
    "start_time": "2022-01-31T14:35:05.815Z"
   },
   {
    "duration": 154283,
    "start_time": "2022-01-31T14:35:06.307Z"
   },
   {
    "duration": 18,
    "start_time": "2022-01-31T14:37:40.593Z"
   },
   {
    "duration": 6,
    "start_time": "2022-01-31T14:37:40.615Z"
   },
   {
    "duration": 14,
    "start_time": "2022-01-31T14:37:40.629Z"
   },
   {
    "duration": 302,
    "start_time": "2022-01-31T14:37:40.646Z"
   },
   {
    "duration": 5,
    "start_time": "2022-01-31T14:37:43.108Z"
   },
   {
    "duration": 7,
    "start_time": "2022-01-31T14:37:43.321Z"
   },
   {
    "duration": 297,
    "start_time": "2022-01-31T14:37:44.076Z"
   },
   {
    "duration": 5,
    "start_time": "2022-01-31T14:37:55.550Z"
   },
   {
    "duration": 11,
    "start_time": "2022-01-31T14:37:55.883Z"
   },
   {
    "duration": 239,
    "start_time": "2022-01-31T14:37:56.395Z"
   },
   {
    "duration": 7,
    "start_time": "2022-01-31T14:37:58.804Z"
   },
   {
    "duration": 9,
    "start_time": "2022-01-31T14:38:01.083Z"
   },
   {
    "duration": 971705,
    "start_time": "2022-01-31T14:38:01.652Z"
   },
   {
    "duration": 7,
    "start_time": "2022-01-31T15:23:49.151Z"
   },
   {
    "duration": 49,
    "start_time": "2022-01-31T15:23:54.552Z"
   },
   {
    "duration": 18,
    "start_time": "2022-01-31T15:23:54.744Z"
   },
   {
    "duration": 12,
    "start_time": "2022-01-31T16:08:53.332Z"
   },
   {
    "duration": 532,
    "start_time": "2022-01-31T16:08:53.658Z"
   },
   {
    "duration": 6,
    "start_time": "2022-01-31T16:09:02.807Z"
   },
   {
    "duration": 9,
    "start_time": "2022-01-31T16:09:05.668Z"
   },
   {
    "duration": 109615,
    "start_time": "2022-01-31T16:09:06.106Z"
   },
   {
    "duration": 14,
    "start_time": "2022-01-31T16:11:45.221Z"
   },
   {
    "duration": 26136,
    "start_time": "2022-01-31T16:11:45.783Z"
   },
   {
    "duration": 10,
    "start_time": "2022-01-31T16:12:12.681Z"
   },
   {
    "duration": 176780,
    "start_time": "2022-01-31T16:12:12.972Z"
   },
   {
    "duration": 11,
    "start_time": "2022-01-31T16:15:10.870Z"
   },
   {
    "duration": 974606,
    "start_time": "2022-01-31T16:15:11.053Z"
   },
   {
    "duration": 9,
    "start_time": "2022-01-31T16:45:34.362Z"
   },
   {
    "duration": 690,
    "start_time": "2022-01-31T16:45:56.044Z"
   },
   {
    "duration": 10,
    "start_time": "2022-01-31T16:47:18.156Z"
   },
   {
    "duration": 800,
    "start_time": "2022-01-31T16:47:18.566Z"
   },
   {
    "duration": 7,
    "start_time": "2022-01-31T16:47:28.698Z"
   },
   {
    "duration": 644,
    "start_time": "2022-01-31T16:47:28.708Z"
   },
   {
    "duration": 7,
    "start_time": "2022-01-31T16:47:43.101Z"
   },
   {
    "duration": 1515,
    "start_time": "2022-01-31T16:47:43.321Z"
   },
   {
    "duration": 14,
    "start_time": "2022-01-31T16:48:05.550Z"
   },
   {
    "duration": 1460,
    "start_time": "2022-01-31T16:48:05.570Z"
   },
   {
    "duration": 14,
    "start_time": "2022-01-31T16:50:50.316Z"
   },
   {
    "duration": 1524,
    "start_time": "2022-01-31T16:50:50.478Z"
   },
   {
    "duration": 7,
    "start_time": "2022-01-31T16:51:25.173Z"
   },
   {
    "duration": 1426,
    "start_time": "2022-01-31T16:51:25.520Z"
   },
   {
    "duration": 6,
    "start_time": "2022-01-31T16:51:38.669Z"
   },
   {
    "duration": 7,
    "start_time": "2022-01-31T16:51:52.167Z"
   },
   {
    "duration": 11,
    "start_time": "2022-01-31T16:51:56.652Z"
   },
   {
    "duration": 9,
    "start_time": "2022-01-31T16:52:03.404Z"
   },
   {
    "duration": 20,
    "start_time": "2022-01-31T16:53:02.563Z"
   },
   {
    "duration": 1281989,
    "start_time": "2022-01-31T16:53:03.578Z"
   },
   {
    "duration": 7,
    "start_time": "2022-01-31T17:14:25.572Z"
   },
   {
    "duration": 22,
    "start_time": "2022-01-31T17:14:46.338Z"
   },
   {
    "duration": 172120,
    "start_time": "2022-01-31T17:14:46.576Z"
   },
   {
    "duration": 14,
    "start_time": "2022-01-31T17:21:35.570Z"
   },
   {
    "duration": 14715,
    "start_time": "2022-01-31T17:21:35.790Z"
   },
   {
    "duration": 11,
    "start_time": "2022-01-31T17:22:20.281Z"
   },
   {
    "duration": 2852312,
    "start_time": "2022-01-31T17:22:20.487Z"
   },
   {
    "duration": 16,
    "start_time": "2022-01-31T18:29:36.859Z"
   },
   {
    "duration": 1487416,
    "start_time": "2022-01-31T18:29:37.191Z"
   },
   {
    "duration": 22,
    "start_time": "2022-01-31T18:55:29.736Z"
   },
   {
    "duration": 190733,
    "start_time": "2022-01-31T18:55:29.765Z"
   },
   {
    "duration": 14,
    "start_time": "2022-01-31T18:58:41.279Z"
   },
   {
    "duration": 2446738,
    "start_time": "2022-01-31T18:58:41.447Z"
   },
   {
    "duration": 12,
    "start_time": "2022-01-31T19:44:32.138Z"
   },
   {
    "duration": 4362,
    "start_time": "2022-02-01T08:19:56.832Z"
   },
   {
    "duration": 12473,
    "start_time": "2022-02-01T08:20:01.197Z"
   },
   {
    "duration": 1624,
    "start_time": "2022-02-01T08:20:13.673Z"
   },
   {
    "duration": 1089,
    "start_time": "2022-02-01T08:20:15.300Z"
   },
   {
    "duration": 35,
    "start_time": "2022-02-01T08:20:16.391Z"
   },
   {
    "duration": 6,
    "start_time": "2022-02-01T08:20:16.428Z"
   },
   {
    "duration": 35,
    "start_time": "2022-02-01T08:20:16.436Z"
   },
   {
    "duration": 15,
    "start_time": "2022-02-01T08:20:16.474Z"
   },
   {
    "duration": 8,
    "start_time": "2022-02-01T08:20:16.493Z"
   },
   {
    "duration": 11,
    "start_time": "2022-02-01T08:20:16.504Z"
   },
   {
    "duration": 7,
    "start_time": "2022-02-01T08:20:16.518Z"
   },
   {
    "duration": 917,
    "start_time": "2022-02-01T08:20:16.527Z"
   },
   {
    "duration": 1235,
    "start_time": "2022-02-01T08:20:17.446Z"
   },
   {
    "duration": 13,
    "start_time": "2022-02-01T08:20:18.684Z"
   },
   {
    "duration": 10,
    "start_time": "2022-02-01T08:20:18.699Z"
   },
   {
    "duration": 4,
    "start_time": "2022-02-01T08:20:18.711Z"
   },
   {
    "duration": 4,
    "start_time": "2022-02-01T08:20:18.717Z"
   },
   {
    "duration": 630,
    "start_time": "2022-02-01T08:20:18.723Z"
   },
   {
    "duration": 34,
    "start_time": "2022-02-01T08:20:19.356Z"
   },
   {
    "duration": 4,
    "start_time": "2022-02-01T08:20:19.393Z"
   },
   {
    "duration": 1236,
    "start_time": "2022-02-01T08:20:19.399Z"
   },
   {
    "duration": 15,
    "start_time": "2022-02-01T08:20:20.638Z"
   },
   {
    "duration": 5627,
    "start_time": "2022-02-01T08:20:20.675Z"
   },
   {
    "duration": 16,
    "start_time": "2022-02-01T08:20:26.305Z"
   },
   {
    "duration": 264,
    "start_time": "2022-02-01T08:20:26.324Z"
   },
   {
    "duration": 505,
    "start_time": "2022-02-01T08:20:26.591Z"
   },
   {
    "duration": 36,
    "start_time": "2022-02-01T08:20:27.098Z"
   },
   {
    "duration": 48,
    "start_time": "2022-02-01T08:20:27.137Z"
   },
   {
    "duration": 28,
    "start_time": "2022-02-01T08:20:27.188Z"
   },
   {
    "duration": 672,
    "start_time": "2022-02-01T08:20:27.218Z"
   },
   {
    "duration": 6,
    "start_time": "2022-02-01T08:20:27.893Z"
   },
   {
    "duration": 677,
    "start_time": "2022-02-01T08:20:27.902Z"
   },
   {
    "duration": 9,
    "start_time": "2022-02-01T08:20:28.581Z"
   },
   {
    "duration": 489,
    "start_time": "2022-02-01T08:20:28.592Z"
   },
   {
    "duration": 7,
    "start_time": "2022-02-01T08:20:29.084Z"
   },
   {
    "duration": 547,
    "start_time": "2022-02-01T08:20:29.093Z"
   },
   {
    "duration": 7,
    "start_time": "2022-02-01T08:20:29.643Z"
   },
   {
    "duration": 24,
    "start_time": "2022-02-01T08:20:29.652Z"
   },
   {
    "duration": 9,
    "start_time": "2022-02-01T08:20:29.678Z"
   },
   {
    "duration": 11,
    "start_time": "2022-02-01T08:20:29.689Z"
   },
   {
    "duration": 14,
    "start_time": "2022-02-01T08:20:29.702Z"
   },
   {
    "duration": 518,
    "start_time": "2022-02-01T08:20:29.719Z"
   },
   {
    "duration": 4,
    "start_time": "2022-02-01T08:20:30.239Z"
   },
   {
    "duration": 24,
    "start_time": "2022-02-01T08:20:30.245Z"
   },
   {
    "duration": 10,
    "start_time": "2022-02-01T08:20:30.271Z"
   },
   {
    "duration": 18,
    "start_time": "2022-02-01T08:20:30.283Z"
   },
   {
    "duration": 9,
    "start_time": "2022-02-01T08:20:30.303Z"
   },
   {
    "duration": 15,
    "start_time": "2022-02-01T08:20:30.315Z"
   },
   {
    "duration": 5,
    "start_time": "2022-02-01T08:20:30.369Z"
   },
   {
    "duration": 9,
    "start_time": "2022-02-01T08:20:30.377Z"
   },
   {
    "duration": 1893,
    "start_time": "2022-02-01T08:20:30.388Z"
   },
   {
    "duration": 40,
    "start_time": "2022-02-01T08:20:32.244Z"
   },
   {
    "duration": 39,
    "start_time": "2022-02-01T08:20:32.246Z"
   },
   {
    "duration": 40,
    "start_time": "2022-02-01T08:20:32.247Z"
   },
   {
    "duration": 40,
    "start_time": "2022-02-01T08:20:32.249Z"
   },
   {
    "duration": 7,
    "start_time": "2022-02-01T08:22:11.186Z"
   },
   {
    "duration": 1573,
    "start_time": "2022-02-01T08:22:11.383Z"
   },
   {
    "duration": 859,
    "start_time": "2022-02-01T08:23:50.016Z"
   },
   {
    "duration": 10,
    "start_time": "2022-02-01T08:24:06.598Z"
   },
   {
    "duration": 2227109,
    "start_time": "2022-02-01T08:24:09.306Z"
   },
   {
    "duration": 6,
    "start_time": "2022-02-01T09:17:42.410Z"
   },
   {
    "duration": 9,
    "start_time": "2022-02-01T09:18:02.261Z"
   },
   {
    "duration": 13,
    "start_time": "2022-02-01T09:19:08.087Z"
   },
   {
    "duration": 12,
    "start_time": "2022-02-01T09:19:13.263Z"
   },
   {
    "duration": 12,
    "start_time": "2022-02-01T09:19:20.006Z"
   },
   {
    "duration": 10,
    "start_time": "2022-02-01T09:19:51.541Z"
   },
   {
    "duration": 16,
    "start_time": "2022-02-01T09:20:23.064Z"
   },
   {
    "duration": 11,
    "start_time": "2022-02-01T09:20:23.396Z"
   },
   {
    "duration": 13,
    "start_time": "2022-02-01T09:20:29.558Z"
   },
   {
    "duration": 8,
    "start_time": "2022-02-01T09:21:50.011Z"
   },
   {
    "duration": 305,
    "start_time": "2022-02-01T09:22:45.902Z"
   },
   {
    "duration": 11,
    "start_time": "2022-02-01T09:26:06.872Z"
   },
   {
    "duration": 10,
    "start_time": "2022-02-01T09:26:17.863Z"
   },
   {
    "duration": 6,
    "start_time": "2022-02-01T09:26:49.760Z"
   },
   {
    "duration": 11,
    "start_time": "2022-02-01T09:27:25.814Z"
   },
   {
    "duration": 100,
    "start_time": "2022-02-01T09:27:51.662Z"
   },
   {
    "duration": 42,
    "start_time": "2022-02-01T09:28:15.446Z"
   },
   {
    "duration": 73,
    "start_time": "2022-02-01T09:34:12.529Z"
   },
   {
    "duration": 16,
    "start_time": "2022-02-01T09:34:44.593Z"
   },
   {
    "duration": 12,
    "start_time": "2022-02-01T09:37:06.707Z"
   },
   {
    "duration": 6,
    "start_time": "2022-02-01T09:37:29.368Z"
   },
   {
    "duration": 6,
    "start_time": "2022-02-01T09:38:15.858Z"
   },
   {
    "duration": 26,
    "start_time": "2022-02-01T09:38:50.597Z"
   },
   {
    "duration": 7,
    "start_time": "2022-02-01T09:38:51.209Z"
   },
   {
    "duration": 10,
    "start_time": "2022-02-01T09:40:32.957Z"
   },
   {
    "duration": 12,
    "start_time": "2022-02-01T09:40:54.762Z"
   },
   {
    "duration": 10,
    "start_time": "2022-02-01T09:41:29.711Z"
   },
   {
    "duration": 11,
    "start_time": "2022-02-01T09:41:37.360Z"
   },
   {
    "duration": 10,
    "start_time": "2022-02-01T09:41:49.185Z"
   },
   {
    "duration": 11,
    "start_time": "2022-02-01T09:41:49.562Z"
   },
   {
    "duration": 11,
    "start_time": "2022-02-01T09:41:50.030Z"
   },
   {
    "duration": 10,
    "start_time": "2022-02-01T09:42:24.455Z"
   },
   {
    "duration": 14,
    "start_time": "2022-02-01T09:42:24.772Z"
   },
   {
    "duration": 45,
    "start_time": "2022-02-01T09:46:14.068Z"
   },
   {
    "duration": 7,
    "start_time": "2022-02-01T09:46:27.941Z"
   },
   {
    "duration": 6,
    "start_time": "2022-02-01T09:46:37.592Z"
   },
   {
    "duration": 17,
    "start_time": "2022-02-01T09:47:48.699Z"
   },
   {
    "duration": 17,
    "start_time": "2022-02-01T09:47:58.033Z"
   },
   {
    "duration": 57,
    "start_time": "2022-02-01T09:49:30.082Z"
   },
   {
    "duration": 44,
    "start_time": "2022-02-01T09:49:48.222Z"
   },
   {
    "duration": 38,
    "start_time": "2022-02-01T09:49:53.461Z"
   },
   {
    "duration": 18,
    "start_time": "2022-02-01T09:50:13.435Z"
   },
   {
    "duration": 32,
    "start_time": "2022-02-01T09:50:17.964Z"
   },
   {
    "duration": 3198,
    "start_time": "2022-02-01T09:50:25.546Z"
   },
   {
    "duration": 3705,
    "start_time": "2022-02-01T09:50:28.749Z"
   },
   {
    "duration": 6,
    "start_time": "2022-02-01T09:50:32.459Z"
   },
   {
    "duration": 852,
    "start_time": "2022-02-01T09:50:32.469Z"
   },
   {
    "duration": 35,
    "start_time": "2022-02-01T09:50:33.324Z"
   },
   {
    "duration": 7,
    "start_time": "2022-02-01T09:50:33.370Z"
   },
   {
    "duration": 16,
    "start_time": "2022-02-01T09:50:33.380Z"
   },
   {
    "duration": 19,
    "start_time": "2022-02-01T09:50:33.400Z"
   },
   {
    "duration": 8,
    "start_time": "2022-02-01T09:50:33.422Z"
   },
   {
    "duration": 40,
    "start_time": "2022-02-01T09:50:33.433Z"
   },
   {
    "duration": 3,
    "start_time": "2022-02-01T09:50:33.475Z"
   },
   {
    "duration": 974,
    "start_time": "2022-02-01T09:50:33.480Z"
   },
   {
    "duration": 1109,
    "start_time": "2022-02-01T09:50:34.456Z"
   },
   {
    "duration": 14,
    "start_time": "2022-02-01T09:50:35.569Z"
   },
   {
    "duration": 10,
    "start_time": "2022-02-01T09:50:35.586Z"
   },
   {
    "duration": 3,
    "start_time": "2022-02-01T09:50:35.599Z"
   },
   {
    "duration": 22,
    "start_time": "2022-02-01T09:50:35.604Z"
   },
   {
    "duration": 49,
    "start_time": "2022-02-01T09:50:35.628Z"
   },
   {
    "duration": 327,
    "start_time": "2022-02-01T09:51:32.085Z"
   },
   {
    "duration": 32,
    "start_time": "2022-02-01T09:51:33.339Z"
   },
   {
    "duration": 162,
    "start_time": "2022-02-01T09:51:34.470Z"
   },
   {
    "duration": 30,
    "start_time": "2022-02-01T09:51:35.547Z"
   },
   {
    "duration": 5,
    "start_time": "2022-02-01T09:51:39.373Z"
   },
   {
    "duration": 5030,
    "start_time": "2022-02-01T09:51:39.836Z"
   },
   {
    "duration": 8,
    "start_time": "2022-02-01T09:51:57.666Z"
   },
   {
    "duration": 367,
    "start_time": "2022-02-01T09:52:14.537Z"
   },
   {
    "duration": 34,
    "start_time": "2022-02-01T09:52:17.299Z"
   },
   {
    "duration": 3386,
    "start_time": "2022-02-01T09:53:24.532Z"
   },
   {
    "duration": 3964,
    "start_time": "2022-02-01T09:53:27.922Z"
   },
   {
    "duration": 6,
    "start_time": "2022-02-01T09:53:31.891Z"
   },
   {
    "duration": 797,
    "start_time": "2022-02-01T09:53:31.900Z"
   },
   {
    "duration": 32,
    "start_time": "2022-02-01T09:53:32.700Z"
   },
   {
    "duration": 5,
    "start_time": "2022-02-01T09:53:32.735Z"
   },
   {
    "duration": 31,
    "start_time": "2022-02-01T09:53:32.743Z"
   },
   {
    "duration": 11,
    "start_time": "2022-02-01T09:53:32.777Z"
   },
   {
    "duration": 7,
    "start_time": "2022-02-01T09:53:32.792Z"
   },
   {
    "duration": 9,
    "start_time": "2022-02-01T09:53:32.802Z"
   },
   {
    "duration": 2,
    "start_time": "2022-02-01T09:53:32.814Z"
   },
   {
    "duration": 952,
    "start_time": "2022-02-01T09:53:32.819Z"
   },
   {
    "duration": 1120,
    "start_time": "2022-02-01T09:53:33.773Z"
   },
   {
    "duration": 15,
    "start_time": "2022-02-01T09:53:34.896Z"
   },
   {
    "duration": 12,
    "start_time": "2022-02-01T09:53:34.914Z"
   },
   {
    "duration": 41,
    "start_time": "2022-02-01T09:53:34.929Z"
   },
   {
    "duration": 616,
    "start_time": "2022-02-01T09:53:34.973Z"
   },
   {
    "duration": 30,
    "start_time": "2022-02-01T09:53:35.591Z"
   },
   {
    "duration": 6,
    "start_time": "2022-02-01T09:53:35.624Z"
   },
   {
    "duration": 1426,
    "start_time": "2022-02-01T09:53:35.633Z"
   },
   {
    "duration": 11,
    "start_time": "2022-02-01T09:53:42.352Z"
   },
   {
    "duration": 5675,
    "start_time": "2022-02-01T09:53:45.010Z"
   },
   {
    "duration": 19,
    "start_time": "2022-02-01T09:53:52.151Z"
   },
   {
    "duration": 19,
    "start_time": "2022-02-01T09:53:54.018Z"
   },
   {
    "duration": 40,
    "start_time": "2022-02-01T09:53:55.361Z"
   },
   {
    "duration": 16,
    "start_time": "2022-02-01T09:53:57.879Z"
   },
   {
    "duration": 247,
    "start_time": "2022-02-01T09:53:59.735Z"
   },
   {
    "duration": 546,
    "start_time": "2022-02-01T09:54:00.882Z"
   },
   {
    "duration": 35,
    "start_time": "2022-02-01T09:54:15.900Z"
   },
   {
    "duration": 30,
    "start_time": "2022-02-01T09:54:21.535Z"
   },
   {
    "duration": 28,
    "start_time": "2022-02-01T09:54:23.387Z"
   },
   {
    "duration": 568,
    "start_time": "2022-02-01T09:54:27.434Z"
   },
   {
    "duration": 7,
    "start_time": "2022-02-01T09:54:28.766Z"
   },
   {
    "duration": 605,
    "start_time": "2022-02-01T09:54:29.201Z"
   },
   {
    "duration": 7,
    "start_time": "2022-02-01T09:54:30.514Z"
   },
   {
    "duration": 632,
    "start_time": "2022-02-01T09:54:31.305Z"
   },
   {
    "duration": 8,
    "start_time": "2022-02-01T09:54:32.555Z"
   },
   {
    "duration": 457,
    "start_time": "2022-02-01T09:54:32.883Z"
   },
   {
    "duration": 7,
    "start_time": "2022-02-01T09:54:34.362Z"
   },
   {
    "duration": 10,
    "start_time": "2022-02-01T09:54:36.279Z"
   },
   {
    "duration": 10,
    "start_time": "2022-02-01T09:54:38.233Z"
   },
   {
    "duration": 11,
    "start_time": "2022-02-01T09:54:38.916Z"
   },
   {
    "duration": 7038,
    "start_time": "2022-02-01T09:54:40.626Z"
   },
   {
    "duration": 13,
    "start_time": "2022-02-01T09:54:47.654Z"
   },
   {
    "duration": 286,
    "start_time": "2022-02-01T09:55:51.043Z"
   },
   {
    "duration": 3315,
    "start_time": "2022-02-01T09:55:55.137Z"
   },
   {
    "duration": 3893,
    "start_time": "2022-02-01T09:55:58.455Z"
   },
   {
    "duration": 6,
    "start_time": "2022-02-01T09:56:02.353Z"
   },
   {
    "duration": 871,
    "start_time": "2022-02-01T09:56:02.362Z"
   },
   {
    "duration": 41,
    "start_time": "2022-02-01T09:56:03.236Z"
   },
   {
    "duration": 6,
    "start_time": "2022-02-01T09:56:03.281Z"
   },
   {
    "duration": 10,
    "start_time": "2022-02-01T09:56:03.290Z"
   },
   {
    "duration": 13,
    "start_time": "2022-02-01T09:56:03.302Z"
   },
   {
    "duration": 6,
    "start_time": "2022-02-01T09:56:03.319Z"
   },
   {
    "duration": 10,
    "start_time": "2022-02-01T09:56:03.369Z"
   },
   {
    "duration": 5,
    "start_time": "2022-02-01T09:56:03.381Z"
   },
   {
    "duration": 962,
    "start_time": "2022-02-01T09:56:03.388Z"
   },
   {
    "duration": 1145,
    "start_time": "2022-02-01T09:56:04.353Z"
   },
   {
    "duration": 14,
    "start_time": "2022-02-01T09:56:05.501Z"
   },
   {
    "duration": 12,
    "start_time": "2022-02-01T09:56:05.518Z"
   },
   {
    "duration": 4,
    "start_time": "2022-02-01T09:56:05.533Z"
   },
   {
    "duration": 628,
    "start_time": "2022-02-01T09:56:05.539Z"
   },
   {
    "duration": 29,
    "start_time": "2022-02-01T09:56:06.170Z"
   },
   {
    "duration": 4,
    "start_time": "2022-02-01T09:56:06.202Z"
   },
   {
    "duration": 1351,
    "start_time": "2022-02-01T09:56:06.209Z"
   },
   {
    "duration": 16,
    "start_time": "2022-02-01T09:56:07.563Z"
   },
   {
    "duration": 6154,
    "start_time": "2022-02-01T09:56:07.581Z"
   },
   {
    "duration": 17,
    "start_time": "2022-02-01T09:56:13.737Z"
   },
   {
    "duration": 7,
    "start_time": "2022-02-01T09:56:13.770Z"
   },
   {
    "duration": 294,
    "start_time": "2022-02-01T09:56:13.780Z"
   },
   {
    "duration": 3548,
    "start_time": "2022-02-01T09:56:35.308Z"
   },
   {
    "duration": 4090,
    "start_time": "2022-02-01T09:56:38.860Z"
   },
   {
    "duration": 5,
    "start_time": "2022-02-01T09:56:42.954Z"
   },
   {
    "duration": 865,
    "start_time": "2022-02-01T09:56:42.962Z"
   },
   {
    "duration": 41,
    "start_time": "2022-02-01T09:56:43.830Z"
   },
   {
    "duration": 9,
    "start_time": "2022-02-01T09:56:43.874Z"
   },
   {
    "duration": 7,
    "start_time": "2022-02-01T09:56:43.885Z"
   },
   {
    "duration": 14,
    "start_time": "2022-02-01T09:56:43.894Z"
   },
   {
    "duration": 6,
    "start_time": "2022-02-01T09:56:43.912Z"
   },
   {
    "duration": 50,
    "start_time": "2022-02-01T09:56:43.921Z"
   },
   {
    "duration": 4,
    "start_time": "2022-02-01T09:56:43.973Z"
   },
   {
    "duration": 993,
    "start_time": "2022-02-01T09:56:43.980Z"
   },
   {
    "duration": 1197,
    "start_time": "2022-02-01T09:56:44.976Z"
   },
   {
    "duration": 15,
    "start_time": "2022-02-01T09:56:46.177Z"
   },
   {
    "duration": 13,
    "start_time": "2022-02-01T09:56:46.195Z"
   },
   {
    "duration": 12,
    "start_time": "2022-02-01T09:56:46.211Z"
   },
   {
    "duration": 643,
    "start_time": "2022-02-01T09:56:46.226Z"
   },
   {
    "duration": 30,
    "start_time": "2022-02-01T09:56:46.871Z"
   },
   {
    "duration": 8,
    "start_time": "2022-02-01T09:56:46.904Z"
   },
   {
    "duration": 1461,
    "start_time": "2022-02-01T09:56:46.914Z"
   },
   {
    "duration": 10,
    "start_time": "2022-02-01T09:56:48.378Z"
   },
   {
    "duration": 5818,
    "start_time": "2022-02-01T09:56:48.391Z"
   },
   {
    "duration": 20,
    "start_time": "2022-02-01T09:56:54.212Z"
   },
   {
    "duration": 8,
    "start_time": "2022-02-01T09:56:57.599Z"
   },
   {
    "duration": 32,
    "start_time": "2022-02-01T09:56:58.610Z"
   },
   {
    "duration": 33,
    "start_time": "2022-02-01T09:57:18.551Z"
   },
   {
    "duration": 4565,
    "start_time": "2022-02-01T09:57:54.719Z"
   },
   {
    "duration": 3389,
    "start_time": "2022-02-01T09:58:17.199Z"
   },
   {
    "duration": 3831,
    "start_time": "2022-02-01T09:58:20.590Z"
   },
   {
    "duration": 6,
    "start_time": "2022-02-01T09:58:24.424Z"
   },
   {
    "duration": 853,
    "start_time": "2022-02-01T09:58:24.432Z"
   },
   {
    "duration": 33,
    "start_time": "2022-02-01T09:58:25.292Z"
   },
   {
    "duration": 6,
    "start_time": "2022-02-01T09:58:25.329Z"
   },
   {
    "duration": 34,
    "start_time": "2022-02-01T09:58:25.338Z"
   },
   {
    "duration": 11,
    "start_time": "2022-02-01T09:58:25.374Z"
   },
   {
    "duration": 6,
    "start_time": "2022-02-01T09:58:25.387Z"
   },
   {
    "duration": 11,
    "start_time": "2022-02-01T09:58:25.396Z"
   },
   {
    "duration": 3,
    "start_time": "2022-02-01T09:58:25.409Z"
   },
   {
    "duration": 1140,
    "start_time": "2022-02-01T09:58:25.414Z"
   },
   {
    "duration": 1134,
    "start_time": "2022-02-01T09:58:26.556Z"
   },
   {
    "duration": 13,
    "start_time": "2022-02-01T09:58:27.693Z"
   },
   {
    "duration": 11,
    "start_time": "2022-02-01T09:58:27.708Z"
   },
   {
    "duration": 11,
    "start_time": "2022-02-01T09:58:27.721Z"
   },
   {
    "duration": 617,
    "start_time": "2022-02-01T09:58:27.735Z"
   },
   {
    "duration": 34,
    "start_time": "2022-02-01T09:58:28.355Z"
   },
   {
    "duration": 9,
    "start_time": "2022-02-01T09:58:28.392Z"
   },
   {
    "duration": 1571,
    "start_time": "2022-02-01T09:58:28.404Z"
   },
   {
    "duration": 8,
    "start_time": "2022-02-01T09:58:29.978Z"
   },
   {
    "duration": 5742,
    "start_time": "2022-02-01T09:58:29.988Z"
   },
   {
    "duration": 17,
    "start_time": "2022-02-01T09:58:35.732Z"
   },
   {
    "duration": 29,
    "start_time": "2022-02-01T09:58:35.752Z"
   },
   {
    "duration": 336,
    "start_time": "2022-02-01T09:58:35.784Z"
   },
   {
    "duration": 665,
    "start_time": "2022-02-01T09:58:36.123Z"
   },
   {
    "duration": 37,
    "start_time": "2022-02-01T09:58:36.791Z"
   },
   {
    "duration": 57,
    "start_time": "2022-02-01T09:58:36.831Z"
   },
   {
    "duration": 30,
    "start_time": "2022-02-01T09:58:36.891Z"
   },
   {
    "duration": 610,
    "start_time": "2022-02-01T09:58:36.924Z"
   },
   {
    "duration": 7,
    "start_time": "2022-02-01T09:58:37.536Z"
   },
   {
    "duration": 634,
    "start_time": "2022-02-01T09:58:37.545Z"
   },
   {
    "duration": 6,
    "start_time": "2022-02-01T09:58:38.182Z"
   },
   {
    "duration": 498,
    "start_time": "2022-02-01T09:58:38.190Z"
   },
   {
    "duration": 8,
    "start_time": "2022-02-01T09:58:38.690Z"
   },
   {
    "duration": 486,
    "start_time": "2022-02-01T09:58:38.700Z"
   },
   {
    "duration": 7,
    "start_time": "2022-02-01T09:58:39.188Z"
   },
   {
    "duration": 10,
    "start_time": "2022-02-01T09:58:39.197Z"
   },
   {
    "duration": 14,
    "start_time": "2022-02-01T09:58:39.209Z"
   },
   {
    "duration": 45,
    "start_time": "2022-02-01T09:58:39.226Z"
   },
   {
    "duration": 14,
    "start_time": "2022-02-01T09:58:43.463Z"
   },
   {
    "duration": 481,
    "start_time": "2022-02-01T09:58:46.267Z"
   },
   {
    "duration": 5,
    "start_time": "2022-02-01T09:58:51.414Z"
   },
   {
    "duration": 4,
    "start_time": "2022-02-01T09:58:51.760Z"
   },
   {
    "duration": 10,
    "start_time": "2022-02-01T09:58:55.289Z"
   },
   {
    "duration": 7,
    "start_time": "2022-02-01T09:58:56.895Z"
   },
   {
    "duration": 10,
    "start_time": "2022-02-01T09:58:57.766Z"
   },
   {
    "duration": 9,
    "start_time": "2022-02-01T10:02:58.421Z"
   },
   {
    "duration": 11,
    "start_time": "2022-02-01T10:03:31.785Z"
   },
   {
    "duration": 6,
    "start_time": "2022-02-01T10:03:37.471Z"
   },
   {
    "duration": 6,
    "start_time": "2022-02-01T10:04:09.834Z"
   },
   {
    "duration": 8,
    "start_time": "2022-02-01T10:04:50.465Z"
   },
   {
    "duration": 5,
    "start_time": "2022-02-01T10:05:56.970Z"
   },
   {
    "duration": 283,
    "start_time": "2022-02-01T10:06:03.930Z"
   },
   {
    "duration": 1113,
    "start_time": "2022-02-01T10:06:06.533Z"
   },
   {
    "duration": 28,
    "start_time": "2022-02-01T10:06:11.577Z"
   },
   {
    "duration": 3,
    "start_time": "2022-02-01T10:06:24.885Z"
   },
   {
    "duration": 5,
    "start_time": "2022-02-01T10:06:28.708Z"
   },
   {
    "duration": 7,
    "start_time": "2022-02-01T10:06:32.999Z"
   },
   {
    "duration": 5,
    "start_time": "2022-02-01T10:06:35.301Z"
   },
   {
    "duration": 30,
    "start_time": "2022-02-01T10:06:38.177Z"
   },
   {
    "duration": 8,
    "start_time": "2022-02-01T10:06:58.686Z"
   },
   {
    "duration": 6,
    "start_time": "2022-02-01T10:06:59.488Z"
   },
   {
    "duration": 28,
    "start_time": "2022-02-01T10:07:01.653Z"
   },
   {
    "duration": 7087,
    "start_time": "2022-02-01T10:08:18.739Z"
   },
   {
    "duration": 267,
    "start_time": "2022-02-01T10:08:59.187Z"
   },
   {
    "duration": 5,
    "start_time": "2022-02-01T10:09:35.615Z"
   },
   {
    "duration": 9,
    "start_time": "2022-02-01T10:09:38.996Z"
   },
   {
    "duration": 5,
    "start_time": "2022-02-01T10:09:40.015Z"
   },
   {
    "duration": 6,
    "start_time": "2022-02-01T10:09:41.749Z"
   },
   {
    "duration": 36,
    "start_time": "2022-02-01T10:09:51.203Z"
   },
   {
    "duration": 45,
    "start_time": "2022-02-01T10:09:54.837Z"
   },
   {
    "duration": 14,
    "start_time": "2022-02-01T10:10:26.183Z"
   },
   {
    "duration": 20,
    "start_time": "2022-02-01T10:11:05.108Z"
   },
   {
    "duration": 18,
    "start_time": "2022-02-01T10:11:22.905Z"
   },
   {
    "duration": 9,
    "start_time": "2022-02-01T10:11:28.309Z"
   },
   {
    "duration": 10,
    "start_time": "2022-02-01T10:12:13.108Z"
   },
   {
    "duration": 10,
    "start_time": "2022-02-01T10:12:35.997Z"
   },
   {
    "duration": 13,
    "start_time": "2022-02-01T10:12:40.020Z"
   },
   {
    "duration": 8,
    "start_time": "2022-02-01T10:13:24.000Z"
   },
   {
    "duration": 8,
    "start_time": "2022-02-01T10:13:57.751Z"
   },
   {
    "duration": 8,
    "start_time": "2022-02-01T10:14:11.474Z"
   },
   {
    "duration": 6,
    "start_time": "2022-02-01T10:14:14.059Z"
   },
   {
    "duration": 19,
    "start_time": "2022-02-01T10:14:24.794Z"
   },
   {
    "duration": 7,
    "start_time": "2022-02-01T10:14:40.794Z"
   },
   {
    "duration": 8,
    "start_time": "2022-02-01T10:14:51.302Z"
   },
   {
    "duration": 5,
    "start_time": "2022-02-01T10:15:56.321Z"
   },
   {
    "duration": 8,
    "start_time": "2022-02-01T10:15:56.586Z"
   },
   {
    "duration": 941,
    "start_time": "2022-02-01T10:15:57.238Z"
   },
   {
    "duration": 9,
    "start_time": "2022-02-01T10:16:03.297Z"
   },
   {
    "duration": 2238329,
    "start_time": "2022-02-01T10:16:14.272Z"
   },
   {
    "duration": 5,
    "start_time": "2022-02-01T10:53:32.604Z"
   },
   {
    "duration": 6,
    "start_time": "2022-02-01T10:54:25.605Z"
   },
   {
    "duration": 5,
    "start_time": "2022-02-01T10:56:38.058Z"
   },
   {
    "duration": 7,
    "start_time": "2022-02-01T10:56:57.694Z"
   },
   {
    "duration": 9,
    "start_time": "2022-02-01T10:57:18.879Z"
   },
   {
    "duration": 6,
    "start_time": "2022-02-01T10:58:40.499Z"
   },
   {
    "duration": 21,
    "start_time": "2022-02-01T10:59:06.204Z"
   },
   {
    "duration": 12,
    "start_time": "2022-02-01T10:59:56.857Z"
   },
   {
    "duration": 11,
    "start_time": "2022-02-01T11:00:03.101Z"
   },
   {
    "duration": 5,
    "start_time": "2022-02-01T11:02:00.772Z"
   },
   {
    "duration": 5,
    "start_time": "2022-02-01T11:02:01.296Z"
   },
   {
    "duration": 20,
    "start_time": "2022-02-01T11:02:01.630Z"
   },
   {
    "duration": 6,
    "start_time": "2022-02-01T11:02:03.316Z"
   },
   {
    "duration": 7,
    "start_time": "2022-02-01T11:02:11.720Z"
   },
   {
    "duration": 9,
    "start_time": "2022-02-01T11:02:12.602Z"
   },
   {
    "duration": 1109,
    "start_time": "2022-02-01T11:02:13.061Z"
   },
   {
    "duration": 9,
    "start_time": "2022-02-01T11:02:25.413Z"
   },
   {
    "duration": 2144960,
    "start_time": "2022-02-01T11:02:26.411Z"
   },
   {
    "duration": 4,
    "start_time": "2022-02-01T11:38:11.374Z"
   },
   {
    "duration": 5,
    "start_time": "2022-02-01T11:40:12.368Z"
   },
   {
    "duration": 7,
    "start_time": "2022-02-01T11:40:18.138Z"
   },
   {
    "duration": 6,
    "start_time": "2022-02-01T11:40:27.491Z"
   },
   {
    "duration": 5,
    "start_time": "2022-02-01T11:40:37.466Z"
   },
   {
    "duration": 15,
    "start_time": "2022-02-01T11:42:33.183Z"
   },
   {
    "duration": 11,
    "start_time": "2022-02-01T11:42:42.977Z"
   },
   {
    "duration": 12,
    "start_time": "2022-02-01T11:42:47.142Z"
   },
   {
    "duration": 6,
    "start_time": "2022-02-01T11:43:21.406Z"
   },
   {
    "duration": 6,
    "start_time": "2022-02-01T11:43:28.426Z"
   },
   {
    "duration": 1538,
    "start_time": "2022-02-01T11:43:28.436Z"
   },
   {
    "duration": 3832875,
    "start_time": "2022-02-01T11:44:03.334Z"
   },
   {
    "duration": 6,
    "start_time": "2022-02-01T13:00:26.115Z"
   },
   {
    "duration": 1215,
    "start_time": "2022-02-01T13:00:26.770Z"
   },
   {
    "duration": 7,
    "start_time": "2022-02-01T13:03:44.521Z"
   },
   {
    "duration": 383,
    "start_time": "2022-02-01T13:04:19.507Z"
   },
   {
    "duration": 297,
    "start_time": "2022-02-01T13:04:30.779Z"
   },
   {
    "duration": 335,
    "start_time": "2022-02-01T13:04:41.951Z"
   },
   {
    "duration": 256,
    "start_time": "2022-02-01T13:04:46.166Z"
   },
   {
    "duration": 224,
    "start_time": "2022-02-01T13:05:16.389Z"
   },
   {
    "duration": 231,
    "start_time": "2022-02-01T13:05:19.685Z"
   },
   {
    "duration": 314,
    "start_time": "2022-02-01T13:06:16.060Z"
   },
   {
    "duration": 47,
    "start_time": "2022-02-01T13:06:46.263Z"
   },
   {
    "duration": 48,
    "start_time": "2022-02-01T13:08:33.092Z"
   },
   {
    "duration": 48,
    "start_time": "2022-02-01T13:08:59.107Z"
   },
   {
    "duration": 32,
    "start_time": "2022-02-01T13:09:08.668Z"
   },
   {
    "duration": 50,
    "start_time": "2022-02-01T13:09:10.928Z"
   },
   {
    "duration": 10,
    "start_time": "2022-02-01T13:09:21.328Z"
   },
   {
    "duration": 7,
    "start_time": "2022-02-01T13:09:31.643Z"
   },
   {
    "duration": 7,
    "start_time": "2022-02-01T13:10:02.181Z"
   },
   {
    "duration": 9,
    "start_time": "2022-02-01T13:21:06.087Z"
   },
   {
    "duration": 10,
    "start_time": "2022-02-01T13:21:19.121Z"
   },
   {
    "duration": 410,
    "start_time": "2022-02-01T13:21:50.393Z"
   },
   {
    "duration": 14,
    "start_time": "2022-02-01T13:22:18.270Z"
   },
   {
    "duration": 87,
    "start_time": "2022-02-01T13:23:25.382Z"
   },
   {
    "duration": 92,
    "start_time": "2022-02-01T13:24:17.567Z"
   },
   {
    "duration": 463,
    "start_time": "2022-02-01T13:24:23.764Z"
   },
   {
    "duration": 14,
    "start_time": "2022-02-01T13:25:16.805Z"
   },
   {
    "duration": 10,
    "start_time": "2022-02-01T13:25:46.833Z"
   },
   {
    "duration": 12,
    "start_time": "2022-02-01T13:26:15.267Z"
   },
   {
    "duration": 97,
    "start_time": "2022-02-01T13:26:36.568Z"
   },
   {
    "duration": 6,
    "start_time": "2022-02-01T13:33:20.315Z"
   },
   {
    "duration": 7,
    "start_time": "2022-02-01T13:33:21.766Z"
   },
   {
    "duration": 1051,
    "start_time": "2022-02-01T13:33:22.229Z"
   },
   {
    "duration": 11,
    "start_time": "2022-02-01T13:33:25.307Z"
   },
   {
    "duration": 440726,
    "start_time": "2022-02-01T13:33:25.903Z"
   },
   {
    "duration": 10,
    "start_time": "2022-02-01T13:41:38.416Z"
   },
   {
    "duration": 1484237,
    "start_time": "2022-02-01T13:41:40.111Z"
   },
   {
    "duration": 3,
    "start_time": "2022-02-01T14:06:24.351Z"
   },
   {
    "duration": 416,
    "start_time": "2022-02-01T14:06:24.357Z"
   },
   {
    "duration": 469,
    "start_time": "2022-02-01T14:06:48.679Z"
   },
   {
    "duration": 15,
    "start_time": "2022-02-01T14:06:49.321Z"
   },
   {
    "duration": 3,
    "start_time": "2022-02-01T14:06:57.227Z"
   },
   {
    "duration": 3,
    "start_time": "2022-02-01T14:07:03.749Z"
   },
   {
    "duration": 412,
    "start_time": "2022-02-01T14:09:16.320Z"
   },
   {
    "duration": 12,
    "start_time": "2022-02-01T14:09:23.644Z"
   },
   {
    "duration": 467,
    "start_time": "2022-02-01T14:09:42.542Z"
   },
   {
    "duration": 11,
    "start_time": "2022-02-01T14:09:49.957Z"
   },
   {
    "duration": 450,
    "start_time": "2022-02-01T14:10:23.322Z"
   },
   {
    "duration": 11,
    "start_time": "2022-02-01T14:10:40.199Z"
   },
   {
    "duration": 810,
    "start_time": "2022-02-01T14:10:57.366Z"
   },
   {
    "duration": 878,
    "start_time": "2022-02-01T14:11:06.734Z"
   },
   {
    "duration": 875,
    "start_time": "2022-02-01T14:11:13.015Z"
   },
   {
    "duration": 4,
    "start_time": "2022-02-01T14:13:29.247Z"
   },
   {
    "duration": 529,
    "start_time": "2022-02-01T14:14:43.557Z"
   },
   {
    "duration": 6,
    "start_time": "2022-02-01T14:15:00.869Z"
   },
   {
    "duration": 7,
    "start_time": "2022-02-01T14:15:06.037Z"
   },
   {
    "duration": 4,
    "start_time": "2022-02-01T14:16:59.226Z"
   },
   {
    "duration": 44,
    "start_time": "2022-02-01T14:16:59.428Z"
   },
   {
    "duration": 809,
    "start_time": "2022-02-01T14:17:17.313Z"
   },
   {
    "duration": 4,
    "start_time": "2022-02-01T14:17:49.213Z"
   },
   {
    "duration": 39,
    "start_time": "2022-02-01T14:17:49.575Z"
   },
   {
    "duration": 815,
    "start_time": "2022-02-01T14:17:50.085Z"
   },
   {
    "duration": 793,
    "start_time": "2022-02-01T14:19:44.909Z"
   },
   {
    "duration": 4,
    "start_time": "2022-02-01T14:23:47.295Z"
   },
   {
    "duration": 43,
    "start_time": "2022-02-01T14:23:47.648Z"
   },
   {
    "duration": 7,
    "start_time": "2022-02-01T14:24:47.489Z"
   },
   {
    "duration": 3321,
    "start_time": "2022-02-01T14:24:54.622Z"
   },
   {
    "duration": 3902,
    "start_time": "2022-02-01T14:24:57.947Z"
   },
   {
    "duration": 8,
    "start_time": "2022-02-01T14:25:01.853Z"
   },
   {
    "duration": 927,
    "start_time": "2022-02-01T14:25:01.863Z"
   },
   {
    "duration": 32,
    "start_time": "2022-02-01T14:25:02.793Z"
   },
   {
    "duration": 9,
    "start_time": "2022-02-01T14:25:02.828Z"
   },
   {
    "duration": 32,
    "start_time": "2022-02-01T14:25:02.839Z"
   },
   {
    "duration": 13,
    "start_time": "2022-02-01T14:25:02.873Z"
   },
   {
    "duration": 7,
    "start_time": "2022-02-01T14:25:02.891Z"
   },
   {
    "duration": 12,
    "start_time": "2022-02-01T14:25:02.901Z"
   },
   {
    "duration": 1078,
    "start_time": "2022-02-01T14:25:02.915Z"
   },
   {
    "duration": 1103,
    "start_time": "2022-02-01T14:25:03.995Z"
   },
   {
    "duration": 16,
    "start_time": "2022-02-01T14:25:05.101Z"
   },
   {
    "duration": 13,
    "start_time": "2022-02-01T14:25:05.119Z"
   },
   {
    "duration": 37,
    "start_time": "2022-02-01T14:25:05.135Z"
   },
   {
    "duration": 640,
    "start_time": "2022-02-01T14:25:05.175Z"
   },
   {
    "duration": 33,
    "start_time": "2022-02-01T14:25:05.818Z"
   },
   {
    "duration": 5,
    "start_time": "2022-02-01T14:25:05.870Z"
   },
   {
    "duration": 1380,
    "start_time": "2022-02-01T14:25:05.878Z"
   },
   {
    "duration": 15,
    "start_time": "2022-02-01T14:25:07.261Z"
   },
   {
    "duration": 5718,
    "start_time": "2022-02-01T14:25:07.279Z"
   },
   {
    "duration": 17,
    "start_time": "2022-02-01T14:25:13.000Z"
   },
   {
    "duration": 17,
    "start_time": "2022-02-01T14:25:13.019Z"
   },
   {
    "duration": 314,
    "start_time": "2022-02-01T14:25:13.039Z"
   },
   {
    "duration": 535,
    "start_time": "2022-02-01T14:25:13.370Z"
   },
   {
    "duration": 39,
    "start_time": "2022-02-01T14:25:13.908Z"
   },
   {
    "duration": 28,
    "start_time": "2022-02-01T14:25:13.973Z"
   },
   {
    "duration": 30,
    "start_time": "2022-02-01T14:25:14.004Z"
   },
   {
    "duration": 869,
    "start_time": "2022-02-01T14:25:14.037Z"
   },
   {
    "duration": 7,
    "start_time": "2022-02-01T14:25:14.909Z"
   },
   {
    "duration": 829,
    "start_time": "2022-02-01T14:25:14.918Z"
   },
   {
    "duration": 20,
    "start_time": "2022-02-01T14:25:15.750Z"
   },
   {
    "duration": 270,
    "start_time": "2022-02-01T14:25:15.773Z"
   },
   {
    "duration": 765,
    "start_time": "2022-02-01T14:25:16.047Z"
   },
   {
    "duration": 628,
    "start_time": "2022-02-01T14:25:16.815Z"
   },
   {
    "duration": 23,
    "start_time": "2022-02-01T14:25:17.446Z"
   },
   {
    "duration": 600,
    "start_time": "2022-02-01T14:25:17.471Z"
   },
   {
    "duration": 7,
    "start_time": "2022-02-01T14:25:18.073Z"
   },
   {
    "duration": 21,
    "start_time": "2022-02-01T14:25:18.082Z"
   },
   {
    "duration": 812,
    "start_time": "2022-02-01T14:25:18.105Z"
   },
   {
    "duration": 11,
    "start_time": "2022-02-01T14:25:18.919Z"
   },
   {
    "duration": 12,
    "start_time": "2022-02-01T14:25:18.932Z"
   },
   {
    "duration": 879,
    "start_time": "2022-02-01T14:25:18.946Z"
   },
   {
    "duration": 10,
    "start_time": "2022-02-01T14:25:19.827Z"
   },
   {
    "duration": 13,
    "start_time": "2022-02-01T14:25:19.839Z"
   },
   {
    "duration": 860,
    "start_time": "2022-02-01T14:25:19.854Z"
   },
   {
    "duration": 10,
    "start_time": "2022-02-01T14:25:20.717Z"
   },
   {
    "duration": 12,
    "start_time": "2022-02-01T14:25:20.729Z"
   },
   {
    "duration": 7,
    "start_time": "2022-02-01T14:25:49.604Z"
   },
   {
    "duration": 14,
    "start_time": "2022-02-01T14:26:12.237Z"
   },
   {
    "duration": 270,
    "start_time": "2022-02-01T14:26:18.670Z"
   },
   {
    "duration": 16,
    "start_time": "2022-02-01T14:26:24.312Z"
   },
   {
    "duration": 5,
    "start_time": "2022-02-01T14:26:37.939Z"
   },
   {
    "duration": 55,
    "start_time": "2022-02-01T14:26:38.436Z"
   },
   {
    "duration": 14,
    "start_time": "2022-02-01T14:26:41.531Z"
   },
   {
    "duration": 806,
    "start_time": "2022-02-01T14:26:57.546Z"
   },
   {
    "duration": 863,
    "start_time": "2022-02-01T14:27:12.431Z"
   },
   {
    "duration": 5,
    "start_time": "2022-02-01T14:27:33.948Z"
   },
   {
    "duration": 50,
    "start_time": "2022-02-01T14:27:34.316Z"
   },
   {
    "duration": 819,
    "start_time": "2022-02-01T14:27:34.794Z"
   },
   {
    "duration": 894,
    "start_time": "2022-02-01T14:27:35.615Z"
   },
   {
    "duration": 920,
    "start_time": "2022-02-01T14:27:46.630Z"
   },
   {
    "duration": 15,
    "start_time": "2022-02-01T14:27:58.481Z"
   },
   {
    "duration": 506,
    "start_time": "2022-02-01T14:27:58.755Z"
   },
   {
    "duration": 5,
    "start_time": "2022-02-01T14:28:18.197Z"
   },
   {
    "duration": 4,
    "start_time": "2022-02-01T14:28:18.471Z"
   },
   {
    "duration": 8,
    "start_time": "2022-02-01T14:28:20.728Z"
   },
   {
    "duration": 6,
    "start_time": "2022-02-01T14:28:23.953Z"
   },
   {
    "duration": 20,
    "start_time": "2022-02-01T14:28:25.872Z"
   },
   {
    "duration": 10,
    "start_time": "2022-02-01T14:28:26.531Z"
   },
   {
    "duration": 5,
    "start_time": "2022-02-01T14:28:27.832Z"
   },
   {
    "duration": 10,
    "start_time": "2022-02-01T14:28:28.433Z"
   },
   {
    "duration": 1051,
    "start_time": "2022-02-01T14:28:29.727Z"
   },
   {
    "duration": 1033,
    "start_time": "2022-02-01T14:29:22.342Z"
   },
   {
    "duration": 98,
    "start_time": "2022-02-01T14:29:23.379Z"
   },
   {
    "duration": 123005,
    "start_time": "2022-02-01T14:29:26.109Z"
   },
   {
    "duration": 9,
    "start_time": "2022-02-01T14:31:35.608Z"
   },
   {
    "duration": 2450117,
    "start_time": "2022-02-01T14:31:35.845Z"
   },
   {
    "duration": 6,
    "start_time": "2022-02-01T15:40:57.895Z"
   },
   {
    "duration": 12,
    "start_time": "2022-02-01T15:41:00.928Z"
   },
   {
    "duration": 6,
    "start_time": "2022-02-01T15:41:01.206Z"
   },
   {
    "duration": 21,
    "start_time": "2022-02-01T15:41:03.479Z"
   },
   {
    "duration": 7,
    "start_time": "2022-02-01T15:41:04.107Z"
   },
   {
    "duration": 1339,
    "start_time": "2022-02-01T15:41:09.135Z"
   },
   {
    "duration": 4251205,
    "start_time": "2022-02-01T15:41:34.889Z"
   },
   {
    "duration": 478,
    "start_time": "2022-02-01T16:53:57.728Z"
   },
   {
    "duration": 40,
    "start_time": "2022-02-01T16:54:14.212Z"
   },
   {
    "duration": 43,
    "start_time": "2022-02-01T16:54:47.832Z"
   },
   {
    "duration": 3,
    "start_time": "2022-02-01T16:56:35.040Z"
   },
   {
    "duration": 35,
    "start_time": "2022-02-01T16:56:35.898Z"
   },
   {
    "duration": 2787,
    "start_time": "2022-02-01T16:56:41.890Z"
   },
   {
    "duration": 49,
    "start_time": "2022-02-01T16:57:03.933Z"
   },
   {
    "duration": 7,
    "start_time": "2022-02-01T16:57:54.258Z"
   },
   {
    "duration": 2374,
    "start_time": "2022-02-01T16:58:02.606Z"
   },
   {
    "duration": -55,
    "start_time": "2022-02-01T16:58:05.039Z"
   },
   {
    "duration": 6,
    "start_time": "2022-02-01T16:58:25.242Z"
   },
   {
    "duration": 2328,
    "start_time": "2022-02-01T16:58:29.659Z"
   },
   {
    "duration": 41,
    "start_time": "2022-02-01T16:58:39.680Z"
   },
   {
    "duration": 5,
    "start_time": "2022-02-01T16:59:08.135Z"
   },
   {
    "duration": 3,
    "start_time": "2022-02-01T16:59:16.863Z"
   },
   {
    "duration": 266,
    "start_time": "2022-02-01T16:59:22.880Z"
   },
   {
    "duration": 5,
    "start_time": "2022-02-01T16:59:26.240Z"
   },
   {
    "duration": 5,
    "start_time": "2022-02-01T16:59:30.857Z"
   },
   {
    "duration": 1924,
    "start_time": "2022-02-01T16:59:38.923Z"
   },
   {
    "duration": 6,
    "start_time": "2022-02-01T17:00:04.325Z"
   },
   {
    "duration": 8,
    "start_time": "2022-02-01T17:00:07.155Z"
   },
   {
    "duration": 1847,
    "start_time": "2022-02-01T17:00:12.015Z"
   },
   {
    "duration": 242,
    "start_time": "2022-02-01T20:03:15.052Z"
   },
   {
    "duration": 104319,
    "start_time": "2022-02-01T20:03:19.085Z"
   },
   {
    "duration": 97567,
    "start_time": "2022-02-01T20:05:03.406Z"
   },
   {
    "duration": 754,
    "start_time": "2022-02-01T20:06:40.975Z"
   },
   {
    "duration": 220,
    "start_time": "2022-02-01T20:06:41.513Z"
   },
   {
    "duration": 219,
    "start_time": "2022-02-01T20:06:41.515Z"
   },
   {
    "duration": 216,
    "start_time": "2022-02-01T20:06:41.518Z"
   },
   {
    "duration": 214,
    "start_time": "2022-02-01T20:06:41.521Z"
   },
   {
    "duration": 213,
    "start_time": "2022-02-01T20:06:41.523Z"
   },
   {
    "duration": 210,
    "start_time": "2022-02-01T20:06:41.527Z"
   },
   {
    "duration": 209,
    "start_time": "2022-02-01T20:06:41.529Z"
   },
   {
    "duration": 207,
    "start_time": "2022-02-01T20:06:41.532Z"
   },
   {
    "duration": 206,
    "start_time": "2022-02-01T20:06:41.534Z"
   },
   {
    "duration": 205,
    "start_time": "2022-02-01T20:06:41.536Z"
   },
   {
    "duration": 204,
    "start_time": "2022-02-01T20:06:41.538Z"
   },
   {
    "duration": 203,
    "start_time": "2022-02-01T20:06:41.540Z"
   },
   {
    "duration": 202,
    "start_time": "2022-02-01T20:06:41.542Z"
   },
   {
    "duration": 196,
    "start_time": "2022-02-01T20:06:41.549Z"
   },
   {
    "duration": 194,
    "start_time": "2022-02-01T20:06:41.552Z"
   },
   {
    "duration": 191,
    "start_time": "2022-02-01T20:06:41.555Z"
   },
   {
    "duration": 191,
    "start_time": "2022-02-01T20:06:41.556Z"
   },
   {
    "duration": 190,
    "start_time": "2022-02-01T20:06:41.558Z"
   },
   {
    "duration": 189,
    "start_time": "2022-02-01T20:06:41.560Z"
   },
   {
    "duration": 187,
    "start_time": "2022-02-01T20:06:41.563Z"
   },
   {
    "duration": 186,
    "start_time": "2022-02-01T20:06:41.565Z"
   },
   {
    "duration": 185,
    "start_time": "2022-02-01T20:06:41.567Z"
   },
   {
    "duration": 184,
    "start_time": "2022-02-01T20:06:41.569Z"
   },
   {
    "duration": 183,
    "start_time": "2022-02-01T20:06:41.571Z"
   },
   {
    "duration": 176,
    "start_time": "2022-02-01T20:06:41.579Z"
   },
   {
    "duration": 174,
    "start_time": "2022-02-01T20:06:41.582Z"
   },
   {
    "duration": 173,
    "start_time": "2022-02-01T20:06:41.584Z"
   },
   {
    "duration": 171,
    "start_time": "2022-02-01T20:06:41.587Z"
   },
   {
    "duration": 170,
    "start_time": "2022-02-01T20:06:41.589Z"
   },
   {
    "duration": 168,
    "start_time": "2022-02-01T20:06:41.592Z"
   },
   {
    "duration": 167,
    "start_time": "2022-02-01T20:06:41.594Z"
   },
   {
    "duration": 162,
    "start_time": "2022-02-01T20:06:41.600Z"
   },
   {
    "duration": 161,
    "start_time": "2022-02-01T20:06:41.602Z"
   },
   {
    "duration": 159,
    "start_time": "2022-02-01T20:06:41.605Z"
   },
   {
    "duration": 158,
    "start_time": "2022-02-01T20:06:41.607Z"
   },
   {
    "duration": 157,
    "start_time": "2022-02-01T20:06:41.610Z"
   },
   {
    "duration": 157,
    "start_time": "2022-02-01T20:06:41.611Z"
   },
   {
    "duration": 154,
    "start_time": "2022-02-01T20:06:41.614Z"
   },
   {
    "duration": 153,
    "start_time": "2022-02-01T20:06:41.616Z"
   },
   {
    "duration": 153,
    "start_time": "2022-02-01T20:06:41.618Z"
   },
   {
    "duration": 191,
    "start_time": "2022-02-01T20:06:41.621Z"
   },
   {
    "duration": 186,
    "start_time": "2022-02-01T20:06:41.627Z"
   },
   {
    "duration": 184,
    "start_time": "2022-02-01T20:06:41.630Z"
   },
   {
    "duration": 183,
    "start_time": "2022-02-01T20:06:41.632Z"
   },
   {
    "duration": 182,
    "start_time": "2022-02-01T20:06:41.634Z"
   },
   {
    "duration": 175,
    "start_time": "2022-02-01T20:06:41.642Z"
   },
   {
    "duration": 168,
    "start_time": "2022-02-01T20:06:41.650Z"
   },
   {
    "duration": 167,
    "start_time": "2022-02-01T20:06:41.652Z"
   },
   {
    "duration": 166,
    "start_time": "2022-02-01T20:06:41.654Z"
   },
   {
    "duration": 160,
    "start_time": "2022-02-01T20:06:41.661Z"
   },
   {
    "duration": 160,
    "start_time": "2022-02-01T20:06:41.662Z"
   },
   {
    "duration": 159,
    "start_time": "2022-02-01T20:06:41.664Z"
   },
   {
    "duration": 158,
    "start_time": "2022-02-01T20:06:41.666Z"
   },
   {
    "duration": 157,
    "start_time": "2022-02-01T20:06:41.668Z"
   },
   {
    "duration": 152,
    "start_time": "2022-02-01T20:06:41.674Z"
   },
   {
    "duration": 147,
    "start_time": "2022-02-01T20:06:41.680Z"
   },
   {
    "duration": 140,
    "start_time": "2022-02-01T20:06:41.688Z"
   },
   {
    "duration": 139,
    "start_time": "2022-02-01T20:06:41.690Z"
   },
   {
    "duration": 136,
    "start_time": "2022-02-01T20:06:41.693Z"
   },
   {
    "duration": 135,
    "start_time": "2022-02-01T20:06:41.695Z"
   },
   {
    "duration": 134,
    "start_time": "2022-02-01T20:06:41.697Z"
   },
   {
    "duration": 134,
    "start_time": "2022-02-01T20:06:41.699Z"
   },
   {
    "duration": 134,
    "start_time": "2022-02-01T20:06:41.701Z"
   },
   {
    "duration": 132,
    "start_time": "2022-02-01T20:06:41.704Z"
   },
   {
    "duration": 43412,
    "start_time": "2022-02-01T20:19:41.991Z"
   },
   {
    "duration": 7567,
    "start_time": "2022-02-01T20:20:25.405Z"
   },
   {
    "duration": 190,
    "start_time": "2022-02-01T20:20:32.974Z"
   },
   {
    "duration": 221,
    "start_time": "2022-02-01T20:20:32.946Z"
   },
   {
    "duration": 220,
    "start_time": "2022-02-01T20:20:32.949Z"
   },
   {
    "duration": 219,
    "start_time": "2022-02-01T20:20:32.951Z"
   },
   {
    "duration": 208,
    "start_time": "2022-02-01T20:20:32.963Z"
   },
   {
    "duration": 207,
    "start_time": "2022-02-01T20:20:32.965Z"
   },
   {
    "duration": 205,
    "start_time": "2022-02-01T20:20:32.968Z"
   },
   {
    "duration": 204,
    "start_time": "2022-02-01T20:20:32.970Z"
   },
   {
    "duration": 203,
    "start_time": "2022-02-01T20:20:32.972Z"
   },
   {
    "duration": 202,
    "start_time": "2022-02-01T20:20:32.974Z"
   },
   {
    "duration": 200,
    "start_time": "2022-02-01T20:20:32.977Z"
   },
   {
    "duration": 199,
    "start_time": "2022-02-01T20:20:32.979Z"
   },
   {
    "duration": 197,
    "start_time": "2022-02-01T20:20:32.982Z"
   },
   {
    "duration": 196,
    "start_time": "2022-02-01T20:20:32.984Z"
   },
   {
    "duration": 195,
    "start_time": "2022-02-01T20:20:32.987Z"
   },
   {
    "duration": 194,
    "start_time": "2022-02-01T20:20:32.989Z"
   },
   {
    "duration": 188,
    "start_time": "2022-02-01T20:20:32.996Z"
   },
   {
    "duration": 186,
    "start_time": "2022-02-01T20:20:32.999Z"
   },
   {
    "duration": 184,
    "start_time": "2022-02-01T20:20:33.002Z"
   },
   {
    "duration": 182,
    "start_time": "2022-02-01T20:20:33.005Z"
   },
   {
    "duration": 180,
    "start_time": "2022-02-01T20:20:33.008Z"
   },
   {
    "duration": 179,
    "start_time": "2022-02-01T20:20:33.010Z"
   },
   {
    "duration": 177,
    "start_time": "2022-02-01T20:20:33.013Z"
   },
   {
    "duration": 176,
    "start_time": "2022-02-01T20:20:33.015Z"
   },
   {
    "duration": 175,
    "start_time": "2022-02-01T20:20:33.017Z"
   },
   {
    "duration": 174,
    "start_time": "2022-02-01T20:20:33.019Z"
   },
   {
    "duration": 173,
    "start_time": "2022-02-01T20:20:33.021Z"
   },
   {
    "duration": 172,
    "start_time": "2022-02-01T20:20:33.023Z"
   },
   {
    "duration": 171,
    "start_time": "2022-02-01T20:20:33.025Z"
   },
   {
    "duration": 170,
    "start_time": "2022-02-01T20:20:33.027Z"
   },
   {
    "duration": 168,
    "start_time": "2022-02-01T20:20:33.030Z"
   },
   {
    "duration": 166,
    "start_time": "2022-02-01T20:20:33.032Z"
   },
   {
    "duration": 165,
    "start_time": "2022-02-01T20:20:33.035Z"
   },
   {
    "duration": 164,
    "start_time": "2022-02-01T20:20:33.037Z"
   },
   {
    "duration": 158,
    "start_time": "2022-02-01T20:20:33.044Z"
   },
   {
    "duration": 156,
    "start_time": "2022-02-01T20:20:33.047Z"
   },
   {
    "duration": 153,
    "start_time": "2022-02-01T20:20:33.051Z"
   },
   {
    "duration": 152,
    "start_time": "2022-02-01T20:20:33.053Z"
   },
   {
    "duration": 150,
    "start_time": "2022-02-01T20:20:33.056Z"
   },
   {
    "duration": 154,
    "start_time": "2022-02-01T20:20:33.058Z"
   },
   {
    "duration": 153,
    "start_time": "2022-02-01T20:20:33.060Z"
   },
   {
    "duration": 153,
    "start_time": "2022-02-01T20:20:33.061Z"
   },
   {
    "duration": 152,
    "start_time": "2022-02-01T20:20:33.063Z"
   },
   {
    "duration": 151,
    "start_time": "2022-02-01T20:20:33.065Z"
   },
   {
    "duration": 149,
    "start_time": "2022-02-01T20:20:33.068Z"
   },
   {
    "duration": 148,
    "start_time": "2022-02-01T20:20:33.070Z"
   },
   {
    "duration": 147,
    "start_time": "2022-02-01T20:20:33.072Z"
   },
   {
    "duration": 145,
    "start_time": "2022-02-01T20:20:33.074Z"
   },
   {
    "duration": 144,
    "start_time": "2022-02-01T20:20:33.076Z"
   },
   {
    "duration": 144,
    "start_time": "2022-02-01T20:20:33.078Z"
   },
   {
    "duration": 143,
    "start_time": "2022-02-01T20:20:33.080Z"
   },
   {
    "duration": 143,
    "start_time": "2022-02-01T20:20:33.081Z"
   },
   {
    "duration": 141,
    "start_time": "2022-02-01T20:20:33.083Z"
   },
   {
    "duration": 141,
    "start_time": "2022-02-01T20:20:33.085Z"
   },
   {
    "duration": 139,
    "start_time": "2022-02-01T20:20:33.088Z"
   },
   {
    "duration": 137,
    "start_time": "2022-02-01T20:20:33.090Z"
   },
   {
    "duration": 137,
    "start_time": "2022-02-01T20:20:33.092Z"
   },
   {
    "duration": 135,
    "start_time": "2022-02-01T20:20:33.094Z"
   },
   {
    "duration": 135,
    "start_time": "2022-02-01T20:20:33.096Z"
   },
   {
    "duration": 133,
    "start_time": "2022-02-01T20:20:33.098Z"
   },
   {
    "duration": 131,
    "start_time": "2022-02-01T20:20:33.101Z"
   },
   {
    "duration": 130,
    "start_time": "2022-02-01T20:20:33.103Z"
   },
   {
    "duration": 129,
    "start_time": "2022-02-01T20:20:33.105Z"
   },
   {
    "duration": 129,
    "start_time": "2022-02-01T20:20:33.107Z"
   },
   {
    "duration": 127,
    "start_time": "2022-02-01T20:20:33.109Z"
   },
   {
    "duration": 68986,
    "start_time": "2022-02-01T20:20:44.250Z"
   },
   {
    "duration": 38133,
    "start_time": "2022-02-01T20:21:53.238Z"
   },
   {
    "duration": 1185,
    "start_time": "2022-02-01T20:22:31.373Z"
   },
   {
    "duration": 687,
    "start_time": "2022-02-01T20:22:32.560Z"
   },
   {
    "duration": 25,
    "start_time": "2022-02-01T20:22:33.248Z"
   },
   {
    "duration": 4,
    "start_time": "2022-02-01T20:22:33.275Z"
   },
   {
    "duration": 8,
    "start_time": "2022-02-01T20:22:33.280Z"
   },
   {
    "duration": 26,
    "start_time": "2022-02-01T20:22:33.290Z"
   },
   {
    "duration": 5,
    "start_time": "2022-02-01T20:22:33.319Z"
   },
   {
    "duration": 6,
    "start_time": "2022-02-01T20:22:33.326Z"
   },
   {
    "duration": 604,
    "start_time": "2022-02-01T20:22:33.334Z"
   },
   {
    "duration": 787,
    "start_time": "2022-02-01T20:22:33.940Z"
   },
   {
    "duration": 9,
    "start_time": "2022-02-01T20:22:34.729Z"
   },
   {
    "duration": 7,
    "start_time": "2022-02-01T20:22:34.739Z"
   },
   {
    "duration": 3,
    "start_time": "2022-02-01T20:22:34.747Z"
   },
   {
    "duration": 458,
    "start_time": "2022-02-01T20:22:34.751Z"
   },
   {
    "duration": 18,
    "start_time": "2022-02-01T20:22:35.211Z"
   },
   {
    "duration": 3,
    "start_time": "2022-02-01T20:22:35.231Z"
   },
   {
    "duration": 1080,
    "start_time": "2022-02-01T20:22:35.236Z"
   },
   {
    "duration": 7,
    "start_time": "2022-02-01T20:22:36.318Z"
   },
   {
    "duration": 4417,
    "start_time": "2022-02-01T20:22:36.326Z"
   },
   {
    "duration": 12,
    "start_time": "2022-02-01T20:22:40.745Z"
   },
   {
    "duration": 10,
    "start_time": "2022-02-01T20:22:40.759Z"
   },
   {
    "duration": 172,
    "start_time": "2022-02-01T20:22:40.771Z"
   },
   {
    "duration": 324,
    "start_time": "2022-02-01T20:22:40.945Z"
   },
   {
    "duration": 23,
    "start_time": "2022-02-01T20:22:41.271Z"
   },
   {
    "duration": 28,
    "start_time": "2022-02-01T20:22:41.315Z"
   },
   {
    "duration": 19,
    "start_time": "2022-02-01T20:22:41.345Z"
   },
   {
    "duration": 547,
    "start_time": "2022-02-01T20:22:41.366Z"
   },
   {
    "duration": 5,
    "start_time": "2022-02-01T20:22:41.915Z"
   },
   {
    "duration": 491,
    "start_time": "2022-02-01T20:22:41.922Z"
   },
   {
    "duration": 4,
    "start_time": "2022-02-01T20:22:42.415Z"
   },
   {
    "duration": 384,
    "start_time": "2022-02-01T20:22:42.421Z"
   },
   {
    "duration": 8,
    "start_time": "2022-02-01T20:22:42.806Z"
   },
   {
    "duration": 377,
    "start_time": "2022-02-01T20:22:42.816Z"
   },
   {
    "duration": 6,
    "start_time": "2022-02-01T20:22:43.195Z"
   },
   {
    "duration": 528,
    "start_time": "2022-02-01T20:22:43.203Z"
   },
   {
    "duration": 7,
    "start_time": "2022-02-01T20:22:43.733Z"
   },
   {
    "duration": 875,
    "start_time": "2022-02-01T20:22:43.742Z"
   },
   {
    "duration": 11,
    "start_time": "2022-02-01T20:22:44.619Z"
   },
   {
    "duration": 597,
    "start_time": "2022-02-01T20:22:44.632Z"
   },
   {
    "duration": 9,
    "start_time": "2022-02-01T20:22:45.231Z"
   },
   {
    "duration": 2,
    "start_time": "2022-02-01T20:22:45.242Z"
   },
   {
    "duration": 35,
    "start_time": "2022-02-01T20:22:45.246Z"
   },
   {
    "duration": 577,
    "start_time": "2022-02-01T20:22:45.282Z"
   },
   {
    "duration": 583,
    "start_time": "2022-02-01T20:22:45.861Z"
   },
   {
    "duration": 585,
    "start_time": "2022-02-01T20:22:46.446Z"
   },
   {
    "duration": 13,
    "start_time": "2022-02-01T20:22:47.033Z"
   },
   {
    "duration": 634,
    "start_time": "2022-02-01T20:22:47.048Z"
   },
   {
    "duration": 3,
    "start_time": "2022-02-01T20:22:47.684Z"
   },
   {
    "duration": 5,
    "start_time": "2022-02-01T20:22:47.688Z"
   },
   {
    "duration": 19,
    "start_time": "2022-02-01T20:22:47.695Z"
   },
   {
    "duration": 13,
    "start_time": "2022-02-01T20:22:47.718Z"
   },
   {
    "duration": 23,
    "start_time": "2022-02-01T20:22:47.733Z"
   },
   {
    "duration": 4,
    "start_time": "2022-02-01T20:22:47.757Z"
   },
   {
    "duration": 3,
    "start_time": "2022-02-01T20:22:47.766Z"
   },
   {
    "duration": 5,
    "start_time": "2022-02-01T20:22:47.771Z"
   },
   {
    "duration": 544,
    "start_time": "2022-02-01T20:22:47.778Z"
   },
   {
    "duration": 227,
    "start_time": "2022-02-01T20:22:48.098Z"
   },
   {
    "duration": 226,
    "start_time": "2022-02-01T20:22:48.100Z"
   },
   {
    "duration": 226,
    "start_time": "2022-02-01T20:22:48.102Z"
   },
   {
    "duration": 216,
    "start_time": "2022-02-01T20:22:48.113Z"
   },
   {
    "duration": 214,
    "start_time": "2022-02-01T20:22:48.116Z"
   },
   {
    "duration": 213,
    "start_time": "2022-02-01T20:22:48.118Z"
   },
   {
    "duration": 213,
    "start_time": "2022-02-01T20:22:48.120Z"
   },
   {
    "duration": 208,
    "start_time": "2022-02-01T20:22:48.126Z"
   },
   {
    "duration": 206,
    "start_time": "2022-02-01T20:22:48.129Z"
   },
   {
    "duration": 3,
    "start_time": "2022-02-01T20:23:18.906Z"
   },
   {
    "duration": 4,
    "start_time": "2022-02-01T20:23:19.204Z"
   },
   {
    "duration": 186,
    "start_time": "2022-02-01T20:23:19.484Z"
   },
   {
    "duration": 3,
    "start_time": "2022-02-01T20:23:44.434Z"
   },
   {
    "duration": 4,
    "start_time": "2022-02-01T20:23:44.690Z"
   },
   {
    "duration": 1251,
    "start_time": "2022-02-01T20:23:44.966Z"
   },
   {
    "duration": 9,
    "start_time": "2022-02-01T20:23:56.875Z"
   },
   {
    "duration": 1782966,
    "start_time": "2022-02-01T20:23:57.071Z"
   },
   {
    "duration": 5,
    "start_time": "2022-02-01T21:37:55.353Z"
   },
   {
    "duration": 5,
    "start_time": "2022-02-01T21:37:58.765Z"
   },
   {
    "duration": 13,
    "start_time": "2022-02-01T21:37:58.772Z"
   },
   {
    "duration": 25,
    "start_time": "2022-02-01T21:37:58.817Z"
   },
   {
    "duration": 6,
    "start_time": "2022-02-01T21:37:59.523Z"
   },
   {
    "duration": 194,
    "start_time": "2022-02-01T21:38:00.170Z"
   },
   {
    "duration": 4,
    "start_time": "2022-02-01T21:38:12.480Z"
   },
   {
    "duration": 418,
    "start_time": "2022-02-01T21:38:12.806Z"
   },
   {
    "duration": 4,
    "start_time": "2022-02-01T21:38:33.898Z"
   },
   {
    "duration": 1111,
    "start_time": "2022-02-01T21:38:34.201Z"
   },
   {
    "duration": 386,
    "start_time": "2022-02-01T21:38:39.053Z"
   },
   {
    "duration": 3218019,
    "start_time": "2022-02-01T21:38:47.154Z"
   },
   {
    "duration": 1435,
    "start_time": "2022-02-01T22:35:59.664Z"
   },
   {
    "duration": 39,
    "start_time": "2022-02-01T22:36:35.783Z"
   },
   {
    "duration": 41,
    "start_time": "2022-02-01T22:36:45.422Z"
   },
   {
    "duration": 4678,
    "start_time": "2022-02-01T22:36:48.754Z"
   },
   {
    "duration": 6,
    "start_time": "2022-02-01T22:37:03.859Z"
   },
   {
    "duration": 5,
    "start_time": "2022-02-01T22:37:19.455Z"
   },
   {
    "duration": 9,
    "start_time": "2022-02-01T22:38:14.332Z"
   },
   {
    "duration": 5,
    "start_time": "2022-02-01T22:38:29.100Z"
   },
   {
    "duration": 518,
    "start_time": "2022-02-01T22:38:45.461Z"
   },
   {
    "duration": 6,
    "start_time": "2022-02-01T22:39:02.831Z"
   },
   {
    "duration": 9,
    "start_time": "2022-02-01T22:39:12.896Z"
   },
   {
    "duration": 198,
    "start_time": "2022-02-01T22:39:17.202Z"
   },
   {
    "duration": 10,
    "start_time": "2022-02-01T22:39:26.524Z"
   },
   {
    "duration": 185,
    "start_time": "2022-02-01T22:39:35.881Z"
   },
   {
    "duration": 4,
    "start_time": "2022-02-01T22:39:46.245Z"
   },
   {
    "duration": 5,
    "start_time": "2022-02-01T22:39:56.873Z"
   },
   {
    "duration": 193,
    "start_time": "2022-02-01T22:40:06.529Z"
   },
   {
    "duration": 5,
    "start_time": "2022-02-01T22:40:11.635Z"
   },
   {
    "duration": 5,
    "start_time": "2022-02-01T22:40:54.111Z"
   },
   {
    "duration": 6,
    "start_time": "2022-02-01T22:40:58.513Z"
   },
   {
    "duration": 5,
    "start_time": "2022-02-01T22:41:07.058Z"
   },
   {
    "duration": 6,
    "start_time": "2022-02-01T22:41:10.162Z"
   },
   {
    "duration": 203,
    "start_time": "2022-02-01T22:41:22.552Z"
   },
   {
    "duration": 10,
    "start_time": "2022-02-01T22:41:29.419Z"
   },
   {
    "duration": 203,
    "start_time": "2022-02-01T22:42:23.501Z"
   },
   {
    "duration": 202,
    "start_time": "2022-02-01T22:42:30.814Z"
   },
   {
    "duration": 5,
    "start_time": "2022-02-01T22:42:49.583Z"
   },
   {
    "duration": 5,
    "start_time": "2022-02-01T22:43:06.151Z"
   },
   {
    "duration": 9,
    "start_time": "2022-02-01T22:43:17.981Z"
   },
   {
    "duration": 12,
    "start_time": "2022-02-01T22:43:40.549Z"
   },
   {
    "duration": 9,
    "start_time": "2022-02-01T22:43:45.222Z"
   },
   {
    "duration": 7,
    "start_time": "2022-02-01T22:44:25.616Z"
   },
   {
    "duration": 40,
    "start_time": "2022-02-01T22:44:39.492Z"
   },
   {
    "duration": 4,
    "start_time": "2022-02-01T22:44:44.758Z"
   },
   {
    "duration": 205,
    "start_time": "2022-02-01T22:45:33.457Z"
   },
   {
    "duration": 226,
    "start_time": "2022-02-01T22:45:33.438Z"
   },
   {
    "duration": 24,
    "start_time": "2022-02-01T22:46:04.195Z"
   },
   {
    "duration": 9,
    "start_time": "2022-02-01T22:46:09.464Z"
   },
   {
    "duration": 8,
    "start_time": "2022-02-01T22:46:18.733Z"
   },
   {
    "duration": 18,
    "start_time": "2022-02-01T22:49:33.457Z"
   },
   {
    "duration": 6,
    "start_time": "2022-02-01T22:49:46.867Z"
   },
   {
    "duration": 2406,
    "start_time": "2022-02-01T22:50:36.226Z"
   },
   {
    "duration": 49062,
    "start_time": "2022-02-01T22:50:38.634Z"
   },
   {
    "duration": 6,
    "start_time": "2022-02-01T22:51:27.699Z"
   },
   {
    "duration": 623,
    "start_time": "2022-02-01T22:51:27.707Z"
   },
   {
    "duration": 21,
    "start_time": "2022-02-01T22:51:28.331Z"
   },
   {
    "duration": 5,
    "start_time": "2022-02-01T22:51:28.354Z"
   },
   {
    "duration": 5,
    "start_time": "2022-02-01T22:51:28.360Z"
   },
   {
    "duration": 8,
    "start_time": "2022-02-01T22:51:28.368Z"
   },
   {
    "duration": 4,
    "start_time": "2022-02-01T22:51:28.378Z"
   },
   {
    "duration": 6,
    "start_time": "2022-02-01T22:51:28.412Z"
   },
   {
    "duration": 652,
    "start_time": "2022-02-01T22:51:28.420Z"
   },
   {
    "duration": 755,
    "start_time": "2022-02-01T22:51:29.074Z"
   },
   {
    "duration": 9,
    "start_time": "2022-02-01T22:51:29.831Z"
   },
   {
    "duration": 7,
    "start_time": "2022-02-01T22:51:29.842Z"
   },
   {
    "duration": 2,
    "start_time": "2022-02-01T22:51:29.851Z"
   },
   {
    "duration": 504,
    "start_time": "2022-02-01T22:51:29.854Z"
   },
   {
    "duration": 20,
    "start_time": "2022-02-01T22:51:30.360Z"
   },
   {
    "duration": 3,
    "start_time": "2022-02-01T22:51:30.382Z"
   },
   {
    "duration": 1151,
    "start_time": "2022-02-01T22:51:30.386Z"
   },
   {
    "duration": 7,
    "start_time": "2022-02-01T22:51:31.538Z"
   },
   {
    "duration": 4673,
    "start_time": "2022-02-01T22:51:31.546Z"
   },
   {
    "duration": 11,
    "start_time": "2022-02-01T22:51:36.221Z"
   },
   {
    "duration": 10,
    "start_time": "2022-02-01T22:51:36.237Z"
   },
   {
    "duration": 175,
    "start_time": "2022-02-01T22:51:36.249Z"
   },
   {
    "duration": 326,
    "start_time": "2022-02-01T22:51:36.425Z"
   },
   {
    "duration": 22,
    "start_time": "2022-02-01T22:51:36.752Z"
   },
   {
    "duration": 38,
    "start_time": "2022-02-01T22:51:36.776Z"
   },
   {
    "duration": 18,
    "start_time": "2022-02-01T22:51:36.816Z"
   },
   {
    "duration": 445,
    "start_time": "2022-02-01T22:51:36.836Z"
   },
   {
    "duration": 5,
    "start_time": "2022-02-01T22:51:37.282Z"
   },
   {
    "duration": 483,
    "start_time": "2022-02-01T22:51:37.289Z"
   },
   {
    "duration": 5,
    "start_time": "2022-02-01T22:51:37.774Z"
   },
   {
    "duration": 371,
    "start_time": "2022-02-01T22:51:37.780Z"
   },
   {
    "duration": 4,
    "start_time": "2022-02-01T22:51:38.153Z"
   },
   {
    "duration": 353,
    "start_time": "2022-02-01T22:51:38.159Z"
   },
   {
    "duration": 4,
    "start_time": "2022-02-01T22:51:38.514Z"
   },
   {
    "duration": 622,
    "start_time": "2022-02-01T22:51:38.520Z"
   },
   {
    "duration": 7,
    "start_time": "2022-02-01T22:51:39.144Z"
   },
   {
    "duration": 512,
    "start_time": "2022-02-01T22:51:39.153Z"
   },
   {
    "duration": 8,
    "start_time": "2022-02-01T22:51:39.667Z"
   },
   {
    "duration": 525,
    "start_time": "2022-02-01T22:51:39.676Z"
   },
   {
    "duration": 11,
    "start_time": "2022-02-01T22:51:40.203Z"
   },
   {
    "duration": 3,
    "start_time": "2022-02-01T22:51:40.215Z"
   },
   {
    "duration": 37,
    "start_time": "2022-02-01T22:51:40.220Z"
   },
   {
    "duration": 501,
    "start_time": "2022-02-01T22:51:40.258Z"
   },
   {
    "duration": 519,
    "start_time": "2022-02-01T22:51:40.761Z"
   },
   {
    "duration": 534,
    "start_time": "2022-02-01T22:51:41.282Z"
   },
   {
    "duration": 9,
    "start_time": "2022-02-01T22:51:41.818Z"
   },
   {
    "duration": 327,
    "start_time": "2022-02-01T22:51:41.829Z"
   },
   {
    "duration": 3,
    "start_time": "2022-02-01T22:51:42.157Z"
   },
   {
    "duration": 4,
    "start_time": "2022-02-01T22:51:42.162Z"
   },
   {
    "duration": 6,
    "start_time": "2022-02-01T22:51:42.168Z"
   },
   {
    "duration": 4,
    "start_time": "2022-02-01T22:51:42.175Z"
   },
   {
    "duration": 42,
    "start_time": "2022-02-01T22:51:42.181Z"
   },
   {
    "duration": 13,
    "start_time": "2022-02-01T22:51:42.225Z"
   },
   {
    "duration": 3,
    "start_time": "2022-02-01T22:51:42.240Z"
   },
   {
    "duration": 5,
    "start_time": "2022-02-01T22:51:42.245Z"
   },
   {
    "duration": 1068,
    "start_time": "2022-02-01T22:51:42.251Z"
   },
   {
    "duration": 7,
    "start_time": "2022-02-01T22:51:43.412Z"
   },
   {
    "duration": 4387,
    "start_time": "2022-02-02T07:51:22.620Z"
   },
   {
    "duration": 12613,
    "start_time": "2022-02-02T07:51:27.010Z"
   },
   {
    "duration": 1680,
    "start_time": "2022-02-02T07:51:39.626Z"
   },
   {
    "duration": 860,
    "start_time": "2022-02-02T07:51:41.310Z"
   },
   {
    "duration": 34,
    "start_time": "2022-02-02T07:51:42.173Z"
   },
   {
    "duration": 5,
    "start_time": "2022-02-02T07:51:42.209Z"
   },
   {
    "duration": 8,
    "start_time": "2022-02-02T07:51:42.216Z"
   },
   {
    "duration": 14,
    "start_time": "2022-02-02T07:51:42.260Z"
   },
   {
    "duration": 6,
    "start_time": "2022-02-02T07:51:42.278Z"
   },
   {
    "duration": 8,
    "start_time": "2022-02-02T07:51:42.287Z"
   },
   {
    "duration": 927,
    "start_time": "2022-02-02T07:51:42.297Z"
   },
   {
    "duration": 1122,
    "start_time": "2022-02-02T07:51:43.226Z"
   },
   {
    "duration": 16,
    "start_time": "2022-02-02T07:51:44.350Z"
   },
   {
    "duration": 9,
    "start_time": "2022-02-02T07:51:44.369Z"
   },
   {
    "duration": 6,
    "start_time": "2022-02-02T07:51:44.380Z"
   },
   {
    "duration": 605,
    "start_time": "2022-02-02T07:51:44.388Z"
   },
   {
    "duration": 29,
    "start_time": "2022-02-02T07:51:44.996Z"
   },
   {
    "duration": 4,
    "start_time": "2022-02-02T07:51:45.027Z"
   },
   {
    "duration": 1421,
    "start_time": "2022-02-02T07:51:45.033Z"
   },
   {
    "duration": 11,
    "start_time": "2022-02-02T07:51:46.456Z"
   },
   {
    "duration": 5805,
    "start_time": "2022-02-02T07:51:46.470Z"
   },
   {
    "duration": 15,
    "start_time": "2022-02-02T07:51:52.278Z"
   },
   {
    "duration": 14,
    "start_time": "2022-02-02T07:51:52.296Z"
   },
   {
    "duration": 273,
    "start_time": "2022-02-02T07:51:52.312Z"
   },
   {
    "duration": 494,
    "start_time": "2022-02-02T07:51:52.587Z"
   },
   {
    "duration": 44,
    "start_time": "2022-02-02T07:51:53.084Z"
   },
   {
    "duration": 56,
    "start_time": "2022-02-02T07:51:53.137Z"
   },
   {
    "duration": 37,
    "start_time": "2022-02-02T07:51:53.198Z"
   },
   {
    "duration": 1139,
    "start_time": "2022-02-02T07:51:53.259Z"
   },
   {
    "duration": 8,
    "start_time": "2022-02-02T07:51:54.401Z"
   },
   {
    "duration": 1119,
    "start_time": "2022-02-02T07:51:54.412Z"
   },
   {
    "duration": 8,
    "start_time": "2022-02-02T07:51:55.534Z"
   },
   {
    "duration": 875,
    "start_time": "2022-02-02T07:51:55.560Z"
   },
   {
    "duration": 21,
    "start_time": "2022-02-02T07:51:56.438Z"
   },
   {
    "duration": 875,
    "start_time": "2022-02-02T07:51:56.461Z"
   },
   {
    "duration": 8,
    "start_time": "2022-02-02T07:51:57.339Z"
   },
   {
    "duration": 887,
    "start_time": "2022-02-02T07:51:57.359Z"
   },
   {
    "duration": 18,
    "start_time": "2022-02-02T07:51:58.249Z"
   },
   {
    "duration": 902,
    "start_time": "2022-02-02T07:51:58.270Z"
   },
   {
    "duration": 11,
    "start_time": "2022-02-02T07:51:59.174Z"
   },
   {
    "duration": 1223,
    "start_time": "2022-02-02T07:51:59.187Z"
   },
   {
    "duration": 17,
    "start_time": "2022-02-02T07:52:00.413Z"
   },
   {
    "duration": 93,
    "start_time": "2022-02-02T07:52:00.433Z"
   },
   {
    "duration": 181,
    "start_time": "2022-02-02T07:52:00.529Z"
   },
   {
    "duration": 804,
    "start_time": "2022-02-02T07:52:00.713Z"
   },
   {
    "duration": 806,
    "start_time": "2022-02-02T07:52:01.520Z"
   },
   {
    "duration": 1033,
    "start_time": "2022-02-02T07:52:02.329Z"
   },
   {
    "duration": 14,
    "start_time": "2022-02-02T07:52:03.364Z"
   },
   {
    "duration": 517,
    "start_time": "2022-02-02T07:52:03.381Z"
   },
   {
    "duration": 6,
    "start_time": "2022-02-02T07:52:03.901Z"
   },
   {
    "duration": 9,
    "start_time": "2022-02-02T07:52:03.909Z"
   },
   {
    "duration": 15,
    "start_time": "2022-02-02T07:52:03.920Z"
   },
   {
    "duration": 5,
    "start_time": "2022-02-02T07:52:03.961Z"
   },
   {
    "duration": 35,
    "start_time": "2022-02-02T07:52:03.969Z"
   },
   {
    "duration": 11,
    "start_time": "2022-02-02T07:52:04.007Z"
   },
   {
    "duration": 39,
    "start_time": "2022-02-02T07:52:04.020Z"
   },
   {
    "duration": 9,
    "start_time": "2022-02-02T07:52:04.062Z"
   },
   {
    "duration": 1292,
    "start_time": "2022-02-02T07:52:04.073Z"
   },
   {
    "duration": 93,
    "start_time": "2022-02-02T07:52:05.370Z"
   },
   {
    "duration": 2405235,
    "start_time": "2022-02-02T07:52:05.466Z"
   },
   {
    "duration": 6,
    "start_time": "2022-02-02T08:32:10.704Z"
   },
   {
    "duration": 6,
    "start_time": "2022-02-02T08:38:57.897Z"
   },
   {
    "duration": 9,
    "start_time": "2022-02-02T08:38:59.925Z"
   },
   {
    "duration": 6,
    "start_time": "2022-02-02T08:39:00.987Z"
   },
   {
    "duration": 35,
    "start_time": "2022-02-02T08:39:01.875Z"
   },
   {
    "duration": 6,
    "start_time": "2022-02-02T08:39:02.545Z"
   },
   {
    "duration": 1611,
    "start_time": "2022-02-02T08:39:03.149Z"
   },
   {
    "duration": 4319365,
    "start_time": "2022-02-02T08:39:18.952Z"
   },
   {
    "duration": 4,
    "start_time": "2022-02-02T09:51:18.325Z"
   },
   {
    "duration": 75,
    "start_time": "2022-02-02T09:58:25.807Z"
   },
   {
    "duration": 68,
    "start_time": "2022-02-02T09:58:27.530Z"
   },
   {
    "duration": 6,
    "start_time": "2022-02-02T09:58:28.267Z"
   },
   {
    "duration": 50,
    "start_time": "2022-02-02T09:58:29.216Z"
   },
   {
    "duration": 6,
    "start_time": "2022-02-02T09:58:29.583Z"
   },
   {
    "duration": 5,
    "start_time": "2022-02-02T09:58:30.680Z"
   },
   {
    "duration": 4,
    "start_time": "2022-02-02T09:58:48.791Z"
   },
   {
    "duration": 6,
    "start_time": "2022-02-02T09:58:55.071Z"
   },
   {
    "duration": 6,
    "start_time": "2022-02-02T10:01:03.389Z"
   },
   {
    "duration": 669,
    "start_time": "2022-02-02T10:07:28.384Z"
   },
   {
    "duration": -33,
    "start_time": "2022-02-02T10:07:29.090Z"
   },
   {
    "duration": 64,
    "start_time": "2022-02-02T10:07:49.152Z"
   },
   {
    "duration": 7,
    "start_time": "2022-02-02T10:07:50.158Z"
   },
   {
    "duration": 50,
    "start_time": "2022-02-02T10:07:51.173Z"
   },
   {
    "duration": 6,
    "start_time": "2022-02-02T10:07:51.578Z"
   },
   {
    "duration": 6,
    "start_time": "2022-02-02T10:07:52.058Z"
   },
   {
    "duration": 166025,
    "start_time": "2022-02-02T10:24:56.928Z"
   },
   {
    "duration": 144896,
    "start_time": "2022-02-02T10:27:42.956Z"
   },
   {
    "duration": 8205,
    "start_time": "2022-02-02T10:30:07.855Z"
   },
   {
    "duration": 5400,
    "start_time": "2022-02-02T10:31:58.849Z"
   },
   {
    "duration": 116,
    "start_time": "2022-02-02T10:32:07.150Z"
   },
   {
    "duration": 7,
    "start_time": "2022-02-02T10:32:07.848Z"
   },
   {
    "duration": 8,
    "start_time": "2022-02-02T10:32:08.348Z"
   },
   {
    "duration": 99,
    "start_time": "2022-02-02T10:32:09.150Z"
   },
   {
    "duration": 29,
    "start_time": "2022-02-02T10:32:09.325Z"
   },
   {
    "duration": 101,
    "start_time": "2022-02-02T10:32:10.350Z"
   },
   {
    "duration": 4600,
    "start_time": "2022-02-02T10:32:11.550Z"
   },
   {
    "duration": 206,
    "start_time": "2022-02-02T10:32:20.450Z"
   },
   {
    "duration": 15,
    "start_time": "2022-02-02T10:32:21.149Z"
   },
   {
    "duration": 8,
    "start_time": "2022-02-02T10:32:21.750Z"
   },
   {
    "duration": 614,
    "start_time": "2022-02-02T10:32:24.548Z"
   },
   {
    "duration": 109,
    "start_time": "2022-02-02T10:32:25.165Z"
   },
   {
    "duration": 9,
    "start_time": "2022-02-02T10:32:36.949Z"
   },
   {
    "duration": 4504,
    "start_time": "2022-02-02T10:32:37.560Z"
   },
   {
    "duration": 88,
    "start_time": "2022-02-02T10:32:42.067Z"
   },
   {
    "duration": 26803,
    "start_time": "2022-02-02T10:32:42.350Z"
   },
   {
    "duration": 92,
    "start_time": "2022-02-02T10:33:09.156Z"
   },
   {
    "duration": 97,
    "start_time": "2022-02-02T10:33:09.252Z"
   },
   {
    "duration": 1231,
    "start_time": "2022-02-02T10:33:09.352Z"
   },
   {
    "duration": 2214,
    "start_time": "2022-02-02T10:33:10.651Z"
   },
   {
    "duration": 6,
    "start_time": "2022-02-02T10:33:28.150Z"
   },
   {
    "duration": 110,
    "start_time": "2022-02-02T10:34:08.849Z"
   },
   {
    "duration": 190,
    "start_time": "2022-02-02T10:34:08.963Z"
   },
   {
    "duration": 197,
    "start_time": "2022-02-02T10:34:09.362Z"
   },
   {
    "duration": 164909,
    "start_time": "2022-02-02T10:35:59.450Z"
   },
   {
    "duration": 89,
    "start_time": "2022-02-02T10:38:44.364Z"
   },
   {
    "duration": 4401,
    "start_time": "2022-02-02T10:38:44.456Z"
   },
   {
    "duration": 113,
    "start_time": "2022-02-02T10:38:48.861Z"
   },
   {
    "duration": 3210,
    "start_time": "2022-02-02T10:38:49.050Z"
   },
   {
    "duration": 99,
    "start_time": "2022-02-02T10:38:52.351Z"
   },
   {
    "duration": 2803,
    "start_time": "2022-02-02T10:38:52.453Z"
   },
   {
    "duration": 92,
    "start_time": "2022-02-02T10:38:55.261Z"
   },
   {
    "duration": 100,
    "start_time": "2022-02-02T10:39:11.850Z"
   },
   {
    "duration": 2691,
    "start_time": "2022-02-02T10:39:12.658Z"
   },
   {
    "duration": 82,
    "start_time": "2022-02-02T10:39:20.765Z"
   },
   {
    "duration": 10,
    "start_time": "2022-02-02T10:39:20.949Z"
   },
   {
    "duration": 13,
    "start_time": "2022-02-02T10:39:44.250Z"
   },
   {
    "duration": 6,
    "start_time": "2022-02-02T10:39:48.649Z"
   },
   {
    "duration": 191,
    "start_time": "2022-02-02T10:39:58.758Z"
   },
   {
    "duration": 89,
    "start_time": "2022-02-02T10:39:59.266Z"
   },
   {
    "duration": 7,
    "start_time": "2022-02-02T10:40:00.250Z"
   },
   {
    "duration": 9,
    "start_time": "2022-02-02T10:40:01.549Z"
   },
   {
    "duration": 2512,
    "start_time": "2022-02-02T10:40:16.050Z"
   },
   {
    "duration": 17,
    "start_time": "2022-02-02T10:40:18.651Z"
   },
   {
    "duration": 269589,
    "start_time": "2022-02-02T10:40:18.672Z"
   },
   {
    "duration": 288,
    "start_time": "2022-02-02T10:44:48.264Z"
   },
   {
    "duration": 1927,
    "start_time": "2022-02-02T10:44:46.629Z"
   },
   {
    "duration": 1923,
    "start_time": "2022-02-02T10:44:46.635Z"
   },
   {
    "duration": 1918,
    "start_time": "2022-02-02T10:44:46.641Z"
   },
   {
    "duration": 1913,
    "start_time": "2022-02-02T10:44:46.647Z"
   },
   {
    "duration": 1907,
    "start_time": "2022-02-02T10:44:46.654Z"
   },
   {
    "duration": 1902,
    "start_time": "2022-02-02T10:44:46.660Z"
   },
   {
    "duration": 1691,
    "start_time": "2022-02-02T10:44:46.872Z"
   },
   {
    "duration": 1763,
    "start_time": "2022-02-02T10:44:46.886Z"
   },
   {
    "duration": 1757,
    "start_time": "2022-02-02T10:44:46.898Z"
   },
   {
    "duration": 1750,
    "start_time": "2022-02-02T10:44:46.907Z"
   },
   {
    "duration": 1740,
    "start_time": "2022-02-02T10:44:46.918Z"
   },
   {
    "duration": 1735,
    "start_time": "2022-02-02T10:44:46.926Z"
   },
   {
    "duration": 101,
    "start_time": "2022-02-02T10:45:04.850Z"
   },
   {
    "duration": 716710,
    "start_time": "2022-02-02T10:45:05.765Z"
   },
   {
    "duration": 13,
    "start_time": "2022-02-02T11:00:00.049Z"
   },
   {
    "duration": 12,
    "start_time": "2022-02-02T11:00:01.851Z"
   },
   {
    "duration": 12,
    "start_time": "2022-02-02T11:00:02.749Z"
   },
   {
    "duration": 113,
    "start_time": "2022-02-02T11:00:03.350Z"
   },
   {
    "duration": 97,
    "start_time": "2022-02-02T11:00:04.050Z"
   },
   {
    "duration": 3602,
    "start_time": "2022-02-02T11:00:04.648Z"
   },
   {
    "duration": 264183,
    "start_time": "2022-02-02T11:00:13.749Z"
   },
   {
    "duration": 53,
    "start_time": "2022-02-02T11:04:37.935Z"
   },
   {
    "duration": 37,
    "start_time": "2022-02-02T11:04:37.991Z"
   },
   {
    "duration": 21,
    "start_time": "2022-02-02T11:04:38.031Z"
   },
   {
    "duration": 34,
    "start_time": "2022-02-02T11:04:38.055Z"
   },
   {
    "duration": 5,
    "start_time": "2022-02-02T11:04:38.091Z"
   },
   {
    "duration": 17,
    "start_time": "2022-02-02T11:04:38.099Z"
   },
   {
    "duration": 38,
    "start_time": "2022-02-02T11:11:07.953Z"
   },
   {
    "duration": 424,
    "start_time": "2022-02-02T11:11:48.666Z"
   },
   {
    "duration": 6,
    "start_time": "2022-02-02T11:12:01.492Z"
   },
   {
    "duration": 6,
    "start_time": "2022-02-02T11:12:38.441Z"
   },
   {
    "duration": 6,
    "start_time": "2022-02-02T11:14:53.278Z"
   },
   {
    "duration": 3786,
    "start_time": "2022-02-02T12:35:17.312Z"
   },
   {
    "duration": 3152,
    "start_time": "2022-02-02T12:54:05.887Z"
   },
   {
    "duration": 6948,
    "start_time": "2022-02-02T12:54:09.040Z"
   },
   {
    "duration": 582,
    "start_time": "2022-02-02T12:54:15.991Z"
   },
   {
    "duration": 708,
    "start_time": "2022-02-02T12:54:16.575Z"
   },
   {
    "duration": 23,
    "start_time": "2022-02-02T12:54:17.285Z"
   },
   {
    "duration": 4,
    "start_time": "2022-02-02T12:54:17.310Z"
   },
   {
    "duration": 5,
    "start_time": "2022-02-02T12:54:17.316Z"
   },
   {
    "duration": 11,
    "start_time": "2022-02-02T12:54:17.322Z"
   },
   {
    "duration": 36,
    "start_time": "2022-02-02T12:54:17.336Z"
   },
   {
    "duration": 6,
    "start_time": "2022-02-02T12:54:17.375Z"
   },
   {
    "duration": 597,
    "start_time": "2022-02-02T12:54:17.383Z"
   },
   {
    "duration": 766,
    "start_time": "2022-02-02T12:54:17.981Z"
   },
   {
    "duration": 10,
    "start_time": "2022-02-02T12:54:18.748Z"
   },
   {
    "duration": 17,
    "start_time": "2022-02-02T12:54:18.759Z"
   },
   {
    "duration": 3,
    "start_time": "2022-02-02T12:54:18.777Z"
   },
   {
    "duration": 428,
    "start_time": "2022-02-02T12:54:18.781Z"
   },
   {
    "duration": 16,
    "start_time": "2022-02-02T12:54:19.211Z"
   },
   {
    "duration": 4,
    "start_time": "2022-02-02T12:54:19.228Z"
   },
   {
    "duration": 1011,
    "start_time": "2022-02-02T12:54:19.233Z"
   },
   {
    "duration": 6,
    "start_time": "2022-02-02T12:54:20.245Z"
   },
   {
    "duration": 4157,
    "start_time": "2022-02-02T12:54:20.252Z"
   },
   {
    "duration": 11,
    "start_time": "2022-02-02T12:54:24.411Z"
   },
   {
    "duration": 9,
    "start_time": "2022-02-02T12:54:24.423Z"
   },
   {
    "duration": 157,
    "start_time": "2022-02-02T12:54:24.434Z"
   },
   {
    "duration": 311,
    "start_time": "2022-02-02T12:54:24.592Z"
   },
   {
    "duration": 4,
    "start_time": "2022-02-02T12:54:24.904Z"
   },
   {
    "duration": 22,
    "start_time": "2022-02-02T12:54:24.911Z"
   },
   {
    "duration": 40,
    "start_time": "2022-02-02T12:54:24.935Z"
   },
   {
    "duration": 16,
    "start_time": "2022-02-02T12:54:24.977Z"
   },
   {
    "duration": 440,
    "start_time": "2022-02-02T12:54:24.994Z"
   },
   {
    "duration": 4,
    "start_time": "2022-02-02T12:54:25.436Z"
   },
   {
    "duration": 402,
    "start_time": "2022-02-02T12:54:25.442Z"
   },
   {
    "duration": 4,
    "start_time": "2022-02-02T12:54:25.846Z"
   },
   {
    "duration": 322,
    "start_time": "2022-02-02T12:54:25.851Z"
   },
   {
    "duration": 4,
    "start_time": "2022-02-02T12:54:26.174Z"
   },
   {
    "duration": 313,
    "start_time": "2022-02-02T12:54:26.180Z"
   },
   {
    "duration": 4,
    "start_time": "2022-02-02T12:54:26.494Z"
   },
   {
    "duration": 493,
    "start_time": "2022-02-02T12:54:26.500Z"
   },
   {
    "duration": 7,
    "start_time": "2022-02-02T12:54:26.995Z"
   },
   {
    "duration": 511,
    "start_time": "2022-02-02T12:54:27.003Z"
   },
   {
    "duration": 6,
    "start_time": "2022-02-02T12:54:27.516Z"
   },
   {
    "duration": 454,
    "start_time": "2022-02-02T12:54:27.524Z"
   },
   {
    "duration": 8,
    "start_time": "2022-02-02T12:54:27.980Z"
   },
   {
    "duration": 3,
    "start_time": "2022-02-02T12:54:27.989Z"
   },
   {
    "duration": 29,
    "start_time": "2022-02-02T12:54:27.994Z"
   },
   {
    "duration": 451,
    "start_time": "2022-02-02T12:54:28.025Z"
   },
   {
    "duration": 444,
    "start_time": "2022-02-02T12:54:28.478Z"
   },
   {
    "duration": 451,
    "start_time": "2022-02-02T12:54:28.923Z"
   },
   {
    "duration": 8,
    "start_time": "2022-02-02T12:54:29.376Z"
   },
   {
    "duration": 291,
    "start_time": "2022-02-02T12:54:29.385Z"
   },
   {
    "duration": 3,
    "start_time": "2022-02-02T12:54:29.678Z"
   },
   {
    "duration": 4,
    "start_time": "2022-02-02T12:54:29.683Z"
   },
   {
    "duration": 5,
    "start_time": "2022-02-02T12:54:48.067Z"
   },
   {
    "duration": 4,
    "start_time": "2022-02-02T12:55:23.840Z"
   },
   {
    "duration": 6,
    "start_time": "2022-02-02T12:55:52.122Z"
   },
   {
    "duration": 5,
    "start_time": "2022-02-02T12:56:10.136Z"
   },
   {
    "duration": 3,
    "start_time": "2022-02-02T12:56:11.591Z"
   },
   {
    "duration": 2,
    "start_time": "2022-02-02T12:56:11.929Z"
   },
   {
    "duration": 2,
    "start_time": "2022-02-02T12:56:25.800Z"
   },
   {
    "duration": 4,
    "start_time": "2022-02-02T12:56:39.159Z"
   },
   {
    "duration": 4,
    "start_time": "2022-02-02T12:56:40.134Z"
   },
   {
    "duration": 1023,
    "start_time": "2022-02-02T12:56:40.752Z"
   },
   {
    "duration": 6,
    "start_time": "2022-02-02T12:57:19.165Z"
   },
   {
    "duration": 1274265,
    "start_time": "2022-02-02T12:57:21.289Z"
   },
   {
    "duration": 5,
    "start_time": "2022-02-02T13:20:36.511Z"
   },
   {
    "duration": 6,
    "start_time": "2022-02-02T13:21:08.126Z"
   },
   {
    "duration": 3,
    "start_time": "2022-02-02T13:21:18.153Z"
   },
   {
    "duration": 3,
    "start_time": "2022-02-02T13:21:20.757Z"
   },
   {
    "duration": 6,
    "start_time": "2022-02-02T13:21:41.369Z"
   },
   {
    "duration": 4,
    "start_time": "2022-02-02T13:22:00.096Z"
   },
   {
    "duration": 758,
    "start_time": "2022-02-02T13:22:15.218Z"
   },
   {
    "duration": 1942355,
    "start_time": "2022-02-02T13:22:48.364Z"
   },
   {
    "duration": 2114,
    "start_time": "2022-02-02T14:04:13.887Z"
   },
   {
    "duration": 2503,
    "start_time": "2022-02-02T14:04:16.003Z"
   },
   {
    "duration": 1110,
    "start_time": "2022-02-02T14:04:18.508Z"
   },
   {
    "duration": 675,
    "start_time": "2022-02-02T14:04:19.620Z"
   },
   {
    "duration": 20,
    "start_time": "2022-02-02T14:04:20.296Z"
   },
   {
    "duration": 4,
    "start_time": "2022-02-02T14:04:20.318Z"
   },
   {
    "duration": 5,
    "start_time": "2022-02-02T14:04:20.324Z"
   },
   {
    "duration": 13,
    "start_time": "2022-02-02T14:04:20.330Z"
   },
   {
    "duration": 4,
    "start_time": "2022-02-02T14:04:20.345Z"
   },
   {
    "duration": 23,
    "start_time": "2022-02-02T14:04:20.351Z"
   },
   {
    "duration": 587,
    "start_time": "2022-02-02T14:04:20.376Z"
   },
   {
    "duration": 739,
    "start_time": "2022-02-02T14:04:20.965Z"
   },
   {
    "duration": 9,
    "start_time": "2022-02-02T14:04:21.705Z"
   },
   {
    "duration": 6,
    "start_time": "2022-02-02T14:04:21.715Z"
   },
   {
    "duration": 3,
    "start_time": "2022-02-02T14:04:21.723Z"
   },
   {
    "duration": 431,
    "start_time": "2022-02-02T14:04:21.728Z"
   },
   {
    "duration": 20,
    "start_time": "2022-02-02T14:04:22.160Z"
   },
   {
    "duration": 4,
    "start_time": "2022-02-02T14:04:22.182Z"
   },
   {
    "duration": 1089,
    "start_time": "2022-02-02T14:04:22.187Z"
   },
   {
    "duration": 7,
    "start_time": "2022-02-02T14:04:23.277Z"
   },
   {
    "duration": 4126,
    "start_time": "2022-02-02T14:04:23.286Z"
   },
   {
    "duration": 10,
    "start_time": "2022-02-02T14:04:27.413Z"
   },
   {
    "duration": 9,
    "start_time": "2022-02-02T14:04:27.425Z"
   },
   {
    "duration": 153,
    "start_time": "2022-02-02T14:04:27.435Z"
   },
   {
    "duration": 299,
    "start_time": "2022-02-02T14:04:27.589Z"
   },
   {
    "duration": 3,
    "start_time": "2022-02-02T14:04:27.890Z"
   },
   {
    "duration": 21,
    "start_time": "2022-02-02T14:04:27.896Z"
   },
   {
    "duration": 15,
    "start_time": "2022-02-02T14:04:27.919Z"
   },
   {
    "duration": 36,
    "start_time": "2022-02-02T14:04:27.936Z"
   },
   {
    "duration": 440,
    "start_time": "2022-02-02T14:04:27.974Z"
   },
   {
    "duration": 4,
    "start_time": "2022-02-02T14:04:28.416Z"
   },
   {
    "duration": 397,
    "start_time": "2022-02-02T14:04:28.421Z"
   },
   {
    "duration": 4,
    "start_time": "2022-02-02T14:04:28.820Z"
   },
   {
    "duration": 319,
    "start_time": "2022-02-02T14:04:28.826Z"
   },
   {
    "duration": 4,
    "start_time": "2022-02-02T14:04:29.147Z"
   },
   {
    "duration": 315,
    "start_time": "2022-02-02T14:04:29.153Z"
   },
   {
    "duration": 5,
    "start_time": "2022-02-02T14:04:29.469Z"
   },
   {
    "duration": 443,
    "start_time": "2022-02-02T14:04:29.475Z"
   },
   {
    "duration": 7,
    "start_time": "2022-02-02T14:04:29.920Z"
   },
   {
    "duration": 536,
    "start_time": "2022-02-02T14:04:29.929Z"
   },
   {
    "duration": 9,
    "start_time": "2022-02-02T14:04:30.467Z"
   },
   {
    "duration": 465,
    "start_time": "2022-02-02T14:04:30.478Z"
   },
   {
    "duration": 8,
    "start_time": "2022-02-02T14:04:30.945Z"
   },
   {
    "duration": 18,
    "start_time": "2022-02-02T14:04:30.954Z"
   },
   {
    "duration": 55,
    "start_time": "2022-02-02T14:04:30.974Z"
   },
   {
    "duration": 432,
    "start_time": "2022-02-02T14:04:31.031Z"
   },
   {
    "duration": 576,
    "start_time": "2022-02-02T14:04:31.465Z"
   },
   {
    "duration": 466,
    "start_time": "2022-02-02T14:04:32.043Z"
   },
   {
    "duration": 8,
    "start_time": "2022-02-02T14:04:32.511Z"
   },
   {
    "duration": 308,
    "start_time": "2022-02-02T14:04:32.521Z"
   },
   {
    "duration": 3,
    "start_time": "2022-02-02T14:04:32.831Z"
   },
   {
    "duration": 5,
    "start_time": "2022-02-02T14:04:32.835Z"
   },
   {
    "duration": 7,
    "start_time": "2022-02-02T14:04:32.841Z"
   },
   {
    "duration": 21,
    "start_time": "2022-02-02T14:04:32.850Z"
   },
   {
    "duration": 6,
    "start_time": "2022-02-02T14:04:32.873Z"
   },
   {
    "duration": 4,
    "start_time": "2022-02-02T14:04:32.880Z"
   },
   {
    "duration": 4,
    "start_time": "2022-02-02T14:04:32.886Z"
   },
   {
    "duration": 11,
    "start_time": "2022-02-02T14:04:32.891Z"
   },
   {
    "duration": 676,
    "start_time": "2022-02-02T14:04:32.904Z"
   },
   {
    "duration": 92,
    "start_time": "2022-02-02T14:04:33.582Z"
   },
   {
    "duration": 1278728,
    "start_time": "2022-02-02T14:04:33.676Z"
   },
   {
    "duration": 5,
    "start_time": "2022-02-02T14:25:52.406Z"
   },
   {
    "duration": 7,
    "start_time": "2022-02-02T14:25:52.412Z"
   },
   {
    "duration": 4,
    "start_time": "2022-02-02T14:25:52.421Z"
   },
   {
    "duration": 4,
    "start_time": "2022-02-02T14:25:52.426Z"
   },
   {
    "duration": 4,
    "start_time": "2022-02-02T14:25:52.432Z"
   },
   {
    "duration": 540,
    "start_time": "2022-02-02T14:25:52.438Z"
   },
   {
    "duration": 1933549,
    "start_time": "2022-02-02T14:25:52.980Z"
   },
   {
    "duration": 35,
    "start_time": "2022-02-02T15:13:40.815Z"
   },
   {
    "duration": 4,
    "start_time": "2022-02-02T15:13:41.375Z"
   },
   {
    "duration": 32,
    "start_time": "2022-02-02T15:13:50.133Z"
   },
   {
    "duration": 4,
    "start_time": "2022-02-02T15:13:51.779Z"
   },
   {
    "duration": 32,
    "start_time": "2022-02-02T15:13:52.582Z"
   },
   {
    "duration": 3,
    "start_time": "2022-02-02T15:13:52.920Z"
   },
   {
    "duration": 3,
    "start_time": "2022-02-02T15:13:53.562Z"
   },
   {
    "duration": 395,
    "start_time": "2022-02-02T15:14:03.392Z"
   },
   {
    "duration": -41,
    "start_time": "2022-02-02T15:14:03.830Z"
   },
   {
    "duration": 306,
    "start_time": "2022-02-02T15:17:12.761Z"
   },
   {
    "duration": 4,
    "start_time": "2022-02-02T15:21:59.977Z"
   },
   {
    "duration": 9,
    "start_time": "2022-02-02T15:22:14.415Z"
   },
   {
    "duration": 21,
    "start_time": "2022-02-02T15:22:29.636Z"
   },
   {
    "duration": 7,
    "start_time": "2022-02-02T15:22:33.207Z"
   },
   {
    "duration": 5,
    "start_time": "2022-02-02T15:22:52.178Z"
   },
   {
    "duration": 5,
    "start_time": "2022-02-02T15:22:55.838Z"
   },
   {
    "duration": 9,
    "start_time": "2022-02-02T15:31:52.118Z"
   },
   {
    "duration": 10,
    "start_time": "2022-02-02T15:32:00.650Z"
   },
   {
    "duration": 300,
    "start_time": "2022-02-02T15:32:15.455Z"
   },
   {
    "duration": 8,
    "start_time": "2022-02-02T15:32:43.460Z"
   },
   {
    "duration": 9,
    "start_time": "2022-02-02T15:33:08.404Z"
   },
   {
    "duration": 5,
    "start_time": "2022-02-02T15:33:17.279Z"
   },
   {
    "duration": 4,
    "start_time": "2022-02-02T15:34:05.387Z"
   },
   {
    "duration": 585,
    "start_time": "2022-02-02T15:34:05.989Z"
   },
   {
    "duration": 5,
    "start_time": "2022-02-02T15:34:10.623Z"
   },
   {
    "duration": 732,
    "start_time": "2022-02-02T15:34:11.643Z"
   },
   {
    "duration": 5,
    "start_time": "2022-02-02T15:34:39.365Z"
   },
   {
    "duration": 496,
    "start_time": "2022-02-02T15:34:39.877Z"
   },
   {
    "duration": 6,
    "start_time": "2022-02-02T15:35:02.082Z"
   },
   {
    "duration": 6,
    "start_time": "2022-02-02T15:38:56.483Z"
   },
   {
    "duration": 747039,
    "start_time": "2022-02-02T15:38:56.746Z"
   },
   {
    "duration": 6,
    "start_time": "2022-02-02T15:51:33.625Z"
   },
   {
    "duration": 953777,
    "start_time": "2022-02-02T15:51:33.633Z"
   },
   {
    "duration": 6,
    "start_time": "2022-02-02T16:10:49.073Z"
   },
   {
    "duration": 73872,
    "start_time": "2022-02-02T16:10:49.318Z"
   },
   {
    "duration": 6,
    "start_time": "2022-02-02T16:12:03.669Z"
   },
   {
    "duration": 822476,
    "start_time": "2022-02-02T16:12:03.919Z"
   },
   {
    "duration": 7,
    "start_time": "2022-02-02T16:25:47.783Z"
   },
   {
    "duration": 591965,
    "start_time": "2022-02-02T16:25:47.949Z"
   },
   {
    "duration": 3,
    "start_time": "2022-02-02T16:35:39.917Z"
   },
   {
    "duration": 33,
    "start_time": "2022-02-02T16:35:39.922Z"
   },
   {
    "duration": 427,
    "start_time": "2022-02-02T16:35:39.956Z"
   },
   {
    "duration": 451,
    "start_time": "2022-02-02T16:35:40.384Z"
   },
   {
    "duration": 468,
    "start_time": "2022-02-02T16:35:40.837Z"
   },
   {
    "duration": 8,
    "start_time": "2022-02-02T16:35:48.533Z"
   },
   {
    "duration": 280,
    "start_time": "2022-02-02T16:35:48.969Z"
   },
   {
    "duration": 3,
    "start_time": "2022-02-02T16:35:54.606Z"
   },
   {
    "duration": 3,
    "start_time": "2022-02-02T16:35:54.952Z"
   },
   {
    "duration": 6,
    "start_time": "2022-02-02T16:35:57.098Z"
   },
   {
    "duration": 3,
    "start_time": "2022-02-02T16:35:58.724Z"
   },
   {
    "duration": 2,
    "start_time": "2022-02-02T16:35:59.079Z"
   },
   {
    "duration": 3,
    "start_time": "2022-02-02T16:35:59.407Z"
   },
   {
    "duration": 4,
    "start_time": "2022-02-02T16:36:00.047Z"
   },
   {
    "duration": 5,
    "start_time": "2022-02-02T16:36:01.227Z"
   },
   {
    "duration": 796,
    "start_time": "2022-02-02T16:36:01.679Z"
   },
   {
    "duration": 6,
    "start_time": "2022-02-02T16:36:06.583Z"
   },
   {
    "duration": 637872,
    "start_time": "2022-02-02T16:36:07.077Z"
   },
   {
    "duration": 6,
    "start_time": "2022-02-02T16:47:48.520Z"
   },
   {
    "duration": 519079,
    "start_time": "2022-02-02T16:47:49.071Z"
   },
   {
    "duration": 4,
    "start_time": "2022-02-02T17:00:14.007Z"
   },
   {
    "duration": 6,
    "start_time": "2022-02-02T17:00:21.654Z"
   },
   {
    "duration": 2,
    "start_time": "2022-02-02T17:00:22.184Z"
   },
   {
    "duration": 3,
    "start_time": "2022-02-02T17:00:22.933Z"
   },
   {
    "duration": 4,
    "start_time": "2022-02-02T17:00:26.465Z"
   },
   {
    "duration": 691,
    "start_time": "2022-02-02T17:00:28.481Z"
   },
   {
    "duration": 799114,
    "start_time": "2022-02-02T17:00:42.135Z"
   },
   {
    "duration": 19,
    "start_time": "2022-02-02T17:14:45.893Z"
   },
   {
    "duration": 4,
    "start_time": "2022-02-02T17:14:46.219Z"
   },
   {
    "duration": 339,
    "start_time": "2022-02-02T17:14:50.653Z"
   },
   {
    "duration": 4,
    "start_time": "2022-02-02T17:14:51.169Z"
   },
   {
    "duration": 323,
    "start_time": "2022-02-02T17:14:57.397Z"
   },
   {
    "duration": 315,
    "start_time": "2022-02-02T17:16:09.601Z"
   },
   {
    "duration": 20,
    "start_time": "2022-02-02T17:17:47.457Z"
   },
   {
    "duration": 4,
    "start_time": "2022-02-02T17:17:47.862Z"
   },
   {
    "duration": 31,
    "start_time": "2022-02-02T17:17:56.535Z"
   },
   {
    "duration": 3,
    "start_time": "2022-02-02T17:17:58.516Z"
   },
   {
    "duration": 31,
    "start_time": "2022-02-02T17:17:59.635Z"
   },
   {
    "duration": 3,
    "start_time": "2022-02-02T17:17:59.915Z"
   },
   {
    "duration": 4,
    "start_time": "2022-02-02T17:18:00.663Z"
   },
   {
    "duration": 13,
    "start_time": "2022-02-02T17:18:07.581Z"
   },
   {
    "duration": 10,
    "start_time": "2022-02-02T17:18:07.842Z"
   },
   {
    "duration": 5,
    "start_time": "2022-02-02T17:18:08.177Z"
   },
   {
    "duration": 2149,
    "start_time": "2022-02-02T17:18:38.296Z"
   },
   {
    "duration": 2413,
    "start_time": "2022-02-02T17:18:40.447Z"
   },
   {
    "duration": 7,
    "start_time": "2022-02-02T17:18:42.862Z"
   },
   {
    "duration": 640,
    "start_time": "2022-02-02T17:18:42.870Z"
   },
   {
    "duration": 19,
    "start_time": "2022-02-02T17:18:43.511Z"
   },
   {
    "duration": 5,
    "start_time": "2022-02-02T17:18:43.532Z"
   },
   {
    "duration": 6,
    "start_time": "2022-02-02T17:18:43.538Z"
   },
   {
    "duration": 31,
    "start_time": "2022-02-02T17:18:43.546Z"
   },
   {
    "duration": 5,
    "start_time": "2022-02-02T17:18:43.580Z"
   },
   {
    "duration": 7,
    "start_time": "2022-02-02T17:18:43.587Z"
   },
   {
    "duration": 563,
    "start_time": "2022-02-02T17:18:43.595Z"
   },
   {
    "duration": 833,
    "start_time": "2022-02-02T17:18:44.160Z"
   },
   {
    "duration": 11,
    "start_time": "2022-02-02T17:18:44.995Z"
   },
   {
    "duration": 12,
    "start_time": "2022-02-02T17:18:45.008Z"
   },
   {
    "duration": 18,
    "start_time": "2022-02-02T17:18:45.022Z"
   },
   {
    "duration": 390,
    "start_time": "2022-02-02T17:18:45.042Z"
   },
   {
    "duration": 16,
    "start_time": "2022-02-02T17:18:45.433Z"
   },
   {
    "duration": 4,
    "start_time": "2022-02-02T17:18:45.451Z"
   },
   {
    "duration": 1190,
    "start_time": "2022-02-02T17:18:45.456Z"
   },
   {
    "duration": 7,
    "start_time": "2022-02-02T17:18:46.647Z"
   },
   {
    "duration": 4175,
    "start_time": "2022-02-02T17:18:46.656Z"
   },
   {
    "duration": 10,
    "start_time": "2022-02-02T17:18:50.833Z"
   },
   {
    "duration": 10,
    "start_time": "2022-02-02T17:18:50.845Z"
   },
   {
    "duration": 160,
    "start_time": "2022-02-02T17:18:50.857Z"
   },
   {
    "duration": 309,
    "start_time": "2022-02-02T17:18:51.019Z"
   },
   {
    "duration": 3,
    "start_time": "2022-02-02T17:18:51.330Z"
   },
   {
    "duration": 41,
    "start_time": "2022-02-02T17:18:51.337Z"
   },
   {
    "duration": 17,
    "start_time": "2022-02-02T17:18:51.381Z"
   },
   {
    "duration": 17,
    "start_time": "2022-02-02T17:18:51.400Z"
   },
   {
    "duration": 397,
    "start_time": "2022-02-02T17:18:51.419Z"
   },
   {
    "duration": 6,
    "start_time": "2022-02-02T17:18:51.818Z"
   },
   {
    "duration": 402,
    "start_time": "2022-02-02T17:18:51.825Z"
   },
   {
    "duration": 5,
    "start_time": "2022-02-02T17:18:52.228Z"
   },
   {
    "duration": 317,
    "start_time": "2022-02-02T17:18:52.235Z"
   },
   {
    "duration": 5,
    "start_time": "2022-02-02T17:18:52.553Z"
   },
   {
    "duration": 343,
    "start_time": "2022-02-02T17:18:52.560Z"
   },
   {
    "duration": 4,
    "start_time": "2022-02-02T17:18:52.904Z"
   },
   {
    "duration": 474,
    "start_time": "2022-02-02T17:18:52.910Z"
   },
   {
    "duration": 6,
    "start_time": "2022-02-02T17:18:53.386Z"
   },
   {
    "duration": 444,
    "start_time": "2022-02-02T17:18:53.394Z"
   },
   {
    "duration": 6,
    "start_time": "2022-02-02T17:18:53.840Z"
   },
   {
    "duration": 463,
    "start_time": "2022-02-02T17:18:53.848Z"
   },
   {
    "duration": 7,
    "start_time": "2022-02-02T17:18:54.312Z"
   },
   {
    "duration": 2,
    "start_time": "2022-02-02T17:18:54.321Z"
   },
   {
    "duration": 32,
    "start_time": "2022-02-02T17:18:54.325Z"
   },
   {
    "duration": 576,
    "start_time": "2022-02-02T17:18:54.358Z"
   },
   {
    "duration": 453,
    "start_time": "2022-02-02T17:18:54.936Z"
   },
   {
    "duration": 458,
    "start_time": "2022-02-02T17:18:55.390Z"
   },
   {
    "duration": 21,
    "start_time": "2022-02-02T17:18:55.850Z"
   },
   {
    "duration": 295,
    "start_time": "2022-02-02T17:18:55.873Z"
   },
   {
    "duration": 3,
    "start_time": "2022-02-02T17:18:56.170Z"
   },
   {
    "duration": 19,
    "start_time": "2022-02-02T17:18:56.174Z"
   },
   {
    "duration": 23,
    "start_time": "2022-02-02T17:18:56.194Z"
   },
   {
    "duration": 15,
    "start_time": "2022-02-02T17:18:56.218Z"
   },
   {
    "duration": 26,
    "start_time": "2022-02-02T17:18:56.234Z"
   },
   {
    "duration": 14,
    "start_time": "2022-02-02T17:18:56.262Z"
   },
   {
    "duration": 14,
    "start_time": "2022-02-02T17:18:56.277Z"
   },
   {
    "duration": 24,
    "start_time": "2022-02-02T17:18:56.293Z"
   },
   {
    "duration": 859,
    "start_time": "2022-02-02T17:18:56.319Z"
   },
   {
    "duration": 94,
    "start_time": "2022-02-02T17:18:57.183Z"
   },
   {
    "duration": 522732,
    "start_time": "2022-02-02T17:18:57.279Z"
   },
   {
    "duration": 4,
    "start_time": "2022-02-02T17:27:40.013Z"
   },
   {
    "duration": 7,
    "start_time": "2022-02-02T17:27:40.019Z"
   },
   {
    "duration": 4,
    "start_time": "2022-02-02T17:27:40.027Z"
   },
   {
    "duration": 4,
    "start_time": "2022-02-02T17:27:40.033Z"
   },
   {
    "duration": 6,
    "start_time": "2022-02-02T17:27:40.039Z"
   },
   {
    "duration": 705,
    "start_time": "2022-02-02T17:27:40.071Z"
   },
   {
    "duration": 795429,
    "start_time": "2022-02-02T17:27:40.778Z"
   },
   {
    "duration": 34,
    "start_time": "2022-02-02T17:40:56.209Z"
   },
   {
    "duration": 3,
    "start_time": "2022-02-02T17:40:56.245Z"
   },
   {
    "duration": 45,
    "start_time": "2022-02-02T17:40:56.250Z"
   },
   {
    "duration": 4,
    "start_time": "2022-02-02T17:40:56.297Z"
   },
   {
    "duration": 29,
    "start_time": "2022-02-02T17:40:56.303Z"
   },
   {
    "duration": 3,
    "start_time": "2022-02-02T17:40:56.333Z"
   },
   {
    "duration": 6,
    "start_time": "2022-02-02T17:40:56.338Z"
   },
   {
    "duration": 30,
    "start_time": "2022-02-02T17:40:56.345Z"
   },
   {
    "duration": 8,
    "start_time": "2022-02-02T17:40:56.377Z"
   },
   {
    "duration": 6,
    "start_time": "2022-02-02T17:40:56.386Z"
   },
   {
    "duration": 27,
    "start_time": "2022-02-02T17:44:33.534Z"
   },
   {
    "duration": 4,
    "start_time": "2022-02-02T17:44:33.903Z"
   },
   {
    "duration": 28,
    "start_time": "2022-02-02T17:44:34.569Z"
   },
   {
    "duration": 4,
    "start_time": "2022-02-02T17:44:34.878Z"
   },
   {
    "duration": 4,
    "start_time": "2022-02-02T17:44:35.413Z"
   },
   {
    "duration": 5,
    "start_time": "2022-02-02T17:53:59.728Z"
   },
   {
    "duration": 8,
    "start_time": "2022-02-02T17:54:38.281Z"
   },
   {
    "duration": 9,
    "start_time": "2022-02-02T17:54:55.344Z"
   },
   {
    "duration": 2147,
    "start_time": "2022-02-02T17:54:58.088Z"
   },
   {
    "duration": 2469,
    "start_time": "2022-02-02T17:55:00.237Z"
   },
   {
    "duration": 6,
    "start_time": "2022-02-02T17:55:02.709Z"
   },
   {
    "duration": 600,
    "start_time": "2022-02-02T17:55:02.717Z"
   },
   {
    "duration": 18,
    "start_time": "2022-02-02T17:55:03.318Z"
   },
   {
    "duration": 5,
    "start_time": "2022-02-02T17:55:03.338Z"
   },
   {
    "duration": 6,
    "start_time": "2022-02-02T17:55:03.344Z"
   },
   {
    "duration": 25,
    "start_time": "2022-02-02T17:55:03.352Z"
   },
   {
    "duration": 4,
    "start_time": "2022-02-02T17:55:03.379Z"
   },
   {
    "duration": 6,
    "start_time": "2022-02-02T17:55:03.385Z"
   },
   {
    "duration": 555,
    "start_time": "2022-02-02T17:55:03.392Z"
   },
   {
    "duration": 655,
    "start_time": "2022-02-02T17:55:03.948Z"
   },
   {
    "duration": 9,
    "start_time": "2022-02-02T17:55:04.605Z"
   },
   {
    "duration": 6,
    "start_time": "2022-02-02T17:55:04.616Z"
   },
   {
    "duration": 3,
    "start_time": "2022-02-02T17:55:04.623Z"
   },
   {
    "duration": 473,
    "start_time": "2022-02-02T17:55:04.627Z"
   },
   {
    "duration": 18,
    "start_time": "2022-02-02T17:55:05.102Z"
   },
   {
    "duration": 9,
    "start_time": "2022-02-02T17:55:06.899Z"
   },
   {
    "duration": 14,
    "start_time": "2022-02-02T17:56:23.271Z"
   },
   {
    "duration": 9,
    "start_time": "2022-02-02T17:56:46.571Z"
   },
   {
    "duration": 17,
    "start_time": "2022-02-02T17:57:02.882Z"
   },
   {
    "duration": 12,
    "start_time": "2022-02-02T17:57:24.422Z"
   },
   {
    "duration": 10,
    "start_time": "2022-02-02T17:57:25.055Z"
   },
   {
    "duration": 131,
    "start_time": "2022-02-02T17:57:25.328Z"
   },
   {
    "duration": 297,
    "start_time": "2022-02-02T17:57:25.675Z"
   },
   {
    "duration": 4,
    "start_time": "2022-02-02T17:57:25.975Z"
   },
   {
    "duration": 23,
    "start_time": "2022-02-02T17:57:29.051Z"
   },
   {
    "duration": 18,
    "start_time": "2022-02-02T17:57:31.856Z"
   },
   {
    "duration": 19,
    "start_time": "2022-02-02T17:57:33.633Z"
   },
   {
    "duration": 377,
    "start_time": "2022-02-02T17:57:44.500Z"
   },
   {
    "duration": 6,
    "start_time": "2022-02-02T17:57:45.772Z"
   },
   {
    "duration": 396,
    "start_time": "2022-02-02T17:57:46.058Z"
   },
   {
    "duration": 6,
    "start_time": "2022-02-02T17:57:47.296Z"
   },
   {
    "duration": 309,
    "start_time": "2022-02-02T17:57:48.008Z"
   },
   {
    "duration": 6,
    "start_time": "2022-02-02T17:57:49.168Z"
   },
   {
    "duration": 486,
    "start_time": "2022-02-02T17:57:49.429Z"
   },
   {
    "duration": 6,
    "start_time": "2022-02-02T17:57:50.583Z"
   },
   {
    "duration": 523,
    "start_time": "2022-02-02T17:57:53.713Z"
   },
   {
    "duration": 9,
    "start_time": "2022-02-02T17:57:54.918Z"
   },
   {
    "duration": 490,
    "start_time": "2022-02-02T17:57:56.331Z"
   },
   {
    "duration": 7,
    "start_time": "2022-02-02T17:57:56.852Z"
   },
   {
    "duration": 446,
    "start_time": "2022-02-02T17:57:58.001Z"
   },
   {
    "duration": 7,
    "start_time": "2022-02-02T17:57:58.487Z"
   },
   {
    "duration": 3,
    "start_time": "2022-02-02T17:57:59.528Z"
   },
   {
    "duration": 32,
    "start_time": "2022-02-02T17:58:00.018Z"
   },
   {
    "duration": 438,
    "start_time": "2022-02-02T17:58:00.633Z"
   },
   {
    "duration": 450,
    "start_time": "2022-02-02T17:58:02.269Z"
   },
   {
    "duration": 452,
    "start_time": "2022-02-02T17:58:02.721Z"
   },
   {
    "duration": 10,
    "start_time": "2022-02-02T17:58:06.703Z"
   },
   {
    "duration": 284,
    "start_time": "2022-02-02T17:58:07.040Z"
   },
   {
    "duration": 3,
    "start_time": "2022-02-02T17:58:12.171Z"
   },
   {
    "duration": 3,
    "start_time": "2022-02-02T17:58:12.680Z"
   },
   {
    "duration": 5,
    "start_time": "2022-02-02T17:58:14.907Z"
   },
   {
    "duration": 2,
    "start_time": "2022-02-02T17:58:16.265Z"
   },
   {
    "duration": 3,
    "start_time": "2022-02-02T17:58:16.508Z"
   },
   {
    "duration": 2,
    "start_time": "2022-02-02T17:58:16.778Z"
   },
   {
    "duration": 4,
    "start_time": "2022-02-02T17:58:17.161Z"
   },
   {
    "duration": 4,
    "start_time": "2022-02-02T17:58:17.767Z"
   },
   {
    "duration": 910,
    "start_time": "2022-02-02T17:58:18.465Z"
   },
   {
    "duration": 6,
    "start_time": "2022-02-02T17:58:25.827Z"
   },
   {
    "duration": 523974,
    "start_time": "2022-02-02T17:58:26.653Z"
   },
   {
    "duration": 4,
    "start_time": "2022-02-02T18:07:10.629Z"
   },
   {
    "duration": 7,
    "start_time": "2022-02-02T18:07:10.636Z"
   },
   {
    "duration": 3,
    "start_time": "2022-02-02T18:07:10.645Z"
   },
   {
    "duration": 2,
    "start_time": "2022-02-02T18:07:10.672Z"
   },
   {
    "duration": 5,
    "start_time": "2022-02-02T18:07:10.676Z"
   },
   {
    "duration": 494,
    "start_time": "2022-02-02T18:07:10.682Z"
   },
   {
    "duration": 806291,
    "start_time": "2022-02-02T18:07:11.178Z"
   },
   {
    "duration": 2032,
    "start_time": "2022-02-02T18:20:57.090Z"
   },
   {
    "duration": 2542,
    "start_time": "2022-02-02T18:20:59.124Z"
   },
   {
    "duration": 5,
    "start_time": "2022-02-02T18:21:01.669Z"
   },
   {
    "duration": 625,
    "start_time": "2022-02-02T18:21:01.676Z"
   },
   {
    "duration": 19,
    "start_time": "2022-02-02T18:21:02.302Z"
   },
   {
    "duration": 6,
    "start_time": "2022-02-02T18:21:02.323Z"
   },
   {
    "duration": 5,
    "start_time": "2022-02-02T18:21:02.331Z"
   },
   {
    "duration": 7,
    "start_time": "2022-02-02T18:21:02.339Z"
   },
   {
    "duration": 26,
    "start_time": "2022-02-02T18:21:02.348Z"
   },
   {
    "duration": 7,
    "start_time": "2022-02-02T18:21:02.376Z"
   },
   {
    "duration": 576,
    "start_time": "2022-02-02T18:21:02.385Z"
   },
   {
    "duration": 655,
    "start_time": "2022-02-02T18:21:02.963Z"
   },
   {
    "duration": 10,
    "start_time": "2022-02-02T18:21:03.620Z"
   },
   {
    "duration": 7,
    "start_time": "2022-02-02T18:21:03.632Z"
   },
   {
    "duration": 3,
    "start_time": "2022-02-02T18:21:03.640Z"
   },
   {
    "duration": 399,
    "start_time": "2022-02-02T18:21:03.645Z"
   },
   {
    "duration": 27,
    "start_time": "2022-02-02T18:21:04.046Z"
   },
   {
    "duration": 5,
    "start_time": "2022-02-02T18:21:04.074Z"
   },
   {
    "duration": 7,
    "start_time": "2022-02-02T18:21:04.080Z"
   },
   {
    "duration": 2122,
    "start_time": "2022-02-02T18:21:19.176Z"
   },
   {
    "duration": 2556,
    "start_time": "2022-02-02T18:21:21.300Z"
   },
   {
    "duration": 5,
    "start_time": "2022-02-02T18:21:23.859Z"
   },
   {
    "duration": 649,
    "start_time": "2022-02-02T18:21:23.865Z"
   },
   {
    "duration": 18,
    "start_time": "2022-02-02T18:21:24.516Z"
   },
   {
    "duration": 5,
    "start_time": "2022-02-02T18:21:24.536Z"
   },
   {
    "duration": 12,
    "start_time": "2022-02-02T18:21:24.542Z"
   },
   {
    "duration": 25,
    "start_time": "2022-02-02T18:21:24.557Z"
   },
   {
    "duration": 19,
    "start_time": "2022-02-02T18:21:24.584Z"
   },
   {
    "duration": 18,
    "start_time": "2022-02-02T18:21:24.605Z"
   },
   {
    "duration": 846,
    "start_time": "2022-02-02T18:21:24.624Z"
   },
   {
    "duration": 802,
    "start_time": "2022-02-02T18:21:25.472Z"
   },
   {
    "duration": 9,
    "start_time": "2022-02-02T18:21:26.276Z"
   },
   {
    "duration": 20,
    "start_time": "2022-02-02T18:21:26.286Z"
   },
   {
    "duration": 11,
    "start_time": "2022-02-02T18:21:26.307Z"
   },
   {
    "duration": 405,
    "start_time": "2022-02-02T18:21:26.319Z"
   },
   {
    "duration": 17,
    "start_time": "2022-02-02T18:21:26.725Z"
   },
   {
    "duration": 7,
    "start_time": "2022-02-02T18:21:26.744Z"
   },
   {
    "duration": 19,
    "start_time": "2022-02-02T18:21:26.753Z"
   },
   {
    "duration": 22,
    "start_time": "2022-02-02T18:21:26.773Z"
   },
   {
    "duration": 11,
    "start_time": "2022-02-02T18:21:26.797Z"
   },
   {
    "duration": 26,
    "start_time": "2022-02-02T18:21:26.809Z"
   },
   {
    "duration": 36,
    "start_time": "2022-02-02T18:21:26.839Z"
   },
   {
    "duration": 10,
    "start_time": "2022-02-02T18:21:26.878Z"
   },
   {
    "duration": 148,
    "start_time": "2022-02-02T18:21:26.890Z"
   },
   {
    "duration": 308,
    "start_time": "2022-02-02T18:21:27.040Z"
   },
   {
    "duration": 22,
    "start_time": "2022-02-02T18:21:27.350Z"
   },
   {
    "duration": 22,
    "start_time": "2022-02-02T18:21:27.373Z"
   },
   {
    "duration": 16,
    "start_time": "2022-02-02T18:21:27.397Z"
   },
   {
    "duration": 16,
    "start_time": "2022-02-02T18:21:27.415Z"
   },
   {
    "duration": 393,
    "start_time": "2022-02-02T18:21:27.433Z"
   },
   {
    "duration": 5,
    "start_time": "2022-02-02T18:21:27.827Z"
   },
   {
    "duration": 405,
    "start_time": "2022-02-02T18:21:27.833Z"
   },
   {
    "duration": 4,
    "start_time": "2022-02-02T18:21:28.240Z"
   },
   {
    "duration": 326,
    "start_time": "2022-02-02T18:21:28.246Z"
   },
   {
    "duration": 5,
    "start_time": "2022-02-02T18:21:28.573Z"
   },
   {
    "duration": 311,
    "start_time": "2022-02-02T18:21:28.579Z"
   },
   {
    "duration": 4,
    "start_time": "2022-02-02T18:21:28.891Z"
   },
   {
    "duration": 430,
    "start_time": "2022-02-02T18:21:28.897Z"
   },
   {
    "duration": 7,
    "start_time": "2022-02-02T18:21:29.328Z"
   },
   {
    "duration": 456,
    "start_time": "2022-02-02T18:21:29.337Z"
   },
   {
    "duration": 8,
    "start_time": "2022-02-02T18:21:29.795Z"
   },
   {
    "duration": 467,
    "start_time": "2022-02-02T18:21:29.804Z"
   },
   {
    "duration": 8,
    "start_time": "2022-02-02T18:21:30.273Z"
   },
   {
    "duration": 3,
    "start_time": "2022-02-02T18:21:30.282Z"
   },
   {
    "duration": 32,
    "start_time": "2022-02-02T18:21:30.287Z"
   },
   {
    "duration": 439,
    "start_time": "2022-02-02T18:21:30.321Z"
   },
   {
    "duration": 486,
    "start_time": "2022-02-02T18:21:30.762Z"
   },
   {
    "duration": 456,
    "start_time": "2022-02-02T18:21:31.250Z"
   },
   {
    "duration": 9,
    "start_time": "2022-02-02T18:21:31.707Z"
   },
   {
    "duration": 361,
    "start_time": "2022-02-02T18:21:31.717Z"
   },
   {
    "duration": 3,
    "start_time": "2022-02-02T18:21:32.079Z"
   },
   {
    "duration": 4,
    "start_time": "2022-02-02T18:21:32.084Z"
   },
   {
    "duration": 6,
    "start_time": "2022-02-02T18:21:32.090Z"
   },
   {
    "duration": 2,
    "start_time": "2022-02-02T18:21:32.097Z"
   },
   {
    "duration": 6,
    "start_time": "2022-02-02T18:21:32.100Z"
   },
   {
    "duration": 6,
    "start_time": "2022-02-02T18:21:32.108Z"
   },
   {
    "duration": 8,
    "start_time": "2022-02-02T18:21:32.116Z"
   },
   {
    "duration": 9,
    "start_time": "2022-02-02T18:21:32.125Z"
   },
   {
    "duration": 638,
    "start_time": "2022-02-02T18:21:32.135Z"
   },
   {
    "duration": 97,
    "start_time": "2022-02-02T18:21:32.775Z"
   },
   {
    "duration": 525891,
    "start_time": "2022-02-02T18:21:32.874Z"
   },
   {
    "duration": 6,
    "start_time": "2022-02-02T18:30:18.766Z"
   },
   {
    "duration": 5,
    "start_time": "2022-02-02T18:30:18.774Z"
   },
   {
    "duration": 3,
    "start_time": "2022-02-02T18:30:18.781Z"
   },
   {
    "duration": 4,
    "start_time": "2022-02-02T18:30:18.785Z"
   },
   {
    "duration": 4,
    "start_time": "2022-02-02T18:30:18.790Z"
   },
   {
    "duration": 1078,
    "start_time": "2022-02-02T18:30:18.799Z"
   },
   {
    "duration": 802054,
    "start_time": "2022-02-02T18:30:19.881Z"
   },
   {
    "duration": 47,
    "start_time": "2022-02-02T18:43:41.937Z"
   },
   {
    "duration": 4,
    "start_time": "2022-02-02T18:43:41.986Z"
   },
   {
    "duration": 50,
    "start_time": "2022-02-02T18:43:41.991Z"
   },
   {
    "duration": 3,
    "start_time": "2022-02-02T18:43:42.043Z"
   },
   {
    "duration": 41,
    "start_time": "2022-02-02T18:43:42.047Z"
   },
   {
    "duration": 4,
    "start_time": "2022-02-02T18:43:42.089Z"
   },
   {
    "duration": 34,
    "start_time": "2022-02-02T18:43:42.094Z"
   },
   {
    "duration": 20,
    "start_time": "2022-02-02T18:43:42.129Z"
   },
   {
    "duration": 27,
    "start_time": "2022-02-02T18:43:42.150Z"
   },
   {
    "duration": 27,
    "start_time": "2022-02-02T18:43:42.179Z"
   },
   {
    "duration": 2118,
    "start_time": "2022-02-02T18:59:48.398Z"
   },
   {
    "duration": 2593,
    "start_time": "2022-02-02T18:59:50.518Z"
   },
   {
    "duration": 5,
    "start_time": "2022-02-02T18:59:53.113Z"
   },
   {
    "duration": 643,
    "start_time": "2022-02-02T18:59:53.120Z"
   },
   {
    "duration": 22,
    "start_time": "2022-02-02T18:59:53.765Z"
   },
   {
    "duration": 4,
    "start_time": "2022-02-02T18:59:53.788Z"
   },
   {
    "duration": 5,
    "start_time": "2022-02-02T18:59:53.794Z"
   },
   {
    "duration": 7,
    "start_time": "2022-02-02T18:59:53.801Z"
   },
   {
    "duration": 5,
    "start_time": "2022-02-02T18:59:53.811Z"
   },
   {
    "duration": 7,
    "start_time": "2022-02-02T18:59:53.818Z"
   },
   {
    "duration": 888,
    "start_time": "2022-02-02T18:59:53.827Z"
   },
   {
    "duration": 687,
    "start_time": "2022-02-02T18:59:54.717Z"
   },
   {
    "duration": 9,
    "start_time": "2022-02-02T18:59:55.406Z"
   },
   {
    "duration": 7,
    "start_time": "2022-02-02T18:59:55.416Z"
   },
   {
    "duration": 2,
    "start_time": "2022-02-02T18:59:55.424Z"
   },
   {
    "duration": 425,
    "start_time": "2022-02-02T18:59:55.428Z"
   },
   {
    "duration": 24,
    "start_time": "2022-02-02T18:59:55.854Z"
   },
   {
    "duration": 3,
    "start_time": "2022-02-02T18:59:55.880Z"
   },
   {
    "duration": 7,
    "start_time": "2022-02-02T18:59:55.884Z"
   },
   {
    "duration": 21,
    "start_time": "2022-02-02T18:59:55.893Z"
   },
   {
    "duration": 10,
    "start_time": "2022-02-02T18:59:55.916Z"
   },
   {
    "duration": 46,
    "start_time": "2022-02-02T18:59:55.928Z"
   },
   {
    "duration": 10,
    "start_time": "2022-02-02T18:59:55.976Z"
   },
   {
    "duration": 11,
    "start_time": "2022-02-02T18:59:55.987Z"
   },
   {
    "duration": 156,
    "start_time": "2022-02-02T18:59:55.999Z"
   },
   {
    "duration": 316,
    "start_time": "2022-02-02T18:59:56.172Z"
   },
   {
    "duration": 4,
    "start_time": "2022-02-02T18:59:56.491Z"
   },
   {
    "duration": 22,
    "start_time": "2022-02-02T18:59:56.497Z"
   },
   {
    "duration": 17,
    "start_time": "2022-02-02T18:59:56.521Z"
   },
   {
    "duration": 42,
    "start_time": "2022-02-02T18:59:56.539Z"
   },
   {
    "duration": 394,
    "start_time": "2022-02-02T18:59:56.582Z"
   },
   {
    "duration": 6,
    "start_time": "2022-02-02T18:59:56.978Z"
   },
   {
    "duration": 408,
    "start_time": "2022-02-02T18:59:56.985Z"
   },
   {
    "duration": 6,
    "start_time": "2022-02-02T18:59:57.395Z"
   },
   {
    "duration": 318,
    "start_time": "2022-02-02T18:59:57.403Z"
   },
   {
    "duration": 5,
    "start_time": "2022-02-02T18:59:57.723Z"
   },
   {
    "duration": 313,
    "start_time": "2022-02-02T18:59:57.729Z"
   },
   {
    "duration": 5,
    "start_time": "2022-02-02T18:59:58.044Z"
   },
   {
    "duration": 442,
    "start_time": "2022-02-02T18:59:58.050Z"
   },
   {
    "duration": 7,
    "start_time": "2022-02-02T18:59:58.494Z"
   },
   {
    "duration": 447,
    "start_time": "2022-02-02T18:59:58.502Z"
   },
   {
    "duration": 7,
    "start_time": "2022-02-02T18:59:58.951Z"
   },
   {
    "duration": 464,
    "start_time": "2022-02-02T18:59:58.959Z"
   },
   {
    "duration": 8,
    "start_time": "2022-02-02T18:59:59.424Z"
   },
   {
    "duration": 3,
    "start_time": "2022-02-02T19:00:03.002Z"
   },
   {
    "duration": 32,
    "start_time": "2022-02-02T19:00:03.275Z"
   },
   {
    "duration": 435,
    "start_time": "2022-02-02T19:00:03.630Z"
   },
   {
    "duration": 450,
    "start_time": "2022-02-02T19:00:06.263Z"
   },
   {
    "duration": 447,
    "start_time": "2022-02-02T19:00:06.755Z"
   },
   {
    "duration": 10,
    "start_time": "2022-02-02T19:00:51.953Z"
   },
   {
    "duration": 272,
    "start_time": "2022-02-02T19:00:52.603Z"
   },
   {
    "duration": 2050,
    "start_time": "2022-02-02T19:01:02.054Z"
   },
   {
    "duration": 2522,
    "start_time": "2022-02-02T19:01:04.107Z"
   },
   {
    "duration": 5,
    "start_time": "2022-02-02T19:01:06.631Z"
   },
   {
    "duration": 651,
    "start_time": "2022-02-02T19:01:06.638Z"
   },
   {
    "duration": 18,
    "start_time": "2022-02-02T19:01:07.291Z"
   },
   {
    "duration": 5,
    "start_time": "2022-02-02T19:01:07.311Z"
   },
   {
    "duration": 8,
    "start_time": "2022-02-02T19:01:07.317Z"
   },
   {
    "duration": 8,
    "start_time": "2022-02-02T19:01:07.327Z"
   },
   {
    "duration": 5,
    "start_time": "2022-02-02T19:01:07.338Z"
   },
   {
    "duration": 6,
    "start_time": "2022-02-02T19:01:07.372Z"
   },
   {
    "duration": 582,
    "start_time": "2022-02-02T19:01:07.380Z"
   },
   {
    "duration": 674,
    "start_time": "2022-02-02T19:01:07.963Z"
   },
   {
    "duration": 9,
    "start_time": "2022-02-02T19:01:08.640Z"
   },
   {
    "duration": 6,
    "start_time": "2022-02-02T19:01:08.650Z"
   },
   {
    "duration": 14,
    "start_time": "2022-02-02T19:01:08.658Z"
   },
   {
    "duration": 421,
    "start_time": "2022-02-02T19:01:08.674Z"
   },
   {
    "duration": 16,
    "start_time": "2022-02-02T19:01:09.097Z"
   },
   {
    "duration": 4,
    "start_time": "2022-02-02T19:01:09.115Z"
   },
   {
    "duration": 4,
    "start_time": "2022-02-02T19:01:09.120Z"
   },
   {
    "duration": 22,
    "start_time": "2022-02-02T19:01:09.126Z"
   },
   {
    "duration": 27,
    "start_time": "2022-02-02T19:01:09.149Z"
   },
   {
    "duration": 27,
    "start_time": "2022-02-02T19:01:09.178Z"
   },
   {
    "duration": 10,
    "start_time": "2022-02-02T19:01:09.206Z"
   },
   {
    "duration": 9,
    "start_time": "2022-02-02T19:01:09.218Z"
   },
   {
    "duration": 164,
    "start_time": "2022-02-02T19:01:09.229Z"
   },
   {
    "duration": 295,
    "start_time": "2022-02-02T19:01:09.395Z"
   },
   {
    "duration": 3,
    "start_time": "2022-02-02T19:01:09.694Z"
   },
   {
    "duration": 27,
    "start_time": "2022-02-02T19:01:09.699Z"
   },
   {
    "duration": 17,
    "start_time": "2022-02-02T19:01:09.727Z"
   },
   {
    "duration": 40,
    "start_time": "2022-02-02T19:01:09.745Z"
   },
   {
    "duration": 388,
    "start_time": "2022-02-02T19:01:09.787Z"
   },
   {
    "duration": 5,
    "start_time": "2022-02-02T19:01:10.177Z"
   },
   {
    "duration": 718,
    "start_time": "2022-02-02T19:01:10.183Z"
   },
   {
    "duration": 5,
    "start_time": "2022-02-02T19:01:10.902Z"
   },
   {
    "duration": 321,
    "start_time": "2022-02-02T19:01:10.908Z"
   },
   {
    "duration": 5,
    "start_time": "2022-02-02T19:01:11.230Z"
   },
   {
    "duration": 314,
    "start_time": "2022-02-02T19:01:11.236Z"
   },
   {
    "duration": 5,
    "start_time": "2022-02-02T19:01:11.552Z"
   },
   {
    "duration": 444,
    "start_time": "2022-02-02T19:01:11.558Z"
   },
   {
    "duration": 7,
    "start_time": "2022-02-02T19:01:12.004Z"
   },
   {
    "duration": 440,
    "start_time": "2022-02-02T19:01:12.013Z"
   },
   {
    "duration": 17,
    "start_time": "2022-02-02T19:01:12.455Z"
   },
   {
    "duration": 448,
    "start_time": "2022-02-02T19:01:12.474Z"
   },
   {
    "duration": 7,
    "start_time": "2022-02-02T19:01:12.923Z"
   },
   {
    "duration": 2,
    "start_time": "2022-02-02T19:01:12.932Z"
   },
   {
    "duration": 47,
    "start_time": "2022-02-02T19:01:12.936Z"
   },
   {
    "duration": 420,
    "start_time": "2022-02-02T19:01:12.984Z"
   },
   {
    "duration": 445,
    "start_time": "2022-02-02T19:01:13.406Z"
   },
   {
    "duration": 450,
    "start_time": "2022-02-02T19:01:13.852Z"
   },
   {
    "duration": 9,
    "start_time": "2022-02-02T19:01:14.304Z"
   },
   {
    "duration": 286,
    "start_time": "2022-02-02T19:01:14.314Z"
   },
   {
    "duration": 3,
    "start_time": "2022-02-02T19:01:14.602Z"
   },
   {
    "duration": 5,
    "start_time": "2022-02-02T19:01:14.606Z"
   },
   {
    "duration": 6,
    "start_time": "2022-02-02T19:01:14.612Z"
   },
   {
    "duration": 2,
    "start_time": "2022-02-02T19:01:14.620Z"
   },
   {
    "duration": 5,
    "start_time": "2022-02-02T19:01:14.624Z"
   },
   {
    "duration": 7,
    "start_time": "2022-02-02T19:01:14.630Z"
   },
   {
    "duration": 8,
    "start_time": "2022-02-02T19:01:14.638Z"
   },
   {
    "duration": 23,
    "start_time": "2022-02-02T19:01:14.648Z"
   },
   {
    "duration": 4,
    "start_time": "2022-02-02T19:01:18.001Z"
   },
   {
    "duration": 865,
    "start_time": "2022-02-02T19:01:18.421Z"
   },
   {
    "duration": 2,
    "start_time": "2022-02-02T19:01:58.155Z"
   },
   {
    "duration": 4,
    "start_time": "2022-02-02T19:01:58.159Z"
   },
   {
    "duration": 5,
    "start_time": "2022-02-02T19:01:58.165Z"
   },
   {
    "duration": 688,
    "start_time": "2022-02-02T19:01:58.172Z"
   },
   {
    "duration": 16,
    "start_time": "2022-02-02T19:01:58.862Z"
   },
   {
    "duration": 5,
    "start_time": "2022-02-02T19:01:58.880Z"
   },
   {
    "duration": 4,
    "start_time": "2022-02-02T19:01:58.887Z"
   },
   {
    "duration": 6,
    "start_time": "2022-02-02T19:01:58.893Z"
   },
   {
    "duration": 5,
    "start_time": "2022-02-02T19:01:58.901Z"
   },
   {
    "duration": 8,
    "start_time": "2022-02-02T19:01:58.908Z"
   },
   {
    "duration": 572,
    "start_time": "2022-02-02T19:01:58.917Z"
   },
   {
    "duration": 736,
    "start_time": "2022-02-02T19:01:59.491Z"
   },
   {
    "duration": 11,
    "start_time": "2022-02-02T19:02:00.229Z"
   },
   {
    "duration": 6,
    "start_time": "2022-02-02T19:02:00.242Z"
   },
   {
    "duration": 23,
    "start_time": "2022-02-02T19:02:00.249Z"
   },
   {
    "duration": 11,
    "start_time": "2022-02-02T19:02:00.273Z"
   },
   {
    "duration": 19,
    "start_time": "2022-02-02T19:02:00.286Z"
   },
   {
    "duration": 2,
    "start_time": "2022-02-02T19:02:00.307Z"
   },
   {
    "duration": 5,
    "start_time": "2022-02-02T19:02:00.311Z"
   },
   {
    "duration": 24,
    "start_time": "2022-02-02T19:02:00.318Z"
   },
   {
    "duration": 10,
    "start_time": "2022-02-02T19:02:00.344Z"
   },
   {
    "duration": 40,
    "start_time": "2022-02-02T19:02:00.357Z"
   },
   {
    "duration": 10,
    "start_time": "2022-02-02T19:02:00.399Z"
   },
   {
    "duration": 9,
    "start_time": "2022-02-02T19:02:00.411Z"
   },
   {
    "duration": 168,
    "start_time": "2022-02-02T19:02:00.421Z"
   },
   {
    "duration": 329,
    "start_time": "2022-02-02T19:02:00.591Z"
   },
   {
    "duration": 4,
    "start_time": "2022-02-02T19:02:00.921Z"
   },
   {
    "duration": 46,
    "start_time": "2022-02-02T19:02:00.927Z"
   },
   {
    "duration": 22,
    "start_time": "2022-02-02T19:02:00.974Z"
   },
   {
    "duration": 19,
    "start_time": "2022-02-02T19:02:00.998Z"
   },
   {
    "duration": 448,
    "start_time": "2022-02-02T19:02:01.019Z"
   },
   {
    "duration": 5,
    "start_time": "2022-02-02T19:02:01.471Z"
   },
   {
    "duration": 403,
    "start_time": "2022-02-02T19:02:01.478Z"
   },
   {
    "duration": 5,
    "start_time": "2022-02-02T19:02:01.883Z"
   },
   {
    "duration": 329,
    "start_time": "2022-02-02T19:02:01.889Z"
   },
   {
    "duration": 5,
    "start_time": "2022-02-02T19:02:02.220Z"
   },
   {
    "duration": 318,
    "start_time": "2022-02-02T19:02:02.227Z"
   },
   {
    "duration": 5,
    "start_time": "2022-02-02T19:02:02.546Z"
   },
   {
    "duration": 482,
    "start_time": "2022-02-02T19:02:02.552Z"
   },
   {
    "duration": 7,
    "start_time": "2022-02-02T19:02:03.035Z"
   },
   {
    "duration": 451,
    "start_time": "2022-02-02T19:02:03.044Z"
   },
   {
    "duration": 7,
    "start_time": "2022-02-02T19:02:03.497Z"
   },
   {
    "duration": 456,
    "start_time": "2022-02-02T19:02:03.505Z"
   },
   {
    "duration": 13,
    "start_time": "2022-02-02T19:02:03.963Z"
   },
   {
    "duration": 2,
    "start_time": "2022-02-02T19:02:03.977Z"
   },
   {
    "duration": 34,
    "start_time": "2022-02-02T19:02:03.981Z"
   },
   {
    "duration": 801,
    "start_time": "2022-02-02T19:02:04.017Z"
   },
   {
    "duration": 473,
    "start_time": "2022-02-02T19:02:04.820Z"
   },
   {
    "duration": 460,
    "start_time": "2022-02-02T19:02:05.295Z"
   },
   {
    "duration": 15,
    "start_time": "2022-02-02T19:02:05.756Z"
   },
   {
    "duration": 297,
    "start_time": "2022-02-02T19:02:05.773Z"
   },
   {
    "duration": 3,
    "start_time": "2022-02-02T19:02:06.072Z"
   },
   {
    "duration": 4,
    "start_time": "2022-02-02T19:02:06.077Z"
   },
   {
    "duration": 6,
    "start_time": "2022-02-02T19:02:08.332Z"
   },
   {
    "duration": 3,
    "start_time": "2022-02-02T19:02:09.022Z"
   },
   {
    "duration": 2,
    "start_time": "2022-02-02T19:02:09.567Z"
   },
   {
    "duration": 3,
    "start_time": "2022-02-02T19:02:09.832Z"
   },
   {
    "duration": 4,
    "start_time": "2022-02-02T19:02:10.232Z"
   },
   {
    "duration": 4,
    "start_time": "2022-02-02T19:02:10.677Z"
   },
   {
    "duration": 902,
    "start_time": "2022-02-02T19:02:11.173Z"
   },
   {
    "duration": 6,
    "start_time": "2022-02-02T19:02:17.957Z"
   },
   {
    "duration": 20456,
    "start_time": "2022-02-02T19:02:18.642Z"
   },
   {
    "duration": 16,
    "start_time": "2022-02-02T19:04:49.768Z"
   },
   {
    "duration": 2,
    "start_time": "2022-02-02T19:04:58.818Z"
   },
   {
    "duration": 6,
    "start_time": "2022-02-02T19:04:58.822Z"
   },
   {
    "duration": 6,
    "start_time": "2022-02-02T19:04:58.831Z"
   },
   {
    "duration": 628,
    "start_time": "2022-02-02T19:04:58.839Z"
   },
   {
    "duration": 23,
    "start_time": "2022-02-02T19:04:59.472Z"
   },
   {
    "duration": 4,
    "start_time": "2022-02-02T19:04:59.497Z"
   },
   {
    "duration": 5,
    "start_time": "2022-02-02T19:04:59.503Z"
   },
   {
    "duration": 9,
    "start_time": "2022-02-02T19:04:59.511Z"
   },
   {
    "duration": 5,
    "start_time": "2022-02-02T19:04:59.522Z"
   },
   {
    "duration": 6,
    "start_time": "2022-02-02T19:04:59.528Z"
   },
   {
    "duration": 654,
    "start_time": "2022-02-02T19:04:59.536Z"
   },
   {
    "duration": 757,
    "start_time": "2022-02-02T19:05:00.191Z"
   },
   {
    "duration": 10,
    "start_time": "2022-02-02T19:05:00.950Z"
   },
   {
    "duration": 8,
    "start_time": "2022-02-02T19:05:00.972Z"
   },
   {
    "duration": 2,
    "start_time": "2022-02-02T19:05:00.982Z"
   },
   {
    "duration": 443,
    "start_time": "2022-02-02T19:05:00.986Z"
   },
   {
    "duration": 17,
    "start_time": "2022-02-02T19:05:01.431Z"
   },
   {
    "duration": 4,
    "start_time": "2022-02-02T19:05:01.449Z"
   },
   {
    "duration": 18,
    "start_time": "2022-02-02T19:05:01.455Z"
   },
   {
    "duration": 3,
    "start_time": "2022-02-02T19:05:03.344Z"
   },
   {
    "duration": 16,
    "start_time": "2022-02-02T19:05:03.670Z"
   },
   {
    "duration": 10,
    "start_time": "2022-02-02T19:05:17.956Z"
   },
   {
    "duration": 2,
    "start_time": "2022-02-02T19:05:28.851Z"
   },
   {
    "duration": 5,
    "start_time": "2022-02-02T19:05:28.855Z"
   },
   {
    "duration": 4,
    "start_time": "2022-02-02T19:05:28.862Z"
   },
   {
    "duration": 667,
    "start_time": "2022-02-02T19:05:28.868Z"
   },
   {
    "duration": 18,
    "start_time": "2022-02-02T19:05:29.537Z"
   },
   {
    "duration": 17,
    "start_time": "2022-02-02T19:05:29.557Z"
   },
   {
    "duration": 4,
    "start_time": "2022-02-02T19:05:29.576Z"
   },
   {
    "duration": 22,
    "start_time": "2022-02-02T19:05:29.583Z"
   },
   {
    "duration": 5,
    "start_time": "2022-02-02T19:05:29.607Z"
   },
   {
    "duration": 9,
    "start_time": "2022-02-02T19:05:29.614Z"
   },
   {
    "duration": 571,
    "start_time": "2022-02-02T19:05:29.625Z"
   },
   {
    "duration": 692,
    "start_time": "2022-02-02T19:05:30.198Z"
   },
   {
    "duration": 10,
    "start_time": "2022-02-02T19:05:30.892Z"
   },
   {
    "duration": 9,
    "start_time": "2022-02-02T19:05:30.904Z"
   },
   {
    "duration": 3,
    "start_time": "2022-02-02T19:05:30.914Z"
   },
   {
    "duration": 446,
    "start_time": "2022-02-02T19:05:30.918Z"
   },
   {
    "duration": 17,
    "start_time": "2022-02-02T19:05:31.365Z"
   },
   {
    "duration": 4,
    "start_time": "2022-02-02T19:05:31.384Z"
   },
   {
    "duration": 6,
    "start_time": "2022-02-02T19:05:31.390Z"
   },
   {
    "duration": 22,
    "start_time": "2022-02-02T19:05:31.398Z"
   },
   {
    "duration": 9,
    "start_time": "2022-02-02T19:05:31.422Z"
   },
   {
    "duration": 58,
    "start_time": "2022-02-02T19:05:31.433Z"
   },
   {
    "duration": 11,
    "start_time": "2022-02-02T19:05:31.495Z"
   },
   {
    "duration": 9,
    "start_time": "2022-02-02T19:05:31.508Z"
   },
   {
    "duration": 167,
    "start_time": "2022-02-02T19:05:31.519Z"
   },
   {
    "duration": 321,
    "start_time": "2022-02-02T19:05:31.688Z"
   },
   {
    "duration": 4,
    "start_time": "2022-02-02T19:05:32.010Z"
   },
   {
    "duration": 24,
    "start_time": "2022-02-02T19:05:32.015Z"
   },
   {
    "duration": 39,
    "start_time": "2022-02-02T19:05:32.040Z"
   },
   {
    "duration": 19,
    "start_time": "2022-02-02T19:05:32.080Z"
   },
   {
    "duration": 388,
    "start_time": "2022-02-02T19:05:32.100Z"
   },
   {
    "duration": 5,
    "start_time": "2022-02-02T19:05:32.490Z"
   },
   {
    "duration": 408,
    "start_time": "2022-02-02T19:05:32.497Z"
   },
   {
    "duration": 6,
    "start_time": "2022-02-02T19:05:32.907Z"
   },
   {
    "duration": 324,
    "start_time": "2022-02-02T19:05:32.915Z"
   },
   {
    "duration": 4,
    "start_time": "2022-02-02T19:05:33.241Z"
   },
   {
    "duration": 320,
    "start_time": "2022-02-02T19:05:33.247Z"
   },
   {
    "duration": 5,
    "start_time": "2022-02-02T19:05:33.569Z"
   },
   {
    "duration": 456,
    "start_time": "2022-02-02T19:05:33.575Z"
   },
   {
    "duration": 7,
    "start_time": "2022-02-02T19:05:34.032Z"
   },
   {
    "duration": 461,
    "start_time": "2022-02-02T19:05:34.041Z"
   },
   {
    "duration": 8,
    "start_time": "2022-02-02T19:05:34.503Z"
   },
   {
    "duration": 962,
    "start_time": "2022-02-02T19:05:34.512Z"
   },
   {
    "duration": 9,
    "start_time": "2022-02-02T19:05:35.476Z"
   },
   {
    "duration": 3,
    "start_time": "2022-02-02T19:05:35.487Z"
   },
   {
    "duration": 35,
    "start_time": "2022-02-02T19:05:35.492Z"
   },
   {
    "duration": 465,
    "start_time": "2022-02-02T19:05:35.528Z"
   },
   {
    "duration": 463,
    "start_time": "2022-02-02T19:05:35.995Z"
   },
   {
    "duration": 474,
    "start_time": "2022-02-02T19:05:36.460Z"
   },
   {
    "duration": 10,
    "start_time": "2022-02-02T19:05:36.935Z"
   },
   {
    "duration": 382,
    "start_time": "2022-02-02T19:05:36.947Z"
   },
   {
    "duration": 4,
    "start_time": "2022-02-02T19:05:37.331Z"
   },
   {
    "duration": 9,
    "start_time": "2022-02-02T19:05:37.337Z"
   },
   {
    "duration": 23,
    "start_time": "2022-02-02T19:05:37.348Z"
   },
   {
    "duration": 2,
    "start_time": "2022-02-02T19:05:37.373Z"
   },
   {
    "duration": 6,
    "start_time": "2022-02-02T19:05:37.377Z"
   },
   {
    "duration": 10,
    "start_time": "2022-02-02T19:05:37.385Z"
   },
   {
    "duration": 7,
    "start_time": "2022-02-02T19:05:37.397Z"
   },
   {
    "duration": 15,
    "start_time": "2022-02-02T19:05:37.407Z"
   },
   {
    "duration": 851,
    "start_time": "2022-02-02T19:05:37.424Z"
   },
   {
    "duration": 957,
    "start_time": "2022-02-02T19:05:47.524Z"
   },
   {
    "duration": 6,
    "start_time": "2022-02-02T19:05:59.272Z"
   },
   {
    "duration": 523260,
    "start_time": "2022-02-02T19:05:59.638Z"
   },
   {
    "duration": 5,
    "start_time": "2022-02-02T19:23:32.074Z"
   },
   {
    "duration": 4,
    "start_time": "2022-02-02T19:25:15.626Z"
   },
   {
    "duration": 6,
    "start_time": "2022-02-02T19:25:16.659Z"
   },
   {
    "duration": 2,
    "start_time": "2022-02-02T19:25:17.137Z"
   },
   {
    "duration": 3,
    "start_time": "2022-02-02T19:25:17.580Z"
   },
   {
    "duration": 4,
    "start_time": "2022-02-02T19:25:17.948Z"
   },
   {
    "duration": 965,
    "start_time": "2022-02-02T19:25:20.410Z"
   },
   {
    "duration": 614694,
    "start_time": "2022-02-02T19:25:24.379Z"
   },
   {
    "duration": 3,
    "start_time": "2022-02-02T19:35:44.945Z"
   },
   {
    "duration": 4,
    "start_time": "2022-02-02T19:35:44.950Z"
   },
   {
    "duration": 6,
    "start_time": "2022-02-02T19:35:44.957Z"
   },
   {
    "duration": 658,
    "start_time": "2022-02-02T19:35:44.965Z"
   },
   {
    "duration": 18,
    "start_time": "2022-02-02T19:35:45.625Z"
   },
   {
    "duration": 7,
    "start_time": "2022-02-02T19:35:45.645Z"
   },
   {
    "duration": 18,
    "start_time": "2022-02-02T19:35:45.655Z"
   },
   {
    "duration": 7,
    "start_time": "2022-02-02T19:35:45.675Z"
   },
   {
    "duration": 5,
    "start_time": "2022-02-02T19:35:45.683Z"
   },
   {
    "duration": 6,
    "start_time": "2022-02-02T19:35:45.690Z"
   },
   {
    "duration": 533,
    "start_time": "2022-02-02T19:35:45.697Z"
   },
   {
    "duration": 884,
    "start_time": "2022-02-02T19:35:46.232Z"
   },
   {
    "duration": 10,
    "start_time": "2022-02-02T19:35:47.117Z"
   },
   {
    "duration": 6,
    "start_time": "2022-02-02T19:35:47.128Z"
   },
   {
    "duration": 2,
    "start_time": "2022-02-02T19:35:47.136Z"
   },
   {
    "duration": 5,
    "start_time": "2022-02-02T19:35:47.139Z"
   },
   {
    "duration": 38,
    "start_time": "2022-02-02T19:35:47.146Z"
   },
   {
    "duration": 3,
    "start_time": "2022-02-02T19:35:47.185Z"
   },
   {
    "duration": 4,
    "start_time": "2022-02-02T19:35:47.191Z"
   },
   {
    "duration": 16,
    "start_time": "2022-02-02T19:35:47.197Z"
   },
   {
    "duration": 9,
    "start_time": "2022-02-02T19:35:47.214Z"
   },
   {
    "duration": 48,
    "start_time": "2022-02-02T19:35:47.225Z"
   },
   {
    "duration": 9,
    "start_time": "2022-02-02T19:35:47.274Z"
   },
   {
    "duration": 9,
    "start_time": "2022-02-02T19:35:47.285Z"
   },
   {
    "duration": 150,
    "start_time": "2022-02-02T19:35:47.296Z"
   },
   {
    "duration": 277,
    "start_time": "2022-02-02T19:35:47.448Z"
   },
   {
    "duration": 3,
    "start_time": "2022-02-02T19:35:47.727Z"
   },
   {
    "duration": 47,
    "start_time": "2022-02-02T19:35:47.731Z"
   },
   {
    "duration": 17,
    "start_time": "2022-02-02T19:35:47.780Z"
   },
   {
    "duration": 19,
    "start_time": "2022-02-02T19:35:47.798Z"
   },
   {
    "duration": 396,
    "start_time": "2022-02-02T19:35:47.818Z"
   },
   {
    "duration": 4,
    "start_time": "2022-02-02T19:35:48.216Z"
   },
   {
    "duration": 411,
    "start_time": "2022-02-02T19:35:48.222Z"
   },
   {
    "duration": 4,
    "start_time": "2022-02-02T19:35:48.635Z"
   },
   {
    "duration": 322,
    "start_time": "2022-02-02T19:35:48.640Z"
   },
   {
    "duration": 10,
    "start_time": "2022-02-02T19:35:48.963Z"
   },
   {
    "duration": 317,
    "start_time": "2022-02-02T19:35:48.975Z"
   },
   {
    "duration": 5,
    "start_time": "2022-02-02T19:35:49.293Z"
   },
   {
    "duration": 447,
    "start_time": "2022-02-02T19:35:49.300Z"
   },
   {
    "duration": 7,
    "start_time": "2022-02-02T19:35:49.749Z"
   },
   {
    "duration": 465,
    "start_time": "2022-02-02T19:35:49.758Z"
   },
   {
    "duration": 7,
    "start_time": "2022-02-02T19:35:50.224Z"
   },
   {
    "duration": 461,
    "start_time": "2022-02-02T19:35:50.232Z"
   },
   {
    "duration": 7,
    "start_time": "2022-02-02T19:35:50.695Z"
   },
   {
    "duration": 3,
    "start_time": "2022-02-02T19:35:50.703Z"
   },
   {
    "duration": 28,
    "start_time": "2022-02-02T19:35:50.708Z"
   },
   {
    "duration": 450,
    "start_time": "2022-02-02T19:35:50.738Z"
   },
   {
    "duration": 461,
    "start_time": "2022-02-02T19:35:51.190Z"
   },
   {
    "duration": 435,
    "start_time": "2022-02-02T19:35:51.652Z"
   },
   {
    "duration": 8,
    "start_time": "2022-02-02T19:35:52.089Z"
   },
   {
    "duration": 272,
    "start_time": "2022-02-02T19:35:52.098Z"
   },
   {
    "duration": 2,
    "start_time": "2022-02-02T19:35:52.372Z"
   },
   {
    "duration": 4,
    "start_time": "2022-02-02T19:35:52.376Z"
   },
   {
    "duration": 6,
    "start_time": "2022-02-02T19:35:52.382Z"
   },
   {
    "duration": 1,
    "start_time": "2022-02-02T19:35:52.393Z"
   },
   {
    "duration": 4,
    "start_time": "2022-02-02T19:35:52.396Z"
   },
   {
    "duration": 5,
    "start_time": "2022-02-02T19:35:52.401Z"
   },
   {
    "duration": 10,
    "start_time": "2022-02-02T19:35:52.407Z"
   },
   {
    "duration": 13,
    "start_time": "2022-02-02T19:35:52.419Z"
   },
   {
    "duration": 541,
    "start_time": "2022-02-02T19:35:52.433Z"
   },
   {
    "duration": 97,
    "start_time": "2022-02-02T19:35:52.977Z"
   },
   {
    "duration": 392957,
    "start_time": "2022-02-02T19:35:53.076Z"
   },
   {
    "duration": 4,
    "start_time": "2022-02-02T19:42:26.035Z"
   },
   {
    "duration": 8,
    "start_time": "2022-02-02T19:42:26.040Z"
   },
   {
    "duration": 22,
    "start_time": "2022-02-02T19:42:26.050Z"
   },
   {
    "duration": 3,
    "start_time": "2022-02-02T19:42:26.074Z"
   },
   {
    "duration": 5,
    "start_time": "2022-02-02T19:42:26.079Z"
   },
   {
    "duration": 698,
    "start_time": "2022-02-02T19:42:26.085Z"
   },
   {
    "duration": 59870,
    "start_time": "2022-02-02T19:42:26.875Z"
   },
   {
    "duration": 35,
    "start_time": "2022-02-02T19:43:26.746Z"
   },
   {
    "duration": 3,
    "start_time": "2022-02-02T19:43:26.783Z"
   },
   {
    "duration": 31,
    "start_time": "2022-02-02T19:43:26.788Z"
   },
   {
    "duration": 4,
    "start_time": "2022-02-02T19:43:26.821Z"
   },
   {
    "duration": 51,
    "start_time": "2022-02-02T19:43:26.826Z"
   },
   {
    "duration": 4,
    "start_time": "2022-02-02T19:43:26.878Z"
   },
   {
    "duration": 5,
    "start_time": "2022-02-02T19:43:26.883Z"
   },
   {
    "duration": 10,
    "start_time": "2022-02-02T19:43:26.890Z"
   },
   {
    "duration": 7,
    "start_time": "2022-02-02T19:43:26.902Z"
   },
   {
    "duration": 4,
    "start_time": "2022-02-02T19:43:26.911Z"
   },
   {
    "duration": 5,
    "start_time": "2022-02-02T19:43:26.918Z"
   },
   {
    "duration": 10,
    "start_time": "2022-02-02T19:43:26.924Z"
   },
   {
    "duration": 36,
    "start_time": "2022-02-02T19:43:26.936Z"
   },
   {
    "duration": 2,
    "start_time": "2022-02-02T19:43:26.973Z"
   },
   {
    "duration": 5,
    "start_time": "2022-02-02T19:43:26.977Z"
   },
   {
    "duration": 992,
    "start_time": "2022-02-02T19:43:26.984Z"
   },
   {
    "duration": 4,
    "start_time": "2022-02-02T19:43:28.704Z"
   },
   {
    "duration": 6,
    "start_time": "2022-02-02T19:43:29.636Z"
   },
   {
    "duration": 2,
    "start_time": "2022-02-02T19:43:30.135Z"
   },
   {
    "duration": 3,
    "start_time": "2022-02-02T19:43:30.600Z"
   },
   {
    "duration": 4,
    "start_time": "2022-02-02T19:43:30.905Z"
   },
   {
    "duration": 919,
    "start_time": "2022-02-02T19:43:32.859Z"
   },
   {
    "duration": 70695,
    "start_time": "2022-02-02T19:43:36.316Z"
   },
   {
    "duration": 33,
    "start_time": "2022-02-02T19:44:47.778Z"
   },
   {
    "duration": 25,
    "start_time": "2022-02-02T19:44:56.657Z"
   },
   {
    "duration": 8,
    "start_time": "2022-02-02T19:45:08.477Z"
   },
   {
    "duration": 5,
    "start_time": "2022-02-02T19:45:19.380Z"
   },
   {
    "duration": 295,
    "start_time": "2022-02-02T19:45:55.473Z"
   },
   {
    "duration": 293,
    "start_time": "2022-02-02T19:46:04.804Z"
   },
   {
    "duration": 203,
    "start_time": "2022-02-02T19:46:35.182Z"
   },
   {
    "duration": 517,
    "start_time": "2022-02-02T19:47:19.911Z"
   },
   {
    "duration": 306,
    "start_time": "2022-02-02T19:47:38.167Z"
   },
   {
    "duration": 285,
    "start_time": "2022-02-02T19:47:41.200Z"
   },
   {
    "duration": 282,
    "start_time": "2022-02-02T19:47:46.342Z"
   },
   {
    "duration": 286,
    "start_time": "2022-02-02T19:47:49.538Z"
   },
   {
    "duration": 186,
    "start_time": "2022-02-02T19:47:53.495Z"
   },
   {
    "duration": 544,
    "start_time": "2022-02-02T19:48:40.040Z"
   },
   {
    "duration": 183,
    "start_time": "2022-02-02T19:48:44.057Z"
   },
   {
    "duration": 8,
    "start_time": "2022-02-02T19:49:29.354Z"
   },
   {
    "duration": 6,
    "start_time": "2022-02-02T19:53:06.696Z"
   },
   {
    "duration": 5,
    "start_time": "2022-02-02T19:53:07.245Z"
   },
   {
    "duration": 400,
    "start_time": "2022-02-02T19:53:09.300Z"
   },
   {
    "duration": 401,
    "start_time": "2022-02-02T19:53:42.680Z"
   },
   {
    "duration": 480,
    "start_time": "2022-02-02T19:53:58.872Z"
   },
   {
    "duration": 5,
    "start_time": "2022-02-02T19:53:59.355Z"
   },
   {
    "duration": 336,
    "start_time": "2022-02-02T19:54:04.626Z"
   },
   {
    "duration": 196,
    "start_time": "2022-02-02T19:54:33.843Z"
   },
   {
    "duration": 19,
    "start_time": "2022-02-02T19:54:57.819Z"
   },
   {
    "duration": 5,
    "start_time": "2022-02-02T19:56:58.616Z"
   },
   {
    "duration": 5,
    "start_time": "2022-02-02T19:56:59.476Z"
   },
   {
    "duration": 339,
    "start_time": "2022-02-02T19:57:00.835Z"
   },
   {
    "duration": 6,
    "start_time": "2022-02-02T19:57:11.580Z"
   },
   {
    "duration": 3,
    "start_time": "2022-02-02T19:57:17.080Z"
   },
   {
    "duration": 4,
    "start_time": "2022-02-02T19:57:17.085Z"
   },
   {
    "duration": 5,
    "start_time": "2022-02-02T19:57:17.091Z"
   },
   {
    "duration": 714,
    "start_time": "2022-02-02T19:57:17.098Z"
   },
   {
    "duration": 19,
    "start_time": "2022-02-02T19:57:17.813Z"
   },
   {
    "duration": 5,
    "start_time": "2022-02-02T19:57:17.833Z"
   },
   {
    "duration": 4,
    "start_time": "2022-02-02T19:57:17.839Z"
   },
   {
    "duration": 28,
    "start_time": "2022-02-02T19:57:17.844Z"
   },
   {
    "duration": 3,
    "start_time": "2022-02-02T19:57:17.875Z"
   },
   {
    "duration": 7,
    "start_time": "2022-02-02T19:57:17.880Z"
   },
   {
    "duration": 545,
    "start_time": "2022-02-02T19:57:17.888Z"
   },
   {
    "duration": 1605,
    "start_time": "2022-02-02T19:57:18.435Z"
   },
   {
    "duration": 10,
    "start_time": "2022-02-02T19:57:20.041Z"
   },
   {
    "duration": 19,
    "start_time": "2022-02-02T19:57:20.053Z"
   },
   {
    "duration": 3,
    "start_time": "2022-02-02T19:57:20.074Z"
   },
   {
    "duration": 8,
    "start_time": "2022-02-02T19:57:20.079Z"
   },
   {
    "duration": 34,
    "start_time": "2022-02-02T19:57:20.089Z"
   },
   {
    "duration": 3,
    "start_time": "2022-02-02T19:57:20.125Z"
   },
   {
    "duration": 11,
    "start_time": "2022-02-02T19:57:20.129Z"
   },
   {
    "duration": 19,
    "start_time": "2022-02-02T19:57:20.142Z"
   },
   {
    "duration": 18,
    "start_time": "2022-02-02T19:57:20.162Z"
   },
   {
    "duration": 33,
    "start_time": "2022-02-02T19:57:20.183Z"
   },
   {
    "duration": 10,
    "start_time": "2022-02-02T19:57:20.217Z"
   },
   {
    "duration": 10,
    "start_time": "2022-02-02T19:57:20.228Z"
   },
   {
    "duration": 179,
    "start_time": "2022-02-02T19:57:20.240Z"
   },
   {
    "duration": 304,
    "start_time": "2022-02-02T19:57:20.424Z"
   },
   {
    "duration": 4,
    "start_time": "2022-02-02T19:57:20.732Z"
   },
   {
    "duration": 42,
    "start_time": "2022-02-02T19:57:20.738Z"
   },
   {
    "duration": 15,
    "start_time": "2022-02-02T19:57:20.782Z"
   },
   {
    "duration": 16,
    "start_time": "2022-02-02T19:57:20.799Z"
   },
   {
    "duration": 448,
    "start_time": "2022-02-02T19:57:20.817Z"
   },
   {
    "duration": 204,
    "start_time": "2022-02-02T19:57:21.272Z"
   },
   {
    "duration": 6,
    "start_time": "2022-02-02T19:57:21.478Z"
   },
   {
    "duration": 5,
    "start_time": "2022-02-02T19:57:21.486Z"
   },
   {
    "duration": 388,
    "start_time": "2022-02-02T19:57:21.492Z"
   },
   {
    "duration": 429,
    "start_time": "2022-02-02T19:57:21.881Z"
   },
   {
    "duration": 4,
    "start_time": "2022-02-02T19:57:22.312Z"
   },
   {
    "duration": 332,
    "start_time": "2022-02-02T19:57:22.318Z"
   },
   {
    "duration": 193,
    "start_time": "2022-02-02T19:57:22.651Z"
   },
   {
    "duration": 5,
    "start_time": "2022-02-02T19:57:22.846Z"
   },
   {
    "duration": 7,
    "start_time": "2022-02-02T19:57:22.852Z"
   },
   {
    "duration": 355,
    "start_time": "2022-02-02T19:57:22.860Z"
   },
   {
    "duration": 4,
    "start_time": "2022-02-02T19:57:23.217Z"
   },
   {
    "duration": 465,
    "start_time": "2022-02-02T19:57:23.223Z"
   },
   {
    "duration": 7,
    "start_time": "2022-02-02T19:57:23.690Z"
   },
   {
    "duration": 496,
    "start_time": "2022-02-02T19:57:23.699Z"
   },
   {
    "duration": 8,
    "start_time": "2022-02-02T19:57:24.196Z"
   },
   {
    "duration": 465,
    "start_time": "2022-02-02T19:57:24.205Z"
   },
   {
    "duration": 8,
    "start_time": "2022-02-02T19:57:24.672Z"
   },
   {
    "duration": 3,
    "start_time": "2022-02-02T19:57:24.682Z"
   },
   {
    "duration": 28,
    "start_time": "2022-02-02T19:57:24.686Z"
   },
   {
    "duration": 461,
    "start_time": "2022-02-02T19:57:24.716Z"
   },
   {
    "duration": 476,
    "start_time": "2022-02-02T19:57:25.179Z"
   },
   {
    "duration": 467,
    "start_time": "2022-02-02T19:57:25.657Z"
   },
   {
    "duration": 9,
    "start_time": "2022-02-02T19:57:26.125Z"
   },
   {
    "duration": 279,
    "start_time": "2022-02-02T19:57:26.135Z"
   },
   {
    "duration": 3,
    "start_time": "2022-02-02T19:57:26.415Z"
   },
   {
    "duration": 6,
    "start_time": "2022-02-02T19:57:26.419Z"
   },
   {
    "duration": 7,
    "start_time": "2022-02-02T19:57:26.426Z"
   },
   {
    "duration": 2,
    "start_time": "2022-02-02T19:57:26.435Z"
   },
   {
    "duration": 5,
    "start_time": "2022-02-02T19:57:26.439Z"
   },
   {
    "duration": 26,
    "start_time": "2022-02-02T19:57:26.445Z"
   },
   {
    "duration": 5,
    "start_time": "2022-02-02T19:57:26.473Z"
   },
   {
    "duration": 11,
    "start_time": "2022-02-02T19:57:26.480Z"
   },
   {
    "duration": 682,
    "start_time": "2022-02-02T19:57:26.492Z"
   },
   {
    "duration": 83,
    "start_time": "2022-02-02T19:57:27.189Z"
   },
   {
    "duration": 405599,
    "start_time": "2022-02-02T19:57:27.274Z"
   },
   {
    "duration": 11,
    "start_time": "2022-02-02T20:04:12.875Z"
   },
   {
    "duration": 7,
    "start_time": "2022-02-02T20:04:12.888Z"
   },
   {
    "duration": 2,
    "start_time": "2022-02-02T20:04:12.896Z"
   },
   {
    "duration": 3,
    "start_time": "2022-02-02T20:04:12.900Z"
   },
   {
    "duration": 5,
    "start_time": "2022-02-02T20:04:12.904Z"
   },
   {
    "duration": 367,
    "start_time": "2022-02-02T20:04:12.911Z"
   },
   {
    "duration": 624591,
    "start_time": "2022-02-02T20:04:13.280Z"
   },
   {
    "duration": 40,
    "start_time": "2022-02-02T20:14:37.873Z"
   },
   {
    "duration": 3,
    "start_time": "2022-02-02T20:14:37.915Z"
   },
   {
    "duration": 49,
    "start_time": "2022-02-02T20:14:37.923Z"
   },
   {
    "duration": 4,
    "start_time": "2022-02-02T20:14:37.974Z"
   },
   {
    "duration": 45,
    "start_time": "2022-02-02T20:14:37.979Z"
   },
   {
    "duration": 50,
    "start_time": "2022-02-02T20:14:38.026Z"
   },
   {
    "duration": 3,
    "start_time": "2022-02-02T20:14:38.078Z"
   },
   {
    "duration": 9,
    "start_time": "2022-02-02T20:14:38.083Z"
   },
   {
    "duration": 8,
    "start_time": "2022-02-02T20:14:38.094Z"
   },
   {
    "duration": 4,
    "start_time": "2022-02-02T20:14:38.103Z"
   },
   {
    "duration": 763,
    "start_time": "2022-02-02T20:14:38.108Z"
   },
   {
    "duration": 580,
    "start_time": "2022-02-02T20:15:19.863Z"
   },
   {
    "duration": 419,
    "start_time": "2022-02-02T20:15:27.227Z"
   },
   {
    "duration": 726,
    "start_time": "2022-02-02T20:16:10.644Z"
   },
   {
    "duration": 930,
    "start_time": "2022-02-02T20:18:00.602Z"
   },
   {
    "duration": 515,
    "start_time": "2022-02-02T20:18:34.759Z"
   },
   {
    "duration": 733,
    "start_time": "2022-02-02T20:18:40.225Z"
   },
   {
    "duration": 924,
    "start_time": "2022-02-02T20:19:04.369Z"
   },
   {
    "duration": 8,
    "start_time": "2022-02-02T20:19:17.852Z"
   },
   {
    "duration": 5,
    "start_time": "2022-02-02T20:19:18.285Z"
   },
   {
    "duration": 405,
    "start_time": "2022-02-02T20:19:20.920Z"
   },
   {
    "duration": 1029,
    "start_time": "2022-02-02T20:19:22.529Z"
   },
   {
    "duration": 772,
    "start_time": "2022-02-02T20:19:39.523Z"
   },
   {
    "duration": 3,
    "start_time": "2022-02-02T20:20:20.014Z"
   },
   {
    "duration": 4,
    "start_time": "2022-02-02T20:20:20.019Z"
   },
   {
    "duration": 386,
    "start_time": "2022-02-02T20:20:20.025Z"
   },
   {
    "duration": -6,
    "start_time": "2022-02-02T20:20:20.420Z"
   },
   {
    "duration": -7,
    "start_time": "2022-02-02T20:20:20.423Z"
   },
   {
    "duration": -9,
    "start_time": "2022-02-02T20:20:20.426Z"
   },
   {
    "duration": -12,
    "start_time": "2022-02-02T20:20:20.430Z"
   },
   {
    "duration": -13,
    "start_time": "2022-02-02T20:20:20.433Z"
   },
   {
    "duration": -33,
    "start_time": "2022-02-02T20:20:20.454Z"
   },
   {
    "duration": -38,
    "start_time": "2022-02-02T20:20:20.460Z"
   },
   {
    "duration": -39,
    "start_time": "2022-02-02T20:20:20.463Z"
   },
   {
    "duration": -41,
    "start_time": "2022-02-02T20:20:20.466Z"
   },
   {
    "duration": -43,
    "start_time": "2022-02-02T20:20:20.469Z"
   },
   {
    "duration": -52,
    "start_time": "2022-02-02T20:20:20.480Z"
   },
   {
    "duration": -55,
    "start_time": "2022-02-02T20:20:20.484Z"
   },
   {
    "duration": -57,
    "start_time": "2022-02-02T20:20:20.487Z"
   },
   {
    "duration": -60,
    "start_time": "2022-02-02T20:20:20.492Z"
   },
   {
    "duration": -62,
    "start_time": "2022-02-02T20:20:20.495Z"
   },
   {
    "duration": -64,
    "start_time": "2022-02-02T20:20:20.499Z"
   },
   {
    "duration": -66,
    "start_time": "2022-02-02T20:20:20.502Z"
   },
   {
    "duration": -70,
    "start_time": "2022-02-02T20:20:20.507Z"
   },
   {
    "duration": -72,
    "start_time": "2022-02-02T20:20:20.511Z"
   },
   {
    "duration": -74,
    "start_time": "2022-02-02T20:20:20.514Z"
   },
   {
    "duration": -75,
    "start_time": "2022-02-02T20:20:20.516Z"
   },
   {
    "duration": -77,
    "start_time": "2022-02-02T20:20:20.520Z"
   },
   {
    "duration": -78,
    "start_time": "2022-02-02T20:20:20.522Z"
   },
   {
    "duration": -79,
    "start_time": "2022-02-02T20:20:20.525Z"
   },
   {
    "duration": -81,
    "start_time": "2022-02-02T20:20:20.528Z"
   },
   {
    "duration": -89,
    "start_time": "2022-02-02T20:20:20.537Z"
   },
   {
    "duration": -89,
    "start_time": "2022-02-02T20:20:20.539Z"
   },
   {
    "duration": -92,
    "start_time": "2022-02-02T20:20:20.543Z"
   },
   {
    "duration": -73,
    "start_time": "2022-02-02T20:20:20.545Z"
   },
   {
    "duration": -75,
    "start_time": "2022-02-02T20:20:20.548Z"
   },
   {
    "duration": -75,
    "start_time": "2022-02-02T20:20:20.550Z"
   },
   {
    "duration": -78,
    "start_time": "2022-02-02T20:20:20.554Z"
   },
   {
    "duration": -82,
    "start_time": "2022-02-02T20:20:20.559Z"
   },
   {
    "duration": -83,
    "start_time": "2022-02-02T20:20:20.562Z"
   },
   {
    "duration": -86,
    "start_time": "2022-02-02T20:20:20.566Z"
   },
   {
    "duration": -88,
    "start_time": "2022-02-02T20:20:20.569Z"
   },
   {
    "duration": 3,
    "start_time": "2022-02-02T20:20:38.418Z"
   },
   {
    "duration": 2,
    "start_time": "2022-02-02T20:20:48.790Z"
   },
   {
    "duration": 3,
    "start_time": "2022-02-02T20:20:48.794Z"
   },
   {
    "duration": 4,
    "start_time": "2022-02-02T20:20:48.799Z"
   },
   {
    "duration": 633,
    "start_time": "2022-02-02T20:20:48.805Z"
   },
   {
    "duration": 17,
    "start_time": "2022-02-02T20:20:49.440Z"
   },
   {
    "duration": 15,
    "start_time": "2022-02-02T20:20:49.458Z"
   },
   {
    "duration": 4,
    "start_time": "2022-02-02T20:20:49.474Z"
   },
   {
    "duration": 6,
    "start_time": "2022-02-02T20:20:49.481Z"
   },
   {
    "duration": 4,
    "start_time": "2022-02-02T20:20:49.489Z"
   },
   {
    "duration": 8,
    "start_time": "2022-02-02T20:20:49.494Z"
   },
   {
    "duration": 531,
    "start_time": "2022-02-02T20:20:49.503Z"
   },
   {
    "duration": 1442,
    "start_time": "2022-02-02T20:20:50.035Z"
   },
   {
    "duration": 8,
    "start_time": "2022-02-02T20:20:51.479Z"
   },
   {
    "duration": 22,
    "start_time": "2022-02-02T20:20:51.488Z"
   },
   {
    "duration": 10,
    "start_time": "2022-02-02T20:20:51.512Z"
   },
   {
    "duration": 9,
    "start_time": "2022-02-02T20:20:51.524Z"
   },
   {
    "duration": 17,
    "start_time": "2022-02-02T20:20:51.534Z"
   },
   {
    "duration": 4,
    "start_time": "2022-02-02T20:20:51.553Z"
   },
   {
    "duration": 4,
    "start_time": "2022-02-02T20:20:51.559Z"
   },
   {
    "duration": 15,
    "start_time": "2022-02-02T20:20:51.564Z"
   },
   {
    "duration": 9,
    "start_time": "2022-02-02T20:20:51.580Z"
   },
   {
    "duration": 27,
    "start_time": "2022-02-02T20:20:51.591Z"
   },
   {
    "duration": 9,
    "start_time": "2022-02-02T20:20:51.620Z"
   },
   {
    "duration": 10,
    "start_time": "2022-02-02T20:20:51.631Z"
   },
   {
    "duration": 166,
    "start_time": "2022-02-02T20:20:51.642Z"
   },
   {
    "duration": 298,
    "start_time": "2022-02-02T20:20:51.810Z"
   },
   {
    "duration": 5,
    "start_time": "2022-02-02T20:20:52.109Z"
   },
   {
    "duration": 28,
    "start_time": "2022-02-02T20:20:52.115Z"
   },
   {
    "duration": 43,
    "start_time": "2022-02-02T20:20:52.144Z"
   },
   {
    "duration": 20,
    "start_time": "2022-02-02T20:20:52.189Z"
   },
   {
    "duration": 656,
    "start_time": "2022-02-02T20:20:52.211Z"
   },
   {
    "duration": 212,
    "start_time": "2022-02-02T20:20:52.869Z"
   },
   {
    "duration": 6,
    "start_time": "2022-02-02T20:20:53.082Z"
   },
   {
    "duration": 7,
    "start_time": "2022-02-02T20:20:53.089Z"
   },
   {
    "duration": 428,
    "start_time": "2022-02-02T20:20:53.097Z"
   },
   {
    "duration": 701,
    "start_time": "2022-02-02T20:20:53.527Z"
   },
   {
    "duration": 4,
    "start_time": "2022-02-02T20:20:54.230Z"
   },
   {
    "duration": 581,
    "start_time": "2022-02-02T20:20:54.236Z"
   },
   {
    "duration": 219,
    "start_time": "2022-02-02T20:20:54.819Z"
   },
   {
    "duration": 641,
    "start_time": "2022-02-02T20:21:15.693Z"
   },
   {
    "duration": 2,
    "start_time": "2022-02-02T20:21:27.919Z"
   },
   {
    "duration": 752,
    "start_time": "2022-02-02T20:21:34.277Z"
   },
   {
    "duration": 5,
    "start_time": "2022-02-02T20:21:48.175Z"
   },
   {
    "duration": 474,
    "start_time": "2022-02-02T20:21:49.051Z"
   },
   {
    "duration": 188,
    "start_time": "2022-02-02T20:21:55.855Z"
   },
   {
    "duration": 5,
    "start_time": "2022-02-02T20:21:59.942Z"
   },
   {
    "duration": 5,
    "start_time": "2022-02-02T20:22:00.862Z"
   },
   {
    "duration": 318,
    "start_time": "2022-02-02T20:22:02.160Z"
   },
   {
    "duration": 5,
    "start_time": "2022-02-02T20:22:06.402Z"
   },
   {
    "duration": 433,
    "start_time": "2022-02-02T20:22:11.893Z"
   },
   {
    "duration": 7,
    "start_time": "2022-02-02T20:22:17.709Z"
   },
   {
    "duration": 492,
    "start_time": "2022-02-02T20:22:18.757Z"
   },
   {
    "duration": 9,
    "start_time": "2022-02-02T20:22:19.250Z"
   },
   {
    "duration": 452,
    "start_time": "2022-02-02T20:22:20.552Z"
   },
   {
    "duration": 704,
    "start_time": "2022-02-02T20:22:29.681Z"
   },
   {
    "duration": 7,
    "start_time": "2022-02-02T20:22:43.448Z"
   },
   {
    "duration": 675,
    "start_time": "2022-02-02T20:22:49.340Z"
   },
   {
    "duration": 8,
    "start_time": "2022-02-02T20:22:54.519Z"
   },
   {
    "duration": 3,
    "start_time": "2022-02-02T20:22:55.977Z"
   },
   {
    "duration": 32,
    "start_time": "2022-02-02T20:22:57.164Z"
   },
   {
    "duration": 445,
    "start_time": "2022-02-02T20:22:59.766Z"
   },
   {
    "duration": 660,
    "start_time": "2022-02-02T20:23:04.590Z"
   },
   {
    "duration": 454,
    "start_time": "2022-02-02T20:23:13.475Z"
   },
   {
    "duration": 695,
    "start_time": "2022-02-02T20:23:26.277Z"
   },
   {
    "duration": 665,
    "start_time": "2022-02-02T20:23:32.235Z"
   },
   {
    "duration": 9,
    "start_time": "2022-02-02T20:23:40.104Z"
   },
   {
    "duration": 271,
    "start_time": "2022-02-02T20:23:40.783Z"
   },
   {
    "duration": 3,
    "start_time": "2022-02-02T20:24:14.751Z"
   },
   {
    "duration": 4,
    "start_time": "2022-02-02T20:24:14.756Z"
   },
   {
    "duration": 6,
    "start_time": "2022-02-02T20:24:14.762Z"
   },
   {
    "duration": 708,
    "start_time": "2022-02-02T20:24:14.769Z"
   },
   {
    "duration": 17,
    "start_time": "2022-02-02T20:24:15.479Z"
   },
   {
    "duration": 11,
    "start_time": "2022-02-02T20:24:15.498Z"
   },
   {
    "duration": 4,
    "start_time": "2022-02-02T20:24:15.511Z"
   },
   {
    "duration": 7,
    "start_time": "2022-02-02T20:24:15.517Z"
   },
   {
    "duration": 4,
    "start_time": "2022-02-02T20:24:15.525Z"
   },
   {
    "duration": 5,
    "start_time": "2022-02-02T20:24:15.531Z"
   },
   {
    "duration": 616,
    "start_time": "2022-02-02T20:24:15.537Z"
   },
   {
    "duration": 720,
    "start_time": "2022-02-02T20:24:16.154Z"
   },
   {
    "duration": 12,
    "start_time": "2022-02-02T20:24:16.876Z"
   },
   {
    "duration": 9,
    "start_time": "2022-02-02T20:24:16.890Z"
   },
   {
    "duration": 2,
    "start_time": "2022-02-02T20:24:16.900Z"
   },
   {
    "duration": 3,
    "start_time": "2022-02-02T20:24:16.904Z"
   },
   {
    "duration": 17,
    "start_time": "2022-02-02T20:24:16.909Z"
   },
   {
    "duration": 3,
    "start_time": "2022-02-02T20:24:16.929Z"
   },
   {
    "duration": 38,
    "start_time": "2022-02-02T20:24:16.934Z"
   },
   {
    "duration": 18,
    "start_time": "2022-02-02T20:24:16.975Z"
   },
   {
    "duration": 11,
    "start_time": "2022-02-02T20:24:16.995Z"
   },
   {
    "duration": 31,
    "start_time": "2022-02-02T20:24:17.007Z"
   },
   {
    "duration": 37,
    "start_time": "2022-02-02T20:24:17.040Z"
   },
   {
    "duration": 12,
    "start_time": "2022-02-02T20:24:17.079Z"
   },
   {
    "duration": 155,
    "start_time": "2022-02-02T20:24:17.093Z"
   },
   {
    "duration": 297,
    "start_time": "2022-02-02T20:24:17.250Z"
   },
   {
    "duration": 24,
    "start_time": "2022-02-02T20:24:17.548Z"
   },
   {
    "duration": 20,
    "start_time": "2022-02-02T20:24:17.574Z"
   },
   {
    "duration": 16,
    "start_time": "2022-02-02T20:24:17.596Z"
   },
   {
    "duration": 17,
    "start_time": "2022-02-02T20:24:17.614Z"
   },
   {
    "duration": 609,
    "start_time": "2022-02-02T20:24:17.633Z"
   },
   {
    "duration": 209,
    "start_time": "2022-02-02T20:24:18.243Z"
   },
   {
    "duration": 6,
    "start_time": "2022-02-02T20:24:18.454Z"
   },
   {
    "duration": 12,
    "start_time": "2022-02-02T20:24:18.461Z"
   },
   {
    "duration": 628,
    "start_time": "2022-02-02T20:24:18.476Z"
   },
   {
    "duration": 693,
    "start_time": "2022-02-02T20:24:19.106Z"
   },
   {
    "duration": 5,
    "start_time": "2022-02-02T20:24:19.801Z"
   },
   {
    "duration": 495,
    "start_time": "2022-02-02T20:24:19.807Z"
   },
   {
    "duration": 197,
    "start_time": "2022-02-02T20:24:20.304Z"
   },
   {
    "duration": 6,
    "start_time": "2022-02-02T20:24:20.502Z"
   },
   {
    "duration": 6,
    "start_time": "2022-02-02T20:24:20.509Z"
   },
   {
    "duration": 322,
    "start_time": "2022-02-02T20:24:20.517Z"
   },
   {
    "duration": 4,
    "start_time": "2022-02-02T20:24:20.841Z"
   },
   {
    "duration": 482,
    "start_time": "2022-02-02T20:24:20.847Z"
   },
   {
    "duration": 7,
    "start_time": "2022-02-02T20:24:21.330Z"
   },
   {
    "duration": 714,
    "start_time": "2022-02-02T20:24:21.339Z"
   },
   {
    "duration": 20,
    "start_time": "2022-02-02T20:24:22.055Z"
   },
   {
    "duration": 1544,
    "start_time": "2022-02-02T20:24:22.077Z"
   },
   {
    "duration": 7,
    "start_time": "2022-02-02T20:24:23.623Z"
   },
   {
    "duration": 3,
    "start_time": "2022-02-02T20:24:23.631Z"
   },
   {
    "duration": 43,
    "start_time": "2022-02-02T20:24:23.638Z"
   },
   {
    "duration": 660,
    "start_time": "2022-02-02T20:24:23.683Z"
   },
   {
    "duration": 715,
    "start_time": "2022-02-02T20:24:24.345Z"
   },
   {
    "duration": 688,
    "start_time": "2022-02-02T20:24:25.062Z"
   },
   {
    "duration": 8,
    "start_time": "2022-02-02T20:24:25.751Z"
   },
   {
    "duration": 290,
    "start_time": "2022-02-02T20:24:25.761Z"
   },
   {
    "duration": 3,
    "start_time": "2022-02-02T20:24:26.053Z"
   },
   {
    "duration": 6,
    "start_time": "2022-02-02T20:24:26.057Z"
   },
   {
    "duration": 9,
    "start_time": "2022-02-02T20:24:26.073Z"
   },
   {
    "duration": 5,
    "start_time": "2022-02-02T20:24:26.083Z"
   },
   {
    "duration": 6,
    "start_time": "2022-02-02T20:24:26.090Z"
   },
   {
    "duration": 7,
    "start_time": "2022-02-02T20:24:26.097Z"
   },
   {
    "duration": 9,
    "start_time": "2022-02-02T20:24:26.105Z"
   },
   {
    "duration": 8,
    "start_time": "2022-02-02T20:24:26.116Z"
   },
   {
    "duration": 5,
    "start_time": "2022-02-02T20:24:27.490Z"
   },
   {
    "duration": 190,
    "start_time": "2022-02-02T20:24:27.802Z"
   },
   {
    "duration": 6,
    "start_time": "2022-02-02T20:24:35.053Z"
   },
   {
    "duration": 20762,
    "start_time": "2022-02-02T20:24:35.505Z"
   },
   {
    "duration": 3,
    "start_time": "2022-02-02T20:24:56.994Z"
   },
   {
    "duration": 17,
    "start_time": "2022-02-02T20:24:56.998Z"
   },
   {
    "duration": 23,
    "start_time": "2022-02-02T20:24:57.017Z"
   },
   {
    "duration": 681,
    "start_time": "2022-02-02T20:24:57.041Z"
   },
   {
    "duration": 17,
    "start_time": "2022-02-02T20:24:57.723Z"
   },
   {
    "duration": 25,
    "start_time": "2022-02-02T20:24:57.742Z"
   },
   {
    "duration": 32,
    "start_time": "2022-02-02T20:24:57.768Z"
   },
   {
    "duration": 26,
    "start_time": "2022-02-02T20:24:57.802Z"
   },
   {
    "duration": 4,
    "start_time": "2022-02-02T20:24:57.830Z"
   },
   {
    "duration": 15,
    "start_time": "2022-02-02T20:24:57.835Z"
   },
   {
    "duration": 588,
    "start_time": "2022-02-02T20:24:57.852Z"
   },
   {
    "duration": 807,
    "start_time": "2022-02-02T20:24:58.442Z"
   },
   {
    "duration": 10,
    "start_time": "2022-02-02T20:24:59.251Z"
   },
   {
    "duration": 6,
    "start_time": "2022-02-02T20:24:59.272Z"
   },
   {
    "duration": 2,
    "start_time": "2022-02-02T20:24:59.280Z"
   },
   {
    "duration": 4,
    "start_time": "2022-02-02T20:24:59.283Z"
   },
   {
    "duration": 18,
    "start_time": "2022-02-02T20:24:59.288Z"
   },
   {
    "duration": 4,
    "start_time": "2022-02-02T20:24:59.307Z"
   },
   {
    "duration": 6,
    "start_time": "2022-02-02T20:24:59.312Z"
   },
   {
    "duration": 21,
    "start_time": "2022-02-02T20:24:59.319Z"
   },
   {
    "duration": 34,
    "start_time": "2022-02-02T20:24:59.341Z"
   },
   {
    "duration": 29,
    "start_time": "2022-02-02T20:24:59.376Z"
   },
   {
    "duration": 10,
    "start_time": "2022-02-02T20:24:59.408Z"
   },
   {
    "duration": 9,
    "start_time": "2022-02-02T20:24:59.420Z"
   },
   {
    "duration": 176,
    "start_time": "2022-02-02T20:24:59.431Z"
   },
   {
    "duration": 300,
    "start_time": "2022-02-02T20:24:59.609Z"
   },
   {
    "duration": 3,
    "start_time": "2022-02-02T20:24:59.911Z"
   },
   {
    "duration": 22,
    "start_time": "2022-02-02T20:24:59.916Z"
   },
   {
    "duration": 41,
    "start_time": "2022-02-02T20:24:59.940Z"
   },
   {
    "duration": 17,
    "start_time": "2022-02-02T20:24:59.983Z"
   },
   {
    "duration": 622,
    "start_time": "2022-02-02T20:25:00.002Z"
   },
   {
    "duration": 210,
    "start_time": "2022-02-02T20:25:00.626Z"
   },
   {
    "duration": 5,
    "start_time": "2022-02-02T20:25:00.838Z"
   },
   {
    "duration": 4,
    "start_time": "2022-02-02T20:25:00.845Z"
   },
   {
    "duration": 686,
    "start_time": "2022-02-02T20:25:00.850Z"
   },
   {
    "duration": 671,
    "start_time": "2022-02-02T20:25:01.538Z"
   },
   {
    "duration": 5,
    "start_time": "2022-02-02T20:25:02.210Z"
   },
   {
    "duration": 488,
    "start_time": "2022-02-02T20:25:02.216Z"
   },
   {
    "duration": 187,
    "start_time": "2022-02-02T20:25:02.705Z"
   },
   {
    "duration": 5,
    "start_time": "2022-02-02T20:25:02.893Z"
   },
   {
    "duration": 6,
    "start_time": "2022-02-02T20:25:02.900Z"
   },
   {
    "duration": 323,
    "start_time": "2022-02-02T20:25:02.907Z"
   },
   {
    "duration": 4,
    "start_time": "2022-02-02T20:25:03.232Z"
   },
   {
    "duration": 442,
    "start_time": "2022-02-02T20:25:03.238Z"
   },
   {
    "duration": 8,
    "start_time": "2022-02-02T20:25:03.681Z"
   },
   {
    "duration": 713,
    "start_time": "2022-02-02T20:25:03.691Z"
   },
   {
    "duration": 7,
    "start_time": "2022-02-02T20:25:04.406Z"
   },
   {
    "duration": 749,
    "start_time": "2022-02-02T20:25:04.414Z"
   },
   {
    "duration": 12,
    "start_time": "2022-02-02T20:25:05.165Z"
   },
   {
    "duration": 12,
    "start_time": "2022-02-02T20:25:05.179Z"
   },
   {
    "duration": 42,
    "start_time": "2022-02-02T20:25:05.192Z"
   },
   {
    "duration": 648,
    "start_time": "2022-02-02T20:25:05.236Z"
   },
   {
    "duration": 719,
    "start_time": "2022-02-02T20:25:05.886Z"
   },
   {
    "duration": 705,
    "start_time": "2022-02-02T20:25:06.607Z"
   },
   {
    "duration": 9,
    "start_time": "2022-02-02T20:25:07.314Z"
   },
   {
    "duration": 296,
    "start_time": "2022-02-02T20:25:07.324Z"
   },
   {
    "duration": 3,
    "start_time": "2022-02-02T20:25:07.621Z"
   },
   {
    "duration": 8,
    "start_time": "2022-02-02T20:25:07.626Z"
   },
   {
    "duration": 24,
    "start_time": "2022-02-02T20:25:07.636Z"
   },
   {
    "duration": 8,
    "start_time": "2022-02-02T20:25:07.661Z"
   },
   {
    "duration": 30,
    "start_time": "2022-02-02T20:25:07.670Z"
   },
   {
    "duration": 20,
    "start_time": "2022-02-02T20:25:07.702Z"
   },
   {
    "duration": 28,
    "start_time": "2022-02-02T20:25:07.723Z"
   },
   {
    "duration": 8,
    "start_time": "2022-02-02T20:25:07.753Z"
   },
   {
    "duration": 410,
    "start_time": "2022-02-02T20:25:07.762Z"
   },
   {
    "duration": 97,
    "start_time": "2022-02-02T20:25:08.175Z"
   },
   {
    "duration": 388322,
    "start_time": "2022-02-02T20:25:08.274Z"
   },
   {
    "duration": 4,
    "start_time": "2022-02-02T20:31:36.602Z"
   },
   {
    "duration": 7,
    "start_time": "2022-02-02T20:31:36.608Z"
   },
   {
    "duration": 3,
    "start_time": "2022-02-02T20:31:36.616Z"
   },
   {
    "duration": 5,
    "start_time": "2022-02-02T20:31:36.621Z"
   },
   {
    "duration": 4,
    "start_time": "2022-02-02T20:31:36.628Z"
   },
   {
    "duration": 839,
    "start_time": "2022-02-02T20:31:36.633Z"
   },
   {
    "duration": 588389,
    "start_time": "2022-02-02T20:31:37.474Z"
   },
   {
    "duration": 44,
    "start_time": "2022-02-02T20:41:25.865Z"
   },
   {
    "duration": 4,
    "start_time": "2022-02-02T20:41:25.910Z"
   },
   {
    "duration": 30,
    "start_time": "2022-02-02T20:41:25.915Z"
   },
   {
    "duration": 4,
    "start_time": "2022-02-02T20:41:25.947Z"
   },
   {
    "duration": 32,
    "start_time": "2022-02-02T20:41:25.972Z"
   },
   {
    "duration": 4,
    "start_time": "2022-02-02T20:41:26.005Z"
   },
   {
    "duration": 5,
    "start_time": "2022-02-02T20:41:26.010Z"
   },
   {
    "duration": 10,
    "start_time": "2022-02-02T20:41:26.016Z"
   },
   {
    "duration": 10,
    "start_time": "2022-02-02T20:41:26.028Z"
   },
   {
    "duration": 32,
    "start_time": "2022-02-02T20:41:26.040Z"
   }
  ],
  "kernelspec": {
   "display_name": "Python 3 (ipykernel)",
   "language": "python",
   "name": "python3"
  },
  "language_info": {
   "codemirror_mode": {
    "name": "ipython",
    "version": 3
   },
   "file_extension": ".py",
   "mimetype": "text/x-python",
   "name": "python",
   "nbconvert_exporter": "python",
   "pygments_lexer": "ipython3",
   "version": "3.9.7"
  },
  "toc": {
   "base_numbering": 1,
   "nav_menu": {},
   "number_sections": true,
   "sideBar": true,
   "skip_h1_title": true,
   "title_cell": "Содержание",
   "title_sidebar": "Contents",
   "toc_cell": true,
   "toc_position": {
    "height": "calc(100% - 180px)",
    "left": "10px",
    "top": "150px",
    "width": "287.891px"
   },
   "toc_section_display": true,
   "toc_window_display": true
  }
 },
 "nbformat": 4,
 "nbformat_minor": 2
}