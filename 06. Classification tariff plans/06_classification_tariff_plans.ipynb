{
 "cells": [
  {
   "cell_type": "markdown",
   "metadata": {},
   "source": [
    "# Рекомендация тарифов"
   ]
  },
  {
   "cell_type": "markdown",
   "metadata": {},
   "source": [
    "В вашем распоряжении данные о поведении клиентов, которые уже перешли на эти тарифы (из проекта курса «Статистический анализ данных»). Нужно построить модель для задачи классификации, которая выберет подходящий тариф. Предобработка данных не понадобится — вы её уже сделали.\n",
    "\n",
    "Постройте модель с максимально большим значением *accuracy*. Чтобы сдать проект успешно, нужно довести долю правильных ответов по крайней мере до 0.75. Проверьте *accuracy* на тестовой выборке самостоятельно."
   ]
  },
  {
   "cell_type": "code",
   "execution_count": 94,
   "metadata": {},
   "outputs": [],
   "source": [
    "import pandas as pd\n",
    "from sklearn.model_selection import train_test_split\n",
    "from sklearn.metrics import accuracy_score\n",
    "\n",
    "from sklearn.tree import DecisionTreeClassifier\n",
    "from sklearn.ensemble import RandomForestClassifier\n",
    "from sklearn.linear_model import LogisticRegression"
   ]
  },
  {
   "cell_type": "markdown",
   "metadata": {},
   "source": [
    "## Откройте и изучите файл"
   ]
  },
  {
   "cell_type": "code",
   "execution_count": 95,
   "metadata": {
    "scrolled": false
   },
   "outputs": [
    {
     "data": {
      "text/html": [
       "<div>\n",
       "<style scoped>\n",
       "    .dataframe tbody tr th:only-of-type {\n",
       "        vertical-align: middle;\n",
       "    }\n",
       "\n",
       "    .dataframe tbody tr th {\n",
       "        vertical-align: top;\n",
       "    }\n",
       "\n",
       "    .dataframe thead th {\n",
       "        text-align: right;\n",
       "    }\n",
       "</style>\n",
       "<table border=\"1\" class=\"dataframe\">\n",
       "  <thead>\n",
       "    <tr style=\"text-align: right;\">\n",
       "      <th></th>\n",
       "      <th>calls</th>\n",
       "      <th>minutes</th>\n",
       "      <th>messages</th>\n",
       "      <th>mb_used</th>\n",
       "      <th>is_ultra</th>\n",
       "    </tr>\n",
       "  </thead>\n",
       "  <tbody>\n",
       "    <tr>\n",
       "      <td>2942</td>\n",
       "      <td>70.0</td>\n",
       "      <td>426.37</td>\n",
       "      <td>0.0</td>\n",
       "      <td>18780.23</td>\n",
       "      <td>0</td>\n",
       "    </tr>\n",
       "    <tr>\n",
       "      <td>2673</td>\n",
       "      <td>53.0</td>\n",
       "      <td>378.17</td>\n",
       "      <td>24.0</td>\n",
       "      <td>7136.39</td>\n",
       "      <td>0</td>\n",
       "    </tr>\n",
       "    <tr>\n",
       "      <td>1572</td>\n",
       "      <td>13.0</td>\n",
       "      <td>81.38</td>\n",
       "      <td>10.0</td>\n",
       "      <td>5024.19</td>\n",
       "      <td>1</td>\n",
       "    </tr>\n",
       "    <tr>\n",
       "      <td>1285</td>\n",
       "      <td>64.0</td>\n",
       "      <td>432.25</td>\n",
       "      <td>14.0</td>\n",
       "      <td>20009.42</td>\n",
       "      <td>0</td>\n",
       "    </tr>\n",
       "    <tr>\n",
       "      <td>62</td>\n",
       "      <td>93.0</td>\n",
       "      <td>622.66</td>\n",
       "      <td>0.0</td>\n",
       "      <td>20894.56</td>\n",
       "      <td>1</td>\n",
       "    </tr>\n",
       "  </tbody>\n",
       "</table>\n",
       "</div>"
      ],
      "text/plain": [
       "      calls  minutes  messages   mb_used  is_ultra\n",
       "2942   70.0   426.37       0.0  18780.23         0\n",
       "2673   53.0   378.17      24.0   7136.39         0\n",
       "1572   13.0    81.38      10.0   5024.19         1\n",
       "1285   64.0   432.25      14.0  20009.42         0\n",
       "62     93.0   622.66       0.0  20894.56         1"
      ]
     },
     "execution_count": 95,
     "metadata": {},
     "output_type": "execute_result"
    }
   ],
   "source": [
    "df = pd.read_csv('/datasets/users_behavior.csv')\n",
    "df.sample(5)"
   ]
  },
  {
   "cell_type": "code",
   "execution_count": 96,
   "metadata": {},
   "outputs": [
    {
     "name": "stdout",
     "output_type": "stream",
     "text": [
      "<class 'pandas.core.frame.DataFrame'>\n",
      "RangeIndex: 3214 entries, 0 to 3213\n",
      "Data columns (total 5 columns):\n",
      "calls       3214 non-null float64\n",
      "minutes     3214 non-null float64\n",
      "messages    3214 non-null float64\n",
      "mb_used     3214 non-null float64\n",
      "is_ultra    3214 non-null int64\n",
      "dtypes: float64(4), int64(1)\n",
      "memory usage: 125.7 KB\n"
     ]
    }
   ],
   "source": [
    "df.info()"
   ]
  },
  {
   "cell_type": "code",
   "execution_count": 97,
   "metadata": {
    "scrolled": true
   },
   "outputs": [
    {
     "data": {
      "text/html": [
       "<div>\n",
       "<style scoped>\n",
       "    .dataframe tbody tr th:only-of-type {\n",
       "        vertical-align: middle;\n",
       "    }\n",
       "\n",
       "    .dataframe tbody tr th {\n",
       "        vertical-align: top;\n",
       "    }\n",
       "\n",
       "    .dataframe thead th {\n",
       "        text-align: right;\n",
       "    }\n",
       "</style>\n",
       "<table border=\"1\" class=\"dataframe\">\n",
       "  <thead>\n",
       "    <tr style=\"text-align: right;\">\n",
       "      <th></th>\n",
       "      <th>calls</th>\n",
       "      <th>minutes</th>\n",
       "      <th>messages</th>\n",
       "      <th>mb_used</th>\n",
       "      <th>is_ultra</th>\n",
       "    </tr>\n",
       "  </thead>\n",
       "  <tbody>\n",
       "    <tr>\n",
       "      <td>count</td>\n",
       "      <td>3214.000000</td>\n",
       "      <td>3214.000000</td>\n",
       "      <td>3214.000000</td>\n",
       "      <td>3214.000000</td>\n",
       "      <td>3214.000000</td>\n",
       "    </tr>\n",
       "    <tr>\n",
       "      <td>mean</td>\n",
       "      <td>63.038892</td>\n",
       "      <td>438.208787</td>\n",
       "      <td>38.281269</td>\n",
       "      <td>17207.673836</td>\n",
       "      <td>0.306472</td>\n",
       "    </tr>\n",
       "    <tr>\n",
       "      <td>std</td>\n",
       "      <td>33.236368</td>\n",
       "      <td>234.569872</td>\n",
       "      <td>36.148326</td>\n",
       "      <td>7570.968246</td>\n",
       "      <td>0.461100</td>\n",
       "    </tr>\n",
       "    <tr>\n",
       "      <td>min</td>\n",
       "      <td>0.000000</td>\n",
       "      <td>0.000000</td>\n",
       "      <td>0.000000</td>\n",
       "      <td>0.000000</td>\n",
       "      <td>0.000000</td>\n",
       "    </tr>\n",
       "    <tr>\n",
       "      <td>25%</td>\n",
       "      <td>40.000000</td>\n",
       "      <td>274.575000</td>\n",
       "      <td>9.000000</td>\n",
       "      <td>12491.902500</td>\n",
       "      <td>0.000000</td>\n",
       "    </tr>\n",
       "    <tr>\n",
       "      <td>50%</td>\n",
       "      <td>62.000000</td>\n",
       "      <td>430.600000</td>\n",
       "      <td>30.000000</td>\n",
       "      <td>16943.235000</td>\n",
       "      <td>0.000000</td>\n",
       "    </tr>\n",
       "    <tr>\n",
       "      <td>75%</td>\n",
       "      <td>82.000000</td>\n",
       "      <td>571.927500</td>\n",
       "      <td>57.000000</td>\n",
       "      <td>21424.700000</td>\n",
       "      <td>1.000000</td>\n",
       "    </tr>\n",
       "    <tr>\n",
       "      <td>max</td>\n",
       "      <td>244.000000</td>\n",
       "      <td>1632.060000</td>\n",
       "      <td>224.000000</td>\n",
       "      <td>49745.730000</td>\n",
       "      <td>1.000000</td>\n",
       "    </tr>\n",
       "  </tbody>\n",
       "</table>\n",
       "</div>"
      ],
      "text/plain": [
       "             calls      minutes     messages       mb_used     is_ultra\n",
       "count  3214.000000  3214.000000  3214.000000   3214.000000  3214.000000\n",
       "mean     63.038892   438.208787    38.281269  17207.673836     0.306472\n",
       "std      33.236368   234.569872    36.148326   7570.968246     0.461100\n",
       "min       0.000000     0.000000     0.000000      0.000000     0.000000\n",
       "25%      40.000000   274.575000     9.000000  12491.902500     0.000000\n",
       "50%      62.000000   430.600000    30.000000  16943.235000     0.000000\n",
       "75%      82.000000   571.927500    57.000000  21424.700000     1.000000\n",
       "max     244.000000  1632.060000   224.000000  49745.730000     1.000000"
      ]
     },
     "execution_count": 97,
     "metadata": {},
     "output_type": "execute_result"
    }
   ],
   "source": [
    "df.describe()"
   ]
  },
  {
   "cell_type": "markdown",
   "metadata": {},
   "source": [
    "Медиана почти равна среднему, данные  не имеют выбросов"
   ]
  },
  {
   "cell_type": "code",
   "execution_count": 98,
   "metadata": {
    "scrolled": true
   },
   "outputs": [
    {
     "data": {
      "text/plain": [
       "0"
      ]
     },
     "execution_count": 98,
     "metadata": {},
     "output_type": "execute_result"
    }
   ],
   "source": [
    "df.duplicated().sum()"
   ]
  },
  {
   "cell_type": "markdown",
   "metadata": {},
   "source": [
    "Дубликатов нет"
   ]
  },
  {
   "cell_type": "markdown",
   "metadata": {},
   "source": [
    "## Разбейте данные на выборки"
   ]
  },
  {
   "cell_type": "code",
   "execution_count": 99,
   "metadata": {},
   "outputs": [
    {
     "data": {
      "text/plain": [
       "((2089, 5), (562, 5), (563, 5))"
      ]
     },
     "execution_count": 99,
     "metadata": {},
     "output_type": "execute_result"
    }
   ],
   "source": [
    "df_train, df_t = train_test_split(df, test_size=0.35, random_state=12345)\n",
    "df_test, df_final = train_test_split(df_t, test_size=0.5, random_state=12345)\n",
    "df_train.shape, df_test.shape, df_final.shape"
   ]
  },
  {
   "cell_type": "code",
   "execution_count": 100,
   "metadata": {},
   "outputs": [],
   "source": [
    "df_train_feature = df_train.drop('is_ultra', axis=1)\n",
    "df_train_target = df_train['is_ultra']\n",
    "\n",
    "df_test_feature = df_test.drop('is_ultra', axis=1)\n",
    "df_test_target = df_test['is_ultra']\n",
    "\n",
    "df_final_feature = df_final.drop('is_ultra', axis=1)\n",
    "df_final_target = df_final['is_ultra']"
   ]
  },
  {
   "cell_type": "markdown",
   "metadata": {},
   "source": [
    "## Исследуйте модели"
   ]
  },
  {
   "cell_type": "markdown",
   "metadata": {},
   "source": [
    "### DecisionTreeClassifier"
   ]
  },
  {
   "cell_type": "code",
   "execution_count": 101,
   "metadata": {},
   "outputs": [
    {
     "name": "stdout",
     "output_type": "stream",
     "text": [
      "accuracy_score train: 0.7865007180469124\n",
      "accuracy_score test: 0.791814946619217\n",
      "accuracy_score train: 0.8046912398276688\n",
      "accuracy_score test: 0.797153024911032\n"
     ]
    },
    {
     "data": {
      "text/plain": [
       "(0.797153024911032, 14)"
      ]
     },
     "execution_count": 101,
     "metadata": {},
     "output_type": "execute_result"
    }
   ],
   "source": [
    "best_accuracy = 0\n",
    "best_depth = 0\n",
    "for depth in range(2, 15):\n",
    "    model = DecisionTreeClassifier(random_state=12345, max_depth=depth)\n",
    "    model.fit(df_train_feature, df_train_target)\n",
    "    predictions = model.predict(df_test_feature)\n",
    "    accuracy = accuracy_score(df_test_target, predictions)\n",
    "    if accuracy > best_accuracy:\n",
    "        best_accuracy = accuracy\n",
    "        best_depth = depth\n",
    "        model_decision_tree = model\n",
    "        print(f\"accuracy_score train: {accuracy_score(df_train_target, model.predict(df_train_feature))}\")\n",
    "        print(f\"accuracy_score test: {accuracy_score(df_test_target, model.predict(df_test_feature))}\")\n",
    "\n",
    "best_accuracy, depth"
   ]
  },
  {
   "cell_type": "markdown",
   "metadata": {},
   "source": [
    "Для дерева решений получили метрику качества accuracy = 0.79, при max_depth = 14, это не плохо, но есть и другие модели."
   ]
  },
  {
   "cell_type": "markdown",
   "metadata": {},
   "source": [
    "### RandomForestClassifier"
   ]
  },
  {
   "cell_type": "code",
   "execution_count": 102,
   "metadata": {},
   "outputs": [
    {
     "name": "stdout",
     "output_type": "stream",
     "text": [
      "accuracy_score train: 0.7855433221637147\n",
      "accuracy_score test: 0.791814946619217\n",
      "accuracy_score train: 0.7826711345141216\n",
      "accuracy_score test: 0.800711743772242\n",
      "accuracy_score train: 0.8123504068932503\n",
      "accuracy_score test: 0.802491103202847\n",
      "accuracy_score train: 0.8219243657252274\n",
      "accuracy_score test: 0.8042704626334519\n",
      "accuracy_score train: 0.8319770224988032\n",
      "accuracy_score test: 0.806049822064057\n",
      "accuracy_score train: 0.8334131163235998\n",
      "accuracy_score test: 0.8078291814946619\n",
      "accuracy_score train: 0.842508377213978\n",
      "accuracy_score test: 0.8096085409252669\n",
      "accuracy_score train: 0.8501675442795597\n",
      "accuracy_score test: 0.8113879003558719\n",
      "accuracy_score train: 0.8544758257539492\n",
      "accuracy_score test: 0.8131672597864769\n",
      "accuracy_score train: 0.852082336045955\n",
      "accuracy_score test: 0.8149466192170819\n",
      "accuracy_score train: 0.8693154619435136\n",
      "accuracy_score test: 0.8167259786476868\n"
     ]
    },
    {
     "data": {
      "text/plain": [
       "(0.8167259786476868, [8, 23])"
      ]
     },
     "execution_count": 102,
     "metadata": {},
     "output_type": "execute_result"
    }
   ],
   "source": [
    "best_accuracy = 0\n",
    "best_params = []\n",
    "for depth in range(2, 10):\n",
    "    for est in range(2, 30):\n",
    "        model = RandomForestClassifier(random_state=12345, n_estimators=est, max_depth=depth)\n",
    "        model.fit(df_train_feature, df_train_target)\n",
    "        predictions = model.predict(df_test_feature)\n",
    "        accuracy = accuracy_score(df_test_target, predictions)\n",
    "        if accuracy > best_accuracy:\n",
    "            best_accuracy = accuracy\n",
    "            best_params = [depth, est]\n",
    "            model_random_forest = model\n",
    "            print(f\"accuracy_score train: {accuracy_score(df_train_target, model.predict(df_train_feature))}\")\n",
    "            print(f\"accuracy_score test: {accuracy_score(df_test_target, model.predict(df_test_feature))}\")\n",
    "            \n",
    "best_accuracy, best_params"
   ]
  },
  {
   "cell_type": "markdown",
   "metadata": {},
   "source": [
    "На тренировочном датасете показатель стал лучше - 0.81 при n_estimators = 23, а max_depth = 8"
   ]
  },
  {
   "cell_type": "markdown",
   "metadata": {},
   "source": [
    "### LogisticRegression"
   ]
  },
  {
   "cell_type": "code",
   "execution_count": 103,
   "metadata": {},
   "outputs": [
    {
     "name": "stdout",
     "output_type": "stream",
     "text": [
      "accuracy_score train: 0.7496409765438009\n",
      "accuracy_score test: 0.7597864768683275\n"
     ]
    },
    {
     "name": "stderr",
     "output_type": "stream",
     "text": [
      "/opt/conda/lib/python3.7/site-packages/sklearn/linear_model/logistic.py:432: FutureWarning: Default solver will be changed to 'lbfgs' in 0.22. Specify a solver to silence this warning.\n",
      "  FutureWarning)\n",
      "/opt/conda/lib/python3.7/site-packages/sklearn/linear_model/logistic.py:432: FutureWarning: Default solver will be changed to 'lbfgs' in 0.22. Specify a solver to silence this warning.\n",
      "  FutureWarning)\n"
     ]
    },
    {
     "data": {
      "text/plain": [
       "(0.7597864768683275, 'l2')"
      ]
     },
     "execution_count": 103,
     "metadata": {},
     "output_type": "execute_result"
    }
   ],
   "source": [
    "best_accuracy = 0\n",
    "reg = 0\n",
    "for reg in ['l1', 'l2']:\n",
    "    model = LogisticRegression(penalty=reg, random_state=12345)\n",
    "    model.fit(df_train_feature, df_train_target)\n",
    "    predictions = model.predict(df_test_feature)\n",
    "    accuracy = accuracy_score(df_test_target, predictions)\n",
    "    if accuracy > best_accuracy:\n",
    "        best_accuracy = accuracy\n",
    "        reg = reg\n",
    "        model_logistic_regression = model\n",
    "        print(f\"accuracy_score train: {accuracy_score(df_train_target, model.predict(df_train_feature))}\")\n",
    "        print(f\"accuracy_score test: {accuracy_score(df_test_target, model.predict(df_test_feature))}\")\n",
    "            \n",
    "best_accuracy, reg"
   ]
  },
  {
   "cell_type": "markdown",
   "metadata": {},
   "source": [
    "Логистическая регрессия показала лучший скор при l2 регуляризации = 0.75, но тем не менее этого недостаточно."
   ]
  },
  {
   "cell_type": "markdown",
   "metadata": {},
   "source": [
    "Таким образом лучшая модель - модель случайного леса при n_estimators = 23, а max_depth = 8. При этом мы также видим некоторое переобучение, так как accuracy_score train: 0.8693154619435136 превышает accuracy_score test: 0.8167259786476868"
   ]
  },
  {
   "cell_type": "markdown",
   "metadata": {},
   "source": [
    "## Проверьте модель на тестовой выборке"
   ]
  },
  {
   "cell_type": "code",
   "execution_count": 104,
   "metadata": {},
   "outputs": [],
   "source": [
    "predictions = model_random_forest.predict(df_final_feature)\n",
    "accuracy = accuracy_score(df_final_target, predictions)"
   ]
  },
  {
   "cell_type": "code",
   "execution_count": 105,
   "metadata": {},
   "outputs": [
    {
     "data": {
      "text/plain": [
       "0.7904085257548845"
      ]
     },
     "execution_count": 105,
     "metadata": {},
     "output_type": "execute_result"
    }
   ],
   "source": [
    "accuracy"
   ]
  },
  {
   "cell_type": "markdown",
   "metadata": {},
   "source": [
    "Неплохой результат, но чувствуется переобучение"
   ]
  },
  {
   "cell_type": "markdown",
   "metadata": {},
   "source": [
    "## (бонус) Проверьте модели на адекватность"
   ]
  },
  {
   "cell_type": "code",
   "execution_count": 106,
   "metadata": {},
   "outputs": [
    {
     "data": {
      "text/html": [
       "<div>\n",
       "<style scoped>\n",
       "    .dataframe tbody tr th:only-of-type {\n",
       "        vertical-align: middle;\n",
       "    }\n",
       "\n",
       "    .dataframe tbody tr th {\n",
       "        vertical-align: top;\n",
       "    }\n",
       "\n",
       "    .dataframe thead th {\n",
       "        text-align: right;\n",
       "    }\n",
       "</style>\n",
       "<table border=\"1\" class=\"dataframe\">\n",
       "  <thead>\n",
       "    <tr style=\"text-align: right;\">\n",
       "      <th></th>\n",
       "      <th>calls</th>\n",
       "      <th>minutes</th>\n",
       "      <th>messages</th>\n",
       "      <th>mb_used</th>\n",
       "    </tr>\n",
       "  </thead>\n",
       "  <tbody>\n",
       "    <tr>\n",
       "      <td>2657</td>\n",
       "      <td>37.0</td>\n",
       "      <td>258.09</td>\n",
       "      <td>0.0</td>\n",
       "      <td>45180.75</td>\n",
       "    </tr>\n",
       "    <tr>\n",
       "      <td>1004</td>\n",
       "      <td>37.0</td>\n",
       "      <td>279.41</td>\n",
       "      <td>0.0</td>\n",
       "      <td>27548.01</td>\n",
       "    </tr>\n",
       "    <tr>\n",
       "      <td>2013</td>\n",
       "      <td>114.0</td>\n",
       "      <td>815.02</td>\n",
       "      <td>178.0</td>\n",
       "      <td>25104.76</td>\n",
       "    </tr>\n",
       "    <tr>\n",
       "      <td>2455</td>\n",
       "      <td>71.0</td>\n",
       "      <td>499.54</td>\n",
       "      <td>56.0</td>\n",
       "      <td>9791.01</td>\n",
       "    </tr>\n",
       "    <tr>\n",
       "      <td>3208</td>\n",
       "      <td>164.0</td>\n",
       "      <td>1016.98</td>\n",
       "      <td>71.0</td>\n",
       "      <td>17787.52</td>\n",
       "    </tr>\n",
       "  </tbody>\n",
       "</table>\n",
       "</div>"
      ],
      "text/plain": [
       "      calls  minutes  messages   mb_used\n",
       "2657   37.0   258.09       0.0  45180.75\n",
       "1004   37.0   279.41       0.0  27548.01\n",
       "2013  114.0   815.02     178.0  25104.76\n",
       "2455   71.0   499.54      56.0   9791.01\n",
       "3208  164.0  1016.98      71.0  17787.52"
      ]
     },
     "execution_count": 106,
     "metadata": {},
     "output_type": "execute_result"
    }
   ],
   "source": [
    "df_final_feature.head()"
   ]
  },
  {
   "cell_type": "markdown",
   "metadata": {},
   "source": [
    "Допустим у нас все звонки были равны нулю:"
   ]
  },
  {
   "cell_type": "code",
   "execution_count": 107,
   "metadata": {},
   "outputs": [],
   "source": [
    "df_final_feature['calls'] = 0"
   ]
  },
  {
   "cell_type": "code",
   "execution_count": 108,
   "metadata": {},
   "outputs": [
    {
     "data": {
      "text/html": [
       "<div>\n",
       "<style scoped>\n",
       "    .dataframe tbody tr th:only-of-type {\n",
       "        vertical-align: middle;\n",
       "    }\n",
       "\n",
       "    .dataframe tbody tr th {\n",
       "        vertical-align: top;\n",
       "    }\n",
       "\n",
       "    .dataframe thead th {\n",
       "        text-align: right;\n",
       "    }\n",
       "</style>\n",
       "<table border=\"1\" class=\"dataframe\">\n",
       "  <thead>\n",
       "    <tr style=\"text-align: right;\">\n",
       "      <th></th>\n",
       "      <th>calls</th>\n",
       "      <th>minutes</th>\n",
       "      <th>messages</th>\n",
       "      <th>mb_used</th>\n",
       "    </tr>\n",
       "  </thead>\n",
       "  <tbody>\n",
       "    <tr>\n",
       "      <td>3143</td>\n",
       "      <td>0</td>\n",
       "      <td>439.39</td>\n",
       "      <td>82.0</td>\n",
       "      <td>19315.86</td>\n",
       "    </tr>\n",
       "    <tr>\n",
       "      <td>655</td>\n",
       "      <td>0</td>\n",
       "      <td>688.70</td>\n",
       "      <td>16.0</td>\n",
       "      <td>18758.43</td>\n",
       "    </tr>\n",
       "    <tr>\n",
       "      <td>593</td>\n",
       "      <td>0</td>\n",
       "      <td>679.61</td>\n",
       "      <td>19.0</td>\n",
       "      <td>16174.21</td>\n",
       "    </tr>\n",
       "  </tbody>\n",
       "</table>\n",
       "</div>"
      ],
      "text/plain": [
       "      calls  minutes  messages   mb_used\n",
       "3143      0   439.39      82.0  19315.86\n",
       "655       0   688.70      16.0  18758.43\n",
       "593       0   679.61      19.0  16174.21"
      ]
     },
     "execution_count": 108,
     "metadata": {},
     "output_type": "execute_result"
    }
   ],
   "source": [
    "df_final_feature.sample(3)"
   ]
  },
  {
   "cell_type": "markdown",
   "metadata": {},
   "source": [
    "Тогда попробуем предсказать на таких \"порченных данных\":"
   ]
  },
  {
   "cell_type": "code",
   "execution_count": 109,
   "metadata": {},
   "outputs": [],
   "source": [
    "predictions = model_random_forest.predict(df_final_feature)\n",
    "accuracy = accuracy_score(df_final_target, predictions)"
   ]
  },
  {
   "cell_type": "code",
   "execution_count": 110,
   "metadata": {},
   "outputs": [
    {
     "data": {
      "text/plain": [
       "0.6642984014209592"
      ]
     },
     "execution_count": 110,
     "metadata": {},
     "output_type": "execute_result"
    }
   ],
   "source": [
    "accuracy"
   ]
  },
  {
   "cell_type": "markdown",
   "metadata": {},
   "source": [
    "Судя по тому, что модель все же смогла выдать 66% правильных ответов, значит мы не зря ее учили, что она может разобраться в частично выбросных данных и даже тут нашла закономерности."
   ]
  },
  {
   "cell_type": "markdown",
   "metadata": {},
   "source": [
    "## Вывод"
   ]
  },
  {
   "cell_type": "markdown",
   "metadata": {
    "pycharm": {
     "name": "#%% md\n"
    }
   },
   "source": [
    "- Мы разделили изначальный датасет на 3 датасета: \n",
    "    - обучались на 65% выборки\n",
    "    - валидировались на половине от оставшейся выборки и опирались на метрику качества модели по ней\n",
    "    - на оставшейся половине мы уже подводили итоги\n",
    "- Использовали 3 модели:\n",
    "    - DecisionTreeClassifier дал нам результат в 0.79\n",
    "    - RandomForestClassifier допрыгнул до 0.81\n",
    "    - LogisticRegression даже с l2 регуляризацией показала 0.75\n",
    "- Провели финальный тест на датасете, итоговый скор - 0.79\n",
    "- Проверили модель на прочность и закинули в нее выбросные значения для одного из столбцов, но модель проявила устойчивость к выбросам и на выходе даже дала 66% правильных ответов"
   ]
  }
 ],
 "metadata": {
  "ExecuteTimeLog": [
   {
    "duration": 1014,
    "start_time": "2021-12-08T10:29:39.245Z"
   },
   {
    "duration": 53,
    "start_time": "2021-12-08T10:30:07.066Z"
   },
   {
    "duration": 15,
    "start_time": "2021-12-08T10:30:45.277Z"
   },
   {
    "duration": 40,
    "start_time": "2021-12-08T10:30:48.023Z"
   },
   {
    "duration": 9,
    "start_time": "2021-12-08T10:31:54.158Z"
   },
   {
    "duration": 100,
    "start_time": "2021-12-08T10:32:03.773Z"
   },
   {
    "duration": 32,
    "start_time": "2021-12-08T10:32:59.015Z"
   },
   {
    "duration": 9,
    "start_time": "2021-12-08T10:33:13.490Z"
   },
   {
    "duration": 1069,
    "start_time": "2021-12-08T19:41:02.397Z"
   },
   {
    "duration": 3,
    "start_time": "2021-12-08T19:41:07.025Z"
   },
   {
    "duration": 40,
    "start_time": "2021-12-08T19:41:07.030Z"
   },
   {
    "duration": 6,
    "start_time": "2021-12-08T19:41:07.072Z"
   },
   {
    "duration": 31,
    "start_time": "2021-12-08T19:41:07.080Z"
   },
   {
    "duration": 6,
    "start_time": "2021-12-08T19:41:07.113Z"
   },
   {
    "duration": 11,
    "start_time": "2021-12-08T19:44:09.861Z"
   },
   {
    "duration": 10,
    "start_time": "2021-12-08T19:44:33.369Z"
   },
   {
    "duration": 9,
    "start_time": "2021-12-08T19:45:24.127Z"
   },
   {
    "duration": 8,
    "start_time": "2021-12-08T19:45:36.554Z"
   },
   {
    "duration": 9,
    "start_time": "2021-12-08T19:45:46.555Z"
   },
   {
    "duration": 8,
    "start_time": "2021-12-08T19:46:18.241Z"
   },
   {
    "duration": 9,
    "start_time": "2021-12-08T19:46:32.708Z"
   },
   {
    "duration": 12,
    "start_time": "2021-12-08T19:47:30.636Z"
   },
   {
    "duration": 28,
    "start_time": "2021-12-08T19:48:44.340Z"
   },
   {
    "duration": 4,
    "start_time": "2021-12-08T19:51:11.674Z"
   },
   {
    "duration": 2,
    "start_time": "2021-12-08T19:51:34.221Z"
   },
   {
    "duration": 364,
    "start_time": "2021-12-08T19:53:37.991Z"
   },
   {
    "duration": 5,
    "start_time": "2021-12-08T19:53:44.257Z"
   },
   {
    "duration": 10,
    "start_time": "2021-12-08T19:53:45.703Z"
   },
   {
    "duration": 3,
    "start_time": "2021-12-08T19:55:23.339Z"
   },
   {
    "duration": 4,
    "start_time": "2021-12-08T19:56:00.085Z"
   },
   {
    "duration": 275,
    "start_time": "2021-12-08T19:56:00.654Z"
   },
   {
    "duration": 5,
    "start_time": "2021-12-08T19:56:19.782Z"
   },
   {
    "duration": 29,
    "start_time": "2021-12-08T19:59:00.562Z"
   },
   {
    "duration": 5,
    "start_time": "2021-12-08T19:59:02.567Z"
   },
   {
    "duration": 28,
    "start_time": "2021-12-08T19:59:02.849Z"
   },
   {
    "duration": 63,
    "start_time": "2021-12-08T19:59:19.155Z"
   },
   {
    "duration": 108,
    "start_time": "2021-12-08T19:59:22.168Z"
   },
   {
    "duration": 29,
    "start_time": "2021-12-08T19:59:28.498Z"
   },
   {
    "duration": 28,
    "start_time": "2021-12-08T20:00:42.787Z"
   },
   {
    "duration": 10,
    "start_time": "2021-12-08T20:07:00.245Z"
   },
   {
    "duration": 3,
    "start_time": "2021-12-08T20:07:58.790Z"
   },
   {
    "duration": 3,
    "start_time": "2021-12-08T20:08:52.652Z"
   },
   {
    "duration": 12,
    "start_time": "2021-12-08T20:09:06.068Z"
   },
   {
    "duration": 5,
    "start_time": "2021-12-08T20:09:10.012Z"
   },
   {
    "duration": 664,
    "start_time": "2021-12-08T20:11:03.121Z"
   },
   {
    "duration": 1416,
    "start_time": "2021-12-08T20:11:14.332Z"
   },
   {
    "duration": 5347,
    "start_time": "2021-12-08T20:11:20.459Z"
   },
   {
    "duration": 5378,
    "start_time": "2021-12-08T20:11:46.267Z"
   },
   {
    "duration": 39,
    "start_time": "2021-12-08T20:15:26.029Z"
   },
   {
    "duration": 51,
    "start_time": "2021-12-08T20:16:20.307Z"
   },
   {
    "duration": 32,
    "start_time": "2021-12-08T20:17:08.232Z"
   },
   {
    "duration": 5484,
    "start_time": "2021-12-08T20:18:00.911Z"
   },
   {
    "duration": 3,
    "start_time": "2021-12-08T20:27:35.917Z"
   },
   {
    "duration": 96,
    "start_time": "2021-12-08T20:30:15.526Z"
   },
   {
    "duration": 10,
    "start_time": "2021-12-08T20:30:19.205Z"
   },
   {
    "duration": 13,
    "start_time": "2021-12-08T20:30:32.484Z"
   },
   {
    "duration": 20,
    "start_time": "2021-12-08T20:33:00.474Z"
   },
   {
    "duration": 30,
    "start_time": "2021-12-08T20:35:07.619Z"
   },
   {
    "duration": 5533,
    "start_time": "2021-12-08T20:35:31.388Z"
   },
   {
    "duration": 18,
    "start_time": "2021-12-08T20:36:13.542Z"
   },
   {
    "duration": 268,
    "start_time": "2021-12-08T20:37:59.464Z"
   },
   {
    "duration": 8,
    "start_time": "2021-12-08T20:38:06.457Z"
   },
   {
    "duration": 7,
    "start_time": "2021-12-08T20:38:07.367Z"
   },
   {
    "duration": 5,
    "start_time": "2021-12-08T20:38:33.531Z"
   },
   {
    "duration": 3,
    "start_time": "2021-12-08T20:38:38.199Z"
   },
   {
    "duration": 8,
    "start_time": "2021-12-08T20:40:12.436Z"
   },
   {
    "duration": 7,
    "start_time": "2021-12-08T20:40:14.558Z"
   },
   {
    "duration": 51,
    "start_time": "2021-12-08T20:40:17.816Z"
   },
   {
    "duration": 8673,
    "start_time": "2021-12-08T20:40:45.028Z"
   },
   {
    "duration": 32,
    "start_time": "2021-12-08T20:41:27.348Z"
   },
   {
    "duration": 6,
    "start_time": "2021-12-08T20:41:40.975Z"
   },
   {
    "duration": 4,
    "start_time": "2021-12-08T20:41:41.289Z"
   },
   {
    "duration": 7,
    "start_time": "2021-12-08T20:44:39.705Z"
   },
   {
    "duration": 6,
    "start_time": "2021-12-08T20:44:41.068Z"
   },
   {
    "duration": 54,
    "start_time": "2021-12-08T20:45:37.740Z"
   },
   {
    "duration": 26,
    "start_time": "2021-12-08T20:45:45.085Z"
   },
   {
    "duration": 23,
    "start_time": "2021-12-08T20:46:03.134Z"
   },
   {
    "duration": 23,
    "start_time": "2021-12-08T20:46:06.191Z"
   },
   {
    "duration": 47,
    "start_time": "2021-12-08T20:46:45.585Z"
   },
   {
    "duration": 44,
    "start_time": "2021-12-08T20:47:23.102Z"
   },
   {
    "duration": 52,
    "start_time": "2021-12-08T20:47:28.717Z"
   },
   {
    "duration": 89,
    "start_time": "2021-12-08T20:47:37.013Z"
   },
   {
    "duration": 88,
    "start_time": "2021-12-08T20:47:43.574Z"
   },
   {
    "duration": 8550,
    "start_time": "2021-12-08T20:49:07.160Z"
   },
   {
    "duration": 30,
    "start_time": "2021-12-08T20:50:39.272Z"
   },
   {
    "duration": 4,
    "start_time": "2021-12-08T20:50:45.904Z"
   },
   {
    "duration": 4,
    "start_time": "2021-12-08T20:50:46.265Z"
   },
   {
    "duration": 795,
    "start_time": "2021-12-08T20:51:22.638Z"
   },
   {
    "duration": 7,
    "start_time": "2021-12-08T20:52:18.390Z"
   },
   {
    "duration": 4,
    "start_time": "2021-12-08T20:52:19.254Z"
   },
   {
    "duration": 8999,
    "start_time": "2021-12-08T20:52:30.370Z"
   },
   {
    "duration": 8,
    "start_time": "2021-12-08T20:52:52.387Z"
   },
   {
    "duration": 4,
    "start_time": "2021-12-08T20:52:52.668Z"
   },
   {
    "duration": 11,
    "start_time": "2021-12-08T20:55:10.950Z"
   },
   {
    "duration": 4,
    "start_time": "2021-12-08T20:57:02.083Z"
   },
   {
    "duration": 8,
    "start_time": "2021-12-08T20:57:07.036Z"
   },
   {
    "duration": 8,
    "start_time": "2021-12-08T20:57:14.053Z"
   },
   {
    "duration": 124,
    "start_time": "2021-12-08T20:57:45.320Z"
   },
   {
    "duration": 7,
    "start_time": "2021-12-08T20:58:19.212Z"
   },
   {
    "duration": 4,
    "start_time": "2021-12-08T20:58:22.192Z"
   },
   {
    "duration": 6,
    "start_time": "2021-12-08T21:04:57.054Z"
   },
   {
    "duration": 3,
    "start_time": "2021-12-08T21:06:16.012Z"
   },
   {
    "duration": 28,
    "start_time": "2021-12-08T21:06:16.017Z"
   },
   {
    "duration": 6,
    "start_time": "2021-12-08T21:06:16.047Z"
   },
   {
    "duration": 22,
    "start_time": "2021-12-08T21:06:16.055Z"
   },
   {
    "duration": 6,
    "start_time": "2021-12-08T21:06:16.078Z"
   },
   {
    "duration": 8,
    "start_time": "2021-12-08T21:06:16.085Z"
   },
   {
    "duration": 5,
    "start_time": "2021-12-08T21:06:16.095Z"
   },
   {
    "duration": 125,
    "start_time": "2021-12-08T21:06:16.101Z"
   },
   {
    "duration": 8632,
    "start_time": "2021-12-08T21:06:16.229Z"
   },
   {
    "duration": 28,
    "start_time": "2021-12-08T21:06:24.864Z"
   },
   {
    "duration": 7,
    "start_time": "2021-12-08T21:06:24.894Z"
   },
   {
    "duration": 4,
    "start_time": "2021-12-08T21:06:24.902Z"
   },
   {
    "duration": 11,
    "start_time": "2021-12-08T21:06:24.907Z"
   },
   {
    "duration": 3,
    "start_time": "2021-12-08T21:06:24.945Z"
   },
   {
    "duration": 11,
    "start_time": "2021-12-08T21:06:24.950Z"
   },
   {
    "duration": 11,
    "start_time": "2021-12-08T21:06:24.963Z"
   },
   {
    "duration": 4,
    "start_time": "2021-12-08T21:06:24.976Z"
   },
   {
    "duration": 108,
    "start_time": "2021-12-09T07:16:25.720Z"
   }
  ],
  "kernelspec": {
   "display_name": "Python 3 (ipykernel)",
   "language": "python",
   "name": "python3"
  },
  "language_info": {
   "codemirror_mode": {
    "name": "ipython",
    "version": 3
   },
   "file_extension": ".py",
   "mimetype": "text/x-python",
   "name": "python",
   "nbconvert_exporter": "python",
   "pygments_lexer": "ipython3",
   "version": "3.9.7"
  },
  "toc": {
   "base_numbering": 1,
   "nav_menu": {},
   "number_sections": true,
   "sideBar": true,
   "skip_h1_title": true,
   "title_cell": "Table of Contents",
   "title_sidebar": "Contents",
   "toc_cell": false,
   "toc_position": {
    "height": "calc(100% - 180px)",
    "left": "10px",
    "top": "150px",
    "width": "323.903px"
   },
   "toc_section_display": true,
   "toc_window_display": false
  }
 },
 "nbformat": 4,
 "nbformat_minor": 2
}