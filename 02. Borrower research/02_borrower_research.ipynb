{
 "cells": [
  {
   "cell_type": "markdown",
   "metadata": {},
   "source": [
    "# Исследование надёжности заёмщиков\n",
    "\n",
    "Заказчик — кредитный отдел банка. Нужно разобраться, влияет ли семейное положение и количество детей клиента на факт погашения кредита в срок. Входные данные от банка — статистика о платёжеспособности клиентов.\n",
    "\n",
    "Результаты исследования будут учтены при построении модели **кредитного скоринга** — специальной системы, которая оценивает способность потенциального заёмщика вернуть кредит банку."
   ]
  },
  {
   "cell_type": "markdown",
   "metadata": {},
   "source": [
    "## Шаг 1. Откройте файл с данными и изучите общую информацию"
   ]
  },
  {
   "cell_type": "code",
   "execution_count": 278,
   "metadata": {},
   "outputs": [],
   "source": [
    "import pandas as pd\n",
    "import numpy as np\n",
    "from pymystem3 import Mystem\n",
    "\n",
    "path = '/datasets/data.csv'"
   ]
  },
  {
   "cell_type": "code",
   "execution_count": 279,
   "metadata": {},
   "outputs": [],
   "source": [
    "df = pd.read_csv(path)"
   ]
  },
  {
   "cell_type": "code",
   "execution_count": 280,
   "metadata": {},
   "outputs": [
    {
     "data": {
      "text/plain": [
       "(21525, 12)"
      ]
     },
     "execution_count": 280,
     "metadata": {},
     "output_type": "execute_result"
    }
   ],
   "source": [
    "df.shape"
   ]
  },
  {
   "cell_type": "code",
   "execution_count": 281,
   "metadata": {
    "scrolled": true
   },
   "outputs": [
    {
     "name": "stdout",
     "output_type": "stream",
     "text": [
      "<class 'pandas.core.frame.DataFrame'>\n",
      "RangeIndex: 21525 entries, 0 to 21524\n",
      "Data columns (total 12 columns):\n",
      "children            21525 non-null int64\n",
      "days_employed       19351 non-null float64\n",
      "dob_years           21525 non-null int64\n",
      "education           21525 non-null object\n",
      "education_id        21525 non-null int64\n",
      "family_status       21525 non-null object\n",
      "family_status_id    21525 non-null int64\n",
      "gender              21525 non-null object\n",
      "income_type         21525 non-null object\n",
      "debt                21525 non-null int64\n",
      "total_income        19351 non-null float64\n",
      "purpose             21525 non-null object\n",
      "dtypes: float64(2), int64(5), object(5)\n",
      "memory usage: 2.0+ MB\n"
     ]
    }
   ],
   "source": [
    "df.info()"
   ]
  },
  {
   "cell_type": "markdown",
   "metadata": {},
   "source": [
    "Сразу подправим названия колоноки dob_years на age(возраст клиента), это следует из предусловия к проекту"
   ]
  },
  {
   "cell_type": "code",
   "execution_count": 282,
   "metadata": {},
   "outputs": [
    {
     "data": {
      "text/plain": [
       "Index(['children', 'days_employed', 'age', 'education', 'education_id',\n",
       "       'family_status', 'family_status_id', 'gender', 'income_type', 'debt',\n",
       "       'total_income', 'purpose'],\n",
       "      dtype='object')"
      ]
     },
     "execution_count": 282,
     "metadata": {},
     "output_type": "execute_result"
    }
   ],
   "source": [
    "df.columns = ['children', 'days_employed', 'age', 'education', 'education_id',\n",
    "       'family_status', 'family_status_id', 'gender', 'income_type', 'debt',\n",
    "       'total_income', 'purpose']\n",
    "df.columns"
   ]
  },
  {
   "cell_type": "code",
   "execution_count": 283,
   "metadata": {
    "scrolled": true
   },
   "outputs": [
    {
     "data": {
      "text/html": [
       "<div>\n",
       "<style scoped>\n",
       "    .dataframe tbody tr th:only-of-type {\n",
       "        vertical-align: middle;\n",
       "    }\n",
       "\n",
       "    .dataframe tbody tr th {\n",
       "        vertical-align: top;\n",
       "    }\n",
       "\n",
       "    .dataframe thead th {\n",
       "        text-align: right;\n",
       "    }\n",
       "</style>\n",
       "<table border=\"1\" class=\"dataframe\">\n",
       "  <thead>\n",
       "    <tr style=\"text-align: right;\">\n",
       "      <th></th>\n",
       "      <th>children</th>\n",
       "      <th>days_employed</th>\n",
       "      <th>age</th>\n",
       "      <th>education</th>\n",
       "      <th>education_id</th>\n",
       "      <th>family_status</th>\n",
       "      <th>family_status_id</th>\n",
       "      <th>gender</th>\n",
       "      <th>income_type</th>\n",
       "      <th>debt</th>\n",
       "      <th>total_income</th>\n",
       "      <th>purpose</th>\n",
       "    </tr>\n",
       "  </thead>\n",
       "  <tbody>\n",
       "    <tr>\n",
       "      <td>6201</td>\n",
       "      <td>0</td>\n",
       "      <td>-8908.422866</td>\n",
       "      <td>44</td>\n",
       "      <td>высшее</td>\n",
       "      <td>0</td>\n",
       "      <td>женат / замужем</td>\n",
       "      <td>0</td>\n",
       "      <td>F</td>\n",
       "      <td>сотрудник</td>\n",
       "      <td>0</td>\n",
       "      <td>88335.559745</td>\n",
       "      <td>недвижимость</td>\n",
       "    </tr>\n",
       "  </tbody>\n",
       "</table>\n",
       "</div>"
      ],
      "text/plain": [
       "      children  days_employed  age education  education_id    family_status  \\\n",
       "6201         0   -8908.422866   44    высшее             0  женат / замужем   \n",
       "\n",
       "      family_status_id gender income_type  debt  total_income       purpose  \n",
       "6201                 0      F   сотрудник     0  88335.559745  недвижимость  "
      ]
     },
     "execution_count": 283,
     "metadata": {},
     "output_type": "execute_result"
    }
   ],
   "source": [
    "df.sample()"
   ]
  },
  {
   "cell_type": "code",
   "execution_count": 284,
   "metadata": {},
   "outputs": [
    {
     "data": {
      "text/html": [
       "<div>\n",
       "<style scoped>\n",
       "    .dataframe tbody tr th:only-of-type {\n",
       "        vertical-align: middle;\n",
       "    }\n",
       "\n",
       "    .dataframe tbody tr th {\n",
       "        vertical-align: top;\n",
       "    }\n",
       "\n",
       "    .dataframe thead th {\n",
       "        text-align: right;\n",
       "    }\n",
       "</style>\n",
       "<table border=\"1\" class=\"dataframe\">\n",
       "  <thead>\n",
       "    <tr style=\"text-align: right;\">\n",
       "      <th></th>\n",
       "      <th>count</th>\n",
       "      <th>mean</th>\n",
       "      <th>std</th>\n",
       "      <th>min</th>\n",
       "      <th>25%</th>\n",
       "      <th>50%</th>\n",
       "      <th>75%</th>\n",
       "      <th>max</th>\n",
       "    </tr>\n",
       "  </thead>\n",
       "  <tbody>\n",
       "    <tr>\n",
       "      <td>children</td>\n",
       "      <td>21525.0</td>\n",
       "      <td>0.538908</td>\n",
       "      <td>1.381587</td>\n",
       "      <td>-1.000000</td>\n",
       "      <td>0.000000</td>\n",
       "      <td>0.000000</td>\n",
       "      <td>1.000000</td>\n",
       "      <td>2.000000e+01</td>\n",
       "    </tr>\n",
       "    <tr>\n",
       "      <td>days_employed</td>\n",
       "      <td>19351.0</td>\n",
       "      <td>63046.497661</td>\n",
       "      <td>140827.311974</td>\n",
       "      <td>-18388.949901</td>\n",
       "      <td>-2747.423625</td>\n",
       "      <td>-1203.369529</td>\n",
       "      <td>-291.095954</td>\n",
       "      <td>4.017554e+05</td>\n",
       "    </tr>\n",
       "    <tr>\n",
       "      <td>age</td>\n",
       "      <td>21525.0</td>\n",
       "      <td>43.293380</td>\n",
       "      <td>12.574584</td>\n",
       "      <td>0.000000</td>\n",
       "      <td>33.000000</td>\n",
       "      <td>42.000000</td>\n",
       "      <td>53.000000</td>\n",
       "      <td>7.500000e+01</td>\n",
       "    </tr>\n",
       "    <tr>\n",
       "      <td>education_id</td>\n",
       "      <td>21525.0</td>\n",
       "      <td>0.817236</td>\n",
       "      <td>0.548138</td>\n",
       "      <td>0.000000</td>\n",
       "      <td>1.000000</td>\n",
       "      <td>1.000000</td>\n",
       "      <td>1.000000</td>\n",
       "      <td>4.000000e+00</td>\n",
       "    </tr>\n",
       "    <tr>\n",
       "      <td>family_status_id</td>\n",
       "      <td>21525.0</td>\n",
       "      <td>0.972544</td>\n",
       "      <td>1.420324</td>\n",
       "      <td>0.000000</td>\n",
       "      <td>0.000000</td>\n",
       "      <td>0.000000</td>\n",
       "      <td>1.000000</td>\n",
       "      <td>4.000000e+00</td>\n",
       "    </tr>\n",
       "    <tr>\n",
       "      <td>debt</td>\n",
       "      <td>21525.0</td>\n",
       "      <td>0.080883</td>\n",
       "      <td>0.272661</td>\n",
       "      <td>0.000000</td>\n",
       "      <td>0.000000</td>\n",
       "      <td>0.000000</td>\n",
       "      <td>0.000000</td>\n",
       "      <td>1.000000e+00</td>\n",
       "    </tr>\n",
       "    <tr>\n",
       "      <td>total_income</td>\n",
       "      <td>19351.0</td>\n",
       "      <td>167422.302208</td>\n",
       "      <td>102971.566448</td>\n",
       "      <td>20667.263793</td>\n",
       "      <td>103053.152913</td>\n",
       "      <td>145017.937533</td>\n",
       "      <td>203435.067663</td>\n",
       "      <td>2.265604e+06</td>\n",
       "    </tr>\n",
       "  </tbody>\n",
       "</table>\n",
       "</div>"
      ],
      "text/plain": [
       "                    count           mean            std           min  \\\n",
       "children          21525.0       0.538908       1.381587     -1.000000   \n",
       "days_employed     19351.0   63046.497661  140827.311974 -18388.949901   \n",
       "age               21525.0      43.293380      12.574584      0.000000   \n",
       "education_id      21525.0       0.817236       0.548138      0.000000   \n",
       "family_status_id  21525.0       0.972544       1.420324      0.000000   \n",
       "debt              21525.0       0.080883       0.272661      0.000000   \n",
       "total_income      19351.0  167422.302208  102971.566448  20667.263793   \n",
       "\n",
       "                            25%            50%            75%           max  \n",
       "children               0.000000       0.000000       1.000000  2.000000e+01  \n",
       "days_employed      -2747.423625   -1203.369529    -291.095954  4.017554e+05  \n",
       "age                   33.000000      42.000000      53.000000  7.500000e+01  \n",
       "education_id           1.000000       1.000000       1.000000  4.000000e+00  \n",
       "family_status_id       0.000000       0.000000       1.000000  4.000000e+00  \n",
       "debt                   0.000000       0.000000       0.000000  1.000000e+00  \n",
       "total_income      103053.152913  145017.937533  203435.067663  2.265604e+06  "
      ]
     },
     "execution_count": 284,
     "metadata": {},
     "output_type": "execute_result"
    }
   ],
   "source": [
    "df.describe().T"
   ]
  },
  {
   "cell_type": "markdown",
   "metadata": {},
   "source": [
    "**Вывод**"
   ]
  },
  {
   "cell_type": "markdown",
   "metadata": {},
   "source": [
    "Датасет состоит из 21525 наблюдений и имеет 12 признаков. Для признаков days_employed и total_income у нас имеются пропуски. Многие признаки имею тип object, остальные данные численные. Сразу видно что признак days_employed имеет отрицательные значения. У признака age среднее и медиана примерно равны, это значит что выбросы если есть, то их немного. total_income похоже имеет выбросы в конце, так как до 75% цифра не критично повышается, также среднее превышает медиану."
   ]
  },
  {
   "cell_type": "markdown",
   "metadata": {},
   "source": [
    "## Шаг 2. Предобработка данных"
   ]
  },
  {
   "cell_type": "markdown",
   "metadata": {},
   "source": [
    "### Обработка пропусков"
   ]
  },
  {
   "cell_type": "code",
   "execution_count": 285,
   "metadata": {},
   "outputs": [
    {
     "data": {
      "text/plain": [
       "children            2174\n",
       "days_employed          0\n",
       "age                 2174\n",
       "education           2174\n",
       "education_id        2174\n",
       "family_status       2174\n",
       "family_status_id    2174\n",
       "gender              2174\n",
       "income_type         2174\n",
       "debt                2174\n",
       "total_income           0\n",
       "purpose             2174\n",
       "dtype: int64"
      ]
     },
     "execution_count": 285,
     "metadata": {},
     "output_type": "execute_result"
    }
   ],
   "source": [
    "df[df['days_employed'].isna()].count()"
   ]
  },
  {
   "cell_type": "code",
   "execution_count": 286,
   "metadata": {},
   "outputs": [
    {
     "data": {
      "text/plain": [
       "сотрудник          1105\n",
       "компаньон           508\n",
       "пенсионер           413\n",
       "госслужащий         147\n",
       "предприниматель       1\n",
       "Name: income_type, dtype: int64"
      ]
     },
     "execution_count": 286,
     "metadata": {},
     "output_type": "execute_result"
    }
   ],
   "source": [
    "df[df['days_employed'].isna()]['income_type'].value_counts()"
   ]
  },
  {
   "cell_type": "code",
   "execution_count": 287,
   "metadata": {
    "scrolled": true
   },
   "outputs": [
    {
     "name": "stdout",
     "output_type": "stream",
     "text": [
      "<class 'pandas.core.frame.DataFrame'>\n",
      "RangeIndex: 21525 entries, 0 to 21524\n",
      "Data columns (total 12 columns):\n",
      "children            21525 non-null int64\n",
      "days_employed       21525 non-null float64\n",
      "age                 21525 non-null int64\n",
      "education           21525 non-null object\n",
      "education_id        21525 non-null int64\n",
      "family_status       21525 non-null object\n",
      "family_status_id    21525 non-null int64\n",
      "gender              21525 non-null object\n",
      "income_type         21525 non-null object\n",
      "debt                21525 non-null int64\n",
      "total_income        21525 non-null float64\n",
      "purpose             21525 non-null object\n",
      "dtypes: float64(2), int64(5), object(5)\n",
      "memory usage: 11.3 MB\n"
     ]
    }
   ],
   "source": [
    "df['days_employed'] = df['days_employed'].fillna(0)\n",
    "df['total_income'] = df['total_income'].fillna(0)\n",
    "df.info(memory_usage='deep')"
   ]
  },
  {
   "cell_type": "code",
   "execution_count": 288,
   "metadata": {
    "scrolled": true
   },
   "outputs": [
    {
     "name": "stdout",
     "output_type": "stream",
     "text": [
      "Memory usage of properties dataframe is : 1.970794677734375  MB\n",
      "******************************\n",
      "Column:  children\n",
      "dtype before:  int64\n",
      "dtype after:  int8\n",
      "******************************\n",
      "******************************\n",
      "Column:  days_employed\n",
      "dtype before:  float64\n",
      "dtype after:  float32\n",
      "******************************\n",
      "******************************\n",
      "Column:  age\n",
      "dtype before:  int64\n",
      "dtype after:  uint8\n",
      "******************************\n",
      "******************************\n",
      "Column:  education_id\n",
      "dtype before:  int64\n",
      "dtype after:  uint8\n",
      "******************************\n",
      "******************************\n",
      "Column:  family_status_id\n",
      "dtype before:  int64\n",
      "dtype after:  uint8\n",
      "******************************\n",
      "******************************\n",
      "Column:  debt\n",
      "dtype before:  int64\n",
      "dtype after:  uint8\n",
      "******************************\n",
      "******************************\n",
      "Column:  total_income\n",
      "dtype before:  float64\n",
      "dtype after:  float32\n",
      "******************************\n",
      "___MEMORY USAGE AFTER COMPLETION:___\n",
      "Memory usage is:  1.0880975723266602  MB\n",
      "This is  55.21110771303365 % of the initial size\n",
      "_________________\n",
      "\n",
      "Warning: the following columns have missing values filled with 'df['column_name'].min() -1': \n",
      "_________________\n",
      "\n",
      "[]\n"
     ]
    }
   ],
   "source": [
    "# функция оптимизация памяти\n",
    "def reduce_mem_usage(props):\n",
    "    start_mem_usg = props.memory_usage().sum() / 1024**2 \n",
    "    print(\"Memory usage of properties dataframe is :\",start_mem_usg,\" MB\")\n",
    "    NAlist = [] # Keeps track of columns that have missing values filled in. \n",
    "    for col in props.columns:\n",
    "        if props[col].dtype != object:  # Exclude strings\n",
    "            \n",
    "            # Print current column type\n",
    "            print(\"******************************\")\n",
    "            print(\"Column: \",col)\n",
    "            print(\"dtype before: \",props[col].dtype)\n",
    "            \n",
    "            # make variables for Int, max and min\n",
    "            IsInt = False\n",
    "            mx = props[col].max()\n",
    "            mn = props[col].min()\n",
    "            \n",
    "            # Integer does not support NA, therefore, NA needs to be filled\n",
    "            if not np.isfinite(props[col]).all(): \n",
    "                NAlist.append(col)\n",
    "                props[col].fillna(mn-1,inplace=True)  \n",
    "                   \n",
    "            # test if column can be converted to an integer\n",
    "            asint = props[col].fillna(0).astype(np.int64)\n",
    "            result = (props[col] - asint)\n",
    "            result = result.sum()\n",
    "            if result > -0.01 and result < 0.01:\n",
    "                IsInt = True\n",
    "\n",
    "            \n",
    "            # Make Integer/unsigned Integer datatypes\n",
    "            if IsInt:\n",
    "                if mn >= 0:\n",
    "                    if mx < 255:\n",
    "                        props[col] = props[col].astype(np.uint8)\n",
    "                    elif mx < 65535:\n",
    "                        props[col] = props[col].astype(np.uint16)\n",
    "                    elif mx < 4294967295:\n",
    "                        props[col] = props[col].astype(np.uint32)\n",
    "                    else:\n",
    "                        props[col] = props[col].astype(np.uint64)\n",
    "                else:\n",
    "                    if mn > np.iinfo(np.int8).min and mx < np.iinfo(np.int8).max:\n",
    "                        props[col] = props[col].astype(np.int8)\n",
    "                    elif mn > np.iinfo(np.int16).min and mx < np.iinfo(np.int16).max:\n",
    "                        props[col] = props[col].astype(np.int16)\n",
    "                    elif mn > np.iinfo(np.int32).min and mx < np.iinfo(np.int32).max:\n",
    "                        props[col] = props[col].astype(np.int32)\n",
    "                    elif mn > np.iinfo(np.int64).min and mx < np.iinfo(np.int64).max:\n",
    "                        props[col] = props[col].astype(np.int64)    \n",
    "            \n",
    "            # Make float datatypes 32 bit\n",
    "            else:\n",
    "                props[col] = props[col].astype(np.float32)\n",
    "            \n",
    "            # Print new column type\n",
    "            print(\"dtype after: \",props[col].dtype)\n",
    "            print(\"******************************\")\n",
    "    \n",
    "    # Print final result\n",
    "    print(\"___MEMORY USAGE AFTER COMPLETION:___\")\n",
    "    mem_usg = props.memory_usage().sum() / 1024**2 \n",
    "    print(\"Memory usage is: \",mem_usg,\" MB\")\n",
    "    print(\"This is \",100*mem_usg/start_mem_usg,\"% of the initial size\")\n",
    "    return props, NAlist\n",
    "df, NAlist = reduce_mem_usage(df)\n",
    "print(\"_________________\")\n",
    "print(\"\")\n",
    "print(\"Warning: the following columns have missing values filled with 'df['column_name'].min() -1': \")\n",
    "print(\"_________________\")\n",
    "print(\"\")\n",
    "print(NAlist)"
   ]
  },
  {
   "cell_type": "code",
   "execution_count": 289,
   "metadata": {},
   "outputs": [
    {
     "name": "stdout",
     "output_type": "stream",
     "text": [
      "<class 'pandas.core.frame.DataFrame'>\n",
      "RangeIndex: 21525 entries, 0 to 21524\n",
      "Data columns (total 12 columns):\n",
      "children            21525 non-null int8\n",
      "days_employed       21525 non-null float32\n",
      "age                 21525 non-null uint8\n",
      "education           21525 non-null object\n",
      "education_id        21525 non-null uint8\n",
      "family_status       21525 non-null object\n",
      "family_status_id    21525 non-null uint8\n",
      "gender              21525 non-null object\n",
      "income_type         21525 non-null object\n",
      "debt                21525 non-null uint8\n",
      "total_income        21525 non-null float32\n",
      "purpose             21525 non-null object\n",
      "dtypes: float32(2), int8(1), object(5), uint8(4)\n",
      "memory usage: 10.4 MB\n"
     ]
    }
   ],
   "source": [
    "df.info(memory_usage='deep')"
   ]
  },
  {
   "cell_type": "markdown",
   "metadata": {},
   "source": [
    "**Вывод**"
   ]
  },
  {
   "cell_type": "markdown",
   "metadata": {},
   "source": [
    "Мы взяли все наблюдения с пропущенным days_employed и посчитали их во всех столбцах и увидели, что те у кого days_employed пропущено, у тех пропущены и total_income и это логично, те кто не был ни дня трудоустроен - у тех нет дохода. По этому можно заполнить у таких days_employed равным 0 и соотв-но total_income также равным 0.\n",
    "\n",
    "С другой стороны мы также посмотрели категории income_type у таких наблюдений, их всего 2174, которые как мы понимаем не указали ни дня работы(или не было официально трудоустроены?). Так или иначе для банка их доход и стаж - 0 будет логичнее указать, чем брать среднюю или медиану."
   ]
  },
  {
   "cell_type": "code",
   "execution_count": 290,
   "metadata": {},
   "outputs": [
    {
     "data": {
      "text/html": [
       "<div>\n",
       "<style scoped>\n",
       "    .dataframe tbody tr th:only-of-type {\n",
       "        vertical-align: middle;\n",
       "    }\n",
       "\n",
       "    .dataframe tbody tr th {\n",
       "        vertical-align: top;\n",
       "    }\n",
       "\n",
       "    .dataframe thead th {\n",
       "        text-align: right;\n",
       "    }\n",
       "</style>\n",
       "<table border=\"1\" class=\"dataframe\">\n",
       "  <thead>\n",
       "    <tr style=\"text-align: right;\">\n",
       "      <th></th>\n",
       "      <th>count</th>\n",
       "      <th>mean</th>\n",
       "      <th>std</th>\n",
       "      <th>min</th>\n",
       "      <th>25%</th>\n",
       "      <th>50%</th>\n",
       "      <th>75%</th>\n",
       "      <th>max</th>\n",
       "    </tr>\n",
       "  </thead>\n",
       "  <tbody>\n",
       "    <tr>\n",
       "      <td>children</td>\n",
       "      <td>21525.0</td>\n",
       "      <td>0.538908</td>\n",
       "      <td>1.381587</td>\n",
       "      <td>-1.000000</td>\n",
       "      <td>0.000000</td>\n",
       "      <td>0.000000</td>\n",
       "      <td>1.000</td>\n",
       "      <td>2.000000e+01</td>\n",
       "    </tr>\n",
       "    <tr>\n",
       "      <td>days_employed</td>\n",
       "      <td>21525.0</td>\n",
       "      <td>56678.875000</td>\n",
       "      <td>134870.765625</td>\n",
       "      <td>-18388.949219</td>\n",
       "      <td>-2518.168945</td>\n",
       "      <td>-982.531738</td>\n",
       "      <td>0.000</td>\n",
       "      <td>4.017554e+05</td>\n",
       "    </tr>\n",
       "    <tr>\n",
       "      <td>age</td>\n",
       "      <td>21525.0</td>\n",
       "      <td>43.293380</td>\n",
       "      <td>12.574584</td>\n",
       "      <td>0.000000</td>\n",
       "      <td>33.000000</td>\n",
       "      <td>42.000000</td>\n",
       "      <td>53.000</td>\n",
       "      <td>7.500000e+01</td>\n",
       "    </tr>\n",
       "    <tr>\n",
       "      <td>education_id</td>\n",
       "      <td>21525.0</td>\n",
       "      <td>0.817236</td>\n",
       "      <td>0.548138</td>\n",
       "      <td>0.000000</td>\n",
       "      <td>1.000000</td>\n",
       "      <td>1.000000</td>\n",
       "      <td>1.000</td>\n",
       "      <td>4.000000e+00</td>\n",
       "    </tr>\n",
       "    <tr>\n",
       "      <td>family_status_id</td>\n",
       "      <td>21525.0</td>\n",
       "      <td>0.972544</td>\n",
       "      <td>1.420324</td>\n",
       "      <td>0.000000</td>\n",
       "      <td>0.000000</td>\n",
       "      <td>0.000000</td>\n",
       "      <td>1.000</td>\n",
       "      <td>4.000000e+00</td>\n",
       "    </tr>\n",
       "    <tr>\n",
       "      <td>debt</td>\n",
       "      <td>21525.0</td>\n",
       "      <td>0.080883</td>\n",
       "      <td>0.272661</td>\n",
       "      <td>0.000000</td>\n",
       "      <td>0.000000</td>\n",
       "      <td>0.000000</td>\n",
       "      <td>0.000</td>\n",
       "      <td>1.000000e+00</td>\n",
       "    </tr>\n",
       "    <tr>\n",
       "      <td>total_income</td>\n",
       "      <td>21525.0</td>\n",
       "      <td>150512.843750</td>\n",
       "      <td>109897.210938</td>\n",
       "      <td>0.000000</td>\n",
       "      <td>88612.835938</td>\n",
       "      <td>135514.718750</td>\n",
       "      <td>195543.625</td>\n",
       "      <td>2.265604e+06</td>\n",
       "    </tr>\n",
       "  </tbody>\n",
       "</table>\n",
       "</div>"
      ],
      "text/plain": [
       "                    count           mean            std           min  \\\n",
       "children          21525.0       0.538908       1.381587     -1.000000   \n",
       "days_employed     21525.0   56678.875000  134870.765625 -18388.949219   \n",
       "age               21525.0      43.293380      12.574584      0.000000   \n",
       "education_id      21525.0       0.817236       0.548138      0.000000   \n",
       "family_status_id  21525.0       0.972544       1.420324      0.000000   \n",
       "debt              21525.0       0.080883       0.272661      0.000000   \n",
       "total_income      21525.0  150512.843750  109897.210938      0.000000   \n",
       "\n",
       "                           25%            50%         75%           max  \n",
       "children              0.000000       0.000000       1.000  2.000000e+01  \n",
       "days_employed     -2518.168945    -982.531738       0.000  4.017554e+05  \n",
       "age                  33.000000      42.000000      53.000  7.500000e+01  \n",
       "education_id          1.000000       1.000000       1.000  4.000000e+00  \n",
       "family_status_id      0.000000       0.000000       1.000  4.000000e+00  \n",
       "debt                  0.000000       0.000000       0.000  1.000000e+00  \n",
       "total_income      88612.835938  135514.718750  195543.625  2.265604e+06  "
      ]
     },
     "execution_count": 290,
     "metadata": {},
     "output_type": "execute_result"
    }
   ],
   "source": [
    "df.describe().T"
   ]
  },
  {
   "cell_type": "markdown",
   "metadata": {},
   "source": [
    "### Замена типа данных и работа с аномальными значениями"
   ]
  },
  {
   "cell_type": "code",
   "execution_count": 291,
   "metadata": {},
   "outputs": [
    {
     "data": {
      "text/plain": [
       "array(['F', 'M', 'XNA'], dtype=object)"
      ]
     },
     "execution_count": 291,
     "metadata": {},
     "output_type": "execute_result"
    }
   ],
   "source": [
    "df['gender'].unique()"
   ]
  },
  {
   "cell_type": "markdown",
   "metadata": {},
   "source": [
    "'XNA' - непонятный тип и сложно предположить каким он мог бы быть"
   ]
  },
  {
   "cell_type": "code",
   "execution_count": 292,
   "metadata": {},
   "outputs": [
    {
     "data": {
      "text/plain": [
       "F      14236\n",
       "M       7288\n",
       "XNA        1\n",
       "Name: gender, dtype: int64"
      ]
     },
     "execution_count": 292,
     "metadata": {},
     "output_type": "execute_result"
    }
   ],
   "source": [
    "df['gender'].value_counts()"
   ]
  },
  {
   "cell_type": "markdown",
   "metadata": {},
   "source": [
    "У нас один непонятный \"вброс\", давайте посмотрим все наблюдение:"
   ]
  },
  {
   "cell_type": "code",
   "execution_count": 293,
   "metadata": {},
   "outputs": [
    {
     "data": {
      "text/html": [
       "<div>\n",
       "<style scoped>\n",
       "    .dataframe tbody tr th:only-of-type {\n",
       "        vertical-align: middle;\n",
       "    }\n",
       "\n",
       "    .dataframe tbody tr th {\n",
       "        vertical-align: top;\n",
       "    }\n",
       "\n",
       "    .dataframe thead th {\n",
       "        text-align: right;\n",
       "    }\n",
       "</style>\n",
       "<table border=\"1\" class=\"dataframe\">\n",
       "  <thead>\n",
       "    <tr style=\"text-align: right;\">\n",
       "      <th></th>\n",
       "      <th>children</th>\n",
       "      <th>days_employed</th>\n",
       "      <th>age</th>\n",
       "      <th>education</th>\n",
       "      <th>education_id</th>\n",
       "      <th>family_status</th>\n",
       "      <th>family_status_id</th>\n",
       "      <th>gender</th>\n",
       "      <th>income_type</th>\n",
       "      <th>debt</th>\n",
       "      <th>total_income</th>\n",
       "      <th>purpose</th>\n",
       "    </tr>\n",
       "  </thead>\n",
       "  <tbody>\n",
       "    <tr>\n",
       "      <td>10701</td>\n",
       "      <td>0</td>\n",
       "      <td>-2358.600586</td>\n",
       "      <td>24</td>\n",
       "      <td>неоконченное высшее</td>\n",
       "      <td>2</td>\n",
       "      <td>гражданский брак</td>\n",
       "      <td>1</td>\n",
       "      <td>XNA</td>\n",
       "      <td>компаньон</td>\n",
       "      <td>0</td>\n",
       "      <td>203905.15625</td>\n",
       "      <td>покупка недвижимости</td>\n",
       "    </tr>\n",
       "  </tbody>\n",
       "</table>\n",
       "</div>"
      ],
      "text/plain": [
       "       children  days_employed  age            education  education_id  \\\n",
       "10701         0   -2358.600586   24  неоконченное высшее             2   \n",
       "\n",
       "          family_status  family_status_id gender income_type  debt  \\\n",
       "10701  гражданский брак                 1    XNA   компаньон     0   \n",
       "\n",
       "       total_income               purpose  \n",
       "10701  203905.15625  покупка недвижимости  "
      ]
     },
     "execution_count": 293,
     "metadata": {},
     "output_type": "execute_result"
    }
   ],
   "source": [
    "df[df['gender'] == 'XNA']"
   ]
  },
  {
   "cell_type": "markdown",
   "metadata": {},
   "source": [
    "Допустим я не хочу выкидывать это наблюдение(хотя оно всего 1/21525 или весьма незначительная часть)"
   ]
  },
  {
   "cell_type": "code",
   "execution_count": 294,
   "metadata": {},
   "outputs": [
    {
     "data": {
      "text/html": [
       "<div>\n",
       "<style scoped>\n",
       "    .dataframe tbody tr th:only-of-type {\n",
       "        vertical-align: middle;\n",
       "    }\n",
       "\n",
       "    .dataframe tbody tr th {\n",
       "        vertical-align: top;\n",
       "    }\n",
       "\n",
       "    .dataframe thead th {\n",
       "        text-align: right;\n",
       "    }\n",
       "</style>\n",
       "<table border=\"1\" class=\"dataframe\">\n",
       "  <thead>\n",
       "    <tr style=\"text-align: right;\">\n",
       "      <th></th>\n",
       "      <th>children</th>\n",
       "      <th>days_employed</th>\n",
       "      <th>age</th>\n",
       "      <th>education</th>\n",
       "      <th>education_id</th>\n",
       "      <th>family_status</th>\n",
       "      <th>family_status_id</th>\n",
       "      <th>gender</th>\n",
       "      <th>income_type</th>\n",
       "      <th>debt</th>\n",
       "      <th>total_income</th>\n",
       "      <th>purpose</th>\n",
       "    </tr>\n",
       "  </thead>\n",
       "  <tbody>\n",
       "    <tr>\n",
       "      <td>6859</td>\n",
       "      <td>1</td>\n",
       "      <td>-260.992737</td>\n",
       "      <td>0</td>\n",
       "      <td>неоконченное высшее</td>\n",
       "      <td>2</td>\n",
       "      <td>гражданский брак</td>\n",
       "      <td>1</td>\n",
       "      <td>F</td>\n",
       "      <td>сотрудник</td>\n",
       "      <td>0</td>\n",
       "      <td>128246.648438</td>\n",
       "      <td>покупка недвижимости</td>\n",
       "    </tr>\n",
       "    <tr>\n",
       "      <td>10701</td>\n",
       "      <td>0</td>\n",
       "      <td>-2358.600586</td>\n",
       "      <td>24</td>\n",
       "      <td>неоконченное высшее</td>\n",
       "      <td>2</td>\n",
       "      <td>гражданский брак</td>\n",
       "      <td>1</td>\n",
       "      <td>XNA</td>\n",
       "      <td>компаньон</td>\n",
       "      <td>0</td>\n",
       "      <td>203905.156250</td>\n",
       "      <td>покупка недвижимости</td>\n",
       "    </tr>\n",
       "  </tbody>\n",
       "</table>\n",
       "</div>"
      ],
      "text/plain": [
       "       children  days_employed  age            education  education_id  \\\n",
       "6859          1    -260.992737    0  неоконченное высшее             2   \n",
       "10701         0   -2358.600586   24  неоконченное высшее             2   \n",
       "\n",
       "          family_status  family_status_id gender income_type  debt  \\\n",
       "6859   гражданский брак                 1      F   сотрудник     0   \n",
       "10701  гражданский брак                 1    XNA   компаньон     0   \n",
       "\n",
       "        total_income               purpose  \n",
       "6859   128246.648438  покупка недвижимости  \n",
       "10701  203905.156250  покупка недвижимости  "
      ]
     },
     "execution_count": 294,
     "metadata": {},
     "output_type": "execute_result"
    }
   ],
   "source": [
    "temp = df[df['education'] == 'неоконченное высшее']\n",
    "temp = temp[temp['family_status'] == 'гражданский брак']\n",
    "temp = temp[temp['purpose'] == 'покупка недвижимости']\n",
    "temp"
   ]
  },
  {
   "cell_type": "markdown",
   "metadata": {},
   "source": [
    "Эти 2 наблюдения не помогли мне понять возраст, но я обнаружила наблюдение с age = 0, запомним это. Удалим наблюдение с gender XNA"
   ]
  },
  {
   "cell_type": "code",
   "execution_count": 295,
   "metadata": {
    "scrolled": true
   },
   "outputs": [
    {
     "data": {
      "text/html": [
       "<div>\n",
       "<style scoped>\n",
       "    .dataframe tbody tr th:only-of-type {\n",
       "        vertical-align: middle;\n",
       "    }\n",
       "\n",
       "    .dataframe tbody tr th {\n",
       "        vertical-align: top;\n",
       "    }\n",
       "\n",
       "    .dataframe thead th {\n",
       "        text-align: right;\n",
       "    }\n",
       "</style>\n",
       "<table border=\"1\" class=\"dataframe\">\n",
       "  <thead>\n",
       "    <tr style=\"text-align: right;\">\n",
       "      <th></th>\n",
       "      <th>children</th>\n",
       "      <th>days_employed</th>\n",
       "      <th>age</th>\n",
       "      <th>education</th>\n",
       "      <th>education_id</th>\n",
       "      <th>family_status</th>\n",
       "      <th>family_status_id</th>\n",
       "      <th>gender</th>\n",
       "      <th>income_type</th>\n",
       "      <th>debt</th>\n",
       "      <th>total_income</th>\n",
       "      <th>purpose</th>\n",
       "    </tr>\n",
       "  </thead>\n",
       "  <tbody>\n",
       "  </tbody>\n",
       "</table>\n",
       "</div>"
      ],
      "text/plain": [
       "Empty DataFrame\n",
       "Columns: [children, days_employed, age, education, education_id, family_status, family_status_id, gender, income_type, debt, total_income, purpose]\n",
       "Index: []"
      ]
     },
     "execution_count": 295,
     "metadata": {},
     "output_type": "execute_result"
    }
   ],
   "source": [
    "df = df.drop(np.where(df['gender'] == 'XNA')[0])\n",
    "df[df['gender'] == 'XNA']"
   ]
  },
  {
   "cell_type": "code",
   "execution_count": 296,
   "metadata": {},
   "outputs": [
    {
     "data": {
      "text/plain": [
       "array(['F', 'M'], dtype=object)"
      ]
     },
     "execution_count": 296,
     "metadata": {},
     "output_type": "execute_result"
    }
   ],
   "source": [
    "df['gender'].unique()"
   ]
  },
  {
   "cell_type": "code",
   "execution_count": 297,
   "metadata": {},
   "outputs": [],
   "source": [
    "def gender_convert(gender):\n",
    "    \"\"\"\n",
    "    Возвращает пол: 0 - женщины, 1 - мужчины.\n",
    "    \"\"\"\n",
    "    if gender == 'F':\n",
    "        return 0\n",
    "    else:\n",
    "        return 1"
   ]
  },
  {
   "cell_type": "code",
   "execution_count": 298,
   "metadata": {},
   "outputs": [
    {
     "data": {
      "text/plain": [
       "0    14236\n",
       "1     7288\n",
       "Name: gender, dtype: int64"
      ]
     },
     "execution_count": 298,
     "metadata": {},
     "output_type": "execute_result"
    }
   ],
   "source": [
    "df['gender'] = df['gender'].apply(gender_convert)\n",
    "df['gender'].value_counts()"
   ]
  },
  {
   "cell_type": "markdown",
   "metadata": {},
   "source": [
    "Женщин почти в 2 раза больше чем мужчин и тип 'gender' больше не object"
   ]
  },
  {
   "cell_type": "code",
   "execution_count": 299,
   "metadata": {},
   "outputs": [
    {
     "data": {
      "text/plain": [
       "<matplotlib.axes._subplots.AxesSubplot at 0x7f11a1d23a90>"
      ]
     },
     "execution_count": 299,
     "metadata": {},
     "output_type": "execute_result"
    },
    {
     "data": {
      "image/png": "[encoded data removed]",
      "text/plain": [
       "<Figure size 432x288 with 1 Axes>"
      ]
     },
     "metadata": {
      "needs_background": "light"
     },
     "output_type": "display_data"
    }
   ],
   "source": [
    "df['age'].hist()"
   ]
  },
  {
   "cell_type": "raw",
   "metadata": {},
   "source": [
    "В целом распределение адекватное, но посмотрим сколько у нас нулей"
   ]
  },
  {
   "cell_type": "code",
   "execution_count": 300,
   "metadata": {},
   "outputs": [
    {
     "data": {
      "text/plain": [
       "101"
      ]
     },
     "execution_count": 300,
     "metadata": {},
     "output_type": "execute_result"
    }
   ],
   "source": [
    "df[df['age'] == 0]['age'].count()"
   ]
  },
  {
   "cell_type": "markdown",
   "metadata": {},
   "source": [
    "Таких наблюдений 101 или менее 0.001 процента данных, что несущественно. При этом же их сложно будет заполнить, так как придется высчитывать среднее или медиану, что с возрастом не будет показательно. Удалим такие наблюдения."
   ]
  },
  {
   "cell_type": "code",
   "execution_count": 301,
   "metadata": {
    "scrolled": true
   },
   "outputs": [
    {
     "data": {
      "text/plain": [
       "0"
      ]
     },
     "execution_count": 301,
     "metadata": {},
     "output_type": "execute_result"
    }
   ],
   "source": [
    "df.drop(df[df['age'] == 0].index, inplace=True)\n",
    "df[df['age'] == 0]['age'].count()"
   ]
  },
  {
   "cell_type": "code",
   "execution_count": 302,
   "metadata": {},
   "outputs": [
    {
     "data": {
      "text/plain": [
       " 0     14079\n",
       " 1      4802\n",
       " 2      2042\n",
       " 3       328\n",
       " 20       75\n",
       "-1        47\n",
       " 4        41\n",
       " 5         9\n",
       "Name: children, dtype: int64"
      ]
     },
     "execution_count": 302,
     "metadata": {},
     "output_type": "execute_result"
    }
   ],
   "source": [
    "df['children'].value_counts()"
   ]
  },
  {
   "cell_type": "markdown",
   "metadata": {},
   "source": [
    "Столбец children явно имеет некорректные отрицательные значения"
   ]
  },
  {
   "cell_type": "code",
   "execution_count": 303,
   "metadata": {},
   "outputs": [],
   "source": [
    "def to_positive(number):\n",
    "    return abs(number)"
   ]
  },
  {
   "cell_type": "code",
   "execution_count": 304,
   "metadata": {},
   "outputs": [
    {
     "data": {
      "text/plain": [
       "0     14079\n",
       "1      4849\n",
       "2      2042\n",
       "3       328\n",
       "20       75\n",
       "4        41\n",
       "5         9\n",
       "Name: children, dtype: int64"
      ]
     },
     "execution_count": 304,
     "metadata": {},
     "output_type": "execute_result"
    }
   ],
   "source": [
    "df['children'] = df['children'].apply(to_positive)\n",
    "df['children'].value_counts()"
   ]
  },
  {
   "cell_type": "markdown",
   "metadata": {},
   "source": [
    "У нас много наблюдений с 20 детьми при этом пропущенные промежуточные значения. Можно предположить что была гос программа для семей с 20 детьми, но более вероятно, что нам пришли данные где дополнительно к \"2\" отправился \"0\", и мы могли бы заменить 20 на 2."
   ]
  },
  {
   "cell_type": "code",
   "execution_count": 305,
   "metadata": {},
   "outputs": [
    {
     "data": {
      "text/plain": [
       "<matplotlib.axes._subplots.AxesSubplot at 0x7f11ef380090>"
      ]
     },
     "execution_count": 305,
     "metadata": {},
     "output_type": "execute_result"
    },
    {
     "data": {
      "image/png": "[encoded data removed]",
      "text/plain": [
       "<Figure size 432x288 with 1 Axes>"
      ]
     },
     "metadata": {
      "needs_background": "light"
     },
     "output_type": "display_data"
    }
   ],
   "source": [
    "df[df['children'] == 20]['age'].hist(bins=20)"
   ]
  },
  {
   "cell_type": "markdown",
   "metadata": {},
   "source": [
    "Также можно было бы предположить, что те, у кого 20 детей это взрослые заемщики, ну как минимум 40 лет, но мы видим что у нас различные возраста"
   ]
  },
  {
   "cell_type": "code",
   "execution_count": 306,
   "metadata": {},
   "outputs": [
    {
     "data": {
      "text/plain": [
       "9"
      ]
     },
     "execution_count": 306,
     "metadata": {},
     "output_type": "execute_result"
    }
   ],
   "source": [
    "len(df[(df['children'] == 20) & (df['age'] < 30)])"
   ]
  },
  {
   "cell_type": "markdown",
   "metadata": {},
   "source": [
    "Или например много детей усыновили. Но все же остановлюсь на том, что скорее всего это была цифра 2(но все же заодно сделаем запрос к разработчикам по вопросу возможной причины поступления такого рода \"выброса\")"
   ]
  },
  {
   "cell_type": "code",
   "execution_count": 307,
   "metadata": {},
   "outputs": [],
   "source": [
    "def children_to_two(children):\n",
    "    if children == 20:\n",
    "        return 2\n",
    "    else:\n",
    "        return children"
   ]
  },
  {
   "cell_type": "code",
   "execution_count": 308,
   "metadata": {},
   "outputs": [
    {
     "data": {
      "text/plain": [
       "0    14079\n",
       "1     4849\n",
       "2     2117\n",
       "3      328\n",
       "4       41\n",
       "5        9\n",
       "Name: children, dtype: int64"
      ]
     },
     "execution_count": 308,
     "metadata": {},
     "output_type": "execute_result"
    }
   ],
   "source": [
    "df['children'] = df['children'].replace(20, 2)\n",
    "df['children'].value_counts()"
   ]
  },
  {
   "cell_type": "code",
   "execution_count": 309,
   "metadata": {},
   "outputs": [
    {
     "data": {
      "text/plain": [
       " 0.000000         2164\n",
       "-1272.242310         2\n",
       " 334679.125000       2\n",
       "-1510.738159         2\n",
       " 375045.281250       2\n",
       "                  ... \n",
       "-597.273376          1\n",
       "-597.273438          1\n",
       " 358738.843750       1\n",
       "-1066.557983         1\n",
       "-487.956421          1\n",
       "Name: days_employed, Length: 19254, dtype: int64"
      ]
     },
     "execution_count": 309,
     "metadata": {},
     "output_type": "execute_result"
    }
   ],
   "source": [
    "df['days_employed'].value_counts()"
   ]
  },
  {
   "cell_type": "code",
   "execution_count": 310,
   "metadata": {},
   "outputs": [
    {
     "data": {
      "text/plain": [
       "<matplotlib.axes._subplots.AxesSubplot at 0x7f11ef5bfb10>"
      ]
     },
     "execution_count": 310,
     "metadata": {},
     "output_type": "execute_result"
    },
    {
     "data": {
      "image/png": "[encoded data removed]",
      "text/plain": [
       "<Figure size 432x288 with 1 Axes>"
      ]
     },
     "metadata": {
      "needs_background": "light"
     },
     "output_type": "display_data"
    }
   ],
   "source": [
    "df['days_employed'].hist(bins=10)"
   ]
  },
  {
   "cell_type": "markdown",
   "metadata": {},
   "source": [
    "Отрицательные значения похожи на результат некорректного заполнения формы или передачи данных, по логике распределение должно выглядить как уменьшение количества наблюдений где количество дней стажа растет, проверим это переведя отрицательные значения в положительные и построив график их распределения"
   ]
  },
  {
   "cell_type": "code",
   "execution_count": 311,
   "metadata": {},
   "outputs": [
    {
     "data": {
      "text/plain": [
       "<matplotlib.axes._subplots.AxesSubplot at 0x7f11ef4dda10>"
      ]
     },
     "execution_count": 311,
     "metadata": {},
     "output_type": "execute_result"
    },
    {
     "data": {
      "image/png": "[encoded data removed]",
      "text/plain": [
       "<Figure size 432x288 with 1 Axes>"
      ]
     },
     "metadata": {
      "needs_background": "light"
     },
     "output_type": "display_data"
    }
   ],
   "source": [
    "df['days_employed'] = df['days_employed'].apply(to_positive)\n",
    "df['days_employed'].hist(bins=10)"
   ]
  },
  {
   "cell_type": "code",
   "execution_count": 312,
   "metadata": {},
   "outputs": [
    {
     "data": {
      "text/plain": [
       "<matplotlib.axes._subplots.AxesSubplot at 0x7f11ef4a82d0>"
      ]
     },
     "execution_count": 312,
     "metadata": {},
     "output_type": "execute_result"
    },
    {
     "data": {
      "image/png": "[encoded data removed]",
      "text/plain": [
       "<Figure size 432x288 with 1 Axes>"
      ]
     },
     "metadata": {
      "needs_background": "light"
     },
     "output_type": "display_data"
    }
   ],
   "source": [
    "df[df['days_employed'] < 50000]['days_employed'].hist(bins=10)"
   ]
  },
  {
   "cell_type": "markdown",
   "metadata": {},
   "source": [
    "Распределение стало похожим на правду. 50*365 = 18250 дней - допустим, что максимальный стаж такой, проверим это"
   ]
  },
  {
   "cell_type": "code",
   "execution_count": 313,
   "metadata": {},
   "outputs": [
    {
     "data": {
      "text/plain": [
       "16335    18388.949219\n",
       "Name: days_employed, dtype: float64"
      ]
     },
     "execution_count": 313,
     "metadata": {},
     "output_type": "execute_result"
    }
   ],
   "source": [
    "df[(df['days_employed'] > 18250) & (df['days_employed'] < 30000)]['days_employed']"
   ]
  },
  {
   "cell_type": "markdown",
   "metadata": {},
   "source": [
    "Получили что есть еще наблюдение с адекватным количеством дней - 18388.949901, включим его, тогда все что выше будем считать неадекватным. Допустим, что все что выше было случайно переведено в некорректный формат, обычно со временем и датами это умножение на 24 или наоброт. Поступим так, все что выше 60 лет будет неадекватно(до 60 лет - например есть работники мвд рф или работники крайнего севера, где стаж считается иначе и такое вполне может быть). Тогда:"
   ]
  },
  {
   "cell_type": "code",
   "execution_count": 314,
   "metadata": {},
   "outputs": [
    {
     "data": {
      "text/plain": [
       "<matplotlib.axes._subplots.AxesSubplot at 0x7f11a1cb8750>"
      ]
     },
     "execution_count": 314,
     "metadata": {},
     "output_type": "execute_result"
    },
    {
     "data": {
      "image/png": "[encoded data removed]",
      "text/plain": [
       "<Figure size 432x288 with 1 Axes>"
      ]
     },
     "metadata": {
      "needs_background": "light"
     },
     "output_type": "display_data"
    }
   ],
   "source": [
    "df[df['days_employed'] > 21900]['days_employed'].hist(bins=10)"
   ]
  },
  {
   "cell_type": "code",
   "execution_count": 315,
   "metadata": {},
   "outputs": [
    {
     "data": {
      "text/plain": [
       "пенсионер      3426\n",
       "безработный       2\n",
       "Name: income_type, dtype: int64"
      ]
     },
     "execution_count": 315,
     "metadata": {},
     "output_type": "execute_result"
    }
   ],
   "source": [
    "df[df['days_employed'] > 21900]['income_type'].value_counts()"
   ]
  },
  {
   "cell_type": "markdown",
   "metadata": {},
   "source": [
    "Изучили наши наблюдения с аномальными днями работы и видим что большинство из них это пенсионеры, то есть стаж должен быть большой по идее\n",
    "\n",
    "Переведем предполагаемые минуты в часы поделив на 24\n"
   ]
  },
  {
   "cell_type": "code",
   "execution_count": 316,
   "metadata": {},
   "outputs": [],
   "source": [
    "def to_hours(minutes):\n",
    "    if minutes > 21900:\n",
    "        return minutes / 24\n",
    "    else:\n",
    "        return minutes"
   ]
  },
  {
   "cell_type": "code",
   "execution_count": 317,
   "metadata": {},
   "outputs": [],
   "source": [
    "df['days_employed'] = df['days_employed'].apply(to_hours)"
   ]
  },
  {
   "cell_type": "code",
   "execution_count": 318,
   "metadata": {},
   "outputs": [
    {
     "data": {
      "text/plain": [
       "<matplotlib.axes._subplots.AxesSubplot at 0x7f11a1c3c610>"
      ]
     },
     "execution_count": 318,
     "metadata": {},
     "output_type": "execute_result"
    },
    {
     "data": {
      "image/png": "[encoded data removed]",
      "text/plain": [
       "<Figure size 432x288 with 1 Axes>"
      ]
     },
     "metadata": {
      "needs_background": "light"
     },
     "output_type": "display_data"
    }
   ],
   "source": [
    "df[df['days_employed'] < 21900]['days_employed'].hist(bins=10)"
   ]
  },
  {
   "cell_type": "code",
   "execution_count": 319,
   "metadata": {},
   "outputs": [
    {
     "data": {
      "text/plain": [
       "сотрудник          9800\n",
       "компаньон          4503\n",
       "госслужащий        1267\n",
       "в декрете             1\n",
       "предприниматель       1\n",
       "студент               1\n",
       "Name: income_type, dtype: int64"
      ]
     },
     "execution_count": 319,
     "metadata": {},
     "output_type": "execute_result"
    }
   ],
   "source": [
    "df[(df['days_employed'] > 0) & (df['days_employed'] < 10000)]['income_type'].value_counts()"
   ]
  },
  {
   "cell_type": "markdown",
   "metadata": {},
   "source": [
    "В целом значения адекватные."
   ]
  },
  {
   "cell_type": "code",
   "execution_count": 320,
   "metadata": {},
   "outputs": [
    {
     "data": {
      "text/plain": [
       "0    19690\n",
       "1     1733\n",
       "Name: debt, dtype: int64"
      ]
     },
     "execution_count": 320,
     "metadata": {},
     "output_type": "execute_result"
    }
   ],
   "source": [
    "df['debt'].value_counts()"
   ]
  },
  {
   "cell_type": "markdown",
   "metadata": {},
   "source": [
    "Преобладают значения 0 - те кто не имел задолженность по возврату кредита"
   ]
  },
  {
   "cell_type": "markdown",
   "metadata": {},
   "source": [
    "**Вывод**"
   ]
  },
  {
   "cell_type": "markdown",
   "metadata": {},
   "source": [
    "Мы просмотрели численные переменные и построили графики что бы зрительно увидеть наличие аномалий и некорректных значений, например отрицательных чисел. Также перевели \"gender\" в 0 и 1 что бы удобнее было с ними работать"
   ]
  },
  {
   "cell_type": "markdown",
   "metadata": {},
   "source": [
    "### Обработка дубликатов"
   ]
  },
  {
   "cell_type": "code",
   "execution_count": 321,
   "metadata": {
    "scrolled": true
   },
   "outputs": [
    {
     "data": {
      "text/plain": [
       "54"
      ]
     },
     "execution_count": 321,
     "metadata": {},
     "output_type": "execute_result"
    }
   ],
   "source": [
    "df.duplicated().sum()"
   ]
  },
  {
   "cell_type": "code",
   "execution_count": 322,
   "metadata": {},
   "outputs": [
    {
     "data": {
      "text/plain": [
       "0"
      ]
     },
     "execution_count": 322,
     "metadata": {},
     "output_type": "execute_result"
    }
   ],
   "source": [
    "df = df.drop_duplicates().reset_index(drop=True)\n",
    "df.duplicated().sum()"
   ]
  },
  {
   "cell_type": "markdown",
   "metadata": {},
   "source": [
    "**Вывод**"
   ]
  },
  {
   "cell_type": "markdown",
   "metadata": {},
   "source": [
    "Удаляем очевидные дубликаты с помощью df.drop_duplicates().reset_index(drop=True), что бы не создавать столбец со старыми значениями индексов"
   ]
  },
  {
   "cell_type": "markdown",
   "metadata": {},
   "source": [
    "### Лемматизация"
   ]
  },
  {
   "cell_type": "code",
   "execution_count": 323,
   "metadata": {},
   "outputs": [],
   "source": [
    "m = Mystem()"
   ]
  },
  {
   "cell_type": "code",
   "execution_count": 324,
   "metadata": {},
   "outputs": [],
   "source": [
    "key_list = ['свадьба', 'недвижимость', 'автомобиль', 'образование', 'жилье']\n",
    "purpose = {}\n",
    "for reason in list(df['purpose'].values):\n",
    "    lemma = m.lemmatize(reason)\n",
    "    for key in key_list:\n",
    "        if key in lemma:\n",
    "            if purpose.get(key):\n",
    "                if lemma not in purpose[key]:\n",
    "                    purpose[key].append(lemma)\n",
    "            else:\n",
    "                purpose[key] = [lemma]"
   ]
  },
  {
   "cell_type": "code",
   "execution_count": 325,
   "metadata": {},
   "outputs": [
    {
     "name": "stdout",
     "output_type": "stream",
     "text": [
      "жилье [['покупка', ' ', 'жилье', '\\n'], ['операция', ' ', 'с', ' ', 'жилье', '\\n'], ['покупка', ' ', 'жилье', ' ', 'для', ' ', 'семья', '\\n'], ['жилье', '\\n'], ['покупка', ' ', 'свой', ' ', 'жилье', '\\n'], ['покупка', ' ', 'жилье', ' ', 'для', ' ', 'сдача', '\\n'], ['ремонт', ' ', 'жилье', '\\n']]\n",
      "----------------------------------------------------------------------------------------------------\n",
      "автомобиль [['приобретение', ' ', 'автомобиль', '\\n'], ['на', ' ', 'покупка', ' ', 'подержать', ' ', 'автомобиль', '\\n'], ['на', ' ', 'покупка', ' ', 'свой', ' ', 'автомобиль', '\\n'], ['автомобиль', '\\n'], ['сделка', ' ', 'с', ' ', 'подержанный', ' ', 'автомобиль', '\\n'], ['свой', ' ', 'автомобиль', '\\n'], ['сделка', ' ', 'с', ' ', 'автомобиль', '\\n'], ['на', ' ', 'покупка', ' ', 'автомобиль', '\\n']]\n",
      "----------------------------------------------------------------------------------------------------\n",
      "образование [['дополнительный', ' ', 'образование', '\\n'], ['образование', '\\n'], ['заниматься', ' ', 'образование', '\\n'], ['получение', ' ', 'образование', '\\n'], ['получение', ' ', 'дополнительный', ' ', 'образование', '\\n'], ['получение', ' ', 'высокий', ' ', 'образование', '\\n'], ['профильный', ' ', 'образование', '\\n'], ['высокий', ' ', 'образование', '\\n'], ['заниматься', ' ', 'высокий', ' ', 'образование', '\\n']]\n",
      "----------------------------------------------------------------------------------------------------\n",
      "свадьба [['сыграть', ' ', 'свадьба', '\\n'], ['на', ' ', 'проведение', ' ', 'свадьба', '\\n'], ['свадьба', '\\n']]\n",
      "----------------------------------------------------------------------------------------------------\n",
      "недвижимость [['покупка', ' ', 'недвижимость', '\\n'], ['покупка', ' ', 'коммерческий', ' ', 'недвижимость', '\\n'], ['покупка', ' ', 'жилой', ' ', 'недвижимость', '\\n'], ['строительство', ' ', 'собственный', ' ', 'недвижимость', '\\n'], ['недвижимость', '\\n'], ['строительство', ' ', 'недвижимость', '\\n'], ['операция', ' ', 'с', ' ', 'коммерческий', ' ', 'недвижимость', '\\n'], ['строительство', ' ', 'жилой', ' ', 'недвижимость', '\\n'], ['операция', ' ', 'со', ' ', 'свой', ' ', 'недвижимость', '\\n'], ['операция', ' ', 'с', ' ', 'недвижимость', '\\n']]\n",
      "----------------------------------------------------------------------------------------------------\n"
     ]
    }
   ],
   "source": [
    "for key, value in purpose.items():\n",
    "    print(key, value)\n",
    "    print('-'*100)"
   ]
  },
  {
   "cell_type": "markdown",
   "metadata": {},
   "source": [
    "1. Что касается автомобилей, то по сути это все покупка движимого имущества, которое банк может забрать в случае невыплаты, но такое имущество не так ликвидно как например недвижимое. Оставим здесь \"покупка автомобиля\"\n",
    "2. Что касается образования, то с одной стороны я бы оставила просто образование. Если у нас есть колонка возраст, то это дополнительно даст нам понимание, и мы можем понимать, что есть age = 16 который хочет взять заем или age = 30 который хочет взять заем. С другой стороны age = 23 также может брать заем на высшее как первое так и на второе. Но все это объединяет то, что в случае не выплаты банк не сможет явно взять что-то существенное, по этому оставим это как \"нецелевой потребительский кредит\"\n",
    "3. Со свадьбой всего 3 значения и сводятся к \"свадьба\" - это нецелевой потребительский кредит, банк в случае невыплат по кредиту ничего забрать обратно не сможет. Объединим с ремонтом в \"нецелевой потребительский кредит\"\n",
    "4. С недвижимостью сложнее. С одной стороны это ликвид для банка, но если это **строительство** собственной недвижимости, то это похоже на нецелевой кредит, то есть ипотека, но банк не знает что в итоге будет построено, ему никто гарантий не дает, а мы знаем что кредит выдают физ лицам. **Строительство** недвижимости все же будем считать что это не коммерческая недвижимость, а жилая, так как для того что бы построить такую ему надо зарегать юр. лицо. Если речь идет о **коммерческой/жилой** недвижимости думаю стоит объединить в одно, тут не вижу принципиальной разницы, другие факторы будут не менее важными. По **операциям** с недвижимостью не ясно что это"
   ]
  },
  {
   "cell_type": "code",
   "execution_count": 326,
   "metadata": {},
   "outputs": [],
   "source": [
    "def cat_purpose(purpose):\n",
    "    lemma = m.lemmatize(purpose)\n",
    "    if 'автомобиль' in lemma:\n",
    "        return \"покупка автомобиля\"\n",
    "    elif 'дополнительный' in lemma and 'образование' in lemma:\n",
    "        return \"нецелевой потребительский кредит\"\n",
    "    elif 'высокий' in lemma and 'образование' in lemma:\n",
    "        return \"нецелевой потребительский кредит\"\n",
    "    elif \"образование\" in lemma:\n",
    "        return \"нецелевой потребительский кредит\"\n",
    "    elif (\"свадьба\" in lemma or \"ремонт\" in lemma):\n",
    "        return \"нецелевой потребительский кредит\"\n",
    "    elif (\"операция\" in lemma and \"недвижимость\" in lemma) or (\"операция\" in lemma and \"жилье\" in lemma):\n",
    "        return \"нецелевой потребительский кредит\"\n",
    "    elif \"строительство\" in lemma and \"недвижимость\" in lemma:\n",
    "        return \"нецелевой потребительский кредит\"\n",
    "    elif (\"покупка\" in lemma and \"недвижимость\" in lemma) or (\"покупка\" in lemma and \"жилье\" in lemma):\n",
    "        return \"покупка недвижимости\"\n",
    "    elif \"недвижимость\" in lemma or \"жилье\" in lemma:\n",
    "        return \"нецелевой потребительский кредит\""
   ]
  },
  {
   "cell_type": "code",
   "execution_count": 327,
   "metadata": {},
   "outputs": [
    {
     "data": {
      "text/plain": [
       "нецелевой потребительский кредит    12658\n",
       "покупка недвижимости                 4425\n",
       "покупка автомобиля                   4286\n",
       "Name: purpose, dtype: int64"
      ]
     },
     "execution_count": 327,
     "metadata": {},
     "output_type": "execute_result"
    }
   ],
   "source": [
    "df['purpose'] = df['purpose'].apply(cat_purpose)\n",
    "df['purpose'].value_counts()"
   ]
  },
  {
   "cell_type": "markdown",
   "metadata": {},
   "source": [
    "**Вывод**"
   ]
  },
  {
   "cell_type": "markdown",
   "metadata": {},
   "source": [
    "Мы обработали данные категории purpose и выявили что у нас в основе своей повторяющиеся слова, а также свели их к 3-м категориям по признаку цели покупки: целевая - это машина или недвижимость и нецелевая покупка. Да, возможно здесь можно было бы выделить больше категорий, но я подходила исходя как если бы это разделение делал банк"
   ]
  },
  {
   "cell_type": "markdown",
   "metadata": {},
   "source": [
    "### Категоризация данных"
   ]
  },
  {
   "cell_type": "code",
   "execution_count": 328,
   "metadata": {
    "scrolled": true
   },
   "outputs": [
    {
     "data": {
      "text/plain": [
       "среднее                13646\n",
       "высшее                  4678\n",
       "СРЕДНЕЕ                  770\n",
       "Среднее                  708\n",
       "неоконченное высшее      665\n",
       "ВЫСШЕЕ                   272\n",
       "Высшее                   266\n",
       "начальное                250\n",
       "Неоконченное высшее       47\n",
       "НЕОКОНЧЕННОЕ ВЫСШЕЕ       29\n",
       "НАЧАЛЬНОЕ                 17\n",
       "Начальное                 15\n",
       "ученая степень             4\n",
       "Ученая степень             1\n",
       "УЧЕНАЯ СТЕПЕНЬ             1\n",
       "Name: education, dtype: int64"
      ]
     },
     "execution_count": 328,
     "metadata": {},
     "output_type": "execute_result"
    }
   ],
   "source": [
    "df['education'].value_counts()"
   ]
  },
  {
   "cell_type": "code",
   "execution_count": 329,
   "metadata": {},
   "outputs": [
    {
     "data": {
      "text/plain": [
       "1    15124\n",
       "0     5216\n",
       "2      741\n",
       "3      282\n",
       "4        6\n",
       "Name: education_id, dtype: int64"
      ]
     },
     "execution_count": 329,
     "metadata": {},
     "output_type": "execute_result"
    }
   ],
   "source": [
    "df['education_id'].value_counts()"
   ]
  },
  {
   "cell_type": "markdown",
   "metadata": {},
   "source": [
    "Мы видим, что в столбце education есть повторы, и если их свести к единому формату, то у нас также как и в education_id будет 5 категорий, сделаем это"
   ]
  },
  {
   "cell_type": "code",
   "execution_count": 330,
   "metadata": {},
   "outputs": [],
   "source": [
    "df['education'] = df['education'].str.lower()"
   ]
  },
  {
   "cell_type": "code",
   "execution_count": 331,
   "metadata": {},
   "outputs": [
    {
     "data": {
      "text/plain": [
       "education\n",
       "ученая степень             6\n",
       "начальное                282\n",
       "неоконченное высшее      741\n",
       "высшее                  5216\n",
       "среднее                15124\n",
       "Name: education_id, dtype: int64"
      ]
     },
     "execution_count": 331,
     "metadata": {},
     "output_type": "execute_result"
    }
   ],
   "source": [
    "df.groupby('education')['education_id'].count().sort_values()"
   ]
  },
  {
   "cell_type": "markdown",
   "metadata": {},
   "source": [
    "Мы видим что категории education и education_id совпадают, при это числовые значения id не отражают какой либо зависимости, то есть за числами нет логики. Так как это повторяющийся столбец, то его стоит удалить. В будущем, если нам надо будет использовать числовое значение, то мы можем перевести в числа "
   ]
  },
  {
   "cell_type": "code",
   "execution_count": 332,
   "metadata": {},
   "outputs": [
    {
     "name": "stdout",
     "output_type": "stream",
     "text": [
      "<class 'pandas.core.frame.DataFrame'>\n",
      "RangeIndex: 21369 entries, 0 to 21368\n",
      "Data columns (total 11 columns):\n",
      "children            21369 non-null int64\n",
      "days_employed       21369 non-null float64\n",
      "age                 21369 non-null uint8\n",
      "education           21369 non-null object\n",
      "family_status       21369 non-null object\n",
      "family_status_id    21369 non-null uint8\n",
      "gender              21369 non-null int64\n",
      "income_type         21369 non-null object\n",
      "debt                21369 non-null uint8\n",
      "total_income        21369 non-null float32\n",
      "purpose             21369 non-null object\n",
      "dtypes: float32(1), float64(1), int64(2), object(4), uint8(3)\n",
      "memory usage: 1.3+ MB\n"
     ]
    }
   ],
   "source": [
    "df = df.drop(['education_id'], axis=1)\n",
    "df.info()"
   ]
  },
  {
   "cell_type": "code",
   "execution_count": 333,
   "metadata": {},
   "outputs": [
    {
     "data": {
      "text/plain": [
       "family_status\n",
       "вдовец / вдова             954\n",
       "в разводе                 1185\n",
       "Не женат / не замужем     2794\n",
       "гражданский брак          4141\n",
       "женат / замужем          12295\n",
       "Name: family_status_id, dtype: int64"
      ]
     },
     "execution_count": 333,
     "metadata": {},
     "output_type": "execute_result"
    }
   ],
   "source": [
    "df.groupby('family_status')['family_status_id'].count().sort_values()"
   ]
  },
  {
   "cell_type": "markdown",
   "metadata": {},
   "source": [
    "Аналогично поступим и тут с family_status_id"
   ]
  },
  {
   "cell_type": "code",
   "execution_count": 334,
   "metadata": {},
   "outputs": [
    {
     "name": "stdout",
     "output_type": "stream",
     "text": [
      "<class 'pandas.core.frame.DataFrame'>\n",
      "RangeIndex: 21369 entries, 0 to 21368\n",
      "Data columns (total 10 columns):\n",
      "children         21369 non-null int64\n",
      "days_employed    21369 non-null float64\n",
      "age              21369 non-null uint8\n",
      "education        21369 non-null object\n",
      "family_status    21369 non-null object\n",
      "gender           21369 non-null int64\n",
      "income_type      21369 non-null object\n",
      "debt             21369 non-null uint8\n",
      "total_income     21369 non-null float32\n",
      "purpose          21369 non-null object\n",
      "dtypes: float32(1), float64(1), int64(2), object(4), uint8(2)\n",
      "memory usage: 1.3+ MB\n"
     ]
    }
   ],
   "source": [
    "df = df.drop(['family_status_id'], axis=1)\n",
    "df.info()"
   ]
  },
  {
   "cell_type": "markdown",
   "metadata": {},
   "source": [
    "При этом гражданский брак и женат / замужем строго говоря с юридической точки зрения - одно и тоже - объединим в одну категорию(а главное для банка это одно и тоже)"
   ]
  },
  {
   "cell_type": "code",
   "execution_count": 335,
   "metadata": {},
   "outputs": [
    {
     "data": {
      "text/plain": [
       "женат / замужем          16436\n",
       "Не женат / не замужем     2794\n",
       "в разводе                 1185\n",
       "вдовец / вдова             954\n",
       "Name: family_status, dtype: int64"
      ]
     },
     "execution_count": 335,
     "metadata": {},
     "output_type": "execute_result"
    }
   ],
   "source": [
    "df['family_status'] = df['family_status'].replace('гражданский брак', 'женат / замужем')\n",
    "df['family_status'].value_counts()"
   ]
  },
  {
   "cell_type": "code",
   "execution_count": 336,
   "metadata": {},
   "outputs": [
    {
     "data": {
      "text/plain": [
       "сотрудник          11036\n",
       "компаньон           5059\n",
       "пенсионер           3817\n",
       "госслужащий         1451\n",
       "предприниматель        2\n",
       "безработный            2\n",
       "в декрете              1\n",
       "студент                1\n",
       "Name: income_type, dtype: int64"
      ]
     },
     "execution_count": 336,
     "metadata": {},
     "output_type": "execute_result"
    }
   ],
   "source": [
    "df['income_type'].value_counts()"
   ]
  },
  {
   "cell_type": "markdown",
   "metadata": {},
   "source": [
    "Здесь я бы также объединила \"сотрудник\" и \"компаньон\", так как по сути для банка это одна категория наемные рабочие"
   ]
  },
  {
   "cell_type": "code",
   "execution_count": 337,
   "metadata": {},
   "outputs": [
    {
     "data": {
      "text/plain": [
       "работник           16095\n",
       "пенсионер           3817\n",
       "госслужащий         1451\n",
       "предприниматель        2\n",
       "безработный            2\n",
       "в декрете              1\n",
       "студент                1\n",
       "Name: income_type, dtype: int64"
      ]
     },
     "execution_count": 337,
     "metadata": {},
     "output_type": "execute_result"
    }
   ],
   "source": [
    "df['income_type'] = df['income_type'].replace('сотрудник', 'работник')\n",
    "df['income_type'] = df['income_type'].replace('компаньон', 'работник')\n",
    "df['income_type'].value_counts()"
   ]
  },
  {
   "cell_type": "markdown",
   "metadata": {},
   "source": [
    "**Вывод**"
   ]
  },
  {
   "cell_type": "markdown",
   "metadata": {},
   "source": [
    "1. Мы удалили дублирующие уже категории столбцы,\n",
    "2. Объединили категории там, где у нас были caps lock или иные по смыслу одинаковые категории"
   ]
  },
  {
   "cell_type": "markdown",
   "metadata": {},
   "source": [
    "## Шаг 3. Ответьте на вопросы"
   ]
  },
  {
   "cell_type": "markdown",
   "metadata": {},
   "source": [
    "- Есть ли зависимость между наличием детей и возвратом кредита в срок?"
   ]
  },
  {
   "cell_type": "code",
   "execution_count": 338,
   "metadata": {},
   "outputs": [
    {
     "data": {
      "text/plain": [
       "<matplotlib.axes._subplots.AxesSubplot at 0x7f11a18e7390>"
      ]
     },
     "execution_count": 338,
     "metadata": {},
     "output_type": "execute_result"
    },
    {
     "data": {
      "image/png": "[encoded data removed]",
      "text/plain": [
       "<Figure size 432x288 with 1 Axes>"
      ]
     },
     "metadata": {
      "needs_background": "light"
     },
     "output_type": "display_data"
    }
   ],
   "source": [
    "df[df['debt'] == 0]['children'].hist(log=True, alpha=0.5)\n",
    "df[df['debt'] == 1]['children'].hist(log=True)"
   ]
  },
  {
   "cell_type": "markdown",
   "metadata": {},
   "source": [
    "На графике видно, что чем больше детей тем меньше таких наблюдений, а также что  снижение происходит примерно одинаково на обоих графиках"
   ]
  },
  {
   "cell_type": "code",
   "execution_count": 339,
   "metadata": {},
   "outputs": [
    {
     "data": {
      "text/plain": [
       "0.607375169638261"
      ]
     },
     "execution_count": 339,
     "metadata": {},
     "output_type": "execute_result"
    }
   ],
   "source": [
    "df[(df['debt'] == 0) & (df['children'] == 0)]['children'].count() / len(df)"
   ]
  },
  {
   "cell_type": "markdown",
   "metadata": {},
   "source": [
    "~60% не имели задолженность из тех у кого нет детей"
   ]
  },
  {
   "cell_type": "code",
   "execution_count": 340,
   "metadata": {},
   "outputs": [
    {
     "data": {
      "text/plain": [
       "0.3115260423978661"
      ]
     },
     "execution_count": 340,
     "metadata": {},
     "output_type": "execute_result"
    }
   ],
   "source": [
    "df[(df['debt'] == 0) & (df['children'] > 0)]['children'].count() / len(df)"
   ]
  },
  {
   "cell_type": "markdown",
   "metadata": {},
   "source": [
    "~31% не имели задолженность из тех у кого есть дети"
   ]
  },
  {
   "cell_type": "code",
   "execution_count": 341,
   "metadata": {},
   "outputs": [
    {
     "data": {
      "text/plain": [
       "0.04951097384061023"
      ]
     },
     "execution_count": 341,
     "metadata": {},
     "output_type": "execute_result"
    }
   ],
   "source": [
    "df[(df['debt'] == 1) & (df['children'] == 0)]['children'].count() / len(df)"
   ]
  },
  {
   "cell_type": "markdown",
   "metadata": {},
   "source": [
    "~5% имели задолженность из тех у кого нет детей"
   ]
  },
  {
   "cell_type": "code",
   "execution_count": 342,
   "metadata": {},
   "outputs": [
    {
     "data": {
      "text/plain": [
       "0.03158781412326267"
      ]
     },
     "execution_count": 342,
     "metadata": {},
     "output_type": "execute_result"
    }
   ],
   "source": [
    "df[(df['debt'] == 1) & (df['children'] > 0)]['children'].count() / len(df)"
   ]
  },
  {
   "cell_type": "markdown",
   "metadata": {},
   "source": [
    "~3% имели задолженность из тех у кого есть дети"
   ]
  },
  {
   "cell_type": "code",
   "execution_count": 343,
   "metadata": {},
   "outputs": [
    {
     "data": {
      "text/plain": [
       "0.34065934065934067"
      ]
     },
     "execution_count": 343,
     "metadata": {},
     "output_type": "execute_result"
    }
   ],
   "source": [
    "31 / 91"
   ]
  },
  {
   "cell_type": "code",
   "execution_count": 344,
   "metadata": {},
   "outputs": [
    {
     "data": {
      "text/plain": [
       "0.375"
      ]
     },
     "execution_count": 344,
     "metadata": {},
     "output_type": "execute_result"
    }
   ],
   "source": [
    "3 / 8"
   ]
  },
  {
   "cell_type": "markdown",
   "metadata": {},
   "source": [
    "**Вывод**"
   ]
  },
  {
   "cell_type": "markdown",
   "metadata": {},
   "source": [
    "Из 91% кто не имеет задолженность у 60% нет детей,\n",
    "И при этом из 9% что имеют задолженность - 5% не имеют детей. \n",
    "То есть в обоих выборках для тех кто имеет задолженность и тех кто не имеет большая часть не имеет детей. \n",
    "Среди тех кто не имел задолженность дети есть у 34%, а среди тех кто имел - 37,5%, то есть слабая зависимость от количества детей есть"
   ]
  },
  {
   "cell_type": "markdown",
   "metadata": {},
   "source": [
    "- Есть ли зависимость между семейным положением и возвратом кредита в срок?"
   ]
  },
  {
   "cell_type": "code",
   "execution_count": 345,
   "metadata": {},
   "outputs": [
    {
     "name": "stdout",
     "output_type": "stream",
     "text": [
      "В категории 'женат / замужем' отношение невозвратов к всем наблюдениям по этой категории: 8.0%\n",
      "В категории 'вдовец / вдова' отношение невозвратов к всем наблюдениям по этой категории: 6.5%\n",
      "В категории 'в разводе' отношение невозвратов к всем наблюдениям по этой категории: 7.2%\n",
      "В категории 'Не женат / не замужем' отношение невозвратов к всем наблюдениям по этой категории: 9.8%\n"
     ]
    }
   ],
   "source": [
    "for status in list(df['family_status'].unique()):\n",
    "    stat = []\n",
    "    for d in list(df['debt'].unique()):\n",
    "        pers = df[(df['family_status'] == status) & (df['debt'] == d)]['debt'].count() / len(df)\n",
    "        stat.append(pers)\n",
    "        if len(stat) == len(list(df['debt'].unique())):\n",
    "            print(f\"В категории '{status}' отношение невозвратов к всем наблюдениям по этой категории: {stat[1]/(stat[0] + stat[1]):.1%}\")\n",
    "        # print(f\"{pers:.2%} для статус {status} и debt={d}\")"
   ]
  },
  {
   "cell_type": "markdown",
   "metadata": {},
   "source": [
    "**Вывод**"
   ]
  },
  {
   "cell_type": "markdown",
   "metadata": {},
   "source": [
    "Большая доля невозвратов среди неженатых и незамужних, а наименьшая доля невозвратов среди вдов и вдовцов."
   ]
  },
  {
   "cell_type": "markdown",
   "metadata": {},
   "source": [
    "- Есть ли зависимость между уровнем дохода и возвратом кредита в срок?"
   ]
  },
  {
   "cell_type": "markdown",
   "metadata": {},
   "source": [
    "Здесь по аналогии с анализом выше можно было бы для каждого наблюдения или категории посчитать, но их вариативность слишком большая, посмотрим на распределение и разобьем на диапазоны"
   ]
  },
  {
   "cell_type": "code",
   "execution_count": 346,
   "metadata": {
    "scrolled": true
   },
   "outputs": [
    {
     "data": {
      "text/plain": [
       "<matplotlib.axes._subplots.AxesSubplot at 0x7f11ef042f10>"
      ]
     },
     "execution_count": 346,
     "metadata": {},
     "output_type": "execute_result"
    },
    {
     "data": {
      "image/png": "[encoded data removed]",
      "text/plain": [
       "<Figure size 432x288 with 1 Axes>"
      ]
     },
     "metadata": {
      "needs_background": "light"
     },
     "output_type": "display_data"
    }
   ],
   "source": [
    "df[df['debt'] == 0]['total_income'].hist(log=True, bins=50)\n",
    "df[df['debt'] == 1]['total_income'].hist(log=True, bins=50)"
   ]
  },
  {
   "cell_type": "code",
   "execution_count": 347,
   "metadata": {},
   "outputs": [
    {
     "data": {
      "text/plain": [
       "count    2.136900e+04\n",
       "mean     1.509278e+05\n",
       "std      1.098811e+05\n",
       "min      0.000000e+00\n",
       "25%      8.895144e+04\n",
       "50%      1.357190e+05\n",
       "75%      1.957379e+05\n",
       "max      2.265604e+06\n",
       "Name: total_income, dtype: float64"
      ]
     },
     "execution_count": 347,
     "metadata": {},
     "output_type": "execute_result"
    }
   ],
   "source": [
    "df['total_income'].describe()"
   ]
  },
  {
   "cell_type": "code",
   "execution_count": 348,
   "metadata": {
    "scrolled": true
   },
   "outputs": [
    {
     "data": {
      "text/plain": [
       "<matplotlib.axes._subplots.AxesSubplot at 0x7f11a1587d90>"
      ]
     },
     "execution_count": 348,
     "metadata": {},
     "output_type": "execute_result"
    },
    {
     "data": {
      "image/png": "[encoded data removed]",
      "text/plain": [
       "<Figure size 432x288 with 1 Axes>"
      ]
     },
     "metadata": {
      "needs_background": "light"
     },
     "output_type": "display_data"
    }
   ],
   "source": [
    "df['total_income'].hist(log=True)"
   ]
  },
  {
   "cell_type": "code",
   "execution_count": 354,
   "metadata": {
    "scrolled": true
   },
   "outputs": [
    {
     "name": "stdout",
     "output_type": "stream",
     "text": [
      "Диапозон дохода: 0.0 - 88951.4375\n",
      "В категории 'first' отношение невозвратов к всем наблюдениям по этой категории: 7.8%\n",
      "Диапозон дохода: 88951.4375 - 135719.0\n",
      "В категории 'second' отношение невозвратов к всем наблюдениям по этой категории: 8.4%\n",
      "Диапозон дохода: 135719.0 - 195737.890625\n",
      "В категории 'third' отношение невозвратов к всем наблюдениям по этой категории: 9.0%\n",
      "Диапозон дохода: 195737.890625 - 2265604.0\n",
      "В категории 'fourth' отношение невозвратов к всем наблюдениям по этой категории: 7.2%\n"
     ]
    }
   ],
   "source": [
    "income = {\n",
    "    'first': [df['total_income'].min(), df['total_income'].quantile(0.25)],\n",
    "    'second': [df['total_income'].quantile(0.25), df['total_income'].median()],\n",
    "    'third': [df['total_income'].median(), df['total_income'].quantile(0.75)],\n",
    "    'fourth': [df['total_income'].quantile(0.75), df['total_income'].max()],\n",
    "}\n",
    "\n",
    "for key, value in income.items():\n",
    "    stat = []\n",
    "    for d in list(df['debt'].unique()):\n",
    "        selection = df[(df['total_income'] >= value[0]) & (df['total_income'] < value[1]) & (df['debt'] == d)]['debt'].count()\n",
    "        pers = selection / len(df)\n",
    "        stat.append(pers)\n",
    "        if len(stat) == len(list(df['debt'].unique())):\n",
    "            print(f\"Диапозон дохода: {value[0]} - {value[1]}\")\n",
    "            print(f\"В категории '{key}' отношение невозвратов к всем наблюдениям по этой категории: {stat[1]/(stat[0] + stat[1]):.1%}\")\n",
    "        # print(f\"{pers:.2%} для статус {status} и debt={d}\")"
   ]
  },
  {
   "cell_type": "markdown",
   "metadata": {},
   "source": [
    "**Вывод**"
   ]
  },
  {
   "cell_type": "markdown",
   "metadata": {},
   "source": [
    "Получается, что чем больше доход - тем больше должников, по крайней мере эта тенденция видна в первых трех группах, а в последней доля даже ниже чем в первой, что может говорить и о не репрезентативной выборке или выбросах или всеже богатые реже берут кредиты или берут меньшие кредиты."
   ]
  },
  {
   "cell_type": "markdown",
   "metadata": {},
   "source": [
    "- Как разные цели кредита влияют на его возврат в срок?"
   ]
  },
  {
   "cell_type": "code",
   "execution_count": 350,
   "metadata": {},
   "outputs": [
    {
     "data": {
      "text/plain": [
       "нецелевой потребительский кредит    12658\n",
       "покупка недвижимости                 4425\n",
       "покупка автомобиля                   4286\n",
       "Name: purpose, dtype: int64"
      ]
     },
     "execution_count": 350,
     "metadata": {},
     "output_type": "execute_result"
    }
   ],
   "source": [
    "df['purpose'].value_counts()"
   ]
  },
  {
   "cell_type": "code",
   "execution_count": 382,
   "metadata": {},
   "outputs": [
    {
     "name": "stdout",
     "output_type": "stream",
     "text": [
      "В категории 'покупка недвижимости' отношение невозвратов к всем наблюдениям по этой категории: 7.0%\n",
      "В категории 'покупка автомобиля' отношение невозвратов к всем наблюдениям по этой категории: 9.3%\n",
      "В категории 'нецелевой потребительский кредит' отношение невозвратов к всем наблюдениям по этой категории: 8.1%\n"
     ]
    }
   ],
   "source": [
    "for status in list(df['purpose'].unique()):\n",
    "    stat = []\n",
    "    for d in list(df['debt'].unique()):\n",
    "        pers = df[(df['purpose'] == status) & (df['debt'] == d)]['debt'].count() / len(df)\n",
    "        stat.append(pers)\n",
    "        if len(stat) == len(list(df['debt'].unique())):\n",
    "            print(f\"В категории '{status}' отношение невозвратов к всем наблюдениям по этой категории: {stat[1]/(stat[0] + stat[1]):.1%}\")\n",
    "        # print(f\"{pers:.2%} для статус {status} и debt={d}\")"
   ]
  },
  {
   "cell_type": "markdown",
   "metadata": {},
   "source": [
    "**Вывод**"
   ]
  },
  {
   "cell_type": "markdown",
   "metadata": {},
   "source": [
    "Я вижу что 'покупка недвижимости' имеет самый низкий процент невозвратов, в то время как покупка авто самый высокий. "
   ]
  },
  {
   "cell_type": "markdown",
   "metadata": {},
   "source": [
    "## Шаг 4. Общий вывод"
   ]
  },
  {
   "cell_type": "markdown",
   "metadata": {
    "pycharm": {
     "name": "#%% md\n"
    }
   },
   "source": [
    "1. 66% людей, не имеющих задолженности по кредиту не имеют детей(60*100/91).\n",
    "2. 9.8% в категории \"не женатых / не замужних\" имеют задолженности против 6.5% в категории 'вдовец / вдова'. Кредитовать выгоднее вдов и вдовцов.\n",
    "3. Наибольшая доля должников находится в диапазоне зарплат между 135719 и 195737 - их 9%. Выгоднее давать кредит тем, у кого диапазон зарплаты выше 195737 - доля невозвратов в этой категории 7.2%\n",
    "4. Выгоднее всего давать ипотечные кредиты - 93% исправно их выплачивают, при этом наимее выгодно давать кредит на покупку авто - 9.3% таких кредитов имеют задолженности.\n",
    "5. Таким образом наибольшая вероятность **не иметь задолженности** по кредиту на недвижимость у бездетных вдовцов с доходом выше 195737. А наибольшая вероятность **иметь задолженность** у наблюдей, берущих кредит на автомобиль, имеющих детей, не замужних/не женатых с доходом между 135718 и 195737."
   ]
  }
 ],
 "metadata": {
  "ExecuteTimeLog": [
   {
    "duration": 3,
    "start_time": "2021-10-18T18:44:32.361Z"
   },
   {
    "duration": 1942,
    "start_time": "2021-10-18T18:44:37.312Z"
   },
   {
    "duration": 189,
    "start_time": "2021-10-18T18:44:42.813Z"
   },
   {
    "duration": 466,
    "start_time": "2021-10-18T18:44:58.453Z"
   },
   {
    "duration": 8,
    "start_time": "2021-10-18T18:45:01.356Z"
   },
   {
    "duration": 24,
    "start_time": "2021-10-18T18:45:28.657Z"
   },
   {
    "duration": 3,
    "start_time": "2021-10-18T18:45:45.966Z"
   },
   {
    "duration": 55,
    "start_time": "2021-10-18T18:45:46.286Z"
   },
   {
    "duration": 7,
    "start_time": "2021-10-18T18:45:46.658Z"
   },
   {
    "duration": 11,
    "start_time": "2021-10-18T18:45:48.113Z"
   },
   {
    "duration": 11,
    "start_time": "2021-10-18T18:47:49.050Z"
   },
   {
    "duration": 8,
    "start_time": "2021-10-18T18:48:19.805Z"
   },
   {
    "duration": 11,
    "start_time": "2021-10-18T18:49:03.322Z"
   },
   {
    "duration": 5,
    "start_time": "2021-10-18T18:51:26.068Z"
   },
   {
    "duration": 9,
    "start_time": "2021-10-18T18:52:07.721Z"
   },
   {
    "duration": 250,
    "start_time": "2021-10-18T18:52:15.570Z"
   },
   {
    "duration": 13,
    "start_time": "2021-10-18T18:52:29.080Z"
   },
   {
    "duration": 24,
    "start_time": "2021-10-18T18:52:45.140Z"
   },
   {
    "duration": 96,
    "start_time": "2021-10-18T18:52:56.660Z"
   },
   {
    "duration": 14,
    "start_time": "2021-10-18T18:53:12.088Z"
   },
   {
    "duration": 6471,
    "start_time": "2021-10-18T18:54:55.422Z"
   },
   {
    "duration": 4,
    "start_time": "2021-10-18T18:55:42.894Z"
   },
   {
    "duration": 230,
    "start_time": "2021-10-18T18:55:50.410Z"
   },
   {
    "duration": 6,
    "start_time": "2021-10-18T18:56:48.555Z"
   },
   {
    "duration": 16,
    "start_time": "2021-10-18T18:57:04.459Z"
   },
   {
    "duration": 10,
    "start_time": "2021-10-18T18:57:11.696Z"
   },
   {
    "duration": 6,
    "start_time": "2021-10-18T18:57:19.285Z"
   },
   {
    "duration": 271,
    "start_time": "2021-10-18T18:57:20.362Z"
   },
   {
    "duration": 3,
    "start_time": "2021-10-18T19:00:12.342Z"
   },
   {
    "duration": 54,
    "start_time": "2021-10-18T19:00:12.347Z"
   },
   {
    "duration": 3,
    "start_time": "2021-10-18T19:00:12.403Z"
   },
   {
    "duration": 14,
    "start_time": "2021-10-18T19:00:12.408Z"
   },
   {
    "duration": 22,
    "start_time": "2021-10-18T19:00:12.423Z"
   },
   {
    "duration": 12,
    "start_time": "2021-10-18T19:00:12.447Z"
   },
   {
    "duration": 7,
    "start_time": "2021-10-18T19:00:12.461Z"
   },
   {
    "duration": 16,
    "start_time": "2021-10-18T19:00:12.471Z"
   },
   {
    "duration": 5,
    "start_time": "2021-10-18T19:00:12.490Z"
   },
   {
    "duration": 11,
    "start_time": "2021-10-18T19:00:12.497Z"
   },
   {
    "duration": 44,
    "start_time": "2021-10-18T19:00:12.509Z"
   },
   {
    "duration": 16,
    "start_time": "2021-10-18T19:00:12.554Z"
   },
   {
    "duration": 13,
    "start_time": "2021-10-18T19:00:12.572Z"
   },
   {
    "duration": 187,
    "start_time": "2021-10-18T19:00:12.586Z"
   },
   {
    "duration": 5,
    "start_time": "2021-10-18T19:00:14.853Z"
   },
   {
    "duration": 10,
    "start_time": "2021-10-18T19:00:16.076Z"
   },
   {
    "duration": 5,
    "start_time": "2021-10-18T19:02:09.133Z"
   },
   {
    "duration": 9,
    "start_time": "2021-10-18T19:02:10.029Z"
   },
   {
    "duration": 318,
    "start_time": "2021-10-18T19:02:19.527Z"
   },
   {
    "duration": 22,
    "start_time": "2021-10-18T19:02:32.270Z"
   },
   {
    "duration": 10,
    "start_time": "2021-10-18T19:03:19.879Z"
   },
   {
    "duration": 5,
    "start_time": "2021-10-18T19:03:29.008Z"
   },
   {
    "duration": 320,
    "start_time": "2021-10-18T19:03:31.459Z"
   },
   {
    "duration": 6,
    "start_time": "2021-10-18T19:04:02.809Z"
   },
   {
    "duration": 2,
    "start_time": "2021-10-18T19:04:06.688Z"
   },
   {
    "duration": 61,
    "start_time": "2021-10-18T19:04:06.692Z"
   },
   {
    "duration": 3,
    "start_time": "2021-10-18T19:04:06.755Z"
   },
   {
    "duration": 20,
    "start_time": "2021-10-18T19:04:06.760Z"
   },
   {
    "duration": 7,
    "start_time": "2021-10-18T19:04:06.782Z"
   },
   {
    "duration": 12,
    "start_time": "2021-10-18T19:04:06.791Z"
   },
   {
    "duration": 21,
    "start_time": "2021-10-18T19:04:06.805Z"
   },
   {
    "duration": 15,
    "start_time": "2021-10-18T19:04:06.827Z"
   },
   {
    "duration": 12,
    "start_time": "2021-10-18T19:04:06.844Z"
   },
   {
    "duration": 15,
    "start_time": "2021-10-18T19:04:06.858Z"
   },
   {
    "duration": 20,
    "start_time": "2021-10-18T19:04:06.875Z"
   },
   {
    "duration": 14,
    "start_time": "2021-10-18T19:04:06.897Z"
   },
   {
    "duration": 15,
    "start_time": "2021-10-18T19:04:06.913Z"
   },
   {
    "duration": 170,
    "start_time": "2021-10-18T19:04:06.930Z"
   },
   {
    "duration": 5,
    "start_time": "2021-10-18T19:04:07.102Z"
   },
   {
    "duration": 5,
    "start_time": "2021-10-18T19:04:08.973Z"
   },
   {
    "duration": 10,
    "start_time": "2021-10-18T19:04:10.528Z"
   },
   {
    "duration": 10,
    "start_time": "2021-10-18T19:04:14.736Z"
   },
   {
    "duration": 23,
    "start_time": "2021-10-18T19:04:33.966Z"
   },
   {
    "duration": 725,
    "start_time": "2021-10-18T19:06:14.852Z"
   },
   {
    "duration": 273,
    "start_time": "2021-10-18T19:06:22.462Z"
   },
   {
    "duration": 4,
    "start_time": "2021-10-18T19:06:26.743Z"
   },
   {
    "duration": 74,
    "start_time": "2021-10-18T19:06:26.750Z"
   },
   {
    "duration": 4,
    "start_time": "2021-10-18T19:06:26.827Z"
   },
   {
    "duration": 23,
    "start_time": "2021-10-18T19:06:26.834Z"
   },
   {
    "duration": 12,
    "start_time": "2021-10-18T19:06:26.860Z"
   },
   {
    "duration": 13,
    "start_time": "2021-10-18T19:06:26.874Z"
   },
   {
    "duration": 10,
    "start_time": "2021-10-18T19:06:26.889Z"
   },
   {
    "duration": 80,
    "start_time": "2021-10-18T19:06:26.902Z"
   },
   {
    "duration": 5,
    "start_time": "2021-10-18T19:06:26.984Z"
   },
   {
    "duration": 9,
    "start_time": "2021-10-18T19:06:26.991Z"
   },
   {
    "duration": 19,
    "start_time": "2021-10-18T19:06:27.002Z"
   },
   {
    "duration": 37,
    "start_time": "2021-10-18T19:06:27.022Z"
   },
   {
    "duration": 16,
    "start_time": "2021-10-18T19:06:27.060Z"
   },
   {
    "duration": 214,
    "start_time": "2021-10-18T19:06:27.078Z"
   },
   {
    "duration": 6,
    "start_time": "2021-10-18T19:06:27.294Z"
   },
   {
    "duration": 5,
    "start_time": "2021-10-18T19:06:28.800Z"
   },
   {
    "duration": 301,
    "start_time": "2021-10-18T19:06:29.656Z"
   },
   {
    "duration": 282,
    "start_time": "2021-10-18T19:06:51.092Z"
   },
   {
    "duration": 2,
    "start_time": "2021-10-18T19:06:58.303Z"
   },
   {
    "duration": 54,
    "start_time": "2021-10-18T19:06:58.307Z"
   },
   {
    "duration": 3,
    "start_time": "2021-10-18T19:06:58.363Z"
   },
   {
    "duration": 14,
    "start_time": "2021-10-18T19:06:58.368Z"
   },
   {
    "duration": 4,
    "start_time": "2021-10-18T19:06:58.384Z"
   },
   {
    "duration": 7,
    "start_time": "2021-10-18T19:06:58.390Z"
   },
   {
    "duration": 7,
    "start_time": "2021-10-18T19:06:58.399Z"
   },
   {
    "duration": 36,
    "start_time": "2021-10-18T19:06:58.408Z"
   },
   {
    "duration": 5,
    "start_time": "2021-10-18T19:06:58.447Z"
   },
   {
    "duration": 13,
    "start_time": "2021-10-18T19:06:58.454Z"
   },
   {
    "duration": 13,
    "start_time": "2021-10-18T19:06:58.468Z"
   },
   {
    "duration": 19,
    "start_time": "2021-10-18T19:06:58.482Z"
   },
   {
    "duration": 11,
    "start_time": "2021-10-18T19:06:58.502Z"
   },
   {
    "duration": 204,
    "start_time": "2021-10-18T19:06:58.514Z"
   },
   {
    "duration": 6,
    "start_time": "2021-10-18T19:06:59.799Z"
   },
   {
    "duration": 10,
    "start_time": "2021-10-18T19:07:00.813Z"
   },
   {
    "duration": 6,
    "start_time": "2021-10-18T19:07:09.212Z"
   },
   {
    "duration": 11,
    "start_time": "2021-10-18T19:07:18.322Z"
   },
   {
    "duration": 4,
    "start_time": "2021-10-18T19:07:33.969Z"
   },
   {
    "duration": 69,
    "start_time": "2021-10-18T19:07:33.975Z"
   },
   {
    "duration": 4,
    "start_time": "2021-10-18T19:07:34.047Z"
   },
   {
    "duration": 18,
    "start_time": "2021-10-18T19:07:34.054Z"
   },
   {
    "duration": 7,
    "start_time": "2021-10-18T19:07:34.074Z"
   },
   {
    "duration": 10,
    "start_time": "2021-10-18T19:07:34.083Z"
   },
   {
    "duration": 7,
    "start_time": "2021-10-18T19:07:34.095Z"
   },
   {
    "duration": 45,
    "start_time": "2021-10-18T19:07:34.105Z"
   },
   {
    "duration": 5,
    "start_time": "2021-10-18T19:07:34.151Z"
   },
   {
    "duration": 10,
    "start_time": "2021-10-18T19:07:34.158Z"
   },
   {
    "duration": 17,
    "start_time": "2021-10-18T19:07:34.170Z"
   },
   {
    "duration": 64,
    "start_time": "2021-10-18T19:07:34.189Z"
   },
   {
    "duration": 12,
    "start_time": "2021-10-18T19:07:34.255Z"
   },
   {
    "duration": 211,
    "start_time": "2021-10-18T19:07:34.269Z"
   },
   {
    "duration": 7,
    "start_time": "2021-10-18T19:07:34.482Z"
   },
   {
    "duration": 17,
    "start_time": "2021-10-18T19:07:34.491Z"
   },
   {
    "duration": 7,
    "start_time": "2021-10-18T19:07:47.807Z"
   },
   {
    "duration": 3,
    "start_time": "2021-10-18T19:08:20.329Z"
   },
   {
    "duration": 28,
    "start_time": "2021-10-18T19:08:20.721Z"
   },
   {
    "duration": 188,
    "start_time": "2021-10-18T19:08:47.566Z"
   },
   {
    "duration": 6,
    "start_time": "2021-10-18T19:09:04.938Z"
   },
   {
    "duration": 2,
    "start_time": "2021-10-18T19:09:27.692Z"
   },
   {
    "duration": 13,
    "start_time": "2021-10-18T19:09:37.824Z"
   },
   {
    "duration": 7,
    "start_time": "2021-10-18T19:09:50.202Z"
   },
   {
    "duration": 171,
    "start_time": "2021-10-18T19:10:06.469Z"
   },
   {
    "duration": 203,
    "start_time": "2021-10-18T19:10:55.566Z"
   },
   {
    "duration": 178,
    "start_time": "2021-10-18T19:11:07.740Z"
   },
   {
    "duration": 7,
    "start_time": "2021-10-18T19:11:34.315Z"
   },
   {
    "duration": 202,
    "start_time": "2021-10-18T19:12:03.226Z"
   },
   {
    "duration": 8,
    "start_time": "2021-10-18T19:12:11.173Z"
   },
   {
    "duration": 4,
    "start_time": "2021-10-18T19:12:33.260Z"
   },
   {
    "duration": 13,
    "start_time": "2021-10-18T19:12:41.544Z"
   },
   {
    "duration": 270,
    "start_time": "2021-10-18T19:12:47.003Z"
   },
   {
    "duration": 11,
    "start_time": "2021-10-18T19:12:57.225Z"
   },
   {
    "duration": 17,
    "start_time": "2021-10-18T19:18:12.500Z"
   },
   {
    "duration": 27,
    "start_time": "2021-10-18T19:18:22.760Z"
   },
   {
    "duration": 12,
    "start_time": "2021-10-18T19:18:40.144Z"
   },
   {
    "duration": 6,
    "start_time": "2021-10-18T19:19:43.878Z"
   },
   {
    "duration": 5,
    "start_time": "2021-10-18T19:19:50.680Z"
   },
   {
    "duration": 12,
    "start_time": "2021-10-18T19:20:05.909Z"
   },
   {
    "duration": 272,
    "start_time": "2021-10-18T19:20:55.352Z"
   },
   {
    "duration": 12,
    "start_time": "2021-10-18T19:21:10.827Z"
   },
   {
    "duration": 10,
    "start_time": "2021-10-18T19:21:41.973Z"
   },
   {
    "duration": 3,
    "start_time": "2021-10-18T19:21:47.460Z"
   },
   {
    "duration": 59,
    "start_time": "2021-10-18T19:21:47.465Z"
   },
   {
    "duration": 3,
    "start_time": "2021-10-18T19:21:47.526Z"
   },
   {
    "duration": 13,
    "start_time": "2021-10-18T19:21:47.531Z"
   },
   {
    "duration": 5,
    "start_time": "2021-10-18T19:21:47.546Z"
   },
   {
    "duration": 10,
    "start_time": "2021-10-18T19:21:47.553Z"
   },
   {
    "duration": 8,
    "start_time": "2021-10-18T19:21:47.566Z"
   },
   {
    "duration": 12,
    "start_time": "2021-10-18T19:21:47.576Z"
   },
   {
    "duration": 5,
    "start_time": "2021-10-18T19:21:47.590Z"
   },
   {
    "duration": 9,
    "start_time": "2021-10-18T19:21:47.597Z"
   },
   {
    "duration": 48,
    "start_time": "2021-10-18T19:21:47.607Z"
   },
   {
    "duration": 16,
    "start_time": "2021-10-18T19:21:47.657Z"
   },
   {
    "duration": 13,
    "start_time": "2021-10-18T19:21:47.675Z"
   },
   {
    "duration": 4,
    "start_time": "2021-10-18T19:21:47.689Z"
   },
   {
    "duration": 9,
    "start_time": "2021-10-18T19:21:47.695Z"
   },
   {
    "duration": 3,
    "start_time": "2021-10-18T19:21:49.273Z"
   },
   {
    "duration": 12,
    "start_time": "2021-10-18T19:21:49.604Z"
   },
   {
    "duration": 12,
    "start_time": "2021-10-18T19:22:03.091Z"
   },
   {
    "duration": 166,
    "start_time": "2021-10-18T19:22:18.130Z"
   },
   {
    "duration": 6,
    "start_time": "2021-10-18T19:22:19.154Z"
   },
   {
    "duration": 9,
    "start_time": "2021-10-18T19:22:20.629Z"
   },
   {
    "duration": 6,
    "start_time": "2021-10-18T19:22:21.171Z"
   },
   {
    "duration": 2,
    "start_time": "2021-10-18T19:22:22.714Z"
   },
   {
    "duration": 29,
    "start_time": "2021-10-18T19:22:23.219Z"
   },
   {
    "duration": 198,
    "start_time": "2021-10-18T19:22:25.442Z"
   },
   {
    "duration": 6,
    "start_time": "2021-10-18T19:22:25.911Z"
   },
   {
    "duration": 15,
    "start_time": "2021-10-18T19:22:57.333Z"
   },
   {
    "duration": 2,
    "start_time": "2021-10-18T19:23:02.825Z"
   },
   {
    "duration": 54,
    "start_time": "2021-10-18T19:23:02.829Z"
   },
   {
    "duration": 3,
    "start_time": "2021-10-18T19:23:02.885Z"
   },
   {
    "duration": 15,
    "start_time": "2021-10-18T19:23:02.890Z"
   },
   {
    "duration": 8,
    "start_time": "2021-10-18T19:23:02.907Z"
   },
   {
    "duration": 30,
    "start_time": "2021-10-18T19:23:02.917Z"
   },
   {
    "duration": 8,
    "start_time": "2021-10-18T19:23:02.948Z"
   },
   {
    "duration": 70,
    "start_time": "2021-10-18T19:23:02.957Z"
   },
   {
    "duration": 4,
    "start_time": "2021-10-18T19:23:03.045Z"
   },
   {
    "duration": 15,
    "start_time": "2021-10-18T19:23:03.051Z"
   },
   {
    "duration": 17,
    "start_time": "2021-10-18T19:23:03.068Z"
   },
   {
    "duration": 21,
    "start_time": "2021-10-18T19:23:03.087Z"
   },
   {
    "duration": 23,
    "start_time": "2021-10-18T19:23:03.110Z"
   },
   {
    "duration": 12,
    "start_time": "2021-10-18T19:23:03.135Z"
   },
   {
    "duration": 12,
    "start_time": "2021-10-18T19:23:03.148Z"
   },
   {
    "duration": 20,
    "start_time": "2021-10-18T19:23:03.162Z"
   },
   {
    "duration": 186,
    "start_time": "2021-10-18T19:23:03.183Z"
   },
   {
    "duration": 8,
    "start_time": "2021-10-18T19:23:03.371Z"
   },
   {
    "duration": 19,
    "start_time": "2021-10-18T19:23:03.380Z"
   },
   {
    "duration": 18,
    "start_time": "2021-10-18T19:23:03.401Z"
   },
   {
    "duration": 13,
    "start_time": "2021-10-18T19:23:03.421Z"
   },
   {
    "duration": 36,
    "start_time": "2021-10-18T19:23:03.436Z"
   },
   {
    "duration": 192,
    "start_time": "2021-10-18T19:23:03.473Z"
   },
   {
    "duration": 7,
    "start_time": "2021-10-18T19:23:03.666Z"
   },
   {
    "duration": 18,
    "start_time": "2021-10-18T19:23:03.675Z"
   },
   {
    "duration": 24,
    "start_time": "2021-10-18T19:23:03.695Z"
   },
   {
    "duration": 11,
    "start_time": "2021-10-18T19:23:03.724Z"
   },
   {
    "duration": 178,
    "start_time": "2021-10-18T19:23:03.738Z"
   },
   {
    "duration": 205,
    "start_time": "2021-10-18T19:23:03.918Z"
   },
   {
    "duration": 189,
    "start_time": "2021-10-18T19:23:04.124Z"
   },
   {
    "duration": 7,
    "start_time": "2021-10-18T19:23:04.314Z"
   },
   {
    "duration": 306,
    "start_time": "2021-10-18T19:23:04.322Z"
   },
   {
    "duration": 15,
    "start_time": "2021-10-18T19:23:04.630Z"
   },
   {
    "duration": 3,
    "start_time": "2021-10-18T19:23:04.648Z"
   },
   {
    "duration": 17,
    "start_time": "2021-10-18T19:23:04.653Z"
   },
   {
    "duration": 299,
    "start_time": "2021-10-18T19:23:04.672Z"
   },
   {
    "duration": 9,
    "start_time": "2021-10-18T19:23:04.972Z"
   },
   {
    "duration": 32,
    "start_time": "2021-10-18T19:23:04.983Z"
   },
   {
    "duration": 54,
    "start_time": "2021-10-18T19:23:05.017Z"
   },
   {
    "duration": 7,
    "start_time": "2021-10-18T19:23:53.279Z"
   },
   {
    "duration": 6,
    "start_time": "2021-10-18T19:29:30.134Z"
   },
   {
    "duration": 8,
    "start_time": "2021-10-18T19:31:26.467Z"
   },
   {
    "duration": 3641,
    "start_time": "2021-10-18T19:31:32.963Z"
   },
   {
    "duration": 5,
    "start_time": "2021-10-18T19:31:38.820Z"
   },
   {
    "duration": 5,
    "start_time": "2021-10-18T19:32:12.587Z"
   },
   {
    "duration": 3133,
    "start_time": "2021-10-18T19:32:18.044Z"
   },
   {
    "duration": 8,
    "start_time": "2021-10-18T19:33:11.844Z"
   },
   {
    "duration": 7,
    "start_time": "2021-10-18T19:36:03.867Z"
   },
   {
    "duration": 8,
    "start_time": "2021-10-18T19:36:14.436Z"
   },
   {
    "duration": 9,
    "start_time": "2021-10-18T19:37:06.126Z"
   },
   {
    "duration": 17,
    "start_time": "2021-10-18T19:37:27.508Z"
   },
   {
    "duration": 14,
    "start_time": "2021-10-18T19:37:29.797Z"
   },
   {
    "duration": 11,
    "start_time": "2021-10-18T19:38:26.967Z"
   },
   {
    "duration": 20,
    "start_time": "2021-10-18T19:38:43.795Z"
   },
   {
    "duration": 18,
    "start_time": "2021-10-18T19:39:05.288Z"
   },
   {
    "duration": 9,
    "start_time": "2021-10-18T19:42:32.291Z"
   },
   {
    "duration": 3,
    "start_time": "2021-10-18T19:43:05.352Z"
   },
   {
    "duration": 54,
    "start_time": "2021-10-18T19:43:05.357Z"
   },
   {
    "duration": 3,
    "start_time": "2021-10-18T19:43:05.413Z"
   },
   {
    "duration": 12,
    "start_time": "2021-10-18T19:43:05.418Z"
   },
   {
    "duration": 5,
    "start_time": "2021-10-18T19:43:05.432Z"
   },
   {
    "duration": 10,
    "start_time": "2021-10-18T19:43:05.444Z"
   },
   {
    "duration": 8,
    "start_time": "2021-10-18T19:43:05.456Z"
   },
   {
    "duration": 16,
    "start_time": "2021-10-18T19:43:05.466Z"
   },
   {
    "duration": 6,
    "start_time": "2021-10-18T19:43:05.485Z"
   },
   {
    "duration": 51,
    "start_time": "2021-10-18T19:43:05.494Z"
   },
   {
    "duration": 18,
    "start_time": "2021-10-18T19:43:05.547Z"
   },
   {
    "duration": 17,
    "start_time": "2021-10-18T19:43:05.567Z"
   },
   {
    "duration": 12,
    "start_time": "2021-10-18T19:43:05.585Z"
   },
   {
    "duration": 5,
    "start_time": "2021-10-18T19:43:05.598Z"
   },
   {
    "duration": 41,
    "start_time": "2021-10-18T19:43:05.604Z"
   },
   {
    "duration": 14,
    "start_time": "2021-10-18T19:43:05.646Z"
   },
   {
    "duration": 187,
    "start_time": "2021-10-18T19:43:05.662Z"
   },
   {
    "duration": 7,
    "start_time": "2021-10-18T19:43:05.851Z"
   },
   {
    "duration": 12,
    "start_time": "2021-10-18T19:43:05.860Z"
   },
   {
    "duration": 11,
    "start_time": "2021-10-18T19:43:05.874Z"
   },
   {
    "duration": 5,
    "start_time": "2021-10-18T19:43:05.887Z"
   },
   {
    "duration": 52,
    "start_time": "2021-10-18T19:43:05.894Z"
   },
   {
    "duration": 199,
    "start_time": "2021-10-18T19:43:05.948Z"
   },
   {
    "duration": 8,
    "start_time": "2021-10-18T19:43:06.149Z"
   },
   {
    "duration": 14,
    "start_time": "2021-10-18T19:43:06.159Z"
   },
   {
    "duration": 37,
    "start_time": "2021-10-18T19:43:06.174Z"
   },
   {
    "duration": 16,
    "start_time": "2021-10-18T19:43:06.216Z"
   },
   {
    "duration": 178,
    "start_time": "2021-10-18T19:43:06.235Z"
   },
   {
    "duration": 221,
    "start_time": "2021-10-18T19:43:06.414Z"
   },
   {
    "duration": 264,
    "start_time": "2021-10-18T19:43:06.636Z"
   },
   {
    "duration": 7,
    "start_time": "2021-10-18T19:43:06.901Z"
   },
   {
    "duration": 197,
    "start_time": "2021-10-18T19:43:06.909Z"
   },
   {
    "duration": 7,
    "start_time": "2021-10-18T19:43:07.108Z"
   },
   {
    "duration": 3,
    "start_time": "2021-10-18T19:43:07.116Z"
   },
   {
    "duration": 26,
    "start_time": "2021-10-18T19:43:07.121Z"
   },
   {
    "duration": 185,
    "start_time": "2021-10-18T19:43:07.149Z"
   },
   {
    "duration": 15,
    "start_time": "2021-10-18T19:43:07.336Z"
   },
   {
    "duration": 5,
    "start_time": "2021-10-18T19:43:07.353Z"
   },
   {
    "duration": 14,
    "start_time": "2021-10-18T19:43:07.360Z"
   },
   {
    "duration": 24,
    "start_time": "2021-10-18T19:43:07.376Z"
   },
   {
    "duration": 49,
    "start_time": "2021-10-18T19:43:07.402Z"
   },
   {
    "duration": 3835,
    "start_time": "2021-10-18T19:43:07.453Z"
   },
   {
    "duration": 5,
    "start_time": "2021-10-18T19:43:11.290Z"
   },
   {
    "duration": 22,
    "start_time": "2021-10-18T19:43:11.297Z"
   },
   {
    "duration": 3124,
    "start_time": "2021-10-18T19:43:11.321Z"
   },
   {
    "duration": 11,
    "start_time": "2021-10-18T19:43:14.447Z"
   },
   {
    "duration": 10,
    "start_time": "2021-10-18T19:43:14.460Z"
   },
   {
    "duration": 19,
    "start_time": "2021-10-18T19:43:14.472Z"
   },
   {
    "duration": 15,
    "start_time": "2021-10-18T19:43:14.494Z"
   },
   {
    "duration": 42,
    "start_time": "2021-10-18T19:43:14.511Z"
   },
   {
    "duration": 9,
    "start_time": "2021-10-18T19:43:14.555Z"
   },
   {
    "duration": 16,
    "start_time": "2021-10-18T19:43:14.567Z"
   },
   {
    "duration": 14,
    "start_time": "2021-10-18T19:43:14.585Z"
   },
   {
    "duration": 29,
    "start_time": "2021-10-18T19:45:34.932Z"
   },
   {
    "duration": 11,
    "start_time": "2021-10-18T19:46:41.785Z"
   },
   {
    "duration": 17,
    "start_time": "2021-10-18T19:48:27.365Z"
   },
   {
    "duration": 29,
    "start_time": "2021-10-18T19:51:46.705Z"
   },
   {
    "duration": 15,
    "start_time": "2021-10-18T19:51:49.107Z"
   },
   {
    "duration": 26,
    "start_time": "2021-10-18T19:51:49.649Z"
   },
   {
    "duration": 3,
    "start_time": "2021-10-18T19:57:36.421Z"
   },
   {
    "duration": 57,
    "start_time": "2021-10-18T19:57:36.425Z"
   },
   {
    "duration": 4,
    "start_time": "2021-10-18T19:57:36.484Z"
   },
   {
    "duration": 13,
    "start_time": "2021-10-18T19:57:36.490Z"
   },
   {
    "duration": 5,
    "start_time": "2021-10-18T19:57:36.505Z"
   },
   {
    "duration": 39,
    "start_time": "2021-10-18T19:57:36.511Z"
   },
   {
    "duration": 6,
    "start_time": "2021-10-18T19:57:36.552Z"
   },
   {
    "duration": 10,
    "start_time": "2021-10-18T19:57:36.560Z"
   },
   {
    "duration": 4,
    "start_time": "2021-10-18T19:57:36.572Z"
   },
   {
    "duration": 8,
    "start_time": "2021-10-18T19:57:36.578Z"
   },
   {
    "duration": 57,
    "start_time": "2021-10-18T19:57:36.587Z"
   },
   {
    "duration": 15,
    "start_time": "2021-10-18T19:57:36.646Z"
   },
   {
    "duration": 12,
    "start_time": "2021-10-18T19:57:36.663Z"
   },
   {
    "duration": 4,
    "start_time": "2021-10-18T19:57:36.677Z"
   },
   {
    "duration": 4,
    "start_time": "2021-10-18T19:57:36.682Z"
   },
   {
    "duration": 15,
    "start_time": "2021-10-18T19:57:36.688Z"
   },
   {
    "duration": 213,
    "start_time": "2021-10-18T19:57:36.705Z"
   },
   {
    "duration": 7,
    "start_time": "2021-10-18T19:57:36.919Z"
   },
   {
    "duration": 25,
    "start_time": "2021-10-18T19:57:36.927Z"
   },
   {
    "duration": 5,
    "start_time": "2021-10-18T19:57:36.953Z"
   },
   {
    "duration": 6,
    "start_time": "2021-10-18T19:57:36.960Z"
   },
   {
    "duration": 32,
    "start_time": "2021-10-18T19:57:36.968Z"
   },
   {
    "duration": 206,
    "start_time": "2021-10-18T19:57:37.003Z"
   },
   {
    "duration": 6,
    "start_time": "2021-10-18T19:57:37.211Z"
   },
   {
    "duration": 5,
    "start_time": "2021-10-18T19:57:37.218Z"
   },
   {
    "duration": 24,
    "start_time": "2021-10-18T19:57:37.225Z"
   },
   {
    "duration": 10,
    "start_time": "2021-10-18T19:57:37.251Z"
   },
   {
    "duration": 174,
    "start_time": "2021-10-18T19:57:37.262Z"
   },
   {
    "duration": 200,
    "start_time": "2021-10-18T19:57:37.438Z"
   },
   {
    "duration": 170,
    "start_time": "2021-10-18T19:57:37.640Z"
   },
   {
    "duration": 7,
    "start_time": "2021-10-18T19:57:37.811Z"
   },
   {
    "duration": 186,
    "start_time": "2021-10-18T19:57:37.820Z"
   },
   {
    "duration": 8,
    "start_time": "2021-10-18T19:57:38.007Z"
   },
   {
    "duration": 3,
    "start_time": "2021-10-18T19:57:38.017Z"
   },
   {
    "duration": 10,
    "start_time": "2021-10-18T19:57:38.021Z"
   },
   {
    "duration": 187,
    "start_time": "2021-10-18T19:57:38.033Z"
   },
   {
    "duration": 10,
    "start_time": "2021-10-18T19:57:38.222Z"
   },
   {
    "duration": 17,
    "start_time": "2021-10-18T19:57:38.234Z"
   },
   {
    "duration": 30,
    "start_time": "2021-10-18T19:57:38.252Z"
   },
   {
    "duration": 29,
    "start_time": "2021-10-18T19:57:38.283Z"
   },
   {
    "duration": 19,
    "start_time": "2021-10-18T19:57:38.314Z"
   },
   {
    "duration": 3639,
    "start_time": "2021-10-18T19:57:38.334Z"
   },
   {
    "duration": 6,
    "start_time": "2021-10-18T19:57:41.975Z"
   },
   {
    "duration": 11,
    "start_time": "2021-10-18T19:57:41.983Z"
   },
   {
    "duration": 3009,
    "start_time": "2021-10-18T19:57:41.996Z"
   },
   {
    "duration": 8,
    "start_time": "2021-10-18T19:57:45.007Z"
   },
   {
    "duration": 14,
    "start_time": "2021-10-18T19:57:45.016Z"
   },
   {
    "duration": 21,
    "start_time": "2021-10-18T19:57:45.031Z"
   },
   {
    "duration": 8,
    "start_time": "2021-10-18T19:57:45.054Z"
   },
   {
    "duration": 19,
    "start_time": "2021-10-18T19:57:45.066Z"
   },
   {
    "duration": 7,
    "start_time": "2021-10-18T19:57:45.087Z"
   },
   {
    "duration": 12,
    "start_time": "2021-10-18T19:57:45.095Z"
   },
   {
    "duration": 35,
    "start_time": "2021-10-18T19:57:45.109Z"
   },
   {
    "duration": 7,
    "start_time": "2021-10-18T19:57:45.146Z"
   },
   {
    "duration": 10,
    "start_time": "2021-10-18T19:57:45.155Z"
   },
   {
    "duration": 7383,
    "start_time": "2021-10-18T20:05:12.896Z"
   },
   {
    "duration": 6,
    "start_time": "2021-10-18T20:05:23.493Z"
   },
   {
    "duration": 8,
    "start_time": "2021-10-18T20:07:02.699Z"
   },
   {
    "duration": 174,
    "start_time": "2021-10-18T20:07:33.684Z"
   },
   {
    "duration": 169,
    "start_time": "2021-10-18T20:07:45.485Z"
   },
   {
    "duration": 165,
    "start_time": "2021-10-18T20:07:50.882Z"
   },
   {
    "duration": 338,
    "start_time": "2021-10-18T20:07:54.301Z"
   },
   {
    "duration": 262,
    "start_time": "2021-10-18T20:07:56.628Z"
   },
   {
    "duration": 166,
    "start_time": "2021-10-18T20:08:03.476Z"
   },
   {
    "duration": 180,
    "start_time": "2021-10-18T20:09:32.491Z"
   },
   {
    "duration": 193,
    "start_time": "2021-10-18T20:10:23.432Z"
   },
   {
    "duration": 769,
    "start_time": "2021-10-18T20:11:09.114Z"
   },
   {
    "duration": 383,
    "start_time": "2021-10-18T20:11:14.025Z"
   },
   {
    "duration": 379,
    "start_time": "2021-10-18T20:11:33.067Z"
   },
   {
    "duration": 12,
    "start_time": "2021-10-18T20:17:06.216Z"
   },
   {
    "duration": 647,
    "start_time": "2021-10-18T20:17:11.029Z"
   },
   {
    "duration": 8,
    "start_time": "2021-10-18T20:17:21.048Z"
   },
   {
    "duration": 8,
    "start_time": "2021-10-18T20:17:31.205Z"
   },
   {
    "duration": 7,
    "start_time": "2021-10-18T20:17:41.881Z"
   },
   {
    "duration": 7,
    "start_time": "2021-10-18T20:17:55.774Z"
   },
   {
    "duration": 7,
    "start_time": "2021-10-18T20:18:21.063Z"
   },
   {
    "duration": 7,
    "start_time": "2021-10-18T20:18:31.342Z"
   },
   {
    "duration": 88,
    "start_time": "2021-10-18T20:20:22.369Z"
   },
   {
    "duration": 117,
    "start_time": "2021-10-18T20:20:53.699Z"
   },
   {
    "duration": 18,
    "start_time": "2021-10-18T20:44:12.297Z"
   },
   {
    "duration": 12,
    "start_time": "2021-10-18T20:44:36.541Z"
   },
   {
    "duration": 270,
    "start_time": "2021-10-18T20:44:40.006Z"
   },
   {
    "duration": 9,
    "start_time": "2021-10-18T20:44:42.710Z"
   },
   {
    "duration": 255,
    "start_time": "2021-10-18T20:44:46.185Z"
   },
   {
    "duration": 20,
    "start_time": "2021-10-18T20:45:59.740Z"
   },
   {
    "duration": 6961,
    "start_time": "2021-10-18T20:46:35.814Z"
   },
   {
    "duration": 270,
    "start_time": "2021-10-18T20:47:12.880Z"
   },
   {
    "duration": 14,
    "start_time": "2021-10-18T20:51:16.645Z"
   },
   {
    "duration": 14,
    "start_time": "2021-10-18T20:51:32.821Z"
   },
   {
    "duration": 2,
    "start_time": "2021-10-18T20:51:44.652Z"
   },
   {
    "duration": 63,
    "start_time": "2021-10-18T20:51:44.656Z"
   },
   {
    "duration": 4,
    "start_time": "2021-10-18T20:51:44.721Z"
   },
   {
    "duration": 28,
    "start_time": "2021-10-18T20:51:44.727Z"
   },
   {
    "duration": 4,
    "start_time": "2021-10-18T20:51:44.756Z"
   },
   {
    "duration": 9,
    "start_time": "2021-10-18T20:51:44.762Z"
   },
   {
    "duration": 14,
    "start_time": "2021-10-18T20:51:44.772Z"
   },
   {
    "duration": 14,
    "start_time": "2021-10-18T20:51:44.787Z"
   },
   {
    "duration": 4,
    "start_time": "2021-10-18T20:51:44.803Z"
   },
   {
    "duration": 37,
    "start_time": "2021-10-18T20:51:44.809Z"
   },
   {
    "duration": 16,
    "start_time": "2021-10-18T20:51:44.847Z"
   },
   {
    "duration": 15,
    "start_time": "2021-10-18T20:51:44.864Z"
   },
   {
    "duration": 12,
    "start_time": "2021-10-18T20:51:44.881Z"
   },
   {
    "duration": 4,
    "start_time": "2021-10-18T20:51:44.895Z"
   },
   {
    "duration": 4,
    "start_time": "2021-10-18T20:51:44.900Z"
   },
   {
    "duration": 49,
    "start_time": "2021-10-18T20:51:44.906Z"
   },
   {
    "duration": 170,
    "start_time": "2021-10-18T20:51:44.956Z"
   },
   {
    "duration": 6,
    "start_time": "2021-10-18T20:51:45.127Z"
   },
   {
    "duration": 14,
    "start_time": "2021-10-18T20:51:45.135Z"
   },
   {
    "duration": 7,
    "start_time": "2021-10-18T20:51:45.150Z"
   },
   {
    "duration": 2,
    "start_time": "2021-10-18T20:51:45.159Z"
   },
   {
    "duration": 29,
    "start_time": "2021-10-18T20:51:45.163Z"
   },
   {
    "duration": 315,
    "start_time": "2021-10-18T20:51:45.193Z"
   },
   {
    "duration": 7,
    "start_time": "2021-10-18T20:51:45.510Z"
   },
   {
    "duration": 5,
    "start_time": "2021-10-18T20:51:45.519Z"
   },
   {
    "duration": 27,
    "start_time": "2021-10-18T20:51:45.525Z"
   },
   {
    "duration": 6,
    "start_time": "2021-10-18T20:51:45.556Z"
   },
   {
    "duration": 183,
    "start_time": "2021-10-18T20:51:45.564Z"
   },
   {
    "duration": 207,
    "start_time": "2021-10-18T20:51:45.748Z"
   },
   {
    "duration": 186,
    "start_time": "2021-10-18T20:51:45.957Z"
   },
   {
    "duration": 8,
    "start_time": "2021-10-18T20:51:46.145Z"
   },
   {
    "duration": 189,
    "start_time": "2021-10-18T20:51:46.155Z"
   },
   {
    "duration": 9,
    "start_time": "2021-10-18T20:51:46.346Z"
   },
   {
    "duration": 4,
    "start_time": "2021-10-18T20:51:46.356Z"
   },
   {
    "duration": 11,
    "start_time": "2021-10-18T20:51:46.362Z"
   },
   {
    "duration": 195,
    "start_time": "2021-10-18T20:51:46.374Z"
   },
   {
    "duration": 10,
    "start_time": "2021-10-18T20:51:46.571Z"
   },
   {
    "duration": 8,
    "start_time": "2021-10-18T20:51:46.582Z"
   },
   {
    "duration": 17,
    "start_time": "2021-10-18T20:51:46.592Z"
   },
   {
    "duration": 52,
    "start_time": "2021-10-18T20:51:46.610Z"
   },
   {
    "duration": 24,
    "start_time": "2021-10-18T20:51:46.664Z"
   },
   {
    "duration": 3283,
    "start_time": "2021-10-18T20:51:46.689Z"
   },
   {
    "duration": 4,
    "start_time": "2021-10-18T20:51:49.974Z"
   },
   {
    "duration": 5,
    "start_time": "2021-10-18T20:51:49.980Z"
   },
   {
    "duration": 2713,
    "start_time": "2021-10-18T20:51:49.986Z"
   },
   {
    "duration": 7,
    "start_time": "2021-10-18T20:51:52.701Z"
   },
   {
    "duration": 6,
    "start_time": "2021-10-18T20:51:52.710Z"
   },
   {
    "duration": 33,
    "start_time": "2021-10-18T20:51:52.718Z"
   },
   {
    "duration": 9,
    "start_time": "2021-10-18T20:51:52.753Z"
   },
   {
    "duration": 13,
    "start_time": "2021-10-18T20:51:52.763Z"
   },
   {
    "duration": 8,
    "start_time": "2021-10-18T20:51:52.777Z"
   },
   {
    "duration": 12,
    "start_time": "2021-10-18T20:51:52.786Z"
   },
   {
    "duration": 9,
    "start_time": "2021-10-18T20:51:52.800Z"
   },
   {
    "duration": 41,
    "start_time": "2021-10-18T20:51:52.810Z"
   },
   {
    "duration": 12,
    "start_time": "2021-10-18T20:51:52.854Z"
   },
   {
    "duration": 14,
    "start_time": "2021-10-18T20:51:52.869Z"
   },
   {
    "duration": 310,
    "start_time": "2021-10-18T20:52:30.790Z"
   },
   {
    "duration": 405,
    "start_time": "2021-10-18T20:52:43.475Z"
   },
   {
    "duration": 413,
    "start_time": "2021-10-18T20:52:46.564Z"
   },
   {
    "duration": 305,
    "start_time": "2021-10-18T20:52:53.447Z"
   },
   {
    "duration": 917,
    "start_time": "2021-10-18T20:53:07.592Z"
   },
   {
    "duration": 182,
    "start_time": "2021-10-18T20:53:10.262Z"
   },
   {
    "duration": 11,
    "start_time": "2021-10-18T20:53:30.296Z"
   },
   {
    "duration": 10,
    "start_time": "2021-10-18T20:53:33.477Z"
   },
   {
    "duration": 10,
    "start_time": "2021-10-18T20:53:38.036Z"
   },
   {
    "duration": 9,
    "start_time": "2021-10-18T20:53:44.436Z"
   },
   {
    "duration": 6,
    "start_time": "2021-10-18T20:53:48.904Z"
   },
   {
    "duration": 22,
    "start_time": "2021-10-18T20:54:16.909Z"
   },
   {
    "duration": 8,
    "start_time": "2021-10-18T20:54:47.382Z"
   },
   {
    "duration": 185,
    "start_time": "2021-10-18T20:56:14.457Z"
   },
   {
    "duration": 563,
    "start_time": "2021-10-18T20:56:30.886Z"
   },
   {
    "duration": 400,
    "start_time": "2021-10-18T20:56:59.966Z"
   },
   {
    "duration": 4,
    "start_time": "2021-10-18T21:11:37.117Z"
   },
   {
    "duration": 97,
    "start_time": "2021-10-18T21:12:13.643Z"
   },
   {
    "duration": 5,
    "start_time": "2021-10-18T21:12:30.241Z"
   },
   {
    "duration": 3,
    "start_time": "2021-10-18T21:14:57.657Z"
   },
   {
    "duration": 3,
    "start_time": "2021-10-18T21:15:15.613Z"
   },
   {
    "duration": 19,
    "start_time": "2021-10-18T21:20:29.699Z"
   },
   {
    "duration": 5,
    "start_time": "2021-10-18T21:20:57.956Z"
   },
   {
    "duration": 7,
    "start_time": "2021-10-18T21:21:04.360Z"
   },
   {
    "duration": 4,
    "start_time": "2021-10-18T21:22:39.966Z"
   },
   {
    "duration": 4,
    "start_time": "2021-10-18T21:22:48.271Z"
   },
   {
    "duration": 7,
    "start_time": "2021-10-18T21:22:59.154Z"
   },
   {
    "duration": 7,
    "start_time": "2021-10-18T21:24:38.613Z"
   },
   {
    "duration": 4,
    "start_time": "2021-10-18T21:24:40.928Z"
   },
   {
    "duration": 4,
    "start_time": "2021-10-18T21:24:48.618Z"
   },
   {
    "duration": 285,
    "start_time": "2021-10-18T21:27:02.862Z"
   },
   {
    "duration": 274,
    "start_time": "2021-10-18T21:27:22.961Z"
   },
   {
    "duration": 5,
    "start_time": "2021-10-18T21:29:05.430Z"
   },
   {
    "duration": 16,
    "start_time": "2021-10-18T21:30:00.890Z"
   },
   {
    "duration": 7,
    "start_time": "2021-10-18T21:30:54.333Z"
   },
   {
    "duration": 106,
    "start_time": "2021-10-18T21:32:21.312Z"
   },
   {
    "duration": 95,
    "start_time": "2021-10-18T21:32:32.112Z"
   },
   {
    "duration": 7,
    "start_time": "2021-10-18T21:32:39.747Z"
   },
   {
    "duration": 10,
    "start_time": "2021-10-18T21:32:54.234Z"
   },
   {
    "duration": 4,
    "start_time": "2021-10-18T21:38:32.840Z"
   },
   {
    "duration": 296,
    "start_time": "2021-10-18T21:38:39.298Z"
   },
   {
    "duration": 313,
    "start_time": "2021-10-18T21:38:42.829Z"
   },
   {
    "duration": 19,
    "start_time": "2021-10-18T21:39:31.265Z"
   },
   {
    "duration": -83,
    "start_time": "2021-10-18T21:44:30.957Z"
   },
   {
    "duration": -89,
    "start_time": "2021-10-18T21:44:30.964Z"
   },
   {
    "duration": 16,
    "start_time": "2021-10-18T21:44:32.482Z"
   },
   {
    "duration": 5,
    "start_time": "2021-10-18T21:44:45.749Z"
   },
   {
    "duration": 274,
    "start_time": "2021-10-18T21:44:56.080Z"
   },
   {
    "duration": 30,
    "start_time": "2021-10-18T21:45:04.694Z"
   },
   {
    "duration": 271,
    "start_time": "2021-10-18T21:49:29.558Z"
   },
   {
    "duration": 279,
    "start_time": "2021-10-18T21:49:40.818Z"
   },
   {
    "duration": 28,
    "start_time": "2021-10-18T21:49:49.410Z"
   },
   {
    "duration": 29,
    "start_time": "2021-10-18T21:53:31.117Z"
   },
   {
    "duration": 29,
    "start_time": "2021-10-18T21:54:31.827Z"
   },
   {
    "duration": 17,
    "start_time": "2021-10-18T21:56:05.415Z"
   },
   {
    "duration": 158,
    "start_time": "2021-10-18T21:56:23.602Z"
   },
   {
    "duration": 210,
    "start_time": "2021-10-18T21:56:34.852Z"
   },
   {
    "duration": 19,
    "start_time": "2021-10-18T21:57:22.286Z"
   },
   {
    "duration": 8155,
    "start_time": "2021-10-18T21:57:26.488Z"
   },
   {
    "duration": 211,
    "start_time": "2021-10-18T21:57:44.659Z"
   },
   {
    "duration": 287,
    "start_time": "2021-10-18T21:58:00.665Z"
   },
   {
    "duration": 31,
    "start_time": "2021-10-18T21:59:29.401Z"
   },
   {
    "duration": 5,
    "start_time": "2021-10-18T21:59:47.437Z"
   },
   {
    "duration": 5,
    "start_time": "2021-10-18T21:59:55.660Z"
   },
   {
    "duration": 532,
    "start_time": "2021-10-18T22:00:14.349Z"
   },
   {
    "duration": 295,
    "start_time": "2021-10-18T22:03:40.104Z"
   },
   {
    "duration": 6,
    "start_time": "2021-10-18T22:03:46.382Z"
   },
   {
    "duration": 1082,
    "start_time": "2021-10-18T22:05:15.276Z"
   },
   {
    "duration": 8,
    "start_time": "2021-10-18T22:05:37.920Z"
   },
   {
    "duration": 9,
    "start_time": "2021-10-18T22:05:53.869Z"
   },
   {
    "duration": 8,
    "start_time": "2021-10-18T22:06:13.311Z"
   },
   {
    "duration": 9,
    "start_time": "2021-10-18T22:06:43.758Z"
   },
   {
    "duration": 459,
    "start_time": "2021-10-18T22:07:27.819Z"
   },
   {
    "duration": 5,
    "start_time": "2021-10-18T22:07:49.290Z"
   },
   {
    "duration": 8,
    "start_time": "2021-10-18T22:08:01.421Z"
   },
   {
    "duration": 560,
    "start_time": "2021-10-19T07:55:43.567Z"
   },
   {
    "duration": 49,
    "start_time": "2021-10-19T07:55:44.129Z"
   },
   {
    "duration": 7,
    "start_time": "2021-10-19T07:55:44.180Z"
   },
   {
    "duration": 16,
    "start_time": "2021-10-19T07:55:44.189Z"
   },
   {
    "duration": 8,
    "start_time": "2021-10-19T07:55:44.206Z"
   },
   {
    "duration": 15,
    "start_time": "2021-10-19T07:55:44.216Z"
   },
   {
    "duration": 11,
    "start_time": "2021-10-19T07:55:44.232Z"
   },
   {
    "duration": 13,
    "start_time": "2021-10-19T07:55:44.244Z"
   },
   {
    "duration": 4,
    "start_time": "2021-10-19T07:55:44.259Z"
   },
   {
    "duration": 14,
    "start_time": "2021-10-19T07:55:44.264Z"
   },
   {
    "duration": 12,
    "start_time": "2021-10-19T07:55:44.291Z"
   },
   {
    "duration": 14,
    "start_time": "2021-10-19T07:55:44.305Z"
   },
   {
    "duration": 14,
    "start_time": "2021-10-19T07:55:44.320Z"
   },
   {
    "duration": 4,
    "start_time": "2021-10-19T07:55:44.335Z"
   },
   {
    "duration": 12,
    "start_time": "2021-10-19T07:55:44.340Z"
   },
   {
    "duration": 17,
    "start_time": "2021-10-19T07:55:44.353Z"
   },
   {
    "duration": 253,
    "start_time": "2021-10-19T07:55:44.371Z"
   },
   {
    "duration": 6,
    "start_time": "2021-10-19T07:55:44.626Z"
   },
   {
    "duration": 13,
    "start_time": "2021-10-19T07:55:44.634Z"
   },
   {
    "duration": 8,
    "start_time": "2021-10-19T07:55:44.649Z"
   },
   {
    "duration": 10,
    "start_time": "2021-10-19T07:55:44.659Z"
   },
   {
    "duration": 37,
    "start_time": "2021-10-19T07:55:44.670Z"
   },
   {
    "duration": 186,
    "start_time": "2021-10-19T07:55:44.708Z"
   },
   {
    "duration": 6,
    "start_time": "2021-10-19T07:55:44.896Z"
   },
   {
    "duration": 19,
    "start_time": "2021-10-19T07:55:44.904Z"
   },
   {
    "duration": 30,
    "start_time": "2021-10-19T07:55:44.925Z"
   },
   {
    "duration": 9,
    "start_time": "2021-10-19T07:55:44.959Z"
   },
   {
    "duration": 187,
    "start_time": "2021-10-19T07:55:44.970Z"
   },
   {
    "duration": 254,
    "start_time": "2021-10-19T07:55:45.158Z"
   },
   {
    "duration": 180,
    "start_time": "2021-10-19T07:55:45.413Z"
   },
   {
    "duration": 7,
    "start_time": "2021-10-19T07:55:45.595Z"
   },
   {
    "duration": 191,
    "start_time": "2021-10-19T07:55:45.603Z"
   },
   {
    "duration": 8,
    "start_time": "2021-10-19T07:55:45.795Z"
   },
   {
    "duration": 12,
    "start_time": "2021-10-19T07:55:45.804Z"
   },
   {
    "duration": 15,
    "start_time": "2021-10-19T07:55:45.817Z"
   },
   {
    "duration": 189,
    "start_time": "2021-10-19T07:55:45.833Z"
   },
   {
    "duration": 9,
    "start_time": "2021-10-19T07:55:46.024Z"
   },
   {
    "duration": 9,
    "start_time": "2021-10-19T07:55:46.034Z"
   },
   {
    "duration": 24,
    "start_time": "2021-10-19T07:55:46.044Z"
   },
   {
    "duration": 38,
    "start_time": "2021-10-19T07:55:46.070Z"
   },
   {
    "duration": 4,
    "start_time": "2021-10-19T07:55:46.109Z"
   },
   {
    "duration": 3295,
    "start_time": "2021-10-19T07:55:46.114Z"
   },
   {
    "duration": 5,
    "start_time": "2021-10-19T07:55:49.411Z"
   },
   {
    "duration": 10,
    "start_time": "2021-10-19T07:55:49.417Z"
   },
   {
    "duration": 2507,
    "start_time": "2021-10-19T07:55:49.429Z"
   },
   {
    "duration": 7,
    "start_time": "2021-10-19T07:55:51.938Z"
   },
   {
    "duration": 15,
    "start_time": "2021-10-19T07:55:51.946Z"
   },
   {
    "duration": 15,
    "start_time": "2021-10-19T07:55:51.963Z"
   },
   {
    "duration": 26,
    "start_time": "2021-10-19T07:55:51.980Z"
   },
   {
    "duration": 14,
    "start_time": "2021-10-19T07:55:52.008Z"
   },
   {
    "duration": 6,
    "start_time": "2021-10-19T07:55:52.024Z"
   },
   {
    "duration": 11,
    "start_time": "2021-10-19T07:55:52.031Z"
   },
   {
    "duration": 8,
    "start_time": "2021-10-19T07:55:52.043Z"
   },
   {
    "duration": 16,
    "start_time": "2021-10-19T07:55:52.052Z"
   },
   {
    "duration": 23,
    "start_time": "2021-10-19T07:55:52.069Z"
   },
   {
    "duration": 479,
    "start_time": "2021-10-19T07:55:52.093Z"
   },
   {
    "duration": 18,
    "start_time": "2021-10-19T07:55:52.574Z"
   },
   {
    "duration": 7,
    "start_time": "2021-10-19T07:55:52.593Z"
   },
   {
    "duration": 16,
    "start_time": "2021-10-19T07:55:52.601Z"
   },
   {
    "duration": 12,
    "start_time": "2021-10-19T07:55:52.618Z"
   },
   {
    "duration": 17,
    "start_time": "2021-10-19T07:55:52.631Z"
   },
   {
    "duration": 29,
    "start_time": "2021-10-19T07:55:52.650Z"
   },
   {
    "duration": 35,
    "start_time": "2021-10-19T07:55:52.680Z"
   },
   {
    "duration": 604,
    "start_time": "2021-10-19T07:55:52.717Z"
   },
   {
    "duration": 8,
    "start_time": "2021-10-19T07:55:53.323Z"
   },
   {
    "duration": 362,
    "start_time": "2021-10-19T07:55:53.332Z"
   },
   {
    "duration": 5,
    "start_time": "2021-10-19T07:56:11.409Z"
   },
   {
    "duration": 6,
    "start_time": "2021-10-19T07:56:27.098Z"
   },
   {
    "duration": 5,
    "start_time": "2021-10-19T07:56:41.260Z"
   },
   {
    "duration": 529,
    "start_time": "2021-10-19T07:58:08.262Z"
   },
   {
    "duration": 8,
    "start_time": "2021-10-19T07:58:08.792Z"
   },
   {
    "duration": 5,
    "start_time": "2021-10-19T08:11:49.723Z"
   },
   {
    "duration": 5,
    "start_time": "2021-10-19T08:11:57.955Z"
   },
   {
    "duration": 33,
    "start_time": "2021-10-19T08:24:43.314Z"
   },
   {
    "duration": 4,
    "start_time": "2021-10-19T08:37:32.468Z"
   },
   {
    "duration": 19,
    "start_time": "2021-10-19T08:47:59.029Z"
   },
   {
    "duration": 7,
    "start_time": "2021-10-19T08:48:13.834Z"
   },
   {
    "duration": 24,
    "start_time": "2021-10-19T08:49:38.599Z"
   },
   {
    "duration": 5,
    "start_time": "2021-10-19T09:05:32.261Z"
   },
   {
    "duration": 6,
    "start_time": "2021-10-19T09:08:28.951Z"
   },
   {
    "duration": 60,
    "start_time": "2021-10-19T09:09:01.885Z"
   },
   {
    "duration": 700,
    "start_time": "2021-10-20T18:50:41.920Z"
   },
   {
    "duration": 397,
    "start_time": "2021-10-20T18:52:19.038Z"
   },
   {
    "duration": 3,
    "start_time": "2021-10-20T18:52:23.221Z"
   },
   {
    "duration": 65,
    "start_time": "2021-10-20T18:52:23.231Z"
   },
   {
    "duration": 13,
    "start_time": "2021-10-20T18:52:23.299Z"
   },
   {
    "duration": 15,
    "start_time": "2021-10-20T18:52:23.316Z"
   },
   {
    "duration": 6,
    "start_time": "2021-10-20T18:52:23.334Z"
   },
   {
    "duration": 8,
    "start_time": "2021-10-20T18:52:24.761Z"
   },
   {
    "duration": 19,
    "start_time": "2021-10-20T18:52:25.306Z"
   },
   {
    "duration": 24,
    "start_time": "2021-10-20T18:52:33.446Z"
   },
   {
    "duration": 90,
    "start_time": "2021-10-20T18:53:26.969Z"
   },
   {
    "duration": 49,
    "start_time": "2021-10-20T18:54:45.915Z"
   },
   {
    "duration": 40,
    "start_time": "2021-10-20T19:07:12.294Z"
   },
   {
    "duration": 15,
    "start_time": "2021-10-20T19:07:36.635Z"
   },
   {
    "duration": 36,
    "start_time": "2021-10-20T19:09:08.475Z"
   },
   {
    "duration": 10,
    "start_time": "2021-10-20T19:09:11.317Z"
   },
   {
    "duration": 4,
    "start_time": "2021-10-20T19:09:26.157Z"
   },
   {
    "duration": 71,
    "start_time": "2021-10-20T19:09:26.168Z"
   },
   {
    "duration": 5,
    "start_time": "2021-10-20T19:09:26.241Z"
   },
   {
    "duration": 29,
    "start_time": "2021-10-20T19:09:26.249Z"
   },
   {
    "duration": 6,
    "start_time": "2021-10-20T19:09:26.283Z"
   },
   {
    "duration": 29,
    "start_time": "2021-10-20T19:09:26.292Z"
   },
   {
    "duration": 70,
    "start_time": "2021-10-20T19:09:26.323Z"
   },
   {
    "duration": 11,
    "start_time": "2021-10-20T19:09:26.395Z"
   },
   {
    "duration": 13,
    "start_time": "2021-10-20T19:09:26.408Z"
   },
   {
    "duration": 30,
    "start_time": "2021-10-20T19:09:26.424Z"
   },
   {
    "duration": 6,
    "start_time": "2021-10-20T19:09:26.484Z"
   },
   {
    "duration": 22,
    "start_time": "2021-10-20T19:09:26.493Z"
   },
   {
    "duration": 29,
    "start_time": "2021-10-20T19:09:26.517Z"
   },
   {
    "duration": 39,
    "start_time": "2021-10-20T19:09:26.549Z"
   },
   {
    "duration": 18,
    "start_time": "2021-10-20T19:09:26.591Z"
   },
   {
    "duration": 9,
    "start_time": "2021-10-20T19:09:26.611Z"
   },
   {
    "duration": 12,
    "start_time": "2021-10-20T19:09:26.622Z"
   },
   {
    "duration": 33,
    "start_time": "2021-10-20T19:09:26.637Z"
   },
   {
    "duration": 387,
    "start_time": "2021-10-20T19:09:26.682Z"
   },
   {
    "duration": 17,
    "start_time": "2021-10-20T19:09:27.071Z"
   },
   {
    "duration": 17,
    "start_time": "2021-10-20T19:09:27.090Z"
   },
   {
    "duration": 14,
    "start_time": "2021-10-20T19:09:27.110Z"
   },
   {
    "duration": 16,
    "start_time": "2021-10-20T19:09:27.126Z"
   },
   {
    "duration": 54,
    "start_time": "2021-10-20T19:09:27.144Z"
   },
   {
    "duration": 303,
    "start_time": "2021-10-20T19:09:27.200Z"
   },
   {
    "duration": 9,
    "start_time": "2021-10-20T19:09:27.510Z"
   },
   {
    "duration": 6,
    "start_time": "2021-10-20T19:09:27.523Z"
   },
   {
    "duration": 37,
    "start_time": "2021-10-20T19:09:27.531Z"
   },
   {
    "duration": 10,
    "start_time": "2021-10-20T19:09:27.582Z"
   },
   {
    "duration": 309,
    "start_time": "2021-10-20T19:09:27.595Z"
   },
   {
    "duration": 384,
    "start_time": "2021-10-20T19:09:27.906Z"
   },
   {
    "duration": 298,
    "start_time": "2021-10-20T19:09:28.292Z"
   },
   {
    "duration": 10,
    "start_time": "2021-10-20T19:09:28.592Z"
   },
   {
    "duration": 319,
    "start_time": "2021-10-20T19:09:28.604Z"
   },
   {
    "duration": 11,
    "start_time": "2021-10-20T19:09:28.925Z"
   },
   {
    "duration": 13,
    "start_time": "2021-10-20T19:09:28.939Z"
   },
   {
    "duration": 36,
    "start_time": "2021-10-20T19:09:28.954Z"
   },
   {
    "duration": 286,
    "start_time": "2021-10-20T19:09:28.992Z"
   },
   {
    "duration": 15,
    "start_time": "2021-10-20T19:09:29.280Z"
   },
   {
    "duration": 19,
    "start_time": "2021-10-20T19:09:29.297Z"
   },
   {
    "duration": 34,
    "start_time": "2021-10-20T19:09:29.318Z"
   },
   {
    "duration": 52,
    "start_time": "2021-10-20T19:09:29.354Z"
   },
   {
    "duration": 3,
    "start_time": "2021-10-20T19:09:29.409Z"
   },
   {
    "duration": 4400,
    "start_time": "2021-10-20T19:09:29.416Z"
   },
   {
    "duration": 7,
    "start_time": "2021-10-20T19:09:33.818Z"
   },
   {
    "duration": 9,
    "start_time": "2021-10-20T19:09:33.828Z"
   },
   {
    "duration": 3690,
    "start_time": "2021-10-20T19:09:33.840Z"
   },
   {
    "duration": 11,
    "start_time": "2021-10-20T19:09:37.532Z"
   },
   {
    "duration": 9,
    "start_time": "2021-10-20T19:09:37.546Z"
   },
   {
    "duration": 16,
    "start_time": "2021-10-20T19:09:37.583Z"
   },
   {
    "duration": 23,
    "start_time": "2021-10-20T19:09:37.601Z"
   },
   {
    "duration": 19,
    "start_time": "2021-10-20T19:09:37.626Z"
   },
   {
    "duration": 37,
    "start_time": "2021-10-20T19:09:37.647Z"
   },
   {
    "duration": 28,
    "start_time": "2021-10-20T19:09:37.687Z"
   },
   {
    "duration": 18,
    "start_time": "2021-10-20T19:09:37.718Z"
   },
   {
    "duration": 53,
    "start_time": "2021-10-20T19:09:37.740Z"
   },
   {
    "duration": 23,
    "start_time": "2021-10-20T19:09:37.796Z"
   },
   {
    "duration": 902,
    "start_time": "2021-10-20T19:09:37.822Z"
   },
   {
    "duration": 11,
    "start_time": "2021-10-20T19:09:38.727Z"
   },
   {
    "duration": 10,
    "start_time": "2021-10-20T19:09:38.741Z"
   },
   {
    "duration": 38,
    "start_time": "2021-10-20T19:09:38.754Z"
   },
   {
    "duration": 12,
    "start_time": "2021-10-20T19:09:38.794Z"
   },
   {
    "duration": 7,
    "start_time": "2021-10-20T19:09:38.808Z"
   },
   {
    "duration": 5,
    "start_time": "2021-10-20T19:09:38.818Z"
   },
   {
    "duration": 88,
    "start_time": "2021-10-20T19:09:38.826Z"
   },
   {
    "duration": 984,
    "start_time": "2021-10-20T19:09:38.917Z"
   },
   {
    "duration": 12,
    "start_time": "2021-10-20T19:09:39.904Z"
   },
   {
    "duration": 649,
    "start_time": "2021-10-20T19:09:39.918Z"
   },
   {
    "duration": 59,
    "start_time": "2021-10-20T19:09:40.569Z"
   },
   {
    "duration": 10,
    "start_time": "2021-10-20T19:09:40.630Z"
   },
   {
    "duration": 58,
    "start_time": "2021-10-20T19:09:40.648Z"
   },
   {
    "duration": 74,
    "start_time": "2021-10-20T19:27:09.924Z"
   },
   {
    "duration": 4,
    "start_time": "2021-10-20T19:27:27.460Z"
   },
   {
    "duration": 63,
    "start_time": "2021-10-20T19:27:27.468Z"
   },
   {
    "duration": 4,
    "start_time": "2021-10-20T19:27:27.534Z"
   },
   {
    "duration": 42,
    "start_time": "2021-10-20T19:27:27.541Z"
   },
   {
    "duration": 8,
    "start_time": "2021-10-20T19:27:27.586Z"
   },
   {
    "duration": 18,
    "start_time": "2021-10-20T19:27:27.596Z"
   },
   {
    "duration": 93,
    "start_time": "2021-10-20T19:27:27.617Z"
   },
   {
    "duration": 12,
    "start_time": "2021-10-20T19:27:27.713Z"
   },
   {
    "duration": 11,
    "start_time": "2021-10-20T19:27:27.729Z"
   },
   {
    "duration": 17,
    "start_time": "2021-10-20T19:27:27.784Z"
   },
   {
    "duration": 121,
    "start_time": "2021-10-20T19:27:27.803Z"
   },
   {
    "duration": 7,
    "start_time": "2021-10-20T19:27:27.927Z"
   },
   {
    "duration": 12,
    "start_time": "2021-10-20T19:27:27.936Z"
   },
   {
    "duration": 47,
    "start_time": "2021-10-20T19:27:27.950Z"
   },
   {
    "duration": 24,
    "start_time": "2021-10-20T19:27:27.999Z"
   },
   {
    "duration": 19,
    "start_time": "2021-10-20T19:27:28.026Z"
   },
   {
    "duration": 37,
    "start_time": "2021-10-20T19:27:28.047Z"
   },
   {
    "duration": 4,
    "start_time": "2021-10-20T19:27:28.086Z"
   },
   {
    "duration": 21,
    "start_time": "2021-10-20T19:27:28.092Z"
   },
   {
    "duration": 298,
    "start_time": "2021-10-20T19:27:28.115Z"
   },
   {
    "duration": 10,
    "start_time": "2021-10-20T19:27:28.416Z"
   },
   {
    "duration": 12,
    "start_time": "2021-10-20T19:27:28.429Z"
   },
   {
    "duration": 40,
    "start_time": "2021-10-20T19:27:28.444Z"
   },
   {
    "duration": 3,
    "start_time": "2021-10-20T19:27:28.490Z"
   },
   {
    "duration": 45,
    "start_time": "2021-10-20T19:27:28.498Z"
   },
   {
    "duration": 324,
    "start_time": "2021-10-20T19:27:28.546Z"
   },
   {
    "duration": 14,
    "start_time": "2021-10-20T19:27:28.872Z"
   },
   {
    "duration": 12,
    "start_time": "2021-10-20T19:27:28.888Z"
   },
   {
    "duration": 27,
    "start_time": "2021-10-20T19:27:28.902Z"
   },
   {
    "duration": 18,
    "start_time": "2021-10-20T19:27:28.932Z"
   },
   {
    "duration": 297,
    "start_time": "2021-10-20T19:27:28.953Z"
   },
   {
    "duration": 356,
    "start_time": "2021-10-20T19:27:29.253Z"
   },
   {
    "duration": 299,
    "start_time": "2021-10-20T19:27:29.612Z"
   },
   {
    "duration": 11,
    "start_time": "2021-10-20T19:27:29.914Z"
   },
   {
    "duration": 334,
    "start_time": "2021-10-20T19:27:29.928Z"
   },
   {
    "duration": 22,
    "start_time": "2021-10-20T19:27:30.265Z"
   },
   {
    "duration": 16,
    "start_time": "2021-10-20T19:27:30.290Z"
   },
   {
    "duration": 23,
    "start_time": "2021-10-20T19:27:30.308Z"
   },
   {
    "duration": 389,
    "start_time": "2021-10-20T19:27:30.334Z"
   },
   {
    "duration": 15,
    "start_time": "2021-10-20T19:27:30.727Z"
   },
   {
    "duration": 39,
    "start_time": "2021-10-20T19:27:30.745Z"
   },
   {
    "duration": 26,
    "start_time": "2021-10-20T19:27:30.787Z"
   },
   {
    "duration": 67,
    "start_time": "2021-10-20T19:27:30.816Z"
   },
   {
    "duration": 28,
    "start_time": "2021-10-20T19:27:30.885Z"
   },
   {
    "duration": 4411,
    "start_time": "2021-10-20T19:27:30.916Z"
   },
   {
    "duration": 6,
    "start_time": "2021-10-20T19:27:35.330Z"
   },
   {
    "duration": 15,
    "start_time": "2021-10-20T19:27:35.339Z"
   },
   {
    "duration": 3467,
    "start_time": "2021-10-20T19:27:35.356Z"
   },
   {
    "duration": 10,
    "start_time": "2021-10-20T19:27:38.825Z"
   },
   {
    "duration": 13,
    "start_time": "2021-10-20T19:27:38.837Z"
   },
   {
    "duration": 40,
    "start_time": "2021-10-20T19:27:38.853Z"
   },
   {
    "duration": 21,
    "start_time": "2021-10-20T19:27:38.896Z"
   },
   {
    "duration": 20,
    "start_time": "2021-10-20T19:27:38.919Z"
   },
   {
    "duration": 9,
    "start_time": "2021-10-20T19:27:38.942Z"
   },
   {
    "duration": 43,
    "start_time": "2021-10-20T19:27:38.954Z"
   },
   {
    "duration": 14,
    "start_time": "2021-10-20T19:27:39.000Z"
   },
   {
    "duration": 32,
    "start_time": "2021-10-20T19:27:39.017Z"
   },
   {
    "duration": 40,
    "start_time": "2021-10-20T19:27:39.051Z"
   },
   {
    "duration": 635,
    "start_time": "2021-10-20T19:27:39.093Z"
   },
   {
    "duration": 14,
    "start_time": "2021-10-20T19:27:39.731Z"
   },
   {
    "duration": 36,
    "start_time": "2021-10-20T19:27:39.747Z"
   },
   {
    "duration": 13,
    "start_time": "2021-10-20T19:27:39.786Z"
   },
   {
    "duration": 11,
    "start_time": "2021-10-20T19:27:39.801Z"
   },
   {
    "duration": 6,
    "start_time": "2021-10-20T19:27:39.815Z"
   },
   {
    "duration": 6,
    "start_time": "2021-10-20T19:27:39.823Z"
   },
   {
    "duration": 89,
    "start_time": "2021-10-20T19:27:39.831Z"
   },
   {
    "duration": 916,
    "start_time": "2021-10-20T19:27:39.923Z"
   },
   {
    "duration": 12,
    "start_time": "2021-10-20T19:27:40.841Z"
   },
   {
    "duration": 730,
    "start_time": "2021-10-20T19:27:40.861Z"
   },
   {
    "duration": 47,
    "start_time": "2021-10-20T19:27:41.594Z"
   },
   {
    "duration": 10,
    "start_time": "2021-10-20T19:27:41.644Z"
   },
   {
    "duration": 34,
    "start_time": "2021-10-20T19:27:41.682Z"
   },
   {
    "duration": 98,
    "start_time": "2021-10-20T19:28:40.492Z"
   },
   {
    "duration": 91,
    "start_time": "2021-10-20T19:29:03.342Z"
   },
   {
    "duration": 4,
    "start_time": "2021-10-20T19:29:07.851Z"
   },
   {
    "duration": 68,
    "start_time": "2021-10-20T19:29:07.861Z"
   },
   {
    "duration": 6,
    "start_time": "2021-10-20T19:29:07.932Z"
   },
   {
    "duration": 40,
    "start_time": "2021-10-20T19:29:07.942Z"
   },
   {
    "duration": 8,
    "start_time": "2021-10-20T19:29:07.986Z"
   },
   {
    "duration": 18,
    "start_time": "2021-10-20T19:29:07.998Z"
   },
   {
    "duration": 86,
    "start_time": "2021-10-20T19:29:08.019Z"
   },
   {
    "duration": 13,
    "start_time": "2021-10-20T19:29:08.108Z"
   },
   {
    "duration": 11,
    "start_time": "2021-10-20T19:29:08.126Z"
   },
   {
    "duration": 124,
    "start_time": "2021-10-20T19:29:08.139Z"
   },
   {
    "duration": 92,
    "start_time": "2021-10-20T19:29:09.753Z"
   },
   {
    "duration": 103,
    "start_time": "2021-10-20T19:29:11.150Z"
   },
   {
    "duration": 3,
    "start_time": "2021-10-20T19:30:04.699Z"
   },
   {
    "duration": 38,
    "start_time": "2021-10-20T19:30:43.157Z"
   },
   {
    "duration": 8,
    "start_time": "2021-10-20T19:30:59.113Z"
   },
   {
    "duration": 47,
    "start_time": "2021-10-20T19:44:11.802Z"
   },
   {
    "duration": 12,
    "start_time": "2021-10-20T19:45:15.595Z"
   },
   {
    "duration": 37,
    "start_time": "2021-10-20T19:48:25.598Z"
   },
   {
    "duration": 4,
    "start_time": "2021-10-20T19:48:44.367Z"
   },
   {
    "duration": 71,
    "start_time": "2021-10-20T19:48:44.374Z"
   },
   {
    "duration": 6,
    "start_time": "2021-10-20T19:48:44.449Z"
   },
   {
    "duration": 24,
    "start_time": "2021-10-20T19:48:44.458Z"
   },
   {
    "duration": 17,
    "start_time": "2021-10-20T19:48:44.485Z"
   },
   {
    "duration": 23,
    "start_time": "2021-10-20T19:48:44.505Z"
   },
   {
    "duration": 60,
    "start_time": "2021-10-20T19:48:44.533Z"
   },
   {
    "duration": 12,
    "start_time": "2021-10-20T19:48:44.597Z"
   },
   {
    "duration": 14,
    "start_time": "2021-10-20T19:48:44.612Z"
   },
   {
    "duration": 124,
    "start_time": "2021-10-20T19:48:44.629Z"
   },
   {
    "duration": 58,
    "start_time": "2021-10-20T19:48:44.755Z"
   },
   {
    "duration": 104,
    "start_time": "2021-10-20T19:48:44.816Z"
   },
   {
    "duration": 45,
    "start_time": "2021-10-20T19:48:44.922Z"
   },
   {
    "duration": 48,
    "start_time": "2021-10-20T19:48:47.440Z"
   },
   {
    "duration": 49,
    "start_time": "2021-10-20T19:49:40.693Z"
   },
   {
    "duration": 106,
    "start_time": "2021-10-20T19:50:16.016Z"
   },
   {
    "duration": 4,
    "start_time": "2021-10-20T19:50:55.567Z"
   },
   {
    "duration": 4,
    "start_time": "2021-10-20T19:53:08.675Z"
   },
   {
    "duration": 67,
    "start_time": "2021-10-20T19:53:08.682Z"
   },
   {
    "duration": 5,
    "start_time": "2021-10-20T19:53:08.751Z"
   },
   {
    "duration": 33,
    "start_time": "2021-10-20T19:53:08.759Z"
   },
   {
    "duration": 7,
    "start_time": "2021-10-20T19:53:08.794Z"
   },
   {
    "duration": 22,
    "start_time": "2021-10-20T19:53:08.803Z"
   },
   {
    "duration": 98,
    "start_time": "2021-10-20T19:53:08.830Z"
   },
   {
    "duration": 52,
    "start_time": "2021-10-20T19:53:08.932Z"
   },
   {
    "duration": 12,
    "start_time": "2021-10-20T19:53:08.987Z"
   },
   {
    "duration": 115,
    "start_time": "2021-10-20T19:53:09.002Z"
   },
   {
    "duration": 65,
    "start_time": "2021-10-20T19:53:09.120Z"
   },
   {
    "duration": 100,
    "start_time": "2021-10-20T19:53:09.187Z"
   },
   {
    "duration": 46,
    "start_time": "2021-10-20T19:53:09.289Z"
   },
   {
    "duration": 6,
    "start_time": "2021-10-20T19:53:09.337Z"
   },
   {
    "duration": 39,
    "start_time": "2021-10-20T19:53:09.346Z"
   },
   {
    "duration": 19,
    "start_time": "2021-10-20T19:53:09.388Z"
   },
   {
    "duration": 23,
    "start_time": "2021-10-20T19:53:09.410Z"
   },
   {
    "duration": 52,
    "start_time": "2021-10-20T19:53:09.435Z"
   },
   {
    "duration": 6,
    "start_time": "2021-10-20T19:53:09.492Z"
   },
   {
    "duration": 9,
    "start_time": "2021-10-20T19:53:09.502Z"
   },
   {
    "duration": 27,
    "start_time": "2021-10-20T19:53:09.513Z"
   },
   {
    "duration": 289,
    "start_time": "2021-10-20T19:53:09.543Z"
   },
   {
    "duration": 9,
    "start_time": "2021-10-20T19:53:09.834Z"
   },
   {
    "duration": 38,
    "start_time": "2021-10-20T19:53:09.845Z"
   },
   {
    "duration": 8,
    "start_time": "2021-10-20T19:53:09.886Z"
   },
   {
    "duration": 4,
    "start_time": "2021-10-20T19:53:09.896Z"
   },
   {
    "duration": 22,
    "start_time": "2021-10-20T19:53:09.903Z"
   },
   {
    "duration": 337,
    "start_time": "2021-10-20T19:53:09.927Z"
   },
   {
    "duration": 18,
    "start_time": "2021-10-20T19:53:10.266Z"
   },
   {
    "duration": 14,
    "start_time": "2021-10-20T19:53:10.286Z"
   },
   {
    "duration": 21,
    "start_time": "2021-10-20T19:53:10.302Z"
   },
   {
    "duration": 9,
    "start_time": "2021-10-20T19:53:10.326Z"
   },
   {
    "duration": 305,
    "start_time": "2021-10-20T19:53:10.337Z"
   },
   {
    "duration": 331,
    "start_time": "2021-10-20T19:53:10.644Z"
   },
   {
    "duration": 291,
    "start_time": "2021-10-20T19:53:10.982Z"
   },
   {
    "duration": 15,
    "start_time": "2021-10-20T19:53:11.275Z"
   },
   {
    "duration": 307,
    "start_time": "2021-10-20T19:53:11.292Z"
   },
   {
    "duration": 11,
    "start_time": "2021-10-20T19:53:11.602Z"
   },
   {
    "duration": 6,
    "start_time": "2021-10-20T19:53:11.615Z"
   },
   {
    "duration": 19,
    "start_time": "2021-10-20T19:53:11.623Z"
   },
   {
    "duration": 312,
    "start_time": "2021-10-20T19:53:11.644Z"
   },
   {
    "duration": 26,
    "start_time": "2021-10-20T19:53:11.959Z"
   },
   {
    "duration": 7,
    "start_time": "2021-10-20T19:53:11.987Z"
   },
   {
    "duration": 26,
    "start_time": "2021-10-20T19:53:11.997Z"
   },
   {
    "duration": 76,
    "start_time": "2021-10-20T19:53:12.026Z"
   },
   {
    "duration": 29,
    "start_time": "2021-10-20T19:53:12.105Z"
   },
   {
    "duration": 4326,
    "start_time": "2021-10-20T19:53:12.137Z"
   },
   {
    "duration": 19,
    "start_time": "2021-10-20T19:53:16.466Z"
   },
   {
    "duration": 9,
    "start_time": "2021-10-20T19:53:16.488Z"
   },
   {
    "duration": 3500,
    "start_time": "2021-10-20T19:53:16.500Z"
   },
   {
    "duration": 10,
    "start_time": "2021-10-20T19:53:20.002Z"
   },
   {
    "duration": 20,
    "start_time": "2021-10-20T19:53:20.014Z"
   },
   {
    "duration": 17,
    "start_time": "2021-10-20T19:53:20.036Z"
   },
   {
    "duration": 28,
    "start_time": "2021-10-20T19:53:20.056Z"
   },
   {
    "duration": 18,
    "start_time": "2021-10-20T19:53:20.092Z"
   },
   {
    "duration": 9,
    "start_time": "2021-10-20T19:53:20.113Z"
   },
   {
    "duration": 15,
    "start_time": "2021-10-20T19:53:20.125Z"
   },
   {
    "duration": 49,
    "start_time": "2021-10-20T19:53:20.142Z"
   },
   {
    "duration": 10,
    "start_time": "2021-10-20T19:53:20.194Z"
   },
   {
    "duration": 20,
    "start_time": "2021-10-20T19:53:20.207Z"
   },
   {
    "duration": 674,
    "start_time": "2021-10-20T19:53:20.230Z"
   },
   {
    "duration": 13,
    "start_time": "2021-10-20T19:53:20.906Z"
   },
   {
    "duration": 14,
    "start_time": "2021-10-20T19:53:20.921Z"
   },
   {
    "duration": 10,
    "start_time": "2021-10-20T19:53:20.938Z"
   },
   {
    "duration": 11,
    "start_time": "2021-10-20T19:53:20.983Z"
   },
   {
    "duration": 9,
    "start_time": "2021-10-20T19:53:20.996Z"
   },
   {
    "duration": 9,
    "start_time": "2021-10-20T19:53:21.007Z"
   },
   {
    "duration": 66,
    "start_time": "2021-10-20T19:53:21.019Z"
   },
   {
    "duration": 1022,
    "start_time": "2021-10-20T19:53:21.088Z"
   },
   {
    "duration": 11,
    "start_time": "2021-10-20T19:53:22.113Z"
   },
   {
    "duration": 638,
    "start_time": "2021-10-20T19:53:22.127Z"
   },
   {
    "duration": 75,
    "start_time": "2021-10-20T19:53:22.769Z"
   },
   {
    "duration": 10,
    "start_time": "2021-10-20T19:53:22.846Z"
   },
   {
    "duration": 57,
    "start_time": "2021-10-20T19:53:22.858Z"
   },
   {
    "duration": 79,
    "start_time": "2021-10-20T19:54:12.320Z"
   },
   {
    "duration": 104,
    "start_time": "2021-10-20T19:55:23.327Z"
   },
   {
    "duration": 94,
    "start_time": "2021-10-20T19:56:07.105Z"
   },
   {
    "duration": 4,
    "start_time": "2021-10-20T19:57:20.774Z"
   },
   {
    "duration": 75,
    "start_time": "2021-10-20T19:57:34.424Z"
   },
   {
    "duration": 91,
    "start_time": "2021-10-20T19:59:08.941Z"
   },
   {
    "duration": 4,
    "start_time": "2021-10-20T20:06:39.141Z"
   },
   {
    "duration": 67,
    "start_time": "2021-10-20T20:06:39.151Z"
   },
   {
    "duration": 5,
    "start_time": "2021-10-20T20:06:39.220Z"
   },
   {
    "duration": 17,
    "start_time": "2021-10-20T20:06:39.228Z"
   },
   {
    "duration": 6,
    "start_time": "2021-10-20T20:06:39.248Z"
   },
   {
    "duration": 16,
    "start_time": "2021-10-20T20:06:39.283Z"
   },
   {
    "duration": 83,
    "start_time": "2021-10-20T20:06:39.301Z"
   },
   {
    "duration": 12,
    "start_time": "2021-10-20T20:06:39.386Z"
   },
   {
    "duration": 16,
    "start_time": "2021-10-20T20:06:39.400Z"
   },
   {
    "duration": 141,
    "start_time": "2021-10-20T20:06:39.422Z"
   },
   {
    "duration": 70,
    "start_time": "2021-10-20T20:06:39.566Z"
   },
   {
    "duration": 106,
    "start_time": "2021-10-20T20:06:39.638Z"
   },
   {
    "duration": 59,
    "start_time": "2021-10-20T20:06:39.748Z"
   },
   {
    "duration": 8,
    "start_time": "2021-10-20T20:06:39.810Z"
   },
   {
    "duration": 16,
    "start_time": "2021-10-20T20:06:39.822Z"
   },
   {
    "duration": 56,
    "start_time": "2021-10-20T20:06:39.840Z"
   },
   {
    "duration": 28,
    "start_time": "2021-10-20T20:06:39.898Z"
   },
   {
    "duration": 22,
    "start_time": "2021-10-20T20:06:39.928Z"
   },
   {
    "duration": 31,
    "start_time": "2021-10-20T20:06:39.952Z"
   },
   {
    "duration": 4,
    "start_time": "2021-10-20T20:06:39.985Z"
   },
   {
    "duration": 24,
    "start_time": "2021-10-20T20:06:39.991Z"
   },
   {
    "duration": 360,
    "start_time": "2021-10-20T20:06:40.017Z"
   },
   {
    "duration": 9,
    "start_time": "2021-10-20T20:06:40.379Z"
   },
   {
    "duration": 21,
    "start_time": "2021-10-20T20:06:40.390Z"
   },
   {
    "duration": 8,
    "start_time": "2021-10-20T20:06:40.414Z"
   },
   {
    "duration": 3,
    "start_time": "2021-10-20T20:06:40.425Z"
   },
   {
    "duration": 31,
    "start_time": "2021-10-20T20:06:40.430Z"
   },
   {
    "duration": 318,
    "start_time": "2021-10-20T20:06:40.468Z"
   },
   {
    "duration": 9,
    "start_time": "2021-10-20T20:06:40.789Z"
   },
   {
    "duration": 23,
    "start_time": "2021-10-20T20:06:40.800Z"
   },
   {
    "duration": 13,
    "start_time": "2021-10-20T20:06:40.825Z"
   },
   {
    "duration": 11,
    "start_time": "2021-10-20T20:06:40.840Z"
   },
   {
    "duration": 358,
    "start_time": "2021-10-20T20:06:40.853Z"
   },
   {
    "duration": 506,
    "start_time": "2021-10-20T20:06:41.214Z"
   },
   {
    "duration": 295,
    "start_time": "2021-10-20T20:06:41.723Z"
   },
   {
    "duration": 11,
    "start_time": "2021-10-20T20:06:42.022Z"
   },
   {
    "duration": 449,
    "start_time": "2021-10-20T20:06:42.036Z"
   },
   {
    "duration": 11,
    "start_time": "2021-10-20T20:06:42.488Z"
   },
   {
    "duration": 4,
    "start_time": "2021-10-20T20:06:42.502Z"
   },
   {
    "duration": 16,
    "start_time": "2021-10-20T20:06:42.508Z"
   },
   {
    "duration": 321,
    "start_time": "2021-10-20T20:06:42.526Z"
   },
   {
    "duration": 15,
    "start_time": "2021-10-20T20:06:42.849Z"
   },
   {
    "duration": 8,
    "start_time": "2021-10-20T20:06:42.883Z"
   },
   {
    "duration": 25,
    "start_time": "2021-10-20T20:06:42.893Z"
   },
   {
    "duration": 70,
    "start_time": "2021-10-20T20:06:42.921Z"
   },
   {
    "duration": 27,
    "start_time": "2021-10-20T20:06:42.993Z"
   },
   {
    "duration": 4296,
    "start_time": "2021-10-20T20:06:43.022Z"
   },
   {
    "duration": 7,
    "start_time": "2021-10-20T20:06:47.320Z"
   },
   {
    "duration": 9,
    "start_time": "2021-10-20T20:06:47.329Z"
   },
   {
    "duration": 3444,
    "start_time": "2021-10-20T20:06:47.340Z"
   },
   {
    "duration": 10,
    "start_time": "2021-10-20T20:06:50.786Z"
   },
   {
    "duration": 10,
    "start_time": "2021-10-20T20:06:50.799Z"
   },
   {
    "duration": 15,
    "start_time": "2021-10-20T20:06:50.811Z"
   },
   {
    "duration": 12,
    "start_time": "2021-10-20T20:06:50.829Z"
   },
   {
    "duration": 48,
    "start_time": "2021-10-20T20:06:50.844Z"
   },
   {
    "duration": 11,
    "start_time": "2021-10-20T20:06:50.895Z"
   },
   {
    "duration": 17,
    "start_time": "2021-10-20T20:06:50.908Z"
   },
   {
    "duration": 12,
    "start_time": "2021-10-20T20:06:50.927Z"
   },
   {
    "duration": 48,
    "start_time": "2021-10-20T20:06:50.942Z"
   },
   {
    "duration": 22,
    "start_time": "2021-10-20T20:06:50.993Z"
   },
   {
    "duration": 924,
    "start_time": "2021-10-20T20:06:51.018Z"
   },
   {
    "duration": 14,
    "start_time": "2021-10-20T20:06:51.945Z"
   },
   {
    "duration": 23,
    "start_time": "2021-10-20T20:06:51.961Z"
   },
   {
    "duration": 10,
    "start_time": "2021-10-20T20:06:51.986Z"
   },
   {
    "duration": 9,
    "start_time": "2021-10-20T20:06:51.998Z"
   },
   {
    "duration": 5,
    "start_time": "2021-10-20T20:06:52.010Z"
   },
   {
    "duration": 14,
    "start_time": "2021-10-20T20:06:52.017Z"
   },
   {
    "duration": 92,
    "start_time": "2021-10-20T20:06:52.033Z"
   },
   {
    "duration": 1096,
    "start_time": "2021-10-20T20:06:52.128Z"
   },
   {
    "duration": 12,
    "start_time": "2021-10-20T20:06:53.227Z"
   },
   {
    "duration": 618,
    "start_time": "2021-10-20T20:06:53.242Z"
   },
   {
    "duration": 58,
    "start_time": "2021-10-20T20:06:53.862Z"
   },
   {
    "duration": 9,
    "start_time": "2021-10-20T20:06:53.922Z"
   },
   {
    "duration": 63,
    "start_time": "2021-10-20T20:06:53.934Z"
   },
   {
    "duration": 52,
    "start_time": "2021-10-20T20:24:54.732Z"
   },
   {
    "duration": 55,
    "start_time": "2021-10-20T20:26:22.452Z"
   },
   {
    "duration": 57,
    "start_time": "2021-10-20T20:26:38.445Z"
   },
   {
    "duration": 295,
    "start_time": "2021-10-20T20:29:32.629Z"
   },
   {
    "duration": 624,
    "start_time": "2021-10-20T20:29:39.083Z"
   },
   {
    "duration": 1979,
    "start_time": "2021-10-20T20:30:01.670Z"
   },
   {
    "duration": 671,
    "start_time": "2021-10-20T20:30:18.273Z"
   },
   {
    "duration": 301,
    "start_time": "2021-10-20T20:33:30.071Z"
   },
   {
    "duration": 282,
    "start_time": "2021-10-20T20:33:44.481Z"
   },
   {
    "duration": 278,
    "start_time": "2021-10-20T20:33:49.224Z"
   },
   {
    "duration": 274,
    "start_time": "2021-10-20T20:33:53.238Z"
   },
   {
    "duration": 274,
    "start_time": "2021-10-20T20:33:58.697Z"
   },
   {
    "duration": 312,
    "start_time": "2021-10-20T20:34:03.846Z"
   },
   {
    "duration": 301,
    "start_time": "2021-10-20T20:34:34.438Z"
   },
   {
    "duration": 310,
    "start_time": "2021-10-20T20:34:42.678Z"
   },
   {
    "duration": 429,
    "start_time": "2021-10-20T20:35:01.867Z"
   },
   {
    "duration": 285,
    "start_time": "2021-10-20T20:35:04.212Z"
   },
   {
    "duration": 8,
    "start_time": "2021-10-20T20:35:12.371Z"
   },
   {
    "duration": 275,
    "start_time": "2021-10-20T20:35:21.614Z"
   },
   {
    "duration": 289,
    "start_time": "2021-10-20T20:36:00.741Z"
   },
   {
    "duration": 647,
    "start_time": "2021-10-20T20:36:16.546Z"
   },
   {
    "duration": 500,
    "start_time": "2021-10-20T20:36:27.588Z"
   },
   {
    "duration": 9,
    "start_time": "2021-10-20T20:36:38.175Z"
   },
   {
    "duration": 496,
    "start_time": "2021-10-20T20:36:47.355Z"
   },
   {
    "duration": 778,
    "start_time": "2021-10-20T20:36:55.633Z"
   },
   {
    "duration": 10,
    "start_time": "2021-10-20T20:37:03.047Z"
   },
   {
    "duration": 13,
    "start_time": "2021-10-20T20:37:22.747Z"
   },
   {
    "duration": 18,
    "start_time": "2021-10-20T20:37:30.670Z"
   },
   {
    "duration": 37,
    "start_time": "2021-10-20T20:44:46.603Z"
   },
   {
    "duration": 37,
    "start_time": "2021-10-20T20:45:40.340Z"
   },
   {
    "duration": 36,
    "start_time": "2021-10-20T20:46:25.608Z"
   },
   {
    "duration": 98,
    "start_time": "2021-10-20T20:51:19.383Z"
   }
  ],
  "kernelspec": {
   "display_name": "Python 3 (ipykernel)",
   "language": "python",
   "name": "python3"
  },
  "language_info": {
   "codemirror_mode": {
    "name": "ipython",
    "version": 3
   },
   "file_extension": ".py",
   "mimetype": "text/x-python",
   "name": "python",
   "nbconvert_exporter": "python",
   "pygments_lexer": "ipython3",
   "version": "3.9.7"
  },
  "toc": {
   "base_numbering": 1,
   "nav_menu": {},
   "number_sections": true,
   "sideBar": true,
   "skip_h1_title": true,
   "title_cell": "Table of Contents",
   "title_sidebar": "Contents",
   "toc_cell": false,
   "toc_position": {},
   "toc_section_display": true,
   "toc_window_display": false
  }
 },
 "nbformat": 4,
 "nbformat_minor": 2
}