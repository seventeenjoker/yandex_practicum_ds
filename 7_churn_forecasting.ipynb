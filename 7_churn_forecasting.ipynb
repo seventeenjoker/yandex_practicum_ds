{
 "cells": [
  {
   "cell_type": "markdown",
   "metadata": {
    "toc": true
   },
   "source": [
    "<h1>Содержание<span class=\"tocSkip\"></span></h1>\n",
    "<div class=\"toc\"><ul class=\"toc-item\"><li><span><a href=\"#Подготовка-данных\" data-toc-modified-id=\"Подготовка-данных-1\"><span class=\"toc-item-num\">1&nbsp;&nbsp;</span>Подготовка данных</a></span></li><li><span><a href=\"#Исследование-задачи\" data-toc-modified-id=\"Исследование-задачи-2\"><span class=\"toc-item-num\">2&nbsp;&nbsp;</span>Исследование задачи</a></span><ul class=\"toc-item\"><li><span><a href=\"#One-Hot-Encoding\" data-toc-modified-id=\"One-Hot-Encoding-2.1\"><span class=\"toc-item-num\">2.1&nbsp;&nbsp;</span>One-Hot Encoding</a></span></li><li><span><a href=\"#Масштабирование-признаков\" data-toc-modified-id=\"Масштабирование-признаков-2.2\"><span class=\"toc-item-num\">2.2&nbsp;&nbsp;</span>Масштабирование признаков</a></span></li></ul></li><li><span><a href=\"#Борьба-с-дисбалансом\" data-toc-modified-id=\"Борьба-с-дисбалансом-3\"><span class=\"toc-item-num\">3&nbsp;&nbsp;</span>Борьба с дисбалансом</a></span><ul class=\"toc-item\"><li><span><a href=\"#Без-балансировки\" data-toc-modified-id=\"Без-балансировки-3.1\"><span class=\"toc-item-num\">3.1&nbsp;&nbsp;</span>Без балансировки</a></span><ul class=\"toc-item\"><li><span><a href=\"#Лог-регрессия-до-балансировки\" data-toc-modified-id=\"Лог-регрессия-до-балансировки-3.1.1\"><span class=\"toc-item-num\">3.1.1&nbsp;&nbsp;</span>Лог регрессия до балансировки</a></span></li><li><span><a href=\"#Дерево-принятия-решений-до-балансировки\" data-toc-modified-id=\"Дерево-принятия-решений-до-балансировки-3.1.2\"><span class=\"toc-item-num\">3.1.2&nbsp;&nbsp;</span>Дерево принятия решений до балансировки</a></span></li><li><span><a href=\"#Случайный-лес-до-балансировки\" data-toc-modified-id=\"Случайный-лес-до-балансировки-3.1.3\"><span class=\"toc-item-num\">3.1.3&nbsp;&nbsp;</span>Случайный лес до балансировки</a></span></li></ul></li><li><span><a href=\"#Увеличение-выборки\" data-toc-modified-id=\"Увеличение-выборки-3.2\"><span class=\"toc-item-num\">3.2&nbsp;&nbsp;</span>Увеличение выборки</a></span><ul class=\"toc-item\"><li><span><a href=\"#Лог-регрессия-после-балансировки\" data-toc-modified-id=\"Лог-регрессия-после-балансировки-3.2.1\"><span class=\"toc-item-num\">3.2.1&nbsp;&nbsp;</span>Лог регрессия после балансировки</a></span></li><li><span><a href=\"#Дерево-принятия-решений-после-балансировки\" data-toc-modified-id=\"Дерево-принятия-решений-после-балансировки-3.2.2\"><span class=\"toc-item-num\">3.2.2&nbsp;&nbsp;</span>Дерево принятия решений после балансировки</a></span></li><li><span><a href=\"#Случайный-лес-после-балансировки\" data-toc-modified-id=\"Случайный-лес-после-балансировки-3.2.3\"><span class=\"toc-item-num\">3.2.3&nbsp;&nbsp;</span>Случайный лес после балансировки</a></span></li></ul></li><li><span><a href=\"#Уменьшение-выборки\" data-toc-modified-id=\"Уменьшение-выборки-3.3\"><span class=\"toc-item-num\">3.3&nbsp;&nbsp;</span>Уменьшение выборки</a></span><ul class=\"toc-item\"><li><span><a href=\"#Лог-регрессия-после-балансировки\" data-toc-modified-id=\"Лог-регрессия-после-балансировки-3.3.1\"><span class=\"toc-item-num\">3.3.1&nbsp;&nbsp;</span>Лог регрессия после балансировки</a></span></li><li><span><a href=\"#Дерево-принятия-решений-после-балансировки\" data-toc-modified-id=\"Дерево-принятия-решений-после-балансировки-3.3.2\"><span class=\"toc-item-num\">3.3.2&nbsp;&nbsp;</span>Дерево принятия решений после балансировки</a></span></li><li><span><a href=\"#Случайный-лес-после-балансировки\" data-toc-modified-id=\"Случайный-лес-после-балансировки-3.3.3\"><span class=\"toc-item-num\">3.3.3&nbsp;&nbsp;</span>Случайный лес после балансировки</a></span></li></ul></li></ul></li><li><span><a href=\"#Тестирование-модели\" data-toc-modified-id=\"Тестирование-модели-4\"><span class=\"toc-item-num\">4&nbsp;&nbsp;</span>Тестирование модели</a></span></li><li><span><a href=\"#Чек-лист-готовности-проекта\" data-toc-modified-id=\"Чек-лист-готовности-проекта-5\"><span class=\"toc-item-num\">5&nbsp;&nbsp;</span>Чек-лист готовности проекта</a></span></li></ul></div>"
   ]
  },
  {
   "cell_type": "markdown",
   "metadata": {},
   "source": [
    "# Отток клиентов"
   ]
  },
  {
   "cell_type": "markdown",
   "metadata": {},
   "source": [
    "Из «Бета-Банка» стали уходить клиенты. Каждый месяц. Немного, но заметно. Банковские маркетологи посчитали: сохранять текущих клиентов дешевле, чем привлекать новых.\n",
    "\n",
    "Нужно спрогнозировать, уйдёт клиент из банка в ближайшее время или нет. Вам предоставлены исторические данные о поведении клиентов и расторжении договоров с банком. \n",
    "\n",
    "Постройте модель с предельно большим значением *F1*-меры. Чтобы сдать проект успешно, нужно довести метрику до 0.59. Проверьте *F1*-меру на тестовой выборке самостоятельно.\n",
    "\n",
    "Дополнительно измеряйте *AUC-ROC*, сравнивайте её значение с *F1*-мерой.\n",
    "\n",
    "Источник данных: [https://www.kaggle.com/barelydedicated/bank-customer-churn-modeling](https://www.kaggle.com/barelydedicated/bank-customer-churn-modeling)"
   ]
  },
  {
   "cell_type": "markdown",
   "metadata": {},
   "source": [
    "Признаки\n",
    "- RowNumber — индекс строки в данных\n",
    "- CustomerId — уникальный идентификатор клиента\n",
    "- Surname — фамилия\n",
    "- CreditScore — кредитный рейтинг\n",
    "- Geography — страна проживания\n",
    "- Gender — пол\n",
    "- Age — возраст\n",
    "- Tenure — сколько лет человек является клиентом банка\n",
    "- Balance — баланс на счёте\n",
    "- NumOfProducts — количество продуктов банка, используемых клиентом\n",
    "- HasCrCard — наличие кредитной карты\n",
    "- IsActiveMember — активность клиента\n",
    "- EstimatedSalary — предполагаемая зарплата\n",
    "\n",
    "Целевой признак\n",
    "- Exited — факт ухода клиента"
   ]
  },
  {
   "cell_type": "markdown",
   "metadata": {},
   "source": [
    "## Подготовка данных"
   ]
  },
  {
   "cell_type": "code",
   "execution_count": 2,
   "metadata": {},
   "outputs": [
    {
     "name": "stdout",
     "output_type": "stream",
     "text": [
      "Defaulting to user installation because normal site-packages is not writeable\n",
      "Collecting tabulate\n",
      "  Downloading tabulate-0.8.9-py3-none-any.whl (25 kB)\n",
      "Installing collected packages: tabulate\n",
      "\u001B[33m  WARNING: The script tabulate is installed in '/home/jovyan/.local/bin' which is not on PATH.\n",
      "  Consider adding this directory to PATH or, if you prefer to suppress this warning, use --no-warn-script-location.\u001B[0m\n",
      "Successfully installed tabulate-0.8.9\n",
      "Note: you may need to restart the kernel to use updated packages.\n"
     ]
    }
   ],
   "source": [
    "# !pip install tabulate"
   ]
  },
  {
   "cell_type": "code",
   "execution_count": 4,
   "metadata": {},
   "outputs": [],
   "source": [
    "import pandas as pd\n",
    "import numpy as np\n",
    "import warnings\n",
    "import seaborn as sns\n",
    "import matplotlib.pyplot as plt\n",
    "\n",
    "from sklearn.tree import DecisionTreeClassifier\n",
    "from sklearn.ensemble import RandomForestClassifier\n",
    "from sklearn.linear_model import LogisticRegression\n",
    "from sklearn.model_selection import train_test_split\n",
    "from sklearn.utils import shuffle\n",
    "from sklearn.preprocessing import StandardScaler\n",
    "from sklearn.metrics import f1_score, roc_curve, confusion_matrix, roc_auc_score\n",
    "\n",
    "from tabulate import tabulate\n",
    "\n",
    "warnings.filterwarnings(\"ignore\")"
   ]
  },
  {
   "cell_type": "code",
   "execution_count": 5,
   "metadata": {
    "scrolled": false
   },
   "outputs": [
    {
     "data": {
      "text/html": [
       "<div>\n",
       "<style scoped>\n",
       "    .dataframe tbody tr th:only-of-type {\n",
       "        vertical-align: middle;\n",
       "    }\n",
       "\n",
       "    .dataframe tbody tr th {\n",
       "        vertical-align: top;\n",
       "    }\n",
       "\n",
       "    .dataframe thead th {\n",
       "        text-align: right;\n",
       "    }\n",
       "</style>\n",
       "<table border=\"1\" class=\"dataframe\">\n",
       "  <thead>\n",
       "    <tr style=\"text-align: right;\">\n",
       "      <th></th>\n",
       "      <th>RowNumber</th>\n",
       "      <th>CustomerId</th>\n",
       "      <th>Surname</th>\n",
       "      <th>CreditScore</th>\n",
       "      <th>Geography</th>\n",
       "      <th>Gender</th>\n",
       "      <th>Age</th>\n",
       "      <th>Tenure</th>\n",
       "      <th>Balance</th>\n",
       "      <th>NumOfProducts</th>\n",
       "      <th>HasCrCard</th>\n",
       "      <th>IsActiveMember</th>\n",
       "      <th>EstimatedSalary</th>\n",
       "      <th>Exited</th>\n",
       "    </tr>\n",
       "  </thead>\n",
       "  <tbody>\n",
       "    <tr>\n",
       "      <td>0</td>\n",
       "      <td>1</td>\n",
       "      <td>15634602</td>\n",
       "      <td>Hargrave</td>\n",
       "      <td>619</td>\n",
       "      <td>France</td>\n",
       "      <td>Female</td>\n",
       "      <td>42</td>\n",
       "      <td>2.0</td>\n",
       "      <td>0.00</td>\n",
       "      <td>1</td>\n",
       "      <td>1</td>\n",
       "      <td>1</td>\n",
       "      <td>101348.88</td>\n",
       "      <td>1</td>\n",
       "    </tr>\n",
       "    <tr>\n",
       "      <td>1</td>\n",
       "      <td>2</td>\n",
       "      <td>15647311</td>\n",
       "      <td>Hill</td>\n",
       "      <td>608</td>\n",
       "      <td>Spain</td>\n",
       "      <td>Female</td>\n",
       "      <td>41</td>\n",
       "      <td>1.0</td>\n",
       "      <td>83807.86</td>\n",
       "      <td>1</td>\n",
       "      <td>0</td>\n",
       "      <td>1</td>\n",
       "      <td>112542.58</td>\n",
       "      <td>0</td>\n",
       "    </tr>\n",
       "    <tr>\n",
       "      <td>2</td>\n",
       "      <td>3</td>\n",
       "      <td>15619304</td>\n",
       "      <td>Onio</td>\n",
       "      <td>502</td>\n",
       "      <td>France</td>\n",
       "      <td>Female</td>\n",
       "      <td>42</td>\n",
       "      <td>8.0</td>\n",
       "      <td>159660.80</td>\n",
       "      <td>3</td>\n",
       "      <td>1</td>\n",
       "      <td>0</td>\n",
       "      <td>113931.57</td>\n",
       "      <td>1</td>\n",
       "    </tr>\n",
       "    <tr>\n",
       "      <td>3</td>\n",
       "      <td>4</td>\n",
       "      <td>15701354</td>\n",
       "      <td>Boni</td>\n",
       "      <td>699</td>\n",
       "      <td>France</td>\n",
       "      <td>Female</td>\n",
       "      <td>39</td>\n",
       "      <td>1.0</td>\n",
       "      <td>0.00</td>\n",
       "      <td>2</td>\n",
       "      <td>0</td>\n",
       "      <td>0</td>\n",
       "      <td>93826.63</td>\n",
       "      <td>0</td>\n",
       "    </tr>\n",
       "    <tr>\n",
       "      <td>4</td>\n",
       "      <td>5</td>\n",
       "      <td>15737888</td>\n",
       "      <td>Mitchell</td>\n",
       "      <td>850</td>\n",
       "      <td>Spain</td>\n",
       "      <td>Female</td>\n",
       "      <td>43</td>\n",
       "      <td>2.0</td>\n",
       "      <td>125510.82</td>\n",
       "      <td>1</td>\n",
       "      <td>1</td>\n",
       "      <td>1</td>\n",
       "      <td>79084.10</td>\n",
       "      <td>0</td>\n",
       "    </tr>\n",
       "  </tbody>\n",
       "</table>\n",
       "</div>"
      ],
      "text/plain": [
       "   RowNumber  CustomerId   Surname  CreditScore Geography  Gender  Age  \\\n",
       "0          1    15634602  Hargrave          619    France  Female   42   \n",
       "1          2    15647311      Hill          608     Spain  Female   41   \n",
       "2          3    15619304      Onio          502    France  Female   42   \n",
       "3          4    15701354      Boni          699    France  Female   39   \n",
       "4          5    15737888  Mitchell          850     Spain  Female   43   \n",
       "\n",
       "   Tenure    Balance  NumOfProducts  HasCrCard  IsActiveMember  \\\n",
       "0     2.0       0.00              1          1               1   \n",
       "1     1.0   83807.86              1          0               1   \n",
       "2     8.0  159660.80              3          1               0   \n",
       "3     1.0       0.00              2          0               0   \n",
       "4     2.0  125510.82              1          1               1   \n",
       "\n",
       "   EstimatedSalary  Exited  \n",
       "0        101348.88       1  \n",
       "1        112542.58       0  \n",
       "2        113931.57       1  \n",
       "3         93826.63       0  \n",
       "4         79084.10       0  "
      ]
     },
     "execution_count": 5,
     "metadata": {},
     "output_type": "execute_result"
    }
   ],
   "source": [
    "df = pd.read_csv('/datasets/Churn.csv')\n",
    "df.head()"
   ]
  },
  {
   "cell_type": "markdown",
   "metadata": {},
   "source": [
    "Переименуем фичи"
   ]
  },
  {
   "cell_type": "code",
   "execution_count": 6,
   "metadata": {
    "scrolled": true
   },
   "outputs": [
    {
     "data": {
      "text/html": [
       "<div>\n",
       "<style scoped>\n",
       "    .dataframe tbody tr th:only-of-type {\n",
       "        vertical-align: middle;\n",
       "    }\n",
       "\n",
       "    .dataframe tbody tr th {\n",
       "        vertical-align: top;\n",
       "    }\n",
       "\n",
       "    .dataframe thead th {\n",
       "        text-align: right;\n",
       "    }\n",
       "</style>\n",
       "<table border=\"1\" class=\"dataframe\">\n",
       "  <thead>\n",
       "    <tr style=\"text-align: right;\">\n",
       "      <th></th>\n",
       "      <th>row_number</th>\n",
       "      <th>customer_id</th>\n",
       "      <th>surname</th>\n",
       "      <th>credit_score</th>\n",
       "      <th>geography</th>\n",
       "      <th>gender</th>\n",
       "      <th>age</th>\n",
       "      <th>tenure</th>\n",
       "      <th>balance</th>\n",
       "      <th>num_of_products</th>\n",
       "      <th>has_cr_card</th>\n",
       "      <th>is_active_member</th>\n",
       "      <th>estimated_salary</th>\n",
       "      <th>exited</th>\n",
       "    </tr>\n",
       "  </thead>\n",
       "  <tbody>\n",
       "    <tr>\n",
       "      <td>0</td>\n",
       "      <td>1</td>\n",
       "      <td>15634602</td>\n",
       "      <td>Hargrave</td>\n",
       "      <td>619</td>\n",
       "      <td>France</td>\n",
       "      <td>Female</td>\n",
       "      <td>42</td>\n",
       "      <td>2.0</td>\n",
       "      <td>0.00</td>\n",
       "      <td>1</td>\n",
       "      <td>1</td>\n",
       "      <td>1</td>\n",
       "      <td>101348.88</td>\n",
       "      <td>1</td>\n",
       "    </tr>\n",
       "    <tr>\n",
       "      <td>1</td>\n",
       "      <td>2</td>\n",
       "      <td>15647311</td>\n",
       "      <td>Hill</td>\n",
       "      <td>608</td>\n",
       "      <td>Spain</td>\n",
       "      <td>Female</td>\n",
       "      <td>41</td>\n",
       "      <td>1.0</td>\n",
       "      <td>83807.86</td>\n",
       "      <td>1</td>\n",
       "      <td>0</td>\n",
       "      <td>1</td>\n",
       "      <td>112542.58</td>\n",
       "      <td>0</td>\n",
       "    </tr>\n",
       "    <tr>\n",
       "      <td>2</td>\n",
       "      <td>3</td>\n",
       "      <td>15619304</td>\n",
       "      <td>Onio</td>\n",
       "      <td>502</td>\n",
       "      <td>France</td>\n",
       "      <td>Female</td>\n",
       "      <td>42</td>\n",
       "      <td>8.0</td>\n",
       "      <td>159660.80</td>\n",
       "      <td>3</td>\n",
       "      <td>1</td>\n",
       "      <td>0</td>\n",
       "      <td>113931.57</td>\n",
       "      <td>1</td>\n",
       "    </tr>\n",
       "    <tr>\n",
       "      <td>3</td>\n",
       "      <td>4</td>\n",
       "      <td>15701354</td>\n",
       "      <td>Boni</td>\n",
       "      <td>699</td>\n",
       "      <td>France</td>\n",
       "      <td>Female</td>\n",
       "      <td>39</td>\n",
       "      <td>1.0</td>\n",
       "      <td>0.00</td>\n",
       "      <td>2</td>\n",
       "      <td>0</td>\n",
       "      <td>0</td>\n",
       "      <td>93826.63</td>\n",
       "      <td>0</td>\n",
       "    </tr>\n",
       "    <tr>\n",
       "      <td>4</td>\n",
       "      <td>5</td>\n",
       "      <td>15737888</td>\n",
       "      <td>Mitchell</td>\n",
       "      <td>850</td>\n",
       "      <td>Spain</td>\n",
       "      <td>Female</td>\n",
       "      <td>43</td>\n",
       "      <td>2.0</td>\n",
       "      <td>125510.82</td>\n",
       "      <td>1</td>\n",
       "      <td>1</td>\n",
       "      <td>1</td>\n",
       "      <td>79084.10</td>\n",
       "      <td>0</td>\n",
       "    </tr>\n",
       "  </tbody>\n",
       "</table>\n",
       "</div>"
      ],
      "text/plain": [
       "   row_number  customer_id   surname  credit_score geography  gender  age  \\\n",
       "0           1     15634602  Hargrave           619    France  Female   42   \n",
       "1           2     15647311      Hill           608     Spain  Female   41   \n",
       "2           3     15619304      Onio           502    France  Female   42   \n",
       "3           4     15701354      Boni           699    France  Female   39   \n",
       "4           5     15737888  Mitchell           850     Spain  Female   43   \n",
       "\n",
       "   tenure    balance  num_of_products  has_cr_card  is_active_member  \\\n",
       "0     2.0       0.00                1            1                 1   \n",
       "1     1.0   83807.86                1            0                 1   \n",
       "2     8.0  159660.80                3            1                 0   \n",
       "3     1.0       0.00                2            0                 0   \n",
       "4     2.0  125510.82                1            1                 1   \n",
       "\n",
       "   estimated_salary  exited  \n",
       "0         101348.88       1  \n",
       "1         112542.58       0  \n",
       "2         113931.57       1  \n",
       "3          93826.63       0  \n",
       "4          79084.10       0  "
      ]
     },
     "execution_count": 6,
     "metadata": {},
     "output_type": "execute_result"
    }
   ],
   "source": [
    "df = df.rename(columns={\n",
    "    \"RowNumber\": \"row_number\", \n",
    "    \"CustomerId\": \"customer_id\",\n",
    "    \"Surname\": \"surname\",\n",
    "    \"CreditScore\": \"credit_score\",\n",
    "    \"Geography\": \"geography\",\n",
    "    \"Gender\": \"gender\",\n",
    "    \"Age\": \"age\",\n",
    "    \"Tenure\": \"tenure\",\n",
    "    \"Balance\": \"balance\",\n",
    "    \"NumOfProducts\": \"num_of_products\",\n",
    "    \"HasCrCard\": \"has_cr_card\",\n",
    "    \"IsActiveMember\": \"is_active_member\",\n",
    "    \"EstimatedSalary\": \"estimated_salary\",\n",
    "    \"Exited\": \"exited\",\n",
    "})\n",
    "df.head()"
   ]
  },
  {
   "cell_type": "code",
   "execution_count": 7,
   "metadata": {},
   "outputs": [
    {
     "data": {
      "text/plain": [
       "10000"
      ]
     },
     "execution_count": 7,
     "metadata": {},
     "output_type": "execute_result"
    }
   ],
   "source": [
    "df.row_number.nunique()"
   ]
  },
  {
   "cell_type": "code",
   "execution_count": 8,
   "metadata": {
    "scrolled": true
   },
   "outputs": [
    {
     "data": {
      "text/plain": [
       "(10000, 14)"
      ]
     },
     "execution_count": 8,
     "metadata": {},
     "output_type": "execute_result"
    }
   ],
   "source": [
    "df.shape"
   ]
  },
  {
   "cell_type": "markdown",
   "metadata": {},
   "source": [
    "Удалим столбец \trow_number - это дубль нашему индексу"
   ]
  },
  {
   "cell_type": "code",
   "execution_count": 9,
   "metadata": {
    "scrolled": true
   },
   "outputs": [
    {
     "data": {
      "text/html": [
       "<div>\n",
       "<style scoped>\n",
       "    .dataframe tbody tr th:only-of-type {\n",
       "        vertical-align: middle;\n",
       "    }\n",
       "\n",
       "    .dataframe tbody tr th {\n",
       "        vertical-align: top;\n",
       "    }\n",
       "\n",
       "    .dataframe thead th {\n",
       "        text-align: right;\n",
       "    }\n",
       "</style>\n",
       "<table border=\"1\" class=\"dataframe\">\n",
       "  <thead>\n",
       "    <tr style=\"text-align: right;\">\n",
       "      <th></th>\n",
       "      <th>customer_id</th>\n",
       "      <th>surname</th>\n",
       "      <th>credit_score</th>\n",
       "      <th>geography</th>\n",
       "      <th>gender</th>\n",
       "      <th>age</th>\n",
       "      <th>tenure</th>\n",
       "      <th>balance</th>\n",
       "      <th>num_of_products</th>\n",
       "      <th>has_cr_card</th>\n",
       "      <th>is_active_member</th>\n",
       "      <th>estimated_salary</th>\n",
       "      <th>exited</th>\n",
       "    </tr>\n",
       "  </thead>\n",
       "  <tbody>\n",
       "    <tr>\n",
       "      <td>5650</td>\n",
       "      <td>15644882</td>\n",
       "      <td>Watson</td>\n",
       "      <td>616</td>\n",
       "      <td>Germany</td>\n",
       "      <td>Female</td>\n",
       "      <td>36</td>\n",
       "      <td>10.0</td>\n",
       "      <td>78249.53</td>\n",
       "      <td>1</td>\n",
       "      <td>1</td>\n",
       "      <td>0</td>\n",
       "      <td>136934.91</td>\n",
       "      <td>0</td>\n",
       "    </tr>\n",
       "  </tbody>\n",
       "</table>\n",
       "</div>"
      ],
      "text/plain": [
       "      customer_id surname  credit_score geography  gender  age  tenure  \\\n",
       "5650     15644882  Watson           616   Germany  Female   36    10.0   \n",
       "\n",
       "       balance  num_of_products  has_cr_card  is_active_member  \\\n",
       "5650  78249.53                1            1                 0   \n",
       "\n",
       "      estimated_salary  exited  \n",
       "5650         136934.91       0  "
      ]
     },
     "execution_count": 9,
     "metadata": {},
     "output_type": "execute_result"
    }
   ],
   "source": [
    "df = df.drop('row_number', axis=1)\n",
    "df.sample()"
   ]
  },
  {
   "cell_type": "markdown",
   "metadata": {},
   "source": [
    "Удалим surname - этот признак не важен для наших данных"
   ]
  },
  {
   "cell_type": "code",
   "execution_count": 10,
   "metadata": {},
   "outputs": [
    {
     "data": {
      "text/html": [
       "<div>\n",
       "<style scoped>\n",
       "    .dataframe tbody tr th:only-of-type {\n",
       "        vertical-align: middle;\n",
       "    }\n",
       "\n",
       "    .dataframe tbody tr th {\n",
       "        vertical-align: top;\n",
       "    }\n",
       "\n",
       "    .dataframe thead th {\n",
       "        text-align: right;\n",
       "    }\n",
       "</style>\n",
       "<table border=\"1\" class=\"dataframe\">\n",
       "  <thead>\n",
       "    <tr style=\"text-align: right;\">\n",
       "      <th></th>\n",
       "      <th>customer_id</th>\n",
       "      <th>credit_score</th>\n",
       "      <th>geography</th>\n",
       "      <th>gender</th>\n",
       "      <th>age</th>\n",
       "      <th>tenure</th>\n",
       "      <th>balance</th>\n",
       "      <th>num_of_products</th>\n",
       "      <th>has_cr_card</th>\n",
       "      <th>is_active_member</th>\n",
       "      <th>estimated_salary</th>\n",
       "      <th>exited</th>\n",
       "    </tr>\n",
       "  </thead>\n",
       "  <tbody>\n",
       "    <tr>\n",
       "      <td>5852</td>\n",
       "      <td>15782100</td>\n",
       "      <td>544</td>\n",
       "      <td>Spain</td>\n",
       "      <td>Male</td>\n",
       "      <td>22</td>\n",
       "      <td>3.0</td>\n",
       "      <td>66483.32</td>\n",
       "      <td>1</td>\n",
       "      <td>0</td>\n",
       "      <td>1</td>\n",
       "      <td>110317.39</td>\n",
       "      <td>0</td>\n",
       "    </tr>\n",
       "  </tbody>\n",
       "</table>\n",
       "</div>"
      ],
      "text/plain": [
       "      customer_id  credit_score geography gender  age  tenure   balance  \\\n",
       "5852     15782100           544     Spain   Male   22     3.0  66483.32   \n",
       "\n",
       "      num_of_products  has_cr_card  is_active_member  estimated_salary  exited  \n",
       "5852                1            0                 1         110317.39       0  "
      ]
     },
     "execution_count": 10,
     "metadata": {},
     "output_type": "execute_result"
    }
   ],
   "source": [
    "df = df.drop('surname', axis=1)\n",
    "df.sample()"
   ]
  },
  {
   "cell_type": "markdown",
   "metadata": {},
   "source": [
    "Удалим customer_id - этот признак не важен для наших данных"
   ]
  },
  {
   "cell_type": "code",
   "execution_count": 11,
   "metadata": {},
   "outputs": [
    {
     "data": {
      "text/html": [
       "<div>\n",
       "<style scoped>\n",
       "    .dataframe tbody tr th:only-of-type {\n",
       "        vertical-align: middle;\n",
       "    }\n",
       "\n",
       "    .dataframe tbody tr th {\n",
       "        vertical-align: top;\n",
       "    }\n",
       "\n",
       "    .dataframe thead th {\n",
       "        text-align: right;\n",
       "    }\n",
       "</style>\n",
       "<table border=\"1\" class=\"dataframe\">\n",
       "  <thead>\n",
       "    <tr style=\"text-align: right;\">\n",
       "      <th></th>\n",
       "      <th>credit_score</th>\n",
       "      <th>geography</th>\n",
       "      <th>gender</th>\n",
       "      <th>age</th>\n",
       "      <th>tenure</th>\n",
       "      <th>balance</th>\n",
       "      <th>num_of_products</th>\n",
       "      <th>has_cr_card</th>\n",
       "      <th>is_active_member</th>\n",
       "      <th>estimated_salary</th>\n",
       "      <th>exited</th>\n",
       "    </tr>\n",
       "  </thead>\n",
       "  <tbody>\n",
       "    <tr>\n",
       "      <td>5786</td>\n",
       "      <td>588</td>\n",
       "      <td>France</td>\n",
       "      <td>Male</td>\n",
       "      <td>40</td>\n",
       "      <td>5.0</td>\n",
       "      <td>0.0</td>\n",
       "      <td>2</td>\n",
       "      <td>0</td>\n",
       "      <td>0</td>\n",
       "      <td>100727.68</td>\n",
       "      <td>0</td>\n",
       "    </tr>\n",
       "  </tbody>\n",
       "</table>\n",
       "</div>"
      ],
      "text/plain": [
       "      credit_score geography gender  age  tenure  balance  num_of_products  \\\n",
       "5786           588    France   Male   40     5.0      0.0                2   \n",
       "\n",
       "      has_cr_card  is_active_member  estimated_salary  exited  \n",
       "5786            0                 0         100727.68       0  "
      ]
     },
     "execution_count": 11,
     "metadata": {},
     "output_type": "execute_result"
    }
   ],
   "source": [
    "df = df.drop('customer_id', axis=1)\n",
    "df.sample()"
   ]
  },
  {
   "cell_type": "code",
   "execution_count": 12,
   "metadata": {},
   "outputs": [
    {
     "name": "stdout",
     "output_type": "stream",
     "text": [
      "<class 'pandas.core.frame.DataFrame'>\n",
      "RangeIndex: 10000 entries, 0 to 9999\n",
      "Data columns (total 11 columns):\n",
      "credit_score        10000 non-null int64\n",
      "geography           10000 non-null object\n",
      "gender              10000 non-null object\n",
      "age                 10000 non-null int64\n",
      "tenure              9091 non-null float64\n",
      "balance             10000 non-null float64\n",
      "num_of_products     10000 non-null int64\n",
      "has_cr_card         10000 non-null int64\n",
      "is_active_member    10000 non-null int64\n",
      "estimated_salary    10000 non-null float64\n",
      "exited              10000 non-null int64\n",
      "dtypes: float64(3), int64(6), object(2)\n",
      "memory usage: 859.5+ KB\n"
     ]
    }
   ],
   "source": [
    "df.info()"
   ]
  },
  {
   "cell_type": "code",
   "execution_count": 13,
   "metadata": {},
   "outputs": [
    {
     "data": {
      "text/html": [
       "<div>\n",
       "<style scoped>\n",
       "    .dataframe tbody tr th:only-of-type {\n",
       "        vertical-align: middle;\n",
       "    }\n",
       "\n",
       "    .dataframe tbody tr th {\n",
       "        vertical-align: top;\n",
       "    }\n",
       "\n",
       "    .dataframe thead th {\n",
       "        text-align: right;\n",
       "    }\n",
       "</style>\n",
       "<table border=\"1\" class=\"dataframe\">\n",
       "  <thead>\n",
       "    <tr style=\"text-align: right;\">\n",
       "      <th></th>\n",
       "      <th>credit_score</th>\n",
       "      <th>age</th>\n",
       "      <th>tenure</th>\n",
       "      <th>balance</th>\n",
       "      <th>num_of_products</th>\n",
       "      <th>has_cr_card</th>\n",
       "      <th>is_active_member</th>\n",
       "      <th>estimated_salary</th>\n",
       "      <th>exited</th>\n",
       "    </tr>\n",
       "  </thead>\n",
       "  <tbody>\n",
       "    <tr>\n",
       "      <td>count</td>\n",
       "      <td>10000.000000</td>\n",
       "      <td>10000.000000</td>\n",
       "      <td>9091.000000</td>\n",
       "      <td>10000.000000</td>\n",
       "      <td>10000.000000</td>\n",
       "      <td>10000.00000</td>\n",
       "      <td>10000.000000</td>\n",
       "      <td>10000.000000</td>\n",
       "      <td>10000.000000</td>\n",
       "    </tr>\n",
       "    <tr>\n",
       "      <td>mean</td>\n",
       "      <td>650.528800</td>\n",
       "      <td>38.921800</td>\n",
       "      <td>4.997690</td>\n",
       "      <td>76485.889288</td>\n",
       "      <td>1.530200</td>\n",
       "      <td>0.70550</td>\n",
       "      <td>0.515100</td>\n",
       "      <td>100090.239881</td>\n",
       "      <td>0.203700</td>\n",
       "    </tr>\n",
       "    <tr>\n",
       "      <td>std</td>\n",
       "      <td>96.653299</td>\n",
       "      <td>10.487806</td>\n",
       "      <td>2.894723</td>\n",
       "      <td>62397.405202</td>\n",
       "      <td>0.581654</td>\n",
       "      <td>0.45584</td>\n",
       "      <td>0.499797</td>\n",
       "      <td>57510.492818</td>\n",
       "      <td>0.402769</td>\n",
       "    </tr>\n",
       "    <tr>\n",
       "      <td>min</td>\n",
       "      <td>350.000000</td>\n",
       "      <td>18.000000</td>\n",
       "      <td>0.000000</td>\n",
       "      <td>0.000000</td>\n",
       "      <td>1.000000</td>\n",
       "      <td>0.00000</td>\n",
       "      <td>0.000000</td>\n",
       "      <td>11.580000</td>\n",
       "      <td>0.000000</td>\n",
       "    </tr>\n",
       "    <tr>\n",
       "      <td>25%</td>\n",
       "      <td>584.000000</td>\n",
       "      <td>32.000000</td>\n",
       "      <td>2.000000</td>\n",
       "      <td>0.000000</td>\n",
       "      <td>1.000000</td>\n",
       "      <td>0.00000</td>\n",
       "      <td>0.000000</td>\n",
       "      <td>51002.110000</td>\n",
       "      <td>0.000000</td>\n",
       "    </tr>\n",
       "    <tr>\n",
       "      <td>50%</td>\n",
       "      <td>652.000000</td>\n",
       "      <td>37.000000</td>\n",
       "      <td>5.000000</td>\n",
       "      <td>97198.540000</td>\n",
       "      <td>1.000000</td>\n",
       "      <td>1.00000</td>\n",
       "      <td>1.000000</td>\n",
       "      <td>100193.915000</td>\n",
       "      <td>0.000000</td>\n",
       "    </tr>\n",
       "    <tr>\n",
       "      <td>75%</td>\n",
       "      <td>718.000000</td>\n",
       "      <td>44.000000</td>\n",
       "      <td>7.000000</td>\n",
       "      <td>127644.240000</td>\n",
       "      <td>2.000000</td>\n",
       "      <td>1.00000</td>\n",
       "      <td>1.000000</td>\n",
       "      <td>149388.247500</td>\n",
       "      <td>0.000000</td>\n",
       "    </tr>\n",
       "    <tr>\n",
       "      <td>max</td>\n",
       "      <td>850.000000</td>\n",
       "      <td>92.000000</td>\n",
       "      <td>10.000000</td>\n",
       "      <td>250898.090000</td>\n",
       "      <td>4.000000</td>\n",
       "      <td>1.00000</td>\n",
       "      <td>1.000000</td>\n",
       "      <td>199992.480000</td>\n",
       "      <td>1.000000</td>\n",
       "    </tr>\n",
       "  </tbody>\n",
       "</table>\n",
       "</div>"
      ],
      "text/plain": [
       "       credit_score           age       tenure        balance  \\\n",
       "count  10000.000000  10000.000000  9091.000000   10000.000000   \n",
       "mean     650.528800     38.921800     4.997690   76485.889288   \n",
       "std       96.653299     10.487806     2.894723   62397.405202   \n",
       "min      350.000000     18.000000     0.000000       0.000000   \n",
       "25%      584.000000     32.000000     2.000000       0.000000   \n",
       "50%      652.000000     37.000000     5.000000   97198.540000   \n",
       "75%      718.000000     44.000000     7.000000  127644.240000   \n",
       "max      850.000000     92.000000    10.000000  250898.090000   \n",
       "\n",
       "       num_of_products  has_cr_card  is_active_member  estimated_salary  \\\n",
       "count     10000.000000  10000.00000      10000.000000      10000.000000   \n",
       "mean          1.530200      0.70550          0.515100     100090.239881   \n",
       "std           0.581654      0.45584          0.499797      57510.492818   \n",
       "min           1.000000      0.00000          0.000000         11.580000   \n",
       "25%           1.000000      0.00000          0.000000      51002.110000   \n",
       "50%           1.000000      1.00000          1.000000     100193.915000   \n",
       "75%           2.000000      1.00000          1.000000     149388.247500   \n",
       "max           4.000000      1.00000          1.000000     199992.480000   \n",
       "\n",
       "             exited  \n",
       "count  10000.000000  \n",
       "mean       0.203700  \n",
       "std        0.402769  \n",
       "min        0.000000  \n",
       "25%        0.000000  \n",
       "50%        0.000000  \n",
       "75%        0.000000  \n",
       "max        1.000000  "
      ]
     },
     "execution_count": 13,
     "metadata": {},
     "output_type": "execute_result"
    }
   ],
   "source": [
    "df.describe()"
   ]
  },
  {
   "cell_type": "code",
   "execution_count": 14,
   "metadata": {
    "scrolled": true
   },
   "outputs": [
    {
     "data": {
      "text/plain": [
       "array([ 0.,  1.,  2.,  3.,  4.,  5.,  6.,  7.,  8.,  9., 10., nan])"
      ]
     },
     "execution_count": 14,
     "metadata": {},
     "output_type": "execute_result"
    }
   ],
   "source": [
    "df['tenure'].sort_values().unique()"
   ]
  },
  {
   "cell_type": "markdown",
   "metadata": {},
   "source": [
    "tenure - сколько лет человек является клиентом банка. Скорее всего это тоже 0"
   ]
  },
  {
   "cell_type": "code",
   "execution_count": 15,
   "metadata": {
    "scrolled": true
   },
   "outputs": [
    {
     "data": {
      "text/plain": [
       "array([ 0.,  1.,  2.,  3.,  4.,  5.,  6.,  7.,  8.,  9., 10.])"
      ]
     },
     "execution_count": 15,
     "metadata": {},
     "output_type": "execute_result"
    }
   ],
   "source": [
    "df['tenure'] = df['tenure'].fillna(0)\n",
    "df['tenure'].sort_values().unique()"
   ]
  },
  {
   "cell_type": "markdown",
   "metadata": {},
   "source": [
    "<div class=\"alert alert-info\"> <b>Комментарий студента:</b> Согласна, немного не понятно. Я по финалу когда все закончила попробовала поиграться с этим заполнением и попробовала заполнить все как 1, это никак не повлияло на результат и я решила оставить 0</div>"
   ]
  },
  {
   "cell_type": "code",
   "execution_count": null,
   "metadata": {},
   "outputs": [],
   "source": []
  },
  {
   "cell_type": "markdown",
   "metadata": {},
   "source": [
    "## Исследование задачи"
   ]
  },
  {
   "cell_type": "markdown",
   "metadata": {},
   "source": [
    "### One-Hot Encoding"
   ]
  },
  {
   "cell_type": "markdown",
   "metadata": {},
   "source": [
    "Колонки geography и gender можно перекодировать из категориальных в числовые. Сделаем это с помощью техники прямого кодирования или отображения(One-Hot Encoding)"
   ]
  },
  {
   "cell_type": "code",
   "execution_count": 16,
   "metadata": {
    "scrolled": true
   },
   "outputs": [
    {
     "data": {
      "text/html": [
       "<div>\n",
       "<style scoped>\n",
       "    .dataframe tbody tr th:only-of-type {\n",
       "        vertical-align: middle;\n",
       "    }\n",
       "\n",
       "    .dataframe tbody tr th {\n",
       "        vertical-align: top;\n",
       "    }\n",
       "\n",
       "    .dataframe thead th {\n",
       "        text-align: right;\n",
       "    }\n",
       "</style>\n",
       "<table border=\"1\" class=\"dataframe\">\n",
       "  <thead>\n",
       "    <tr style=\"text-align: right;\">\n",
       "      <th></th>\n",
       "      <th>credit_score</th>\n",
       "      <th>age</th>\n",
       "      <th>tenure</th>\n",
       "      <th>balance</th>\n",
       "      <th>num_of_products</th>\n",
       "      <th>has_cr_card</th>\n",
       "      <th>is_active_member</th>\n",
       "      <th>estimated_salary</th>\n",
       "      <th>exited</th>\n",
       "      <th>geography_Germany</th>\n",
       "      <th>geography_Spain</th>\n",
       "      <th>gender_Male</th>\n",
       "    </tr>\n",
       "  </thead>\n",
       "  <tbody>\n",
       "    <tr>\n",
       "      <td>5042</td>\n",
       "      <td>850</td>\n",
       "      <td>33</td>\n",
       "      <td>3.0</td>\n",
       "      <td>0.0</td>\n",
       "      <td>2</td>\n",
       "      <td>1</td>\n",
       "      <td>1</td>\n",
       "      <td>11159.19</td>\n",
       "      <td>0</td>\n",
       "      <td>0</td>\n",
       "      <td>0</td>\n",
       "      <td>0</td>\n",
       "    </tr>\n",
       "  </tbody>\n",
       "</table>\n",
       "</div>"
      ],
      "text/plain": [
       "      credit_score  age  tenure  balance  num_of_products  has_cr_card  \\\n",
       "5042           850   33     3.0      0.0                2            1   \n",
       "\n",
       "      is_active_member  estimated_salary  exited  geography_Germany  \\\n",
       "5042                 1          11159.19       0                  0   \n",
       "\n",
       "      geography_Spain  gender_Male  \n",
       "5042                0            0  "
      ]
     },
     "execution_count": 16,
     "metadata": {},
     "output_type": "execute_result"
    }
   ],
   "source": [
    "df = pd.get_dummies(df, drop_first=True)\n",
    "df.sample()"
   ]
  },
  {
   "cell_type": "code",
   "execution_count": 17,
   "metadata": {},
   "outputs": [
    {
     "data": {
      "text/plain": [
       "(10000, 12)"
      ]
     },
     "execution_count": 17,
     "metadata": {},
     "output_type": "execute_result"
    }
   ],
   "source": [
    "df.shape"
   ]
  },
  {
   "cell_type": "markdown",
   "metadata": {},
   "source": [
    "### Масштабирование признаков"
   ]
  },
  {
   "cell_type": "code",
   "execution_count": 18,
   "metadata": {},
   "outputs": [
    {
     "data": {
      "text/plain": [
       "((6000, 11), (2000, 11), (2000, 11))"
      ]
     },
     "execution_count": 18,
     "metadata": {},
     "output_type": "execute_result"
    }
   ],
   "source": [
    "target = df['exited']\n",
    "features = df.drop('exited', axis=1)\n",
    "\n",
    "features_train, features_valid, target_train, target_valid = train_test_split(features, target, test_size=0.40, random_state=12)\n",
    "features_valid, features_test, target_valid, target_test = train_test_split(features_valid, target_valid, test_size=0.5, random_state=12)\n",
    "features_train.shape, features_valid.shape, features_test.shape"
   ]
  },
  {
   "cell_type": "code",
   "execution_count": 19,
   "metadata": {},
   "outputs": [],
   "source": [
    "numeric = ['credit_score', 'age', 'tenure', 'balance', 'num_of_products', 'estimated_salary']\n",
    "\n",
    "scaler = StandardScaler() \n",
    "scaler.fit(features_train[numeric])\n",
    "\n",
    "features_train[numeric] = scaler.transform(features_train[numeric])\n",
    "features_valid[numeric] = scaler.transform(features_valid[numeric])\n",
    "features_test[numeric] = scaler.transform(features_test[numeric])"
   ]
  },
  {
   "cell_type": "code",
   "execution_count": 20,
   "metadata": {},
   "outputs": [
    {
     "data": {
      "text/html": [
       "<div>\n",
       "<style scoped>\n",
       "    .dataframe tbody tr th:only-of-type {\n",
       "        vertical-align: middle;\n",
       "    }\n",
       "\n",
       "    .dataframe tbody tr th {\n",
       "        vertical-align: top;\n",
       "    }\n",
       "\n",
       "    .dataframe thead th {\n",
       "        text-align: right;\n",
       "    }\n",
       "</style>\n",
       "<table border=\"1\" class=\"dataframe\">\n",
       "  <thead>\n",
       "    <tr style=\"text-align: right;\">\n",
       "      <th></th>\n",
       "      <th>credit_score</th>\n",
       "      <th>age</th>\n",
       "      <th>tenure</th>\n",
       "      <th>balance</th>\n",
       "      <th>num_of_products</th>\n",
       "      <th>has_cr_card</th>\n",
       "      <th>is_active_member</th>\n",
       "      <th>estimated_salary</th>\n",
       "      <th>geography_Germany</th>\n",
       "      <th>geography_Spain</th>\n",
       "      <th>gender_Male</th>\n",
       "    </tr>\n",
       "  </thead>\n",
       "  <tbody>\n",
       "    <tr>\n",
       "      <td>2085</td>\n",
       "      <td>-0.579125</td>\n",
       "      <td>-1.036006</td>\n",
       "      <td>0.140497</td>\n",
       "      <td>1.728396</td>\n",
       "      <td>-0.911642</td>\n",
       "      <td>1</td>\n",
       "      <td>0</td>\n",
       "      <td>-1.446558</td>\n",
       "      <td>1</td>\n",
       "      <td>0</td>\n",
       "      <td>1</td>\n",
       "    </tr>\n",
       "    <tr>\n",
       "      <td>2164</td>\n",
       "      <td>1.214972</td>\n",
       "      <td>3.606290</td>\n",
       "      <td>1.107591</td>\n",
       "      <td>1.153530</td>\n",
       "      <td>-0.911642</td>\n",
       "      <td>1</td>\n",
       "      <td>1</td>\n",
       "      <td>1.586680</td>\n",
       "      <td>0</td>\n",
       "      <td>1</td>\n",
       "      <td>1</td>\n",
       "    </tr>\n",
       "    <tr>\n",
       "      <td>7010</td>\n",
       "      <td>-0.112453</td>\n",
       "      <td>-0.372821</td>\n",
       "      <td>1.107591</td>\n",
       "      <td>-1.231795</td>\n",
       "      <td>-0.911642</td>\n",
       "      <td>0</td>\n",
       "      <td>0</td>\n",
       "      <td>1.137930</td>\n",
       "      <td>0</td>\n",
       "      <td>0</td>\n",
       "      <td>0</td>\n",
       "    </tr>\n",
       "    <tr>\n",
       "      <td>5042</td>\n",
       "      <td>2.075723</td>\n",
       "      <td>-0.562302</td>\n",
       "      <td>-0.504232</td>\n",
       "      <td>-1.231795</td>\n",
       "      <td>0.810604</td>\n",
       "      <td>1</td>\n",
       "      <td>1</td>\n",
       "      <td>-1.539511</td>\n",
       "      <td>0</td>\n",
       "      <td>0</td>\n",
       "      <td>0</td>\n",
       "    </tr>\n",
       "    <tr>\n",
       "      <td>835</td>\n",
       "      <td>-0.942093</td>\n",
       "      <td>-0.467561</td>\n",
       "      <td>-0.826597</td>\n",
       "      <td>0.966434</td>\n",
       "      <td>0.810604</td>\n",
       "      <td>1</td>\n",
       "      <td>0</td>\n",
       "      <td>-1.565399</td>\n",
       "      <td>0</td>\n",
       "      <td>0</td>\n",
       "      <td>1</td>\n",
       "    </tr>\n",
       "  </tbody>\n",
       "</table>\n",
       "</div>"
      ],
      "text/plain": [
       "      credit_score       age    tenure   balance  num_of_products  \\\n",
       "2085     -0.579125 -1.036006  0.140497  1.728396        -0.911642   \n",
       "2164      1.214972  3.606290  1.107591  1.153530        -0.911642   \n",
       "7010     -0.112453 -0.372821  1.107591 -1.231795        -0.911642   \n",
       "5042      2.075723 -0.562302 -0.504232 -1.231795         0.810604   \n",
       "835      -0.942093 -0.467561 -0.826597  0.966434         0.810604   \n",
       "\n",
       "      has_cr_card  is_active_member  estimated_salary  geography_Germany  \\\n",
       "2085            1                 0         -1.446558                  1   \n",
       "2164            1                 1          1.586680                  0   \n",
       "7010            0                 0          1.137930                  0   \n",
       "5042            1                 1         -1.539511                  0   \n",
       "835             1                 0         -1.565399                  0   \n",
       "\n",
       "      geography_Spain  gender_Male  \n",
       "2085                0            1  \n",
       "2164                1            1  \n",
       "7010                0            0  \n",
       "5042                0            0  \n",
       "835                 0            1  "
      ]
     },
     "execution_count": 20,
     "metadata": {},
     "output_type": "execute_result"
    }
   ],
   "source": [
    "features_train.head()"
   ]
  },
  {
   "cell_type": "markdown",
   "metadata": {},
   "source": [
    "## Борьба с дисбалансом"
   ]
  },
  {
   "cell_type": "markdown",
   "metadata": {},
   "source": [
    "### Без балансировки"
   ]
  },
  {
   "cell_type": "markdown",
   "metadata": {},
   "source": [
    "#### Лог регрессия до балансировки"
   ]
  },
  {
   "cell_type": "code",
   "execution_count": 21,
   "metadata": {
    "scrolled": true
   },
   "outputs": [
    {
     "name": "stdout",
     "output_type": "stream",
     "text": [
      "F1: 0.2913236225459151\n",
      "F1: 0.300556586270872\n"
     ]
    }
   ],
   "source": [
    "model = LogisticRegression(solver='liblinear', penalty='l2', random_state=12)\n",
    "model.fit(features_train, target_train)\n",
    "\n",
    "predicted_train = model.predict(features_train)\n",
    "predicted_valid = model.predict(features_valid)\n",
    "print(\"F1:\", f1_score(target_train, predicted_train))\n",
    "print(\"F1:\", f1_score(target_valid, predicted_valid))"
   ]
  },
  {
   "cell_type": "code",
   "execution_count": 22,
   "metadata": {},
   "outputs": [],
   "source": [
    "f1_log_before = f1_score(target_valid, predicted_valid)"
   ]
  },
  {
   "cell_type": "markdown",
   "metadata": {},
   "source": [
    "F1: 0.30 - это очень маленький скор"
   ]
  },
  {
   "cell_type": "markdown",
   "metadata": {},
   "source": [
    "Попробуем обучить дерево принятия решений:"
   ]
  },
  {
   "cell_type": "markdown",
   "metadata": {},
   "source": [
    "#### Дерево принятия решений до балансировки"
   ]
  },
  {
   "cell_type": "code",
   "execution_count": 23,
   "metadata": {
    "scrolled": true
   },
   "outputs": [
    {
     "name": "stdout",
     "output_type": "stream",
     "text": [
      "best_depth: 5\n",
      "F1: 0.5482456140350876\n",
      "F1: 0.5339805825242718\n"
     ]
    }
   ],
   "source": [
    "best_depth = 0\n",
    "best_f1 = 0\n",
    "best_model = 0\n",
    "min_diff = 1\n",
    "for depth in range(5, 40):\n",
    "    model = DecisionTreeClassifier(max_depth=depth, random_state=12)\n",
    "    model.fit(features_train, target_train)\n",
    "    predicted_train = model.predict(features_train)\n",
    "    predicted_valid = model.predict(features_valid)\n",
    "    f1_train = f1_score(target_train, predicted_train)\n",
    "    f1_valid = f1_score(target_valid, predicted_valid)\n",
    "    if abs(f1_train - f1_valid) < min_diff:\n",
    "        min_diff = abs(f1_train - f1_valid)\n",
    "        best_depth = depth\n",
    "        best_f1 = f1_score(target_valid, predicted_valid)\n",
    "        best_model = model\n",
    "        \n",
    "print(\"best_depth:\", best_depth)\n",
    "\n",
    "predicted_train = best_model.predict(features_train)\n",
    "predicted_valid = best_model.predict(features_valid)\n",
    "print(\"F1:\", f1_score(target_train, predicted_train))\n",
    "print(\"F1:\", f1_score(target_valid, predicted_valid))"
   ]
  },
  {
   "cell_type": "code",
   "execution_count": 24,
   "metadata": {},
   "outputs": [],
   "source": [
    "f1_tree_before = best_f1"
   ]
  },
  {
   "cell_type": "markdown",
   "metadata": {},
   "source": [
    "Для модели дерева решений f1 мера выше, при максимальной глубине 5 - F1: 0.53"
   ]
  },
  {
   "cell_type": "markdown",
   "metadata": {},
   "source": [
    "#### Случайный лес до балансировки"
   ]
  },
  {
   "cell_type": "markdown",
   "metadata": {},
   "source": [
    "Обучим случайный лес"
   ]
  },
  {
   "cell_type": "code",
   "execution_count": 25,
   "metadata": {
    "scrolled": true
   },
   "outputs": [
    {
     "name": "stdout",
     "output_type": "stream",
     "text": [
      "best_depth: 5\n",
      "best_estimators: 14\n",
      "F1: 0.45325077399380803\n",
      "F1: 0.43682310469314084\n",
      "CPU times: user 51.9 s, sys: 107 ms, total: 52 s\n",
      "Wall time: 52.7 s\n"
     ]
    }
   ],
   "source": [
    "%%time\n",
    "\n",
    "best_depth = 0\n",
    "best_estimators = 0\n",
    "best_f1 = 0\n",
    "min_diff = 1\n",
    "for depth in range(5, 20):\n",
    "    for est in range(10, 35):\n",
    "        model = RandomForestClassifier(n_estimators=est, max_depth=depth, random_state=12)\n",
    "        model.fit(features_train, target_train)\n",
    "        predicted_train = model.predict(features_train)\n",
    "        predicted_valid = model.predict(features_valid)\n",
    "        f1_train = f1_score(target_train, predicted_train)\n",
    "        f1_valid = f1_score(target_valid, predicted_valid)    \n",
    "        if abs(f1_train - f1_valid) < min_diff:\n",
    "            min_diff = abs(f1_train - f1_valid)\n",
    "#             print(min_diff)\n",
    "            best_depth = depth\n",
    "            best_estimators = est\n",
    "            best_f1 = f1_score(target_valid, predicted_valid)\n",
    "            best_model = model\n",
    "            \n",
    "print(\"best_depth:\", best_depth)\n",
    "print(\"best_estimators:\", best_estimators)\n",
    "\n",
    "predicted_train = best_model.predict(features_train)\n",
    "predicted_valid = best_model.predict(features_valid)\n",
    "print(\"F1:\", f1_score(target_train, predicted_train))\n",
    "print(\"F1:\", f1_score(target_valid, predicted_valid))"
   ]
  },
  {
   "cell_type": "code",
   "execution_count": 26,
   "metadata": {},
   "outputs": [],
   "source": [
    "f1_forest_before = best_f1"
   ]
  },
  {
   "cell_type": "markdown",
   "metadata": {},
   "source": [
    "F1: 0.43 - пока еще сырой скор"
   ]
  },
  {
   "cell_type": "code",
   "execution_count": 27,
   "metadata": {},
   "outputs": [
    {
     "data": {
      "text/plain": [
       "0    4809\n",
       "1    1191\n",
       "Name: exited, dtype: int64"
      ]
     },
     "execution_count": 27,
     "metadata": {},
     "output_type": "execute_result"
    }
   ],
   "source": [
    "target_train.value_counts()"
   ]
  },
  {
   "cell_type": "markdown",
   "metadata": {},
   "source": [
    "У нас есть дисбаланс классов таргета, количество нулей в 4 раза больше 1, это может дать неверное представление о данных модели и она начнет чаще давать 0 только потому что таких наблюдений она видела больше."
   ]
  },
  {
   "cell_type": "markdown",
   "metadata": {},
   "source": [
    "Напишем функцию, которая разделит обучающую выборку на отрицательные и положительные объекты, скопирует несколько раз положительные объекты, с учётом полученных данных создаст новую обучающую выборку, затем перемешает, что бы дубли явно не шли друг за другом."
   ]
  },
  {
   "cell_type": "code",
   "execution_count": 28,
   "metadata": {},
   "outputs": [],
   "source": [
    "def upsample(features, target, repeat):\n",
    "    features_zeros = features[target == 0]\n",
    "    features_ones = features[target == 1]\n",
    "    target_zeros = target[target == 0]\n",
    "    target_ones = target[target == 1]\n",
    "\n",
    "    features_upsampled = pd.concat([features_zeros] + [features_ones] * repeat)\n",
    "    target_upsampled = pd.concat([target_zeros] + [target_ones] * repeat)\n",
    "    \n",
    "    features_upsampled, target_upsampled = shuffle(\n",
    "        features_upsampled, target_upsampled, random_state=12345)\n",
    "    \n",
    "    return features_upsampled, target_upsampled\n",
    "\n",
    "features_upsampled, target_upsampled = upsample(features_train, target_train, 4)"
   ]
  },
  {
   "cell_type": "code",
   "execution_count": 29,
   "metadata": {},
   "outputs": [
    {
     "data": {
      "text/plain": [
       "0    4809\n",
       "1    4764\n",
       "Name: exited, dtype: int64"
      ]
     },
     "execution_count": 29,
     "metadata": {},
     "output_type": "execute_result"
    }
   ],
   "source": [
    "target_upsampled.value_counts()"
   ]
  },
  {
   "cell_type": "markdown",
   "metadata": {},
   "source": [
    "Соотношений объектов 1 и 0 классов практически одинаковое"
   ]
  },
  {
   "cell_type": "markdown",
   "metadata": {},
   "source": [
    "### Увеличение выборки"
   ]
  },
  {
   "cell_type": "markdown",
   "metadata": {},
   "source": [
    "#### Лог регрессия после балансировки"
   ]
  },
  {
   "cell_type": "code",
   "execution_count": 30,
   "metadata": {},
   "outputs": [
    {
     "name": "stdout",
     "output_type": "stream",
     "text": [
      "F1: 0.705507800063674\n",
      "F1: 0.5211267605633803\n"
     ]
    }
   ],
   "source": [
    "model = LogisticRegression(solver='liblinear', penalty='l2', random_state=12)\n",
    "model.fit(features_upsampled, target_upsampled)\n",
    "\n",
    "predicted_train = model.predict(features_upsampled)\n",
    "predicted_valid = model.predict(features_valid)\n",
    "print(\"F1:\", f1_score(target_upsampled, predicted_train))\n",
    "print(\"F1:\", f1_score(target_valid, predicted_valid))"
   ]
  },
  {
   "cell_type": "code",
   "execution_count": 31,
   "metadata": {},
   "outputs": [],
   "source": [
    "f1_log_upsampled = f1_score(target_valid, predicted_valid)"
   ]
  },
  {
   "cell_type": "markdown",
   "metadata": {},
   "source": [
    "Видим как для лог регрессии результат сразу увеличился с 0.30 до 0.52!"
   ]
  },
  {
   "cell_type": "markdown",
   "metadata": {},
   "source": [
    "#### Дерево принятия решений после балансировки"
   ]
  },
  {
   "cell_type": "code",
   "execution_count": 32,
   "metadata": {},
   "outputs": [
    {
     "name": "stdout",
     "output_type": "stream",
     "text": [
      "F1: 0.577490774907749\n",
      "best_depth: 5\n",
      "F1: 0.7732217573221756\n",
      "F1: 0.577490774907749\n"
     ]
    }
   ],
   "source": [
    "best_depth = 0\n",
    "best_f1 = 0\n",
    "best_model = 0\n",
    "min_diff = 1\n",
    "for depth in range(5, 40):\n",
    "    model = DecisionTreeClassifier(max_depth=depth, random_state=12)\n",
    "    model.fit(features_upsampled, target_upsampled)\n",
    "    predicted_train = model.predict(features_upsampled)\n",
    "    predicted_valid = model.predict(features_valid)\n",
    "    f1_train = f1_score(target_upsampled, predicted_train)\n",
    "    f1_valid = f1_score(target_valid, predicted_valid)\n",
    "    if abs(f1_train - f1_valid) < min_diff:\n",
    "        min_diff = abs(f1_train - f1_valid)\n",
    "        best_depth = depth\n",
    "        best_f1 = f1_score(target_valid, predicted_valid)\n",
    "        best_model = model\n",
    "        \n",
    "        \n",
    "print(\"F1:\", best_f1)\n",
    "print(\"best_depth:\", best_depth)\n",
    "\n",
    "predicted_train = best_model.predict(features_upsampled)\n",
    "predicted_valid = best_model.predict(features_valid)\n",
    "print(\"F1:\", f1_score(target_upsampled, predicted_train))\n",
    "print(\"F1:\", f1_score(target_valid, predicted_valid))"
   ]
  },
  {
   "cell_type": "code",
   "execution_count": 33,
   "metadata": {},
   "outputs": [],
   "source": [
    "f1_tree_upsampled = best_f1"
   ]
  },
  {
   "cell_type": "markdown",
   "metadata": {},
   "source": [
    "Глубина дерева уменьшилась до 5, а вот F1: 0.57, а было 0.53, дереву помогает балансировка, но оно также устойчиво к дисбалансу"
   ]
  },
  {
   "cell_type": "markdown",
   "metadata": {},
   "source": [
    "#### Случайный лес после балансировки"
   ]
  },
  {
   "cell_type": "code",
   "execution_count": 34,
   "metadata": {},
   "outputs": [
    {
     "name": "stdout",
     "output_type": "stream",
     "text": [
      "best_f1: 0.6134453781512604\n",
      "best_depth: 5\n",
      "best_estimators: 19\n",
      "F1: 0.7671595674244096\n",
      "F1: 0.6134453781512604\n",
      "CPU times: user 1min 12s, sys: 144 ms, total: 1min 12s\n",
      "Wall time: 1min 13s\n"
     ]
    }
   ],
   "source": [
    "%%time\n",
    "\n",
    "best_depth = 0\n",
    "best_estimators = 0\n",
    "best_f1 = 0\n",
    "min_diff = 1\n",
    "for depth in range(5, 20):\n",
    "    for est in range(10, 35):\n",
    "        model = RandomForestClassifier(n_estimators=est, max_depth=depth, random_state=12)\n",
    "        model.fit(features_upsampled, target_upsampled)\n",
    "        predicted_train = model.predict(features_upsampled)\n",
    "        predicted_valid = model.predict(features_valid)\n",
    "        f1_train = f1_score(target_upsampled, predicted_train)\n",
    "        f1_valid = f1_score(target_valid, predicted_valid)    \n",
    "        if abs(f1_train - f1_valid) < min_diff:\n",
    "            min_diff = abs(f1_train - f1_valid)\n",
    "#             print(min_diff)\n",
    "            best_depth = depth\n",
    "            best_f1 = f1_score(target_valid, predicted_valid)\n",
    "            best_model = model\n",
    "            best_estimators = est\n",
    "        \n",
    "        \n",
    "print(\"best_f1:\", best_f1)\n",
    "print(\"best_depth:\", best_depth)\n",
    "print(\"best_estimators:\", best_estimators)\n",
    "\n",
    "predicted_train = best_model.predict(features_upsampled)\n",
    "predicted_valid = best_model.predict(features_valid)\n",
    "print(\"F1:\", f1_score(target_upsampled, predicted_train))\n",
    "print(\"F1:\", f1_score(target_valid, predicted_valid))"
   ]
  },
  {
   "cell_type": "code",
   "execution_count": 35,
   "metadata": {},
   "outputs": [],
   "source": [
    "f1_forest_upsampled = best_f1"
   ]
  },
  {
   "cell_type": "markdown",
   "metadata": {},
   "source": [
    "Случайный лес показал лучший результат после балансировки классов: F1: 0.61 при глубине 5, и количестве estimators 19."
   ]
  },
  {
   "cell_type": "code",
   "execution_count": 36,
   "metadata": {},
   "outputs": [
    {
     "name": "stdout",
     "output_type": "stream",
     "text": [
      "F1: 0.6134453781512604\n"
     ]
    }
   ],
   "source": [
    "best_model = RandomForestClassifier(n_estimators=19, max_depth=5, random_state=12)\n",
    "best_model.fit(features_upsampled, target_upsampled)\n",
    "predicted_valid = best_model.predict(features_valid)\n",
    "print(\"F1:\", f1_score(target_valid, predicted_valid))"
   ]
  },
  {
   "cell_type": "code",
   "execution_count": 37,
   "metadata": {
    "scrolled": true
   },
   "outputs": [
    {
     "data": {
      "image/png": "[encoded data removed]",
      "text/plain": [
       "<Figure size 432x288 with 2 Axes>"
      ]
     },
     "metadata": {
      "needs_background": "light"
     },
     "output_type": "display_data"
    }
   ],
   "source": [
    "cf_matrix = confusion_matrix(target_valid, predicted_valid)\n",
    "\n",
    "ax = plt.axes()\n",
    "sns.heatmap(cf_matrix/np.sum(cf_matrix), annot=True, \n",
    "            fmt='.1%', cmap='Blues', ax=ax)\n",
    "ax.set_title('Confusion matrix')\n",
    "plt.show()"
   ]
  },
  {
   "cell_type": "markdown",
   "metadata": {},
   "source": [
    "- У нас действительно больше объектов 0 класса по этому их больше всего - TN - 67.0%; TP - 14.6%, то есть всего корректно модель ответила на 86,6%. \n",
    "- Модель также часто ошибалась на FN - 12.2% против  FP - 6.2%, что значит, что она чаще ошибается при отнесении к 0 классу, чем к 1."
   ]
  },
  {
   "cell_type": "markdown",
   "metadata": {},
   "source": [
    "### Уменьшение выборки"
   ]
  },
  {
   "cell_type": "markdown",
   "metadata": {},
   "source": [
    "Вместо повторения важных наблюдений, уберём часть неважных. Это можно сделать техникой downsampling (от англ. down, «вниз»; sampling, «выборка»)"
   ]
  },
  {
   "cell_type": "markdown",
   "metadata": {},
   "source": [
    "Преобразование проходит в несколько этапов:\n",
    "\n",
    "- Разделить обучающую выборку на отрицательные и положительные объекты;\n",
    "- Случайным образом отбросить часть из отрицательных объектов;\n",
    "- С учётом полученных данных создать новую обучающую выборку;\n",
    "- Перемешать данные. Положительные не должны идти следом за отрицательными: алгоритмам будет сложнее обучаться."
   ]
  },
  {
   "cell_type": "code",
   "execution_count": 38,
   "metadata": {},
   "outputs": [],
   "source": [
    "def downsample(features, target, fraction):\n",
    "    features_zeros = features[target == 0]\n",
    "    features_ones = features[target == 1]\n",
    "    target_zeros = target[target == 0]\n",
    "    target_ones = target[target == 1]\n",
    "\n",
    "    features_downsampled = pd.concat(\n",
    "        [features_zeros.sample(frac=fraction, random_state=12345)] + [features_ones])\n",
    "    target_downsampled = pd.concat(\n",
    "        [target_zeros.sample(frac=fraction, random_state=12345)] + [target_ones])\n",
    "    \n",
    "    features_downsampled, target_downsampled = shuffle(\n",
    "        features_downsampled, target_downsampled, random_state=12345)\n",
    "    \n",
    "    return features_downsampled, target_downsampled"
   ]
  },
  {
   "cell_type": "code",
   "execution_count": 39,
   "metadata": {},
   "outputs": [],
   "source": [
    "features_downsampled, target_downsampled = downsample(features_train, target_train, 0.25)"
   ]
  },
  {
   "cell_type": "markdown",
   "metadata": {},
   "source": [
    "#### Лог регрессия после балансировки"
   ]
  },
  {
   "cell_type": "code",
   "execution_count": 40,
   "metadata": {},
   "outputs": [
    {
     "name": "stdout",
     "output_type": "stream",
     "text": [
      "F1: 0.6982097186700768\n",
      "F1: 0.5229681978798587\n"
     ]
    }
   ],
   "source": [
    "model = LogisticRegression(solver='liblinear', penalty='l2', random_state=12)\n",
    "model.fit(features_downsampled, target_downsampled)\n",
    "\n",
    "predicted_train = model.predict(features_downsampled)\n",
    "predicted_valid = model.predict(features_valid)\n",
    "print(\"F1:\", f1_score(target_downsampled, predicted_train))\n",
    "print(\"F1:\", f1_score(target_valid, predicted_valid))"
   ]
  },
  {
   "cell_type": "code",
   "execution_count": 41,
   "metadata": {},
   "outputs": [],
   "source": [
    "f1_log_downsampled = f1_score(target_valid, predicted_valid)"
   ]
  },
  {
   "cell_type": "code",
   "execution_count": 42,
   "metadata": {},
   "outputs": [
    {
     "data": {
      "text/plain": [
       "0    1202\n",
       "1    1191\n",
       "Name: exited, dtype: int64"
      ]
     },
     "execution_count": 42,
     "metadata": {},
     "output_type": "execute_result"
    }
   ],
   "source": [
    "target_downsampled.value_counts()"
   ]
  },
  {
   "cell_type": "markdown",
   "metadata": {},
   "source": [
    "После уменьшения количества наблюдений с таргетом 0 у нас стало примерно одинаковое количество наблюдений с таргетом 0 и 1.\n",
    "\n",
    "При этом в целом F1: 0.52 идентичный тому, что был получен при увеличении выборки"
   ]
  },
  {
   "cell_type": "markdown",
   "metadata": {},
   "source": [
    "#### Дерево принятия решений после балансировки"
   ]
  },
  {
   "cell_type": "code",
   "execution_count": 43,
   "metadata": {
    "scrolled": true
   },
   "outputs": [
    {
     "name": "stdout",
     "output_type": "stream",
     "text": [
      "F1: 0.5872873769024172\n",
      "best_depth: 5\n",
      "F1: 0.7805084745762711\n",
      "F1: 0.5872873769024172\n"
     ]
    }
   ],
   "source": [
    "best_depth = 0\n",
    "best_f1 = 0\n",
    "best_model = 0\n",
    "min_diff = 1\n",
    "for depth in range(5, 30):\n",
    "    model = DecisionTreeClassifier(max_depth=depth, random_state=12)\n",
    "    model.fit(features_downsampled, target_downsampled)\n",
    "    predicted_train = model.predict(features_downsampled)\n",
    "    predicted_valid = model.predict(features_valid)\n",
    "    f1_train = f1_score(target_downsampled, predicted_train)\n",
    "    f1_valid = f1_score(target_valid, predicted_valid)\n",
    "    if abs(f1_train - f1_valid) < min_diff:\n",
    "        min_diff = abs(f1_train - f1_valid)\n",
    "        best_depth = depth\n",
    "        best_f1 = f1_score(target_valid, predicted_valid)\n",
    "        best_model = model\n",
    "        \n",
    "        \n",
    "print(\"F1:\", best_f1)\n",
    "print(\"best_depth:\", best_depth)\n",
    "\n",
    "predicted_train = best_model.predict(features_downsampled)\n",
    "predicted_valid = best_model.predict(features_valid)\n",
    "print(\"F1:\", f1_score(target_downsampled, predicted_train))\n",
    "print(\"F1:\", f1_score(target_valid, predicted_valid))"
   ]
  },
  {
   "cell_type": "code",
   "execution_count": 44,
   "metadata": {},
   "outputs": [],
   "source": [
    "f1_tree_downsampled = best_f1"
   ]
  },
  {
   "cell_type": "markdown",
   "metadata": {},
   "source": [
    "С деревом принятия решений примерно аналогичная история как с лог регрессией, у на почти идентичный показатель как при увеличении выборки, так и при уменьшении(0.57-0.58)"
   ]
  },
  {
   "cell_type": "markdown",
   "metadata": {},
   "source": [
    "#### Случайный лес после балансировки"
   ]
  },
  {
   "cell_type": "code",
   "execution_count": 45,
   "metadata": {},
   "outputs": [
    {
     "name": "stdout",
     "output_type": "stream",
     "text": [
      "best_f1: 0.5947467166979362\n",
      "best_depth: 5\n",
      "best_estimators: 33\n",
      "F1: 0.7896522476675149\n",
      "F1: 0.5947467166979362\n",
      "CPU times: user 27.5 s, sys: 115 ms, total: 27.6 s\n",
      "Wall time: 27.9 s\n"
     ]
    }
   ],
   "source": [
    "%%time\n",
    "\n",
    "best_depth = 0\n",
    "best_estimators = 0\n",
    "best_f1 = 0\n",
    "min_diff = 1\n",
    "for depth in range(5, 20):\n",
    "    for est in range(10, 35):\n",
    "        model = RandomForestClassifier(n_estimators=est, max_depth=depth, random_state=12)\n",
    "        model.fit(features_downsampled, target_downsampled)\n",
    "        predicted_train = model.predict(features_downsampled)\n",
    "        predicted_valid = model.predict(features_valid)\n",
    "        f1_train = f1_score(target_downsampled, predicted_train)\n",
    "        f1_valid = f1_score(target_valid, predicted_valid)    \n",
    "        if abs(f1_train - f1_valid) < min_diff:\n",
    "            min_diff = abs(f1_train - f1_valid)\n",
    "#             print(min_diff)\n",
    "            best_depth = depth\n",
    "            best_f1 = f1_score(target_valid, predicted_valid)\n",
    "            best_model = model\n",
    "            best_estimators = est\n",
    "        \n",
    "print(\"best_f1:\", best_f1)\n",
    "print(\"best_depth:\", best_depth)\n",
    "print(\"best_estimators:\", best_estimators)\n",
    "\n",
    "predicted_train = best_model.predict(features_downsampled)\n",
    "predicted_valid = best_model.predict(features_valid)\n",
    "print(\"F1:\", f1_score(target_downsampled, predicted_train))\n",
    "print(\"F1:\", f1_score(target_valid, predicted_valid))"
   ]
  },
  {
   "cell_type": "code",
   "execution_count": 46,
   "metadata": {},
   "outputs": [],
   "source": [
    "f1_forest_downsampled = best_f1"
   ]
  },
  {
   "cell_type": "markdown",
   "metadata": {},
   "source": [
    "А вот случайный лес даже ухудшил показатели после балансировки в сравнении с увеличением наблюдений в выборке F1: 0.61 против уменьшения наблюдений F1: 0.59, по видимости для него мы потеряли важные данные, все таки он строит леса из деревьев."
   ]
  },
  {
   "cell_type": "code",
   "execution_count": null,
   "metadata": {},
   "outputs": [],
   "source": [
    "value_list = [\n",
    "    ['f1_log_before', f1_log_before],\n",
    "    ['f1_log_upsampled',  f1_log_upsampled],\n",
    "    [\"f1_log_downsampled\", f1_log_downsampled],\n",
    "    [\"f1_tree_before\", f1_tree_before],\n",
    "    [\"f1_tree_upsampled\", f1_tree_upsampled],\n",
    "    [\"f1_tree_downsampled\", f1_tree_downsampled],\n",
    "    [\"f1_forest_before\", f1_forest_before],\n",
    "    [\"f1_forest_upsampled\", f1_forest_upsampled],\n",
    "    [\"f1_forest_downsampled\", f1_forest_downsampled],\n",
    "]\n",
    "\n",
    "headers=[\n",
    "    \"Model\", \n",
    "    \"f1-score\",\n",
    "]\n",
    "print(tabulate(value_list, headers, tablefmt=\"grid\"))"
   ]
  },
  {
   "cell_type": "markdown",
   "metadata": {},
   "source": [
    "Вывод:\n",
    "- Былансировка классов в большую или меньшую стороны одназначно помагает более корректному обучению модели\n",
    "- В большей степени это помогает логистичекой регрессии, дереву и лесам тоже, но в меньшей степени\n",
    "- Увеличение выборки или ее уменьшение одинаково хорошо для лог регрессии и деревьев, но лесам больше нравится увеличение выборки"
   ]
  },
  {
   "cell_type": "markdown",
   "metadata": {},
   "source": [
    "## Тестирование модели"
   ]
  },
  {
   "cell_type": "code",
   "execution_count": 48,
   "metadata": {},
   "outputs": [
    {
     "name": "stdout",
     "output_type": "stream",
     "text": [
      "F1: 0.6155378486055777\n"
     ]
    }
   ],
   "source": [
    "best_model = RandomForestClassifier(n_estimators=10, max_depth=5, random_state=12)\n",
    "best_model.fit(features_upsampled, target_upsampled)\n",
    "predicted_test = best_model.predict(features_test)\n",
    "print(\"F1:\", f1_score(target_test, predicted_test))"
   ]
  },
  {
   "cell_type": "code",
   "execution_count": 49,
   "metadata": {},
   "outputs": [
    {
     "name": "stdout",
     "output_type": "stream",
     "text": [
      "0.5020665770533791\n"
     ]
    }
   ],
   "source": [
    "probabilities_valid = best_model.predict_proba(features_valid)\n",
    "probabilities_one_valid = probabilities_valid[:, 0]\n",
    "\n",
    "auc_roc = roc_auc_score(target_test, probabilities_one_valid)\n",
    "\n",
    "print(auc_roc)"
   ]
  },
  {
   "cell_type": "code",
   "execution_count": 50,
   "metadata": {},
   "outputs": [
    {
     "data": {
      "image/png": "[encoded data removed]",
      "text/plain": [
       "<Figure size 432x288 with 1 Axes>"
      ]
     },
     "metadata": {
      "needs_background": "light"
     },
     "output_type": "display_data"
    }
   ],
   "source": [
    "fpr, tpr, thresholds = roc_curve(target_test, probabilities_one_valid)\n",
    "\n",
    "plt.figure()\n",
    "plt.plot(fpr, tpr)\n",
    "plt.xlim([0.0, 1.0])\n",
    "plt.ylim([0.0, 1.0])\n",
    "plt.xlabel('False Positive Rate')\n",
    "plt.ylabel('True Positive Rate')\n",
    "plt.title('ROC-кривая')\n",
    "\n",
    "# ROC-кривая случайной модели (выглядит как прямая)\n",
    "plt.plot([0, 1], [0, 1], linestyle='--')\n",
    "\n",
    "plt.show()"
   ]
  },
  {
   "cell_type": "markdown",
   "metadata": {
    "pycharm": {
     "name": "#%% md\n"
    }
   },
   "source": [
    "Метрика roc auc - 0.502 показывает площадь под кривой, которая строится  по данным FPR и TPR. Метрика невысокая и на графике видно, что кривая едва выходит на пределы кривой, построенной по вероятности случайной модели(отсечка 0.5)"
   ]
  }
 ],
 "metadata": {
  "ExecuteTimeLog": [
   {
    "duration": 108,
    "start_time": "2021-12-24T14:02:53.238Z"
   },
   {
    "duration": 745,
    "start_time": "2021-12-24T14:03:12.065Z"
   },
   {
    "duration": 107,
    "start_time": "2021-12-24T14:03:33.837Z"
   },
   {
    "duration": 61,
    "start_time": "2021-12-24T14:03:38.722Z"
   },
   {
    "duration": 9,
    "start_time": "2021-12-24T14:04:14.140Z"
   },
   {
    "duration": 39,
    "start_time": "2021-12-24T14:10:59.670Z"
   },
   {
    "duration": 38,
    "start_time": "2021-12-24T14:11:08.900Z"
   },
   {
    "duration": 20,
    "start_time": "2021-12-24T14:11:19.448Z"
   },
   {
    "duration": 27,
    "start_time": "2021-12-24T14:11:45.463Z"
   },
   {
    "duration": 6,
    "start_time": "2021-12-24T14:12:39.389Z"
   },
   {
    "duration": 5,
    "start_time": "2021-12-24T14:12:47.189Z"
   },
   {
    "duration": 22,
    "start_time": "2021-12-24T14:14:31.624Z"
   },
   {
    "duration": 9,
    "start_time": "2021-12-24T14:14:45.614Z"
   },
   {
    "duration": 7,
    "start_time": "2021-12-24T14:14:53.743Z"
   },
   {
    "duration": 8,
    "start_time": "2021-12-24T14:15:07.117Z"
   },
   {
    "duration": 7,
    "start_time": "2021-12-24T14:15:18.755Z"
   },
   {
    "duration": 5,
    "start_time": "2021-12-24T14:15:23.370Z"
   },
   {
    "duration": 7,
    "start_time": "2021-12-24T14:15:31.537Z"
   },
   {
    "duration": 8,
    "start_time": "2021-12-24T14:16:45.468Z"
   },
   {
    "duration": 88,
    "start_time": "2021-12-24T14:18:04.369Z"
   },
   {
    "duration": 10,
    "start_time": "2021-12-24T14:18:39.389Z"
   },
   {
    "duration": 3,
    "start_time": "2021-12-24T14:18:47.265Z"
   },
   {
    "duration": 60,
    "start_time": "2021-12-24T14:18:47.270Z"
   },
   {
    "duration": 24,
    "start_time": "2021-12-24T14:18:47.334Z"
   },
   {
    "duration": 7,
    "start_time": "2021-12-24T14:18:47.361Z"
   },
   {
    "duration": 53,
    "start_time": "2021-12-24T14:18:47.371Z"
   },
   {
    "duration": 24,
    "start_time": "2021-12-24T14:18:47.428Z"
   },
   {
    "duration": 352,
    "start_time": "2021-12-24T14:18:49.981Z"
   },
   {
    "duration": 3,
    "start_time": "2021-12-24T14:19:06.967Z"
   },
   {
    "duration": 56,
    "start_time": "2021-12-24T14:19:07.676Z"
   },
   {
    "duration": 30,
    "start_time": "2021-12-24T14:19:09.412Z"
   },
   {
    "duration": 6,
    "start_time": "2021-12-24T14:19:10.391Z"
   },
   {
    "duration": 6,
    "start_time": "2021-12-24T14:19:10.910Z"
   },
   {
    "duration": 27,
    "start_time": "2021-12-24T14:19:12.580Z"
   },
   {
    "duration": 7,
    "start_time": "2021-12-24T14:19:15.060Z"
   },
   {
    "duration": 7,
    "start_time": "2021-12-24T14:19:24.738Z"
   },
   {
    "duration": 7,
    "start_time": "2021-12-24T14:19:35.337Z"
   },
   {
    "duration": 9,
    "start_time": "2021-12-24T14:19:39.220Z"
   },
   {
    "duration": 273,
    "start_time": "2021-12-24T14:20:02.241Z"
   },
   {
    "duration": 32,
    "start_time": "2021-12-24T14:20:09.262Z"
   },
   {
    "duration": 40,
    "start_time": "2021-12-24T14:20:25.372Z"
   },
   {
    "duration": 35,
    "start_time": "2021-12-24T14:20:29.420Z"
   },
   {
    "duration": 44,
    "start_time": "2021-12-24T14:20:33.398Z"
   },
   {
    "duration": 35,
    "start_time": "2021-12-24T14:20:36.338Z"
   },
   {
    "duration": 37,
    "start_time": "2021-12-24T14:20:39.238Z"
   },
   {
    "duration": 41,
    "start_time": "2021-12-24T14:20:42.108Z"
   },
   {
    "duration": 35,
    "start_time": "2021-12-24T14:20:45.544Z"
   },
   {
    "duration": 452,
    "start_time": "2021-12-24T14:21:04.697Z"
   },
   {
    "duration": 8,
    "start_time": "2021-12-24T14:21:27.391Z"
   },
   {
    "duration": 10,
    "start_time": "2021-12-24T14:21:28.572Z"
   },
   {
    "duration": 7,
    "start_time": "2021-12-24T14:21:39.840Z"
   },
   {
    "duration": 16,
    "start_time": "2021-12-24T14:22:09.570Z"
   },
   {
    "duration": 62,
    "start_time": "2021-12-24T15:47:59.304Z"
   },
   {
    "duration": 32,
    "start_time": "2021-12-24T15:48:29.655Z"
   },
   {
    "duration": 36,
    "start_time": "2021-12-24T15:51:05.091Z"
   },
   {
    "duration": 7,
    "start_time": "2021-12-24T15:51:12.955Z"
   },
   {
    "duration": 7,
    "start_time": "2021-12-24T15:51:18.537Z"
   },
   {
    "duration": 6,
    "start_time": "2021-12-24T15:51:21.034Z"
   },
   {
    "duration": 8,
    "start_time": "2021-12-24T15:51:23.876Z"
   },
   {
    "duration": 41,
    "start_time": "2021-12-24T15:51:30.477Z"
   },
   {
    "duration": 8,
    "start_time": "2021-12-24T15:52:41.800Z"
   },
   {
    "duration": 6,
    "start_time": "2021-12-24T15:52:47.053Z"
   },
   {
    "duration": 33,
    "start_time": "2021-12-24T15:52:50.341Z"
   },
   {
    "duration": 7,
    "start_time": "2021-12-24T15:52:58.695Z"
   },
   {
    "duration": 6,
    "start_time": "2021-12-24T15:53:02.950Z"
   },
   {
    "duration": 33,
    "start_time": "2021-12-24T15:53:05.773Z"
   },
   {
    "duration": 6,
    "start_time": "2021-12-24T15:53:20.373Z"
   },
   {
    "duration": 32,
    "start_time": "2021-12-24T15:53:23.110Z"
   },
   {
    "duration": 7,
    "start_time": "2021-12-24T15:53:28.075Z"
   },
   {
    "duration": 6,
    "start_time": "2021-12-24T15:53:30.444Z"
   },
   {
    "duration": 744,
    "start_time": "2021-12-24T16:14:56.792Z"
   },
   {
    "duration": 33,
    "start_time": "2021-12-24T16:20:49.878Z"
   },
   {
    "duration": 27,
    "start_time": "2021-12-24T16:22:11.734Z"
   },
   {
    "duration": 30,
    "start_time": "2021-12-24T16:22:32.178Z"
   },
   {
    "duration": 17,
    "start_time": "2021-12-24T16:27:18.510Z"
   },
   {
    "duration": 15,
    "start_time": "2021-12-24T16:27:35.310Z"
   },
   {
    "duration": 29,
    "start_time": "2021-12-24T16:27:40.377Z"
   },
   {
    "duration": 368,
    "start_time": "2021-12-24T16:30:06.053Z"
   },
   {
    "duration": 36,
    "start_time": "2021-12-24T16:33:38.795Z"
   },
   {
    "duration": 30,
    "start_time": "2021-12-24T16:34:24.449Z"
   },
   {
    "duration": 28,
    "start_time": "2021-12-24T16:36:11.621Z"
   },
   {
    "duration": 6,
    "start_time": "2021-12-24T16:37:00.671Z"
   },
   {
    "duration": 82,
    "start_time": "2021-12-24T16:45:31.163Z"
   },
   {
    "duration": 11,
    "start_time": "2021-12-24T16:45:40.143Z"
   },
   {
    "duration": 32,
    "start_time": "2021-12-24T16:46:36.714Z"
   },
   {
    "duration": 17,
    "start_time": "2021-12-24T16:49:01.555Z"
   },
   {
    "duration": 10,
    "start_time": "2021-12-24T16:49:17.465Z"
   },
   {
    "duration": 65,
    "start_time": "2021-12-24T16:49:17.842Z"
   },
   {
    "duration": 8,
    "start_time": "2021-12-24T16:49:20.355Z"
   },
   {
    "duration": 9,
    "start_time": "2021-12-24T16:49:21.063Z"
   },
   {
    "duration": 29,
    "start_time": "2021-12-24T16:49:25.171Z"
   },
   {
    "duration": 10,
    "start_time": "2021-12-24T16:49:29.770Z"
   },
   {
    "duration": 33,
    "start_time": "2021-12-24T16:50:50.684Z"
   },
   {
    "duration": 31,
    "start_time": "2021-12-24T16:51:25.103Z"
   },
   {
    "duration": 20,
    "start_time": "2021-12-24T16:51:39.685Z"
   },
   {
    "duration": 1064,
    "start_time": "2021-12-27T07:30:02.578Z"
   },
   {
    "duration": 43,
    "start_time": "2021-12-27T07:30:03.644Z"
   },
   {
    "duration": 14,
    "start_time": "2021-12-27T07:30:03.690Z"
   },
   {
    "duration": 14,
    "start_time": "2021-12-27T07:30:03.707Z"
   },
   {
    "duration": 17,
    "start_time": "2021-12-27T07:30:03.723Z"
   },
   {
    "duration": 26,
    "start_time": "2021-12-27T07:30:03.742Z"
   },
   {
    "duration": 29,
    "start_time": "2021-12-27T07:30:03.770Z"
   },
   {
    "duration": 20,
    "start_time": "2021-12-27T07:30:03.801Z"
   },
   {
    "duration": 13,
    "start_time": "2021-12-27T07:30:03.825Z"
   },
   {
    "duration": 51,
    "start_time": "2021-12-27T07:30:03.840Z"
   },
   {
    "duration": 5,
    "start_time": "2021-12-27T07:30:03.892Z"
   },
   {
    "duration": 22,
    "start_time": "2021-12-27T07:30:03.899Z"
   },
   {
    "duration": 59,
    "start_time": "2021-12-27T07:30:03.923Z"
   },
   {
    "duration": 16,
    "start_time": "2021-12-27T07:30:03.984Z"
   },
   {
    "duration": 34,
    "start_time": "2021-12-27T07:30:04.002Z"
   },
   {
    "duration": 11,
    "start_time": "2021-12-27T07:30:04.038Z"
   },
   {
    "duration": 23,
    "start_time": "2021-12-27T07:30:04.050Z"
   },
   {
    "duration": 3,
    "start_time": "2021-12-27T07:35:14.903Z"
   },
   {
    "duration": 5,
    "start_time": "2021-12-27T07:38:21.720Z"
   },
   {
    "duration": 6,
    "start_time": "2021-12-27T07:38:30.375Z"
   },
   {
    "duration": 18,
    "start_time": "2021-12-27T07:43:08.592Z"
   },
   {
    "duration": 498,
    "start_time": "2021-12-27T07:45:50.739Z"
   },
   {
    "duration": 4,
    "start_time": "2021-12-27T07:46:03.266Z"
   },
   {
    "duration": 234,
    "start_time": "2021-12-27T07:46:07.359Z"
   },
   {
    "duration": 70,
    "start_time": "2021-12-27T07:53:18.392Z"
   },
   {
    "duration": 376,
    "start_time": "2021-12-27T07:53:46.876Z"
   },
   {
    "duration": 4,
    "start_time": "2021-12-27T07:54:10.317Z"
   },
   {
    "duration": 302,
    "start_time": "2021-12-27T07:54:15.549Z"
   },
   {
    "duration": 161,
    "start_time": "2021-12-27T07:54:33.251Z"
   },
   {
    "duration": 327,
    "start_time": "2021-12-27T07:54:37.185Z"
   },
   {
    "duration": 25,
    "start_time": "2021-12-27T07:55:36.000Z"
   },
   {
    "duration": 321,
    "start_time": "2021-12-27T07:55:36.498Z"
   },
   {
    "duration": 53,
    "start_time": "2021-12-27T07:55:57.420Z"
   },
   {
    "duration": 342,
    "start_time": "2021-12-27T07:55:58.046Z"
   },
   {
    "duration": 87,
    "start_time": "2021-12-27T08:09:22.374Z"
   },
   {
    "duration": 8,
    "start_time": "2021-12-27T08:11:29.366Z"
   },
   {
    "duration": 26,
    "start_time": "2021-12-27T08:11:30.440Z"
   },
   {
    "duration": 12,
    "start_time": "2021-12-27T08:11:33.306Z"
   },
   {
    "duration": 72,
    "start_time": "2021-12-27T08:11:34.794Z"
   },
   {
    "duration": 1338,
    "start_time": "2021-12-27T08:14:06.102Z"
   },
   {
    "duration": 278,
    "start_time": "2021-12-27T08:14:38.969Z"
   },
   {
    "duration": 665,
    "start_time": "2021-12-27T08:19:17.470Z"
   },
   {
    "duration": 4,
    "start_time": "2021-12-27T08:20:01.119Z"
   },
   {
    "duration": 20,
    "start_time": "2021-12-27T08:21:01.820Z"
   },
   {
    "duration": 720,
    "start_time": "2021-12-27T08:21:05.131Z"
   },
   {
    "duration": 1677,
    "start_time": "2021-12-27T08:21:16.621Z"
   },
   {
    "duration": 1683,
    "start_time": "2021-12-27T08:21:48.248Z"
   },
   {
    "duration": 1728,
    "start_time": "2021-12-27T08:22:07.206Z"
   },
   {
    "duration": 1650,
    "start_time": "2021-12-27T08:26:48.115Z"
   },
   {
    "duration": 6935,
    "start_time": "2021-12-27T08:28:02.112Z"
   },
   {
    "duration": 15,
    "start_time": "2021-12-27T08:31:09.216Z"
   },
   {
    "duration": 31,
    "start_time": "2021-12-27T08:31:40.179Z"
   },
   {
    "duration": 7,
    "start_time": "2021-12-27T08:31:53.448Z"
   },
   {
    "duration": 7,
    "start_time": "2021-12-27T08:32:00.570Z"
   },
   {
    "duration": 375,
    "start_time": "2021-12-27T08:36:35.046Z"
   },
   {
    "duration": 285,
    "start_time": "2021-12-27T08:36:59.024Z"
   },
   {
    "duration": 357,
    "start_time": "2021-12-27T08:37:29.183Z"
   },
   {
    "duration": 322,
    "start_time": "2021-12-27T08:43:05.195Z"
   },
   {
    "duration": 168591,
    "start_time": "2021-12-27T08:43:14.897Z"
   },
   {
    "duration": 3,
    "start_time": "2021-12-27T08:52:16.928Z"
   },
   {
    "duration": 475,
    "start_time": "2021-12-27T08:52:41.757Z"
   },
   {
    "duration": 63,
    "start_time": "2021-12-27T08:54:29.733Z"
   },
   {
    "duration": 271,
    "start_time": "2021-12-27T08:54:49.822Z"
   },
   {
    "duration": 490,
    "start_time": "2021-12-27T08:55:03.452Z"
   },
   {
    "duration": 241,
    "start_time": "2021-12-27T08:55:10.983Z"
   },
   {
    "duration": 234,
    "start_time": "2021-12-27T08:55:55.979Z"
   },
   {
    "duration": 259,
    "start_time": "2021-12-27T08:56:11.123Z"
   },
   {
    "duration": 400,
    "start_time": "2021-12-27T08:56:26.860Z"
   },
   {
    "duration": 236,
    "start_time": "2021-12-27T08:56:31.070Z"
   },
   {
    "duration": 252,
    "start_time": "2021-12-27T08:57:51.459Z"
   },
   {
    "duration": 197,
    "start_time": "2021-12-27T08:58:37.804Z"
   },
   {
    "duration": 250,
    "start_time": "2021-12-27T08:59:10.767Z"
   },
   {
    "duration": 417,
    "start_time": "2021-12-27T09:00:05.609Z"
   },
   {
    "duration": 5,
    "start_time": "2021-12-27T09:24:15.866Z"
   },
   {
    "duration": 25,
    "start_time": "2021-12-27T09:25:04.999Z"
   },
   {
    "duration": 4,
    "start_time": "2021-12-27T09:25:16.462Z"
   },
   {
    "duration": 6,
    "start_time": "2021-12-27T09:25:38.607Z"
   },
   {
    "duration": 6,
    "start_time": "2021-12-27T09:25:47.104Z"
   },
   {
    "duration": 31,
    "start_time": "2021-12-27T09:26:18.767Z"
   },
   {
    "duration": 26,
    "start_time": "2021-12-27T09:26:33.245Z"
   },
   {
    "duration": 27,
    "start_time": "2021-12-27T09:26:45.463Z"
   },
   {
    "duration": 6,
    "start_time": "2021-12-27T09:26:47.949Z"
   },
   {
    "duration": 139,
    "start_time": "2021-12-27T09:30:30.102Z"
   },
   {
    "duration": 60861,
    "start_time": "2021-12-27T09:33:14.787Z"
   },
   {
    "duration": 12,
    "start_time": "2021-12-27T10:20:34.453Z"
   },
   {
    "duration": 4,
    "start_time": "2021-12-27T10:20:45.848Z"
   },
   {
    "duration": 42,
    "start_time": "2021-12-27T10:20:45.854Z"
   },
   {
    "duration": 14,
    "start_time": "2021-12-27T10:20:45.897Z"
   },
   {
    "duration": 4,
    "start_time": "2021-12-27T10:20:45.913Z"
   },
   {
    "duration": 5,
    "start_time": "2021-12-27T10:20:45.918Z"
   },
   {
    "duration": 24,
    "start_time": "2021-12-27T10:20:45.925Z"
   },
   {
    "duration": 22,
    "start_time": "2021-12-27T10:20:45.950Z"
   },
   {
    "duration": 15,
    "start_time": "2021-12-27T10:20:45.974Z"
   },
   {
    "duration": 11,
    "start_time": "2021-12-27T10:20:45.991Z"
   },
   {
    "duration": 58,
    "start_time": "2021-12-27T10:20:46.004Z"
   },
   {
    "duration": 8,
    "start_time": "2021-12-27T10:20:46.064Z"
   },
   {
    "duration": 8,
    "start_time": "2021-12-27T10:20:46.074Z"
   },
   {
    "duration": 22,
    "start_time": "2021-12-27T10:20:46.084Z"
   },
   {
    "duration": 11,
    "start_time": "2021-12-27T10:20:46.107Z"
   },
   {
    "duration": 13,
    "start_time": "2021-12-27T10:20:54.070Z"
   },
   {
    "duration": 21,
    "start_time": "2021-12-27T10:20:54.612Z"
   },
   {
    "duration": 13,
    "start_time": "2021-12-27T10:20:56.106Z"
   },
   {
    "duration": 31,
    "start_time": "2021-12-27T10:21:00.608Z"
   },
   {
    "duration": 244,
    "start_time": "2021-12-27T10:21:07.870Z"
   },
   {
    "duration": 267,
    "start_time": "2021-12-27T10:22:08.055Z"
   },
   {
    "duration": 1111,
    "start_time": "2021-12-27T10:22:54.212Z"
   },
   {
    "duration": 1032,
    "start_time": "2021-12-27T10:23:56.314Z"
   },
   {
    "duration": 1314,
    "start_time": "2021-12-27T10:24:27.080Z"
   },
   {
    "duration": 5015,
    "start_time": "2021-12-27T10:24:38.108Z"
   },
   {
    "duration": 7,
    "start_time": "2021-12-27T10:25:36.511Z"
   },
   {
    "duration": 15,
    "start_time": "2021-12-27T10:25:54.340Z"
   },
   {
    "duration": 8,
    "start_time": "2021-12-27T10:25:56.379Z"
   },
   {
    "duration": 36,
    "start_time": "2021-12-27T10:26:03.074Z"
   },
   {
    "duration": 317,
    "start_time": "2021-12-27T10:27:09.354Z"
   },
   {
    "duration": 1186,
    "start_time": "2021-12-27T10:27:50.212Z"
   },
   {
    "duration": 143315,
    "start_time": "2021-12-27T10:28:41.580Z"
   },
   {
    "duration": 425,
    "start_time": "2021-12-27T10:31:32.062Z"
   },
   {
    "duration": 260,
    "start_time": "2021-12-27T10:31:33.116Z"
   },
   {
    "duration": 4,
    "start_time": "2021-12-27T10:33:17.080Z"
   },
   {
    "duration": 41,
    "start_time": "2021-12-27T10:33:51.420Z"
   },
   {
    "duration": 7,
    "start_time": "2021-12-27T10:33:54.273Z"
   },
   {
    "duration": 120,
    "start_time": "2021-12-27T10:34:33.456Z"
   },
   {
    "duration": 107290,
    "start_time": "2021-12-27T10:35:20.439Z"
   },
   {
    "duration": 56985,
    "start_time": "2021-12-27T10:39:03.158Z"
   },
   {
    "duration": 4,
    "start_time": "2021-12-27T10:44:35.172Z"
   },
   {
    "duration": 54,
    "start_time": "2021-12-27T10:44:35.178Z"
   },
   {
    "duration": 14,
    "start_time": "2021-12-27T10:44:35.234Z"
   },
   {
    "duration": 14,
    "start_time": "2021-12-27T10:44:35.250Z"
   },
   {
    "duration": 11,
    "start_time": "2021-12-27T10:44:35.266Z"
   },
   {
    "duration": 21,
    "start_time": "2021-12-27T10:44:35.279Z"
   },
   {
    "duration": 12,
    "start_time": "2021-12-27T10:44:35.302Z"
   },
   {
    "duration": 14,
    "start_time": "2021-12-27T10:44:35.317Z"
   },
   {
    "duration": 27,
    "start_time": "2021-12-27T10:44:35.333Z"
   },
   {
    "duration": 32,
    "start_time": "2021-12-27T10:44:35.362Z"
   },
   {
    "duration": 5,
    "start_time": "2021-12-27T10:44:35.396Z"
   },
   {
    "duration": 18,
    "start_time": "2021-12-27T10:44:35.403Z"
   },
   {
    "duration": 32,
    "start_time": "2021-12-27T10:44:35.422Z"
   },
   {
    "duration": 17,
    "start_time": "2021-12-27T10:44:35.455Z"
   },
   {
    "duration": 42,
    "start_time": "2021-12-27T10:44:35.473Z"
   },
   {
    "duration": 17,
    "start_time": "2021-12-27T10:44:35.517Z"
   },
   {
    "duration": 124,
    "start_time": "2021-12-27T10:44:35.536Z"
   },
   {
    "duration": 7,
    "start_time": "2021-12-27T10:44:35.663Z"
   },
   {
    "duration": 1078,
    "start_time": "2021-12-27T10:44:35.761Z"
   },
   {
    "duration": 2,
    "start_time": "2021-12-27T10:44:36.841Z"
   },
   {
    "duration": 103582,
    "start_time": "2021-12-27T10:44:36.845Z"
   },
   {
    "duration": 3,
    "start_time": "2021-12-27T10:46:20.428Z"
   },
   {
    "duration": 15,
    "start_time": "2021-12-27T10:46:20.434Z"
   },
   {
    "duration": 25,
    "start_time": "2021-12-27T10:46:20.451Z"
   },
   {
    "duration": 8,
    "start_time": "2021-12-27T10:46:20.478Z"
   },
   {
    "duration": 74,
    "start_time": "2021-12-27T10:46:20.488Z"
   },
   {
    "duration": 96,
    "start_time": "2021-12-27T10:46:20.565Z"
   },
   {
    "duration": 338,
    "start_time": "2021-12-27T10:46:20.662Z"
   },
   {
    "duration": 3,
    "start_time": "2021-12-27T10:46:21.002Z"
   },
   {
    "duration": 142597,
    "start_time": "2021-12-27T10:46:21.007Z"
   },
   {
    "duration": 3,
    "start_time": "2021-12-27T10:48:43.606Z"
   },
   {
    "duration": 424,
    "start_time": "2021-12-27T10:48:43.611Z"
   },
   {
    "duration": 291,
    "start_time": "2021-12-27T10:48:44.037Z"
   },
   {
    "duration": 5,
    "start_time": "2021-12-27T10:48:44.330Z"
   },
   {
    "duration": 41,
    "start_time": "2021-12-27T10:48:44.337Z"
   },
   {
    "duration": 84,
    "start_time": "2021-12-27T10:48:44.380Z"
   },
   {
    "duration": 98,
    "start_time": "2021-12-27T10:48:44.467Z"
   },
   {
    "duration": 140,
    "start_time": "2021-12-27T10:48:44.566Z"
   },
   {
    "duration": 3,
    "start_time": "2021-12-27T10:48:44.707Z"
   },
   {
    "duration": 54995,
    "start_time": "2021-12-27T10:48:44.711Z"
   },
   {
    "duration": 3,
    "start_time": "2021-12-27T10:49:39.708Z"
   },
   {
    "duration": 2,
    "start_time": "2021-12-27T10:50:05.570Z"
   },
   {
    "duration": 4,
    "start_time": "2021-12-27T10:50:54.329Z"
   },
   {
    "duration": 6,
    "start_time": "2021-12-27T10:52:02.885Z"
   },
   {
    "duration": 329,
    "start_time": "2021-12-27T10:52:56.102Z"
   },
   {
    "duration": 3293,
    "start_time": "2021-12-27T10:53:14.017Z"
   },
   {
    "duration": 10,
    "start_time": "2021-12-27T10:53:21.785Z"
   },
   {
    "duration": 207,
    "start_time": "2021-12-27T10:57:27.813Z"
   },
   {
    "duration": 270,
    "start_time": "2021-12-27T10:57:34.385Z"
   },
   {
    "duration": 5,
    "start_time": "2021-12-27T10:57:48.878Z"
   },
   {
    "duration": 233,
    "start_time": "2021-12-27T10:59:18.146Z"
   },
   {
    "duration": 307,
    "start_time": "2021-12-27T10:59:19.570Z"
   },
   {
    "duration": 13,
    "start_time": "2021-12-27T11:01:50.112Z"
   },
   {
    "duration": 77,
    "start_time": "2021-12-27T11:03:55.287Z"
   },
   {
    "duration": 1353,
    "start_time": "2021-12-27T11:05:27.425Z"
   },
   {
    "duration": 285,
    "start_time": "2021-12-27T11:08:32.273Z"
   },
   {
    "duration": 283,
    "start_time": "2021-12-27T11:09:08.949Z"
   },
   {
    "duration": 451,
    "start_time": "2021-12-27T11:09:31.243Z"
   },
   {
    "duration": 1209,
    "start_time": "2021-12-27T11:09:41.795Z"
   },
   {
    "duration": 1211,
    "start_time": "2021-12-27T11:11:16.102Z"
   },
   {
    "duration": 1266,
    "start_time": "2021-12-27T11:12:03.376Z"
   },
   {
    "duration": 1371,
    "start_time": "2021-12-27T11:13:06.953Z"
   },
   {
    "duration": 1249,
    "start_time": "2021-12-27T11:13:27.034Z"
   },
   {
    "duration": 1207,
    "start_time": "2021-12-27T11:14:37.056Z"
   },
   {
    "duration": 59557,
    "start_time": "2021-12-27T11:16:30.817Z"
   },
   {
    "duration": 12361,
    "start_time": "2021-12-27T11:19:13.224Z"
   },
   {
    "duration": 61191,
    "start_time": "2021-12-27T11:19:26.886Z"
   },
   {
    "duration": 60379,
    "start_time": "2021-12-27T11:20:43.465Z"
   },
   {
    "duration": 66554,
    "start_time": "2021-12-27T11:22:50.888Z"
   },
   {
    "duration": 60258,
    "start_time": "2021-12-27T11:24:20.447Z"
   },
   {
    "duration": 62383,
    "start_time": "2021-12-27T11:27:56.617Z"
   },
   {
    "duration": 61129,
    "start_time": "2021-12-27T11:29:08.317Z"
   },
   {
    "duration": 3,
    "start_time": "2021-12-27T11:30:09.448Z"
   },
   {
    "duration": 6,
    "start_time": "2021-12-27T11:30:09.460Z"
   },
   {
    "duration": 29,
    "start_time": "2021-12-27T11:30:09.468Z"
   },
   {
    "duration": 14,
    "start_time": "2021-12-27T11:30:09.499Z"
   },
   {
    "duration": 133,
    "start_time": "2021-12-27T11:30:18.729Z"
   },
   {
    "duration": 5,
    "start_time": "2021-12-27T11:30:30.660Z"
   },
   {
    "duration": 353,
    "start_time": "2021-12-27T11:31:26.723Z"
   },
   {
    "duration": 77,
    "start_time": "2021-12-27T11:32:20.792Z"
   },
   {
    "duration": 2054,
    "start_time": "2021-12-27T11:33:07.923Z"
   },
   {
    "duration": 1573,
    "start_time": "2021-12-27T11:33:23.482Z"
   },
   {
    "duration": 1595,
    "start_time": "2021-12-27T11:34:20.326Z"
   },
   {
    "duration": 3,
    "start_time": "2021-12-27T11:34:43.045Z"
   },
   {
    "duration": 110,
    "start_time": "2021-12-27T11:35:41.129Z"
   },
   {
    "duration": 87402,
    "start_time": "2021-12-27T11:35:49.621Z"
   },
   {
    "duration": 62,
    "start_time": "2021-12-27T11:38:45.838Z"
   },
   {
    "duration": 212,
    "start_time": "2021-12-27T11:38:46.499Z"
   },
   {
    "duration": 5,
    "start_time": "2021-12-27T11:39:49.323Z"
   },
   {
    "duration": 56,
    "start_time": "2021-12-27T11:40:40.806Z"
   },
   {
    "duration": 6,
    "start_time": "2021-12-27T11:40:47.711Z"
   },
   {
    "duration": 7,
    "start_time": "2021-12-27T11:40:48.101Z"
   },
   {
    "duration": 395,
    "start_time": "2021-12-27T11:42:05.000Z"
   },
   {
    "duration": 3,
    "start_time": "2021-12-27T11:42:09.976Z"
   },
   {
    "duration": 32973,
    "start_time": "2021-12-27T11:43:28.168Z"
   },
   {
    "duration": 3,
    "start_time": "2021-12-27T11:44:15.462Z"
   },
   {
    "duration": 5,
    "start_time": "2021-12-27T11:44:16.863Z"
   },
   {
    "duration": 12,
    "start_time": "2021-12-27T11:44:50.193Z"
   },
   {
    "duration": 2230,
    "start_time": "2021-12-27T11:45:17.120Z"
   },
   {
    "duration": 5,
    "start_time": "2021-12-27T11:45:19.353Z"
   },
   {
    "duration": 66,
    "start_time": "2021-12-27T11:45:19.360Z"
   },
   {
    "duration": 16,
    "start_time": "2021-12-27T11:45:19.428Z"
   },
   {
    "duration": 7,
    "start_time": "2021-12-27T11:45:19.446Z"
   },
   {
    "duration": 14,
    "start_time": "2021-12-27T11:45:19.455Z"
   },
   {
    "duration": 23,
    "start_time": "2021-12-27T11:45:19.470Z"
   },
   {
    "duration": 26,
    "start_time": "2021-12-27T11:45:19.495Z"
   },
   {
    "duration": 14,
    "start_time": "2021-12-27T11:45:19.524Z"
   },
   {
    "duration": 31,
    "start_time": "2021-12-27T11:45:19.540Z"
   },
   {
    "duration": 56,
    "start_time": "2021-12-27T11:45:19.573Z"
   },
   {
    "duration": 6,
    "start_time": "2021-12-27T11:45:19.631Z"
   },
   {
    "duration": 15,
    "start_time": "2021-12-27T11:45:19.639Z"
   },
   {
    "duration": 25,
    "start_time": "2021-12-27T11:45:19.656Z"
   },
   {
    "duration": 13,
    "start_time": "2021-12-27T11:45:19.682Z"
   },
   {
    "duration": 26,
    "start_time": "2021-12-27T11:45:19.697Z"
   },
   {
    "duration": 18,
    "start_time": "2021-12-27T11:45:19.725Z"
   },
   {
    "duration": 117,
    "start_time": "2021-12-27T11:45:19.745Z"
   },
   {
    "duration": 94,
    "start_time": "2021-12-27T11:45:19.867Z"
   },
   {
    "duration": 1329,
    "start_time": "2021-12-27T11:45:19.963Z"
   },
   {
    "duration": 3,
    "start_time": "2021-12-27T11:45:21.293Z"
   },
   {
    "duration": 62016,
    "start_time": "2021-12-27T11:45:21.297Z"
   },
   {
    "duration": 2,
    "start_time": "2021-12-27T11:46:23.317Z"
   },
   {
    "duration": 20,
    "start_time": "2021-12-27T11:46:23.321Z"
   },
   {
    "duration": 19,
    "start_time": "2021-12-27T11:46:23.343Z"
   },
   {
    "duration": 31,
    "start_time": "2021-12-27T11:46:23.363Z"
   },
   {
    "duration": 68,
    "start_time": "2021-12-27T11:46:23.396Z"
   },
   {
    "duration": 98,
    "start_time": "2021-12-27T11:46:23.467Z"
   },
   {
    "duration": 1706,
    "start_time": "2021-12-27T11:46:23.567Z"
   },
   {
    "duration": 2,
    "start_time": "2021-12-27T11:46:25.275Z"
   },
   {
    "duration": 87001,
    "start_time": "2021-12-27T11:46:25.279Z"
   },
   {
    "duration": 2,
    "start_time": "2021-12-27T11:47:52.282Z"
   },
   {
    "duration": 74,
    "start_time": "2021-12-27T11:47:52.286Z"
   },
   {
    "duration": 276,
    "start_time": "2021-12-27T11:47:52.362Z"
   },
   {
    "duration": 4,
    "start_time": "2021-12-27T11:47:52.640Z"
   },
   {
    "duration": 37,
    "start_time": "2021-12-27T11:47:52.646Z"
   },
   {
    "duration": 8,
    "start_time": "2021-12-27T11:47:52.763Z"
   },
   {
    "duration": 6,
    "start_time": "2021-12-27T11:47:52.862Z"
   },
   {
    "duration": 405,
    "start_time": "2021-12-27T11:47:52.870Z"
   },
   {
    "duration": 2,
    "start_time": "2021-12-27T11:47:53.276Z"
   },
   {
    "duration": 32763,
    "start_time": "2021-12-27T11:47:53.280Z"
   },
   {
    "duration": 3,
    "start_time": "2021-12-27T11:48:26.045Z"
   },
   {
    "duration": 27,
    "start_time": "2021-12-27T11:48:26.049Z"
   },
   {
    "duration": 40,
    "start_time": "2021-12-27T11:48:26.078Z"
   },
   {
    "duration": 63,
    "start_time": "2021-12-27T11:50:36.451Z"
   },
   {
    "duration": 2219,
    "start_time": "2021-12-27T11:52:08.364Z"
   },
   {
    "duration": 5,
    "start_time": "2021-12-27T11:52:10.586Z"
   },
   {
    "duration": 40,
    "start_time": "2021-12-27T11:52:10.593Z"
   },
   {
    "duration": 14,
    "start_time": "2021-12-27T11:52:10.635Z"
   },
   {
    "duration": 5,
    "start_time": "2021-12-27T11:52:10.650Z"
   },
   {
    "duration": 6,
    "start_time": "2021-12-27T11:52:10.656Z"
   },
   {
    "duration": 14,
    "start_time": "2021-12-27T11:52:10.663Z"
   },
   {
    "duration": 13,
    "start_time": "2021-12-27T11:52:10.680Z"
   },
   {
    "duration": 11,
    "start_time": "2021-12-27T11:52:10.695Z"
   },
   {
    "duration": 10,
    "start_time": "2021-12-27T11:52:10.707Z"
   },
   {
    "duration": 58,
    "start_time": "2021-12-27T11:52:10.719Z"
   },
   {
    "duration": 7,
    "start_time": "2021-12-27T11:52:10.779Z"
   },
   {
    "duration": 8,
    "start_time": "2021-12-27T11:52:10.788Z"
   },
   {
    "duration": 23,
    "start_time": "2021-12-27T11:52:10.798Z"
   },
   {
    "duration": 45,
    "start_time": "2021-12-27T11:52:10.824Z"
   },
   {
    "duration": 19,
    "start_time": "2021-12-27T11:52:10.870Z"
   },
   {
    "duration": 11,
    "start_time": "2021-12-27T11:52:10.891Z"
   },
   {
    "duration": 159,
    "start_time": "2021-12-27T11:52:10.904Z"
   },
   {
    "duration": 96,
    "start_time": "2021-12-27T11:52:11.065Z"
   },
   {
    "duration": 1310,
    "start_time": "2021-12-27T11:52:11.163Z"
   },
   {
    "duration": 2,
    "start_time": "2021-12-27T11:52:12.475Z"
   },
   {
    "duration": 37352,
    "start_time": "2021-12-27T11:52:12.479Z"
   },
   {
    "duration": 2,
    "start_time": "2021-12-27T11:52:49.835Z"
   },
   {
    "duration": 13,
    "start_time": "2021-12-27T11:52:49.840Z"
   },
   {
    "duration": 20,
    "start_time": "2021-12-27T11:52:49.855Z"
   },
   {
    "duration": 7,
    "start_time": "2021-12-27T11:52:49.877Z"
   },
   {
    "duration": 177,
    "start_time": "2021-12-27T11:52:49.886Z"
   },
   {
    "duration": 5,
    "start_time": "2021-12-27T11:52:50.065Z"
   },
   {
    "duration": 1626,
    "start_time": "2021-12-27T11:52:50.072Z"
   },
   {
    "duration": 2,
    "start_time": "2021-12-27T11:52:51.700Z"
   },
   {
    "duration": 1523,
    "start_time": "2021-12-27T11:52:51.704Z"
   },
   {
    "duration": 3,
    "start_time": "2021-12-27T11:52:53.229Z"
   },
   {
    "duration": 81,
    "start_time": "2021-12-27T11:52:53.235Z"
   },
   {
    "duration": 410,
    "start_time": "2021-12-27T11:52:53.317Z"
   },
   {
    "duration": 5,
    "start_time": "2021-12-27T11:52:53.729Z"
   },
   {
    "duration": 128,
    "start_time": "2021-12-27T11:52:53.736Z"
   },
   {
    "duration": 95,
    "start_time": "2021-12-27T11:52:53.868Z"
   },
   {
    "duration": 20,
    "start_time": "2021-12-27T11:52:53.965Z"
   },
   {
    "duration": 403,
    "start_time": "2021-12-27T11:52:53.986Z"
   },
   {
    "duration": 2,
    "start_time": "2021-12-27T11:52:54.391Z"
   },
   {
    "duration": 2995,
    "start_time": "2021-12-27T11:52:54.395Z"
   },
   {
    "duration": 2,
    "start_time": "2021-12-27T11:52:57.392Z"
   },
   {
    "duration": 6,
    "start_time": "2021-12-27T11:52:57.396Z"
   },
   {
    "duration": 66,
    "start_time": "2021-12-27T11:52:57.404Z"
   },
   {
    "duration": 2209,
    "start_time": "2021-12-27T11:53:01.202Z"
   },
   {
    "duration": 4,
    "start_time": "2021-12-27T11:53:03.414Z"
   },
   {
    "duration": 50,
    "start_time": "2021-12-27T11:53:03.421Z"
   },
   {
    "duration": 17,
    "start_time": "2021-12-27T11:53:03.473Z"
   },
   {
    "duration": 4,
    "start_time": "2021-12-27T11:53:03.492Z"
   },
   {
    "duration": 7,
    "start_time": "2021-12-27T11:53:03.498Z"
   },
   {
    "duration": 18,
    "start_time": "2021-12-27T11:53:03.506Z"
   },
   {
    "duration": 35,
    "start_time": "2021-12-27T11:53:03.526Z"
   },
   {
    "duration": 12,
    "start_time": "2021-12-27T11:53:03.563Z"
   },
   {
    "duration": 13,
    "start_time": "2021-12-27T11:53:03.577Z"
   },
   {
    "duration": 35,
    "start_time": "2021-12-27T11:53:03.592Z"
   },
   {
    "duration": 6,
    "start_time": "2021-12-27T11:53:03.629Z"
   },
   {
    "duration": 8,
    "start_time": "2021-12-27T11:53:03.637Z"
   },
   {
    "duration": 21,
    "start_time": "2021-12-27T11:53:03.660Z"
   },
   {
    "duration": 12,
    "start_time": "2021-12-27T11:53:07.952Z"
   },
   {
    "duration": 14,
    "start_time": "2021-12-27T11:53:11.887Z"
   },
   {
    "duration": 14,
    "start_time": "2021-12-27T11:53:18.813Z"
   },
   {
    "duration": 20,
    "start_time": "2021-12-27T11:54:44.069Z"
   },
   {
    "duration": 11,
    "start_time": "2021-12-27T11:54:44.892Z"
   },
   {
    "duration": 99,
    "start_time": "2021-12-27T11:54:50.663Z"
   },
   {
    "duration": 6,
    "start_time": "2021-12-27T11:54:54.497Z"
   },
   {
    "duration": 1317,
    "start_time": "2021-12-27T11:55:01.538Z"
   },
   {
    "duration": 3,
    "start_time": "2021-12-27T11:55:12.105Z"
   },
   {
    "duration": 60433,
    "start_time": "2021-12-27T11:55:16.108Z"
   },
   {
    "duration": 61149,
    "start_time": "2021-12-27T11:56:31.611Z"
   },
   {
    "duration": 3,
    "start_time": "2021-12-27T11:57:32.762Z"
   },
   {
    "duration": 33,
    "start_time": "2021-12-27T11:57:32.767Z"
   },
   {
    "duration": 3,
    "start_time": "2021-12-27T11:57:55.069Z"
   },
   {
    "duration": 6,
    "start_time": "2021-12-27T11:57:55.788Z"
   },
   {
    "duration": 17,
    "start_time": "2021-12-27T11:58:31.954Z"
   },
   {
    "duration": 6,
    "start_time": "2021-12-27T11:58:32.390Z"
   },
   {
    "duration": 13,
    "start_time": "2021-12-27T11:58:48.582Z"
   },
   {
    "duration": 6,
    "start_time": "2021-12-27T11:58:50.908Z"
   },
   {
    "duration": 59,
    "start_time": "2021-12-27T11:58:57.207Z"
   },
   {
    "duration": 6,
    "start_time": "2021-12-27T11:59:03.087Z"
   },
   {
    "duration": 1593,
    "start_time": "2021-12-27T11:59:08.173Z"
   },
   {
    "duration": 2,
    "start_time": "2021-12-27T11:59:21.548Z"
   },
   {
    "duration": 86488,
    "start_time": "2021-12-27T11:59:23.053Z"
   },
   {
    "duration": 3,
    "start_time": "2021-12-27T12:01:01.728Z"
   },
   {
    "duration": 62,
    "start_time": "2021-12-27T12:01:06.253Z"
   },
   {
    "duration": 320,
    "start_time": "2021-12-27T12:01:06.949Z"
   },
   {
    "duration": 304,
    "start_time": "2021-12-27T12:01:14.929Z"
   },
   {
    "duration": 5,
    "start_time": "2021-12-27T12:01:21.299Z"
   },
   {
    "duration": 11,
    "start_time": "2021-12-27T12:01:40.278Z"
   },
   {
    "duration": 20,
    "start_time": "2021-12-27T12:01:42.502Z"
   },
   {
    "duration": 5,
    "start_time": "2021-12-27T12:01:45.487Z"
   },
   {
    "duration": 7,
    "start_time": "2021-12-27T12:01:45.814Z"
   },
   {
    "duration": 395,
    "start_time": "2021-12-27T12:01:47.688Z"
   },
   {
    "duration": 399,
    "start_time": "2021-12-27T12:02:11.429Z"
   },
   {
    "duration": 3,
    "start_time": "2021-12-27T12:02:12.088Z"
   },
   {
    "duration": 32161,
    "start_time": "2021-12-27T12:02:20.271Z"
   },
   {
    "duration": 3,
    "start_time": "2021-12-27T12:02:59.759Z"
   },
   {
    "duration": 5,
    "start_time": "2021-12-27T12:03:01.600Z"
   },
   {
    "duration": 5,
    "start_time": "2021-12-27T12:03:09.890Z"
   },
   {
    "duration": 64,
    "start_time": "2021-12-27T12:03:12.385Z"
   },
   {
    "duration": 2182,
    "start_time": "2021-12-27T12:06:02.725Z"
   },
   {
    "duration": 1700,
    "start_time": "2021-12-27T12:07:12.833Z"
   },
   {
    "duration": 32508,
    "start_time": "2021-12-27T12:07:59.980Z"
   },
   {
    "duration": 65,
    "start_time": "2021-12-27T12:11:46.977Z"
   },
   {
    "duration": 61,
    "start_time": "2021-12-27T12:12:49.503Z"
   },
   {
    "duration": 61,
    "start_time": "2021-12-27T12:13:05.015Z"
   },
   {
    "duration": 4,
    "start_time": "2021-12-27T12:15:20.067Z"
   },
   {
    "duration": 12,
    "start_time": "2021-12-27T12:17:09.193Z"
   },
   {
    "duration": 13,
    "start_time": "2021-12-27T12:17:16.064Z"
   },
   {
    "duration": 11,
    "start_time": "2021-12-27T12:17:20.570Z"
   },
   {
    "duration": 2225,
    "start_time": "2021-12-27T12:17:29.055Z"
   },
   {
    "duration": 4,
    "start_time": "2021-12-27T12:17:31.283Z"
   },
   {
    "duration": 47,
    "start_time": "2021-12-27T12:17:31.289Z"
   },
   {
    "duration": 15,
    "start_time": "2021-12-27T12:17:31.338Z"
   },
   {
    "duration": 6,
    "start_time": "2021-12-27T12:17:31.355Z"
   },
   {
    "duration": 6,
    "start_time": "2021-12-27T12:17:31.363Z"
   },
   {
    "duration": 22,
    "start_time": "2021-12-27T12:17:31.371Z"
   },
   {
    "duration": 25,
    "start_time": "2021-12-27T12:17:31.395Z"
   },
   {
    "duration": 12,
    "start_time": "2021-12-27T12:17:31.421Z"
   },
   {
    "duration": 19,
    "start_time": "2021-12-27T12:17:31.434Z"
   },
   {
    "duration": 32,
    "start_time": "2021-12-27T12:17:31.455Z"
   },
   {
    "duration": 5,
    "start_time": "2021-12-27T12:17:31.489Z"
   },
   {
    "duration": 24,
    "start_time": "2021-12-27T12:17:31.495Z"
   },
   {
    "duration": 41,
    "start_time": "2021-12-27T12:17:31.521Z"
   },
   {
    "duration": 17,
    "start_time": "2021-12-27T12:17:31.564Z"
   },
   {
    "duration": 28,
    "start_time": "2021-12-27T12:17:31.582Z"
   },
   {
    "duration": 51,
    "start_time": "2021-12-27T12:17:31.612Z"
   },
   {
    "duration": 48,
    "start_time": "2021-12-27T12:17:31.665Z"
   },
   {
    "duration": 146,
    "start_time": "2021-12-27T12:17:31.715Z"
   },
   {
    "duration": 9,
    "start_time": "2021-12-27T12:17:31.864Z"
   },
   {
    "duration": 1129,
    "start_time": "2021-12-27T12:17:31.961Z"
   },
   {
    "duration": 2,
    "start_time": "2021-12-27T12:17:33.092Z"
   },
   {
    "duration": 57411,
    "start_time": "2021-12-27T12:17:33.098Z"
   },
   {
    "duration": 2,
    "start_time": "2021-12-27T12:18:30.511Z"
   },
   {
    "duration": 34,
    "start_time": "2021-12-27T12:18:30.516Z"
   },
   {
    "duration": 32,
    "start_time": "2021-12-27T12:18:30.552Z"
   },
   {
    "duration": 10,
    "start_time": "2021-12-27T12:18:30.586Z"
   },
   {
    "duration": 170,
    "start_time": "2021-12-27T12:18:30.598Z"
   },
   {
    "duration": 94,
    "start_time": "2021-12-27T12:18:30.770Z"
   },
   {
    "duration": 1642,
    "start_time": "2021-12-27T12:18:30.866Z"
   },
   {
    "duration": 3,
    "start_time": "2021-12-27T12:18:32.509Z"
   },
   {
    "duration": 82120,
    "start_time": "2021-12-27T12:18:32.513Z"
   },
   {
    "duration": 2,
    "start_time": "2021-12-27T12:19:54.635Z"
   },
   {
    "duration": 80,
    "start_time": "2021-12-27T12:19:54.639Z"
   },
   {
    "duration": 289,
    "start_time": "2021-12-27T12:19:54.721Z"
   },
   {
    "duration": 5,
    "start_time": "2021-12-27T12:19:55.012Z"
   },
   {
    "duration": 20,
    "start_time": "2021-12-27T12:19:55.018Z"
   },
   {
    "duration": 32,
    "start_time": "2021-12-27T12:19:55.040Z"
   },
   {
    "duration": 9,
    "start_time": "2021-12-27T12:19:55.162Z"
   },
   {
    "duration": 6,
    "start_time": "2021-12-27T12:19:55.261Z"
   },
   {
    "duration": 401,
    "start_time": "2021-12-27T12:19:55.269Z"
   },
   {
    "duration": 3,
    "start_time": "2021-12-27T12:19:55.672Z"
   },
   {
    "duration": 33631,
    "start_time": "2021-12-27T12:19:55.677Z"
   },
   {
    "duration": 3,
    "start_time": "2021-12-27T12:20:29.310Z"
   },
   {
    "duration": 19,
    "start_time": "2021-12-27T12:20:29.315Z"
   },
   {
    "duration": 75,
    "start_time": "2021-12-27T12:20:29.336Z"
   },
   {
    "duration": 2273,
    "start_time": "2021-12-27T12:22:03.177Z"
   },
   {
    "duration": 5,
    "start_time": "2021-12-27T12:22:05.452Z"
   },
   {
    "duration": 44,
    "start_time": "2021-12-27T12:22:05.460Z"
   },
   {
    "duration": 15,
    "start_time": "2021-12-27T12:22:05.506Z"
   },
   {
    "duration": 5,
    "start_time": "2021-12-27T12:22:05.522Z"
   },
   {
    "duration": 8,
    "start_time": "2021-12-27T12:22:05.529Z"
   },
   {
    "duration": 32,
    "start_time": "2021-12-27T12:22:05.539Z"
   },
   {
    "duration": 18,
    "start_time": "2021-12-27T12:22:05.572Z"
   },
   {
    "duration": 39,
    "start_time": "2021-12-27T12:22:05.593Z"
   },
   {
    "duration": 11,
    "start_time": "2021-12-27T12:22:05.634Z"
   },
   {
    "duration": 38,
    "start_time": "2021-12-27T12:22:05.647Z"
   },
   {
    "duration": 6,
    "start_time": "2021-12-27T12:22:05.687Z"
   },
   {
    "duration": 19,
    "start_time": "2021-12-27T12:22:05.695Z"
   },
   {
    "duration": 3,
    "start_time": "2021-12-27T12:22:05.716Z"
   },
   {
    "duration": 9,
    "start_time": "2021-12-27T12:22:05.720Z"
   },
   {
    "duration": 18,
    "start_time": "2021-12-27T12:22:05.731Z"
   },
   {
    "duration": 29,
    "start_time": "2021-12-27T12:22:05.750Z"
   },
   {
    "duration": 13,
    "start_time": "2021-12-27T12:22:05.781Z"
   },
   {
    "duration": 274,
    "start_time": "2021-12-27T12:22:05.797Z"
   },
   {
    "duration": 670,
    "start_time": "2021-12-27T12:22:05.405Z"
   },
   {
    "duration": 667,
    "start_time": "2021-12-27T12:22:05.409Z"
   },
   {
    "duration": 666,
    "start_time": "2021-12-27T12:22:05.411Z"
   },
   {
    "duration": 666,
    "start_time": "2021-12-27T12:22:05.413Z"
   },
   {
    "duration": 665,
    "start_time": "2021-12-27T12:22:05.415Z"
   },
   {
    "duration": 664,
    "start_time": "2021-12-27T12:22:05.418Z"
   },
   {
    "duration": 663,
    "start_time": "2021-12-27T12:22:05.420Z"
   },
   {
    "duration": 663,
    "start_time": "2021-12-27T12:22:05.422Z"
   },
   {
    "duration": 662,
    "start_time": "2021-12-27T12:22:05.424Z"
   },
   {
    "duration": 656,
    "start_time": "2021-12-27T12:22:05.431Z"
   },
   {
    "duration": 656,
    "start_time": "2021-12-27T12:22:05.433Z"
   },
   {
    "duration": 656,
    "start_time": "2021-12-27T12:22:05.435Z"
   },
   {
    "duration": 655,
    "start_time": "2021-12-27T12:22:05.437Z"
   },
   {
    "duration": 654,
    "start_time": "2021-12-27T12:22:05.439Z"
   },
   {
    "duration": 654,
    "start_time": "2021-12-27T12:22:05.441Z"
   },
   {
    "duration": 653,
    "start_time": "2021-12-27T12:22:05.443Z"
   },
   {
    "duration": 624,
    "start_time": "2021-12-27T12:22:05.473Z"
   },
   {
    "duration": 621,
    "start_time": "2021-12-27T12:22:05.478Z"
   },
   {
    "duration": 620,
    "start_time": "2021-12-27T12:22:05.480Z"
   },
   {
    "duration": 620,
    "start_time": "2021-12-27T12:22:05.482Z"
   },
   {
    "duration": 618,
    "start_time": "2021-12-27T12:22:05.485Z"
   },
   {
    "duration": 617,
    "start_time": "2021-12-27T12:22:05.487Z"
   },
   {
    "duration": 617,
    "start_time": "2021-12-27T12:22:05.489Z"
   },
   {
    "duration": 615,
    "start_time": "2021-12-27T12:22:05.492Z"
   },
   {
    "duration": 613,
    "start_time": "2021-12-27T12:22:05.495Z"
   },
   {
    "duration": 613,
    "start_time": "2021-12-27T12:22:05.497Z"
   },
   {
    "duration": 612,
    "start_time": "2021-12-27T12:22:05.499Z"
   },
   {
    "duration": 2275,
    "start_time": "2021-12-27T12:22:42.247Z"
   },
   {
    "duration": 4,
    "start_time": "2021-12-27T12:22:44.525Z"
   },
   {
    "duration": 55,
    "start_time": "2021-12-27T12:22:44.531Z"
   },
   {
    "duration": 17,
    "start_time": "2021-12-27T12:22:44.589Z"
   },
   {
    "duration": 4,
    "start_time": "2021-12-27T12:22:44.608Z"
   },
   {
    "duration": 21,
    "start_time": "2021-12-27T12:22:44.614Z"
   },
   {
    "duration": 26,
    "start_time": "2021-12-27T12:22:44.637Z"
   },
   {
    "duration": 20,
    "start_time": "2021-12-27T12:22:44.666Z"
   },
   {
    "duration": 35,
    "start_time": "2021-12-27T12:22:44.689Z"
   },
   {
    "duration": 16,
    "start_time": "2021-12-27T12:22:44.725Z"
   },
   {
    "duration": 50,
    "start_time": "2021-12-27T12:22:44.743Z"
   },
   {
    "duration": 6,
    "start_time": "2021-12-27T12:22:44.795Z"
   },
   {
    "duration": 19,
    "start_time": "2021-12-27T12:22:44.803Z"
   },
   {
    "duration": 21,
    "start_time": "2021-12-27T12:22:44.824Z"
   },
   {
    "duration": 23,
    "start_time": "2021-12-27T12:22:44.847Z"
   },
   {
    "duration": 19,
    "start_time": "2021-12-27T12:22:44.872Z"
   },
   {
    "duration": 25,
    "start_time": "2021-12-27T12:22:44.893Z"
   },
   {
    "duration": 13,
    "start_time": "2021-12-27T12:22:44.920Z"
   },
   {
    "duration": 10,
    "start_time": "2021-12-27T12:22:44.936Z"
   },
   {
    "duration": 13,
    "start_time": "2021-12-27T12:22:44.948Z"
   },
   {
    "duration": 312,
    "start_time": "2021-12-27T12:22:44.963Z"
   },
   {
    "duration": 678,
    "start_time": "2021-12-27T12:22:44.600Z"
   },
   {
    "duration": 677,
    "start_time": "2021-12-27T12:22:44.603Z"
   },
   {
    "duration": 676,
    "start_time": "2021-12-27T12:22:44.605Z"
   },
   {
    "duration": 676,
    "start_time": "2021-12-27T12:22:44.607Z"
   },
   {
    "duration": 675,
    "start_time": "2021-12-27T12:22:44.609Z"
   },
   {
    "duration": 664,
    "start_time": "2021-12-27T12:22:44.622Z"
   },
   {
    "duration": 662,
    "start_time": "2021-12-27T12:22:44.625Z"
   },
   {
    "duration": 662,
    "start_time": "2021-12-27T12:22:44.627Z"
   },
   {
    "duration": 663,
    "start_time": "2021-12-27T12:22:44.628Z"
   },
   {
    "duration": 662,
    "start_time": "2021-12-27T12:22:44.630Z"
   },
   {
    "duration": 656,
    "start_time": "2021-12-27T12:22:44.637Z"
   },
   {
    "duration": 656,
    "start_time": "2021-12-27T12:22:44.639Z"
   },
   {
    "duration": 656,
    "start_time": "2021-12-27T12:22:44.641Z"
   },
   {
    "duration": 656,
    "start_time": "2021-12-27T12:22:44.642Z"
   },
   {
    "duration": 656,
    "start_time": "2021-12-27T12:22:44.644Z"
   },
   {
    "duration": 656,
    "start_time": "2021-12-27T12:22:44.646Z"
   },
   {
    "duration": 631,
    "start_time": "2021-12-27T12:22:44.672Z"
   },
   {
    "duration": 623,
    "start_time": "2021-12-27T12:22:44.682Z"
   },
   {
    "duration": 622,
    "start_time": "2021-12-27T12:22:44.684Z"
   },
   {
    "duration": 622,
    "start_time": "2021-12-27T12:22:44.686Z"
   },
   {
    "duration": 621,
    "start_time": "2021-12-27T12:22:44.688Z"
   },
   {
    "duration": 621,
    "start_time": "2021-12-27T12:22:44.690Z"
   },
   {
    "duration": 621,
    "start_time": "2021-12-27T12:22:44.691Z"
   },
   {
    "duration": 620,
    "start_time": "2021-12-27T12:22:44.694Z"
   },
   {
    "duration": 619,
    "start_time": "2021-12-27T12:22:44.696Z"
   },
   {
    "duration": 2266,
    "start_time": "2021-12-27T12:23:12.359Z"
   },
   {
    "duration": 4,
    "start_time": "2021-12-27T12:23:14.628Z"
   },
   {
    "duration": 58,
    "start_time": "2021-12-27T12:23:14.634Z"
   },
   {
    "duration": 15,
    "start_time": "2021-12-27T12:23:14.694Z"
   },
   {
    "duration": 14,
    "start_time": "2021-12-27T12:23:14.710Z"
   },
   {
    "duration": 20,
    "start_time": "2021-12-27T12:23:14.726Z"
   },
   {
    "duration": 26,
    "start_time": "2021-12-27T12:23:14.749Z"
   },
   {
    "duration": 19,
    "start_time": "2021-12-27T12:23:14.777Z"
   },
   {
    "duration": 20,
    "start_time": "2021-12-27T12:23:14.798Z"
   },
   {
    "duration": 8,
    "start_time": "2021-12-27T12:23:14.820Z"
   },
   {
    "duration": 46,
    "start_time": "2021-12-27T12:23:14.830Z"
   },
   {
    "duration": 6,
    "start_time": "2021-12-27T12:23:14.878Z"
   },
   {
    "duration": 28,
    "start_time": "2021-12-27T12:23:14.885Z"
   },
   {
    "duration": 21,
    "start_time": "2021-12-27T12:23:16.478Z"
   },
   {
    "duration": 3,
    "start_time": "2021-12-27T12:23:18.644Z"
   },
   {
    "duration": 2369,
    "start_time": "2021-12-27T12:24:18.442Z"
   },
   {
    "duration": 4,
    "start_time": "2021-12-27T12:24:20.813Z"
   },
   {
    "duration": 54,
    "start_time": "2021-12-27T12:24:20.820Z"
   },
   {
    "duration": 15,
    "start_time": "2021-12-27T12:24:20.876Z"
   },
   {
    "duration": 5,
    "start_time": "2021-12-27T12:24:20.893Z"
   },
   {
    "duration": 17,
    "start_time": "2021-12-27T12:24:20.899Z"
   },
   {
    "duration": 19,
    "start_time": "2021-12-27T12:24:20.918Z"
   },
   {
    "duration": 26,
    "start_time": "2021-12-27T12:24:20.940Z"
   },
   {
    "duration": 18,
    "start_time": "2021-12-27T12:24:20.968Z"
   },
   {
    "duration": 14,
    "start_time": "2021-12-27T12:24:20.988Z"
   },
   {
    "duration": 37,
    "start_time": "2021-12-27T12:24:21.003Z"
   },
   {
    "duration": 24,
    "start_time": "2021-12-27T12:24:21.042Z"
   },
   {
    "duration": 37,
    "start_time": "2021-12-27T12:24:21.068Z"
   },
   {
    "duration": 31,
    "start_time": "2021-12-27T12:24:21.107Z"
   },
   {
    "duration": 4,
    "start_time": "2021-12-27T12:24:21.140Z"
   },
   {
    "duration": 15,
    "start_time": "2021-12-27T12:24:21.146Z"
   },
   {
    "duration": 43,
    "start_time": "2021-12-27T12:24:21.163Z"
   },
   {
    "duration": 17,
    "start_time": "2021-12-27T12:24:21.208Z"
   },
   {
    "duration": 136,
    "start_time": "2021-12-27T12:24:21.226Z"
   },
   {
    "duration": 3,
    "start_time": "2021-12-27T12:24:21.364Z"
   },
   {
    "duration": 1226,
    "start_time": "2021-12-27T12:24:21.370Z"
   },
   {
    "duration": 2,
    "start_time": "2021-12-27T12:24:22.598Z"
   },
   {
    "duration": 61349,
    "start_time": "2021-12-27T12:24:22.603Z"
   },
   {
    "duration": 7,
    "start_time": "2021-12-27T12:25:23.954Z"
   },
   {
    "duration": 30,
    "start_time": "2021-12-27T12:25:23.963Z"
   },
   {
    "duration": 21,
    "start_time": "2021-12-27T12:25:23.995Z"
   },
   {
    "duration": 6,
    "start_time": "2021-12-27T12:25:24.018Z"
   },
   {
    "duration": 137,
    "start_time": "2021-12-27T12:25:24.025Z"
   },
   {
    "duration": 97,
    "start_time": "2021-12-27T12:25:24.164Z"
   },
   {
    "duration": 1515,
    "start_time": "2021-12-27T12:25:24.263Z"
   },
   {
    "duration": 2,
    "start_time": "2021-12-27T12:25:25.780Z"
   },
   {
    "duration": 83727,
    "start_time": "2021-12-27T12:25:25.784Z"
   },
   {
    "duration": 3,
    "start_time": "2021-12-27T12:26:49.512Z"
   },
   {
    "duration": 75,
    "start_time": "2021-12-27T12:26:49.517Z"
   },
   {
    "duration": 276,
    "start_time": "2021-12-27T12:26:49.594Z"
   },
   {
    "duration": 5,
    "start_time": "2021-12-27T12:26:49.873Z"
   },
   {
    "duration": 19,
    "start_time": "2021-12-27T12:26:49.880Z"
   },
   {
    "duration": 160,
    "start_time": "2021-12-27T12:26:49.901Z"
   },
   {
    "duration": 95,
    "start_time": "2021-12-27T12:26:50.065Z"
   },
   {
    "duration": 5,
    "start_time": "2021-12-27T12:26:50.163Z"
   },
   {
    "duration": 402,
    "start_time": "2021-12-27T12:26:50.170Z"
   },
   {
    "duration": 3,
    "start_time": "2021-12-27T12:26:50.574Z"
   },
   {
    "duration": 31969,
    "start_time": "2021-12-27T12:26:50.579Z"
   },
   {
    "duration": 3,
    "start_time": "2021-12-27T12:27:22.549Z"
   },
   {
    "duration": 32,
    "start_time": "2021-12-27T12:27:22.553Z"
   },
   {
    "duration": 84,
    "start_time": "2021-12-27T12:27:22.586Z"
   },
   {
    "duration": 261,
    "start_time": "2021-12-27T12:32:57.100Z"
   },
   {
    "duration": 5,
    "start_time": "2021-12-27T12:33:18.661Z"
   },
   {
    "duration": 10,
    "start_time": "2021-12-27T12:33:23.892Z"
   },
   {
    "duration": 22,
    "start_time": "2021-12-27T12:33:58.864Z"
   },
   {
    "duration": 9,
    "start_time": "2021-12-27T12:34:48.193Z"
   },
   {
    "duration": 159,
    "start_time": "2021-12-27T12:34:52.897Z"
   },
   {
    "duration": 10,
    "start_time": "2021-12-27T12:35:04.695Z"
   },
   {
    "duration": 5,
    "start_time": "2021-12-27T12:36:37.647Z"
   },
   {
    "duration": 10,
    "start_time": "2021-12-27T12:37:18.489Z"
   },
   {
    "duration": 161,
    "start_time": "2021-12-27T12:37:30.718Z"
   },
   {
    "duration": 2346,
    "start_time": "2021-12-27T12:40:47.681Z"
   },
   {
    "duration": 5,
    "start_time": "2021-12-27T12:40:50.029Z"
   },
   {
    "duration": 48,
    "start_time": "2021-12-27T12:40:50.036Z"
   },
   {
    "duration": 15,
    "start_time": "2021-12-27T12:40:50.086Z"
   },
   {
    "duration": 4,
    "start_time": "2021-12-27T12:40:50.103Z"
   },
   {
    "duration": 10,
    "start_time": "2021-12-27T12:40:50.108Z"
   },
   {
    "duration": 20,
    "start_time": "2021-12-27T12:40:50.120Z"
   },
   {
    "duration": 29,
    "start_time": "2021-12-27T12:40:50.143Z"
   },
   {
    "duration": 15,
    "start_time": "2021-12-27T12:40:50.174Z"
   },
   {
    "duration": 7,
    "start_time": "2021-12-27T12:40:50.191Z"
   },
   {
    "duration": 33,
    "start_time": "2021-12-27T12:40:50.200Z"
   },
   {
    "duration": 30,
    "start_time": "2021-12-27T12:40:50.234Z"
   },
   {
    "duration": 6,
    "start_time": "2021-12-27T12:40:50.266Z"
   },
   {
    "duration": 21,
    "start_time": "2021-12-27T12:40:50.274Z"
   },
   {
    "duration": 4,
    "start_time": "2021-12-27T12:40:50.297Z"
   },
   {
    "duration": 15,
    "start_time": "2021-12-27T12:40:50.303Z"
   },
   {
    "duration": 3,
    "start_time": "2021-12-27T12:40:50.320Z"
   },
   {
    "duration": 45,
    "start_time": "2021-12-27T12:40:50.325Z"
   },
   {
    "duration": 94,
    "start_time": "2021-12-27T12:40:50.372Z"
   },
   {
    "duration": 92,
    "start_time": "2021-12-27T12:40:50.469Z"
   },
   {
    "duration": 1197,
    "start_time": "2021-12-27T12:40:50.563Z"
   },
   {
    "duration": 3,
    "start_time": "2021-12-27T12:40:51.762Z"
   },
   {
    "duration": 57127,
    "start_time": "2021-12-27T12:40:51.768Z"
   },
   {
    "duration": 3,
    "start_time": "2021-12-27T12:41:48.897Z"
   },
   {
    "duration": 12,
    "start_time": "2021-12-27T12:41:48.902Z"
   },
   {
    "duration": 17,
    "start_time": "2021-12-27T12:41:48.916Z"
   },
   {
    "duration": 27,
    "start_time": "2021-12-27T12:41:48.935Z"
   },
   {
    "duration": 197,
    "start_time": "2021-12-27T12:41:48.964Z"
   },
   {
    "duration": 6,
    "start_time": "2021-12-27T12:41:49.163Z"
   },
   {
    "duration": 1494,
    "start_time": "2021-12-27T12:41:49.171Z"
   },
   {
    "duration": 2,
    "start_time": "2021-12-27T12:41:50.668Z"
   },
   {
    "duration": 80983,
    "start_time": "2021-12-27T12:41:50.672Z"
   },
   {
    "duration": 3,
    "start_time": "2021-12-27T12:43:11.661Z"
   },
   {
    "duration": 62,
    "start_time": "2021-12-27T12:43:11.666Z"
   },
   {
    "duration": 299,
    "start_time": "2021-12-27T12:43:11.730Z"
   },
   {
    "duration": 5,
    "start_time": "2021-12-27T12:43:12.031Z"
   },
   {
    "duration": 31,
    "start_time": "2021-12-27T12:43:12.038Z"
   },
   {
    "duration": 92,
    "start_time": "2021-12-27T12:43:12.071Z"
   },
   {
    "duration": 96,
    "start_time": "2021-12-27T12:43:12.165Z"
   },
   {
    "duration": 7,
    "start_time": "2021-12-27T12:43:12.263Z"
   },
   {
    "duration": 394,
    "start_time": "2021-12-27T12:43:12.272Z"
   },
   {
    "duration": 2,
    "start_time": "2021-12-27T12:43:12.669Z"
   },
   {
    "duration": 29839,
    "start_time": "2021-12-27T12:43:12.673Z"
   },
   {
    "duration": 2,
    "start_time": "2021-12-27T12:43:42.514Z"
   },
   {
    "duration": 17,
    "start_time": "2021-12-27T12:43:42.518Z"
   },
   {
    "duration": 67,
    "start_time": "2021-12-27T12:43:42.536Z"
   },
   {
    "duration": 8,
    "start_time": "2021-12-27T12:43:42.605Z"
   },
   {
    "duration": 172,
    "start_time": "2021-12-27T12:43:42.615Z"
   },
   {
    "duration": 3214,
    "start_time": "2021-12-27T12:56:21.982Z"
   },
   {
    "duration": 5,
    "start_time": "2021-12-27T12:56:25.199Z"
   },
   {
    "duration": 41,
    "start_time": "2021-12-27T12:56:25.206Z"
   },
   {
    "duration": 13,
    "start_time": "2021-12-27T12:56:25.249Z"
   },
   {
    "duration": 5,
    "start_time": "2021-12-27T12:56:25.264Z"
   },
   {
    "duration": 6,
    "start_time": "2021-12-27T12:56:25.270Z"
   },
   {
    "duration": 30,
    "start_time": "2021-12-27T12:56:25.278Z"
   },
   {
    "duration": 13,
    "start_time": "2021-12-27T12:56:25.311Z"
   },
   {
    "duration": 12,
    "start_time": "2021-12-27T12:56:25.325Z"
   },
   {
    "duration": 21,
    "start_time": "2021-12-27T12:56:25.339Z"
   },
   {
    "duration": 33,
    "start_time": "2021-12-27T12:56:25.362Z"
   },
   {
    "duration": 5,
    "start_time": "2021-12-27T12:56:25.397Z"
   },
   {
    "duration": 6,
    "start_time": "2021-12-27T12:56:25.403Z"
   },
   {
    "duration": 33,
    "start_time": "2021-12-27T12:56:25.411Z"
   },
   {
    "duration": 3,
    "start_time": "2021-12-27T12:56:25.461Z"
   },
   {
    "duration": 15,
    "start_time": "2021-12-27T12:56:25.466Z"
   },
   {
    "duration": 23,
    "start_time": "2021-12-27T12:56:25.483Z"
   },
   {
    "duration": 11,
    "start_time": "2021-12-27T12:56:25.507Z"
   },
   {
    "duration": 143,
    "start_time": "2021-12-27T12:56:25.519Z"
   },
   {
    "duration": 3,
    "start_time": "2021-12-27T12:56:25.665Z"
   },
   {
    "duration": 1206,
    "start_time": "2021-12-27T12:56:25.670Z"
   },
   {
    "duration": 3,
    "start_time": "2021-12-27T12:56:26.878Z"
   },
   {
    "duration": 56258,
    "start_time": "2021-12-27T12:56:26.886Z"
   },
   {
    "duration": 2,
    "start_time": "2021-12-27T12:57:23.147Z"
   },
   {
    "duration": 13,
    "start_time": "2021-12-27T12:57:23.151Z"
   },
   {
    "duration": 17,
    "start_time": "2021-12-27T12:57:23.166Z"
   },
   {
    "duration": 12,
    "start_time": "2021-12-27T12:57:23.185Z"
   },
   {
    "duration": 165,
    "start_time": "2021-12-27T12:57:23.199Z"
   },
   {
    "duration": 95,
    "start_time": "2021-12-27T12:57:23.367Z"
   },
   {
    "duration": 1528,
    "start_time": "2021-12-27T12:57:23.464Z"
   },
   {
    "duration": 4,
    "start_time": "2021-12-27T12:57:24.994Z"
   },
   {
    "duration": 79171,
    "start_time": "2021-12-27T12:57:25.000Z"
   },
   {
    "duration": 2,
    "start_time": "2021-12-27T12:58:44.173Z"
   },
   {
    "duration": 60,
    "start_time": "2021-12-27T12:58:44.177Z"
   },
   {
    "duration": 294,
    "start_time": "2021-12-27T12:58:44.239Z"
   },
   {
    "duration": 5,
    "start_time": "2021-12-27T12:58:44.535Z"
   },
   {
    "duration": 26,
    "start_time": "2021-12-27T12:58:44.542Z"
   },
   {
    "duration": 91,
    "start_time": "2021-12-27T12:58:44.570Z"
   },
   {
    "duration": 101,
    "start_time": "2021-12-27T12:58:44.663Z"
   },
   {
    "duration": 7,
    "start_time": "2021-12-27T12:58:44.766Z"
   },
   {
    "duration": 396,
    "start_time": "2021-12-27T12:58:44.775Z"
   },
   {
    "duration": 2,
    "start_time": "2021-12-27T12:58:45.173Z"
   },
   {
    "duration": 31753,
    "start_time": "2021-12-27T12:58:45.177Z"
   },
   {
    "duration": 3,
    "start_time": "2021-12-27T12:59:16.932Z"
   },
   {
    "duration": 12,
    "start_time": "2021-12-27T12:59:16.936Z"
   },
   {
    "duration": 67,
    "start_time": "2021-12-27T12:59:16.960Z"
   },
   {
    "duration": 10,
    "start_time": "2021-12-27T12:59:17.029Z"
   },
   {
    "duration": 185,
    "start_time": "2021-12-27T12:59:17.041Z"
   },
   {
    "duration": 2251,
    "start_time": "2021-12-27T13:03:07.282Z"
   },
   {
    "duration": 5,
    "start_time": "2021-12-27T13:03:09.535Z"
   },
   {
    "duration": 49,
    "start_time": "2021-12-27T13:03:09.542Z"
   },
   {
    "duration": 16,
    "start_time": "2021-12-27T13:03:09.593Z"
   },
   {
    "duration": 4,
    "start_time": "2021-12-27T13:03:09.611Z"
   },
   {
    "duration": 21,
    "start_time": "2021-12-27T13:03:09.616Z"
   },
   {
    "duration": 25,
    "start_time": "2021-12-27T13:03:09.639Z"
   },
   {
    "duration": 19,
    "start_time": "2021-12-27T13:03:09.666Z"
   },
   {
    "duration": 20,
    "start_time": "2021-12-27T13:03:09.687Z"
   },
   {
    "duration": 16,
    "start_time": "2021-12-27T13:03:09.709Z"
   },
   {
    "duration": 45,
    "start_time": "2021-12-27T13:03:09.727Z"
   },
   {
    "duration": 7,
    "start_time": "2021-12-27T13:03:09.774Z"
   },
   {
    "duration": 9,
    "start_time": "2021-12-27T13:03:09.783Z"
   },
   {
    "duration": 24,
    "start_time": "2021-12-27T13:03:09.795Z"
   },
   {
    "duration": 4,
    "start_time": "2021-12-27T13:03:09.821Z"
   },
   {
    "duration": 40,
    "start_time": "2021-12-27T13:03:09.827Z"
   },
   {
    "duration": 26,
    "start_time": "2021-12-27T13:03:09.869Z"
   },
   {
    "duration": 11,
    "start_time": "2021-12-27T13:03:09.897Z"
   },
   {
    "duration": 153,
    "start_time": "2021-12-27T13:03:09.909Z"
   },
   {
    "duration": 4,
    "start_time": "2021-12-27T13:03:10.064Z"
   },
   {
    "duration": 1264,
    "start_time": "2021-12-27T13:03:10.160Z"
   },
   {
    "duration": 3,
    "start_time": "2021-12-27T13:03:11.427Z"
   },
   {
    "duration": 58044,
    "start_time": "2021-12-27T13:03:11.434Z"
   },
   {
    "duration": 3,
    "start_time": "2021-12-27T13:04:09.480Z"
   },
   {
    "duration": 13,
    "start_time": "2021-12-27T13:04:09.484Z"
   },
   {
    "duration": 12,
    "start_time": "2021-12-27T13:04:09.499Z"
   },
   {
    "duration": 5,
    "start_time": "2021-12-27T13:04:09.513Z"
   },
   {
    "duration": 143,
    "start_time": "2021-12-27T13:04:09.520Z"
   },
   {
    "duration": 96,
    "start_time": "2021-12-27T13:04:09.665Z"
   },
   {
    "duration": 1600,
    "start_time": "2021-12-27T13:04:09.763Z"
   },
   {
    "duration": 2,
    "start_time": "2021-12-27T13:04:11.365Z"
   },
   {
    "duration": 82820,
    "start_time": "2021-12-27T13:04:11.369Z"
   },
   {
    "duration": 2,
    "start_time": "2021-12-27T13:05:34.191Z"
   },
   {
    "duration": 73,
    "start_time": "2021-12-27T13:05:34.195Z"
   },
   {
    "duration": 262,
    "start_time": "2021-12-27T13:05:34.270Z"
   },
   {
    "duration": 5,
    "start_time": "2021-12-27T13:05:34.534Z"
   },
   {
    "duration": 51,
    "start_time": "2021-12-27T13:05:34.541Z"
   },
   {
    "duration": 68,
    "start_time": "2021-12-27T13:05:34.594Z"
   },
   {
    "duration": 207,
    "start_time": "2021-12-27T13:05:34.664Z"
   },
   {
    "duration": 19,
    "start_time": "2021-12-27T13:05:34.878Z"
   },
   {
    "duration": 385,
    "start_time": "2021-12-27T13:05:34.899Z"
   },
   {
    "duration": 2,
    "start_time": "2021-12-27T13:05:35.286Z"
   },
   {
    "duration": 31988,
    "start_time": "2021-12-27T13:05:35.290Z"
   },
   {
    "duration": 2,
    "start_time": "2021-12-27T13:06:07.280Z"
   },
   {
    "duration": 8,
    "start_time": "2021-12-27T13:06:07.284Z"
   },
   {
    "duration": 72,
    "start_time": "2021-12-27T13:06:07.294Z"
   },
   {
    "duration": 11,
    "start_time": "2021-12-27T13:06:07.368Z"
   },
   {
    "duration": 182,
    "start_time": "2021-12-27T13:06:07.381Z"
   },
   {
    "duration": 2303,
    "start_time": "2021-12-27T13:07:48.425Z"
   },
   {
    "duration": 4,
    "start_time": "2021-12-27T13:07:50.731Z"
   },
   {
    "duration": 51,
    "start_time": "2021-12-27T13:07:50.738Z"
   },
   {
    "duration": 15,
    "start_time": "2021-12-27T13:07:50.791Z"
   },
   {
    "duration": 4,
    "start_time": "2021-12-27T13:07:50.808Z"
   },
   {
    "duration": 7,
    "start_time": "2021-12-27T13:07:50.814Z"
   },
   {
    "duration": 18,
    "start_time": "2021-12-27T13:07:50.822Z"
   },
   {
    "duration": 14,
    "start_time": "2021-12-27T13:07:50.862Z"
   },
   {
    "duration": 12,
    "start_time": "2021-12-27T13:07:50.878Z"
   },
   {
    "duration": 7,
    "start_time": "2021-12-27T13:07:50.892Z"
   },
   {
    "duration": 60,
    "start_time": "2021-12-27T13:07:50.901Z"
   },
   {
    "duration": 6,
    "start_time": "2021-12-27T13:07:50.963Z"
   },
   {
    "duration": 8,
    "start_time": "2021-12-27T13:07:50.970Z"
   },
   {
    "duration": 23,
    "start_time": "2021-12-27T13:07:50.980Z"
   },
   {
    "duration": 3,
    "start_time": "2021-12-27T13:07:51.005Z"
   },
   {
    "duration": 25,
    "start_time": "2021-12-27T13:07:51.010Z"
   },
   {
    "duration": 46,
    "start_time": "2021-12-27T13:07:51.037Z"
   },
   {
    "duration": 11,
    "start_time": "2021-12-27T13:07:51.085Z"
   },
   {
    "duration": 164,
    "start_time": "2021-12-27T13:07:51.097Z"
   },
   {
    "duration": 6,
    "start_time": "2021-12-27T13:07:51.264Z"
   },
   {
    "duration": 1259,
    "start_time": "2021-12-27T13:07:51.272Z"
   },
   {
    "duration": 2,
    "start_time": "2021-12-27T13:07:52.533Z"
   },
   {
    "duration": 57174,
    "start_time": "2021-12-27T13:07:52.539Z"
   },
   {
    "duration": 3,
    "start_time": "2021-12-27T13:08:49.715Z"
   },
   {
    "duration": 17,
    "start_time": "2021-12-27T13:08:49.720Z"
   },
   {
    "duration": 22,
    "start_time": "2021-12-27T13:08:49.738Z"
   },
   {
    "duration": 7,
    "start_time": "2021-12-27T13:08:49.762Z"
   },
   {
    "duration": 191,
    "start_time": "2021-12-27T13:08:49.770Z"
   },
   {
    "duration": 6,
    "start_time": "2021-12-27T13:08:49.963Z"
   },
   {
    "duration": 1522,
    "start_time": "2021-12-27T13:08:49.970Z"
   },
   {
    "duration": 3,
    "start_time": "2021-12-27T13:08:51.493Z"
   },
   {
    "duration": 82791,
    "start_time": "2021-12-27T13:08:51.497Z"
   },
   {
    "duration": 2,
    "start_time": "2021-12-27T13:10:14.290Z"
   },
   {
    "duration": 72,
    "start_time": "2021-12-27T13:10:14.294Z"
   },
   {
    "duration": 584,
    "start_time": "2021-12-27T13:10:14.368Z"
   },
   {
    "duration": 10,
    "start_time": "2021-12-27T13:10:14.953Z"
   },
   {
    "duration": 19,
    "start_time": "2021-12-27T13:10:14.964Z"
   },
   {
    "duration": 87,
    "start_time": "2021-12-27T13:10:14.985Z"
   },
   {
    "duration": 90,
    "start_time": "2021-12-27T13:10:15.074Z"
   },
   {
    "duration": 8,
    "start_time": "2021-12-27T13:10:15.166Z"
   },
   {
    "duration": 444,
    "start_time": "2021-12-27T13:10:15.175Z"
   },
   {
    "duration": 2,
    "start_time": "2021-12-27T13:10:15.621Z"
   },
   {
    "duration": 31894,
    "start_time": "2021-12-27T13:10:15.625Z"
   },
   {
    "duration": 2,
    "start_time": "2021-12-27T13:10:47.521Z"
   },
   {
    "duration": 9,
    "start_time": "2021-12-27T13:10:47.525Z"
   },
   {
    "duration": 85,
    "start_time": "2021-12-27T13:10:47.535Z"
   },
   {
    "duration": 9,
    "start_time": "2021-12-27T13:10:47.622Z"
   },
   {
    "duration": 190,
    "start_time": "2021-12-27T13:10:47.633Z"
   },
   {
    "duration": 19,
    "start_time": "2021-12-27T13:16:02.680Z"
   },
   {
    "duration": 41,
    "start_time": "2021-12-27T13:16:05.400Z"
   },
   {
    "duration": 31,
    "start_time": "2021-12-27T13:16:07.385Z"
   },
   {
    "duration": 110,
    "start_time": "2021-12-27T13:20:50.421Z"
   },
   {
    "duration": 310,
    "start_time": "2021-12-27T13:20:52.323Z"
   },
   {
    "duration": 74,
    "start_time": "2021-12-27T13:27:43.232Z"
   },
   {
    "duration": 116,
    "start_time": "2021-12-27T13:27:58.041Z"
   },
   {
    "duration": 62,
    "start_time": "2021-12-27T13:28:01.189Z"
   },
   {
    "duration": 10,
    "start_time": "2021-12-27T13:28:25.384Z"
   },
   {
    "duration": 184,
    "start_time": "2021-12-27T13:28:26.006Z"
   },
   {
    "duration": 3456,
    "start_time": "2021-12-27T13:28:47.079Z"
   },
   {
    "duration": 5,
    "start_time": "2021-12-27T13:28:50.537Z"
   },
   {
    "duration": 56,
    "start_time": "2021-12-27T13:28:50.545Z"
   },
   {
    "duration": 15,
    "start_time": "2021-12-27T13:28:50.604Z"
   },
   {
    "duration": 20,
    "start_time": "2021-12-27T13:28:50.621Z"
   },
   {
    "duration": 30,
    "start_time": "2021-12-27T13:28:50.642Z"
   },
   {
    "duration": 24,
    "start_time": "2021-12-27T13:28:50.675Z"
   },
   {
    "duration": 17,
    "start_time": "2021-12-27T13:28:50.700Z"
   },
   {
    "duration": 20,
    "start_time": "2021-12-27T13:28:50.721Z"
   },
   {
    "duration": 12,
    "start_time": "2021-12-27T13:28:50.744Z"
   },
   {
    "duration": 47,
    "start_time": "2021-12-27T13:28:50.757Z"
   },
   {
    "duration": 6,
    "start_time": "2021-12-27T13:28:50.805Z"
   },
   {
    "duration": 20,
    "start_time": "2021-12-27T13:28:50.813Z"
   },
   {
    "duration": 36,
    "start_time": "2021-12-27T13:28:50.835Z"
   },
   {
    "duration": 7,
    "start_time": "2021-12-27T13:28:50.873Z"
   },
   {
    "duration": 25,
    "start_time": "2021-12-27T13:28:50.881Z"
   },
   {
    "duration": 25,
    "start_time": "2021-12-27T13:28:50.908Z"
   },
   {
    "duration": 11,
    "start_time": "2021-12-27T13:28:50.935Z"
   },
   {
    "duration": 118,
    "start_time": "2021-12-27T13:28:50.960Z"
   },
   {
    "duration": 80,
    "start_time": "2021-12-27T13:28:51.081Z"
   },
   {
    "duration": 1296,
    "start_time": "2021-12-27T13:28:51.164Z"
   },
   {
    "duration": 3,
    "start_time": "2021-12-27T13:28:52.463Z"
   },
   {
    "duration": 62111,
    "start_time": "2021-12-27T13:28:52.469Z"
   },
   {
    "duration": 2,
    "start_time": "2021-12-27T13:29:54.582Z"
   },
   {
    "duration": 18,
    "start_time": "2021-12-27T13:29:54.586Z"
   },
   {
    "duration": 44,
    "start_time": "2021-12-27T13:29:54.605Z"
   },
   {
    "duration": 25,
    "start_time": "2021-12-27T13:29:54.653Z"
   },
   {
    "duration": 90,
    "start_time": "2021-12-27T13:29:54.680Z"
   },
   {
    "duration": 88,
    "start_time": "2021-12-27T13:29:54.773Z"
   },
   {
    "duration": 1606,
    "start_time": "2021-12-27T13:29:54.864Z"
   },
   {
    "duration": 4,
    "start_time": "2021-12-27T13:29:56.473Z"
   },
   {
    "duration": 85516,
    "start_time": "2021-12-27T13:29:56.479Z"
   },
   {
    "duration": 3,
    "start_time": "2021-12-27T13:31:21.997Z"
   },
   {
    "duration": 125,
    "start_time": "2021-12-27T13:31:22.001Z"
   },
   {
    "duration": 298,
    "start_time": "2021-12-27T13:31:22.128Z"
   },
   {
    "duration": 5,
    "start_time": "2021-12-27T13:31:22.429Z"
   },
   {
    "duration": 28,
    "start_time": "2021-12-27T13:31:22.436Z"
   },
   {
    "duration": 97,
    "start_time": "2021-12-27T13:31:22.467Z"
   },
   {
    "duration": 6,
    "start_time": "2021-12-27T13:31:22.567Z"
   },
   {
    "duration": 105,
    "start_time": "2021-12-27T13:31:22.575Z"
   },
   {
    "duration": 405,
    "start_time": "2021-12-27T13:31:22.681Z"
   },
   {
    "duration": 2,
    "start_time": "2021-12-27T13:31:23.089Z"
   },
   {
    "duration": 33271,
    "start_time": "2021-12-27T13:31:23.093Z"
   },
   {
    "duration": 4,
    "start_time": "2021-12-27T13:31:56.366Z"
   },
   {
    "duration": 8,
    "start_time": "2021-12-27T13:31:56.371Z"
   },
   {
    "duration": 91,
    "start_time": "2021-12-27T13:31:56.381Z"
   },
   {
    "duration": 12,
    "start_time": "2021-12-27T13:31:56.474Z"
   },
   {
    "duration": 194,
    "start_time": "2021-12-27T13:31:56.488Z"
   },
   {
    "duration": 1449,
    "start_time": "2021-12-27T14:13:01.483Z"
   },
   {
    "duration": 1026,
    "start_time": "2021-12-27T14:13:01.908Z"
   },
   {
    "duration": 86134,
    "start_time": "2021-12-27T14:13:09.476Z"
   },
   {
    "duration": 250,
    "start_time": "2021-12-27T14:14:35.612Z"
   },
   {
    "duration": 3,
    "start_time": "2021-12-27T14:15:09.870Z"
   },
   {
    "duration": 39,
    "start_time": "2021-12-27T14:15:11.059Z"
   },
   {
    "duration": 13,
    "start_time": "2021-12-27T14:15:16.542Z"
   },
   {
    "duration": 4,
    "start_time": "2021-12-27T14:15:17.232Z"
   },
   {
    "duration": 4,
    "start_time": "2021-12-27T14:15:17.951Z"
   },
   {
    "duration": 13,
    "start_time": "2021-12-27T14:15:19.851Z"
   },
   {
    "duration": 13,
    "start_time": "2021-12-27T14:15:21.348Z"
   },
   {
    "duration": 13,
    "start_time": "2021-12-27T14:15:22.250Z"
   },
   {
    "duration": 8,
    "start_time": "2021-12-27T14:15:55.954Z"
   },
   {
    "duration": 32,
    "start_time": "2021-12-27T14:15:56.439Z"
   },
   {
    "duration": 6,
    "start_time": "2021-12-27T14:15:57.214Z"
   },
   {
    "duration": 6,
    "start_time": "2021-12-27T14:15:59.700Z"
   },
   {
    "duration": 19,
    "start_time": "2021-12-27T14:16:31.141Z"
   },
   {
    "duration": 4,
    "start_time": "2021-12-27T14:16:31.757Z"
   },
   {
    "duration": 11,
    "start_time": "2021-12-27T14:16:50.960Z"
   },
   {
    "duration": 22,
    "start_time": "2021-12-27T14:17:34.210Z"
   },
   {
    "duration": 11,
    "start_time": "2021-12-27T14:17:35.921Z"
   },
   {
    "duration": 118,
    "start_time": "2021-12-27T14:18:11.323Z"
   },
   {
    "duration": 4,
    "start_time": "2021-12-27T14:18:11.892Z"
   },
   {
    "duration": 993,
    "start_time": "2021-12-27T14:18:12.926Z"
   },
   {
    "duration": 2,
    "start_time": "2021-12-27T14:18:13.921Z"
   },
   {
    "duration": 52700,
    "start_time": "2021-12-27T14:18:14.965Z"
   },
   {
    "duration": 3,
    "start_time": "2021-12-27T14:19:07.667Z"
   },
   {
    "duration": 14,
    "start_time": "2021-12-27T14:19:07.672Z"
   },
   {
    "duration": 14,
    "start_time": "2021-12-27T14:19:07.688Z"
   },
   {
    "duration": 5,
    "start_time": "2021-12-27T14:19:07.704Z"
   },
   {
    "duration": 137,
    "start_time": "2021-12-27T14:19:07.710Z"
   },
   {
    "duration": 93,
    "start_time": "2021-12-27T14:19:07.849Z"
   },
   {
    "duration": 1363,
    "start_time": "2021-12-27T14:19:07.944Z"
   },
   {
    "duration": 3,
    "start_time": "2021-12-27T14:19:09.309Z"
   },
   {
    "duration": 73144,
    "start_time": "2021-12-27T14:19:09.313Z"
   },
   {
    "duration": 3,
    "start_time": "2021-12-27T14:20:22.459Z"
   },
   {
    "duration": 110,
    "start_time": "2021-12-27T14:20:22.463Z"
   },
   {
    "duration": 241,
    "start_time": "2021-12-27T14:20:22.575Z"
   },
   {
    "duration": 3,
    "start_time": "2021-12-27T14:20:22.818Z"
   },
   {
    "duration": 28,
    "start_time": "2021-12-27T14:20:22.823Z"
   },
   {
    "duration": 88,
    "start_time": "2021-12-27T14:20:22.853Z"
   },
   {
    "duration": 6,
    "start_time": "2021-12-27T14:20:22.943Z"
   },
   {
    "duration": 100,
    "start_time": "2021-12-27T14:20:22.951Z"
   },
   {
    "duration": 432,
    "start_time": "2021-12-27T14:20:23.053Z"
   },
   {
    "duration": 2,
    "start_time": "2021-12-27T14:20:23.487Z"
   },
   {
    "duration": 27901,
    "start_time": "2021-12-27T14:20:23.490Z"
   },
   {
    "duration": 3,
    "start_time": "2021-12-27T14:20:51.393Z"
   },
   {
    "duration": 911,
    "start_time": "2021-12-27T14:20:51.399Z"
   },
   {
    "duration": 54,
    "start_time": "2021-12-27T14:24:17.202Z"
   },
   {
    "duration": 8,
    "start_time": "2021-12-27T14:24:17.891Z"
   },
   {
    "duration": 204,
    "start_time": "2021-12-27T14:24:18.398Z"
   }
  ],
  "kernelspec": {
   "display_name": "Python 3 (ipykernel)",
   "language": "python",
   "name": "python3"
  },
  "language_info": {
   "codemirror_mode": {
    "name": "ipython",
    "version": 3
   },
   "file_extension": ".py",
   "mimetype": "text/x-python",
   "name": "python",
   "nbconvert_exporter": "python",
   "pygments_lexer": "ipython3",
   "version": "3.9.7"
  },
  "toc": {
   "base_numbering": 1,
   "nav_menu": {},
   "number_sections": true,
   "sideBar": true,
   "skip_h1_title": true,
   "title_cell": "Содержание",
   "title_sidebar": "Contents",
   "toc_cell": true,
   "toc_position": {
    "height": "calc(100% - 180px)",
    "left": "10px",
    "top": "150px",
    "width": "323.903px"
   },
   "toc_section_display": true,
   "toc_window_display": true
  }
 },
 "nbformat": 4,
 "nbformat_minor": 2
}